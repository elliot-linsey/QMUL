{
 "cells": [
  {
   "cell_type": "markdown",
   "id": "3ad7ac14",
   "metadata": {},
   "source": [
    "# An Analysis of London Underground Exit Data"
   ]
  },
  {
   "cell_type": "code",
   "execution_count": 1,
   "id": "2ed45315",
   "metadata": {
    "jupyter": {
     "source_hidden": true
    }
   },
   "outputs": [],
   "source": [
    "import pandas as pd\n",
    "import numpy as np\n",
    "from matplotlib import pyplot as plt"
   ]
  },
  {
   "cell_type": "markdown",
   "id": "04aafbfd",
   "metadata": {},
   "source": [
    "Below is the initial dataframe that we will work with. It displays the stations as rows with the number of exits within the hour as columns. I have added a column on the end which has summed all of the rows to provide a total per station within this specific day. "
   ]
  },
  {
   "cell_type": "code",
   "execution_count": 31,
   "id": "70bcd0b6",
   "metadata": {
    "jupyter": {
     "source_hidden": true
    },
    "scrolled": true
   },
   "outputs": [
    {
     "data": {
      "text/html": [
       "<div>\n",
       "<style scoped>\n",
       "    .dataframe tbody tr th:only-of-type {\n",
       "        vertical-align: middle;\n",
       "    }\n",
       "\n",
       "    .dataframe tbody tr th {\n",
       "        vertical-align: top;\n",
       "    }\n",
       "\n",
       "    .dataframe thead th {\n",
       "        text-align: right;\n",
       "    }\n",
       "</style>\n",
       "<table border=\"1\" class=\"dataframe\">\n",
       "  <thead>\n",
       "    <tr style=\"text-align: right;\">\n",
       "      <th></th>\n",
       "      <th>H05</th>\n",
       "      <th>H06</th>\n",
       "      <th>H07</th>\n",
       "      <th>H08</th>\n",
       "      <th>H09</th>\n",
       "      <th>H10</th>\n",
       "      <th>H11</th>\n",
       "      <th>H12</th>\n",
       "      <th>H13</th>\n",
       "      <th>H14</th>\n",
       "      <th>...</th>\n",
       "      <th>H17</th>\n",
       "      <th>H18</th>\n",
       "      <th>H19</th>\n",
       "      <th>H20</th>\n",
       "      <th>H21</th>\n",
       "      <th>H22</th>\n",
       "      <th>H23</th>\n",
       "      <th>H00</th>\n",
       "      <th>H01</th>\n",
       "      <th>total</th>\n",
       "    </tr>\n",
       "    <tr>\n",
       "      <th>Station</th>\n",
       "      <th></th>\n",
       "      <th></th>\n",
       "      <th></th>\n",
       "      <th></th>\n",
       "      <th></th>\n",
       "      <th></th>\n",
       "      <th></th>\n",
       "      <th></th>\n",
       "      <th></th>\n",
       "      <th></th>\n",
       "      <th></th>\n",
       "      <th></th>\n",
       "      <th></th>\n",
       "      <th></th>\n",
       "      <th></th>\n",
       "      <th></th>\n",
       "      <th></th>\n",
       "      <th></th>\n",
       "      <th></th>\n",
       "      <th></th>\n",
       "      <th></th>\n",
       "    </tr>\n",
       "  </thead>\n",
       "  <tbody>\n",
       "    <tr>\n",
       "      <th>Acton Town</th>\n",
       "      <td>30</td>\n",
       "      <td>208</td>\n",
       "      <td>710</td>\n",
       "      <td>812</td>\n",
       "      <td>448</td>\n",
       "      <td>231</td>\n",
       "      <td>221</td>\n",
       "      <td>259</td>\n",
       "      <td>301</td>\n",
       "      <td>327</td>\n",
       "      <td>...</td>\n",
       "      <td>917</td>\n",
       "      <td>1077</td>\n",
       "      <td>793</td>\n",
       "      <td>505</td>\n",
       "      <td>424</td>\n",
       "      <td>424</td>\n",
       "      <td>366</td>\n",
       "      <td>210</td>\n",
       "      <td>54</td>\n",
       "      <td>9362</td>\n",
       "    </tr>\n",
       "    <tr>\n",
       "      <th>Aldgate</th>\n",
       "      <td>36</td>\n",
       "      <td>301</td>\n",
       "      <td>1319</td>\n",
       "      <td>3076</td>\n",
       "      <td>3013</td>\n",
       "      <td>1037</td>\n",
       "      <td>587</td>\n",
       "      <td>554</td>\n",
       "      <td>559</td>\n",
       "      <td>514</td>\n",
       "      <td>...</td>\n",
       "      <td>1116</td>\n",
       "      <td>1155</td>\n",
       "      <td>566</td>\n",
       "      <td>331</td>\n",
       "      <td>260</td>\n",
       "      <td>237</td>\n",
       "      <td>171</td>\n",
       "      <td>58</td>\n",
       "      <td>0</td>\n",
       "      <td>16136</td>\n",
       "    </tr>\n",
       "    <tr>\n",
       "      <th>Aldgate East</th>\n",
       "      <td>50</td>\n",
       "      <td>324</td>\n",
       "      <td>1192</td>\n",
       "      <td>3045</td>\n",
       "      <td>3381</td>\n",
       "      <td>1340</td>\n",
       "      <td>897</td>\n",
       "      <td>920</td>\n",
       "      <td>919</td>\n",
       "      <td>866</td>\n",
       "      <td>...</td>\n",
       "      <td>1263</td>\n",
       "      <td>1605</td>\n",
       "      <td>1127</td>\n",
       "      <td>708</td>\n",
       "      <td>560</td>\n",
       "      <td>532</td>\n",
       "      <td>457</td>\n",
       "      <td>239</td>\n",
       "      <td>26</td>\n",
       "      <td>21206</td>\n",
       "    </tr>\n",
       "    <tr>\n",
       "      <th>Alperton</th>\n",
       "      <td>16</td>\n",
       "      <td>101</td>\n",
       "      <td>230</td>\n",
       "      <td>372</td>\n",
       "      <td>254</td>\n",
       "      <td>149</td>\n",
       "      <td>137</td>\n",
       "      <td>152</td>\n",
       "      <td>176</td>\n",
       "      <td>205</td>\n",
       "      <td>...</td>\n",
       "      <td>679</td>\n",
       "      <td>724</td>\n",
       "      <td>424</td>\n",
       "      <td>222</td>\n",
       "      <td>161</td>\n",
       "      <td>143</td>\n",
       "      <td>146</td>\n",
       "      <td>72</td>\n",
       "      <td>6</td>\n",
       "      <td>5118</td>\n",
       "    </tr>\n",
       "    <tr>\n",
       "      <th>Amersham</th>\n",
       "      <td>3</td>\n",
       "      <td>18</td>\n",
       "      <td>82</td>\n",
       "      <td>246</td>\n",
       "      <td>96</td>\n",
       "      <td>56</td>\n",
       "      <td>48</td>\n",
       "      <td>62</td>\n",
       "      <td>75</td>\n",
       "      <td>94</td>\n",
       "      <td>...</td>\n",
       "      <td>409</td>\n",
       "      <td>692</td>\n",
       "      <td>540</td>\n",
       "      <td>287</td>\n",
       "      <td>182</td>\n",
       "      <td>154</td>\n",
       "      <td>175</td>\n",
       "      <td>99</td>\n",
       "      <td>6</td>\n",
       "      <td>3905</td>\n",
       "    </tr>\n",
       "  </tbody>\n",
       "</table>\n",
       "<p>5 rows × 22 columns</p>\n",
       "</div>"
      ],
      "text/plain": [
       "              H05  H06   H07   H08   H09   H10  H11  H12  H13  H14  ...   H17  \\\n",
       "Station                                                             ...         \n",
       "Acton Town     30  208   710   812   448   231  221  259  301  327  ...   917   \n",
       "Aldgate        36  301  1319  3076  3013  1037  587  554  559  514  ...  1116   \n",
       "Aldgate East   50  324  1192  3045  3381  1340  897  920  919  866  ...  1263   \n",
       "Alperton       16  101   230   372   254   149  137  152  176  205  ...   679   \n",
       "Amersham        3   18    82   246    96    56   48   62   75   94  ...   409   \n",
       "\n",
       "               H18   H19  H20  H21  H22  H23  H00  H01  total  \n",
       "Station                                                        \n",
       "Acton Town    1077   793  505  424  424  366  210   54   9362  \n",
       "Aldgate       1155   566  331  260  237  171   58    0  16136  \n",
       "Aldgate East  1605  1127  708  560  532  457  239   26  21206  \n",
       "Alperton       724   424  222  161  143  146   72    6   5118  \n",
       "Amersham       692   540  287  182  154  175   99    6   3905  \n",
       "\n",
       "[5 rows x 22 columns]"
      ]
     },
     "execution_count": 31,
     "metadata": {},
     "output_type": "execute_result"
    }
   ],
   "source": [
    "exits = pd.read_csv('hourlyExits.csv')\n",
    "exits = exits.set_index('Station')\n",
    "exits['total'] = exits.sum(axis=1)\n",
    "exits.head()"
   ]
  },
  {
   "cell_type": "markdown",
   "id": "f4b62ada",
   "metadata": {},
   "source": [
    "Below I have simplified and summed the AM hours of 'H07', 'H08' and 'H09' as well as the PM hours of 'H16', 'H17' and 'H18'. I have then calculated each stations relative proportions to their total number of exits in the day. For example, Aldgate's traffic within the AM hours account for 45.9% of it's daily traffic, with 18.5% of it's traffic occurring in the PM hours. Using proportions makes it very clear to see which stations have a higher amount of traffic in the morning compared to the evening and may help us identify which stations are primarily used for work and which are either residential or potentially tourist or other."
   ]
  },
  {
   "cell_type": "code",
   "execution_count": 30,
   "id": "4926b35b",
   "metadata": {
    "jupyter": {
     "source_hidden": true
    }
   },
   "outputs": [
    {
     "data": {
      "text/html": [
       "<div>\n",
       "<style scoped>\n",
       "    .dataframe tbody tr th:only-of-type {\n",
       "        vertical-align: middle;\n",
       "    }\n",
       "\n",
       "    .dataframe tbody tr th {\n",
       "        vertical-align: top;\n",
       "    }\n",
       "\n",
       "    .dataframe thead th {\n",
       "        text-align: right;\n",
       "    }\n",
       "</style>\n",
       "<table border=\"1\" class=\"dataframe\">\n",
       "  <thead>\n",
       "    <tr style=\"text-align: right;\">\n",
       "      <th></th>\n",
       "      <th>AM_peak</th>\n",
       "      <th>PM_peak</th>\n",
       "      <th>AM_prop</th>\n",
       "      <th>PM_prop</th>\n",
       "      <th>total</th>\n",
       "    </tr>\n",
       "    <tr>\n",
       "      <th>Station</th>\n",
       "      <th></th>\n",
       "      <th></th>\n",
       "      <th></th>\n",
       "      <th></th>\n",
       "      <th></th>\n",
       "    </tr>\n",
       "  </thead>\n",
       "  <tbody>\n",
       "    <tr>\n",
       "      <th>Acton Town</th>\n",
       "      <td>1970</td>\n",
       "      <td>2628</td>\n",
       "      <td>0.210425</td>\n",
       "      <td>0.280709</td>\n",
       "      <td>9362</td>\n",
       "    </tr>\n",
       "    <tr>\n",
       "      <th>Aldgate</th>\n",
       "      <td>7408</td>\n",
       "      <td>2992</td>\n",
       "      <td>0.459098</td>\n",
       "      <td>0.185424</td>\n",
       "      <td>16136</td>\n",
       "    </tr>\n",
       "    <tr>\n",
       "      <th>Aldgate East</th>\n",
       "      <td>7618</td>\n",
       "      <td>3803</td>\n",
       "      <td>0.359238</td>\n",
       "      <td>0.179336</td>\n",
       "      <td>21206</td>\n",
       "    </tr>\n",
       "    <tr>\n",
       "      <th>Alperton</th>\n",
       "      <td>856</td>\n",
       "      <td>1847</td>\n",
       "      <td>0.167253</td>\n",
       "      <td>0.360883</td>\n",
       "      <td>5118</td>\n",
       "    </tr>\n",
       "    <tr>\n",
       "      <th>Amersham</th>\n",
       "      <td>424</td>\n",
       "      <td>1465</td>\n",
       "      <td>0.108579</td>\n",
       "      <td>0.375160</td>\n",
       "      <td>3905</td>\n",
       "    </tr>\n",
       "  </tbody>\n",
       "</table>\n",
       "</div>"
      ],
      "text/plain": [
       "              AM_peak  PM_peak   AM_prop   PM_prop  total\n",
       "Station                                                  \n",
       "Acton Town       1970     2628  0.210425  0.280709   9362\n",
       "Aldgate          7408     2992  0.459098  0.185424  16136\n",
       "Aldgate East     7618     3803  0.359238  0.179336  21206\n",
       "Alperton          856     1847  0.167253  0.360883   5118\n",
       "Amersham          424     1465  0.108579  0.375160   3905"
      ]
     },
     "execution_count": 30,
     "metadata": {},
     "output_type": "execute_result"
    }
   ],
   "source": [
    "peak_counts = exits.copy()\n",
    "peak_counts = peak_counts[['H07', 'H08', 'H09', 'H16', 'H17', 'H18']]\n",
    "peak_counts['AM_peak'] = sum([peak_counts.H07,peak_counts.H08,peak_counts.H09])\n",
    "peak_counts['PM_peak'] = sum([peak_counts.H16,peak_counts.H17,peak_counts.H18])\n",
    "peak_counts = peak_counts.drop(columns=['H07', 'H08', 'H09', 'H16', 'H17', 'H18'])\n",
    "peak_counts['total'] = exits.total\n",
    "peak_counts['AM_prop'] = peak_counts.AM_peak/peak_counts.total\n",
    "peak_counts['PM_prop'] = peak_counts.PM_peak/peak_counts.total\n",
    "peak_counts = peak_counts[['AM_peak', 'PM_peak', 'AM_prop', 'PM_prop', 'total']]\n",
    "\n",
    "\n",
    "peak_counts.head()"
   ]
  },
  {
   "cell_type": "markdown",
   "id": "f49e1ee8",
   "metadata": {},
   "source": [
    "Below I have a table describing all the summary statistics of the above data. Within the AM_prop column we can see that the mean is higher than the median by around 0.04, this could suggest that the AM is positively skewed, while the PM_prop mean and median are very near to one another, suggesting that the PM could be normally distributed. The standard deviations of both PM and AM proportions are different too, with the AM being higher so suggesting that the values are more spread out from the mean, while the PM standard deviation is lower implying that the values are clustered closer to the mean. \\\n",
    "The AM minimum value is 0.04 which is lower than the PM minimum value of 0.08. The AM maximum value of 0.63 is also quite a lot higher than both the PM maximum value of 0.49 as well as the AM's own 75th percentile value of 0.26. This could imply that the AM hours have a number of outliers in comparison to the PM hours where the data appears to be more stable as there is not such a large jump between the maximum value (0.49) and the 75th percentile (0.36). "
   ]
  },
  {
   "cell_type": "code",
   "execution_count": 4,
   "id": "196c46de",
   "metadata": {
    "jupyter": {
     "source_hidden": true
    }
   },
   "outputs": [
    {
     "data": {
      "text/html": [
       "<div>\n",
       "<style scoped>\n",
       "    .dataframe tbody tr th:only-of-type {\n",
       "        vertical-align: middle;\n",
       "    }\n",
       "\n",
       "    .dataframe tbody tr th {\n",
       "        vertical-align: top;\n",
       "    }\n",
       "\n",
       "    .dataframe thead th {\n",
       "        text-align: right;\n",
       "    }\n",
       "</style>\n",
       "<table border=\"1\" class=\"dataframe\">\n",
       "  <thead>\n",
       "    <tr style=\"text-align: right;\">\n",
       "      <th></th>\n",
       "      <th>AM_peak</th>\n",
       "      <th>PM_peak</th>\n",
       "      <th>AM_prop</th>\n",
       "      <th>PM_prop</th>\n",
       "      <th>total</th>\n",
       "    </tr>\n",
       "  </thead>\n",
       "  <tbody>\n",
       "    <tr>\n",
       "      <th>count</th>\n",
       "      <td>268.000000</td>\n",
       "      <td>268.000000</td>\n",
       "      <td>268.000000</td>\n",
       "      <td>268.000000</td>\n",
       "      <td>268.000000</td>\n",
       "    </tr>\n",
       "    <tr>\n",
       "      <th>mean</th>\n",
       "      <td>4549.768657</td>\n",
       "      <td>4477.555970</td>\n",
       "      <td>0.207132</td>\n",
       "      <td>0.298750</td>\n",
       "      <td>17194.477612</td>\n",
       "    </tr>\n",
       "    <tr>\n",
       "      <th>std</th>\n",
       "      <td>8181.784059</td>\n",
       "      <td>6276.463316</td>\n",
       "      <td>0.122161</td>\n",
       "      <td>0.087724</td>\n",
       "      <td>23480.190142</td>\n",
       "    </tr>\n",
       "    <tr>\n",
       "      <th>min</th>\n",
       "      <td>27.000000</td>\n",
       "      <td>239.000000</td>\n",
       "      <td>0.045302</td>\n",
       "      <td>0.084630</td>\n",
       "      <td>596.000000</td>\n",
       "    </tr>\n",
       "    <tr>\n",
       "      <th>25%</th>\n",
       "      <td>677.500000</td>\n",
       "      <td>1471.750000</td>\n",
       "      <td>0.116120</td>\n",
       "      <td>0.240947</td>\n",
       "      <td>4889.500000</td>\n",
       "    </tr>\n",
       "    <tr>\n",
       "      <th>50%</th>\n",
       "      <td>1517.000000</td>\n",
       "      <td>2622.000000</td>\n",
       "      <td>0.169378</td>\n",
       "      <td>0.307397</td>\n",
       "      <td>9210.000000</td>\n",
       "    </tr>\n",
       "    <tr>\n",
       "      <th>75%</th>\n",
       "      <td>4315.250000</td>\n",
       "      <td>4707.750000</td>\n",
       "      <td>0.266443</td>\n",
       "      <td>0.361596</td>\n",
       "      <td>19999.500000</td>\n",
       "    </tr>\n",
       "    <tr>\n",
       "      <th>max</th>\n",
       "      <td>61116.000000</td>\n",
       "      <td>59486.000000</td>\n",
       "      <td>0.630427</td>\n",
       "      <td>0.496079</td>\n",
       "      <td>149258.000000</td>\n",
       "    </tr>\n",
       "  </tbody>\n",
       "</table>\n",
       "</div>"
      ],
      "text/plain": [
       "            AM_peak       PM_peak     AM_prop     PM_prop          total\n",
       "count    268.000000    268.000000  268.000000  268.000000     268.000000\n",
       "mean    4549.768657   4477.555970    0.207132    0.298750   17194.477612\n",
       "std     8181.784059   6276.463316    0.122161    0.087724   23480.190142\n",
       "min       27.000000    239.000000    0.045302    0.084630     596.000000\n",
       "25%      677.500000   1471.750000    0.116120    0.240947    4889.500000\n",
       "50%     1517.000000   2622.000000    0.169378    0.307397    9210.000000\n",
       "75%     4315.250000   4707.750000    0.266443    0.361596   19999.500000\n",
       "max    61116.000000  59486.000000    0.630427    0.496079  149258.000000"
      ]
     },
     "execution_count": 4,
     "metadata": {},
     "output_type": "execute_result"
    }
   ],
   "source": [
    "peak_counts.describe()"
   ]
  },
  {
   "cell_type": "markdown",
   "id": "49aa2184-ca50-4254-bbff-cb9f7a41df07",
   "metadata": {},
   "source": [
    "The boxplot below may be better at illustrating the differences between the AM proportion and the PM proportion. We can quite clearly see that the PM proportion has a far higher median than the AM with a smaller range of values. Again, showing that the values of PM are more clustered than that of AM. The AM boxplot also shows a number of outliers high up above 0.5. These stations could be the minority that are extremely work related such as Canary Wharf or Bank & Monument. In this case, it could actually be the outliers that are the most useful data to us as these are the most obvious choices to be designated as 'work' stations. We can also see that the 3rd quartile of AM and 1st quartile of PM slightly overlap, therefore 75% of the AM data falls into the same range as the first 25% of the PM data. This could again show that for the vast majority of stations, they have a higher PM proportion than AM proportion of exits.  "
   ]
  },
  {
   "cell_type": "code",
   "execution_count": 33,
   "id": "d8397ff6-3959-4108-928c-190eb94b240c",
   "metadata": {
    "jupyter": {
     "source_hidden": true
    }
   },
   "outputs": [
    {
     "data": {
      "image/png": "[encoded data removed]",
      "text/plain": [
       "<Figure size 720x648 with 1 Axes>"
      ]
     },
     "metadata": {
      "needs_background": "light"
     },
     "output_type": "display_data"
    }
   ],
   "source": [
    "plt.figure(figsize=(10,9))\n",
    "peak_counts.boxplot(column=['AM_prop','PM_prop'])\n",
    "plt.title('AM proportion and PM proportion')\n",
    "plt.ylabel('Proportion')\n",
    "plt.show()"
   ]
  },
  {
   "cell_type": "markdown",
   "id": "96f133b9",
   "metadata": {},
   "source": [
    "Below are 2 histograms comparing the distributions of the AM proportion and PM proportion. \\\n",
    "The AM histogram is very positively skewed with a larger number of values centered around 0.1. Tube stations that see heavy traffic in the morning are usually used for workers. This histogram could imply that the majority of London tube stations are not used for work and therefore many of them will have low numbers of people using them. You can see that as the proportion increases the frequency decreases which would suggest that there are a small number of stations that have heavier usage in the mornings which would correlate to there being less central tube stations. \\\n",
    "The PM histogram is closer to being normally distributed with the values centered around a proportion of 0.3. This shows that most stations have a higher proportion of exits in the PM peak and could imply that the majority of tube stations are not work related, they could be residential or somewhere in between which see more usage later in the evening for non-work related activities. You could expect both these histograms to be mirror images of one another, however if there are many more residential tube stations than work tube stations then the residential tube stations may outweigh the lower PM proportions of the work tube stations and bring the distribution closer to normal, rather than being negatively skewed as you may expect."
   ]
  },
  {
   "cell_type": "code",
   "execution_count": 5,
   "id": "aeb18115",
   "metadata": {
    "jupyter": {
     "source_hidden": true
    }
   },
   "outputs": [
    {
     "data": {
      "image/png": "[encoded data removed]",
      "text/plain": [
       "<Figure size 1080x720 with 1 Axes>"
      ]
     },
     "metadata": {
      "needs_background": "light"
     },
     "output_type": "display_data"
    }
   ],
   "source": [
    "plt.figure(figsize=(15,10))\n",
    "plt.hist(peak_counts.PM_prop, alpha=0.5, edgecolor='black', histtype='stepfilled')\n",
    "plt.hist(peak_counts.AM_prop, alpha=0.5, edgecolor='black', histtype='stepfilled')\n",
    "plt.legend(['PM Proportion', 'AM Proportion'])\n",
    "plt.xlabel('Proportion of Exits')\n",
    "plt.ylabel('Frequency')\n",
    "plt.title('Histogram of the Proportion of Exits during the day')\n",
    "plt.show()"
   ]
  },
  {
   "cell_type": "markdown",
   "id": "2d10c409",
   "metadata": {},
   "source": [
    "Below, I have classified all the stations into a class of either 'work', 'residential' or 'other'. My method of differentiation was to calculate the difference between the AM and PM proportions. If the AM proportion was greater than the PM by 0.1 or more, the station is classified as 'work' and vice versa for 'residential'. The station is classified as 'other' if they are within a distance of 0.1 of each other. 'Other' stations usually correlate to tourist areas such as Leicester Square or Embankment which may see a similar amount of traffic both in the morning and evening. \n",
    "I chose a threshold of 0.1 as it was sensitive enough to distinguish between 'work' and 'residential' stations but also not too large (>0.15) as to improperly classify some stations as 'other'. Most station proportions also seem to be either quite close together (<0.1) and so are simple to designate as 'other', or they are quite far apart and thus easy to designate into either 'work' or 'residential'. "
   ]
  },
  {
   "cell_type": "code",
   "execution_count": 32,
   "id": "dd945a58",
   "metadata": {
    "jupyter": {
     "source_hidden": true
    }
   },
   "outputs": [
    {
     "data": {
      "text/html": [
       "<div>\n",
       "<style scoped>\n",
       "    .dataframe tbody tr th:only-of-type {\n",
       "        vertical-align: middle;\n",
       "    }\n",
       "\n",
       "    .dataframe tbody tr th {\n",
       "        vertical-align: top;\n",
       "    }\n",
       "\n",
       "    .dataframe thead th {\n",
       "        text-align: right;\n",
       "    }\n",
       "</style>\n",
       "<table border=\"1\" class=\"dataframe\">\n",
       "  <thead>\n",
       "    <tr style=\"text-align: right;\">\n",
       "      <th></th>\n",
       "      <th>AM_peak</th>\n",
       "      <th>PM_peak</th>\n",
       "      <th>AM_prop</th>\n",
       "      <th>PM_prop</th>\n",
       "      <th>total</th>\n",
       "      <th>class</th>\n",
       "    </tr>\n",
       "    <tr>\n",
       "      <th>Station</th>\n",
       "      <th></th>\n",
       "      <th></th>\n",
       "      <th></th>\n",
       "      <th></th>\n",
       "      <th></th>\n",
       "      <th></th>\n",
       "    </tr>\n",
       "  </thead>\n",
       "  <tbody>\n",
       "    <tr>\n",
       "      <th>Acton Town</th>\n",
       "      <td>1970</td>\n",
       "      <td>2628</td>\n",
       "      <td>0.210425</td>\n",
       "      <td>0.280709</td>\n",
       "      <td>9362</td>\n",
       "      <td>other</td>\n",
       "    </tr>\n",
       "    <tr>\n",
       "      <th>Aldgate</th>\n",
       "      <td>7408</td>\n",
       "      <td>2992</td>\n",
       "      <td>0.459098</td>\n",
       "      <td>0.185424</td>\n",
       "      <td>16136</td>\n",
       "      <td>work</td>\n",
       "    </tr>\n",
       "    <tr>\n",
       "      <th>Aldgate East</th>\n",
       "      <td>7618</td>\n",
       "      <td>3803</td>\n",
       "      <td>0.359238</td>\n",
       "      <td>0.179336</td>\n",
       "      <td>21206</td>\n",
       "      <td>work</td>\n",
       "    </tr>\n",
       "    <tr>\n",
       "      <th>Alperton</th>\n",
       "      <td>856</td>\n",
       "      <td>1847</td>\n",
       "      <td>0.167253</td>\n",
       "      <td>0.360883</td>\n",
       "      <td>5118</td>\n",
       "      <td>residential</td>\n",
       "    </tr>\n",
       "    <tr>\n",
       "      <th>Amersham</th>\n",
       "      <td>424</td>\n",
       "      <td>1465</td>\n",
       "      <td>0.108579</td>\n",
       "      <td>0.375160</td>\n",
       "      <td>3905</td>\n",
       "      <td>residential</td>\n",
       "    </tr>\n",
       "  </tbody>\n",
       "</table>\n",
       "</div>"
      ],
      "text/plain": [
       "              AM_peak  PM_peak   AM_prop   PM_prop  total        class\n",
       "Station                                                               \n",
       "Acton Town       1970     2628  0.210425  0.280709   9362        other\n",
       "Aldgate          7408     2992  0.459098  0.185424  16136         work\n",
       "Aldgate East     7618     3803  0.359238  0.179336  21206         work\n",
       "Alperton          856     1847  0.167253  0.360883   5118  residential\n",
       "Amersham          424     1465  0.108579  0.375160   3905  residential"
      ]
     },
     "execution_count": 32,
     "metadata": {},
     "output_type": "execute_result"
    }
   ],
   "source": [
    "peak_counts['class'] = peak_counts.apply(lambda row: 'work' if row['AM_prop'] - row['PM_prop'] > 0.10 else ('residential' if \n",
    "                                    row['PM_prop'] - row['AM_prop'] > 0.10 else 'other'), axis=1)\n",
    "peak_counts.head()"
   ]
  },
  {
   "cell_type": "markdown",
   "id": "9c47eff9",
   "metadata": {},
   "source": [
    "Below I have grouped and counted the number of stations and their assigned class and created a pie chart of the percentage distribution. It agrees with my analysis higher up that there are more residential than work related tube stations, with other sitting somewhere in between. This may be why the PM histogram is more normally distributed, rather than being negatively skewed as we may have expected as the effect of 48 stations may not be an effective counterweight to the combined 220 residential and other stations."
   ]
  },
  {
   "cell_type": "code",
   "execution_count": 7,
   "id": "7447c401",
   "metadata": {
    "jupyter": {
     "source_hidden": true
    }
   },
   "outputs": [
    {
     "data": {
      "text/html": [
       "<div>\n",
       "<style scoped>\n",
       "    .dataframe tbody tr th:only-of-type {\n",
       "        vertical-align: middle;\n",
       "    }\n",
       "\n",
       "    .dataframe tbody tr th {\n",
       "        vertical-align: top;\n",
       "    }\n",
       "\n",
       "    .dataframe thead th {\n",
       "        text-align: right;\n",
       "    }\n",
       "</style>\n",
       "<table border=\"1\" class=\"dataframe\">\n",
       "  <thead>\n",
       "    <tr style=\"text-align: right;\">\n",
       "      <th></th>\n",
       "      <th>class</th>\n",
       "      <th>total</th>\n",
       "    </tr>\n",
       "  </thead>\n",
       "  <tbody>\n",
       "    <tr>\n",
       "      <th>0</th>\n",
       "      <td>other</td>\n",
       "      <td>73</td>\n",
       "    </tr>\n",
       "    <tr>\n",
       "      <th>1</th>\n",
       "      <td>residential</td>\n",
       "      <td>147</td>\n",
       "    </tr>\n",
       "    <tr>\n",
       "      <th>2</th>\n",
       "      <td>work</td>\n",
       "      <td>48</td>\n",
       "    </tr>\n",
       "  </tbody>\n",
       "</table>\n",
       "</div>"
      ],
      "text/plain": [
       "         class  total\n",
       "0        other     73\n",
       "1  residential    147\n",
       "2         work     48"
      ]
     },
     "execution_count": 7,
     "metadata": {},
     "output_type": "execute_result"
    }
   ],
   "source": [
    "peak_counts_grp = peak_counts.groupby('class')['total'].count().reset_index()\n",
    "peak_counts_grp"
   ]
  },
  {
   "cell_type": "code",
   "execution_count": 34,
   "id": "84cf4389",
   "metadata": {
    "jupyter": {
     "source_hidden": true
    },
    "tags": []
   },
   "outputs": [
    {
     "data": {
      "image/png": "[encoded data removed]",
      "text/plain": [
       "<Figure size 432x288 with 1 Axes>"
      ]
     },
     "metadata": {},
     "output_type": "display_data"
    }
   ],
   "source": [
    "peak_counts_grp.plot.pie(y='total', autopct='%1.1f%%', labels=peak_counts_grp['class'])\n",
    "plt.show()"
   ]
  },
  {
   "cell_type": "markdown",
   "id": "b9f31704",
   "metadata": {},
   "source": [
    "Below, I have found a number of stations on the northern line that have differing classes. All the 'residential' stations exist within zones 3 and 4 (with High Barnet being in zone 5 at the very end of the line). All the 'work' stations are right next to one another within zone 1. Both of the 'other' stations are also within zone 1 but as mentioned previously they may be more popular among tourists than with workers so may see a similar amount of traffic throughout the entire day. In general, it can be inferred that 'residential' stations with a higher proportion of traffic in the PM are less likely to be based in zones 1 and 2 and vice versa with 'work' classed stations, that they are less likely to be based in zones 3 and higher."
   ]
  },
  {
   "cell_type": "code",
   "execution_count": 9,
   "id": "76dc38d5",
   "metadata": {
    "jupyter": {
     "source_hidden": true
    }
   },
   "outputs": [
    {
     "data": {
      "text/html": [
       "<div>\n",
       "<style scoped>\n",
       "    .dataframe tbody tr th:only-of-type {\n",
       "        vertical-align: middle;\n",
       "    }\n",
       "\n",
       "    .dataframe tbody tr th {\n",
       "        vertical-align: top;\n",
       "    }\n",
       "\n",
       "    .dataframe thead th {\n",
       "        text-align: right;\n",
       "    }\n",
       "</style>\n",
       "<table border=\"1\" class=\"dataframe\">\n",
       "  <thead>\n",
       "    <tr style=\"text-align: right;\">\n",
       "      <th></th>\n",
       "      <th>AM_peak</th>\n",
       "      <th>PM_peak</th>\n",
       "      <th>AM_prop</th>\n",
       "      <th>PM_prop</th>\n",
       "      <th>total</th>\n",
       "      <th>class</th>\n",
       "    </tr>\n",
       "    <tr>\n",
       "      <th>Station</th>\n",
       "      <th></th>\n",
       "      <th></th>\n",
       "      <th></th>\n",
       "      <th></th>\n",
       "      <th></th>\n",
       "      <th></th>\n",
       "    </tr>\n",
       "  </thead>\n",
       "  <tbody>\n",
       "    <tr>\n",
       "      <th>Archway</th>\n",
       "      <td>2190</td>\n",
       "      <td>4106</td>\n",
       "      <td>0.157158</td>\n",
       "      <td>0.294654</td>\n",
       "      <td>13935</td>\n",
       "      <td>residential</td>\n",
       "    </tr>\n",
       "    <tr>\n",
       "      <th>Balham</th>\n",
       "      <td>2637</td>\n",
       "      <td>7635</td>\n",
       "      <td>0.119170</td>\n",
       "      <td>0.345038</td>\n",
       "      <td>22128</td>\n",
       "      <td>residential</td>\n",
       "    </tr>\n",
       "    <tr>\n",
       "      <th>Embankment</th>\n",
       "      <td>10692</td>\n",
       "      <td>8829</td>\n",
       "      <td>0.316509</td>\n",
       "      <td>0.261360</td>\n",
       "      <td>33781</td>\n",
       "      <td>other</td>\n",
       "    </tr>\n",
       "    <tr>\n",
       "      <th>Goodge Street</th>\n",
       "      <td>5374</td>\n",
       "      <td>1949</td>\n",
       "      <td>0.419287</td>\n",
       "      <td>0.152064</td>\n",
       "      <td>12817</td>\n",
       "      <td>work</td>\n",
       "    </tr>\n",
       "    <tr>\n",
       "      <th>Highgate</th>\n",
       "      <td>893</td>\n",
       "      <td>3170</td>\n",
       "      <td>0.100101</td>\n",
       "      <td>0.355341</td>\n",
       "      <td>8921</td>\n",
       "      <td>residential</td>\n",
       "    </tr>\n",
       "    <tr>\n",
       "      <th>High Barnet</th>\n",
       "      <td>987</td>\n",
       "      <td>2362</td>\n",
       "      <td>0.144235</td>\n",
       "      <td>0.345170</td>\n",
       "      <td>6843</td>\n",
       "      <td>residential</td>\n",
       "    </tr>\n",
       "    <tr>\n",
       "      <th>Leicester Square</th>\n",
       "      <td>8952</td>\n",
       "      <td>12915</td>\n",
       "      <td>0.187390</td>\n",
       "      <td>0.270347</td>\n",
       "      <td>47772</td>\n",
       "      <td>other</td>\n",
       "    </tr>\n",
       "    <tr>\n",
       "      <th>Morden</th>\n",
       "      <td>1550</td>\n",
       "      <td>5955</td>\n",
       "      <td>0.098852</td>\n",
       "      <td>0.379783</td>\n",
       "      <td>15680</td>\n",
       "      <td>residential</td>\n",
       "    </tr>\n",
       "    <tr>\n",
       "      <th>South Wimbledon</th>\n",
       "      <td>1335</td>\n",
       "      <td>2198</td>\n",
       "      <td>0.185494</td>\n",
       "      <td>0.305405</td>\n",
       "      <td>7197</td>\n",
       "      <td>residential</td>\n",
       "    </tr>\n",
       "    <tr>\n",
       "      <th>Tottenham Court Road</th>\n",
       "      <td>20051</td>\n",
       "      <td>13232</td>\n",
       "      <td>0.319864</td>\n",
       "      <td>0.211084</td>\n",
       "      <td>62686</td>\n",
       "      <td>work</td>\n",
       "    </tr>\n",
       "    <tr>\n",
       "      <th>Warren Street</th>\n",
       "      <td>17726</td>\n",
       "      <td>3681</td>\n",
       "      <td>0.514916</td>\n",
       "      <td>0.106928</td>\n",
       "      <td>34425</td>\n",
       "      <td>work</td>\n",
       "    </tr>\n",
       "  </tbody>\n",
       "</table>\n",
       "</div>"
      ],
      "text/plain": [
       "                      AM_peak  PM_peak   AM_prop   PM_prop  total        class\n",
       "Station                                                                       \n",
       "Archway                  2190     4106  0.157158  0.294654  13935  residential\n",
       "Balham                   2637     7635  0.119170  0.345038  22128  residential\n",
       "Embankment              10692     8829  0.316509  0.261360  33781        other\n",
       "Goodge Street            5374     1949  0.419287  0.152064  12817         work\n",
       "Highgate                  893     3170  0.100101  0.355341   8921  residential\n",
       "High Barnet               987     2362  0.144235  0.345170   6843  residential\n",
       "Leicester Square         8952    12915  0.187390  0.270347  47772        other\n",
       "Morden                   1550     5955  0.098852  0.379783  15680  residential\n",
       "South Wimbledon          1335     2198  0.185494  0.305405   7197  residential\n",
       "Tottenham Court Road    20051    13232  0.319864  0.211084  62686         work\n",
       "Warren Street           17726     3681  0.514916  0.106928  34425         work"
      ]
     },
     "execution_count": 9,
     "metadata": {},
     "output_type": "execute_result"
    }
   ],
   "source": [
    "northern_stations = ['Archway', 'Balham', 'Embankment', 'Goodge Street', 'Highgate'\n",
    "                    , 'High Barnet', 'Leicester Square', 'Morden', 'South Wimbledon'\n",
    "                    , 'Tottenham Court Road', 'Warren Street']\n",
    "northern_line = peak_counts.loc[northern_stations]\n",
    "northern_line"
   ]
  },
  {
   "cell_type": "markdown",
   "id": "3c42b944-f01d-438a-8c47-7aec118b6332",
   "metadata": {},
   "source": [
    "In conclusion, we have found that on this particular day there were far more tube stations that were used more in the evening than in the morning. This could correlate to these stations being more 'residential' and therefore London containing more 'residential' tube stations than 'work' stations. We have also found that these AM stations have a number of outliers that are very high with some having more than half their daily traffic passing within these 3 hours. This could show that the morning rush of these stations is quite severe, with large numbers passing through them within a short period of time. On the other hand, the majority of PM values are more clustered together around lower proportions. This could show that whilst more stations have a greater traffic in the PM, the proportion of people overall per station is more consistent and less 'rush' based than the morning work stations. \\\n",
    "What may have helped is to have more days that we could look at. This sample is from a random day and may not accurately reflect the true state of the London tube stations. Having a larger time frame would allow us to be more accurate in our analysis as well as create further questions such as how does the traffic changes between weekdays and weekends? Or over holidays? Or how is working from home starting to affect how many people are coming into the office?"
   ]
  },
  {
   "cell_type": "markdown",
   "id": "429543bc-0328-4e33-abf0-2440a29fe23d",
   "metadata": {},
   "source": [
    "Thank you for reading! \\\n",
    "Elliot Linsey \\\n",
    "QMUL"
   ]
  }
 ],
 "metadata": {
  "kernelspec": {
   "display_name": "Python 3 (ipykernel)",
   "language": "python",
   "name": "python3"
  },
  "language_info": {
   "codemirror_mode": {
    "name": "ipython",
    "version": 3
   },
   "file_extension": ".py",
   "mimetype": "text/x-python",
   "name": "python",
   "nbconvert_exporter": "python",
   "pygments_lexer": "ipython3",
   "version": "3.9.6"
  }
 },
 "nbformat": 4,
 "nbformat_minor": 5
}
