{
 "cells": [
  {
   "cell_type": "markdown",
   "metadata": {},
   "source": [
    "# Introductory Materials: Jupyter Notebooks and Pandas\n",
    "\n",
    "\n",
    "## Section 1: Introduction\n",
    "\n",
    "We will be running `python` code using an interactive notebook, running in a web browser. We refer to the notebook a 'iPythn notebook' (older name) or 'Jupyter notebook' (newer name). Python code can be run in many ways, meaning you don't necessarily need a Jupyter notebook to run a Python program. However, the notebook has two advantages for data analysis:\n",
    "  1. It runs in a web browser, making it easy to display graphs created by your data analysis program.\n",
    "  2. The program code is combined with formatted text describing the results of the analysis. It encourages us to think that we are creating a document, not just code.\n",
    "\n",
    "The aim of this short notebook is to introduce the capabilities of notebooks.\n",
    "\n",
    "### Section 1.1 Resources\n",
    "\n",
    "The Jupyter website (https://jupyter.org/) contains many good interactive resources and online documentation for learning about Jupyter notebooks and experimenting with examples. In addition...\n",
    "\n",
    "#### User Interface Tour\n",
    "Click on the help menu and select `user interface tour`. A pop up menu will appear. Then use the keyboard arrow keys to see some of the functionality offered by Jupyter notebooks.\n",
    "\n",
    "#### Online tutorials\n",
    "A number of people have uploaded excellent blog posts that give good guides for getting started, and even more advanced functionality \n",
    "\n",
    "* https://www.dataquest.io/blog/jupyter-notebook-tutorial/\n",
    "* https://www.datacamp.com/community/tutorials/tutorial-jupyter-notebook\n",
    "\n",
    "#### YouTube videos\n",
    "There are also free youtube videos that provide nice introductions.\n",
    "\n",
    "* https://www.youtube.com/watch?v=HW29067qVWk\n",
    "* https://www.youtube.com/watch?v=jZ952vChhuI\n",
    "* https://www.youtube.com/watch?v=3C9E2yPBw7s\n",
    "\n",
    "\n",
    "## Section 2: Programming in a Notebook\n",
    "Jupyter is comprised of grey boxes called **cells**. These contain one of two things\n",
    "\n",
    "* Python code than can be run or executed\n",
    "* Text content to help with explanation\n",
    "\n",
    "We start with the former.\n",
    "\n",
    "### Section 2.1 First Programs\n",
    "\n",
    "Click on the cell below, change the text 'Hello World' to something else, e.g. 'Hello Jupyter'. This is the command that will be executed. To execute the command do one of the following\n",
    "* Select Cell/Run Cell from the dropdown menu\n",
    "* Hit ctrl+Enter on the keyboard\n",
    "\n",
    "You should see the output change to what you specified"
   ]
  },
  {
   "cell_type": "code",
   "execution_count": null,
   "metadata": {},
   "outputs": [],
   "source": [
    "print('Hello World')"
   ]
  },
  {
   "cell_type": "markdown",
   "metadata": {},
   "source": [
    "\n",
    "The notes below introduce soem programming ideas. It is not essential to cover all of these: go as far as you can depending on your previous experience. \n",
    "\n",
    "#### Performing calculations\n",
    "\n",
    "Add a new cell by clicking on this cell (the one with the text) and doing one of the following\n",
    "\n",
    "* Click the small '+' icon on the toolbar\n",
    "* Select Insert/Insert Cell Below from the menu\n",
    "* Hit shift+Enter on the keyboard\n",
    "\n",
    "Then type in an mathematical operation, e.g. 4 + 3, or 12/4 or 3*9 or 7-5, and run the cell (ctrl+Enter). Select the cell again and try something else."
   ]
  },
  {
   "cell_type": "markdown",
   "metadata": {},
   "source": [
    "### Section 2.2 Working with Variables\n",
    "\n",
    "#### Assigning variables\n",
    "\n",
    "To do more interesting things it usually becomes necessary to remember quantities for later. Try the following\n",
    "\n",
    "* Create a new cell below this one (see above)\n",
    "* Write `x = 3` in this cell and run the cell (see above)\n",
    "\n",
    "You will notice there is no output this time. This is because we have assigned the value 3 to x. Create another cell, type `x` and run the cell. You should see an output this time of 3."
   ]
  },
  {
   "cell_type": "markdown",
   "metadata": {},
   "source": [
    "#### Reassigning variables\n",
    "\n",
    "In Jupyter it is possible to reassign the values of variables. For example, we can reassign the value assigned to x that we set above. Do the following\n",
    "\n",
    "* Create a new cell below this one\n",
    "* On the first line write `x = 11` in this cell \n",
    "* On the second line type `x`\n",
    "* Run the cell\n",
    "\n",
    "You should see the output has changed to 11.\n",
    "\n",
    "**IMPORTANT** - This brings us to a key aspect of Jupyter: The outputs depend on the order on which you run the cells, not the way they are order in the notebook. For example, if you run the cell assigning 3, `x` will again be 3.  The number inside of the `Out[.]` should change, this indicates the order in which the cells have been run. \n",
    "  * It is very useful to be able to run cells in any order when you are working interactively\n",
    "  * It is recommended that when you have finished, the cells of the notebook are arranged in the order in which they should be run.\n"
   ]
  },
  {
   "cell_type": "markdown",
   "metadata": {},
   "source": [
    "### Section 2.3 Programs on Multiple Lines\n",
    "\n",
    "Rather than using single lines Jupyter is designed to handle blocks of code that run together. This gives us more flexibility in writing longer commands and helps breakup the whole notebook into workable chunks. This is particularly necessary in writing things like functions."
   ]
  },
  {
   "cell_type": "code",
   "execution_count": null,
   "metadata": {},
   "outputs": [],
   "source": [
    "def doubleIt(x):\n",
    "    return x * 2\n",
    "\n",
    "x = doubleIt(10)\n",
    "x"
   ]
  },
  {
   "cell_type": "markdown",
   "metadata": {},
   "source": [
    "#### Getting Errors\n",
    "\n",
    "If you have never run programs before then be aware that it is very common to get errors. Whenever Juptyer (or Python) encounters an error it displays an error message. This is nothing to worry about, it simply says there is something wrong with the command you have tried to run and tries to help you identify what is wrong.\n",
    "\n",
    "Try the following examples (correcting the errors)."
   ]
  },
  {
   "cell_type": "code",
   "execution_count": null,
   "metadata": {},
   "outputs": [],
   "source": [
    "doubleIt(10, 2)"
   ]
  },
  {
   "cell_type": "code",
   "execution_count": null,
   "metadata": {},
   "outputs": [],
   "source": [
    "def squareIt(x)\n",
    "    return x ** 2\n",
    "\n",
    "y = squareIt(10)\n",
    "z"
   ]
  },
  {
   "cell_type": "markdown",
   "metadata": {},
   "source": [
    "## Section 3: Describing Programs using Markdown Cells\n",
    "\n",
    "As you will have noticed, there are many comments in this text. You are also expected to describe the programs since data analaysis includes both generating results and interpreting them. \n",
    "\n",
    "To do so create a new cell, select that cell and then from the dropdown menu in the toolbar change 'code' to 'markdown. You can then start writing in the cell. Run the cell as normal to see the text changed from edit mode to display mode.\n",
    "\n",
    "### Section 3.1: How to Use Markdown\n",
    "#### Learning Markdown\n",
    "\n",
    "* You can learn markdown by copying the examples given. Double-click on any of the markdown cells in the provided notebooks to see how to write headings, bullet points, or bold type-face. You can look at the way any of the markdown in a notebook such as this one are written. \n",
    "* A nice cheatsheet for markdown syntax is [also available](https://medium.com/ibm-data-science-experience/markdown-for-jupyter-notebooks-cheatsheet-386c05aeebed)"
   ]
  },
  {
   "cell_type": "markdown",
   "metadata": {},
   "source": [
    "#### Exercise: Markdown Headings \n",
    "This paragraph starts with the fourth level of heading. Try some others."
   ]
  },
  {
   "cell_type": "markdown",
   "metadata": {},
   "source": [
    "#### Exercise: Markdown Lists\n",
    "Lists can be:\n",
    "  * Bulleted\n",
    "  * Numbered\n",
    "  \n",
    "Add more items to the list above. Change it to a numbered list.  "
   ]
  },
  {
   "cell_type": "markdown",
   "metadata": {},
   "source": [
    "#### Exercise: Markdown Hyperlinks\n",
    "\n",
    "See how this hyperlink to [EECS home page](http://www.eecs.qmul.ac.uk) works. This one to the [QMUL home page](www.qmul.ac.uk) is broken - fix it."
   ]
  },
  {
   "cell_type": "markdown",
   "metadata": {},
   "source": [
    "### Section 3.2: Use of Markdown in this Module\n",
    "\n",
    "* You are **expected to use markdown** to describe your work as data analysis requires a combination of code and description\n",
    "* You should follow the style used in the course materials.\n",
    "* You may also write comments in your code but this is **not an alternative to appropriate use of markdown**. Code comments describe the code; markdown is used to create an analysis document, which is a notebook containing both plots and text on the results of your analysis.\n",
    "* You can view the notebook with the code hidden. It should be a readable document."
   ]
  },
  {
   "cell_type": "markdown",
   "metadata": {},
   "source": [
    "# Section 4: Introduction to DataFrames\n",
    "\n",
    "Dataframes are essentially tables of information, like those traditionally seen in Excel. They are one of the most common forms for storing data, particularly for data-visulatisation, statistical analysis and machine-learning.\n",
    "\n",
    "Pandas (Python Data Analysis Library) is an open-source package for python that allows the user to easily create and manipulate DataFrames. Many other packages now use pandas DataFrames as a means for inputting information. This section has a very short introduction to Pandas. See 'notebook 1' for much more.\n",
    "\n",
    "## Section 4.1 Resources\n",
    "\n",
    "#### Pandas website\n",
    "\n",
    "The website for pandas is https://pandas.pydata.org/. It contains extensive documentation about all the commands you can use as well as tutorials for getting started. In fact we will be loosely following their [10 minutes to Pandas guide](https://pandas.pydata.org/pandas-docs/stable/user_guide/10min.html)\n",
    "\n",
    "#### Other resources\n",
    "\n",
    "Again, you will be able to find many blogposts and youtube videos giving both introductory and advanced tutorials on Pandas, here are two for example\n",
    "\n",
    "* https://www.youtube.com/watch?v=e60ItwlZTKM\n",
    "* https://www.youtube.com/watch?v=vmEHCJofslg\n"
   ]
  },
  {
   "cell_type": "markdown",
   "metadata": {},
   "source": [
    "#### Importing pandas\n",
    "In order to use pandas we must use the `import` statement, as below. We only need to do this once in a notebook, however you must run that cell before any of the others, otherwise you will get an error. In fact, try running another cell beforehand to see what happens, then do it again after running the one with the import command."
   ]
  },
  {
   "cell_type": "code",
   "execution_count": null,
   "metadata": {},
   "outputs": [],
   "source": [
    "import pandas as pd"
   ]
  },
  {
   "cell_type": "markdown",
   "metadata": {},
   "source": [
    "### Section 4.2: Structure of a DataFrames\n",
    "\n",
    "A dataframe is a table of information. In the pandas world they are collections of columns: a list of data values (Python datatype pd.Series).\n",
    "\n",
    "We usually create a dataframe by reading data from a file. To illustrate the structure of a dataframe, we create a dataframe by entering data directly (usually, it is read in from a data file). "
   ]
  },
  {
   "cell_type": "code",
   "execution_count": null,
   "metadata": {},
   "outputs": [],
   "source": [
    "df = pd.DataFrame({'Surname' : ['Lovelace', 'Turing', 'Newton', 'Franklin'],\n",
    "                   'Department': ['Computer Science', 'Mathematics', 'Physics', 'Chemistry'],\n",
    "                   'Years Service': [5, 7, 3, 9],\n",
    "                   'Rating': [5, 8, 10, 9]})\n",
    "\n",
    "df"
   ]
  },
  {
   "cell_type": "markdown",
   "metadata": {},
   "source": [
    "#### Exercise: Create another Simple DataFrame\n",
    "Adapt the example above to create another dataframe with invented data. \n",
    "* The dataframe should have more than 4 rows and more than 4 columns.\n",
    "* Experiment to see what happens when one of the rows has too few / too many values\n"
   ]
  },
  {
   "cell_type": "markdown",
   "metadata": {},
   "source": [
    "### Section 4.3 Plotting Data \n",
    "\n",
    "We can plot data using the data `.plot` function. This uses another library and first we must import it. "
   ]
  },
  {
   "cell_type": "code",
   "execution_count": null,
   "metadata": {},
   "outputs": [],
   "source": [
    "import matplotlib.pyplot as plt"
   ]
  },
  {
   "cell_type": "code",
   "execution_count": null,
   "metadata": {},
   "outputs": [],
   "source": [
    "df.plot(kind=\"bar\", x = 'Surname', y = 'Rating') # create a bar chart"
   ]
  },
  {
   "cell_type": "markdown",
   "metadata": {},
   "source": [
    "#### Exercise: Change the Bar Chart\n",
    "The chart above shows the rating for each surname. Try other possibilities."
   ]
  },
  {
   "cell_type": "markdown",
   "metadata": {},
   "source": [
    "Briefly scan the different type of graphs available in Pandas: https://pandas.pydata.org/pandas-docs/stable/user_guide/visualization.html"
   ]
  },
  {
   "cell_type": "markdown",
   "metadata": {},
   "source": [
    "#### Exercise: Plot Your DataFrame\n",
    "Use the code above to plot data from the second data frame you created.\n",
    "\n",
    "The dataframe should have more than 4 rows and more than 4 columns.\n",
    "Experiment to see what happens when one of the rows has too few / too many values"
   ]
  },
  {
   "cell_type": "markdown",
   "metadata": {},
   "source": [
    "### Section 4.4 What's Next\n",
    "\n",
    "We will explore Pandas starting with notebook 1. Here some of the things that you will be able to do:\n",
    "\n",
    "* Read data from a data file into a dataframe\n",
    "* Use a scatter plot to explore a possible relationship between years of service and rating\n",
    "* Derive a dataframe showing the average rating for a department\n",
    "* Create a histogram of the rating or years values.\n",
    "\n",
    "Pandas is a very large library, with many different ways to achieve the same thing. Although the module does not cover every way to do everything, you are advised to first follow the approach used in the module material before learning alternatives. Note that google can be confusing: answers may relate to out of date version of the software or just give alternatives that differ from the one used in the module. "
   ]
  },
  {
   "cell_type": "code",
   "execution_count": null,
   "metadata": {},
   "outputs": [],
   "source": []
  }
 ],
 "metadata": {
  "kernelspec": {
   "display_name": "Python 3",
   "language": "python",
   "name": "python3"
  },
  "language_info": {
   "codemirror_mode": {
    "name": "ipython",
    "version": 3
   },
   "file_extension": ".py",
   "mimetype": "text/x-python",
   "name": "python",
   "nbconvert_exporter": "python",
   "pygments_lexer": "ipython3",
   "version": "3.8.5"
  }
 },
 "nbformat": 4,
 "nbformat_minor": 4
}
