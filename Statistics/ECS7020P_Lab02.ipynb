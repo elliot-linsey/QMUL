{
  "nbformat": 4,
  "nbformat_minor": 0,
  "metadata": {
    "colab": {
      "name": "ECS7020P_Lab02.ipynb",
      "provenance": [],
      "collapsed_sections": [
        "JdC-n2a72IYR",
        "x8Udy41sW6WT"
      ]
    },
    "kernelspec": {
      "name": "python3",
      "display_name": "Python 3"
    }
  },
  "cells": [
    {
      "cell_type": "markdown",
      "metadata": {
        "id": "j7ydQ_OTchpE"
      },
      "source": [
        "# Lab 2: Representing data in Python\n",
        "\n",
        "Machine learning provides us with tools to extract knowledge from **data**. To build and deploy a machine learning solution, our data science computing environment needs to be able to **represent** our data and has to provide **methods** to manipulate and process that data. Specifically, our data science environment needs to be able to efficiently represent and process **datasets**, i.e. collections of items described by a set of attributes. \n",
        "\n",
        "In this lab, we will explore different options to represent data and datasets in Python. We will refer to them as **data types**. In addition to the basic built-in types, we will discuss data types defined by two third-party specialised libraries, namely **NumPy** and **Pandas**.\n",
        "\n",
        "Once you complete this lab, go ahead and attempt the corresponding QM+ quiz."
      ]
    },
    {
      "cell_type": "markdown",
      "metadata": {
        "id": "JdC-n2a72IYR"
      },
      "source": [
        "# Basic data types\n",
        "\n",
        "Let's start considering two Python **numeric** types, namely ```int``` (for integer numbers) and ```float``` (for real numbers). Numeric types can be used to represent measurements and other quantities, and support operations such as addition (```+```), subtraction (```-```), multiplication (```*```) and division (```/```), among others. Run the following cell to perform some simple calculation on numeric variables.\n",
        "\n"
      ]
    },
    {
      "cell_type": "code",
      "metadata": {
        "id": "Jj3rRRV3ccd0"
      },
      "source": [
        "a = 2\n",
        "b = 4\n",
        "add_a_b = a+b\n",
        "mult_a_b = a*b\n",
        "print(\"a + b =\", add_a_b)\n",
        "print(\"a * b =\", mult_a_b)"
      ],
      "execution_count": null,
      "outputs": []
    },
    {
      "cell_type": "markdown",
      "metadata": {
        "id": "-h21E1_n9zOy"
      },
      "source": [
        "The `bool` type (**boolean**) can take on two values (`True` or `False`) and supports three basic operations, namely `and`, `or` and `not`. Comparison operators (`==`, `>`, `<`, etc) return boolean values, as illustrated in the following code cell:\n",
        "\n"
      ]
    },
    {
      "cell_type": "code",
      "metadata": {
        "id": "0yFdTA7s_s0D"
      },
      "source": [
        "c = 3.1\n",
        "d = 4.7\n",
        "print(\"Is c equal to d?\", c == d)\n",
        "print(\"Is c less than d?\", c < d)\n",
        "print(\"Is c equal to and at the same time less than d?\", (c==d)and(c<d))"
      ],
      "execution_count": null,
      "outputs": []
    },
    {
      "cell_type": "markdown",
      "metadata": {
        "id": "FEnv_anJBdGZ"
      },
      "source": [
        "Finally, text data can be represented as strings (`str` type) in Python. They are defined surrounding the text value by single or double quotation marks:"
      ]
    },
    {
      "cell_type": "code",
      "metadata": {
        "id": "DijSlMX7WwbL"
      },
      "source": [
        "e = \"This is a string\"\n",
        "print(e)"
      ],
      "execution_count": null,
      "outputs": []
    },
    {
      "cell_type": "markdown",
      "metadata": {
        "id": "i8zBmJN1z1HR"
      },
      "source": [
        "Numeric, boolean and string types are the basic building blocks to create more complex data types."
      ]
    },
    {
      "cell_type": "markdown",
      "metadata": {
        "id": "x8Udy41sW6WT"
      },
      "source": [
        "# Sequence types\n",
        "\n",
        "The string type is a Python sequence. Sequences are ordered collections and can be used to represent a **complex attribute** (such as text), an **item** described by several attributes or even a **whole dataset**. As we shall see later, there are other options that might be more suitable to represent complex attributes and whole datasets, however it is important to be familiar with sequences. \n",
        "\n",
        "In addition to strings, Python offers other sequence types. We will cover Python **lists** here. Lists are defined as elements separated by commas between square brackets and can **indexed** and **sliced**: \n",
        "- Indexing retrieves one element in a list. Given a list `s`, the `i`-th element can be retrived by typing `s[i]`. Note that the index of the first element in a list is 0. \n",
        "- Slicing returns a subset of elements from the list. Typing `s[i:j:k]` returns a list of elements starting from index `i` to `j` (excluding `j`) with step `k`.\n",
        "\n",
        "The following code cell illustrates indexing and slicing."
      ]
    },
    {
      "cell_type": "code",
      "metadata": {
        "id": "zN2v_32gZdG-"
      },
      "source": [
        "squares = [1, 2, 4, 9, 16, 25]\n",
        "print(\"My list of squares is is: \", squares)\n",
        "print(\"The first square is: \", squares[0]) #Example of indexing: 0 is the index of the first element in the list\n",
        "print(\"The second square is: \", squares[1]) #Example of indexing: 1 is the index of the second element in the list\n",
        "print(\"The first three squares are: \", squares[0:3]) #Example of slicing: we extract the elements with indices 0 to 2 (i.e. 3-1)"
      ],
      "execution_count": null,
      "outputs": []
    },
    {
      "cell_type": "markdown",
      "metadata": {
        "id": "EpXLBF0LzQQN"
      },
      "source": [
        "We can also create lists of lists. This feature can be used to represent a dataset, i.e. a collection (list) of items described by a collection (list) of attributes. Indexing and slicing can be used to extract individual items and single attributes from one item. "
      ]
    },
    {
      "cell_type": "code",
      "metadata": {
        "id": "8N-JddIVzo2A"
      },
      "source": [
        "item1 = ['Individual A', 1, 100] #Item described by three attributes\n",
        "item2 = ['Individual B', 2, 200]\n",
        "item3 = ['Individual C', 3, 300]\n",
        "item4 = ['Individual D', 4, 400]\n",
        "\n",
        "MyDataset = [item1, item2, item3, item4] #Dataset consisting of 4 items\n",
        "\n",
        "print(\"My dataset is:\\n\", MyDataset) #Prints the whole dataset\n",
        "\n",
        "print(\"\\nThe second and fourth items in my dataset are:\\n\", MyDataset[1:3]) #Prints items with indices 1 to 2 (3-1)\n",
        "\n",
        "print(\"\\nThe second attribute of the third item is: \", MyDataset[2][1]) #Prints the second attribute of the third item \n",
        "\n",
        "MyDataset[1][1] = 5 #Sets the second attribute of the seconf item to 5\n",
        "\n",
        "print(\"\\nAfter updating, my dataset is:\\n\", MyDataset) #Prints the whole dataset\n"
      ],
      "execution_count": null,
      "outputs": []
    },
    {
      "cell_type": "markdown",
      "metadata": {
        "id": "AjkXhUn-2j7X"
      },
      "source": [
        "Standard Python lists lack many operations and constraints needed to efficiently and safely build machine learning solutions. Therefore in most cases we will use data types defined by NumPy and Pandas."
      ]
    },
    {
      "cell_type": "markdown",
      "metadata": {
        "id": "b47UGO85BRXM"
      },
      "source": [
        "# NumPy\n",
        "\n",
        "NumPy is the fundamental Python library for numerical computing. The core of NumPy is the `ndarray`, a **multidimensional array** (grid of values) that comes with a set of efficiently implemented array operations. Each dimension in an `ndarray` is known as axis. A 1D NumPy array has one axis and represents a vector, a 2D NumPy array has two axis and represents a matrix, a 3D NumPy array represents a 3-tensor, etc.\n",
        "\n",
        "In order to use NumPy, we need to import it first."
      ]
    },
    {
      "cell_type": "code",
      "metadata": {
        "id": "oeTwWef_Ear6"
      },
      "source": [
        "import numpy as np"
      ],
      "execution_count": 6,
      "outputs": []
    },
    {
      "cell_type": "markdown",
      "metadata": {
        "id": "O8IXCwvdEWdd"
      },
      "source": [
        "\n",
        "\n",
        "In contrast to standard Python lists, NumPy arrays have a **fixed size** at creation and their elements need to be of the **same type**. There are several ways to create NumPy arrays. The easiest one is to use the `array` function on a standard Python list. In the following example, we create a 1D NumPy array consisting of integer elements."
      ]
    },
    {
      "cell_type": "code",
      "metadata": {
        "id": "y-BD7qrNFTs4"
      },
      "source": [
        "my1Darray = np.array([1, 2, 4, 9, 16, 25])\n",
        "\n",
        "print(\"The array 'my1Darray' is\", my1Darray)\n",
        "print(\"The type of 'my1Darray' is\", type(my1Darray))\n",
        "print(\"The array 'my1Darray' consists of elements of type\", my1Darray.dtype)\n",
        "print(\"The array 'my1Darray' has\", my1Darray.ndim, \"dimension\")\n",
        "print(\"The shape of 'my1Darray' is\", my1Darray.shape)"
      ],
      "execution_count": null,
      "outputs": []
    },
    {
      "cell_type": "markdown",
      "metadata": {
        "id": "uxWeg-0HGPTC"
      },
      "source": [
        "2D NumPy arrays, where values are arranged in rows and columns, can be created from lists of lists. Let's create a 2D NumPy array consisting of float elements arranged in 3 rows and 2 columns (3x2 array):"
      ]
    },
    {
      "cell_type": "code",
      "metadata": {
        "id": "DdSbA0RQGeUQ"
      },
      "source": [
        "my2Darray = np.array([[1.1, 2.1], [3.0, 4.2], [5.2, 6.1]])\n",
        "\n",
        "print(\"The array 'my2Darray' is \\n\", my2Darray)\n",
        "print(\"The type of 'my2Darray' is\", type(my2Darray))\n",
        "print(\"The array 'my2Darray' consists of elements of type\", my2Darray.dtype)\n",
        "print(\"The array 'my2Darray' has\", my2Darray.ndim, \"dimensions\")\n",
        "print(\"The shape of 'my2Darray' is\", my2Darray.shape)"
      ],
      "execution_count": null,
      "outputs": []
    },
    {
      "cell_type": "markdown",
      "metadata": {
        "id": "m1nd2_2zHluV"
      },
      "source": [
        "There are many other useful functions that can be used to create NumPy arrays, for instance:"
      ]
    },
    {
      "cell_type": "code",
      "metadata": {
        "id": "r-t3WCzxHrUq"
      },
      "source": [
        "a = np.linspace(0,1,11) # Array consisting 11 elements uniformly spaced, from 0 to 1\n",
        "print(\"'a' is \\n\", a, \"\\n and its shape is\", a.shape, \"\\n\")\n",
        "b = np.arange(0,20,2.5) # Array consisting of elements spaced by 2.5, from 0 to 20\n",
        "print(\"'b' is \\n\", b, \"\\n and its shape is\", b.shape, \"\\n\")\n",
        "c = np.zeros(5) # 1D Array consisting of 5 zeros\n",
        "print(\"'c' is \\n\", c, \"\\n and its shape is\", c.shape, \"\\n\")\n",
        "M = np.zeros((2,5)) # 2x5 (2 rows, 5 columns) array consisting of zeros\n",
        "print(\"'M' is \\n\", M, \"\\n and its shape is\", M.shape, \"\\n\")\n",
        "w = np.ones(7) # 1D array consisting of 7 ones\n",
        "print(\"'w' is \\n\", w, \"\\n and its shape is\", w.shape, \"\\n\")\n",
        "N = np.ones((3,2)) # 3x2 (3 rows, 2 columns) array consisting of ones\n",
        "print(\"'N' is \\n\", N, \"\\n and its shape is\", N.shape, \"\\n\")\n",
        "I = np.eye(4) # 4x4 array with ones on the diagonal and zeros elsewhere\n",
        "print(\"'I' is \\n\", I, \"\\n and its shape is\", I.shape, \"\\n\")\n",
        "R = np.random.rand(2,4) # 2x4 array of random values from a uniform distribution\n",
        "print(\"'R' is \\n\", R, \"\\n and its shape is\", R.shape, \"\\n\")\n"
      ],
      "execution_count": null,
      "outputs": []
    },
    {
      "cell_type": "markdown",
      "metadata": {
        "id": "brMxpnQl0oFX"
      },
      "source": [
        "NumPy arrays can be **indexed** and **sliced** just like standard Python lists. Let's create a 2D 4x4 array and explore indexing and slicing:"
      ]
    },
    {
      "cell_type": "code",
      "metadata": {
        "id": "AaFWPKri12qg"
      },
      "source": [
        "M = np.array([[1, 2, 3, 4], [5, 6, 7, 8], [9, 10, 11, 12], [13, 14, 15, 16]])\n",
        "print(\"The NumPy array M is:\\n\", M)\n",
        "print(\"\\nThe second row of M is:\\n\", M[1])\n",
        "print(\"\\nThe entry at the first row third column is:\\n\", M[0,2])\n",
        "print(\"\\nThis is a subarray of M:\\n\", M[1:3,1:3])\n",
        "print(\"\\nThe first two rows of M are:\\n\", M[0:2,:])"
      ],
      "execution_count": null,
      "outputs": []
    },
    {
      "cell_type": "markdown",
      "metadata": {
        "id": "RFacYWlSJObE"
      },
      "source": [
        "Numpy arrays can also be saved to and created from a file. The standard file format for storing NumPy arrays on disk is `.npy`, although other formats such as CSV can be used too. \n",
        "\n",
        "We will now explore how to use NumPy to represent complex datasets. After uploading the file `myDigitsDataset.npy` to your runtime, run the cell below to load the dataset into a NumPy array and read some basic info about it."
      ]
    },
    {
      "cell_type": "code",
      "metadata": {
        "id": "1CDf67cMtCq6"
      },
      "source": [
        "myDigits = np.load('myDigitsDataset.npy')\n",
        "print(\"The type of 'myDigits' is\", type(myDigits))\n",
        "print(\"The array 'myDigits' consists of elements of type\", myDigits.dtype)\n",
        "print(\"The array 'myDigits' has\", myDigits.ndim, \"dimensions\")\n",
        "print(\"The shape of 'myDigits' is\", myDigits.shape)"
      ],
      "execution_count": null,
      "outputs": []
    },
    {
      "cell_type": "markdown",
      "metadata": {
        "id": "ZCnmx9S19Q6u"
      },
      "source": [
        "The `myDigits` NumPy array is an example of a 3-tensor. It consists of 10 items described by 28x28 attributes. You can see it as 10 different 28x28 2D arrays stacked together. Let's print the third (index 2) item:"
      ]
    },
    {
      "cell_type": "code",
      "metadata": {
        "id": "Tes9DVGKsnnx"
      },
      "source": [
        "myThirdDigit = myDigits[2,:,:]\n",
        "print(\"The shape of my 3rd item is:\", myThirdDigit.shape)\n",
        "print(\"\\nMy 3rd item is:\\n\", myThirdDigit)"
      ],
      "execution_count": null,
      "outputs": []
    },
    {
      "cell_type": "markdown",
      "metadata": {
        "id": "5pvwQe_qlnt3"
      },
      "source": [
        "Do you see anything? Does it look like the number 4? Let's use the visualisation library matplotlib to plot the array:"
      ]
    },
    {
      "cell_type": "code",
      "metadata": {
        "id": "HbBGaecdvhDh"
      },
      "source": [
        "import matplotlib.pyplot as plt\n",
        "plt.imshow(myThirdDigit)\n",
        "plt.show()"
      ],
      "execution_count": null,
      "outputs": []
    },
    {
      "cell_type": "markdown",
      "metadata": {
        "id": "fQHy-707--2K"
      },
      "source": [
        "It is indeed a picture representing the digit \"4\". Our small dataset is based on the well-known [MNIST](http://yann.lecun.com/exdb/mnist/) dataset, which consists of 70,000 gray scale 28x28 images of handwritten digits. Instead of gray scale images, where each entry (pixel) can take any value within a continuous range (for instance 0 and 1), we have pictures where pixels can take up only two values, namely 0 and 7. There is nothing special about these two values, what is relevant is that the pattern displayed depends on which pixels take which value. \n",
        "\n",
        "Pictures are an example of grid data, i.e. complex data consisting of multiple values associated to a grid. Audio clips are also examples of grid data, where the grid is 1D (the time axis)."
      ]
    },
    {
      "cell_type": "markdown",
      "metadata": {
        "id": "RGZMT9oquCcT"
      },
      "source": [
        "# Pandas\n",
        "\n",
        "Although briefly, we have already seen Pandas. Pandas is a specialised library that provides data structures to represent sequences (known as **Series**) and tables (known as **DataFrames**). You can think of a Pandas DataFrame as a 2D table where each column is a 1D Pandas Series. In fact, when you extract one single column from a DataFrame, the data type that you obtain is a Series.\n",
        "\n",
        "In contrast to NumPy arrays, which are homogeneous (i.e. all the elements in the array must be of the same type), Pandas tabular structures support heterogenous columns (i.e. only the elements within a column are required to be of the same type).\n",
        "\n",
        "Before using pandas we need to import it."
      ]
    },
    {
      "cell_type": "code",
      "metadata": {
        "id": "IbN0VZKTpAY8"
      },
      "source": [
        "import pandas as pd"
      ],
      "execution_count": 15,
      "outputs": []
    },
    {
      "cell_type": "markdown",
      "metadata": {
        "id": "dPSLEpcrpOzT"
      },
      "source": [
        "There are several ways to create Pandas Series and DataFrames, for instance by passing a standard Python list or a NumPy array, as shown in the following examples:"
      ]
    },
    {
      "cell_type": "code",
      "metadata": {
        "id": "NWmNGVM2pZQP"
      },
      "source": [
        "s = pd.Series([1, 2, 4, 9, 16, 25])\n",
        "df = pd.DataFrame(np.random.randn(10, 10))\n",
        "\n",
        "print(\"The Series s is:\\n\", s)\n",
        "\n",
        "print(\"\\nThe DataFrame df is:\\n\",df)\n",
        "\n",
        "print(\"\\nThe first two rows of the DataFrame df are:\\n\", df.head(2))\n",
        "\n",
        "print(\"\\nThe last two rows of the DataFrame df are:\\n\",df.tail(2))\n",
        "\n"
      ],
      "execution_count": null,
      "outputs": []
    },
    {
      "cell_type": "markdown",
      "metadata": {
        "id": "D2maZnkKqIWI"
      },
      "source": [
        "The indices are also shown when we plot a Pandas Series or DataFrame. They are the integer values on the left-most column and also at the top of the DataFrame. Optionally, we can use our own labels to identify rows (`index` argument) and columns (`columns` argument):"
      ]
    },
    {
      "cell_type": "code",
      "metadata": {
        "id": "VA3r-562q_x3"
      },
      "source": [
        "df = pd.DataFrame(np.random.randint(1,100,[4, 4]), index=[\"r1\", \"r2\", \"r3\", \"r4\"], columns=[\"c1\", \"c2\", \"c3\", \"c4\"])\n",
        "print(\"The DataFrame df is:\\n\", df)\n",
        "\n",
        "print(\"\\nThe row labels are:\", df.index)\n",
        "print(\"\\nThe columns labels are:\",df.columns)\n"
      ],
      "execution_count": null,
      "outputs": []
    },
    {
      "cell_type": "markdown",
      "metadata": {
        "id": "2zgbkoyWtHqP"
      },
      "source": [
        "Individual columns in a DataFrame can be extracted using the column labels:"
      ]
    },
    {
      "cell_type": "code",
      "metadata": {
        "id": "1On9ePl_wF-2"
      },
      "source": [
        "df_c1 = df[\"c1\"]\n",
        "print(\"The column c1 of the DataFrame df is \\n\", df_c1)\n",
        "\n",
        "df_c2c4 = df[[\"c2\",\"c4\"]]\n",
        "print(\"\\nThe columns c2 and c4 of the DataFrame df are \\n\", df_c2c4)"
      ],
      "execution_count": null,
      "outputs": []
    },
    {
      "cell_type": "markdown",
      "metadata": {
        "id": "G9P2y4Q4R8ng"
      },
      "source": [
        "Rows can be extracted with `loc` and `iloc`. `loc` uses the row label, whereas `iloc` uses the row integer index:\n"
      ]
    },
    {
      "cell_type": "code",
      "metadata": {
        "id": "_-JoB-_wxHAZ"
      },
      "source": [
        "df_r1r2 = df.loc[[\"r1\",\"r3\"]]\n",
        "print(\"The rows r1 and r3 of the DataFrame df are \\n\", df_r1r2)\n",
        "\n",
        "df_02 = df.iloc[[0,2]]\n",
        "print(\"\\nThe first and third rows of the DataFrame df are \\n\", df_02)\n"
      ],
      "execution_count": null,
      "outputs": []
    },
    {
      "cell_type": "markdown",
      "metadata": {
        "id": "u6jTktskShpO"
      },
      "source": [
        "Same result! \n",
        "\n",
        "Finally, `iat` allows us to operate on individual entries:"
      ]
    },
    {
      "cell_type": "code",
      "metadata": {
        "id": "NMP-ify5yK5x"
      },
      "source": [
        "print(\"The entry with indices (2,3) is:\", df.iat[2,3])\n",
        "\n",
        "df.iat[2,3]=1000 #We now update the entry in the third rwo, fourth column\n",
        "print(\"\\nThe updated DataFrame df is:\\n\", df)\n",
        "print(\"\\nThe entry with indices (2,3) is now:\", df.iat[2,3])\n"
      ],
      "execution_count": null,
      "outputs": []
    },
    {
      "cell_type": "markdown",
      "metadata": {
        "id": "0Lr-A1C1TG3f"
      },
      "source": [
        "# Summary\n",
        "\n",
        "In this lab, we have explored several options to represent data and datasets in Python, including:\n",
        "- Basic numeric, boolean and string types\n",
        "- Standard lists\n",
        "- Numpy arrays\n",
        "- Pandas Series and DataFrames\n",
        "\n",
        "In general, NumPy arrays will be our preferred choice to represent complex data on a grid (such as time series and pictures) and homogeneous datasets, where all the attributes are of the same type. Pandas dataframes will be useful to represent heterogeneous datasets, where different attributes can have different types. There are additional subtleties, which you will learn as you develop your machine learning skills.\n",
        "\n",
        "Go ahead and attempt the QM+ quiz. You will need to use the npy file `myDigitsDataset.npy` and the CSV file `LondonCars2014.csv`. The code cell below shows how to load the above CSV file into a dataframe and displays some basic information about it (remember that you need to upload the CSV file first!).\n",
        " "
      ]
    },
    {
      "cell_type": "code",
      "metadata": {
        "id": "AQhgILBZjzkC"
      },
      "source": [
        "df_cars = pd.read_csv('./LondonCars2014.csv')\n",
        "df_cars.info()"
      ],
      "execution_count": null,
      "outputs": []
    }
  ]
}