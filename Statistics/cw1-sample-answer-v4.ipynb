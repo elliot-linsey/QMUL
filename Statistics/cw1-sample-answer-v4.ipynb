{
 "cells": [
  {
   "cell_type": "markdown",
   "metadata": {},
   "source": [
    "# ECS7024 Statistics for Artificial Intelligence and Data Science\n",
    "\n",
    "# Sample Answer for Coursework 1\n",
    "\n",
    "*Note 1: This notebook contains a possible answer to the first coursework. **However, it includes material that was not required**. In addition, many variations and alternatives exist and not all good answers need be the same. Notes, such as this one, are written in italics.*\n",
    "\n",
    "*Note 2: The notebook is written in a style that generally does not refer to the coursework instructions, instead presenting the analysis steps as though they were the idea of the report's author. It is accepted that students may not write in this style since quite detailed instructions were given.*\n",
    "\n",
    "**Table of Contents**\n",
    "\n",
    "1. Section 1: Introduction\n",
    "  * Section 1.1: Outline\n",
    "  * Section 1.2: Loading the Data\n",
    "2. Section 2: Morning and Evening Peak Proportions\n",
    "  * Section 2.1: Peak Hours\n",
    "  * Section 2.2: Calculating Measures to Compare the AM and PM Peaks\n",
    "3. Section 3: Distributions of Peak Exits \n",
    "  * Section 3.1: Distributions and Summary Statistics\n",
    "  * Section 3.2: Analysis of Distributions\n",
    "  * Section 3.3: Exploring Stations Groups\n",
    "4. Section 4: Classification of Stations\n",
    "  * Section 4.1: Implementing a Simple Classification\n",
    "  * Section 4.2: Evaluation using Sample Stations\n",
    "  * Section 4.3: Searching for Thresholds to Balance AM and PM Peak Exits\n",
    "  * Section 4.4: Conclusions"
   ]
  },
  {
   "cell_type": "code",
   "execution_count": 1,
   "metadata": {},
   "outputs": [],
   "source": [
    "import numpy as np\n",
    "import pandas as pd\n",
    "import matplotlib.pyplot as plt\n",
    "%matplotlib inline"
   ]
  },
  {
   "cell_type": "markdown",
   "metadata": {},
   "source": [
    "## Section 1: Introduction\n",
    "This notebook presents an analysis of the 2017 London Underground exits data, which shows the number of exits every hour (from 5am up to 2am the following morning) for all stations on the underground network. The aim of the analysis is to compare the patterns of exits in the morning and evening in different stations and see if these difference can be used to classify stations.\n",
    "\n",
    "### Section 1.1: Outline\n",
    "Section 2 loads the data and derives variables to measure the difference between the morning and evening peaks. Section 3 plots distributions of the measures so that the relationship between the measures and the stations uses can be understood. In Section 4, we apply this to create a simple rule to classify stations as *work*, *residential* or *other*. We evaluate this classification rule with a few example stations.\n",
    "\n",
    "### Section 1.2: Loading the Data\n",
    "The data is loaded from a CSV file. The station name is used as an index rather than a variable in the data set. "
   ]
  },
  {
   "cell_type": "code",
   "execution_count": 2,
   "metadata": {},
   "outputs": [
    {
     "data": {
      "text/html": [
       "<div>\n",
       "<style scoped>\n",
       "    .dataframe tbody tr th:only-of-type {\n",
       "        vertical-align: middle;\n",
       "    }\n",
       "\n",
       "    .dataframe tbody tr th {\n",
       "        vertical-align: top;\n",
       "    }\n",
       "\n",
       "    .dataframe thead th {\n",
       "        text-align: right;\n",
       "    }\n",
       "</style>\n",
       "<table border=\"1\" class=\"dataframe\">\n",
       "  <thead>\n",
       "    <tr style=\"text-align: right;\">\n",
       "      <th></th>\n",
       "      <th>H05</th>\n",
       "      <th>H06</th>\n",
       "      <th>H07</th>\n",
       "      <th>H08</th>\n",
       "      <th>H09</th>\n",
       "      <th>H10</th>\n",
       "      <th>H11</th>\n",
       "      <th>H12</th>\n",
       "      <th>H13</th>\n",
       "      <th>H14</th>\n",
       "      <th>...</th>\n",
       "      <th>H16</th>\n",
       "      <th>H17</th>\n",
       "      <th>H18</th>\n",
       "      <th>H19</th>\n",
       "      <th>H20</th>\n",
       "      <th>H21</th>\n",
       "      <th>H22</th>\n",
       "      <th>H23</th>\n",
       "      <th>H00</th>\n",
       "      <th>H01</th>\n",
       "    </tr>\n",
       "    <tr>\n",
       "      <th>Station</th>\n",
       "      <th></th>\n",
       "      <th></th>\n",
       "      <th></th>\n",
       "      <th></th>\n",
       "      <th></th>\n",
       "      <th></th>\n",
       "      <th></th>\n",
       "      <th></th>\n",
       "      <th></th>\n",
       "      <th></th>\n",
       "      <th></th>\n",
       "      <th></th>\n",
       "      <th></th>\n",
       "      <th></th>\n",
       "      <th></th>\n",
       "      <th></th>\n",
       "      <th></th>\n",
       "      <th></th>\n",
       "      <th></th>\n",
       "      <th></th>\n",
       "      <th></th>\n",
       "    </tr>\n",
       "  </thead>\n",
       "  <tbody>\n",
       "    <tr>\n",
       "      <th>Acton Town</th>\n",
       "      <td>30</td>\n",
       "      <td>208</td>\n",
       "      <td>710</td>\n",
       "      <td>812</td>\n",
       "      <td>448</td>\n",
       "      <td>231</td>\n",
       "      <td>221</td>\n",
       "      <td>259</td>\n",
       "      <td>301</td>\n",
       "      <td>327</td>\n",
       "      <td>...</td>\n",
       "      <td>634</td>\n",
       "      <td>917</td>\n",
       "      <td>1077</td>\n",
       "      <td>793</td>\n",
       "      <td>505</td>\n",
       "      <td>424</td>\n",
       "      <td>424</td>\n",
       "      <td>366</td>\n",
       "      <td>210</td>\n",
       "      <td>54</td>\n",
       "    </tr>\n",
       "    <tr>\n",
       "      <th>Aldgate</th>\n",
       "      <td>36</td>\n",
       "      <td>301</td>\n",
       "      <td>1319</td>\n",
       "      <td>3076</td>\n",
       "      <td>3013</td>\n",
       "      <td>1037</td>\n",
       "      <td>587</td>\n",
       "      <td>554</td>\n",
       "      <td>559</td>\n",
       "      <td>514</td>\n",
       "      <td>...</td>\n",
       "      <td>721</td>\n",
       "      <td>1116</td>\n",
       "      <td>1155</td>\n",
       "      <td>566</td>\n",
       "      <td>331</td>\n",
       "      <td>260</td>\n",
       "      <td>237</td>\n",
       "      <td>171</td>\n",
       "      <td>58</td>\n",
       "      <td>0</td>\n",
       "    </tr>\n",
       "    <tr>\n",
       "      <th>Aldgate East</th>\n",
       "      <td>50</td>\n",
       "      <td>324</td>\n",
       "      <td>1192</td>\n",
       "      <td>3045</td>\n",
       "      <td>3381</td>\n",
       "      <td>1340</td>\n",
       "      <td>897</td>\n",
       "      <td>920</td>\n",
       "      <td>919</td>\n",
       "      <td>866</td>\n",
       "      <td>...</td>\n",
       "      <td>935</td>\n",
       "      <td>1263</td>\n",
       "      <td>1605</td>\n",
       "      <td>1127</td>\n",
       "      <td>708</td>\n",
       "      <td>560</td>\n",
       "      <td>532</td>\n",
       "      <td>457</td>\n",
       "      <td>239</td>\n",
       "      <td>26</td>\n",
       "    </tr>\n",
       "    <tr>\n",
       "      <th>Alperton</th>\n",
       "      <td>16</td>\n",
       "      <td>101</td>\n",
       "      <td>230</td>\n",
       "      <td>372</td>\n",
       "      <td>254</td>\n",
       "      <td>149</td>\n",
       "      <td>137</td>\n",
       "      <td>152</td>\n",
       "      <td>176</td>\n",
       "      <td>205</td>\n",
       "      <td>...</td>\n",
       "      <td>444</td>\n",
       "      <td>679</td>\n",
       "      <td>724</td>\n",
       "      <td>424</td>\n",
       "      <td>222</td>\n",
       "      <td>161</td>\n",
       "      <td>143</td>\n",
       "      <td>146</td>\n",
       "      <td>72</td>\n",
       "      <td>6</td>\n",
       "    </tr>\n",
       "    <tr>\n",
       "      <th>Amersham</th>\n",
       "      <td>3</td>\n",
       "      <td>18</td>\n",
       "      <td>82</td>\n",
       "      <td>246</td>\n",
       "      <td>96</td>\n",
       "      <td>56</td>\n",
       "      <td>48</td>\n",
       "      <td>62</td>\n",
       "      <td>75</td>\n",
       "      <td>94</td>\n",
       "      <td>...</td>\n",
       "      <td>364</td>\n",
       "      <td>409</td>\n",
       "      <td>692</td>\n",
       "      <td>540</td>\n",
       "      <td>287</td>\n",
       "      <td>182</td>\n",
       "      <td>154</td>\n",
       "      <td>175</td>\n",
       "      <td>99</td>\n",
       "      <td>6</td>\n",
       "    </tr>\n",
       "  </tbody>\n",
       "</table>\n",
       "<p>5 rows × 21 columns</p>\n",
       "</div>"
      ],
      "text/plain": [
       "              H05  H06   H07   H08   H09   H10  H11  H12  H13  H14  ...  H16  \\\n",
       "Station                                                             ...        \n",
       "Acton Town     30  208   710   812   448   231  221  259  301  327  ...  634   \n",
       "Aldgate        36  301  1319  3076  3013  1037  587  554  559  514  ...  721   \n",
       "Aldgate East   50  324  1192  3045  3381  1340  897  920  919  866  ...  935   \n",
       "Alperton       16  101   230   372   254   149  137  152  176  205  ...  444   \n",
       "Amersham        3   18    82   246    96    56   48   62   75   94  ...  364   \n",
       "\n",
       "               H17   H18   H19  H20  H21  H22  H23  H00  H01  \n",
       "Station                                                       \n",
       "Acton Town     917  1077   793  505  424  424  366  210   54  \n",
       "Aldgate       1116  1155   566  331  260  237  171   58    0  \n",
       "Aldgate East  1263  1605  1127  708  560  532  457  239   26  \n",
       "Alperton       679   724   424  222  161  143  146   72    6  \n",
       "Amersham       409   692   540  287  182  154  175   99    6  \n",
       "\n",
       "[5 rows x 21 columns]"
      ]
     },
     "execution_count": 2,
     "metadata": {},
     "output_type": "execute_result"
    }
   ],
   "source": [
    "exits = pd.read_csv('hourlyExits.csv',index_col='Station')\n",
    "exits.iloc[0:5]"
   ]
  },
  {
   "cell_type": "markdown",
   "metadata": {},
   "source": [
    "## Section 2: Morning and Evening Peak Proportions\n",
    "In this section we derive variables that can be used to compare the peak exits at different stations. \n",
    "\n",
    "### Section 2.1: Peak Hours\n",
    "The following 6 periods are commonly distinguished in the management of the London Underground. \n",
    "\n",
    "| Period      | Hours Included | \n",
    "|:----------- |:---------------- | \n",
    "|  Early      | H05, H06      | \n",
    "|  AMPeak     | H07, H08, H09 | \n",
    "|  Interpeak  | H10, H11, H12, H13, H14, H15 | \n",
    "|  PMPeak     | H16, H17, H18 | \n",
    "|  Evening    | H19, H20, H21 | \n",
    "|  Late       | H22, H23, H00, H01 | \n",
    "\n",
    "We will focus on only the morning and evening peaks. \n"
   ]
  },
  {
   "cell_type": "markdown",
   "metadata": {},
   "source": [
    "### Section 2.2: Calculating Measures to Compare the AM and PM Peaks\n",
    "We derive a new data set with three groups of new variables to compare the AM and PM peaks at difference stations. The first group contains counts:\n",
    "  *  `Total` is the total daily count of exits from the station\n",
    "  * `AMCount` is the count of exits during the three hours of the AM peak \n",
    "  * `PMCount` is the count of exits during the three hours of the PM peak \n",
    "\n",
    "The second group divides the peak hours counts by the daily totals:\n",
    "  * `AMProp` is the `AMCount` divided by the `Total` \n",
    "  * `PMProp` is the `PMCount` divided by the `Total`\n",
    "  \n",
    "The final group has two measures of the difference between the AM and PM peaks:\n",
    "  * `AMlessPM`: shows the AM proportion minus the PM proportion\n",
    "  * `AMoverPM`: shows the ratio of the two proportions, AM divided by PM (this is equal to theratio of the counts)."
   ]
  },
  {
   "cell_type": "code",
   "execution_count": 3,
   "metadata": {},
   "outputs": [
    {
     "data": {
      "text/html": [
       "<div>\n",
       "<style scoped>\n",
       "    .dataframe tbody tr th:only-of-type {\n",
       "        vertical-align: middle;\n",
       "    }\n",
       "\n",
       "    .dataframe tbody tr th {\n",
       "        vertical-align: top;\n",
       "    }\n",
       "\n",
       "    .dataframe thead th {\n",
       "        text-align: right;\n",
       "    }\n",
       "</style>\n",
       "<table border=\"1\" class=\"dataframe\">\n",
       "  <thead>\n",
       "    <tr style=\"text-align: right;\">\n",
       "      <th></th>\n",
       "      <th>Total</th>\n",
       "      <th>AMCount</th>\n",
       "      <th>PMCount</th>\n",
       "      <th>AMProp</th>\n",
       "      <th>PMProp</th>\n",
       "      <th>AMlessPM</th>\n",
       "      <th>AMoverPM</th>\n",
       "    </tr>\n",
       "    <tr>\n",
       "      <th>Station</th>\n",
       "      <th></th>\n",
       "      <th></th>\n",
       "      <th></th>\n",
       "      <th></th>\n",
       "      <th></th>\n",
       "      <th></th>\n",
       "      <th></th>\n",
       "    </tr>\n",
       "  </thead>\n",
       "  <tbody>\n",
       "    <tr>\n",
       "      <th>Acton Town</th>\n",
       "      <td>9362</td>\n",
       "      <td>1970</td>\n",
       "      <td>2628</td>\n",
       "      <td>0.210425</td>\n",
       "      <td>0.280709</td>\n",
       "      <td>-0.070284</td>\n",
       "      <td>0.749619</td>\n",
       "    </tr>\n",
       "    <tr>\n",
       "      <th>Aldgate</th>\n",
       "      <td>16136</td>\n",
       "      <td>7408</td>\n",
       "      <td>2992</td>\n",
       "      <td>0.459098</td>\n",
       "      <td>0.185424</td>\n",
       "      <td>0.273674</td>\n",
       "      <td>2.475936</td>\n",
       "    </tr>\n",
       "    <tr>\n",
       "      <th>Aldgate East</th>\n",
       "      <td>21206</td>\n",
       "      <td>7618</td>\n",
       "      <td>3803</td>\n",
       "      <td>0.359238</td>\n",
       "      <td>0.179336</td>\n",
       "      <td>0.179902</td>\n",
       "      <td>2.003155</td>\n",
       "    </tr>\n",
       "    <tr>\n",
       "      <th>Alperton</th>\n",
       "      <td>5118</td>\n",
       "      <td>856</td>\n",
       "      <td>1847</td>\n",
       "      <td>0.167253</td>\n",
       "      <td>0.360883</td>\n",
       "      <td>-0.193630</td>\n",
       "      <td>0.463454</td>\n",
       "    </tr>\n",
       "    <tr>\n",
       "      <th>Amersham</th>\n",
       "      <td>3905</td>\n",
       "      <td>424</td>\n",
       "      <td>1465</td>\n",
       "      <td>0.108579</td>\n",
       "      <td>0.375160</td>\n",
       "      <td>-0.266581</td>\n",
       "      <td>0.289420</td>\n",
       "    </tr>\n",
       "  </tbody>\n",
       "</table>\n",
       "</div>"
      ],
      "text/plain": [
       "              Total  AMCount  PMCount    AMProp    PMProp  AMlessPM  AMoverPM\n",
       "Station                                                                      \n",
       "Acton Town     9362     1970     2628  0.210425  0.280709 -0.070284  0.749619\n",
       "Aldgate       16136     7408     2992  0.459098  0.185424  0.273674  2.475936\n",
       "Aldgate East  21206     7618     3803  0.359238  0.179336  0.179902  2.003155\n",
       "Alperton       5118      856     1847  0.167253  0.360883 -0.193630  0.463454\n",
       "Amersham       3905      424     1465  0.108579  0.375160 -0.266581  0.289420"
      ]
     },
     "execution_count": 3,
     "metadata": {},
     "output_type": "execute_result"
    }
   ],
   "source": [
    "peak_counts = pd.DataFrame().assign(Total = exits.apply(sum, axis=1),\n",
    "                                    AMCount = exits.H07 + exits.H08 + exits.H09,\n",
    "                                    PMCount = exits.H16 + exits.H17 + exits.H18)\n",
    "\n",
    "peak_counts = peak_counts.assign(AMProp = peak_counts.AMCount / peak_counts.Total,\n",
    "                                 PMProp = peak_counts.PMCount/ peak_counts.Total)\n",
    "\n",
    "peak_counts = peak_counts.assign(AMlessPM = peak_counts.AMProp - peak_counts.PMProp,\n",
    "                                 AMoverPM = peak_counts.AMProp / peak_counts.PMProp)\n",
    "peak_counts.iloc[0:5]"
   ]
  },
  {
   "cell_type": "markdown",
   "metadata": {},
   "source": [
    "## Section 3: Distributions of Peak Exits\n",
    "In this section, we inspect plots comparing the AM and PM peaks, so that we can understand how stations vary.\n",
    "\n",
    "\n",
    "### Section 3.1: Distributions and Summary Statistics\n",
    "We compare the AM and PM peak counts using a scatter plot. *[This was **not asked for**.]* Since the distributions are highly skewed we plot the log of both the counts. Superimposed on the scatter, we show the line of equal exit counts in the AM and PM peaks. "
   ]
  },
  {
   "cell_type": "code",
   "execution_count": 4,
   "metadata": {},
   "outputs": [
    {
     "data": {
      "image/png": "[encoded data removed]",
      "text/plain": [
       "<Figure size 720x720 with 1 Axes>"
      ]
     },
     "metadata": {
      "needs_background": "light"
     },
     "output_type": "display_data"
    }
   ],
   "source": [
    "fig, ax = plt.subplots(figsize=(10,10))\n",
    "peak_counts.plot(kind='scatter', x='AMCount', y='PMCount', ax=ax, logx=True, logy=True)\n",
    "ax.plot([100, 90000], [100,90000], 'k-', color = 'r')\n",
    "_ = ax.set_title('Comparison of Exits in the AM Peak and PM Peak \\n(Red line is equal numbers)')\n",
    "_ = ax.set_xlabel('Exits in the AM Peak')\n",
    "_ = ax.set_ylabel('Exits in the PM Peak')\n"
   ]
  },
  {
   "cell_type": "markdown",
   "metadata": {},
   "source": [
    "This scatter plot shows that:\n",
    "  1. The range of the counts is very wide, spanning from close to 100,000 down to a few hundreds. The AM and PM peaks counts are generally correlated, with busy stations (presumably in the centre of the city) at the top right of the plot and much less busy stations plotted near the bottom left.\n",
    "  2. There are more stations above the red line (which shows equal AM and PM exits). These stations have more exits in the evening than in morning.\n",
    "  3. The ratio of the two counts reaches approximately a factor of 10, in both directions. \n",
    "\n",
    "**Distributions**\n",
    "Next we show the distributions of the peak count proportions and the comparison measures."
   ]
  },
  {
   "cell_type": "code",
   "execution_count": 5,
   "metadata": {},
   "outputs": [
    {
     "data": {
      "text/plain": [
       "Text(0.5, 1.0, 'AM Peak Exits / PM Peak Exits')"
      ]
     },
     "execution_count": 5,
     "metadata": {},
     "output_type": "execute_result"
    },
    {
     "data": {
      "image/png": "[encoded data removed]",
      "text/plain": [
       "<Figure size 1008x720 with 4 Axes>"
      ]
     },
     "metadata": {
      "needs_background": "light"
     },
     "output_type": "display_data"
    }
   ],
   "source": [
    "fig, ((a1,a2),(a3,a4)) = plt.subplots(2,2, figsize=(14,10))\n",
    "peak_counts.hist(column='AMProp', ax=a1)\n",
    "a1.set_title('AM Peak Exits / Total Daily Exits')\n",
    "peak_counts.hist(column='PMProp', ax=a2)\n",
    "a2.set_title('PM Peak Exits / Total Daily Exits')\n",
    "peak_counts.hist(column='AMlessPM', ax=a3)\n",
    "a3.set_title('AM Peak Exits - PM Peak Exits')\n",
    "peak_counts.hist(column='AMoverPM', ax=a4)\n",
    "a4.set_title('AM Peak Exits / PM Peak Exits')\n"
   ]
  },
  {
   "cell_type": "markdown",
   "metadata": {},
   "source": [
    "The distribution of the ratio of AM peak exists to PM peak exits is very skewed. This is to be expected since a factor of 10 gives a ratio of 10 if the AM peak is larger or 0.1 if the PM peak is larger. To show the ratio more clearly, we add a variable to the data set that is the log of the ratio (equal to the difference between the log counts). The plot below shows the distribution of this variable, together with the distribution of the original ratio."
   ]
  },
  {
   "cell_type": "code",
   "execution_count": 6,
   "metadata": {},
   "outputs": [
    {
     "data": {
      "image/png": "[encoded data removed]",
      "text/plain": [
       "<Figure size 1008x360 with 2 Axes>"
      ]
     },
     "metadata": {
      "needs_background": "light"
     },
     "output_type": "display_data"
    }
   ],
   "source": [
    "peak_counts = peak_counts.assign(AMoverPM_log = np.log10(peak_counts.AMProp / peak_counts.PMProp))\n",
    "fig, (a1,a2) = plt.subplots(1, 2, figsize=(14,5))\n",
    "peak_counts.hist(column='AMoverPM_log', ax=a1)\n",
    "_ = a1.set_title('$log_{10}$ of (AM Peak Exits / PM Peak Exits)')\n",
    "peak_counts.hist(column='AMoverPM', ax=a2)\n",
    "_ = a2.set_title('AM Peak Exits / PM Peak Exits')"
   ]
  },
  {
   "cell_type": "markdown",
   "metadata": {},
   "source": [
    "Finally, we show the summary statistics of the data."
   ]
  },
  {
   "cell_type": "code",
   "execution_count": 7,
   "metadata": {},
   "outputs": [
    {
     "data": {
      "text/html": [
       "<div>\n",
       "<style scoped>\n",
       "    .dataframe tbody tr th:only-of-type {\n",
       "        vertical-align: middle;\n",
       "    }\n",
       "\n",
       "    .dataframe tbody tr th {\n",
       "        vertical-align: top;\n",
       "    }\n",
       "\n",
       "    .dataframe thead th {\n",
       "        text-align: right;\n",
       "    }\n",
       "</style>\n",
       "<table border=\"1\" class=\"dataframe\">\n",
       "  <thead>\n",
       "    <tr style=\"text-align: right;\">\n",
       "      <th></th>\n",
       "      <th>Total</th>\n",
       "      <th>AMCount</th>\n",
       "      <th>PMCount</th>\n",
       "      <th>AMProp</th>\n",
       "      <th>PMProp</th>\n",
       "      <th>AMlessPM</th>\n",
       "      <th>AMoverPM</th>\n",
       "      <th>AMoverPM_log</th>\n",
       "    </tr>\n",
       "  </thead>\n",
       "  <tbody>\n",
       "    <tr>\n",
       "      <th>count</th>\n",
       "      <td>268.000000</td>\n",
       "      <td>268.000000</td>\n",
       "      <td>268.000000</td>\n",
       "      <td>268.000000</td>\n",
       "      <td>268.000000</td>\n",
       "      <td>268.000000</td>\n",
       "      <td>268.000000</td>\n",
       "      <td>268.000000</td>\n",
       "    </tr>\n",
       "    <tr>\n",
       "      <th>mean</th>\n",
       "      <td>17194.477612</td>\n",
       "      <td>4549.768657</td>\n",
       "      <td>4477.555970</td>\n",
       "      <td>0.207132</td>\n",
       "      <td>0.298750</td>\n",
       "      <td>-0.091618</td>\n",
       "      <td>0.966229</td>\n",
       "      <td>-0.205318</td>\n",
       "    </tr>\n",
       "    <tr>\n",
       "      <th>std</th>\n",
       "      <td>23480.190142</td>\n",
       "      <td>8181.784059</td>\n",
       "      <td>6276.463316</td>\n",
       "      <td>0.122161</td>\n",
       "      <td>0.087724</td>\n",
       "      <td>0.203932</td>\n",
       "      <td>1.148915</td>\n",
       "      <td>0.384672</td>\n",
       "    </tr>\n",
       "    <tr>\n",
       "      <th>min</th>\n",
       "      <td>596.000000</td>\n",
       "      <td>27.000000</td>\n",
       "      <td>239.000000</td>\n",
       "      <td>0.045302</td>\n",
       "      <td>0.084630</td>\n",
       "      <td>-0.440373</td>\n",
       "      <td>0.108634</td>\n",
       "      <td>-0.964034</td>\n",
       "    </tr>\n",
       "    <tr>\n",
       "      <th>25%</th>\n",
       "      <td>4889.500000</td>\n",
       "      <td>677.500000</td>\n",
       "      <td>1471.750000</td>\n",
       "      <td>0.116120</td>\n",
       "      <td>0.240947</td>\n",
       "      <td>-0.242542</td>\n",
       "      <td>0.327530</td>\n",
       "      <td>-0.484749</td>\n",
       "    </tr>\n",
       "    <tr>\n",
       "      <th>50%</th>\n",
       "      <td>9210.000000</td>\n",
       "      <td>1517.000000</td>\n",
       "      <td>2622.000000</td>\n",
       "      <td>0.169378</td>\n",
       "      <td>0.307397</td>\n",
       "      <td>-0.139068</td>\n",
       "      <td>0.555720</td>\n",
       "      <td>-0.255144</td>\n",
       "    </tr>\n",
       "    <tr>\n",
       "      <th>75%</th>\n",
       "      <td>19999.500000</td>\n",
       "      <td>4315.250000</td>\n",
       "      <td>4707.750000</td>\n",
       "      <td>0.266443</td>\n",
       "      <td>0.361596</td>\n",
       "      <td>0.014010</td>\n",
       "      <td>1.050702</td>\n",
       "      <td>0.021466</td>\n",
       "    </tr>\n",
       "    <tr>\n",
       "      <th>max</th>\n",
       "      <td>149258.000000</td>\n",
       "      <td>61116.000000</td>\n",
       "      <td>59486.000000</td>\n",
       "      <td>0.630427</td>\n",
       "      <td>0.496079</td>\n",
       "      <td>0.539649</td>\n",
       "      <td>7.325050</td>\n",
       "      <td>0.864811</td>\n",
       "    </tr>\n",
       "  </tbody>\n",
       "</table>\n",
       "</div>"
      ],
      "text/plain": [
       "               Total       AMCount       PMCount      AMProp      PMProp  \\\n",
       "count     268.000000    268.000000    268.000000  268.000000  268.000000   \n",
       "mean    17194.477612   4549.768657   4477.555970    0.207132    0.298750   \n",
       "std     23480.190142   8181.784059   6276.463316    0.122161    0.087724   \n",
       "min       596.000000     27.000000    239.000000    0.045302    0.084630   \n",
       "25%      4889.500000    677.500000   1471.750000    0.116120    0.240947   \n",
       "50%      9210.000000   1517.000000   2622.000000    0.169378    0.307397   \n",
       "75%     19999.500000   4315.250000   4707.750000    0.266443    0.361596   \n",
       "max    149258.000000  61116.000000  59486.000000    0.630427    0.496079   \n",
       "\n",
       "         AMlessPM    AMoverPM  AMoverPM_log  \n",
       "count  268.000000  268.000000    268.000000  \n",
       "mean    -0.091618    0.966229     -0.205318  \n",
       "std      0.203932    1.148915      0.384672  \n",
       "min     -0.440373    0.108634     -0.964034  \n",
       "25%     -0.242542    0.327530     -0.484749  \n",
       "50%     -0.139068    0.555720     -0.255144  \n",
       "75%      0.014010    1.050702      0.021466  \n",
       "max      0.539649    7.325050      0.864811  "
      ]
     },
     "execution_count": 7,
     "metadata": {},
     "output_type": "execute_result"
    }
   ],
   "source": [
    "peak_counts.describe()"
   ]
  },
  {
   "cell_type": "markdown",
   "metadata": {},
   "source": [
    "### Section 3.2: Analysis of Distributions\n",
    "\n",
    "1. The AM proportion ranges between (less than) 10% and 60% with a positive skew. The median is 17% and the 75th percentile is 27%, so for most stations the proportion of exits in the AM peak is quite low. This can be explained as the underground system has many stations at the edge (spokes) and fewer in the centre (hubs).\n",
    "2. The PM proportion, which ranges from 10% to 50% is more symmetrical. The median is 31%, with a possible negative skew (but not a long tail). Comparing this with the AM peak, we see that most stations have a PM peak proportion than is greater than their AM peak proportion. Again, this fits the explanation that the underground has more stations near the edge of the network and fewer in the centre and Londoners travel into the centre in the morning and return in the evening. However, a difficulty with the interpretation of this data is that the PM (or AM) proportion is reduced both by fewer exits in the PM (or AM) peak and also by greater use outside either of the peaks.   \n",
    "3. The difference in proportions has a median of -14% with a positive skew. Again, this shows that more stations have a greater proportion of exits in the PM peak. \n",
    "\n",
    "We interpret the stations with a greater proportion of exits in the PM peak as *residential*: place from which people (daily commuters) travel to work else where. Correspondingly, the places with a greater proportion of AM exits are likely to be *work* locations. There are fewer work locations, though the stations tend to be busier. \n"
   ]
  },
  {
   "cell_type": "markdown",
   "metadata": {},
   "source": [
    "### Section 3.3: Exploring Groups of Stations\n",
    "We can look at some of the stations with particular ranges of the difference.\n",
    "\n",
    "**Most negative difference** Those with the most negative difference (PM exit proportion greatly exceeds AM proportion) include some stations that are at or near the end of the line."
   ]
  },
  {
   "cell_type": "code",
   "execution_count": 8,
   "metadata": {},
   "outputs": [
    {
     "data": {
      "text/html": [
       "<div>\n",
       "<style scoped>\n",
       "    .dataframe tbody tr th:only-of-type {\n",
       "        vertical-align: middle;\n",
       "    }\n",
       "\n",
       "    .dataframe tbody tr th {\n",
       "        vertical-align: top;\n",
       "    }\n",
       "\n",
       "    .dataframe thead th {\n",
       "        text-align: right;\n",
       "    }\n",
       "</style>\n",
       "<table border=\"1\" class=\"dataframe\">\n",
       "  <thead>\n",
       "    <tr style=\"text-align: right;\">\n",
       "      <th></th>\n",
       "      <th>Total</th>\n",
       "      <th>AMCount</th>\n",
       "      <th>PMCount</th>\n",
       "      <th>AMProp</th>\n",
       "      <th>PMProp</th>\n",
       "      <th>AMlessPM</th>\n",
       "      <th>AMoverPM</th>\n",
       "      <th>AMoverPM_log</th>\n",
       "    </tr>\n",
       "    <tr>\n",
       "      <th>Station</th>\n",
       "      <th></th>\n",
       "      <th></th>\n",
       "      <th></th>\n",
       "      <th></th>\n",
       "      <th></th>\n",
       "      <th></th>\n",
       "      <th></th>\n",
       "      <th></th>\n",
       "    </tr>\n",
       "  </thead>\n",
       "  <tbody>\n",
       "    <tr>\n",
       "      <th>Elm Park</th>\n",
       "      <td>5186</td>\n",
       "      <td>268</td>\n",
       "      <td>2467</td>\n",
       "      <td>0.051678</td>\n",
       "      <td>0.475704</td>\n",
       "      <td>-0.424026</td>\n",
       "      <td>0.108634</td>\n",
       "      <td>-0.964034</td>\n",
       "    </tr>\n",
       "    <tr>\n",
       "      <th>Grange Hill</th>\n",
       "      <td>1085</td>\n",
       "      <td>80</td>\n",
       "      <td>510</td>\n",
       "      <td>0.073733</td>\n",
       "      <td>0.470046</td>\n",
       "      <td>-0.396313</td>\n",
       "      <td>0.156863</td>\n",
       "      <td>-0.804480</td>\n",
       "    </tr>\n",
       "    <tr>\n",
       "      <th>Queensbury</th>\n",
       "      <td>7396</td>\n",
       "      <td>412</td>\n",
       "      <td>3669</td>\n",
       "      <td>0.055706</td>\n",
       "      <td>0.496079</td>\n",
       "      <td>-0.440373</td>\n",
       "      <td>0.112292</td>\n",
       "      <td>-0.949650</td>\n",
       "    </tr>\n",
       "    <tr>\n",
       "      <th>Upminster</th>\n",
       "      <td>9688</td>\n",
       "      <td>880</td>\n",
       "      <td>4647</td>\n",
       "      <td>0.090834</td>\n",
       "      <td>0.479666</td>\n",
       "      <td>-0.388832</td>\n",
       "      <td>0.189369</td>\n",
       "      <td>-0.722690</td>\n",
       "    </tr>\n",
       "  </tbody>\n",
       "</table>\n",
       "</div>"
      ],
      "text/plain": [
       "             Total  AMCount  PMCount    AMProp    PMProp  AMlessPM  AMoverPM  \\\n",
       "Station                                                                        \n",
       "Elm Park      5186      268     2467  0.051678  0.475704 -0.424026  0.108634   \n",
       "Grange Hill   1085       80      510  0.073733  0.470046 -0.396313  0.156863   \n",
       "Queensbury    7396      412     3669  0.055706  0.496079 -0.440373  0.112292   \n",
       "Upminster     9688      880     4647  0.090834  0.479666 -0.388832  0.189369   \n",
       "\n",
       "             AMoverPM_log  \n",
       "Station                    \n",
       "Elm Park        -0.964034  \n",
       "Grange Hill     -0.804480  \n",
       "Queensbury      -0.949650  \n",
       "Upminster       -0.722690  "
      ]
     },
     "execution_count": 8,
     "metadata": {},
     "output_type": "execute_result"
    }
   ],
   "source": [
    "peak_counts.loc[peak_counts.AMlessPM < -0.38]"
   ]
  },
  {
   "cell_type": "markdown",
   "metadata": {},
   "source": [
    "**Most Positive Difference** 2. Those with the most positive difference (PM exit proportion much less than the AM proportion) include stations in the centre of London."
   ]
  },
  {
   "cell_type": "code",
   "execution_count": 9,
   "metadata": {},
   "outputs": [
    {
     "data": {
      "text/html": [
       "<div>\n",
       "<style scoped>\n",
       "    .dataframe tbody tr th:only-of-type {\n",
       "        vertical-align: middle;\n",
       "    }\n",
       "\n",
       "    .dataframe tbody tr th {\n",
       "        vertical-align: top;\n",
       "    }\n",
       "\n",
       "    .dataframe thead th {\n",
       "        text-align: right;\n",
       "    }\n",
       "</style>\n",
       "<table border=\"1\" class=\"dataframe\">\n",
       "  <thead>\n",
       "    <tr style=\"text-align: right;\">\n",
       "      <th></th>\n",
       "      <th>Total</th>\n",
       "      <th>AMCount</th>\n",
       "      <th>PMCount</th>\n",
       "      <th>AMProp</th>\n",
       "      <th>PMProp</th>\n",
       "      <th>AMlessPM</th>\n",
       "      <th>AMoverPM</th>\n",
       "      <th>AMoverPM_log</th>\n",
       "    </tr>\n",
       "    <tr>\n",
       "      <th>Station</th>\n",
       "      <th></th>\n",
       "      <th></th>\n",
       "      <th></th>\n",
       "      <th></th>\n",
       "      <th></th>\n",
       "      <th></th>\n",
       "      <th></th>\n",
       "      <th></th>\n",
       "    </tr>\n",
       "  </thead>\n",
       "  <tbody>\n",
       "    <tr>\n",
       "      <th>Canary Wharf</th>\n",
       "      <td>87240</td>\n",
       "      <td>49620</td>\n",
       "      <td>9761</td>\n",
       "      <td>0.568776</td>\n",
       "      <td>0.111887</td>\n",
       "      <td>0.456889</td>\n",
       "      <td>5.083496</td>\n",
       "      <td>0.706162</td>\n",
       "    </tr>\n",
       "    <tr>\n",
       "      <th>Farringdon</th>\n",
       "      <td>37358</td>\n",
       "      <td>22651</td>\n",
       "      <td>3360</td>\n",
       "      <td>0.606323</td>\n",
       "      <td>0.089941</td>\n",
       "      <td>0.516382</td>\n",
       "      <td>6.741369</td>\n",
       "      <td>0.828748</td>\n",
       "    </tr>\n",
       "    <tr>\n",
       "      <th>Mansion House</th>\n",
       "      <td>11887</td>\n",
       "      <td>7369</td>\n",
       "      <td>1006</td>\n",
       "      <td>0.619921</td>\n",
       "      <td>0.084630</td>\n",
       "      <td>0.535291</td>\n",
       "      <td>7.325050</td>\n",
       "      <td>0.864811</td>\n",
       "    </tr>\n",
       "    <tr>\n",
       "      <th>Moorgate</th>\n",
       "      <td>55399</td>\n",
       "      <td>34925</td>\n",
       "      <td>5029</td>\n",
       "      <td>0.630427</td>\n",
       "      <td>0.090778</td>\n",
       "      <td>0.539649</td>\n",
       "      <td>6.944721</td>\n",
       "      <td>0.841655</td>\n",
       "    </tr>\n",
       "  </tbody>\n",
       "</table>\n",
       "</div>"
      ],
      "text/plain": [
       "               Total  AMCount  PMCount    AMProp    PMProp  AMlessPM  \\\n",
       "Station                                                                \n",
       "Canary Wharf   87240    49620     9761  0.568776  0.111887  0.456889   \n",
       "Farringdon     37358    22651     3360  0.606323  0.089941  0.516382   \n",
       "Mansion House  11887     7369     1006  0.619921  0.084630  0.535291   \n",
       "Moorgate       55399    34925     5029  0.630427  0.090778  0.539649   \n",
       "\n",
       "               AMoverPM  AMoverPM_log  \n",
       "Station                                \n",
       "Canary Wharf   5.083496      0.706162  \n",
       "Farringdon     6.741369      0.828748  \n",
       "Mansion House  7.325050      0.864811  \n",
       "Moorgate       6.944721      0.841655  "
      ]
     },
     "execution_count": 9,
     "metadata": {},
     "output_type": "execute_result"
    }
   ],
   "source": [
    "peak_counts.loc[peak_counts.AMlessPM > 0.45]"
   ]
  },
  {
   "cell_type": "markdown",
   "metadata": {},
   "source": [
    "**Intermediate** A third group is those close to balance (i.e. close to zero difference). This group is more mixed and there is a less clear pattern. "
   ]
  },
  {
   "cell_type": "code",
   "execution_count": 10,
   "metadata": {},
   "outputs": [
    {
     "data": {
      "text/html": [
       "<div>\n",
       "<style scoped>\n",
       "    .dataframe tbody tr th:only-of-type {\n",
       "        vertical-align: middle;\n",
       "    }\n",
       "\n",
       "    .dataframe tbody tr th {\n",
       "        vertical-align: top;\n",
       "    }\n",
       "\n",
       "    .dataframe thead th {\n",
       "        text-align: right;\n",
       "    }\n",
       "</style>\n",
       "<table border=\"1\" class=\"dataframe\">\n",
       "  <thead>\n",
       "    <tr style=\"text-align: right;\">\n",
       "      <th></th>\n",
       "      <th>Total</th>\n",
       "      <th>AMCount</th>\n",
       "      <th>PMCount</th>\n",
       "      <th>AMProp</th>\n",
       "      <th>PMProp</th>\n",
       "      <th>AMlessPM</th>\n",
       "      <th>AMoverPM</th>\n",
       "      <th>AMoverPM_log</th>\n",
       "    </tr>\n",
       "    <tr>\n",
       "      <th>Station</th>\n",
       "      <th></th>\n",
       "      <th></th>\n",
       "      <th></th>\n",
       "      <th></th>\n",
       "      <th></th>\n",
       "      <th></th>\n",
       "      <th></th>\n",
       "      <th></th>\n",
       "    </tr>\n",
       "  </thead>\n",
       "  <tbody>\n",
       "    <tr>\n",
       "      <th>Fulham Broadway</th>\n",
       "      <td>14841</td>\n",
       "      <td>3747</td>\n",
       "      <td>3701</td>\n",
       "      <td>0.252476</td>\n",
       "      <td>0.249377</td>\n",
       "      <td>0.003100</td>\n",
       "      <td>1.012429</td>\n",
       "      <td>0.005365</td>\n",
       "    </tr>\n",
       "    <tr>\n",
       "      <th>Gloucester Road</th>\n",
       "      <td>20631</td>\n",
       "      <td>4939</td>\n",
       "      <td>4638</td>\n",
       "      <td>0.239397</td>\n",
       "      <td>0.224807</td>\n",
       "      <td>0.014590</td>\n",
       "      <td>1.064899</td>\n",
       "      <td>0.027308</td>\n",
       "    </tr>\n",
       "    <tr>\n",
       "      <th>Hampstead</th>\n",
       "      <td>7286</td>\n",
       "      <td>1702</td>\n",
       "      <td>1702</td>\n",
       "      <td>0.233599</td>\n",
       "      <td>0.233599</td>\n",
       "      <td>0.000000</td>\n",
       "      <td>1.000000</td>\n",
       "      <td>0.000000</td>\n",
       "    </tr>\n",
       "    <tr>\n",
       "      <th>Hatton Cross</th>\n",
       "      <td>4685</td>\n",
       "      <td>1155</td>\n",
       "      <td>1133</td>\n",
       "      <td>0.246531</td>\n",
       "      <td>0.241836</td>\n",
       "      <td>0.004696</td>\n",
       "      <td>1.019417</td>\n",
       "      <td>0.008352</td>\n",
       "    </tr>\n",
       "    <tr>\n",
       "      <th>Kensington (Olympia)</th>\n",
       "      <td>1646</td>\n",
       "      <td>247</td>\n",
       "      <td>263</td>\n",
       "      <td>0.150061</td>\n",
       "      <td>0.159781</td>\n",
       "      <td>-0.009721</td>\n",
       "      <td>0.939163</td>\n",
       "      <td>-0.027259</td>\n",
       "    </tr>\n",
       "    <tr>\n",
       "      <th>Kentish Town</th>\n",
       "      <td>13037</td>\n",
       "      <td>3267</td>\n",
       "      <td>3354</td>\n",
       "      <td>0.250594</td>\n",
       "      <td>0.257268</td>\n",
       "      <td>-0.006673</td>\n",
       "      <td>0.974061</td>\n",
       "      <td>-0.011414</td>\n",
       "    </tr>\n",
       "    <tr>\n",
       "      <th>Lambeth North</th>\n",
       "      <td>4898</td>\n",
       "      <td>1106</td>\n",
       "      <td>1065</td>\n",
       "      <td>0.225806</td>\n",
       "      <td>0.217436</td>\n",
       "      <td>0.008371</td>\n",
       "      <td>1.038498</td>\n",
       "      <td>0.016406</td>\n",
       "    </tr>\n",
       "    <tr>\n",
       "      <th>Liverpool Street</th>\n",
       "      <td>111897</td>\n",
       "      <td>35177</td>\n",
       "      <td>33631</td>\n",
       "      <td>0.314369</td>\n",
       "      <td>0.300553</td>\n",
       "      <td>0.013816</td>\n",
       "      <td>1.045969</td>\n",
       "      <td>0.019519</td>\n",
       "    </tr>\n",
       "    <tr>\n",
       "      <th>Moor Park</th>\n",
       "      <td>1584</td>\n",
       "      <td>477</td>\n",
       "      <td>477</td>\n",
       "      <td>0.301136</td>\n",
       "      <td>0.301136</td>\n",
       "      <td>0.000000</td>\n",
       "      <td>1.000000</td>\n",
       "      <td>0.000000</td>\n",
       "    </tr>\n",
       "    <tr>\n",
       "      <th>Tower Hill</th>\n",
       "      <td>33140</td>\n",
       "      <td>9030</td>\n",
       "      <td>9078</td>\n",
       "      <td>0.272480</td>\n",
       "      <td>0.273929</td>\n",
       "      <td>-0.001448</td>\n",
       "      <td>0.994712</td>\n",
       "      <td>-0.002302</td>\n",
       "    </tr>\n",
       "    <tr>\n",
       "      <th>Wood Lane</th>\n",
       "      <td>6610</td>\n",
       "      <td>1798</td>\n",
       "      <td>1766</td>\n",
       "      <td>0.272012</td>\n",
       "      <td>0.267171</td>\n",
       "      <td>0.004841</td>\n",
       "      <td>1.018120</td>\n",
       "      <td>0.007799</td>\n",
       "    </tr>\n",
       "  </tbody>\n",
       "</table>\n",
       "</div>"
      ],
      "text/plain": [
       "                       Total  AMCount  PMCount    AMProp    PMProp  AMlessPM  \\\n",
       "Station                                                                        \n",
       "Fulham Broadway        14841     3747     3701  0.252476  0.249377  0.003100   \n",
       "Gloucester Road        20631     4939     4638  0.239397  0.224807  0.014590   \n",
       "Hampstead               7286     1702     1702  0.233599  0.233599  0.000000   \n",
       "Hatton Cross            4685     1155     1133  0.246531  0.241836  0.004696   \n",
       "Kensington (Olympia)    1646      247      263  0.150061  0.159781 -0.009721   \n",
       "Kentish Town           13037     3267     3354  0.250594  0.257268 -0.006673   \n",
       "Lambeth North           4898     1106     1065  0.225806  0.217436  0.008371   \n",
       "Liverpool Street      111897    35177    33631  0.314369  0.300553  0.013816   \n",
       "Moor Park               1584      477      477  0.301136  0.301136  0.000000   \n",
       "Tower Hill             33140     9030     9078  0.272480  0.273929 -0.001448   \n",
       "Wood Lane               6610     1798     1766  0.272012  0.267171  0.004841   \n",
       "\n",
       "                      AMoverPM  AMoverPM_log  \n",
       "Station                                       \n",
       "Fulham Broadway       1.012429      0.005365  \n",
       "Gloucester Road       1.064899      0.027308  \n",
       "Hampstead             1.000000      0.000000  \n",
       "Hatton Cross          1.019417      0.008352  \n",
       "Kensington (Olympia)  0.939163     -0.027259  \n",
       "Kentish Town          0.974061     -0.011414  \n",
       "Lambeth North         1.038498      0.016406  \n",
       "Liverpool Street      1.045969      0.019519  \n",
       "Moor Park             1.000000      0.000000  \n",
       "Tower Hill            0.994712     -0.002302  \n",
       "Wood Lane             1.018120      0.007799  "
      ]
     },
     "execution_count": 10,
     "metadata": {},
     "output_type": "execute_result"
    }
   ],
   "source": [
    "peak_counts.loc[(peak_counts.AMlessPM > -0.015) & (peak_counts.AMlessPM < 0.015)]"
   ]
  },
  {
   "cell_type": "markdown",
   "metadata": {},
   "source": [
    "## Section 4: Simple Classification of Stations \n",
    "\n",
    "We classify stations into mainly 'work', mainly 'residental' and 'other'. They are defined as follows:\n",
    " * Work: (significantly) higher proportion of exits in the AM peak than in the PM peak\n",
    " * Residential: (significantly) higher proportion of exits in the PM peak than in the AM peak\n",
    " * Other: the proportion of exits in the AM and PM peaks are approximately equal \n"
   ]
  },
  {
   "cell_type": "markdown",
   "metadata": {},
   "source": [
    "### Section 4.1: Implementing a Simple Classification\n",
    "We create a new variable, with values 'Work', 'Residential' and 'Other'. We use thresholds based on the quantiles of the `AMlessPM`:\n",
    "  * The 'residential' classification is given to the stations with the **most negative** AM_PM_diff: less that the 45th percentile. \n",
    "  * The 'work' classification is given to the stations with the **most positive** AM_PM_diff: more than the 75th percentile. \n",
    "\n",
    "The use of the 45th and 75th percentile make the threshold unbalanced; this is based on the argument that there are fewer work locations that living locations. If the proportions are appropriate, we might expect the total number of AM exits in work locations to balance with the total for PM exits in residential locations. "
   ]
  },
  {
   "cell_type": "code",
   "execution_count": 11,
   "metadata": {},
   "outputs": [
    {
     "data": {
      "text/plain": [
       "'lower limit (residential) is -0.186 and upper limit (work) is 0.014'"
      ]
     },
     "execution_count": 11,
     "metadata": {},
     "output_type": "execute_result"
    }
   ],
   "source": [
    "lower_limit = peak_counts.AMlessPM.quantile(0.4)\n",
    "upper_limit = peak_counts.AMlessPM.quantile(0.75)\n",
    "\n",
    "'lower limit (residential) is %3.3f and upper limit (work) is %3.3f' % (lower_limit, upper_limit)"
   ]
  },
  {
   "cell_type": "markdown",
   "metadata": {},
   "source": [
    "We use these thresholds to classify all the stations. Some examples are shown below."
   ]
  },
  {
   "cell_type": "code",
   "execution_count": 12,
   "metadata": {},
   "outputs": [
    {
     "data": {
      "text/html": [
       "<div>\n",
       "<style scoped>\n",
       "    .dataframe tbody tr th:only-of-type {\n",
       "        vertical-align: middle;\n",
       "    }\n",
       "\n",
       "    .dataframe tbody tr th {\n",
       "        vertical-align: top;\n",
       "    }\n",
       "\n",
       "    .dataframe thead th {\n",
       "        text-align: right;\n",
       "    }\n",
       "</style>\n",
       "<table border=\"1\" class=\"dataframe\">\n",
       "  <thead>\n",
       "    <tr style=\"text-align: right;\">\n",
       "      <th></th>\n",
       "      <th>Total</th>\n",
       "      <th>AMCount</th>\n",
       "      <th>PMCount</th>\n",
       "      <th>AMProp</th>\n",
       "      <th>PMProp</th>\n",
       "      <th>AMlessPM</th>\n",
       "      <th>AMoverPM</th>\n",
       "      <th>AMoverPM_log</th>\n",
       "      <th>Location</th>\n",
       "    </tr>\n",
       "    <tr>\n",
       "      <th>Station</th>\n",
       "      <th></th>\n",
       "      <th></th>\n",
       "      <th></th>\n",
       "      <th></th>\n",
       "      <th></th>\n",
       "      <th></th>\n",
       "      <th></th>\n",
       "      <th></th>\n",
       "      <th></th>\n",
       "    </tr>\n",
       "  </thead>\n",
       "  <tbody>\n",
       "    <tr>\n",
       "      <th>Acton Town</th>\n",
       "      <td>9362</td>\n",
       "      <td>1970</td>\n",
       "      <td>2628</td>\n",
       "      <td>0.210425</td>\n",
       "      <td>0.280709</td>\n",
       "      <td>-0.070284</td>\n",
       "      <td>0.749619</td>\n",
       "      <td>-0.125159</td>\n",
       "      <td>Other</td>\n",
       "    </tr>\n",
       "    <tr>\n",
       "      <th>Aldgate</th>\n",
       "      <td>16136</td>\n",
       "      <td>7408</td>\n",
       "      <td>2992</td>\n",
       "      <td>0.459098</td>\n",
       "      <td>0.185424</td>\n",
       "      <td>0.273674</td>\n",
       "      <td>2.475936</td>\n",
       "      <td>0.393739</td>\n",
       "      <td>Work</td>\n",
       "    </tr>\n",
       "    <tr>\n",
       "      <th>Aldgate East</th>\n",
       "      <td>21206</td>\n",
       "      <td>7618</td>\n",
       "      <td>3803</td>\n",
       "      <td>0.359238</td>\n",
       "      <td>0.179336</td>\n",
       "      <td>0.179902</td>\n",
       "      <td>2.003155</td>\n",
       "      <td>0.301715</td>\n",
       "      <td>Work</td>\n",
       "    </tr>\n",
       "    <tr>\n",
       "      <th>Alperton</th>\n",
       "      <td>5118</td>\n",
       "      <td>856</td>\n",
       "      <td>1847</td>\n",
       "      <td>0.167253</td>\n",
       "      <td>0.360883</td>\n",
       "      <td>-0.193630</td>\n",
       "      <td>0.463454</td>\n",
       "      <td>-0.333993</td>\n",
       "      <td>Residential</td>\n",
       "    </tr>\n",
       "    <tr>\n",
       "      <th>Amersham</th>\n",
       "      <td>3905</td>\n",
       "      <td>424</td>\n",
       "      <td>1465</td>\n",
       "      <td>0.108579</td>\n",
       "      <td>0.375160</td>\n",
       "      <td>-0.266581</td>\n",
       "      <td>0.289420</td>\n",
       "      <td>-0.538472</td>\n",
       "      <td>Residential</td>\n",
       "    </tr>\n",
       "  </tbody>\n",
       "</table>\n",
       "</div>"
      ],
      "text/plain": [
       "              Total  AMCount  PMCount    AMProp    PMProp  AMlessPM  AMoverPM  \\\n",
       "Station                                                                         \n",
       "Acton Town     9362     1970     2628  0.210425  0.280709 -0.070284  0.749619   \n",
       "Aldgate       16136     7408     2992  0.459098  0.185424  0.273674  2.475936   \n",
       "Aldgate East  21206     7618     3803  0.359238  0.179336  0.179902  2.003155   \n",
       "Alperton       5118      856     1847  0.167253  0.360883 -0.193630  0.463454   \n",
       "Amersham       3905      424     1465  0.108579  0.375160 -0.266581  0.289420   \n",
       "\n",
       "              AMoverPM_log     Location  \n",
       "Station                                  \n",
       "Acton Town       -0.125159        Other  \n",
       "Aldgate           0.393739         Work  \n",
       "Aldgate East      0.301715         Work  \n",
       "Alperton         -0.333993  Residential  \n",
       "Amersham         -0.538472  Residential  "
      ]
     },
     "execution_count": 12,
     "metadata": {},
     "output_type": "execute_result"
    }
   ],
   "source": [
    "def classify(row):\n",
    "    if row.AMlessPM < lower_limit: return 'Residential'\n",
    "    if row.AMlessPM > upper_limit: return 'Work'\n",
    "    return 'Other'\n",
    "    \n",
    "peak_counts = peak_counts.assign(Location = peak_counts.apply(classify, axis=1))\n",
    "peak_counts.iloc[0:5]"
   ]
  },
  {
   "cell_type": "markdown",
   "metadata": {},
   "source": [
    "**Properties of the Classification: Do Exits Balance?**\n",
    "\n",
    "The peak travellers are commuters. The imaginary commuter goes from a residential location in the morning (so a AM peak exit at a work location) and then home in the evening (so a PM peak exit in a residential location). If this logic applied in full, then we expect the AM peak exit counts in work locations to be close to the PM exits in residential ones.\n",
    "\n",
    "We find that this is not the case. It seems that not everyone who arrives at a work location in the morning peak, returns home in the evening peak."
   ]
  },
  {
   "cell_type": "code",
   "execution_count": 13,
   "metadata": {},
   "outputs": [
    {
     "data": {
      "text/plain": [
       "'Count of AM exits in work locations = 771284'"
      ]
     },
     "execution_count": 13,
     "metadata": {},
     "output_type": "execute_result"
    }
   ],
   "source": [
    "'Count of AM exits in work locations = %i' % peak_counts.loc[peak_counts.Location=='Work'].AMCount.sum()"
   ]
  },
  {
   "cell_type": "code",
   "execution_count": 14,
   "metadata": {},
   "outputs": [
    {
     "data": {
      "text/plain": [
       "'Count of PM exits in residential locations = 413506'"
      ]
     },
     "execution_count": 14,
     "metadata": {},
     "output_type": "execute_result"
    }
   ],
   "source": [
    "'Count of PM exits in residential locations = %i' % peak_counts.loc[peak_counts.Location=='Residential'].PMCount.sum()"
   ]
  },
  {
   "cell_type": "markdown",
   "metadata": {},
   "source": [
    "**Properties of the Classification: Numbers in Each Class**\n",
    "\n",
    "We count the number in each class, showing this superimposed on a revised scatter plot."
   ]
  },
  {
   "cell_type": "code",
   "execution_count": 15,
   "metadata": {},
   "outputs": [
    {
     "data": {
      "image/png": "[encoded data removed]",
      "text/plain": [
       "<Figure size 720x720 with 1 Axes>"
      ]
     },
     "metadata": {
      "needs_background": "light"
     },
     "output_type": "display_data"
    }
   ],
   "source": [
    "def scatterPlot(df): \n",
    "    fig, ax = plt.subplots(figsize=(10,10))\n",
    "    nW = len(df.loc[df.Location=='Work'])\n",
    "    nR = len(df.loc[df.Location=='Residential'])\n",
    "    nO = len(df.loc[df.Location=='Other'])\n",
    "    df.loc[df.Location=='Work'].plot(kind='scatter', x='AMCount', y='PMCount', ax=ax, logx=True, logy=True, color='black', label=('Work (%i)' % nW))\n",
    "    df.loc[df.Location=='Residential'].plot(kind='scatter', x='AMCount', y='PMCount', ax=ax, logx=True, logy=True, color='g', label = ('Residential (%i)' % nR))\n",
    "    df.loc[df.Location=='Other'].plot(kind='scatter', x='AMCount', y='PMCount', ax=ax, logx=True, logy=True, label = 'Other (%i)' % nO)\n",
    "    ax.plot([100, 70000], [100,70000], 'k-', color = 'r')\n",
    "    ax.legend()\n",
    "    _ = ax.set_title('Comparison of Exits in the AM Peak and PM Peak \\n(Red line is equal numbers)')\n",
    "    _ = ax.set_xlabel('Exits in the AM Peak')\n",
    "    _ = ax.set_ylabel('Exits in the PM Peak')\n",
    "\n",
    "scatterPlot(peak_counts)"
   ]
  },
  {
   "cell_type": "markdown",
   "metadata": {},
   "source": [
    "### Section 4.2 Application to the Northern Line Stations\n",
    "Below we show the classification allocated to a selection of Northern Line stations. "
   ]
  },
  {
   "cell_type": "code",
   "execution_count": 16,
   "metadata": {},
   "outputs": [
    {
     "name": "stdout",
     "output_type": "stream",
     "text": [
      "Archway has classification Other\n",
      "Balham has classification Residential\n",
      "Embankment has classification Work\n",
      "Goodge Street has classification Work\n",
      "Highgate has classification Residential\n",
      "High Barnet has classification Residential\n",
      "Leicester Square has classification Other\n",
      "Morden has classification Residential\n",
      "South Wimbledon has classification Other\n",
      "Tottenham Court Road has classification Work\n",
      "Warren Street has classification Work\n"
     ]
    }
   ],
   "source": [
    "stations = ['Archway', 'Balham', 'Embankment', 'Goodge Street', 'Highgate', 'High Barnet',\n",
    "            'Leicester Square', 'Morden', 'South Wimbledon', 'Tottenham Court Road', 'Warren Street']\n",
    "\n",
    "for station in stations:\n",
    "    print(station + ' has classification ' + peak_counts.loc[station,'Location'])"
   ]
  },
  {
   "cell_type": "code",
   "execution_count": 17,
   "metadata": {},
   "outputs": [
    {
     "data": {
      "text/plain": [
       "Station\n",
       "Archway            -0.137496\n",
       "Leicester Square   -0.082957\n",
       "South Wimbledon    -0.119911\n",
       "Name: AMlessPM, dtype: float64"
      ]
     },
     "execution_count": 17,
     "metadata": {},
     "output_type": "execute_result"
    }
   ],
   "source": [
    "peak_counts.loc[['Archway', 'Leicester Square', 'South Wimbledon'],'AMlessPM']"
   ]
  },
  {
   "cell_type": "markdown",
   "metadata": {},
   "source": [
    "**Discussion**\n",
    "\n",
    "Most classifications seem appropriate.\n",
    "* South Wimbledon might be expected to be residential; could college students be an explanation?\n",
    "* All the stations classified as other have more PM exits than AM ones so perhaps the threshold should be moved. The explanation for Leicester Square may be that it is a popular nightlife location."
   ]
  },
  {
   "cell_type": "markdown",
   "metadata": {},
   "source": [
    "### Section 4.3 Finding Thresholds to Balance AM and PM Peak Exits\n",
    "\n",
    "*Note 3: This was not asked for.*\n",
    "\n",
    "We saw above that the idea that AM and PM exits should balance was not correct. There are many possible explanations for this: for example a proportion of workers stay on in the centre of the city after work and return outside the peak period.\n",
    "\n",
    "However, if we wish to have a greater balance, we could search for the quantiles to use, assuming that the different of 25% between the quantiles remains for locations classified as 'other'. The code below shows that using quantiles of 58.3% for the lower limit and 83.3% for the upper limit achieves a balance. "
   ]
  },
  {
   "cell_type": "code",
   "execution_count": 18,
   "metadata": {},
   "outputs": [
    {
     "name": "stdout",
     "output_type": "stream",
     "text": [
      "Quantiles 0.580 and 0.830 give exits PM 592928 and AM 612798\n",
      "Quantiles 0.581 and 0.831 give exits PM 593814 and AM 612798\n",
      "Quantiles 0.582 and 0.832 give exits PM 593814 and AM 592747\n",
      "Quantiles 0.583 and 0.833 give exits PM 593814 and AM 592747\n",
      "Quantiles 0.584 and 0.834 give exits PM 593814 and AM 592747\n",
      "Quantiles 0.585 and 0.835 give exits PM 600506 and AM 592747\n",
      "Quantiles 0.586 and 0.836 give exits PM 600506 and AM 588598\n",
      "Quantiles 0.587 and 0.837 give exits PM 600506 and AM 588598\n",
      "Quantiles 0.588 and 0.838 give exits PM 600506 and AM 588598\n",
      "Quantiles 0.589 and 0.839 give exits PM 602610 and AM 586812\n",
      "Quantiles 0.590 and 0.840 give exits PM 602610 and AM 586812\n"
     ]
    }
   ],
   "source": [
    "def tryQuantile(quant):\n",
    "    lower_lim = peak_counts.AMlessPM.quantile(quant)\n",
    "    upper_lim = peak_counts.AMlessPM.quantile(quant + 0.25)\n",
    "    \n",
    "    print('Quantiles %3.3f and %3.3f give exits PM %d and AM %d' \n",
    "          % (quant, quant+0.25, peak_counts.loc[peak_counts.AMlessPM < lower_lim, 'PMCount'].sum(),\n",
    "             peak_counts.loc[peak_counts.AMlessPM > upper_lim, 'AMCount'].sum()))\n",
    "\n",
    "_ = [tryQuantile(q) for q in np.arange(0.58,0.59,0.001)]"
   ]
  },
  {
   "cell_type": "markdown",
   "metadata": {},
   "source": [
    "We apply these thresholds and show the classification of the selected Northern Line stations and the revised scatter plot."
   ]
  },
  {
   "cell_type": "code",
   "execution_count": 19,
   "metadata": {},
   "outputs": [
    {
     "name": "stdout",
     "output_type": "stream",
     "text": [
      "Archway has classification Residential\n",
      "Balham has classification Residential\n",
      "Embankment has classification Other\n",
      "Goodge Street has classification Work\n",
      "Highgate has classification Residential\n",
      "High Barnet has classification Residential\n",
      "Leicester Square has classification Residential\n",
      "Morden has classification Residential\n",
      "South Wimbledon has classification Residential\n",
      "Tottenham Court Road has classification Other\n",
      "Warren Street has classification Work\n"
     ]
    },
    {
     "data": {
      "image/png": "[encoded data removed]",
      "text/plain": [
       "<Figure size 720x720 with 1 Axes>"
      ]
     },
     "metadata": {
      "needs_background": "light"
     },
     "output_type": "display_data"
    }
   ],
   "source": [
    "lower_limit = peak_counts.AMlessPM.quantile(0.583)\n",
    "upper_limit = peak_counts.AMlessPM.quantile(0.833)\n",
    "\n",
    "def classify(row):\n",
    "    if row.AMlessPM < lower_limit: return 'Residential'\n",
    "    if row.AMlessPM > upper_limit: return 'Work'\n",
    "    return 'Other'\n",
    "    \n",
    "peak_counts1 = peak_counts.assign(Location = peak_counts.apply(classify, axis=1))\n",
    "\n",
    "for station in stations:\n",
    "    print(station + ' has classification ' + peak_counts1.loc[station,'Location'])\n",
    "\n",
    "scatterPlot(peak_counts1)"
   ]
  },
  {
   "cell_type": "markdown",
   "metadata": {},
   "source": [
    "### Section 4.4: Conclusions\n",
    "\n",
    "We have chosen a single measure - the difference between the AM and PM peak exits as a proportion of the daily exits - of the different patterns of use of stations on the London Underground. In the first version, we guessed ranges of this measure to classify stations into *residential*, *work* or *other* classes. We found that the number classed as residential exceeded the number classed as work, but that the numbers of exits in the morning at work locations did not balance the number of evening exits at residential locations.\n",
    "\n",
    "We then used the idea of balancing these exit numbers to search for a threshold (though still with an arbitrary difference between them). This increased the size of the residential class, but the classification of some examples on the Northern Line (notably Leicester Square as residential) was not convincing.\n",
    "\n",
    "Overall, this very simple approach to the classification of stations appears to be quite successful, although a more extensive evaluation is needed. \n",
    "\n",
    "A limitation of the approach is that we have only considered the difference between the two peak times without considering station usage out of the peak times. A more complex approach might combine several measures and use both entry and exit data. However, we do not have *labels* for the *correct* class so that a supervised learning approach cannot be applied. We could use clustering but a more useful approach would be to combine the Underground usage data with other data on the area of each station and other modes of transport so that we could evaluate questions such as transport need in different areas."
   ]
  },
  {
   "cell_type": "code",
   "execution_count": null,
   "metadata": {},
   "outputs": [],
   "source": []
  }
 ],
 "metadata": {
  "kernelspec": {
   "display_name": "Python 3",
   "language": "python",
   "name": "python3"
  },
  "language_info": {
   "codemirror_mode": {
    "name": "ipython",
    "version": 3
   },
   "file_extension": ".py",
   "mimetype": "text/x-python",
   "name": "python",
   "nbconvert_exporter": "python",
   "pygments_lexer": "ipython3",
   "version": "3.8.8"
  }
 },
 "nbformat": 4,
 "nbformat_minor": 4
}
