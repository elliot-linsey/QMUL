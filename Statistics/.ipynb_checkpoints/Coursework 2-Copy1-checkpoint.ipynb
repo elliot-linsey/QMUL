{
 "cells": [
  {
   "cell_type": "code",
   "execution_count": 2,
   "id": "3ac2fc4d",
   "metadata": {},
   "outputs": [],
   "source": [
    "%matplotlib inline\n",
    "import pandas as pd\n",
    "import numpy as np\n",
    "from matplotlib import pyplot as plt\n",
    "from sklearn.linear_model import LinearRegression\n",
    "from sklearn.metrics import mean_squared_error"
   ]
  },
  {
   "cell_type": "code",
   "execution_count": 3,
   "id": "6bd31a07",
   "metadata": {},
   "outputs": [
    {
     "data": {
      "text/html": [
       "<div>\n",
       "<style scoped>\n",
       "    .dataframe tbody tr th:only-of-type {\n",
       "        vertical-align: middle;\n",
       "    }\n",
       "\n",
       "    .dataframe tbody tr th {\n",
       "        vertical-align: top;\n",
       "    }\n",
       "\n",
       "    .dataframe thead th {\n",
       "        text-align: right;\n",
       "    }\n",
       "</style>\n",
       "<table border=\"1\" class=\"dataframe\">\n",
       "  <thead>\n",
       "    <tr style=\"text-align: right;\">\n",
       "      <th></th>\n",
       "      <th>District</th>\n",
       "      <th>Detour_Km</th>\n",
       "      <th>Toll</th>\n",
       "      <th>Maintainer</th>\n",
       "      <th>Urban</th>\n",
       "      <th>Status</th>\n",
       "      <th>Year</th>\n",
       "      <th>Lanes_on</th>\n",
       "      <th>Lanes_under</th>\n",
       "      <th>AverageDaily</th>\n",
       "      <th>...</th>\n",
       "      <th>Spans</th>\n",
       "      <th>Length</th>\n",
       "      <th>Width</th>\n",
       "      <th>Deck_rating</th>\n",
       "      <th>Superstr_rating</th>\n",
       "      <th>Substr_rating</th>\n",
       "      <th>Rated_load</th>\n",
       "      <th>Trucks_percent</th>\n",
       "      <th>Scour_rating</th>\n",
       "      <th>Future_traffic</th>\n",
       "    </tr>\n",
       "    <tr>\n",
       "      <th>Structure_id</th>\n",
       "      <th></th>\n",
       "      <th></th>\n",
       "      <th></th>\n",
       "      <th></th>\n",
       "      <th></th>\n",
       "      <th></th>\n",
       "      <th></th>\n",
       "      <th></th>\n",
       "      <th></th>\n",
       "      <th></th>\n",
       "      <th></th>\n",
       "      <th></th>\n",
       "      <th></th>\n",
       "      <th></th>\n",
       "      <th></th>\n",
       "      <th></th>\n",
       "      <th></th>\n",
       "      <th></th>\n",
       "      <th></th>\n",
       "      <th></th>\n",
       "      <th></th>\n",
       "    </tr>\n",
       "  </thead>\n",
       "  <tbody>\n",
       "    <tr>\n",
       "      <th>000021521-00101</th>\n",
       "      <td>District2</td>\n",
       "      <td>199</td>\n",
       "      <td>Free</td>\n",
       "      <td>Agency</td>\n",
       "      <td>Rural</td>\n",
       "      <td>Local</td>\n",
       "      <td>2005</td>\n",
       "      <td>1</td>\n",
       "      <td>0</td>\n",
       "      <td>1</td>\n",
       "      <td>...</td>\n",
       "      <td>2</td>\n",
       "      <td>31.4</td>\n",
       "      <td>4.3</td>\n",
       "      <td>Good</td>\n",
       "      <td>Very Good</td>\n",
       "      <td>Very Good</td>\n",
       "      <td>41.7</td>\n",
       "      <td>0.0</td>\n",
       "      <td>Dry</td>\n",
       "      <td>1</td>\n",
       "    </tr>\n",
       "    <tr>\n",
       "      <th>000021521-00181</th>\n",
       "      <td>District2</td>\n",
       "      <td>199</td>\n",
       "      <td>Free</td>\n",
       "      <td>Agency</td>\n",
       "      <td>Rural</td>\n",
       "      <td>Local</td>\n",
       "      <td>2005</td>\n",
       "      <td>1</td>\n",
       "      <td>0</td>\n",
       "      <td>1</td>\n",
       "      <td>...</td>\n",
       "      <td>1</td>\n",
       "      <td>15.5</td>\n",
       "      <td>4.3</td>\n",
       "      <td>Good</td>\n",
       "      <td>Good</td>\n",
       "      <td>Very Good</td>\n",
       "      <td>41.7</td>\n",
       "      <td>0.0</td>\n",
       "      <td>Dry</td>\n",
       "      <td>1</td>\n",
       "    </tr>\n",
       "    <tr>\n",
       "      <th>000021521-TMP20</th>\n",
       "      <td>District2</td>\n",
       "      <td>199</td>\n",
       "      <td>Free</td>\n",
       "      <td>Agency</td>\n",
       "      <td>Rural</td>\n",
       "      <td>Local</td>\n",
       "      <td>2012</td>\n",
       "      <td>2</td>\n",
       "      <td>0</td>\n",
       "      <td>100</td>\n",
       "      <td>...</td>\n",
       "      <td>1</td>\n",
       "      <td>10.1</td>\n",
       "      <td>8.4</td>\n",
       "      <td>Very Good</td>\n",
       "      <td>Very Good</td>\n",
       "      <td>Very Good</td>\n",
       "      <td>48.1</td>\n",
       "      <td>0.0</td>\n",
       "      <td>Dry</td>\n",
       "      <td>150</td>\n",
       "    </tr>\n",
       "    <tr>\n",
       "      <th>000021525-00012</th>\n",
       "      <td>District2</td>\n",
       "      <td>199</td>\n",
       "      <td>Free</td>\n",
       "      <td>Agency</td>\n",
       "      <td>Rural</td>\n",
       "      <td>Local</td>\n",
       "      <td>1950</td>\n",
       "      <td>1</td>\n",
       "      <td>0</td>\n",
       "      <td>80</td>\n",
       "      <td>...</td>\n",
       "      <td>14</td>\n",
       "      <td>45.4</td>\n",
       "      <td>3.7</td>\n",
       "      <td>Good</td>\n",
       "      <td>Good</td>\n",
       "      <td>Poor</td>\n",
       "      <td>10.0</td>\n",
       "      <td>0.0</td>\n",
       "      <td>Dry</td>\n",
       "      <td>120</td>\n",
       "    </tr>\n",
       "    <tr>\n",
       "      <th>000021580-00092</th>\n",
       "      <td>District2</td>\n",
       "      <td>6</td>\n",
       "      <td>Free</td>\n",
       "      <td>Agency</td>\n",
       "      <td>Rural</td>\n",
       "      <td>Local</td>\n",
       "      <td>2004</td>\n",
       "      <td>2</td>\n",
       "      <td>0</td>\n",
       "      <td>150</td>\n",
       "      <td>...</td>\n",
       "      <td>1</td>\n",
       "      <td>25.0</td>\n",
       "      <td>7.3</td>\n",
       "      <td>Good</td>\n",
       "      <td>Very Good</td>\n",
       "      <td>Very Good</td>\n",
       "      <td>37.2</td>\n",
       "      <td>4.0</td>\n",
       "      <td>Dry</td>\n",
       "      <td>200</td>\n",
       "    </tr>\n",
       "  </tbody>\n",
       "</table>\n",
       "<p>5 rows × 24 columns</p>\n",
       "</div>"
      ],
      "text/plain": [
       "                  District  Detour_Km  Toll Maintainer  Urban Status  Year  \\\n",
       "Structure_id                                                                 \n",
       "000021521-00101  District2        199  Free     Agency  Rural  Local  2005   \n",
       "000021521-00181  District2        199  Free     Agency  Rural  Local  2005   \n",
       "000021521-TMP20  District2        199  Free     Agency  Rural  Local  2012   \n",
       "000021525-00012  District2        199  Free     Agency  Rural  Local  1950   \n",
       "000021580-00092  District2          6  Free     Agency  Rural  Local  2004   \n",
       "\n",
       "                 Lanes_on  Lanes_under  AverageDaily  ... Spans Length Width  \\\n",
       "Structure_id                                          ...                      \n",
       "000021521-00101         1            0             1  ...     2   31.4   4.3   \n",
       "000021521-00181         1            0             1  ...     1   15.5   4.3   \n",
       "000021521-TMP20         2            0           100  ...     1   10.1   8.4   \n",
       "000021525-00012         1            0            80  ...    14   45.4   3.7   \n",
       "000021580-00092         2            0           150  ...     1   25.0   7.3   \n",
       "\n",
       "                Deck_rating  Superstr_rating  Substr_rating  Rated_load  \\\n",
       "Structure_id                                                              \n",
       "000021521-00101        Good        Very Good      Very Good        41.7   \n",
       "000021521-00181        Good             Good      Very Good        41.7   \n",
       "000021521-TMP20   Very Good        Very Good      Very Good        48.1   \n",
       "000021525-00012        Good             Good           Poor        10.0   \n",
       "000021580-00092        Good        Very Good      Very Good        37.2   \n",
       "\n",
       "                Trucks_percent Scour_rating Future_traffic  \n",
       "Structure_id                                                \n",
       "000021521-00101            0.0          Dry              1  \n",
       "000021521-00181            0.0          Dry              1  \n",
       "000021521-TMP20            0.0          Dry            150  \n",
       "000021525-00012            0.0          Dry            120  \n",
       "000021580-00092            4.0          Dry            200  \n",
       "\n",
       "[5 rows x 24 columns]"
      ]
     },
     "execution_count": 3,
     "metadata": {},
     "output_type": "execute_result"
    }
   ],
   "source": [
    "df = pd.read_csv('tx19_bridges_sample.csv')\n",
    "df = df.set_index('Structure_id')\n",
    "df.head()"
   ]
  },
  {
   "cell_type": "code",
   "execution_count": 4,
   "id": "416faa51",
   "metadata": {},
   "outputs": [
    {
     "data": {
      "text/html": [
       "<div>\n",
       "<style scoped>\n",
       "    .dataframe tbody tr th:only-of-type {\n",
       "        vertical-align: middle;\n",
       "    }\n",
       "\n",
       "    .dataframe tbody tr th {\n",
       "        vertical-align: top;\n",
       "    }\n",
       "\n",
       "    .dataframe thead th {\n",
       "        text-align: right;\n",
       "    }\n",
       "</style>\n",
       "<table border=\"1\" class=\"dataframe\">\n",
       "  <thead>\n",
       "    <tr style=\"text-align: right;\">\n",
       "      <th></th>\n",
       "      <th>District</th>\n",
       "      <th>Detour_Km</th>\n",
       "      <th>Toll</th>\n",
       "      <th>Maintainer</th>\n",
       "      <th>Urban</th>\n",
       "      <th>Status</th>\n",
       "      <th>Year</th>\n",
       "      <th>Lanes_on</th>\n",
       "      <th>Lanes_under</th>\n",
       "      <th>AverageDaily</th>\n",
       "      <th>...</th>\n",
       "      <th>Length</th>\n",
       "      <th>Width</th>\n",
       "      <th>Deck_rating</th>\n",
       "      <th>Superstr_rating</th>\n",
       "      <th>Substr_rating</th>\n",
       "      <th>Rated_load</th>\n",
       "      <th>Trucks_percent</th>\n",
       "      <th>Scour_rating</th>\n",
       "      <th>Future_traffic</th>\n",
       "      <th>age</th>\n",
       "    </tr>\n",
       "    <tr>\n",
       "      <th>Structure_id</th>\n",
       "      <th></th>\n",
       "      <th></th>\n",
       "      <th></th>\n",
       "      <th></th>\n",
       "      <th></th>\n",
       "      <th></th>\n",
       "      <th></th>\n",
       "      <th></th>\n",
       "      <th></th>\n",
       "      <th></th>\n",
       "      <th></th>\n",
       "      <th></th>\n",
       "      <th></th>\n",
       "      <th></th>\n",
       "      <th></th>\n",
       "      <th></th>\n",
       "      <th></th>\n",
       "      <th></th>\n",
       "      <th></th>\n",
       "      <th></th>\n",
       "      <th></th>\n",
       "    </tr>\n",
       "  </thead>\n",
       "  <tbody>\n",
       "    <tr>\n",
       "      <th>000021521-00101</th>\n",
       "      <td>District2</td>\n",
       "      <td>199</td>\n",
       "      <td>Free</td>\n",
       "      <td>Agency</td>\n",
       "      <td>Rural</td>\n",
       "      <td>Local</td>\n",
       "      <td>2005</td>\n",
       "      <td>1</td>\n",
       "      <td>0</td>\n",
       "      <td>1</td>\n",
       "      <td>...</td>\n",
       "      <td>31.4</td>\n",
       "      <td>4.3</td>\n",
       "      <td>Good</td>\n",
       "      <td>Very Good</td>\n",
       "      <td>Very Good</td>\n",
       "      <td>41.7</td>\n",
       "      <td>0.0</td>\n",
       "      <td>Dry</td>\n",
       "      <td>1</td>\n",
       "      <td>16</td>\n",
       "    </tr>\n",
       "    <tr>\n",
       "      <th>000021521-00181</th>\n",
       "      <td>District2</td>\n",
       "      <td>199</td>\n",
       "      <td>Free</td>\n",
       "      <td>Agency</td>\n",
       "      <td>Rural</td>\n",
       "      <td>Local</td>\n",
       "      <td>2005</td>\n",
       "      <td>1</td>\n",
       "      <td>0</td>\n",
       "      <td>1</td>\n",
       "      <td>...</td>\n",
       "      <td>15.5</td>\n",
       "      <td>4.3</td>\n",
       "      <td>Good</td>\n",
       "      <td>Good</td>\n",
       "      <td>Very Good</td>\n",
       "      <td>41.7</td>\n",
       "      <td>0.0</td>\n",
       "      <td>Dry</td>\n",
       "      <td>1</td>\n",
       "      <td>16</td>\n",
       "    </tr>\n",
       "    <tr>\n",
       "      <th>000021521-TMP20</th>\n",
       "      <td>District2</td>\n",
       "      <td>199</td>\n",
       "      <td>Free</td>\n",
       "      <td>Agency</td>\n",
       "      <td>Rural</td>\n",
       "      <td>Local</td>\n",
       "      <td>2012</td>\n",
       "      <td>2</td>\n",
       "      <td>0</td>\n",
       "      <td>100</td>\n",
       "      <td>...</td>\n",
       "      <td>10.1</td>\n",
       "      <td>8.4</td>\n",
       "      <td>Very Good</td>\n",
       "      <td>Very Good</td>\n",
       "      <td>Very Good</td>\n",
       "      <td>48.1</td>\n",
       "      <td>0.0</td>\n",
       "      <td>Dry</td>\n",
       "      <td>150</td>\n",
       "      <td>9</td>\n",
       "    </tr>\n",
       "    <tr>\n",
       "      <th>000021525-00012</th>\n",
       "      <td>District2</td>\n",
       "      <td>199</td>\n",
       "      <td>Free</td>\n",
       "      <td>Agency</td>\n",
       "      <td>Rural</td>\n",
       "      <td>Local</td>\n",
       "      <td>1950</td>\n",
       "      <td>1</td>\n",
       "      <td>0</td>\n",
       "      <td>80</td>\n",
       "      <td>...</td>\n",
       "      <td>45.4</td>\n",
       "      <td>3.7</td>\n",
       "      <td>Good</td>\n",
       "      <td>Good</td>\n",
       "      <td>Poor</td>\n",
       "      <td>10.0</td>\n",
       "      <td>0.0</td>\n",
       "      <td>Dry</td>\n",
       "      <td>120</td>\n",
       "      <td>71</td>\n",
       "    </tr>\n",
       "    <tr>\n",
       "      <th>000021580-00092</th>\n",
       "      <td>District2</td>\n",
       "      <td>6</td>\n",
       "      <td>Free</td>\n",
       "      <td>Agency</td>\n",
       "      <td>Rural</td>\n",
       "      <td>Local</td>\n",
       "      <td>2004</td>\n",
       "      <td>2</td>\n",
       "      <td>0</td>\n",
       "      <td>150</td>\n",
       "      <td>...</td>\n",
       "      <td>25.0</td>\n",
       "      <td>7.3</td>\n",
       "      <td>Good</td>\n",
       "      <td>Very Good</td>\n",
       "      <td>Very Good</td>\n",
       "      <td>37.2</td>\n",
       "      <td>4.0</td>\n",
       "      <td>Dry</td>\n",
       "      <td>200</td>\n",
       "      <td>17</td>\n",
       "    </tr>\n",
       "  </tbody>\n",
       "</table>\n",
       "<p>5 rows × 25 columns</p>\n",
       "</div>"
      ],
      "text/plain": [
       "                  District  Detour_Km  Toll Maintainer  Urban Status  Year  \\\n",
       "Structure_id                                                                 \n",
       "000021521-00101  District2        199  Free     Agency  Rural  Local  2005   \n",
       "000021521-00181  District2        199  Free     Agency  Rural  Local  2005   \n",
       "000021521-TMP20  District2        199  Free     Agency  Rural  Local  2012   \n",
       "000021525-00012  District2        199  Free     Agency  Rural  Local  1950   \n",
       "000021580-00092  District2          6  Free     Agency  Rural  Local  2004   \n",
       "\n",
       "                 Lanes_on  Lanes_under  AverageDaily  ... Length Width  \\\n",
       "Structure_id                                          ...                \n",
       "000021521-00101         1            0             1  ...   31.4   4.3   \n",
       "000021521-00181         1            0             1  ...   15.5   4.3   \n",
       "000021521-TMP20         2            0           100  ...   10.1   8.4   \n",
       "000021525-00012         1            0            80  ...   45.4   3.7   \n",
       "000021580-00092         2            0           150  ...   25.0   7.3   \n",
       "\n",
       "                Deck_rating Superstr_rating  Substr_rating  Rated_load  \\\n",
       "Structure_id                                                             \n",
       "000021521-00101        Good       Very Good      Very Good        41.7   \n",
       "000021521-00181        Good            Good      Very Good        41.7   \n",
       "000021521-TMP20   Very Good       Very Good      Very Good        48.1   \n",
       "000021525-00012        Good            Good           Poor        10.0   \n",
       "000021580-00092        Good       Very Good      Very Good        37.2   \n",
       "\n",
       "                 Trucks_percent Scour_rating Future_traffic age  \n",
       "Structure_id                                                     \n",
       "000021521-00101             0.0          Dry              1  16  \n",
       "000021521-00181             0.0          Dry              1  16  \n",
       "000021521-TMP20             0.0          Dry            150   9  \n",
       "000021525-00012             0.0          Dry            120  71  \n",
       "000021580-00092             4.0          Dry            200  17  \n",
       "\n",
       "[5 rows x 25 columns]"
      ]
     },
     "execution_count": 4,
     "metadata": {},
     "output_type": "execute_result"
    }
   ],
   "source": [
    "df['age'] = 2021 - df['Year']\n",
    "df.head()"
   ]
  },
  {
   "cell_type": "code",
   "execution_count": 5,
   "id": "c5517a09",
   "metadata": {},
   "outputs": [
    {
     "data": {
      "text/html": [
       "<div>\n",
       "<style scoped>\n",
       "    .dataframe tbody tr th:only-of-type {\n",
       "        vertical-align: middle;\n",
       "    }\n",
       "\n",
       "    .dataframe tbody tr th {\n",
       "        vertical-align: top;\n",
       "    }\n",
       "\n",
       "    .dataframe thead th {\n",
       "        text-align: right;\n",
       "    }\n",
       "</style>\n",
       "<table border=\"1\" class=\"dataframe\">\n",
       "  <thead>\n",
       "    <tr style=\"text-align: right;\">\n",
       "      <th></th>\n",
       "      <th>age</th>\n",
       "      <th>AverageDaily</th>\n",
       "      <th>Trucks_percent</th>\n",
       "      <th>Material</th>\n",
       "      <th>Design</th>\n",
       "      <th>Deck_rating</th>\n",
       "      <th>Superstr_rating</th>\n",
       "      <th>Substr_rating</th>\n",
       "    </tr>\n",
       "    <tr>\n",
       "      <th>Structure_id</th>\n",
       "      <th></th>\n",
       "      <th></th>\n",
       "      <th></th>\n",
       "      <th></th>\n",
       "      <th></th>\n",
       "      <th></th>\n",
       "      <th></th>\n",
       "      <th></th>\n",
       "    </tr>\n",
       "  </thead>\n",
       "  <tbody>\n",
       "    <tr>\n",
       "      <th>000021521-00101</th>\n",
       "      <td>16</td>\n",
       "      <td>1</td>\n",
       "      <td>0.0</td>\n",
       "      <td>Concrete</td>\n",
       "      <td>Slab</td>\n",
       "      <td>Good</td>\n",
       "      <td>Very Good</td>\n",
       "      <td>Very Good</td>\n",
       "    </tr>\n",
       "    <tr>\n",
       "      <th>000021521-00181</th>\n",
       "      <td>16</td>\n",
       "      <td>1</td>\n",
       "      <td>0.0</td>\n",
       "      <td>Concrete</td>\n",
       "      <td>Slab</td>\n",
       "      <td>Good</td>\n",
       "      <td>Good</td>\n",
       "      <td>Very Good</td>\n",
       "    </tr>\n",
       "    <tr>\n",
       "      <th>000021521-TMP20</th>\n",
       "      <td>9</td>\n",
       "      <td>100</td>\n",
       "      <td>0.0</td>\n",
       "      <td>Concrete</td>\n",
       "      <td>Beam</td>\n",
       "      <td>Very Good</td>\n",
       "      <td>Very Good</td>\n",
       "      <td>Very Good</td>\n",
       "    </tr>\n",
       "    <tr>\n",
       "      <th>000021525-00012</th>\n",
       "      <td>71</td>\n",
       "      <td>80</td>\n",
       "      <td>0.0</td>\n",
       "      <td>Timber</td>\n",
       "      <td>Beam</td>\n",
       "      <td>Good</td>\n",
       "      <td>Good</td>\n",
       "      <td>Poor</td>\n",
       "    </tr>\n",
       "    <tr>\n",
       "      <th>000021580-00092</th>\n",
       "      <td>17</td>\n",
       "      <td>150</td>\n",
       "      <td>4.0</td>\n",
       "      <td>Concrete</td>\n",
       "      <td>Beam</td>\n",
       "      <td>Good</td>\n",
       "      <td>Very Good</td>\n",
       "      <td>Very Good</td>\n",
       "    </tr>\n",
       "    <tr>\n",
       "      <th>...</th>\n",
       "      <td>...</td>\n",
       "      <td>...</td>\n",
       "      <td>...</td>\n",
       "      <td>...</td>\n",
       "      <td>...</td>\n",
       "      <td>...</td>\n",
       "      <td>...</td>\n",
       "      <td>...</td>\n",
       "    </tr>\n",
       "    <tr>\n",
       "      <th>DAPFORHOO000012</th>\n",
       "      <td>27</td>\n",
       "      <td>300</td>\n",
       "      <td>40.0</td>\n",
       "      <td>Concrete</td>\n",
       "      <td>Beam</td>\n",
       "      <td>Good</td>\n",
       "      <td>Good</td>\n",
       "      <td>Good</td>\n",
       "    </tr>\n",
       "    <tr>\n",
       "      <th>DAPFORHOO000013</th>\n",
       "      <td>21</td>\n",
       "      <td>300</td>\n",
       "      <td>40.0</td>\n",
       "      <td>Concrete</td>\n",
       "      <td>Beam</td>\n",
       "      <td>Good</td>\n",
       "      <td>Good</td>\n",
       "      <td>Good</td>\n",
       "    </tr>\n",
       "    <tr>\n",
       "      <th>DAPFORHOO000015</th>\n",
       "      <td>25</td>\n",
       "      <td>1200</td>\n",
       "      <td>25.0</td>\n",
       "      <td>Concrete</td>\n",
       "      <td>Beam</td>\n",
       "      <td>Good</td>\n",
       "      <td>Good</td>\n",
       "      <td>Good</td>\n",
       "    </tr>\n",
       "    <tr>\n",
       "      <th>DAPFORHOO00005A</th>\n",
       "      <td>30</td>\n",
       "      <td>300</td>\n",
       "      <td>15.0</td>\n",
       "      <td>Concrete</td>\n",
       "      <td>Beam</td>\n",
       "      <td>Good</td>\n",
       "      <td>Good</td>\n",
       "      <td>Satisfactory</td>\n",
       "    </tr>\n",
       "    <tr>\n",
       "      <th>DAPTRABLI000011</th>\n",
       "      <td>19</td>\n",
       "      <td>300</td>\n",
       "      <td>25.0</td>\n",
       "      <td>Steel</td>\n",
       "      <td>Beam</td>\n",
       "      <td>Good</td>\n",
       "      <td>Very Good</td>\n",
       "      <td>Good</td>\n",
       "    </tr>\n",
       "  </tbody>\n",
       "</table>\n",
       "<p>34293 rows × 8 columns</p>\n",
       "</div>"
      ],
      "text/plain": [
       "                 age  AverageDaily  Trucks_percent  Material Design  \\\n",
       "Structure_id                                                          \n",
       "000021521-00101   16             1             0.0  Concrete   Slab   \n",
       "000021521-00181   16             1             0.0  Concrete   Slab   \n",
       "000021521-TMP20    9           100             0.0  Concrete   Beam   \n",
       "000021525-00012   71            80             0.0    Timber   Beam   \n",
       "000021580-00092   17           150             4.0  Concrete   Beam   \n",
       "...              ...           ...             ...       ...    ...   \n",
       "DAPFORHOO000012   27           300            40.0  Concrete   Beam   \n",
       "DAPFORHOO000013   21           300            40.0  Concrete   Beam   \n",
       "DAPFORHOO000015   25          1200            25.0  Concrete   Beam   \n",
       "DAPFORHOO00005A   30           300            15.0  Concrete   Beam   \n",
       "DAPTRABLI000011   19           300            25.0     Steel   Beam   \n",
       "\n",
       "                Deck_rating Superstr_rating Substr_rating  \n",
       "Structure_id                                               \n",
       "000021521-00101        Good       Very Good     Very Good  \n",
       "000021521-00181        Good            Good     Very Good  \n",
       "000021521-TMP20   Very Good       Very Good     Very Good  \n",
       "000021525-00012        Good            Good          Poor  \n",
       "000021580-00092        Good       Very Good     Very Good  \n",
       "...                     ...             ...           ...  \n",
       "DAPFORHOO000012        Good            Good          Good  \n",
       "DAPFORHOO000013        Good            Good          Good  \n",
       "DAPFORHOO000015        Good            Good          Good  \n",
       "DAPFORHOO00005A        Good            Good  Satisfactory  \n",
       "DAPTRABLI000011        Good       Very Good          Good  \n",
       "\n",
       "[34293 rows x 8 columns]"
      ]
     },
     "execution_count": 5,
     "metadata": {},
     "output_type": "execute_result"
    }
   ],
   "source": [
    "df1 = df[['age', 'AverageDaily', 'Trucks_percent', 'Material', 'Design', 'Deck_rating', 'Superstr_rating', 'Substr_rating']].copy()\n",
    "df1"
   ]
  },
  {
   "cell_type": "code",
   "execution_count": 6,
   "id": "2d226056",
   "metadata": {},
   "outputs": [
    {
     "data": {
      "image/png": "[encoded data removed]",
      "text/plain": [
       "<Figure size 576x432 with 1 Axes>"
      ]
     },
     "metadata": {
      "needs_background": "light"
     },
     "output_type": "display_data"
    }
   ],
   "source": [
    "df1.boxplot(column='age', by='Material',figsize=(8,6))\n",
    "plt.tight_layout()"
   ]
  },
  {
   "cell_type": "markdown",
   "id": "86b929d7",
   "metadata": {},
   "source": [
    "I am classing masonry bridges as historical bridges as they only seem to be have been produced around 80 or more years ago. I will use a cutoff point of 100 years as this value is just above the 3rd quartile of masonry bridges so they shall be taken into account, but it will eliminate some of the outlying extremely old bridges of 100 and above years of age."
   ]
  },
  {
   "cell_type": "code",
   "execution_count": 7,
   "id": "23fe8817",
   "metadata": {},
   "outputs": [
    {
     "data": {
      "text/html": [
       "<div>\n",
       "<style scoped>\n",
       "    .dataframe tbody tr th:only-of-type {\n",
       "        vertical-align: middle;\n",
       "    }\n",
       "\n",
       "    .dataframe tbody tr th {\n",
       "        vertical-align: top;\n",
       "    }\n",
       "\n",
       "    .dataframe thead th {\n",
       "        text-align: right;\n",
       "    }\n",
       "</style>\n",
       "<table border=\"1\" class=\"dataframe\">\n",
       "  <thead>\n",
       "    <tr style=\"text-align: right;\">\n",
       "      <th></th>\n",
       "      <th>age</th>\n",
       "      <th>AverageDaily</th>\n",
       "      <th>Trucks_percent</th>\n",
       "      <th>Material</th>\n",
       "      <th>Design</th>\n",
       "      <th>Deck_rating</th>\n",
       "      <th>Superstr_rating</th>\n",
       "      <th>Substr_rating</th>\n",
       "    </tr>\n",
       "    <tr>\n",
       "      <th>Structure_id</th>\n",
       "      <th></th>\n",
       "      <th></th>\n",
       "      <th></th>\n",
       "      <th></th>\n",
       "      <th></th>\n",
       "      <th></th>\n",
       "      <th></th>\n",
       "      <th></th>\n",
       "    </tr>\n",
       "  </thead>\n",
       "  <tbody>\n",
       "    <tr>\n",
       "      <th>000021521-00101</th>\n",
       "      <td>16</td>\n",
       "      <td>1</td>\n",
       "      <td>0.0</td>\n",
       "      <td>Concrete</td>\n",
       "      <td>Slab</td>\n",
       "      <td>Good</td>\n",
       "      <td>Very Good</td>\n",
       "      <td>Very Good</td>\n",
       "    </tr>\n",
       "    <tr>\n",
       "      <th>000021521-00181</th>\n",
       "      <td>16</td>\n",
       "      <td>1</td>\n",
       "      <td>0.0</td>\n",
       "      <td>Concrete</td>\n",
       "      <td>Slab</td>\n",
       "      <td>Good</td>\n",
       "      <td>Good</td>\n",
       "      <td>Very Good</td>\n",
       "    </tr>\n",
       "    <tr>\n",
       "      <th>000021521-TMP20</th>\n",
       "      <td>9</td>\n",
       "      <td>100</td>\n",
       "      <td>0.0</td>\n",
       "      <td>Concrete</td>\n",
       "      <td>Beam</td>\n",
       "      <td>Very Good</td>\n",
       "      <td>Very Good</td>\n",
       "      <td>Very Good</td>\n",
       "    </tr>\n",
       "    <tr>\n",
       "      <th>000021525-00012</th>\n",
       "      <td>71</td>\n",
       "      <td>80</td>\n",
       "      <td>0.0</td>\n",
       "      <td>Timber</td>\n",
       "      <td>Beam</td>\n",
       "      <td>Good</td>\n",
       "      <td>Good</td>\n",
       "      <td>Poor</td>\n",
       "    </tr>\n",
       "    <tr>\n",
       "      <th>000021580-00092</th>\n",
       "      <td>17</td>\n",
       "      <td>150</td>\n",
       "      <td>4.0</td>\n",
       "      <td>Concrete</td>\n",
       "      <td>Beam</td>\n",
       "      <td>Good</td>\n",
       "      <td>Very Good</td>\n",
       "      <td>Very Good</td>\n",
       "    </tr>\n",
       "  </tbody>\n",
       "</table>\n",
       "</div>"
      ],
      "text/plain": [
       "                 age  AverageDaily  Trucks_percent  Material Design  \\\n",
       "Structure_id                                                          \n",
       "000021521-00101   16             1             0.0  Concrete   Slab   \n",
       "000021521-00181   16             1             0.0  Concrete   Slab   \n",
       "000021521-TMP20    9           100             0.0  Concrete   Beam   \n",
       "000021525-00012   71            80             0.0    Timber   Beam   \n",
       "000021580-00092   17           150             4.0  Concrete   Beam   \n",
       "\n",
       "                Deck_rating Superstr_rating Substr_rating  \n",
       "Structure_id                                               \n",
       "000021521-00101        Good       Very Good     Very Good  \n",
       "000021521-00181        Good            Good     Very Good  \n",
       "000021521-TMP20   Very Good       Very Good     Very Good  \n",
       "000021525-00012        Good            Good          Poor  \n",
       "000021580-00092        Good       Very Good     Very Good  "
      ]
     },
     "execution_count": 7,
     "metadata": {},
     "output_type": "execute_result"
    }
   ],
   "source": [
    "df2 = df1[df1.age <= 100].copy()\n",
    "df2.head()"
   ]
  },
  {
   "cell_type": "code",
   "execution_count": 8,
   "id": "982c907f",
   "metadata": {},
   "outputs": [
    {
     "data": {
      "text/plain": [
       "Concrete    27055\n",
       "Steel        6580\n",
       "Timber        465\n",
       "Other          48\n",
       "Masonry        11\n",
       "Name: Material, dtype: int64"
      ]
     },
     "execution_count": 8,
     "metadata": {},
     "output_type": "execute_result"
    }
   ],
   "source": [
    "df2.Material.value_counts()"
   ]
  },
  {
   "cell_type": "markdown",
   "id": "5d95d162",
   "metadata": {},
   "source": [
    "As both Masonry and Other have very small numbers of bridges, I will combine them into just 'Other_M'. The M is for regression purposes later. I will do the same with Design by appending a 'D' to it's 'Other' value."
   ]
  },
  {
   "cell_type": "code",
   "execution_count": 9,
   "id": "8d987382",
   "metadata": {},
   "outputs": [],
   "source": [
    "df2.Material = df2.Material.apply(lambda x: 'Other_M' if x == 'Other' else ('Other_M' if x == 'Masonry' else x))"
   ]
  },
  {
   "cell_type": "code",
   "execution_count": 10,
   "id": "4f68ca8d",
   "metadata": {},
   "outputs": [
    {
     "data": {
      "text/plain": [
       "Concrete    27055\n",
       "Steel        6580\n",
       "Timber        465\n",
       "Other_M        59\n",
       "Name: Material, dtype: int64"
      ]
     },
     "execution_count": 10,
     "metadata": {},
     "output_type": "execute_result"
    }
   ],
   "source": [
    "df2.Material.value_counts()"
   ]
  },
  {
   "cell_type": "code",
   "execution_count": 11,
   "id": "bc65acf4",
   "metadata": {},
   "outputs": [
    {
     "data": {
      "text/plain": [
       "Beam          28276\n",
       "Slab           4308\n",
       "Other          1243\n",
       "Arch            140\n",
       "Truss           106\n",
       "Frame            68\n",
       "Movable          13\n",
       "Suspension        5\n",
       "Name: Design, dtype: int64"
      ]
     },
     "execution_count": 11,
     "metadata": {},
     "output_type": "execute_result"
    }
   ],
   "source": [
    "df2.Design.value_counts()"
   ]
  },
  {
   "cell_type": "markdown",
   "id": "d486fc08",
   "metadata": {},
   "source": [
    "As Design has a number of attributes with low numbers I have combined them all into 'Other_D' as well."
   ]
  },
  {
   "cell_type": "code",
   "execution_count": 12,
   "id": "f28f1a29",
   "metadata": {},
   "outputs": [
    {
     "data": {
      "text/plain": [
       "Beam       28276\n",
       "Slab        4308\n",
       "Other_D     1575\n",
       "Name: Design, dtype: int64"
      ]
     },
     "execution_count": 12,
     "metadata": {},
     "output_type": "execute_result"
    }
   ],
   "source": [
    "df2.Design = df2.Design.apply(lambda x: 'Other_D' if x in ['Other', 'Arch', 'Truss', 'Frame', 'Movable', 'Suspension'] else x)\n",
    "df2.Design.value_counts()"
   ]
  },
  {
   "cell_type": "code",
   "execution_count": 13,
   "id": "4e7b456c",
   "metadata": {},
   "outputs": [
    {
     "data": {
      "text/plain": [
       "array(['Good', 'Very Good', 'Fair', 'Satisfactory', 'Excellent', 'Failed',\n",
       "       'Poor', nan, 'Failing', 'Serious', 'Critical'], dtype=object)"
      ]
     },
     "execution_count": 13,
     "metadata": {},
     "output_type": "execute_result"
    }
   ],
   "source": [
    "df2.Deck_rating.unique()"
   ]
  },
  {
   "cell_type": "code",
   "execution_count": 14,
   "id": "5ef15131",
   "metadata": {},
   "outputs": [
    {
     "data": {
      "text/plain": [
       "array(['Very Good', 'Good', 'Fair', 'Satisfactory', 'Failed', 'Poor',\n",
       "       'Excellent', 'Serious', 'Failing', nan, 'Critical'], dtype=object)"
      ]
     },
     "execution_count": 14,
     "metadata": {},
     "output_type": "execute_result"
    }
   ],
   "source": [
    "df2.Superstr_rating.unique()"
   ]
  },
  {
   "cell_type": "code",
   "execution_count": 15,
   "id": "b66b00b9",
   "metadata": {},
   "outputs": [
    {
     "data": {
      "text/plain": [
       "array(['Very Good', 'Poor', 'Satisfactory', 'Fair', 'Good', 'Serious',\n",
       "       'Failed', 'Critical', 'Excellent', 'Failing'], dtype=object)"
      ]
     },
     "execution_count": 15,
     "metadata": {},
     "output_type": "execute_result"
    }
   ],
   "source": [
    "df2.Substr_rating.unique()"
   ]
  },
  {
   "cell_type": "code",
   "execution_count": 16,
   "id": "c69af280",
   "metadata": {},
   "outputs": [
    {
     "data": {
      "text/plain": [
       "3.0    22193\n",
       "2.0     7608\n",
       "4.0     4334\n",
       "0.0       16\n",
       "1.0        8\n",
       "Name: Deck_rating, dtype: int64"
      ]
     },
     "execution_count": 16,
     "metadata": {},
     "output_type": "execute_result"
    }
   ],
   "source": [
    "df2.Deck_rating = df.Deck_rating.apply(lambda x: 0 if x == 'Failed' else 1 if x in ['Critical', 'Serious', 'Failing']\n",
    "                                     else 2 if x in ['Poor', 'Satisfactory'] else 3 if x in ['Fair', 'Good'] else 4 if x in ['Excellent', 'Very Good'] else x)\n",
    "df2.Deck_rating = df2.Deck_rating.fillna(0)\n",
    "df2.Deck_rating.value_counts()"
   ]
  },
  {
   "cell_type": "code",
   "execution_count": 17,
   "id": "0047377b",
   "metadata": {},
   "outputs": [
    {
     "data": {
      "text/plain": [
       "3.0    16844\n",
       "2.0     9143\n",
       "4.0     8130\n",
       "1.0       25\n",
       "0.0       17\n",
       "Name: Superstr_rating, dtype: int64"
      ]
     },
     "execution_count": 17,
     "metadata": {},
     "output_type": "execute_result"
    }
   ],
   "source": [
    "df2.Superstr_rating = df.Superstr_rating.apply(lambda x: 0 if x == 'Failed' or x == None else 1 if x in ['Critical', 'Serious', 'Failing']\n",
    "                                     else 2 if x in ['Poor', 'Satisfactory'] else 3 if x in ['Fair', 'Good'] else 4 if x in ['Excellent', 'Very Good'] else x)\n",
    "df2.Superstr_rating = df2.Superstr_rating.fillna(0)\n",
    "df2.Superstr_rating.value_counts()"
   ]
  },
  {
   "cell_type": "code",
   "execution_count": 18,
   "id": "2d8a9f33",
   "metadata": {},
   "outputs": [
    {
     "data": {
      "text/plain": [
       "3    20046\n",
       "2    11129\n",
       "4     2889\n",
       "1       80\n",
       "0       15\n",
       "Name: Substr_rating, dtype: int64"
      ]
     },
     "execution_count": 18,
     "metadata": {},
     "output_type": "execute_result"
    }
   ],
   "source": [
    "df2.Substr_rating = df.Substr_rating.apply(lambda x: 0 if x == 'Failed' or x == None else 1 if x in ['Critical', 'Serious', 'Failing']\n",
    "                                     else 2 if x in ['Poor', 'Satisfactory'] else 3 if x in ['Fair', 'Good'] else 4 if x in ['Excellent', 'Very Good'] else x)\n",
    "df2.Substr_rating = df2.Substr_rating.fillna(0)\n",
    "df2.Substr_rating.value_counts()"
   ]
  },
  {
   "cell_type": "markdown",
   "id": "636fea06",
   "metadata": {},
   "source": [
    "I group the ratings and give them a numerical value within Deck_rating, Superstr_rating and Substr_rating. 'Failed' or a nan value = 0 (giving nan a score of 0 may highlight that we are missing data that should be collected, even if the bridge is in good condition). 'Critical, Serious or Failing' = 1, 'Poor, Satisfactory' = 2, 'Fair, Good' = 3 and 'Very Good, Excellent' = 4. This way we now have a continuous variable we can perform regression on.  "
   ]
  },
  {
   "cell_type": "code",
   "execution_count": 19,
   "id": "4ac4b1d1",
   "metadata": {},
   "outputs": [
    {
     "data": {
      "text/html": [
       "<div>\n",
       "<style scoped>\n",
       "    .dataframe tbody tr th:only-of-type {\n",
       "        vertical-align: middle;\n",
       "    }\n",
       "\n",
       "    .dataframe tbody tr th {\n",
       "        vertical-align: top;\n",
       "    }\n",
       "\n",
       "    .dataframe thead th {\n",
       "        text-align: right;\n",
       "    }\n",
       "</style>\n",
       "<table border=\"1\" class=\"dataframe\">\n",
       "  <thead>\n",
       "    <tr style=\"text-align: right;\">\n",
       "      <th></th>\n",
       "      <th>age</th>\n",
       "      <th>AverageDaily</th>\n",
       "      <th>Trucks_percent</th>\n",
       "      <th>Material</th>\n",
       "      <th>Design</th>\n",
       "      <th>Deck_rating</th>\n",
       "      <th>Superstr_rating</th>\n",
       "      <th>Substr_rating</th>\n",
       "      <th>Score</th>\n",
       "    </tr>\n",
       "    <tr>\n",
       "      <th>Structure_id</th>\n",
       "      <th></th>\n",
       "      <th></th>\n",
       "      <th></th>\n",
       "      <th></th>\n",
       "      <th></th>\n",
       "      <th></th>\n",
       "      <th></th>\n",
       "      <th></th>\n",
       "      <th></th>\n",
       "    </tr>\n",
       "  </thead>\n",
       "  <tbody>\n",
       "    <tr>\n",
       "      <th>000021521-00101</th>\n",
       "      <td>16</td>\n",
       "      <td>1</td>\n",
       "      <td>0.0</td>\n",
       "      <td>Concrete</td>\n",
       "      <td>Slab</td>\n",
       "      <td>3.0</td>\n",
       "      <td>4.0</td>\n",
       "      <td>4</td>\n",
       "      <td>11.0</td>\n",
       "    </tr>\n",
       "    <tr>\n",
       "      <th>000021521-00181</th>\n",
       "      <td>16</td>\n",
       "      <td>1</td>\n",
       "      <td>0.0</td>\n",
       "      <td>Concrete</td>\n",
       "      <td>Slab</td>\n",
       "      <td>3.0</td>\n",
       "      <td>3.0</td>\n",
       "      <td>4</td>\n",
       "      <td>10.0</td>\n",
       "    </tr>\n",
       "    <tr>\n",
       "      <th>000021521-TMP20</th>\n",
       "      <td>9</td>\n",
       "      <td>100</td>\n",
       "      <td>0.0</td>\n",
       "      <td>Concrete</td>\n",
       "      <td>Beam</td>\n",
       "      <td>4.0</td>\n",
       "      <td>4.0</td>\n",
       "      <td>4</td>\n",
       "      <td>12.0</td>\n",
       "    </tr>\n",
       "    <tr>\n",
       "      <th>000021525-00012</th>\n",
       "      <td>71</td>\n",
       "      <td>80</td>\n",
       "      <td>0.0</td>\n",
       "      <td>Timber</td>\n",
       "      <td>Beam</td>\n",
       "      <td>3.0</td>\n",
       "      <td>3.0</td>\n",
       "      <td>2</td>\n",
       "      <td>8.0</td>\n",
       "    </tr>\n",
       "    <tr>\n",
       "      <th>000021580-00092</th>\n",
       "      <td>17</td>\n",
       "      <td>150</td>\n",
       "      <td>4.0</td>\n",
       "      <td>Concrete</td>\n",
       "      <td>Beam</td>\n",
       "      <td>3.0</td>\n",
       "      <td>4.0</td>\n",
       "      <td>4</td>\n",
       "      <td>11.0</td>\n",
       "    </tr>\n",
       "  </tbody>\n",
       "</table>\n",
       "</div>"
      ],
      "text/plain": [
       "                 age  AverageDaily  Trucks_percent  Material Design  \\\n",
       "Structure_id                                                          \n",
       "000021521-00101   16             1             0.0  Concrete   Slab   \n",
       "000021521-00181   16             1             0.0  Concrete   Slab   \n",
       "000021521-TMP20    9           100             0.0  Concrete   Beam   \n",
       "000021525-00012   71            80             0.0    Timber   Beam   \n",
       "000021580-00092   17           150             4.0  Concrete   Beam   \n",
       "\n",
       "                 Deck_rating  Superstr_rating  Substr_rating  Score  \n",
       "Structure_id                                                         \n",
       "000021521-00101          3.0              4.0              4   11.0  \n",
       "000021521-00181          3.0              3.0              4   10.0  \n",
       "000021521-TMP20          4.0              4.0              4   12.0  \n",
       "000021525-00012          3.0              3.0              2    8.0  \n",
       "000021580-00092          3.0              4.0              4   11.0  "
      ]
     },
     "execution_count": 19,
     "metadata": {},
     "output_type": "execute_result"
    }
   ],
   "source": [
    "df2['Score'] = df2.Deck_rating + df2.Superstr_rating + df2.Substr_rating\n",
    "df2.head()"
   ]
  },
  {
   "cell_type": "code",
   "execution_count": 20,
   "id": "d8cd3795",
   "metadata": {},
   "outputs": [
    {
     "data": {
      "text/html": [
       "<div>\n",
       "<style scoped>\n",
       "    .dataframe tbody tr th:only-of-type {\n",
       "        vertical-align: middle;\n",
       "    }\n",
       "\n",
       "    .dataframe tbody tr th {\n",
       "        vertical-align: top;\n",
       "    }\n",
       "\n",
       "    .dataframe thead th {\n",
       "        text-align: right;\n",
       "    }\n",
       "</style>\n",
       "<table border=\"1\" class=\"dataframe\">\n",
       "  <thead>\n",
       "    <tr style=\"text-align: right;\">\n",
       "      <th></th>\n",
       "      <th>age</th>\n",
       "      <th>AverageDaily</th>\n",
       "      <th>Trucks_percent</th>\n",
       "      <th>Material</th>\n",
       "      <th>Design</th>\n",
       "      <th>Score</th>\n",
       "    </tr>\n",
       "    <tr>\n",
       "      <th>Structure_id</th>\n",
       "      <th></th>\n",
       "      <th></th>\n",
       "      <th></th>\n",
       "      <th></th>\n",
       "      <th></th>\n",
       "      <th></th>\n",
       "    </tr>\n",
       "  </thead>\n",
       "  <tbody>\n",
       "    <tr>\n",
       "      <th>000021521-00101</th>\n",
       "      <td>16</td>\n",
       "      <td>1</td>\n",
       "      <td>0.0</td>\n",
       "      <td>Concrete</td>\n",
       "      <td>Slab</td>\n",
       "      <td>11.0</td>\n",
       "    </tr>\n",
       "    <tr>\n",
       "      <th>000021521-00181</th>\n",
       "      <td>16</td>\n",
       "      <td>1</td>\n",
       "      <td>0.0</td>\n",
       "      <td>Concrete</td>\n",
       "      <td>Slab</td>\n",
       "      <td>10.0</td>\n",
       "    </tr>\n",
       "    <tr>\n",
       "      <th>000021521-TMP20</th>\n",
       "      <td>9</td>\n",
       "      <td>100</td>\n",
       "      <td>0.0</td>\n",
       "      <td>Concrete</td>\n",
       "      <td>Beam</td>\n",
       "      <td>12.0</td>\n",
       "    </tr>\n",
       "    <tr>\n",
       "      <th>000021525-00012</th>\n",
       "      <td>71</td>\n",
       "      <td>80</td>\n",
       "      <td>0.0</td>\n",
       "      <td>Timber</td>\n",
       "      <td>Beam</td>\n",
       "      <td>8.0</td>\n",
       "    </tr>\n",
       "    <tr>\n",
       "      <th>000021580-00092</th>\n",
       "      <td>17</td>\n",
       "      <td>150</td>\n",
       "      <td>4.0</td>\n",
       "      <td>Concrete</td>\n",
       "      <td>Beam</td>\n",
       "      <td>11.0</td>\n",
       "    </tr>\n",
       "  </tbody>\n",
       "</table>\n",
       "</div>"
      ],
      "text/plain": [
       "                 age  AverageDaily  Trucks_percent  Material Design  Score\n",
       "Structure_id                                                              \n",
       "000021521-00101   16             1             0.0  Concrete   Slab   11.0\n",
       "000021521-00181   16             1             0.0  Concrete   Slab   10.0\n",
       "000021521-TMP20    9           100             0.0  Concrete   Beam   12.0\n",
       "000021525-00012   71            80             0.0    Timber   Beam    8.0\n",
       "000021580-00092   17           150             4.0  Concrete   Beam   11.0"
      ]
     },
     "execution_count": 20,
     "metadata": {},
     "output_type": "execute_result"
    }
   ],
   "source": [
    "df3 = df2[['age', 'AverageDaily', 'Trucks_percent', 'Material', 'Design', 'Score']].copy()\n",
    "df3.head()"
   ]
  },
  {
   "cell_type": "code",
   "execution_count": 21,
   "id": "3b2a8046",
   "metadata": {},
   "outputs": [
    {
     "data": {
      "image/png": "[encoded data removed]",
      "text/plain": [
       "<Figure size 720x720 with 4 Axes>"
      ]
     },
     "metadata": {
      "needs_background": "light"
     },
     "output_type": "display_data"
    }
   ],
   "source": [
    "df3.hist(figsize=(10,10))\n",
    "plt.show()"
   ]
  },
  {
   "cell_type": "code",
   "execution_count": 48,
   "id": "4652ad86",
   "metadata": {},
   "outputs": [
    {
     "data": {
      "image/png": "[encoded data removed]",
      "text/plain": [
       "<Figure size 864x504 with 2 Axes>"
      ]
     },
     "metadata": {
      "needs_background": "light"
     },
     "output_type": "display_data"
    }
   ],
   "source": [
    "fig, (ax1, ax2) = plt.subplots(1,2,figsize=(12,7))\n",
    "ax1 = df3['Material'].value_counts().plot.bar(ax=ax1)\n",
    "ax1.set_xticklabels(ax1.get_xticklabels(),rotation=0)\n",
    "ax1.set_ylabel('Count')\n",
    "ax1.set_xlabel('Material')\n",
    "ax2 = df3['Design'].value_counts().plot.bar(ax=ax2)\n",
    "ax2.set_xticklabels(ax2.get_xticklabels(),rotation=0)\n",
    "ax2.set_ylabel('Count')\n",
    "ax2.set_xlabel('Design')\n",
    "plt.show()"
   ]
  },
  {
   "cell_type": "code",
   "execution_count": 49,
   "id": "63bf7875",
   "metadata": {},
   "outputs": [
    {
     "data": {
      "image/png": "[encoded data removed]",
      "text/plain": [
       "<Figure size 1080x576 with 2 Axes>"
      ]
     },
     "metadata": {
      "needs_background": "light"
     },
     "output_type": "display_data"
    }
   ],
   "source": [
    "fig, (a1, a2) = plt.subplots(1,2, figsize=(15,8))\n",
    "a1 = df3.boxplot(column='Score', by='Material', ax=a1)\n",
    "a1.set_ylabel('Score')\n",
    "a1.set_title('Score compared with Material')\n",
    "a2 = df3.boxplot(column='Score', by='Design', ax=a2)\n",
    "a2.set_ylabel('Score')\n",
    "a2.set_title('Score compared with Design')\n",
    "plt.show()"
   ]
  },
  {
   "cell_type": "markdown",
   "id": "4b5f4fec",
   "metadata": {},
   "source": [
    "As we can see within the first boxplot comparing score and material we can see that both concrete and other have very similar plots with a median score of 9. However, concrete has a number of outliers lower down with scores of 4 and below. This is likely due to there being far more bridges made from concrete so it is more likely that there are some in worse states. Steel has a similar shape to concrete and other but shifted down to a median of 8 with a couple of outliers at scores of 3 and 0. Timber is the most interesting of them all as its median appears to also be its 1st quartile and is lower than the other materials at 7. It has a far smaller whisker range than the others and a large numbers of outliers both above and below. This is not too surprising when compared to materials such as concrete and steel as timber could be assumed to be less resilient than these materials. \\\n",
    "When score is compared with design is is almost analogous to the material boxplot. Both beam and other designs have very similar plots sharing the same interquartile range with medians based at 9 and a number of outliers below showing bridges in disrepair. Slab designs are almost identical to the other two except it has slipped down to a median of 8 with a couple of outliers and the same IQR. "
   ]
  },
  {
   "cell_type": "code",
   "execution_count": 25,
   "id": "87764237",
   "metadata": {},
   "outputs": [
    {
     "data": {
      "image/png": "[encoded data removed]",
      "text/plain": [
       "<Figure size 1080x1080 with 3 Axes>"
      ]
     },
     "metadata": {
      "needs_background": "light"
     },
     "output_type": "display_data"
    }
   ],
   "source": [
    "fig, (a1, a2, a3) = plt.subplots(3,1, figsize=(15,15))\n",
    "a1.scatter(df3.Score, df3.age)\n",
    "a1.set_title('Score against Age')\n",
    "a1.set_ylabel('Age (yrs)')\n",
    "a1.set_xlabel('Score')\n",
    "a2.scatter(df3.Score, df3.AverageDaily)\n",
    "a2.set_title('Score against Average Daily Usage')\n",
    "a2.set_ylabel('Number of Users')\n",
    "a2.set_xlabel('Score')\n",
    "a3.scatter(df3.Score, df3.Trucks_percent)\n",
    "a3.set_title('Score against Trucks percentage')\n",
    "a3.set_ylabel('Trucks (%)')\n",
    "a3.set_xlabel('Score')\n",
    "plt.tight_layout()\n",
    "plt.show()"
   ]
  },
  {
   "cell_type": "code",
   "execution_count": 26,
   "id": "513bd958",
   "metadata": {},
   "outputs": [],
   "source": [
    "material_OHE = pd.get_dummies(df3['Material'])\n",
    "design_OHE = pd.get_dummies(df3['Design'])"
   ]
  },
  {
   "cell_type": "markdown",
   "id": "c9ada3fb",
   "metadata": {},
   "source": [
    "I use One-Hot-Encoding to convert the categorical attributes of both Material and Design into numerical values that can be used in multiple linear regression. This means that we can individually remove each type of material or design to see what effect it has on the bridge's overall score. "
   ]
  },
  {
   "cell_type": "code",
   "execution_count": 27,
   "id": "979b745b",
   "metadata": {},
   "outputs": [
    {
     "data": {
      "text/html": [
       "<div>\n",
       "<style scoped>\n",
       "    .dataframe tbody tr th:only-of-type {\n",
       "        vertical-align: middle;\n",
       "    }\n",
       "\n",
       "    .dataframe tbody tr th {\n",
       "        vertical-align: top;\n",
       "    }\n",
       "\n",
       "    .dataframe thead th {\n",
       "        text-align: right;\n",
       "    }\n",
       "</style>\n",
       "<table border=\"1\" class=\"dataframe\">\n",
       "  <thead>\n",
       "    <tr style=\"text-align: right;\">\n",
       "      <th></th>\n",
       "      <th>age</th>\n",
       "      <th>AverageDaily</th>\n",
       "      <th>Trucks_percent</th>\n",
       "      <th>Concrete</th>\n",
       "      <th>Other_M</th>\n",
       "      <th>Steel</th>\n",
       "      <th>Timber</th>\n",
       "      <th>Beam</th>\n",
       "      <th>Other_D</th>\n",
       "      <th>Slab</th>\n",
       "      <th>Score</th>\n",
       "    </tr>\n",
       "    <tr>\n",
       "      <th>Structure_id</th>\n",
       "      <th></th>\n",
       "      <th></th>\n",
       "      <th></th>\n",
       "      <th></th>\n",
       "      <th></th>\n",
       "      <th></th>\n",
       "      <th></th>\n",
       "      <th></th>\n",
       "      <th></th>\n",
       "      <th></th>\n",
       "      <th></th>\n",
       "    </tr>\n",
       "  </thead>\n",
       "  <tbody>\n",
       "    <tr>\n",
       "      <th>000021521-00101</th>\n",
       "      <td>16</td>\n",
       "      <td>1</td>\n",
       "      <td>0.0</td>\n",
       "      <td>1</td>\n",
       "      <td>0</td>\n",
       "      <td>0</td>\n",
       "      <td>0</td>\n",
       "      <td>0</td>\n",
       "      <td>0</td>\n",
       "      <td>1</td>\n",
       "      <td>11.0</td>\n",
       "    </tr>\n",
       "    <tr>\n",
       "      <th>000021521-00181</th>\n",
       "      <td>16</td>\n",
       "      <td>1</td>\n",
       "      <td>0.0</td>\n",
       "      <td>1</td>\n",
       "      <td>0</td>\n",
       "      <td>0</td>\n",
       "      <td>0</td>\n",
       "      <td>0</td>\n",
       "      <td>0</td>\n",
       "      <td>1</td>\n",
       "      <td>10.0</td>\n",
       "    </tr>\n",
       "    <tr>\n",
       "      <th>000021521-TMP20</th>\n",
       "      <td>9</td>\n",
       "      <td>100</td>\n",
       "      <td>0.0</td>\n",
       "      <td>1</td>\n",
       "      <td>0</td>\n",
       "      <td>0</td>\n",
       "      <td>0</td>\n",
       "      <td>1</td>\n",
       "      <td>0</td>\n",
       "      <td>0</td>\n",
       "      <td>12.0</td>\n",
       "    </tr>\n",
       "    <tr>\n",
       "      <th>000021525-00012</th>\n",
       "      <td>71</td>\n",
       "      <td>80</td>\n",
       "      <td>0.0</td>\n",
       "      <td>0</td>\n",
       "      <td>0</td>\n",
       "      <td>0</td>\n",
       "      <td>1</td>\n",
       "      <td>1</td>\n",
       "      <td>0</td>\n",
       "      <td>0</td>\n",
       "      <td>8.0</td>\n",
       "    </tr>\n",
       "    <tr>\n",
       "      <th>000021580-00092</th>\n",
       "      <td>17</td>\n",
       "      <td>150</td>\n",
       "      <td>4.0</td>\n",
       "      <td>1</td>\n",
       "      <td>0</td>\n",
       "      <td>0</td>\n",
       "      <td>0</td>\n",
       "      <td>1</td>\n",
       "      <td>0</td>\n",
       "      <td>0</td>\n",
       "      <td>11.0</td>\n",
       "    </tr>\n",
       "  </tbody>\n",
       "</table>\n",
       "</div>"
      ],
      "text/plain": [
       "                 age  AverageDaily  Trucks_percent  Concrete  Other_M  Steel  \\\n",
       "Structure_id                                                                   \n",
       "000021521-00101   16             1             0.0         1        0      0   \n",
       "000021521-00181   16             1             0.0         1        0      0   \n",
       "000021521-TMP20    9           100             0.0         1        0      0   \n",
       "000021525-00012   71            80             0.0         0        0      0   \n",
       "000021580-00092   17           150             4.0         1        0      0   \n",
       "\n",
       "                 Timber  Beam  Other_D  Slab  Score  \n",
       "Structure_id                                         \n",
       "000021521-00101       0     0        0     1   11.0  \n",
       "000021521-00181       0     0        0     1   10.0  \n",
       "000021521-TMP20       0     1        0     0   12.0  \n",
       "000021525-00012       1     1        0     0    8.0  \n",
       "000021580-00092       0     1        0     0   11.0  "
      ]
     },
     "execution_count": 27,
     "metadata": {},
     "output_type": "execute_result"
    }
   ],
   "source": [
    "df4 = df3.join([material_OHE, design_OHE]).copy()\n",
    "df4 = df4.drop(['Material', 'Design'], axis=1)\n",
    "df4 = df4[['age', 'AverageDaily', 'Trucks_percent', 'Concrete', 'Other_M', 'Steel', 'Timber', 'Beam', 'Other_D', 'Slab', 'Score']]\n",
    "df4.head()"
   ]
  },
  {
   "cell_type": "code",
   "execution_count": 28,
   "id": "46c0a382",
   "metadata": {},
   "outputs": [],
   "source": [
    "x = df4[['age', 'AverageDaily', 'Trucks_percent', 'Concrete', 'Other_M', 'Steel', 'Timber', 'Beam', 'Other_D', 'Slab',]]\n",
    "y = df4['Score']"
   ]
  },
  {
   "cell_type": "code",
   "execution_count": 29,
   "id": "521bda33",
   "metadata": {},
   "outputs": [
    {
     "name": "stdout",
     "output_type": "stream",
     "text": [
      "[-3.58611262e-02 -1.45879571e-06  1.78181799e-03  5.61258527e-01\n",
      "  7.04608301e-01 -4.04379359e-01 -8.61487468e-01 -5.55855335e-02\n",
      "  1.85836671e-01 -1.30251137e-01]\n"
     ]
    }
   ],
   "source": [
    "lr = LinearRegression()\n",
    "model = lr.fit(x,y)\n",
    "print(model.coef_)"
   ]
  },
  {
   "cell_type": "code",
   "execution_count": 30,
   "id": "2a55faf5",
   "metadata": {},
   "outputs": [
    {
     "data": {
      "image/png": "[encoded data removed]",
      "text/plain": [
       "<Figure size 432x288 with 1 Axes>"
      ]
     },
     "metadata": {
      "needs_background": "light"
     },
     "output_type": "display_data"
    }
   ],
   "source": [
    "y_predict = lr.predict(x)\n",
    "plt.scatter(y, y_predict, alpha=0.5)\n",
    "plt.xlabel('Actual Score')\n",
    "plt.ylabel('Predicted Score')\n",
    "plt.ylim(5,12)\n",
    "plt.plot(y_predict,y_predict, color='r')\n",
    "plt.show()"
   ]
  },
  {
   "cell_type": "code",
   "execution_count": 31,
   "id": "68334ccb",
   "metadata": {},
   "outputs": [
    {
     "data": {
      "text/plain": [
       "0.4179314001876089"
      ]
     },
     "execution_count": 31,
     "metadata": {},
     "output_type": "execute_result"
    }
   ],
   "source": [
    "lr.score(x,y)"
   ]
  }
 ],
 "metadata": {
  "kernelspec": {
   "display_name": "Python 3",
   "language": "python",
   "name": "python3"
  },
  "language_info": {
   "codemirror_mode": {
    "name": "ipython",
    "version": 3
   },
   "file_extension": ".py",
   "mimetype": "text/x-python",
   "name": "python",
   "nbconvert_exporter": "python",
   "pygments_lexer": "ipython3",
   "version": "3.8.8"
  }
 },
 "nbformat": 4,
 "nbformat_minor": 5
}
