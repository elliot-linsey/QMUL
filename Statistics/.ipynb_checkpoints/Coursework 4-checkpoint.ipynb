{
 "cells": [
  {
   "cell_type": "markdown",
   "id": "f5dc3d82",
   "metadata": {},
   "source": [
    "# ECS7024 Statistics for Artificial Intelligence and Data Science\n",
    "\n",
    "# Coursework 4 - Elliot Linsey\n",
    "\n",
    "**Table of Contents**\n",
    "\n",
    "1. Section 1: Introduction\n",
    "  * Section 1.1: Loading the Data\n",
    "2. Section 2: Data Preparation\n",
    "  * Section 2.1: Calculating Bridge Age \n",
    "3. Section 3: Exploratory Data Analysis \n",
    "  * Section 3.1: Comparing Continuous Variables\n",
    "4. Section 4: Performing Linear Regression\n",
    "  * \n",
    "5. Conclusion"
   ]
  },
  {
   "cell_type": "code",
   "execution_count": 110,
   "id": "96783acd",
   "metadata": {},
   "outputs": [],
   "source": [
    "import pandas as pd\n",
    "import numpy as np\n",
    "import matplotlib.pyplot as plt\n",
    "from sklearn.linear_model import LinearRegression\n",
    "from sklearn.metrics import mean_squared_error\n",
    "np.set_printoptions(precision=3)"
   ]
  },
  {
   "cell_type": "markdown",
   "id": "7bbe5589",
   "metadata": {},
   "source": [
    "## Section 1: Introduction\n",
    "\n",
    "There are two aims of this document, one is to use regression models to predict and explain the variability in the number of births. We will achieve this by using different predictors separately: the number of storks and the population size. We will then use a bootstrap technique to estimate the distribution of the difference of the $R^2$ parameter for both models.\n",
    "\n",
    "The second part of this document uses regression models to predict the number of storks. The predictors are at first the land area, then another regression is performed using multiple linear regression. The predictors for multiple linear regression are created from variables within the original dataset. These new predictors are Suitable Area which is determined from SuitableAreaPercent and Area. The second predictor is Population Density which is derived from Humans and Area. The bootstrap technique is then utilised again to estimate the distribution of the difference of the root mean squared error parameter for both models."
   ]
  },
  {
   "cell_type": "markdown",
   "id": "6ec324f4",
   "metadata": {},
   "source": [
    "## 1.1: Loading the Data\n",
    "\n",
    "Here we load the data into a dataframe, one additional variable has been appended to the original dataset, this being SuitableAreaPercent."
   ]
  },
  {
   "cell_type": "code",
   "execution_count": 79,
   "id": "453c6d99",
   "metadata": {
    "scrolled": false
   },
   "outputs": [
    {
     "data": {
      "text/html": [
       "<div>\n",
       "<style scoped>\n",
       "    .dataframe tbody tr th:only-of-type {\n",
       "        vertical-align: middle;\n",
       "    }\n",
       "\n",
       "    .dataframe tbody tr th {\n",
       "        vertical-align: top;\n",
       "    }\n",
       "\n",
       "    .dataframe thead th {\n",
       "        text-align: right;\n",
       "    }\n",
       "</style>\n",
       "<table border=\"1\" class=\"dataframe\">\n",
       "  <thead>\n",
       "    <tr style=\"text-align: right;\">\n",
       "      <th></th>\n",
       "      <th>Country</th>\n",
       "      <th>Area</th>\n",
       "      <th>Storks</th>\n",
       "      <th>Humans</th>\n",
       "      <th>BirthRate</th>\n",
       "      <th>SuitableAreaPercent</th>\n",
       "    </tr>\n",
       "  </thead>\n",
       "  <tbody>\n",
       "    <tr>\n",
       "      <th>0</th>\n",
       "      <td>Albania</td>\n",
       "      <td>28750</td>\n",
       "      <td>100</td>\n",
       "      <td>3.2</td>\n",
       "      <td>83</td>\n",
       "      <td>55.68</td>\n",
       "    </tr>\n",
       "    <tr>\n",
       "      <th>1</th>\n",
       "      <td>Austria</td>\n",
       "      <td>83860</td>\n",
       "      <td>300</td>\n",
       "      <td>7.6</td>\n",
       "      <td>87</td>\n",
       "      <td>38.34</td>\n",
       "    </tr>\n",
       "    <tr>\n",
       "      <th>2</th>\n",
       "      <td>Belgium</td>\n",
       "      <td>30520</td>\n",
       "      <td>1</td>\n",
       "      <td>9.9</td>\n",
       "      <td>118</td>\n",
       "      <td>65.93</td>\n",
       "    </tr>\n",
       "    <tr>\n",
       "      <th>3</th>\n",
       "      <td>Bulgaria</td>\n",
       "      <td>111000</td>\n",
       "      <td>5000</td>\n",
       "      <td>9.0</td>\n",
       "      <td>117</td>\n",
       "      <td>57.99</td>\n",
       "    </tr>\n",
       "    <tr>\n",
       "      <th>4</th>\n",
       "      <td>Denmark</td>\n",
       "      <td>43100</td>\n",
       "      <td>9</td>\n",
       "      <td>5.1</td>\n",
       "      <td>59</td>\n",
       "      <td>81.46</td>\n",
       "    </tr>\n",
       "    <tr>\n",
       "      <th>5</th>\n",
       "      <td>France</td>\n",
       "      <td>544000</td>\n",
       "      <td>140</td>\n",
       "      <td>56.0</td>\n",
       "      <td>774</td>\n",
       "      <td>58.47</td>\n",
       "    </tr>\n",
       "    <tr>\n",
       "      <th>6</th>\n",
       "      <td>Germany</td>\n",
       "      <td>357000</td>\n",
       "      <td>3300</td>\n",
       "      <td>78.0</td>\n",
       "      <td>901</td>\n",
       "      <td>59.81</td>\n",
       "    </tr>\n",
       "    <tr>\n",
       "      <th>7</th>\n",
       "      <td>Greece</td>\n",
       "      <td>132000</td>\n",
       "      <td>2500</td>\n",
       "      <td>10.0</td>\n",
       "      <td>106</td>\n",
       "      <td>47.31</td>\n",
       "    </tr>\n",
       "    <tr>\n",
       "      <th>8</th>\n",
       "      <td>Holland</td>\n",
       "      <td>41900</td>\n",
       "      <td>4</td>\n",
       "      <td>15.0</td>\n",
       "      <td>188</td>\n",
       "      <td>70.96</td>\n",
       "    </tr>\n",
       "    <tr>\n",
       "      <th>9</th>\n",
       "      <td>Hungary</td>\n",
       "      <td>93000</td>\n",
       "      <td>5000</td>\n",
       "      <td>11.0</td>\n",
       "      <td>124</td>\n",
       "      <td>75.86</td>\n",
       "    </tr>\n",
       "    <tr>\n",
       "      <th>10</th>\n",
       "      <td>Italy</td>\n",
       "      <td>301280</td>\n",
       "      <td>5</td>\n",
       "      <td>57.0</td>\n",
       "      <td>551</td>\n",
       "      <td>60.30</td>\n",
       "    </tr>\n",
       "    <tr>\n",
       "      <th>11</th>\n",
       "      <td>Poland</td>\n",
       "      <td>312680</td>\n",
       "      <td>30000</td>\n",
       "      <td>38.0</td>\n",
       "      <td>610</td>\n",
       "      <td>64.09</td>\n",
       "    </tr>\n",
       "    <tr>\n",
       "      <th>12</th>\n",
       "      <td>Portugal</td>\n",
       "      <td>92390</td>\n",
       "      <td>1500</td>\n",
       "      <td>10.0</td>\n",
       "      <td>120</td>\n",
       "      <td>52.51</td>\n",
       "    </tr>\n",
       "    <tr>\n",
       "      <th>13</th>\n",
       "      <td>Romania</td>\n",
       "      <td>237500</td>\n",
       "      <td>5000</td>\n",
       "      <td>23.0</td>\n",
       "      <td>367</td>\n",
       "      <td>62.49</td>\n",
       "    </tr>\n",
       "    <tr>\n",
       "      <th>14</th>\n",
       "      <td>Spain</td>\n",
       "      <td>504750</td>\n",
       "      <td>8000</td>\n",
       "      <td>39.0</td>\n",
       "      <td>439</td>\n",
       "      <td>59.57</td>\n",
       "    </tr>\n",
       "    <tr>\n",
       "      <th>15</th>\n",
       "      <td>Switzerland</td>\n",
       "      <td>41290</td>\n",
       "      <td>150</td>\n",
       "      <td>6.7</td>\n",
       "      <td>82</td>\n",
       "      <td>43.19</td>\n",
       "    </tr>\n",
       "    <tr>\n",
       "      <th>16</th>\n",
       "      <td>Turkey</td>\n",
       "      <td>779450</td>\n",
       "      <td>25000</td>\n",
       "      <td>56.0</td>\n",
       "      <td>1576</td>\n",
       "      <td>65.97</td>\n",
       "    </tr>\n",
       "  </tbody>\n",
       "</table>\n",
       "</div>"
      ],
      "text/plain": [
       "        Country    Area  Storks  Humans  BirthRate  SuitableAreaPercent\n",
       "0       Albania   28750     100     3.2         83                55.68\n",
       "1       Austria   83860     300     7.6         87                38.34\n",
       "2       Belgium   30520       1     9.9        118                65.93\n",
       "3      Bulgaria  111000    5000     9.0        117                57.99\n",
       "4       Denmark   43100       9     5.1         59                81.46\n",
       "5        France  544000     140    56.0        774                58.47\n",
       "6       Germany  357000    3300    78.0        901                59.81\n",
       "7        Greece  132000    2500    10.0        106                47.31\n",
       "8       Holland   41900       4    15.0        188                70.96\n",
       "9       Hungary   93000    5000    11.0        124                75.86\n",
       "10        Italy  301280       5    57.0        551                60.30\n",
       "11       Poland  312680   30000    38.0        610                64.09\n",
       "12     Portugal   92390    1500    10.0        120                52.51\n",
       "13      Romania  237500    5000    23.0        367                62.49\n",
       "14        Spain  504750    8000    39.0        439                59.57\n",
       "15  Switzerland   41290     150     6.7         82                43.19\n",
       "16       Turkey  779450   25000    56.0       1576                65.97"
      ]
     },
     "execution_count": 79,
     "metadata": {},
     "output_type": "execute_result"
    }
   ],
   "source": [
    "df = pd.read_csv('storks.csv')\n",
    "df"
   ]
  },
  {
   "cell_type": "markdown",
   "id": "7c530157",
   "metadata": {},
   "source": [
    "## Section 2: Analysis 1 - Predicting Birth Rate\n",
    "\n"
   ]
  },
  {
   "cell_type": "markdown",
   "id": "2fa5fd2a",
   "metadata": {},
   "source": [
    "## Section 2.1: Storks and Birth Rate\n",
    "\n",
    "Plotting an initial scatter graph of Storks vs BirthRate, we see a fairly spread out distribution of points. A number of countries have very low numbers of storks with a high variance in terms of birth rate. When we assess the correlation between the two variables however, we found a fairly strong positive correlation of 0.62. "
   ]
  },
  {
   "cell_type": "code",
   "execution_count": 123,
   "id": "2e20e173",
   "metadata": {},
   "outputs": [
    {
     "data": {
      "image/png": "[encoded data removed]",
      "text/plain": [
       "<Figure size 432x288 with 1 Axes>"
      ]
     },
     "metadata": {
      "needs_background": "light"
     },
     "output_type": "display_data"
    },
    {
     "name": "stdout",
     "output_type": "stream",
     "text": [
      "Correlation between Storks and BirthRate: 0.62\n"
     ]
    }
   ],
   "source": [
    "df.plot.scatter('Storks','BirthRate')\n",
    "plt.title('Scatter graph of Storks and BirthRate')\n",
    "plt.show()\n",
    "print('Correlation between Storks and BirthRate: ' + str(round(df['Storks'].corr(df.BirthRate),3)))"
   ]
  },
  {
   "cell_type": "markdown",
   "id": "e718afe0",
   "metadata": {},
   "source": [
    "Here I convert the columns we will use in the future regressions from panda Series to numpy arrays. I then initialise and fit the first regresson of our Storks predictor and target BirthRate."
   ]
  },
  {
   "cell_type": "code",
   "execution_count": 82,
   "id": "f046d00a",
   "metadata": {},
   "outputs": [],
   "source": [
    "storks = df.Storks.to_numpy().reshape(-1,1)\n",
    "humans = df.Humans.to_numpy().reshape(-1,1)\n",
    "area = df.Area.to_numpy().reshape(-1,1)\n",
    "y = df.BirthRate.to_numpy().reshape(-1,1)\n",
    "reg = LinearRegression().fit(storks,y)"
   ]
  },
  {
   "cell_type": "markdown",
   "id": "f029d800",
   "metadata": {},
   "source": [
    "Although the data suggests a strong positive correlation, when fitting the line of regression we see that it only passes close to 3 points. The $r^2$ score is a value of 0.385 which is not very high and implies that only 38.5% of the variance within the data has been accounted for. This suggests that the remaining 61.5% is still unaccounted for and thus the effect of storks on the variance of BirthRate is quite low. "
   ]
  },
  {
   "cell_type": "code",
   "execution_count": 83,
   "id": "96414526",
   "metadata": {},
   "outputs": [
    {
     "data": {
      "image/png": "[encoded data removed]",
      "text/plain": [
       "<Figure size 432x288 with 1 Axes>"
      ]
     },
     "metadata": {
      "needs_background": "light"
     },
     "output_type": "display_data"
    }
   ],
   "source": [
    "ranges = np.arange(0,30000,50).reshape(-1,1)\n",
    "y_ranges = reg.predict(ranges)\n",
    "df.plot.scatter('Storks','BirthRate')\n",
    "plt.plot(ranges,y_ranges)\n",
    "plt.show()"
   ]
  },
  {
   "cell_type": "code",
   "execution_count": 122,
   "id": "02554055",
   "metadata": {},
   "outputs": [
    {
     "name": "stdout",
     "output_type": "stream",
     "text": [
      "Regression Coefficient: 0.029\n",
      "Regression Intercept: 225.029\n",
      "r2 Score: 0.385\n"
     ]
    }
   ],
   "source": [
    "print(f'Regression Coefficient: {np.round(reg.coef_.squeeze(),3)}')\n",
    "print(f'Regression Intercept: {np.round(reg.intercept_.squeeze(),3)}')\n",
    "print(f'r2 Score: {np.round(reg.score(storks,y),3)}')"
   ]
  },
  {
   "cell_type": "markdown",
   "id": "159a14c1",
   "metadata": {},
   "source": [
    "## Section 2.2: Humans and Birth Rate\n",
    "\n",
    "In plotting the initial scatter graph for Humans and BirthRate we can instantly see a clearer positive correlation. This is confirmed in calculating the correlation coefficient between the two, which equals 0.851.  "
   ]
  },
  {
   "cell_type": "code",
   "execution_count": 130,
   "id": "c353651a",
   "metadata": {
    "scrolled": true
   },
   "outputs": [
    {
     "data": {
      "image/png": "[encoded data removed]",
      "text/plain": [
       "<Figure size 432x288 with 1 Axes>"
      ]
     },
     "metadata": {
      "needs_background": "light"
     },
     "output_type": "display_data"
    },
    {
     "name": "stdout",
     "output_type": "stream",
     "text": [
      "Correlation between Humans and BirthRate: 0.851\n"
     ]
    }
   ],
   "source": [
    "df.plot.scatter('Humans','BirthRate')\n",
    "plt.title('Scatter graph of Humans and BirthRate')\n",
    "plt.show()\n",
    "print('Correlation between Humans and BirthRate: ' + str(round(df['Humans'].corr(df.BirthRate),3)))"
   ]
  },
  {
   "cell_type": "markdown",
   "id": "02fa0b64",
   "metadata": {},
   "source": [
    "The regression line for these 2 variables is far closer to the plotted points, indicating a better fit. The $r^2$ score is also much high, accounting for 72.5% of the variance within the data. However the intercept is slightly nonsensical as it predicts that when you have 0 Humans, you have a BirthRate of -8 which is logically impossible. \n",
    "\n",
    "It is important when comparing the regression coefficients that you take into account their scaling. For example, the Storks and BirthRate regression has a coefficient of 0.029 whilst the coefficient for Humans and BirthRate is 14.834. Whilst the Humans coefficient is far larger than Storks, they are both on vastly different scales with Humans having a range of 0 to 80 and Storks having a range of 0 to 30000. When you look at both the actual lines drawn on the graphs, you see that they have quite similar gradients. The coefficients are so different as if we used the coefficient of Humans (14.834) to predict BirthRate values for the Storks graph, we would have extremely high and very wrong values. This is important to remember later when performing multiple linear regression which will have more than one coefficient.   "
   ]
  },
  {
   "cell_type": "code",
   "execution_count": 129,
   "id": "46c4d8f3",
   "metadata": {
    "scrolled": false
   },
   "outputs": [
    {
     "data": {
      "image/png": "[encoded data removed]",
      "text/plain": [
       "<Figure size 432x288 with 1 Axes>"
      ]
     },
     "metadata": {
      "needs_background": "light"
     },
     "output_type": "display_data"
    },
    {
     "name": "stdout",
     "output_type": "stream",
     "text": [
      "Regression Coefficient: 14.834\n",
      "Regression Intercept: -8.445\n",
      "r2 Score: 0.725\n"
     ]
    }
   ],
   "source": [
    "reg2 = LinearRegression().fit(humans,y)\n",
    "ranges2 = np.arange(0,85,5).reshape(-1,1)\n",
    "y_ranges2 = reg2.predict(ranges2)\n",
    "df.plot.scatter('Humans','BirthRate')\n",
    "plt.plot(ranges2,y_ranges2)\n",
    "plt.show()\n",
    "print(f'Regression Coefficient: {np.round(reg2.coef_.squeeze(),3)}')\n",
    "print(f'Regression Intercept: {np.round(reg2.intercept_.squeeze(),3)}')\n",
    "print(f'r2 Score: {np.round(reg2.score(humans,y),3)}')"
   ]
  },
  {
   "cell_type": "code",
   "execution_count": 88,
   "id": "39e85f38",
   "metadata": {},
   "outputs": [
    {
     "data": {
      "text/plain": [
       "0.38472908997755273"
      ]
     },
     "execution_count": 88,
     "metadata": {},
     "output_type": "execute_result"
    }
   ],
   "source": [
    "def doReg(predict,target):\n",
    "    x = predict.to_numpy().reshape(-1,1)\n",
    "    y = target.to_numpy().reshape(-1,1)    \n",
    "    reg = LinearRegression().fit(x,y)\n",
    "    return reg.score(x,y)\n",
    "\n",
    "doReg(df.Storks,df.BirthRate)"
   ]
  },
  {
   "cell_type": "code",
   "execution_count": 89,
   "id": "f20465f7",
   "metadata": {},
   "outputs": [],
   "source": [
    "results = []\n",
    "\n",
    "for i in range(500):\n",
    "    sample = np.random.choice(range(len(df)),replace=True, size=len(df))\n",
    "    sample = df[['Storks','BirthRate']].iloc[sample]\n",
    "    results.append(doReg(sample.Storks,sample.BirthRate))"
   ]
  },
  {
   "cell_type": "code",
   "execution_count": 90,
   "id": "eb8e9fa7",
   "metadata": {},
   "outputs": [
    {
     "data": {
      "image/png": "[encoded data removed]",
      "text/plain": [
       "<Figure size 432x288 with 1 Axes>"
      ]
     },
     "metadata": {
      "needs_background": "light"
     },
     "output_type": "display_data"
    }
   ],
   "source": [
    "results_storks = pd.DataFrame(results).rename(columns={0:'R2 Scores_s'})\n",
    "results_storks.hist()\n",
    "plt.show()"
   ]
  },
  {
   "cell_type": "code",
   "execution_count": 91,
   "id": "8a95576b",
   "metadata": {},
   "outputs": [],
   "source": [
    "results = []\n",
    "\n",
    "for i in range(500):\n",
    "    sample = np.random.choice(range(len(df)),replace=True, size=len(df))\n",
    "    sample = df[['Humans','BirthRate']].iloc[sample]\n",
    "    results.append(doReg(sample.Humans,sample.BirthRate))"
   ]
  },
  {
   "cell_type": "code",
   "execution_count": 92,
   "id": "88a033e5",
   "metadata": {},
   "outputs": [
    {
     "data": {
      "image/png": "[encoded data removed]",
      "text/plain": [
       "<Figure size 432x288 with 1 Axes>"
      ]
     },
     "metadata": {
      "needs_background": "light"
     },
     "output_type": "display_data"
    }
   ],
   "source": [
    "results_humans = pd.DataFrame(results).rename(columns={0:'R2 Scores_h'})\n",
    "results_humans.hist()\n",
    "plt.show()"
   ]
  },
  {
   "cell_type": "code",
   "execution_count": 93,
   "id": "7464c0a0",
   "metadata": {},
   "outputs": [
    {
     "data": {
      "text/html": [
       "<div>\n",
       "<style scoped>\n",
       "    .dataframe tbody tr th:only-of-type {\n",
       "        vertical-align: middle;\n",
       "    }\n",
       "\n",
       "    .dataframe tbody tr th {\n",
       "        vertical-align: top;\n",
       "    }\n",
       "\n",
       "    .dataframe thead th {\n",
       "        text-align: right;\n",
       "    }\n",
       "</style>\n",
       "<table border=\"1\" class=\"dataframe\">\n",
       "  <thead>\n",
       "    <tr style=\"text-align: right;\">\n",
       "      <th></th>\n",
       "      <th>R2 Scores_h</th>\n",
       "      <th>R2 Scores_s</th>\n",
       "    </tr>\n",
       "  </thead>\n",
       "  <tbody>\n",
       "    <tr>\n",
       "      <th>0</th>\n",
       "      <td>0.656039</td>\n",
       "      <td>0.682001</td>\n",
       "    </tr>\n",
       "    <tr>\n",
       "      <th>1</th>\n",
       "      <td>0.984774</td>\n",
       "      <td>0.429950</td>\n",
       "    </tr>\n",
       "    <tr>\n",
       "      <th>2</th>\n",
       "      <td>0.708943</td>\n",
       "      <td>0.513286</td>\n",
       "    </tr>\n",
       "    <tr>\n",
       "      <th>3</th>\n",
       "      <td>0.961992</td>\n",
       "      <td>0.095664</td>\n",
       "    </tr>\n",
       "    <tr>\n",
       "      <th>4</th>\n",
       "      <td>0.951360</td>\n",
       "      <td>0.001071</td>\n",
       "    </tr>\n",
       "    <tr>\n",
       "      <th>...</th>\n",
       "      <td>...</td>\n",
       "      <td>...</td>\n",
       "    </tr>\n",
       "    <tr>\n",
       "      <th>495</th>\n",
       "      <td>0.769920</td>\n",
       "      <td>0.519015</td>\n",
       "    </tr>\n",
       "    <tr>\n",
       "      <th>496</th>\n",
       "      <td>0.978111</td>\n",
       "      <td>0.642859</td>\n",
       "    </tr>\n",
       "    <tr>\n",
       "      <th>497</th>\n",
       "      <td>0.666492</td>\n",
       "      <td>0.310063</td>\n",
       "    </tr>\n",
       "    <tr>\n",
       "      <th>498</th>\n",
       "      <td>0.780363</td>\n",
       "      <td>0.659066</td>\n",
       "    </tr>\n",
       "    <tr>\n",
       "      <th>499</th>\n",
       "      <td>0.701169</td>\n",
       "      <td>0.332917</td>\n",
       "    </tr>\n",
       "  </tbody>\n",
       "</table>\n",
       "<p>500 rows × 2 columns</p>\n",
       "</div>"
      ],
      "text/plain": [
       "     R2 Scores_h  R2 Scores_s\n",
       "0       0.656039     0.682001\n",
       "1       0.984774     0.429950\n",
       "2       0.708943     0.513286\n",
       "3       0.961992     0.095664\n",
       "4       0.951360     0.001071\n",
       "..           ...          ...\n",
       "495     0.769920     0.519015\n",
       "496     0.978111     0.642859\n",
       "497     0.666492     0.310063\n",
       "498     0.780363     0.659066\n",
       "499     0.701169     0.332917\n",
       "\n",
       "[500 rows x 2 columns]"
      ]
     },
     "execution_count": 93,
     "metadata": {},
     "output_type": "execute_result"
    }
   ],
   "source": [
    "results_humans\n",
    "results_storks\n",
    "results_full = results_humans.join(results_storks)\n",
    "results_full"
   ]
  },
  {
   "cell_type": "code",
   "execution_count": 94,
   "id": "097476c9",
   "metadata": {},
   "outputs": [
    {
     "data": {
      "text/html": [
       "<div>\n",
       "<style scoped>\n",
       "    .dataframe tbody tr th:only-of-type {\n",
       "        vertical-align: middle;\n",
       "    }\n",
       "\n",
       "    .dataframe tbody tr th {\n",
       "        vertical-align: top;\n",
       "    }\n",
       "\n",
       "    .dataframe thead th {\n",
       "        text-align: right;\n",
       "    }\n",
       "</style>\n",
       "<table border=\"1\" class=\"dataframe\">\n",
       "  <thead>\n",
       "    <tr style=\"text-align: right;\">\n",
       "      <th></th>\n",
       "      <th>R2 Scores_h</th>\n",
       "      <th>R2 Scores_s</th>\n",
       "      <th>diff</th>\n",
       "    </tr>\n",
       "  </thead>\n",
       "  <tbody>\n",
       "    <tr>\n",
       "      <th>0</th>\n",
       "      <td>0.656039</td>\n",
       "      <td>0.682001</td>\n",
       "      <td>-0.025961</td>\n",
       "    </tr>\n",
       "    <tr>\n",
       "      <th>1</th>\n",
       "      <td>0.984774</td>\n",
       "      <td>0.429950</td>\n",
       "      <td>0.554824</td>\n",
       "    </tr>\n",
       "    <tr>\n",
       "      <th>2</th>\n",
       "      <td>0.708943</td>\n",
       "      <td>0.513286</td>\n",
       "      <td>0.195657</td>\n",
       "    </tr>\n",
       "    <tr>\n",
       "      <th>3</th>\n",
       "      <td>0.961992</td>\n",
       "      <td>0.095664</td>\n",
       "      <td>0.866328</td>\n",
       "    </tr>\n",
       "    <tr>\n",
       "      <th>4</th>\n",
       "      <td>0.951360</td>\n",
       "      <td>0.001071</td>\n",
       "      <td>0.950290</td>\n",
       "    </tr>\n",
       "    <tr>\n",
       "      <th>...</th>\n",
       "      <td>...</td>\n",
       "      <td>...</td>\n",
       "      <td>...</td>\n",
       "    </tr>\n",
       "    <tr>\n",
       "      <th>495</th>\n",
       "      <td>0.769920</td>\n",
       "      <td>0.519015</td>\n",
       "      <td>0.250905</td>\n",
       "    </tr>\n",
       "    <tr>\n",
       "      <th>496</th>\n",
       "      <td>0.978111</td>\n",
       "      <td>0.642859</td>\n",
       "      <td>0.335252</td>\n",
       "    </tr>\n",
       "    <tr>\n",
       "      <th>497</th>\n",
       "      <td>0.666492</td>\n",
       "      <td>0.310063</td>\n",
       "      <td>0.356429</td>\n",
       "    </tr>\n",
       "    <tr>\n",
       "      <th>498</th>\n",
       "      <td>0.780363</td>\n",
       "      <td>0.659066</td>\n",
       "      <td>0.121297</td>\n",
       "    </tr>\n",
       "    <tr>\n",
       "      <th>499</th>\n",
       "      <td>0.701169</td>\n",
       "      <td>0.332917</td>\n",
       "      <td>0.368252</td>\n",
       "    </tr>\n",
       "  </tbody>\n",
       "</table>\n",
       "<p>500 rows × 3 columns</p>\n",
       "</div>"
      ],
      "text/plain": [
       "     R2 Scores_h  R2 Scores_s      diff\n",
       "0       0.656039     0.682001 -0.025961\n",
       "1       0.984774     0.429950  0.554824\n",
       "2       0.708943     0.513286  0.195657\n",
       "3       0.961992     0.095664  0.866328\n",
       "4       0.951360     0.001071  0.950290\n",
       "..           ...          ...       ...\n",
       "495     0.769920     0.519015  0.250905\n",
       "496     0.978111     0.642859  0.335252\n",
       "497     0.666492     0.310063  0.356429\n",
       "498     0.780363     0.659066  0.121297\n",
       "499     0.701169     0.332917  0.368252\n",
       "\n",
       "[500 rows x 3 columns]"
      ]
     },
     "metadata": {},
     "output_type": "display_data"
    },
    {
     "name": "stdout",
     "output_type": "stream",
     "text": [
      "90% range is -0.025 to 0.872\n"
     ]
    },
    {
     "data": {
      "image/png": "[encoded data removed]",
      "text/plain": [
       "<Figure size 432x288 with 1 Axes>"
      ]
     },
     "metadata": {
      "needs_background": "light"
     },
     "output_type": "display_data"
    }
   ],
   "source": [
    "results_full['diff'] = results_full['R2 Scores_h']-results_full['R2 Scores_s']\n",
    "display(results_full)\n",
    "results_full['diff'].hist()\n",
    "plt.axvline(results_full['diff'].quantile(0.05), color='r')\n",
    "plt.axvline(results_full['diff'].quantile(0.95), color='r')\n",
    "print('90%% range is %4.3f to %4.3f' % \n",
    "      (results_full['diff'].quantile(0.05), results_full['diff'].quantile(0.95)))"
   ]
  },
  {
   "cell_type": "code",
   "execution_count": 95,
   "id": "1a99a808",
   "metadata": {
    "scrolled": true
   },
   "outputs": [
    {
     "name": "stdout",
     "output_type": "stream",
     "text": [
      "Coefficients: [[0.023]]\n",
      "Intercept: [-60.687]\n"
     ]
    },
    {
     "data": {
      "image/png": "[encoded data removed]",
      "text/plain": [
       "<Figure size 432x288 with 1 Axes>"
      ]
     },
     "metadata": {
      "needs_background": "light"
     },
     "output_type": "display_data"
    }
   ],
   "source": [
    "reg3 = LinearRegression().fit(area,storks)\n",
    "df.plot.scatter('Area','Storks')\n",
    "ranges3 = np.arange(0,810000,10000).reshape(-1,1)\n",
    "plt.plot(ranges3,reg3.predict(ranges3))\n",
    "reg3.score(area,storks)\n",
    "print('Coefficients: ' + str(reg3.coef_))\n",
    "print('Intercept: ' + str(reg3.intercept_))"
   ]
  },
  {
   "cell_type": "code",
   "execution_count": 96,
   "id": "d9aa7661",
   "metadata": {},
   "outputs": [
    {
     "data": {
      "text/html": [
       "<div>\n",
       "<style scoped>\n",
       "    .dataframe tbody tr th:only-of-type {\n",
       "        vertical-align: middle;\n",
       "    }\n",
       "\n",
       "    .dataframe tbody tr th {\n",
       "        vertical-align: top;\n",
       "    }\n",
       "\n",
       "    .dataframe thead th {\n",
       "        text-align: right;\n",
       "    }\n",
       "</style>\n",
       "<table border=\"1\" class=\"dataframe\">\n",
       "  <thead>\n",
       "    <tr style=\"text-align: right;\">\n",
       "      <th></th>\n",
       "      <th>Country</th>\n",
       "      <th>Area</th>\n",
       "      <th>Storks</th>\n",
       "      <th>Humans</th>\n",
       "      <th>BirthRate</th>\n",
       "      <th>SuitableAreaPercent</th>\n",
       "      <th>pop_dens</th>\n",
       "      <th>suitable_area</th>\n",
       "    </tr>\n",
       "  </thead>\n",
       "  <tbody>\n",
       "    <tr>\n",
       "      <th>0</th>\n",
       "      <td>Albania</td>\n",
       "      <td>28750</td>\n",
       "      <td>100</td>\n",
       "      <td>3.2</td>\n",
       "      <td>83</td>\n",
       "      <td>55.68</td>\n",
       "      <td>111.304348</td>\n",
       "      <td>16008.000</td>\n",
       "    </tr>\n",
       "    <tr>\n",
       "      <th>1</th>\n",
       "      <td>Austria</td>\n",
       "      <td>83860</td>\n",
       "      <td>300</td>\n",
       "      <td>7.6</td>\n",
       "      <td>87</td>\n",
       "      <td>38.34</td>\n",
       "      <td>90.627236</td>\n",
       "      <td>32151.924</td>\n",
       "    </tr>\n",
       "    <tr>\n",
       "      <th>2</th>\n",
       "      <td>Belgium</td>\n",
       "      <td>30520</td>\n",
       "      <td>1</td>\n",
       "      <td>9.9</td>\n",
       "      <td>118</td>\n",
       "      <td>65.93</td>\n",
       "      <td>324.377457</td>\n",
       "      <td>20121.836</td>\n",
       "    </tr>\n",
       "    <tr>\n",
       "      <th>3</th>\n",
       "      <td>Bulgaria</td>\n",
       "      <td>111000</td>\n",
       "      <td>5000</td>\n",
       "      <td>9.0</td>\n",
       "      <td>117</td>\n",
       "      <td>57.99</td>\n",
       "      <td>81.081081</td>\n",
       "      <td>64368.900</td>\n",
       "    </tr>\n",
       "    <tr>\n",
       "      <th>4</th>\n",
       "      <td>Denmark</td>\n",
       "      <td>43100</td>\n",
       "      <td>9</td>\n",
       "      <td>5.1</td>\n",
       "      <td>59</td>\n",
       "      <td>81.46</td>\n",
       "      <td>118.329466</td>\n",
       "      <td>35109.260</td>\n",
       "    </tr>\n",
       "  </tbody>\n",
       "</table>\n",
       "</div>"
      ],
      "text/plain": [
       "    Country    Area  Storks  Humans  BirthRate  SuitableAreaPercent  \\\n",
       "0   Albania   28750     100     3.2         83                55.68   \n",
       "1   Austria   83860     300     7.6         87                38.34   \n",
       "2   Belgium   30520       1     9.9        118                65.93   \n",
       "3  Bulgaria  111000    5000     9.0        117                57.99   \n",
       "4   Denmark   43100       9     5.1         59                81.46   \n",
       "\n",
       "     pop_dens  suitable_area  \n",
       "0  111.304348      16008.000  \n",
       "1   90.627236      32151.924  \n",
       "2  324.377457      20121.836  \n",
       "3   81.081081      64368.900  \n",
       "4  118.329466      35109.260  "
      ]
     },
     "execution_count": 96,
     "metadata": {},
     "output_type": "execute_result"
    }
   ],
   "source": [
    "df['pop_dens'] = df.Humans*10**6/df.Area\n",
    "df['suitable_area'] = df.Area*(df.SuitableAreaPercent/100)\n",
    "df.head()"
   ]
  },
  {
   "cell_type": "code",
   "execution_count": 97,
   "id": "59e2b068",
   "metadata": {},
   "outputs": [
    {
     "name": "stdout",
     "output_type": "stream",
     "text": [
      "R2 score: 0.3928894337314268\n",
      "Coefficients: [[-12.133   0.037]]\n",
      "Intercept: [1881.387]\n"
     ]
    }
   ],
   "source": [
    "X = np.column_stack((df.pop_dens,df.suitable_area))\n",
    "reg4 = LinearRegression().fit(X,storks)\n",
    "print('R2 score: ' + str(reg4.score(X,storks)))\n",
    "print('Coefficients: ' + str(reg4.coef_))\n",
    "print('Intercept: ' + str(reg4.intercept_))"
   ]
  },
  {
   "cell_type": "code",
   "execution_count": 98,
   "id": "82541d2d",
   "metadata": {},
   "outputs": [
    {
     "data": {
      "text/plain": [
       "6984.766863832696"
      ]
     },
     "execution_count": 98,
     "metadata": {},
     "output_type": "execute_result"
    }
   ],
   "source": [
    "def doReg2(predict,target):\n",
    "    x = predict.to_numpy().reshape(-1,1)\n",
    "    y = target.to_numpy().reshape(-1,1)    \n",
    "    reg = LinearRegression().fit(x,y)\n",
    "    y_hat = reg.predict(x)\n",
    "    return mean_squared_error(y, y_hat, squared=False)\n",
    "\n",
    "doReg2(df.Area,df.Storks)"
   ]
  },
  {
   "cell_type": "code",
   "execution_count": 99,
   "id": "176854b8",
   "metadata": {},
   "outputs": [
    {
     "data": {
      "text/plain": [
       "6677.0286930693765"
      ]
     },
     "execution_count": 99,
     "metadata": {},
     "output_type": "execute_result"
    }
   ],
   "source": [
    "def doReg3(pred1,pred2,target):\n",
    "    X = np.column_stack((pred1,pred2))\n",
    "    y = target.to_numpy().reshape(-1,1)    \n",
    "    reg = LinearRegression().fit(X,y)\n",
    "    y_hat = reg.predict(X)\n",
    "    return mean_squared_error(y, y_hat, squared=False)\n",
    "doReg3(df.pop_dens,df.suitable_area,df.Storks)"
   ]
  },
  {
   "cell_type": "code",
   "execution_count": 100,
   "id": "1de10dd3",
   "metadata": {},
   "outputs": [
    {
     "data": {
      "text/html": [
       "<div>\n",
       "<style scoped>\n",
       "    .dataframe tbody tr th:only-of-type {\n",
       "        vertical-align: middle;\n",
       "    }\n",
       "\n",
       "    .dataframe tbody tr th {\n",
       "        vertical-align: top;\n",
       "    }\n",
       "\n",
       "    .dataframe thead th {\n",
       "        text-align: right;\n",
       "    }\n",
       "</style>\n",
       "<table border=\"1\" class=\"dataframe\">\n",
       "  <thead>\n",
       "    <tr style=\"text-align: right;\">\n",
       "      <th></th>\n",
       "      <th>RMSE_a</th>\n",
       "    </tr>\n",
       "  </thead>\n",
       "  <tbody>\n",
       "    <tr>\n",
       "      <th>0</th>\n",
       "      <td>1569.399786</td>\n",
       "    </tr>\n",
       "    <tr>\n",
       "      <th>1</th>\n",
       "      <td>1927.284326</td>\n",
       "    </tr>\n",
       "    <tr>\n",
       "      <th>2</th>\n",
       "      <td>6393.158703</td>\n",
       "    </tr>\n",
       "    <tr>\n",
       "      <th>3</th>\n",
       "      <td>8415.328964</td>\n",
       "    </tr>\n",
       "    <tr>\n",
       "      <th>4</th>\n",
       "      <td>4868.803348</td>\n",
       "    </tr>\n",
       "    <tr>\n",
       "      <th>...</th>\n",
       "      <td>...</td>\n",
       "    </tr>\n",
       "    <tr>\n",
       "      <th>495</th>\n",
       "      <td>8572.035182</td>\n",
       "    </tr>\n",
       "    <tr>\n",
       "      <th>496</th>\n",
       "      <td>2961.133563</td>\n",
       "    </tr>\n",
       "    <tr>\n",
       "      <th>497</th>\n",
       "      <td>3019.322620</td>\n",
       "    </tr>\n",
       "    <tr>\n",
       "      <th>498</th>\n",
       "      <td>5441.261912</td>\n",
       "    </tr>\n",
       "    <tr>\n",
       "      <th>499</th>\n",
       "      <td>6404.999773</td>\n",
       "    </tr>\n",
       "  </tbody>\n",
       "</table>\n",
       "<p>500 rows × 1 columns</p>\n",
       "</div>"
      ],
      "text/plain": [
       "          RMSE_a\n",
       "0    1569.399786\n",
       "1    1927.284326\n",
       "2    6393.158703\n",
       "3    8415.328964\n",
       "4    4868.803348\n",
       "..           ...\n",
       "495  8572.035182\n",
       "496  2961.133563\n",
       "497  3019.322620\n",
       "498  5441.261912\n",
       "499  6404.999773\n",
       "\n",
       "[500 rows x 1 columns]"
      ]
     },
     "execution_count": 100,
     "metadata": {},
     "output_type": "execute_result"
    }
   ],
   "source": [
    "results = []\n",
    "\n",
    "for i in range(500):\n",
    "    sample = np.random.choice(range(len(df)),replace=True, size=len(df))\n",
    "    sample = df[['Area','Storks']].iloc[sample]\n",
    "    results.append(doReg2(sample.Area,sample.Storks))\n",
    "results_a_s = pd.DataFrame(results).rename(columns={0:'RMSE_a'})\n",
    "results_a_s"
   ]
  },
  {
   "cell_type": "code",
   "execution_count": 101,
   "id": "286d7c8a",
   "metadata": {},
   "outputs": [
    {
     "data": {
      "text/html": [
       "<div>\n",
       "<style scoped>\n",
       "    .dataframe tbody tr th:only-of-type {\n",
       "        vertical-align: middle;\n",
       "    }\n",
       "\n",
       "    .dataframe tbody tr th {\n",
       "        vertical-align: top;\n",
       "    }\n",
       "\n",
       "    .dataframe thead th {\n",
       "        text-align: right;\n",
       "    }\n",
       "</style>\n",
       "<table border=\"1\" class=\"dataframe\">\n",
       "  <thead>\n",
       "    <tr style=\"text-align: right;\">\n",
       "      <th></th>\n",
       "      <th>RMSE_p</th>\n",
       "    </tr>\n",
       "  </thead>\n",
       "  <tbody>\n",
       "    <tr>\n",
       "      <th>0</th>\n",
       "      <td>10046.180338</td>\n",
       "    </tr>\n",
       "    <tr>\n",
       "      <th>1</th>\n",
       "      <td>4204.209431</td>\n",
       "    </tr>\n",
       "    <tr>\n",
       "      <th>2</th>\n",
       "      <td>6881.823793</td>\n",
       "    </tr>\n",
       "    <tr>\n",
       "      <th>3</th>\n",
       "      <td>10836.758374</td>\n",
       "    </tr>\n",
       "    <tr>\n",
       "      <th>4</th>\n",
       "      <td>6903.197474</td>\n",
       "    </tr>\n",
       "    <tr>\n",
       "      <th>...</th>\n",
       "      <td>...</td>\n",
       "    </tr>\n",
       "    <tr>\n",
       "      <th>495</th>\n",
       "      <td>3260.562572</td>\n",
       "    </tr>\n",
       "    <tr>\n",
       "      <th>496</th>\n",
       "      <td>5720.471627</td>\n",
       "    </tr>\n",
       "    <tr>\n",
       "      <th>497</th>\n",
       "      <td>5952.852322</td>\n",
       "    </tr>\n",
       "    <tr>\n",
       "      <th>498</th>\n",
       "      <td>7518.460172</td>\n",
       "    </tr>\n",
       "    <tr>\n",
       "      <th>499</th>\n",
       "      <td>6652.258495</td>\n",
       "    </tr>\n",
       "  </tbody>\n",
       "</table>\n",
       "<p>500 rows × 1 columns</p>\n",
       "</div>"
      ],
      "text/plain": [
       "           RMSE_p\n",
       "0    10046.180338\n",
       "1     4204.209431\n",
       "2     6881.823793\n",
       "3    10836.758374\n",
       "4     6903.197474\n",
       "..            ...\n",
       "495   3260.562572\n",
       "496   5720.471627\n",
       "497   5952.852322\n",
       "498   7518.460172\n",
       "499   6652.258495\n",
       "\n",
       "[500 rows x 1 columns]"
      ]
     },
     "execution_count": 101,
     "metadata": {},
     "output_type": "execute_result"
    }
   ],
   "source": [
    "results = []\n",
    "for i in range(500):\n",
    "    sample = np.random.choice(range(len(df)),replace=True, size=len(df))\n",
    "    sample = df[['pop_dens','Area','Storks']].iloc[sample]\n",
    "    results.append(doReg3(sample.pop_dens,sample.Area,sample.Storks))\n",
    "results_p_s = pd.DataFrame(results).rename(columns={0:'RMSE_p'})\n",
    "results_p_s"
   ]
  },
  {
   "cell_type": "code",
   "execution_count": 102,
   "id": "6f650cca",
   "metadata": {},
   "outputs": [
    {
     "data": {
      "text/html": [
       "<div>\n",
       "<style scoped>\n",
       "    .dataframe tbody tr th:only-of-type {\n",
       "        vertical-align: middle;\n",
       "    }\n",
       "\n",
       "    .dataframe tbody tr th {\n",
       "        vertical-align: top;\n",
       "    }\n",
       "\n",
       "    .dataframe thead th {\n",
       "        text-align: right;\n",
       "    }\n",
       "</style>\n",
       "<table border=\"1\" class=\"dataframe\">\n",
       "  <thead>\n",
       "    <tr style=\"text-align: right;\">\n",
       "      <th></th>\n",
       "      <th>RMSE_a</th>\n",
       "      <th>RMSE_p</th>\n",
       "      <th>diff</th>\n",
       "    </tr>\n",
       "  </thead>\n",
       "  <tbody>\n",
       "    <tr>\n",
       "      <th>0</th>\n",
       "      <td>1569.399786</td>\n",
       "      <td>10046.180338</td>\n",
       "      <td>-8476.780553</td>\n",
       "    </tr>\n",
       "    <tr>\n",
       "      <th>1</th>\n",
       "      <td>1927.284326</td>\n",
       "      <td>4204.209431</td>\n",
       "      <td>-2276.925106</td>\n",
       "    </tr>\n",
       "    <tr>\n",
       "      <th>2</th>\n",
       "      <td>6393.158703</td>\n",
       "      <td>6881.823793</td>\n",
       "      <td>-488.665090</td>\n",
       "    </tr>\n",
       "    <tr>\n",
       "      <th>3</th>\n",
       "      <td>8415.328964</td>\n",
       "      <td>10836.758374</td>\n",
       "      <td>-2421.429410</td>\n",
       "    </tr>\n",
       "    <tr>\n",
       "      <th>4</th>\n",
       "      <td>4868.803348</td>\n",
       "      <td>6903.197474</td>\n",
       "      <td>-2034.394126</td>\n",
       "    </tr>\n",
       "  </tbody>\n",
       "</table>\n",
       "</div>"
      ],
      "text/plain": [
       "        RMSE_a        RMSE_p         diff\n",
       "0  1569.399786  10046.180338 -8476.780553\n",
       "1  1927.284326   4204.209431 -2276.925106\n",
       "2  6393.158703   6881.823793  -488.665090\n",
       "3  8415.328964  10836.758374 -2421.429410\n",
       "4  4868.803348   6903.197474 -2034.394126"
      ]
     },
     "metadata": {},
     "output_type": "display_data"
    },
    {
     "name": "stdout",
     "output_type": "stream",
     "text": [
      "90% range is -5675.860 to 5775.598\n"
     ]
    },
    {
     "data": {
      "image/png": "[encoded data removed]",
      "text/plain": [
       "<Figure size 432x288 with 1 Axes>"
      ]
     },
     "metadata": {
      "needs_background": "light"
     },
     "output_type": "display_data"
    }
   ],
   "source": [
    "results_full2 = results_a_s.join(results_p_s)\n",
    "results_full2['diff'] = results_full2['RMSE_a'] - results_full2['RMSE_p']\n",
    "display(results_full2.head())\n",
    "results_full2['diff'].hist()\n",
    "plt.axvline(results_full2['diff'].quantile(0.05), color='r')\n",
    "plt.axvline(results_full2['diff'].quantile(0.95), color='r')\n",
    "print('90%% range is %4.3f to %4.3f' % \n",
    "      (results_full2['diff'].quantile(0.05), results_full2['diff'].quantile(0.95)))"
   ]
  },
  {
   "cell_type": "code",
   "execution_count": 103,
   "id": "6528b77f",
   "metadata": {},
   "outputs": [
    {
     "name": "stdout",
     "output_type": "stream",
     "text": [
      "The change in Storks (as a percent of its range) given by the pop_dens coefficient (over its range) is -15.1%\n",
      "The change in Storks (as a percent of its range) given by the suitable_area coefficient (over its range) is 71.56%\n"
     ]
    }
   ],
   "source": [
    "score_range = df.Storks.quantile(0.9) - df.Storks.quantile(0.1)\n",
    "pop_dens_range = df.pop_dens.quantile(0.9) - df.pop_dens.quantile(0.1)\n",
    "suitable_area_range = df.suitable_area.quantile(0.9) - df.suitable_area.quantile(0.1)\n",
    "print(f'The change in Storks (as a percent of its range) given by the pop_dens coefficient (over its range) is {np.round(100*(reg4.coef_[0][0]*pop_dens_range)/score_range,2)}%')\n",
    "print(f'The change in Storks (as a percent of its range) given by the suitable_area coefficient (over its range) is {np.round(100*(reg4.coef_[0][1]*suitable_area_range)/score_range,2)}%')"
   ]
  }
 ],
 "metadata": {
  "kernelspec": {
   "display_name": "Python 3",
   "language": "python",
   "name": "python3"
  },
  "language_info": {
   "codemirror_mode": {
    "name": "ipython",
    "version": 3
   },
   "file_extension": ".py",
   "mimetype": "text/x-python",
   "name": "python",
   "nbconvert_exporter": "python",
   "pygments_lexer": "ipython3",
   "version": "3.8.8"
  }
 },
 "nbformat": 4,
 "nbformat_minor": 5
}
