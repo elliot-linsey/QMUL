{
 "cells": [
  {
   "cell_type": "code",
   "execution_count": 169,
   "id": "96783acd",
   "metadata": {},
   "outputs": [],
   "source": [
    "import pandas as pd\n",
    "import numpy as np\n",
    "import matplotlib.pyplot as plt\n",
    "from sklearn.linear_model import LinearRegression\n",
    "from sklearn.metrics import mean_squared_error"
   ]
  },
  {
   "cell_type": "code",
   "execution_count": 170,
   "id": "453c6d99",
   "metadata": {},
   "outputs": [
    {
     "data": {
      "text/html": [
       "<div>\n",
       "<style scoped>\n",
       "    .dataframe tbody tr th:only-of-type {\n",
       "        vertical-align: middle;\n",
       "    }\n",
       "\n",
       "    .dataframe tbody tr th {\n",
       "        vertical-align: top;\n",
       "    }\n",
       "\n",
       "    .dataframe thead th {\n",
       "        text-align: right;\n",
       "    }\n",
       "</style>\n",
       "<table border=\"1\" class=\"dataframe\">\n",
       "  <thead>\n",
       "    <tr style=\"text-align: right;\">\n",
       "      <th></th>\n",
       "      <th>Country</th>\n",
       "      <th>Area</th>\n",
       "      <th>Storks</th>\n",
       "      <th>Humans</th>\n",
       "      <th>BirthRate</th>\n",
       "      <th>SuitableAreaPercent</th>\n",
       "    </tr>\n",
       "  </thead>\n",
       "  <tbody>\n",
       "    <tr>\n",
       "      <th>0</th>\n",
       "      <td>Albania</td>\n",
       "      <td>28750</td>\n",
       "      <td>100</td>\n",
       "      <td>3.2</td>\n",
       "      <td>83</td>\n",
       "      <td>55.68</td>\n",
       "    </tr>\n",
       "    <tr>\n",
       "      <th>1</th>\n",
       "      <td>Austria</td>\n",
       "      <td>83860</td>\n",
       "      <td>300</td>\n",
       "      <td>7.6</td>\n",
       "      <td>87</td>\n",
       "      <td>38.34</td>\n",
       "    </tr>\n",
       "    <tr>\n",
       "      <th>2</th>\n",
       "      <td>Belgium</td>\n",
       "      <td>30520</td>\n",
       "      <td>1</td>\n",
       "      <td>9.9</td>\n",
       "      <td>118</td>\n",
       "      <td>65.93</td>\n",
       "    </tr>\n",
       "    <tr>\n",
       "      <th>3</th>\n",
       "      <td>Bulgaria</td>\n",
       "      <td>111000</td>\n",
       "      <td>5000</td>\n",
       "      <td>9.0</td>\n",
       "      <td>117</td>\n",
       "      <td>57.99</td>\n",
       "    </tr>\n",
       "    <tr>\n",
       "      <th>4</th>\n",
       "      <td>Denmark</td>\n",
       "      <td>43100</td>\n",
       "      <td>9</td>\n",
       "      <td>5.1</td>\n",
       "      <td>59</td>\n",
       "      <td>81.46</td>\n",
       "    </tr>\n",
       "    <tr>\n",
       "      <th>5</th>\n",
       "      <td>France</td>\n",
       "      <td>544000</td>\n",
       "      <td>140</td>\n",
       "      <td>56.0</td>\n",
       "      <td>774</td>\n",
       "      <td>58.47</td>\n",
       "    </tr>\n",
       "    <tr>\n",
       "      <th>6</th>\n",
       "      <td>Germany</td>\n",
       "      <td>357000</td>\n",
       "      <td>3300</td>\n",
       "      <td>78.0</td>\n",
       "      <td>901</td>\n",
       "      <td>59.81</td>\n",
       "    </tr>\n",
       "    <tr>\n",
       "      <th>7</th>\n",
       "      <td>Greece</td>\n",
       "      <td>132000</td>\n",
       "      <td>2500</td>\n",
       "      <td>10.0</td>\n",
       "      <td>106</td>\n",
       "      <td>47.31</td>\n",
       "    </tr>\n",
       "    <tr>\n",
       "      <th>8</th>\n",
       "      <td>Holland</td>\n",
       "      <td>41900</td>\n",
       "      <td>4</td>\n",
       "      <td>15.0</td>\n",
       "      <td>188</td>\n",
       "      <td>70.96</td>\n",
       "    </tr>\n",
       "    <tr>\n",
       "      <th>9</th>\n",
       "      <td>Hungary</td>\n",
       "      <td>93000</td>\n",
       "      <td>5000</td>\n",
       "      <td>11.0</td>\n",
       "      <td>124</td>\n",
       "      <td>75.86</td>\n",
       "    </tr>\n",
       "    <tr>\n",
       "      <th>10</th>\n",
       "      <td>Italy</td>\n",
       "      <td>301280</td>\n",
       "      <td>5</td>\n",
       "      <td>57.0</td>\n",
       "      <td>551</td>\n",
       "      <td>60.30</td>\n",
       "    </tr>\n",
       "    <tr>\n",
       "      <th>11</th>\n",
       "      <td>Poland</td>\n",
       "      <td>312680</td>\n",
       "      <td>30000</td>\n",
       "      <td>38.0</td>\n",
       "      <td>610</td>\n",
       "      <td>64.09</td>\n",
       "    </tr>\n",
       "    <tr>\n",
       "      <th>12</th>\n",
       "      <td>Portugal</td>\n",
       "      <td>92390</td>\n",
       "      <td>1500</td>\n",
       "      <td>10.0</td>\n",
       "      <td>120</td>\n",
       "      <td>52.51</td>\n",
       "    </tr>\n",
       "    <tr>\n",
       "      <th>13</th>\n",
       "      <td>Romania</td>\n",
       "      <td>237500</td>\n",
       "      <td>5000</td>\n",
       "      <td>23.0</td>\n",
       "      <td>367</td>\n",
       "      <td>62.49</td>\n",
       "    </tr>\n",
       "    <tr>\n",
       "      <th>14</th>\n",
       "      <td>Spain</td>\n",
       "      <td>504750</td>\n",
       "      <td>8000</td>\n",
       "      <td>39.0</td>\n",
       "      <td>439</td>\n",
       "      <td>59.57</td>\n",
       "    </tr>\n",
       "    <tr>\n",
       "      <th>15</th>\n",
       "      <td>Switzerland</td>\n",
       "      <td>41290</td>\n",
       "      <td>150</td>\n",
       "      <td>6.7</td>\n",
       "      <td>82</td>\n",
       "      <td>43.19</td>\n",
       "    </tr>\n",
       "    <tr>\n",
       "      <th>16</th>\n",
       "      <td>Turkey</td>\n",
       "      <td>779450</td>\n",
       "      <td>25000</td>\n",
       "      <td>56.0</td>\n",
       "      <td>1576</td>\n",
       "      <td>65.97</td>\n",
       "    </tr>\n",
       "  </tbody>\n",
       "</table>\n",
       "</div>"
      ],
      "text/plain": [
       "        Country    Area  Storks  Humans  BirthRate  SuitableAreaPercent\n",
       "0       Albania   28750     100     3.2         83                55.68\n",
       "1       Austria   83860     300     7.6         87                38.34\n",
       "2       Belgium   30520       1     9.9        118                65.93\n",
       "3      Bulgaria  111000    5000     9.0        117                57.99\n",
       "4       Denmark   43100       9     5.1         59                81.46\n",
       "5        France  544000     140    56.0        774                58.47\n",
       "6       Germany  357000    3300    78.0        901                59.81\n",
       "7        Greece  132000    2500    10.0        106                47.31\n",
       "8       Holland   41900       4    15.0        188                70.96\n",
       "9       Hungary   93000    5000    11.0        124                75.86\n",
       "10        Italy  301280       5    57.0        551                60.30\n",
       "11       Poland  312680   30000    38.0        610                64.09\n",
       "12     Portugal   92390    1500    10.0        120                52.51\n",
       "13      Romania  237500    5000    23.0        367                62.49\n",
       "14        Spain  504750    8000    39.0        439                59.57\n",
       "15  Switzerland   41290     150     6.7         82                43.19\n",
       "16       Turkey  779450   25000    56.0       1576                65.97"
      ]
     },
     "execution_count": 170,
     "metadata": {},
     "output_type": "execute_result"
    }
   ],
   "source": [
    "df = pd.read_csv('storks.csv')\n",
    "df"
   ]
  },
  {
   "cell_type": "code",
   "execution_count": 171,
   "id": "2e20e173",
   "metadata": {},
   "outputs": [
    {
     "data": {
      "text/plain": [
       "<AxesSubplot:xlabel='Storks', ylabel='BirthRate'>"
      ]
     },
     "execution_count": 171,
     "metadata": {},
     "output_type": "execute_result"
    },
    {
     "data": {
      "image/png": "[encoded data removed]",
      "text/plain": [
       "<Figure size 432x288 with 1 Axes>"
      ]
     },
     "metadata": {
      "needs_background": "light"
     },
     "output_type": "display_data"
    }
   ],
   "source": [
    "df.plot.scatter('Storks','BirthRate')"
   ]
  },
  {
   "cell_type": "code",
   "execution_count": 172,
   "id": "f046d00a",
   "metadata": {},
   "outputs": [],
   "source": [
    "storks = df.Storks.to_numpy().reshape(-1,1)\n",
    "humans = df.Humans.to_numpy().reshape(-1,1)\n",
    "area = df.Area.to_numpy().reshape(-1,1)\n",
    "y = df.BirthRate.to_numpy().reshape(-1,1)"
   ]
  },
  {
   "cell_type": "code",
   "execution_count": 173,
   "id": "e4c5f8fe",
   "metadata": {},
   "outputs": [
    {
     "data": {
      "text/plain": [
       "0.38472908997755273"
      ]
     },
     "execution_count": 173,
     "metadata": {},
     "output_type": "execute_result"
    }
   ],
   "source": [
    "reg = LinearRegression().fit(storks,y)\n",
    "reg.score(storks,y)"
   ]
  },
  {
   "cell_type": "code",
   "execution_count": 174,
   "id": "96414526",
   "metadata": {},
   "outputs": [
    {
     "data": {
      "text/plain": [
       "[<matplotlib.lines.Line2D at 0x22cb1544dc0>]"
      ]
     },
     "execution_count": 174,
     "metadata": {},
     "output_type": "execute_result"
    },
    {
     "data": {
      "image/png": "[encoded data removed]",
      "text/plain": [
       "<Figure size 432x288 with 1 Axes>"
      ]
     },
     "metadata": {
      "needs_background": "light"
     },
     "output_type": "display_data"
    }
   ],
   "source": [
    "ranges = np.arange(0,30000,50).reshape(-1,1)\n",
    "y_ranges = reg.predict(ranges)\n",
    "#y_ranges\n",
    "df.plot.scatter('Storks','BirthRate')\n",
    "plt.plot(ranges,y_ranges)"
   ]
  },
  {
   "cell_type": "code",
   "execution_count": 175,
   "id": "02554055",
   "metadata": {},
   "outputs": [
    {
     "data": {
      "text/plain": [
       "array([225.0286862])"
      ]
     },
     "execution_count": 175,
     "metadata": {},
     "output_type": "execute_result"
    }
   ],
   "source": [
    "reg.coef_\n",
    "reg.intercept_"
   ]
  },
  {
   "cell_type": "code",
   "execution_count": 176,
   "id": "9f50513c",
   "metadata": {},
   "outputs": [
    {
     "name": "stdout",
     "output_type": "stream",
     "text": [
      "0.7245576082208487\n"
     ]
    }
   ],
   "source": [
    "reg2 = LinearRegression().fit(humans,y)\n",
    "print(reg2.score(humans,y))\n",
    "ranges2 = np.arange(0,85,5).reshape(-1,1)\n",
    "y_ranges2 = reg2.predict(ranges2)"
   ]
  },
  {
   "cell_type": "code",
   "execution_count": 177,
   "id": "46c4d8f3",
   "metadata": {
    "scrolled": false
   },
   "outputs": [
    {
     "data": {
      "text/plain": [
       "[<matplotlib.lines.Line2D at 0x22cb1309a00>]"
      ]
     },
     "execution_count": 177,
     "metadata": {},
     "output_type": "execute_result"
    },
    {
     "data": {
      "image/png": "[encoded data removed]",
      "text/plain": [
       "<Figure size 432x288 with 1 Axes>"
      ]
     },
     "metadata": {
      "needs_background": "light"
     },
     "output_type": "display_data"
    }
   ],
   "source": [
    "df.plot.scatter('Humans','BirthRate')\n",
    "plt.plot(ranges2,y_ranges2)"
   ]
  },
  {
   "cell_type": "code",
   "execution_count": 178,
   "id": "39e85f38",
   "metadata": {},
   "outputs": [
    {
     "data": {
      "text/plain": [
       "0.38472908997755273"
      ]
     },
     "execution_count": 178,
     "metadata": {},
     "output_type": "execute_result"
    }
   ],
   "source": [
    "def doReg(predict,target):\n",
    "    x = predict.to_numpy().reshape(-1,1)\n",
    "    y = target.to_numpy().reshape(-1,1)    \n",
    "    reg = LinearRegression().fit(x,y)\n",
    "    return reg.score(x,y)\n",
    "\n",
    "doReg(df.Storks,df.BirthRate)"
   ]
  },
  {
   "cell_type": "code",
   "execution_count": 179,
   "id": "f20465f7",
   "metadata": {},
   "outputs": [],
   "source": [
    "results = []\n",
    "\n",
    "for i in range(500):\n",
    "    sample = np.random.choice(range(len(df)),replace=True, size=len(df))\n",
    "    sample = df[['Storks','BirthRate']].iloc[sample]\n",
    "    results.append(doReg(sample.Storks,sample.BirthRate))"
   ]
  },
  {
   "cell_type": "code",
   "execution_count": 180,
   "id": "eb8e9fa7",
   "metadata": {},
   "outputs": [
    {
     "data": {
      "text/plain": [
       "array([[<AxesSubplot:title={'center':'R2 Scores_s'}>]], dtype=object)"
      ]
     },
     "execution_count": 180,
     "metadata": {},
     "output_type": "execute_result"
    },
    {
     "data": {
      "image/png": "[encoded data removed]",
      "text/plain": [
       "<Figure size 432x288 with 1 Axes>"
      ]
     },
     "metadata": {
      "needs_background": "light"
     },
     "output_type": "display_data"
    }
   ],
   "source": [
    "results_storks = pd.DataFrame(results).rename(columns={0:'R2 Scores_s'})\n",
    "results_storks.hist()"
   ]
  },
  {
   "cell_type": "code",
   "execution_count": 181,
   "id": "8a95576b",
   "metadata": {},
   "outputs": [],
   "source": [
    "results = []\n",
    "\n",
    "for i in range(500):\n",
    "    sample = np.random.choice(range(len(df)),replace=True, size=len(df))\n",
    "    sample = df[['Humans','BirthRate']].iloc[sample]\n",
    "    results.append(doReg(sample.Humans,sample.BirthRate))"
   ]
  },
  {
   "cell_type": "code",
   "execution_count": 182,
   "id": "88a033e5",
   "metadata": {},
   "outputs": [
    {
     "data": {
      "text/plain": [
       "array([[<AxesSubplot:title={'center':'R2 Scores_h'}>]], dtype=object)"
      ]
     },
     "execution_count": 182,
     "metadata": {},
     "output_type": "execute_result"
    },
    {
     "data": {
      "image/png": "[encoded data removed]",
      "text/plain": [
       "<Figure size 432x288 with 1 Axes>"
      ]
     },
     "metadata": {
      "needs_background": "light"
     },
     "output_type": "display_data"
    }
   ],
   "source": [
    "results_humans = pd.DataFrame(results).rename(columns={0:'R2 Scores_h'})\n",
    "results_humans.hist()"
   ]
  },
  {
   "cell_type": "code",
   "execution_count": 183,
   "id": "7464c0a0",
   "metadata": {},
   "outputs": [
    {
     "data": {
      "text/html": [
       "<div>\n",
       "<style scoped>\n",
       "    .dataframe tbody tr th:only-of-type {\n",
       "        vertical-align: middle;\n",
       "    }\n",
       "\n",
       "    .dataframe tbody tr th {\n",
       "        vertical-align: top;\n",
       "    }\n",
       "\n",
       "    .dataframe thead th {\n",
       "        text-align: right;\n",
       "    }\n",
       "</style>\n",
       "<table border=\"1\" class=\"dataframe\">\n",
       "  <thead>\n",
       "    <tr style=\"text-align: right;\">\n",
       "      <th></th>\n",
       "      <th>R2 Scores_h</th>\n",
       "      <th>R2 Scores_s</th>\n",
       "    </tr>\n",
       "  </thead>\n",
       "  <tbody>\n",
       "    <tr>\n",
       "      <th>0</th>\n",
       "      <td>0.941224</td>\n",
       "      <td>0.326273</td>\n",
       "    </tr>\n",
       "    <tr>\n",
       "      <th>1</th>\n",
       "      <td>0.956725</td>\n",
       "      <td>0.130745</td>\n",
       "    </tr>\n",
       "    <tr>\n",
       "      <th>2</th>\n",
       "      <td>0.919743</td>\n",
       "      <td>0.262113</td>\n",
       "    </tr>\n",
       "    <tr>\n",
       "      <th>3</th>\n",
       "      <td>0.932805</td>\n",
       "      <td>0.116275</td>\n",
       "    </tr>\n",
       "    <tr>\n",
       "      <th>4</th>\n",
       "      <td>0.966060</td>\n",
       "      <td>0.215212</td>\n",
       "    </tr>\n",
       "    <tr>\n",
       "      <th>...</th>\n",
       "      <td>...</td>\n",
       "      <td>...</td>\n",
       "    </tr>\n",
       "    <tr>\n",
       "      <th>495</th>\n",
       "      <td>0.938085</td>\n",
       "      <td>0.279397</td>\n",
       "    </tr>\n",
       "    <tr>\n",
       "      <th>496</th>\n",
       "      <td>0.778385</td>\n",
       "      <td>0.111027</td>\n",
       "    </tr>\n",
       "    <tr>\n",
       "      <th>497</th>\n",
       "      <td>0.894185</td>\n",
       "      <td>0.517346</td>\n",
       "    </tr>\n",
       "    <tr>\n",
       "      <th>498</th>\n",
       "      <td>0.951695</td>\n",
       "      <td>0.407188</td>\n",
       "    </tr>\n",
       "    <tr>\n",
       "      <th>499</th>\n",
       "      <td>0.539493</td>\n",
       "      <td>0.642754</td>\n",
       "    </tr>\n",
       "  </tbody>\n",
       "</table>\n",
       "<p>500 rows × 2 columns</p>\n",
       "</div>"
      ],
      "text/plain": [
       "     R2 Scores_h  R2 Scores_s\n",
       "0       0.941224     0.326273\n",
       "1       0.956725     0.130745\n",
       "2       0.919743     0.262113\n",
       "3       0.932805     0.116275\n",
       "4       0.966060     0.215212\n",
       "..           ...          ...\n",
       "495     0.938085     0.279397\n",
       "496     0.778385     0.111027\n",
       "497     0.894185     0.517346\n",
       "498     0.951695     0.407188\n",
       "499     0.539493     0.642754\n",
       "\n",
       "[500 rows x 2 columns]"
      ]
     },
     "execution_count": 183,
     "metadata": {},
     "output_type": "execute_result"
    }
   ],
   "source": [
    "results_humans\n",
    "results_storks\n",
    "results_full = results_humans.join(results_storks)\n",
    "results_full"
   ]
  },
  {
   "cell_type": "code",
   "execution_count": 184,
   "id": "097476c9",
   "metadata": {},
   "outputs": [
    {
     "data": {
      "text/html": [
       "<div>\n",
       "<style scoped>\n",
       "    .dataframe tbody tr th:only-of-type {\n",
       "        vertical-align: middle;\n",
       "    }\n",
       "\n",
       "    .dataframe tbody tr th {\n",
       "        vertical-align: top;\n",
       "    }\n",
       "\n",
       "    .dataframe thead th {\n",
       "        text-align: right;\n",
       "    }\n",
       "</style>\n",
       "<table border=\"1\" class=\"dataframe\">\n",
       "  <thead>\n",
       "    <tr style=\"text-align: right;\">\n",
       "      <th></th>\n",
       "      <th>R2 Scores_h</th>\n",
       "      <th>R2 Scores_s</th>\n",
       "      <th>diff</th>\n",
       "    </tr>\n",
       "  </thead>\n",
       "  <tbody>\n",
       "    <tr>\n",
       "      <th>0</th>\n",
       "      <td>0.941224</td>\n",
       "      <td>0.326273</td>\n",
       "      <td>0.614951</td>\n",
       "    </tr>\n",
       "    <tr>\n",
       "      <th>1</th>\n",
       "      <td>0.956725</td>\n",
       "      <td>0.130745</td>\n",
       "      <td>0.825981</td>\n",
       "    </tr>\n",
       "    <tr>\n",
       "      <th>2</th>\n",
       "      <td>0.919743</td>\n",
       "      <td>0.262113</td>\n",
       "      <td>0.657629</td>\n",
       "    </tr>\n",
       "    <tr>\n",
       "      <th>3</th>\n",
       "      <td>0.932805</td>\n",
       "      <td>0.116275</td>\n",
       "      <td>0.816531</td>\n",
       "    </tr>\n",
       "    <tr>\n",
       "      <th>4</th>\n",
       "      <td>0.966060</td>\n",
       "      <td>0.215212</td>\n",
       "      <td>0.750848</td>\n",
       "    </tr>\n",
       "    <tr>\n",
       "      <th>...</th>\n",
       "      <td>...</td>\n",
       "      <td>...</td>\n",
       "      <td>...</td>\n",
       "    </tr>\n",
       "    <tr>\n",
       "      <th>495</th>\n",
       "      <td>0.938085</td>\n",
       "      <td>0.279397</td>\n",
       "      <td>0.658687</td>\n",
       "    </tr>\n",
       "    <tr>\n",
       "      <th>496</th>\n",
       "      <td>0.778385</td>\n",
       "      <td>0.111027</td>\n",
       "      <td>0.667358</td>\n",
       "    </tr>\n",
       "    <tr>\n",
       "      <th>497</th>\n",
       "      <td>0.894185</td>\n",
       "      <td>0.517346</td>\n",
       "      <td>0.376839</td>\n",
       "    </tr>\n",
       "    <tr>\n",
       "      <th>498</th>\n",
       "      <td>0.951695</td>\n",
       "      <td>0.407188</td>\n",
       "      <td>0.544507</td>\n",
       "    </tr>\n",
       "    <tr>\n",
       "      <th>499</th>\n",
       "      <td>0.539493</td>\n",
       "      <td>0.642754</td>\n",
       "      <td>-0.103261</td>\n",
       "    </tr>\n",
       "  </tbody>\n",
       "</table>\n",
       "<p>500 rows × 3 columns</p>\n",
       "</div>"
      ],
      "text/plain": [
       "     R2 Scores_h  R2 Scores_s      diff\n",
       "0       0.941224     0.326273  0.614951\n",
       "1       0.956725     0.130745  0.825981\n",
       "2       0.919743     0.262113  0.657629\n",
       "3       0.932805     0.116275  0.816531\n",
       "4       0.966060     0.215212  0.750848\n",
       "..           ...          ...       ...\n",
       "495     0.938085     0.279397  0.658687\n",
       "496     0.778385     0.111027  0.667358\n",
       "497     0.894185     0.517346  0.376839\n",
       "498     0.951695     0.407188  0.544507\n",
       "499     0.539493     0.642754 -0.103261\n",
       "\n",
       "[500 rows x 3 columns]"
      ]
     },
     "metadata": {},
     "output_type": "display_data"
    },
    {
     "name": "stdout",
     "output_type": "stream",
     "text": [
      "90% range is -0.027 to 0.870\n"
     ]
    },
    {
     "data": {
      "image/png": "[encoded data removed]",
      "text/plain": [
       "<Figure size 432x288 with 1 Axes>"
      ]
     },
     "metadata": {
      "needs_background": "light"
     },
     "output_type": "display_data"
    }
   ],
   "source": [
    "results_full['diff'] = results_full['R2 Scores_h']-results_full['R2 Scores_s']\n",
    "display(results_full)\n",
    "results_full['diff'].hist()\n",
    "plt.axvline(results_full['diff'].quantile(0.05), color='r')\n",
    "plt.axvline(results_full['diff'].quantile(0.95), color='r')\n",
    "print('90%% range is %4.3f to %4.3f' % \n",
    "      (results_full['diff'].quantile(0.05), results_full['diff'].quantile(0.95)))"
   ]
  },
  {
   "cell_type": "code",
   "execution_count": 185,
   "id": "1a99a808",
   "metadata": {
    "scrolled": true
   },
   "outputs": [
    {
     "name": "stdout",
     "output_type": "stream",
     "text": [
      "Coefficients: [[0.02330737]]\n",
      "Intercept: [-60.68685233]\n"
     ]
    },
    {
     "data": {
      "image/png": "[encoded data removed]",
      "text/plain": [
       "<Figure size 432x288 with 1 Axes>"
      ]
     },
     "metadata": {
      "needs_background": "light"
     },
     "output_type": "display_data"
    }
   ],
   "source": [
    "reg3 = LinearRegression().fit(area,storks)\n",
    "df.plot.scatter('Area','Storks')\n",
    "ranges3 = np.arange(0,810000,10000).reshape(-1,1)\n",
    "plt.plot(ranges3,reg3.predict(ranges3))\n",
    "reg3.score(area,storks)\n",
    "print('Coefficients: ' + str(reg3.coef_))\n",
    "print('Intercept: ' + str(reg3.intercept_))"
   ]
  },
  {
   "cell_type": "code",
   "execution_count": 186,
   "id": "d9aa7661",
   "metadata": {},
   "outputs": [
    {
     "data": {
      "text/html": [
       "<div>\n",
       "<style scoped>\n",
       "    .dataframe tbody tr th:only-of-type {\n",
       "        vertical-align: middle;\n",
       "    }\n",
       "\n",
       "    .dataframe tbody tr th {\n",
       "        vertical-align: top;\n",
       "    }\n",
       "\n",
       "    .dataframe thead th {\n",
       "        text-align: right;\n",
       "    }\n",
       "</style>\n",
       "<table border=\"1\" class=\"dataframe\">\n",
       "  <thead>\n",
       "    <tr style=\"text-align: right;\">\n",
       "      <th></th>\n",
       "      <th>Country</th>\n",
       "      <th>Area</th>\n",
       "      <th>Storks</th>\n",
       "      <th>Humans</th>\n",
       "      <th>BirthRate</th>\n",
       "      <th>SuitableAreaPercent</th>\n",
       "      <th>pop_dens</th>\n",
       "      <th>suitable_area</th>\n",
       "    </tr>\n",
       "  </thead>\n",
       "  <tbody>\n",
       "    <tr>\n",
       "      <th>0</th>\n",
       "      <td>Albania</td>\n",
       "      <td>28750</td>\n",
       "      <td>100</td>\n",
       "      <td>3.2</td>\n",
       "      <td>83</td>\n",
       "      <td>55.68</td>\n",
       "      <td>111.304348</td>\n",
       "      <td>16008.000</td>\n",
       "    </tr>\n",
       "    <tr>\n",
       "      <th>1</th>\n",
       "      <td>Austria</td>\n",
       "      <td>83860</td>\n",
       "      <td>300</td>\n",
       "      <td>7.6</td>\n",
       "      <td>87</td>\n",
       "      <td>38.34</td>\n",
       "      <td>90.627236</td>\n",
       "      <td>32151.924</td>\n",
       "    </tr>\n",
       "    <tr>\n",
       "      <th>2</th>\n",
       "      <td>Belgium</td>\n",
       "      <td>30520</td>\n",
       "      <td>1</td>\n",
       "      <td>9.9</td>\n",
       "      <td>118</td>\n",
       "      <td>65.93</td>\n",
       "      <td>324.377457</td>\n",
       "      <td>20121.836</td>\n",
       "    </tr>\n",
       "    <tr>\n",
       "      <th>3</th>\n",
       "      <td>Bulgaria</td>\n",
       "      <td>111000</td>\n",
       "      <td>5000</td>\n",
       "      <td>9.0</td>\n",
       "      <td>117</td>\n",
       "      <td>57.99</td>\n",
       "      <td>81.081081</td>\n",
       "      <td>64368.900</td>\n",
       "    </tr>\n",
       "    <tr>\n",
       "      <th>4</th>\n",
       "      <td>Denmark</td>\n",
       "      <td>43100</td>\n",
       "      <td>9</td>\n",
       "      <td>5.1</td>\n",
       "      <td>59</td>\n",
       "      <td>81.46</td>\n",
       "      <td>118.329466</td>\n",
       "      <td>35109.260</td>\n",
       "    </tr>\n",
       "  </tbody>\n",
       "</table>\n",
       "</div>"
      ],
      "text/plain": [
       "    Country    Area  Storks  Humans  BirthRate  SuitableAreaPercent  \\\n",
       "0   Albania   28750     100     3.2         83                55.68   \n",
       "1   Austria   83860     300     7.6         87                38.34   \n",
       "2   Belgium   30520       1     9.9        118                65.93   \n",
       "3  Bulgaria  111000    5000     9.0        117                57.99   \n",
       "4   Denmark   43100       9     5.1         59                81.46   \n",
       "\n",
       "     pop_dens  suitable_area  \n",
       "0  111.304348      16008.000  \n",
       "1   90.627236      32151.924  \n",
       "2  324.377457      20121.836  \n",
       "3   81.081081      64368.900  \n",
       "4  118.329466      35109.260  "
      ]
     },
     "execution_count": 186,
     "metadata": {},
     "output_type": "execute_result"
    }
   ],
   "source": [
    "df['pop_dens'] = df.Humans*10**6/df.Area\n",
    "df['suitable_area'] = df.Area*(df.SuitableAreaPercent/100)\n",
    "df.head()"
   ]
  },
  {
   "cell_type": "code",
   "execution_count": 187,
   "id": "59e2b068",
   "metadata": {},
   "outputs": [
    {
     "name": "stdout",
     "output_type": "stream",
     "text": [
      "R2 score: 0.3928894337314268\n",
      "Coefficients: [[-12.13259789   0.03670658]]\n",
      "Intercept: [1881.38702023]\n"
     ]
    }
   ],
   "source": [
    "X = np.column_stack((df.pop_dens,df.suitable_area))\n",
    "reg4 = LinearRegression().fit(X,storks)\n",
    "print('R2 score: ' + str(reg4.score(X,storks)))\n",
    "print('Coefficients: ' + str(reg4.coef_))\n",
    "print('Intercept: ' + str(reg4.intercept_))"
   ]
  },
  {
   "cell_type": "code",
   "execution_count": 188,
   "id": "82541d2d",
   "metadata": {},
   "outputs": [
    {
     "data": {
      "text/plain": [
       "6984.766863832696"
      ]
     },
     "execution_count": 188,
     "metadata": {},
     "output_type": "execute_result"
    }
   ],
   "source": [
    "def doReg2(predict,target):\n",
    "    x = predict.to_numpy().reshape(-1,1)\n",
    "    y = target.to_numpy().reshape(-1,1)    \n",
    "    reg = LinearRegression().fit(x,y)\n",
    "    y_hat = reg.predict(x)\n",
    "    return mean_squared_error(y, y_hat, squared=False)\n",
    "\n",
    "doReg2(df.Area,df.Storks)"
   ]
  },
  {
   "cell_type": "code",
   "execution_count": 189,
   "id": "176854b8",
   "metadata": {},
   "outputs": [
    {
     "data": {
      "text/plain": [
       "6677.0286930693765"
      ]
     },
     "execution_count": 189,
     "metadata": {},
     "output_type": "execute_result"
    }
   ],
   "source": [
    "def doReg3(pred1,pred2,target):\n",
    "    X = np.column_stack((pred1,pred2))\n",
    "    y = target.to_numpy().reshape(-1,1)    \n",
    "    reg = LinearRegression().fit(X,y)\n",
    "    y_hat = reg.predict(X)\n",
    "    return mean_squared_error(y, y_hat, squared=False)\n",
    "doReg3(df.pop_dens,df.suitable_area,df.Storks)"
   ]
  },
  {
   "cell_type": "code",
   "execution_count": 190,
   "id": "1de10dd3",
   "metadata": {},
   "outputs": [
    {
     "data": {
      "text/html": [
       "<div>\n",
       "<style scoped>\n",
       "    .dataframe tbody tr th:only-of-type {\n",
       "        vertical-align: middle;\n",
       "    }\n",
       "\n",
       "    .dataframe tbody tr th {\n",
       "        vertical-align: top;\n",
       "    }\n",
       "\n",
       "    .dataframe thead th {\n",
       "        text-align: right;\n",
       "    }\n",
       "</style>\n",
       "<table border=\"1\" class=\"dataframe\">\n",
       "  <thead>\n",
       "    <tr style=\"text-align: right;\">\n",
       "      <th></th>\n",
       "      <th>RMSE_a</th>\n",
       "    </tr>\n",
       "  </thead>\n",
       "  <tbody>\n",
       "    <tr>\n",
       "      <th>0</th>\n",
       "      <td>1987.273445</td>\n",
       "    </tr>\n",
       "    <tr>\n",
       "      <th>1</th>\n",
       "      <td>8147.689967</td>\n",
       "    </tr>\n",
       "    <tr>\n",
       "      <th>2</th>\n",
       "      <td>3750.682603</td>\n",
       "    </tr>\n",
       "    <tr>\n",
       "      <th>3</th>\n",
       "      <td>7717.794957</td>\n",
       "    </tr>\n",
       "    <tr>\n",
       "      <th>4</th>\n",
       "      <td>9074.912792</td>\n",
       "    </tr>\n",
       "    <tr>\n",
       "      <th>...</th>\n",
       "      <td>...</td>\n",
       "    </tr>\n",
       "    <tr>\n",
       "      <th>495</th>\n",
       "      <td>8651.004439</td>\n",
       "    </tr>\n",
       "    <tr>\n",
       "      <th>496</th>\n",
       "      <td>5866.451904</td>\n",
       "    </tr>\n",
       "    <tr>\n",
       "      <th>497</th>\n",
       "      <td>3548.571602</td>\n",
       "    </tr>\n",
       "    <tr>\n",
       "      <th>498</th>\n",
       "      <td>2062.940461</td>\n",
       "    </tr>\n",
       "    <tr>\n",
       "      <th>499</th>\n",
       "      <td>8296.375426</td>\n",
       "    </tr>\n",
       "  </tbody>\n",
       "</table>\n",
       "<p>500 rows × 1 columns</p>\n",
       "</div>"
      ],
      "text/plain": [
       "          RMSE_a\n",
       "0    1987.273445\n",
       "1    8147.689967\n",
       "2    3750.682603\n",
       "3    7717.794957\n",
       "4    9074.912792\n",
       "..           ...\n",
       "495  8651.004439\n",
       "496  5866.451904\n",
       "497  3548.571602\n",
       "498  2062.940461\n",
       "499  8296.375426\n",
       "\n",
       "[500 rows x 1 columns]"
      ]
     },
     "execution_count": 190,
     "metadata": {},
     "output_type": "execute_result"
    }
   ],
   "source": [
    "results = []\n",
    "\n",
    "for i in range(500):\n",
    "    sample = np.random.choice(range(len(df)),replace=True, size=len(df))\n",
    "    sample = df[['Area','Storks']].iloc[sample]\n",
    "    results.append(doReg2(sample.Area,sample.Storks))\n",
    "results_a_s = pd.DataFrame(results).rename(columns={0:'RMSE_a'})\n",
    "results_a_s"
   ]
  },
  {
   "cell_type": "code",
   "execution_count": 191,
   "id": "286d7c8a",
   "metadata": {},
   "outputs": [
    {
     "data": {
      "text/html": [
       "<div>\n",
       "<style scoped>\n",
       "    .dataframe tbody tr th:only-of-type {\n",
       "        vertical-align: middle;\n",
       "    }\n",
       "\n",
       "    .dataframe tbody tr th {\n",
       "        vertical-align: top;\n",
       "    }\n",
       "\n",
       "    .dataframe thead th {\n",
       "        text-align: right;\n",
       "    }\n",
       "</style>\n",
       "<table border=\"1\" class=\"dataframe\">\n",
       "  <thead>\n",
       "    <tr style=\"text-align: right;\">\n",
       "      <th></th>\n",
       "      <th>RMSE_p</th>\n",
       "    </tr>\n",
       "  </thead>\n",
       "  <tbody>\n",
       "    <tr>\n",
       "      <th>0</th>\n",
       "      <td>7098.490170</td>\n",
       "    </tr>\n",
       "    <tr>\n",
       "      <th>1</th>\n",
       "      <td>4021.024312</td>\n",
       "    </tr>\n",
       "    <tr>\n",
       "      <th>2</th>\n",
       "      <td>3679.734682</td>\n",
       "    </tr>\n",
       "    <tr>\n",
       "      <th>3</th>\n",
       "      <td>8447.978713</td>\n",
       "    </tr>\n",
       "    <tr>\n",
       "      <th>4</th>\n",
       "      <td>3135.603100</td>\n",
       "    </tr>\n",
       "    <tr>\n",
       "      <th>...</th>\n",
       "      <td>...</td>\n",
       "    </tr>\n",
       "    <tr>\n",
       "      <th>495</th>\n",
       "      <td>3716.906241</td>\n",
       "    </tr>\n",
       "    <tr>\n",
       "      <th>496</th>\n",
       "      <td>2711.249230</td>\n",
       "    </tr>\n",
       "    <tr>\n",
       "      <th>497</th>\n",
       "      <td>6974.528621</td>\n",
       "    </tr>\n",
       "    <tr>\n",
       "      <th>498</th>\n",
       "      <td>5872.483703</td>\n",
       "    </tr>\n",
       "    <tr>\n",
       "      <th>499</th>\n",
       "      <td>10303.989493</td>\n",
       "    </tr>\n",
       "  </tbody>\n",
       "</table>\n",
       "<p>500 rows × 1 columns</p>\n",
       "</div>"
      ],
      "text/plain": [
       "           RMSE_p\n",
       "0     7098.490170\n",
       "1     4021.024312\n",
       "2     3679.734682\n",
       "3     8447.978713\n",
       "4     3135.603100\n",
       "..            ...\n",
       "495   3716.906241\n",
       "496   2711.249230\n",
       "497   6974.528621\n",
       "498   5872.483703\n",
       "499  10303.989493\n",
       "\n",
       "[500 rows x 1 columns]"
      ]
     },
     "execution_count": 191,
     "metadata": {},
     "output_type": "execute_result"
    }
   ],
   "source": [
    "results = []\n",
    "for i in range(500):\n",
    "    sample = np.random.choice(range(len(df)),replace=True, size=len(df))\n",
    "    sample = df[['pop_dens','Area','Storks']].iloc[sample]\n",
    "    results.append(doReg3(sample.pop_dens,sample.Area,sample.Storks))\n",
    "results_p_s = pd.DataFrame(results).rename(columns={0:'RMSE_p'})\n",
    "results_p_s"
   ]
  },
  {
   "cell_type": "code",
   "execution_count": 192,
   "id": "6f650cca",
   "metadata": {},
   "outputs": [
    {
     "data": {
      "text/html": [
       "<div>\n",
       "<style scoped>\n",
       "    .dataframe tbody tr th:only-of-type {\n",
       "        vertical-align: middle;\n",
       "    }\n",
       "\n",
       "    .dataframe tbody tr th {\n",
       "        vertical-align: top;\n",
       "    }\n",
       "\n",
       "    .dataframe thead th {\n",
       "        text-align: right;\n",
       "    }\n",
       "</style>\n",
       "<table border=\"1\" class=\"dataframe\">\n",
       "  <thead>\n",
       "    <tr style=\"text-align: right;\">\n",
       "      <th></th>\n",
       "      <th>RMSE_a</th>\n",
       "      <th>RMSE_p</th>\n",
       "      <th>diff</th>\n",
       "    </tr>\n",
       "  </thead>\n",
       "  <tbody>\n",
       "    <tr>\n",
       "      <th>0</th>\n",
       "      <td>1987.273445</td>\n",
       "      <td>7098.490170</td>\n",
       "      <td>-5111.216725</td>\n",
       "    </tr>\n",
       "    <tr>\n",
       "      <th>1</th>\n",
       "      <td>8147.689967</td>\n",
       "      <td>4021.024312</td>\n",
       "      <td>4126.665655</td>\n",
       "    </tr>\n",
       "    <tr>\n",
       "      <th>2</th>\n",
       "      <td>3750.682603</td>\n",
       "      <td>3679.734682</td>\n",
       "      <td>70.947921</td>\n",
       "    </tr>\n",
       "    <tr>\n",
       "      <th>3</th>\n",
       "      <td>7717.794957</td>\n",
       "      <td>8447.978713</td>\n",
       "      <td>-730.183756</td>\n",
       "    </tr>\n",
       "    <tr>\n",
       "      <th>4</th>\n",
       "      <td>9074.912792</td>\n",
       "      <td>3135.603100</td>\n",
       "      <td>5939.309692</td>\n",
       "    </tr>\n",
       "  </tbody>\n",
       "</table>\n",
       "</div>"
      ],
      "text/plain": [
       "        RMSE_a       RMSE_p         diff\n",
       "0  1987.273445  7098.490170 -5111.216725\n",
       "1  8147.689967  4021.024312  4126.665655\n",
       "2  3750.682603  3679.734682    70.947921\n",
       "3  7717.794957  8447.978713  -730.183756\n",
       "4  9074.912792  3135.603100  5939.309692"
      ]
     },
     "metadata": {},
     "output_type": "display_data"
    },
    {
     "name": "stdout",
     "output_type": "stream",
     "text": [
      "90% range is -5404.003 to 5372.279\n"
     ]
    },
    {
     "data": {
      "image/png": "[encoded data removed]",
      "text/plain": [
       "<Figure size 432x288 with 1 Axes>"
      ]
     },
     "metadata": {
      "needs_background": "light"
     },
     "output_type": "display_data"
    }
   ],
   "source": [
    "results_full2 = results_a_s.join(results_p_s)\n",
    "results_full2['diff'] = results_full2['RMSE_a'] - results_full2['RMSE_p']\n",
    "display(results_full2.head())\n",
    "results_full2['diff'].hist()\n",
    "plt.axvline(results_full2['diff'].quantile(0.05), color='r')\n",
    "plt.axvline(results_full2['diff'].quantile(0.95), color='r')\n",
    "print('90%% range is %4.3f to %4.3f' % \n",
    "      (results_full2['diff'].quantile(0.05), results_full2['diff'].quantile(0.95)))"
   ]
  },
  {
   "cell_type": "code",
   "execution_count": 202,
   "id": "6528b77f",
   "metadata": {},
   "outputs": [
    {
     "name": "stdout",
     "output_type": "stream",
     "text": [
      "The change in Storks (as a percent of its range) given by the pop_dens coefficient (over its range) is -15.1%\n",
      "The change in Storks (as a percent of its range) given by the suitable_area coefficient (over its range) is 71.56%\n"
     ]
    }
   ],
   "source": [
    "score_range = df.Storks.quantile(0.9) - df.Storks.quantile(0.1)\n",
    "pop_dens_range = df.pop_dens.quantile(0.9) - df.pop_dens.quantile(0.1)\n",
    "suitable_area_range = df.suitable_area.quantile(0.9) - df.suitable_area.quantile(0.1)\n",
    "print(f'The change in Storks (as a percent of its range) given by the pop_dens coefficient (over its range) is {np.round(100*(reg4.coef_[0][0]*pop_dens_range)/score_range,2)}%')\n",
    "print(f'The change in Storks (as a percent of its range) given by the suitable_area coefficient (over its range) is {np.round(100*(reg4.coef_[0][1]*suitable_area_range)/score_range,2)}%')"
   ]
  }
 ],
 "metadata": {
  "kernelspec": {
   "display_name": "Python 3",
   "language": "python",
   "name": "python3"
  },
  "language_info": {
   "codemirror_mode": {
    "name": "ipython",
    "version": 3
   },
   "file_extension": ".py",
   "mimetype": "text/x-python",
   "name": "python",
   "nbconvert_exporter": "python",
   "pygments_lexer": "ipython3",
   "version": "3.8.8"
  }
 },
 "nbformat": 4,
 "nbformat_minor": 5
}
