{
 "cells": [
  {
   "cell_type": "markdown",
   "metadata": {},
   "source": [
    "# ECS7024 Statistics for Artificial Intelligence and Data Science\n",
    "\n",
    "This notebook is a resource on coding related to a the topic of **linear regression**.\n",
    "\n",
    "## Aims and Outline\n",
    "\n",
    "The purpose of the note book is provide examples of **linear regression for a continuous target** (or 'dependent' or 'outcome') variable. The techniques are illustrated using the 'Heart' dataset. Since the target variable in this dataset (whether a patient has heart disease or not) is actually binary not continuous, we simply choose another variable, which is continuous, as the target for this example.\n",
    "\n",
    "There are at least two implementations of linear regression in Python, with different APIs. I have chosen to use the version in [SciKit Learn](https://scikit-learn.org/stable/modules/generated/sklearn.linear_model.LinearRegression.html) as this library is likely to be used elsewhere in the programme. The alternative is from the [statsmodel package](https://www.statsmodels.org/stable/regression.html) which is (at least) equally good but is not covered here."
   ]
  },
  {
   "cell_type": "code",
   "execution_count": 2,
   "metadata": {},
   "outputs": [],
   "source": [
    "import pandas as pd\n",
    "import numpy as np\n",
    "import matplotlib.pyplot as plt\n",
    "from sklearn.linear_model import LinearRegression\n",
    "from sklearn.metrics import mean_squared_error\n",
    "from sklearn.preprocessing import StandardScaler\n",
    "\n",
    "%matplotlib inline"
   ]
  },
  {
   "cell_type": "markdown",
   "metadata": {},
   "source": [
    "The dataset is on [Kaggle (in several places)](https://www.kaggle.com/ronitf/heart-disease-uci), referring to an original entry in the [UCI Machine Learning Repository](https://archive.ics.uci.edu/ml/datasets/Heart+Disease). Our version using strings rather than numbers to encode categorical values.\n",
    "\n",
    "The variables in the data set are shown below.\n",
    "\n",
    "| Variable | Description and Values | Type |\n",
    "|:---------:|:-----------|:-------|\n",
    "| Age | The person's age in years | Continuous |\n",
    "| Sex |Male or female: values 'M' or 'F'| Categorical |\n",
    "| ChestPain | Type of chest pain. Values: 'Typical','Atypical','Non_anginal','Asymptomatic' | Categorical |\n",
    "| RestBP | The person's resting blood pressure (mm Hg on admission to the hospital) | Continuous |\n",
    "| Chol   | The person's cholesterol measurement in mg/dl | Continuous |\n",
    "| Bsugar | Is the person's fasting blood sugar > 120 mg/dl. Values: True or False | Binary |\n",
    "| RestECG |Resting electrocardiogram. Values 'Normal','ST-T wave','Hypertrophy' | Categorical |\n",
    "| MaxRate | The person's maximum heart rate achieved | Continuous |\n",
    "| Angina | Exercise induced angina. Values: True or False |Binary |\n",
    "| ECG_ST_d | ST depression induced by exercise relative to rest | Continuous |\n",
    "| ECG_ST_slope | The slope of the peak exercise ST segment. Values: 'Upsloping', 'Flat', 'Downsloping' | Categorical |\n",
    "| Vessels | The number of major vessels (0-3) coloured by fluoroscopy | Discrete |\n",
    "| Thallium | Thallium update test Values: 'Normal','Fixed','Reversible' | Categorical |\n",
    "| Disease  | Heart disease. Values: True or False | Binary |\n",
    "\n",
    "The following code creates the necessary categorical types and then uses them to load the data."
   ]
  },
  {
   "cell_type": "code",
   "execution_count": 3,
   "metadata": {},
   "outputs": [
    {
     "data": {
      "text/html": [
       "<div>\n",
       "<style scoped>\n",
       "    .dataframe tbody tr th:only-of-type {\n",
       "        vertical-align: middle;\n",
       "    }\n",
       "\n",
       "    .dataframe tbody tr th {\n",
       "        vertical-align: top;\n",
       "    }\n",
       "\n",
       "    .dataframe thead th {\n",
       "        text-align: right;\n",
       "    }\n",
       "</style>\n",
       "<table border=\"1\" class=\"dataframe\">\n",
       "  <thead>\n",
       "    <tr style=\"text-align: right;\">\n",
       "      <th></th>\n",
       "      <th>Age</th>\n",
       "      <th>Sex</th>\n",
       "      <th>ChestPain</th>\n",
       "      <th>RestBP</th>\n",
       "      <th>Chol</th>\n",
       "      <th>Bsugar</th>\n",
       "      <th>RestECG</th>\n",
       "      <th>MaxRate</th>\n",
       "      <th>Angina</th>\n",
       "      <th>ECG_ST_d</th>\n",
       "      <th>ECG_ST_slope</th>\n",
       "      <th>Vessels</th>\n",
       "      <th>Thallium</th>\n",
       "      <th>Disease</th>\n",
       "    </tr>\n",
       "  </thead>\n",
       "  <tbody>\n",
       "    <tr>\n",
       "      <th>0</th>\n",
       "      <td>69</td>\n",
       "      <td>M</td>\n",
       "      <td>Typical</td>\n",
       "      <td>160</td>\n",
       "      <td>234</td>\n",
       "      <td>True</td>\n",
       "      <td>Hypertrophy</td>\n",
       "      <td>131</td>\n",
       "      <td>False</td>\n",
       "      <td>0.1</td>\n",
       "      <td>Flat</td>\n",
       "      <td>1</td>\n",
       "      <td>Normal</td>\n",
       "      <td>False</td>\n",
       "    </tr>\n",
       "    <tr>\n",
       "      <th>1</th>\n",
       "      <td>69</td>\n",
       "      <td>F</td>\n",
       "      <td>Typical</td>\n",
       "      <td>140</td>\n",
       "      <td>239</td>\n",
       "      <td>False</td>\n",
       "      <td>Normal</td>\n",
       "      <td>151</td>\n",
       "      <td>False</td>\n",
       "      <td>1.8</td>\n",
       "      <td>Upsloping</td>\n",
       "      <td>2</td>\n",
       "      <td>Normal</td>\n",
       "      <td>False</td>\n",
       "    </tr>\n",
       "    <tr>\n",
       "      <th>2</th>\n",
       "      <td>66</td>\n",
       "      <td>F</td>\n",
       "      <td>Typical</td>\n",
       "      <td>150</td>\n",
       "      <td>226</td>\n",
       "      <td>False</td>\n",
       "      <td>Normal</td>\n",
       "      <td>114</td>\n",
       "      <td>False</td>\n",
       "      <td>2.6</td>\n",
       "      <td>Downsloping</td>\n",
       "      <td>0</td>\n",
       "      <td>Normal</td>\n",
       "      <td>False</td>\n",
       "    </tr>\n",
       "    <tr>\n",
       "      <th>3</th>\n",
       "      <td>65</td>\n",
       "      <td>M</td>\n",
       "      <td>Typical</td>\n",
       "      <td>138</td>\n",
       "      <td>282</td>\n",
       "      <td>True</td>\n",
       "      <td>Hypertrophy</td>\n",
       "      <td>174</td>\n",
       "      <td>False</td>\n",
       "      <td>1.4</td>\n",
       "      <td>Flat</td>\n",
       "      <td>1</td>\n",
       "      <td>Normal</td>\n",
       "      <td>True</td>\n",
       "    </tr>\n",
       "    <tr>\n",
       "      <th>4</th>\n",
       "      <td>64</td>\n",
       "      <td>M</td>\n",
       "      <td>Typical</td>\n",
       "      <td>110</td>\n",
       "      <td>211</td>\n",
       "      <td>False</td>\n",
       "      <td>Hypertrophy</td>\n",
       "      <td>144</td>\n",
       "      <td>True</td>\n",
       "      <td>1.8</td>\n",
       "      <td>Flat</td>\n",
       "      <td>0</td>\n",
       "      <td>Normal</td>\n",
       "      <td>False</td>\n",
       "    </tr>\n",
       "    <tr>\n",
       "      <th>...</th>\n",
       "      <td>...</td>\n",
       "      <td>...</td>\n",
       "      <td>...</td>\n",
       "      <td>...</td>\n",
       "      <td>...</td>\n",
       "      <td>...</td>\n",
       "      <td>...</td>\n",
       "      <td>...</td>\n",
       "      <td>...</td>\n",
       "      <td>...</td>\n",
       "      <td>...</td>\n",
       "      <td>...</td>\n",
       "      <td>...</td>\n",
       "      <td>...</td>\n",
       "    </tr>\n",
       "    <tr>\n",
       "      <th>292</th>\n",
       "      <td>40</td>\n",
       "      <td>M</td>\n",
       "      <td>Asymptomatic</td>\n",
       "      <td>152</td>\n",
       "      <td>223</td>\n",
       "      <td>False</td>\n",
       "      <td>Normal</td>\n",
       "      <td>181</td>\n",
       "      <td>False</td>\n",
       "      <td>0.0</td>\n",
       "      <td>Upsloping</td>\n",
       "      <td>0</td>\n",
       "      <td>Reversible</td>\n",
       "      <td>True</td>\n",
       "    </tr>\n",
       "    <tr>\n",
       "      <th>293</th>\n",
       "      <td>39</td>\n",
       "      <td>M</td>\n",
       "      <td>Asymptomatic</td>\n",
       "      <td>118</td>\n",
       "      <td>219</td>\n",
       "      <td>False</td>\n",
       "      <td>Normal</td>\n",
       "      <td>140</td>\n",
       "      <td>False</td>\n",
       "      <td>1.2</td>\n",
       "      <td>Flat</td>\n",
       "      <td>0</td>\n",
       "      <td>Reversible</td>\n",
       "      <td>True</td>\n",
       "    </tr>\n",
       "    <tr>\n",
       "      <th>294</th>\n",
       "      <td>35</td>\n",
       "      <td>M</td>\n",
       "      <td>Asymptomatic</td>\n",
       "      <td>120</td>\n",
       "      <td>198</td>\n",
       "      <td>False</td>\n",
       "      <td>Normal</td>\n",
       "      <td>130</td>\n",
       "      <td>True</td>\n",
       "      <td>1.6</td>\n",
       "      <td>Flat</td>\n",
       "      <td>0</td>\n",
       "      <td>Reversible</td>\n",
       "      <td>True</td>\n",
       "    </tr>\n",
       "    <tr>\n",
       "      <th>295</th>\n",
       "      <td>35</td>\n",
       "      <td>F</td>\n",
       "      <td>Asymptomatic</td>\n",
       "      <td>138</td>\n",
       "      <td>183</td>\n",
       "      <td>False</td>\n",
       "      <td>Normal</td>\n",
       "      <td>182</td>\n",
       "      <td>False</td>\n",
       "      <td>1.4</td>\n",
       "      <td>Upsloping</td>\n",
       "      <td>0</td>\n",
       "      <td>Normal</td>\n",
       "      <td>False</td>\n",
       "    </tr>\n",
       "    <tr>\n",
       "      <th>296</th>\n",
       "      <td>35</td>\n",
       "      <td>M</td>\n",
       "      <td>Asymptomatic</td>\n",
       "      <td>126</td>\n",
       "      <td>282</td>\n",
       "      <td>False</td>\n",
       "      <td>Hypertrophy</td>\n",
       "      <td>156</td>\n",
       "      <td>True</td>\n",
       "      <td>0.0</td>\n",
       "      <td>Upsloping</td>\n",
       "      <td>0</td>\n",
       "      <td>Reversible</td>\n",
       "      <td>True</td>\n",
       "    </tr>\n",
       "  </tbody>\n",
       "</table>\n",
       "<p>297 rows × 14 columns</p>\n",
       "</div>"
      ],
      "text/plain": [
       "     Age Sex     ChestPain  RestBP  Chol  Bsugar      RestECG  MaxRate  \\\n",
       "0     69   M       Typical     160   234    True  Hypertrophy      131   \n",
       "1     69   F       Typical     140   239   False       Normal      151   \n",
       "2     66   F       Typical     150   226   False       Normal      114   \n",
       "3     65   M       Typical     138   282    True  Hypertrophy      174   \n",
       "4     64   M       Typical     110   211   False  Hypertrophy      144   \n",
       "..   ...  ..           ...     ...   ...     ...          ...      ...   \n",
       "292   40   M  Asymptomatic     152   223   False       Normal      181   \n",
       "293   39   M  Asymptomatic     118   219   False       Normal      140   \n",
       "294   35   M  Asymptomatic     120   198   False       Normal      130   \n",
       "295   35   F  Asymptomatic     138   183   False       Normal      182   \n",
       "296   35   M  Asymptomatic     126   282   False  Hypertrophy      156   \n",
       "\n",
       "     Angina  ECG_ST_d ECG_ST_slope  Vessels    Thallium  Disease  \n",
       "0     False       0.1         Flat        1      Normal    False  \n",
       "1     False       1.8    Upsloping        2      Normal    False  \n",
       "2     False       2.6  Downsloping        0      Normal    False  \n",
       "3     False       1.4         Flat        1      Normal     True  \n",
       "4      True       1.8         Flat        0      Normal    False  \n",
       "..      ...       ...          ...      ...         ...      ...  \n",
       "292   False       0.0    Upsloping        0  Reversible     True  \n",
       "293   False       1.2         Flat        0  Reversible     True  \n",
       "294    True       1.6         Flat        0  Reversible     True  \n",
       "295   False       1.4    Upsloping        0      Normal    False  \n",
       "296    True       0.0    Upsloping        0  Reversible     True  \n",
       "\n",
       "[297 rows x 14 columns]"
      ]
     },
     "execution_count": 3,
     "metadata": {},
     "output_type": "execute_result"
    }
   ],
   "source": [
    "# sex\n",
    "sex_t = pd.CategoricalDtype(categories=['M','F'], ordered=False)\n",
    "\n",
    "# Chest pain\n",
    "pain_t = pd.CategoricalDtype(categories=['Typical','Atypical','Non_anginal','Asymptomatic'], ordered=False)\n",
    "\n",
    "# RestECG\n",
    "ECG_t = pd.CategoricalDtype(categories=['Normal','ST-T wave','Hypertrophy'], ordered=False)\n",
    "\n",
    "# ECG_ST_slope\n",
    "ECG_ST_t = pd.CategoricalDtype(categories=['Upsloping', 'Flat', 'Downsloping'], ordered=False)\n",
    "    \n",
    "# Thallium uptake \n",
    "Thal_t = pd.CategoricalDtype(categories=['Normal','Fixed','Reversible'], ordered=False)\n",
    "\n",
    "# Type dictionary\n",
    "types_dict = {'Sex':sex_t, 'ChestPain':pain_t, 'RestECG': ECG_t, 'ECG_ST_slope': ECG_ST_t, 'Thallium':Thal_t}\n",
    "\n",
    "hearts = pd.read_csv('heart_cleveland_recoded.csv', dtype = types_dict)\n",
    "hearts"
   ]
  },
  {
   "cell_type": "markdown",
   "metadata": {},
   "source": [
    "## Section 1: Regression with Continuous Predictors \n",
    "\n",
    "For the first illustration, we propose to treat 'MaxRate' as the target variable with 'Age' and 'RestBP' as the predictors. This is only to illustrate the process of constructing a regression; there is no suggestion that this useful!"
   ]
  },
  {
   "cell_type": "markdown",
   "metadata": {},
   "source": [
    "### Section 1.1: Preparation\n",
    "\n",
    "We look at the distribution of the three variables involved.\n",
    "\n",
    "1. The theory of regression - in particular that the best regression line minimises the square of the errors - assumes that the dependent variable has a normal distribution. There is nothing to stop you constructing a regression when this is far from true but it may not work well. We see that the 'MaxRate' variable has a slight negative skew, but not too much.\n",
    "\n",
    "2. There is no assumption that the predictor (independent) variables are normally distributed. Note however that a better fit may be achieved if variables are transformed. A high degree of skew may be an indication that some transformation would work better. Always try without first! Our proposed predictors do not have an alarming skew.\n",
    "\n",
    "3. The predictor variables should not be co-linear. Check this on a scatter and / or look at the correlation coefficient. Again, it is possible to construct a regression with correlated predictors but it will probably not work very well and there is no **cut-off threshold** for the correlation co-efficient above which we can say *'stop - too correlated'*. Our predictors do not seem very correlated."
   ]
  },
  {
   "cell_type": "code",
   "execution_count": 4,
   "metadata": {},
   "outputs": [
    {
     "data": {
      "text/plain": [
       "array([[<AxesSubplot:title={'center':'MaxRate'}>]], dtype=object)"
      ]
     },
     "execution_count": 4,
     "metadata": {},
     "output_type": "execute_result"
    },
    {
     "data": {
      "image/png": "[encoded data removed]",
      "text/plain": [
       "<Figure size 432x288 with 1 Axes>"
      ]
     },
     "metadata": {
      "needs_background": "light"
     },
     "output_type": "display_data"
    }
   ],
   "source": [
    "hearts.hist(column='MaxRate')"
   ]
  },
  {
   "cell_type": "code",
   "execution_count": 5,
   "metadata": {},
   "outputs": [
    {
     "data": {
      "text/plain": [
       "array([[<AxesSubplot:title={'center':'Age'}>]], dtype=object)"
      ]
     },
     "execution_count": 5,
     "metadata": {},
     "output_type": "execute_result"
    },
    {
     "data": {
      "image/png": "[encoded data removed]",
      "text/plain": [
       "<Figure size 432x288 with 1 Axes>"
      ]
     },
     "metadata": {
      "needs_background": "light"
     },
     "output_type": "display_data"
    }
   ],
   "source": [
    "hearts.hist(column='Age')"
   ]
  },
  {
   "cell_type": "code",
   "execution_count": 6,
   "metadata": {},
   "outputs": [
    {
     "data": {
      "text/plain": [
       "array([[<AxesSubplot:title={'center':'RestBP'}>]], dtype=object)"
      ]
     },
     "execution_count": 6,
     "metadata": {},
     "output_type": "execute_result"
    },
    {
     "data": {
      "image/png": "[encoded data removed]",
      "text/plain": [
       "<Figure size 432x288 with 1 Axes>"
      ]
     },
     "metadata": {
      "needs_background": "light"
     },
     "output_type": "display_data"
    }
   ],
   "source": [
    "hearts.hist(column='RestBP')"
   ]
  },
  {
   "cell_type": "code",
   "execution_count": 7,
   "metadata": {},
   "outputs": [
    {
     "data": {
      "text/plain": [
       "<AxesSubplot:xlabel='RestBP', ylabel='MaxRate'>"
      ]
     },
     "execution_count": 7,
     "metadata": {},
     "output_type": "execute_result"
    },
    {
     "data": {
      "image/png": "[encoded data removed]",
      "text/plain": [
       "<Figure size 432x1008 with 3 Axes>"
      ]
     },
     "metadata": {
      "needs_background": "light"
     },
     "output_type": "display_data"
    }
   ],
   "source": [
    "fig, (a1,a2,a3) = plt.subplots(3, 1, figsize=(6,14))\n",
    "#plt.scatter(y = hearts.MaxRate, x= hearts.Age, ax=a1)\n",
    "hearts.plot(kind='scatter',  x='Age', y='MaxRate', ax=a1)\n",
    "hearts.plot(kind='scatter',  x='Age', y='RestBP', ax=a2)\n",
    "hearts.plot(kind='scatter',  x='RestBP', y='MaxRate', ax=a3)\n"
   ]
  },
  {
   "cell_type": "markdown",
   "metadata": {},
   "source": [
    "## Section 1.2 Fitting the Regression Line\n",
    "\n",
    "In this section we look at the `fit` method that is used to fit the linear regression.\n",
    "\n",
    "To fit a linear regression, we need to get the predictor data in the right format. `heart.Age` is a Pandas series, which behaves like a numpy array. The regression fit routine expects to have an array with one element for each patients, containing a list (of two in this case) predictor values. This can be done with `column_stack`. Compare the first rows with the data frame listed at the start of this notebook. "
   ]
  },
  {
   "cell_type": "code",
   "execution_count": 8,
   "metadata": {},
   "outputs": [
    {
     "data": {
      "text/plain": [
       "array([[ 69, 160],\n",
       "       [ 69, 140],\n",
       "       [ 66, 150],\n",
       "       [ 65, 138],\n",
       "       [ 64, 110]], dtype=int64)"
      ]
     },
     "execution_count": 8,
     "metadata": {},
     "output_type": "execute_result"
    }
   ],
   "source": [
    "y = hearts.MaxRate # this is the target variable; we assue just one though more are possible\n",
    "X = np.column_stack((hearts.Age,hearts.RestBP))\n",
    "X[0:5]"
   ]
  },
  {
   "cell_type": "markdown",
   "metadata": {},
   "source": [
    "We can now fits the regression and print some basic data about it. It is not a very good fit. I have used (one of ) the standard Python method(s) of printing formatted numbers, so that I do not print lots of decimal places. \n",
    "\n",
    "*Note* that the fitted regression has a list of the $\\beta$ parameters. However, it is up to you to keep track of which is for which variable."
   ]
  },
  {
   "cell_type": "code",
   "execution_count": 20,
   "metadata": {},
   "outputs": [
    {
     "name": "stdout",
     "output_type": "stream",
     "text": [
      "The R2 coefficient of determination is 0.160\n",
      "The intercept is 194.9\n",
      "Estimated regression coefficient for Age is -1.05 change of max heart rate (beats / min) per year\n",
      "Estimated regression coefficient for RestBP is 0.09 change of max heart rate (beats / min) per mmHg\n"
     ]
    },
    {
     "data": {
      "text/plain": [
       "array([-1.05291786,  0.09239721])"
      ]
     },
     "execution_count": 20,
     "metadata": {},
     "output_type": "execute_result"
    }
   ],
   "source": [
    "reg = LinearRegression().fit(X, y)\n",
    "print('The R2 coefficient of determination is %4.3f' % reg.score(X, y))\n",
    "print('The intercept is %4.1f' % reg.intercept_)\n",
    "beta_Age, beta_RestBP = reg.coef_\n",
    "print('Estimated regression coefficient for Age is %4.2f' % beta_Age, \n",
    "      'change of max heart rate (beats / min) per year')\n",
    "print('Estimated regression coefficient for RestBP is %4.2f' % beta_RestBP, \n",
    "      'change of max heart rate (beats / min) per mmHg')\n",
    "reg.coef_"
   ]
  },
  {
   "cell_type": "markdown",
   "metadata": {},
   "source": [
    "Note that it is possible to output a formatted string without using print as shown below, but I have not found a way to do this over multiple lines."
   ]
  },
  {
   "cell_type": "code",
   "execution_count": 10,
   "metadata": {},
   "outputs": [
    {
     "data": {
      "text/plain": [
       "'Estimated regression coefficient for Age is -1.05 change of max heart rate (beats / min) per year'"
      ]
     },
     "execution_count": 10,
     "metadata": {},
     "output_type": "execute_result"
    }
   ],
   "source": [
    "'Estimated regression coefficient for Age is %4.2f' % beta_Age + \\\n",
    "      ' change of max heart rate (beats / min) per year'"
   ]
  },
  {
   "cell_type": "markdown",
   "metadata": {},
   "source": [
    "## Section 1.3 Comparing the Coefficients\n",
    "\n",
    "It is *really important* to realise that the coefficients of a linear regression have units. The values will change if we scale the predictors. (See below for section on standardisation.) I have written out the units in detail. Because the units are different, we need to take care when we compare them. You cannot sensibly compare the height of someone in metre with the rating they give to music by the Beatles. The two are incomparable. We could however make a comparison based on the distributions of the two variables. \n",
    "\n",
    "One way to proceed, therefore, is to look at the ranges of the predictor variables and the target variable."
   ]
  },
  {
   "cell_type": "code",
   "execution_count": 11,
   "metadata": {},
   "outputs": [
    {
     "name": "stdout",
     "output_type": "stream",
     "text": [
      "Age range (10th to 90th centile) is 24.0 years\n",
      "BP range (10th to 90th centile) is 42.8 mmHg\n",
      "Max rate range (10th to 90th centile) is 61.4 beats / min\n"
     ]
    }
   ],
   "source": [
    "age_range = hearts.Age.quantile(0.9) - hearts.Age.quantile(0.1)\n",
    "BP_range = hearts.RestBP.quantile(0.9) - hearts.RestBP.quantile(0.1)\n",
    "rate_range = hearts.MaxRate.quantile(0.9) - hearts.MaxRate.quantile(0.1)\n",
    "\n",
    "print('Age range (10th to 90th centile) is %3.1f' % age_range, 'years')\n",
    "print('BP range (10th to 90th centile) is %3.1f' % BP_range, 'mmHg')\n",
    "print('Max rate range (10th to 90th centile) is %3.1f' % rate_range, 'beats / min')"
   ]
  },
  {
   "cell_type": "markdown",
   "metadata": {},
   "source": [
    "We can then calculate the change in the target values as a percentage of its range that would result from the changing each of the predictor variables over its range. This gives a better comparison of the importance of the predictors."
   ]
  },
  {
   "cell_type": "code",
   "execution_count": 12,
   "metadata": {},
   "outputs": [
    {
     "name": "stdout",
     "output_type": "stream",
     "text": [
      "The change in Max Rate (as a percent of its range) given by the age coefficient (over its range) is -41.2 percent\n",
      "The change in Max Rate (as a percent of its range) given by the BP coefficient (over its range) is  6.4 percent\n"
     ]
    }
   ],
   "source": [
    "print ('The change in Max Rate (as a percent of its range) given by the age coefficient (over its range) is %4.1f percent'\n",
    "       % (100 * (beta_Age * age_range) / rate_range))\n",
    "\n",
    "print ('The change in Max Rate (as a percent of its range) given by the BP coefficient (over its range) is %4.1f percent'\n",
    "       % (100 * (beta_RestBP * BP_range) / rate_range))"
   ]
  },
  {
   "cell_type": "markdown",
   "metadata": {},
   "source": [
    "## Section 1.4 Prediction and the Error Distribution\n",
    "\n",
    "We can use the `predict` method to return the predicted values of the target variable. Then we can calculate the errors and show their distribution.\n"
   ]
  },
  {
   "cell_type": "code",
   "execution_count": 13,
   "metadata": {},
   "outputs": [
    {
     "data": {
      "image/png": "[encoded data removed]",
      "text/plain": [
       "<Figure size 432x288 with 1 Axes>"
      ]
     },
     "metadata": {
      "needs_background": "light"
     },
     "output_type": "display_data"
    }
   ],
   "source": [
    "y_hat = reg.predict(X)\n",
    "\n",
    "fig, a1 = plt.subplots(1, 1)\n",
    "residuals = y_hat - y\n",
    "a1.hist(residuals, bins=10, density=True)\n",
    "_ = a1.set_xlabel('Error in prediction: predicted - actual heart rate')"
   ]
  },
  {
   "cell_type": "markdown",
   "metadata": {},
   "source": [
    "We can calculate the root of the mean of the square of the errors. This metric is often used to compare different models. It does not have such a simple interpretation as the R2 metric does for a regression."
   ]
  },
  {
   "cell_type": "code",
   "execution_count": 14,
   "metadata": {},
   "outputs": [
    {
     "name": "stdout",
     "output_type": "stream",
     "text": [
      "Root of the mean squared error: 20.99\n"
     ]
    }
   ],
   "source": [
    "# The mean squared error\n",
    "print('Root of the mean squared error: %.2f'% mean_squared_error(y, y_hat, squared=False))"
   ]
  },
  {
   "cell_type": "markdown",
   "metadata": {},
   "source": [
    "We can also plot a scatter of the actual values against the predicted values. If the regression fitted better, the points would be nearer to the blue line. "
   ]
  },
  {
   "cell_type": "code",
   "execution_count": 15,
   "metadata": {},
   "outputs": [
    {
     "data": {
      "text/plain": [
       "Text(0, 0.5, 'Actual Value')"
      ]
     },
     "execution_count": 15,
     "metadata": {},
     "output_type": "execute_result"
    },
    {
     "data": {
      "image/png": "[encoded data removed]",
      "text/plain": [
       "<Figure size 1080x720 with 1 Axes>"
      ]
     },
     "metadata": {
      "needs_background": "light"
     },
     "output_type": "display_data"
    }
   ],
   "source": [
    "# Plot outputs\n",
    "fig, a = plt.subplots(1,1,figsize=(15,10))\n",
    "a.scatter(y_hat, y,  color='black')\n",
    "a.plot(y_hat, y_hat, color='blue', linewidth=3)\n",
    "\n",
    "# two_std = residuals.std() * 2\n",
    "# a.errorbar(y_hat, y, yerr=two_std, fmt='.k')\n",
    "\n",
    "a.set_xlabel('Predicted Value')\n",
    "a.set_ylabel('Actual Value')"
   ]
  },
  {
   "cell_type": "markdown",
   "metadata": {},
   "source": [
    "# Section 2: Regression with Standardisation\n",
    "\n",
    "The differing ranges of the predictors made the $\\beta$ regression coefficient harder to compare. We can instead standardise the values. This makes the comparison easier (but interpretation harder). Note that standardisation  does not change the goodness of fit. The standardisation converts a predictor $x$ to $z$\n",
    "$$z = \\frac{x - \\bar{x}}{s}$$\n",
    "where $s$ is the sample standard deviation."
   ]
  },
  {
   "cell_type": "code",
   "execution_count": 16,
   "metadata": {},
   "outputs": [
    {
     "name": "stdout",
     "output_type": "stream",
     "text": [
      "The R2 coefficient of determination is 0.160\n",
      "The intercept is 149.6\n",
      "Estimated regression coefficient for standardised Age is -9.51\n",
      "Estimated regression coefficient for standardised RestBP is 1.64\n"
     ]
    }
   ],
   "source": [
    "Z = StandardScaler().fit_transform(X)\n",
    "\n",
    "reg1 = LinearRegression().fit(Z, y)\n",
    "print('The R2 coefficient of determination is %4.3f' % reg.score(X, y))\n",
    "print('The intercept is %4.1f' % reg1.intercept_)\n",
    "beta_AgeT, beta_RestBPT = reg1.coef_\n",
    "print('Estimated regression coefficient for standardised Age is %4.2f' % beta_AgeT)\n",
    "print('Estimated regression coefficient for standardised RestBP is %4.2f' % beta_RestBPT)\n"
   ]
  },
  {
   "cell_type": "markdown",
   "metadata": {},
   "source": [
    "## Section 3: Using Categorical Predictors\n",
    "\n",
    "To use categorical predictors, we must transform them using reference encoding (as explained in the lecture). Pandas provides a very simple way to do this, using `get_dummies`. For reference encoding we use the first value of the categorical variable as a reference, so this is dropped from the dummy variables. \n",
    "\n",
    "An exmaple is shown below using `ChestPain` which has 4 values."
   ]
  },
  {
   "cell_type": "code",
   "execution_count": 17,
   "metadata": {},
   "outputs": [
    {
     "data": {
      "text/html": [
       "<div>\n",
       "<style scoped>\n",
       "    .dataframe tbody tr th:only-of-type {\n",
       "        vertical-align: middle;\n",
       "    }\n",
       "\n",
       "    .dataframe tbody tr th {\n",
       "        vertical-align: top;\n",
       "    }\n",
       "\n",
       "    .dataframe thead th {\n",
       "        text-align: right;\n",
       "    }\n",
       "</style>\n",
       "<table border=\"1\" class=\"dataframe\">\n",
       "  <thead>\n",
       "    <tr style=\"text-align: right;\">\n",
       "      <th></th>\n",
       "      <th>Atypical</th>\n",
       "      <th>Non_anginal</th>\n",
       "      <th>Asymptomatic</th>\n",
       "    </tr>\n",
       "  </thead>\n",
       "  <tbody>\n",
       "    <tr>\n",
       "      <th>0</th>\n",
       "      <td>0</td>\n",
       "      <td>0</td>\n",
       "      <td>0</td>\n",
       "    </tr>\n",
       "    <tr>\n",
       "      <th>1</th>\n",
       "      <td>0</td>\n",
       "      <td>0</td>\n",
       "      <td>0</td>\n",
       "    </tr>\n",
       "    <tr>\n",
       "      <th>2</th>\n",
       "      <td>0</td>\n",
       "      <td>0</td>\n",
       "      <td>0</td>\n",
       "    </tr>\n",
       "    <tr>\n",
       "      <th>3</th>\n",
       "      <td>0</td>\n",
       "      <td>0</td>\n",
       "      <td>0</td>\n",
       "    </tr>\n",
       "    <tr>\n",
       "      <th>4</th>\n",
       "      <td>0</td>\n",
       "      <td>0</td>\n",
       "      <td>0</td>\n",
       "    </tr>\n",
       "    <tr>\n",
       "      <th>...</th>\n",
       "      <td>...</td>\n",
       "      <td>...</td>\n",
       "      <td>...</td>\n",
       "    </tr>\n",
       "    <tr>\n",
       "      <th>292</th>\n",
       "      <td>0</td>\n",
       "      <td>0</td>\n",
       "      <td>1</td>\n",
       "    </tr>\n",
       "    <tr>\n",
       "      <th>293</th>\n",
       "      <td>0</td>\n",
       "      <td>0</td>\n",
       "      <td>1</td>\n",
       "    </tr>\n",
       "    <tr>\n",
       "      <th>294</th>\n",
       "      <td>0</td>\n",
       "      <td>0</td>\n",
       "      <td>1</td>\n",
       "    </tr>\n",
       "    <tr>\n",
       "      <th>295</th>\n",
       "      <td>0</td>\n",
       "      <td>0</td>\n",
       "      <td>1</td>\n",
       "    </tr>\n",
       "    <tr>\n",
       "      <th>296</th>\n",
       "      <td>0</td>\n",
       "      <td>0</td>\n",
       "      <td>1</td>\n",
       "    </tr>\n",
       "  </tbody>\n",
       "</table>\n",
       "<p>297 rows × 3 columns</p>\n",
       "</div>"
      ],
      "text/plain": [
       "     Atypical  Non_anginal  Asymptomatic\n",
       "0           0            0             0\n",
       "1           0            0             0\n",
       "2           0            0             0\n",
       "3           0            0             0\n",
       "4           0            0             0\n",
       "..        ...          ...           ...\n",
       "292         0            0             1\n",
       "293         0            0             1\n",
       "294         0            0             1\n",
       "295         0            0             1\n",
       "296         0            0             1\n",
       "\n",
       "[297 rows x 3 columns]"
      ]
     },
     "execution_count": 17,
     "metadata": {},
     "output_type": "execute_result"
    }
   ],
   "source": [
    "CPain_d = pd.get_dummies(hearts.ChestPain, drop_first=True)\n",
    "CPain_d"
   ]
  },
  {
   "cell_type": "markdown",
   "metadata": {},
   "source": [
    "We now have three new variables that can be added to the regression in the same way as before."
   ]
  },
  {
   "cell_type": "code",
   "execution_count": 18,
   "metadata": {},
   "outputs": [
    {
     "name": "stdout",
     "output_type": "stream",
     "text": [
      "The R2 coefficient of determination is 0.272\n",
      "The intercept is 194.7\n",
      "The regression coefficients are: [ -0.91766338   0.08884194   3.67843688  -1.27757522 -14.66178106]\n"
     ]
    }
   ],
   "source": [
    "X2 = np.column_stack((hearts.Age,hearts.RestBP, CPain_d.Atypical, CPain_d.Non_anginal, CPain_d.Asymptomatic))\n",
    "reg2 = LinearRegression().fit(X2, y)\n",
    "print('The R2 coefficient of determination is %4.3f' % reg2.score(X2, y))\n",
    "print('The intercept is %4.1f' % reg2.intercept_)\n",
    "print('The regression coefficients are:', reg2.coef_)"
   ]
  },
  {
   "cell_type": "markdown",
   "metadata": {},
   "source": [
    "Note that adding the new variable has changed the coefficients for both age (quite a lot) and resting blood pressure (only a little). This indicate some degree of correlation between the predictors. The fit of the regression is slightly better."
   ]
  },
  {
   "cell_type": "markdown",
   "metadata": {},
   "source": [
    "## Section 4: Sources of Further Information\n",
    "For those interested, there are some further topics here.\n",
    "\n",
    "* A [youtube talk (part of a series)](https://www.youtube.com/watch?v=vOBtEiij-fA) on what it means for the regression line created by minimising the square of the errors to be 'best'.\n",
    "* A discussion on [Reseach Gate about transforming predictors in linear regression](https://www.researchgate.net/post/Should_I_transform_non-normal_independent_variables_in_logistic_regression) and a shorter discussion on [stack exchange](https://stats.stackexchange.com/questions/4831/regression-transforming-variables/4833#4833)"
   ]
  }
 ],
 "metadata": {
  "kernelspec": {
   "display_name": "Python 3",
   "language": "python",
   "name": "python3"
  },
  "language_info": {
   "codemirror_mode": {
    "name": "ipython",
    "version": 3
   },
   "file_extension": ".py",
   "mimetype": "text/x-python",
   "name": "python",
   "nbconvert_exporter": "python",
   "pygments_lexer": "ipython3",
   "version": "3.8.8"
  }
 },
 "nbformat": 4,
 "nbformat_minor": 4
}
