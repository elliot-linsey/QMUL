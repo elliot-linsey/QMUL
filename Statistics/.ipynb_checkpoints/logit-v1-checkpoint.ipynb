{
 "cells": [
  {
   "cell_type": "markdown",
   "metadata": {},
   "source": [
    "# ECS7024 Statistics for Artificial Intelligence and Data Science\n",
    "\n",
    "This notebook is a resource on coding related to the topic of **logistic regression**.\n",
    "\n",
    "## Aims and Outline\n",
    "\n",
    "The purpose of the note book is provide examples of **logistic regression**, which is regression where the **target variable is binary** (the 'target' is also known as the 'dependent' or 'outcome' variable). The techniques are illustrated using the 'Heart' dataset, where the disease status is a binary variable. \n",
    "\n",
    "**Contents**\n",
    "\n",
    "1. Section 1: Fitting the Regression: Continuous Predictors\n",
    "    1. Fitting the model\n",
    "    2. Classification using the Model\n",
    "2. Section 2: Accuracy, Confusion Matrix and ROC\n",
    "    1. Confusion Matrix and the Performance Measures\n",
    "    2. ROC and AUC\n"
   ]
  },
  {
   "cell_type": "code",
   "execution_count": 1,
   "metadata": {},
   "outputs": [],
   "source": [
    "import pandas as pd\n",
    "import numpy as np\n",
    "import matplotlib.pyplot as plt\n",
    "from sklearn.linear_model import LogisticRegression\n",
    "from sklearn.metrics import precision_recall_fscore_support\n",
    "from sklearn.metrics import plot_roc_curve\n",
    "import seaborn as sns\n",
    "\n",
    "%matplotlib inline"
   ]
  },
  {
   "cell_type": "markdown",
   "metadata": {},
   "source": [
    "The dataset is on [Kaggle (in several places)](https://www.kaggle.com/ronitf/heart-disease-uci), referring to an original entry in th [UCI Machine Learning Repository](https://archive.ics.uci.edu/ml/datasets/Heart+Disease). Our version using strings rather than numbers to encode categorical values.\n",
    "\n",
    "The variables in the data set are shown below.\n",
    "\n",
    "| Variable | Description and Values | Type |\n",
    "|:---------:|:-----------|:-------|\n",
    "| Age | The person's age in years | Continuous |\n",
    "| Sex |Male or female: values 'M' or 'F'| Categorical |\n",
    "| ChestPain | Type of chest pain. Values: 'Typical','Atypical','Non_anginal','Asymptomatic' | Categorical |\n",
    "| RestBP | The person's resting blood pressure (mm Hg on admission to the hospital) | Continuous |\n",
    "| Chol   | The person's cholesterol measurement in mg/dl | Continuous |\n",
    "| Bsugar | Is the person's fasting blood sugar > 120 mg/dl. Values: True or False | Binary |\n",
    "| RestECG |Resting electrocardiogram. Values 'Normal','ST-T wave','Hypertrophy' | Categorical |\n",
    "| MaxRate | The person's maximum heart rate achieved | Continuous |\n",
    "| Angina | Exercise induced angina. Values: True or False) |Binary |\n",
    "| ECG_ST_d | ST depression induced by exercise relative to rest | Continuous |\n",
    "| ECG_ST_slope | The slope of the peak exercise ST segment. Values: 'Upsloping', 'Flat', 'Downsloping' | Categorical |\n",
    "| Vessels | The number of major vessels (0-3) coloured by fluoroscopy | Discrete |\n",
    "| Thallium | Thallium update test (0 = normal; 1 = fixed defect; 2 = reversible defect) | Categorical |\n",
    "| Disease  | Heart disease. Values: True or False | Binary |\n"
   ]
  },
  {
   "cell_type": "code",
   "execution_count": 2,
   "metadata": {},
   "outputs": [
    {
     "data": {
      "text/html": [
       "<div>\n",
       "<style scoped>\n",
       "    .dataframe tbody tr th:only-of-type {\n",
       "        vertical-align: middle;\n",
       "    }\n",
       "\n",
       "    .dataframe tbody tr th {\n",
       "        vertical-align: top;\n",
       "    }\n",
       "\n",
       "    .dataframe thead th {\n",
       "        text-align: right;\n",
       "    }\n",
       "</style>\n",
       "<table border=\"1\" class=\"dataframe\">\n",
       "  <thead>\n",
       "    <tr style=\"text-align: right;\">\n",
       "      <th></th>\n",
       "      <th>Age</th>\n",
       "      <th>Sex</th>\n",
       "      <th>ChestPain</th>\n",
       "      <th>RestBP</th>\n",
       "      <th>Chol</th>\n",
       "      <th>Bsugar</th>\n",
       "      <th>RestECG</th>\n",
       "      <th>MaxRate</th>\n",
       "      <th>Angina</th>\n",
       "      <th>ECG_ST_d</th>\n",
       "      <th>ECG_ST_slope</th>\n",
       "      <th>Vessels</th>\n",
       "      <th>Thallium</th>\n",
       "      <th>Disease</th>\n",
       "    </tr>\n",
       "  </thead>\n",
       "  <tbody>\n",
       "    <tr>\n",
       "      <th>0</th>\n",
       "      <td>69</td>\n",
       "      <td>M</td>\n",
       "      <td>Typical</td>\n",
       "      <td>160</td>\n",
       "      <td>234</td>\n",
       "      <td>True</td>\n",
       "      <td>Hypertrophy</td>\n",
       "      <td>131</td>\n",
       "      <td>False</td>\n",
       "      <td>0.1</td>\n",
       "      <td>Flat</td>\n",
       "      <td>1</td>\n",
       "      <td>Normal</td>\n",
       "      <td>False</td>\n",
       "    </tr>\n",
       "    <tr>\n",
       "      <th>1</th>\n",
       "      <td>69</td>\n",
       "      <td>F</td>\n",
       "      <td>Typical</td>\n",
       "      <td>140</td>\n",
       "      <td>239</td>\n",
       "      <td>False</td>\n",
       "      <td>Normal</td>\n",
       "      <td>151</td>\n",
       "      <td>False</td>\n",
       "      <td>1.8</td>\n",
       "      <td>Upsloping</td>\n",
       "      <td>2</td>\n",
       "      <td>Normal</td>\n",
       "      <td>False</td>\n",
       "    </tr>\n",
       "    <tr>\n",
       "      <th>2</th>\n",
       "      <td>66</td>\n",
       "      <td>F</td>\n",
       "      <td>Typical</td>\n",
       "      <td>150</td>\n",
       "      <td>226</td>\n",
       "      <td>False</td>\n",
       "      <td>Normal</td>\n",
       "      <td>114</td>\n",
       "      <td>False</td>\n",
       "      <td>2.6</td>\n",
       "      <td>Downsloping</td>\n",
       "      <td>0</td>\n",
       "      <td>Normal</td>\n",
       "      <td>False</td>\n",
       "    </tr>\n",
       "    <tr>\n",
       "      <th>3</th>\n",
       "      <td>65</td>\n",
       "      <td>M</td>\n",
       "      <td>Typical</td>\n",
       "      <td>138</td>\n",
       "      <td>282</td>\n",
       "      <td>True</td>\n",
       "      <td>Hypertrophy</td>\n",
       "      <td>174</td>\n",
       "      <td>False</td>\n",
       "      <td>1.4</td>\n",
       "      <td>Flat</td>\n",
       "      <td>1</td>\n",
       "      <td>Normal</td>\n",
       "      <td>True</td>\n",
       "    </tr>\n",
       "    <tr>\n",
       "      <th>4</th>\n",
       "      <td>64</td>\n",
       "      <td>M</td>\n",
       "      <td>Typical</td>\n",
       "      <td>110</td>\n",
       "      <td>211</td>\n",
       "      <td>False</td>\n",
       "      <td>Hypertrophy</td>\n",
       "      <td>144</td>\n",
       "      <td>True</td>\n",
       "      <td>1.8</td>\n",
       "      <td>Flat</td>\n",
       "      <td>0</td>\n",
       "      <td>Normal</td>\n",
       "      <td>False</td>\n",
       "    </tr>\n",
       "    <tr>\n",
       "      <th>...</th>\n",
       "      <td>...</td>\n",
       "      <td>...</td>\n",
       "      <td>...</td>\n",
       "      <td>...</td>\n",
       "      <td>...</td>\n",
       "      <td>...</td>\n",
       "      <td>...</td>\n",
       "      <td>...</td>\n",
       "      <td>...</td>\n",
       "      <td>...</td>\n",
       "      <td>...</td>\n",
       "      <td>...</td>\n",
       "      <td>...</td>\n",
       "      <td>...</td>\n",
       "    </tr>\n",
       "    <tr>\n",
       "      <th>292</th>\n",
       "      <td>40</td>\n",
       "      <td>M</td>\n",
       "      <td>Asymptomatic</td>\n",
       "      <td>152</td>\n",
       "      <td>223</td>\n",
       "      <td>False</td>\n",
       "      <td>Normal</td>\n",
       "      <td>181</td>\n",
       "      <td>False</td>\n",
       "      <td>0.0</td>\n",
       "      <td>Upsloping</td>\n",
       "      <td>0</td>\n",
       "      <td>Reversible</td>\n",
       "      <td>True</td>\n",
       "    </tr>\n",
       "    <tr>\n",
       "      <th>293</th>\n",
       "      <td>39</td>\n",
       "      <td>M</td>\n",
       "      <td>Asymptomatic</td>\n",
       "      <td>118</td>\n",
       "      <td>219</td>\n",
       "      <td>False</td>\n",
       "      <td>Normal</td>\n",
       "      <td>140</td>\n",
       "      <td>False</td>\n",
       "      <td>1.2</td>\n",
       "      <td>Flat</td>\n",
       "      <td>0</td>\n",
       "      <td>Reversible</td>\n",
       "      <td>True</td>\n",
       "    </tr>\n",
       "    <tr>\n",
       "      <th>294</th>\n",
       "      <td>35</td>\n",
       "      <td>M</td>\n",
       "      <td>Asymptomatic</td>\n",
       "      <td>120</td>\n",
       "      <td>198</td>\n",
       "      <td>False</td>\n",
       "      <td>Normal</td>\n",
       "      <td>130</td>\n",
       "      <td>True</td>\n",
       "      <td>1.6</td>\n",
       "      <td>Flat</td>\n",
       "      <td>0</td>\n",
       "      <td>Reversible</td>\n",
       "      <td>True</td>\n",
       "    </tr>\n",
       "    <tr>\n",
       "      <th>295</th>\n",
       "      <td>35</td>\n",
       "      <td>F</td>\n",
       "      <td>Asymptomatic</td>\n",
       "      <td>138</td>\n",
       "      <td>183</td>\n",
       "      <td>False</td>\n",
       "      <td>Normal</td>\n",
       "      <td>182</td>\n",
       "      <td>False</td>\n",
       "      <td>1.4</td>\n",
       "      <td>Upsloping</td>\n",
       "      <td>0</td>\n",
       "      <td>Normal</td>\n",
       "      <td>False</td>\n",
       "    </tr>\n",
       "    <tr>\n",
       "      <th>296</th>\n",
       "      <td>35</td>\n",
       "      <td>M</td>\n",
       "      <td>Asymptomatic</td>\n",
       "      <td>126</td>\n",
       "      <td>282</td>\n",
       "      <td>False</td>\n",
       "      <td>Hypertrophy</td>\n",
       "      <td>156</td>\n",
       "      <td>True</td>\n",
       "      <td>0.0</td>\n",
       "      <td>Upsloping</td>\n",
       "      <td>0</td>\n",
       "      <td>Reversible</td>\n",
       "      <td>True</td>\n",
       "    </tr>\n",
       "  </tbody>\n",
       "</table>\n",
       "<p>297 rows × 14 columns</p>\n",
       "</div>"
      ],
      "text/plain": [
       "     Age Sex     ChestPain  RestBP  Chol  Bsugar      RestECG  MaxRate  \\\n",
       "0     69   M       Typical     160   234    True  Hypertrophy      131   \n",
       "1     69   F       Typical     140   239   False       Normal      151   \n",
       "2     66   F       Typical     150   226   False       Normal      114   \n",
       "3     65   M       Typical     138   282    True  Hypertrophy      174   \n",
       "4     64   M       Typical     110   211   False  Hypertrophy      144   \n",
       "..   ...  ..           ...     ...   ...     ...          ...      ...   \n",
       "292   40   M  Asymptomatic     152   223   False       Normal      181   \n",
       "293   39   M  Asymptomatic     118   219   False       Normal      140   \n",
       "294   35   M  Asymptomatic     120   198   False       Normal      130   \n",
       "295   35   F  Asymptomatic     138   183   False       Normal      182   \n",
       "296   35   M  Asymptomatic     126   282   False  Hypertrophy      156   \n",
       "\n",
       "     Angina  ECG_ST_d ECG_ST_slope  Vessels    Thallium  Disease  \n",
       "0     False       0.1         Flat        1      Normal    False  \n",
       "1     False       1.8    Upsloping        2      Normal    False  \n",
       "2     False       2.6  Downsloping        0      Normal    False  \n",
       "3     False       1.4         Flat        1      Normal     True  \n",
       "4      True       1.8         Flat        0      Normal    False  \n",
       "..      ...       ...          ...      ...         ...      ...  \n",
       "292   False       0.0    Upsloping        0  Reversible     True  \n",
       "293   False       1.2         Flat        0  Reversible     True  \n",
       "294    True       1.6         Flat        0  Reversible     True  \n",
       "295   False       1.4    Upsloping        0      Normal    False  \n",
       "296    True       0.0    Upsloping        0  Reversible     True  \n",
       "\n",
       "[297 rows x 14 columns]"
      ]
     },
     "execution_count": 2,
     "metadata": {},
     "output_type": "execute_result"
    }
   ],
   "source": [
    "# sex\n",
    "sex_t = pd.CategoricalDtype(categories=['M','F'], ordered=False)\n",
    "\n",
    "# Chest pain\n",
    "pain_t = pd.CategoricalDtype(categories=['Typical','Atypical','Non_anginal','Asymptomatic'], ordered=False)\n",
    "\n",
    "# RestECG\n",
    "ECG_t = pd.CategoricalDtype(categories=['Normal','ST-T wave','Hypertrophy'], ordered=False)\n",
    "\n",
    "# ECG_ST_slope\n",
    "ECG_ST_t = pd.CategoricalDtype(categories=['Upsloping', 'Flat', 'Downsloping'], ordered=False)\n",
    "    \n",
    "# Thal thalassemia \n",
    "Thal_t = pd.CategoricalDtype(categories=['Normal','Fixed','Reversible'], ordered=False)\n",
    "\n",
    "# Type dictionary\n",
    "types_dict = {'Sex':sex_t, 'ChestPain':pain_t, 'RestECG': ECG_t, 'ECG_ST_slope': ECG_ST_t, 'Thallium':Thal_t}\n",
    "\n",
    "hearts = pd.read_csv('heart_cleveland_recoded.csv', dtype = types_dict)\n",
    "hearts\n"
   ]
  },
  {
   "cell_type": "markdown",
   "metadata": {},
   "source": [
    "## Section 1: Fitting the Regression: Continuous Predictors\n",
    "\n",
    "We get a dataframe containing the continuous predictors. "
   ]
  },
  {
   "cell_type": "markdown",
   "metadata": {},
   "source": [
    "### Section 1.1: Fitting the Model"
   ]
  },
  {
   "cell_type": "code",
   "execution_count": 3,
   "metadata": {},
   "outputs": [
    {
     "data": {
      "text/html": [
       "<div>\n",
       "<style scoped>\n",
       "    .dataframe tbody tr th:only-of-type {\n",
       "        vertical-align: middle;\n",
       "    }\n",
       "\n",
       "    .dataframe tbody tr th {\n",
       "        vertical-align: top;\n",
       "    }\n",
       "\n",
       "    .dataframe thead th {\n",
       "        text-align: right;\n",
       "    }\n",
       "</style>\n",
       "<table border=\"1\" class=\"dataframe\">\n",
       "  <thead>\n",
       "    <tr style=\"text-align: right;\">\n",
       "      <th></th>\n",
       "      <th>Age</th>\n",
       "      <th>RestBP</th>\n",
       "      <th>Chol</th>\n",
       "      <th>MaxRate</th>\n",
       "      <th>ECG_ST_d</th>\n",
       "      <th>Vessels</th>\n",
       "    </tr>\n",
       "  </thead>\n",
       "  <tbody>\n",
       "    <tr>\n",
       "      <th>0</th>\n",
       "      <td>69</td>\n",
       "      <td>160</td>\n",
       "      <td>234</td>\n",
       "      <td>131</td>\n",
       "      <td>0.1</td>\n",
       "      <td>1</td>\n",
       "    </tr>\n",
       "    <tr>\n",
       "      <th>1</th>\n",
       "      <td>69</td>\n",
       "      <td>140</td>\n",
       "      <td>239</td>\n",
       "      <td>151</td>\n",
       "      <td>1.8</td>\n",
       "      <td>2</td>\n",
       "    </tr>\n",
       "    <tr>\n",
       "      <th>2</th>\n",
       "      <td>66</td>\n",
       "      <td>150</td>\n",
       "      <td>226</td>\n",
       "      <td>114</td>\n",
       "      <td>2.6</td>\n",
       "      <td>0</td>\n",
       "    </tr>\n",
       "    <tr>\n",
       "      <th>3</th>\n",
       "      <td>65</td>\n",
       "      <td>138</td>\n",
       "      <td>282</td>\n",
       "      <td>174</td>\n",
       "      <td>1.4</td>\n",
       "      <td>1</td>\n",
       "    </tr>\n",
       "    <tr>\n",
       "      <th>4</th>\n",
       "      <td>64</td>\n",
       "      <td>110</td>\n",
       "      <td>211</td>\n",
       "      <td>144</td>\n",
       "      <td>1.8</td>\n",
       "      <td>0</td>\n",
       "    </tr>\n",
       "    <tr>\n",
       "      <th>...</th>\n",
       "      <td>...</td>\n",
       "      <td>...</td>\n",
       "      <td>...</td>\n",
       "      <td>...</td>\n",
       "      <td>...</td>\n",
       "      <td>...</td>\n",
       "    </tr>\n",
       "    <tr>\n",
       "      <th>292</th>\n",
       "      <td>40</td>\n",
       "      <td>152</td>\n",
       "      <td>223</td>\n",
       "      <td>181</td>\n",
       "      <td>0.0</td>\n",
       "      <td>0</td>\n",
       "    </tr>\n",
       "    <tr>\n",
       "      <th>293</th>\n",
       "      <td>39</td>\n",
       "      <td>118</td>\n",
       "      <td>219</td>\n",
       "      <td>140</td>\n",
       "      <td>1.2</td>\n",
       "      <td>0</td>\n",
       "    </tr>\n",
       "    <tr>\n",
       "      <th>294</th>\n",
       "      <td>35</td>\n",
       "      <td>120</td>\n",
       "      <td>198</td>\n",
       "      <td>130</td>\n",
       "      <td>1.6</td>\n",
       "      <td>0</td>\n",
       "    </tr>\n",
       "    <tr>\n",
       "      <th>295</th>\n",
       "      <td>35</td>\n",
       "      <td>138</td>\n",
       "      <td>183</td>\n",
       "      <td>182</td>\n",
       "      <td>1.4</td>\n",
       "      <td>0</td>\n",
       "    </tr>\n",
       "    <tr>\n",
       "      <th>296</th>\n",
       "      <td>35</td>\n",
       "      <td>126</td>\n",
       "      <td>282</td>\n",
       "      <td>156</td>\n",
       "      <td>0.0</td>\n",
       "      <td>0</td>\n",
       "    </tr>\n",
       "  </tbody>\n",
       "</table>\n",
       "<p>297 rows × 6 columns</p>\n",
       "</div>"
      ],
      "text/plain": [
       "     Age  RestBP  Chol  MaxRate  ECG_ST_d  Vessels\n",
       "0     69     160   234      131       0.1        1\n",
       "1     69     140   239      151       1.8        2\n",
       "2     66     150   226      114       2.6        0\n",
       "3     65     138   282      174       1.4        1\n",
       "4     64     110   211      144       1.8        0\n",
       "..   ...     ...   ...      ...       ...      ...\n",
       "292   40     152   223      181       0.0        0\n",
       "293   39     118   219      140       1.2        0\n",
       "294   35     120   198      130       1.6        0\n",
       "295   35     138   183      182       1.4        0\n",
       "296   35     126   282      156       0.0        0\n",
       "\n",
       "[297 rows x 6 columns]"
      ]
     },
     "execution_count": 3,
     "metadata": {},
     "output_type": "execute_result"
    }
   ],
   "source": [
    "hearts_cont = hearts.loc[:,['Age', 'RestBP', 'Chol', 'MaxRate', 'ECG_ST_d', 'Vessels']]\n",
    "hearts_cont"
   ]
  },
  {
   "cell_type": "markdown",
   "metadata": {},
   "source": [
    "Using the `LogisticRegression` implementation from `sklearn` we create a model and fit it to the data."
   ]
  },
  {
   "cell_type": "code",
   "execution_count": 4,
   "metadata": {},
   "outputs": [
    {
     "data": {
      "text/plain": [
       "array([False,  True])"
      ]
     },
     "execution_count": 4,
     "metadata": {},
     "output_type": "execute_result"
    }
   ],
   "source": [
    "logit_reg = LogisticRegression(penalty='none')\n",
    "logit_reg.fit(hearts_cont, hearts.Disease)\n",
    "logit_reg.classes_"
   ]
  },
  {
   "cell_type": "markdown",
   "metadata": {},
   "source": [
    "We can print out the coefficients. These are not easy to interpret. We know that an older person is more likely to have heart disease but this coefficient is negative. If we rerun the regression for a single predictor the sign changes (see Appendix). This is likely to be caused by correlation between the predictors."
   ]
  },
  {
   "cell_type": "code",
   "execution_count": 22,
   "metadata": {},
   "outputs": [
    {
     "name": "stdout",
     "output_type": "stream",
     "text": [
      "Predictor Age has beta = -0.036\n",
      "Predictor RestBP has beta = 0.018\n",
      "Predictor Chol has beta = 0.003\n",
      "Predictor MaxRate has beta = -0.037\n",
      "Predictor ECG_ST_d has beta = 0.624\n",
      "Predictor Vessels has beta = 1.213\n",
      "Intercept = 2.868\n",
      "[[-0.03570853  0.01845559  0.00289863 -0.03729367  0.62428543  1.21279273]]\n"
     ]
    }
   ],
   "source": [
    "names = hearts_cont.columns.values\n",
    "beta = logit_reg.coef_[0]  \n",
    "for i in range(0,len(names)):\n",
    "    print('Predictor %s has beta = %4.3f' % (names[i], beta[i]))\n",
    "print('Intercept = %4.3f' % logit_reg.intercept_[0])\n",
    "print(logit_reg.coef_)"
   ]
  },
  {
   "cell_type": "markdown",
   "metadata": {},
   "source": [
    "It is more informative to look at the **distribution of the probability** for the two cases. We show two visualisations of this, which clearly show that there are some mis-predictions.\n",
    "\n",
    "We start by creating a data frame that contains the actual and predicted results."
   ]
  },
  {
   "cell_type": "code",
   "execution_count": 6,
   "metadata": {},
   "outputs": [
    {
     "data": {
      "text/html": [
       "<div>\n",
       "<style scoped>\n",
       "    .dataframe tbody tr th:only-of-type {\n",
       "        vertical-align: middle;\n",
       "    }\n",
       "\n",
       "    .dataframe tbody tr th {\n",
       "        vertical-align: top;\n",
       "    }\n",
       "\n",
       "    .dataframe thead th {\n",
       "        text-align: right;\n",
       "    }\n",
       "</style>\n",
       "<table border=\"1\" class=\"dataframe\">\n",
       "  <thead>\n",
       "    <tr style=\"text-align: right;\">\n",
       "      <th></th>\n",
       "      <th>Disease</th>\n",
       "      <th>Predicted_disease</th>\n",
       "    </tr>\n",
       "  </thead>\n",
       "  <tbody>\n",
       "    <tr>\n",
       "      <th>0</th>\n",
       "      <td>False</td>\n",
       "      <td>0.604641</td>\n",
       "    </tr>\n",
       "    <tr>\n",
       "      <th>1</th>\n",
       "      <td>False</td>\n",
       "      <td>0.831798</td>\n",
       "    </tr>\n",
       "    <tr>\n",
       "      <th>2</th>\n",
       "      <td>False</td>\n",
       "      <td>0.786866</td>\n",
       "    </tr>\n",
       "    <tr>\n",
       "      <th>3</th>\n",
       "      <td>True</td>\n",
       "      <td>0.379594</td>\n",
       "    </tr>\n",
       "    <tr>\n",
       "      <th>4</th>\n",
       "      <td>False</td>\n",
       "      <td>0.264562</td>\n",
       "    </tr>\n",
       "    <tr>\n",
       "      <th>...</th>\n",
       "      <td>...</td>\n",
       "      <td>...</td>\n",
       "    </tr>\n",
       "    <tr>\n",
       "      <th>292</th>\n",
       "      <td>True</td>\n",
       "      <td>0.134814</td>\n",
       "    </tr>\n",
       "    <tr>\n",
       "      <th>293</th>\n",
       "      <td>True</td>\n",
       "      <td>0.454070</td>\n",
       "    </tr>\n",
       "    <tr>\n",
       "      <th>294</th>\n",
       "      <td>True</td>\n",
       "      <td>0.635824</td>\n",
       "    </tr>\n",
       "    <tr>\n",
       "      <th>295</th>\n",
       "      <td>False</td>\n",
       "      <td>0.228267</td>\n",
       "    </tr>\n",
       "    <tr>\n",
       "      <th>296</th>\n",
       "      <td>True</td>\n",
       "      <td>0.257885</td>\n",
       "    </tr>\n",
       "  </tbody>\n",
       "</table>\n",
       "<p>297 rows × 2 columns</p>\n",
       "</div>"
      ],
      "text/plain": [
       "     Disease  Predicted_disease\n",
       "0      False           0.604641\n",
       "1      False           0.831798\n",
       "2      False           0.786866\n",
       "3       True           0.379594\n",
       "4      False           0.264562\n",
       "..       ...                ...\n",
       "292     True           0.134814\n",
       "293     True           0.454070\n",
       "294     True           0.635824\n",
       "295    False           0.228267\n",
       "296     True           0.257885\n",
       "\n",
       "[297 rows x 2 columns]"
      ]
     },
     "execution_count": 6,
     "metadata": {},
     "output_type": "execute_result"
    }
   ],
   "source": [
    "true_proba = logit_reg.predict_proba(hearts_cont)[:,1] \n",
    "                # the prediction gives a probability for each class, in order of classes_\n",
    "results = pd.DataFrame(data = {'Disease':hearts.Disease, 'Predicted_disease':true_proba})\n",
    "results"
   ]
  },
  {
   "cell_type": "markdown",
   "metadata": {},
   "source": [
    "Both the boxplot and the density show that the predicted probability is higher when there is heart disease but that there is some overlap. "
   ]
  },
  {
   "cell_type": "code",
   "execution_count": 7,
   "metadata": {},
   "outputs": [
    {
     "data": {
      "image/png": "[encoded data removed]",
      "text/plain": [
       "<Figure size 432x288 with 1 Axes>"
      ]
     },
     "metadata": {
      "needs_background": "light"
     },
     "output_type": "display_data"
    }
   ],
   "source": [
    "ax = results.boxplot(column='Predicted_disease', by='Disease', fontsize=14)\n",
    "_ = plt.suptitle('')\n",
    "ax.set_xlabel('Disease', fontsize=14)\n",
    "ax.set_ylabel('Predicted p(Disease)', fontsize=14)\n",
    "_ = ax.set_title('p(Disease) predicted from logistic regression', fontsize=14)"
   ]
  },
  {
   "cell_type": "code",
   "execution_count": 8,
   "metadata": {},
   "outputs": [
    {
     "data": {
      "image/png": "[encoded data removed]",
      "text/plain": [
       "<Figure size 720x504 with 1 Axes>"
      ]
     },
     "metadata": {
      "needs_background": "light"
     },
     "output_type": "display_data"
    }
   ],
   "source": [
    "g = results.groupby('Disease')\n",
    "fig, ax1 = plt.subplots(1, 1, figsize=(10,7))\n",
    "(ax_false, ax_true) = g.hist(column=['Predicted_disease'], ax = ax1, \n",
    "                             alpha=0.3, legend=False, density=True)\n",
    "ax1.legend(['No disease', 'Disease'])\n",
    "ax1.set_xlabel('Predited p(Disease)', fontsize=14)\n",
    "ax1.set_ylabel('Density', fontsize=14)\n",
    "_ = ax1.set_title('Distribution of p(Disease) predicted from logistic regression', fontsize=14)"
   ]
  },
  {
   "cell_type": "markdown",
   "metadata": {},
   "source": [
    "### Section 1.2: Classification using the Model\n",
    "We can insert the predicted class. This assumes a 50% probability threshold (there is no parameter). "
   ]
  },
  {
   "cell_type": "code",
   "execution_count": 9,
   "metadata": {},
   "outputs": [
    {
     "data": {
      "text/html": [
       "<div>\n",
       "<style scoped>\n",
       "    .dataframe tbody tr th:only-of-type {\n",
       "        vertical-align: middle;\n",
       "    }\n",
       "\n",
       "    .dataframe tbody tr th {\n",
       "        vertical-align: top;\n",
       "    }\n",
       "\n",
       "    .dataframe thead th {\n",
       "        text-align: right;\n",
       "    }\n",
       "</style>\n",
       "<table border=\"1\" class=\"dataframe\">\n",
       "  <thead>\n",
       "    <tr style=\"text-align: right;\">\n",
       "      <th></th>\n",
       "      <th>Disease</th>\n",
       "      <th>Predicted_disease</th>\n",
       "      <th>Predicted_class</th>\n",
       "    </tr>\n",
       "  </thead>\n",
       "  <tbody>\n",
       "    <tr>\n",
       "      <th>0</th>\n",
       "      <td>False</td>\n",
       "      <td>0.604641</td>\n",
       "      <td>True</td>\n",
       "    </tr>\n",
       "    <tr>\n",
       "      <th>1</th>\n",
       "      <td>False</td>\n",
       "      <td>0.831798</td>\n",
       "      <td>True</td>\n",
       "    </tr>\n",
       "    <tr>\n",
       "      <th>2</th>\n",
       "      <td>False</td>\n",
       "      <td>0.786866</td>\n",
       "      <td>True</td>\n",
       "    </tr>\n",
       "    <tr>\n",
       "      <th>3</th>\n",
       "      <td>True</td>\n",
       "      <td>0.379594</td>\n",
       "      <td>False</td>\n",
       "    </tr>\n",
       "    <tr>\n",
       "      <th>4</th>\n",
       "      <td>False</td>\n",
       "      <td>0.264562</td>\n",
       "      <td>False</td>\n",
       "    </tr>\n",
       "    <tr>\n",
       "      <th>...</th>\n",
       "      <td>...</td>\n",
       "      <td>...</td>\n",
       "      <td>...</td>\n",
       "    </tr>\n",
       "    <tr>\n",
       "      <th>292</th>\n",
       "      <td>True</td>\n",
       "      <td>0.134814</td>\n",
       "      <td>False</td>\n",
       "    </tr>\n",
       "    <tr>\n",
       "      <th>293</th>\n",
       "      <td>True</td>\n",
       "      <td>0.454070</td>\n",
       "      <td>False</td>\n",
       "    </tr>\n",
       "    <tr>\n",
       "      <th>294</th>\n",
       "      <td>True</td>\n",
       "      <td>0.635824</td>\n",
       "      <td>True</td>\n",
       "    </tr>\n",
       "    <tr>\n",
       "      <th>295</th>\n",
       "      <td>False</td>\n",
       "      <td>0.228267</td>\n",
       "      <td>False</td>\n",
       "    </tr>\n",
       "    <tr>\n",
       "      <th>296</th>\n",
       "      <td>True</td>\n",
       "      <td>0.257885</td>\n",
       "      <td>False</td>\n",
       "    </tr>\n",
       "  </tbody>\n",
       "</table>\n",
       "<p>297 rows × 3 columns</p>\n",
       "</div>"
      ],
      "text/plain": [
       "     Disease  Predicted_disease  Predicted_class\n",
       "0      False           0.604641             True\n",
       "1      False           0.831798             True\n",
       "2      False           0.786866             True\n",
       "3       True           0.379594            False\n",
       "4      False           0.264562            False\n",
       "..       ...                ...              ...\n",
       "292     True           0.134814            False\n",
       "293     True           0.454070            False\n",
       "294     True           0.635824             True\n",
       "295    False           0.228267            False\n",
       "296     True           0.257885            False\n",
       "\n",
       "[297 rows x 3 columns]"
      ]
     },
     "execution_count": 9,
     "metadata": {},
     "output_type": "execute_result"
    }
   ],
   "source": [
    "results = results.assign(Predicted_class = logit_reg.predict(hearts_cont))\n",
    "results"
   ]
  },
  {
   "cell_type": "markdown",
   "metadata": {},
   "source": [
    "## Section 2: Accuracy, Confusion Matrix and ROC\n",
    "\n",
    "### Section 2.1: Confusion Matrix and the Performance Measures\n",
    "Excellent coverage in Wikipedia article on [sensitivity and specificity](https://en.wikipedia.org/wiki/Sensitivity_and_specificity)"
   ]
  },
  {
   "cell_type": "code",
   "execution_count": 10,
   "metadata": {},
   "outputs": [
    {
     "name": "stdout",
     "output_type": "stream",
     "text": [
      "There are 117 positive and 180 negative predictions of heart disease\n"
     ]
    }
   ],
   "source": [
    "pos_predict = results.loc[results.Predicted_class]\n",
    "neg_predict = results.loc[np.logical_not(results.Predicted_class)]\n",
    "num_pos = len(pos_predict)\n",
    "num_neg = len(neg_predict)\n",
    "print('There are %d positive and %d negative predictions of heart disease' % (num_pos, num_neg))"
   ]
  },
  {
   "cell_type": "code",
   "execution_count": 11,
   "metadata": {},
   "outputs": [
    {
     "name": "stdout",
     "output_type": "stream",
     "text": [
      "There are 95 true positives and 42 false negatives\n",
      "There are 22 false positives and 138 true negatives\n"
     ]
    }
   ],
   "source": [
    "false_pos = pos_predict.loc[np.logical_not(pos_predict.Disease)]\n",
    "false_neg = neg_predict.loc[neg_predict.Disease]\n",
    "fp = len(false_pos)\n",
    "fn = len(false_neg)\n",
    "tp = num_pos - fp\n",
    "tn = num_neg - fn\n",
    "print('There are %d true positives and %d false negatives' % (tp, fn))\n",
    "print('There are %d false positives and %d true negatives' % (fp, tn))"
   ]
  },
  {
   "cell_type": "code",
   "execution_count": 12,
   "metadata": {},
   "outputs": [
    {
     "name": "stdout",
     "output_type": "stream",
     "text": [
      "Accuracy=78.5%\n",
      "Precision=81.2%\n",
      "Recall=69.3%\n",
      "Specificity=86.2%\n"
     ]
    }
   ],
   "source": [
    "total = len(results)\n",
    "print('Accuracy=%4.1f%%' % (100*(tp + tn)/total))\n",
    "print('Precision=%4.1f%%' % (100*tp/(tp+fp)))\n",
    "print('Recall=%4.1f%%' % (100*tp/(tp+fn)))\n",
    "print('Specificity=%4.1f%%' % (100*tn / (tn+fp)))"
   ]
  },
  {
   "cell_type": "markdown",
   "metadata": {},
   "source": [
    "A built-in method to calculate this, but unfriendly output. "
   ]
  },
  {
   "cell_type": "code",
   "execution_count": 28,
   "metadata": {},
   "outputs": [
    {
     "name": "stdout",
     "output_type": "stream",
     "text": [
      "Precision=81.2%\n",
      "Recall=69.3%\n",
      "F score=74.8%\n"
     ]
    }
   ],
   "source": [
    "precision, recall, f_beta, _ = precision_recall_fscore_support(\n",
    "    results.Disease, results.Predicted_class, average='binary')\n",
    "print('Precision=%4.1f%%' % (100*precision))\n",
    "print('Recall=%4.1f%%' % (100*recall))\n",
    "print(f'F score={round(f_beta*100,1)}%')"
   ]
  },
  {
   "cell_type": "markdown",
   "metadata": {},
   "source": [
    "### Section 2.2 ROC and AUC\n",
    "\n",
    "Curve shows the trade-off between sensitivity and specificity when the threshold probability used in the classification changes. The area under the curve is a measure of the performance of the classifier that doe snot depend on the probability threshold used for classification. A completely random classifier has an AUC of 0.5."
   ]
  },
  {
   "cell_type": "code",
   "execution_count": 14,
   "metadata": {},
   "outputs": [
    {
     "data": {
      "text/plain": [
       "<matplotlib.legend.Legend at 0x222383e4400>"
      ]
     },
     "execution_count": 14,
     "metadata": {},
     "output_type": "execute_result"
    },
    {
     "data": {
      "image/png": "[encoded data removed]",
      "text/plain": [
       "<Figure size 432x432 with 1 Axes>"
      ]
     },
     "metadata": {
      "needs_background": "light"
     },
     "output_type": "display_data"
    }
   ],
   "source": [
    "d = plot_roc_curve(logit_reg, hearts_cont, hearts.Disease)\n",
    "\n",
    "# formatting stuff\n",
    "d.ax_.set_xlabel(d.ax_.get_xlabel(), fontsize=14)\n",
    "d.ax_.set_ylabel(d.ax_.get_ylabel(), fontsize=14)\n",
    "d.figure_.set_figheight(6)\n",
    "d.figure_.set_figwidth(6)\n",
    "d.ax_.legend(fontsize=14)"
   ]
  },
  {
   "cell_type": "markdown",
   "metadata": {},
   "source": [
    "## Appendix 1: Classification with Fewer Predictors\n",
    "\n",
    "For comparison, we repeat the prediction using only a few predictors. This helps to confirm what is going on! "
   ]
  },
  {
   "cell_type": "code",
   "execution_count": 15,
   "metadata": {},
   "outputs": [
    {
     "name": "stdout",
     "output_type": "stream",
     "text": [
      "Predictor Age has beta = 0.053\n",
      "Intercept = -3.051\n"
     ]
    }
   ],
   "source": [
    "hearts_cont1 = hearts.loc[:,['Age']] #, 'RestBP', 'Chol', 'MaxRate', 'ECG_ST_d', 'Vessels']]\n",
    "hearts_cont1\n",
    "logit_reg1 = LogisticRegression(penalty='none')\n",
    "logit_reg1.fit(hearts_cont1, hearts.Disease)\n",
    "logit_reg1.classes_\n",
    "names = hearts_cont1.columns.values\n",
    "beta = logit_reg1.coef_[0]  \n",
    "for i in range(0,len(names)):\n",
    "    print('Predictor %s has beta = %4.3f' % (names[i], beta[i]))\n",
    "print('Intercept = %4.3f' % logit_reg1.intercept_[0])"
   ]
  },
  {
   "cell_type": "code",
   "execution_count": 16,
   "metadata": {},
   "outputs": [],
   "source": [
    "true_proba1 = logit_reg1.predict_proba(hearts_cont1)[:,1] \n",
    "                # the prediction gives a probability for each class, in order of classes_\n",
    "results1 = pd.DataFrame(data = {'Disease':hearts.Disease, 'Predicted-disease':true_proba1})\n",
    "#results1"
   ]
  },
  {
   "cell_type": "code",
   "execution_count": 17,
   "metadata": {},
   "outputs": [
    {
     "data": {
      "image/png": "[encoded data removed]",
      "text/plain": [
       "<Figure size 720x504 with 1 Axes>"
      ]
     },
     "metadata": {
      "needs_background": "light"
     },
     "output_type": "display_data"
    }
   ],
   "source": [
    "g = results1.groupby('Disease')\n",
    "fig, ax1 = plt.subplots(1, 1, figsize=(10,7))\n",
    "(ax_false, ax_true) = g.hist(column=['Predicted-disease'], ax = ax1, \n",
    "                             alpha=0.3, legend=False, density=True)\n",
    "ax1.legend(['No disease', 'Disease'])\n",
    "ax1.set_xlabel('Predited p(Disease)', fontsize=14)\n",
    "ax1.set_ylabel('Density', fontsize=14)\n",
    "_ = ax1.set_title('Distribution of p(Disease) predicted from logistic regression', fontsize=14)"
   ]
  },
  {
   "cell_type": "code",
   "execution_count": 18,
   "metadata": {},
   "outputs": [
    {
     "data": {
      "image/png": "[encoded data removed]",
      "text/plain": [
       "<Figure size 432x288 with 1 Axes>"
      ]
     },
     "metadata": {
      "needs_background": "light"
     },
     "output_type": "display_data"
    }
   ],
   "source": [
    "ax = results1.boxplot(column='Predicted-disease', by='Disease', fontsize=14)\n",
    "_ = plt.suptitle('')\n",
    "ax.set_xlabel('Disease', fontsize=14)\n",
    "ax.set_ylabel('Predicted p(Disease)', fontsize=14)\n",
    "_ = ax.set_title('p(Disease) predicted from logistic regression', fontsize=14)"
   ]
  },
  {
   "cell_type": "markdown",
   "metadata": {},
   "source": [
    "## Appendix 2: Illustrations\n",
    "\n",
    "\n",
    "We draw the logit function. This is not practically useful."
   ]
  },
  {
   "cell_type": "code",
   "execution_count": 19,
   "metadata": {},
   "outputs": [
    {
     "data": {
      "text/plain": [
       "Text(0, 0.5, 'Log of Odds Ratio')"
      ]
     },
     "execution_count": 19,
     "metadata": {},
     "output_type": "execute_result"
    },
    {
     "data": {
      "image/png": "[encoded data removed]",
      "text/plain": [
       "<Figure size 432x288 with 1 Axes>"
      ]
     },
     "metadata": {
      "needs_background": "light"
     },
     "output_type": "display_data"
    }
   ],
   "source": [
    "def logit(p):\n",
    "    return np.log(p / (1-p))\n",
    "\n",
    "fig, ax = plt.subplots(1,1)\n",
    "xs = np.arange(0.01, 0.99, 0.01)\n",
    "ys = logit(xs)\n",
    "ax.plot(xs, ys)\n",
    "ax.set_xlabel(\"Probability\", fontsize=16)\n",
    "ax.set_ylabel(\"Log of Odds Ratio\", fontsize=16)"
   ]
  },
  {
   "cell_type": "markdown",
   "metadata": {},
   "source": [
    "The inverse of the log odds function is often called $\\sigma$ ('sigma') as it follows the shape of an S. The shape is similar to that of the cumulative distribution function (CDF) of a normal distribution: this observation leads to the 'probit' rather than 'logit' regression. "
   ]
  },
  {
   "cell_type": "code",
   "execution_count": 20,
   "metadata": {},
   "outputs": [
    {
     "data": {
      "text/plain": [
       "Text(0.5, 0, 'Log of Odds Ratio')"
      ]
     },
     "execution_count": 20,
     "metadata": {},
     "output_type": "execute_result"
    },
    {
     "data": {
      "image/png": "[encoded data removed]",
      "text/plain": [
       "<Figure size 432x288 with 1 Axes>"
      ]
     },
     "metadata": {
      "needs_background": "light"
     },
     "output_type": "display_data"
    }
   ],
   "source": [
    "def sigma(logit):\n",
    "    odds = np.exp(logit)\n",
    "    return odds / (odds+1)\n",
    "\n",
    "fig, ax = plt.subplots(1,1)\n",
    "xs = np.arange(-5.0, 5.0, 0.05)\n",
    "ys = sigma(xs)\n",
    "ax.plot(xs, ys)\n",
    "ax.set_ylabel(\"Probability\", fontsize=16)\n",
    "ax.set_xlabel(\"Log of Odds Ratio\", fontsize=16)"
   ]
  },
  {
   "cell_type": "markdown",
   "metadata": {},
   "source": [
    "We also show a scatter plot of the outcome against one of the predictors to show the need for logistic regression, as linear regression cannot directly handle the binary case."
   ]
  },
  {
   "cell_type": "code",
   "execution_count": 21,
   "metadata": {},
   "outputs": [
    {
     "data": {
      "text/plain": [
       "Text(0, 0.5, 'Disease Status')"
      ]
     },
     "execution_count": 21,
     "metadata": {},
     "output_type": "execute_result"
    },
    {
     "data": {
      "image/png": "[encoded data removed]",
      "text/plain": [
       "<Figure size 432x288 with 1 Axes>"
      ]
     },
     "metadata": {
      "needs_background": "light"
     },
     "output_type": "display_data"
    }
   ],
   "source": [
    "fig, ax = plt.subplots(1, 1)\n",
    "ax.scatter(hearts.MaxRate, hearts.Disease.values)\n",
    "ax.set_xlabel('MaxRate', fontsize=16)\n",
    "ax.set_ylabel('Disease Status', fontsize=16)"
   ]
  }
 ],
 "metadata": {
  "kernelspec": {
   "display_name": "Python 3",
   "language": "python",
   "name": "python3"
  },
  "language_info": {
   "codemirror_mode": {
    "name": "ipython",
    "version": 3
   },
   "file_extension": ".py",
   "mimetype": "text/x-python",
   "name": "python",
   "nbconvert_exporter": "python",
   "pygments_lexer": "ipython3",
   "version": "3.8.8"
  }
 },
 "nbformat": 4,
 "nbformat_minor": 4
}
