{
 "cells": [
  {
   "cell_type": "code",
   "execution_count": 29,
   "id": "e34e061d-800f-4575-9997-e196bf418611",
   "metadata": {},
   "outputs": [],
   "source": [
    "import numpy as np\n",
    "from matplotlib import pyplot as plt"
   ]
  },
  {
   "cell_type": "code",
   "execution_count": 30,
   "id": "6fa10cb6-12ab-464f-aa7e-ed16297e0dae",
   "metadata": {},
   "outputs": [
    {
     "data": {
      "text/plain": [
       "array([[1. ],\n",
       "       [2. ],\n",
       "       [3. ],\n",
       "       [5. ],\n",
       "       [7. ],\n",
       "       [8. ],\n",
       "       [2.5],\n",
       "       [8. ]])"
      ]
     },
     "execution_count": 30,
     "metadata": {},
     "output_type": "execute_result"
    }
   ],
   "source": [
    "x = np.array([1,2,3,5,7,8,2.5,8],ndmin=2).T\n",
    "y = np.array([2.2,3.5,3.9,2.9,5.0,6.2,3.0,4.8],ndmin=2).T\n",
    "x"
   ]
  },
  {
   "cell_type": "code",
   "execution_count": 31,
   "id": "2103716b-dcd2-4ca4-9444-af78275e0435",
   "metadata": {},
   "outputs": [
    {
     "data": {
      "text/plain": [
       "(8, 1)"
      ]
     },
     "execution_count": 31,
     "metadata": {},
     "output_type": "execute_result"
    }
   ],
   "source": [
    "x.shape"
   ]
  },
  {
   "cell_type": "code",
   "execution_count": 32,
   "id": "7ed04a1a-245e-44da-97d2-a859befe62b4",
   "metadata": {},
   "outputs": [
    {
     "data": {
      "text/plain": [
       "array([[1. , 1. ],\n",
       "       [1. , 2. ],\n",
       "       [1. , 3. ],\n",
       "       [1. , 5. ],\n",
       "       [1. , 7. ],\n",
       "       [1. , 8. ],\n",
       "       [1. , 2.5],\n",
       "       [1. , 8. ]])"
      ]
     },
     "execution_count": 32,
     "metadata": {},
     "output_type": "execute_result"
    }
   ],
   "source": [
    "X = np.column_stack([np.ones(x.shape), x])\n",
    "X"
   ]
  },
  {
   "cell_type": "code",
   "execution_count": 33,
   "id": "ec72ed10-29fb-4cf2-8ef0-0c910bf80eb5",
   "metadata": {},
   "outputs": [
    {
     "data": {
      "text/plain": [
       "array([[2.12120022],\n",
       "       [0.3980931 ]])"
      ]
     },
     "execution_count": 33,
     "metadata": {},
     "output_type": "execute_result"
    }
   ],
   "source": [
    "w = np.dot(np.dot(np.linalg.inv(np.dot(X.T, X)), X.T), y)\n",
    "w"
   ]
  },
  {
   "cell_type": "code",
   "execution_count": 34,
   "id": "ded0c598-6ba4-4a1d-9327-169e568f1692",
   "metadata": {},
   "outputs": [
    {
     "data": {
      "text/plain": [
       "array([[ 1.  ,  1.  ,  1.  ],\n",
       "       [ 1.  ,  2.  ,  4.  ],\n",
       "       [ 1.  ,  3.  ,  9.  ],\n",
       "       [ 1.  ,  5.  , 25.  ],\n",
       "       [ 1.  ,  7.  , 49.  ],\n",
       "       [ 1.  ,  8.  , 64.  ],\n",
       "       [ 1.  ,  2.5 ,  6.25],\n",
       "       [ 1.  ,  8.  , 64.  ]])"
      ]
     },
     "execution_count": 34,
     "metadata": {},
     "output_type": "execute_result"
    }
   ],
   "source": [
    "X_quadratic = np.column_stack([np.ones(x.shape),x,x**2])\n",
    "X_quadratic"
   ]
  },
  {
   "cell_type": "code",
   "execution_count": 35,
   "id": "e027e146-f6d8-4e04-b35b-1069a4d1e3a0",
   "metadata": {},
   "outputs": [
    {
     "data": {
      "text/plain": [
       "array([[2.7167995 ],\n",
       "       [0.03485877],\n",
       "       [0.03821489]])"
      ]
     },
     "execution_count": 35,
     "metadata": {},
     "output_type": "execute_result"
    }
   ],
   "source": [
    "w_quadratic = np.dot(np.dot(np.linalg.inv(np.dot(X_quadratic.T, X_quadratic)), X_quadratic.T), y)\n",
    "w_quadratic"
   ]
  },
  {
   "cell_type": "code",
   "execution_count": 36,
   "id": "42c5ffeb-cc5d-4842-8f12-08c666574820",
   "metadata": {},
   "outputs": [
    {
     "data": {
      "text/plain": [
       "array([[  1.   ,   1.   ,   1.   ,   1.   ],\n",
       "       [  1.   ,   2.   ,   4.   ,   8.   ],\n",
       "       [  1.   ,   3.   ,   9.   ,  27.   ],\n",
       "       [  1.   ,   5.   ,  25.   , 125.   ],\n",
       "       [  1.   ,   7.   ,  49.   , 343.   ],\n",
       "       [  1.   ,   8.   ,  64.   , 512.   ],\n",
       "       [  1.   ,   2.5  ,   6.25 ,  15.625],\n",
       "       [  1.   ,   8.   ,  64.   , 512.   ]])"
      ]
     },
     "execution_count": 36,
     "metadata": {},
     "output_type": "execute_result"
    }
   ],
   "source": [
    "X_cubic = np.column_stack([np.ones(x.shape),x,x**2,x**3])\n",
    "X_cubic"
   ]
  },
  {
   "cell_type": "code",
   "execution_count": 37,
   "id": "c46e9924-8b8b-4c12-b50c-42f165af8c1b",
   "metadata": {},
   "outputs": [
    {
     "data": {
      "text/plain": [
       "array([[ 0.84346828],\n",
       "       [ 1.95172897],\n",
       "       [-0.4743834 ],\n",
       "       [ 0.03818664]])"
      ]
     },
     "execution_count": 37,
     "metadata": {},
     "output_type": "execute_result"
    }
   ],
   "source": [
    "w_cubic = np.dot(np.dot(np.linalg.inv(np.dot(X_cubic.T, X_cubic)), X_cubic.T), y)\n",
    "w_cubic"
   ]
  },
  {
   "cell_type": "code",
   "execution_count": 39,
   "id": "5af37b42-cdfe-4665-b79a-974522991ac8",
   "metadata": {},
   "outputs": [
    {
     "data": {
      "text/plain": [
       "array([3.7243546])"
      ]
     },
     "execution_count": 39,
     "metadata": {},
     "output_type": "execute_result"
    }
   ],
   "source": [
    "y = w_cubic[0] + 6*w_cubic[1] + 6**2*w_cubic[2] + 6**3*w_cubic[3]\n",
    "y"
   ]
  }
 ],
 "metadata": {
  "kernelspec": {
   "display_name": "Python 3 (ipykernel)",
   "language": "python",
   "name": "python3"
  },
  "language_info": {
   "codemirror_mode": {
    "name": "ipython",
    "version": 3
   },
   "file_extension": ".py",
   "mimetype": "text/x-python",
   "name": "python",
   "nbconvert_exporter": "python",
   "pygments_lexer": "ipython3",
   "version": "3.9.6"
  }
 },
 "nbformat": 4,
 "nbformat_minor": 5
}
