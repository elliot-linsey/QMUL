{
 "cells": [
  {
   "cell_type": "markdown",
   "id": "f5dc3d82",
   "metadata": {},
   "source": [
    "# ECS7024 Statistics for Artificial Intelligence and Data Science\n",
    "\n",
    "# Coursework 4 - Elliot Linsey\n",
    "\n",
    "**Table of Contents**\n",
    "\n",
    "1. Section 1: Introduction\n",
    "  * Section 1.1: Loading the Data\n",
    "  * Section 1.2: Histograms of Variables\n",
    "2. Section 2: Analysis 1 - Predicting Birth Rate\n",
    "  * Section 2.1: Storks and Birth Rate \n",
    "  * Section 2.2: Humans and Birth Rate\n",
    "  * Section 2.3: Bootstrap\n",
    "  * Section 2.4: Differences in $r^2$ Score\n",
    "3. Section 3: Predicting the Number of Storks \n",
    "  * Section 3.1: Creating New Variables\n",
    "  * Section 3.2: Multiple Linear Regression\n",
    "  * Section 3.3: Predicted vs Actual Values\n",
    "  * Section 3.4: Bootstrap 2\n",
    "  * Section 3.5: Differences in RMSE\n",
    "  * Section 3.6: Predictor Impact\n",
    "4. Conclusion"
   ]
  },
  {
   "cell_type": "code",
   "execution_count": 4,
   "id": "96783acd",
   "metadata": {},
   "outputs": [],
   "source": [
    "import pandas as pd\n",
    "import numpy as np\n",
    "import matplotlib.pyplot as plt\n",
    "from sklearn.linear_model import LinearRegression\n",
    "from sklearn.metrics import mean_squared_error\n",
    "np.set_printoptions(precision=3)"
   ]
  },
  {
   "cell_type": "markdown",
   "id": "7bbe5589",
   "metadata": {},
   "source": [
    "## Section 1: Introduction\n",
    "\n",
    "There are two aims of this document, one is to use regression models to predict and explain the variability in the number of births. We will achieve this by using two different predictors separately: the number of storks and the population size. We will then use a bootstrap technique to estimate the distribution of the difference of the $r^2$ score for both models.\n",
    "\n",
    "The second part of this document uses regression models to predict the number of storks. The predictors are at first the land area, then another regression is performed using multiple linear regression. The predictors for multiple linear regression are created from variables within the original dataset. These new predictors are Suitable Area which is determined from SuitableAreaPercent and Area. The second predictor is Population Density which is derived from Humans and Area. The bootstrap technique is then utilised again to estimate the distribution of the difference of the root mean squared error parameter for both models."
   ]
  },
  {
   "cell_type": "markdown",
   "id": "6ec324f4",
   "metadata": {},
   "source": [
    "## 1.1: Loading the Data\n",
    "\n",
    "Here we load the data into a dataframe, one additional variable has been appended to the original dataset, this being SuitableAreaPercent."
   ]
  },
  {
   "cell_type": "code",
   "execution_count": 5,
   "id": "453c6d99",
   "metadata": {
    "scrolled": false
   },
   "outputs": [
    {
     "data": {
      "text/html": [
       "<div>\n",
       "<style scoped>\n",
       "    .dataframe tbody tr th:only-of-type {\n",
       "        vertical-align: middle;\n",
       "    }\n",
       "\n",
       "    .dataframe tbody tr th {\n",
       "        vertical-align: top;\n",
       "    }\n",
       "\n",
       "    .dataframe thead th {\n",
       "        text-align: right;\n",
       "    }\n",
       "</style>\n",
       "<table border=\"1\" class=\"dataframe\">\n",
       "  <thead>\n",
       "    <tr style=\"text-align: right;\">\n",
       "      <th></th>\n",
       "      <th>Country</th>\n",
       "      <th>Area</th>\n",
       "      <th>Storks</th>\n",
       "      <th>Humans</th>\n",
       "      <th>BirthRate</th>\n",
       "      <th>SuitableAreaPercent</th>\n",
       "    </tr>\n",
       "  </thead>\n",
       "  <tbody>\n",
       "    <tr>\n",
       "      <th>0</th>\n",
       "      <td>Albania</td>\n",
       "      <td>28750</td>\n",
       "      <td>100</td>\n",
       "      <td>3.2</td>\n",
       "      <td>83</td>\n",
       "      <td>55.68</td>\n",
       "    </tr>\n",
       "    <tr>\n",
       "      <th>1</th>\n",
       "      <td>Austria</td>\n",
       "      <td>83860</td>\n",
       "      <td>300</td>\n",
       "      <td>7.6</td>\n",
       "      <td>87</td>\n",
       "      <td>38.34</td>\n",
       "    </tr>\n",
       "    <tr>\n",
       "      <th>2</th>\n",
       "      <td>Belgium</td>\n",
       "      <td>30520</td>\n",
       "      <td>1</td>\n",
       "      <td>9.9</td>\n",
       "      <td>118</td>\n",
       "      <td>65.93</td>\n",
       "    </tr>\n",
       "    <tr>\n",
       "      <th>3</th>\n",
       "      <td>Bulgaria</td>\n",
       "      <td>111000</td>\n",
       "      <td>5000</td>\n",
       "      <td>9.0</td>\n",
       "      <td>117</td>\n",
       "      <td>57.99</td>\n",
       "    </tr>\n",
       "    <tr>\n",
       "      <th>4</th>\n",
       "      <td>Denmark</td>\n",
       "      <td>43100</td>\n",
       "      <td>9</td>\n",
       "      <td>5.1</td>\n",
       "      <td>59</td>\n",
       "      <td>81.46</td>\n",
       "    </tr>\n",
       "    <tr>\n",
       "      <th>5</th>\n",
       "      <td>France</td>\n",
       "      <td>544000</td>\n",
       "      <td>140</td>\n",
       "      <td>56.0</td>\n",
       "      <td>774</td>\n",
       "      <td>58.47</td>\n",
       "    </tr>\n",
       "    <tr>\n",
       "      <th>6</th>\n",
       "      <td>Germany</td>\n",
       "      <td>357000</td>\n",
       "      <td>3300</td>\n",
       "      <td>78.0</td>\n",
       "      <td>901</td>\n",
       "      <td>59.81</td>\n",
       "    </tr>\n",
       "    <tr>\n",
       "      <th>7</th>\n",
       "      <td>Greece</td>\n",
       "      <td>132000</td>\n",
       "      <td>2500</td>\n",
       "      <td>10.0</td>\n",
       "      <td>106</td>\n",
       "      <td>47.31</td>\n",
       "    </tr>\n",
       "    <tr>\n",
       "      <th>8</th>\n",
       "      <td>Holland</td>\n",
       "      <td>41900</td>\n",
       "      <td>4</td>\n",
       "      <td>15.0</td>\n",
       "      <td>188</td>\n",
       "      <td>70.96</td>\n",
       "    </tr>\n",
       "    <tr>\n",
       "      <th>9</th>\n",
       "      <td>Hungary</td>\n",
       "      <td>93000</td>\n",
       "      <td>5000</td>\n",
       "      <td>11.0</td>\n",
       "      <td>124</td>\n",
       "      <td>75.86</td>\n",
       "    </tr>\n",
       "    <tr>\n",
       "      <th>10</th>\n",
       "      <td>Italy</td>\n",
       "      <td>301280</td>\n",
       "      <td>5</td>\n",
       "      <td>57.0</td>\n",
       "      <td>551</td>\n",
       "      <td>60.30</td>\n",
       "    </tr>\n",
       "    <tr>\n",
       "      <th>11</th>\n",
       "      <td>Poland</td>\n",
       "      <td>312680</td>\n",
       "      <td>30000</td>\n",
       "      <td>38.0</td>\n",
       "      <td>610</td>\n",
       "      <td>64.09</td>\n",
       "    </tr>\n",
       "    <tr>\n",
       "      <th>12</th>\n",
       "      <td>Portugal</td>\n",
       "      <td>92390</td>\n",
       "      <td>1500</td>\n",
       "      <td>10.0</td>\n",
       "      <td>120</td>\n",
       "      <td>52.51</td>\n",
       "    </tr>\n",
       "    <tr>\n",
       "      <th>13</th>\n",
       "      <td>Romania</td>\n",
       "      <td>237500</td>\n",
       "      <td>5000</td>\n",
       "      <td>23.0</td>\n",
       "      <td>367</td>\n",
       "      <td>62.49</td>\n",
       "    </tr>\n",
       "    <tr>\n",
       "      <th>14</th>\n",
       "      <td>Spain</td>\n",
       "      <td>504750</td>\n",
       "      <td>8000</td>\n",
       "      <td>39.0</td>\n",
       "      <td>439</td>\n",
       "      <td>59.57</td>\n",
       "    </tr>\n",
       "    <tr>\n",
       "      <th>15</th>\n",
       "      <td>Switzerland</td>\n",
       "      <td>41290</td>\n",
       "      <td>150</td>\n",
       "      <td>6.7</td>\n",
       "      <td>82</td>\n",
       "      <td>43.19</td>\n",
       "    </tr>\n",
       "    <tr>\n",
       "      <th>16</th>\n",
       "      <td>Turkey</td>\n",
       "      <td>779450</td>\n",
       "      <td>25000</td>\n",
       "      <td>56.0</td>\n",
       "      <td>1576</td>\n",
       "      <td>65.97</td>\n",
       "    </tr>\n",
       "  </tbody>\n",
       "</table>\n",
       "</div>"
      ],
      "text/plain": [
       "        Country    Area  Storks  Humans  BirthRate  SuitableAreaPercent\n",
       "0       Albania   28750     100     3.2         83                55.68\n",
       "1       Austria   83860     300     7.6         87                38.34\n",
       "2       Belgium   30520       1     9.9        118                65.93\n",
       "3      Bulgaria  111000    5000     9.0        117                57.99\n",
       "4       Denmark   43100       9     5.1         59                81.46\n",
       "5        France  544000     140    56.0        774                58.47\n",
       "6       Germany  357000    3300    78.0        901                59.81\n",
       "7        Greece  132000    2500    10.0        106                47.31\n",
       "8       Holland   41900       4    15.0        188                70.96\n",
       "9       Hungary   93000    5000    11.0        124                75.86\n",
       "10        Italy  301280       5    57.0        551                60.30\n",
       "11       Poland  312680   30000    38.0        610                64.09\n",
       "12     Portugal   92390    1500    10.0        120                52.51\n",
       "13      Romania  237500    5000    23.0        367                62.49\n",
       "14        Spain  504750    8000    39.0        439                59.57\n",
       "15  Switzerland   41290     150     6.7         82                43.19\n",
       "16       Turkey  779450   25000    56.0       1576                65.97"
      ]
     },
     "execution_count": 5,
     "metadata": {},
     "output_type": "execute_result"
    }
   ],
   "source": [
    "df = pd.read_csv('storks.csv')\n",
    "df"
   ]
  },
  {
   "cell_type": "markdown",
   "id": "870cc163",
   "metadata": {},
   "source": [
    "## Section 1.2: Histograms of Variables\n",
    "\n",
    "Our initial look at the distributions of the variables shows a high level of positive skew. This may negatively affect our regression and bootstrap methods as we also have a low number of samples with only 17 countries. "
   ]
  },
  {
   "cell_type": "code",
   "execution_count": 6,
   "id": "2b3c9b77",
   "metadata": {},
   "outputs": [
    {
     "data": {
      "image/png": "[encoded data removed]",
      "text/plain": [
       "<Figure size 1080x360 with 3 Axes>"
      ]
     },
     "metadata": {
      "needs_background": "light"
     },
     "output_type": "display_data"
    }
   ],
   "source": [
    "fig,(ax1,ax2,ax3) = plt.subplots(1,3,figsize=(15,5),sharey=True)\n",
    "ax1 = df.Storks.hist(ax=ax1)\n",
    "ax1.set_xlabel('Storks')\n",
    "ax1.set_ylabel('Frequency')\n",
    "ax1.set_title('Storks')\n",
    "ax2 = df.Area.hist(ax=ax2)\n",
    "ax2.set_xlabel('Area (km2)')\n",
    "ax2.set_title('Area')\n",
    "ax3 = df.Humans.hist(ax=ax3)\n",
    "ax3.set_xlabel('Humans (10^6)')\n",
    "ax3.set_title('Humans')\n",
    "plt.show()"
   ]
  },
  {
   "cell_type": "markdown",
   "id": "7c530157",
   "metadata": {},
   "source": [
    "## Section 2: Analysis 1 - Predicting Birth Rate\n",
    "\n"
   ]
  },
  {
   "cell_type": "markdown",
   "id": "2fa5fd2a",
   "metadata": {},
   "source": [
    "## Section 2.1: Storks and Birth Rate\n",
    "\n",
    "Plotting an initial scatter graph of Storks vs BirthRate, we see a fairly spread out distribution of points. A number of countries have very low numbers of storks with a high variance in terms of birth rate. When we assess the correlation between the two variables however, we find a fairly strong positive correlation of 0.62. "
   ]
  },
  {
   "cell_type": "code",
   "execution_count": 7,
   "id": "2e20e173",
   "metadata": {},
   "outputs": [
    {
     "data": {
      "image/png": "[encoded data removed]",
      "text/plain": [
       "<Figure size 432x288 with 1 Axes>"
      ]
     },
     "metadata": {
      "needs_background": "light"
     },
     "output_type": "display_data"
    },
    {
     "name": "stdout",
     "output_type": "stream",
     "text": [
      "Correlation between Storks and BirthRate: 0.62\n"
     ]
    }
   ],
   "source": [
    "df.plot.scatter('Storks','BirthRate')\n",
    "plt.title('Scatter graph of Storks and BirthRate')\n",
    "plt.show()\n",
    "print('Correlation between Storks and BirthRate: ' + str(round(df['Storks'].corr(df.BirthRate),3)))"
   ]
  },
  {
   "cell_type": "markdown",
   "id": "e718afe0",
   "metadata": {},
   "source": [
    "Here I convert the columns we will use in the future regressions from panda Series to numpy arrays. I then initialise and fit the first regresson of our Storks predictor and target BirthRate."
   ]
  },
  {
   "cell_type": "code",
   "execution_count": 8,
   "id": "f046d00a",
   "metadata": {},
   "outputs": [],
   "source": [
    "storks = df.Storks.to_numpy().reshape(-1,1)\n",
    "humans = df.Humans.to_numpy().reshape(-1,1)\n",
    "area = df.Area.to_numpy().reshape(-1,1)\n",
    "y = df.BirthRate.to_numpy().reshape(-1,1)\n",
    "reg = LinearRegression().fit(storks,y)"
   ]
  },
  {
   "cell_type": "markdown",
   "id": "f029d800",
   "metadata": {},
   "source": [
    "Although the data suggests a strong positive correlation, when fitting the line of regression we see that it only passes close to 3 points. The $r^2$ score is a value of 0.385 which is not very high and implies that only 38.5% of the variance within the data has been accounted for. This suggests that the remaining 61.5% is still unaccounted for and thus the effect of storks on the variance of BirthRate is quite low. "
   ]
  },
  {
   "cell_type": "code",
   "execution_count": 9,
   "id": "96414526",
   "metadata": {},
   "outputs": [
    {
     "data": {
      "image/png": "[encoded data removed]",
      "text/plain": [
       "<Figure size 432x288 with 1 Axes>"
      ]
     },
     "metadata": {
      "needs_background": "light"
     },
     "output_type": "display_data"
    }
   ],
   "source": [
    "ranges = np.arange(0,30000,50).reshape(-1,1)\n",
    "y_ranges = reg.predict(ranges)\n",
    "df.plot.scatter('Storks','BirthRate')\n",
    "plt.plot(ranges,y_ranges)\n",
    "plt.show()"
   ]
  },
  {
   "cell_type": "code",
   "execution_count": 10,
   "id": "02554055",
   "metadata": {},
   "outputs": [
    {
     "name": "stdout",
     "output_type": "stream",
     "text": [
      "Regression Coefficient: 0.029\n",
      "Regression Intercept: 225.029\n",
      "r2 Score: 0.385\n"
     ]
    }
   ],
   "source": [
    "print(f'Regression Coefficient: {np.round(reg.coef_.squeeze(),3)}')\n",
    "print(f'Regression Intercept: {np.round(reg.intercept_.squeeze(),3)}')\n",
    "print(f'r2 Score: {np.round(reg.score(storks,y),3)}')"
   ]
  },
  {
   "cell_type": "markdown",
   "id": "159a14c1",
   "metadata": {},
   "source": [
    "## Section 2.2: Humans and Birth Rate\n",
    "\n",
    "In plotting the initial scatter graph for Humans and BirthRate we can instantly see a clearer positive correlation. This is confirmed in calculating the correlation coefficient between the two, which equals 0.851.  "
   ]
  },
  {
   "cell_type": "code",
   "execution_count": 11,
   "id": "c353651a",
   "metadata": {
    "scrolled": true
   },
   "outputs": [
    {
     "data": {
      "image/png": "[encoded data removed]",
      "text/plain": [
       "<Figure size 432x288 with 1 Axes>"
      ]
     },
     "metadata": {
      "needs_background": "light"
     },
     "output_type": "display_data"
    },
    {
     "name": "stdout",
     "output_type": "stream",
     "text": [
      "Correlation between Humans and BirthRate: 0.851\n"
     ]
    }
   ],
   "source": [
    "df.plot.scatter('Humans','BirthRate')\n",
    "plt.title('Scatter graph of Humans and BirthRate')\n",
    "plt.show()\n",
    "print('Correlation between Humans and BirthRate: ' + str(round(df['Humans'].corr(df.BirthRate),3)))"
   ]
  },
  {
   "cell_type": "markdown",
   "id": "02fa0b64",
   "metadata": {},
   "source": [
    "The regression line for these 2 variables is far closer to the plotted points, indicating a better fit. The $r^2$ score is also much high, accounting for 72.5% of the variance within the data. However, the intercept is slightly nonsensical as it predicts that when you have 0 Humans, you have a BirthRate of -8 which is logically impossible. \n",
    "\n",
    "It is important when comparing the regression coefficients that you take into account their scaling. For example, the Storks and BirthRate regression has a coefficient of 0.029 whilst the coefficient for Humans and BirthRate is 14.834. Whilst the Humans coefficient is far larger than Storks, they are both on vastly different scales with Humans having a range of 0 to 80 and Storks having a range of 0 to 30000. When you look at both the actual lines drawn on the graphs, you see that they have quite similar gradients. The coefficients are so different as if we used the coefficient of Humans (14.834) to predict BirthRate values for the Storks graph, we would have extremely high and very wrong values. This is important to remember later when performing multiple linear regression which will have more than one coefficient.   "
   ]
  },
  {
   "cell_type": "code",
   "execution_count": 12,
   "id": "46c4d8f3",
   "metadata": {
    "scrolled": false
   },
   "outputs": [
    {
     "data": {
      "image/png": "[encoded data removed]",
      "text/plain": [
       "<Figure size 432x288 with 1 Axes>"
      ]
     },
     "metadata": {
      "needs_background": "light"
     },
     "output_type": "display_data"
    },
    {
     "name": "stdout",
     "output_type": "stream",
     "text": [
      "Regression Coefficient: 14.834\n",
      "Regression Intercept: -8.445\n",
      "r2 Score: 0.725\n"
     ]
    }
   ],
   "source": [
    "reg2 = LinearRegression().fit(humans,y)\n",
    "ranges2 = np.arange(0,85,5).reshape(-1,1)\n",
    "y_ranges2 = reg2.predict(ranges2)\n",
    "df.plot.scatter('Humans','BirthRate')\n",
    "plt.plot(ranges2,y_ranges2)\n",
    "plt.show()\n",
    "print(f'Regression Coefficient: {np.round(reg2.coef_.squeeze(),3)}')\n",
    "print(f'Regression Intercept: {np.round(reg2.intercept_.squeeze(),3)}')\n",
    "print(f'r2 Score: {np.round(reg2.score(humans,y),3)}')"
   ]
  },
  {
   "cell_type": "markdown",
   "id": "44592bb2",
   "metadata": {},
   "source": [
    "## Section 2.3: Bootstrap \n",
    "\n",
    "Within this section we will use the bootstrap technique to estimate the distribution of $r^2$ scores for both regressions of Storks and BirthRate and Humans and BirthRate. Then, we will estimate the distribution of differences of $r^2$ scores between these two regressions and find the 90% confidence intervals of the data. \n",
    "\n",
    "Below, I create a function that automates generating the $r^2$ score with one predictor variable and test it on the previous variables of Storks and BirthRate to make sure it calculates the same result. "
   ]
  },
  {
   "cell_type": "code",
   "execution_count": 13,
   "id": "39e85f38",
   "metadata": {},
   "outputs": [
    {
     "name": "stdout",
     "output_type": "stream",
     "text": [
      "r2 Score of Storks and BirthRate: 0.385\n"
     ]
    }
   ],
   "source": [
    "def doReg(predict,target):\n",
    "    x = predict.to_numpy().reshape(-1,1)\n",
    "    y = target.to_numpy().reshape(-1,1)    \n",
    "    reg = LinearRegression().fit(x,y)\n",
    "    return reg.score(x,y)\n",
    "\n",
    "print(f'r2 Score of Storks and BirthRate: {np.round(doReg(df.Storks,df.BirthRate),3)}')"
   ]
  },
  {
   "cell_type": "markdown",
   "id": "37fad9ec",
   "metadata": {},
   "source": [
    "Here is the bootstrap method, I create two empty lists to append $r^2$ scores. I choose random samples from the dataframe with replacement as well as making the sample the same size as the original dataframe. I then calculate the $r^2$ scores with my previous function 'doReg()' and corresponding predictors, then append the score to the corresponding 'results' list. I repeat this process 500 times so that these lists contains 500 $r^2$ scores each. "
   ]
  },
  {
   "cell_type": "code",
   "execution_count": 16,
   "id": "8a95576b",
   "metadata": {},
   "outputs": [],
   "source": [
    "results = []\n",
    "results2 = []\n",
    "\n",
    "for i in range(500):\n",
    "    sample = np.random.choice(range(len(df)),replace=True, size=len(df))\n",
    "    sample = df[['Humans','BirthRate', 'Storks']].iloc[sample]\n",
    "    results.append(doReg(sample.Humans,sample.BirthRate))\n",
    "    results2.append(doReg(sample.Storks,sample.BirthRate))\n",
    "    \n",
    "results_humans = pd.DataFrame(results).rename(columns={0:'R2 Scores_h'})\n",
    "results_storks = pd.DataFrame(results2).rename(columns={0:'R2 Scores_s'})"
   ]
  },
  {
   "cell_type": "markdown",
   "id": "c9ea1b54",
   "metadata": {},
   "source": [
    "Using these scores I plot a histogram to see the distributions. For the storks bootstrap (R2 Scores_s), the distribution appears to be bimodal with a peak around 0 and a peak centering around 0.4, with decreasing scores from 0.6 to 0.9. Considering our original $r^2$ score was 0.385, this peak around 0.4 is not surprising, however the high prevalence of scores around 0 may imply that our predictor variable does not account for the variance within the BirthRate data very well and that the specific result of 0.385 could have arisen due to random chance. \n",
    "\n",
    "Plotting the $r^2$ scores for the Humans bootstrap (R2 Scores_h) shows a very different distribution compared to Storks and BirthRate. Whilst it is still bimodal, with peaks centered around 0.75 and 9.5, the lowest score achieved is just below 0.6 which is very different from Storks and BirthRate. The distribution has a far smaller range in the higher regions of the $r^2$ score, this implies that our predictor variable may be better at accounting for variance within the BirthRate data. "
   ]
  },
  {
   "cell_type": "code",
   "execution_count": 35,
   "id": "88a033e5",
   "metadata": {},
   "outputs": [
    {
     "data": {
      "image/png": "[encoded data removed]",
      "text/plain": [
       "<Figure size 1080x360 with 2 Axes>"
      ]
     },
     "metadata": {
      "needs_background": "light"
     },
     "output_type": "display_data"
    }
   ],
   "source": [
    "fig, (ax1,ax2) = plt.subplots(1,2,figsize=(15,5),sharey=True)\n",
    "ax1 = results_humans['R2 Scores_h'].hist(ax=ax1)\n",
    "ax1.set_xlabel('r2 Score')\n",
    "ax1.set_ylabel('Frequency')\n",
    "ax1.set_title('R2 Scores_h')\n",
    "ax2 = results_storks['R2 Scores_s'].hist(ax=ax2)\n",
    "ax2.set_xlabel('r2 Score')\n",
    "ax2.set_title('R2 Scores_s')\n",
    "plt.show()"
   ]
  },
  {
   "cell_type": "markdown",
   "id": "a83d7704",
   "metadata": {},
   "source": [
    "## Section 2.4: Differences in $r^2$ Score\n",
    "\n",
    "In plotting the $r^2$ score differences, we again find a bimodal distribution with one peak around 0.25 and another peak around 0.9. The reason for these two peaks may be related to our original dataset and how the bootstrap works. Within the original dataset is the data for Turkey which has very high values and which may be skewing our results. As the bootstrap chooses samples randomly, some of the samples will not include Turkey at all or include it multiple times which may be enough to result in this type of bimodal distribution. \n",
    "\n",
    "The 90% confidence intervals calculated range from just below 0 to just over 9. The interpretation of this is that if we were to run this experiment multiple times, 90% of the time our difference in $r^2$ score would fall within this range. This means that there is a chance that there will be no difference between scores as 0.0 falls within this range and therefore we cannot be confident that one model explains the variability of the data better than the other at a confidence level of 90%. "
   ]
  },
  {
   "cell_type": "code",
   "execution_count": 40,
   "id": "097476c9",
   "metadata": {},
   "outputs": [
    {
     "data": {
      "text/html": [
       "<div>\n",
       "<style scoped>\n",
       "    .dataframe tbody tr th:only-of-type {\n",
       "        vertical-align: middle;\n",
       "    }\n",
       "\n",
       "    .dataframe tbody tr th {\n",
       "        vertical-align: top;\n",
       "    }\n",
       "\n",
       "    .dataframe thead th {\n",
       "        text-align: right;\n",
       "    }\n",
       "</style>\n",
       "<table border=\"1\" class=\"dataframe\">\n",
       "  <thead>\n",
       "    <tr style=\"text-align: right;\">\n",
       "      <th></th>\n",
       "      <th>R2 Scores_h</th>\n",
       "      <th>R2 Scores_s</th>\n",
       "      <th>diff</th>\n",
       "    </tr>\n",
       "  </thead>\n",
       "  <tbody>\n",
       "    <tr>\n",
       "      <th>0</th>\n",
       "      <td>0.954430</td>\n",
       "      <td>0.322294</td>\n",
       "      <td>0.632137</td>\n",
       "    </tr>\n",
       "    <tr>\n",
       "      <th>1</th>\n",
       "      <td>0.645691</td>\n",
       "      <td>0.800934</td>\n",
       "      <td>-0.155242</td>\n",
       "    </tr>\n",
       "    <tr>\n",
       "      <th>2</th>\n",
       "      <td>0.717450</td>\n",
       "      <td>0.478685</td>\n",
       "      <td>0.238765</td>\n",
       "    </tr>\n",
       "    <tr>\n",
       "      <th>3</th>\n",
       "      <td>0.912666</td>\n",
       "      <td>0.180773</td>\n",
       "      <td>0.731893</td>\n",
       "    </tr>\n",
       "    <tr>\n",
       "      <th>4</th>\n",
       "      <td>0.964833</td>\n",
       "      <td>0.173329</td>\n",
       "      <td>0.791505</td>\n",
       "    </tr>\n",
       "  </tbody>\n",
       "</table>\n",
       "</div>"
      ],
      "text/plain": [
       "   R2 Scores_h  R2 Scores_s      diff\n",
       "0     0.954430     0.322294  0.632137\n",
       "1     0.645691     0.800934 -0.155242\n",
       "2     0.717450     0.478685  0.238765\n",
       "3     0.912666     0.180773  0.731893\n",
       "4     0.964833     0.173329  0.791505"
      ]
     },
     "metadata": {},
     "output_type": "display_data"
    },
    {
     "name": "stdout",
     "output_type": "stream",
     "text": [
      "90% range is -0.051 to 0.937\n"
     ]
    },
    {
     "data": {
      "image/png": "[encoded data removed]",
      "text/plain": [
       "<Figure size 432x288 with 1 Axes>"
      ]
     },
     "metadata": {
      "needs_background": "light"
     },
     "output_type": "display_data"
    }
   ],
   "source": [
    "results_full = results_humans.join(results_storks)\n",
    "results_full['diff'] = results_full['R2 Scores_h']-results_full['R2 Scores_s']\n",
    "display(results_full.head())\n",
    "results_full['diff'].hist()\n",
    "plt.xlabel('Difference in r2 Score')\n",
    "plt.ylabel('Frequency')\n",
    "plt.title('r2 Score Difference')\n",
    "plt.axvline(results_full['diff'].quantile(0.05), color='r')\n",
    "plt.axvline(results_full['diff'].quantile(0.95), color='r')\n",
    "print('90%% range is %4.3f to %4.3f' % \n",
    "      (results_full['diff'].quantile(0.05), results_full['diff'].quantile(0.95)))"
   ]
  },
  {
   "cell_type": "markdown",
   "id": "b79cf9f1",
   "metadata": {},
   "source": [
    "## Section 3.0: Predicting the Number of Storks\n",
    "\n",
    "Within this section we are focusing on predicting the number of storks using linear regression and then multiple linear regression as well as using different predictors.\n",
    "\n",
    "Below, we perform a linear regression using Area to predict Storks. We can initally see that up to the 250,000 mark for Area, the points are quite close to the line and there is a fairly clear positive correlation. However, after this point the distribution is far more scattered and it does not appear to fit the line. The $r^2$ score is 0.336 which is quite low, showing that only 33.6% of the data variance is accounted for by using Area as a predictor. We also introduce a new parameter for scoring, that being Root Mean Squared Error. This can be used to compare models and is useful to see how accurately a model has predicted y-values. The lower the RMSE the better the model has performed at predicting y-values, this also has to take into account the scale of the variables. Here we achieve an RMSE of 6984.767. We can interpret this value as the average error between the predicted and actual values. This value is quite high as Storks only ranges from 0 to 30000. However, as the RMSE is an estimator of the mean it is therefore susceptible to outliers. From looking at the data, the extremely high values of Storks at 30000 (Poland) and 25000 (Turkey) may be influencing this RMSE score and the regression may be more accurate by removing them.  "
   ]
  },
  {
   "cell_type": "code",
   "execution_count": 25,
   "id": "1a99a808",
   "metadata": {
    "scrolled": true
   },
   "outputs": [
    {
     "name": "stdout",
     "output_type": "stream",
     "text": [
      "Coefficients: 0.023\n",
      "Intercept: -60.687\n",
      "r2 Score: 0.336\n",
      "RMSE: 6984.767\n"
     ]
    },
    {
     "data": {
      "image/png": "[encoded data removed]",
      "text/plain": [
       "<Figure size 432x288 with 1 Axes>"
      ]
     },
     "metadata": {
      "needs_background": "light"
     },
     "output_type": "display_data"
    }
   ],
   "source": [
    "reg3 = LinearRegression().fit(area,storks)\n",
    "df.plot.scatter('Area','Storks')\n",
    "ranges3 = np.arange(0,810000,10000).reshape(-1,1)\n",
    "plt.plot(ranges3,reg3.predict(ranges3))\n",
    "reg3.score(area,storks)\n",
    "print('Coefficients: ' + str(np.round(reg3.coef_.squeeze(),3)))\n",
    "print('Intercept: ' + str(np.round(reg3.intercept_.squeeze(),3)))\n",
    "print('r2 Score: ' + str(np.round(reg3.score(area,storks),3)))\n",
    "print('RMSE: ' + str(np.round(mean_squared_error(storks, reg3.predict(area), squared=False),3)))"
   ]
  },
  {
   "cell_type": "markdown",
   "id": "c1d0ef3b",
   "metadata": {},
   "source": [
    "## Section 3.1: Creating New Variables\n",
    "\n",
    "The variables required for the multiple linear regression are Population Density (of humans) and Suitable Area (for Stork life). To create Population Density, we first multiply Humans by $10^6$ to get the original values, for example, 3.2 = 3,200,000 people. We then divide this value by the corresponding Area value to get the amount of people per km<sup>2</sup>\n",
    "\n",
    "The Suitable Area is calculated by turning SuitableAreaPercent back into a decimal by dividing by 100, then multiplying this by Area.  "
   ]
  },
  {
   "cell_type": "code",
   "execution_count": 26,
   "id": "d9aa7661",
   "metadata": {
    "scrolled": true
   },
   "outputs": [
    {
     "data": {
      "text/html": [
       "<div>\n",
       "<style scoped>\n",
       "    .dataframe tbody tr th:only-of-type {\n",
       "        vertical-align: middle;\n",
       "    }\n",
       "\n",
       "    .dataframe tbody tr th {\n",
       "        vertical-align: top;\n",
       "    }\n",
       "\n",
       "    .dataframe thead th {\n",
       "        text-align: right;\n",
       "    }\n",
       "</style>\n",
       "<table border=\"1\" class=\"dataframe\">\n",
       "  <thead>\n",
       "    <tr style=\"text-align: right;\">\n",
       "      <th></th>\n",
       "      <th>Country</th>\n",
       "      <th>Area</th>\n",
       "      <th>Storks</th>\n",
       "      <th>Humans</th>\n",
       "      <th>BirthRate</th>\n",
       "      <th>SuitableAreaPercent</th>\n",
       "      <th>pop_dens</th>\n",
       "      <th>suitable_area</th>\n",
       "    </tr>\n",
       "  </thead>\n",
       "  <tbody>\n",
       "    <tr>\n",
       "      <th>0</th>\n",
       "      <td>Albania</td>\n",
       "      <td>28750</td>\n",
       "      <td>100</td>\n",
       "      <td>3.2</td>\n",
       "      <td>83</td>\n",
       "      <td>55.68</td>\n",
       "      <td>111.304348</td>\n",
       "      <td>16008.000</td>\n",
       "    </tr>\n",
       "    <tr>\n",
       "      <th>1</th>\n",
       "      <td>Austria</td>\n",
       "      <td>83860</td>\n",
       "      <td>300</td>\n",
       "      <td>7.6</td>\n",
       "      <td>87</td>\n",
       "      <td>38.34</td>\n",
       "      <td>90.627236</td>\n",
       "      <td>32151.924</td>\n",
       "    </tr>\n",
       "    <tr>\n",
       "      <th>2</th>\n",
       "      <td>Belgium</td>\n",
       "      <td>30520</td>\n",
       "      <td>1</td>\n",
       "      <td>9.9</td>\n",
       "      <td>118</td>\n",
       "      <td>65.93</td>\n",
       "      <td>324.377457</td>\n",
       "      <td>20121.836</td>\n",
       "    </tr>\n",
       "    <tr>\n",
       "      <th>3</th>\n",
       "      <td>Bulgaria</td>\n",
       "      <td>111000</td>\n",
       "      <td>5000</td>\n",
       "      <td>9.0</td>\n",
       "      <td>117</td>\n",
       "      <td>57.99</td>\n",
       "      <td>81.081081</td>\n",
       "      <td>64368.900</td>\n",
       "    </tr>\n",
       "    <tr>\n",
       "      <th>4</th>\n",
       "      <td>Denmark</td>\n",
       "      <td>43100</td>\n",
       "      <td>9</td>\n",
       "      <td>5.1</td>\n",
       "      <td>59</td>\n",
       "      <td>81.46</td>\n",
       "      <td>118.329466</td>\n",
       "      <td>35109.260</td>\n",
       "    </tr>\n",
       "  </tbody>\n",
       "</table>\n",
       "</div>"
      ],
      "text/plain": [
       "    Country    Area  Storks  Humans  BirthRate  SuitableAreaPercent  \\\n",
       "0   Albania   28750     100     3.2         83                55.68   \n",
       "1   Austria   83860     300     7.6         87                38.34   \n",
       "2   Belgium   30520       1     9.9        118                65.93   \n",
       "3  Bulgaria  111000    5000     9.0        117                57.99   \n",
       "4   Denmark   43100       9     5.1         59                81.46   \n",
       "\n",
       "     pop_dens  suitable_area  \n",
       "0  111.304348      16008.000  \n",
       "1   90.627236      32151.924  \n",
       "2  324.377457      20121.836  \n",
       "3   81.081081      64368.900  \n",
       "4  118.329466      35109.260  "
      ]
     },
     "execution_count": 26,
     "metadata": {},
     "output_type": "execute_result"
    }
   ],
   "source": [
    "df['pop_dens'] = df.Humans*10**6/df.Area\n",
    "df['suitable_area'] = df.Area*(df.SuitableAreaPercent/100)\n",
    "df.head()"
   ]
  },
  {
   "cell_type": "markdown",
   "id": "871392d2",
   "metadata": {},
   "source": [
    "In creating our new variables, we can see again that these are very positively skewed distributions which may affect the quality of our regressions and bootstraps. "
   ]
  },
  {
   "cell_type": "code",
   "execution_count": 27,
   "id": "5394ff90",
   "metadata": {},
   "outputs": [
    {
     "data": {
      "image/png": "[encoded data removed]",
      "text/plain": [
       "<Figure size 720x360 with 2 Axes>"
      ]
     },
     "metadata": {
      "needs_background": "light"
     },
     "output_type": "display_data"
    }
   ],
   "source": [
    "fig, (ax1,ax2) = plt.subplots(1,2,figsize=(10,5),sharey=True)\n",
    "ax1 = df.pop_dens.hist(ax=ax1)\n",
    "ax1.set_xlabel('Population Density')\n",
    "ax1.set_ylabel('Frequency')\n",
    "ax1.set_title('Population Density')\n",
    "ax2 = df.suitable_area.hist(ax=ax2)\n",
    "ax2.set_xlabel('Suitable Area (km2)')\n",
    "ax2.set_title('Suitable Area')\n",
    "plt.show()"
   ]
  },
  {
   "cell_type": "markdown",
   "id": "d9b13105",
   "metadata": {},
   "source": [
    "## Section 3.2: Multiple Linear Regression\n",
    "\n",
    "The results of this multiple linear regression do not appear to be much better than using just one predictor, with only slightly better R2 and RMSE scores achieved. "
   ]
  },
  {
   "cell_type": "code",
   "execution_count": 28,
   "id": "59e2b068",
   "metadata": {},
   "outputs": [
    {
     "name": "stdout",
     "output_type": "stream",
     "text": [
      "R2 score: 0.393\n",
      "Coefficients: [[-12.133   0.037]]\n",
      "Intercept: [1881.387]\n",
      "RMSE: 6677.029\n"
     ]
    }
   ],
   "source": [
    "X = np.column_stack((df.pop_dens,df.suitable_area))\n",
    "reg4 = LinearRegression().fit(X,storks)\n",
    "y_hat = reg4.predict(X)\n",
    "print('R2 score: ' + str(np.round(reg4.score(X,storks),3)))\n",
    "print('Coefficients: ' + str(reg4.coef_))\n",
    "print('Intercept: ' + str(reg4.intercept_))\n",
    "print('RMSE: ' + str(np.round(mean_squared_error(storks,y_hat,squared=False),3)))"
   ]
  },
  {
   "cell_type": "markdown",
   "id": "ad1a09d6",
   "metadata": {},
   "source": [
    "## Section 3.3: Predicted vs Actual Values\n",
    "\n",
    "As we have used more than 1 predictor, it is harder to plot the actual linear regression line as in this case it would be a plane due to having 2 predictors. To get around this we plot a scatter graph of the predicted y-values vs actual y-values, then plot a line of the predicted y-values. The better the regression, the closer to the line the points would be. We receive a similar distribution to our single linear regression above, that the regression is better at predicting values up to 5000 storks, but over this limit the distribution becomes more scattered and the regressor becomes less accurate with the high values of Turkey and Poland likely negatively affecting the results. "
   ]
  },
  {
   "cell_type": "code",
   "execution_count": 29,
   "id": "b0726e1b",
   "metadata": {
    "scrolled": true
   },
   "outputs": [
    {
     "data": {
      "image/png": "[encoded data removed]",
      "text/plain": [
       "<Figure size 432x288 with 1 Axes>"
      ]
     },
     "metadata": {
      "needs_background": "light"
     },
     "output_type": "display_data"
    }
   ],
   "source": [
    "plt.scatter(y_hat,storks)\n",
    "plt.plot(y_hat,y_hat)\n",
    "plt.title('Predicted Values vs Actual Values for Multiple Linear Regression')\n",
    "plt.xlabel('Predicted Storks')\n",
    "plt.ylabel('Actual Storks')\n",
    "plt.show()"
   ]
  },
  {
   "cell_type": "markdown",
   "id": "63bbb971",
   "metadata": {},
   "source": [
    "## Section 3.4: Bootstrap 2\n",
    "\n",
    "Below I create two functions (doReg2 and doReg3) that calculate RMSE for use in a bootstrap. doReg2 works for simple linear regression and doReg3 works for multiple linear regression with two predictors. I test them to make sure they produce the same results as above. "
   ]
  },
  {
   "cell_type": "code",
   "execution_count": 30,
   "id": "82541d2d",
   "metadata": {},
   "outputs": [
    {
     "name": "stdout",
     "output_type": "stream",
     "text": [
      "RMSE of Area and Storks: 6984.767\n"
     ]
    }
   ],
   "source": [
    "def doReg2(predict,target):\n",
    "    x = predict.to_numpy().reshape(-1,1)\n",
    "    y = target.to_numpy().reshape(-1,1)    \n",
    "    reg = LinearRegression().fit(x,y)\n",
    "    y_hat = reg.predict(x)\n",
    "    return mean_squared_error(y, y_hat, squared=False)\n",
    "\n",
    "print(f'RMSE of Area and Storks: {np.round(doReg2(df.Area,df.Storks),3)}')"
   ]
  },
  {
   "cell_type": "code",
   "execution_count": 31,
   "id": "176854b8",
   "metadata": {},
   "outputs": [
    {
     "name": "stdout",
     "output_type": "stream",
     "text": [
      "RMSE of Population Density, Suitable Area and Storks: 6677.029\n"
     ]
    }
   ],
   "source": [
    "def doReg3(pred1,pred2,target):\n",
    "    X = np.column_stack((pred1,pred2))\n",
    "    y = target.to_numpy().reshape(-1,1)    \n",
    "    reg = LinearRegression().fit(X,y)\n",
    "    y_hat = reg.predict(X)\n",
    "    return mean_squared_error(y, y_hat, squared=False)\n",
    "print(f'RMSE of Population Density, Suitable Area and Storks: {np.round(doReg3(df.pop_dens,df.suitable_area,df.Storks),3)}')"
   ]
  },
  {
   "cell_type": "markdown",
   "id": "e5421e52",
   "metadata": {},
   "source": [
    "I perform another bootstrap, this time to compare the differences in RMSE between simple and multiple linear regression using their predictors on the target of stork population. "
   ]
  },
  {
   "cell_type": "code",
   "execution_count": 32,
   "id": "286d7c8a",
   "metadata": {},
   "outputs": [
    {
     "data": {
      "text/html": [
       "<div>\n",
       "<style scoped>\n",
       "    .dataframe tbody tr th:only-of-type {\n",
       "        vertical-align: middle;\n",
       "    }\n",
       "\n",
       "    .dataframe tbody tr th {\n",
       "        vertical-align: top;\n",
       "    }\n",
       "\n",
       "    .dataframe thead th {\n",
       "        text-align: right;\n",
       "    }\n",
       "</style>\n",
       "<table border=\"1\" class=\"dataframe\">\n",
       "  <thead>\n",
       "    <tr style=\"text-align: right;\">\n",
       "      <th></th>\n",
       "      <th>RMSE_a</th>\n",
       "    </tr>\n",
       "  </thead>\n",
       "  <tbody>\n",
       "    <tr>\n",
       "      <th>0</th>\n",
       "      <td>3839.323652</td>\n",
       "    </tr>\n",
       "    <tr>\n",
       "      <th>1</th>\n",
       "      <td>7844.932029</td>\n",
       "    </tr>\n",
       "    <tr>\n",
       "      <th>2</th>\n",
       "      <td>4345.546397</td>\n",
       "    </tr>\n",
       "    <tr>\n",
       "      <th>3</th>\n",
       "      <td>8675.518740</td>\n",
       "    </tr>\n",
       "    <tr>\n",
       "      <th>4</th>\n",
       "      <td>6420.824112</td>\n",
       "    </tr>\n",
       "  </tbody>\n",
       "</table>\n",
       "</div>"
      ],
      "text/plain": [
       "        RMSE_a\n",
       "0  3839.323652\n",
       "1  7844.932029\n",
       "2  4345.546397\n",
       "3  8675.518740\n",
       "4  6420.824112"
      ]
     },
     "execution_count": 32,
     "metadata": {},
     "output_type": "execute_result"
    }
   ],
   "source": [
    "results = []\n",
    "results2 = []\n",
    "for i in range(500):\n",
    "    sample = np.random.choice(range(len(df)),replace=True, size=len(df))\n",
    "    sample = df[['pop_dens','Area','Storks','suitable_area']].iloc[sample]\n",
    "    results.append(doReg3(sample.pop_dens,sample.suitable_area,sample.Storks))\n",
    "    results2.append(doReg2(sample.Area,sample.Storks))\n",
    "results_p_s = pd.DataFrame(results).rename(columns={0:'RMSE_p'})\n",
    "results_a_s = pd.DataFrame(results2).rename(columns={0:'RMSE_a'})\n",
    "results_p_s.head()\n",
    "results_a_s.head()"
   ]
  },
  {
   "cell_type": "markdown",
   "id": "5d3f70f3",
   "metadata": {},
   "source": [
    "Our plots for RMSE bootstrap scores are far more normally distributed, with both having peaks around 6500. This is a stark contrast to the $r^2$ scores of the previous bootstraps and may be related to the central limit theorem, that taking a bootstrap of estimator locators such as means of a skewed distribution will result in a normal distribution of those means. "
   ]
  },
  {
   "cell_type": "code",
   "execution_count": 38,
   "id": "2b5d611b",
   "metadata": {},
   "outputs": [
    {
     "data": {
      "image/png": "[encoded data removed]",
      "text/plain": [
       "<Figure size 720x360 with 2 Axes>"
      ]
     },
     "metadata": {
      "needs_background": "light"
     },
     "output_type": "display_data"
    }
   ],
   "source": [
    "fig, (ax1,ax2) = plt.subplots(1,2,figsize=(10,5),sharey=True)\n",
    "ax1 = results_p_s['RMSE_p'].hist(ax=ax1)\n",
    "ax1.set_xlabel('RMSE')\n",
    "ax1.set_ylabel('Frequency')\n",
    "ax1.set_title('Population Density & Suitable Area')\n",
    "ax2 = results_a_s['RMSE_a'].hist(ax=ax2)\n",
    "ax2.set_xlabel('RMSE')\n",
    "ax2.set_title('Area')\n",
    "plt.show()"
   ]
  },
  {
   "cell_type": "markdown",
   "id": "fb1ae6eb",
   "metadata": {},
   "source": [
    "The differences in RMSE score are also fairly normally distributed, albeit with a slight positive skew, with a peak at 250. The 90% confidence intervals range from around 100 to 650, so we can expect that with multiple repeats, the difference will fall within this range 90% of the time. This is better at telling us whether one model is better than the other at predicting the number of storks as the difference of 0.0 does not fall within this range. Therefore, as the difference is calculated by minusing the multiple linear regression from the simple linear regression and the range of confidence intervals is positive, we can infer that the multiple linear regression has lower RMSE scores and is better at predicting stork numbers.\n",
    "\n",
    "However, this difference ranges from 100 to 600 which isn't a very large amount in comparison to the scale of our RMSE values. As we have also seen above, neither model achieves good $r^2$ scores so it would not be recommended to use any of these predictors to obtain accurate predictions. "
   ]
  },
  {
   "cell_type": "code",
   "execution_count": 33,
   "id": "6f650cca",
   "metadata": {},
   "outputs": [
    {
     "data": {
      "text/html": [
       "<div>\n",
       "<style scoped>\n",
       "    .dataframe tbody tr th:only-of-type {\n",
       "        vertical-align: middle;\n",
       "    }\n",
       "\n",
       "    .dataframe tbody tr th {\n",
       "        vertical-align: top;\n",
       "    }\n",
       "\n",
       "    .dataframe thead th {\n",
       "        text-align: right;\n",
       "    }\n",
       "</style>\n",
       "<table border=\"1\" class=\"dataframe\">\n",
       "  <thead>\n",
       "    <tr style=\"text-align: right;\">\n",
       "      <th></th>\n",
       "      <th>RMSE_a</th>\n",
       "      <th>RMSE_p</th>\n",
       "      <th>diff</th>\n",
       "    </tr>\n",
       "  </thead>\n",
       "  <tbody>\n",
       "    <tr>\n",
       "      <th>0</th>\n",
       "      <td>3839.323652</td>\n",
       "      <td>3492.039349</td>\n",
       "      <td>347.284303</td>\n",
       "    </tr>\n",
       "    <tr>\n",
       "      <th>1</th>\n",
       "      <td>7844.932029</td>\n",
       "      <td>7384.705887</td>\n",
       "      <td>460.226142</td>\n",
       "    </tr>\n",
       "    <tr>\n",
       "      <th>2</th>\n",
       "      <td>4345.546397</td>\n",
       "      <td>4026.940131</td>\n",
       "      <td>318.606266</td>\n",
       "    </tr>\n",
       "    <tr>\n",
       "      <th>3</th>\n",
       "      <td>8675.518740</td>\n",
       "      <td>8440.726869</td>\n",
       "      <td>234.791870</td>\n",
       "    </tr>\n",
       "    <tr>\n",
       "      <th>4</th>\n",
       "      <td>6420.824112</td>\n",
       "      <td>6251.457546</td>\n",
       "      <td>169.366567</td>\n",
       "    </tr>\n",
       "  </tbody>\n",
       "</table>\n",
       "</div>"
      ],
      "text/plain": [
       "        RMSE_a       RMSE_p        diff\n",
       "0  3839.323652  3492.039349  347.284303\n",
       "1  7844.932029  7384.705887  460.226142\n",
       "2  4345.546397  4026.940131  318.606266\n",
       "3  8675.518740  8440.726869  234.791870\n",
       "4  6420.824112  6251.457546  169.366567"
      ]
     },
     "metadata": {},
     "output_type": "display_data"
    },
    {
     "name": "stdout",
     "output_type": "stream",
     "text": [
      "90% range is 92.196 to 696.841\n"
     ]
    },
    {
     "data": {
      "image/png": "[encoded data removed]",
      "text/plain": [
       "<Figure size 432x288 with 1 Axes>"
      ]
     },
     "metadata": {
      "needs_background": "light"
     },
     "output_type": "display_data"
    }
   ],
   "source": [
    "results_full2 = results_a_s.join(results_p_s)\n",
    "results_full2['diff'] = results_full2['RMSE_a'] - results_full2['RMSE_p']\n",
    "display(results_full2.head())\n",
    "results_full2['diff'].hist()\n",
    "plt.axvline(results_full2['diff'].quantile(0.05), color='r')\n",
    "plt.axvline(results_full2['diff'].quantile(0.95), color='r')\n",
    "print('90%% range is %4.3f to %4.3f' % \n",
    "      (results_full2['diff'].quantile(0.05), results_full2['diff'].quantile(0.95)))"
   ]
  },
  {
   "cell_type": "markdown",
   "id": "e2ed7dc6",
   "metadata": {},
   "source": [
    "## Section 3.5: Predictor Impact\n",
    "\n",
    "Investigating the predictors in our multiple linear regression shows us that the suitable area coefficient has a far greater impact on the variance of storks with 71% compared to -15% for human population density. This makes sense as you would expect a country with more suitable area to have a higher number of storks. It also goes against the initial claim that the higher number of storks leads to higher birth rates (in this case equating higher population densities with higher birth rates), as we can see that having a higher population density appears to decrease the numbers of storks. "
   ]
  },
  {
   "cell_type": "code",
   "execution_count": 34,
   "id": "6528b77f",
   "metadata": {},
   "outputs": [
    {
     "name": "stdout",
     "output_type": "stream",
     "text": [
      "The change in Storks (as a percent of its range) given by the pop_dens coefficient (over its range) is -15.1%\n",
      "The change in Storks (as a percent of its range) given by the suitable_area coefficient (over its range) is 71.56%\n"
     ]
    }
   ],
   "source": [
    "score_range = df.Storks.quantile(0.9) - df.Storks.quantile(0.1)\n",
    "pop_dens_range = df.pop_dens.quantile(0.9) - df.pop_dens.quantile(0.1)\n",
    "suitable_area_range = df.suitable_area.quantile(0.9) - df.suitable_area.quantile(0.1)\n",
    "print(f'The change in Storks (as a percent of its range) given by the pop_dens coefficient (over its range) is {np.round(100*(reg4.coef_[0][0]*pop_dens_range)/score_range,2)}%')\n",
    "print(f'The change in Storks (as a percent of its range) given by the suitable_area coefficient (over its range) is {np.round(100*(reg4.coef_[0][1]*suitable_area_range)/score_range,2)}%')"
   ]
  },
  {
   "cell_type": "markdown",
   "id": "f03b5c69",
   "metadata": {},
   "source": [
    "## Conclusion\n",
    "\n",
    "Throughout the investigation of this notebook, we have used linear regression to predict the BirthRate and number of Storks by country. We have used a combination of simple and multiple linear regression, bootstrap methods, as well as two different scoring metrics, that of $r^2$ and RMSE, to compare our models. \n",
    "\n",
    "We have found that at a confidence threshold of 90%, we cannot be confident that using a regression model of Storks or Humans is better than one or the other. This is due to a difference of 0.0 falling into the 90% confidence range for $r^2$ score when comparing the two models, and therefore there is a chance that there is no difference between either one. However, this is a small dataset which contains two possible outliers (Poland and Turkey) which may be skewing the results and causing issues with the bootstrap method. \n",
    "\n",
    "We have found that at a confidence threshold of 90%, we are more confident when predicting the number of Storks using multiple linear regression. This is because the difference in RMSE scores between using solely Area to predict Storks compared to using multiple predictors of Population Density and Suitable Area fell into a range of approximately 100 to 650. This showed that using multiple linear regression was a more accurate model for predicting the number of Storks, however the difference was fairly small and the resulting $R^2$ scores of both models were still quite bad. Through investigating the change in Storks given by our coefficients for multiple linear regression, we also found that Suitable Area gave a more positive impact whilst human Population Density gave a negative impact, potentially going against what was found in the original paper (*Robert Matthews. “Storks Deliver Babies (p = 0.008)”. Teaching Statistics. Volume 22, Number 2, Summer 2000, p36-8*). \n",
    "\n",
    "Overall, we have found that none of these predictors, whether used in a simple or multiple linear regression, give a particularly accurate prediction for either BirthRate or Stork numbers. Our use of bootstrap allowed us to compare models but we found that if we were to repeat the experiment many times, 90% of the time the difference would either be potentially 0 (for $r^2$ scores), or small in terms of the scale of our errors (RMSE). \n"
   ]
  },
  {
   "cell_type": "markdown",
   "id": "35a3df36",
   "metadata": {},
   "source": [
    "Thanks for reading!\n",
    "\n",
    "Elliot Linsey, QMUL"
   ]
  }
 ],
 "metadata": {
  "kernelspec": {
   "display_name": "Python 3",
   "language": "python",
   "name": "python3"
  },
  "language_info": {
   "codemirror_mode": {
    "name": "ipython",
    "version": 3
   },
   "file_extension": ".py",
   "mimetype": "text/x-python",
   "name": "python",
   "nbconvert_exporter": "python",
   "pygments_lexer": "ipython3",
   "version": "3.8.8"
  }
 },
 "nbformat": 4,
 "nbformat_minor": 5
}
