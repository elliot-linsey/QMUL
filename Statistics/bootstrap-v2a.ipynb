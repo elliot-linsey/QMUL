{
 "cells": [
  {
   "cell_type": "markdown",
   "metadata": {},
   "source": [
    "# Bootstrap: A Simple Method to Estimate a Confidence Interval\n",
    "\n",
    "The aim of this notebook is to show how to code a bootstrap estimate of an interval in Python. The bootstrap is introduced in topic 14.\n",
    "\n",
    "The approach is very flexible as it can be applied in a uniform way to any statistic. The note book contains an example bootstrap function and three examples of its use.\n",
    "\n",
    "**Contents**\n",
    "\n",
    " 1. Section 0: A Simple Bootstrap Function\n",
    " 1. Section 1: Mean of a distribution\n",
    " 2. Section 2: Regression Coefficients\n",
    " 3. Section 3: Difference between two Means\n"
   ]
  },
  {
   "cell_type": "code",
   "execution_count": 2,
   "metadata": {},
   "outputs": [],
   "source": [
    "import pandas as pd\n",
    "import numpy as np\n",
    "import scipy.stats as stats\n",
    "from sklearn.utils import resample\n",
    "import matplotlib.pyplot as plt\n",
    "%matplotlib inline"
   ]
  },
  {
   "cell_type": "markdown",
   "metadata": {},
   "source": [
    "## Section 0: Define a Simple Bootstrap Function"
   ]
  },
  {
   "cell_type": "markdown",
   "metadata": {},
   "source": [
    "The following function uses the `sklearn.resample` to resample a dataframe, apply a function to the new dataframes and accumulate the results. "
   ]
  },
  {
   "cell_type": "code",
   "execution_count": 15,
   "metadata": {},
   "outputs": [],
   "source": [
    "# data - the sample; can be dataframe or an array\n",
    "# cols - a list of column headings in the results dataframe\n",
    "# repeats - the number of times the process is repeated\n",
    "# func - the function that calculates the results for each sample: must return a value for each column\n",
    "\n",
    "def bootstrapC(data, cols, repeats, func):\n",
    "    result = pd.DataFrame(data = dict([(c, np.empty(repeats)) for c in cols]))\n",
    "    display(result)\n",
    "    for i in range(0, repeats):\n",
    "        result.iloc[i] = func(resample(data)) # default is to resample, same size\n",
    "    return result"
   ]
  },
  {
   "cell_type": "markdown",
   "metadata": {},
   "source": [
    "## Section 1: Mean of a Distribution\n",
    "This section looks at the simplest problem, to estimate the CI on a mean.\n",
    "\n",
    "### Section 1.1: Generate Some Sample Data\n",
    "Generate a sample of 200 data points from a normal."
   ]
  },
  {
   "cell_type": "code",
   "execution_count": 4,
   "metadata": {},
   "outputs": [
    {
     "data": {
      "text/html": [
       "<div>\n",
       "<style scoped>\n",
       "    .dataframe tbody tr th:only-of-type {\n",
       "        vertical-align: middle;\n",
       "    }\n",
       "\n",
       "    .dataframe tbody tr th {\n",
       "        vertical-align: top;\n",
       "    }\n",
       "\n",
       "    .dataframe thead th {\n",
       "        text-align: right;\n",
       "    }\n",
       "</style>\n",
       "<table border=\"1\" class=\"dataframe\">\n",
       "  <thead>\n",
       "    <tr style=\"text-align: right;\">\n",
       "      <th></th>\n",
       "      <th>value</th>\n",
       "    </tr>\n",
       "  </thead>\n",
       "  <tbody>\n",
       "    <tr>\n",
       "      <th>0</th>\n",
       "      <td>-0.945377</td>\n",
       "    </tr>\n",
       "    <tr>\n",
       "      <th>1</th>\n",
       "      <td>2.445376</td>\n",
       "    </tr>\n",
       "    <tr>\n",
       "      <th>2</th>\n",
       "      <td>-1.198726</td>\n",
       "    </tr>\n",
       "    <tr>\n",
       "      <th>3</th>\n",
       "      <td>-1.166254</td>\n",
       "    </tr>\n",
       "    <tr>\n",
       "      <th>4</th>\n",
       "      <td>3.411189</td>\n",
       "    </tr>\n",
       "    <tr>\n",
       "      <th>...</th>\n",
       "      <td>...</td>\n",
       "    </tr>\n",
       "    <tr>\n",
       "      <th>195</th>\n",
       "      <td>2.342600</td>\n",
       "    </tr>\n",
       "    <tr>\n",
       "      <th>196</th>\n",
       "      <td>2.364742</td>\n",
       "    </tr>\n",
       "    <tr>\n",
       "      <th>197</th>\n",
       "      <td>0.869676</td>\n",
       "    </tr>\n",
       "    <tr>\n",
       "      <th>198</th>\n",
       "      <td>1.391015</td>\n",
       "    </tr>\n",
       "    <tr>\n",
       "      <th>199</th>\n",
       "      <td>-0.442819</td>\n",
       "    </tr>\n",
       "  </tbody>\n",
       "</table>\n",
       "<p>200 rows × 1 columns</p>\n",
       "</div>"
      ],
      "text/plain": [
       "        value\n",
       "0   -0.945377\n",
       "1    2.445376\n",
       "2   -1.198726\n",
       "3   -1.166254\n",
       "4    3.411189\n",
       "..        ...\n",
       "195  2.342600\n",
       "196  2.364742\n",
       "197  0.869676\n",
       "198  1.391015\n",
       "199 -0.442819\n",
       "\n",
       "[200 rows x 1 columns]"
      ]
     },
     "execution_count": 4,
     "metadata": {},
     "output_type": "execute_result"
    }
   ],
   "source": [
    "Z = 200\n",
    "\n",
    "df = pd.DataFrame(data={'value': stats.norm.rvs(loc = 0.7, scale = 1.7, size=Z)})\n",
    "df"
   ]
  },
  {
   "cell_type": "code",
   "execution_count": 5,
   "metadata": {},
   "outputs": [
    {
     "data": {
      "text/plain": [
       "value    0.75409\n",
       "dtype: float64"
      ]
     },
     "execution_count": 5,
     "metadata": {},
     "output_type": "execute_result"
    }
   ],
   "source": [
    "df.mean()"
   ]
  },
  {
   "cell_type": "markdown",
   "metadata": {},
   "source": [
    "## Section 1.1 Using Bootstrap to Estimate a CI on the mean"
   ]
  },
  {
   "cell_type": "markdown",
   "metadata": {},
   "source": [
    "To use the bootstrap function, we need to define a suitable function to be applied to the resampled dataframes. It is convenient to plot the results as a histogram."
   ]
  },
  {
   "cell_type": "code",
   "execution_count": 16,
   "metadata": {},
   "outputs": [
    {
     "data": {
      "text/html": [
       "<div>\n",
       "<style scoped>\n",
       "    .dataframe tbody tr th:only-of-type {\n",
       "        vertical-align: middle;\n",
       "    }\n",
       "\n",
       "    .dataframe tbody tr th {\n",
       "        vertical-align: top;\n",
       "    }\n",
       "\n",
       "    .dataframe thead th {\n",
       "        text-align: right;\n",
       "    }\n",
       "</style>\n",
       "<table border=\"1\" class=\"dataframe\">\n",
       "  <thead>\n",
       "    <tr style=\"text-align: right;\">\n",
       "      <th></th>\n",
       "      <th>Mean</th>\n",
       "    </tr>\n",
       "  </thead>\n",
       "  <tbody>\n",
       "    <tr>\n",
       "      <th>0</th>\n",
       "      <td>1.458625e-311</td>\n",
       "    </tr>\n",
       "    <tr>\n",
       "      <th>1</th>\n",
       "      <td>1.458624e-311</td>\n",
       "    </tr>\n",
       "    <tr>\n",
       "      <th>2</th>\n",
       "      <td>3.260833e-322</td>\n",
       "    </tr>\n",
       "    <tr>\n",
       "      <th>3</th>\n",
       "      <td>3.162020e-322</td>\n",
       "    </tr>\n",
       "    <tr>\n",
       "      <th>4</th>\n",
       "      <td>3.162020e-322</td>\n",
       "    </tr>\n",
       "    <tr>\n",
       "      <th>...</th>\n",
       "      <td>...</td>\n",
       "    </tr>\n",
       "    <tr>\n",
       "      <th>495</th>\n",
       "      <td>8.596742e-322</td>\n",
       "    </tr>\n",
       "    <tr>\n",
       "      <th>496</th>\n",
       "      <td>5.978194e-322</td>\n",
       "    </tr>\n",
       "    <tr>\n",
       "      <th>497</th>\n",
       "      <td>8.003863e-322</td>\n",
       "    </tr>\n",
       "    <tr>\n",
       "      <th>498</th>\n",
       "      <td>7.065139e-322</td>\n",
       "    </tr>\n",
       "    <tr>\n",
       "      <th>499</th>\n",
       "      <td>8.843775e-322</td>\n",
       "    </tr>\n",
       "  </tbody>\n",
       "</table>\n",
       "<p>500 rows × 1 columns</p>\n",
       "</div>"
      ],
      "text/plain": [
       "              Mean\n",
       "0    1.458625e-311\n",
       "1    1.458624e-311\n",
       "2    3.260833e-322\n",
       "3    3.162020e-322\n",
       "4    3.162020e-322\n",
       "..             ...\n",
       "495  8.596742e-322\n",
       "496  5.978194e-322\n",
       "497  8.003863e-322\n",
       "498  7.065139e-322\n",
       "499  8.843775e-322\n",
       "\n",
       "[500 rows x 1 columns]"
      ]
     },
     "metadata": {},
     "output_type": "display_data"
    },
    {
     "data": {
      "text/html": [
       "<div>\n",
       "<style scoped>\n",
       "    .dataframe tbody tr th:only-of-type {\n",
       "        vertical-align: middle;\n",
       "    }\n",
       "\n",
       "    .dataframe tbody tr th {\n",
       "        vertical-align: top;\n",
       "    }\n",
       "\n",
       "    .dataframe thead th {\n",
       "        text-align: right;\n",
       "    }\n",
       "</style>\n",
       "<table border=\"1\" class=\"dataframe\">\n",
       "  <thead>\n",
       "    <tr style=\"text-align: right;\">\n",
       "      <th></th>\n",
       "      <th>Mean</th>\n",
       "    </tr>\n",
       "  </thead>\n",
       "  <tbody>\n",
       "    <tr>\n",
       "      <th>0</th>\n",
       "      <td>0.854754</td>\n",
       "    </tr>\n",
       "    <tr>\n",
       "      <th>1</th>\n",
       "      <td>0.921076</td>\n",
       "    </tr>\n",
       "    <tr>\n",
       "      <th>2</th>\n",
       "      <td>0.891981</td>\n",
       "    </tr>\n",
       "    <tr>\n",
       "      <th>3</th>\n",
       "      <td>0.741953</td>\n",
       "    </tr>\n",
       "    <tr>\n",
       "      <th>4</th>\n",
       "      <td>0.711183</td>\n",
       "    </tr>\n",
       "    <tr>\n",
       "      <th>...</th>\n",
       "      <td>...</td>\n",
       "    </tr>\n",
       "    <tr>\n",
       "      <th>495</th>\n",
       "      <td>0.777283</td>\n",
       "    </tr>\n",
       "    <tr>\n",
       "      <th>496</th>\n",
       "      <td>0.922054</td>\n",
       "    </tr>\n",
       "    <tr>\n",
       "      <th>497</th>\n",
       "      <td>0.475790</td>\n",
       "    </tr>\n",
       "    <tr>\n",
       "      <th>498</th>\n",
       "      <td>0.704401</td>\n",
       "    </tr>\n",
       "    <tr>\n",
       "      <th>499</th>\n",
       "      <td>0.979350</td>\n",
       "    </tr>\n",
       "  </tbody>\n",
       "</table>\n",
       "<p>500 rows × 1 columns</p>\n",
       "</div>"
      ],
      "text/plain": [
       "         Mean\n",
       "0    0.854754\n",
       "1    0.921076\n",
       "2    0.891981\n",
       "3    0.741953\n",
       "4    0.711183\n",
       "..        ...\n",
       "495  0.777283\n",
       "496  0.922054\n",
       "497  0.475790\n",
       "498  0.704401\n",
       "499  0.979350\n",
       "\n",
       "[500 rows x 1 columns]"
      ]
     },
     "execution_count": 16,
     "metadata": {},
     "output_type": "execute_result"
    },
    {
     "data": {
      "image/png": "[encoded data removed]",
      "text/plain": [
       "<Figure size 432x288 with 1 Axes>"
      ]
     },
     "metadata": {
      "needs_background": "light"
     },
     "output_type": "display_data"
    }
   ],
   "source": [
    "def df_mean(df):\n",
    "    return [df.mean()]\n",
    "    \n",
    "result = bootstrapC(df.value, ['Mean'], 500, df_mean) \n",
    "result.hist()\n",
    "result"
   ]
  },
  {
   "cell_type": "markdown",
   "metadata": {},
   "source": [
    "The CI is given by the quantiles of the result data."
   ]
  },
  {
   "cell_type": "code",
   "execution_count": 7,
   "metadata": {},
   "outputs": [
    {
     "name": "stdout",
     "output_type": "stream",
     "text": [
      "90% range is 0.562 to 0.946\n",
      "95% range is 0.509 to 0.985\n"
     ]
    }
   ],
   "source": [
    "print('90%% range is %4.3f to %4.3f' % \n",
    "      (result.Mean.quantile(0.05), result.Mean.quantile(0.95)))\n",
    "print('95%% range is %4.3f to %4.3f' % \n",
    "      (result.Mean.quantile(0.025), result.Mean.quantile(0.975)))"
   ]
  },
  {
   "cell_type": "markdown",
   "metadata": {},
   "source": [
    "### Section 1.2 Comparison with the Student-t Interval\n",
    "We can also estimate the CI using the Student t distribution. The results are quite close. "
   ]
  },
  {
   "cell_type": "code",
   "execution_count": 8,
   "metadata": {},
   "outputs": [
    {
     "name": "stdout",
     "output_type": "stream",
     "text": [
      "90% confidence interval for mean is 0.553 to 0.956\n",
      "95% confidence interval for mean is 0.514 to 0.995\n"
     ]
    }
   ],
   "source": [
    "lower1, upper1 = stats.t.interval(0.90, len(df)-1, loc=df.mean(), scale=df.std() / np.sqrt(len(df)))\n",
    "print('90%% confidence interval for mean is %4.3f to %4.3f' % (lower1[0], upper1[0]))\n",
    "\n",
    "lower2, upper2 = stats.t.interval(0.95, len(df)-1, loc=df.mean(), scale=df.std() / np.sqrt(len(df)))\n",
    "print('95%% confidence interval for mean is %4.3f to %4.3f' % (lower2[0], upper2[0]))"
   ]
  },
  {
   "cell_type": "markdown",
   "metadata": {},
   "source": [
    "## Section 2: Regression\n",
    "We use the example based on the Heart data (see regression notebook)\n",
    "\n",
    "\n",
    "### Section 2.1 Loading the Heart Data"
   ]
  },
  {
   "cell_type": "code",
   "execution_count": 9,
   "metadata": {},
   "outputs": [],
   "source": [
    "from sklearn.linear_model import LinearRegression\n",
    "from sklearn.metrics import mean_squared_error\n",
    "\n",
    "# types and type dictionary\n",
    "sex_t = pd.CategoricalDtype(categories=['M','F'], ordered=False)\n",
    "pain_t = pd.CategoricalDtype(categories=['Typical','Atypical','Non_anginal','Asymptomatic'], ordered=False)\n",
    "ECG_t = pd.CategoricalDtype(categories=['Normal','ST-T wave','Hypertrophy'], ordered=False)\n",
    "ECG_ST_t = pd.CategoricalDtype(categories=['Upsloping', 'Flat', 'Downsloping'], ordered=False)\n",
    "Thal_t = pd.CategoricalDtype(categories=['Normal','Fixed','Reversible'], ordered=False)\n",
    "types_dict = {'Sex':sex_t, 'ChestPain':pain_t, 'RestECG': ECG_t, 'ECG_ST_slope': ECG_ST_t, 'Thallium':Thal_t}\n",
    "\n",
    "hearts = pd.read_csv('heart_cleveland_recoded.csv', dtype = types_dict)"
   ]
  },
  {
   "cell_type": "markdown",
   "metadata": {},
   "source": [
    "### Section 2.2 Use the Bootstrap Function and Calculate CIs\n",
    "To do this, the regression calculation must be made into a function. We choose to return four values.  "
   ]
  },
  {
   "cell_type": "code",
   "execution_count": 10,
   "metadata": {},
   "outputs": [
    {
     "data": {
      "image/png": "[encoded data removed]",
      "text/plain": [
       "<Figure size 576x576 with 4 Axes>"
      ]
     },
     "metadata": {
      "needs_background": "light"
     },
     "output_type": "display_data"
    }
   ],
   "source": [
    "def doRegression(df) :\n",
    "    y = df.MaxRate # this is the target variable; we assue just one though more are possible\n",
    "    X = np.column_stack((df.Age,df.RestBP))\n",
    "    reg = LinearRegression().fit(X, y)\n",
    "    beta_Age, beta_RestBP = reg.coef_\n",
    "    return [reg.intercept_, beta_Age, beta_RestBP, reg.score(X, y)] \n",
    "\n",
    "bstrap = bootstrapC(hearts, ['Intercept', 'BetaAge', 'BetaRBP', 'R2'], 500, doRegression) \n",
    "_ = bstrap.hist(figsize=(8,8))"
   ]
  },
  {
   "cell_type": "markdown",
   "metadata": {},
   "source": [
    "We again use the quantile function to estimate the CIs."
   ]
  },
  {
   "cell_type": "code",
   "execution_count": 11,
   "metadata": {},
   "outputs": [
    {
     "name": "stdout",
     "output_type": "stream",
     "text": [
      "Intercept is 194.9, with 90% CI from 178.4 to 210.7\n",
      "Age coefficient is -1.05, with 90% CI from -1.28 to -0.81\n",
      "The R2 coefficient of determination is 0.16, with 90% CI from 0.10 to 0.23\n"
     ]
    }
   ],
   "source": [
    "intercept, betaAge, betaRP, r2 = doRegression(hearts)\n",
    "\n",
    "print(\"Intercept is %4.1f, with 90%% CI from %4.1f to %4.1f\" % \n",
    "      (intercept, bstrap.Intercept.quantile(0.05), bstrap.Intercept.quantile(0.95)))\n",
    "\n",
    "print(\"Age coefficient is %3.2f, with 90%% CI from %3.2f to %3.2f\" % \n",
    "      (betaAge, bstrap.BetaAge.quantile(0.05), bstrap.BetaAge.quantile(0.95)))\n",
    "\n",
    "print(\"The R2 coefficient of determination is %3.2f, with 90%% CI from %3.2f to %3.2f\" % \n",
    "      (r2, bstrap.R2.quantile(0.05), bstrap.R2.quantile(0.95)))"
   ]
  },
  {
   "cell_type": "markdown",
   "metadata": {},
   "source": [
    "## Section 3: Difference Between Two Means\n",
    "We calculate a confidence interval on the difference between 2 means.\n",
    "\n",
    "### Section 3.1 Using the Bootstrap\n",
    "We use the `group_by` function to separate those with and without disease and calculate the difference between the means of cholesterol value for the two groups"
   ]
  },
  {
   "cell_type": "code",
   "execution_count": 12,
   "metadata": {},
   "outputs": [
    {
     "data": {
      "image/png": "[encoded data removed]",
      "text/plain": [
       "<Figure size 360x360 with 1 Axes>"
      ]
     },
     "metadata": {
      "needs_background": "light"
     },
     "output_type": "display_data"
    }
   ],
   "source": [
    "def cholMean(df): \n",
    "    gby_disease = df.groupby(by = 'Disease')\n",
    "    mean_disease = gby_disease.get_group(True).Chol.mean()\n",
    "    mean_well = gby_disease.get_group(False).Chol.mean()\n",
    "    return [mean_disease - mean_well]\n",
    "\n",
    "bstrap = bootstrapC(hearts, ['MeanDiff'], 500, cholMean) \n",
    "_ = bstrap.hist(figsize=(5,5))"
   ]
  },
  {
   "cell_type": "markdown",
   "metadata": {},
   "source": [
    "### Section 3.2 Estimate the CIs\n",
    "As before, the CIs are estimated using the quantiles of the bootstrap distribution."
   ]
  },
  {
   "cell_type": "code",
   "execution_count": 13,
   "metadata": {},
   "outputs": [
    {
     "name": "stdout",
     "output_type": "stream",
     "text": [
      "The difference between the mean cholesterol (disease - no disease) is 8.36 with 80% CI 0.40 to 15.32\n",
      "The difference between the mean cholesterol (disease - no disease) is 8.36 with 90% CI -2.04 to 18.16\n",
      "The difference between the mean cholesterol (disease - no disease) is 8.36 with 99% CI -9.00 to 22.14\n"
     ]
    }
   ],
   "source": [
    "sampleDiff = cholMean(hearts)[0]\n",
    "print(\"The difference between the mean cholesterol (disease - no disease) is %3.2f with 80%% CI %3.2f to %3.2f\" % \n",
    "      (sampleDiff, bstrap.MeanDiff.quantile(0.1), bstrap.MeanDiff.quantile(0.9)))\n",
    "print(\"The difference between the mean cholesterol (disease - no disease) is %3.2f with 90%% CI %3.2f to %3.2f\" % \n",
    "      (sampleDiff, bstrap.MeanDiff.quantile(0.05), bstrap.MeanDiff.quantile(0.95)))\n",
    "print(\"The difference between the mean cholesterol (disease - no disease) is %3.2f with 99%% CI %3.2f to %3.2f\" % \n",
    "      (sampleDiff, bstrap.MeanDiff.quantile(0.005), bstrap.MeanDiff.quantile(0.995)))"
   ]
  },
  {
   "cell_type": "markdown",
   "metadata": {},
   "source": [
    "### Section 3.3 Compare with Result of Welch's t-Test\n",
    "\n",
    "We can calculate the p-value returned using the t-test. We see that at 90% the hypothesis that the means are the same is rejected but not at 99%. This conclusion depends on whether the bootstrap CI for the difference includes zero. The 99% bootstrap CI consistently includes zero difference; however, the results of the bootstrap vary and the 90% confidence interval often includes zero."
   ]
  },
  {
   "cell_type": "code",
   "execution_count": 14,
   "metadata": {},
   "outputs": [
    {
     "name": "stdout",
     "output_type": "stream",
     "text": [
      "Compare cholesterol with heart disease (mean 251.85) and without (mean 243.49): p-value for a one tail test = 0.0825\n"
     ]
    }
   ],
   "source": [
    "hrts_by_d = hearts.groupby(by = 'Disease')\n",
    "mean_disease = hrts_by_d.get_group(True).Chol.mean()\n",
    "mean_well = hrts_by_d.get_group(False).Chol.mean()\n",
    "\n",
    "res = stats.ttest_ind(hrts_by_d.get_group(True).Chol, hrts_by_d.get_group(False).Chol, equal_var=False )\n",
    "print('Compare cholesterol with heart disease (mean %3.2F) and without (mean %3.2F): p-value for a one tail test = %5.4f' % \n",
    "      (mean_disease, mean_well, res.pvalue / 2))"
   ]
  }
 ],
 "metadata": {
  "kernelspec": {
   "display_name": "Python 3",
   "language": "python",
   "name": "python3"
  },
  "language_info": {
   "codemirror_mode": {
    "name": "ipython",
    "version": 3
   },
   "file_extension": ".py",
   "mimetype": "text/x-python",
   "name": "python",
   "nbconvert_exporter": "python",
   "pygments_lexer": "ipython3",
   "version": "3.8.8"
  }
 },
 "nbformat": 4,
 "nbformat_minor": 4
}
