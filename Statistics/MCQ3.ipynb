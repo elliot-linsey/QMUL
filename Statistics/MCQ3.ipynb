{
 "cells": [
  {
   "cell_type": "code",
   "execution_count": 8,
   "id": "4c45c7cd",
   "metadata": {},
   "outputs": [],
   "source": [
    "import pandas as pd\n",
    "import numpy as np\n",
    "from scipy.spatial import distance"
   ]
  },
  {
   "cell_type": "code",
   "execution_count": 9,
   "id": "63b9ff26",
   "metadata": {},
   "outputs": [
    {
     "data": {
      "text/html": [
       "<div>\n",
       "<style scoped>\n",
       "    .dataframe tbody tr th:only-of-type {\n",
       "        vertical-align: middle;\n",
       "    }\n",
       "\n",
       "    .dataframe tbody tr th {\n",
       "        vertical-align: top;\n",
       "    }\n",
       "\n",
       "    .dataframe thead th {\n",
       "        text-align: right;\n",
       "    }\n",
       "</style>\n",
       "<table border=\"1\" class=\"dataframe\">\n",
       "  <thead>\n",
       "    <tr style=\"text-align: right;\">\n",
       "      <th></th>\n",
       "      <th>Men</th>\n",
       "      <th>Women</th>\n",
       "    </tr>\n",
       "    <tr>\n",
       "      <th>Pet</th>\n",
       "      <th></th>\n",
       "      <th></th>\n",
       "    </tr>\n",
       "  </thead>\n",
       "  <tbody>\n",
       "    <tr>\n",
       "      <th>Bird</th>\n",
       "      <td>16</td>\n",
       "      <td>10</td>\n",
       "    </tr>\n",
       "    <tr>\n",
       "      <th>Cat</th>\n",
       "      <td>14</td>\n",
       "      <td>14</td>\n",
       "    </tr>\n",
       "    <tr>\n",
       "      <th>Dog</th>\n",
       "      <td>15</td>\n",
       "      <td>11</td>\n",
       "    </tr>\n",
       "  </tbody>\n",
       "</table>\n",
       "</div>"
      ],
      "text/plain": [
       "      Men  Women\n",
       "Pet             \n",
       "Bird   16     10\n",
       "Cat    14     14\n",
       "Dog    15     11"
      ]
     },
     "execution_count": 9,
     "metadata": {},
     "output_type": "execute_result"
    }
   ],
   "source": [
    "df = pd.DataFrame({\n",
    "    'Pet': ['Bird', 'Cat', 'Dog'],\n",
    "    'Men': [16,14,15],\n",
    "    'Women': [10,14,11]\n",
    "})\n",
    "df = df.set_index('Pet')\n",
    "df"
   ]
  },
  {
   "cell_type": "code",
   "execution_count": 10,
   "id": "e329f27c",
   "metadata": {},
   "outputs": [
    {
     "data": {
      "text/plain": [
       "(0.7619047619047619,\n",
       " 0.6832104226749481,\n",
       " 2,\n",
       " array([[14.625, 11.375],\n",
       "        [15.75 , 12.25 ],\n",
       "        [14.625, 11.375]]))"
      ]
     },
     "execution_count": 10,
     "metadata": {},
     "output_type": "execute_result"
    }
   ],
   "source": [
    "from scipy.stats import chi2_contingency\n",
    "chi2_contingency(df)"
   ]
  },
  {
   "cell_type": "code",
   "execution_count": 48,
   "id": "02089e74",
   "metadata": {},
   "outputs": [
    {
     "data": {
      "text/plain": [
       "-1.3862943611198906"
      ]
     },
     "execution_count": 48,
     "metadata": {},
     "output_type": "execute_result"
    }
   ],
   "source": [
    "from scipy.special import logit, expit\n",
    "logit(0.2)"
   ]
  },
  {
   "cell_type": "code",
   "execution_count": 49,
   "id": "d84dbd74",
   "metadata": {
    "scrolled": true
   },
   "outputs": [
    {
     "data": {
      "text/plain": [
       "0.5"
      ]
     },
     "execution_count": 49,
     "metadata": {},
     "output_type": "execute_result"
    }
   ],
   "source": [
    "expit(np.log(0.5/0.5))"
   ]
  },
  {
   "cell_type": "code",
   "execution_count": 55,
   "id": "9ebd82f3",
   "metadata": {},
   "outputs": [
    {
     "data": {
      "text/plain": [
       "0.9999999992417439"
      ]
     },
     "execution_count": 55,
     "metadata": {},
     "output_type": "execute_result"
    }
   ],
   "source": [
    "expit(21)"
   ]
  },
  {
   "cell_type": "code",
   "execution_count": 12,
   "id": "0acfb37c",
   "metadata": {},
   "outputs": [
    {
     "data": {
      "text/plain": [
       "0.49999999666666667"
      ]
     },
     "execution_count": 12,
     "metadata": {},
     "output_type": "execute_result"
    }
   ],
   "source": [
    "0.58333333 - (3/12*4/12)"
   ]
  },
  {
   "cell_type": "code",
   "execution_count": 13,
   "id": "146ef455",
   "metadata": {},
   "outputs": [
    {
     "data": {
      "text/plain": [
       "0.059500000000000004"
      ]
     },
     "execution_count": 13,
     "metadata": {},
     "output_type": "execute_result"
    }
   ],
   "source": [
    "(990/1000*0.05)+(10/1000*1)"
   ]
  },
  {
   "cell_type": "code",
   "execution_count": 14,
   "id": "eda057ce",
   "metadata": {},
   "outputs": [
    {
     "data": {
      "text/plain": [
       "0.016806722689075633"
      ]
     },
     "execution_count": 14,
     "metadata": {},
     "output_type": "execute_result"
    }
   ],
   "source": [
    "((10/1000)*1/0.595)"
   ]
  },
  {
   "cell_type": "code",
   "execution_count": 15,
   "id": "66a4a665",
   "metadata": {},
   "outputs": [
    {
     "data": {
      "text/plain": [
       "0.5172413793103449"
      ]
     },
     "execution_count": 15,
     "metadata": {},
     "output_type": "execute_result"
    }
   ],
   "source": [
    "(0.3*0.5)/0.29"
   ]
  },
  {
   "cell_type": "code",
   "execution_count": 16,
   "id": "cb324fdf",
   "metadata": {},
   "outputs": [
    {
     "data": {
      "text/plain": [
       "0.48275862068965514"
      ]
     },
     "execution_count": 16,
     "metadata": {},
     "output_type": "execute_result"
    }
   ],
   "source": [
    "(0.7*0.2)/0.29"
   ]
  },
  {
   "cell_type": "code",
   "execution_count": 17,
   "id": "8016397b",
   "metadata": {},
   "outputs": [
    {
     "data": {
      "text/plain": [
       "100.0"
      ]
     },
     "execution_count": 17,
     "metadata": {},
     "output_type": "execute_result"
    }
   ],
   "source": [
    "51.7+48.3"
   ]
  },
  {
   "cell_type": "code",
   "execution_count": 18,
   "id": "2a317953",
   "metadata": {},
   "outputs": [
    {
     "data": {
      "text/plain": [
       "0.804199586352679"
      ]
     },
     "execution_count": 18,
     "metadata": {},
     "output_type": "execute_result"
    }
   ],
   "source": [
    "vector_A = np.array([1,2,3]).T\n",
    "vector_B = np.array([1,6,1]).T\n",
    "vector_C = np.array([2,8,4]).T\n",
    "\n",
    "unit_vector_A = vector_A / np.linalg.norm(vector_A)\n",
    "unit_vector_B = vector_B / np.linalg.norm(vector_B)\n",
    "unit_vector_C = vector_C / np.linalg.norm(vector_C)\n",
    "dot_product1 = np.dot(unit_vector_A, unit_vector_B)\n",
    "angle1 = np.arccos(dot_product1)\n",
    "angle1"
   ]
  },
  {
   "cell_type": "code",
   "execution_count": 19,
   "id": "dfa4e26a",
   "metadata": {},
   "outputs": [
    {
     "data": {
      "text/plain": [
       "0.5057368047515303"
      ]
     },
     "execution_count": 19,
     "metadata": {},
     "output_type": "execute_result"
    }
   ],
   "source": [
    "dot_product2 = np.dot(unit_vector_A, unit_vector_C)\n",
    "angle2 = np.arccos(dot_product2)\n",
    "angle2"
   ]
  },
  {
   "cell_type": "code",
   "execution_count": 20,
   "id": "8ae5e1bf",
   "metadata": {},
   "outputs": [
    {
     "data": {
      "text/plain": [
       "6.4031242374328485"
      ]
     },
     "execution_count": 20,
     "metadata": {},
     "output_type": "execute_result"
    }
   ],
   "source": [
    "v1 = [1,1]\n",
    "v2 = [2,4]\n",
    "v3 = [5,6]\n",
    "\n",
    "distance.euclidean(v1,v2) + distance.euclidean(v2,v3)\n",
    "distance.euclidean(v1,v3)"
   ]
  },
  {
   "cell_type": "code",
   "execution_count": 21,
   "id": "1ab64b34",
   "metadata": {},
   "outputs": [
    {
     "data": {
      "text/plain": [
       "array([2, 8, 4])"
      ]
     },
     "execution_count": 21,
     "metadata": {},
     "output_type": "execute_result"
    }
   ],
   "source": [
    "vector_A + vector_B"
   ]
  },
  {
   "cell_type": "code",
   "execution_count": 22,
   "id": "fc8b9cd7",
   "metadata": {},
   "outputs": [
    {
     "data": {
      "text/plain": [
       "9.906071389742918"
      ]
     },
     "execution_count": 22,
     "metadata": {},
     "output_type": "execute_result"
    }
   ],
   "source": [
    "np.linalg.norm(vector_A) + np.linalg.norm(vector_B)\n"
   ]
  },
  {
   "cell_type": "code",
   "execution_count": 23,
   "id": "38665495",
   "metadata": {
    "scrolled": true
   },
   "outputs": [
    {
     "data": {
      "text/plain": [
       "9.16515138991168"
      ]
     },
     "execution_count": 23,
     "metadata": {},
     "output_type": "execute_result"
    }
   ],
   "source": [
    "np.linalg.norm(vector_A+vector_B)"
   ]
  },
  {
   "cell_type": "code",
   "execution_count": 24,
   "id": "def7e615",
   "metadata": {},
   "outputs": [],
   "source": [
    "U = np.array([[11,2],\n",
    "            [3,7],\n",
    "            [7,8]])\n",
    "V = np.array([[21,6,2],\n",
    "            [3,2,4]])\n",
    "W = np.array([[1,3],\n",
    "            [3,5]])"
   ]
  },
  {
   "cell_type": "code",
   "execution_count": 25,
   "id": "70b12752",
   "metadata": {},
   "outputs": [
    {
     "data": {
      "text/plain": [
       "array([[237,  70,  30],\n",
       "       [ 84,  32,  34],\n",
       "       [171,  58,  46]])"
      ]
     },
     "execution_count": 25,
     "metadata": {},
     "output_type": "execute_result"
    }
   ],
   "source": [
    "U@V"
   ]
  },
  {
   "cell_type": "code",
   "execution_count": 26,
   "id": "55d4f5ce",
   "metadata": {},
   "outputs": [
    {
     "data": {
      "text/plain": [
       "(2, 3)"
      ]
     },
     "execution_count": 26,
     "metadata": {},
     "output_type": "execute_result"
    }
   ],
   "source": [
    "V.shape"
   ]
  },
  {
   "cell_type": "code",
   "execution_count": 27,
   "id": "8fa9bf83",
   "metadata": {},
   "outputs": [
    {
     "data": {
      "text/plain": [
       "array([[1, 3],\n",
       "       [3, 5]])"
      ]
     },
     "execution_count": 27,
     "metadata": {},
     "output_type": "execute_result"
    }
   ],
   "source": [
    "W.T"
   ]
  },
  {
   "cell_type": "code",
   "execution_count": 28,
   "id": "5bdb6591",
   "metadata": {},
   "outputs": [
    {
     "data": {
      "text/plain": [
       "array([[11,  3,  7],\n",
       "       [ 2,  7,  8]])"
      ]
     },
     "execution_count": 28,
     "metadata": {},
     "output_type": "execute_result"
    }
   ],
   "source": [
    "U.T"
   ]
  },
  {
   "cell_type": "code",
   "execution_count": 29,
   "id": "3fb79dd8",
   "metadata": {},
   "outputs": [
    {
     "data": {
      "text/plain": [
       "array([[32,  9,  9],\n",
       "       [ 5,  9, 12]])"
      ]
     },
     "execution_count": 29,
     "metadata": {},
     "output_type": "execute_result"
    }
   ],
   "source": [
    "U.T+V"
   ]
  },
  {
   "cell_type": "code",
   "execution_count": 30,
   "id": "3605f74b",
   "metadata": {},
   "outputs": [
    {
     "data": {
      "text/plain": [
       "array([[30, 12, 14],\n",
       "       [78, 28, 26]])"
      ]
     },
     "execution_count": 30,
     "metadata": {},
     "output_type": "execute_result"
    }
   ],
   "source": [
    "W@V"
   ]
  },
  {
   "cell_type": "code",
   "execution_count": 31,
   "id": "858d7aa8",
   "metadata": {},
   "outputs": [
    {
     "data": {
      "text/plain": [
       "array([[1, 0],\n",
       "       [0, 1]])"
      ]
     },
     "execution_count": 31,
     "metadata": {},
     "output_type": "execute_result"
    }
   ],
   "source": [
    "A = np.array([[1,2],\n",
    "            [2,3]])\n",
    "B = np.array([[-3,2],\n",
    "            [2,-1]])\n",
    "C = np.array([[1,0],\n",
    "            [0,1]])\n",
    "B@A"
   ]
  },
  {
   "cell_type": "code",
   "execution_count": 32,
   "id": "1d0299eb",
   "metadata": {},
   "outputs": [
    {
     "data": {
      "text/plain": [
       "-1.0"
      ]
     },
     "execution_count": 32,
     "metadata": {},
     "output_type": "execute_result"
    }
   ],
   "source": [
    "np.linalg.det(A)"
   ]
  },
  {
   "cell_type": "code",
   "execution_count": 33,
   "id": "c7500ec3",
   "metadata": {
    "scrolled": true
   },
   "outputs": [
    {
     "data": {
      "text/plain": [
       "array([[-3.,  2.],\n",
       "       [ 2., -1.]])"
      ]
     },
     "execution_count": 33,
     "metadata": {},
     "output_type": "execute_result"
    }
   ],
   "source": [
    "np.linalg.inv(A)"
   ]
  },
  {
   "cell_type": "code",
   "execution_count": 34,
   "id": "cd00f9ab",
   "metadata": {},
   "outputs": [
    {
     "data": {
      "text/html": [
       "<div>\n",
       "<style scoped>\n",
       "    .dataframe tbody tr th:only-of-type {\n",
       "        vertical-align: middle;\n",
       "    }\n",
       "\n",
       "    .dataframe tbody tr th {\n",
       "        vertical-align: top;\n",
       "    }\n",
       "\n",
       "    .dataframe thead th {\n",
       "        text-align: right;\n",
       "    }\n",
       "</style>\n",
       "<table border=\"1\" class=\"dataframe\">\n",
       "  <thead>\n",
       "    <tr style=\"text-align: right;\">\n",
       "      <th></th>\n",
       "      <th>p(p)</th>\n",
       "      <th>log(1/p(p))</th>\n",
       "      <th>H(P)</th>\n",
       "    </tr>\n",
       "    <tr>\n",
       "      <th>P</th>\n",
       "      <th></th>\n",
       "      <th></th>\n",
       "      <th></th>\n",
       "    </tr>\n",
       "  </thead>\n",
       "  <tbody>\n",
       "    <tr>\n",
       "      <th>v1</th>\n",
       "      <td>0.25</td>\n",
       "      <td>2.0</td>\n",
       "      <td>0.5</td>\n",
       "    </tr>\n",
       "    <tr>\n",
       "      <th>v2</th>\n",
       "      <td>0.25</td>\n",
       "      <td>2.0</td>\n",
       "      <td>0.5</td>\n",
       "    </tr>\n",
       "    <tr>\n",
       "      <th>v3</th>\n",
       "      <td>0.50</td>\n",
       "      <td>1.0</td>\n",
       "      <td>0.5</td>\n",
       "    </tr>\n",
       "  </tbody>\n",
       "</table>\n",
       "</div>"
      ],
      "text/plain": [
       "    p(p)  log(1/p(p))  H(P)\n",
       "P                          \n",
       "v1  0.25          2.0   0.5\n",
       "v2  0.25          2.0   0.5\n",
       "v3  0.50          1.0   0.5"
      ]
     },
     "metadata": {},
     "output_type": "display_data"
    },
    {
     "data": {
      "text/html": [
       "<div>\n",
       "<style scoped>\n",
       "    .dataframe tbody tr th:only-of-type {\n",
       "        vertical-align: middle;\n",
       "    }\n",
       "\n",
       "    .dataframe tbody tr th {\n",
       "        vertical-align: top;\n",
       "    }\n",
       "\n",
       "    .dataframe thead th {\n",
       "        text-align: right;\n",
       "    }\n",
       "</style>\n",
       "<table border=\"1\" class=\"dataframe\">\n",
       "  <thead>\n",
       "    <tr style=\"text-align: right;\">\n",
       "      <th></th>\n",
       "      <th>p(q)</th>\n",
       "      <th>log(1/p(q))</th>\n",
       "      <th>H(Q)</th>\n",
       "    </tr>\n",
       "    <tr>\n",
       "      <th>Q</th>\n",
       "      <th></th>\n",
       "      <th></th>\n",
       "      <th></th>\n",
       "    </tr>\n",
       "  </thead>\n",
       "  <tbody>\n",
       "    <tr>\n",
       "      <th>v1</th>\n",
       "      <td>0.33</td>\n",
       "      <td>1.599462</td>\n",
       "      <td>0.527822</td>\n",
       "    </tr>\n",
       "    <tr>\n",
       "      <th>v2</th>\n",
       "      <td>0.33</td>\n",
       "      <td>1.599462</td>\n",
       "      <td>0.527822</td>\n",
       "    </tr>\n",
       "    <tr>\n",
       "      <th>v3</th>\n",
       "      <td>0.33</td>\n",
       "      <td>1.599462</td>\n",
       "      <td>0.527822</td>\n",
       "    </tr>\n",
       "  </tbody>\n",
       "</table>\n",
       "</div>"
      ],
      "text/plain": [
       "    p(q)  log(1/p(q))      H(Q)\n",
       "Q                              \n",
       "v1  0.33     1.599462  0.527822\n",
       "v2  0.33     1.599462  0.527822\n",
       "v3  0.33     1.599462  0.527822"
      ]
     },
     "execution_count": 34,
     "metadata": {},
     "output_type": "execute_result"
    }
   ],
   "source": [
    "df2 = pd.DataFrame({\n",
    "    'P': ['v1','v2','v3'],\n",
    "    'p(p)': [0.25,0.25,0.5]\n",
    "})\n",
    "df3 = pd.DataFrame({\n",
    "    'Q': ['v1','v2','v3'],\n",
    "    'p(q)': [0.33,0.33,0.33]\n",
    "})\n",
    "df2 = df2.set_index('P')\n",
    "df2['log(1/p(p))'] = np.log2(1/df2['p(p)'])\n",
    "df2['H(P)'] = df2['p(p)']*df2['log(1/p(p))']\n",
    "display(df2)\n",
    "\n",
    "df3 = df3.set_index('Q')\n",
    "df3['log(1/p(q))'] = np.log2(1/df3['p(q)'])\n",
    "df3['H(Q)'] = df3['p(q)']*df3['log(1/p(q))']\n",
    "df3"
   ]
  },
  {
   "cell_type": "code",
   "execution_count": 35,
   "id": "d4cab433",
   "metadata": {},
   "outputs": [
    {
     "name": "stdout",
     "output_type": "stream",
     "text": [
      "1.5\n",
      "1.5834674497121084\n"
     ]
    }
   ],
   "source": [
    "print(sum(df2['H(P)']))\n",
    "print(sum(df3['H(Q)']))"
   ]
  },
  {
   "cell_type": "code",
   "execution_count": 36,
   "id": "be2f94e3",
   "metadata": {},
   "outputs": [
    {
     "data": {
      "text/plain": [
       "0.140625"
      ]
     },
     "execution_count": 36,
     "metadata": {},
     "output_type": "execute_result"
    }
   ],
   "source": [
    "p_x = 0.250+0.125\n",
    "p_y = 0.250+0.125\n",
    "p_nx = 1-(0.250+0.125)\n",
    "p_ny = 1-(0.250+0.125)\n",
    "p_x*p_y"
   ]
  },
  {
   "cell_type": "code",
   "execution_count": 37,
   "id": "f7a8aa12",
   "metadata": {},
   "outputs": [
    {
     "data": {
      "text/html": [
       "<div>\n",
       "<style scoped>\n",
       "    .dataframe tbody tr th:only-of-type {\n",
       "        vertical-align: middle;\n",
       "    }\n",
       "\n",
       "    .dataframe tbody tr th {\n",
       "        vertical-align: top;\n",
       "    }\n",
       "\n",
       "    .dataframe thead th {\n",
       "        text-align: right;\n",
       "    }\n",
       "</style>\n",
       "<table border=\"1\" class=\"dataframe\">\n",
       "  <thead>\n",
       "    <tr style=\"text-align: right;\">\n",
       "      <th></th>\n",
       "      <th>x</th>\n",
       "      <th>y</th>\n",
       "      <th>P(x,y)</th>\n",
       "    </tr>\n",
       "  </thead>\n",
       "  <tbody>\n",
       "    <tr>\n",
       "      <th>0</th>\n",
       "      <td>x</td>\n",
       "      <td>y</td>\n",
       "      <td>0.250</td>\n",
       "    </tr>\n",
       "    <tr>\n",
       "      <th>1</th>\n",
       "      <td>x</td>\n",
       "      <td>ny</td>\n",
       "      <td>0.125</td>\n",
       "    </tr>\n",
       "    <tr>\n",
       "      <th>2</th>\n",
       "      <td>nx</td>\n",
       "      <td>y</td>\n",
       "      <td>0.125</td>\n",
       "    </tr>\n",
       "    <tr>\n",
       "      <th>3</th>\n",
       "      <td>nx</td>\n",
       "      <td>ny</td>\n",
       "      <td>0.500</td>\n",
       "    </tr>\n",
       "  </tbody>\n",
       "</table>\n",
       "</div>"
      ],
      "text/plain": [
       "    x   y  P(x,y)\n",
       "0   x   y   0.250\n",
       "1   x  ny   0.125\n",
       "2  nx   y   0.125\n",
       "3  nx  ny   0.500"
      ]
     },
     "execution_count": 37,
     "metadata": {},
     "output_type": "execute_result"
    }
   ],
   "source": [
    "df4 = pd.DataFrame({\n",
    "    'x':['x','x','nx','nx'],\n",
    "    'y':['y','ny','y','ny'],\n",
    "    'P(x,y)':[0.25, 0.125, 0.125, 0.5]\n",
    "})\n",
    "df4"
   ]
  },
  {
   "cell_type": "code",
   "execution_count": 38,
   "id": "d21fb947",
   "metadata": {},
   "outputs": [
    {
     "data": {
      "text/html": [
       "<div>\n",
       "<style scoped>\n",
       "    .dataframe tbody tr th:only-of-type {\n",
       "        vertical-align: middle;\n",
       "    }\n",
       "\n",
       "    .dataframe tbody tr th {\n",
       "        vertical-align: top;\n",
       "    }\n",
       "\n",
       "    .dataframe thead th {\n",
       "        text-align: right;\n",
       "    }\n",
       "</style>\n",
       "<table border=\"1\" class=\"dataframe\">\n",
       "  <thead>\n",
       "    <tr style=\"text-align: right;\">\n",
       "      <th></th>\n",
       "      <th>x</th>\n",
       "      <th>y</th>\n",
       "      <th>P(x,y)</th>\n",
       "      <th>P(x)*P(y)</th>\n",
       "      <th>ratio</th>\n",
       "      <th>log2_ratio</th>\n",
       "      <th>P(x,y)*log2()</th>\n",
       "    </tr>\n",
       "  </thead>\n",
       "  <tbody>\n",
       "    <tr>\n",
       "      <th>0</th>\n",
       "      <td>x</td>\n",
       "      <td>y</td>\n",
       "      <td>0.250</td>\n",
       "      <td>0.140625</td>\n",
       "      <td>1.777778</td>\n",
       "      <td>0.830075</td>\n",
       "      <td>0.207519</td>\n",
       "    </tr>\n",
       "    <tr>\n",
       "      <th>1</th>\n",
       "      <td>x</td>\n",
       "      <td>ny</td>\n",
       "      <td>0.125</td>\n",
       "      <td>0.234375</td>\n",
       "      <td>0.533333</td>\n",
       "      <td>-0.906891</td>\n",
       "      <td>-0.113361</td>\n",
       "    </tr>\n",
       "    <tr>\n",
       "      <th>2</th>\n",
       "      <td>nx</td>\n",
       "      <td>y</td>\n",
       "      <td>0.125</td>\n",
       "      <td>0.234375</td>\n",
       "      <td>0.533333</td>\n",
       "      <td>-0.906891</td>\n",
       "      <td>-0.113361</td>\n",
       "    </tr>\n",
       "    <tr>\n",
       "      <th>3</th>\n",
       "      <td>nx</td>\n",
       "      <td>ny</td>\n",
       "      <td>0.500</td>\n",
       "      <td>0.390625</td>\n",
       "      <td>1.280000</td>\n",
       "      <td>0.356144</td>\n",
       "      <td>0.178072</td>\n",
       "    </tr>\n",
       "  </tbody>\n",
       "</table>\n",
       "</div>"
      ],
      "text/plain": [
       "    x   y  P(x,y)  P(x)*P(y)     ratio  log2_ratio  P(x,y)*log2()\n",
       "0   x   y   0.250   0.140625  1.777778    0.830075       0.207519\n",
       "1   x  ny   0.125   0.234375  0.533333   -0.906891      -0.113361\n",
       "2  nx   y   0.125   0.234375  0.533333   -0.906891      -0.113361\n",
       "3  nx  ny   0.500   0.390625  1.280000    0.356144       0.178072"
      ]
     },
     "metadata": {},
     "output_type": "display_data"
    },
    {
     "data": {
      "text/plain": [
       "0.1588680058499299"
      ]
     },
     "execution_count": 38,
     "metadata": {},
     "output_type": "execute_result"
    }
   ],
   "source": [
    "df4['P(x)*P(y)'] = [p_x*p_y,p_x*p_ny,p_nx*p_y,p_nx*p_ny]\n",
    "df4['ratio'] = df4['P(x,y)']/df4['P(x)*P(y)']\n",
    "df4['log2_ratio'] = np.log2(df4['ratio'])\n",
    "df4['P(x,y)*log2()'] = df4['P(x,y)']*df4['log2_ratio']\n",
    "display(df4)\n",
    "sum(df4['P(x,y)*log2()'])"
   ]
  },
  {
   "cell_type": "code",
   "execution_count": 39,
   "id": "bac088b4",
   "metadata": {},
   "outputs": [
    {
     "data": {
      "text/html": [
       "<div>\n",
       "<style scoped>\n",
       "    .dataframe tbody tr th:only-of-type {\n",
       "        vertical-align: middle;\n",
       "    }\n",
       "\n",
       "    .dataframe tbody tr th {\n",
       "        vertical-align: top;\n",
       "    }\n",
       "\n",
       "    .dataframe thead th {\n",
       "        text-align: right;\n",
       "    }\n",
       "</style>\n",
       "<table border=\"1\" class=\"dataframe\">\n",
       "  <thead>\n",
       "    <tr style=\"text-align: right;\">\n",
       "      <th></th>\n",
       "      <th>variables</th>\n",
       "      <th>p</th>\n",
       "      <th>log(1/p)</th>\n",
       "      <th>H</th>\n",
       "    </tr>\n",
       "  </thead>\n",
       "  <tbody>\n",
       "    <tr>\n",
       "      <th>0</th>\n",
       "      <td>x</td>\n",
       "      <td>0.375</td>\n",
       "      <td>1.415037</td>\n",
       "      <td>0.530639</td>\n",
       "    </tr>\n",
       "    <tr>\n",
       "      <th>1</th>\n",
       "      <td>nx</td>\n",
       "      <td>0.625</td>\n",
       "      <td>0.678072</td>\n",
       "      <td>0.423795</td>\n",
       "    </tr>\n",
       "    <tr>\n",
       "      <th>2</th>\n",
       "      <td>y</td>\n",
       "      <td>0.375</td>\n",
       "      <td>1.415037</td>\n",
       "      <td>0.530639</td>\n",
       "    </tr>\n",
       "    <tr>\n",
       "      <th>3</th>\n",
       "      <td>ny</td>\n",
       "      <td>0.625</td>\n",
       "      <td>0.678072</td>\n",
       "      <td>0.423795</td>\n",
       "    </tr>\n",
       "  </tbody>\n",
       "</table>\n",
       "</div>"
      ],
      "text/plain": [
       "  variables      p  log(1/p)         H\n",
       "0         x  0.375  1.415037  0.530639\n",
       "1        nx  0.625  0.678072  0.423795\n",
       "2         y  0.375  1.415037  0.530639\n",
       "3        ny  0.625  0.678072  0.423795"
      ]
     },
     "execution_count": 39,
     "metadata": {},
     "output_type": "execute_result"
    }
   ],
   "source": [
    "df5 = pd.DataFrame({\n",
    "    'variables':['x','nx','y','ny'],\n",
    "    'p':[0.250+0.125,1-(0.250+0.125),0.250+0.125,1-(0.250+0.125)]\n",
    "})\n",
    "\n",
    "df5['log(1/p)'] = np.log2(1/df5['p'])\n",
    "df5['H'] = df5['p']*df5['log(1/p)']\n",
    "df5"
   ]
  },
  {
   "cell_type": "code",
   "execution_count": 40,
   "id": "149c4c88",
   "metadata": {},
   "outputs": [
    {
     "data": {
      "text/plain": [
       "0.0"
      ]
     },
     "execution_count": 40,
     "metadata": {},
     "output_type": "execute_result"
    }
   ],
   "source": [
    "0.53 + 0.53 - (0.53+0.53)"
   ]
  }
 ],
 "metadata": {
  "kernelspec": {
   "display_name": "Python 3",
   "language": "python",
   "name": "python3"
  },
  "language_info": {
   "codemirror_mode": {
    "name": "ipython",
    "version": 3
   },
   "file_extension": ".py",
   "mimetype": "text/x-python",
   "name": "python",
   "nbconvert_exporter": "python",
   "pygments_lexer": "ipython3",
   "version": "3.8.8"
  }
 },
 "nbformat": 4,
 "nbformat_minor": 5
}
