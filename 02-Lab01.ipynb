{
 "cells": [
  {
   "cell_type": "markdown",
   "metadata": {},
   "source": [
    "# Lab 1\n",
    "\n",
    "In this lab session, you will take the first steps of moving from a problem to an algorithmic solution. An algorithm is a collection of instructions, a recipe to complete a task. For this session, we will use plain English as our \"programming\" language. These tasks will also help you explore Jupyter Notebooks.\n",
    "\n",
    "Once you are done with your lab work, also save a copy of the notebook to some local device as a backup.\n",
    "\n",
    "## Preparation\n",
    "\n",
    "Familiarise yourself with established sorting algorithms in order to solve the following lab questions, which require sorting of different data types. You can resort to https://en.wikipedia.org/wiki/Sorting_algorithm, or pick another source of information of your choice. Spend about 15 minutes on this.\n",
    "\n",
    "## Task 1: Sorting Shoes\n",
    "\n",
    "Formulate an algorithm that is capable of sorting 1 million pairs of shoes by increasing size. Write down the necessary steps, assuming that a truck has left behind a pile of pairs of shoes. Provide an estimate on how long your approach would take. Express this estimate as a function of the number of pairs of shoes.\n",
    "\n",
    "> Solution: The first pair of shoes that you take will be both the maximum and minimum size of shoe, the second pair will either be larger or smaller than that first pair and so will become either the maximum or minimum. The third pair could be inbetween or again either the maximum or minimum. In the beginning it will be relatively quick to sort through the pairs of shoes as you can quickly tell whether it is larger or smaller to the pairs you have already organised. Once you have a range of all shoe sizes within your sorted list (say from shoe size 38 to 46), rather than finding where the new shoe fits inbetween, you can simply put it within the group of its specific size shoe. For example, if you have already found a size 38 shoe, every other size 38 can be placed with it. In this way it would be a stable sort, as you are sorting by shoe size specifically the relative order will be preserved i.e if one comes before the other in the input, it will come before the other in the output.\n",
    "For the time this would take, say it takes 1 second to sort a shoe the result would be t = N/1, so 1 million shoes/1 = 1 million seconds but then as you the number of shoes that you have sorted increases the rate could vary.\n",
    "\n",
    "## Task 2: Sorting Integers\n",
    "\n",
    "We will now move to the more abstract scenario of sort numeric values. The task now is to be able to sort an arbitrary number (possibly very large) number of integers. Again, write down the necessary steps and provide an estimate of the number of steps required to sort $N$ integers, where $N$ is some positive number.\n",
    "> Solution: Using merge sort, you take every separate integer and compare it to another random integer. You then sort this pair of integers based on size and merge them together, then compare it to another pair of integers and merge them together again until eventually all the integers have been sorted based on size. In the beginning it will be quicker to sort the groups of integers as the groups will be smaller, over time the groups will get larger as they are merged together so it will take longer to recombine them. The formula is Θ(n log n) but I am not 100% certain what that means.\n",
    "\n",
    "## Task 3: Efficient Lab Processes\n",
    "\n",
    "Consider the following scenario: You are running a biochemical lab, and receive large numbers of samples each day. For each sample, you need to return whether the sample contains a particular pathogen. You have access to a machine that needs at least 1 ml of a given sample to analyse, but can also process up to 1 litre at a time. An analysis run takes 10 minutes. If you receive 10,000 samples per day, which algorithm could you follow to cope, and which assumptions do you need to make? Write down the algorithm and any assumptions that you make.\n",
    "> Solution: You would have to assume that you are using the maximum 1 litre of samples for every run, which contains 1000 samples of 1ml to analyse. This way would be most efficient for time as it would take 10 runs of 10 minutes to process every sample which equals 100 minutes. I'm not 100% sure that I'm interpreting the question correctly and that the machine can run tests on more than one sample at a time.  \n"
   ]
  },
  {
   "cell_type": "code",
   "execution_count": null,
   "metadata": {},
   "outputs": [],
   "source": []
  }
 ],
 "metadata": {
  "kernelspec": {
   "display_name": "Python 3 (ipykernel)",
   "language": "python",
   "name": "python3"
  },
  "language_info": {
   "codemirror_mode": {
    "name": "ipython",
    "version": 3
   },
   "file_extension": ".py",
   "mimetype": "text/x-python",
   "name": "python",
   "nbconvert_exporter": "python",
   "pygments_lexer": "ipython3",
   "version": "3.8.11"
  }
 },
 "nbformat": 4,
 "nbformat_minor": 4
}
