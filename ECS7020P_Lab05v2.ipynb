{
  "nbformat": 4,
  "nbformat_minor": 0,
  "metadata": {
    "colab": {
      "name": "ECS7020P_Lab05.ipynb",
      "provenance": [],
      "collapsed_sections": [],
      "include_colab_link": true
    },
    "kernelspec": {
      "name": "python3",
      "display_name": "Python 3"
    }
  },
  "cells": [
    {
      "cell_type": "markdown",
      "metadata": {
        "id": "view-in-github",
        "colab_type": "text"
      },
      "source": [
        "<a href=\"https://colab.research.google.com/github/elliot-linsey/QMUL/blob/main/ECS7020P_Lab05v2.ipynb\" target=\"_parent\"><img src=\"https://colab.research.google.com/assets/colab-badge.svg\" alt=\"Open In Colab\"/></a>"
      ]
    },
    {
      "cell_type": "markdown",
      "metadata": {
        "id": "IC6Bpw_gvTrw"
      },
      "source": [
        "# Lab 5: Exploring classification\n",
        "\n",
        "A classifier is a model that predicts a **discrete label** when shown a set of **predictors**. In machine learning, we build classifiers using datasets extracted from our target population. \n",
        "\n",
        "Classifiers can be defined as partitions of the **predictor space** into **decision regions**. A decision region is a region within the predictor space such that any sample that lies within it is assigned the same label. Decision regions are separated by **decision boundaries** and therefore, it is common to define classifiers using their decision boundaries, for instance:\n",
        "- If sample $x_i$ lies on one side of the boundary, it is classified as <font color=red> **O** </font>.\n",
        "- If $x_i$ lies on the other side, it is classified as <font color=blue> **O** </font>.\n",
        "\n",
        "Even though decision boundaries and regions define classifiers, not every classifier uses explicitely these notions to label samples. The kNN algorithm is one example of this: to classify a sample kNN doesn't look for the boundary, but the sample's k nearest neighbours.\n",
        "\n",
        "In this lab we will explore the basics of classification. We will first consider **linear classifiers**, which produce decision regions separated by linear boundaries. We will then use the **logistic function** to create a notion of classifier \"certainty\", which then we will use to define the **logistic regression classifier**.  We will finally implement two **optimisation approaches** to identify the logistic regression solution, namely **exhaustive search** and **gradient descent**. \n",
        "\n",
        "\n",
        "\n",
        "\n"
      ]
    },
    {
      "cell_type": "markdown",
      "metadata": {
        "id": "_vDXuyrCvk8c"
      },
      "source": [
        "# Linear classifiers\n",
        "\n",
        "Linear classifiers partition the predictor space into decision regions separated by linear boundaries (e.g. straight lines). Let's illustrate linear classifiers using **a binary classifier** (two classes) in a **2D predictor space**.\n",
        "\n",
        "Let $x_1$ and $x_2$ be the predictors. A linear boundary in the predictor space is defined by the equation:\n",
        "\n",
        "$w_0 + w_1 x_1 + w_2 x_2 =0$,\n",
        "\n",
        "where $w_0$, $w_1$ and $w_2$ are the coefficients of the classifier. \n",
        "\n",
        "Using **vector notation** (this is much more convenient), we create the **extended predictor vector** $\\boldsymbol{x} = [1, x_1, x_2]^T$ and the **coefficients vector** $\\boldsymbol{w} = [w_0, w_1, w_2]^T$, and use them to express the linear boundary by the equivalent equation\n",
        "\n",
        "$\\boldsymbol{x}^T \\boldsymbol{w} = 0$.\n",
        "\n",
        "If you do not understand why the two previous equations are equivalent, please **revise the material on basic mathematical notation and matrix algebra now**. \n"
      ]
    },
    {
      "cell_type": "markdown",
      "metadata": {
        "id": "GKq-SXZLW8S5"
      },
      "source": [
        "Consider the classifier defined by the coefficients vector $\\boldsymbol{w} = [-0.25, -1, 1]^T$. Can you plot it on a piece of paper? Try to do it before continuing to check your understanding. \n",
        "\n",
        "Notice that by making $\\boldsymbol{x}^T \\boldsymbol{w} = 0$, we get\n",
        "\n",
        "\\begin{eqnarray}\n",
        "\\boldsymbol{x}^T \\boldsymbol{w} &=& [1, x_1, x_2] [-0.25, -1, 1]^T \\\\\n",
        "&=& -0.25\\times 1 + (-1)\\times x_1 + 1\\times x_2 \\\\\n",
        "&=& -0.25 - x_1 + x_2 \\\\\n",
        "&=& 0, \\\\ \\\\\n",
        "\\rightarrow x_2 &=& x_1 + 0.25.\n",
        "\\end{eqnarray} \n",
        "\n",
        "Hence the boundary $\\boldsymbol{w} = [-0.25, -1, 1]^T$ is a straight line with a 45-degree slope and 0.25 intercept. \n",
        "\n",
        "Let's use the values 0 and 1 as labels for the two classes. Using numerical values for labels is very convenient from an implementation perspective. Our classifier will work as follows:\n",
        "\n",
        "- If $\\boldsymbol{x}_i^T \\boldsymbol{w} > 0$, then $\\hat{y}_i = 1$.\n",
        "- If $\\boldsymbol{x}_i^T \\boldsymbol{w} < 0$, then $\\hat{y}_i = 0$.\n",
        "\n",
        "Let's classify the following two samples:\n",
        "\n",
        "- First sample: $x_1 = 1$, $x_2 = 2$. \n",
        "- Second sample: $x_1 = 2$, $x_2 = 1$.\n",
        "\n",
        "You can do this easily by hand (try it!), but let's use the cell bellow:"
      ]
    },
    {
      "cell_type": "code",
      "metadata": {
        "colab": {
          "base_uri": "https://localhost:8080/"
        },
        "id": "Mqrtx4_pHd5q",
        "outputId": "46593d74-a875-4bab-ae8c-153d6a522559"
      },
      "source": [
        "xs = [1,1,2]\n",
        "ws = [-0.25,-1,1]\n",
        "\n",
        "xtw = (-0.25*1) + (-1*1) + (1*2)\n",
        "xtw = -0.25 + -1 + 2\n",
        "xtw"
      ],
      "execution_count": 4,
      "outputs": [
        {
          "output_type": "execute_result",
          "data": {
            "text/plain": [
              "0.75"
            ]
          },
          "metadata": {},
          "execution_count": 4
        }
      ]
    },
    {
      "cell_type": "code",
      "metadata": {
        "colab": {
          "base_uri": "https://localhost:8080/"
        },
        "id": "Y_bb4DtEJBxL",
        "outputId": "24306b89-6458-47fb-bdef-cbc54ca48819"
      },
      "source": [
        "xs = [1,2,1]\n",
        "ws = [-0.25,-1,1]\n",
        "\n",
        "xtw = (-0.25*1) + (-1*2) + (1*1)\n",
        "xtw = -0.25 + -2 + 1\n",
        "xtw"
      ],
      "execution_count": 5,
      "outputs": [
        {
          "output_type": "execute_result",
          "data": {
            "text/plain": [
              "-1.25"
            ]
          },
          "metadata": {},
          "execution_count": 5
        }
      ]
    },
    {
      "cell_type": "code",
      "metadata": {
        "id": "f1XweYWDW7BU",
        "colab": {
          "base_uri": "https://localhost:8080/"
        },
        "outputId": "4cfddacf-3a01-4b49-f762-4de676e3c1f2"
      },
      "source": [
        "import numpy as np\n",
        "import matplotlib.pyplot as plt\n",
        "np.set_printoptions(precision=3)\n",
        "\n",
        "# This is our coefficients vector\n",
        "w = np.array([-0.25, -1, 1], ndmin=2).T\n",
        "\n",
        "# These are the two samples that we are considering\n",
        "firstsample = np.array([1, 1, 2], ndmin=2).T\n",
        "secondsample = np.array([1, 2, 1], ndmin=2).T\n",
        "\n",
        "# These are the predictions\n",
        "firstlabel = 1*(np.dot(firstsample.T,w).item() > 0)\n",
        "secondlabel = 1*(np.dot(secondsample.T,w).item() > 0)\n",
        "\n",
        "print('The predicted label of firstsample, where x1=', firstsample[1], 'and x2=', firstsample[2] ,', is ', firstlabel)\n",
        "print('The predicted label of secondsample, where x1=', secondsample[1], 'and x2=', secondsample[2] ,', is ', secondlabel)"
      ],
      "execution_count": 2,
      "outputs": [
        {
          "output_type": "stream",
          "name": "stdout",
          "text": [
            "The predicted label of firstsample, where x1= [1] and x2= [2] , is  1\n",
            "The predicted label of secondsample, where x1= [2] and x2= [1] , is  0\n"
          ]
        }
      ]
    },
    {
      "cell_type": "markdown",
      "metadata": {
        "id": "oRF_9Y3fXAyv"
      },
      "source": [
        "We have used the trick of multiplying by 1 (`1*`) to convert the boolean values True and False to the numerical values 1 and 0, and `item()` to extract a scalar value from a (1,1) NumPy array. Go ahead and run the cell again without `item()` first and then without `1*` ans see what you obtain. It will be the **same result**, but **different representation**.\n",
        "\n",
        "To predict the label of a large number of samples, instead of operating on each sample separately, we can create a **design matrix** $\\boldsymbol{X}$ and multiply it by $\\boldsymbol{w}$. Note that in a design matrix, each row is the extended vector of one of the samples. A vector of predicted labels $\\boldsymbol{\\hat{y}}$ can then be obtained by comparing the result of the product $\\boldsymbol{X} \\boldsymbol{w}$ with 0.\n",
        "\n",
        "Let's do this for a collection of 25 samples on a rectangular grid in the range $-1 \\leq x_1 \\leq 1$ and $-1 \\leq x_2 \\leq 1$. We first build the grid using `meshgrid()` as follows:  "
      ]
    },
    {
      "cell_type": "code",
      "metadata": {
        "id": "N6C4_OgDvsCl",
        "colab": {
          "base_uri": "https://localhost:8080/",
          "height": 1000
        },
        "outputId": "bd77c611-74c3-46fb-d9e4-666f37b85885"
      },
      "source": [
        "# Here we create a dataset consiting of 25 samples on a rectangular grid\n",
        "coor1 = np.linspace(-1, 1, 5)\n",
        "coor2 = np.linspace(-1, 1, 5)\n",
        "\n",
        "x1_mesh, x2_mesh = np.meshgrid(coor1, coor2)\n",
        "#print(x1_mesh)\n",
        "x1 = x1_mesh.ravel()\n",
        "x2 = x2_mesh.ravel()\n",
        "\n",
        "print(\"My 25 grid samples are (x1, x2): \\n\", np.column_stack([x1, x2]))\n",
        "\n",
        "\n",
        "# The design matrix is created here\n",
        "X = np.column_stack([np.ones(x1.shape), x1, x2])\n",
        "\n",
        "print(\"My design matrix is \\n\", X)\n",
        "\n",
        "\n",
        "\n",
        "# Finally, we plot the 25 samples on the predictor space\n",
        "plt.scatter(x1, x2)\n",
        "plt.title(\"Samples in the predictor space\")\n",
        "plt.xlabel(\"x1\", fontsize=18)\n",
        "plt.ylabel(\"x2\", fontsize=18)\n",
        "plt.xlim(-1.5,1.5)\n",
        "plt.ylim(-1.5,1.5)\n",
        "plt.gca().set_aspect('equal', adjustable='box')\n",
        "plt.grid(True)\n",
        "plt.show()"
      ],
      "execution_count": 12,
      "outputs": [
        {
          "output_type": "stream",
          "name": "stdout",
          "text": [
            "My 25 grid samples are (x1, x2): \n",
            " [[-1.  -1. ]\n",
            " [-0.5 -1. ]\n",
            " [ 0.  -1. ]\n",
            " [ 0.5 -1. ]\n",
            " [ 1.  -1. ]\n",
            " [-1.  -0.5]\n",
            " [-0.5 -0.5]\n",
            " [ 0.  -0.5]\n",
            " [ 0.5 -0.5]\n",
            " [ 1.  -0.5]\n",
            " [-1.   0. ]\n",
            " [-0.5  0. ]\n",
            " [ 0.   0. ]\n",
            " [ 0.5  0. ]\n",
            " [ 1.   0. ]\n",
            " [-1.   0.5]\n",
            " [-0.5  0.5]\n",
            " [ 0.   0.5]\n",
            " [ 0.5  0.5]\n",
            " [ 1.   0.5]\n",
            " [-1.   1. ]\n",
            " [-0.5  1. ]\n",
            " [ 0.   1. ]\n",
            " [ 0.5  1. ]\n",
            " [ 1.   1. ]]\n",
            "My design matrix is \n",
            " [[ 1.  -1.  -1. ]\n",
            " [ 1.  -0.5 -1. ]\n",
            " [ 1.   0.  -1. ]\n",
            " [ 1.   0.5 -1. ]\n",
            " [ 1.   1.  -1. ]\n",
            " [ 1.  -1.  -0.5]\n",
            " [ 1.  -0.5 -0.5]\n",
            " [ 1.   0.  -0.5]\n",
            " [ 1.   0.5 -0.5]\n",
            " [ 1.   1.  -0.5]\n",
            " [ 1.  -1.   0. ]\n",
            " [ 1.  -0.5  0. ]\n",
            " [ 1.   0.   0. ]\n",
            " [ 1.   0.5  0. ]\n",
            " [ 1.   1.   0. ]\n",
            " [ 1.  -1.   0.5]\n",
            " [ 1.  -0.5  0.5]\n",
            " [ 1.   0.   0.5]\n",
            " [ 1.   0.5  0.5]\n",
            " [ 1.   1.   0.5]\n",
            " [ 1.  -1.   1. ]\n",
            " [ 1.  -0.5  1. ]\n",
            " [ 1.   0.   1. ]\n",
            " [ 1.   0.5  1. ]\n",
            " [ 1.   1.   1. ]]\n"
          ]
        },
        {
          "output_type": "display_data",
          "data": {
            "image/png": "[encoded data removed]",
            "text/plain": [
              "<Figure size 432x288 with 1 Axes>"
            ]
          },
          "metadata": {
            "needs_background": "light"
          }
        }
      ]
    },
    {
      "cell_type": "markdown",
      "metadata": {
        "id": "45nArVRFcokt"
      },
      "source": [
        "Let's obtain and plot the labels predicted by the classifier $\\boldsymbol{w} = [-0.25, -1, 1]^T$:"
      ]
    },
    {
      "cell_type": "code",
      "metadata": {
        "id": "E_qsK0kkdg3r",
        "colab": {
          "base_uri": "https://localhost:8080/",
          "height": 303
        },
        "outputId": "607a4aa1-c3b8-4617-d4b3-330b014972f3"
      },
      "source": [
        "# This line of code produces the predicted labels for all the samples in our dataset\n",
        "yPred = 1*(np.dot(X, w) > 0)\n",
        "#print(yPred)\n",
        "\n",
        "# Plots each sample with a colour-coded (predicted) label\n",
        "scatter = plt.scatter(x1, x2, c=yPred, cmap=plt.get_cmap('bwr'))\n",
        "plt.title(\"Linear classifier and predicted labels\")\n",
        "plt.xlabel(\"x1\", fontsize=18)\n",
        "plt.ylabel(\"x2\", fontsize=18)\n",
        "plt.xlim(-1.5,1.5)\n",
        "plt.ylim(-1.5,1.5)\n",
        "plt.legend(handles=scatter.legend_elements()[0], labels=[\"0\", \"1\"])\n",
        "\n",
        "# Plots the decision boundary\n",
        "x1_L = np.linspace(-1.5, 1.5, 5)\n",
        "x2_L = x1_L + 0.25\n",
        "plt.plot(x1_L, x2_L)\n",
        "plt.gca().set_aspect('equal', adjustable='box')\n",
        "plt.grid(True)\n",
        "\n",
        "plt.show()"
      ],
      "execution_count": 16,
      "outputs": [
        {
          "output_type": "display_data",
          "data": {
            "image/png": "[encoded data removed]",
            "text/plain": [
              "<Figure size 432x288 with 1 Axes>"
            ]
          },
          "metadata": {
            "needs_background": "light"
          }
        }
      ]
    },
    {
      "cell_type": "markdown",
      "metadata": {
        "id": "RdAXNxfTooJw"
      },
      "source": [
        "We can represent the decision regions by evaluating a dense grid of points (100 $\\times$ 100 in the cell below) and plotting their predicted labels as an image using `imshow()`:"
      ]
    },
    {
      "cell_type": "code",
      "metadata": {
        "id": "c1GW-yjqkq8t",
        "colab": {
          "base_uri": "https://localhost:8080/",
          "height": 291
        },
        "outputId": "d62b8fbf-cc04-406c-e2cb-cacf7e522f30"
      },
      "source": [
        "# Creates 100x100 samples on a rectangular grid, creates a design matrix and computes the predicted label\n",
        "coor1 = np.linspace(-1, 1, 100)\n",
        "coor2 = np.linspace(-1, 1, 100)\n",
        "x1_100, x2_100 = np.meshgrid(coor1, coor2)\n",
        "X = np.column_stack([np.ones(x1_100.ravel().shape), x1_100.ravel(), x2_100.ravel()])\n",
        "yPred = 1*(np.dot(X, w) > 0)\n",
        "\n",
        "# Plots the predicted labels for each sample as an image, allowing us to visualise the decision regions\n",
        "plt.imshow(yPred.reshape((100, 100)), \n",
        "                          cmap = 'bwr', \n",
        "                          interpolation='none', \n",
        "                          extent = (-1, 1, -1, 1), \n",
        "                          origin = 'lower', \n",
        "                          alpha = 0.9)\n",
        "\n",
        "plt.xlabel(\"x1\", fontsize=18)\n",
        "plt.ylabel(\"x2\", fontsize=18)\n",
        "plt.grid(True)\n",
        "plt.gca().set_aspect('equal', adjustable='box')\n",
        "plt.legend(handles=scatter.legend_elements()[0], labels=[\"Label 0\", \"Label 1\"])\n",
        "plt.show()"
      ],
      "execution_count": 20,
      "outputs": [
        {
          "output_type": "display_data",
          "data": {
            "image/png": "[encoded data removed]",
            "text/plain": [
              "<Figure size 432x288 with 1 Axes>"
            ]
          },
          "metadata": {
            "needs_background": "light"
          }
        }
      ]
    },
    {
      "cell_type": "markdown",
      "metadata": {
        "id": "UXZ7pdqfvsfD"
      },
      "source": [
        "# Logistic function: The certainty of a linear classifier\n",
        "\n",
        "Now that we know how to define, visualise and use a linear classifier, let's create the notion of classifier's certainty using the **logistic function** (also known as expit or sigmoid) $p(d)$:\n",
        "\n",
        "$$\n",
        "p(d) =\\frac{e^d}{e^d + 1} = \\frac{1}{1 + e^{-d}}\n",
        "$$\n",
        "\n",
        "Let's plot it first (we could easily implement it ourselves, but we will just use the `expit` function from the `scipy` scientific library):"
      ]
    },
    {
      "cell_type": "code",
      "metadata": {
        "id": "WHqP6800Iy3a",
        "colab": {
          "base_uri": "https://localhost:8080/",
          "height": 301
        },
        "outputId": "5493323d-4187-4206-8e78-d229fd3e5b25"
      },
      "source": [
        "from scipy.special import expit\n",
        "\n",
        "d = np.linspace(-10, 10, 1000)\n",
        "\n",
        "plt.title(\"The logistic function\")\n",
        "plt.plot(d, expit(d), linewidth = 3)\n",
        "plt.xlabel('$d$', fontsize=16)\n",
        "plt.ylabel('$p(d)$', fontsize=16)\n",
        "plt.ylim(0, 1)\n",
        "plt.grid(True)\n",
        "plt.show()"
      ],
      "execution_count": 21,
      "outputs": [
        {
          "output_type": "display_data",
          "data": {
            "image/png": "[encoded data removed]",
            "text/plain": [
              "<Figure size 432x288 with 1 Axes>"
            ]
          },
          "metadata": {
            "needs_background": "light"
          }
        }
      ]
    },
    {
      "cell_type": "markdown",
      "metadata": {
        "id": "ktxkiwh7JdTk"
      },
      "source": [
        "Notice that: \n",
        "- $p(d) \\rightarrow 1$ as $d \\rightarrow \\infty$, \n",
        "- $p(0) = 0.5$, \n",
        "- $p(d) \\rightarrow 0$ as $d \\rightarrow -\\infty$.\n",
        "\n",
        "In classification, the quantity $\\boldsymbol{x}^T\\boldsymbol{w}$ can be interpreted as a distance between the sample $\\boldsymbol{x}$ and the boundary. Setting $d=\\boldsymbol{x}^T\\boldsymbol{w}$, we will use the quantity $p(\\boldsymbol{x}^T\\boldsymbol{w})$ to measure a classifier's certainty that a sample $\\boldsymbol{x}$ belongs to one of the classes.\n",
        "\n",
        "We will define a new function `p(X, w)` corresponding to the quantity $p(\\boldsymbol{x}^T\\boldsymbol{w})$: "
      ]
    },
    {
      "cell_type": "code",
      "metadata": {
        "id": "ooZ1HJkJuQ2s"
      },
      "source": [
        "def p(X, w):\n",
        "  return expit(np.dot(X, w))"
      ],
      "execution_count": 22,
      "outputs": []
    },
    {
      "cell_type": "markdown",
      "metadata": {
        "id": "YJ2A5eUluRbz"
      },
      "source": [
        "Let's see how we can use the logistic function to define the notion of certainty in classifiers. We will first create a new linear classifier defined by the coefficients $\\boldsymbol{w} = [0.25, -1, 0]^T$ and show the decision regions that it defines:"
      ]
    },
    {
      "cell_type": "code",
      "metadata": {
        "id": "4xTzyG4TNaLx"
      },
      "source": [
        "ws = [0.25, -1, 0]\n",
        "xs = [1, x1, x2]\n",
        "\n",
        "xtw = (1*0.25) + (-1x1) + (0x2)\n",
        "xtw = 0.25 + -1x1\n",
        "1x1 = 0.25\n",
        "\n"
      ],
      "execution_count": null,
      "outputs": []
    },
    {
      "cell_type": "code",
      "metadata": {
        "id": "lMILGT601QsD",
        "colab": {
          "base_uri": "https://localhost:8080/",
          "height": 291
        },
        "outputId": "c0a8df22-15d2-4ae4-b720-26b5c6953948"
      },
      "source": [
        "# Coefficients of the new classifier\n",
        "w = np.array([0.25, -1, 0], ndmin=2).T\n",
        "\n",
        "# 100x100 samples used to visualise the decision regions, design matrix and predicted labels for each sample\n",
        "coor1 = np.linspace(-2, 2, 100)\n",
        "coor2 = np.linspace(-2, 2, 100)\n",
        "x1, x2 = np.meshgrid(coor1, coor2)\n",
        "X = np.column_stack([np.ones(x1.ravel().shape), x1.ravel(), x2.ravel()])\n",
        "yPred = 1*(np.dot(X, w) > 0)\n",
        "\n",
        "# Shows decision regiones by showing as an image the predicted label of the 100x100 samples\n",
        "image = plt.imshow(yPred.reshape((100, 100)), \n",
        "                          cmap = 'bwr', \n",
        "                          interpolation='none', \n",
        "                          extent = (-2, 2, -2, 2), \n",
        "                          origin = 'lower', \n",
        "                          alpha = 0.9)\n",
        "\n",
        "plt.xlabel(\"x1\", fontsize=18)\n",
        "plt.ylabel(\"x2\", fontsize=18)\n",
        "plt.grid(True)\n",
        "plt.gca().set_aspect('equal', adjustable='box')\n",
        "plt.legend(handles=scatter.legend_elements()[0], labels=[\"Label 0\", \"Label 1\"])\n",
        "plt.show()\n"
      ],
      "execution_count": 25,
      "outputs": [
        {
          "output_type": "display_data",
          "data": {
            "image/png": "[encoded data removed]",
            "text/plain": [
              "<Figure size 432x288 with 1 Axes>"
            ]
          },
          "metadata": {
            "needs_background": "light"
          }
        }
      ]
    },
    {
      "cell_type": "markdown",
      "metadata": {
        "id": "gYmhptPc5sRP"
      },
      "source": [
        "Would you have obtained the same decision regions by hand? Make sure that you are capable of identifying linear boundaries in a 2D predictor space using the coefficients vector $\\boldsymbol{w}$.\n",
        "\n",
        "Let's now consider 7 samples that **belong to class 1**. The quantity $p(\\boldsymbol{x}^T\\boldsymbol{w})$ corresponds to the classifier's certainty that each sample belongs to class 1. We can now plot the 7 sample along with the classifier's certainty for each one of them: \n"
      ]
    },
    {
      "cell_type": "code",
      "metadata": {
        "id": "exjSCq8yJWjr",
        "colab": {
          "base_uri": "https://localhost:8080/",
          "height": 291
        },
        "outputId": "e44a944a-8e24-4d3a-c6db-086bfc3954ba"
      },
      "source": [
        "# 7 samples\n",
        "x1 = np.array([1.5, 1, 0.5,  0, -0.5, -1, -1.5])\n",
        "x2 = np.array(np.zeros(x1.shape))\n",
        "\n",
        "# Classifier's certainty that each sample belongs to class 1\n",
        "X = np.column_stack([np.ones(x1.shape), x1, x2])\n",
        "certainty_1 = p(X, w)\n",
        "\n",
        "\n",
        "# Visualisation of the classifier, sample, and certainty values\n",
        "image = plt.imshow(yPred.reshape((100, 100)), \n",
        "                          cmap = 'bwr', \n",
        "                          interpolation='none', \n",
        "                          extent = (-2, 2, -2, 2), \n",
        "                          origin = 'lower', \n",
        "                          alpha = 0.2)\n",
        "\n",
        "plt.scatter(x1, x2, color = 'red')\n",
        "plt.xlabel(\"x1\", fontsize=18)\n",
        "plt.ylabel(\"x2\", fontsize=18)\n",
        "plt.xlim(-2,2)\n",
        "plt.ylim(-2,2)\n",
        "plt.gca().set_aspect('equal', adjustable='box')\n",
        "plt.grid(True)\n",
        "\n",
        "\n",
        "for i, c1 in enumerate(certainty_1):\n",
        "    plt.annotate(round(c1.item(),2), (x1[i], x2[i]))\n",
        "\n",
        "plt.show()\n"
      ],
      "execution_count": 26,
      "outputs": [
        {
          "output_type": "display_data",
          "data": {
            "image/png": "[encoded data removed]",
            "text/plain": [
              "<Figure size 432x288 with 1 Axes>"
            ]
          },
          "metadata": {
            "needs_background": "light"
          }
        }
      ]
    },
    {
      "cell_type": "markdown",
      "metadata": {
        "id": "jG_Ir1P69b2H"
      },
      "source": [
        "If the same samples **belong to class 0 instead**, the classifier's certainty that they belong to class 0 is computed as $1 - p(\\boldsymbol{x}^T\\boldsymbol{w})$:"
      ]
    },
    {
      "cell_type": "code",
      "metadata": {
        "id": "jGVVVizVjbQq",
        "colab": {
          "base_uri": "https://localhost:8080/",
          "height": 291
        },
        "outputId": "5b654727-5a10-441c-e727-d2eec8b65b6e"
      },
      "source": [
        "# Classifier's certainty that each sample belongs to 0\n",
        "certainty_0 = 1-p(X, w)\n",
        "\n",
        "# Visualisation of the classifier, samples and their certainties\n",
        "image = plt.imshow(yPred.reshape((100, 100)), \n",
        "                          cmap = 'bwr', \n",
        "                          interpolation='none', \n",
        "                          extent = (-2, 2, -2, 2), \n",
        "                          origin = 'lower', \n",
        "                          alpha = 0.2)\n",
        "\n",
        "plt.scatter(x1, x2, color = 'blue')\n",
        "plt.xlabel(\"x1\", fontsize=18)\n",
        "plt.ylabel(\"x2\", fontsize=18)\n",
        "plt.xlim(-2,2)\n",
        "plt.ylim(-2,2)\n",
        "plt.gca().set_aspect('equal', adjustable='box')\n",
        "plt.grid(True)\n",
        "\n",
        "for i, c1 in enumerate(certainty_0):\n",
        "    plt.annotate(round(c1.item(),2), (x1[i], x2[i]))\n",
        "\n",
        "plt.show()"
      ],
      "execution_count": 27,
      "outputs": [
        {
          "output_type": "display_data",
          "data": {
            "image/png": "[encoded data removed]",
            "text/plain": [
              "<Figure size 432x288 with 1 Axes>"
            ]
          },
          "metadata": {
            "needs_background": "light"
          }
        }
      ]
    },
    {
      "cell_type": "markdown",
      "metadata": {
        "id": "UMPgvIHh92pn"
      },
      "source": [
        "As you can see, the certainty value for a sample that lies on the correct decision region is greater than 0.5, and increases towards 1 as we move away from the boundary. Samples that lie on the wrong decision region are assigned a certainty below 0.5, which decreases towards 0 as we move away from the boundary.\n",
        "\n",
        "In addition to computing the classifer's certainty for each individual sample, we can also do it for an entire dataset by simply multiplying the individual certainties. The resulting quantity $L$ is known as the **likelihood**:\n",
        "\n",
        "$$\n",
        "L=\\prod_{y_i=0}\\left(1-p(\\boldsymbol{x}_i^T \\boldsymbol{w})\\right) \\prod_{y_i=1}p(\\boldsymbol{x}_i^T \\boldsymbol{w})\n",
        "$$\n",
        "\n",
        "The **negative log-likelihood** is a more convenient way to quantify the classifier's certainty: \n",
        "\n",
        "$$\n",
        "-\\log L(\\boldsymbol{w})=-\\sum_{y_i=0}\\log\\left(1-p(\\boldsymbol{x}_i^T \\boldsymbol{w})\\right) -\\sum_{y_i=1}\\log p(\\boldsymbol{x}_i^T \\boldsymbol{w})\\\\\n",
        "= -\\sum_{y_i}[(1-y_i)\\log\\left(1-p(\\boldsymbol{x}_i^T \\boldsymbol{w})\\right) +y_i\\log p(\\boldsymbol{x}_i^T \\boldsymbol{w})]\n",
        "$$\n",
        "\n"
      ]
    },
    {
      "cell_type": "markdown",
      "metadata": {
        "id": "9nRS5bNYiVRd"
      },
      "source": [
        "In the following cell, we will define several new functions that implement the code for predicting labels and calculating the likelihood, negative log-likelihoods and accuracy of a classifier:"
      ]
    },
    {
      "cell_type": "code",
      "metadata": {
        "id": "xtdmlSNgXiEi"
      },
      "source": [
        "# Returns the predicted labels\n",
        "def prediction(X, w):\n",
        "  return 1*(np.dot(X, w) > 0)\n",
        "\n",
        "# Computes the likelihood\n",
        "def likelihood(X, w, y):\n",
        "  return np.prod(y*p(X, w) + (1-y)*(1-p(X, w)))\n",
        "\n",
        "# Computes the negative log-likelihood\n",
        "def negLogLikelihood(X, w, y):\n",
        "  return -np.sum(y * np.log(p(X,w)) + (1 - y) * np.log(1 - p(X,w)))\n",
        "\n",
        "# Computes the accuracy by comparing true labels y and predicted labels yP\n",
        "def accuracy(y, yP):\n",
        "  return np.sum(y==yP)/len(y)"
      ],
      "execution_count": 28,
      "outputs": []
    },
    {
      "cell_type": "markdown",
      "metadata": {
        "id": "d7GvcFSeiSoH"
      },
      "source": [
        "Let's present two different datasets to our classifier and calculate the likelihood $L$, negative log-likelihood $l$, accuracy and error rate for each dataset. The following cell considers the first dataset:"
      ]
    },
    {
      "cell_type": "code",
      "metadata": {
        "id": "bb4Lu9fK91rq",
        "colab": {
          "base_uri": "https://localhost:8080/",
          "height": 525
        },
        "outputId": "e591dbeb-cec6-421b-f8c2-a109099a60a0"
      },
      "source": [
        "\n",
        "# 1st dataset consisting of 9 samples, x1 and x2 are the predictors, y is the TRUE label\n",
        "x1 = np.array([-1, 0, 1, -1,  0, 1, -1, 0, 1], ndmin=2).T\n",
        "x2 = np.array([1.5, 1.5, 1.5,  0, 0, 0, -1.5, -1.5, -1.5], ndmin=2).T\n",
        "y  = np.array([1, 1, 0, 1,  0, 0, 1, 1, 0], ndmin=2).T\n",
        "\n",
        "# Visualisation of the decision regions and samples. The colour of the samples corresponds to the TRUE LABEL\n",
        "image = plt.imshow(yPred.reshape((100, 100)), \n",
        "                          cmap = 'bwr', \n",
        "                          interpolation='none', \n",
        "                          extent = (-2, 2, -2, 2), \n",
        "                          origin = 'lower', \n",
        "                          alpha = 0.2)\n",
        "\n",
        "scatter = plt.scatter(x1, x2, c=y, cmap=plt.get_cmap('bwr'))\n",
        "\n",
        "plt.xlabel(\"x1\", fontsize = 14)\n",
        "plt.ylabel(\"x2\", fontsize = 14)\n",
        "plt.xlim(-2, 2)\n",
        "plt.ylim(-2, 2)\n",
        "plt.grid(alpha=0.2)\n",
        "plt.show()\n",
        "\n",
        "# Desing matrix, predicted label, certainties, likelihoods and negative log-likelihoods\n",
        "X = np.column_stack([np.ones(x1.shape), x1, x2])\n",
        "yP = prediction(X, w)\n",
        "certainty = y*p(X, w) + (1-y)*(1-p(X, w))\n",
        "L = likelihood(X, w, y)\n",
        "l = negLogLikelihood(X, w, y)\n",
        "\n",
        "print(\"The individual certainties for each sample are \\n\", certainty)\n",
        "print(\"The likelihood is L=\", L)\n",
        "print(\"The negative log-likelihood is -log(L)=\",l)\n",
        "\n",
        "# Accuracy and error rate\n",
        "A = accuracy(y, yP)\n",
        "E = 1 - A\n",
        "print(\"The accuracy is \", round(A, 2))\n",
        "print(\"The error rate is \", round(E,2))\n"
      ],
      "execution_count": 29,
      "outputs": [
        {
          "output_type": "display_data",
          "data": {
            "image/png": "[encoded data removed]",
            "text/plain": [
              "<Figure size 432x288 with 1 Axes>"
            ]
          },
          "metadata": {
            "needs_background": "light"
          }
        },
        {
          "output_type": "stream",
          "name": "stdout",
          "text": [
            "The individual certainties for each sample are \n",
            " [[0.777]\n",
            " [0.562]\n",
            " [0.679]\n",
            " [0.777]\n",
            " [0.438]\n",
            " [0.679]\n",
            " [0.777]\n",
            " [0.562]\n",
            " [0.679]]\n",
            "The likelihood is L= 0.020359278561933054\n",
            "The negative log-likelihood is -log(L)= 3.8942185220173493\n",
            "The accuracy is  0.89\n",
            "The error rate is  0.11\n"
          ]
        }
      ]
    },
    {
      "cell_type": "markdown",
      "metadata": {
        "id": "OkUgsjgY_c_l"
      },
      "source": [
        "The cell bellow considers the second dataset:"
      ]
    },
    {
      "cell_type": "code",
      "metadata": {
        "id": "TZK0tGcpHgpn",
        "colab": {
          "base_uri": "https://localhost:8080/",
          "height": 525
        },
        "outputId": "2020ae54-96b9-4553-b552-ecb5ad0fabcc"
      },
      "source": [
        "# 2nd dataset consisting of 9 samples\n",
        "\n",
        "x1 = np.array([1.5, 1.5, 1.5,  0, 0, 0, -1.5, -1.5, -1.5], ndmin=2).T\n",
        "x2 = np.array([-1, 0, 1, -1,  0, 1, -1, 0, 1], ndmin=2).T\n",
        "y  = np.array([1, 1, 0, 1,  0, 0, 1, 1, 0], ndmin=2).T\n",
        "\n",
        "# Visualisation of the decision regions and samples. The colour corresponds to the TRUE LABEL\n",
        "image = plt.imshow(yPred.reshape((100, 100)), \n",
        "                          cmap = 'bwr', \n",
        "                          interpolation='none', \n",
        "                          extent = (-2, 2, -2, 2), \n",
        "                          origin = 'lower', \n",
        "                          alpha = 0.2)\n",
        "\n",
        "scatter = plt.scatter(x1, x2, c=y, cmap=plt.get_cmap('bwr'))\n",
        "\n",
        "plt.xlabel(\"x1\", fontsize = 14)\n",
        "plt.ylabel(\"x2\", fontsize = 14)\n",
        "plt.xlim(-2, 2)\n",
        "plt.ylim(-2, 2)\n",
        "plt.grid(alpha=0.2)\n",
        "\n",
        "plt.show()\n",
        "\n",
        "# Desing matrix, predicted label, certainties, likelihoods and negative log-likelihoods\n",
        "X = np.column_stack([np.ones(x1.shape), x1, x2])\n",
        "yP = prediction(X, w)\n",
        "certainty = y*p(X, w) + (1-y)*(1-p(X, w))\n",
        "L = likelihood(X, w, y)\n",
        "l = negLogLikelihood(X, w, y)\n",
        "\n",
        "print(\"The individual certainties for each sample are \\n\", certainty)\n",
        "print(\"The likelihood is L=\", L)\n",
        "print(\"The negative log-likelihood is -log(L)=\", l)\n",
        "\n",
        "# Accuracy and error rate\n",
        "A = accuracy(y, yP)\n",
        "E = 1 - A\n",
        "print(\"The accuracy is \", round(A, 2))\n",
        "print(\"The error rate is \", round(E,2))"
      ],
      "execution_count": 30,
      "outputs": [
        {
          "output_type": "display_data",
          "data": {
            "image/png": "[encoded data removed]",
            "text/plain": [
              "<Figure size 432x288 with 1 Axes>"
            ]
          },
          "metadata": {
            "needs_background": "light"
          }
        },
        {
          "output_type": "stream",
          "name": "stdout",
          "text": [
            "The individual certainties for each sample are \n",
            " [[0.223]\n",
            " [0.223]\n",
            " [0.777]\n",
            " [0.562]\n",
            " [0.438]\n",
            " [0.438]\n",
            " [0.852]\n",
            " [0.852]\n",
            " [0.148]]\n",
            "The likelihood is L= 0.00044640767453471054\n",
            "The negative log-likelihood is -log(L)= 7.714277954986911\n",
            "The accuracy is  0.44\n",
            "The error rate is  0.56\n"
          ]
        }
      ]
    },
    {
      "cell_type": "markdown",
      "metadata": {
        "id": "Ie9i48nvvyV7"
      },
      "source": [
        "Compare the likelihood, negative log-likelihood, accuracies and error rate values for both datasets. The classifier does a better job with the first dataset. Visually, it is clear that it separates the first dataset better. In addition, the classifier produces a higher likelihood (lower negative log-likelihood) and higher accuracy (lower error rate) when shown the first dataset."
      ]
    },
    {
      "cell_type": "markdown",
      "metadata": {
        "id": "M6dgLx2mdaV5"
      },
      "source": [
        "# Comparing classifiers\n",
        "\n",
        "In the previous section, we have shown two different datasets to the same classifier. We will now consider a single dataset and different linear classifiers. \n",
        "\n",
        "Upload the files `lab5_train.csv` and `lab5_test.csv`. Let's start by plotting the training dataset:"
      ]
    },
    {
      "cell_type": "code",
      "metadata": {
        "id": "-by3d0Ftl5HB",
        "colab": {
          "base_uri": "https://localhost:8080/",
          "height": 450
        },
        "outputId": "d6471b22-a852-40c9-b446-6d85369321d0"
      },
      "source": [
        "import pandas as pd\n",
        "\n",
        "# Loads training and test datasets\n",
        "df_train = pd.read_csv(\"lab5_train.csv\")\n",
        "df_test = pd.read_csv(\"lab5_test.csv\")\n",
        "\n",
        "N = df_train['Label'].size\n",
        "\n",
        "# Stores each attribute in different (N,1) NumPy arrays\n",
        "x1_train = df_train['Attribute_1'].to_numpy().reshape(N,1)\n",
        "x2_train = df_train['Attribute_2'].to_numpy().reshape(N,1)\n",
        "y_train = df_train['Label'].to_numpy().reshape(N,1)\n",
        "\n",
        "\n",
        "\n",
        "# Plots the dataset\n",
        "fig = plt.figure(figsize=(7, 7))\n",
        "\n",
        "scatter = plt.scatter(x1_train, x2_train, c=y_train, cmap=plt.get_cmap('bwr'))\n",
        "plt.xlabel(\"x1\", fontsize = 14)\n",
        "plt.ylabel(\"x2\", fontsize = 14)\n",
        "plt.xlim(-1, 1)\n",
        "plt.ylim(-1, 1)\n",
        "plt.grid(alpha=0.2)\n",
        "plt.legend(handles=scatter.legend_elements()[0], labels=[\"Label 0\", \"Label 1\"])\n",
        "plt.show()\n"
      ],
      "execution_count": 31,
      "outputs": [
        {
          "output_type": "display_data",
          "data": {
            "image/png": "[encoded data removed]",
            "text/plain": [
              "<Figure size 504x504 with 1 Axes>"
            ]
          },
          "metadata": {
            "needs_background": "light"
          }
        }
      ]
    },
    {
      "cell_type": "markdown",
      "metadata": {
        "id": "E674wbDjxnEQ"
      },
      "source": [
        "Let's now consider two linear classifiers A and B defined by the coefficient vectors $\\boldsymbol{w}_A=[0, 1, 1]$ and $\\boldsymbol{w}_B=[0, 1, -1]$, respectively. Let's show their decision regions first:"
      ]
    },
    {
      "cell_type": "code",
      "metadata": {
        "id": "Mt_Fnw2nTpV9"
      },
      "source": [
        "ws = [0,1,1]\n",
        "xs = [1,x1,x2]\n",
        "\n",
        "xtw = (0*1) + (1*x1) + (1*x2)\n",
        "xtw = 0 + x1 + x2\n",
        "x2 = -x1\n",
        "\n",
        "ws = [0,1,-1]\n",
        "xs = [1,x1,x2]\n",
        "\n",
        "xtw = (0*1) + (1*x1) + (-1*x2)\n",
        "xtw = 0 + x1 + -x2\n",
        "x2 = x1"
      ],
      "execution_count": null,
      "outputs": []
    },
    {
      "cell_type": "code",
      "metadata": {
        "id": "yKVHEri8nYRZ",
        "colab": {
          "base_uri": "https://localhost:8080/",
          "height": 589
        },
        "outputId": "6c7cad2e-e9e8-4e5d-ccf6-d235e518ac3f"
      },
      "source": [
        "# Coefficients of the classifier\n",
        "wA = np.array([0, 1, 1], ndmin=2).T\n",
        "wB = np.array([0, 1, -1], ndmin=2).T\n",
        "\n",
        "# 100x100 samples used to visualise the decision regions, design matrix and predicted labels for each sample\n",
        "coor1 = np.linspace(-2, 2, 100)\n",
        "coor2 = np.linspace(-2, 2, 100)\n",
        "x1, x2 = np.meshgrid(coor1, coor2)\n",
        "X = np.column_stack([np.ones(x1.ravel().shape), x1.ravel(), x2.ravel()])\n",
        "yPredA = prediction(X, wA)\n",
        "yPredB = prediction(X, wB)\n",
        "\n",
        "# Shows decision regiones by showing as an image the predicted label of the 100x100 samples\n",
        "image = plt.imshow(yPredA.reshape((100, 100)), \n",
        "                          cmap = 'bwr', \n",
        "                          interpolation='none', \n",
        "                          extent = (-2, 2, -2, 2), \n",
        "                          origin = 'lower', \n",
        "                          alpha = 0.9)\n",
        "\n",
        "plt.title(\"Classifier A\")\n",
        "plt.xlabel(\"x1\", fontsize=18)\n",
        "plt.ylabel(\"x2\", fontsize=18)\n",
        "plt.grid(True)\n",
        "plt.gca().set_aspect('equal', adjustable='box')\n",
        "plt.legend(handles=scatter.legend_elements()[0], labels=[\"Label 0\", \"Label 1\"])\n",
        "\n",
        "plt.figure()\n",
        "\n",
        "image = plt.imshow(yPredB.reshape((100, 100)), \n",
        "                          cmap = 'bwr', \n",
        "                          interpolation='none', \n",
        "                          extent = (-2, 2, -2, 2), \n",
        "                          origin = 'lower', \n",
        "                          alpha = 0.9)\n",
        "\n",
        "plt.title(\"Classifier B\")\n",
        "plt.xlabel(\"x1\", fontsize=18)\n",
        "plt.ylabel(\"x2\", fontsize=18)\n",
        "plt.grid(True)\n",
        "plt.gca().set_aspect('equal', adjustable='box')\n",
        "plt.legend(handles=scatter.legend_elements()[0], labels=[\"Label 0\", \"Label 1\"])\n",
        "\n",
        "plt.show()"
      ],
      "execution_count": 32,
      "outputs": [
        {
          "output_type": "display_data",
          "data": {
            "image/png": "[encoded data removed]",
            "text/plain": [
              "<Figure size 432x288 with 1 Axes>"
            ]
          },
          "metadata": {
            "needs_background": "light"
          }
        },
        {
          "output_type": "display_data",
          "data": {
            "image/png": "[encoded data removed]",
            "text/plain": [
              "<Figure size 432x288 with 1 Axes>"
            ]
          },
          "metadata": {
            "needs_background": "light"
          }
        }
      ]
    },
    {
      "cell_type": "markdown",
      "metadata": {
        "id": "3J59jI-g4HSm"
      },
      "source": [
        "Visually, which classifier do you think will do a better job? Let's obtain their training accuracies, error rate, likelihood and negative log-likelihood."
      ]
    },
    {
      "cell_type": "code",
      "metadata": {
        "id": "QL6aRLEz4WRS",
        "colab": {
          "base_uri": "https://localhost:8080/",
          "height": 1000
        },
        "outputId": "8c5c23dd-e67d-47df-e7cb-265e51e0592d"
      },
      "source": [
        "# Desing matrix, predicted label\n",
        "X_train = np.column_stack([np.ones(x1_train.shape), x1_train, x2_train])\n",
        "y_trainPredA = prediction(X_train, wA)\n",
        "y_trainPredB = prediction(X_train, wB)\n",
        "\n",
        "# Likelihood, neg log-likelihood, accuracy and error rate for classifier A\n",
        "LA = likelihood(X_train, wA, y_train)\n",
        "nlogLA = negLogLikelihood(X_train, wA, y_train)\n",
        "AA = accuracy(y_train, y_trainPredA)\n",
        "EA = 1 - AA\n",
        "\n",
        "# Likelihood, neg log-likelihood, accuracy and error rate for classifier B\n",
        "LB = likelihood(X_train, wB, y_train)\n",
        "nlogLB = negLogLikelihood(X_train, wB, y_train)\n",
        "AB = accuracy(y_train, y_trainPredB)\n",
        "EB = 1 - AB\n",
        "\n",
        "# Plots dataset and classifier A regions, prints likelihood, accuracy, etc\n",
        "plt.figure(figsize=(7, 7))\n",
        "image = plt.imshow(yPredA.reshape((100, 100)), \n",
        "                          cmap = 'bwr', \n",
        "                          interpolation='none', \n",
        "                          extent = (-1, 1, -1, 1), \n",
        "                          origin = 'lower', \n",
        "                          alpha = 0.2)\n",
        "scatter = plt.scatter(x1_train, x2_train, c=y_train, cmap=plt.get_cmap('bwr'))\n",
        "plt.title(\"Classifier A\")\n",
        "plt.xlabel(\"x1\", fontsize=18)\n",
        "plt.ylabel(\"x2\", fontsize=18)\n",
        "plt.grid(True)\n",
        "plt.gca().set_aspect('equal', adjustable='box')\n",
        "plt.legend(handles=scatter.legend_elements()[0], labels=[\"Label 0\", \"Label 1\"])\n",
        "\n",
        "\n",
        "print(\"    CLASSIFIER A\")\n",
        "print(\"The likelihood is L=\", LA)\n",
        "print(\"The negative log-likelihood is -log(L)=\",nlogLA)\n",
        "print(\"The accuracy is \", AA)\n",
        "print(\"The error rate is \", EA)\n",
        "\n",
        "\n",
        "# Plots dataset and classifier B regions, prints likelihood, accuracy, etc\n",
        "plt.figure(figsize=(7, 7))\n",
        "image = plt.imshow(yPredB.reshape((100, 100)), \n",
        "                          cmap = 'bwr', \n",
        "                          interpolation='none', \n",
        "                          extent = (-1, 1, -1, 1), \n",
        "                          origin = 'lower', \n",
        "                          alpha = 0.2)\n",
        "scatter = plt.scatter(x1_train, x2_train, c=y_train, cmap=plt.get_cmap('bwr'))\n",
        "plt.title(\"Classifier A\")\n",
        "plt.xlabel(\"x1\", fontsize=18)\n",
        "plt.ylabel(\"x2\", fontsize=18)\n",
        "plt.grid(True)\n",
        "plt.gca().set_aspect('equal', adjustable='box')\n",
        "plt.legend(handles=scatter.legend_elements()[0], labels=[\"Label 0\", \"Label 1\"])\n",
        "\n",
        "\n",
        "print(\"\\n    CLASSIFIER B\")\n",
        "print(\"The likelihood is L=\", LB)\n",
        "print(\"The negative log-likelihood is -log(L)=\",nlogLB)\n",
        "print(\"The accuracy is \", AB)\n",
        "print(\"The error rate is \", round(EB,2))"
      ],
      "execution_count": 33,
      "outputs": [
        {
          "output_type": "stream",
          "name": "stdout",
          "text": [
            "    CLASSIFIER A\n",
            "The likelihood is L= 4.0314938136757435e-22\n",
            "The negative log-likelihood is -log(L)= 49.26273506522414\n",
            "The accuracy is  0.7920792079207921\n",
            "The error rate is  0.20792079207920788\n",
            "\n",
            "    CLASSIFIER B\n",
            "The likelihood is L= 1.9147232237372428e-29\n",
            "The negative log-likelihood is -log(L)= 66.12539461532579\n",
            "The accuracy is  0.5544554455445545\n",
            "The error rate is  0.45\n"
          ]
        },
        {
          "output_type": "display_data",
          "data": {
            "image/png": "[encoded data removed]",
            "text/plain": [
              "<Figure size 504x504 with 1 Axes>"
            ]
          },
          "metadata": {
            "needs_background": "light"
          }
        },
        {
          "output_type": "display_data",
          "data": {
            "image/png": "[encoded data removed]",
            "text/plain": [
              "<Figure size 504x504 with 1 Axes>"
            ]
          },
          "metadata": {
            "needs_background": "light"
          }
        }
      ]
    },
    {
      "cell_type": "markdown",
      "metadata": {
        "id": "PT-XqvXL-qTk"
      },
      "source": [
        "Based on these results, if we had to choose between the two, it is clear that we would select classifier A. It is also worth noting that the likelihood of both classifiers is a very small number. Remember that the likelihood is obtained by multiplying individual certainties, which are always less than one. Therefore, the larger the dataset, the closer the likelihood will be to zero. This can lead to **underflow**, which is a situation where your computer cannot represent a very small number and it is one of the reasons why we use the log-likelihood, as its values will not suffer from underflow.\n",
        "\n",
        "The following cell represents the quantity $p(\\boldsymbol{x}^T\\boldsymbol{w})$ in every point of the predictor space for a linear boundary defined by the coefficients `wTryMe` Essentially, you will be looking at the logistic function in 2D. Go ahead and change the value of the coefficients to see what happens with those values. For instance: \n",
        "- Multiply all the coefficents by the same positive number, what do you observe? Does the accuracty change? And the likelihood? \n",
        "- What if you multiply all the coefficients by -1? \n",
        "- Change the coefficients individually to see what happens to the linear boundary."
      ]
    },
    {
      "cell_type": "code",
      "metadata": {
        "id": "WXdtCpOr4JLn",
        "colab": {
          "base_uri": "https://localhost:8080/",
          "height": 501
        },
        "outputId": "07ea902c-1ed5-4cf7-d951-bfa8937ac960"
      },
      "source": [
        "# Change the coefficients below to see how the classifier changes\n",
        "wTryMe = np.array([0,1,1], ndmin=2).T\n",
        "\n",
        "# 100x100 samples used to visualise the decision regions, design matrix and predicted labels for each sample\n",
        "coor1 = np.linspace(-2, 2, 100)\n",
        "coor2 = np.linspace(-2, 2, 100)\n",
        "x1, x2 = np.meshgrid(coor1, coor2)\n",
        "X = np.column_stack([np.ones(x1.ravel().shape), x1.ravel(), x2.ravel()])\n",
        "\n",
        "# Plots dataset and classifier TryMe regions, prints likelihood, accuracy, etc\n",
        "plt.figure(figsize=(7, 7))\n",
        "image = plt.imshow(p(X, wTryMe).reshape((100, 100)), \n",
        "                          cmap = 'jet', \n",
        "                          interpolation='none', \n",
        "                          extent = (-1, 1, -1, 1), \n",
        "                          origin = 'lower', \n",
        "                          alpha = 0.9)\n",
        "plt.colorbar()\n",
        "\n",
        "scatter = plt.scatter(x1_train, x2_train, c=y_train, cmap=plt.get_cmap('bwr'))\n",
        "plt.title(\"Classifier TryMe\")\n",
        "plt.xlabel(\"x1\", fontsize=18)\n",
        "plt.ylabel(\"x2\", fontsize=18)\n",
        "plt.grid(True)\n",
        "plt.gca().set_aspect('equal', adjustable='box')\n",
        "plt.legend(handles=scatter.legend_elements()[0], labels=[\"Label 0\", \"Label 1\"])\n",
        "\n",
        "plt.show()\n",
        "\n",
        "y_trainTryMe = prediction(X_train, wTryMe)\n",
        "\n",
        "# Likelihood, neg log-likelihood, accuracy and error rate for classifier A\n",
        "LTryMe = likelihood(X_train, wTryMe, y_train)\n",
        "nlogLTryMe = negLogLikelihood(X_train, wTryMe, y_train)\n",
        "ATryMe = accuracy(y_train, y_trainTryMe)\n",
        "ETryMe = 1 - ATryMe\n",
        "\n",
        "print(\"    CLASSIFIER TRYME\")\n",
        "print(\"The likelihood is L=\", LTryMe)\n",
        "print(\"The negative log-likelihood is -log(L)=\",nlogLTryMe)\n",
        "print(\"The accuracy is \", ATryMe)\n",
        "print(\"The error rate is \", ETryMe)"
      ],
      "execution_count": 45,
      "outputs": [
        {
          "output_type": "display_data",
          "data": {
            "image/png": "[encoded data removed]",
            "text/plain": [
              "<Figure size 504x504 with 2 Axes>"
            ]
          },
          "metadata": {
            "needs_background": "light"
          }
        },
        {
          "output_type": "stream",
          "name": "stdout",
          "text": [
            "    CLASSIFIER TRYME\n",
            "The likelihood is L= 4.0314938136757435e-22\n",
            "The negative log-likelihood is -log(L)= 49.26273506522414\n",
            "The accuracy is  0.7920792079207921\n",
            "The error rate is  0.20792079207920788\n"
          ]
        }
      ]
    },
    {
      "cell_type": "markdown",
      "metadata": {
        "id": "ArGeAWfbcblT"
      },
      "source": [
        "Likelihood ranges from 0 to 1. We want values closer to 1\n",
        "Negative log-likelihood goes from 0 to infinity. We want values closer to 0.\n",
        "They both demonstrate the same thing, but negative log-likelihood is easier to compute."
      ]
    },
    {
      "cell_type": "markdown",
      "metadata": {
        "id": "FhnU3dD6vu-6"
      },
      "source": [
        "# Logistic regression: Optimisation\n",
        "\n",
        "We have used the logistic function to create a notion of certainty for classifiers, namely the likelihood (or equivalently, the negative log-likelihood). We have seen that classifiers that separate well samples from different classes have a high likelihood, whereas classifiers that produce a poor separation have low likelihood values.\n",
        "\n",
        "**Logistic \"regression\" classifiers** use the likelihood function $L$ as the objective function. Given a dataset, the best classifier is defined as the one with the **highest likelihood** value. This classifier also provides the **highest log-likelihood** value and obviously the **lowest negative log-likelihood** value.\n",
        "\n",
        "A separate question is, how do we find the classifier with the highest likelihood? For this, we need to use an **optimisation** strategy. In this section we will implement two approaches to find the logistic regression solution, namely **exhaustive search** and **gradient descent**. We will use the error surface defined by **negative log-likelihood** to find the logistic regression solution. This surface is **convex**, so we don't need to worry about local minima. \n",
        "\n"
      ]
    },
    {
      "cell_type": "markdown",
      "metadata": {
        "id": "exJuGJGZ1xUx"
      },
      "source": [
        "**Exhaustive approaches** basically evaluate a large number of options individually and select the model with the best performance. In the following cell we evaluate 8000 different coefficient vectors and select the one with the lowest negative log-likelihood as our solution."
      ]
    },
    {
      "cell_type": "code",
      "metadata": {
        "id": "_CK3MKCipqo4",
        "colab": {
          "base_uri": "https://localhost:8080/"
        },
        "outputId": "5d4e6387-1d62-47df-f452-a0ccee470673"
      },
      "source": [
        "from itertools import product\n",
        "\n",
        "lw0 = np.linspace(-1, 1, 20)\n",
        "lw1 = np.linspace(-1, 1, 20)\n",
        "lw2 = np.linspace(-1, 1, 20)\n",
        "\n",
        "all_possible_weights = product(lw0, lw1, lw2)\n",
        "lowest_negLogLike = np.Infinity\n",
        "\n",
        "for i, weights in enumerate(all_possible_weights):\n",
        "  current_negLogLike = negLogLikelihood(X_train, np.array(weights, ndmin=2).T, y_train)\n",
        "  if current_negLogLike < lowest_negLogLike:\n",
        "    best_weights = np.array(weights, ndmin=2).T\n",
        "    lowest_negLogLike = current_negLogLike\n",
        "    best_y_train_pred = prediction(X_train, best_weights)\n",
        "    print('\\n \\n New best w = {} | '.format(best_weights.ravel()), end='')\n",
        "    print('-Log(L) = {:8.5f} | '.format(current_negLogLike), end='')\n",
        "    print('Accuracy = {:.2f}'.format(accuracy(y_train, best_y_train_pred)), end='')\n",
        "    \n",
        "\n",
        "print('\\n \\n We have explored', i+1, 'different coefficient vectors and the best one is:', best_weights.ravel())\n"
      ],
      "execution_count": 46,
      "outputs": [
        {
          "output_type": "stream",
          "name": "stdout",
          "text": [
            "\n",
            " \n",
            " New best w = [-1. -1. -1.] | -Log(L) = 115.48506 | Accuracy = 0.39\n",
            " \n",
            " New best w = [-1.    -1.    -0.895] | -Log(L) = 114.00315 | Accuracy = 0.40\n",
            " \n",
            " New best w = [-1.    -1.    -0.789] | -Log(L) = 112.55563 | Accuracy = 0.42\n",
            " \n",
            " New best w = [-1.    -1.    -0.684] | -Log(L) = 111.14290 | Accuracy = 0.46\n",
            " \n",
            " New best w = [-1.    -1.    -0.579] | -Log(L) = 109.76534 | Accuracy = 0.48\n",
            " \n",
            " New best w = [-1.    -1.    -0.474] | -Log(L) = 108.42329 | Accuracy = 0.48\n",
            " \n",
            " New best w = [-1.    -1.    -0.368] | -Log(L) = 107.11706 | Accuracy = 0.48\n",
            " \n",
            " New best w = [-1.    -1.    -0.263] | -Log(L) = 105.84692 | Accuracy = 0.49\n",
            " \n",
            " New best w = [-1.    -1.    -0.158] | -Log(L) = 104.61311 | Accuracy = 0.50\n",
            " \n",
            " New best w = [-1.    -1.    -0.053] | -Log(L) = 103.41582 | Accuracy = 0.50\n",
            " \n",
            " New best w = [-1.    -1.     0.053] | -Log(L) = 102.25524 | Accuracy = 0.50\n",
            " \n",
            " New best w = [-1.    -1.     0.158] | -Log(L) = 101.13150 | Accuracy = 0.50\n",
            " \n",
            " New best w = [-1.    -1.     0.263] | -Log(L) = 100.04472 | Accuracy = 0.50\n",
            " \n",
            " New best w = [-1.    -1.     0.368] | -Log(L) = 98.99497 | Accuracy = 0.50\n",
            " \n",
            " New best w = [-1.    -1.     0.474] | -Log(L) = 97.98230 | Accuracy = 0.50\n",
            " \n",
            " New best w = [-1.    -1.     0.579] | -Log(L) = 97.00674 | Accuracy = 0.50\n",
            " \n",
            " New best w = [-1.    -1.     0.684] | -Log(L) = 96.06828 | Accuracy = 0.50\n",
            " \n",
            " New best w = [-1.    -1.     0.789] | -Log(L) = 95.16689 | Accuracy = 0.50\n",
            " \n",
            " New best w = [-1.    -1.     0.895] | -Log(L) = 94.30252 | Accuracy = 0.50\n",
            " \n",
            " New best w = [-1. -1.  1.] | -Log(L) = 93.47506 | Accuracy = 0.50\n",
            " \n",
            " New best w = [-1.    -0.895  0.789] | -Log(L) = 92.90872 | Accuracy = 0.50\n",
            " \n",
            " New best w = [-1.    -0.895  0.895] | -Log(L) = 92.05725 | Accuracy = 0.50\n",
            " \n",
            " New best w = [-1.    -0.895  1.   ] | -Log(L) = 91.24277 | Accuracy = 0.50\n",
            " \n",
            " New best w = [-1.    -0.789  0.789] | -Log(L) = 90.70315 | Accuracy = 0.50\n",
            " \n",
            " New best w = [-1.    -0.789  0.895] | -Log(L) = 89.86459 | Accuracy = 0.50\n",
            " \n",
            " New best w = [-1.    -0.789  1.   ] | -Log(L) = 89.06307 | Accuracy = 0.50\n",
            " \n",
            " New best w = [-1.    -0.684  0.789] | -Log(L) = 88.55063 | Accuracy = 0.50\n",
            " \n",
            " New best w = [-1.    -0.684  0.895] | -Log(L) = 87.72497 | Accuracy = 0.50\n",
            " \n",
            " New best w = [-1.    -0.684  1.   ] | -Log(L) = 86.93640 | Accuracy = 0.50\n",
            " \n",
            " New best w = [-1.    -0.579  0.789] | -Log(L) = 86.45156 | Accuracy = 0.50\n",
            " \n",
            " New best w = [-1.    -0.579  0.895] | -Log(L) = 85.63878 | Accuracy = 0.50\n",
            " \n",
            " New best w = [-1.    -0.579  1.   ] | -Log(L) = 84.86311 | Accuracy = 0.50\n",
            " \n",
            " New best w = [-1.    -0.474  0.789] | -Log(L) = 84.40625 | Accuracy = 0.50\n",
            " \n",
            " New best w = [-1.    -0.474  0.895] | -Log(L) = 83.60632 | Accuracy = 0.50\n",
            " \n",
            " New best w = [-1.    -0.474  1.   ] | -Log(L) = 82.84351 | Accuracy = 0.50\n",
            " \n",
            " New best w = [-1.    -0.368  0.789] | -Log(L) = 82.41497 | Accuracy = 0.50\n",
            " \n",
            " New best w = [-1.    -0.368  0.895] | -Log(L) = 81.62784 | Accuracy = 0.50\n",
            " \n",
            " New best w = [-1.    -0.368  1.   ] | -Log(L) = 80.87783 | Accuracy = 0.50\n",
            " \n",
            " New best w = [-1.    -0.263  0.789] | -Log(L) = 80.47791 | Accuracy = 0.50\n",
            " \n",
            " New best w = [-1.    -0.263  0.895] | -Log(L) = 79.70352 | Accuracy = 0.50\n",
            " \n",
            " New best w = [-1.    -0.263  1.   ] | -Log(L) = 78.96623 | Accuracy = 0.50\n",
            " \n",
            " New best w = [-1.    -0.158  0.789] | -Log(L) = 78.59521 | Accuracy = 0.50\n",
            " \n",
            " New best w = [-1.    -0.158  0.895] | -Log(L) = 77.83348 | Accuracy = 0.50\n",
            " \n",
            " New best w = [-1.    -0.158  1.   ] | -Log(L) = 77.10882 | Accuracy = 0.50\n",
            " \n",
            " New best w = [-1.    -0.053  0.789] | -Log(L) = 76.76694 | Accuracy = 0.50\n",
            " \n",
            " New best w = [-1.    -0.053  0.895] | -Log(L) = 76.01779 | Accuracy = 0.50\n",
            " \n",
            " New best w = [-1.    -0.053  1.   ] | -Log(L) = 75.30564 | Accuracy = 0.50\n",
            " \n",
            " New best w = [-1.     0.053  0.789] | -Log(L) = 74.99311 | Accuracy = 0.50\n",
            " \n",
            " New best w = [-1.     0.053  0.895] | -Log(L) = 74.25643 | Accuracy = 0.50\n",
            " \n",
            " New best w = [-1.     0.053  1.   ] | -Log(L) = 73.55668 | Accuracy = 0.50\n",
            " \n",
            " New best w = [-1.     0.158  0.789] | -Log(L) = 73.27369 | Accuracy = 0.50\n",
            " \n",
            " New best w = [-1.     0.158  0.895] | -Log(L) = 72.54936 | Accuracy = 0.50\n",
            " \n",
            " New best w = [-1.     0.158  1.   ] | -Log(L) = 71.86187 | Accuracy = 0.50\n",
            " \n",
            " New best w = [-1.     0.263  0.789] | -Log(L) = 71.60856 | Accuracy = 0.50\n",
            " \n",
            " New best w = [-1.     0.263  0.895] | -Log(L) = 70.89644 | Accuracy = 0.50\n",
            " \n",
            " New best w = [-1.     0.263  1.   ] | -Log(L) = 70.22105 | Accuracy = 0.50\n",
            " \n",
            " New best w = [-1.     0.368  0.789] | -Log(L) = 69.99755 | Accuracy = 0.50\n",
            " \n",
            " New best w = [-1.     0.368  0.895] | -Log(L) = 69.29749 | Accuracy = 0.50\n",
            " \n",
            " New best w = [-1.     0.368  1.   ] | -Log(L) = 68.63405 | Accuracy = 0.50\n",
            " \n",
            " New best w = [-1.     0.474  0.789] | -Log(L) = 68.44044 | Accuracy = 0.50\n",
            " \n",
            " New best w = [-1.     0.474  0.895] | -Log(L) = 67.75227 | Accuracy = 0.50\n",
            " \n",
            " New best w = [-1.     0.474  1.   ] | -Log(L) = 67.10058 | Accuracy = 0.50\n",
            " \n",
            " New best w = [-1.     0.579  0.789] | -Log(L) = 66.93692 | Accuracy = 0.50\n",
            " \n",
            " New best w = [-1.     0.579  0.895] | -Log(L) = 66.26047 | Accuracy = 0.50\n",
            " \n",
            " New best w = [-1.     0.579  1.   ] | -Log(L) = 65.62032 | Accuracy = 0.51\n",
            " \n",
            " New best w = [-1.     0.684  0.789] | -Log(L) = 65.48665 | Accuracy = 0.50\n",
            " \n",
            " New best w = [-1.     0.684  0.895] | -Log(L) = 64.82172 | Accuracy = 0.51\n",
            " \n",
            " New best w = [-1.     0.684  1.   ] | -Log(L) = 64.19289 | Accuracy = 0.54\n",
            " \n",
            " New best w = [-1.     0.789  0.789] | -Log(L) = 64.08919 | Accuracy = 0.51\n",
            " \n",
            " New best w = [-1.     0.789  0.895] | -Log(L) = 63.43556 | Accuracy = 0.55\n",
            " \n",
            " New best w = [-1.     0.789  1.   ] | -Log(L) = 62.81783 | Accuracy = 0.57\n",
            " \n",
            " New best w = [-1.     0.895  0.789] | -Log(L) = 62.74406 | Accuracy = 0.54\n",
            " \n",
            " New best w = [-1.     0.895  0.895] | -Log(L) = 62.10149 | Accuracy = 0.57\n",
            " \n",
            " New best w = [-1.     0.895  1.   ] | -Log(L) = 61.49460 | Accuracy = 0.59\n",
            " \n",
            " New best w = [-1.     1.     0.789] | -Log(L) = 61.45068 | Accuracy = 0.59\n",
            " \n",
            " New best w = [-1.     1.     0.895] | -Log(L) = 60.81893 | Accuracy = 0.62\n",
            " \n",
            " New best w = [-1.  1.  1.] | -Log(L) = 60.22262 | Accuracy = 0.64\n",
            " \n",
            " New best w = [-0.895  0.895  0.895] | -Log(L) = 59.92284 | Accuracy = 0.64\n",
            " \n",
            " New best w = [-0.895  0.895  1.   ] | -Log(L) = 59.33397 | Accuracy = 0.65\n",
            " \n",
            " New best w = [-0.895  1.     0.789] | -Log(L) = 59.28080 | Accuracy = 0.63\n",
            " \n",
            " New best w = [-0.895  1.     0.895] | -Log(L) = 58.66606 | Accuracy = 0.66\n",
            " \n",
            " New best w = [-0.895  1.     1.   ] | -Log(L) = 58.08772 | Accuracy = 0.68\n",
            " \n",
            " New best w = [-0.789  0.895  0.895] | -Log(L) = 57.96429 | Accuracy = 0.68\n",
            " \n",
            " New best w = [-0.789  0.895  1.   ] | -Log(L) = 57.39223 | Accuracy = 0.68\n",
            " \n",
            " New best w = [-0.789  1.     0.789] | -Log(L) = 57.33062 | Accuracy = 0.68\n",
            " \n",
            " New best w = [-0.789  1.     0.895] | -Log(L) = 56.73173 | Accuracy = 0.69\n",
            " \n",
            " New best w = [-0.789  1.     1.   ] | -Log(L) = 56.17014 | Accuracy = 0.70\n",
            " \n",
            " New best w = [-0.684  0.895  1.   ] | -Log(L) = 55.67629 | Accuracy = 0.71\n",
            " \n",
            " New best w = [-0.684  1.     0.789] | -Log(L) = 55.60714 | Accuracy = 0.70\n",
            " \n",
            " New best w = [-0.684  1.     0.895] | -Log(L) = 55.02278 | Accuracy = 0.71\n",
            " \n",
            " New best w = [-0.684  1.     1.   ] | -Log(L) = 54.47649 | Accuracy = 0.72\n",
            " \n",
            " New best w = [-0.579  0.895  1.   ] | -Log(L) = 54.19238 | Accuracy = 0.73\n",
            " \n",
            " New best w = [-0.579  1.     0.789] | -Log(L) = 54.11671 | Accuracy = 0.75\n",
            " \n",
            " New best w = [-0.579  1.     0.895] | -Log(L) = 53.54536 | Accuracy = 0.74\n",
            " \n",
            " New best w = [-0.579  1.     1.   ] | -Log(L) = 53.01272 | Accuracy = 0.74\n",
            " \n",
            " New best w = [-0.474  0.895  1.   ] | -Log(L) = 52.94599 | Accuracy = 0.77\n",
            " \n",
            " New best w = [-0.474  1.     0.789] | -Log(L) = 52.86489 | Accuracy = 0.77\n",
            " \n",
            " New best w = [-0.474  1.     0.895] | -Log(L) = 52.30486 | Accuracy = 0.77\n",
            " \n",
            " New best w = [-0.474  1.     1.   ] | -Log(L) = 51.78408 | Accuracy = 0.78\n",
            " \n",
            " New best w = [-0.368  1.     0.895] | -Log(L) = 51.30586 | Accuracy = 0.80\n",
            " \n",
            " New best w = [-0.368  1.     1.   ] | -Log(L) = 50.79497 | Accuracy = 0.80\n",
            " \n",
            " New best w = [-0.263  1.     0.895] | -Log(L) = 50.55204 | Accuracy = 0.80\n",
            " \n",
            " New best w = [-0.263  1.     1.   ] | -Log(L) = 50.04897 | Accuracy = 0.82\n",
            " \n",
            " New best w = [-0.158  1.     0.895] | -Log(L) = 50.04618 | Accuracy = 0.83\n",
            " \n",
            " New best w = [-0.158  1.     1.   ] | -Log(L) = 49.54874 | Accuracy = 0.84\n",
            " \n",
            " New best w = [-0.053  1.     1.   ] | -Log(L) = 49.29601 | Accuracy = 0.79\n",
            " \n",
            " New best w = [0.053 1.    1.   ] | -Log(L) = 49.29155 | Accuracy = 0.79\n",
            " \n",
            " We have explored 8000 different coefficient vectors and the best one is: [0.053 1.    1.   ]\n"
          ]
        }
      ]
    },
    {
      "cell_type": "markdown",
      "metadata": {
        "id": "cgyjeCvpC3bJ"
      },
      "source": [
        "Exhaustive approaches are computationally inefficient. **Gradient descent** appoaches follow the slope of the error surface to reach the optimal solution and require evaluating fewer models. We will try gradient descent next.\n",
        "\n",
        "Instead of implementing the gradient descent algorithms ourselves, we are going to use the `minimize` function from the `optimization` module implemented as part of the `scipy` library. It takes a loss (or error) function, its gradient, and an initial solution along with some other parameters and outputs the final solution. To implement gradient descent we need the gradient of the error surface, which is provided in the following cell: "
      ]
    },
    {
      "cell_type": "code",
      "metadata": {
        "id": "oTMduxhODGv1"
      },
      "source": [
        "def gradNegLogLikelihood(X, w, y):\n",
        "  return -np.dot(X.T, (y - expit(np.dot(X, w)).reshape(y.shape))).ravel()"
      ],
      "execution_count": null,
      "outputs": []
    },
    {
      "cell_type": "markdown",
      "metadata": {
        "id": "KT_o289DDNaD"
      },
      "source": [
        "We can derive this gradient from the mathematical expression for the negative log-likelihood, however let's not worry about it, you can find it in many textbooks and online, if you are curious about it. In the next cell, we use gradient descent to find the logistic regression solution: "
      ]
    },
    {
      "cell_type": "code",
      "metadata": {
        "id": "bY6qiweywIBp"
      },
      "source": [
        "import scipy.optimize\n",
        "np.set_printoptions(formatter={'float': '{: 0.10f}'.format})\n",
        "\n",
        "# Initial guess\n",
        "initial_w = np.array([1, -1, 1])\n",
        "\n",
        "# The loss function to be minimized (i.e. neg log-likelihood)\n",
        "def error_func(w):  \n",
        "  return negLogLikelihood(X_train, w, y_train.ravel())\n",
        "\n",
        "# The gradient of loss function\n",
        "def grad_func(w):\n",
        "  return gradNegLogLikelihood(X_train, w, y_train)\n",
        "\n",
        "# Store the path that the optimisation takes to get to the optimal solution\n",
        "def make_minimize_cb(path=[]):\n",
        "    \n",
        "    def minimize_cb(xk):\n",
        "        # note that we make a deep copy of xk\n",
        "        path.append(np.copy(xk))\n",
        "\n",
        "    return minimize_cb\n",
        "  \n",
        "path_ = [initial_w]\n",
        "\n",
        "# Here is where we run gradient descent\n",
        "res = scipy.optimize.minimize(fun = error_func, x0 = initial_w, \n",
        "                              jac = grad_func, tol=1e-6, \n",
        "                              callback=make_minimize_cb(path_))\n",
        "\n",
        "path = np.array(path_)[:,1:].T\n",
        "solution_w = res.x.reshape(3,1)\n",
        "negL = negLogLikelihood(X_train, solution_w, y_train)\n",
        "gradientL = gradNegLogLikelihood(X_train, solution_w, y_train)\n",
        "\n",
        "\n",
        "# Here we test our solution using the test dataset\n",
        "x1_test = df_test['Attribute_1'].to_numpy().reshape(N,1)\n",
        "x2_test = df_test['Attribute_2'].to_numpy().reshape(N,1)\n",
        "X_test = np.column_stack([np.ones(x1_test.shape), x1_test, x2_test])\n",
        "y_test = df_test['Label'].to_numpy().reshape(N,1)\n",
        "\n",
        "\n",
        "print('Computed optimal weights:\\t\\t {}'.format(res.x))\n",
        "print('Optimal loss (negative-log-likelihood):\\t {:.4f}'.format(negL))\n",
        "print('Gradient at the optimum point:\\t\\t {}'.format(gradientL))\n",
        "print('Train accuracy:\\t\\t\\t\\t {:.2f}'.format(accuracy(y_train, prediction(X_train, solution_w).reshape(101,1))))\n",
        "print('Test accuracy:\\t\\t\\t\\t {:.2f}'.format(accuracy(y_test, prediction(X_test, solution_w).reshape(101,1))))\n",
        "print('\\n\\nAnd here are all the intermediate solutions the algorithm visited to get to the optimal solution:\\n')\n",
        "for w in path_:\n",
        "  print('[w_0, w_1, w_2] = {}'.format(w))"
      ],
      "execution_count": null,
      "outputs": []
    },
    {
      "cell_type": "markdown",
      "metadata": {
        "id": "KOslA78C3-Uy"
      },
      "source": [
        "In addition to the final solution, we have stored all the intermidiate solutions that we have visited before returning the final solution. As you can see, we have evaluated less than 20 models. \n",
        "\n",
        "Gradient descent is best understood by looking at the **empirical error surface**. A linear classifier in a 2D predictor space is defined by 3 parameters, and hence it is not possible to visualise the error surface, as we would need a 4D representation (3 parameters + 1 error). \n",
        "\n",
        "To illustrate gradient descent, we are going to consider the problem of finding the optimal values for the coefficients w1 and w2, and we will set w0 to the optimal value found in the previous section. We now have an optimisation problem where we have 2 parameters to tune, and hence we can visualise the error surface.\n",
        "\n",
        "The following cell plots the error surface:"
      ]
    },
    {
      "cell_type": "code",
      "metadata": {
        "id": "NV2RKLfKbE-o"
      },
      "source": [
        "from mpl_toolkits import mplot3d\n",
        "from mpl_toolkits.mplot3d import Axes3D\n",
        "from matplotlib.colors import LogNorm\n",
        "%matplotlib inline\n",
        "\n",
        "import matplotlib.pyplot as plt\n",
        "\n",
        "\n",
        "def error_func_2(w1, w2):\n",
        "  return error_func(np.array([res.x[0], w1, w2]))\n",
        "\n",
        "np_error = np.frompyfunc(error_func_2, 2, 1)\n",
        "\n",
        "minima_ = np.array([res.x[1],  res.x[2]])\n",
        "\n",
        "# Defines a grid\n",
        "xmin, xmax, xstep = -2.5, 12.5, .2\n",
        "ymin, ymax, ystep = -2.5, 12.5, .2\n",
        "x, y = np.meshgrid(np.arange(xmin, xmax + xstep, xstep), np.arange(ymin, ymax + ystep, ystep))\n",
        "z = np_error(x, y).astype(float)\n",
        "\n",
        "# Plots the error surface\n",
        "fig1 = plt.figure(figsize=(8, 5))\n",
        "ax1 = plt.axes(projection='3d', elev=50, azim=-50)\n",
        "ax1.plot_surface(x, y, z, norm=LogNorm(), rstride=1, cstride=1, \n",
        "                edgecolor='none', alpha=.7, cmap=plt.cm.jet)\n",
        "ax1.scatter3D(*minima_, error_func_2(*minima_), marker='*', color='r', s=150)\n",
        "ax1.set_xlabel('$w_1$', fontsize=14)\n",
        "ax1.set_ylabel('$w_2$', fontsize=14)\n",
        "ax1.set_zlabel('L',)\n",
        "ax1.set_xlim((xmin, xmax))\n",
        "ax1.set_ylim((ymin, ymax))\n",
        "\n",
        "\n",
        "plt.show()"
      ],
      "execution_count": null,
      "outputs": []
    },
    {
      "cell_type": "markdown",
      "metadata": {
        "id": "LGvKuHyYN5lx"
      },
      "source": [
        "The optimal model is identified by a start (*) and corresponds to the model with the lowest error. \n",
        "\n",
        "In the next cell, we will obtain the sequence of solutions that gradient descent visits until finding the optimal model. In this case, the error surface is represented by contour lines:"
      ]
    },
    {
      "cell_type": "code",
      "metadata": {
        "id": "2ZPd2hPvLLJ8"
      },
      "source": [
        "from matplotlib import animation\n",
        "from IPython.display import HTML\n",
        "\n",
        "initial_weights = np.array([0, -1, 1])\n",
        "\n",
        "\n",
        "path_ = [initial_weights]\n",
        "\n",
        "# Implements gradient descent\n",
        "res = scipy.optimize.minimize(fun = error_func, x0 = initial_weights, \n",
        "                              jac = grad_func, tol=1e-6, callback=make_minimize_cb(path_))\n",
        "path = np.array(path_)[:,1:].T\n",
        "\n",
        "# Plots the trajectory in the solution space until the optimal solution has been reached\n",
        "fig2, ax2 = plt.subplots(figsize=(10, 6))\n",
        "ax2.contour(x, y, z, levels=np.logspace(0, 3, 50), norm=LogNorm(), cmap=plt.cm.jet)\n",
        "ax2.quiver(path[0,:-1], path[1,:-1], path[0,1:]-path[0,:-1], path[1,1:]-path[1,:-1], scale_units='xy', angles='xy', scale=1, color='k')\n",
        "ax2.plot(*minima_, 'r*', markersize=18)\n",
        "ax2.set_xlabel('$w_1$')\n",
        "ax2.set_ylabel('$w_2$')\n",
        "ax2.set_xlim((xmin, xmax))\n",
        "ax2.set_ylim((ymin, ymax))\n",
        "\n",
        "plt.show()\n"
      ],
      "execution_count": null,
      "outputs": []
    },
    {
      "cell_type": "markdown",
      "metadata": {
        "id": "87UCZMRGwSMR"
      },
      "source": [
        "# Summary\n",
        "\n"
      ]
    },
    {
      "cell_type": "markdown",
      "metadata": {
        "id": "4lI96cT1PVd1"
      },
      "source": [
        "In this lab we have explored linear classifiers. Classifiers can be seen as partitions of the predictor space into **decision regions** separated **decision boundaries**. Each decision region is associated to one single label so that samples that lie within the same decision region are assigned the same label.\n",
        "\n",
        "We have considered linear classifiers in 2D predictor spaces, i.e. classification problems with two predictors. Low-dimensional predictor spaces can be visualised and are very useful to develop our intuition. This intuition will be crucial to understand high-dimenional problems that cannot be visualised. Note that the **mathematical notation for low-dimentional and high-dimensional preditor spaces is identical** and won't require any additional effort. Symbols $\\boldsymbol{x}$ and $\\boldsymbol{w}$ can be used to represent preditor spaces of any dimensions, 1D, 2D, 3D... 10D, 100D. That's why vector notation is so powerful and you should get comfortable with it. At the end of the day, it's all about **understanding what each operation on vectors means, not carrying out the actual calculation**. Computers do the calculations, but understanding is your responsibility. For instance, you should know that $\\boldsymbol{x}^T\\boldsymbol{w}$ is the distance between a sample $\\boldsymbol{x}$ and a linear boundary defined by $\\boldsymbol{w}$. This boundary might be a hypersurface in a 55D predictor space, $\\boldsymbol{x}^T\\boldsymbol{w}$ will still be a distance.\n",
        "\n",
        "In addition to classifiers, we have also touched upon **optimisation**. You should understand the role of optimisation in machine learning and know the basic optimisation strategies, such as **gradient descent**. Most optimisation strategies will have been already implemented in your future machine learning framework, so your job will be to choose the most suitable one for your problem. There exist many variations of gradient descent, so in the future you will need to have an open mind and learn about optimisation approaches that you might not have heard of. \n",
        "\n",
        "Remember to play with the notebook. The more you do it, the more intuition you wil develop. In the past we had to rely on mental experimentation to understand maths. Nowadays, we can use computers to take this experimentation further.\n",
        "\n",
        "If you feel that you have a good understanding of the concepts that we have covered, go ahead and attempt the corresponding quiz. After attempting the quiz, you can come back to this notebook to experiment a little bit more.\n",
        "\n"
      ]
    }
  ]
}