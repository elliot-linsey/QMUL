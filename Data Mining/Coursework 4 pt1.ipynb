{
 "cells": [
  {
   "cell_type": "markdown",
   "metadata": {
    "colab_type": "text",
    "id": "view-in-github"
   },
   "source": [
    "<a href=\"https://colab.research.google.com/github/elliot-linsey/QMUL/blob/main/Data%20Mining/Coursework%204%20pt1.ipynb\" target=\"_parent\"><img src=\"https://colab.research.google.com/assets/colab-badge.svg\" alt=\"Open In Colab\"/></a>"
   ]
  },
  {
   "cell_type": "code",
   "execution_count": 22,
   "metadata": {
    "id": "uEZw1618BrXw"
   },
   "outputs": [],
   "source": [
    "import pandas as pd\n",
    "import numpy as np\n",
    "import matplotlib.pyplot as plt\n",
    "import seaborn as sns\n",
    "%matplotlib inline\n",
    "from urllib.request import urlopen\n",
    "from bs4 import BeautifulSoup"
   ]
  },
  {
   "cell_type": "markdown",
   "metadata": {},
   "source": [
    "# ECS766 Coursework 4 - Elliot Linsey"
   ]
  },
  {
   "cell_type": "markdown",
   "metadata": {},
   "source": [
    "## Q1.A\n",
    "\n",
    "* \\<!DOCTYPE html\\>, this tag declares to the browser what type of information to expect. All html documents must start with this tag. \n",
    "* \\<html\\>, this tag represents the root of the html document and is the tag in which all of the information within the document is contained (apart from the \\<!DOCTYPE html\\> tag). \n",
    "* \\<body\\>, this tag defines where the contents such as headings, paragraphs, tables, images and anything else that the user will actually see or interact with are placed within the document. There can be only one body within an html document but it can be split into sections with div elements. \n",
    "* \\<h1\\>, this tag is used to define the heading of the html document and is usually used as the main title. This is because it is the largest heading available in comparison to lesser headings like h2, h3 and so on. \n",
    "* \\<p\\>, this tag defines a paragraph element which is a block of text. If the \\<h\\> tag is the title, then the \\<p\\> tag will usually be the paragraph below it.\n",
    "* \\<table\\>, this tag defines a table, it must contain one of more of the \\<tr\\>, \\<td\\> and \\<th\\> elements.\n",
    "* \\<thead\\>, this defines the head of the table which is where the column headings will be located. \n",
    "* \\<tbody\\>, this defines the body of the table where the data will be located. \n",
    "* \\<tr\\>, this indicates a table row which can contain either data \\<td\\> or headings \\<th\\> in this instance. \n",
    "* \\<th\\>, this indicates a table heading which will contain the column headings, usually a child of \\<tr\\>.\n",
    "* \\<td\\>, this indicates table data that will be placed within a row, usually a child of \\<tr\\> also. "
   ]
  },
  {
   "cell_type": "markdown",
   "metadata": {},
   "source": [
    "## Q1.B"
   ]
  },
  {
   "cell_type": "code",
   "execution_count": 23,
   "metadata": {
    "id": "om5l0WMoBxKB"
   },
   "outputs": [],
   "source": [
    "url = 'http://eecs.qmul.ac.uk/~emmanouilb/income_table.html'\n",
    "html = urlopen(url)"
   ]
  },
  {
   "cell_type": "code",
   "execution_count": 24,
   "metadata": {
    "colab": {
     "base_uri": "https://localhost:8080/"
    },
    "id": "gy2IknGsBykl",
    "outputId": "c3ebd320-7f98-4d0e-a96b-50b79248027c"
   },
   "outputs": [],
   "source": [
    "soup = BeautifulSoup(html, 'lxml')"
   ]
  },
  {
   "cell_type": "code",
   "execution_count": 25,
   "metadata": {
    "colab": {
     "base_uri": "https://localhost:8080/"
    },
    "id": "3klfCHcXBym9",
    "outputId": "f6df8ef6-2635-4332-9a72-2732e2840ceb"
   },
   "outputs": [
    {
     "data": {
      "text/plain": [
       "['Region', 'Age', 'Income', 'Online Shopper']"
      ]
     },
     "execution_count": 25,
     "metadata": {},
     "output_type": "execute_result"
    }
   ],
   "source": [
    "th = soup.find_all('th')\n",
    "headers = []\n",
    "for header in th:\n",
    "  headers.append(header.get_text())\n",
    "headers"
   ]
  },
  {
   "cell_type": "code",
   "execution_count": 26,
   "metadata": {
    "colab": {
     "base_uri": "https://localhost:8080/"
    },
    "id": "OR-N43LtBypM",
    "outputId": "fc749906-6128-4a43-b6ec-9cf691806049"
   },
   "outputs": [
    {
     "data": {
      "text/plain": [
       "array([['India', '49', '86400', 'No'],\n",
       "       ['Brazil', '32', '57600', 'Yes'],\n",
       "       ['USA', '35', '64800', 'No'],\n",
       "       ['Brazil', '43', '73200', 'No'],\n",
       "       ['USA', '45', '', 'Yes'],\n",
       "       ['India', '40', '69600', 'Yes'],\n",
       "       ['Brazil', '', '62400', 'No'],\n",
       "       ['India', '53', '94800', 'Yes'],\n",
       "       ['USA', '55', '99600', 'No'],\n",
       "       ['India', '42', '80400', 'Yes']], dtype='<U6')"
      ]
     },
     "execution_count": 26,
     "metadata": {},
     "output_type": "execute_result"
    }
   ],
   "source": [
    "td = soup.find_all('td')\n",
    "rows = []\n",
    "for row in td:\n",
    "  rows.append(row.get_text())\n",
    "rows = np.array(rows)\n",
    "rows = np.reshape(rows,(10,4))\n",
    "rows"
   ]
  },
  {
   "cell_type": "code",
   "execution_count": 27,
   "metadata": {
    "colab": {
     "base_uri": "https://localhost:8080/",
     "height": 363
    },
    "id": "dGXEWivUByrs",
    "outputId": "e1e2caaa-fa73-4cc8-8395-5606ac5fc69e"
   },
   "outputs": [
    {
     "data": {
      "text/html": [
       "<div>\n",
       "<style scoped>\n",
       "    .dataframe tbody tr th:only-of-type {\n",
       "        vertical-align: middle;\n",
       "    }\n",
       "\n",
       "    .dataframe tbody tr th {\n",
       "        vertical-align: top;\n",
       "    }\n",
       "\n",
       "    .dataframe thead th {\n",
       "        text-align: right;\n",
       "    }\n",
       "</style>\n",
       "<table border=\"1\" class=\"dataframe\">\n",
       "  <thead>\n",
       "    <tr style=\"text-align: right;\">\n",
       "      <th></th>\n",
       "      <th>Region</th>\n",
       "      <th>Age</th>\n",
       "      <th>Income</th>\n",
       "      <th>Online Shopper</th>\n",
       "    </tr>\n",
       "  </thead>\n",
       "  <tbody>\n",
       "    <tr>\n",
       "      <th>0</th>\n",
       "      <td>India</td>\n",
       "      <td>49</td>\n",
       "      <td>86400</td>\n",
       "      <td>No</td>\n",
       "    </tr>\n",
       "    <tr>\n",
       "      <th>1</th>\n",
       "      <td>Brazil</td>\n",
       "      <td>32</td>\n",
       "      <td>57600</td>\n",
       "      <td>Yes</td>\n",
       "    </tr>\n",
       "    <tr>\n",
       "      <th>2</th>\n",
       "      <td>USA</td>\n",
       "      <td>35</td>\n",
       "      <td>64800</td>\n",
       "      <td>No</td>\n",
       "    </tr>\n",
       "    <tr>\n",
       "      <th>3</th>\n",
       "      <td>Brazil</td>\n",
       "      <td>43</td>\n",
       "      <td>73200</td>\n",
       "      <td>No</td>\n",
       "    </tr>\n",
       "    <tr>\n",
       "      <th>4</th>\n",
       "      <td>USA</td>\n",
       "      <td>45</td>\n",
       "      <td></td>\n",
       "      <td>Yes</td>\n",
       "    </tr>\n",
       "    <tr>\n",
       "      <th>5</th>\n",
       "      <td>India</td>\n",
       "      <td>40</td>\n",
       "      <td>69600</td>\n",
       "      <td>Yes</td>\n",
       "    </tr>\n",
       "    <tr>\n",
       "      <th>6</th>\n",
       "      <td>Brazil</td>\n",
       "      <td></td>\n",
       "      <td>62400</td>\n",
       "      <td>No</td>\n",
       "    </tr>\n",
       "    <tr>\n",
       "      <th>7</th>\n",
       "      <td>India</td>\n",
       "      <td>53</td>\n",
       "      <td>94800</td>\n",
       "      <td>Yes</td>\n",
       "    </tr>\n",
       "    <tr>\n",
       "      <th>8</th>\n",
       "      <td>USA</td>\n",
       "      <td>55</td>\n",
       "      <td>99600</td>\n",
       "      <td>No</td>\n",
       "    </tr>\n",
       "    <tr>\n",
       "      <th>9</th>\n",
       "      <td>India</td>\n",
       "      <td>42</td>\n",
       "      <td>80400</td>\n",
       "      <td>Yes</td>\n",
       "    </tr>\n",
       "  </tbody>\n",
       "</table>\n",
       "</div>"
      ],
      "text/plain": [
       "   Region Age Income Online Shopper\n",
       "0   India  49  86400             No\n",
       "1  Brazil  32  57600            Yes\n",
       "2     USA  35  64800             No\n",
       "3  Brazil  43  73200             No\n",
       "4     USA  45                   Yes\n",
       "5   India  40  69600            Yes\n",
       "6  Brazil      62400             No\n",
       "7   India  53  94800            Yes\n",
       "8     USA  55  99600             No\n",
       "9   India  42  80400            Yes"
      ]
     },
     "execution_count": 27,
     "metadata": {},
     "output_type": "execute_result"
    }
   ],
   "source": [
    "df = pd.DataFrame(rows,columns=headers)\n",
    "df"
   ]
  },
  {
   "cell_type": "markdown",
   "metadata": {},
   "source": [
    "## Q2"
   ]
  },
  {
   "cell_type": "code",
   "execution_count": 28,
   "metadata": {
    "id": "i50g443GByuE"
   },
   "outputs": [],
   "source": [
    "url = 'http://eecs.qmul.ac.uk/postgraduate/programmes/'\n",
    "html = urlopen(url)"
   ]
  },
  {
   "cell_type": "code",
   "execution_count": 29,
   "metadata": {
    "id": "-1KyTWFJBywL"
   },
   "outputs": [],
   "source": [
    "soup = BeautifulSoup(html, 'lxml')"
   ]
  },
  {
   "cell_type": "code",
   "execution_count": 30,
   "metadata": {
    "colab": {
     "base_uri": "https://localhost:8080/"
    },
    "id": "lfeSeJREByyd",
    "outputId": "4f95941e-853a-4920-8228-1e67dd6bda92"
   },
   "outputs": [
    {
     "data": {
      "text/plain": [
       "['Postgraduate degree programmes', 'Part-time(2 year)', 'Full-time(1 year)']"
      ]
     },
     "execution_count": 30,
     "metadata": {},
     "output_type": "execute_result"
    }
   ],
   "source": [
    "th = soup.find_all('th')\n",
    "headers = []\n",
    "for header in th:\n",
    "  headers.append(header.get_text())\n",
    "headers"
   ]
  },
  {
   "cell_type": "code",
   "execution_count": 31,
   "metadata": {
    "id": "wQNryF-6By0b"
   },
   "outputs": [],
   "source": [
    "td = soup.find_all('td')\n",
    "rows = []\n",
    "for row in td:\n",
    "  rows.append(row.get_text())\n",
    "rows = np.array(rows)\n",
    "rows = np.reshape(rows,(14,3))\n",
    "rows2 = []\n",
    "for x in rows:\n",
    "  rows2.append(np.char.strip(x,'\\xa0'))\n",
    "rows = rows2\n",
    "#rows"
   ]
  },
  {
   "cell_type": "code",
   "execution_count": 32,
   "metadata": {
    "colab": {
     "base_uri": "https://localhost:8080/",
     "height": 582
    },
    "id": "FcJ5FUI3I9pV",
    "outputId": "e88c1fd8-4520-44ec-94fb-788c4a6af8ed"
   },
   "outputs": [
    {
     "data": {
      "text/html": [
       "<div>\n",
       "<style scoped>\n",
       "    .dataframe tbody tr th:only-of-type {\n",
       "        vertical-align: middle;\n",
       "    }\n",
       "\n",
       "    .dataframe tbody tr th {\n",
       "        vertical-align: top;\n",
       "    }\n",
       "\n",
       "    .dataframe thead th {\n",
       "        text-align: right;\n",
       "    }\n",
       "</style>\n",
       "<table border=\"1\" class=\"dataframe\">\n",
       "  <thead>\n",
       "    <tr style=\"text-align: right;\">\n",
       "      <th></th>\n",
       "      <th>Postgraduate degree programmes</th>\n",
       "      <th>Part-time(2 year)</th>\n",
       "      <th>Full-time(1 year)</th>\n",
       "    </tr>\n",
       "  </thead>\n",
       "  <tbody>\n",
       "    <tr>\n",
       "      <th>0</th>\n",
       "      <td>Advanced Electronic and Electrical Engineering</td>\n",
       "      <td>H60C</td>\n",
       "      <td>H60A</td>\n",
       "    </tr>\n",
       "    <tr>\n",
       "      <th>1</th>\n",
       "      <td>Artificial Intelligence</td>\n",
       "      <td>I4U2</td>\n",
       "      <td>I4U1</td>\n",
       "    </tr>\n",
       "    <tr>\n",
       "      <th>2</th>\n",
       "      <td>Big Data Science</td>\n",
       "      <td>H6J6</td>\n",
       "      <td>H6J7</td>\n",
       "    </tr>\n",
       "    <tr>\n",
       "      <th>3</th>\n",
       "      <td>Computer Games</td>\n",
       "      <td></td>\n",
       "      <td>I4U4</td>\n",
       "    </tr>\n",
       "    <tr>\n",
       "      <th>4</th>\n",
       "      <td>Computer Science</td>\n",
       "      <td>G4U2</td>\n",
       "      <td>G4U1</td>\n",
       "    </tr>\n",
       "    <tr>\n",
       "      <th>5</th>\n",
       "      <td>Computer Science by Research</td>\n",
       "      <td>G4Q2</td>\n",
       "      <td>G4Q1</td>\n",
       "    </tr>\n",
       "    <tr>\n",
       "      <th>6</th>\n",
       "      <td>Computing and Information Systems</td>\n",
       "      <td>G5U6</td>\n",
       "      <td>G5U5</td>\n",
       "    </tr>\n",
       "    <tr>\n",
       "      <th>7</th>\n",
       "      <td>Data Science and Artificial Intelligence by Co...</td>\n",
       "      <td></td>\n",
       "      <td>I4U5</td>\n",
       "    </tr>\n",
       "    <tr>\n",
       "      <th>8</th>\n",
       "      <td>Electronic Engineering by Research</td>\n",
       "      <td>H6T6</td>\n",
       "      <td>H6T5</td>\n",
       "    </tr>\n",
       "    <tr>\n",
       "      <th>9</th>\n",
       "      <td>Internet of Things (Data)</td>\n",
       "      <td>I1T2</td>\n",
       "      <td>I1T0</td>\n",
       "    </tr>\n",
       "    <tr>\n",
       "      <th>10</th>\n",
       "      <td>Machine Learning for Visual Data Analytics</td>\n",
       "      <td>H6JZ</td>\n",
       "      <td>H6JE</td>\n",
       "    </tr>\n",
       "    <tr>\n",
       "      <th>11</th>\n",
       "      <td>Sound and Music Computing</td>\n",
       "      <td>H6T4</td>\n",
       "      <td>H6T8</td>\n",
       "    </tr>\n",
       "    <tr>\n",
       "      <th>12</th>\n",
       "      <td>Telecommunication and Wireless Systems</td>\n",
       "      <td>H6JD</td>\n",
       "      <td>H6JA</td>\n",
       "    </tr>\n",
       "    <tr>\n",
       "      <th>13</th>\n",
       "      <td>Digital and Technology Solutions (Apprenticeship)</td>\n",
       "      <td>I4DA</td>\n",
       "      <td></td>\n",
       "    </tr>\n",
       "  </tbody>\n",
       "</table>\n",
       "</div>"
      ],
      "text/plain": [
       "                       Postgraduate degree programmes Part-time(2 year)  \\\n",
       "0      Advanced Electronic and Electrical Engineering              H60C   \n",
       "1                             Artificial Intelligence              I4U2   \n",
       "2                                    Big Data Science              H6J6   \n",
       "3                                      Computer Games                     \n",
       "4                                    Computer Science              G4U2   \n",
       "5                        Computer Science by Research              G4Q2   \n",
       "6                   Computing and Information Systems              G5U6   \n",
       "7   Data Science and Artificial Intelligence by Co...                     \n",
       "8                  Electronic Engineering by Research              H6T6   \n",
       "9                           Internet of Things (Data)              I1T2   \n",
       "10         Machine Learning for Visual Data Analytics              H6JZ   \n",
       "11                          Sound and Music Computing              H6T4   \n",
       "12             Telecommunication and Wireless Systems              H6JD   \n",
       "13  Digital and Technology Solutions (Apprenticeship)              I4DA   \n",
       "\n",
       "   Full-time(1 year)  \n",
       "0               H60A  \n",
       "1               I4U1  \n",
       "2               H6J7  \n",
       "3               I4U4  \n",
       "4               G4U1  \n",
       "5               G4Q1  \n",
       "6               G5U5  \n",
       "7               I4U5  \n",
       "8               H6T5  \n",
       "9               I1T0  \n",
       "10              H6JE  \n",
       "11              H6T8  \n",
       "12              H6JA  \n",
       "13                    "
      ]
     },
     "execution_count": 32,
     "metadata": {},
     "output_type": "execute_result"
    }
   ],
   "source": [
    "df2 = pd.DataFrame(rows, columns=headers)\n",
    "df2"
   ]
  },
  {
   "cell_type": "code",
   "execution_count": 33,
   "metadata": {
    "id": "irMrbJ9EJTd7"
   },
   "outputs": [],
   "source": [
    "links = []\n",
    "for row in soup.find_all('td'):\n",
    "  #print(row.find('a'))\n",
    "  try:\n",
    "    links.append(row.find('a').get('href'))\n",
    "  except AttributeError:\n",
    "    links.append('')"
   ]
  },
  {
   "cell_type": "code",
   "execution_count": 34,
   "metadata": {
    "id": "ZDjLow8AL3Fx"
   },
   "outputs": [],
   "source": [
    "links = np.array(links)\n",
    "links = np.reshape(links,(14,3))\n",
    "#links"
   ]
  },
  {
   "cell_type": "code",
   "execution_count": 35,
   "metadata": {
    "colab": {
     "base_uri": "https://localhost:8080/",
     "height": 582
    },
    "id": "5oBg4r-kOBsp",
    "outputId": "c1bf64b1-862c-4cba-8906-1ffe616ebd88",
    "scrolled": true
   },
   "outputs": [
    {
     "data": {
      "text/html": [
       "<div>\n",
       "<style scoped>\n",
       "    .dataframe tbody tr th:only-of-type {\n",
       "        vertical-align: middle;\n",
       "    }\n",
       "\n",
       "    .dataframe tbody tr th {\n",
       "        vertical-align: top;\n",
       "    }\n",
       "\n",
       "    .dataframe thead th {\n",
       "        text-align: right;\n",
       "    }\n",
       "</style>\n",
       "<table border=\"1\" class=\"dataframe\">\n",
       "  <thead>\n",
       "    <tr style=\"text-align: right;\">\n",
       "      <th></th>\n",
       "      <th>Postgraduate degree programmes</th>\n",
       "      <th>Part-time(2 year)</th>\n",
       "      <th>Full-time(1 year)</th>\n",
       "      <th>Part-time Link</th>\n",
       "      <th>Full-time Link</th>\n",
       "    </tr>\n",
       "  </thead>\n",
       "  <tbody>\n",
       "    <tr>\n",
       "      <th>0</th>\n",
       "      <td>Advanced Electronic and Electrical Engineering</td>\n",
       "      <td>H60C</td>\n",
       "      <td>H60A</td>\n",
       "      <td>https://www.qmul.ac.uk/postgraduate/taught/cou...</td>\n",
       "      <td>https://www.qmul.ac.uk/postgraduate/taught/cou...</td>\n",
       "    </tr>\n",
       "    <tr>\n",
       "      <th>1</th>\n",
       "      <td>Artificial Intelligence</td>\n",
       "      <td>I4U2</td>\n",
       "      <td>I4U1</td>\n",
       "      <td>https://www.qmul.ac.uk/postgraduate/taught/cou...</td>\n",
       "      <td>https://www.qmul.ac.uk/postgraduate/taught/cou...</td>\n",
       "    </tr>\n",
       "    <tr>\n",
       "      <th>2</th>\n",
       "      <td>Big Data Science</td>\n",
       "      <td>H6J6</td>\n",
       "      <td>H6J7</td>\n",
       "      <td>https://www.qmul.ac.uk/postgraduate/taught/cou...</td>\n",
       "      <td>https://www.qmul.ac.uk/postgraduate/taught/cou...</td>\n",
       "    </tr>\n",
       "    <tr>\n",
       "      <th>3</th>\n",
       "      <td>Computer Games</td>\n",
       "      <td></td>\n",
       "      <td>I4U4</td>\n",
       "      <td></td>\n",
       "      <td>https://www.qmul.ac.uk/postgraduate/taught/cou...</td>\n",
       "    </tr>\n",
       "    <tr>\n",
       "      <th>4</th>\n",
       "      <td>Computer Science</td>\n",
       "      <td>G4U2</td>\n",
       "      <td>G4U1</td>\n",
       "      <td>https://www.qmul.ac.uk/postgraduate/taught/cou...</td>\n",
       "      <td>https://www.qmul.ac.uk/postgraduate/taught/cou...</td>\n",
       "    </tr>\n",
       "    <tr>\n",
       "      <th>5</th>\n",
       "      <td>Computer Science by Research</td>\n",
       "      <td>G4Q2</td>\n",
       "      <td>G4Q1</td>\n",
       "      <td>https://www.qmul.ac.uk/postgraduate/taught/cou...</td>\n",
       "      <td>https://www.qmul.ac.uk/postgraduate/taught/cou...</td>\n",
       "    </tr>\n",
       "    <tr>\n",
       "      <th>6</th>\n",
       "      <td>Computing and Information Systems</td>\n",
       "      <td>G5U6</td>\n",
       "      <td>G5U5</td>\n",
       "      <td>https://www.qmul.ac.uk/postgraduate/taught/cou...</td>\n",
       "      <td>https://www.qmul.ac.uk/postgraduate/taught/cou...</td>\n",
       "    </tr>\n",
       "    <tr>\n",
       "      <th>7</th>\n",
       "      <td>Data Science and Artificial Intelligence by Co...</td>\n",
       "      <td></td>\n",
       "      <td>I4U5</td>\n",
       "      <td></td>\n",
       "      <td>https://www.qmul.ac.uk/postgraduate/taught/cou...</td>\n",
       "    </tr>\n",
       "    <tr>\n",
       "      <th>8</th>\n",
       "      <td>Electronic Engineering by Research</td>\n",
       "      <td>H6T6</td>\n",
       "      <td>H6T5</td>\n",
       "      <td>https://www.qmul.ac.uk/postgraduate/taught/cou...</td>\n",
       "      <td>https://www.qmul.ac.uk/postgraduate/taught/cou...</td>\n",
       "    </tr>\n",
       "    <tr>\n",
       "      <th>9</th>\n",
       "      <td>Internet of Things (Data)</td>\n",
       "      <td>I1T2</td>\n",
       "      <td>I1T0</td>\n",
       "      <td>https://www.qmul.ac.uk/postgraduate/taught/cou...</td>\n",
       "      <td>https://www.qmul.ac.uk/postgraduate/taught/cou...</td>\n",
       "    </tr>\n",
       "    <tr>\n",
       "      <th>10</th>\n",
       "      <td>Machine Learning for Visual Data Analytics</td>\n",
       "      <td>H6JZ</td>\n",
       "      <td>H6JE</td>\n",
       "      <td>https://www.qmul.ac.uk/postgraduate/taught/cou...</td>\n",
       "      <td>https://www.qmul.ac.uk/postgraduate/taught/cou...</td>\n",
       "    </tr>\n",
       "    <tr>\n",
       "      <th>11</th>\n",
       "      <td>Sound and Music Computing</td>\n",
       "      <td>H6T4</td>\n",
       "      <td>H6T8</td>\n",
       "      <td>https://www.qmul.ac.uk/postgraduate/taught/cou...</td>\n",
       "      <td>https://www.qmul.ac.uk/postgraduate/taught/cou...</td>\n",
       "    </tr>\n",
       "    <tr>\n",
       "      <th>12</th>\n",
       "      <td>Telecommunication and Wireless Systems</td>\n",
       "      <td>H6JD</td>\n",
       "      <td>H6JA</td>\n",
       "      <td>https://www.qmul.ac.uk/postgraduate/taught/cou...</td>\n",
       "      <td>https://www.qmul.ac.uk/postgraduate/taught/cou...</td>\n",
       "    </tr>\n",
       "    <tr>\n",
       "      <th>13</th>\n",
       "      <td>Digital and Technology Solutions (Apprenticeship)</td>\n",
       "      <td>I4DA</td>\n",
       "      <td></td>\n",
       "      <td>https://www.qmul.ac.uk/postgraduate/taught/cou...</td>\n",
       "      <td></td>\n",
       "    </tr>\n",
       "  </tbody>\n",
       "</table>\n",
       "</div>"
      ],
      "text/plain": [
       "                       Postgraduate degree programmes Part-time(2 year)  \\\n",
       "0      Advanced Electronic and Electrical Engineering              H60C   \n",
       "1                             Artificial Intelligence              I4U2   \n",
       "2                                    Big Data Science              H6J6   \n",
       "3                                      Computer Games                     \n",
       "4                                    Computer Science              G4U2   \n",
       "5                        Computer Science by Research              G4Q2   \n",
       "6                   Computing and Information Systems              G5U6   \n",
       "7   Data Science and Artificial Intelligence by Co...                     \n",
       "8                  Electronic Engineering by Research              H6T6   \n",
       "9                           Internet of Things (Data)              I1T2   \n",
       "10         Machine Learning for Visual Data Analytics              H6JZ   \n",
       "11                          Sound and Music Computing              H6T4   \n",
       "12             Telecommunication and Wireless Systems              H6JD   \n",
       "13  Digital and Technology Solutions (Apprenticeship)              I4DA   \n",
       "\n",
       "   Full-time(1 year)                                     Part-time Link  \\\n",
       "0               H60A  https://www.qmul.ac.uk/postgraduate/taught/cou...   \n",
       "1               I4U1  https://www.qmul.ac.uk/postgraduate/taught/cou...   \n",
       "2               H6J7  https://www.qmul.ac.uk/postgraduate/taught/cou...   \n",
       "3               I4U4                                                      \n",
       "4               G4U1  https://www.qmul.ac.uk/postgraduate/taught/cou...   \n",
       "5               G4Q1  https://www.qmul.ac.uk/postgraduate/taught/cou...   \n",
       "6               G5U5  https://www.qmul.ac.uk/postgraduate/taught/cou...   \n",
       "7               I4U5                                                      \n",
       "8               H6T5  https://www.qmul.ac.uk/postgraduate/taught/cou...   \n",
       "9               I1T0  https://www.qmul.ac.uk/postgraduate/taught/cou...   \n",
       "10              H6JE  https://www.qmul.ac.uk/postgraduate/taught/cou...   \n",
       "11              H6T8  https://www.qmul.ac.uk/postgraduate/taught/cou...   \n",
       "12              H6JA  https://www.qmul.ac.uk/postgraduate/taught/cou...   \n",
       "13                    https://www.qmul.ac.uk/postgraduate/taught/cou...   \n",
       "\n",
       "                                       Full-time Link  \n",
       "0   https://www.qmul.ac.uk/postgraduate/taught/cou...  \n",
       "1   https://www.qmul.ac.uk/postgraduate/taught/cou...  \n",
       "2   https://www.qmul.ac.uk/postgraduate/taught/cou...  \n",
       "3   https://www.qmul.ac.uk/postgraduate/taught/cou...  \n",
       "4   https://www.qmul.ac.uk/postgraduate/taught/cou...  \n",
       "5   https://www.qmul.ac.uk/postgraduate/taught/cou...  \n",
       "6   https://www.qmul.ac.uk/postgraduate/taught/cou...  \n",
       "7   https://www.qmul.ac.uk/postgraduate/taught/cou...  \n",
       "8   https://www.qmul.ac.uk/postgraduate/taught/cou...  \n",
       "9   https://www.qmul.ac.uk/postgraduate/taught/cou...  \n",
       "10  https://www.qmul.ac.uk/postgraduate/taught/cou...  \n",
       "11  https://www.qmul.ac.uk/postgraduate/taught/cou...  \n",
       "12  https://www.qmul.ac.uk/postgraduate/taught/cou...  \n",
       "13                                                     "
      ]
     },
     "execution_count": 35,
     "metadata": {},
     "output_type": "execute_result"
    }
   ],
   "source": [
    "df3 = pd.DataFrame(links, columns=['drop', 'Part-time Link', 'Full-time Link'])\n",
    "df3 = df3.drop('drop',axis=1)\n",
    "df3 = df2.join(df3)\n",
    "df3"
   ]
  },
  {
   "cell_type": "markdown",
   "metadata": {},
   "source": [
    "## Q3"
   ]
  },
  {
   "cell_type": "code",
   "execution_count": 36,
   "metadata": {},
   "outputs": [
    {
     "data": {
      "text/plain": [
       "array([[0.25, 0.  , 0.5 , 0.5 , 0.5 ],\n",
       "       [0.  , 0.25, 0.5 , 0.5 , 0.5 ],\n",
       "       [0.25, 0.25, 0.  , 0.  , 0.  ],\n",
       "       [0.25, 0.25, 0.  , 0.  , 0.  ],\n",
       "       [0.25, 0.25, 0.  , 0.  , 0.  ]])"
      ]
     },
     "execution_count": 36,
     "metadata": {},
     "output_type": "execute_result"
    }
   ],
   "source": [
    "matrix = np.array([[0.25,0,0.25,0.25,0.25],\n",
    "                   [0,0.25,0.25,0.25,0.25],\n",
    "                   [0.5,0.5,0,0,0],\n",
    "                   [0.5,0.5,0,0,0],\n",
    "                   [0.5,0.5,0,0,0]])\n",
    "damping = np.array([[0.825,0.825,0.825,0.825,0.825]]).T\n",
    "damping\n",
    "\n",
    "matrix = matrix.T\n",
    "matrix"
   ]
  },
  {
   "cell_type": "code",
   "execution_count": 37,
   "metadata": {
    "scrolled": false
   },
   "outputs": [
    {
     "data": {
      "text/plain": [
       "array([[1.18329637],\n",
       "       [1.18329637],\n",
       "       [0.58613576],\n",
       "       [0.58613576],\n",
       "       [0.58613576]])"
      ]
     },
     "execution_count": 37,
     "metadata": {},
     "output_type": "execute_result"
    }
   ],
   "source": [
    "iter_1 = np.matmul(matrix,damping)\n",
    "iter_2 = np.matmul(matrix,iter_1)\n",
    "iter_3 = np.matmul(matrix,iter_2)\n",
    "iter_4 = np.matmul(matrix,iter_3)\n",
    "iter_5 = np.matmul(matrix,iter_4)\n",
    "iter_6 = np.matmul(matrix,iter_5)\n",
    "iter_7 = np.matmul(matrix,iter_6)\n",
    "iter_8 = np.matmul(matrix,iter_7)\n",
    "iter_9 = np.matmul(matrix,iter_8)\n",
    "iter_10 = np.matmul(matrix,iter_9)\n",
    "iter_11 = np.matmul(matrix,iter_10)\n",
    "iter_12 = np.matmul(matrix,iter_11)\n",
    "iter_13 = np.matmul(matrix,iter_12)\n",
    "iter_14 = np.matmul(matrix,iter_13)\n",
    "iter_15 = np.matmul(matrix,iter_14)\n",
    "\n",
    "iter_15"
   ]
  },
  {
   "cell_type": "code",
   "execution_count": 38,
   "metadata": {},
   "outputs": [],
   "source": [
    "damping2 = np.array([[0.9,0.9,0.9,0.9,0.9]]).T"
   ]
  },
  {
   "cell_type": "code",
   "execution_count": 39,
   "metadata": {},
   "outputs": [
    {
     "data": {
      "text/plain": [
       "array([[0.28875],\n",
       "       [0.28875],\n",
       "       [0.0825 ],\n",
       "       [0.0825 ],\n",
       "       [0.0825 ]])"
      ]
     },
     "execution_count": 39,
     "metadata": {},
     "output_type": "execute_result"
    }
   ],
   "source": [
    "def looper(matrix, damping):\n",
    "    \n",
    "    test = np.matmul(matrix,damping)\n",
    "    if not np.array_equal(np.matmul(matrix,damping), test):\n",
    "        looper(matrix,test)\n",
    "    return test\n",
    "\n",
    "looper(matrix,damping)/5"
   ]
  },
  {
   "cell_type": "code",
   "execution_count": 40,
   "metadata": {},
   "outputs": [
    {
     "data": {
      "text/plain": [
       "0.45499999999999996"
      ]
     },
     "execution_count": 40,
     "metadata": {},
     "output_type": "execute_result"
    }
   ],
   "source": [
    "A = ((1-0.85)/5)+0.85*(1/2+1/2+1/2)\n",
    "\n",
    "A = 0.03+0.85*(0.5+0.5+0.5)\n",
    "B = 0.03+0.85*(0.5+0.5+0.5)\n",
    "0.03+0.85*(0.25+0.25)"
   ]
  },
  {
   "cell_type": "code",
   "execution_count": 41,
   "metadata": {},
   "outputs": [
    {
     "data": {
      "text/plain": [
       "0.29574999999999996"
      ]
     },
     "execution_count": 41,
     "metadata": {},
     "output_type": "execute_result"
    }
   ],
   "source": [
    "((0.175/5)+0.825*(0.25+0.5+0.5+0.5))/5"
   ]
  },
  {
   "cell_type": "code",
   "execution_count": 42,
   "metadata": {},
   "outputs": [
    {
     "data": {
      "text/plain": [
       "0.44749999999999995"
      ]
     },
     "execution_count": 42,
     "metadata": {},
     "output_type": "execute_result"
    }
   ],
   "source": [
    "((0.175/5)+0.825*(0.25+0.25))"
   ]
  },
  {
   "cell_type": "code",
   "execution_count": 43,
   "metadata": {},
   "outputs": [
    {
     "data": {
      "text/plain": [
       "0.60885"
      ]
     },
     "execution_count": 43,
     "metadata": {},
     "output_type": "execute_result"
    }
   ],
   "source": [
    "(0.15/5)+0.85*(0.227+0.227+0.227)"
   ]
  }
 ],
 "metadata": {
  "colab": {
   "authorship_tag": "ABX9TyMcN+htJ4VGBH1Ln8o20XXr",
   "collapsed_sections": [],
   "include_colab_link": true,
   "name": "Untitled4.ipynb",
   "provenance": []
  },
  "kernelspec": {
   "display_name": "Python 3",
   "language": "python",
   "name": "python3"
  },
  "language_info": {
   "codemirror_mode": {
    "name": "ipython",
    "version": 3
   },
   "file_extension": ".py",
   "mimetype": "text/x-python",
   "name": "python",
   "nbconvert_exporter": "python",
   "pygments_lexer": "ipython3",
   "version": "3.8.8"
  }
 },
 "nbformat": 4,
 "nbformat_minor": 1
}
