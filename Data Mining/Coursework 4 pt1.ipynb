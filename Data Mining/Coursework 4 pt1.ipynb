{
  "nbformat": 4,
  "nbformat_minor": 0,
  "metadata": {
    "colab": {
      "name": "Untitled4.ipynb",
      "provenance": [],
      "collapsed_sections": [],
      "authorship_tag": "ABX9TyMcN+htJ4VGBH1Ln8o20XXr",
      "include_colab_link": true
    },
    "kernelspec": {
      "name": "python3",
      "display_name": "Python 3"
    },
    "language_info": {
      "name": "python"
    }
  },
  "cells": [
    {
      "cell_type": "markdown",
      "metadata": {
        "id": "view-in-github",
        "colab_type": "text"
      },
      "source": [
        "<a href=\"https://colab.research.google.com/github/elliot-linsey/QMUL/blob/main/Data%20Mining/Coursework%204%20pt1.ipynb\" target=\"_parent\"><img src=\"https://colab.research.google.com/assets/colab-badge.svg\" alt=\"Open In Colab\"/></a>"
      ]
    },
    {
      "cell_type": "code",
      "metadata": {
        "id": "uEZw1618BrXw"
      },
      "source": [
        "import pandas as pd\n",
        "import numpy as np\n",
        "import matplotlib.pyplot as plt\n",
        "import seaborn as sns\n",
        "%matplotlib inline\n",
        "from urllib.request import urlopen\n",
        "from bs4 import BeautifulSoup"
      ],
      "execution_count": 42,
      "outputs": []
    },
    {
      "cell_type": "code",
      "metadata": {
        "id": "om5l0WMoBxKB"
      },
      "source": [
        "url = 'http://eecs.qmul.ac.uk/~emmanouilb/income_table.html'\n",
        "html = urlopen(url)"
      ],
      "execution_count": 43,
      "outputs": []
    },
    {
      "cell_type": "code",
      "metadata": {
        "colab": {
          "base_uri": "https://localhost:8080/"
        },
        "id": "gy2IknGsBykl",
        "outputId": "c3ebd320-7f98-4d0e-a96b-50b79248027c"
      },
      "source": [
        "soup = BeautifulSoup(html, 'lxml')"
      ],
      "execution_count": 44,
      "outputs": [
        {
          "output_type": "stream",
          "name": "stdout",
          "text": [
            "[<h1>ECS766P Data Mining - Week 10</h1>]\n"
          ]
        }
      ]
    },
    {
      "cell_type": "code",
      "metadata": {
        "colab": {
          "base_uri": "https://localhost:8080/"
        },
        "id": "3klfCHcXBym9",
        "outputId": "f6df8ef6-2635-4332-9a72-2732e2840ceb"
      },
      "source": [
        "th = soup.find_all('th')\n",
        "headers = []\n",
        "for header in th:\n",
        "  headers.append(header.get_text())\n",
        "headers"
      ],
      "execution_count": 53,
      "outputs": [
        {
          "output_type": "execute_result",
          "data": {
            "text/plain": [
              "['Region', 'Age', 'Income', 'Online Shopper']"
            ]
          },
          "metadata": {},
          "execution_count": 53
        }
      ]
    },
    {
      "cell_type": "code",
      "metadata": {
        "colab": {
          "base_uri": "https://localhost:8080/"
        },
        "id": "OR-N43LtBypM",
        "outputId": "fc749906-6128-4a43-b6ec-9cf691806049"
      },
      "source": [
        "td = soup.find_all('td')\n",
        "rows = []\n",
        "for row in td:\n",
        "  rows.append(row.get_text())\n",
        "rows = np.array(rows)\n",
        "rows = np.reshape(rows,(10,4))\n",
        "rows"
      ],
      "execution_count": 63,
      "outputs": [
        {
          "output_type": "execute_result",
          "data": {
            "text/plain": [
              "array([['India', '49', '86400', 'No'],\n",
              "       ['Brazil', '32', '57600', 'Yes'],\n",
              "       ['USA', '35', '64800', 'No'],\n",
              "       ['Brazil', '43', '73200', 'No'],\n",
              "       ['USA', '45', '', 'Yes'],\n",
              "       ['India', '40', '69600', 'Yes'],\n",
              "       ['Brazil', '', '62400', 'No'],\n",
              "       ['India', '53', '94800', 'Yes'],\n",
              "       ['USA', '55', '99600', 'No'],\n",
              "       ['India', '42', '80400', 'Yes']], dtype='<U6')"
            ]
          },
          "metadata": {},
          "execution_count": 63
        }
      ]
    },
    {
      "cell_type": "code",
      "metadata": {
        "colab": {
          "base_uri": "https://localhost:8080/",
          "height": 363
        },
        "id": "dGXEWivUByrs",
        "outputId": "e1e2caaa-fa73-4cc8-8395-5606ac5fc69e"
      },
      "source": [
        "df = pd.DataFrame(rows,columns=headers)\n",
        "df"
      ],
      "execution_count": 64,
      "outputs": [
        {
          "output_type": "execute_result",
          "data": {
            "text/html": [
              "<div>\n",
              "<style scoped>\n",
              "    .dataframe tbody tr th:only-of-type {\n",
              "        vertical-align: middle;\n",
              "    }\n",
              "\n",
              "    .dataframe tbody tr th {\n",
              "        vertical-align: top;\n",
              "    }\n",
              "\n",
              "    .dataframe thead th {\n",
              "        text-align: right;\n",
              "    }\n",
              "</style>\n",
              "<table border=\"1\" class=\"dataframe\">\n",
              "  <thead>\n",
              "    <tr style=\"text-align: right;\">\n",
              "      <th></th>\n",
              "      <th>Region</th>\n",
              "      <th>Age</th>\n",
              "      <th>Income</th>\n",
              "      <th>Online Shopper</th>\n",
              "    </tr>\n",
              "  </thead>\n",
              "  <tbody>\n",
              "    <tr>\n",
              "      <th>0</th>\n",
              "      <td>India</td>\n",
              "      <td>49</td>\n",
              "      <td>86400</td>\n",
              "      <td>No</td>\n",
              "    </tr>\n",
              "    <tr>\n",
              "      <th>1</th>\n",
              "      <td>Brazil</td>\n",
              "      <td>32</td>\n",
              "      <td>57600</td>\n",
              "      <td>Yes</td>\n",
              "    </tr>\n",
              "    <tr>\n",
              "      <th>2</th>\n",
              "      <td>USA</td>\n",
              "      <td>35</td>\n",
              "      <td>64800</td>\n",
              "      <td>No</td>\n",
              "    </tr>\n",
              "    <tr>\n",
              "      <th>3</th>\n",
              "      <td>Brazil</td>\n",
              "      <td>43</td>\n",
              "      <td>73200</td>\n",
              "      <td>No</td>\n",
              "    </tr>\n",
              "    <tr>\n",
              "      <th>4</th>\n",
              "      <td>USA</td>\n",
              "      <td>45</td>\n",
              "      <td></td>\n",
              "      <td>Yes</td>\n",
              "    </tr>\n",
              "    <tr>\n",
              "      <th>5</th>\n",
              "      <td>India</td>\n",
              "      <td>40</td>\n",
              "      <td>69600</td>\n",
              "      <td>Yes</td>\n",
              "    </tr>\n",
              "    <tr>\n",
              "      <th>6</th>\n",
              "      <td>Brazil</td>\n",
              "      <td></td>\n",
              "      <td>62400</td>\n",
              "      <td>No</td>\n",
              "    </tr>\n",
              "    <tr>\n",
              "      <th>7</th>\n",
              "      <td>India</td>\n",
              "      <td>53</td>\n",
              "      <td>94800</td>\n",
              "      <td>Yes</td>\n",
              "    </tr>\n",
              "    <tr>\n",
              "      <th>8</th>\n",
              "      <td>USA</td>\n",
              "      <td>55</td>\n",
              "      <td>99600</td>\n",
              "      <td>No</td>\n",
              "    </tr>\n",
              "    <tr>\n",
              "      <th>9</th>\n",
              "      <td>India</td>\n",
              "      <td>42</td>\n",
              "      <td>80400</td>\n",
              "      <td>Yes</td>\n",
              "    </tr>\n",
              "  </tbody>\n",
              "</table>\n",
              "</div>"
            ],
            "text/plain": [
              "   Region Age Income Online Shopper\n",
              "0   India  49  86400             No\n",
              "1  Brazil  32  57600            Yes\n",
              "2     USA  35  64800             No\n",
              "3  Brazil  43  73200             No\n",
              "4     USA  45                   Yes\n",
              "5   India  40  69600            Yes\n",
              "6  Brazil      62400             No\n",
              "7   India  53  94800            Yes\n",
              "8     USA  55  99600             No\n",
              "9   India  42  80400            Yes"
            ]
          },
          "metadata": {},
          "execution_count": 64
        }
      ]
    },
    {
      "cell_type": "code",
      "metadata": {
        "id": "i50g443GByuE"
      },
      "source": [
        "url = 'http://eecs.qmul.ac.uk/postgraduate/programmes/'\n",
        "html = urlopen(url)"
      ],
      "execution_count": 65,
      "outputs": []
    },
    {
      "cell_type": "code",
      "metadata": {
        "id": "-1KyTWFJBywL"
      },
      "source": [
        "soup = BeautifulSoup(html, 'lxml')"
      ],
      "execution_count": 66,
      "outputs": []
    },
    {
      "cell_type": "code",
      "metadata": {
        "colab": {
          "base_uri": "https://localhost:8080/"
        },
        "id": "lfeSeJREByyd",
        "outputId": "4f95941e-853a-4920-8228-1e67dd6bda92"
      },
      "source": [
        "th = soup.find_all('th')\n",
        "headers = []\n",
        "for header in th:\n",
        "  headers.append(header.get_text())\n",
        "headers"
      ],
      "execution_count": 67,
      "outputs": [
        {
          "output_type": "execute_result",
          "data": {
            "text/plain": [
              "['Postgraduate degree programmes', 'Part-time(2 year)', 'Full-time(1 year)']"
            ]
          },
          "metadata": {},
          "execution_count": 67
        }
      ]
    },
    {
      "cell_type": "code",
      "metadata": {
        "id": "wQNryF-6By0b"
      },
      "source": [
        "td = soup.find_all('td')\n",
        "rows = []\n",
        "for row in td:\n",
        "  rows.append(row.get_text())\n",
        "rows = np.array(rows)\n",
        "rows = np.reshape(rows,(17,3))\n",
        "rows2 = []\n",
        "for x in rows:\n",
        "  rows2.append(np.char.strip(x,'\\xa0'))\n",
        "rows = rows2\n",
        "#rows"
      ],
      "execution_count": 79,
      "outputs": []
    },
    {
      "cell_type": "code",
      "metadata": {
        "colab": {
          "base_uri": "https://localhost:8080/",
          "height": 582
        },
        "id": "FcJ5FUI3I9pV",
        "outputId": "e88c1fd8-4520-44ec-94fb-788c4a6af8ed"
      },
      "source": [
        "df2 = pd.DataFrame(rows, columns=headers)\n",
        "df2"
      ],
      "execution_count": 78,
      "outputs": [
        {
          "output_type": "execute_result",
          "data": {
            "text/html": [
              "<div>\n",
              "<style scoped>\n",
              "    .dataframe tbody tr th:only-of-type {\n",
              "        vertical-align: middle;\n",
              "    }\n",
              "\n",
              "    .dataframe tbody tr th {\n",
              "        vertical-align: top;\n",
              "    }\n",
              "\n",
              "    .dataframe thead th {\n",
              "        text-align: right;\n",
              "    }\n",
              "</style>\n",
              "<table border=\"1\" class=\"dataframe\">\n",
              "  <thead>\n",
              "    <tr style=\"text-align: right;\">\n",
              "      <th></th>\n",
              "      <th>Postgraduate degree programmes</th>\n",
              "      <th>Part-time(2 year)</th>\n",
              "      <th>Full-time(1 year)</th>\n",
              "    </tr>\n",
              "  </thead>\n",
              "  <tbody>\n",
              "    <tr>\n",
              "      <th>0</th>\n",
              "      <td>Advanced Electronic and Electrical Engineering</td>\n",
              "      <td>H60C</td>\n",
              "      <td>H60A</td>\n",
              "    </tr>\n",
              "    <tr>\n",
              "      <th>1</th>\n",
              "      <td>Artificial Intelligence</td>\n",
              "      <td>I4U2</td>\n",
              "      <td>I4U1</td>\n",
              "    </tr>\n",
              "    <tr>\n",
              "      <th>2</th>\n",
              "      <td>Artificial Intelligence with Machine Learning ...</td>\n",
              "      <td></td>\n",
              "      <td>I4U8</td>\n",
              "    </tr>\n",
              "    <tr>\n",
              "      <th>3</th>\n",
              "      <td>Big Data Science</td>\n",
              "      <td>H6J6</td>\n",
              "      <td>H6J7</td>\n",
              "    </tr>\n",
              "    <tr>\n",
              "      <th>4</th>\n",
              "      <td>Big Data Science with Machine Learning Systems...</td>\n",
              "      <td></td>\n",
              "      <td>I4U7</td>\n",
              "    </tr>\n",
              "    <tr>\n",
              "      <th>5</th>\n",
              "      <td>Computer Games</td>\n",
              "      <td></td>\n",
              "      <td>I4U4</td>\n",
              "    </tr>\n",
              "    <tr>\n",
              "      <th>6</th>\n",
              "      <td>Computer Science</td>\n",
              "      <td>G4U2</td>\n",
              "      <td>G4U1</td>\n",
              "    </tr>\n",
              "    <tr>\n",
              "      <th>7</th>\n",
              "      <td>Computer Science by Research</td>\n",
              "      <td>G4Q2</td>\n",
              "      <td>G4Q1</td>\n",
              "    </tr>\n",
              "    <tr>\n",
              "      <th>8</th>\n",
              "      <td>Computing and Information Systems</td>\n",
              "      <td>G5U6</td>\n",
              "      <td>G5U5</td>\n",
              "    </tr>\n",
              "    <tr>\n",
              "      <th>9</th>\n",
              "      <td>Data Science and Artificial Intelligence by Co...</td>\n",
              "      <td></td>\n",
              "      <td>I4U5</td>\n",
              "    </tr>\n",
              "    <tr>\n",
              "      <th>10</th>\n",
              "      <td>Electronic Engineering by Research</td>\n",
              "      <td>H6T6</td>\n",
              "      <td>H6T5</td>\n",
              "    </tr>\n",
              "    <tr>\n",
              "      <th>11</th>\n",
              "      <td>Internet of Things (Data)</td>\n",
              "      <td>I1T2</td>\n",
              "      <td>I1T0</td>\n",
              "    </tr>\n",
              "    <tr>\n",
              "      <th>12</th>\n",
              "      <td>Machine Learning for Visual Data Analytics</td>\n",
              "      <td>H6JZ</td>\n",
              "      <td>H6JE</td>\n",
              "    </tr>\n",
              "    <tr>\n",
              "      <th>13</th>\n",
              "      <td>Media and Arts Technology</td>\n",
              "      <td></td>\n",
              "      <td>I4U6</td>\n",
              "    </tr>\n",
              "    <tr>\n",
              "      <th>14</th>\n",
              "      <td>Sound and Music Computing</td>\n",
              "      <td>H6T4</td>\n",
              "      <td>H6T8</td>\n",
              "    </tr>\n",
              "    <tr>\n",
              "      <th>15</th>\n",
              "      <td>Telecommunication and Wireless Systems</td>\n",
              "      <td>H6JD</td>\n",
              "      <td>H6JA</td>\n",
              "    </tr>\n",
              "    <tr>\n",
              "      <th>16</th>\n",
              "      <td>Digital and Technology Solutions (Apprenticeship)</td>\n",
              "      <td>I4DA</td>\n",
              "      <td></td>\n",
              "    </tr>\n",
              "  </tbody>\n",
              "</table>\n",
              "</div>"
            ],
            "text/plain": [
              "                       Postgraduate degree programmes  ... Full-time(1 year)\n",
              "0      Advanced Electronic and Electrical Engineering  ...              H60A\n",
              "1                             Artificial Intelligence  ...              I4U1\n",
              "2   Artificial Intelligence with Machine Learning ...  ...              I4U8\n",
              "3                                    Big Data Science  ...              H6J7\n",
              "4   Big Data Science with Machine Learning Systems...  ...              I4U7\n",
              "5                                      Computer Games  ...              I4U4\n",
              "6                                    Computer Science  ...              G4U1\n",
              "7                        Computer Science by Research  ...              G4Q1\n",
              "8                   Computing and Information Systems  ...              G5U5\n",
              "9   Data Science and Artificial Intelligence by Co...  ...              I4U5\n",
              "10                 Electronic Engineering by Research  ...              H6T5\n",
              "11                          Internet of Things (Data)  ...              I1T0\n",
              "12         Machine Learning for Visual Data Analytics  ...              H6JE\n",
              "13                          Media and Arts Technology  ...              I4U6\n",
              "14                          Sound and Music Computing  ...              H6T8\n",
              "15             Telecommunication and Wireless Systems  ...              H6JA\n",
              "16  Digital and Technology Solutions (Apprenticeship)  ...                  \n",
              "\n",
              "[17 rows x 3 columns]"
            ]
          },
          "metadata": {},
          "execution_count": 78
        }
      ]
    },
    {
      "cell_type": "code",
      "metadata": {
        "id": "irMrbJ9EJTd7"
      },
      "source": [
        "links = []\n",
        "for row in soup.find_all('td'):\n",
        "  #print(row.find('a'))\n",
        "  try:\n",
        "    links.append(row.find('a').get('href'))\n",
        "  except AttributeError:\n",
        "    links.append('')"
      ],
      "execution_count": 136,
      "outputs": []
    },
    {
      "cell_type": "code",
      "metadata": {
        "id": "ZDjLow8AL3Fx"
      },
      "source": [
        "links = np.array(links)\n",
        "links = np.reshape(links,(17,3))\n",
        "#links"
      ],
      "execution_count": 137,
      "outputs": []
    },
    {
      "cell_type": "code",
      "metadata": {
        "colab": {
          "base_uri": "https://localhost:8080/",
          "height": 582
        },
        "id": "5oBg4r-kOBsp",
        "outputId": "c1bf64b1-862c-4cba-8906-1ffe616ebd88"
      },
      "source": [
        "df3 = pd.DataFrame(links, columns=['drop', 'Part-time Link', 'Full-time Link'])\n",
        "df3 = df3.drop('drop',axis=1)\n",
        "df3 = df2.join(df3)\n",
        "df3"
      ],
      "execution_count": 143,
      "outputs": [
        {
          "output_type": "execute_result",
          "data": {
            "text/html": [
              "<div>\n",
              "<style scoped>\n",
              "    .dataframe tbody tr th:only-of-type {\n",
              "        vertical-align: middle;\n",
              "    }\n",
              "\n",
              "    .dataframe tbody tr th {\n",
              "        vertical-align: top;\n",
              "    }\n",
              "\n",
              "    .dataframe thead th {\n",
              "        text-align: right;\n",
              "    }\n",
              "</style>\n",
              "<table border=\"1\" class=\"dataframe\">\n",
              "  <thead>\n",
              "    <tr style=\"text-align: right;\">\n",
              "      <th></th>\n",
              "      <th>Postgraduate degree programmes</th>\n",
              "      <th>Part-time(2 year)</th>\n",
              "      <th>Full-time(1 year)</th>\n",
              "      <th>Part-time Link</th>\n",
              "      <th>Full-time Link</th>\n",
              "    </tr>\n",
              "  </thead>\n",
              "  <tbody>\n",
              "    <tr>\n",
              "      <th>0</th>\n",
              "      <td>Advanced Electronic and Electrical Engineering</td>\n",
              "      <td>H60C</td>\n",
              "      <td>H60A</td>\n",
              "      <td>https://www.qmul.ac.uk/postgraduate/taught/cou...</td>\n",
              "      <td>https://www.qmul.ac.uk/postgraduate/taught/cou...</td>\n",
              "    </tr>\n",
              "    <tr>\n",
              "      <th>1</th>\n",
              "      <td>Artificial Intelligence</td>\n",
              "      <td>I4U2</td>\n",
              "      <td>I4U1</td>\n",
              "      <td>https://www.qmul.ac.uk/postgraduate/taught/cou...</td>\n",
              "      <td>https://www.qmul.ac.uk/postgraduate/taught/cou...</td>\n",
              "    </tr>\n",
              "    <tr>\n",
              "      <th>2</th>\n",
              "      <td>Artificial Intelligence with Machine Learning ...</td>\n",
              "      <td></td>\n",
              "      <td>I4U8</td>\n",
              "      <td></td>\n",
              "      <td>https://www.qmul.ac.uk/postgraduate/taught/cou...</td>\n",
              "    </tr>\n",
              "    <tr>\n",
              "      <th>3</th>\n",
              "      <td>Big Data Science</td>\n",
              "      <td>H6J6</td>\n",
              "      <td>H6J7</td>\n",
              "      <td>https://www.qmul.ac.uk/postgraduate/taught/cou...</td>\n",
              "      <td>https://www.qmul.ac.uk/postgraduate/taught/cou...</td>\n",
              "    </tr>\n",
              "    <tr>\n",
              "      <th>4</th>\n",
              "      <td>Big Data Science with Machine Learning Systems...</td>\n",
              "      <td></td>\n",
              "      <td>I4U7</td>\n",
              "      <td></td>\n",
              "      <td>https://www.qmul.ac.uk/postgraduate/taught/cou...</td>\n",
              "    </tr>\n",
              "    <tr>\n",
              "      <th>5</th>\n",
              "      <td>Computer Games</td>\n",
              "      <td></td>\n",
              "      <td>I4U4</td>\n",
              "      <td></td>\n",
              "      <td>https://www.qmul.ac.uk/postgraduate/taught/cou...</td>\n",
              "    </tr>\n",
              "    <tr>\n",
              "      <th>6</th>\n",
              "      <td>Computer Science</td>\n",
              "      <td>G4U2</td>\n",
              "      <td>G4U1</td>\n",
              "      <td>https://www.qmul.ac.uk/postgraduate/taught/cou...</td>\n",
              "      <td>https://www.qmul.ac.uk/postgraduate/taught/cou...</td>\n",
              "    </tr>\n",
              "    <tr>\n",
              "      <th>7</th>\n",
              "      <td>Computer Science by Research</td>\n",
              "      <td>G4Q2</td>\n",
              "      <td>G4Q1</td>\n",
              "      <td>https://www.qmul.ac.uk/postgraduate/taught/cou...</td>\n",
              "      <td>https://www.qmul.ac.uk/postgraduate/taught/cou...</td>\n",
              "    </tr>\n",
              "    <tr>\n",
              "      <th>8</th>\n",
              "      <td>Computing and Information Systems</td>\n",
              "      <td>G5U6</td>\n",
              "      <td>G5U5</td>\n",
              "      <td>https://www.qmul.ac.uk/postgraduate/taught/cou...</td>\n",
              "      <td>https://www.qmul.ac.uk/postgraduate/taught/cou...</td>\n",
              "    </tr>\n",
              "    <tr>\n",
              "      <th>9</th>\n",
              "      <td>Data Science and Artificial Intelligence by Co...</td>\n",
              "      <td></td>\n",
              "      <td>I4U5</td>\n",
              "      <td></td>\n",
              "      <td>https://www.qmul.ac.uk/postgraduate/taught/cou...</td>\n",
              "    </tr>\n",
              "    <tr>\n",
              "      <th>10</th>\n",
              "      <td>Electronic Engineering by Research</td>\n",
              "      <td>H6T6</td>\n",
              "      <td>H6T5</td>\n",
              "      <td>https://www.qmul.ac.uk/postgraduate/taught/cou...</td>\n",
              "      <td>https://www.qmul.ac.uk/postgraduate/taught/cou...</td>\n",
              "    </tr>\n",
              "    <tr>\n",
              "      <th>11</th>\n",
              "      <td>Internet of Things (Data)</td>\n",
              "      <td>I1T2</td>\n",
              "      <td>I1T0</td>\n",
              "      <td>https://www.qmul.ac.uk/postgraduate/taught/cou...</td>\n",
              "      <td>https://www.qmul.ac.uk/postgraduate/taught/cou...</td>\n",
              "    </tr>\n",
              "    <tr>\n",
              "      <th>12</th>\n",
              "      <td>Machine Learning for Visual Data Analytics</td>\n",
              "      <td>H6JZ</td>\n",
              "      <td>H6JE</td>\n",
              "      <td>https://www.qmul.ac.uk/postgraduate/taught/cou...</td>\n",
              "      <td>https://www.qmul.ac.uk/postgraduate/taught/cou...</td>\n",
              "    </tr>\n",
              "    <tr>\n",
              "      <th>13</th>\n",
              "      <td>Media and Arts Technology</td>\n",
              "      <td></td>\n",
              "      <td>I4U6</td>\n",
              "      <td></td>\n",
              "      <td>https://www.qmul.ac.uk/postgraduate/taught/cou...</td>\n",
              "    </tr>\n",
              "    <tr>\n",
              "      <th>14</th>\n",
              "      <td>Sound and Music Computing</td>\n",
              "      <td>H6T4</td>\n",
              "      <td>H6T8</td>\n",
              "      <td>https://www.qmul.ac.uk/postgraduate/taught/cou...</td>\n",
              "      <td>https://www.qmul.ac.uk/postgraduate/taught/cou...</td>\n",
              "    </tr>\n",
              "    <tr>\n",
              "      <th>15</th>\n",
              "      <td>Telecommunication and Wireless Systems</td>\n",
              "      <td>H6JD</td>\n",
              "      <td>H6JA</td>\n",
              "      <td>https://www.qmul.ac.uk/postgraduate/taught/cou...</td>\n",
              "      <td>https://www.qmul.ac.uk/postgraduate/taught/cou...</td>\n",
              "    </tr>\n",
              "    <tr>\n",
              "      <th>16</th>\n",
              "      <td>Digital and Technology Solutions (Apprenticeship)</td>\n",
              "      <td>I4DA</td>\n",
              "      <td></td>\n",
              "      <td>https://www.qmul.ac.uk/postgraduate/taught/cou...</td>\n",
              "      <td></td>\n",
              "    </tr>\n",
              "  </tbody>\n",
              "</table>\n",
              "</div>"
            ],
            "text/plain": [
              "                       Postgraduate degree programmes  ...                                     Full-time Link\n",
              "0      Advanced Electronic and Electrical Engineering  ...  https://www.qmul.ac.uk/postgraduate/taught/cou...\n",
              "1                             Artificial Intelligence  ...  https://www.qmul.ac.uk/postgraduate/taught/cou...\n",
              "2   Artificial Intelligence with Machine Learning ...  ...  https://www.qmul.ac.uk/postgraduate/taught/cou...\n",
              "3                                    Big Data Science  ...  https://www.qmul.ac.uk/postgraduate/taught/cou...\n",
              "4   Big Data Science with Machine Learning Systems...  ...  https://www.qmul.ac.uk/postgraduate/taught/cou...\n",
              "5                                      Computer Games  ...  https://www.qmul.ac.uk/postgraduate/taught/cou...\n",
              "6                                    Computer Science  ...  https://www.qmul.ac.uk/postgraduate/taught/cou...\n",
              "7                        Computer Science by Research  ...  https://www.qmul.ac.uk/postgraduate/taught/cou...\n",
              "8                   Computing and Information Systems  ...  https://www.qmul.ac.uk/postgraduate/taught/cou...\n",
              "9   Data Science and Artificial Intelligence by Co...  ...  https://www.qmul.ac.uk/postgraduate/taught/cou...\n",
              "10                 Electronic Engineering by Research  ...  https://www.qmul.ac.uk/postgraduate/taught/cou...\n",
              "11                          Internet of Things (Data)  ...  https://www.qmul.ac.uk/postgraduate/taught/cou...\n",
              "12         Machine Learning for Visual Data Analytics  ...  https://www.qmul.ac.uk/postgraduate/taught/cou...\n",
              "13                          Media and Arts Technology  ...  https://www.qmul.ac.uk/postgraduate/taught/cou...\n",
              "14                          Sound and Music Computing  ...  https://www.qmul.ac.uk/postgraduate/taught/cou...\n",
              "15             Telecommunication and Wireless Systems  ...  https://www.qmul.ac.uk/postgraduate/taught/cou...\n",
              "16  Digital and Technology Solutions (Apprenticeship)  ...                                                   \n",
              "\n",
              "[17 rows x 5 columns]"
            ]
          },
          "metadata": {},
          "execution_count": 143
        }
      ]
    }
  ]
}