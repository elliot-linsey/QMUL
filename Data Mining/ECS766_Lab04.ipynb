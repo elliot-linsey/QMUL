{
  "nbformat": 4,
  "nbformat_minor": 0,
  "metadata": {
    "kernelspec": {
      "display_name": "Python 3",
      "language": "python",
      "name": "python3"
    },
    "language_info": {
      "codemirror_mode": {
        "name": "ipython",
        "version": 3
      },
      "file_extension": ".py",
      "mimetype": "text/x-python",
      "name": "python",
      "nbconvert_exporter": "python",
      "pygments_lexer": "ipython3",
      "version": "3.8.8"
    },
    "colab": {
      "name": "ECS766_Lab04.ipynb",
      "provenance": [],
      "include_colab_link": true
    }
  },
  "cells": [
    {
      "cell_type": "markdown",
      "metadata": {
        "id": "view-in-github",
        "colab_type": "text"
      },
      "source": [
        "<a href=\"https://colab.research.google.com/github/elliot-linsey/QMUL/blob/main/Data%20Mining/ECS766_Lab04.ipynb\" target=\"_parent\"><img src=\"https://colab.research.google.com/assets/colab-badge.svg\" alt=\"Open In Colab\"/></a>"
      ]
    },
    {
      "cell_type": "markdown",
      "metadata": {
        "id": "ZAtyWROx94E4"
      },
      "source": [
        "# Lab session 4: Data Warehousing and On-line Analytical Processing"
      ]
    },
    {
      "cell_type": "markdown",
      "metadata": {
        "id": "If25Mfk894FA"
      },
      "source": [
        "## Introduction \n",
        "\n",
        "The aim of this lab is for students to get experience with **Data Warehousing** and **On-line Analytical Processing (OLAP)** covered in week 5, and more specifically with the concepts of **data cubes**, **data cube measures**, **typical OLAP operations**, and **data cube computation**.\n",
        "\n",
        "- This lab is the first part of a **two-week assignment** that covers weeks 5 and 6, which is due on **Friday 12th November 10am**.\n",
        "- The assignment will account for 10% of your overall grade. Questions in this lab sheet will contribute to 5% of your overall grade; questions in the lab sheet for week 6 will cover for another 5% of your overall grade.\n",
        "- <font color = 'maroon'>The last section of this notebook includes the questions that are assessed towards your final grade.</font> "
      ]
    },
    {
      "cell_type": "markdown",
      "metadata": {
        "id": "YWOVB8jw94FC"
      },
      "source": [
        "## Important notes about the assignment: \n",
        "\n",
        "- **PLAGIARISM** <ins>is an irreversible non-negotiable failure in the course</ins> (if in doubt of what constitutes plagiarism, ask!). \n",
        "- The total assessed coursework is worth 40% of your final grade.\n",
        "- There will be 9 lab sessions and 4 assignments.\n",
        "- One assignment will cover 2 consecutive lab sessions and will be worth 10 marks (percentages of your final grade).\n",
        "- The submission cut-off date will be 7 days after the deadline and penalties will be applied for late submissions in accordance with the School policy on late submissions.\n",
        "- You are asked to submit a **report** that should answer the questions specified in the last section of this notebook. The report should be in a **single PDF document** (so **NOT** *doc, docx, notebook* etc). This single PDF document will include your answers to both the week 5 and week 6 labs.\n",
        "- No other means of submission other than submitting your assignment through the appropriate QM+ link are acceptable at any time. Submissions sent via email will **not** be considered.\n",
        "- Please name your report as follows: Assignment2-StudentName-StudentNumber.pdf\n",
        "- Cases of **Extenuating Circumstances (ECs)** have to go through the proper procedure of the School in due time. Only cases approved by the School in due time can be considered."
      ]
    },
    {
      "cell_type": "markdown",
      "metadata": {
        "id": "3ai66r0w94FE"
      },
      "source": [
        "## 1. Introduction to Cubes\n",
        "\n",
        "This chapter describes step-by-step how to use Cubes (http://cubes.databrewery.org/), a lightweight Python framework and set of tools for development of reporting and analytical applications, Online Analytical Processing (OLAP), multidimensional analysis and browsing of aggregated data. We will be working with v1.1 of Cubes. Cubes features:\n",
        "- a logical view of analysed data - how analysts look at data, how they think of data, not not how the data are physically implemented in the data stores\n",
        "- OLAP and aggregated browsing (default backend is for relational databse - ROLAP)\n",
        "- hierarchical dimensions (attributes that have hierarchical dependencies, such as category-subcategory or country-region)\n",
        "- multiple hierarchies in a dimension\n",
        "- localizable metadata and data (see Localization)\n",
        "- authentication and authorization of cubes and their data\n",
        "- pluggable data warehouse – plug-in other cube-like (multidimensional) data sources\n",
        "\n",
        "Cubes is meant to be used by application builders that want to provide analytical functionality. Cubes also relies on methods from SQLAlchemy (https://www.sqlalchemy.org/), an open-source SQL toolkit and object-relational mapper for Python."
      ]
    },
    {
      "cell_type": "markdown",
      "metadata": {
        "id": "tlo8E9Q794FG"
      },
      "source": [
        "## 2. Data Preparation\n",
        "\n",
        "The example data used here is the International Bank for Reconstruction and Development (IBRD) Balance Sheet. For this example we will be using the CSV file \"IBRD_Balance_Sheet__FY2010.csv\" which is provided in the supplementary material for the lab. The CSV file includes records which are characterised by a Category (and subcategories), Line Item, Fiscal Year, and Amount (in US$ millions). We first start with imports:"
      ]
    },
    {
      "cell_type": "code",
      "metadata": {
        "id": "9loI5pyc94FH"
      },
      "source": [
        "# If you are using Google Colab, you would need to run the below line to install Cubes. \n",
        "# You can comment the below line if you are running a local python installation with Cubes installed.\n",
        "# The below line also installs a particular version of the sqlalchemy package needed to use Cubes.\n",
        "# !pip install cubes\n",
        "# !pip install -Iv sqlalchemy==1.3.9\n",
        "\n",
        "from sqlalchemy import create_engine\n",
        "from cubes.tutorial.sql import create_table_from_csv"
      ],
      "execution_count": 1,
      "outputs": []
    },
    {
      "cell_type": "markdown",
      "metadata": {
        "id": "ElT74GPN94FK"
      },
      "source": [
        "We can now load the data, create a table and populate it with contents of the CSV file. Note the categories and subcategories created; check the CSV file to link the below commands with the contents of the dataset."
      ]
    },
    {
      "cell_type": "code",
      "metadata": {
        "id": "9k7JXkDv94FM"
      },
      "source": [
        "engine = create_engine('sqlite:///data.sqlite')\n",
        "create_table_from_csv(engine,\n",
        "                      \"IBRD_Balance_Sheet__FY2010.csv\",\n",
        "                      table_name=\"ibrd_balance\",\n",
        "                      fields=[\n",
        "                          (\"category\", \"string\"),\n",
        "                          (\"category_label\", \"string\"),\n",
        "                          (\"subcategory\", \"string\"),\n",
        "                          (\"subcategory_label\", \"string\"),\n",
        "                          (\"line_item\", \"string\"),\n",
        "                          (\"year\", \"integer\"),\n",
        "                          (\"amount\", \"integer\")],\n",
        "                      create_id=True\n",
        "                     )"
      ],
      "execution_count": 2,
      "outputs": []
    },
    {
      "cell_type": "markdown",
      "metadata": {
        "id": "musH1xU094FO"
      },
      "source": [
        "## 3. Creating a data cube\n",
        "\n",
        "Everything in Cubes happens in an *analytical workspace*. It contains cubes, maintains connections to the data stores (with cube data), provides connection to external cubes and more.\n",
        "\n",
        "The workspace properties are specified in a configuration file slicer.ini (default name). The first thing we have to do is to specify a data store – a database which will host the cube’s data:"
      ]
    },
    {
      "cell_type": "code",
      "metadata": {
        "id": "fA5ho_Aj94FQ"
      },
      "source": [
        "from cubes import Workspace\n",
        "\n",
        "workspace = Workspace()\n",
        "workspace.register_default_store(\"sql\", url=\"sqlite:///data.sqlite\")"
      ],
      "execution_count": 3,
      "outputs": []
    },
    {
      "cell_type": "markdown",
      "metadata": {
        "id": "7_kcuvu094FS"
      },
      "source": [
        "The structure of data cubes (in terms of dimensions, measures, and aggregates) is specified in JSON files. We now import file 'tutorial_model.json' (found in the lab supplementary material) which includes an example model of the data cube, dimension tables, and aggregate functions for the CSV file we loaded previously."
      ]
    },
    {
      "cell_type": "code",
      "metadata": {
        "id": "oYQH7qqXCGgh"
      },
      "source": [
        "workspace.import_model(\"tutorial_model.json\")"
      ],
      "execution_count": 4,
      "outputs": []
    },
    {
      "cell_type": "markdown",
      "metadata": {
        "id": "givVMHk094FU"
      },
      "source": [
        "**Please make sure to inspect the structure of the above JSON file - this will be relevant for one of the assignment questions.**\n",
        "\n",
        "We can now create a data cube based on the above data cube model and data table:"
      ]
    },
    {
      "cell_type": "code",
      "metadata": {
        "id": "tQw7yRPj94FU"
      },
      "source": [
        "cube = workspace.cube(\"ibrd_balance\")"
      ],
      "execution_count": 5,
      "outputs": []
    },
    {
      "cell_type": "markdown",
      "metadata": {
        "id": "HSiWZ8EW94FV"
      },
      "source": [
        "## 4. Aggregations and OLAP operations\n",
        "\n",
        "*Browser* is an object that does the actual aggregations and other data queries for a cube. To obtain one:"
      ]
    },
    {
      "cell_type": "code",
      "metadata": {
        "id": "_A0lIu-094FW"
      },
      "source": [
        "browser = workspace.browser(cube)"
      ],
      "execution_count": 6,
      "outputs": []
    },
    {
      "cell_type": "markdown",
      "metadata": {
        "id": "DO2BQzR394FW"
      },
      "source": [
        "We can now compute aggregates of the data cube as specified by the data cube model. For computing the total count of records:"
      ]
    },
    {
      "cell_type": "code",
      "metadata": {
        "colab": {
          "base_uri": "https://localhost:8080/"
        },
        "id": "AbSFtuI294FX",
        "outputId": "0fc7d5e4-59d8-40eb-ef46-fdb4fb1a9d92"
      },
      "source": [
        "result = browser.aggregate()\n",
        "result.summary[\"record_count\"]"
      ],
      "execution_count": 7,
      "outputs": [
        {
          "output_type": "execute_result",
          "data": {
            "text/plain": [
              "62"
            ]
          },
          "metadata": {},
          "execution_count": 7
        }
      ]
    },
    {
      "cell_type": "markdown",
      "metadata": {
        "id": "50pU-IRP94FY"
      },
      "source": [
        "For computing a sum of the amount:"
      ]
    },
    {
      "cell_type": "code",
      "metadata": {
        "colab": {
          "base_uri": "https://localhost:8080/"
        },
        "id": "_V2YnvCf94FY",
        "outputId": "2ee5c0be-d989-4463-acac-8848f779db10"
      },
      "source": [
        "result.summary[\"amount_sum\"]"
      ],
      "execution_count": 8,
      "outputs": [
        {
          "output_type": "execute_result",
          "data": {
            "text/plain": [
              "1116860"
            ]
          },
          "metadata": {},
          "execution_count": 8
        }
      ]
    },
    {
      "cell_type": "markdown",
      "metadata": {
        "id": "N5R_kXpQ94FZ"
      },
      "source": [
        "Now we can try to compute aggregates by year:"
      ]
    },
    {
      "cell_type": "code",
      "metadata": {
        "colab": {
          "base_uri": "https://localhost:8080/"
        },
        "id": "okJaTbI794FZ",
        "outputId": "b86b49d2-4263-4add-b6f3-a2015b57e1c4"
      },
      "source": [
        "result = browser.aggregate(drilldown=[\"year\"])\n",
        "for record in result:\n",
        "    print(record)"
      ],
      "execution_count": 9,
      "outputs": [
        {
          "output_type": "stream",
          "name": "stdout",
          "text": [
            "{'year': 2009, 'amount_sum': 550840, 'record_count': 31, 'maximum': 110040, 'minimum': -1683}\n",
            "{'year': 2010, 'amount_sum': 566020, 'record_count': 31, 'maximum': 128577, 'minimum': -3043}\n"
          ]
        }
      ]
    },
    {
      "cell_type": "markdown",
      "metadata": {
        "id": "-fHAh4po94Fa"
      },
      "source": [
        "Or compute aggregates by item category:"
      ]
    },
    {
      "cell_type": "code",
      "metadata": {
        "colab": {
          "base_uri": "https://localhost:8080/"
        },
        "id": "VIvaSVJ-94Fb",
        "outputId": "6cd7cddf-f07e-48f9-fad5-fd8486ab9de6"
      },
      "source": [
        "result = browser.aggregate(drilldown=[\"item\"])\n",
        "for record in result:\n",
        "    print(record)"
      ],
      "execution_count": 10,
      "outputs": [
        {
          "output_type": "stream",
          "name": "stdout",
          "text": [
            "{'item.category': 'a', 'item.category_label': 'Assets', 'amount_sum': 558430, 'record_count': 32, 'maximum': 118104, 'minimum': 0}\n",
            "{'item.category': 'e', 'item.category_label': 'Equity', 'amount_sum': 77592, 'record_count': 8, 'maximum': 29870, 'minimum': -3043}\n",
            "{'item.category': 'l', 'item.category_label': 'Liabilities', 'amount_sum': 480838, 'record_count': 22, 'maximum': 128577, 'minimum': 8}\n"
          ]
        }
      ]
    },
    {
      "cell_type": "markdown",
      "metadata": {
        "id": "pC_NUJYH94Fb"
      },
      "source": [
        "We can also perform *slicing* and *dicing* operations on the data cube. The below example performs a slicing operation on the data cube by selecting only entries with the year being 2009, and displays aggregates according to the item category. Here, a *cell* defines a point of interest – portion of the cube to be aggergated or browsed."
      ]
    },
    {
      "cell_type": "code",
      "metadata": {
        "colab": {
          "base_uri": "https://localhost:8080/"
        },
        "id": "1xzjGuI694Fc",
        "outputId": "cde1af44-f5c9-4fed-fb2d-e874a34735ef"
      },
      "source": [
        "import cubes as cubes\n",
        "cuts = [cubes.PointCut(\"year\", [\"2009\"])]\n",
        "cell = cubes.Cell(cube, cuts)\n",
        "result = browser.aggregate(cell, drilldown=[\"item\"])\n",
        "for record in result:\n",
        "    print(record)"
      ],
      "execution_count": 11,
      "outputs": [
        {
          "output_type": "stream",
          "name": "stdout",
          "text": [
            "{'item.category': 'a', 'item.category_label': 'Assets', 'amount_sum': 275420, 'record_count': 16, 'maximum': 103657, 'minimum': 33}\n",
            "{'item.category': 'e', 'item.category_label': 'Equity', 'amount_sum': 40037, 'record_count': 4, 'maximum': 29870, 'minimum': -1683}\n",
            "{'item.category': 'l', 'item.category_label': 'Liabilities', 'amount_sum': 235383, 'record_count': 11, 'maximum': 110040, 'minimum': 57}\n"
          ]
        }
      ]
    },
    {
      "cell_type": "markdown",
      "metadata": {
        "id": "JJOH1POr94Fc"
      },
      "source": [
        "It's worth noting that in Cubes, slicing operations can be created by either specifying a \"point cut\" which selects a single value of an attribute in a given dimension (called using the cubes.PointCut() function as above), or by specifying a \"range cut\", which selects a range of values for a given dimension. The range cut can be called using the cubes.RangeCut() function, which takes as input the attribute name, the minimum value of the specified range, and the maximum value of the range.\n",
        "\n",
        "Similarly, we can perform a *dicing* operation on the data cube by performing a selection on two or more dimensions. The below example performs a dicing operation on the data cube, selecting entries with the year being 2009 and the item category being \"a\", and displays the aggregate results:"
      ]
    },
    {
      "cell_type": "code",
      "metadata": {
        "colab": {
          "base_uri": "https://localhost:8080/"
        },
        "id": "zkXWMT0m94Fd",
        "outputId": "e171785d-6e22-49c2-f888-d8b1e1ac5cd4"
      },
      "source": [
        "cuts = [cubes.PointCut(\"year\", [\"2009\"]),cubes.PointCut(\"item\", [\"a\"])]\n",
        "cell = cubes.Cell(cube, cuts)\n",
        "result = browser.aggregate(cell,drilldown=[\"item\"])\n",
        "result.summary"
      ],
      "execution_count": 12,
      "outputs": [
        {
          "output_type": "execute_result",
          "data": {
            "text/plain": [
              "{'amount_sum': 275420, 'maximum': 103657, 'minimum': 33, 'record_count': 16}"
            ]
          },
          "metadata": {},
          "execution_count": 12
        }
      ]
    },
    {
      "cell_type": "markdown",
      "metadata": {
        "id": "mrGepYOJ94Fd"
      },
      "source": [
        "We can also *drill down* lower in the Category hierarchy. Here, we perform a dicing operation to select records with year being 2009 and item category being \"a\" (corresponding to assets), and show aggregates for each subcategory level."
      ]
    },
    {
      "cell_type": "code",
      "metadata": {
        "colab": {
          "base_uri": "https://localhost:8080/"
        },
        "id": "H2qxuCGb94Fe",
        "outputId": "efbc01d3-5a66-4ee4-a027-361587904d14"
      },
      "source": [
        "cuts = [cubes.PointCut(\"year\", [\"2009\"]),cubes.PointCut(\"item\", [\"a\"])]\n",
        "cell = cubes.Cell(cube, cuts)\n",
        "result = browser.aggregate(cell,drilldown=[\"item:subcategory\"])\n",
        "for record in result:\n",
        "    print(record)"
      ],
      "execution_count": 13,
      "outputs": [
        {
          "output_type": "stream",
          "name": "stdout",
          "text": [
            "{'item.category': 'a', 'item.category_label': 'Assets', 'item.subcategory': 'da', 'item.subcategory_label': 'Derivative Assets', 'amount_sum': 123065, 'record_count': 4, 'maximum': 82793, 'minimum': 2246}\n",
            "{'item.category': 'a', 'item.category_label': 'Assets', 'item.subcategory': 'dfb', 'item.subcategory_label': 'Due from Banks', 'amount_sum': 3044, 'record_count': 2, 'maximum': 2380, 'minimum': 664}\n",
            "{'item.category': 'a', 'item.category_label': 'Assets', 'item.subcategory': 'i', 'item.subcategory_label': 'Investments', 'amount_sum': 41012, 'record_count': 1, 'maximum': 41012, 'minimum': 41012}\n",
            "{'item.category': 'a', 'item.category_label': 'Assets', 'item.subcategory': 'lo', 'item.subcategory_label': 'Loans Outstanding', 'amount_sum': 103657, 'record_count': 1, 'maximum': 103657, 'minimum': 103657}\n",
            "{'item.category': 'a', 'item.category_label': 'Assets', 'item.subcategory': 'nn', 'item.subcategory_label': 'Nonnegotiable', 'amount_sum': 1202, 'record_count': 1, 'maximum': 1202, 'minimum': 1202}\n",
            "{'item.category': 'a', 'item.category_label': 'Assets', 'item.subcategory': 'oa', 'item.subcategory_label': 'Other Assets', 'amount_sum': 2247, 'record_count': 3, 'maximum': 1297, 'minimum': 325}\n",
            "{'item.category': 'a', 'item.category_label': 'Assets', 'item.subcategory': 'orcv', 'item.subcategory_label': 'Other Receivables', 'amount_sum': 984, 'record_count': 2, 'maximum': 889, 'minimum': 95}\n",
            "{'item.category': 'a', 'item.category_label': 'Assets', 'item.subcategory': 'rcv', 'item.subcategory_label': 'Receivables', 'amount_sum': 176, 'record_count': 1, 'maximum': 176, 'minimum': 176}\n",
            "{'item.category': 'a', 'item.category_label': 'Assets', 'item.subcategory': 's', 'item.subcategory_label': 'Securities', 'amount_sum': 33, 'record_count': 1, 'maximum': 33, 'minimum': 33}\n"
          ]
        }
      ]
    },
    {
      "cell_type": "markdown",
      "metadata": {
        "id": "bXAFaqZm94Fe"
      },
      "source": [
        "## <font color = 'maroon'>Assignment 2 [part 1 of 2]</font>\n",
        "\n",
        "Questions 1-2 are pen-and-paper exercises; questions 3-4 are coding exercises. For all your answers to the assignment, please include include your workings (e.g. equations, code) when this is relevant to the question.\n",
        "\n",
        "1. A data warehouse for a music streaming company consists of the dimensions song, user, time (time and date of when the user listened to a song), and the two measures count (how many times a user listened to the song) and fee (fee paid by the streaming company to the artist every time a user listens to that song). \n",
        "  1. Draw a schema diagram for the above data warehouse using a star schema. [1 mark out of 5]\n",
        "  2. Starting with the base cuboid [time, user, song], what specific OLAP operations should be performed in order to list the total fee collected for a given song for a given month of a given year (e.g. October 2021)? [0.5 marks out of 5]\n",
        "  3. Assume that the time dimension has 4 levels: day, month, quarter, year; and that the song and user dimensions both have 1 level (not including the virtual level 'all'). How many cuboids will this cube contain (including the base and apex cuboids)? [0.5 marks out of 5]\n",
        "  \n",
        "\n",
        "2. Suppose that a car rental company has a data warehouse that holds record ID lists of vehicles in terms of brands (Audi, Ford, Mini) and store branches (Tower Hamlets, Newham, Hackney). Each record consists of a combination of vehicle brand and branch, and records for all combinations exist. We would like to index the OLAP data using bitmap indices. Write down the *base table* for record IDs, and the corresponding *bitmap index table* for vehicle brand. [0.5 marks out of 5]\n",
        "  \n",
        "\n",
        "3. Using the same CSV file and data cube in the above lab tutorial, modify the \"tutorial_model.json\" file to include aggregate measures for the minimum and maximum amount in the data cube. Using these implemented aggregate measures, produce the values for the minimum and maximum amount in the data per year. Make sure to show your workings in the PDF report. You can read the [Cubes package documentation](https://readthedocs.org/projects/cubes/downloads/pdf/latest/) for assistance in this task. [1 mark out of 5]\n",
        "\n",
        "\n",
        "4. Using the CSV file \"country-income.csv\" (found in the week 5 supplementary lab documents), perform the following:\n",
        "  1. Load the CSV file using Cubes, create a JSON file for the data cube model, and create a data cube for the data. Use as dimensions the region, age, and online shopper fields. Use as measure the income. Define aggregate functions in the data cube model for the total, average, minimum, and maximum income. In your PDF report, show the relevant scripts and files created. [0.5 marks out of 5]\n",
        "  2. Using the created data cube and data cube model, produce aggregate results for: the whole data cube; results per region; results per online shopping activity; and results for all people aged between 40 and 50. [1 mark out of 5]\n",
        "  "
      ]
    }
  ]
}