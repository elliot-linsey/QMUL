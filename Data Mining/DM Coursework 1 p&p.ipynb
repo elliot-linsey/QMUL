{
 "cells": [
  {
   "cell_type": "code",
   "execution_count": 28,
   "id": "db9b119e",
   "metadata": {},
   "outputs": [],
   "source": [
    "import numpy as np\n",
    "from scipy.stats import chi2_contingency\n",
    "import pandas as pd"
   ]
  },
  {
   "cell_type": "code",
   "execution_count": 1,
   "id": "9d374fec",
   "metadata": {},
   "outputs": [],
   "source": [
    "nums = [3, 16, 20, 4, 2, 5, 10, 9, 13, 7, 14, 8]"
   ]
  },
  {
   "cell_type": "code",
   "execution_count": 8,
   "id": "ed16d716",
   "metadata": {},
   "outputs": [
    {
     "name": "stdout",
     "output_type": "stream",
     "text": [
      "[2, 3, 4, 5, 7, 8, 9, 10, 13, 14, 16, 20]\n",
      "Number of instances = 12\n"
     ]
    }
   ],
   "source": [
    "nums = sorted(nums)\n",
    "print(nums)\n",
    "print('Number of instances = ' + str(len(nums)))"
   ]
  },
  {
   "cell_type": "markdown",
   "id": "9438affd",
   "metadata": {},
   "source": [
    "For equal frequency binning with 3 bins, we divide the total length of our list by 3 = 12/3 = 4. \\\n",
    "This leaves us with the following bins and corresponding frequencies: \\\n",
    "(2,5] : 4 \\\n",
    "(7,10] : 4 \\\n",
    "(13,20] : 4"
   ]
  },
  {
   "cell_type": "markdown",
   "id": "0acb5bfe",
   "metadata": {},
   "source": [
    "For binning by smoothing the boundaries, we need to find what interval between our values is common. In this case, the interval of close to 5 appears to fit our values. \\\n",
    "This leaves us with the following bins and frequencies: \\\n",
    "(2,7] : 5 \\\n",
    "(8,13] : 4 \\\n",
    "(14,20] : 3"
   ]
  },
  {
   "cell_type": "code",
   "execution_count": 10,
   "id": "501e616b",
   "metadata": {},
   "outputs": [],
   "source": [
    "nums2 = [10,5,25,50,35]"
   ]
  },
  {
   "cell_type": "markdown",
   "id": "2014fa36",
   "metadata": {},
   "source": [
    "The formula for min-max normalisation is : (value - min)/(max - min)\n",
    "\n",
    "Applying this to our data results in: \n",
    "\n",
    "(10 - 5)/(50-5) = 5/45 = 0.11 \\\n",
    "(5 - 5)/(50-5) = 0/45 = 0 \\\n",
    "(25 - 5)/(50-5) = 20/45 = 0.44 \\\n",
    "(50 - 5)/(50-5) = 45/45 = 0.1 \\\n",
    "(35 - 5)/(50-5) = 30/45 = 0.66 "
   ]
  },
  {
   "cell_type": "markdown",
   "id": "71c04b6d",
   "metadata": {},
   "source": [
    "The formula for Z-score normalisation is (value - mean)/standard deviation\n",
    "\n",
    "The mean of our dataset is (10 + 5 + 25 + 50 + 35)/5 = 25\n",
    "\n",
    "To calculate the standard deviation we need to calculate the variance, this involves calculating the difference of each point to the mean, squaring and summing these differences, then dividing this sum by the number of values in our data. \n",
    "\n",
    "Our differences = [-15,-20,0,25,10] \\\n",
    "Our squared differences = [225,400,0,625,100] \\\n",
    "This sums to: 1350 \\\n",
    "For our final variance score, we calculate 1350/5 = 270. \n",
    "\n",
    "To calculate the standard deviation, we find the square root of this 270 = 16.43 \n",
    "\n",
    "Now we can perform Z-score normalisation. \n",
    "\n",
    "(10-25)/16.43 = -0.91 \\\n",
    "(5-25)/16.43 = -1.21 \\\n",
    "(25-25)/16.43 = 0 \\\n",
    "(50-25)/16.43 = 1.52 \\\n",
    "(35-25)/16.43 = 0.61"
   ]
  },
  {
   "cell_type": "markdown",
   "id": "33963f12",
   "metadata": {},
   "source": [
    "For the chi-square test, first recreate the table and sum both the rows and columns."
   ]
  },
  {
   "cell_type": "markdown",
   "id": "e4397fb8",
   "metadata": {},
   "source": [
    "| Rating/University | University A | University B | Total |\n",
    "| --------------- | ------------ | ----------- | ---------- |\n",
    "|Satisfied | 71 | 129 | 200 |\n",
    "|Dissatisfied| 37 | 73 | 110 |\n",
    "|Total | 108 | 202 | 310 |"
   ]
  },
  {
   "cell_type": "markdown",
   "id": "05002692",
   "metadata": {},
   "source": [
    "Then calculate the expected values. This involves multiplying the column and row total of the variable you wish to use, then dividing this figure by the overall total. \n",
    "\n",
    "The expected value for University A and Satisfied is : \\\n",
    "(108 * 200)/310 = 69.7 \\\n",
    "The expected value for University A and Dissatisfied is : \\\n",
    "(108 * 110)/310 = 38.3 \\\n",
    "The expected value for University B and Satisfied is : \\\n",
    "(202 * 200)/310 = 130.3 \\\n",
    "The expected value for University B and Dissatisfied is : \\\n",
    "(202 * 110)/310 = 71.7 \n",
    "\n",
    "Update the table with these figures in parentheses. "
   ]
  },
  {
   "cell_type": "markdown",
   "id": "cecbb40f",
   "metadata": {},
   "source": [
    "| Rating/University | University A | University B | Total |\n",
    "| --------------- | ------------ | ----------- | ---------- |\n",
    "|Satisfied | 71 (69.7) | 129 (130.3)| 200 |\n",
    "|Dissatisfied| 37 (38.3) | 73 (71.7) | 110 |\n",
    "|Total | 108 | 202 | 310 |"
   ]
  },
  {
   "cell_type": "markdown",
   "id": "c5478147",
   "metadata": {},
   "source": [
    "Calculating the ${x^2}$ statistic uses this formula : ${x^2 = \\Sigma\\frac{(O-E)^2}{E}}$\n",
    "\n",
    "This means finding the difference between the original and expected value, squaring this difference then dividing it by the expected value then summing all these resulting values. \n",
    "\n",
    "Here are the calculations: \\\n",
    "(71-69.7)^2/69.7 = 1.3^2/69.7 = 1.69/69.7 = 0.024 \\\n",
    "(37-38.3)^2/38.3 = -1.3^2/38.3 = 1.69/38.3 = 0.044 \\\n",
    "(129-130.3)^2/130.3 = -1.3^2/130.3 = 1.69/130.3 = 0.013 \\\n",
    "(73-71.7)^2/71.7 = 1.3^2/71.7 = 1.69/71.7 = 0.024\n",
    "\n",
    "${x^2}$ = 0.024 + 0.044 + 0.013 + 0.024 = 0.105"
   ]
  },
  {
   "cell_type": "markdown",
   "id": "000791ae",
   "metadata": {},
   "source": [
    "The hypothesis that satisfaction and university are independent requires a ${x^2}$ value of 10.828 or below. With this resulting statistic we can accept the hypothesis at a significance level of 0.001 and state that they are independent. "
   ]
  },
  {
   "cell_type": "markdown",
   "id": "305a1fe6",
   "metadata": {},
   "source": [
    "Note to self - Confused as my chi statistic is different from the one produced by the scipy module although expected values are the same. "
   ]
  },
  {
   "cell_type": "code",
   "execution_count": 24,
   "id": "9243e463",
   "metadata": {},
   "outputs": [
    {
     "data": {
      "text/html": [
       "<div>\n",
       "<style scoped>\n",
       "    .dataframe tbody tr th:only-of-type {\n",
       "        vertical-align: middle;\n",
       "    }\n",
       "\n",
       "    .dataframe tbody tr th {\n",
       "        vertical-align: top;\n",
       "    }\n",
       "\n",
       "    .dataframe thead th {\n",
       "        text-align: right;\n",
       "    }\n",
       "</style>\n",
       "<table border=\"1\" class=\"dataframe\">\n",
       "  <thead>\n",
       "    <tr style=\"text-align: right;\">\n",
       "      <th></th>\n",
       "      <th>A</th>\n",
       "      <th>B</th>\n",
       "    </tr>\n",
       "    <tr>\n",
       "      <th>Rating</th>\n",
       "      <th></th>\n",
       "      <th></th>\n",
       "    </tr>\n",
       "  </thead>\n",
       "  <tbody>\n",
       "    <tr>\n",
       "      <th>satisfied</th>\n",
       "      <td>71</td>\n",
       "      <td>129</td>\n",
       "    </tr>\n",
       "    <tr>\n",
       "      <th>dissatisfied</th>\n",
       "      <td>37</td>\n",
       "      <td>73</td>\n",
       "    </tr>\n",
       "  </tbody>\n",
       "</table>\n",
       "</div>"
      ],
      "text/plain": [
       "               A    B\n",
       "Rating               \n",
       "satisfied     71  129\n",
       "dissatisfied  37   73"
      ]
     },
     "execution_count": 24,
     "metadata": {},
     "output_type": "execute_result"
    }
   ],
   "source": [
    "df = pd.DataFrame({\n",
    "    'Rating': ['satisfied', 'dissatisfied'],\n",
    "    'A': [71,37],\n",
    "    'B': [129,73]\n",
    "})\n",
    "df = df.set_index('Rating')\n",
    "df"
   ]
  },
  {
   "cell_type": "code",
   "execution_count": 29,
   "id": "89b8bb65",
   "metadata": {},
   "outputs": [
    {
     "data": {
      "text/plain": [
       "(0.041999512451245155,\n",
       " 0.8376207016450208,\n",
       " 1,\n",
       " array([[ 69.67741935, 130.32258065],\n",
       "        [ 38.32258065,  71.67741935]]))"
      ]
     },
     "execution_count": 29,
     "metadata": {},
     "output_type": "execute_result"
    }
   ],
   "source": [
    "chi2_contingency(df)"
   ]
  },
  {
   "cell_type": "code",
   "execution_count": 32,
   "id": "669680f2",
   "metadata": {},
   "outputs": [
    {
     "data": {
      "text/plain": [
       "0.1049125996786575"
      ]
     },
     "execution_count": 32,
     "metadata": {},
     "output_type": "execute_result"
    }
   ],
   "source": [
    "(((71-69.7)**2)/69.7) + (((37-38.3)**2)/38.3) + (((129-130.3)**2)/130.3) + (((73-71.7)**2)/71.7)\n"
   ]
  }
 ],
 "metadata": {
  "kernelspec": {
   "display_name": "Python 3",
   "language": "python",
   "name": "python3"
  },
  "language_info": {
   "codemirror_mode": {
    "name": "ipython",
    "version": 3
   },
   "file_extension": ".py",
   "mimetype": "text/x-python",
   "name": "python",
   "nbconvert_exporter": "python",
   "pygments_lexer": "ipython3",
   "version": "3.8.8"
  }
 },
 "nbformat": 4,
 "nbformat_minor": 5
}
