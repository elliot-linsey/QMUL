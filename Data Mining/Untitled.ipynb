{
 "cells": [
  {
   "cell_type": "code",
   "execution_count": 1,
   "id": "d77c22ce",
   "metadata": {},
   "outputs": [],
   "source": [
    "def K_measure(dataset,A,B):\n",
    "    count1 = 0\n",
    "    count2 = 0\n",
    "    count3 = 0\n",
    "    for x in dataset:\n",
    "        if set(A).issubset(set(x)) and set(B).issubset(set(x)):\n",
    "            count1 += 1\n",
    "        if set(A).issubset(set(x)):\n",
    "            count2 += 1\n",
    "        if set(B).issubset(set(x)):\n",
    "            count3 += 1       \n",
    "    conA = count1/count2\n",
    "    conB = count1/count3\n",
    "    return (conA+conB)/2"
   ]
  },
  {
   "cell_type": "code",
   "execution_count": 2,
   "id": "9ffe6f24",
   "metadata": {},
   "outputs": [],
   "source": [
    "dataset = [['I2', 'I3', 'I4', 'I5'],\n",
    "          ['I1', 'I3'],\n",
    "          ['I2', 'I3', 'I5'],\n",
    "          ['I1', 'I4', 'I5'],\n",
    "          ['I1', 'I2', 'I4'],\n",
    "          ['I3', 'I5']]"
   ]
  },
  {
   "cell_type": "code",
   "execution_count": 3,
   "id": "2753b862",
   "metadata": {},
   "outputs": [
    {
     "data": {
      "text/plain": [
       "0.6666666666666666"
      ]
     },
     "execution_count": 3,
     "metadata": {},
     "output_type": "execute_result"
    }
   ],
   "source": [
    "K_measure(dataset,['I1','I2'],['I4'])"
   ]
  }
 ],
 "metadata": {
  "kernelspec": {
   "display_name": "Python 3",
   "language": "python",
   "name": "python3"
  },
  "language_info": {
   "codemirror_mode": {
    "name": "ipython",
    "version": 3
   },
   "file_extension": ".py",
   "mimetype": "text/x-python",
   "name": "python",
   "nbconvert_exporter": "python",
   "pygments_lexer": "ipython3",
   "version": "3.8.8"
  }
 },
 "nbformat": 4,
 "nbformat_minor": 5
}
