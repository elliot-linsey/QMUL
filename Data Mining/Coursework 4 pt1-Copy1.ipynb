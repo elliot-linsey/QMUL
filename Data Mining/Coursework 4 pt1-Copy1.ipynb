{
 "cells": [
  {
   "cell_type": "markdown",
   "metadata": {
    "colab_type": "text",
    "id": "view-in-github"
   },
   "source": [
    "<a href=\"https://colab.research.google.com/github/elliot-linsey/QMUL/blob/main/Data%20Mining/Coursework%204%20pt1.ipynb\" target=\"_parent\"><img src=\"https://colab.research.google.com/assets/colab-badge.svg\" alt=\"Open In Colab\"/></a>"
   ]
  },
  {
   "cell_type": "code",
   "execution_count": 38,
   "metadata": {
    "id": "uEZw1618BrXw"
   },
   "outputs": [],
   "source": [
    "import pandas as pd\n",
    "import numpy as np\n",
    "import matplotlib.pyplot as plt\n",
    "import seaborn as sns\n",
    "%matplotlib inline\n",
    "from urllib.request import urlopen\n",
    "from bs4 import BeautifulSoup"
   ]
  },
  {
   "cell_type": "markdown",
   "metadata": {},
   "source": [
    "# ECS766 Coursework 4 - Elliot Linsey"
   ]
  },
  {
   "cell_type": "markdown",
   "metadata": {},
   "source": [
    "## Q1.A\n",
    "\n",
    "* \\<!DOCTYPE html\\>, this tag declares to the browser what type of information to expect. All html documents must start with this tag. \n",
    "* \\<html\\>, this tag represents the root of the html document and is the tag in which all of the information within the document is contained (apart from the \\<!DOCTYPE html\\> tag). \n",
    "* \\<body\\>, this tag defines where the contents such as headings, paragraphs, tables, images and anything else that the user will actually see or interact with are placed within the document. There can be only one body within an html document but it can be split into sections with div elements. \n",
    "* \\<h1\\>, this tag is used to define the heading of the html document and is usually used as the main title. This is because it is the largest heading available in comparison to lesser headings like h2, h3 and so on. \n",
    "* \\<p\\>, this tag defines a paragraph element which is a block of text. If the \\<h\\> tag is the title, then the \\<p\\> tag will usually be the paragraph below it.\n",
    "* \\<table\\>, this tag defines a table, it must contain one of more of the \\<tr\\>, \\<td\\> and \\<th\\> elements.\n",
    "* \\<thead\\>, this defines the head of the table which is where the column headings will be located. \n",
    "* \\<tbody\\>, this defines the body of the table where the data will be located. \n",
    "* \\<tr\\>, this indicates a table row which can contain either data \\<td\\> or headings \\<th\\> in this instance. \n",
    "* \\<th\\>, this indicates a table heading which will contain the column headings, usually a child of \\<tr\\>.\n",
    "* \\<td\\>, this indicates table data that will be placed within a row, usually a child of \\<tr\\> also. "
   ]
  },
  {
   "cell_type": "markdown",
   "metadata": {},
   "source": [
    "## Q1.B"
   ]
  },
  {
   "cell_type": "code",
   "execution_count": 39,
   "metadata": {
    "id": "om5l0WMoBxKB"
   },
   "outputs": [],
   "source": [
    "url = 'http://eecs.qmul.ac.uk/~emmanouilb/income_table.html'\n",
    "html = urlopen(url)"
   ]
  },
  {
   "cell_type": "code",
   "execution_count": 40,
   "metadata": {
    "colab": {
     "base_uri": "https://localhost:8080/"
    },
    "id": "gy2IknGsBykl",
    "outputId": "c3ebd320-7f98-4d0e-a96b-50b79248027c"
   },
   "outputs": [],
   "source": [
    "soup = BeautifulSoup(html, 'lxml')"
   ]
  },
  {
   "cell_type": "code",
   "execution_count": 41,
   "metadata": {
    "colab": {
     "base_uri": "https://localhost:8080/"
    },
    "id": "3klfCHcXBym9",
    "outputId": "f6df8ef6-2635-4332-9a72-2732e2840ceb"
   },
   "outputs": [
    {
     "data": {
      "text/plain": [
       "['Region', 'Age', 'Income', 'Online Shopper']"
      ]
     },
     "execution_count": 41,
     "metadata": {},
     "output_type": "execute_result"
    }
   ],
   "source": [
    "th = soup.find_all('th')\n",
    "headers = []\n",
    "for header in th:\n",
    "  headers.append(header.get_text())\n",
    "headers"
   ]
  },
  {
   "cell_type": "code",
   "execution_count": 42,
   "metadata": {
    "colab": {
     "base_uri": "https://localhost:8080/"
    },
    "id": "OR-N43LtBypM",
    "outputId": "fc749906-6128-4a43-b6ec-9cf691806049"
   },
   "outputs": [
    {
     "data": {
      "text/plain": [
       "array([['India', '49', '86400', 'No'],\n",
       "       ['Brazil', '32', '57600', 'Yes'],\n",
       "       ['USA', '35', '64800', 'No'],\n",
       "       ['Brazil', '43', '73200', 'No'],\n",
       "       ['USA', '45', '', 'Yes'],\n",
       "       ['India', '40', '69600', 'Yes'],\n",
       "       ['Brazil', '', '62400', 'No'],\n",
       "       ['India', '53', '94800', 'Yes'],\n",
       "       ['USA', '55', '99600', 'No'],\n",
       "       ['India', '42', '80400', 'Yes']], dtype='<U6')"
      ]
     },
     "execution_count": 42,
     "metadata": {},
     "output_type": "execute_result"
    }
   ],
   "source": [
    "td = soup.find_all('td')\n",
    "rows = []\n",
    "for row in td:\n",
    "  rows.append(row.get_text())\n",
    "rows = np.array(rows)\n",
    "rows = np.reshape(rows,(10,4))\n",
    "rows"
   ]
  },
  {
   "cell_type": "code",
   "execution_count": 43,
   "metadata": {
    "colab": {
     "base_uri": "https://localhost:8080/",
     "height": 363
    },
    "id": "dGXEWivUByrs",
    "outputId": "e1e2caaa-fa73-4cc8-8395-5606ac5fc69e"
   },
   "outputs": [
    {
     "data": {
      "text/html": [
       "<div>\n",
       "<style scoped>\n",
       "    .dataframe tbody tr th:only-of-type {\n",
       "        vertical-align: middle;\n",
       "    }\n",
       "\n",
       "    .dataframe tbody tr th {\n",
       "        vertical-align: top;\n",
       "    }\n",
       "\n",
       "    .dataframe thead th {\n",
       "        text-align: right;\n",
       "    }\n",
       "</style>\n",
       "<table border=\"1\" class=\"dataframe\">\n",
       "  <thead>\n",
       "    <tr style=\"text-align: right;\">\n",
       "      <th></th>\n",
       "      <th>Region</th>\n",
       "      <th>Age</th>\n",
       "      <th>Income</th>\n",
       "      <th>Online Shopper</th>\n",
       "    </tr>\n",
       "  </thead>\n",
       "  <tbody>\n",
       "    <tr>\n",
       "      <th>0</th>\n",
       "      <td>India</td>\n",
       "      <td>49</td>\n",
       "      <td>86400</td>\n",
       "      <td>No</td>\n",
       "    </tr>\n",
       "    <tr>\n",
       "      <th>1</th>\n",
       "      <td>Brazil</td>\n",
       "      <td>32</td>\n",
       "      <td>57600</td>\n",
       "      <td>Yes</td>\n",
       "    </tr>\n",
       "    <tr>\n",
       "      <th>2</th>\n",
       "      <td>USA</td>\n",
       "      <td>35</td>\n",
       "      <td>64800</td>\n",
       "      <td>No</td>\n",
       "    </tr>\n",
       "    <tr>\n",
       "      <th>3</th>\n",
       "      <td>Brazil</td>\n",
       "      <td>43</td>\n",
       "      <td>73200</td>\n",
       "      <td>No</td>\n",
       "    </tr>\n",
       "    <tr>\n",
       "      <th>4</th>\n",
       "      <td>USA</td>\n",
       "      <td>45</td>\n",
       "      <td></td>\n",
       "      <td>Yes</td>\n",
       "    </tr>\n",
       "    <tr>\n",
       "      <th>5</th>\n",
       "      <td>India</td>\n",
       "      <td>40</td>\n",
       "      <td>69600</td>\n",
       "      <td>Yes</td>\n",
       "    </tr>\n",
       "    <tr>\n",
       "      <th>6</th>\n",
       "      <td>Brazil</td>\n",
       "      <td></td>\n",
       "      <td>62400</td>\n",
       "      <td>No</td>\n",
       "    </tr>\n",
       "    <tr>\n",
       "      <th>7</th>\n",
       "      <td>India</td>\n",
       "      <td>53</td>\n",
       "      <td>94800</td>\n",
       "      <td>Yes</td>\n",
       "    </tr>\n",
       "    <tr>\n",
       "      <th>8</th>\n",
       "      <td>USA</td>\n",
       "      <td>55</td>\n",
       "      <td>99600</td>\n",
       "      <td>No</td>\n",
       "    </tr>\n",
       "    <tr>\n",
       "      <th>9</th>\n",
       "      <td>India</td>\n",
       "      <td>42</td>\n",
       "      <td>80400</td>\n",
       "      <td>Yes</td>\n",
       "    </tr>\n",
       "  </tbody>\n",
       "</table>\n",
       "</div>"
      ],
      "text/plain": [
       "   Region Age Income Online Shopper\n",
       "0   India  49  86400             No\n",
       "1  Brazil  32  57600            Yes\n",
       "2     USA  35  64800             No\n",
       "3  Brazil  43  73200             No\n",
       "4     USA  45                   Yes\n",
       "5   India  40  69600            Yes\n",
       "6  Brazil      62400             No\n",
       "7   India  53  94800            Yes\n",
       "8     USA  55  99600             No\n",
       "9   India  42  80400            Yes"
      ]
     },
     "execution_count": 43,
     "metadata": {},
     "output_type": "execute_result"
    }
   ],
   "source": [
    "df = pd.DataFrame(rows,columns=headers)\n",
    "df"
   ]
  },
  {
   "cell_type": "markdown",
   "metadata": {},
   "source": [
    "## Q2"
   ]
  },
  {
   "cell_type": "code",
   "execution_count": 44,
   "metadata": {
    "id": "i50g443GByuE"
   },
   "outputs": [],
   "source": [
    "url = 'http://eecs.qmul.ac.uk/postgraduate/programmes/'\n",
    "html = urlopen(url)"
   ]
  },
  {
   "cell_type": "code",
   "execution_count": 45,
   "metadata": {
    "id": "-1KyTWFJBywL"
   },
   "outputs": [],
   "source": [
    "soup = BeautifulSoup(html, 'lxml')"
   ]
  },
  {
   "cell_type": "code",
   "execution_count": 46,
   "metadata": {
    "colab": {
     "base_uri": "https://localhost:8080/"
    },
    "id": "lfeSeJREByyd",
    "outputId": "4f95941e-853a-4920-8228-1e67dd6bda92"
   },
   "outputs": [
    {
     "data": {
      "text/plain": [
       "['Postgraduate degree programmes', 'Part-time(2 year)', 'Full-time(1 year)']"
      ]
     },
     "execution_count": 46,
     "metadata": {},
     "output_type": "execute_result"
    }
   ],
   "source": [
    "th = soup.find_all('th')\n",
    "headers = []\n",
    "for header in th:\n",
    "  headers.append(header.get_text())\n",
    "headers"
   ]
  },
  {
   "cell_type": "code",
   "execution_count": 47,
   "metadata": {
    "id": "wQNryF-6By0b"
   },
   "outputs": [],
   "source": [
    "td = soup.find_all('td')\n",
    "rows = []\n",
    "for row in td:\n",
    "  rows.append(row.get_text())\n",
    "rows = np.array(rows)\n",
    "rows = np.reshape(rows,(14,3))\n",
    "rows2 = []\n",
    "for x in rows:\n",
    "  rows2.append(np.char.strip(x,'\\xa0'))\n",
    "rows = rows2\n",
    "#rows"
   ]
  },
  {
   "cell_type": "code",
   "execution_count": 48,
   "metadata": {
    "colab": {
     "base_uri": "https://localhost:8080/",
     "height": 582
    },
    "id": "FcJ5FUI3I9pV",
    "outputId": "e88c1fd8-4520-44ec-94fb-788c4a6af8ed"
   },
   "outputs": [
    {
     "data": {
      "text/html": [
       "<div>\n",
       "<style scoped>\n",
       "    .dataframe tbody tr th:only-of-type {\n",
       "        vertical-align: middle;\n",
       "    }\n",
       "\n",
       "    .dataframe tbody tr th {\n",
       "        vertical-align: top;\n",
       "    }\n",
       "\n",
       "    .dataframe thead th {\n",
       "        text-align: right;\n",
       "    }\n",
       "</style>\n",
       "<table border=\"1\" class=\"dataframe\">\n",
       "  <thead>\n",
       "    <tr style=\"text-align: right;\">\n",
       "      <th></th>\n",
       "      <th>Postgraduate degree programmes</th>\n",
       "      <th>Part-time(2 year)</th>\n",
       "      <th>Full-time(1 year)</th>\n",
       "    </tr>\n",
       "  </thead>\n",
       "  <tbody>\n",
       "    <tr>\n",
       "      <th>0</th>\n",
       "      <td>Advanced Electronic and Electrical Engineering</td>\n",
       "      <td>H60C</td>\n",
       "      <td>H60A</td>\n",
       "    </tr>\n",
       "    <tr>\n",
       "      <th>1</th>\n",
       "      <td>Artificial Intelligence</td>\n",
       "      <td>I4U2</td>\n",
       "      <td>I4U1</td>\n",
       "    </tr>\n",
       "    <tr>\n",
       "      <th>2</th>\n",
       "      <td>Big Data Science</td>\n",
       "      <td>H6J6</td>\n",
       "      <td>H6J7</td>\n",
       "    </tr>\n",
       "    <tr>\n",
       "      <th>3</th>\n",
       "      <td>Computer Games</td>\n",
       "      <td></td>\n",
       "      <td>I4U4</td>\n",
       "    </tr>\n",
       "    <tr>\n",
       "      <th>4</th>\n",
       "      <td>Computer Science</td>\n",
       "      <td>G4U2</td>\n",
       "      <td>G4U1</td>\n",
       "    </tr>\n",
       "    <tr>\n",
       "      <th>5</th>\n",
       "      <td>Computer Science by Research</td>\n",
       "      <td>G4Q2</td>\n",
       "      <td>G4Q1</td>\n",
       "    </tr>\n",
       "    <tr>\n",
       "      <th>6</th>\n",
       "      <td>Computing and Information Systems</td>\n",
       "      <td>G5U6</td>\n",
       "      <td>G5U5</td>\n",
       "    </tr>\n",
       "    <tr>\n",
       "      <th>7</th>\n",
       "      <td>Data Science and Artificial Intelligence by Co...</td>\n",
       "      <td></td>\n",
       "      <td>I4U5</td>\n",
       "    </tr>\n",
       "    <tr>\n",
       "      <th>8</th>\n",
       "      <td>Electronic Engineering by Research</td>\n",
       "      <td>H6T6</td>\n",
       "      <td>H6T5</td>\n",
       "    </tr>\n",
       "    <tr>\n",
       "      <th>9</th>\n",
       "      <td>Internet of Things (Data)</td>\n",
       "      <td>I1T2</td>\n",
       "      <td>I1T0</td>\n",
       "    </tr>\n",
       "    <tr>\n",
       "      <th>10</th>\n",
       "      <td>Machine Learning for Visual Data Analytics</td>\n",
       "      <td>H6JZ</td>\n",
       "      <td>H6JE</td>\n",
       "    </tr>\n",
       "    <tr>\n",
       "      <th>11</th>\n",
       "      <td>Sound and Music Computing</td>\n",
       "      <td>H6T4</td>\n",
       "      <td>H6T8</td>\n",
       "    </tr>\n",
       "    <tr>\n",
       "      <th>12</th>\n",
       "      <td>Telecommunication and Wireless Systems</td>\n",
       "      <td>H6JD</td>\n",
       "      <td>H6JA</td>\n",
       "    </tr>\n",
       "    <tr>\n",
       "      <th>13</th>\n",
       "      <td>Digital and Technology Solutions (Apprenticeship)</td>\n",
       "      <td>I4DA</td>\n",
       "      <td></td>\n",
       "    </tr>\n",
       "  </tbody>\n",
       "</table>\n",
       "</div>"
      ],
      "text/plain": [
       "                       Postgraduate degree programmes Part-time(2 year)  \\\n",
       "0      Advanced Electronic and Electrical Engineering              H60C   \n",
       "1                             Artificial Intelligence              I4U2   \n",
       "2                                    Big Data Science              H6J6   \n",
       "3                                      Computer Games                     \n",
       "4                                    Computer Science              G4U2   \n",
       "5                        Computer Science by Research              G4Q2   \n",
       "6                   Computing and Information Systems              G5U6   \n",
       "7   Data Science and Artificial Intelligence by Co...                     \n",
       "8                  Electronic Engineering by Research              H6T6   \n",
       "9                           Internet of Things (Data)              I1T2   \n",
       "10         Machine Learning for Visual Data Analytics              H6JZ   \n",
       "11                          Sound and Music Computing              H6T4   \n",
       "12             Telecommunication and Wireless Systems              H6JD   \n",
       "13  Digital and Technology Solutions (Apprenticeship)              I4DA   \n",
       "\n",
       "   Full-time(1 year)  \n",
       "0               H60A  \n",
       "1               I4U1  \n",
       "2               H6J7  \n",
       "3               I4U4  \n",
       "4               G4U1  \n",
       "5               G4Q1  \n",
       "6               G5U5  \n",
       "7               I4U5  \n",
       "8               H6T5  \n",
       "9               I1T0  \n",
       "10              H6JE  \n",
       "11              H6T8  \n",
       "12              H6JA  \n",
       "13                    "
      ]
     },
     "execution_count": 48,
     "metadata": {},
     "output_type": "execute_result"
    }
   ],
   "source": [
    "df2 = pd.DataFrame(rows, columns=headers)\n",
    "df2"
   ]
  },
  {
   "cell_type": "code",
   "execution_count": 49,
   "metadata": {
    "id": "irMrbJ9EJTd7"
   },
   "outputs": [],
   "source": [
    "links = []\n",
    "for row in soup.find_all('td'):\n",
    "  #print(row.find('a'))\n",
    "  try:\n",
    "    links.append(row.find('a').get('href'))\n",
    "  except AttributeError:\n",
    "    links.append('')"
   ]
  },
  {
   "cell_type": "code",
   "execution_count": 50,
   "metadata": {
    "id": "ZDjLow8AL3Fx"
   },
   "outputs": [],
   "source": [
    "links = np.array(links)\n",
    "links = np.reshape(links,(14,3))\n",
    "#links"
   ]
  },
  {
   "cell_type": "code",
   "execution_count": 51,
   "metadata": {
    "colab": {
     "base_uri": "https://localhost:8080/",
     "height": 582
    },
    "id": "5oBg4r-kOBsp",
    "outputId": "c1bf64b1-862c-4cba-8906-1ffe616ebd88",
    "scrolled": true
   },
   "outputs": [
    {
     "data": {
      "text/html": [
       "<div>\n",
       "<style scoped>\n",
       "    .dataframe tbody tr th:only-of-type {\n",
       "        vertical-align: middle;\n",
       "    }\n",
       "\n",
       "    .dataframe tbody tr th {\n",
       "        vertical-align: top;\n",
       "    }\n",
       "\n",
       "    .dataframe thead th {\n",
       "        text-align: right;\n",
       "    }\n",
       "</style>\n",
       "<table border=\"1\" class=\"dataframe\">\n",
       "  <thead>\n",
       "    <tr style=\"text-align: right;\">\n",
       "      <th></th>\n",
       "      <th>Postgraduate degree programmes</th>\n",
       "      <th>Part-time(2 year)</th>\n",
       "      <th>Full-time(1 year)</th>\n",
       "      <th>Part-time Link</th>\n",
       "      <th>Full-time Link</th>\n",
       "    </tr>\n",
       "  </thead>\n",
       "  <tbody>\n",
       "    <tr>\n",
       "      <th>0</th>\n",
       "      <td>Advanced Electronic and Electrical Engineering</td>\n",
       "      <td>H60C</td>\n",
       "      <td>H60A</td>\n",
       "      <td>https://www.qmul.ac.uk/postgraduate/taught/cou...</td>\n",
       "      <td>https://www.qmul.ac.uk/postgraduate/taught/cou...</td>\n",
       "    </tr>\n",
       "    <tr>\n",
       "      <th>1</th>\n",
       "      <td>Artificial Intelligence</td>\n",
       "      <td>I4U2</td>\n",
       "      <td>I4U1</td>\n",
       "      <td>https://www.qmul.ac.uk/postgraduate/taught/cou...</td>\n",
       "      <td>https://www.qmul.ac.uk/postgraduate/taught/cou...</td>\n",
       "    </tr>\n",
       "    <tr>\n",
       "      <th>2</th>\n",
       "      <td>Big Data Science</td>\n",
       "      <td>H6J6</td>\n",
       "      <td>H6J7</td>\n",
       "      <td>https://www.qmul.ac.uk/postgraduate/taught/cou...</td>\n",
       "      <td>https://www.qmul.ac.uk/postgraduate/taught/cou...</td>\n",
       "    </tr>\n",
       "    <tr>\n",
       "      <th>3</th>\n",
       "      <td>Computer Games</td>\n",
       "      <td></td>\n",
       "      <td>I4U4</td>\n",
       "      <td></td>\n",
       "      <td>https://www.qmul.ac.uk/postgraduate/taught/cou...</td>\n",
       "    </tr>\n",
       "    <tr>\n",
       "      <th>4</th>\n",
       "      <td>Computer Science</td>\n",
       "      <td>G4U2</td>\n",
       "      <td>G4U1</td>\n",
       "      <td>https://www.qmul.ac.uk/postgraduate/taught/cou...</td>\n",
       "      <td>https://www.qmul.ac.uk/postgraduate/taught/cou...</td>\n",
       "    </tr>\n",
       "    <tr>\n",
       "      <th>5</th>\n",
       "      <td>Computer Science by Research</td>\n",
       "      <td>G4Q2</td>\n",
       "      <td>G4Q1</td>\n",
       "      <td>https://www.qmul.ac.uk/postgraduate/taught/cou...</td>\n",
       "      <td>https://www.qmul.ac.uk/postgraduate/taught/cou...</td>\n",
       "    </tr>\n",
       "    <tr>\n",
       "      <th>6</th>\n",
       "      <td>Computing and Information Systems</td>\n",
       "      <td>G5U6</td>\n",
       "      <td>G5U5</td>\n",
       "      <td>https://www.qmul.ac.uk/postgraduate/taught/cou...</td>\n",
       "      <td>https://www.qmul.ac.uk/postgraduate/taught/cou...</td>\n",
       "    </tr>\n",
       "    <tr>\n",
       "      <th>7</th>\n",
       "      <td>Data Science and Artificial Intelligence by Co...</td>\n",
       "      <td></td>\n",
       "      <td>I4U5</td>\n",
       "      <td></td>\n",
       "      <td>https://www.qmul.ac.uk/postgraduate/taught/cou...</td>\n",
       "    </tr>\n",
       "    <tr>\n",
       "      <th>8</th>\n",
       "      <td>Electronic Engineering by Research</td>\n",
       "      <td>H6T6</td>\n",
       "      <td>H6T5</td>\n",
       "      <td>https://www.qmul.ac.uk/postgraduate/taught/cou...</td>\n",
       "      <td>https://www.qmul.ac.uk/postgraduate/taught/cou...</td>\n",
       "    </tr>\n",
       "    <tr>\n",
       "      <th>9</th>\n",
       "      <td>Internet of Things (Data)</td>\n",
       "      <td>I1T2</td>\n",
       "      <td>I1T0</td>\n",
       "      <td>https://www.qmul.ac.uk/postgraduate/taught/cou...</td>\n",
       "      <td>https://www.qmul.ac.uk/postgraduate/taught/cou...</td>\n",
       "    </tr>\n",
       "    <tr>\n",
       "      <th>10</th>\n",
       "      <td>Machine Learning for Visual Data Analytics</td>\n",
       "      <td>H6JZ</td>\n",
       "      <td>H6JE</td>\n",
       "      <td>https://www.qmul.ac.uk/postgraduate/taught/cou...</td>\n",
       "      <td>https://www.qmul.ac.uk/postgraduate/taught/cou...</td>\n",
       "    </tr>\n",
       "    <tr>\n",
       "      <th>11</th>\n",
       "      <td>Sound and Music Computing</td>\n",
       "      <td>H6T4</td>\n",
       "      <td>H6T8</td>\n",
       "      <td>https://www.qmul.ac.uk/postgraduate/taught/cou...</td>\n",
       "      <td>https://www.qmul.ac.uk/postgraduate/taught/cou...</td>\n",
       "    </tr>\n",
       "    <tr>\n",
       "      <th>12</th>\n",
       "      <td>Telecommunication and Wireless Systems</td>\n",
       "      <td>H6JD</td>\n",
       "      <td>H6JA</td>\n",
       "      <td>https://www.qmul.ac.uk/postgraduate/taught/cou...</td>\n",
       "      <td>https://www.qmul.ac.uk/postgraduate/taught/cou...</td>\n",
       "    </tr>\n",
       "    <tr>\n",
       "      <th>13</th>\n",
       "      <td>Digital and Technology Solutions (Apprenticeship)</td>\n",
       "      <td>I4DA</td>\n",
       "      <td></td>\n",
       "      <td>https://www.qmul.ac.uk/postgraduate/taught/cou...</td>\n",
       "      <td></td>\n",
       "    </tr>\n",
       "  </tbody>\n",
       "</table>\n",
       "</div>"
      ],
      "text/plain": [
       "                       Postgraduate degree programmes Part-time(2 year)  \\\n",
       "0      Advanced Electronic and Electrical Engineering              H60C   \n",
       "1                             Artificial Intelligence              I4U2   \n",
       "2                                    Big Data Science              H6J6   \n",
       "3                                      Computer Games                     \n",
       "4                                    Computer Science              G4U2   \n",
       "5                        Computer Science by Research              G4Q2   \n",
       "6                   Computing and Information Systems              G5U6   \n",
       "7   Data Science and Artificial Intelligence by Co...                     \n",
       "8                  Electronic Engineering by Research              H6T6   \n",
       "9                           Internet of Things (Data)              I1T2   \n",
       "10         Machine Learning for Visual Data Analytics              H6JZ   \n",
       "11                          Sound and Music Computing              H6T4   \n",
       "12             Telecommunication and Wireless Systems              H6JD   \n",
       "13  Digital and Technology Solutions (Apprenticeship)              I4DA   \n",
       "\n",
       "   Full-time(1 year)                                     Part-time Link  \\\n",
       "0               H60A  https://www.qmul.ac.uk/postgraduate/taught/cou...   \n",
       "1               I4U1  https://www.qmul.ac.uk/postgraduate/taught/cou...   \n",
       "2               H6J7  https://www.qmul.ac.uk/postgraduate/taught/cou...   \n",
       "3               I4U4                                                      \n",
       "4               G4U1  https://www.qmul.ac.uk/postgraduate/taught/cou...   \n",
       "5               G4Q1  https://www.qmul.ac.uk/postgraduate/taught/cou...   \n",
       "6               G5U5  https://www.qmul.ac.uk/postgraduate/taught/cou...   \n",
       "7               I4U5                                                      \n",
       "8               H6T5  https://www.qmul.ac.uk/postgraduate/taught/cou...   \n",
       "9               I1T0  https://www.qmul.ac.uk/postgraduate/taught/cou...   \n",
       "10              H6JE  https://www.qmul.ac.uk/postgraduate/taught/cou...   \n",
       "11              H6T8  https://www.qmul.ac.uk/postgraduate/taught/cou...   \n",
       "12              H6JA  https://www.qmul.ac.uk/postgraduate/taught/cou...   \n",
       "13                    https://www.qmul.ac.uk/postgraduate/taught/cou...   \n",
       "\n",
       "                                       Full-time Link  \n",
       "0   https://www.qmul.ac.uk/postgraduate/taught/cou...  \n",
       "1   https://www.qmul.ac.uk/postgraduate/taught/cou...  \n",
       "2   https://www.qmul.ac.uk/postgraduate/taught/cou...  \n",
       "3   https://www.qmul.ac.uk/postgraduate/taught/cou...  \n",
       "4   https://www.qmul.ac.uk/postgraduate/taught/cou...  \n",
       "5   https://www.qmul.ac.uk/postgraduate/taught/cou...  \n",
       "6   https://www.qmul.ac.uk/postgraduate/taught/cou...  \n",
       "7   https://www.qmul.ac.uk/postgraduate/taught/cou...  \n",
       "8   https://www.qmul.ac.uk/postgraduate/taught/cou...  \n",
       "9   https://www.qmul.ac.uk/postgraduate/taught/cou...  \n",
       "10  https://www.qmul.ac.uk/postgraduate/taught/cou...  \n",
       "11  https://www.qmul.ac.uk/postgraduate/taught/cou...  \n",
       "12  https://www.qmul.ac.uk/postgraduate/taught/cou...  \n",
       "13                                                     "
      ]
     },
     "execution_count": 51,
     "metadata": {},
     "output_type": "execute_result"
    }
   ],
   "source": [
    "df3 = pd.DataFrame(links, columns=['drop', 'Part-time Link', 'Full-time Link'])\n",
    "df3 = df3.drop('drop',axis=1)\n",
    "df3 = df2.join(df3)\n",
    "df3"
   ]
  },
  {
   "cell_type": "markdown",
   "metadata": {},
   "source": [
    "## Q3.A: \n",
    "\n",
    "We would consider nodes 1 and 2 to be authorities and nodes 3, 4 and 5 to be hubs. "
   ]
  },
  {
   "cell_type": "markdown",
   "metadata": {},
   "source": [
    "## Q3.B: \n",
    "\n",
    "The black lines have a probability of 1/2, whereas all the red lines are the teleportation probabilities as they are dead-end nodes and therefore have all red lines have a probability of 1/5 as there are 5 nodes in total. "
   ]
  },
  {
   "attachments": {
    "transition%20probability%20diagram-2.JPG": {
     "image/jpeg": "[encoded data removed]"
    }
   },
   "cell_type": "markdown",
   "metadata": {},
   "source": [
    "![transition%20probability%20diagram-2.JPG](attachment:transition%20probability%20diagram-2.JPG)"
   ]
  },
  {
   "cell_type": "markdown",
   "metadata": {},
   "source": [
    "The table below shows all the transition probabilities, for example node 1 to any other node (including itself) is 0.2. Node 3 to nodes 1 or 2 has a probability of 0.5 but into any other nodes (including itself) it is 0. "
   ]
  },
  {
   "cell_type": "code",
   "execution_count": 55,
   "metadata": {},
   "outputs": [
    {
     "data": {
      "text/html": [
       "<div>\n",
       "<style scoped>\n",
       "    .dataframe tbody tr th:only-of-type {\n",
       "        vertical-align: middle;\n",
       "    }\n",
       "\n",
       "    .dataframe tbody tr th {\n",
       "        vertical-align: top;\n",
       "    }\n",
       "\n",
       "    .dataframe thead th {\n",
       "        text-align: right;\n",
       "    }\n",
       "</style>\n",
       "<table border=\"1\" class=\"dataframe\">\n",
       "  <thead>\n",
       "    <tr style=\"text-align: right;\">\n",
       "      <th></th>\n",
       "      <th>1</th>\n",
       "      <th>2</th>\n",
       "      <th>3</th>\n",
       "      <th>4</th>\n",
       "      <th>5</th>\n",
       "    </tr>\n",
       "  </thead>\n",
       "  <tbody>\n",
       "    <tr>\n",
       "      <th>1</th>\n",
       "      <td>0.2</td>\n",
       "      <td>0.2</td>\n",
       "      <td>0.2</td>\n",
       "      <td>0.2</td>\n",
       "      <td>0.2</td>\n",
       "    </tr>\n",
       "    <tr>\n",
       "      <th>2</th>\n",
       "      <td>0.2</td>\n",
       "      <td>0.2</td>\n",
       "      <td>0.2</td>\n",
       "      <td>0.2</td>\n",
       "      <td>0.2</td>\n",
       "    </tr>\n",
       "    <tr>\n",
       "      <th>3</th>\n",
       "      <td>0.5</td>\n",
       "      <td>0.5</td>\n",
       "      <td>0.0</td>\n",
       "      <td>0.0</td>\n",
       "      <td>0.0</td>\n",
       "    </tr>\n",
       "    <tr>\n",
       "      <th>4</th>\n",
       "      <td>0.5</td>\n",
       "      <td>0.5</td>\n",
       "      <td>0.0</td>\n",
       "      <td>0.0</td>\n",
       "      <td>0.0</td>\n",
       "    </tr>\n",
       "    <tr>\n",
       "      <th>5</th>\n",
       "      <td>0.5</td>\n",
       "      <td>0.5</td>\n",
       "      <td>0.0</td>\n",
       "      <td>0.0</td>\n",
       "      <td>0.0</td>\n",
       "    </tr>\n",
       "  </tbody>\n",
       "</table>\n",
       "</div>"
      ],
      "text/plain": [
       "     1    2    3    4    5\n",
       "1  0.2  0.2  0.2  0.2  0.2\n",
       "2  0.2  0.2  0.2  0.2  0.2\n",
       "3  0.5  0.5  0.0  0.0  0.0\n",
       "4  0.5  0.5  0.0  0.0  0.0\n",
       "5  0.5  0.5  0.0  0.0  0.0"
      ]
     },
     "execution_count": 55,
     "metadata": {},
     "output_type": "execute_result"
    }
   ],
   "source": [
    "matrix = np.array([[0.2,0.2,0.2,0.2,0.2],\n",
    "                   [0.2,0.2,0.2,0.2,0.2],\n",
    "                   [0.5,0.5,0,0,0],\n",
    "                   [0.5,0.5,0,0,0],\n",
    "                   [0.5,0.5,0,0,0]])\n",
    "trans_probs = pd.DataFrame(matrix, columns=[1,2,3,4,5],index=[1,2,3,4,5])\n",
    "trans_probs"
   ]
  },
  {
   "cell_type": "markdown",
   "metadata": {},
   "source": [
    "## Q3.C:\n",
    "\n",
    "The pagerank equations are as follows: \n",
    "\n",
    "$\\pi(1) = \\alpha/n + (1-\\alpha)\\cdot(\\pi(3)/2+\\pi(4)/2+\\pi(5)/2)$\n",
    "\n",
    "$\\pi(2) = \\alpha/n + (1-\\alpha)\\cdot(\\pi(3)/2+\\pi(4)/2+\\pi(5)/2)$\n",
    "\n",
    "$\\pi(3) = \\alpha/n + (1-\\alpha)\\cdot(\\pi(1)/5+\\pi(2)/5)$\n",
    "\n",
    "$\\pi(4) = \\alpha/n + (1-\\alpha)\\cdot(\\pi(1)/5+\\pi(2)/5)$\n",
    "\n",
    "$\\pi(5) = \\alpha/n + (1-\\alpha)\\cdot(\\pi(1)/5+\\pi(2)/5)$"
   ]
  }
 ],
 "metadata": {
  "colab": {
   "authorship_tag": "ABX9TyMcN+htJ4VGBH1Ln8o20XXr",
   "collapsed_sections": [],
   "include_colab_link": true,
   "name": "Untitled4.ipynb",
   "provenance": []
  },
  "kernelspec": {
   "display_name": "Python 3",
   "language": "python",
   "name": "python3"
  },
  "language_info": {
   "codemirror_mode": {
    "name": "ipython",
    "version": 3
   },
   "file_extension": ".py",
   "mimetype": "text/x-python",
   "name": "python",
   "nbconvert_exporter": "python",
   "pygments_lexer": "ipython3",
   "version": "3.8.8"
  }
 },
 "nbformat": 4,
 "nbformat_minor": 1
}
