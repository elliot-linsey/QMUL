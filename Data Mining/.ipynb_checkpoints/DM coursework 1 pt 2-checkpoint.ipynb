{
 "cells": [
  {
   "cell_type": "code",
   "execution_count": 60,
   "id": "48300f94",
   "metadata": {},
   "outputs": [],
   "source": [
    "import numpy as np\n",
    "import pandas as pd\n",
    "from matplotlib import pyplot as plt\n",
    "import seaborn as sns \n",
    "from sklearn.preprocessing import StandardScaler"
   ]
  },
  {
   "cell_type": "code",
   "execution_count": 3,
   "id": "72d035e7",
   "metadata": {},
   "outputs": [
    {
     "data": {
      "text/html": [
       "<div>\n",
       "<style scoped>\n",
       "    .dataframe tbody tr th:only-of-type {\n",
       "        vertical-align: middle;\n",
       "    }\n",
       "\n",
       "    .dataframe tbody tr th {\n",
       "        vertical-align: top;\n",
       "    }\n",
       "\n",
       "    .dataframe thead th {\n",
       "        text-align: right;\n",
       "    }\n",
       "</style>\n",
       "<table border=\"1\" class=\"dataframe\">\n",
       "  <thead>\n",
       "    <tr style=\"text-align: right;\">\n",
       "      <th></th>\n",
       "      <th>ACT composite score</th>\n",
       "      <th>SAT total score</th>\n",
       "      <th>parental level of education</th>\n",
       "      <th>parental income</th>\n",
       "      <th>high school gpa</th>\n",
       "      <th>college gpa</th>\n",
       "      <th>years to graduate</th>\n",
       "    </tr>\n",
       "  </thead>\n",
       "  <tbody>\n",
       "    <tr>\n",
       "      <th>0</th>\n",
       "      <td>30</td>\n",
       "      <td>2206</td>\n",
       "      <td>master's degree</td>\n",
       "      <td>94873</td>\n",
       "      <td>4.0</td>\n",
       "      <td>3.8</td>\n",
       "      <td>3</td>\n",
       "    </tr>\n",
       "    <tr>\n",
       "      <th>1</th>\n",
       "      <td>26</td>\n",
       "      <td>1953</td>\n",
       "      <td>some college</td>\n",
       "      <td>42767</td>\n",
       "      <td>3.6</td>\n",
       "      <td>2.7</td>\n",
       "      <td>9</td>\n",
       "    </tr>\n",
       "    <tr>\n",
       "      <th>2</th>\n",
       "      <td>28</td>\n",
       "      <td>2115</td>\n",
       "      <td>some high school</td>\n",
       "      <td>46316</td>\n",
       "      <td>4.0</td>\n",
       "      <td>3.3</td>\n",
       "      <td>5</td>\n",
       "    </tr>\n",
       "    <tr>\n",
       "      <th>3</th>\n",
       "      <td>33</td>\n",
       "      <td>2110</td>\n",
       "      <td>some high school</td>\n",
       "      <td>52370</td>\n",
       "      <td>4.0</td>\n",
       "      <td>3.5</td>\n",
       "      <td>4</td>\n",
       "    </tr>\n",
       "    <tr>\n",
       "      <th>4</th>\n",
       "      <td>30</td>\n",
       "      <td>2168</td>\n",
       "      <td>bachelor's degree</td>\n",
       "      <td>92665</td>\n",
       "      <td>4.0</td>\n",
       "      <td>3.6</td>\n",
       "      <td>4</td>\n",
       "    </tr>\n",
       "  </tbody>\n",
       "</table>\n",
       "</div>"
      ],
      "text/plain": [
       "   ACT composite score  SAT total score parental level of education  \\\n",
       "0                   30             2206             master's degree   \n",
       "1                   26             1953                some college   \n",
       "2                   28             2115            some high school   \n",
       "3                   33             2110            some high school   \n",
       "4                   30             2168           bachelor's degree   \n",
       "\n",
       "   parental income  high school gpa  college gpa  years to graduate  \n",
       "0            94873              4.0          3.8                  3  \n",
       "1            42767              3.6          2.7                  9  \n",
       "2            46316              4.0          3.3                  5  \n",
       "3            52370              4.0          3.5                  4  \n",
       "4            92665              4.0          3.6                  4  "
      ]
     },
     "execution_count": 3,
     "metadata": {},
     "output_type": "execute_result"
    }
   ],
   "source": [
    "df = pd.read_csv('graduation_rate.csv')\n",
    "df.head()"
   ]
  },
  {
   "cell_type": "markdown",
   "id": "3a730aca",
   "metadata": {},
   "source": [
    "## Question 1 \n",
    "As both ACT and SAT score are numerical values, we can find association between them using a correlation matrix or a scatter plot. The correlation value is 0.88 which would imply a very high positive correlation. This is further displayed in the scatter plot, as ACT increases, so does SAT and vice versa. "
   ]
  },
  {
   "cell_type": "code",
   "execution_count": 7,
   "id": "16977f74",
   "metadata": {},
   "outputs": [
    {
     "data": {
      "text/html": [
       "<div>\n",
       "<style scoped>\n",
       "    .dataframe tbody tr th:only-of-type {\n",
       "        vertical-align: middle;\n",
       "    }\n",
       "\n",
       "    .dataframe tbody tr th {\n",
       "        vertical-align: top;\n",
       "    }\n",
       "\n",
       "    .dataframe thead th {\n",
       "        text-align: right;\n",
       "    }\n",
       "</style>\n",
       "<table border=\"1\" class=\"dataframe\">\n",
       "  <thead>\n",
       "    <tr style=\"text-align: right;\">\n",
       "      <th></th>\n",
       "      <th>ACT composite score</th>\n",
       "      <th>SAT total score</th>\n",
       "      <th>parental income</th>\n",
       "      <th>high school gpa</th>\n",
       "      <th>college gpa</th>\n",
       "      <th>years to graduate</th>\n",
       "    </tr>\n",
       "  </thead>\n",
       "  <tbody>\n",
       "    <tr>\n",
       "      <th>ACT composite score</th>\n",
       "      <td>1.000000</td>\n",
       "      <td>0.885884</td>\n",
       "      <td>0.183879</td>\n",
       "      <td>0.874206</td>\n",
       "      <td>0.507349</td>\n",
       "      <td>-0.129880</td>\n",
       "    </tr>\n",
       "    <tr>\n",
       "      <th>SAT total score</th>\n",
       "      <td>0.885884</td>\n",
       "      <td>1.000000</td>\n",
       "      <td>0.247556</td>\n",
       "      <td>0.910425</td>\n",
       "      <td>0.518257</td>\n",
       "      <td>-0.125523</td>\n",
       "    </tr>\n",
       "    <tr>\n",
       "      <th>parental income</th>\n",
       "      <td>0.183879</td>\n",
       "      <td>0.247556</td>\n",
       "      <td>1.000000</td>\n",
       "      <td>0.227238</td>\n",
       "      <td>0.460863</td>\n",
       "      <td>-0.239500</td>\n",
       "    </tr>\n",
       "    <tr>\n",
       "      <th>high school gpa</th>\n",
       "      <td>0.874206</td>\n",
       "      <td>0.910425</td>\n",
       "      <td>0.227238</td>\n",
       "      <td>1.000000</td>\n",
       "      <td>0.492489</td>\n",
       "      <td>-0.119524</td>\n",
       "    </tr>\n",
       "    <tr>\n",
       "      <th>college gpa</th>\n",
       "      <td>0.507349</td>\n",
       "      <td>0.518257</td>\n",
       "      <td>0.460863</td>\n",
       "      <td>0.492489</td>\n",
       "      <td>1.000000</td>\n",
       "      <td>-0.467499</td>\n",
       "    </tr>\n",
       "    <tr>\n",
       "      <th>years to graduate</th>\n",
       "      <td>-0.129880</td>\n",
       "      <td>-0.125523</td>\n",
       "      <td>-0.239500</td>\n",
       "      <td>-0.119524</td>\n",
       "      <td>-0.467499</td>\n",
       "      <td>1.000000</td>\n",
       "    </tr>\n",
       "  </tbody>\n",
       "</table>\n",
       "</div>"
      ],
      "text/plain": [
       "                     ACT composite score  SAT total score  parental income  \\\n",
       "ACT composite score             1.000000         0.885884         0.183879   \n",
       "SAT total score                 0.885884         1.000000         0.247556   \n",
       "parental income                 0.183879         0.247556         1.000000   \n",
       "high school gpa                 0.874206         0.910425         0.227238   \n",
       "college gpa                     0.507349         0.518257         0.460863   \n",
       "years to graduate              -0.129880        -0.125523        -0.239500   \n",
       "\n",
       "                     high school gpa  college gpa  years to graduate  \n",
       "ACT composite score         0.874206     0.507349          -0.129880  \n",
       "SAT total score             0.910425     0.518257          -0.125523  \n",
       "parental income             0.227238     0.460863          -0.239500  \n",
       "high school gpa             1.000000     0.492489          -0.119524  \n",
       "college gpa                 0.492489     1.000000          -0.467499  \n",
       "years to graduate          -0.119524    -0.467499           1.000000  "
      ]
     },
     "execution_count": 7,
     "metadata": {},
     "output_type": "execute_result"
    }
   ],
   "source": [
    "df.corr()"
   ]
  },
  {
   "cell_type": "code",
   "execution_count": 12,
   "id": "13169aaa",
   "metadata": {},
   "outputs": [
    {
     "data": {
      "image/png": "[encoded data removed]",
      "text/plain": [
       "<Figure size 432x288 with 1 Axes>"
      ]
     },
     "metadata": {
      "needs_background": "light"
     },
     "output_type": "display_data"
    }
   ],
   "source": [
    "plt.scatter(df['ACT composite score'], df['SAT total score'])\n",
    "plt.xlabel('ACT composite score')\n",
    "plt.ylabel('SAT total score')\n",
    "plt.title('ACT plotted against SAT')\n",
    "plt.show()"
   ]
  },
  {
   "cell_type": "markdown",
   "id": "d8c5b46e",
   "metadata": {},
   "source": [
    "## Question 2\n",
    "There appears to be a clear positive trend as you progress higher through parental level of education, as the education increases so does the parental income's median value from around 50,000 for some high school to 90,000 for master's degree. The ranges also start to decrease from approximately 60,000 for some high school to 40,000 for master's degrees however the interquartile ranges don't move significantly. The numbers of outliers seem to be fairly consistent throughout the boxplots, however their values correspond differently between each education level, for instance the lower outlier for the masters degree is close to the median value of some high school education. "
   ]
  },
  {
   "cell_type": "code",
   "execution_count": 16,
   "id": "fa9b3e51",
   "metadata": {},
   "outputs": [
    {
     "data": {
      "image/png": "[encoded data removed]",
      "text/plain": [
       "<Figure size 432x288 with 1 Axes>"
      ]
     },
     "metadata": {
      "needs_background": "light"
     },
     "output_type": "display_data"
    }
   ],
   "source": [
    "ax = sns.boxplot(x='parental level of education', y='parental income', data=df,order=['some high school','high school'\n",
    "                                                                                     ,'some college',\"associate's degree\",\n",
    "                                                                                     \"bachelor's degree\",\"master's degree\"])\n",
    "plt.title('Boxplot: parental income, grouped by parental level of education')\n",
    "\n",
    "# Wrap xticks \n",
    "import textwrap\n",
    "ax.set_xticklabels([textwrap.fill(t.get_text(), 10)  for t in ax.get_xticklabels()])\n",
    "\n",
    "plt.show()"
   ]
  },
  {
   "cell_type": "code",
   "execution_count": 59,
   "id": "97d92a35",
   "metadata": {},
   "outputs": [
    {
     "data": {
      "text/html": [
       "<div>\n",
       "<style scoped>\n",
       "    .dataframe tbody tr th:only-of-type {\n",
       "        vertical-align: middle;\n",
       "    }\n",
       "\n",
       "    .dataframe tbody tr th {\n",
       "        vertical-align: top;\n",
       "    }\n",
       "\n",
       "    .dataframe thead th {\n",
       "        text-align: right;\n",
       "    }\n",
       "</style>\n",
       "<table border=\"1\" class=\"dataframe\">\n",
       "  <thead>\n",
       "    <tr style=\"text-align: right;\">\n",
       "      <th></th>\n",
       "      <th>ACT composite score</th>\n",
       "      <th>SAT total score</th>\n",
       "      <th>parental level of education</th>\n",
       "      <th>parental income</th>\n",
       "      <th>high school gpa</th>\n",
       "      <th>college gpa</th>\n",
       "      <th>years to graduate</th>\n",
       "    </tr>\n",
       "  </thead>\n",
       "  <tbody>\n",
       "    <tr>\n",
       "      <th>411</th>\n",
       "      <td>31</td>\n",
       "      <td>2108</td>\n",
       "      <td>master's degree</td>\n",
       "      <td>120391</td>\n",
       "      <td>4.0</td>\n",
       "      <td>3.6</td>\n",
       "      <td>4</td>\n",
       "    </tr>\n",
       "  </tbody>\n",
       "</table>\n",
       "</div>"
      ],
      "text/plain": [
       "     ACT composite score  SAT total score parental level of education  \\\n",
       "411                   31             2108             master's degree   \n",
       "\n",
       "     parental income  high school gpa  college gpa  years to graduate  \n",
       "411           120391              4.0          3.6                  4  "
      ]
     },
     "metadata": {},
     "output_type": "display_data"
    },
    {
     "data": {
      "text/html": [
       "<div>\n",
       "<style scoped>\n",
       "    .dataframe tbody tr th:only-of-type {\n",
       "        vertical-align: middle;\n",
       "    }\n",
       "\n",
       "    .dataframe tbody tr th {\n",
       "        vertical-align: top;\n",
       "    }\n",
       "\n",
       "    .dataframe thead th {\n",
       "        text-align: right;\n",
       "    }\n",
       "</style>\n",
       "<table border=\"1\" class=\"dataframe\">\n",
       "  <thead>\n",
       "    <tr style=\"text-align: right;\">\n",
       "      <th></th>\n",
       "      <th>ACT composite score</th>\n",
       "      <th>SAT total score</th>\n",
       "      <th>parental level of education</th>\n",
       "      <th>parental income</th>\n",
       "      <th>high school gpa</th>\n",
       "      <th>college gpa</th>\n",
       "      <th>years to graduate</th>\n",
       "    </tr>\n",
       "  </thead>\n",
       "  <tbody>\n",
       "    <tr>\n",
       "      <th>420</th>\n",
       "      <td>28</td>\n",
       "      <td>2097</td>\n",
       "      <td>master's degree</td>\n",
       "      <td>59724</td>\n",
       "      <td>3.9</td>\n",
       "      <td>3.2</td>\n",
       "      <td>4</td>\n",
       "    </tr>\n",
       "  </tbody>\n",
       "</table>\n",
       "</div>"
      ],
      "text/plain": [
       "     ACT composite score  SAT total score parental level of education  \\\n",
       "420                   28             2097             master's degree   \n",
       "\n",
       "     parental income  high school gpa  college gpa  years to graduate  \n",
       "420            59724              3.9          3.2                  4  "
      ]
     },
     "metadata": {},
     "output_type": "display_data"
    }
   ],
   "source": [
    "df_masters = df[df['parental level of education'] == 'master\\'s degree']\n",
    "display(df_masters.sort_values(by='parental income',ascending=False)[0:1])\n",
    "display(df_masters.sort_values(by='parental income',ascending=True)[0:1])"
   ]
  },
  {
   "cell_type": "markdown",
   "id": "d3cf7458",
   "metadata": {},
   "source": [
    "## Question 3\n",
    "It is important to scale different features when comparing distances as if their magnitudes are too different then one feature may take precedence over another. For example, if you were trying to find the distances between individuals based on shoe size and height, both height and shoe_size use different magnitudes or scales. Shoe size ranges from 5 to 10, so a max distance of 5, whilst heights ranges from 153 to 194 with a max distance of 41. In trying to find the distances between these individuals, heights would be weighted more heavily because there is a greater numerical distance between most of the values. By using scaling, we put all of the variables into a similar range to negate this effect. "
   ]
  },
  {
   "cell_type": "code",
   "execution_count": 65,
   "id": "48e5de75",
   "metadata": {},
   "outputs": [
    {
     "data": {
      "text/plain": [
       "array([[-0.8299425 , -1.04764544],\n",
       "       [ 0.84670902, -0.34921515],\n",
       "       [-1.24910538,  0.34921515],\n",
       "       [ 0.25988098,  0.34921515],\n",
       "       [-1.41677053,  1.04764544],\n",
       "       [-0.57844477,  1.74607574],\n",
       "       [ 0.59521129,  0.34921515],\n",
       "       [ 0.42754614,  0.34921515],\n",
       "       [ 2.02036508, -1.04764544],\n",
       "       [-0.07544932, -1.74607574]])"
      ]
     },
     "execution_count": 65,
     "metadata": {},
     "output_type": "execute_result"
    }
   ],
   "source": [
    "heights = np.array([160,180,155,173,153,163,177,175,194,169])\n",
    "shoe_size = np.array([6,7,8,8,9,10,8,8,6,5])\n",
    "zipped = np.column_stack((heights,shoe_size))\n",
    "scaler = StandardScaler()\n",
    "zipped = scaler.fit_transform(zipped)\n",
    "zipped"
   ]
  }
 ],
 "metadata": {
  "kernelspec": {
   "display_name": "Python 3",
   "language": "python",
   "name": "python3"
  },
  "language_info": {
   "codemirror_mode": {
    "name": "ipython",
    "version": 3
   },
   "file_extension": ".py",
   "mimetype": "text/x-python",
   "name": "python",
   "nbconvert_exporter": "python",
   "pygments_lexer": "ipython3",
   "version": "3.8.8"
  }
 },
 "nbformat": 4,
 "nbformat_minor": 5
}
