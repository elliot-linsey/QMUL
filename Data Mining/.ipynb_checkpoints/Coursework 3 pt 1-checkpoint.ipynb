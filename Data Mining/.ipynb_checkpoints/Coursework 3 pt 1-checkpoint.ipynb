{
 "cells": [
  {
   "cell_type": "code",
   "execution_count": 1,
   "id": "2050d048",
   "metadata": {},
   "outputs": [],
   "source": [
    "import pandas as pd\n",
    "from mlxtend.preprocessing import TransactionEncoder\n",
    "from mlxtend.frequent_patterns import apriori\n",
    "from mlxtend.frequent_patterns import association_rules"
   ]
  },
  {
   "cell_type": "markdown",
   "id": "e7e466fc",
   "metadata": {},
   "source": [
    "# ECS766 Coursework 2 - Elliot Linsey"
   ]
  },
  {
   "cell_type": "markdown",
   "id": "7f81be2c",
   "metadata": {},
   "source": [
    "## Q1:\n",
    "\n",
    "Computing the support of every subset of an itemset can lead to numbers too large for a computer to compute or store. This is because if we have a large itemset, then we have to compute every combination of items within to calculate every support. The equation to calculate the number of itemsets within a large itemset is $2^n-1$, with n being the number of items within your itemset. If we had an itemset of 100 items, the equation would be $2^{100}-1 \\approx 1.27\\times10^{30}$, this resulting number is too large to be handled by the computer.  \n",
    "\n",
    "The apriori algorithm is used to reduce the amount of calculations involved by using apriori knowledge that the subset of a frequent itemset is also frequent. Therefore, if an itemset in $L_k$ is frequent then the corresponding subsets are also frequent. Using this knowledge, it can find the initial candidate itemsets, $C_1$, use this to find the frequent itemsets $L_1$ by comparing with the previously decided support count. Then, generate the next set of candidates $C_2$, or superset, of the original candidates by joining $L_1 \\Join L_1$. After joining, you create $L_2$ by pruning the candidates of $C_2$ that lack frequent itemsets. As you are removing infrequent itemsets as you go through the algorithm, you do not need to calculate every single itemset support as you only keep the itemsets that meet your predetermined support level. "
   ]
  },
  {
   "cell_type": "markdown",
   "id": "1de1d662",
   "metadata": {},
   "source": [
    "## Q2:\n",
    "\n",
    "If $L_1$ contains the initial frequent itemsets, then every $k\\geq2$ must be a superset of $L_1$ because the apriori rule has the attribute of antimonotonicity. This refers to the fact that if a set cannot pass the support test, then all supersets will also fail. Therefore, for all sets in $k\\geq2$, they must be made from an itemset of $L_1$ (that passes the support test), otherwise they too will not pass the support test. "
   ]
  },
  {
   "cell_type": "markdown",
   "id": "539ec80f",
   "metadata": {},
   "source": [
    "## Q3:\n",
    "\n",
    "$C_3$ = {{1,2,4},{2,3,4}}"
   ]
  },
  {
   "cell_type": "markdown",
   "id": "1a11afe4",
   "metadata": {},
   "source": [
    "## Q4:\n",
    "\n",
    "As $S_2$ is a subset of $S_1$, therefore the support of $S_2$ will be $\\geq$ the support of $S_1$"
   ]
  },
  {
   "cell_type": "markdown",
   "id": "19b50897",
   "metadata": {},
   "source": [
    "## Q5:\n",
    "\n",
    "0.8???"
   ]
  },
  {
   "cell_type": "markdown",
   "id": "dbf09fef",
   "metadata": {},
   "source": [
    "## Q6:\n",
    "\n",
    "6"
   ]
  },
  {
   "cell_type": "markdown",
   "id": "ccbebf1d",
   "metadata": {},
   "source": [
    "## Q7:"
   ]
  },
  {
   "cell_type": "code",
   "execution_count": 2,
   "id": "671391fd",
   "metadata": {},
   "outputs": [
    {
     "data": {
      "text/plain": [
       "True"
      ]
     },
     "execution_count": 2,
     "metadata": {},
     "output_type": "execute_result"
    }
   ],
   "source": [
    "dataset = [['Milk', 'Onion', 'Nutmeg', 'Kidney Beans', 'Eggs', 'Yogurt'],\n",
    "           ['Dill', 'Onion', 'Nutmeg', 'Kidney Beans', 'Eggs', 'Yogurt'],\n",
    "           ['Milk', 'Apple', 'Kidney Beans', 'Eggs'],\n",
    "           ['Milk', 'Unicorn', 'Corn', 'Kidney Beans', 'Yogurt'],\n",
    "           ['Corn', 'Onion', 'Onion', 'Kidney Beans', 'Ice cream', 'Eggs']]\n",
    "'Kidney Beans' in dataset[0] and 'Eggs' in dataset[0]"
   ]
  },
  {
   "cell_type": "code",
   "execution_count": 3,
   "id": "b898fde8",
   "metadata": {},
   "outputs": [
    {
     "name": "stdout",
     "output_type": "stream",
     "text": [
      "Kulczynski({Onion}, {Kidney Beans, Eggs}): 0.875\n"
     ]
    }
   ],
   "source": [
    "def K_measure(dataset,A,B):\n",
    "    count1 = 0\n",
    "    count2 = 0\n",
    "    count3 = 0\n",
    "    for x in dataset:\n",
    "        if set(A).issubset(set(x)) and set(B).issubset(set(x)):\n",
    "            count1 += 1\n",
    "        if set(A).issubset(set(x)):\n",
    "            count2 += 1\n",
    "        if set(B).issubset(set(x)):\n",
    "            count3 += 1       \n",
    "    supportAB = count1/len(dataset)\n",
    "    conA = count1/count2\n",
    "    conB = count1/count3\n",
    "    return (conA+conB)/2\n",
    "print('Kulczynski({Onion}, {Kidney Beans, Eggs}): ' + str(K_measure(dataset, ['Onion'], ['Kidney Beans','Eggs'])))     "
   ]
  },
  {
   "cell_type": "markdown",
   "id": "2d0cc3dd",
   "metadata": {},
   "source": [
    "## Q8:"
   ]
  },
  {
   "cell_type": "code",
   "execution_count": 4,
   "id": "77cced13",
   "metadata": {},
   "outputs": [
    {
     "name": "stdout",
     "output_type": "stream",
     "text": [
      "Imbalance Ratio({Onion}, {Kidney Beans, Eggs}: 0.2500000000000001\n"
     ]
    }
   ],
   "source": [
    "def imb_ratio(dataset,A,B):\n",
    "    count1 = 0\n",
    "    count2 = 0\n",
    "    count3 = 0\n",
    "    for x in dataset:\n",
    "        if set(A).issubset(set(x)) and set(B).issubset(set(x)):\n",
    "            count1 += 1\n",
    "        if set(A).issubset(set(x)):\n",
    "            count2 += 1\n",
    "        if set(B).issubset(set(x)):\n",
    "            count3 += 1       \n",
    "    supportA = count2/len(dataset)\n",
    "    supportB = count3/len(dataset)\n",
    "    supportAUB = count1/len(dataset)\n",
    "    #print(supportA,supportB,supportAUB)\n",
    "    conA = count1/count2\n",
    "    conB = count1/count3\n",
    "    return abs(supportA-supportB)/(supportA+supportB-supportAUB)\n",
    "print('Imbalance Ratio({Onion}, {Kidney Beans, Eggs}: ' + str(imb_ratio(dataset, ['Onion'], ['Kidney Beans','Eggs'])))\n",
    "#imb_ratio(dataset2, ['Eggs'], ['Kidney Beans'])  "
   ]
  }
 ],
 "metadata": {
  "kernelspec": {
   "display_name": "Python 3",
   "language": "python",
   "name": "python3"
  },
  "language_info": {
   "codemirror_mode": {
    "name": "ipython",
    "version": 3
   },
   "file_extension": ".py",
   "mimetype": "text/x-python",
   "name": "python",
   "nbconvert_exporter": "python",
   "pygments_lexer": "ipython3",
   "version": "3.8.8"
  }
 },
 "nbformat": 4,
 "nbformat_minor": 5
}
