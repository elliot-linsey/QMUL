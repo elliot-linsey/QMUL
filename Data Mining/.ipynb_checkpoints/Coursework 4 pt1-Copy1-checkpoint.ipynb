{
 "cells": [
  {
   "cell_type": "markdown",
   "metadata": {
    "colab_type": "text",
    "id": "view-in-github"
   },
   "source": [
    "<a href=\"https://colab.research.google.com/github/elliot-linsey/QMUL/blob/main/Data%20Mining/Coursework%204%20pt1.ipynb\" target=\"_parent\"><img src=\"https://colab.research.google.com/assets/colab-badge.svg\" alt=\"Open In Colab\"/></a>"
   ]
  },
  {
   "cell_type": "code",
   "execution_count": 1,
   "metadata": {
    "id": "uEZw1618BrXw"
   },
   "outputs": [],
   "source": [
    "import pandas as pd\n",
    "import numpy as np\n",
    "import matplotlib.pyplot as plt\n",
    "import seaborn as sns\n",
    "%matplotlib inline\n",
    "from urllib.request import urlopen\n",
    "from bs4 import BeautifulSoup"
   ]
  },
  {
   "cell_type": "markdown",
   "metadata": {},
   "source": [
    "# ECS766 Coursework 4 - Elliot Linsey"
   ]
  },
  {
   "cell_type": "markdown",
   "metadata": {},
   "source": [
    "## Q1.A\n",
    "\n",
    "* \\<!DOCTYPE html\\>, this tag declares to the browser what type of information to expect. All html documents must start with this tag. \n",
    "* \\<html\\>, this tag represents the root of the html document and is the tag in which all of the information within the document is contained (apart from the \\<!DOCTYPE html\\> tag). \n",
    "* \\<body\\>, this tag defines where the contents such as headings, paragraphs, tables, images and anything else that the user will actually see or interact with are placed within the document. There can be only one body within an html document but it can be split into sections with div elements. \n",
    "* \\<h1\\>, this tag is used to define the heading of the html document and is usually used as the main title. This is because it is the largest heading available in comparison to lesser headings like h2, h3 and so on. \n",
    "* \\<p\\>, this tag defines a paragraph element which is a block of text. If the \\<h\\> tag is the title, then the \\<p\\> tag will usually be the paragraph below it.\n",
    "* \\<table\\>, this tag defines a table, it must contain one of more of the \\<tr\\>, \\<td\\> and \\<th\\> elements.\n",
    "* \\<thead\\>, this defines the head of the table which is where the column headings will be located. \n",
    "* \\<tbody\\>, this defines the body of the table where the data will be located. \n",
    "* \\<tr\\>, this indicates a table row which can contain either data \\<td\\> or headings \\<th\\> in this instance. \n",
    "* \\<th\\>, this indicates a table heading which will contain the column headings, usually a child of \\<tr\\>.\n",
    "* \\<td\\>, this indicates table data that will be placed within a row, usually a child of \\<tr\\> also. "
   ]
  },
  {
   "cell_type": "markdown",
   "metadata": {},
   "source": [
    "## Q1.B"
   ]
  },
  {
   "cell_type": "code",
   "execution_count": 2,
   "metadata": {
    "id": "om5l0WMoBxKB"
   },
   "outputs": [],
   "source": [
    "url = 'http://eecs.qmul.ac.uk/~emmanouilb/income_table.html'\n",
    "html = urlopen(url)"
   ]
  },
  {
   "cell_type": "code",
   "execution_count": 3,
   "metadata": {
    "colab": {
     "base_uri": "https://localhost:8080/"
    },
    "id": "gy2IknGsBykl",
    "outputId": "c3ebd320-7f98-4d0e-a96b-50b79248027c"
   },
   "outputs": [],
   "source": [
    "soup = BeautifulSoup(html, 'lxml')"
   ]
  },
  {
   "cell_type": "code",
   "execution_count": 4,
   "metadata": {
    "colab": {
     "base_uri": "https://localhost:8080/"
    },
    "id": "3klfCHcXBym9",
    "outputId": "f6df8ef6-2635-4332-9a72-2732e2840ceb"
   },
   "outputs": [
    {
     "data": {
      "text/plain": [
       "['Region', 'Age', 'Income', 'Online Shopper']"
      ]
     },
     "execution_count": 4,
     "metadata": {},
     "output_type": "execute_result"
    }
   ],
   "source": [
    "th = soup.find_all('th')\n",
    "headers = []\n",
    "for header in th:\n",
    "  headers.append(header.get_text())\n",
    "headers"
   ]
  },
  {
   "cell_type": "code",
   "execution_count": 5,
   "metadata": {
    "colab": {
     "base_uri": "https://localhost:8080/"
    },
    "id": "OR-N43LtBypM",
    "outputId": "fc749906-6128-4a43-b6ec-9cf691806049"
   },
   "outputs": [
    {
     "data": {
      "text/plain": [
       "array([['India', '49', '86400', 'No'],\n",
       "       ['Brazil', '32', '57600', 'Yes'],\n",
       "       ['USA', '35', '64800', 'No'],\n",
       "       ['Brazil', '43', '73200', 'No'],\n",
       "       ['USA', '45', '', 'Yes'],\n",
       "       ['India', '40', '69600', 'Yes'],\n",
       "       ['Brazil', '', '62400', 'No'],\n",
       "       ['India', '53', '94800', 'Yes'],\n",
       "       ['USA', '55', '99600', 'No'],\n",
       "       ['India', '42', '80400', 'Yes']], dtype='<U6')"
      ]
     },
     "execution_count": 5,
     "metadata": {},
     "output_type": "execute_result"
    }
   ],
   "source": [
    "td = soup.find_all('td')\n",
    "rows = []\n",
    "for row in td:\n",
    "  rows.append(row.get_text())\n",
    "rows = np.array(rows)\n",
    "rows = np.reshape(rows,(10,4))\n",
    "rows"
   ]
  },
  {
   "cell_type": "code",
   "execution_count": 6,
   "metadata": {
    "colab": {
     "base_uri": "https://localhost:8080/",
     "height": 363
    },
    "id": "dGXEWivUByrs",
    "outputId": "e1e2caaa-fa73-4cc8-8395-5606ac5fc69e"
   },
   "outputs": [
    {
     "data": {
      "text/html": [
       "<div>\n",
       "<style scoped>\n",
       "    .dataframe tbody tr th:only-of-type {\n",
       "        vertical-align: middle;\n",
       "    }\n",
       "\n",
       "    .dataframe tbody tr th {\n",
       "        vertical-align: top;\n",
       "    }\n",
       "\n",
       "    .dataframe thead th {\n",
       "        text-align: right;\n",
       "    }\n",
       "</style>\n",
       "<table border=\"1\" class=\"dataframe\">\n",
       "  <thead>\n",
       "    <tr style=\"text-align: right;\">\n",
       "      <th></th>\n",
       "      <th>Region</th>\n",
       "      <th>Age</th>\n",
       "      <th>Income</th>\n",
       "      <th>Online Shopper</th>\n",
       "    </tr>\n",
       "  </thead>\n",
       "  <tbody>\n",
       "    <tr>\n",
       "      <th>0</th>\n",
       "      <td>India</td>\n",
       "      <td>49</td>\n",
       "      <td>86400</td>\n",
       "      <td>No</td>\n",
       "    </tr>\n",
       "    <tr>\n",
       "      <th>1</th>\n",
       "      <td>Brazil</td>\n",
       "      <td>32</td>\n",
       "      <td>57600</td>\n",
       "      <td>Yes</td>\n",
       "    </tr>\n",
       "    <tr>\n",
       "      <th>2</th>\n",
       "      <td>USA</td>\n",
       "      <td>35</td>\n",
       "      <td>64800</td>\n",
       "      <td>No</td>\n",
       "    </tr>\n",
       "    <tr>\n",
       "      <th>3</th>\n",
       "      <td>Brazil</td>\n",
       "      <td>43</td>\n",
       "      <td>73200</td>\n",
       "      <td>No</td>\n",
       "    </tr>\n",
       "    <tr>\n",
       "      <th>4</th>\n",
       "      <td>USA</td>\n",
       "      <td>45</td>\n",
       "      <td></td>\n",
       "      <td>Yes</td>\n",
       "    </tr>\n",
       "    <tr>\n",
       "      <th>5</th>\n",
       "      <td>India</td>\n",
       "      <td>40</td>\n",
       "      <td>69600</td>\n",
       "      <td>Yes</td>\n",
       "    </tr>\n",
       "    <tr>\n",
       "      <th>6</th>\n",
       "      <td>Brazil</td>\n",
       "      <td></td>\n",
       "      <td>62400</td>\n",
       "      <td>No</td>\n",
       "    </tr>\n",
       "    <tr>\n",
       "      <th>7</th>\n",
       "      <td>India</td>\n",
       "      <td>53</td>\n",
       "      <td>94800</td>\n",
       "      <td>Yes</td>\n",
       "    </tr>\n",
       "    <tr>\n",
       "      <th>8</th>\n",
       "      <td>USA</td>\n",
       "      <td>55</td>\n",
       "      <td>99600</td>\n",
       "      <td>No</td>\n",
       "    </tr>\n",
       "    <tr>\n",
       "      <th>9</th>\n",
       "      <td>India</td>\n",
       "      <td>42</td>\n",
       "      <td>80400</td>\n",
       "      <td>Yes</td>\n",
       "    </tr>\n",
       "  </tbody>\n",
       "</table>\n",
       "</div>"
      ],
      "text/plain": [
       "   Region Age Income Online Shopper\n",
       "0   India  49  86400             No\n",
       "1  Brazil  32  57600            Yes\n",
       "2     USA  35  64800             No\n",
       "3  Brazil  43  73200             No\n",
       "4     USA  45                   Yes\n",
       "5   India  40  69600            Yes\n",
       "6  Brazil      62400             No\n",
       "7   India  53  94800            Yes\n",
       "8     USA  55  99600             No\n",
       "9   India  42  80400            Yes"
      ]
     },
     "execution_count": 6,
     "metadata": {},
     "output_type": "execute_result"
    }
   ],
   "source": [
    "df = pd.DataFrame(rows,columns=headers)\n",
    "df"
   ]
  },
  {
   "cell_type": "markdown",
   "metadata": {},
   "source": [
    "## Q2"
   ]
  },
  {
   "cell_type": "code",
   "execution_count": 7,
   "metadata": {
    "id": "i50g443GByuE"
   },
   "outputs": [],
   "source": [
    "url = 'http://eecs.qmul.ac.uk/postgraduate/programmes/'\n",
    "html = urlopen(url)"
   ]
  },
  {
   "cell_type": "code",
   "execution_count": 8,
   "metadata": {
    "id": "-1KyTWFJBywL"
   },
   "outputs": [],
   "source": [
    "soup = BeautifulSoup(html, 'lxml')"
   ]
  },
  {
   "cell_type": "code",
   "execution_count": 9,
   "metadata": {
    "colab": {
     "base_uri": "https://localhost:8080/"
    },
    "id": "lfeSeJREByyd",
    "outputId": "4f95941e-853a-4920-8228-1e67dd6bda92"
   },
   "outputs": [
    {
     "data": {
      "text/plain": [
       "['Postgraduate degree programmes', 'Part-time(2 year)', 'Full-time(1 year)']"
      ]
     },
     "execution_count": 9,
     "metadata": {},
     "output_type": "execute_result"
    }
   ],
   "source": [
    "th = soup.find_all('th')\n",
    "headers = []\n",
    "for header in th:\n",
    "  headers.append(header.get_text())\n",
    "headers"
   ]
  },
  {
   "cell_type": "code",
   "execution_count": 10,
   "metadata": {
    "id": "wQNryF-6By0b"
   },
   "outputs": [],
   "source": [
    "td = soup.find_all('td')\n",
    "rows = []\n",
    "for row in td:\n",
    "  rows.append(row.get_text())\n",
    "rows = np.array(rows)\n",
    "rows = np.reshape(rows,(14,3))\n",
    "rows2 = []\n",
    "for x in rows:\n",
    "  rows2.append(np.char.strip(x,'\\xa0'))\n",
    "rows = rows2\n",
    "#rows"
   ]
  },
  {
   "cell_type": "code",
   "execution_count": 11,
   "metadata": {
    "colab": {
     "base_uri": "https://localhost:8080/",
     "height": 582
    },
    "id": "FcJ5FUI3I9pV",
    "outputId": "e88c1fd8-4520-44ec-94fb-788c4a6af8ed"
   },
   "outputs": [
    {
     "data": {
      "text/html": [
       "<div>\n",
       "<style scoped>\n",
       "    .dataframe tbody tr th:only-of-type {\n",
       "        vertical-align: middle;\n",
       "    }\n",
       "\n",
       "    .dataframe tbody tr th {\n",
       "        vertical-align: top;\n",
       "    }\n",
       "\n",
       "    .dataframe thead th {\n",
       "        text-align: right;\n",
       "    }\n",
       "</style>\n",
       "<table border=\"1\" class=\"dataframe\">\n",
       "  <thead>\n",
       "    <tr style=\"text-align: right;\">\n",
       "      <th></th>\n",
       "      <th>Postgraduate degree programmes</th>\n",
       "      <th>Part-time(2 year)</th>\n",
       "      <th>Full-time(1 year)</th>\n",
       "    </tr>\n",
       "  </thead>\n",
       "  <tbody>\n",
       "    <tr>\n",
       "      <th>0</th>\n",
       "      <td>Advanced Electronic and Electrical Engineering</td>\n",
       "      <td>H60C</td>\n",
       "      <td>H60A</td>\n",
       "    </tr>\n",
       "    <tr>\n",
       "      <th>1</th>\n",
       "      <td>Artificial Intelligence</td>\n",
       "      <td>I4U2</td>\n",
       "      <td>I4U1</td>\n",
       "    </tr>\n",
       "    <tr>\n",
       "      <th>2</th>\n",
       "      <td>Big Data Science</td>\n",
       "      <td>H6J6</td>\n",
       "      <td>H6J7</td>\n",
       "    </tr>\n",
       "    <tr>\n",
       "      <th>3</th>\n",
       "      <td>Computer Games</td>\n",
       "      <td></td>\n",
       "      <td>I4U4</td>\n",
       "    </tr>\n",
       "    <tr>\n",
       "      <th>4</th>\n",
       "      <td>Computer Science</td>\n",
       "      <td>G4U2</td>\n",
       "      <td>G4U1</td>\n",
       "    </tr>\n",
       "    <tr>\n",
       "      <th>5</th>\n",
       "      <td>Computer Science by Research</td>\n",
       "      <td>G4Q2</td>\n",
       "      <td>G4Q1</td>\n",
       "    </tr>\n",
       "    <tr>\n",
       "      <th>6</th>\n",
       "      <td>Computing and Information Systems</td>\n",
       "      <td>G5U6</td>\n",
       "      <td>G5U5</td>\n",
       "    </tr>\n",
       "    <tr>\n",
       "      <th>7</th>\n",
       "      <td>Data Science and Artificial Intelligence by Co...</td>\n",
       "      <td></td>\n",
       "      <td>I4U5</td>\n",
       "    </tr>\n",
       "    <tr>\n",
       "      <th>8</th>\n",
       "      <td>Electronic Engineering by Research</td>\n",
       "      <td>H6T6</td>\n",
       "      <td>H6T5</td>\n",
       "    </tr>\n",
       "    <tr>\n",
       "      <th>9</th>\n",
       "      <td>Internet of Things (Data)</td>\n",
       "      <td>I1T2</td>\n",
       "      <td>I1T0</td>\n",
       "    </tr>\n",
       "    <tr>\n",
       "      <th>10</th>\n",
       "      <td>Machine Learning for Visual Data Analytics</td>\n",
       "      <td>H6JZ</td>\n",
       "      <td>H6JE</td>\n",
       "    </tr>\n",
       "    <tr>\n",
       "      <th>11</th>\n",
       "      <td>Sound and Music Computing</td>\n",
       "      <td>H6T4</td>\n",
       "      <td>H6T8</td>\n",
       "    </tr>\n",
       "    <tr>\n",
       "      <th>12</th>\n",
       "      <td>Telecommunication and Wireless Systems</td>\n",
       "      <td>H6JD</td>\n",
       "      <td>H6JA</td>\n",
       "    </tr>\n",
       "    <tr>\n",
       "      <th>13</th>\n",
       "      <td>Digital and Technology Solutions (Apprenticeship)</td>\n",
       "      <td>I4DA</td>\n",
       "      <td></td>\n",
       "    </tr>\n",
       "  </tbody>\n",
       "</table>\n",
       "</div>"
      ],
      "text/plain": [
       "                       Postgraduate degree programmes Part-time(2 year)  \\\n",
       "0      Advanced Electronic and Electrical Engineering              H60C   \n",
       "1                             Artificial Intelligence              I4U2   \n",
       "2                                    Big Data Science              H6J6   \n",
       "3                                      Computer Games                     \n",
       "4                                    Computer Science              G4U2   \n",
       "5                        Computer Science by Research              G4Q2   \n",
       "6                   Computing and Information Systems              G5U6   \n",
       "7   Data Science and Artificial Intelligence by Co...                     \n",
       "8                  Electronic Engineering by Research              H6T6   \n",
       "9                           Internet of Things (Data)              I1T2   \n",
       "10         Machine Learning for Visual Data Analytics              H6JZ   \n",
       "11                          Sound and Music Computing              H6T4   \n",
       "12             Telecommunication and Wireless Systems              H6JD   \n",
       "13  Digital and Technology Solutions (Apprenticeship)              I4DA   \n",
       "\n",
       "   Full-time(1 year)  \n",
       "0               H60A  \n",
       "1               I4U1  \n",
       "2               H6J7  \n",
       "3               I4U4  \n",
       "4               G4U1  \n",
       "5               G4Q1  \n",
       "6               G5U5  \n",
       "7               I4U5  \n",
       "8               H6T5  \n",
       "9               I1T0  \n",
       "10              H6JE  \n",
       "11              H6T8  \n",
       "12              H6JA  \n",
       "13                    "
      ]
     },
     "execution_count": 11,
     "metadata": {},
     "output_type": "execute_result"
    }
   ],
   "source": [
    "df2 = pd.DataFrame(rows, columns=headers)\n",
    "df2"
   ]
  },
  {
   "cell_type": "code",
   "execution_count": 12,
   "metadata": {
    "id": "irMrbJ9EJTd7"
   },
   "outputs": [],
   "source": [
    "links = []\n",
    "for row in soup.find_all('td'):\n",
    "  #print(row.find('a'))\n",
    "  try:\n",
    "    links.append(row.find('a').get('href'))\n",
    "  except AttributeError:\n",
    "    links.append('')"
   ]
  },
  {
   "cell_type": "code",
   "execution_count": 13,
   "metadata": {
    "id": "ZDjLow8AL3Fx"
   },
   "outputs": [],
   "source": [
    "links = np.array(links)\n",
    "links = np.reshape(links,(14,3))\n",
    "#links"
   ]
  },
  {
   "cell_type": "markdown",
   "metadata": {},
   "source": [
    "A note to marker, the course table (on the website) has changed since we were set this coursework. Below is the table as displayed from 16/12/2021. "
   ]
  },
  {
   "cell_type": "code",
   "execution_count": 17,
   "metadata": {
    "colab": {
     "base_uri": "https://localhost:8080/",
     "height": 582
    },
    "id": "5oBg4r-kOBsp",
    "outputId": "c1bf64b1-862c-4cba-8906-1ffe616ebd88",
    "scrolled": false
   },
   "outputs": [
    {
     "data": {
      "text/html": [
       "<div>\n",
       "<style scoped>\n",
       "    .dataframe tbody tr th:only-of-type {\n",
       "        vertical-align: middle;\n",
       "    }\n",
       "\n",
       "    .dataframe tbody tr th {\n",
       "        vertical-align: top;\n",
       "    }\n",
       "\n",
       "    .dataframe thead th {\n",
       "        text-align: right;\n",
       "    }\n",
       "</style>\n",
       "<table border=\"1\" class=\"dataframe\">\n",
       "  <thead>\n",
       "    <tr style=\"text-align: right;\">\n",
       "      <th></th>\n",
       "      <th>Postgraduate degree programmes</th>\n",
       "      <th>Part-time(2 year)</th>\n",
       "      <th>Full-time(1 year)</th>\n",
       "      <th>Part-time Link</th>\n",
       "      <th>Full-time Link</th>\n",
       "    </tr>\n",
       "  </thead>\n",
       "  <tbody>\n",
       "    <tr>\n",
       "      <th>0</th>\n",
       "      <td>Advanced Electronic and Electrical Engineering</td>\n",
       "      <td>H60C</td>\n",
       "      <td>H60A</td>\n",
       "      <td>https://www.qmul.ac.uk/postgraduate/taught/cou...</td>\n",
       "      <td>https://www.qmul.ac.uk/postgraduate/taught/cou...</td>\n",
       "    </tr>\n",
       "    <tr>\n",
       "      <th>1</th>\n",
       "      <td>Artificial Intelligence</td>\n",
       "      <td>I4U2</td>\n",
       "      <td>I4U1</td>\n",
       "      <td>https://www.qmul.ac.uk/postgraduate/taught/cou...</td>\n",
       "      <td>https://www.qmul.ac.uk/postgraduate/taught/cou...</td>\n",
       "    </tr>\n",
       "    <tr>\n",
       "      <th>2</th>\n",
       "      <td>Big Data Science</td>\n",
       "      <td>H6J6</td>\n",
       "      <td>H6J7</td>\n",
       "      <td>https://www.qmul.ac.uk/postgraduate/taught/cou...</td>\n",
       "      <td>https://www.qmul.ac.uk/postgraduate/taught/cou...</td>\n",
       "    </tr>\n",
       "    <tr>\n",
       "      <th>3</th>\n",
       "      <td>Computer Games</td>\n",
       "      <td></td>\n",
       "      <td>I4U4</td>\n",
       "      <td></td>\n",
       "      <td>https://www.qmul.ac.uk/postgraduate/taught/cou...</td>\n",
       "    </tr>\n",
       "    <tr>\n",
       "      <th>4</th>\n",
       "      <td>Computer Science</td>\n",
       "      <td>G4U2</td>\n",
       "      <td>G4U1</td>\n",
       "      <td>https://www.qmul.ac.uk/postgraduate/taught/cou...</td>\n",
       "      <td>https://www.qmul.ac.uk/postgraduate/taught/cou...</td>\n",
       "    </tr>\n",
       "    <tr>\n",
       "      <th>5</th>\n",
       "      <td>Computer Science by Research</td>\n",
       "      <td>G4Q2</td>\n",
       "      <td>G4Q1</td>\n",
       "      <td>https://www.qmul.ac.uk/postgraduate/taught/cou...</td>\n",
       "      <td>https://www.qmul.ac.uk/postgraduate/taught/cou...</td>\n",
       "    </tr>\n",
       "    <tr>\n",
       "      <th>6</th>\n",
       "      <td>Computing and Information Systems</td>\n",
       "      <td>G5U6</td>\n",
       "      <td>G5U5</td>\n",
       "      <td>https://www.qmul.ac.uk/postgraduate/taught/cou...</td>\n",
       "      <td>https://www.qmul.ac.uk/postgraduate/taught/cou...</td>\n",
       "    </tr>\n",
       "    <tr>\n",
       "      <th>7</th>\n",
       "      <td>Data Science and Artificial Intelligence by Co...</td>\n",
       "      <td></td>\n",
       "      <td>I4U5</td>\n",
       "      <td></td>\n",
       "      <td>https://www.qmul.ac.uk/postgraduate/taught/cou...</td>\n",
       "    </tr>\n",
       "    <tr>\n",
       "      <th>8</th>\n",
       "      <td>Electronic Engineering by Research</td>\n",
       "      <td>H6T6</td>\n",
       "      <td>H6T5</td>\n",
       "      <td>https://www.qmul.ac.uk/postgraduate/taught/cou...</td>\n",
       "      <td>https://www.qmul.ac.uk/postgraduate/taught/cou...</td>\n",
       "    </tr>\n",
       "    <tr>\n",
       "      <th>9</th>\n",
       "      <td>Internet of Things (Data)</td>\n",
       "      <td>I1T2</td>\n",
       "      <td>I1T0</td>\n",
       "      <td>https://www.qmul.ac.uk/postgraduate/taught/cou...</td>\n",
       "      <td>https://www.qmul.ac.uk/postgraduate/taught/cou...</td>\n",
       "    </tr>\n",
       "    <tr>\n",
       "      <th>10</th>\n",
       "      <td>Machine Learning for Visual Data Analytics</td>\n",
       "      <td>H6JZ</td>\n",
       "      <td>H6JE</td>\n",
       "      <td>https://www.qmul.ac.uk/postgraduate/taught/cou...</td>\n",
       "      <td>https://www.qmul.ac.uk/postgraduate/taught/cou...</td>\n",
       "    </tr>\n",
       "    <tr>\n",
       "      <th>11</th>\n",
       "      <td>Sound and Music Computing</td>\n",
       "      <td>H6T4</td>\n",
       "      <td>H6T8</td>\n",
       "      <td>https://www.qmul.ac.uk/postgraduate/taught/cou...</td>\n",
       "      <td>https://www.qmul.ac.uk/postgraduate/taught/cou...</td>\n",
       "    </tr>\n",
       "    <tr>\n",
       "      <th>12</th>\n",
       "      <td>Telecommunication and Wireless Systems</td>\n",
       "      <td>H6JD</td>\n",
       "      <td>H6JA</td>\n",
       "      <td>https://www.qmul.ac.uk/postgraduate/taught/cou...</td>\n",
       "      <td>https://www.qmul.ac.uk/postgraduate/taught/cou...</td>\n",
       "    </tr>\n",
       "    <tr>\n",
       "      <th>13</th>\n",
       "      <td>Digital and Technology Solutions (Apprenticeship)</td>\n",
       "      <td>I4DA</td>\n",
       "      <td></td>\n",
       "      <td>https://www.qmul.ac.uk/postgraduate/taught/cou...</td>\n",
       "      <td></td>\n",
       "    </tr>\n",
       "  </tbody>\n",
       "</table>\n",
       "</div>"
      ],
      "text/plain": [
       "                       Postgraduate degree programmes Part-time(2 year)  \\\n",
       "0      Advanced Electronic and Electrical Engineering              H60C   \n",
       "1                             Artificial Intelligence              I4U2   \n",
       "2                                    Big Data Science              H6J6   \n",
       "3                                      Computer Games                     \n",
       "4                                    Computer Science              G4U2   \n",
       "5                        Computer Science by Research              G4Q2   \n",
       "6                   Computing and Information Systems              G5U6   \n",
       "7   Data Science and Artificial Intelligence by Co...                     \n",
       "8                  Electronic Engineering by Research              H6T6   \n",
       "9                           Internet of Things (Data)              I1T2   \n",
       "10         Machine Learning for Visual Data Analytics              H6JZ   \n",
       "11                          Sound and Music Computing              H6T4   \n",
       "12             Telecommunication and Wireless Systems              H6JD   \n",
       "13  Digital and Technology Solutions (Apprenticeship)              I4DA   \n",
       "\n",
       "   Full-time(1 year)                                     Part-time Link  \\\n",
       "0               H60A  https://www.qmul.ac.uk/postgraduate/taught/cou...   \n",
       "1               I4U1  https://www.qmul.ac.uk/postgraduate/taught/cou...   \n",
       "2               H6J7  https://www.qmul.ac.uk/postgraduate/taught/cou...   \n",
       "3               I4U4                                                      \n",
       "4               G4U1  https://www.qmul.ac.uk/postgraduate/taught/cou...   \n",
       "5               G4Q1  https://www.qmul.ac.uk/postgraduate/taught/cou...   \n",
       "6               G5U5  https://www.qmul.ac.uk/postgraduate/taught/cou...   \n",
       "7               I4U5                                                      \n",
       "8               H6T5  https://www.qmul.ac.uk/postgraduate/taught/cou...   \n",
       "9               I1T0  https://www.qmul.ac.uk/postgraduate/taught/cou...   \n",
       "10              H6JE  https://www.qmul.ac.uk/postgraduate/taught/cou...   \n",
       "11              H6T8  https://www.qmul.ac.uk/postgraduate/taught/cou...   \n",
       "12              H6JA  https://www.qmul.ac.uk/postgraduate/taught/cou...   \n",
       "13                    https://www.qmul.ac.uk/postgraduate/taught/cou...   \n",
       "\n",
       "                                       Full-time Link  \n",
       "0   https://www.qmul.ac.uk/postgraduate/taught/cou...  \n",
       "1   https://www.qmul.ac.uk/postgraduate/taught/cou...  \n",
       "2   https://www.qmul.ac.uk/postgraduate/taught/cou...  \n",
       "3   https://www.qmul.ac.uk/postgraduate/taught/cou...  \n",
       "4   https://www.qmul.ac.uk/postgraduate/taught/cou...  \n",
       "5   https://www.qmul.ac.uk/postgraduate/taught/cou...  \n",
       "6   https://www.qmul.ac.uk/postgraduate/taught/cou...  \n",
       "7   https://www.qmul.ac.uk/postgraduate/taught/cou...  \n",
       "8   https://www.qmul.ac.uk/postgraduate/taught/cou...  \n",
       "9   https://www.qmul.ac.uk/postgraduate/taught/cou...  \n",
       "10  https://www.qmul.ac.uk/postgraduate/taught/cou...  \n",
       "11  https://www.qmul.ac.uk/postgraduate/taught/cou...  \n",
       "12  https://www.qmul.ac.uk/postgraduate/taught/cou...  \n",
       "13                                                     "
      ]
     },
     "execution_count": 17,
     "metadata": {},
     "output_type": "execute_result"
    }
   ],
   "source": [
    "df3 = pd.DataFrame(links, columns=['drop', 'Part-time Link', 'Full-time Link'])\n",
    "df3 = df3.drop('drop',axis=1)\n",
    "df3 = df2.join(df3)\n",
    "df3"
   ]
  },
  {
   "cell_type": "markdown",
   "metadata": {},
   "source": [
    "## Q3.A: \n",
    "\n",
    "We would consider nodes 1 and 2 to be authorities and nodes 3, 4 and 5 to be hubs. "
   ]
  },
  {
   "cell_type": "markdown",
   "metadata": {},
   "source": [
    "## Q3.B: \n",
    "\n",
    "The black lines have a probability of 1/2, whereas all the red lines are the teleportation probabilities as they are dead-end nodes and therefore have all red lines have a probability of 1/5 as there are 5 nodes in total. "
   ]
  },
  {
   "attachments": {
    "transition%20probability%20diagram-2.JPG": {
     "image/jpeg": "[encoded data removed]"
    }
   },
   "cell_type": "markdown",
   "metadata": {},
   "source": [
    "![transition%20probability%20diagram-2.JPG](attachment:transition%20probability%20diagram-2.JPG)"
   ]
  },
  {
   "cell_type": "markdown",
   "metadata": {},
   "source": [
    "The table below shows all the transition probabilities, for example node 1 to any other node (including itself) is 0.2. Node 3 to nodes 1 or 2 has a probability of 0.5 but into any other nodes (including itself) it is 0. "
   ]
  },
  {
   "cell_type": "code",
   "execution_count": 15,
   "metadata": {
    "scrolled": true
   },
   "outputs": [
    {
     "data": {
      "text/html": [
       "<div>\n",
       "<style scoped>\n",
       "    .dataframe tbody tr th:only-of-type {\n",
       "        vertical-align: middle;\n",
       "    }\n",
       "\n",
       "    .dataframe tbody tr th {\n",
       "        vertical-align: top;\n",
       "    }\n",
       "\n",
       "    .dataframe thead th {\n",
       "        text-align: right;\n",
       "    }\n",
       "</style>\n",
       "<table border=\"1\" class=\"dataframe\">\n",
       "  <thead>\n",
       "    <tr style=\"text-align: right;\">\n",
       "      <th></th>\n",
       "      <th>1</th>\n",
       "      <th>2</th>\n",
       "      <th>3</th>\n",
       "      <th>4</th>\n",
       "      <th>5</th>\n",
       "    </tr>\n",
       "  </thead>\n",
       "  <tbody>\n",
       "    <tr>\n",
       "      <th>1</th>\n",
       "      <td>0.2</td>\n",
       "      <td>0.2</td>\n",
       "      <td>0.2</td>\n",
       "      <td>0.2</td>\n",
       "      <td>0.2</td>\n",
       "    </tr>\n",
       "    <tr>\n",
       "      <th>2</th>\n",
       "      <td>0.2</td>\n",
       "      <td>0.2</td>\n",
       "      <td>0.2</td>\n",
       "      <td>0.2</td>\n",
       "      <td>0.2</td>\n",
       "    </tr>\n",
       "    <tr>\n",
       "      <th>3</th>\n",
       "      <td>0.5</td>\n",
       "      <td>0.5</td>\n",
       "      <td>0.0</td>\n",
       "      <td>0.0</td>\n",
       "      <td>0.0</td>\n",
       "    </tr>\n",
       "    <tr>\n",
       "      <th>4</th>\n",
       "      <td>0.5</td>\n",
       "      <td>0.5</td>\n",
       "      <td>0.0</td>\n",
       "      <td>0.0</td>\n",
       "      <td>0.0</td>\n",
       "    </tr>\n",
       "    <tr>\n",
       "      <th>5</th>\n",
       "      <td>0.5</td>\n",
       "      <td>0.5</td>\n",
       "      <td>0.0</td>\n",
       "      <td>0.0</td>\n",
       "      <td>0.0</td>\n",
       "    </tr>\n",
       "  </tbody>\n",
       "</table>\n",
       "</div>"
      ],
      "text/plain": [
       "     1    2    3    4    5\n",
       "1  0.2  0.2  0.2  0.2  0.2\n",
       "2  0.2  0.2  0.2  0.2  0.2\n",
       "3  0.5  0.5  0.0  0.0  0.0\n",
       "4  0.5  0.5  0.0  0.0  0.0\n",
       "5  0.5  0.5  0.0  0.0  0.0"
      ]
     },
     "execution_count": 15,
     "metadata": {},
     "output_type": "execute_result"
    }
   ],
   "source": [
    "matrix = np.array([[0.2,0.2,0.2,0.2,0.2],\n",
    "                   [0.2,0.2,0.2,0.2,0.2],\n",
    "                   [0.5,0.5,0,0,0],\n",
    "                   [0.5,0.5,0,0,0],\n",
    "                   [0.5,0.5,0,0,0]])\n",
    "trans_probs = pd.DataFrame(matrix, columns=[1,2,3,4,5],index=[1,2,3,4,5])\n",
    "trans_probs"
   ]
  },
  {
   "cell_type": "markdown",
   "metadata": {},
   "source": [
    "## Q3.C:\n",
    "\n",
    "The pagerank equations are as follows: \n",
    "\n",
    "$\\pi(1) = \\alpha/n + (1-\\alpha)\\cdot(\\pi(1)/5+\\pi(2)/5+\\pi(3)/2+\\pi(4)/2+\\pi(5)/2)$\n",
    "\n",
    "$\\pi(2) = \\alpha/n + (1-\\alpha)\\cdot(\\pi(1)/5+\\pi(2)/5+\\pi(3)/2+\\pi(4)/2+\\pi(5)/2)$\n",
    "\n",
    "$\\pi(3) = \\alpha/n + (1-\\alpha)\\cdot(\\pi(1)/5+\\pi(2)/5)$\n",
    "\n",
    "$\\pi(4) = \\alpha/n + (1-\\alpha)\\cdot(\\pi(1)/5+\\pi(2)/5)$\n",
    "\n",
    "$\\pi(5) = \\alpha/n + (1-\\alpha)\\cdot(\\pi(1)/5+\\pi(2)/5)$"
   ]
  },
  {
   "cell_type": "markdown",
   "metadata": {},
   "source": [
    "## Part 2\n",
    "\n",
    "## Q1"
   ]
  },
  {
   "cell_type": "markdown",
   "metadata": {},
   "source": [
    "Removing all the stop words results in these sentences: \n",
    "\n",
    "* data refer characteristic collect observation\n",
    "* dataset view collection object\n",
    "* data object describe number attribute\n",
    "* attribute characteristic feature object\n",
    "\n",
    "|---| data | refer | characteristic | collect | observation | dataset | view | collection | object | describe | number | attribute | feature\n",
    "|--- |--------------- | ------------ | ----------- | ---------- | ---|---|---|---|---|---|---|---|---|\n",
    "|Doc. 1 | 1 | 1 | 1 | 1 | 1 | 0 | 0 | 0 | 0 | 0 | 0 | 0 | 0 |\n",
    "|Doc. 2 | 0 | 0 | 0 | 0 | 0 | 1 | 1 | 1 | 1 | 0 | 0 | 0 | 0 |\n",
    "|Doc. 3 | 1 | 0 | 0 | 0 | 0 | 0 | 0 | 0 | 1 | 1 | 1 | 1 | 0 |\n",
    "|Doc. 4 | 0 | 0 | 1 | 0 | 0 | 0 | 0 | 0 | 1 | 0 | 0 | 1 | 1 |\n"
   ]
  },
  {
   "cell_type": "markdown",
   "metadata": {},
   "source": [
    "To calculate the inverse document frequency, we use this formula: idf(w) = log10(|D|/|Dw|)\n",
    "\n",
    "For example, data appears in two documents. The idf(data) = log10(4/2) = 0.30"
   ]
  },
  {
   "cell_type": "code",
   "execution_count": 18,
   "metadata": {},
   "outputs": [
    {
     "data": {
      "text/plain": [
       "0.3010299956639812"
      ]
     },
     "execution_count": 18,
     "metadata": {},
     "output_type": "execute_result"
    }
   ],
   "source": [
    "np.log10(4/2)"
   ]
  },
  {
   "cell_type": "markdown",
   "metadata": {},
   "source": [
    "|word| idf |\n",
    "|--- |--------------- | \n",
    "|data | 0.30 |\n",
    "|refer | 0.60 | \n",
    "|characteristic | 0.30 | \n",
    "|collect | 0.60 | \n",
    "|observation | 0.60 |\n",
    "|dataset | 0.60 |\n",
    "|view | 0.60 |\n",
    "|collection | 0.60 |\n",
    "|object | 0.12 |\n",
    "|describe | 0.60 |\n",
    "|number | 0.60 |\n",
    "|attribute | 0.30 |\n",
    "|feature | 0.60 |"
   ]
  },
  {
   "cell_type": "markdown",
   "metadata": {},
   "source": [
    "## Q2\n",
    "\n",
    "For the timeseries $y = \\{0.1, 0.15, 0.2, 0.2, 0.3, 0.4, 0.25, 0.6, 0.5\\}$, a binned version with k=3 would equal:\n",
    "\n",
    "$y = \\{0.15,0.3,0.45\\}$"
   ]
  },
  {
   "cell_type": "markdown",
   "metadata": {},
   "source": [
    "## Q3"
   ]
  },
  {
   "cell_type": "code",
   "execution_count": 19,
   "metadata": {},
   "outputs": [
    {
     "data": {
      "text/plain": [
       "(1279,)"
      ]
     },
     "execution_count": 19,
     "metadata": {},
     "output_type": "execute_result"
    }
   ],
   "source": [
    "import pandas as pd\n",
    "time = pd.read_csv('timeseries.csv').to_numpy()\n",
    "time = time.flatten()\n",
    "time.shape"
   ]
  },
  {
   "cell_type": "code",
   "execution_count": 21,
   "metadata": {},
   "outputs": [
    {
     "data": {
      "text/plain": [
       "Text(0.5, 0, 'Time (index $n$)')"
      ]
     },
     "execution_count": 21,
     "metadata": {},
     "output_type": "execute_result"
    },
    {
     "data": {
      "image/png": "[encoded data removed]",
      "text/plain": [
       "<Figure size 720x288 with 1 Axes>"
      ]
     },
     "metadata": {
      "needs_background": "light"
     },
     "output_type": "display_data"
    }
   ],
   "source": [
    "from matplotlib import pyplot as plt \n",
    "\n",
    "x = np.fft.fft(time)\n",
    "# Plot\n",
    "plt.figure(figsize=(10, 4))\n",
    "plt.title('$x$')\n",
    "plt.plot(time, 'k')\n",
    "plt.xlabel('Time (index $n$)')"
   ]
  },
  {
   "cell_type": "code",
   "execution_count": 22,
   "metadata": {},
   "outputs": [
    {
     "data": {
      "image/png": "[encoded data removed]",
      "text/plain": [
       "<Figure size 720x288 with 1 Axes>"
      ]
     },
     "metadata": {
      "needs_background": "light"
     },
     "output_type": "display_data"
    }
   ],
   "source": [
    "plt.figure(figsize=(10, 4))\n",
    "plt.title('$|X|$ - magnitude of DFT')\n",
    "plt.plot(np.abs(x), 'k')\n",
    "plt.xlabel('Frequency (index $k$)')\n",
    "plt.tight_layout()"
   ]
  },
  {
   "cell_type": "markdown",
   "metadata": {},
   "source": [
    "There are 2 principal frequency components."
   ]
  },
  {
   "cell_type": "markdown",
   "metadata": {},
   "source": [
    "## Q4"
   ]
  },
  {
   "cell_type": "code",
   "execution_count": 23,
   "metadata": {},
   "outputs": [
    {
     "name": "stdout",
     "output_type": "stream",
     "text": [
      "            Births\n",
      "Date              \n",
      "1959-01-01      35\n",
      "1959-01-02      32\n",
      "1959-01-03      30\n",
      "1959-01-04      31\n",
      "1959-01-05      44\n"
     ]
    }
   ],
   "source": [
    "series = pd.read_csv('births.csv', header=0, index_col=0)\n",
    "\n",
    "print(series.head())"
   ]
  },
  {
   "cell_type": "code",
   "execution_count": 25,
   "metadata": {},
   "outputs": [
    {
     "name": "stdout",
     "output_type": "stream",
     "text": [
      "               Births\n",
      "Date                 \n",
      "1959-01-01   0.000000\n",
      "1959-01-02   0.000000\n",
      "1959-01-03   0.000000\n",
      "1959-01-04   0.000000\n",
      "1959-01-05   0.000000\n",
      "1959-01-06   0.000000\n",
      "1959-01-07  35.142857\n",
      "1959-01-08  36.285714\n",
      "1959-01-09  37.142857\n",
      "1959-01-10  36.714286\n"
     ]
    }
   ],
   "source": [
    "rolling = series.rolling(window=7)\n",
    "rolling_mean = rolling.mean().fillna(0)\n",
    "print(rolling_mean.head(10))\n"
   ]
  },
  {
   "cell_type": "markdown",
   "metadata": {},
   "source": [
    "### Autoregression (AR)\n",
    "\n",
    "The errors are occurring due to using pandas series rather than numpy arrays, however the values should still be correct and it is useful to see the corresponding dates for the predicted values. "
   ]
  },
  {
   "cell_type": "code",
   "execution_count": 26,
   "metadata": {},
   "outputs": [
    {
     "name": "stdout",
     "output_type": "stream",
     "text": [
      "1960-01-01    45.380177\n",
      "1960-01-02    44.960852\n",
      "1960-01-03    44.590676\n",
      "1960-01-04    44.271699\n",
      "1960-01-05    43.997395\n",
      "Freq: D, dtype: float64\n"
     ]
    },
    {
     "name": "stderr",
     "output_type": "stream",
     "text": [
      "C:\\Users\\ellio\\anaconda3\\lib\\site-packages\\statsmodels\\tsa\\base\\tsa_model.py:536: ValueWarning: No frequency information was provided, so inferred frequency D will be used.\n",
      "  warnings.warn('No frequency information was'\n",
      "C:\\Users\\ellio\\anaconda3\\lib\\site-packages\\statsmodels\\tsa\\deterministic.py:152: UserWarning: Only PeriodIndexes, DatetimeIndexes with a frequency set, RangesIndexes, and NumericIndex with a unit increment support extending. The index is set will contain the position relative to the data length.\n",
      "  warnings.warn(\n"
     ]
    }
   ],
   "source": [
    "from statsmodels.tsa.ar_model import AutoReg\n",
    "\n",
    "\n",
    "model = AutoReg(rolling_mean, lags=2,old_names=False)\n",
    "model_fit = model.fit()\n",
    "\n",
    "yhat = model_fit.predict(len(rolling_mean), len(rolling_mean)+4)\n",
    "print(yhat)"
   ]
  },
  {
   "cell_type": "markdown",
   "metadata": {},
   "source": [
    "### Autoregression Moving Average (ARMA) "
   ]
  },
  {
   "cell_type": "code",
   "execution_count": 27,
   "metadata": {},
   "outputs": [
    {
     "name": "stderr",
     "output_type": "stream",
     "text": [
      "C:\\Users\\ellio\\anaconda3\\lib\\site-packages\\statsmodels\\tsa\\base\\tsa_model.py:536: ValueWarning: No frequency information was provided, so inferred frequency D will be used.\n",
      "  warnings.warn('No frequency information was'\n",
      "C:\\Users\\ellio\\anaconda3\\lib\\site-packages\\statsmodels\\tsa\\base\\tsa_model.py:536: ValueWarning: No frequency information was provided, so inferred frequency D will be used.\n",
      "  warnings.warn('No frequency information was'\n",
      "C:\\Users\\ellio\\anaconda3\\lib\\site-packages\\statsmodels\\tsa\\base\\tsa_model.py:536: ValueWarning: No frequency information was provided, so inferred frequency D will be used.\n",
      "  warnings.warn('No frequency information was'\n"
     ]
    },
    {
     "name": "stdout",
     "output_type": "stream",
     "text": [
      "1960-01-01    45.810247\n",
      "1960-01-02    45.818766\n",
      "1960-01-03    45.728092\n",
      "1960-01-04    45.564016\n",
      "1960-01-05    45.347305\n",
      "Freq: D, Name: predicted_mean, dtype: float64\n"
     ]
    }
   ],
   "source": [
    "from statsmodels.tsa.arima.model import ARIMA\n",
    "model = ARIMA(rolling_mean, order=(2, 0, 2)) \n",
    "model_fit = model.fit()\n",
    "\n",
    "yhat = model_fit.predict(len(rolling_mean), len(rolling_mean)+4) # arguments denote which dataset indices to predict\n",
    "print(yhat)"
   ]
  },
  {
   "cell_type": "markdown",
   "metadata": {},
   "source": [
    "## Q5"
   ]
  },
  {
   "cell_type": "code",
   "execution_count": 29,
   "metadata": {},
   "outputs": [
    {
     "name": "stdout",
     "output_type": "stream",
     "text": [
      "loading content:  anomaly detection\n",
      "loading content:  cluster analysis\n",
      "loading content:  k-means clustering\n",
      "loading content:  data mining\n",
      "loading content:  data warehouse\n",
      "loading content:  association rule learning\n"
     ]
    }
   ],
   "source": [
    "import wikipedia\n",
    "articles=['anomaly detection', 'cluster analysis', 'k-means clustering', 'data mining', 'data warehouse', 'association rule learning']\n",
    "wiki_lst=[]\n",
    "title=[]\n",
    "\n",
    "for article in articles:\n",
    "   print(\"loading content: \",article)\n",
    "   wiki_lst.append(wikipedia.page(article,auto_suggest=False).content)\n",
    "   title.append(article)"
   ]
  },
  {
   "cell_type": "code",
   "execution_count": 30,
   "metadata": {},
   "outputs": [
    {
     "name": "stdout",
     "output_type": "stream",
     "text": [
      "(6, 3511)\n"
     ]
    }
   ],
   "source": [
    "from sklearn.feature_extraction.text import TfidfVectorizer\n",
    "\n",
    "vectorizer = TfidfVectorizer(stop_words={'english'})\n",
    "X = vectorizer.fit_transform(wiki_lst) # Create tf-idf feature of the wikipedia dataset\n",
    "\n",
    "print(X.shape) # Print dimensions of tf-idf feature"
   ]
  },
  {
   "cell_type": "code",
   "execution_count": 31,
   "metadata": {},
   "outputs": [
    {
     "data": {
      "image/png": "[encoded data removed]",
      "text/plain": [
       "<Figure size 432x288 with 1 Axes>"
      ]
     },
     "metadata": {
      "needs_background": "light"
     },
     "output_type": "display_data"
    }
   ],
   "source": [
    "import matplotlib.pyplot as plt\n",
    "from sklearn.cluster import KMeans\n",
    "\n",
    "Sum_of_squared_distances = []\n",
    "K = range(2,7)\n",
    "\n",
    "for k in K:\n",
    "    km = KMeans(n_clusters=k, max_iter=200, n_init=10)\n",
    "    km = km.fit(X)\n",
    "    Sum_of_squared_distances.append(km.inertia_)\n",
    "\n",
    "plt.plot(K, Sum_of_squared_distances, 'bx-')\n",
    "plt.xlabel('k')\n",
    "plt.ylabel('Sum_of_squared_distances')\n",
    "plt.title('Elbow Method')\n",
    "plt.show()"
   ]
  },
  {
   "cell_type": "markdown",
   "metadata": {},
   "source": [
    "Using k=3 as our number of clusters, we find that cluster analysis, k-means clustering and association rule learning are in one cluster, data mining and data warehouse are in another, and (slightly ironically), that anomaly detection is in it's own separate cluster. Using this information, we could alter our techniques or algorithms for each wikipedia article depending on what cluster it belongs to to help extract useful data. "
   ]
  },
  {
   "cell_type": "code",
   "execution_count": 32,
   "metadata": {},
   "outputs": [
    {
     "name": "stdout",
     "output_type": "stream",
     "text": [
      "                       title  cluster\n",
      "0          anomaly detection        0\n",
      "1           cluster analysis        1\n",
      "2         k-means clustering        1\n",
      "5  association rule learning        1\n",
      "3                data mining        2\n",
      "4             data warehouse        2\n"
     ]
    }
   ],
   "source": [
    "true_k = 3\n",
    "model = KMeans(n_clusters=true_k, init='k-means++', max_iter=200, n_init=10)\n",
    "model.fit(X)\n",
    "\n",
    "labels=model.labels_\n",
    "wiki_cl=pd.DataFrame(list(zip(title,labels)),columns=['title','cluster'])\n",
    "print(wiki_cl.sort_values(by=['cluster']))"
   ]
  },
  {
   "cell_type": "markdown",
   "metadata": {},
   "source": [
    "Thanks for reading! \n",
    "\n",
    "Elliot Linsey, QMUL"
   ]
  }
 ],
 "metadata": {
  "colab": {
   "authorship_tag": "ABX9TyMcN+htJ4VGBH1Ln8o20XXr",
   "collapsed_sections": [],
   "include_colab_link": true,
   "name": "Untitled4.ipynb",
   "provenance": []
  },
  "kernelspec": {
   "display_name": "Python 3",
   "language": "python",
   "name": "python3"
  },
  "language_info": {
   "codemirror_mode": {
    "name": "ipython",
    "version": 3
   },
   "file_extension": ".py",
   "mimetype": "text/x-python",
   "name": "python",
   "nbconvert_exporter": "python",
   "pygments_lexer": "ipython3",
   "version": "3.8.8"
  }
 },
 "nbformat": 4,
 "nbformat_minor": 1
}
