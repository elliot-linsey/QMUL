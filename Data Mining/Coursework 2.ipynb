{
  "nbformat": 4,
  "nbformat_minor": 0,
  "metadata": {
    "colab": {
      "name": "Untitled0.ipynb",
      "provenance": [],
      "collapsed_sections": [],
      "authorship_tag": "ABX9TyOjjbHmEhObw/tLH73UQZcV",
      "include_colab_link": true
    },
    "kernelspec": {
      "name": "python3",
      "display_name": "Python 3"
    },
    "language_info": {
      "name": "python"
    }
  },
  "cells": [
    {
      "cell_type": "markdown",
      "metadata": {
        "id": "view-in-github",
        "colab_type": "text"
      },
      "source": [
        "<a href=\"https://colab.research.google.com/github/elliot-linsey/QMUL/blob/main/Data%20Mining/Coursework%202.ipynb\" target=\"_parent\"><img src=\"https://colab.research.google.com/assets/colab-badge.svg\" alt=\"Open In Colab\"/></a>"
      ]
    },
    {
      "cell_type": "code",
      "metadata": {
        "id": "vvlx_y_uHSTD"
      },
      "source": [
        "# !pip install cubes\n",
        "# !pip install -Iv sqlalchemy==1.3.9"
      ],
      "execution_count": 52,
      "outputs": []
    },
    {
      "cell_type": "code",
      "metadata": {
        "id": "-4VtykhOHMQg"
      },
      "source": [
        "from sqlalchemy import create_engine\n",
        "from cubes.tutorial.sql import create_table_from_csv"
      ],
      "execution_count": 53,
      "outputs": []
    },
    {
      "cell_type": "code",
      "metadata": {
        "id": "8NTu8Dx5Hexg"
      },
      "source": [
        "engine = create_engine('sqlite:///data.sqlite')\n",
        "create_table_from_csv(engine,\n",
        "                      \"country-income.csv\",\n",
        "                      table_name=\"country_income\",\n",
        "                      fields=[\n",
        "                          (\"region\", \"string\"),\n",
        "                          (\"age\", \"integer\"),\n",
        "                          (\"income\", \"integer\"),\n",
        "                          (\"online_shopper\", \"string\")\n",
        "                          ],\n",
        "                      create_id=True\n",
        "                     )"
      ],
      "execution_count": 54,
      "outputs": []
    },
    {
      "cell_type": "code",
      "metadata": {
        "id": "wfWRJcvRH9lb"
      },
      "source": [
        "from cubes import Workspace\n",
        "\n",
        "workspace = Workspace()\n",
        "workspace.register_default_store(\"sql\", url=\"sqlite:///data.sqlite\")"
      ],
      "execution_count": 55,
      "outputs": []
    },
    {
      "cell_type": "code",
      "metadata": {
        "id": "ofnM9kJ9IVag"
      },
      "source": [
        "workspace.import_model(\"country_income_model.json\")"
      ],
      "execution_count": 56,
      "outputs": []
    },
    {
      "cell_type": "code",
      "metadata": {
        "id": "dzjDyGl4LMyH"
      },
      "source": [
        "cube = workspace.cube(\"country_income\")"
      ],
      "execution_count": 57,
      "outputs": []
    },
    {
      "cell_type": "code",
      "metadata": {
        "id": "0LftxIKnLSKA"
      },
      "source": [
        "browser = workspace.browser(cube)"
      ],
      "execution_count": 58,
      "outputs": []
    },
    {
      "cell_type": "code",
      "metadata": {
        "colab": {
          "base_uri": "https://localhost:8080/"
        },
        "id": "vEe7SKlJLTBE",
        "outputId": "bbbd114d-34b8-48ba-cfe7-8c9833227f17"
      },
      "source": [
        "result = browser.aggregate()\n",
        "result.summary[\"record_count\"]"
      ],
      "execution_count": 59,
      "outputs": [
        {
          "output_type": "execute_result",
          "data": {
            "text/plain": [
              "10"
            ]
          },
          "metadata": {},
          "execution_count": 59
        }
      ]
    },
    {
      "cell_type": "code",
      "metadata": {
        "colab": {
          "base_uri": "https://localhost:8080/"
        },
        "id": "YwqgJPedSMkR",
        "outputId": "a4d4b574-93d9-4783-f477-763ba247c02f"
      },
      "source": [
        "result = browser.aggregate(drilldown=[\"item\"])\n",
        "for record in result:\n",
        "    print(record)"
      ],
      "execution_count": 60,
      "outputs": [
        {
          "output_type": "stream",
          "name": "stdout",
          "text": [
            "{'item.region': 'Brazil', 'amount_sum': 193200, 'record_count': 3, 'maximum': 73200, 'minimum': 57600}\n",
            "{'item.region': 'India', 'amount_sum': 331200, 'record_count': 4, 'maximum': 94800, 'minimum': 69600}\n",
            "{'item.region': 'USA', 'amount_sum': 243800, 'record_count': 3, 'maximum': 99600, 'minimum': 64800}\n"
          ]
        }
      ]
    }
  ]
}