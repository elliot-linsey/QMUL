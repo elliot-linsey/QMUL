{
  "nbformat": 4,
  "nbformat_minor": 0,
  "metadata": {
    "colab": {
      "name": "Untitled0.ipynb",
      "provenance": [],
      "collapsed_sections": [],
      "authorship_tag": "ABX9TyPTMZa0W43A86cYl/cB919X",
      "include_colab_link": true
    },
    "kernelspec": {
      "name": "python3",
      "display_name": "Python 3"
    },
    "language_info": {
      "name": "python"
    }
  },
  "cells": [
    {
      "cell_type": "markdown",
      "metadata": {
        "id": "view-in-github",
        "colab_type": "text"
      },
      "source": [
        "<a href=\"https://colab.research.google.com/github/elliot-linsey/QMUL/blob/main/Data%20Mining/Coursework%202.ipynb\" target=\"_parent\"><img src=\"https://colab.research.google.com/assets/colab-badge.svg\" alt=\"Open In Colab\"/></a>"
      ]
    },
    {
      "cell_type": "code",
      "metadata": {
        "id": "vvlx_y_uHSTD"
      },
      "source": [
        "# !pip install cubes\n",
        "# !pip install -Iv sqlalchemy==1.3.9"
      ],
      "execution_count": 13,
      "outputs": []
    },
    {
      "cell_type": "code",
      "metadata": {
        "id": "-4VtykhOHMQg"
      },
      "source": [
        "from sqlalchemy import create_engine\n",
        "from cubes.tutorial.sql import create_table_from_csv"
      ],
      "execution_count": 14,
      "outputs": []
    },
    {
      "cell_type": "code",
      "metadata": {
        "id": "8NTu8Dx5Hexg"
      },
      "source": [
        "engine = create_engine('sqlite:///data.sqlite')\n",
        "create_table_from_csv(engine,\n",
        "                      \"country-income.csv\",\n",
        "                      table_name=\"country_income\",\n",
        "                      fields=[\n",
        "                          (\"region\", \"string\"),\n",
        "                          (\"age\", \"integer\"),\n",
        "                          (\"income\", \"integer\"),\n",
        "                          (\"online_shopper\", \"string\")\n",
        "                          ],\n",
        "                      create_id=True\n",
        "                     )"
      ],
      "execution_count": 15,
      "outputs": []
    },
    {
      "cell_type": "code",
      "metadata": {
        "id": "wfWRJcvRH9lb"
      },
      "source": [
        "from cubes import Workspace\n",
        "\n",
        "workspace = Workspace()\n",
        "workspace.register_default_store(\"sql\", url=\"sqlite:///data.sqlite\")"
      ],
      "execution_count": 16,
      "outputs": []
    },
    {
      "cell_type": "code",
      "metadata": {
        "id": "ofnM9kJ9IVag"
      },
      "source": [
        "workspace.import_model(\"country_income_model.json\")"
      ],
      "execution_count": 17,
      "outputs": []
    },
    {
      "cell_type": "code",
      "metadata": {
        "id": "dzjDyGl4LMyH"
      },
      "source": [
        "cube = workspace.cube(\"country_income\")"
      ],
      "execution_count": 18,
      "outputs": []
    },
    {
      "cell_type": "code",
      "metadata": {
        "id": "0LftxIKnLSKA"
      },
      "source": [
        "browser = workspace.browser(cube)"
      ],
      "execution_count": 19,
      "outputs": []
    },
    {
      "cell_type": "code",
      "metadata": {
        "colab": {
          "base_uri": "https://localhost:8080/"
        },
        "id": "vEe7SKlJLTBE",
        "outputId": "6cb30d2a-abe8-4565-94be-ae598deed818"
      },
      "source": [
        "result = browser.aggregate()\n",
        "result.summary[\"record_count\"]"
      ],
      "execution_count": 20,
      "outputs": [
        {
          "output_type": "execute_result",
          "data": {
            "text/plain": [
              "10"
            ]
          },
          "metadata": {},
          "execution_count": 20
        }
      ]
    },
    {
      "cell_type": "code",
      "metadata": {
        "colab": {
          "base_uri": "https://localhost:8080/"
        },
        "id": "ZuMIzrY9Szj9",
        "outputId": "2afc6518-d79a-49ee-ba08-47d5cdffa43d"
      },
      "source": [
        "print(\"Summed incomes: \" + str(result.summary[\"amount_sum\"]))\n",
        "print(\"Average income: \" + str(result.summary[\"average\"]))\n",
        "print(\"Minimum income: \" + str(result.summary[\"minimum\"]))\n",
        "print(\"Maximum income: \" + str(result.summary[\"maximum\"]))"
      ],
      "execution_count": 21,
      "outputs": [
        {
          "output_type": "stream",
          "name": "stdout",
          "text": [
            "Summed incomes: 768200\n",
            "Average income: 76820.0\n",
            "Minimum income: 57600\n",
            "Maximum income: 99600\n"
          ]
        }
      ]
    },
    {
      "cell_type": "code",
      "metadata": {
        "id": "_5dwsTC3Wkqb"
      },
      "source": [
        ""
      ],
      "execution_count": 21,
      "outputs": []
    },
    {
      "cell_type": "code",
      "metadata": {
        "colab": {
          "base_uri": "https://localhost:8080/"
        },
        "id": "YwqgJPedSMkR",
        "outputId": "3b40f775-15d9-45f0-a1b2-3fe7b24bfc3d"
      },
      "source": [
        "result = browser.aggregate(drilldown=[\"region\"])\n",
        "for record in result:\n",
        "    print(record)"
      ],
      "execution_count": 23,
      "outputs": [
        {
          "output_type": "stream",
          "name": "stdout",
          "text": [
            "{'region': 'Brazil', 'amount_sum': 193200, 'record_count': 3, 'maximum': 73200, 'minimum': 57600, 'average': 64400.0}\n",
            "{'region': 'India', 'amount_sum': 331200, 'record_count': 4, 'maximum': 94800, 'minimum': 69600, 'average': 82800.0}\n",
            "{'region': 'USA', 'amount_sum': 243800, 'record_count': 3, 'maximum': 99600, 'minimum': 64800, 'average': 81266.66666666667}\n"
          ]
        }
      ]
    },
    {
      "cell_type": "code",
      "metadata": {
        "colab": {
          "base_uri": "https://localhost:8080/"
        },
        "id": "D25Hc_1-ae5O",
        "outputId": "a708e400-8618-4a76-f5fa-aa5370ae5504"
      },
      "source": [
        "result = browser.aggregate(drilldown=[\"age\"])\n",
        "for record in result:\n",
        "    print(record)"
      ],
      "execution_count": 24,
      "outputs": [
        {
          "output_type": "stream",
          "name": "stdout",
          "text": [
            "{'age': 32, 'amount_sum': 57600, 'record_count': 1, 'maximum': 57600, 'minimum': 57600, 'average': 57600.0}\n",
            "{'age': 35, 'amount_sum': 64800, 'record_count': 1, 'maximum': 64800, 'minimum': 64800, 'average': 64800.0}\n",
            "{'age': 40, 'amount_sum': 69600, 'record_count': 1, 'maximum': 69600, 'minimum': 69600, 'average': 69600.0}\n",
            "{'age': 42, 'amount_sum': 80400, 'record_count': 1, 'maximum': 80400, 'minimum': 80400, 'average': 80400.0}\n",
            "{'age': 43, 'amount_sum': 73200, 'record_count': 1, 'maximum': 73200, 'minimum': 73200, 'average': 73200.0}\n",
            "{'age': 45, 'amount_sum': 79400, 'record_count': 1, 'maximum': 79400, 'minimum': 79400, 'average': 79400.0}\n",
            "{'age': 46, 'amount_sum': 62400, 'record_count': 1, 'maximum': 62400, 'minimum': 62400, 'average': 62400.0}\n",
            "{'age': 49, 'amount_sum': 86400, 'record_count': 1, 'maximum': 86400, 'minimum': 86400, 'average': 86400.0}\n",
            "{'age': 53, 'amount_sum': 94800, 'record_count': 1, 'maximum': 94800, 'minimum': 94800, 'average': 94800.0}\n",
            "{'age': 55, 'amount_sum': 99600, 'record_count': 1, 'maximum': 99600, 'minimum': 99600, 'average': 99600.0}\n"
          ]
        }
      ]
    },
    {
      "cell_type": "code",
      "metadata": {
        "colab": {
          "base_uri": "https://localhost:8080/"
        },
        "id": "PCU-_CT4any-",
        "outputId": "9605297f-457a-44a3-901d-e9ce34c33557"
      },
      "source": [
        "result = browser.aggregate(drilldown=[\"online_shopper\"])\n",
        "for record in result:\n",
        "    print(record)"
      ],
      "execution_count": 25,
      "outputs": [
        {
          "output_type": "stream",
          "name": "stdout",
          "text": [
            "{'online_shopper': 'No', 'amount_sum': 386400, 'record_count': 5, 'maximum': 99600, 'minimum': 62400, 'average': 77280.0}\n",
            "{'online_shopper': 'Yes', 'amount_sum': 381800, 'record_count': 5, 'maximum': 94800, 'minimum': 57600, 'average': 76360.0}\n"
          ]
        }
      ]
    }
  ]
}