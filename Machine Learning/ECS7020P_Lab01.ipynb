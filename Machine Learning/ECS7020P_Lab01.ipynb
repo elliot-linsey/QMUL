{
 "cells": [
  {
   "cell_type": "markdown",
   "metadata": {
    "id": "j7ydQ_OTchpE"
   },
   "source": [
    "# Lab 1: Introduction\n",
    "\n",
    "**Machine learning** provides computational tools to extract knowledge from data. Therefore, to build and deploy machine learning solutions we need to use a  **data science computing environment**.\n",
    "\n",
    "**Python**-based computing environments are one of the most popular options among data scientists. Python provides standard, **in-built** functionalities that can be extended **importing** third-party packages. Some of the most common third-party libraries include NumPy, Pandas, Matplotlib and Scikit-learn.\n",
    "\n",
    "\n",
    "ECS7020P labs use **Python-powered Jupyter notebooks** to create **interactive** data science computing environments. A Jupyter notebook consists of **code cells** that contain code that can be executed, and **text cells** that are used for documetation purposes. Jupyter notebooks are powered by an **engine**, in our case Python, that can be on your machine (**local runtime**) or hosted on a remote, cloud-based machine (**hosted runtime**). The instructions in each lab will assume that you are using **Google Colab**, but you should be able to use other runtimes too. If you choose other runtimes you might need to do some minor tweaks, such as installing a library that is provided by the Google Colab environment by default.\n",
    "\n",
    "The purpose of this lab is to familiarise ourselves with our Python environment. Once you've completed this lab, you will be able to attempt a quiz on QM+ that is worth **2 marks**."
   ]
  },
  {
   "cell_type": "markdown",
   "metadata": {
    "id": "cmsAdgpUApVA"
   },
   "source": [
    "# Running a code cell\n",
    "\n",
    "Click on this text, and cell that contains it will be highlighted. Double-click on it, and you will be able to edit it. \n",
    "\n",
    "Text cells (also known as markdown cells) allow you to document your work. You can use different fonts, add titles, include resources such as images and even write nice mathematical expression, for instance\n",
    "\n",
    "$\\begin{equation}\n",
    "f(x) = w_0 + w_1 x\n",
    "\\end{equation}$\n",
    "\n",
    "To write such nice mathematical expressions, you need to use a different markup language called Latex.\n",
    "\n",
    "Code cells, such as the one below this text cell, contain code that can be executed. In the example below, we first create the variable `mystring` by assigning the string value `\"Welcome to ECS7020P!\"` and then we print it. You can run it by clicking on the play button on the left. Any output will appear underneath."
   ]
  },
  {
   "cell_type": "code",
   "execution_count": null,
   "metadata": {
    "id": "SCn3HDeSAt29"
   },
   "outputs": [],
   "source": [
    "mystring = \"Welcome to ECS7020P!\"\n",
    "print(mystring)"
   ]
  },
  {
   "cell_type": "markdown",
   "metadata": {
    "id": "8BhUJuFbFJyL"
   },
   "source": [
    "Note that if you are using Google Colab, it might take a while to run your first cell. The reason is that Google needs to allocate some computing resources first, so nothing to worry about.\n",
    "\n",
    "Here is another example, where we create an integer variable `myint`: "
   ]
  },
  {
   "cell_type": "code",
   "execution_count": 2,
   "metadata": {
    "id": "Byj8em4eHQ5z"
   },
   "outputs": [],
   "source": [
    "myint = 42"
   ]
  },
  {
   "cell_type": "markdown",
   "metadata": {
    "id": "DcuyhwtiHXtP"
   },
   "source": [
    "You will have noticed that running the cell didn't produce any output. The variable has however been created, as you can see if you use the command `whos`:"
   ]
  },
  {
   "cell_type": "code",
   "execution_count": null,
   "metadata": {
    "id": "SSoMGgZnIKSC"
   },
   "outputs": [],
   "source": [
    "whos"
   ]
  },
  {
   "cell_type": "markdown",
   "metadata": {
    "id": "enQdqh2QINny"
   },
   "source": [
    "Using `print`, you can check the value of `myint`:   "
   ]
  },
  {
   "cell_type": "code",
   "execution_count": null,
   "metadata": {
    "id": "VkPayVwdIcv4"
   },
   "outputs": [],
   "source": [
    "print(\"The ultimate answer to life, the universe and everything is...\", myint)"
   ]
  },
  {
   "cell_type": "markdown",
   "metadata": {
    "id": "sMn3UxbLIlXk"
   },
   "source": [
    "Very easy."
   ]
  },
  {
   "cell_type": "markdown",
   "metadata": {
    "id": "PvA0EzqFJoXG"
   },
   "source": [
    "# Uploading files\n",
    "\n",
    "Machine learning extracts knowledge from data. Therefore, we need to make our data available to the machine that is running our code. If you are running your Jupyter notebook on Google Colab, then we'll need to make sure Colab's runtime has access to our data.\n",
    "\n",
    "There are different ways to make our data accessible, but here we will present the easiest one:\n",
    "\n",
    "- Find the `Files` icon on the left pane and click on it.\n",
    "- Click on the `Upload` icon.\n",
    "- Select the file that you want to upload from your local machine.\n",
    "\n",
    "Note that you will not be able to upload a file if your notebook has not been allocated any Colab computing resources. Also note that your notebook will be disconnected if left idle for too long and after 12 hours. Disconnection will result in your data being lost.\n",
    "\n",
    "Now it's your turn. Have a go at uploading the CSV file `AnimalsHRvsBM.csv`. Once uploaded, you should be able to see it on the left-hand pane.\n",
    "\n"
   ]
  },
  {
   "cell_type": "markdown",
   "metadata": {
    "id": "c2jJpRF4P6-l"
   },
   "source": [
    "# Importing libraries\n",
    "\n",
    "You can add new functionality to your Python Jupyter notebook environment by importing libraries. Let's import Pandas, one of the most popular Python libraries for working with structured data."
   ]
  },
  {
   "cell_type": "code",
   "execution_count": 5,
   "metadata": {
    "id": "8SdaLHTQPSAq"
   },
   "outputs": [],
   "source": [
    "import pandas as pd"
   ]
  },
  {
   "cell_type": "markdown",
   "metadata": {
    "id": "Az8fR4zWQj-x"
   },
   "source": [
    "We can use Pandas to load the CSV file that we have just uploaded."
   ]
  },
  {
   "cell_type": "code",
   "execution_count": 7,
   "metadata": {
    "id": "sRseZzYiQqC4"
   },
   "outputs": [],
   "source": [
    "df = pd.read_csv('./AnimalsHRvsBM.csv')"
   ]
  },
  {
   "cell_type": "markdown",
   "metadata": {
    "id": "Pe6QpwkLQwIq"
   },
   "source": [
    "The variable `df` is a Pandas DataFrame, a table-like data structure consisting of rows and columns. The easiest way to print a Pandas DataFrame is as follows:"
   ]
  },
  {
   "cell_type": "code",
   "execution_count": null,
   "metadata": {
    "id": "50CGxYU1RQzB"
   },
   "outputs": [],
   "source": [
    "df"
   ]
  },
  {
   "cell_type": "markdown",
   "metadata": {
    "id": "lyR8luOlSBKk"
   },
   "source": [
    "The DataFrame `df` records the average body mass (`BM`) and heart rate (`HR`) of 28 different animal species, from the little wild mouse to the massive humpback whale. Let's plot this dataset.\n"
   ]
  },
  {
   "cell_type": "code",
   "execution_count": null,
   "metadata": {
    "id": "5FUoQfd3SaDK"
   },
   "outputs": [],
   "source": [
    "df.plot.scatter(x=\"BM (g)\", y=\"HR (bpm)\", logx=True)"
   ]
  },
  {
   "cell_type": "markdown",
   "metadata": {
    "id": "y48elPv9Umde"
   },
   "source": [
    "This concludes this short introductory lab. Feel free to experiment with this notebook, add new cells or edit existing ones, it's all yours! If you want to use the original Jupyter notebook, you can always download it from QM+.\n",
    "\n",
    "\n",
    "When you've finished playing, complete a short quiz on QM+ and earn 2 marks!"
   ]
  }
 ],
 "metadata": {
  "colab": {
   "collapsed_sections": [],
   "name": "ECS7020P_Lab01.ipynb",
   "provenance": []
  },
  "kernelspec": {
   "display_name": "Python 3",
   "language": "python",
   "name": "python3"
  },
  "language_info": {
   "codemirror_mode": {
    "name": "ipython",
    "version": 3
   },
   "file_extension": ".py",
   "mimetype": "text/x-python",
   "name": "python",
   "nbconvert_exporter": "python",
   "pygments_lexer": "ipython3",
   "version": "3.8.8"
  }
 },
 "nbformat": 4,
 "nbformat_minor": 1
}
