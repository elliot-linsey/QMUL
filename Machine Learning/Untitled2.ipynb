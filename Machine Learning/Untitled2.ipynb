{
 "cells": [
  {
   "cell_type": "code",
   "execution_count": 1,
   "id": "ba2ab19d",
   "metadata": {},
   "outputs": [],
   "source": [
    "import numpy as np\n",
    "import pandas as pd"
   ]
  },
  {
   "cell_type": "code",
   "execution_count": 2,
   "id": "9f6c1707",
   "metadata": {},
   "outputs": [],
   "source": [
    "x = np.array([2,4,1,3])\n",
    "y = np.array([1+0.1*4,5+0.1*8,2+0.1*4,2+0.1*4])"
   ]
  },
  {
   "cell_type": "code",
   "execution_count": 3,
   "id": "64159ae7",
   "metadata": {
    "scrolled": true
   },
   "outputs": [
    {
     "data": {
      "text/plain": [
       "array([1.4, 5.8, 2.4, 2.4])"
      ]
     },
     "execution_count": 3,
     "metadata": {},
     "output_type": "execute_result"
    }
   ],
   "source": [
    "y"
   ]
  },
  {
   "cell_type": "code",
   "execution_count": 5,
   "id": "abf4f946",
   "metadata": {},
   "outputs": [
    {
     "data": {
      "text/plain": [
       "array([1.12, 0.2 ])"
      ]
     },
     "execution_count": 5,
     "metadata": {},
     "output_type": "execute_result"
    }
   ],
   "source": [
    "w = np.polyfit(x,y,1)\n",
    "w"
   ]
  },
  {
   "cell_type": "code",
   "execution_count": 7,
   "id": "b217f2d0",
   "metadata": {},
   "outputs": [
    {
     "data": {
      "text/plain": [
       "array([[1., 2.],\n",
       "       [1., 4.],\n",
       "       [1., 1.],\n",
       "       [1., 3.]])"
      ]
     },
     "execution_count": 7,
     "metadata": {},
     "output_type": "execute_result"
    }
   ],
   "source": [
    "X = np.column_stack([np.ones(x.shape), x])\n",
    "X"
   ]
  },
  {
   "cell_type": "code",
   "execution_count": 8,
   "id": "946e31fa",
   "metadata": {},
   "outputs": [
    {
     "data": {
      "text/plain": [
       "array([0.2 , 1.12])"
      ]
     },
     "execution_count": 8,
     "metadata": {},
     "output_type": "execute_result"
    }
   ],
   "source": [
    "w3 = np.dot(np.dot(np.linalg.inv(np.dot(X.T, X)), X.T), y)\n",
    "w3"
   ]
  },
  {
   "cell_type": "code",
   "execution_count": 9,
   "id": "1abebc98",
   "metadata": {},
   "outputs": [
    {
     "name": "stdout",
     "output_type": "stream",
     "text": [
      "The mathematical expression of the fitted linear model is :   \n",
      "1.12 x + 0.2\n",
      "The coefficients of the model are :  [1.12 0.2 ]\n"
     ]
    }
   ],
   "source": [
    "p = np.poly1d(w)\n",
    "print(\"The mathematical expression of the fitted linear model is : \", p)\n",
    "print(\"The coefficients of the model are : \", p.c)"
   ]
  },
  {
   "cell_type": "code",
   "execution_count": 12,
   "id": "f0b7b0bf",
   "metadata": {},
   "outputs": [
    {
     "data": {
      "text/plain": [
       "1.2119999999999997"
      ]
     },
     "execution_count": 12,
     "metadata": {},
     "output_type": "execute_result"
    }
   ],
   "source": [
    "from sklearn.metrics import mean_squared_error\n",
    "mean_squared_error(y,p(x))"
   ]
  },
  {
   "cell_type": "code",
   "execution_count": 1,
   "id": "de264647",
   "metadata": {},
   "outputs": [],
   "source": [
    "from scipy import spatial\n"
   ]
  },
  {
   "cell_type": "code",
   "execution_count": null,
   "id": "4adc72b4",
   "metadata": {},
   "outputs": [],
   "source": []
  },
  {
   "cell_type": "code",
   "execution_count": null,
   "id": "cb790090",
   "metadata": {},
   "outputs": [],
   "source": []
  }
 ],
 "metadata": {
  "kernelspec": {
   "display_name": "Python 3",
   "language": "python",
   "name": "python3"
  },
  "language_info": {
   "codemirror_mode": {
    "name": "ipython",
    "version": 3
   },
   "file_extension": ".py",
   "mimetype": "text/x-python",
   "name": "python",
   "nbconvert_exporter": "python",
   "pygments_lexer": "ipython3",
   "version": "3.8.8"
  }
 },
 "nbformat": 4,
 "nbformat_minor": 5
}
