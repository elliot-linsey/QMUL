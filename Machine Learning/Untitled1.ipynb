{
 "cells": [
  {
   "cell_type": "code",
   "execution_count": 21,
   "id": "4f72a6dd",
   "metadata": {},
   "outputs": [],
   "source": [
    "import numpy as np\n",
    "import pandas as pd\n",
    "from matplotlib import pyplot as plt"
   ]
  },
  {
   "cell_type": "code",
   "execution_count": 25,
   "id": "3ae5f23c",
   "metadata": {},
   "outputs": [
    {
     "data": {
      "text/html": [
       "<div>\n",
       "<style scoped>\n",
       "    .dataframe tbody tr th:only-of-type {\n",
       "        vertical-align: middle;\n",
       "    }\n",
       "\n",
       "    .dataframe tbody tr th {\n",
       "        vertical-align: top;\n",
       "    }\n",
       "\n",
       "    .dataframe thead th {\n",
       "        text-align: right;\n",
       "    }\n",
       "</style>\n",
       "<table border=\"1\" class=\"dataframe\">\n",
       "  <thead>\n",
       "    <tr style=\"text-align: right;\">\n",
       "      <th></th>\n",
       "      <th>x</th>\n",
       "      <th>y</th>\n",
       "    </tr>\n",
       "  </thead>\n",
       "  <tbody>\n",
       "    <tr>\n",
       "      <th>0</th>\n",
       "      <td>1.0</td>\n",
       "      <td>2.2</td>\n",
       "    </tr>\n",
       "    <tr>\n",
       "      <th>1</th>\n",
       "      <td>2.0</td>\n",
       "      <td>3.5</td>\n",
       "    </tr>\n",
       "    <tr>\n",
       "      <th>2</th>\n",
       "      <td>3.0</td>\n",
       "      <td>3.9</td>\n",
       "    </tr>\n",
       "    <tr>\n",
       "      <th>3</th>\n",
       "      <td>5.0</td>\n",
       "      <td>2.9</td>\n",
       "    </tr>\n",
       "    <tr>\n",
       "      <th>4</th>\n",
       "      <td>7.0</td>\n",
       "      <td>5.0</td>\n",
       "    </tr>\n",
       "    <tr>\n",
       "      <th>5</th>\n",
       "      <td>8.0</td>\n",
       "      <td>6.2</td>\n",
       "    </tr>\n",
       "    <tr>\n",
       "      <th>6</th>\n",
       "      <td>2.5</td>\n",
       "      <td>3.0</td>\n",
       "    </tr>\n",
       "    <tr>\n",
       "      <th>7</th>\n",
       "      <td>8.0</td>\n",
       "      <td>4.8</td>\n",
       "    </tr>\n",
       "  </tbody>\n",
       "</table>\n",
       "</div>"
      ],
      "text/plain": [
       "     x    y\n",
       "0  1.0  2.2\n",
       "1  2.0  3.5\n",
       "2  3.0  3.9\n",
       "3  5.0  2.9\n",
       "4  7.0  5.0\n",
       "5  8.0  6.2\n",
       "6  2.5  3.0\n",
       "7  8.0  4.8"
      ]
     },
     "execution_count": 25,
     "metadata": {},
     "output_type": "execute_result"
    }
   ],
   "source": [
    "df_polynomial = pd.DataFrame({\n",
    "    'x': [1,2,3,5,7,8,2.5,8],\n",
    "    'y': [2.2,3.5,3.9,2.9,5,6.2,3,4.8]\n",
    "})\n",
    "y = np.array(df_polynomial.y)\n",
    "df_polynomial"
   ]
  },
  {
   "cell_type": "code",
   "execution_count": 23,
   "id": "da56b245",
   "metadata": {},
   "outputs": [
    {
     "data": {
      "text/plain": [
       "array([[  1.   ,   1.   ,   1.   ,   1.   ],\n",
       "       [  1.   ,   2.   ,   4.   ,   8.   ],\n",
       "       [  1.   ,   3.   ,   9.   ,  27.   ],\n",
       "       [  1.   ,   5.   ,  25.   , 125.   ],\n",
       "       [  1.   ,   7.   ,  49.   , 343.   ],\n",
       "       [  1.   ,   8.   ,  64.   , 512.   ],\n",
       "       [  1.   ,   2.5  ,   6.25 ,  15.625],\n",
       "       [  1.   ,   8.   ,  64.   , 512.   ]])"
      ]
     },
     "execution_count": 23,
     "metadata": {},
     "output_type": "execute_result"
    }
   ],
   "source": [
    "def square(element):\n",
    "    return element**2\n",
    "\n",
    "def cube(element):\n",
    "    return element**3\n",
    "\n",
    "def original(element):\n",
    "    return element\n",
    "\n",
    "def ones(element):\n",
    "    return element/element\n",
    "\n",
    "def fours(element):\n",
    "    return element**4\n",
    "\n",
    "square_lst = [ones, original, square, cube]\n",
    "\n",
    "new_lst = []\n",
    "for x in df_polynomial.x:\n",
    "    for y in square_lst:\n",
    "        #print(y(x))\n",
    "        new_lst.append(y(x))\n",
    "new_lst\n",
    "\n",
    "new_lst2 = np.array(new_lst)\n",
    "new_lst2 = new_lst2.reshape(len(df_polynomial.x),4)\n",
    "new_lst2"
   ]
  },
  {
   "cell_type": "code",
   "execution_count": 29,
   "id": "9317d512",
   "metadata": {},
   "outputs": [],
   "source": [
    "def get_ws(matrix, y):\n",
    "    matrix_T = matrix.transpose()\n",
    "    matrix_T_inv = np.linalg.inv(matrix_T@matrix)\n",
    "    ws = matrix_T_inv@matrix_T@y\n",
    "    return ws\n",
    "\n",
    "ws_cubed = get_ws(new_lst2, y)"
   ]
  },
  {
   "cell_type": "code",
   "execution_count": 31,
   "id": "467885af",
   "metadata": {},
   "outputs": [
    {
     "data": {
      "image/png": "[encoded data removed]",
      "text/plain": [
       "<Figure size 432x288 with 1 Axes>"
      ]
     },
     "metadata": {
      "needs_background": "light"
     },
     "output_type": "display_data"
    }
   ],
   "source": [
    "x = np.arange(1,9,0.1)\n",
    "y = [ws_cubed[0] + ws_cubed[1]*x + ws_cubed[2]*x**2 + ws_cubed[3]*x**3 for x in x]\n",
    "plt.scatter(df_polynomial['x'], df_polynomial['y'])\n",
    "plt.plot(x,y)\n",
    "plt.show()"
   ]
  }
 ],
 "metadata": {
  "kernelspec": {
   "display_name": "Python 3",
   "language": "python",
   "name": "python3"
  },
  "language_info": {
   "codemirror_mode": {
    "name": "ipython",
    "version": 3
   },
   "file_extension": ".py",
   "mimetype": "text/x-python",
   "name": "python",
   "nbconvert_exporter": "python",
   "pygments_lexer": "ipython3",
   "version": "3.8.8"
  }
 },
 "nbformat": 4,
 "nbformat_minor": 5
}
