{
 "cells": [
  {
   "cell_type": "code",
   "execution_count": 11,
   "id": "989017b0",
   "metadata": {},
   "outputs": [],
   "source": [
    "import numpy as np\n",
    "from sklearn.metrics import mean_squared_error"
   ]
  },
  {
   "cell_type": "code",
   "execution_count": 12,
   "id": "72f361b1",
   "metadata": {},
   "outputs": [
    {
     "data": {
      "text/plain": [
       "5.0"
      ]
     },
     "execution_count": 12,
     "metadata": {},
     "output_type": "execute_result"
    }
   ],
   "source": [
    "x = np.array([1,2,3,4])\n",
    "y_true = np.array([2,5,8,9])\n",
    "y_pred = np.array([3,4,5,6])\n",
    "mean_squared_error(y_true,y_pred)"
   ]
  },
  {
   "cell_type": "code",
   "execution_count": 13,
   "id": "dbe73ec3",
   "metadata": {},
   "outputs": [
    {
     "data": {
      "text/plain": [
       "array([[1., 1.],\n",
       "       [1., 2.],\n",
       "       [1., 3.],\n",
       "       [1., 4.]])"
      ]
     },
     "execution_count": 13,
     "metadata": {},
     "output_type": "execute_result"
    }
   ],
   "source": [
    "X = np.column_stack([np.ones(x.shape), x])\n",
    "X"
   ]
  },
  {
   "cell_type": "code",
   "execution_count": 22,
   "id": "7d8d567b",
   "metadata": {},
   "outputs": [
    {
     "data": {
      "text/plain": [
       "array([-0. ,  2.4])"
      ]
     },
     "execution_count": 22,
     "metadata": {},
     "output_type": "execute_result"
    }
   ],
   "source": [
    "w3 = np.dot(np.dot(np.linalg.inv(np.dot(X.T, X)), X.T), y_true)\n",
    "np.round(w3,2)"
   ]
  },
  {
   "cell_type": "code",
   "execution_count": 17,
   "id": "70b682f3",
   "metadata": {
    "scrolled": true
   },
   "outputs": [
    {
     "data": {
      "text/plain": [
       "array([2.40000000e+00, 1.77635684e-15])"
      ]
     },
     "execution_count": 17,
     "metadata": {},
     "output_type": "execute_result"
    }
   ],
   "source": [
    "np.polyfit(x,y_true,1)"
   ]
  },
  {
   "cell_type": "code",
   "execution_count": 23,
   "id": "5a80a7da",
   "metadata": {},
   "outputs": [
    {
     "data": {
      "text/plain": [
       "array([2.4, 0. ])"
      ]
     },
     "execution_count": 23,
     "metadata": {},
     "output_type": "execute_result"
    }
   ],
   "source": [
    "y = np.array([2,5,8,9])\n",
    "w = np.polyfit(x,y,1)\n",
    "np.round(w,2)"
   ]
  },
  {
   "cell_type": "code",
   "execution_count": 20,
   "id": "59168969",
   "metadata": {},
   "outputs": [
    {
     "name": "stdout",
     "output_type": "stream",
     "text": [
      "The mathematical expression of the fitted linear model is :   \n",
      "2.4 x + 1.776e-15\n",
      "The coefficients of the model are :  [2.40000000e+00 1.77635684e-15]\n"
     ]
    }
   ],
   "source": [
    "p = np.poly1d(w)\n",
    "print(\"The mathematical expression of the fitted linear model is : \", p)\n",
    "print(\"The coefficients of the model are : \", p.c)"
   ]
  },
  {
   "cell_type": "code",
   "execution_count": 31,
   "id": "61b848d0",
   "metadata": {},
   "outputs": [
    {
     "data": {
      "text/plain": [
       "array([ 0.        , -2.16666667])"
      ]
     },
     "execution_count": 31,
     "metadata": {},
     "output_type": "execute_result"
    }
   ],
   "source": [
    "xs = np.array([[0,3],\n",
    "              [-2,1],\n",
    "              [2,1],\n",
    "              [-4,-1],\n",
    "              [0,-1],\n",
    "              [4,-1],\n",
    "              [-2,-3],\n",
    "              [2,-3],\n",
    "              [-2,-5],\n",
    "               [0,-5],\n",
    "              [2,-5],\n",
    "              [0,-7]])\n",
    "np.mean(xs,axis=0)"
   ]
  },
  {
   "cell_type": "code",
   "execution_count": 35,
   "id": "3593600a",
   "metadata": {},
   "outputs": [
    {
     "data": {
      "text/plain": [
       "0.0"
      ]
     },
     "execution_count": 35,
     "metadata": {},
     "output_type": "execute_result"
    }
   ],
   "source": [
    "(0+-2+2+-4+0+4+-2+2+-2+0+2+0)/12"
   ]
  },
  {
   "cell_type": "code",
   "execution_count": 34,
   "id": "849f96f5",
   "metadata": {},
   "outputs": [
    {
     "data": {
      "text/plain": [
       "-2.1666666666666665"
      ]
     },
     "execution_count": 34,
     "metadata": {},
     "output_type": "execute_result"
    }
   ],
   "source": [
    "(3+1+1+-1+-1+-1+-3+-3+-5+-5+-5+-7)/12"
   ]
  },
  {
   "cell_type": "code",
   "execution_count": 48,
   "id": "4d4af8a7",
   "metadata": {},
   "outputs": [
    {
     "data": {
      "text/plain": [
       "2.8284271247461903"
      ]
     },
     "execution_count": 48,
     "metadata": {},
     "output_type": "execute_result"
    }
   ],
   "source": [
    "from scipy import spatial\n",
    "centroid1 = np.array([2,7])\n",
    "centroid2 = np.array([2,4])\n",
    "centroid4 = np.array([4,1])\n",
    "spatial.distance.euclidean(centroid1, np.array([0,5]))"
   ]
  },
  {
   "cell_type": "code",
   "execution_count": 45,
   "id": "7d615d76",
   "metadata": {},
   "outputs": [
    {
     "data": {
      "text/plain": [
       "8.30056307974577"
      ]
     },
     "execution_count": 45,
     "metadata": {},
     "output_type": "execute_result"
    }
   ],
   "source": [
    "dist1 = spatial.distance.euclidean(centroid1, np.array([0,6])) + spatial.distance.euclidean(centroid1, np.array([1,6])) +spatial.distance.euclidean(centroid1, np.array([2,6]))+spatial.distance.euclidean(centroid1, np.array([3,6]))+spatial.distance.euclidean(centroid1, np.array([4,6]))\n",
    "\n",
    "dist1\n",
    "\n",
    "\n"
   ]
  },
  {
   "cell_type": "code",
   "execution_count": 51,
   "id": "a35d7cd3",
   "metadata": {},
   "outputs": [
    {
     "data": {
      "text/plain": [
       "6.0"
      ]
     },
     "execution_count": 51,
     "metadata": {},
     "output_type": "execute_result"
    }
   ],
   "source": [
    "dist4 = spatial.distance.euclidean(centroid4, np.array([2,1])) + spatial.distance.euclidean(centroid4, np.array([3,1])) +spatial.distance.euclidean(centroid4, np.array([4,1]))+spatial.distance.euclidean(centroid4, np.array([5,1]))+spatial.distance.euclidean(centroid4, np.array([6,1]))\n",
    "\n",
    "dist4"
   ]
  },
  {
   "cell_type": "code",
   "execution_count": 60,
   "id": "a42bfd5b",
   "metadata": {},
   "outputs": [
    {
     "data": {
      "text/plain": [
       "17.26267650163207"
      ]
     },
     "execution_count": 60,
     "metadata": {},
     "output_type": "execute_result"
    }
   ],
   "source": [
    "from scipy.spatial import distance\n",
    "\n",
    "c1 = np.array([3,20])\n",
    "c2 = np.array([3,-13])\n",
    "\n",
    "distance.euclidean(c2, np.array([0,4]))\n",
    "#distance.euclidean(c2, np.array([2,3]))"
   ]
  },
  {
   "cell_type": "code",
   "execution_count": 62,
   "id": "3fbc956c",
   "metadata": {},
   "outputs": [
    {
     "data": {
      "text/plain": [
       "array([3.63636364, 1.90909091])"
      ]
     },
     "execution_count": 62,
     "metadata": {},
     "output_type": "execute_result"
    }
   ],
   "source": [
    "xs2 = np.array([[2,1],\n",
    "               [3,1],\n",
    "               [4,1],\n",
    "               [5,1],\n",
    "               [6,1],\n",
    "               [2,2],\n",
    "               [6,2],\n",
    "               [0,3],\n",
    "               [2,3],\n",
    "               [4,3],\n",
    "               [6,3]])\n",
    "\n",
    "np.mean(xs2,axis=0)"
   ]
  },
  {
   "cell_type": "code",
   "execution_count": 64,
   "id": "060ba2ab",
   "metadata": {},
   "outputs": [
    {
     "data": {
      "text/plain": [
       "array([2.36363636, 5.09090909])"
      ]
     },
     "execution_count": 64,
     "metadata": {},
     "output_type": "execute_result"
    }
   ],
   "source": [
    "xs3 = np.array([[0,4],\n",
    "               [2,4],\n",
    "               [4,4],\n",
    "               [6,4],\n",
    "               [0,5],\n",
    "               [4,5],\n",
    "               [0,6],\n",
    "               [1,6],\n",
    "               [2,6],\n",
    "               [3,6],\n",
    "               [4,6]])\n",
    "\n",
    "np.mean(xs3, axis=0)"
   ]
  },
  {
   "cell_type": "code",
   "execution_count": 65,
   "id": "bbaface7",
   "metadata": {},
   "outputs": [
    {
     "data": {
      "text/plain": [
       "array([3. , 3.5])"
      ]
     },
     "execution_count": 65,
     "metadata": {},
     "output_type": "execute_result"
    }
   ],
   "source": [
    "xs4 = np.array([[2,1],\n",
    "               [3,1],\n",
    "               [4,1],\n",
    "               [5,1],\n",
    "               [6,1],\n",
    "               [2,2],\n",
    "               [6,2],\n",
    "               [0,3],\n",
    "               [2,3],\n",
    "               [4,3],\n",
    "               [6,3],\n",
    "               [0,4],\n",
    "               [2,4],\n",
    "               [4,4],\n",
    "               [6,4],\n",
    "               [0,5],\n",
    "               [4,5],\n",
    "               [0,6],\n",
    "               [1,6],\n",
    "               [2,6],\n",
    "               [3,6],\n",
    "               [4,6]])\n",
    "np.mean(xs4,axis=0)"
   ]
  }
 ],
 "metadata": {
  "kernelspec": {
   "display_name": "Python 3",
   "language": "python",
   "name": "python3"
  },
  "language_info": {
   "codemirror_mode": {
    "name": "ipython",
    "version": 3
   },
   "file_extension": ".py",
   "mimetype": "text/x-python",
   "name": "python",
   "nbconvert_exporter": "python",
   "pygments_lexer": "ipython3",
   "version": "3.8.8"
  }
 },
 "nbformat": 4,
 "nbformat_minor": 5
}
