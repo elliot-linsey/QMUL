{
 "cells": [
  {
   "cell_type": "code",
   "execution_count": 130,
   "id": "dd039539",
   "metadata": {},
   "outputs": [],
   "source": [
    "import numpy as np\n",
    "import pandas as pd\n",
    "from matplotlib import pyplot as plt"
   ]
  },
  {
   "cell_type": "code",
   "execution_count": 131,
   "id": "450ae978",
   "metadata": {},
   "outputs": [
    {
     "data": {
      "text/html": [
       "<div>\n",
       "<style scoped>\n",
       "    .dataframe tbody tr th:only-of-type {\n",
       "        vertical-align: middle;\n",
       "    }\n",
       "\n",
       "    .dataframe tbody tr th {\n",
       "        vertical-align: top;\n",
       "    }\n",
       "\n",
       "    .dataframe thead th {\n",
       "        text-align: right;\n",
       "    }\n",
       "</style>\n",
       "<table border=\"1\" class=\"dataframe\">\n",
       "  <thead>\n",
       "    <tr style=\"text-align: right;\">\n",
       "      <th></th>\n",
       "      <th>x</th>\n",
       "      <th>y</th>\n",
       "    </tr>\n",
       "  </thead>\n",
       "  <tbody>\n",
       "    <tr>\n",
       "      <th>0</th>\n",
       "      <td>1.0</td>\n",
       "      <td>2.2</td>\n",
       "    </tr>\n",
       "    <tr>\n",
       "      <th>1</th>\n",
       "      <td>2.0</td>\n",
       "      <td>3.5</td>\n",
       "    </tr>\n",
       "    <tr>\n",
       "      <th>2</th>\n",
       "      <td>3.0</td>\n",
       "      <td>3.9</td>\n",
       "    </tr>\n",
       "    <tr>\n",
       "      <th>3</th>\n",
       "      <td>5.0</td>\n",
       "      <td>2.9</td>\n",
       "    </tr>\n",
       "    <tr>\n",
       "      <th>4</th>\n",
       "      <td>7.0</td>\n",
       "      <td>5.0</td>\n",
       "    </tr>\n",
       "    <tr>\n",
       "      <th>5</th>\n",
       "      <td>8.0</td>\n",
       "      <td>6.2</td>\n",
       "    </tr>\n",
       "    <tr>\n",
       "      <th>6</th>\n",
       "      <td>2.5</td>\n",
       "      <td>3.0</td>\n",
       "    </tr>\n",
       "    <tr>\n",
       "      <th>7</th>\n",
       "      <td>8.0</td>\n",
       "      <td>4.8</td>\n",
       "    </tr>\n",
       "  </tbody>\n",
       "</table>\n",
       "</div>"
      ],
      "text/plain": [
       "     x    y\n",
       "0  1.0  2.2\n",
       "1  2.0  3.5\n",
       "2  3.0  3.9\n",
       "3  5.0  2.9\n",
       "4  7.0  5.0\n",
       "5  8.0  6.2\n",
       "6  2.5  3.0\n",
       "7  8.0  4.8"
      ]
     },
     "execution_count": 131,
     "metadata": {},
     "output_type": "execute_result"
    }
   ],
   "source": [
    "df_polynomial = pd.DataFrame({\n",
    "    'x': [1,2,3,5,7,8,2.5,8],\n",
    "    'y': [2.2,3.5,3.9,2.9,5,6.2,3,4.8]\n",
    "})\n",
    "ys = np.array(df_polynomial.y)\n",
    "df_polynomial"
   ]
  },
  {
   "cell_type": "code",
   "execution_count": 132,
   "id": "aafaea31",
   "metadata": {},
   "outputs": [
    {
     "data": {
      "text/plain": [
       "array([[1.00000000e+00, 1.00000000e+00, 1.00000000e+00, 1.00000000e+00,\n",
       "        1.00000000e+00, 1.00000000e+00, 1.00000000e+00, 1.00000000e+00,\n",
       "        1.00000000e+00],\n",
       "       [1.00000000e+00, 2.00000000e+00, 4.00000000e+00, 8.00000000e+00,\n",
       "        1.60000000e+01, 3.20000000e+01, 6.40000000e+01, 1.28000000e+02,\n",
       "        2.56000000e+02],\n",
       "       [1.00000000e+00, 3.00000000e+00, 9.00000000e+00, 2.70000000e+01,\n",
       "        8.10000000e+01, 2.43000000e+02, 7.29000000e+02, 2.18700000e+03,\n",
       "        6.56100000e+03],\n",
       "       [1.00000000e+00, 5.00000000e+00, 2.50000000e+01, 1.25000000e+02,\n",
       "        6.25000000e+02, 3.12500000e+03, 1.56250000e+04, 7.81250000e+04,\n",
       "        3.90625000e+05],\n",
       "       [1.00000000e+00, 7.00000000e+00, 4.90000000e+01, 3.43000000e+02,\n",
       "        2.40100000e+03, 1.68070000e+04, 1.17649000e+05, 8.23543000e+05,\n",
       "        5.76480100e+06],\n",
       "       [1.00000000e+00, 8.00000000e+00, 6.40000000e+01, 5.12000000e+02,\n",
       "        4.09600000e+03, 3.27680000e+04, 2.62144000e+05, 2.09715200e+06,\n",
       "        1.67772160e+07],\n",
       "       [1.00000000e+00, 2.50000000e+00, 6.25000000e+00, 1.56250000e+01,\n",
       "        3.90625000e+01, 9.76562500e+01, 2.44140625e+02, 6.10351562e+02,\n",
       "        1.52587891e+03],\n",
       "       [1.00000000e+00, 8.00000000e+00, 6.40000000e+01, 5.12000000e+02,\n",
       "        4.09600000e+03, 3.27680000e+04, 2.62144000e+05, 2.09715200e+06,\n",
       "        1.67772160e+07]])"
      ]
     },
     "execution_count": 132,
     "metadata": {},
     "output_type": "execute_result"
    }
   ],
   "source": [
    "def square(element):\n",
    "    return element**2\n",
    "\n",
    "def cube(element):\n",
    "    return element**3\n",
    "\n",
    "def original(element):\n",
    "    return element\n",
    "\n",
    "def ones(element):\n",
    "    return element/element\n",
    "\n",
    "def fours(element):\n",
    "    return element**4\n",
    "\n",
    "def fives(element):\n",
    "    return element**5\n",
    "\n",
    "def six(element):\n",
    "    return element**6\n",
    "\n",
    "def seven(element):\n",
    "    return element**7\n",
    "\n",
    "def eight(element):\n",
    "    return element**8\n",
    "\n",
    "square_lst = [ones, original, square, cube, fours, fives, six, seven, eight]\n",
    "\n",
    "new_lst = []\n",
    "for x in df_polynomial.x:\n",
    "    for y in square_lst:\n",
    "        #print(y(x))\n",
    "        new_lst.append(y(x))\n",
    "new_lst\n",
    "\n",
    "new_lst2 = np.array(new_lst)\n",
    "new_lst2 = new_lst2.reshape(len(df_polynomial.x),9)\n",
    "new_lst2"
   ]
  },
  {
   "cell_type": "code",
   "execution_count": 133,
   "id": "356ca504",
   "metadata": {},
   "outputs": [
    {
     "data": {
      "text/plain": [
       "array([-4.94999075e+01,  1.08370976e+02, -8.75767768e+01,  3.17250289e+01,\n",
       "       -5.28413456e+00,  3.07182708e-01,  7.72361100e-03, -3.43472722e-04,\n",
       "       -7.11261878e-05])"
      ]
     },
     "execution_count": 133,
     "metadata": {},
     "output_type": "execute_result"
    }
   ],
   "source": [
    "def get_ws(matrix, y):\n",
    "    matrix_T = matrix.transpose()\n",
    "    matrix_T_inv = np.linalg.inv(matrix_T@matrix)\n",
    "    #ws = matrix_T_inv@matrix_T@y\n",
    "    return matrix_T_inv@matrix_T@y\n",
    "\n",
    "ws_eight = get_ws(new_lst2, ys)\n",
    "ws_eight"
   ]
  },
  {
   "cell_type": "code",
   "execution_count": 134,
   "id": "4defd8f4",
   "metadata": {},
   "outputs": [
    {
     "data": {
      "image/png": "[encoded data removed]",
      "text/plain": [
       "<Figure size 432x288 with 1 Axes>"
      ]
     },
     "metadata": {
      "needs_background": "light"
     },
     "output_type": "display_data"
    }
   ],
   "source": [
    "fig, ax = plt.subplots(1,1)\n",
    "x = np.arange(1,9,0.1)\n",
    "y = [ws_eight[0] + ws_eight[1]*x + ws_eight[2]*x**2 + ws_eight[3]*x**3 + ws_eight[4]*x**4\n",
    "      + ws_eight[5]*x**5 + ws_eight[6]*x**6 + ws_eight[7]*x**7 + ws_eight[8]*x**8 for x in x]\n",
    "     \n",
    "plt.scatter(df_polynomial['x'], df_polynomial['y'])\n",
    "plt.plot(x,y)\n",
    "ax.set_ylim(-20,10)\n",
    "plt.show()"
   ]
  },
  {
   "cell_type": "code",
   "execution_count": 135,
   "id": "8c4e44d5",
   "metadata": {},
   "outputs": [],
   "source": [
    "animals = pd.read_csv('AnimalsHRvsBM.csv')"
   ]
  },
  {
   "cell_type": "code",
   "execution_count": 136,
   "id": "07909cec",
   "metadata": {},
   "outputs": [
    {
     "data": {
      "text/html": [
       "<div>\n",
       "<style scoped>\n",
       "    .dataframe tbody tr th:only-of-type {\n",
       "        vertical-align: middle;\n",
       "    }\n",
       "\n",
       "    .dataframe tbody tr th {\n",
       "        vertical-align: top;\n",
       "    }\n",
       "\n",
       "    .dataframe thead th {\n",
       "        text-align: right;\n",
       "    }\n",
       "</style>\n",
       "<table border=\"1\" class=\"dataframe\">\n",
       "  <thead>\n",
       "    <tr style=\"text-align: right;\">\n",
       "      <th></th>\n",
       "      <th>Animal</th>\n",
       "      <th>BM (g)</th>\n",
       "      <th>HR (bpm)</th>\n",
       "    </tr>\n",
       "  </thead>\n",
       "  <tbody>\n",
       "    <tr>\n",
       "      <th>0</th>\n",
       "      <td>Wild mouse</td>\n",
       "      <td>22</td>\n",
       "      <td>480</td>\n",
       "    </tr>\n",
       "    <tr>\n",
       "      <th>1</th>\n",
       "      <td>White rat</td>\n",
       "      <td>237</td>\n",
       "      <td>347</td>\n",
       "    </tr>\n",
       "    <tr>\n",
       "      <th>2</th>\n",
       "      <td>White mouse</td>\n",
       "      <td>29</td>\n",
       "      <td>376</td>\n",
       "    </tr>\n",
       "    <tr>\n",
       "      <th>3</th>\n",
       "      <td>Talapoin</td>\n",
       "      <td>100</td>\n",
       "      <td>233</td>\n",
       "    </tr>\n",
       "    <tr>\n",
       "      <th>4</th>\n",
       "      <td>Syrian bear</td>\n",
       "      <td>250000</td>\n",
       "      <td>70</td>\n",
       "    </tr>\n",
       "  </tbody>\n",
       "</table>\n",
       "</div>"
      ],
      "text/plain": [
       "        Animal  BM (g)  HR (bpm)\n",
       "0   Wild mouse      22       480\n",
       "1    White rat     237       347\n",
       "2  White mouse      29       376\n",
       "3     Talapoin     100       233\n",
       "4  Syrian bear  250000        70"
      ]
     },
     "execution_count": 136,
     "metadata": {},
     "output_type": "execute_result"
    }
   ],
   "source": [
    "animals.head()"
   ]
  },
  {
   "cell_type": "code",
   "execution_count": 137,
   "id": "013cf04c",
   "metadata": {},
   "outputs": [
    {
     "data": {
      "image/png": "[encoded data removed]",
      "text/plain": [
       "<Figure size 432x288 with 1 Axes>"
      ]
     },
     "metadata": {
      "needs_background": "light"
     },
     "output_type": "display_data"
    }
   ],
   "source": [
    "fig, ax = plt.subplots(1,1)\n",
    "plt.scatter(animals['BM (g)'], animals['HR (bpm)'])\n",
    "ax.set_xscale('log')\n",
    "#ax.set_yscale('log')"
   ]
  },
  {
   "cell_type": "code",
   "execution_count": 138,
   "id": "75dd1122",
   "metadata": {},
   "outputs": [
    {
     "data": {
      "text/html": [
       "<div>\n",
       "<style scoped>\n",
       "    .dataframe tbody tr th:only-of-type {\n",
       "        vertical-align: middle;\n",
       "    }\n",
       "\n",
       "    .dataframe tbody tr th {\n",
       "        vertical-align: top;\n",
       "    }\n",
       "\n",
       "    .dataframe thead th {\n",
       "        text-align: right;\n",
       "    }\n",
       "</style>\n",
       "<table border=\"1\" class=\"dataframe\">\n",
       "  <thead>\n",
       "    <tr style=\"text-align: right;\">\n",
       "      <th></th>\n",
       "      <th>Animal</th>\n",
       "      <th>BM (g)</th>\n",
       "      <th>HR (bpm)</th>\n",
       "      <th>log10</th>\n",
       "    </tr>\n",
       "  </thead>\n",
       "  <tbody>\n",
       "    <tr>\n",
       "      <th>0</th>\n",
       "      <td>Wild mouse</td>\n",
       "      <td>22</td>\n",
       "      <td>480</td>\n",
       "      <td>1.342423</td>\n",
       "    </tr>\n",
       "    <tr>\n",
       "      <th>1</th>\n",
       "      <td>White rat</td>\n",
       "      <td>237</td>\n",
       "      <td>347</td>\n",
       "      <td>2.374748</td>\n",
       "    </tr>\n",
       "    <tr>\n",
       "      <th>2</th>\n",
       "      <td>White mouse</td>\n",
       "      <td>29</td>\n",
       "      <td>376</td>\n",
       "      <td>1.462398</td>\n",
       "    </tr>\n",
       "    <tr>\n",
       "      <th>3</th>\n",
       "      <td>Talapoin</td>\n",
       "      <td>100</td>\n",
       "      <td>233</td>\n",
       "      <td>2.000000</td>\n",
       "    </tr>\n",
       "    <tr>\n",
       "      <th>4</th>\n",
       "      <td>Syrian bear</td>\n",
       "      <td>250000</td>\n",
       "      <td>70</td>\n",
       "      <td>5.397940</td>\n",
       "    </tr>\n",
       "  </tbody>\n",
       "</table>\n",
       "</div>"
      ],
      "text/plain": [
       "        Animal  BM (g)  HR (bpm)     log10\n",
       "0   Wild mouse      22       480  1.342423\n",
       "1    White rat     237       347  2.374748\n",
       "2  White mouse      29       376  1.462398\n",
       "3     Talapoin     100       233  2.000000\n",
       "4  Syrian bear  250000        70  5.397940"
      ]
     },
     "execution_count": 138,
     "metadata": {},
     "output_type": "execute_result"
    }
   ],
   "source": [
    "animals['log10'] = np.log10(animals['BM (g)'])\n",
    "ys2 = np.array(animals['HR (bpm)'])\n",
    "animals.head()"
   ]
  },
  {
   "cell_type": "code",
   "execution_count": 139,
   "id": "54f3592a",
   "metadata": {},
   "outputs": [
    {
     "data": {
      "text/plain": [
       "array([[      22],\n",
       "       [     237],\n",
       "       [      29],\n",
       "       [     100],\n",
       "       [  250000],\n",
       "       [     189],\n",
       "       [    5000],\n",
       "       [  220000],\n",
       "       [   51000],\n",
       "       [   20700],\n",
       "       [     260],\n",
       "       [    2500],\n",
       "       [  375000],\n",
       "       [      22],\n",
       "       [  100000],\n",
       "       [      27],\n",
       "       [    6600],\n",
       "       [30000000],\n",
       "       [   66000],\n",
       "       [  494000],\n",
       "       [      90],\n",
       "       [     593],\n",
       "       [   91600],\n",
       "       [ 3437000],\n",
       "       [   25000],\n",
       "       [    5000],\n",
       "       [   50600],\n",
       "       [    4000],\n",
       "       [  545000]], dtype=int64)"
      ]
     },
     "execution_count": 139,
     "metadata": {},
     "output_type": "execute_result"
    }
   ],
   "source": [
    "quadratic = animals['log10']**2\n",
    "quadratic = np.array(quadratic)\n",
    "quadratic\n",
    "normal = np.array(animals['BM (g)'])\n",
    "normal = normal.reshape(-1,1)\n",
    "n = normal[0]\n",
    "n = np.insert(n, 0, 1)\n",
    "n\n",
    "normal"
   ]
  },
  {
   "cell_type": "code",
   "execution_count": 140,
   "id": "a3468416",
   "metadata": {},
   "outputs": [],
   "source": [
    "def square(element):\n",
    "    return element**2\n",
    "\n",
    "def cube(element):\n",
    "    return element**3\n",
    "\n",
    "def original(element):\n",
    "    return element\n",
    "\n",
    "def ones(element):\n",
    "    return element/element\n",
    "\n",
    "def fours(element):\n",
    "    return element**4\n",
    "\n",
    "square_lst = [ones, original, square, cube]\n"
   ]
  },
  {
   "cell_type": "code",
   "execution_count": 141,
   "id": "2033c5bb",
   "metadata": {},
   "outputs": [
    {
     "data": {
      "text/plain": [
       "29"
      ]
     },
     "execution_count": 141,
     "metadata": {},
     "output_type": "execute_result"
    }
   ],
   "source": [
    "len(list(animals['BM (g)']))"
   ]
  },
  {
   "cell_type": "code",
   "execution_count": 142,
   "id": "b6776feb",
   "metadata": {},
   "outputs": [
    {
     "data": {
      "text/plain": [
       "array([[  1.        ,   1.34242268,   1.80209865,   2.41917811],\n",
       "       [  1.        ,   2.37474835,   5.63942971,  13.39222637],\n",
       "       [  1.        ,   1.462398  ,   2.1386079 ,   3.12749592],\n",
       "       [  1.        ,   2.        ,   4.        ,   8.        ],\n",
       "       [  1.        ,   5.39794001,  29.13775634, 157.2838607 ],\n",
       "       [  1.        ,   2.2764618 ,   5.18227835,  11.79725871],\n",
       "       [  1.        ,   3.69897   ,  13.68237909,  50.61070985],\n",
       "       [  1.        ,   5.34242268,  28.5414801 , 152.48065063],\n",
       "       [  1.        ,   4.70757018,  22.16121696, 104.32548404],\n",
       "       [  1.        ,   4.31597035,  18.62760002,  80.39616931],\n",
       "       [  1.        ,   2.41497335,   5.83209627,  14.08435706],\n",
       "       [  1.        ,   3.39794001,  11.5459963 ,  39.23260278],\n",
       "       [  1.        ,   5.57403127,  31.06982457, 173.18417366],\n",
       "       [  1.        ,   1.34242268,   1.80209865,   2.41917811],\n",
       "       [  1.        ,   5.        ,  25.        , 125.        ],\n",
       "       [  1.        ,   1.43136376,   2.04880223,   2.93258127],\n",
       "       [  1.        ,   3.81954394,  14.58891588,  55.72300516],\n",
       "       [  1.        ,   7.47712125,  55.90734226, 418.02597709],\n",
       "       [  1.        ,   4.81954394,  23.22800375, 111.94838459],\n",
       "       [  1.        ,   5.69372695,  32.41852657, 184.58223837],\n",
       "       [  1.        ,   1.95424251,   3.81906379,   7.4633768 ],\n",
       "       [  1.        ,   2.77305469,   7.68983233,  21.32432564],\n",
       "       [  1.        ,   4.96189547,  24.62040669, 122.16388452],\n",
       "       [  1.        ,   6.53617953,  42.72164288, 279.23632775],\n",
       "       [  1.        ,   4.39794001,  19.34187632,  85.06441171],\n",
       "       [  1.        ,   3.69897   ,  13.68237909,  50.61070985],\n",
       "       [  1.        ,   4.70415052,  22.12903209, 104.09829772],\n",
       "       [  1.        ,   3.60205999,  12.97483618,  46.7361383 ],\n",
       "       [  1.        ,   5.7363965 ,  32.90624483, 188.76326775]])"
      ]
     },
     "execution_count": 142,
     "metadata": {},
     "output_type": "execute_result"
    }
   ],
   "source": [
    "new_lst = []\n",
    "for x in list(animals['log10']):\n",
    "    for y in square_lst:\n",
    "        #print(y(x))\n",
    "        new_lst.append(y(x))\n",
    "new_lst\n",
    "\n",
    "new_lst2 = np.array(new_lst)\n",
    "new_lst2 = new_lst2.reshape(len(list(animals['log10'])),4)\n",
    "new_lst2"
   ]
  },
  {
   "cell_type": "code",
   "execution_count": 143,
   "id": "4a7e69af",
   "metadata": {},
   "outputs": [
    {
     "data": {
      "text/plain": [
       "array([ 876.50784052, -350.20692229,   52.35545806,   -2.78842059])"
      ]
     },
     "execution_count": 143,
     "metadata": {},
     "output_type": "execute_result"
    }
   ],
   "source": [
    "log_ws = get_ws(new_lst2, ys2)\n",
    "log_ws"
   ]
  },
  {
   "cell_type": "code",
   "execution_count": 144,
   "id": "e28e9fcd",
   "metadata": {},
   "outputs": [
    {
     "data": {
      "image/png": "[encoded data removed]",
      "text/plain": [
       "<Figure size 432x288 with 1 Axes>"
      ]
     },
     "metadata": {
      "needs_background": "light"
     },
     "output_type": "display_data"
    }
   ],
   "source": [
    "fig, ax = plt.subplots(1,1)\n",
    "x = np.arange(1,8,0.1)\n",
    "y = [log_ws[0] + log_ws[1]*x + log_ws[2]*x**2 + log_ws[3]*x**3 for x in x]\n",
    "     \n",
    "plt.scatter(animals['log10'], animals['HR (bpm)'])\n",
    "#ax.set_xscale('log')\n",
    "plt.plot(x,y)\n",
    "#ax.set_ylim(-20,10)\n",
    "plt.show()"
   ]
  },
  {
   "cell_type": "code",
   "execution_count": 146,
   "id": "c6343c9a",
   "metadata": {},
   "outputs": [
    {
     "data": {
      "text/plain": [
       "[493.98613952818704,\n",
       " 302.76629688004823,\n",
       " 467.6129609587223,\n",
       " 363.2084635093626,\n",
       " 73.05890849140275,\n",
       " 317.69999593306534,\n",
       " 156.3262192875567,\n",
       " 74.67651532037627,\n",
       " 97.24151577320771,\n",
       " 116.10334750790634,\n",
       " 296.83641752195507,\n",
       " 181.62465598435676,\n",
       " 68.20808817355828,\n",
       " 493.98613952818704,\n",
       " 85.80710752242504,\n",
       " 474.32305101483587,\n",
       " 147.30731296664536,\n",
       " 19.390491726624532,\n",
       " 92.62378800466882,\n",
       " 65.11914452806377,\n",
       " 371.2563862580773,\n",
       " 248.5083966259682,\n",
       " 87.1860776534864,\n",
       " 45.57538066275299,\n",
       " 111.77624353027448,\n",
       " 156.3262192875567,\n",
       " 97.38754110939487,\n",
       " 164.0249785031013,\n",
       " 64.05221620801899]"
      ]
     },
     "execution_count": 146,
     "metadata": {},
     "output_type": "execute_result"
    }
   ],
   "source": [
    "def mse(actual, predicted):\n",
    "    mean_squared_error = ((actual - predicted)**2).sum()/len(actual)\n",
    "    return mean_squared_error\n",
    "\n",
    "y_hat = [log_ws[0] + log_ws[1]*x + log_ws[2]*x**2 + log_ws[3]*x**3 for x in animals.log10]\n",
    "#mse(animals['HR (bpm)'], y_hat)\n",
    "y_hat"
   ]
  }
 ],
 "metadata": {
  "kernelspec": {
   "display_name": "Python 3",
   "language": "python",
   "name": "python3"
  },
  "language_info": {
   "codemirror_mode": {
    "name": "ipython",
    "version": 3
   },
   "file_extension": ".py",
   "mimetype": "text/x-python",
   "name": "python",
   "nbconvert_exporter": "python",
   "pygments_lexer": "ipython3",
   "version": "3.8.8"
  }
 },
 "nbformat": 4,
 "nbformat_minor": 5
}
