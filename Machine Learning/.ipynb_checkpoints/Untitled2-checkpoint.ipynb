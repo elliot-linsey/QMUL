{
 "cells": [
  {
   "cell_type": "code",
   "execution_count": 1,
   "id": "0ed3f705",
   "metadata": {},
   "outputs": [],
   "source": [
    "import numpy as np\n",
    "import pandas as pd"
   ]
  },
  {
   "cell_type": "code",
   "execution_count": 2,
   "id": "b8134362",
   "metadata": {},
   "outputs": [],
   "source": [
    "x = np.array([2,4,1,3])\n",
    "y = np.array([1+0.1*4,5+0.1*8,2+0.1*4,2+0.1*4])"
   ]
  },
  {
   "cell_type": "code",
   "execution_count": 3,
   "id": "6352ddef",
   "metadata": {
    "scrolled": true
   },
   "outputs": [
    {
     "data": {
      "text/plain": [
       "array([1.4, 5.8, 2.4, 2.4])"
      ]
     },
     "execution_count": 3,
     "metadata": {},
     "output_type": "execute_result"
    }
   ],
   "source": [
    "y"
   ]
  },
  {
   "cell_type": "code",
   "execution_count": 5,
   "id": "24226184",
   "metadata": {},
   "outputs": [
    {
     "data": {
      "text/plain": [
       "array([1.12, 0.2 ])"
      ]
     },
     "execution_count": 5,
     "metadata": {},
     "output_type": "execute_result"
    }
   ],
   "source": [
    "w = np.polyfit(x,y,1)\n",
    "w"
   ]
  },
  {
   "cell_type": "code",
   "execution_count": 7,
   "id": "9fd6e3df",
   "metadata": {},
   "outputs": [
    {
     "data": {
      "text/plain": [
       "array([[1., 2.],\n",
       "       [1., 4.],\n",
       "       [1., 1.],\n",
       "       [1., 3.]])"
      ]
     },
     "execution_count": 7,
     "metadata": {},
     "output_type": "execute_result"
    }
   ],
   "source": [
    "X = np.column_stack([np.ones(x.shape), x])\n",
    "X"
   ]
  },
  {
   "cell_type": "code",
   "execution_count": 8,
   "id": "4b9879a0",
   "metadata": {},
   "outputs": [
    {
     "data": {
      "text/plain": [
       "array([0.2 , 1.12])"
      ]
     },
     "execution_count": 8,
     "metadata": {},
     "output_type": "execute_result"
    }
   ],
   "source": [
    "w3 = np.dot(np.dot(np.linalg.inv(np.dot(X.T, X)), X.T), y)\n",
    "w3"
   ]
  },
  {
   "cell_type": "code",
   "execution_count": 9,
   "id": "cb0860a8",
   "metadata": {},
   "outputs": [
    {
     "name": "stdout",
     "output_type": "stream",
     "text": [
      "The mathematical expression of the fitted linear model is :   \n",
      "1.12 x + 0.2\n",
      "The coefficients of the model are :  [1.12 0.2 ]\n"
     ]
    }
   ],
   "source": [
    "p = np.poly1d(w)\n",
    "print(\"The mathematical expression of the fitted linear model is : \", p)\n",
    "print(\"The coefficients of the model are : \", p.c)"
   ]
  },
  {
   "cell_type": "code",
   "execution_count": 12,
   "id": "114aacf2",
   "metadata": {},
   "outputs": [
    {
     "data": {
      "text/plain": [
       "1.2119999999999997"
      ]
     },
     "execution_count": 12,
     "metadata": {},
     "output_type": "execute_result"
    }
   ],
   "source": [
    "from sklearn.metrics import mean_squared_error\n",
    "mean_squared_error(y,p(x))"
   ]
  },
  {
   "cell_type": "code",
   "execution_count": 13,
   "id": "660aee10",
   "metadata": {},
   "outputs": [
    {
     "data": {
      "text/plain": [
       "-0.16"
      ]
     },
     "execution_count": 13,
     "metadata": {},
     "output_type": "execute_result"
    }
   ],
   "source": [
    "2*(6/15)/-3*(9/15)"
   ]
  },
  {
   "cell_type": "code",
   "execution_count": null,
   "id": "d429823e",
   "metadata": {},
   "outputs": [],
   "source": []
  },
  {
   "cell_type": "code",
   "execution_count": null,
   "id": "19beec08",
   "metadata": {},
   "outputs": [],
   "source": []
  },
  {
   "cell_type": "code",
   "execution_count": null,
   "id": "38ce5024",
   "metadata": {},
   "outputs": [],
   "source": []
  }
 ],
 "metadata": {
  "kernelspec": {
   "display_name": "Python 3",
   "language": "python",
   "name": "python3"
  },
  "language_info": {
   "codemirror_mode": {
    "name": "ipython",
    "version": 3
   },
   "file_extension": ".py",
   "mimetype": "text/x-python",
   "name": "python",
   "nbconvert_exporter": "python",
   "pygments_lexer": "ipython3",
   "version": "3.8.8"
  }
 },
 "nbformat": 4,
 "nbformat_minor": 5
}
