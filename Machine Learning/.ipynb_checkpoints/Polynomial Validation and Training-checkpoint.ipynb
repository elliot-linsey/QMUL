{
 "cells": [
  {
   "cell_type": "code",
   "execution_count": 1,
   "id": "e8a0507d",
   "metadata": {},
   "outputs": [],
   "source": [
    "import numpy as np\n",
    "import matplotlib.pyplot as plt"
   ]
  },
  {
   "cell_type": "markdown",
   "id": "695670e9",
   "metadata": {},
   "source": [
    "Here is my training data, it consists of 10 samples from a dataset"
   ]
  },
  {
   "cell_type": "code",
   "execution_count": 2,
   "id": "32c90b65",
   "metadata": {},
   "outputs": [],
   "source": [
    "xTrain = np.array([0.3000, -0.7700, 0.9000, -0.0400, 0.7400, -0.5800, -0.9200, -0.2100, -0.5400, 0.6800])\n",
    "yTrain = np.array([1.1492,  0.3582, 1.9013,  0.9487, 1.3096,  0.9646,  0.1079,  1.1262,  0.6131, 1.0951])"
   ]
  },
  {
   "cell_type": "markdown",
   "id": "11f91f11",
   "metadata": {},
   "source": [
    "Here is my validation data, it consists of 20 samples from the **same** dataset"
   ]
  },
  {
   "cell_type": "code",
   "execution_count": 3,
   "id": "f4d2e41f",
   "metadata": {},
   "outputs": [],
   "source": [
    "xVal = np.array([0.1100, 0.2300, 0.1800, 0.3500, 0.5200, -0.4400, -0.6900, -0.2400, 0.4300, -0.4100, 0.3300, 0.8800, -0.4300, 0.5600, 0.6600, -0.0100, -0.8300, 0.5700, 0.3400, 0.6700])\n",
    "yVal = np.array([1.0569, 1.0647, 0.9575, 1.2097, 0.8371, 0.8573, 0.6128, 1.1087, 0.9253, 0.9788, 1.0590, 1.6263, 0.7660, 1.0799, 1.3341, 0.6867, 0.3657, 1.1747, 1.0440, 1.1315])"
   ]
  },
  {
   "cell_type": "code",
   "execution_count": 5,
   "id": "66bd55a3",
   "metadata": {},
   "outputs": [],
   "source": [
    "x_LS = np.linspace(-1,1,100)"
   ]
  },
  {
   "cell_type": "markdown",
   "id": "aa953463",
   "metadata": {},
   "source": [
    "Using np.polyfit() we can automatically calculate the LSE (least squares error) coefficients of our dataset. It returns the coefficients as w1 ... wk + w0. In this case making the intercept the last element of the returned array. You can specify the degree of the polynomial, so using '1' will produce linear coefficients, '2' quadratic, '3' cubic and so on."
   ]
  },
  {
   "cell_type": "code",
   "execution_count": 8,
   "id": "2369e246",
   "metadata": {},
   "outputs": [
    {
     "data": {
      "text/plain": [
       "array([0.66211737, 0.98652316])"
      ]
     },
     "execution_count": 8,
     "metadata": {},
     "output_type": "execute_result"
    }
   ],
   "source": [
    "w = np.polyfit(xTrain, yTrain,1)\n",
    "w"
   ]
  },
  {
   "cell_type": "markdown",
   "id": "538a76b0",
   "metadata": {},
   "source": [
    "We use np.poly1d() to convert our w coefficients into a polynomial function. This makes it easier to apply 'natural operations' on functions. For example, np.poly1d([3,2,6]) = 3x**2 + 2x + 6"
   ]
  },
  {
   "cell_type": "code",
   "execution_count": 9,
   "id": "ad4edd4f",
   "metadata": {},
   "outputs": [
    {
     "data": {
      "text/plain": [
       "poly1d([0.66211737, 0.98652316])"
      ]
     },
     "execution_count": 9,
     "metadata": {},
     "output_type": "execute_result"
    }
   ],
   "source": [
    "p = np.poly1d(w)\n",
    "p"
   ]
  },
  {
   "cell_type": "markdown",
   "id": "28e0ebe7",
   "metadata": {},
   "source": [
    "A quick way to create a polynomial function is to combine both polyfit() and poly1d()"
   ]
  },
  {
   "cell_type": "code",
   "execution_count": 17,
   "id": "9d33fc41",
   "metadata": {},
   "outputs": [
    {
     "data": {
      "text/plain": [
       "poly1d([0.66211737, 0.98652316])"
      ]
     },
     "execution_count": 17,
     "metadata": {},
     "output_type": "execute_result"
    }
   ],
   "source": [
    "order = 1\n",
    "p = np.poly1d(np.polyfit(xTrain, yTrain, int(order)))\n",
    "p"
   ]
  },
  {
   "cell_type": "markdown",
   "id": "14ba0604",
   "metadata": {},
   "source": [
    "A quick and easy method of creating regression lines without needing to deal with matrices and all those horrors. \\\n",
    "Using p(x_values) will allow us to calculate the **predicted** y values, we can then fit them into the MSE equation sum((y-y_predicted)**2)/len(y)"
   ]
  },
  {
   "cell_type": "code",
   "execution_count": 40,
   "id": "a42c89cb",
   "metadata": {},
   "outputs": [
    {
     "data": {
      "image/png": "[encoded data removed]",
      "text/plain": [
       "<Figure size 432x288 with 1 Axes>"
      ]
     },
     "metadata": {
      "needs_background": "light"
     },
     "output_type": "display_data"
    },
    {
     "name": "stdout",
     "output_type": "stream",
     "text": [
      "MSE = 0.054340149160399046\n",
      "SSC = 1.411627369818548\n"
     ]
    }
   ],
   "source": [
    "x_LS = np.linspace(-1,1,100)\n",
    "\n",
    "plt.plot(xTrain, yTrain, 'o')\n",
    "plt.plot(x_LS, p(x_LS))\n",
    "plt.show()\n",
    "print(f'MSE = {sum((yTrain - p(xTrain))**2)/len(yTrain)}')\n",
    "SSC_lin = sum(p.c**2)\n",
    "print('SSC = '+str(SSC_lin))"
   ]
  },
  {
   "cell_type": "code",
   "execution_count": 19,
   "id": "b940cec6",
   "metadata": {},
   "outputs": [
    {
     "data": {
      "text/plain": [
       "poly1d([ 1.32593586, -0.09075723, -0.14490812,  1.00363129])"
      ]
     },
     "execution_count": 19,
     "metadata": {},
     "output_type": "execute_result"
    }
   ],
   "source": [
    "order = 3\n",
    "p3 = np.poly1d(np.polyfit(xTrain, yTrain, int(order)))\n",
    "p3"
   ]
  },
  {
   "cell_type": "code",
   "execution_count": 41,
   "id": "64eed1ab",
   "metadata": {},
   "outputs": [
    {
     "data": {
      "image/png": "[encoded data removed]",
      "text/plain": [
       "<Figure size 432x288 with 1 Axes>"
      ]
     },
     "metadata": {
      "needs_background": "light"
     },
     "output_type": "display_data"
    },
    {
     "name": "stdout",
     "output_type": "stream",
     "text": [
      "MSE = 0.019759513603059838\n",
      "SSC = 2.794616898371115\n"
     ]
    }
   ],
   "source": [
    "plt.plot(xTrain, yTrain, 'o')\n",
    "plt.plot(x_LS, p3(x_LS))\n",
    "plt.show()\n",
    "print(f'MSE = {sum((yTrain - p3(xTrain))**2)/len(yTrain)}')\n",
    "SSC_cube = sum(p3.c**2)\n",
    "print('SSC = '+str(SSC_cube))"
   ]
  },
  {
   "cell_type": "markdown",
   "id": "ed8cbde9",
   "metadata": {},
   "source": [
    "To see whether we are overfitting, we can calculate the SSC (Sum of Squared Coefficients). The SSC usually increases as the number of coefficients increases which could indicate overfitting."
   ]
  },
  {
   "cell_type": "code",
   "execution_count": 33,
   "id": "454d59b7",
   "metadata": {},
   "outputs": [
    {
     "data": {
      "text/plain": [
       "poly1d([ 1.24458074,  1.04837169,  0.04529303, -0.95118004,  0.12191647,\n",
       "        1.09968234])"
      ]
     },
     "execution_count": 33,
     "metadata": {},
     "output_type": "execute_result"
    }
   ],
   "source": [
    "order = 5\n",
    "p5 = np.poly1d(np.polyfit(xTrain, yTrain, int(order)))\n",
    "p5"
   ]
  },
  {
   "cell_type": "code",
   "execution_count": 42,
   "id": "788bd43e",
   "metadata": {},
   "outputs": [
    {
     "data": {
      "image/png": "[encoded data removed]",
      "text/plain": [
       "<Figure size 432x288 with 1 Axes>"
      ]
     },
     "metadata": {
      "needs_background": "light"
     },
     "output_type": "display_data"
    },
    {
     "name": "stdout",
     "output_type": "stream",
     "text": [
      "MSE = 0.013235806168500359\n",
      "SSC = 4.77902422651686\n"
     ]
    }
   ],
   "source": [
    "plt.plot(xTrain, yTrain, 'o')\n",
    "plt.plot(x_LS, p5(x_LS))\n",
    "plt.show()\n",
    "print(f'MSE = {sum((yTrain - p5(xTrain))**2)/len(yTrain)}')\n",
    "SSC_5 = sum(p5.c**2)\n",
    "print('SSC = '+str(SSC_5))"
   ]
  },
  {
   "cell_type": "code",
   "execution_count": 37,
   "id": "e5732d53",
   "metadata": {},
   "outputs": [
    {
     "data": {
      "text/plain": [
       "poly1d([-0.05019396,  3.47032728,  1.28077614, -3.43684074,  0.03020835,\n",
       "        0.47292263,  0.15202817,  1.0442511 ])"
      ]
     },
     "execution_count": 37,
     "metadata": {},
     "output_type": "execute_result"
    }
   ],
   "source": [
    "order = 7\n",
    "p7 = np.poly1d(np.polyfit(xTrain, yTrain, int(order)))\n",
    "p7"
   ]
  },
  {
   "cell_type": "code",
   "execution_count": 43,
   "id": "3d460cd3",
   "metadata": {},
   "outputs": [
    {
     "data": {
      "image/png": "[encoded data removed]",
      "text/plain": [
       "<Figure size 432x288 with 1 Axes>"
      ]
     },
     "metadata": {
      "needs_background": "light"
     },
     "output_type": "display_data"
    },
    {
     "name": "stdout",
     "output_type": "stream",
     "text": [
      "MSE = 0.011464949606890948\n",
      "SSC = 26.83609396412587\n"
     ]
    }
   ],
   "source": [
    "plt.plot(xTrain, yTrain, 'o')\n",
    "plt.plot(x_LS, p7(x_LS))\n",
    "plt.show()\n",
    "print(f'MSE = {sum((yTrain - p7(xTrain))**2)/len(yTrain)}')\n",
    "SSC_7 = sum(p7.c**2)\n",
    "print('SSC = '+str(SSC_7))"
   ]
  },
  {
   "cell_type": "code",
   "execution_count": 44,
   "id": "8a4f3c55",
   "metadata": {},
   "outputs": [
    {
     "data": {
      "text/plain": [
       "poly1d([-4.31429405e+02,  1.76723917e+01,  7.92679353e+02, -2.81534579e+01,\n",
       "       -4.78399609e+02,  9.38644652e+00,  1.05276150e+02,  1.09134890e+00,\n",
       "       -5.30622975e+00,  7.41369553e-01])"
      ]
     },
     "execution_count": 44,
     "metadata": {},
     "output_type": "execute_result"
    }
   ],
   "source": [
    "order = 9\n",
    "p9 = np.poly1d(np.polyfit(xTrain, yTrain, int(order)))\n",
    "p9"
   ]
  },
  {
   "cell_type": "code",
   "execution_count": 46,
   "id": "b9b1eb4f",
   "metadata": {},
   "outputs": [
    {
     "data": {
      "image/png": "[encoded data removed]",
      "text/plain": [
       "<Figure size 432x288 with 1 Axes>"
      ]
     },
     "metadata": {
      "needs_background": "light"
     },
     "output_type": "display_data"
    },
    {
     "name": "stdout",
     "output_type": "stream",
     "text": [
      "MSE = 9.506646585289594e-27\n",
      "SSC = 1055644.074673793\n"
     ]
    }
   ],
   "source": [
    "plt.plot(xTrain, yTrain, 'o')\n",
    "plt.plot(x_LS, p9(x_LS))\n",
    "plt.show()\n",
    "print(f'MSE = {sum((yTrain - p9(xTrain))**2)/len(yTrain)}')\n",
    "SSC_9 = sum(p9.c**2)\n",
    "print('SSC = '+str(SSC_9))"
   ]
  },
  {
   "cell_type": "code",
   "execution_count": 6,
   "id": "0c8e2851",
   "metadata": {},
   "outputs": [
    {
     "name": "stdout",
     "output_type": "stream",
     "text": [
      "[-1.         -0.97979798 -0.95959596 -0.93939394 -0.91919192 -0.8989899\n",
      " -0.87878788 -0.85858586 -0.83838384 -0.81818182 -0.7979798  -0.77777778\n",
      " -0.75757576 -0.73737374 -0.71717172 -0.6969697  -0.67676768 -0.65656566\n",
      " -0.63636364 -0.61616162 -0.5959596  -0.57575758 -0.55555556 -0.53535354\n",
      " -0.51515152 -0.49494949 -0.47474747 -0.45454545 -0.43434343 -0.41414141\n",
      " -0.39393939 -0.37373737 -0.35353535 -0.33333333 -0.31313131 -0.29292929\n",
      " -0.27272727 -0.25252525 -0.23232323 -0.21212121 -0.19191919 -0.17171717\n",
      " -0.15151515 -0.13131313 -0.11111111 -0.09090909 -0.07070707 -0.05050505\n",
      " -0.03030303 -0.01010101  0.01010101  0.03030303  0.05050505  0.07070707\n",
      "  0.09090909  0.11111111  0.13131313  0.15151515  0.17171717  0.19191919\n",
      "  0.21212121  0.23232323  0.25252525  0.27272727  0.29292929  0.31313131\n",
      "  0.33333333  0.35353535  0.37373737  0.39393939  0.41414141  0.43434343\n",
      "  0.45454545  0.47474747  0.49494949  0.51515152  0.53535354  0.55555556\n",
      "  0.57575758  0.5959596   0.61616162  0.63636364  0.65656566  0.67676768\n",
      "  0.6969697   0.71717172  0.73737374  0.75757576  0.77777778  0.7979798\n",
      "  0.81818182  0.83838384  0.85858586  0.87878788  0.8989899   0.91919192\n",
      "  0.93939394  0.95959596  0.97979798  1.        ]\n",
      "[-2.08808123e-01 -1.36156250e-01 -6.64414311e-02  3.95449191e-04\n",
      "  6.44135074e-02  1.25671860e-01  1.84229623e-01  2.40145913e-01\n",
      "  2.93479847e-01  3.44290540e-01  3.92637109e-01  4.38578671e-01\n",
      "  4.82174341e-01  5.23483236e-01  5.62564473e-01  5.99477168e-01\n",
      "  6.34280437e-01  6.67033396e-01  6.97795162e-01  7.26624851e-01\n",
      "  7.53581580e-01  7.78724465e-01  8.02112622e-01  8.23805168e-01\n",
      "  8.43861219e-01  8.62339891e-01  8.79300301e-01  8.94801565e-01\n",
      "  9.08902799e-01  9.21663120e-01  9.33141644e-01  9.43397487e-01\n",
      "  9.52489767e-01  9.60477598e-01  9.67420098e-01  9.73376383e-01\n",
      "  9.78405569e-01  9.82566773e-01  9.85919110e-01  9.88521698e-01\n",
      "  9.90433652e-01  9.91714090e-01  9.92422126e-01  9.92616879e-01\n",
      "  9.92357463e-01  9.91702996e-01  9.90712594e-01  9.89445372e-01\n",
      "  9.87960448e-01  9.86316938e-01  9.84573959e-01  9.82790625e-01\n",
      "  9.81026055e-01  9.79339363e-01  9.77789667e-01  9.76436084e-01\n",
      "  9.75337728e-01  9.74553717e-01  9.74143167e-01  9.74165195e-01\n",
      "  9.74678916e-01  9.75743447e-01  9.77417904e-01  9.79761404e-01\n",
      "  9.82833064e-01  9.86691998e-01  9.91397325e-01  9.97008160e-01\n",
      "  1.00358362e+00  1.01118282e+00  1.01986488e+00  1.02968891e+00\n",
      "  1.04071403e+00  1.05299936e+00  1.06660400e+00  1.08158709e+00\n",
      "  1.09800774e+00  1.11592505e+00  1.13539816e+00  1.15648616e+00\n",
      "  1.17924819e+00  1.20374336e+00  1.23003078e+00  1.25816957e+00\n",
      "  1.28821884e+00  1.32023772e+00  1.35428532e+00  1.39042075e+00\n",
      "  1.42870313e+00  1.46919159e+00  1.51194522e+00  1.55702316e+00\n",
      "  1.60448451e+00  1.65438840e+00  1.70679393e+00  1.76176024e+00\n",
      "  1.81934642e+00  1.87961160e+00  1.94261490e+00  2.00841543e+00]\n"
     ]
    },
    {
     "data": {
      "image/png": "[encoded data removed]",
      "text/plain": [
       "<Figure size 432x288 with 1 Axes>"
      ]
     },
     "metadata": {
      "needs_background": "light"
     },
     "output_type": "display_data"
    },
    {
     "name": "stdout",
     "output_type": "stream",
     "text": [
      "MSE = 0.016924653508157857\n"
     ]
    }
   ],
   "source": [
    "data_x = np.append(xTrain,xVal)\n",
    "data_y = np.append(yTrain,yVal)\n",
    "\n",
    "w = np.polyfit(data_x, data_y, 3)\n",
    "w\n",
    "x_range = np.arange(-1,1,0.1)\n",
    "p = np.poly1d(w)\n",
    "p\n",
    "print(x_LS)\n",
    "print(p(x_LS))\n",
    "plt.plot(data_x,data_y,'o',label='Full data')\n",
    "plt.plot(x_LS, p(x_LS),'-')\n",
    "plt.show()\n",
    "\n",
    "print(f'MSE = {sum((data_y-p(data_x))**2)/len(data_y)}')"
   ]
  }
 ],
 "metadata": {
  "kernelspec": {
   "display_name": "Python 3",
   "language": "python",
   "name": "python3"
  },
  "language_info": {
   "codemirror_mode": {
    "name": "ipython",
    "version": 3
   },
   "file_extension": ".py",
   "mimetype": "text/x-python",
   "name": "python",
   "nbconvert_exporter": "python",
   "pygments_lexer": "ipython3",
   "version": "3.8.8"
  }
 },
 "nbformat": 4,
 "nbformat_minor": 5
}
