{
 "cells": [
  {
   "cell_type": "code",
   "execution_count": 2,
   "id": "ff8c628c",
   "metadata": {},
   "outputs": [],
   "source": [
    "import pandas as pd\n",
    "import numpy as np \n",
    "from matplotlib import pyplot as plt\n"
   ]
  },
  {
   "cell_type": "markdown",
   "id": "35473cf9",
   "metadata": {},
   "source": [
    "## Exercise 1"
   ]
  },
  {
   "cell_type": "code",
   "execution_count": 3,
   "id": "571102b9",
   "metadata": {},
   "outputs": [
    {
     "data": {
      "text/html": [
       "<div>\n",
       "<style scoped>\n",
       "    .dataframe tbody tr th:only-of-type {\n",
       "        vertical-align: middle;\n",
       "    }\n",
       "\n",
       "    .dataframe tbody tr th {\n",
       "        vertical-align: top;\n",
       "    }\n",
       "\n",
       "    .dataframe thead th {\n",
       "        text-align: right;\n",
       "    }\n",
       "</style>\n",
       "<table border=\"1\" class=\"dataframe\">\n",
       "  <thead>\n",
       "    <tr style=\"text-align: right;\">\n",
       "      <th></th>\n",
       "      <th>x</th>\n",
       "      <th>y</th>\n",
       "    </tr>\n",
       "  </thead>\n",
       "  <tbody>\n",
       "    <tr>\n",
       "      <th>0</th>\n",
       "      <td>2</td>\n",
       "      <td>1</td>\n",
       "    </tr>\n",
       "    <tr>\n",
       "      <th>1</th>\n",
       "      <td>3</td>\n",
       "      <td>2</td>\n",
       "    </tr>\n",
       "    <tr>\n",
       "      <th>2</th>\n",
       "      <td>1</td>\n",
       "      <td>2</td>\n",
       "    </tr>\n",
       "    <tr>\n",
       "      <th>3</th>\n",
       "      <td>1</td>\n",
       "      <td>1</td>\n",
       "    </tr>\n",
       "    <tr>\n",
       "      <th>4</th>\n",
       "      <td>0</td>\n",
       "      <td>1</td>\n",
       "    </tr>\n",
       "    <tr>\n",
       "      <th>5</th>\n",
       "      <td>5</td>\n",
       "      <td>3</td>\n",
       "    </tr>\n",
       "    <tr>\n",
       "      <th>6</th>\n",
       "      <td>4</td>\n",
       "      <td>3</td>\n",
       "    </tr>\n",
       "    <tr>\n",
       "      <th>7</th>\n",
       "      <td>6</td>\n",
       "      <td>7</td>\n",
       "    </tr>\n",
       "    <tr>\n",
       "      <th>8</th>\n",
       "      <td>5</td>\n",
       "      <td>6</td>\n",
       "    </tr>\n",
       "    <tr>\n",
       "      <th>9</th>\n",
       "      <td>3</td>\n",
       "      <td>5</td>\n",
       "    </tr>\n",
       "  </tbody>\n",
       "</table>\n",
       "</div>"
      ],
      "text/plain": [
       "   x  y\n",
       "0  2  1\n",
       "1  3  2\n",
       "2  1  2\n",
       "3  1  1\n",
       "4  0  1\n",
       "5  5  3\n",
       "6  4  3\n",
       "7  6  7\n",
       "8  5  6\n",
       "9  3  5"
      ]
     },
     "execution_count": 3,
     "metadata": {},
     "output_type": "execute_result"
    }
   ],
   "source": [
    "df = pd.DataFrame({\n",
    "    'x': [2,3,1,1,0,5,4,6,5,3],\n",
    "    'y': [1,2,2,1,1,3,3,7,6,5]\n",
    "})\n",
    "df"
   ]
  },
  {
   "cell_type": "code",
   "execution_count": 4,
   "id": "6a0a8df2",
   "metadata": {},
   "outputs": [
    {
     "data": {
      "text/plain": [
       "<matplotlib.collections.PathCollection at 0x2cc9b7c1340>"
      ]
     },
     "execution_count": 4,
     "metadata": {},
     "output_type": "execute_result"
    },
    {
     "data": {
      "image/png": "[encoded data removed]",
      "text/plain": [
       "<Figure size 432x288 with 1 Axes>"
      ]
     },
     "metadata": {
      "needs_background": "light"
     },
     "output_type": "display_data"
    }
   ],
   "source": [
    "plt.scatter(df.x, df.y)"
   ]
  },
  {
   "cell_type": "code",
   "execution_count": 5,
   "id": "315b107d",
   "metadata": {},
   "outputs": [
    {
     "name": "stdout",
     "output_type": "stream",
     "text": [
      "21.1\n"
     ]
    },
    {
     "data": {
      "text/html": [
       "<div>\n",
       "<style scoped>\n",
       "    .dataframe tbody tr th:only-of-type {\n",
       "        vertical-align: middle;\n",
       "    }\n",
       "\n",
       "    .dataframe tbody tr th {\n",
       "        vertical-align: top;\n",
       "    }\n",
       "\n",
       "    .dataframe thead th {\n",
       "        text-align: right;\n",
       "    }\n",
       "</style>\n",
       "<table border=\"1\" class=\"dataframe\">\n",
       "  <thead>\n",
       "    <tr style=\"text-align: right;\">\n",
       "      <th></th>\n",
       "      <th>x</th>\n",
       "      <th>y</th>\n",
       "      <th>2x+1</th>\n",
       "      <th>diff</th>\n",
       "      <th>diff_square</th>\n",
       "    </tr>\n",
       "  </thead>\n",
       "  <tbody>\n",
       "    <tr>\n",
       "      <th>0</th>\n",
       "      <td>2</td>\n",
       "      <td>1</td>\n",
       "      <td>5</td>\n",
       "      <td>-4</td>\n",
       "      <td>16</td>\n",
       "    </tr>\n",
       "    <tr>\n",
       "      <th>1</th>\n",
       "      <td>3</td>\n",
       "      <td>2</td>\n",
       "      <td>7</td>\n",
       "      <td>-5</td>\n",
       "      <td>25</td>\n",
       "    </tr>\n",
       "    <tr>\n",
       "      <th>2</th>\n",
       "      <td>1</td>\n",
       "      <td>2</td>\n",
       "      <td>3</td>\n",
       "      <td>-1</td>\n",
       "      <td>1</td>\n",
       "    </tr>\n",
       "    <tr>\n",
       "      <th>3</th>\n",
       "      <td>1</td>\n",
       "      <td>1</td>\n",
       "      <td>3</td>\n",
       "      <td>-2</td>\n",
       "      <td>4</td>\n",
       "    </tr>\n",
       "    <tr>\n",
       "      <th>4</th>\n",
       "      <td>0</td>\n",
       "      <td>1</td>\n",
       "      <td>1</td>\n",
       "      <td>0</td>\n",
       "      <td>0</td>\n",
       "    </tr>\n",
       "    <tr>\n",
       "      <th>5</th>\n",
       "      <td>5</td>\n",
       "      <td>3</td>\n",
       "      <td>11</td>\n",
       "      <td>-8</td>\n",
       "      <td>64</td>\n",
       "    </tr>\n",
       "    <tr>\n",
       "      <th>6</th>\n",
       "      <td>4</td>\n",
       "      <td>3</td>\n",
       "      <td>9</td>\n",
       "      <td>-6</td>\n",
       "      <td>36</td>\n",
       "    </tr>\n",
       "    <tr>\n",
       "      <th>7</th>\n",
       "      <td>6</td>\n",
       "      <td>7</td>\n",
       "      <td>13</td>\n",
       "      <td>-6</td>\n",
       "      <td>36</td>\n",
       "    </tr>\n",
       "    <tr>\n",
       "      <th>8</th>\n",
       "      <td>5</td>\n",
       "      <td>6</td>\n",
       "      <td>11</td>\n",
       "      <td>-5</td>\n",
       "      <td>25</td>\n",
       "    </tr>\n",
       "    <tr>\n",
       "      <th>9</th>\n",
       "      <td>3</td>\n",
       "      <td>5</td>\n",
       "      <td>7</td>\n",
       "      <td>-2</td>\n",
       "      <td>4</td>\n",
       "    </tr>\n",
       "  </tbody>\n",
       "</table>\n",
       "</div>"
      ],
      "text/plain": [
       "   x  y  2x+1  diff  diff_square\n",
       "0  2  1     5    -4           16\n",
       "1  3  2     7    -5           25\n",
       "2  1  2     3    -1            1\n",
       "3  1  1     3    -2            4\n",
       "4  0  1     1     0            0\n",
       "5  5  3    11    -8           64\n",
       "6  4  3     9    -6           36\n",
       "7  6  7    13    -6           36\n",
       "8  5  6    11    -5           25\n",
       "9  3  5     7    -2            4"
      ]
     },
     "execution_count": 5,
     "metadata": {},
     "output_type": "execute_result"
    }
   ],
   "source": [
    "df['2x+1'] = df['x']*2+1\n",
    "df1 = df.copy()\n",
    "df1['diff'] = df.y - df['2x+1']\n",
    "df1['diff_square'] = df1['diff']**2\n",
    "mse = sum(df1.diff_square)/len(df1.x)\n",
    "print(mse)\n",
    "df1"
   ]
  },
  {
   "cell_type": "code",
   "execution_count": 6,
   "id": "840b0cab",
   "metadata": {},
   "outputs": [
    {
     "name": "stdout",
     "output_type": "stream",
     "text": [
      "21.1\n"
     ]
    }
   ],
   "source": [
    "def mse(actual, predicted):\n",
    "    mean_squared_error = ((actual - predicted)**2).sum()/len(df.x)\n",
    "    return mean_squared_error\n",
    "\n",
    "print(mse(df.y, df['2x+1']))"
   ]
  },
  {
   "cell_type": "code",
   "execution_count": 7,
   "id": "93f53a01",
   "metadata": {},
   "outputs": [
    {
     "name": "stdout",
     "output_type": "stream",
     "text": [
      "1.5\n"
     ]
    }
   ],
   "source": [
    "print(mse(df.y, df.x))"
   ]
  },
  {
   "cell_type": "code",
   "execution_count": 8,
   "id": "005e30f3",
   "metadata": {},
   "outputs": [
    {
     "name": "stdout",
     "output_type": "stream",
     "text": [
      "9.5\n"
     ]
    }
   ],
   "source": [
    "df['2x-1'] = df['x']*2-1\n",
    "df\n",
    "print(mse(df.y, df['2x-1']))"
   ]
  },
  {
   "cell_type": "code",
   "execution_count": 9,
   "id": "650d5220",
   "metadata": {},
   "outputs": [
    {
     "name": "stdout",
     "output_type": "stream",
     "text": [
      "1.85\n"
     ]
    }
   ],
   "source": [
    "df['x-0.5'] = df['x']-0.5\n",
    "df\n",
    "print(mse(df.y, df['x-0.5']))"
   ]
  },
  {
   "cell_type": "code",
   "execution_count": 10,
   "id": "c6a1dad7",
   "metadata": {},
   "outputs": [
    {
     "name": "stdout",
     "output_type": "stream",
     "text": [
      "1.65\n"
     ]
    }
   ],
   "source": [
    "df['x+0.5'] = df['x']+0.5\n",
    "df\n",
    "print(mse(df.y, df['x+0.5']))"
   ]
  },
  {
   "cell_type": "markdown",
   "id": "482f7364",
   "metadata": {},
   "source": [
    "f(x) = x has the lowest mean squared error "
   ]
  },
  {
   "cell_type": "code",
   "execution_count": 11,
   "id": "7ff94ab1",
   "metadata": {},
   "outputs": [
    {
     "data": {
      "text/html": [
       "<div>\n",
       "<style scoped>\n",
       "    .dataframe tbody tr th:only-of-type {\n",
       "        vertical-align: middle;\n",
       "    }\n",
       "\n",
       "    .dataframe tbody tr th {\n",
       "        vertical-align: top;\n",
       "    }\n",
       "\n",
       "    .dataframe thead th {\n",
       "        text-align: right;\n",
       "    }\n",
       "</style>\n",
       "<table border=\"1\" class=\"dataframe\">\n",
       "  <thead>\n",
       "    <tr style=\"text-align: right;\">\n",
       "      <th></th>\n",
       "      <th>values</th>\n",
       "    </tr>\n",
       "  </thead>\n",
       "  <tbody>\n",
       "    <tr>\n",
       "      <th>2x+1</th>\n",
       "      <td>21.20</td>\n",
       "    </tr>\n",
       "    <tr>\n",
       "      <th>x</th>\n",
       "      <td>1.50</td>\n",
       "    </tr>\n",
       "    <tr>\n",
       "      <th>2x-1</th>\n",
       "      <td>9.50</td>\n",
       "    </tr>\n",
       "    <tr>\n",
       "      <th>x-0.5</th>\n",
       "      <td>1.85</td>\n",
       "    </tr>\n",
       "    <tr>\n",
       "      <th>x+0.5</th>\n",
       "      <td>1.65</td>\n",
       "    </tr>\n",
       "  </tbody>\n",
       "</table>\n",
       "</div>"
      ],
      "text/plain": [
       "       values\n",
       "2x+1    21.20\n",
       "x        1.50\n",
       "2x-1     9.50\n",
       "x-0.5    1.85\n",
       "x+0.5    1.65"
      ]
     },
     "execution_count": 11,
     "metadata": {},
     "output_type": "execute_result"
    }
   ],
   "source": [
    "mses = pd.DataFrame({\n",
    "    'values': [21.2, 1.5, 9.5, 1.85, 1.65]\n",
    "}, index=['2x+1', 'x', '2x-1', 'x-0.5', 'x+0.5'])\n",
    "mses"
   ]
  },
  {
   "cell_type": "code",
   "execution_count": 12,
   "id": "f30ea27a",
   "metadata": {},
   "outputs": [
    {
     "data": {
      "text/html": [
       "<div>\n",
       "<style scoped>\n",
       "    .dataframe tbody tr th:only-of-type {\n",
       "        vertical-align: middle;\n",
       "    }\n",
       "\n",
       "    .dataframe tbody tr th {\n",
       "        vertical-align: top;\n",
       "    }\n",
       "\n",
       "    .dataframe thead th {\n",
       "        text-align: right;\n",
       "    }\n",
       "</style>\n",
       "<table border=\"1\" class=\"dataframe\">\n",
       "  <thead>\n",
       "    <tr style=\"text-align: right;\">\n",
       "      <th></th>\n",
       "      <th>x</th>\n",
       "      <th>y</th>\n",
       "      <th>2x+1</th>\n",
       "      <th>2x-1</th>\n",
       "      <th>x-0.5</th>\n",
       "      <th>x+0.5</th>\n",
       "    </tr>\n",
       "  </thead>\n",
       "  <tbody>\n",
       "    <tr>\n",
       "      <th>0</th>\n",
       "      <td>2</td>\n",
       "      <td>1</td>\n",
       "      <td>5</td>\n",
       "      <td>3</td>\n",
       "      <td>1.5</td>\n",
       "      <td>2.5</td>\n",
       "    </tr>\n",
       "    <tr>\n",
       "      <th>1</th>\n",
       "      <td>3</td>\n",
       "      <td>2</td>\n",
       "      <td>7</td>\n",
       "      <td>5</td>\n",
       "      <td>2.5</td>\n",
       "      <td>3.5</td>\n",
       "    </tr>\n",
       "    <tr>\n",
       "      <th>2</th>\n",
       "      <td>1</td>\n",
       "      <td>2</td>\n",
       "      <td>3</td>\n",
       "      <td>1</td>\n",
       "      <td>0.5</td>\n",
       "      <td>1.5</td>\n",
       "    </tr>\n",
       "    <tr>\n",
       "      <th>3</th>\n",
       "      <td>1</td>\n",
       "      <td>1</td>\n",
       "      <td>3</td>\n",
       "      <td>1</td>\n",
       "      <td>0.5</td>\n",
       "      <td>1.5</td>\n",
       "    </tr>\n",
       "    <tr>\n",
       "      <th>4</th>\n",
       "      <td>0</td>\n",
       "      <td>1</td>\n",
       "      <td>1</td>\n",
       "      <td>-1</td>\n",
       "      <td>-0.5</td>\n",
       "      <td>0.5</td>\n",
       "    </tr>\n",
       "    <tr>\n",
       "      <th>5</th>\n",
       "      <td>5</td>\n",
       "      <td>3</td>\n",
       "      <td>11</td>\n",
       "      <td>9</td>\n",
       "      <td>4.5</td>\n",
       "      <td>5.5</td>\n",
       "    </tr>\n",
       "    <tr>\n",
       "      <th>6</th>\n",
       "      <td>4</td>\n",
       "      <td>3</td>\n",
       "      <td>9</td>\n",
       "      <td>7</td>\n",
       "      <td>3.5</td>\n",
       "      <td>4.5</td>\n",
       "    </tr>\n",
       "    <tr>\n",
       "      <th>7</th>\n",
       "      <td>6</td>\n",
       "      <td>7</td>\n",
       "      <td>13</td>\n",
       "      <td>11</td>\n",
       "      <td>5.5</td>\n",
       "      <td>6.5</td>\n",
       "    </tr>\n",
       "    <tr>\n",
       "      <th>8</th>\n",
       "      <td>5</td>\n",
       "      <td>6</td>\n",
       "      <td>11</td>\n",
       "      <td>9</td>\n",
       "      <td>4.5</td>\n",
       "      <td>5.5</td>\n",
       "    </tr>\n",
       "    <tr>\n",
       "      <th>9</th>\n",
       "      <td>3</td>\n",
       "      <td>5</td>\n",
       "      <td>7</td>\n",
       "      <td>5</td>\n",
       "      <td>2.5</td>\n",
       "      <td>3.5</td>\n",
       "    </tr>\n",
       "  </tbody>\n",
       "</table>\n",
       "</div>"
      ],
      "text/plain": [
       "   x  y  2x+1  2x-1  x-0.5  x+0.5\n",
       "0  2  1     5     3    1.5    2.5\n",
       "1  3  2     7     5    2.5    3.5\n",
       "2  1  2     3     1    0.5    1.5\n",
       "3  1  1     3     1    0.5    1.5\n",
       "4  0  1     1    -1   -0.5    0.5\n",
       "5  5  3    11     9    4.5    5.5\n",
       "6  4  3     9     7    3.5    4.5\n",
       "7  6  7    13    11    5.5    6.5\n",
       "8  5  6    11     9    4.5    5.5\n",
       "9  3  5     7     5    2.5    3.5"
      ]
     },
     "execution_count": 12,
     "metadata": {},
     "output_type": "execute_result"
    }
   ],
   "source": [
    "df"
   ]
  },
  {
   "cell_type": "code",
   "execution_count": 13,
   "id": "e6a6139a",
   "metadata": {
    "scrolled": true
   },
   "outputs": [
    {
     "data": {
      "text/plain": [
       "<matplotlib.legend.Legend at 0x2cc9b922460>"
      ]
     },
     "execution_count": 13,
     "metadata": {},
     "output_type": "execute_result"
    },
    {
     "data": {
      "image/png": "[encoded data removed]",
      "text/plain": [
       "<Figure size 432x288 with 1 Axes>"
      ]
     },
     "metadata": {
      "needs_background": "light"
     },
     "output_type": "display_data"
    }
   ],
   "source": [
    "plt.scatter(df.x, df.y)\n",
    "plt.plot(df.x, df['2x+1'], label=['2x+1'])\n",
    "plt.plot(df.x, df.x, label=['x'])\n",
    "plt.plot(df.x, df['2x-1'], label=['2x-1'])\n",
    "plt.plot(df.x, df['x-0.5'], label=['x-0.5'])\n",
    "plt.plot(df.x, df['x+0.5'], label=['x+0.5'])\n",
    "plt.legend()"
   ]
  },
  {
   "cell_type": "code",
   "execution_count": 14,
   "id": "dbabe08f",
   "metadata": {},
   "outputs": [
    {
     "name": "stdout",
     "output_type": "stream",
     "text": [
      "3.9\n",
      "1.1\n",
      "2.5\n",
      "1.2\n",
      "1.1\n"
     ]
    }
   ],
   "source": [
    "def mae(actual, predicted):\n",
    "    mean_absolute_error = (abs(actual - predicted)).sum()/len(df.x)\n",
    "    return mean_absolute_error\n",
    "print(mae(df.y, df['2x+1']))\n",
    "print(mae(df.y, df.x))\n",
    "print(mae(df.y, df['2x-1']))\n",
    "print(mae(df.y, df['x-0.5']))\n",
    "print(mae(df.y, df['x+0.5']))"
   ]
  },
  {
   "cell_type": "markdown",
   "id": "1a6abb43",
   "metadata": {},
   "source": [
    "f(x) = x or f(x) = x+0.5 both have the combined lowest mean absolute errors."
   ]
  },
  {
   "cell_type": "code",
   "execution_count": 15,
   "id": "0058cd3c",
   "metadata": {},
   "outputs": [
    {
     "data": {
      "text/html": [
       "<div>\n",
       "<style scoped>\n",
       "    .dataframe tbody tr th:only-of-type {\n",
       "        vertical-align: middle;\n",
       "    }\n",
       "\n",
       "    .dataframe tbody tr th {\n",
       "        vertical-align: top;\n",
       "    }\n",
       "\n",
       "    .dataframe thead th {\n",
       "        text-align: right;\n",
       "    }\n",
       "</style>\n",
       "<table border=\"1\" class=\"dataframe\">\n",
       "  <thead>\n",
       "    <tr style=\"text-align: right;\">\n",
       "      <th></th>\n",
       "      <th>values</th>\n",
       "    </tr>\n",
       "  </thead>\n",
       "  <tbody>\n",
       "    <tr>\n",
       "      <th>2x+1</th>\n",
       "      <td>3.9</td>\n",
       "    </tr>\n",
       "    <tr>\n",
       "      <th>x</th>\n",
       "      <td>1.1</td>\n",
       "    </tr>\n",
       "    <tr>\n",
       "      <th>2x-1</th>\n",
       "      <td>2.5</td>\n",
       "    </tr>\n",
       "    <tr>\n",
       "      <th>x-0.5</th>\n",
       "      <td>1.2</td>\n",
       "    </tr>\n",
       "    <tr>\n",
       "      <th>x+0.5</th>\n",
       "      <td>1.1</td>\n",
       "    </tr>\n",
       "  </tbody>\n",
       "</table>\n",
       "</div>"
      ],
      "text/plain": [
       "       values\n",
       "2x+1      3.9\n",
       "x         1.1\n",
       "2x-1      2.5\n",
       "x-0.5     1.2\n",
       "x+0.5     1.1"
      ]
     },
     "execution_count": 15,
     "metadata": {},
     "output_type": "execute_result"
    }
   ],
   "source": [
    "maes = pd.DataFrame({\n",
    "    'values': [3.9,1.1,2.5,1.2,1.1]\n",
    "}, index=['2x+1', 'x', '2x-1', 'x-0.5', 'x+0.5'])\n",
    "maes"
   ]
  },
  {
   "cell_type": "markdown",
   "id": "2a348ee3",
   "metadata": {},
   "source": [
    "## Exercise 2"
   ]
  },
  {
   "cell_type": "code",
   "execution_count": 16,
   "id": "e1f8b8c9",
   "metadata": {},
   "outputs": [
    {
     "data": {
      "text/html": [
       "<div>\n",
       "<style scoped>\n",
       "    .dataframe tbody tr th:only-of-type {\n",
       "        vertical-align: middle;\n",
       "    }\n",
       "\n",
       "    .dataframe tbody tr th {\n",
       "        vertical-align: top;\n",
       "    }\n",
       "\n",
       "    .dataframe thead th {\n",
       "        text-align: right;\n",
       "    }\n",
       "</style>\n",
       "<table border=\"1\" class=\"dataframe\">\n",
       "  <thead>\n",
       "    <tr style=\"text-align: right;\">\n",
       "      <th></th>\n",
       "      <th>x</th>\n",
       "      <th>y</th>\n",
       "      <th>w1=0</th>\n",
       "      <th>w1=1/5</th>\n",
       "      <th>w1=1/4</th>\n",
       "      <th>w1=1/3</th>\n",
       "      <th>w1=1/2</th>\n",
       "      <th>w1=1</th>\n",
       "      <th>w1=2</th>\n",
       "      <th>w1=3</th>\n",
       "      <th>w1=4</th>\n",
       "      <th>w1=5</th>\n",
       "    </tr>\n",
       "  </thead>\n",
       "  <tbody>\n",
       "    <tr>\n",
       "      <th>0</th>\n",
       "      <td>2</td>\n",
       "      <td>1</td>\n",
       "      <td>0</td>\n",
       "      <td>0.4</td>\n",
       "      <td>0.50</td>\n",
       "      <td>0.666667</td>\n",
       "      <td>1.0</td>\n",
       "      <td>2</td>\n",
       "      <td>4</td>\n",
       "      <td>6</td>\n",
       "      <td>8</td>\n",
       "      <td>10</td>\n",
       "    </tr>\n",
       "    <tr>\n",
       "      <th>1</th>\n",
       "      <td>3</td>\n",
       "      <td>2</td>\n",
       "      <td>0</td>\n",
       "      <td>0.6</td>\n",
       "      <td>0.75</td>\n",
       "      <td>1.000000</td>\n",
       "      <td>1.5</td>\n",
       "      <td>3</td>\n",
       "      <td>6</td>\n",
       "      <td>9</td>\n",
       "      <td>12</td>\n",
       "      <td>15</td>\n",
       "    </tr>\n",
       "    <tr>\n",
       "      <th>2</th>\n",
       "      <td>1</td>\n",
       "      <td>2</td>\n",
       "      <td>0</td>\n",
       "      <td>0.2</td>\n",
       "      <td>0.25</td>\n",
       "      <td>0.333333</td>\n",
       "      <td>0.5</td>\n",
       "      <td>1</td>\n",
       "      <td>2</td>\n",
       "      <td>3</td>\n",
       "      <td>4</td>\n",
       "      <td>5</td>\n",
       "    </tr>\n",
       "    <tr>\n",
       "      <th>3</th>\n",
       "      <td>1</td>\n",
       "      <td>1</td>\n",
       "      <td>0</td>\n",
       "      <td>0.2</td>\n",
       "      <td>0.25</td>\n",
       "      <td>0.333333</td>\n",
       "      <td>0.5</td>\n",
       "      <td>1</td>\n",
       "      <td>2</td>\n",
       "      <td>3</td>\n",
       "      <td>4</td>\n",
       "      <td>5</td>\n",
       "    </tr>\n",
       "    <tr>\n",
       "      <th>4</th>\n",
       "      <td>0</td>\n",
       "      <td>1</td>\n",
       "      <td>0</td>\n",
       "      <td>0.0</td>\n",
       "      <td>0.00</td>\n",
       "      <td>0.000000</td>\n",
       "      <td>0.0</td>\n",
       "      <td>0</td>\n",
       "      <td>0</td>\n",
       "      <td>0</td>\n",
       "      <td>0</td>\n",
       "      <td>0</td>\n",
       "    </tr>\n",
       "    <tr>\n",
       "      <th>5</th>\n",
       "      <td>5</td>\n",
       "      <td>3</td>\n",
       "      <td>0</td>\n",
       "      <td>1.0</td>\n",
       "      <td>1.25</td>\n",
       "      <td>1.666667</td>\n",
       "      <td>2.5</td>\n",
       "      <td>5</td>\n",
       "      <td>10</td>\n",
       "      <td>15</td>\n",
       "      <td>20</td>\n",
       "      <td>25</td>\n",
       "    </tr>\n",
       "    <tr>\n",
       "      <th>6</th>\n",
       "      <td>4</td>\n",
       "      <td>3</td>\n",
       "      <td>0</td>\n",
       "      <td>0.8</td>\n",
       "      <td>1.00</td>\n",
       "      <td>1.333333</td>\n",
       "      <td>2.0</td>\n",
       "      <td>4</td>\n",
       "      <td>8</td>\n",
       "      <td>12</td>\n",
       "      <td>16</td>\n",
       "      <td>20</td>\n",
       "    </tr>\n",
       "    <tr>\n",
       "      <th>7</th>\n",
       "      <td>6</td>\n",
       "      <td>7</td>\n",
       "      <td>0</td>\n",
       "      <td>1.2</td>\n",
       "      <td>1.50</td>\n",
       "      <td>2.000000</td>\n",
       "      <td>3.0</td>\n",
       "      <td>6</td>\n",
       "      <td>12</td>\n",
       "      <td>18</td>\n",
       "      <td>24</td>\n",
       "      <td>30</td>\n",
       "    </tr>\n",
       "    <tr>\n",
       "      <th>8</th>\n",
       "      <td>5</td>\n",
       "      <td>6</td>\n",
       "      <td>0</td>\n",
       "      <td>1.0</td>\n",
       "      <td>1.25</td>\n",
       "      <td>1.666667</td>\n",
       "      <td>2.5</td>\n",
       "      <td>5</td>\n",
       "      <td>10</td>\n",
       "      <td>15</td>\n",
       "      <td>20</td>\n",
       "      <td>25</td>\n",
       "    </tr>\n",
       "    <tr>\n",
       "      <th>9</th>\n",
       "      <td>3</td>\n",
       "      <td>5</td>\n",
       "      <td>0</td>\n",
       "      <td>0.6</td>\n",
       "      <td>0.75</td>\n",
       "      <td>1.000000</td>\n",
       "      <td>1.5</td>\n",
       "      <td>3</td>\n",
       "      <td>6</td>\n",
       "      <td>9</td>\n",
       "      <td>12</td>\n",
       "      <td>15</td>\n",
       "    </tr>\n",
       "  </tbody>\n",
       "</table>\n",
       "</div>"
      ],
      "text/plain": [
       "   x  y  w1=0  w1=1/5  w1=1/4    w1=1/3  w1=1/2  w1=1  w1=2  w1=3  w1=4  w1=5\n",
       "0  2  1     0     0.4    0.50  0.666667     1.0     2     4     6     8    10\n",
       "1  3  2     0     0.6    0.75  1.000000     1.5     3     6     9    12    15\n",
       "2  1  2     0     0.2    0.25  0.333333     0.5     1     2     3     4     5\n",
       "3  1  1     0     0.2    0.25  0.333333     0.5     1     2     3     4     5\n",
       "4  0  1     0     0.0    0.00  0.000000     0.0     0     0     0     0     0\n",
       "5  5  3     0     1.0    1.25  1.666667     2.5     5    10    15    20    25\n",
       "6  4  3     0     0.8    1.00  1.333333     2.0     4     8    12    16    20\n",
       "7  6  7     0     1.2    1.50  2.000000     3.0     6    12    18    24    30\n",
       "8  5  6     0     1.0    1.25  1.666667     2.5     5    10    15    20    25\n",
       "9  3  5     0     0.6    0.75  1.000000     1.5     3     6     9    12    15"
      ]
     },
     "execution_count": 16,
     "metadata": {},
     "output_type": "execute_result"
    }
   ],
   "source": [
    "df2 = pd.DataFrame({\n",
    "    'x': [2,3,1,1,0,5,4,6,5,3],\n",
    "    'y': [1,2,2,1,1,3,3,7,6,5],\n",
    "    'w1=0': [0*x for x in df['x']],\n",
    "    'w1=1/5': [1/5*x for x in df['x']],\n",
    "    'w1=1/4': [1/4*x for x in df['x']],\n",
    "    'w1=1/3': [1/3*x for x in df['x']],\n",
    "    'w1=1/2': [1/2*x for x in df['x']],\n",
    "    'w1=1': [1*x for x in df['x']],\n",
    "    'w1=2': [2*x for x in df['x']],\n",
    "    'w1=3': [3*x for x in df['x']],\n",
    "    'w1=4': [4*x for x in df['x']],\n",
    "    'w1=5': [5*x for x in df['x']],\n",
    "})\n",
    "df2"
   ]
  },
  {
   "cell_type": "code",
   "execution_count": 17,
   "id": "f3621b93",
   "metadata": {},
   "outputs": [
    {
     "data": {
      "text/html": [
       "<div>\n",
       "<style scoped>\n",
       "    .dataframe tbody tr th:only-of-type {\n",
       "        vertical-align: middle;\n",
       "    }\n",
       "\n",
       "    .dataframe tbody tr th {\n",
       "        vertical-align: top;\n",
       "    }\n",
       "\n",
       "    .dataframe thead th {\n",
       "        text-align: right;\n",
       "    }\n",
       "</style>\n",
       "<table border=\"1\" class=\"dataframe\">\n",
       "  <thead>\n",
       "    <tr style=\"text-align: right;\">\n",
       "      <th></th>\n",
       "      <th>x</th>\n",
       "      <th>y</th>\n",
       "      <th>w1=0</th>\n",
       "      <th>w1=1/5</th>\n",
       "      <th>w1=1/4</th>\n",
       "      <th>w1=1/3</th>\n",
       "      <th>w1=1/2</th>\n",
       "      <th>w1=1</th>\n",
       "      <th>w1=2</th>\n",
       "      <th>w1=3</th>\n",
       "      <th>w1=4</th>\n",
       "      <th>w1=5</th>\n",
       "      <th>mses</th>\n",
       "    </tr>\n",
       "  </thead>\n",
       "  <tbody>\n",
       "    <tr>\n",
       "      <th>0</th>\n",
       "      <td>2</td>\n",
       "      <td>1</td>\n",
       "      <td>0</td>\n",
       "      <td>0.4</td>\n",
       "      <td>0.50</td>\n",
       "      <td>0.666667</td>\n",
       "      <td>1.0</td>\n",
       "      <td>2</td>\n",
       "      <td>4</td>\n",
       "      <td>6</td>\n",
       "      <td>8</td>\n",
       "      <td>10</td>\n",
       "      <td>13.900000</td>\n",
       "    </tr>\n",
       "    <tr>\n",
       "      <th>1</th>\n",
       "      <td>3</td>\n",
       "      <td>2</td>\n",
       "      <td>0</td>\n",
       "      <td>0.6</td>\n",
       "      <td>0.75</td>\n",
       "      <td>1.000000</td>\n",
       "      <td>1.5</td>\n",
       "      <td>3</td>\n",
       "      <td>6</td>\n",
       "      <td>9</td>\n",
       "      <td>12</td>\n",
       "      <td>15</td>\n",
       "      <td>9.404000</td>\n",
       "    </tr>\n",
       "    <tr>\n",
       "      <th>2</th>\n",
       "      <td>1</td>\n",
       "      <td>2</td>\n",
       "      <td>0</td>\n",
       "      <td>0.2</td>\n",
       "      <td>0.25</td>\n",
       "      <td>0.333333</td>\n",
       "      <td>0.5</td>\n",
       "      <td>1</td>\n",
       "      <td>2</td>\n",
       "      <td>3</td>\n",
       "      <td>4</td>\n",
       "      <td>5</td>\n",
       "      <td>8.437500</td>\n",
       "    </tr>\n",
       "    <tr>\n",
       "      <th>3</th>\n",
       "      <td>1</td>\n",
       "      <td>1</td>\n",
       "      <td>0</td>\n",
       "      <td>0.2</td>\n",
       "      <td>0.25</td>\n",
       "      <td>0.333333</td>\n",
       "      <td>0.5</td>\n",
       "      <td>1</td>\n",
       "      <td>2</td>\n",
       "      <td>3</td>\n",
       "      <td>4</td>\n",
       "      <td>5</td>\n",
       "      <td>6.966667</td>\n",
       "    </tr>\n",
       "    <tr>\n",
       "      <th>4</th>\n",
       "      <td>0</td>\n",
       "      <td>1</td>\n",
       "      <td>0</td>\n",
       "      <td>0.0</td>\n",
       "      <td>0.00</td>\n",
       "      <td>0.000000</td>\n",
       "      <td>0.0</td>\n",
       "      <td>0</td>\n",
       "      <td>0</td>\n",
       "      <td>0</td>\n",
       "      <td>0</td>\n",
       "      <td>0</td>\n",
       "      <td>4.550000</td>\n",
       "    </tr>\n",
       "    <tr>\n",
       "      <th>5</th>\n",
       "      <td>5</td>\n",
       "      <td>3</td>\n",
       "      <td>0</td>\n",
       "      <td>1.0</td>\n",
       "      <td>1.25</td>\n",
       "      <td>1.666667</td>\n",
       "      <td>2.5</td>\n",
       "      <td>5</td>\n",
       "      <td>10</td>\n",
       "      <td>15</td>\n",
       "      <td>20</td>\n",
       "      <td>25</td>\n",
       "      <td>1.500000</td>\n",
       "    </tr>\n",
       "    <tr>\n",
       "      <th>6</th>\n",
       "      <td>4</td>\n",
       "      <td>3</td>\n",
       "      <td>0</td>\n",
       "      <td>0.8</td>\n",
       "      <td>1.00</td>\n",
       "      <td>1.333333</td>\n",
       "      <td>2.0</td>\n",
       "      <td>4</td>\n",
       "      <td>8</td>\n",
       "      <td>12</td>\n",
       "      <td>16</td>\n",
       "      <td>20</td>\n",
       "      <td>14.300000</td>\n",
       "    </tr>\n",
       "    <tr>\n",
       "      <th>7</th>\n",
       "      <td>6</td>\n",
       "      <td>7</td>\n",
       "      <td>0</td>\n",
       "      <td>1.2</td>\n",
       "      <td>1.50</td>\n",
       "      <td>2.000000</td>\n",
       "      <td>3.0</td>\n",
       "      <td>6</td>\n",
       "      <td>12</td>\n",
       "      <td>18</td>\n",
       "      <td>24</td>\n",
       "      <td>30</td>\n",
       "      <td>52.300000</td>\n",
       "    </tr>\n",
       "    <tr>\n",
       "      <th>8</th>\n",
       "      <td>5</td>\n",
       "      <td>6</td>\n",
       "      <td>0</td>\n",
       "      <td>1.0</td>\n",
       "      <td>1.25</td>\n",
       "      <td>1.666667</td>\n",
       "      <td>2.5</td>\n",
       "      <td>5</td>\n",
       "      <td>10</td>\n",
       "      <td>15</td>\n",
       "      <td>20</td>\n",
       "      <td>25</td>\n",
       "      <td>115.500000</td>\n",
       "    </tr>\n",
       "    <tr>\n",
       "      <th>9</th>\n",
       "      <td>3</td>\n",
       "      <td>5</td>\n",
       "      <td>0</td>\n",
       "      <td>0.6</td>\n",
       "      <td>0.75</td>\n",
       "      <td>1.000000</td>\n",
       "      <td>1.5</td>\n",
       "      <td>3</td>\n",
       "      <td>6</td>\n",
       "      <td>9</td>\n",
       "      <td>12</td>\n",
       "      <td>15</td>\n",
       "      <td>203.900000</td>\n",
       "    </tr>\n",
       "  </tbody>\n",
       "</table>\n",
       "</div>"
      ],
      "text/plain": [
       "   x  y  w1=0  w1=1/5  w1=1/4    w1=1/3  w1=1/2  w1=1  w1=2  w1=3  w1=4  w1=5  \\\n",
       "0  2  1     0     0.4    0.50  0.666667     1.0     2     4     6     8    10   \n",
       "1  3  2     0     0.6    0.75  1.000000     1.5     3     6     9    12    15   \n",
       "2  1  2     0     0.2    0.25  0.333333     0.5     1     2     3     4     5   \n",
       "3  1  1     0     0.2    0.25  0.333333     0.5     1     2     3     4     5   \n",
       "4  0  1     0     0.0    0.00  0.000000     0.0     0     0     0     0     0   \n",
       "5  5  3     0     1.0    1.25  1.666667     2.5     5    10    15    20    25   \n",
       "6  4  3     0     0.8    1.00  1.333333     2.0     4     8    12    16    20   \n",
       "7  6  7     0     1.2    1.50  2.000000     3.0     6    12    18    24    30   \n",
       "8  5  6     0     1.0    1.25  1.666667     2.5     5    10    15    20    25   \n",
       "9  3  5     0     0.6    0.75  1.000000     1.5     3     6     9    12    15   \n",
       "\n",
       "         mses  \n",
       "0   13.900000  \n",
       "1    9.404000  \n",
       "2    8.437500  \n",
       "3    6.966667  \n",
       "4    4.550000  \n",
       "5    1.500000  \n",
       "6   14.300000  \n",
       "7   52.300000  \n",
       "8  115.500000  \n",
       "9  203.900000  "
      ]
     },
     "execution_count": 17,
     "metadata": {},
     "output_type": "execute_result"
    }
   ],
   "source": [
    "df2['mses'] = [mse(df.y, df2['w1=0']), mse(df.y, df2['w1=1/5']),mse(df.y, df2['w1=1/4']),mse(df.y, df2['w1=1/3']),mse(df.y, df2['w1=1/2'])\n",
    "              ,mse(df.y, df2['w1=1']),mse(df.y, df2['w1=2']),mse(df.y, df2['w1=3']),mse(df.y, df2['w1=4'])\n",
    "              ,mse(df.y, df2['w1=5'])]\n",
    "df2"
   ]
  },
  {
   "cell_type": "code",
   "execution_count": 18,
   "id": "5d25b2d5",
   "metadata": {},
   "outputs": [
    {
     "name": "stdout",
     "output_type": "stream",
     "text": [
      "13.9 9.404 8.4375 6.966666666666667 4.55 1.5 14.3 52.3 115.5 203.9\n"
     ]
    }
   ],
   "source": [
    "print(mse(df.y, df2['w1=0']),mse(df.y, df2['w1=1/5']),mse(df.y, df2['w1=1/4']),mse(df.y, df2['w1=1/3']),mse(df.y, df2['w1=1/2'])\n",
    "     ,mse(df.y, df2['w1=1']),mse(df.y, df2['w1=2']),mse(df.y, df2['w1=3']),mse(df.y, df2['w1=4']),mse(df.y, df2['w1=5']))"
   ]
  },
  {
   "cell_type": "code",
   "execution_count": 19,
   "id": "63d8e425",
   "metadata": {},
   "outputs": [
    {
     "data": {
      "image/png": "[encoded data removed]",
      "text/plain": [
       "<Figure size 720x720 with 1 Axes>"
      ]
     },
     "metadata": {
      "needs_background": "light"
     },
     "output_type": "display_data"
    }
   ],
   "source": [
    "plt.figure(figsize = (10,10))\n",
    "plt.scatter(y=[13.9, 9.404, 8.4375, 6.966666666666667, 4.55, 1.5, 14.3, 52.3, 115.5, 203.9],\n",
    "           x=[0,1/5,1/4,1/3,1/2,1,2,3,4,5])\n",
    "plt.plot([0,1/5,1/4,1/3,1/2,1,2,3,4,5],\n",
    "        [13.9, 9.404, 8.4375, 6.966666666666667, 4.55, 1.5, 14.3, 52.3, 115.5, 203.9])\n",
    "plt.yticks([0,20,40,60,80,100,120,140,160,180,200])\n",
    "plt.show()"
   ]
  },
  {
   "cell_type": "code",
   "execution_count": 20,
   "id": "a7d8cf52",
   "metadata": {},
   "outputs": [
    {
     "data": {
      "text/html": [
       "<div>\n",
       "<style scoped>\n",
       "    .dataframe tbody tr th:only-of-type {\n",
       "        vertical-align: middle;\n",
       "    }\n",
       "\n",
       "    .dataframe tbody tr th {\n",
       "        vertical-align: top;\n",
       "    }\n",
       "\n",
       "    .dataframe thead th {\n",
       "        text-align: right;\n",
       "    }\n",
       "</style>\n",
       "<table border=\"1\" class=\"dataframe\">\n",
       "  <thead>\n",
       "    <tr style=\"text-align: right;\">\n",
       "      <th></th>\n",
       "      <th>x</th>\n",
       "      <th>y</th>\n",
       "      <th>w0=-4</th>\n",
       "      <th>w0=-3</th>\n",
       "      <th>w0=-2</th>\n",
       "      <th>w0=-1</th>\n",
       "      <th>w0=0</th>\n",
       "      <th>w0=1</th>\n",
       "      <th>w0=2</th>\n",
       "      <th>w0=3</th>\n",
       "      <th>w0=4</th>\n",
       "      <th>w0=5</th>\n",
       "    </tr>\n",
       "  </thead>\n",
       "  <tbody>\n",
       "    <tr>\n",
       "      <th>0</th>\n",
       "      <td>2</td>\n",
       "      <td>1</td>\n",
       "      <td>-2</td>\n",
       "      <td>-1</td>\n",
       "      <td>0</td>\n",
       "      <td>1</td>\n",
       "      <td>2</td>\n",
       "      <td>3</td>\n",
       "      <td>4</td>\n",
       "      <td>5</td>\n",
       "      <td>6</td>\n",
       "      <td>7</td>\n",
       "    </tr>\n",
       "    <tr>\n",
       "      <th>1</th>\n",
       "      <td>3</td>\n",
       "      <td>2</td>\n",
       "      <td>-1</td>\n",
       "      <td>0</td>\n",
       "      <td>1</td>\n",
       "      <td>2</td>\n",
       "      <td>3</td>\n",
       "      <td>4</td>\n",
       "      <td>5</td>\n",
       "      <td>6</td>\n",
       "      <td>7</td>\n",
       "      <td>8</td>\n",
       "    </tr>\n",
       "    <tr>\n",
       "      <th>2</th>\n",
       "      <td>1</td>\n",
       "      <td>2</td>\n",
       "      <td>-3</td>\n",
       "      <td>-2</td>\n",
       "      <td>-1</td>\n",
       "      <td>0</td>\n",
       "      <td>1</td>\n",
       "      <td>2</td>\n",
       "      <td>3</td>\n",
       "      <td>4</td>\n",
       "      <td>5</td>\n",
       "      <td>6</td>\n",
       "    </tr>\n",
       "    <tr>\n",
       "      <th>3</th>\n",
       "      <td>1</td>\n",
       "      <td>1</td>\n",
       "      <td>-3</td>\n",
       "      <td>-2</td>\n",
       "      <td>-1</td>\n",
       "      <td>0</td>\n",
       "      <td>1</td>\n",
       "      <td>2</td>\n",
       "      <td>3</td>\n",
       "      <td>4</td>\n",
       "      <td>5</td>\n",
       "      <td>6</td>\n",
       "    </tr>\n",
       "    <tr>\n",
       "      <th>4</th>\n",
       "      <td>0</td>\n",
       "      <td>1</td>\n",
       "      <td>-4</td>\n",
       "      <td>-3</td>\n",
       "      <td>-2</td>\n",
       "      <td>-1</td>\n",
       "      <td>0</td>\n",
       "      <td>1</td>\n",
       "      <td>2</td>\n",
       "      <td>3</td>\n",
       "      <td>4</td>\n",
       "      <td>5</td>\n",
       "    </tr>\n",
       "    <tr>\n",
       "      <th>5</th>\n",
       "      <td>5</td>\n",
       "      <td>3</td>\n",
       "      <td>1</td>\n",
       "      <td>2</td>\n",
       "      <td>3</td>\n",
       "      <td>4</td>\n",
       "      <td>5</td>\n",
       "      <td>6</td>\n",
       "      <td>7</td>\n",
       "      <td>8</td>\n",
       "      <td>9</td>\n",
       "      <td>10</td>\n",
       "    </tr>\n",
       "    <tr>\n",
       "      <th>6</th>\n",
       "      <td>4</td>\n",
       "      <td>3</td>\n",
       "      <td>0</td>\n",
       "      <td>1</td>\n",
       "      <td>2</td>\n",
       "      <td>3</td>\n",
       "      <td>4</td>\n",
       "      <td>5</td>\n",
       "      <td>6</td>\n",
       "      <td>7</td>\n",
       "      <td>8</td>\n",
       "      <td>9</td>\n",
       "    </tr>\n",
       "    <tr>\n",
       "      <th>7</th>\n",
       "      <td>6</td>\n",
       "      <td>7</td>\n",
       "      <td>2</td>\n",
       "      <td>3</td>\n",
       "      <td>4</td>\n",
       "      <td>5</td>\n",
       "      <td>6</td>\n",
       "      <td>7</td>\n",
       "      <td>8</td>\n",
       "      <td>9</td>\n",
       "      <td>10</td>\n",
       "      <td>11</td>\n",
       "    </tr>\n",
       "    <tr>\n",
       "      <th>8</th>\n",
       "      <td>5</td>\n",
       "      <td>6</td>\n",
       "      <td>1</td>\n",
       "      <td>2</td>\n",
       "      <td>3</td>\n",
       "      <td>4</td>\n",
       "      <td>5</td>\n",
       "      <td>6</td>\n",
       "      <td>7</td>\n",
       "      <td>8</td>\n",
       "      <td>9</td>\n",
       "      <td>10</td>\n",
       "    </tr>\n",
       "    <tr>\n",
       "      <th>9</th>\n",
       "      <td>3</td>\n",
       "      <td>5</td>\n",
       "      <td>-1</td>\n",
       "      <td>0</td>\n",
       "      <td>1</td>\n",
       "      <td>2</td>\n",
       "      <td>3</td>\n",
       "      <td>4</td>\n",
       "      <td>5</td>\n",
       "      <td>6</td>\n",
       "      <td>7</td>\n",
       "      <td>8</td>\n",
       "    </tr>\n",
       "  </tbody>\n",
       "</table>\n",
       "</div>"
      ],
      "text/plain": [
       "   x  y  w0=-4  w0=-3  w0=-2  w0=-1  w0=0  w0=1  w0=2  w0=3  w0=4  w0=5\n",
       "0  2  1     -2     -1      0      1     2     3     4     5     6     7\n",
       "1  3  2     -1      0      1      2     3     4     5     6     7     8\n",
       "2  1  2     -3     -2     -1      0     1     2     3     4     5     6\n",
       "3  1  1     -3     -2     -1      0     1     2     3     4     5     6\n",
       "4  0  1     -4     -3     -2     -1     0     1     2     3     4     5\n",
       "5  5  3      1      2      3      4     5     6     7     8     9    10\n",
       "6  4  3      0      1      2      3     4     5     6     7     8     9\n",
       "7  6  7      2      3      4      5     6     7     8     9    10    11\n",
       "8  5  6      1      2      3      4     5     6     7     8     9    10\n",
       "9  3  5     -1      0      1      2     3     4     5     6     7     8"
      ]
     },
     "execution_count": 20,
     "metadata": {},
     "output_type": "execute_result"
    }
   ],
   "source": [
    "df3 = pd.DataFrame({\n",
    "    'x': [2,3,1,1,0,5,4,6,5,3],\n",
    "    'y': [1,2,2,1,1,3,3,7,6,5],\n",
    "    'w0=-4': [1*x+-4 for x in df['x']],\n",
    "    'w0=-3': [1*x+-3 for x in df['x']],\n",
    "    'w0=-2': [1*x+-2 for x in df['x']],\n",
    "    'w0=-1': [1*x+-1 for x in df['x']],\n",
    "    'w0=0': [1*x+0 for x in df['x']],\n",
    "    'w0=1': [1*x+1 for x in df['x']],\n",
    "    'w0=2': [1*x+2 for x in df['x']],\n",
    "    'w0=3': [1*x+3 for x in df['x']],\n",
    "    'w0=4': [1*x+4 for x in df['x']],\n",
    "    'w0=5': [1*x+5 for x in df['x']],\n",
    "})\n",
    "df3"
   ]
  },
  {
   "cell_type": "code",
   "execution_count": 21,
   "id": "adb904a4",
   "metadata": {},
   "outputs": [
    {
     "name": "stdout",
     "output_type": "stream",
     "text": [
      "[18.3, 11.1, 5.9, 2.7, 1.5, 2.3, 5.1, 9.9, 16.7, 25.5]\n"
     ]
    }
   ],
   "source": [
    "mses2 = [mse(df3.y, df3['w0=-4']),mse(df3.y, df3['w0=-3']),mse(df3.y, df3['w0=-2']),mse(df3.y, df3['w0=-1']),\n",
    "         mse(df3.y, df3['w0=0']),mse(df3.y, df3['w0=1']),mse(df3.y, df3['w0=2']),mse(df3.y, df3['w0=3']),\n",
    "         mse(df3.y, df3['w0=4']),mse(df3.y, df3['w0=5'])]\n",
    "print(mses2)"
   ]
  },
  {
   "cell_type": "code",
   "execution_count": 22,
   "id": "5538cb0a",
   "metadata": {},
   "outputs": [
    {
     "data": {
      "image/png": "[encoded data removed]",
      "text/plain": [
       "<Figure size 720x720 with 1 Axes>"
      ]
     },
     "metadata": {
      "needs_background": "light"
     },
     "output_type": "display_data"
    }
   ],
   "source": [
    "plt.figure(figsize = (10,10))\n",
    "plt.scatter(y=mses2,\n",
    "           x=[-4,-3,-2,-1,0,1,2,3,4,5])\n",
    "plt.plot([-4,-3,-2,-1,0,1,2,3,4,5],\n",
    "        mses2)\n",
    "plt.show()"
   ]
  },
  {
   "cell_type": "code",
   "execution_count": 23,
   "id": "72ae24ce",
   "metadata": {},
   "outputs": [
    {
     "name": "stdout",
     "output_type": "stream",
     "text": [
      "[[1 1 1 1 1 1]\n",
      " [1 1 1 1 1 2]]\n"
     ]
    }
   ],
   "source": [
    "X = np.array([[1,1],\n",
    "             [1,1],\n",
    "             [1,1],\n",
    "             [1,1],\n",
    "             [1,1],\n",
    "             [1,2]])\n",
    "Xt = X.transpose()\n",
    "print(Xt)\n",
    "\n",
    "y = np.array([[1.0],\n",
    "              [0.8],\n",
    "              [1.2],\n",
    "              [1.1],\n",
    "              [0.7],\n",
    "              [2.0]])\n"
   ]
  },
  {
   "cell_type": "code",
   "execution_count": 24,
   "id": "cbb3cc37",
   "metadata": {},
   "outputs": [
    {
     "name": "stdout",
     "output_type": "stream",
     "text": [
      "[[6 7]\n",
      " [7 9]]\n"
     ]
    }
   ],
   "source": [
    "print(Xt@X)"
   ]
  },
  {
   "cell_type": "code",
   "execution_count": 25,
   "id": "ae683cac",
   "metadata": {},
   "outputs": [
    {
     "name": "stdout",
     "output_type": "stream",
     "text": [
      "[[ 1.8 -1.4]\n",
      " [-1.4  1.2]]\n"
     ]
    }
   ],
   "source": [
    "print(np.linalg.inv(Xt@X))"
   ]
  },
  {
   "cell_type": "code",
   "execution_count": 26,
   "id": "ed1f005b",
   "metadata": {},
   "outputs": [
    {
     "name": "stdout",
     "output_type": "stream",
     "text": [
      "[[6.8]\n",
      " [8.8]]\n"
     ]
    }
   ],
   "source": [
    "print(Xt@y)"
   ]
  },
  {
   "cell_type": "code",
   "execution_count": 27,
   "id": "b891e6f7",
   "metadata": {},
   "outputs": [
    {
     "data": {
      "text/plain": [
       "array([[ 1.8, -1.4],\n",
       "       [-1.4,  1.2]])"
      ]
     },
     "execution_count": 27,
     "metadata": {},
     "output_type": "execute_result"
    }
   ],
   "source": [
    "Xt_1 = np.linalg.inv(Xt@X)\n",
    "Xt_1"
   ]
  },
  {
   "cell_type": "code",
   "execution_count": 28,
   "id": "03a4b4af",
   "metadata": {},
   "outputs": [
    {
     "name": "stdout",
     "output_type": "stream",
     "text": [
      "[[ 1.8 -1.4]\n",
      " [-1.4  1.2]]\n",
      "[[1. ]\n",
      " [0.8]\n",
      " [1.2]\n",
      " [1.1]\n",
      " [0.7]\n",
      " [2. ]]\n",
      "[[ 0.4  0.4  0.4  0.4  0.4 -1. ]\n",
      " [-0.2 -0.2 -0.2 -0.2 -0.2  1. ]]\n",
      "[[-0.08]\n",
      " [ 1.04]]\n",
      "[[-0.08  1.04]]\n"
     ]
    }
   ],
   "source": [
    "print(Xt_1)\n",
    "print(y)\n",
    "print(Xt_1@Xt)\n",
    "print((Xt_1@Xt)@y)\n",
    "w = (Xt_1@Xt)@y\n",
    "print(w.transpose())"
   ]
  },
  {
   "cell_type": "code",
   "execution_count": 29,
   "id": "0ca51476",
   "metadata": {},
   "outputs": [
    {
     "data": {
      "text/html": [
       "<div>\n",
       "<style scoped>\n",
       "    .dataframe tbody tr th:only-of-type {\n",
       "        vertical-align: middle;\n",
       "    }\n",
       "\n",
       "    .dataframe tbody tr th {\n",
       "        vertical-align: top;\n",
       "    }\n",
       "\n",
       "    .dataframe thead th {\n",
       "        text-align: right;\n",
       "    }\n",
       "</style>\n",
       "<table border=\"1\" class=\"dataframe\">\n",
       "  <thead>\n",
       "    <tr style=\"text-align: right;\">\n",
       "      <th></th>\n",
       "      <th>x</th>\n",
       "      <th>y</th>\n",
       "      <th>x_squared</th>\n",
       "      <th>x_cubed</th>\n",
       "    </tr>\n",
       "  </thead>\n",
       "  <tbody>\n",
       "    <tr>\n",
       "      <th>0</th>\n",
       "      <td>1.0</td>\n",
       "      <td>2.2</td>\n",
       "      <td>1.00</td>\n",
       "      <td>1.000</td>\n",
       "    </tr>\n",
       "    <tr>\n",
       "      <th>1</th>\n",
       "      <td>2.0</td>\n",
       "      <td>3.5</td>\n",
       "      <td>4.00</td>\n",
       "      <td>8.000</td>\n",
       "    </tr>\n",
       "    <tr>\n",
       "      <th>2</th>\n",
       "      <td>3.0</td>\n",
       "      <td>3.9</td>\n",
       "      <td>9.00</td>\n",
       "      <td>27.000</td>\n",
       "    </tr>\n",
       "    <tr>\n",
       "      <th>3</th>\n",
       "      <td>5.0</td>\n",
       "      <td>2.9</td>\n",
       "      <td>25.00</td>\n",
       "      <td>125.000</td>\n",
       "    </tr>\n",
       "    <tr>\n",
       "      <th>4</th>\n",
       "      <td>7.0</td>\n",
       "      <td>5.0</td>\n",
       "      <td>49.00</td>\n",
       "      <td>343.000</td>\n",
       "    </tr>\n",
       "    <tr>\n",
       "      <th>5</th>\n",
       "      <td>8.0</td>\n",
       "      <td>6.2</td>\n",
       "      <td>64.00</td>\n",
       "      <td>512.000</td>\n",
       "    </tr>\n",
       "    <tr>\n",
       "      <th>6</th>\n",
       "      <td>2.5</td>\n",
       "      <td>3.0</td>\n",
       "      <td>6.25</td>\n",
       "      <td>15.625</td>\n",
       "    </tr>\n",
       "    <tr>\n",
       "      <th>7</th>\n",
       "      <td>8.0</td>\n",
       "      <td>4.8</td>\n",
       "      <td>64.00</td>\n",
       "      <td>512.000</td>\n",
       "    </tr>\n",
       "  </tbody>\n",
       "</table>\n",
       "</div>"
      ],
      "text/plain": [
       "     x    y  x_squared  x_cubed\n",
       "0  1.0  2.2       1.00    1.000\n",
       "1  2.0  3.5       4.00    8.000\n",
       "2  3.0  3.9       9.00   27.000\n",
       "3  5.0  2.9      25.00  125.000\n",
       "4  7.0  5.0      49.00  343.000\n",
       "5  8.0  6.2      64.00  512.000\n",
       "6  2.5  3.0       6.25   15.625\n",
       "7  8.0  4.8      64.00  512.000"
      ]
     },
     "execution_count": 29,
     "metadata": {},
     "output_type": "execute_result"
    }
   ],
   "source": [
    "df_polynomial = pd.DataFrame({\n",
    "    'x': [1,2,3,5,7,8,2.5,8],\n",
    "    'y': [2.2,3.5,3.9,2.9,5,6.2,3,4.8]\n",
    "})\n",
    "df_polynomial['x_squared'] = df_polynomial.x**2\n",
    "df_polynomial['x_cubed'] = df_polynomial.x**3\n",
    "df_polynomial"
   ]
  },
  {
   "cell_type": "code",
   "execution_count": 30,
   "id": "18563c13",
   "metadata": {},
   "outputs": [
    {
     "name": "stdout",
     "output_type": "stream",
     "text": [
      "[[2.7167995 ]\n",
      " [0.03485877]\n",
      " [0.03821489]]\n"
     ]
    },
    {
     "data": {
      "text/plain": [
       "array([[2.7167995 , 0.03485877, 0.03821489]])"
      ]
     },
     "execution_count": 30,
     "metadata": {},
     "output_type": "execute_result"
    }
   ],
   "source": [
    "X_squared_matrix = np.array([[1, 1, 1],\n",
    "                            [1,2,4],\n",
    "                            [1,3,9],\n",
    "                            [1,5,25],\n",
    "                           [1,7,49],\n",
    "                             [1,8,64],\n",
    "                             [1,2.5,6.25],\n",
    "                             [1,8,64]])\n",
    "y = np.array([[2.2],\n",
    "             [3.5],\n",
    "             [3.9],\n",
    "             [2.9],\n",
    "            [5.0],\n",
    "             [6.2],\n",
    "             [3.0],\n",
    "             [4.8]])\n",
    "\n",
    "X_squared_T = X_squared_matrix.transpose()\n",
    "X_squared_T_inv = np.linalg.inv(X_squared_T@X_squared_matrix)\n",
    "print((X_squared_T_inv@X_squared_T)@y)\n",
    "ws_squared = ((X_squared_T_inv@X_squared_T)@y).transpose()\n",
    "ws_squared"
   ]
  },
  {
   "cell_type": "code",
   "execution_count": 31,
   "id": "99753ac0",
   "metadata": {},
   "outputs": [
    {
     "data": {
      "text/plain": [
       "array([[ 0.84346828,  1.95172897, -0.4743834 ,  0.03818664]])"
      ]
     },
     "execution_count": 31,
     "metadata": {},
     "output_type": "execute_result"
    }
   ],
   "source": [
    "X_cubed_matrix = np.array([[1, 1, 1, 1],\n",
    "                            [1,2,4,8],\n",
    "                            [1,3,9,27],\n",
    "                            [1,5,25,125],\n",
    "                           [1,7,49,343],\n",
    "                             [1,8,64,512],\n",
    "                             [1,2.5,6.25,15.625],\n",
    "                             [1,8,64,512]])\n",
    "\n",
    "X_cubed_T = X_cubed_matrix.transpose()\n",
    "X_cubed_T_inv = np.linalg.inv(X_cubed_T@X_cubed_matrix)\n",
    "ws_cubed = ((X_cubed_T_inv@X_cubed_T)@y).transpose()\n",
    "ws_cubed"
   ]
  },
  {
   "cell_type": "code",
   "execution_count": 38,
   "id": "2bc38bc7",
   "metadata": {},
   "outputs": [
    {
     "data": {
      "text/html": [
       "<div>\n",
       "<style scoped>\n",
       "    .dataframe tbody tr th:only-of-type {\n",
       "        vertical-align: middle;\n",
       "    }\n",
       "\n",
       "    .dataframe tbody tr th {\n",
       "        vertical-align: top;\n",
       "    }\n",
       "\n",
       "    .dataframe thead th {\n",
       "        text-align: right;\n",
       "    }\n",
       "</style>\n",
       "<table border=\"1\" class=\"dataframe\">\n",
       "  <thead>\n",
       "    <tr style=\"text-align: right;\">\n",
       "      <th></th>\n",
       "      <th>x</th>\n",
       "      <th>y</th>\n",
       "      <th>x_squared</th>\n",
       "      <th>x_cubed</th>\n",
       "      <th>y_pred_quadratic</th>\n",
       "      <th>y_pred_cubatic</th>\n",
       "    </tr>\n",
       "  </thead>\n",
       "  <tbody>\n",
       "    <tr>\n",
       "      <th>0</th>\n",
       "      <td>1.0</td>\n",
       "      <td>2.2</td>\n",
       "      <td>1.00</td>\n",
       "      <td>1.000</td>\n",
       "      <td>2.789873</td>\n",
       "      <td>2.320814</td>\n",
       "    </tr>\n",
       "    <tr>\n",
       "      <th>1</th>\n",
       "      <td>2.0</td>\n",
       "      <td>3.5</td>\n",
       "      <td>4.00</td>\n",
       "      <td>8.000</td>\n",
       "      <td>2.939377</td>\n",
       "      <td>2.849393</td>\n",
       "    </tr>\n",
       "    <tr>\n",
       "      <th>2</th>\n",
       "      <td>3.0</td>\n",
       "      <td>3.9</td>\n",
       "      <td>9.00</td>\n",
       "      <td>27.000</td>\n",
       "      <td>3.165310</td>\n",
       "      <td>2.429205</td>\n",
       "    </tr>\n",
       "    <tr>\n",
       "      <th>3</th>\n",
       "      <td>5.0</td>\n",
       "      <td>2.9</td>\n",
       "      <td>25.00</td>\n",
       "      <td>125.000</td>\n",
       "      <td>3.846466</td>\n",
       "      <td>-1.257472</td>\n",
       "    </tr>\n",
       "    <tr>\n",
       "      <th>4</th>\n",
       "      <td>7.0</td>\n",
       "      <td>5.0</td>\n",
       "      <td>49.00</td>\n",
       "      <td>343.000</td>\n",
       "      <td>4.833340</td>\n",
       "      <td>-8.739216</td>\n",
       "    </tr>\n",
       "    <tr>\n",
       "      <th>5</th>\n",
       "      <td>8.0</td>\n",
       "      <td>6.2</td>\n",
       "      <td>64.00</td>\n",
       "      <td>512.000</td>\n",
       "      <td>5.441422</td>\n",
       "      <td>-13.903238</td>\n",
       "    </tr>\n",
       "    <tr>\n",
       "      <th>6</th>\n",
       "      <td>2.5</td>\n",
       "      <td>3.0</td>\n",
       "      <td>6.25</td>\n",
       "      <td>15.625</td>\n",
       "      <td>3.042789</td>\n",
       "      <td>2.757894</td>\n",
       "    </tr>\n",
       "    <tr>\n",
       "      <th>7</th>\n",
       "      <td>8.0</td>\n",
       "      <td>4.8</td>\n",
       "      <td>64.00</td>\n",
       "      <td>512.000</td>\n",
       "      <td>5.441422</td>\n",
       "      <td>-13.903238</td>\n",
       "    </tr>\n",
       "  </tbody>\n",
       "</table>\n",
       "</div>"
      ],
      "text/plain": [
       "     x    y  x_squared  x_cubed  y_pred_quadratic  y_pred_cubatic\n",
       "0  1.0  2.2       1.00    1.000          2.789873        2.320814\n",
       "1  2.0  3.5       4.00    8.000          2.939377        2.849393\n",
       "2  3.0  3.9       9.00   27.000          3.165310        2.429205\n",
       "3  5.0  2.9      25.00  125.000          3.846466       -1.257472\n",
       "4  7.0  5.0      49.00  343.000          4.833340       -8.739216\n",
       "5  8.0  6.2      64.00  512.000          5.441422      -13.903238\n",
       "6  2.5  3.0       6.25   15.625          3.042789        2.757894\n",
       "7  8.0  4.8      64.00  512.000          5.441422      -13.903238"
      ]
     },
     "execution_count": 38,
     "metadata": {},
     "output_type": "execute_result"
    }
   ],
   "source": [
    "df_polynomial\n",
    "\n",
    "df_polynomial['y_pred_quadratic'] = ws_squared[0][0] + ws_squared[0][1]*df_polynomial['x'] + ws_squared[0][2]*df_polynomial['x']**2\n",
    "df_polynomial['y_pred_cubatic'] = ws_cubed[0][0] + ws_cubed[0][1]*df_polynomial['x'] + ws_cubed[0][2]*df_polynomial['x']**2\n",
    "+ ws_cubed[0][3]*df_polynomial['x']**3\n",
    "#print(ws_squared[0][1])\n",
    "df_polynomial"
   ]
  },
  {
   "cell_type": "code",
   "execution_count": 45,
   "id": "46960d96",
   "metadata": {},
   "outputs": [
    {
     "data": {
      "image/png": "[encoded data removed]",
      "text/plain": [
       "<Figure size 432x288 with 1 Axes>"
      ]
     },
     "metadata": {
      "needs_background": "light"
     },
     "output_type": "display_data"
    }
   ],
   "source": [
    "x = np.arange(1,9,0.1)\n",
    "y = [ws_squared[0][0] + ws_squared[0][1]*x + ws_squared[0][2]*x**2 for x in x]\n",
    "plt.scatter(df_polynomial['x'], df_polynomial['y'])\n",
    "plt.plot(x,y)\n",
    "plt.show()"
   ]
  },
  {
   "cell_type": "code",
   "execution_count": 46,
   "id": "c8f7eae7",
   "metadata": {},
   "outputs": [
    {
     "data": {
      "image/png": "[encoded data removed]",
      "text/plain": [
       "<Figure size 432x288 with 1 Axes>"
      ]
     },
     "metadata": {
      "needs_background": "light"
     },
     "output_type": "display_data"
    }
   ],
   "source": [
    "x = np.arange(1,9,0.1)\n",
    "y = [ws_cubed[0][0] + ws_cubed[0][1]*x + ws_cubed[0][2]*x**2 + ws_cubed[0][3]*x**3 for x in x]\n",
    "plt.scatter(df_polynomial['x'], df_polynomial['y'])\n",
    "plt.plot(x,y)\n",
    "plt.show()"
   ]
  }
 ],
 "metadata": {
  "kernelspec": {
   "display_name": "Python 3",
   "language": "python",
   "name": "python3"
  },
  "language_info": {
   "codemirror_mode": {
    "name": "ipython",
    "version": 3
   },
   "file_extension": ".py",
   "mimetype": "text/x-python",
   "name": "python",
   "nbconvert_exporter": "python",
   "pygments_lexer": "ipython3",
   "version": "3.8.8"
  }
 },
 "nbformat": 4,
 "nbformat_minor": 5
}
