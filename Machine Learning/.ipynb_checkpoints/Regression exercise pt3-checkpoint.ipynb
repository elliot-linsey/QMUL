{
 "cells": [
  {
   "cell_type": "code",
   "execution_count": 67,
   "id": "8d1149d7-29d1-416c-8c57-ae7155029e85",
   "metadata": {},
   "outputs": [],
   "source": [
    "import numpy as np\n",
    "from matplotlib import pyplot as plt\n",
    "import pandas as pd"
   ]
  },
  {
   "cell_type": "code",
   "execution_count": 68,
   "id": "a82baace-428b-4d06-9649-a62d906b171b",
   "metadata": {},
   "outputs": [
    {
     "data": {
      "text/html": [
       "<div>\n",
       "<style scoped>\n",
       "    .dataframe tbody tr th:only-of-type {\n",
       "        vertical-align: middle;\n",
       "    }\n",
       "\n",
       "    .dataframe tbody tr th {\n",
       "        vertical-align: top;\n",
       "    }\n",
       "\n",
       "    .dataframe thead th {\n",
       "        text-align: right;\n",
       "    }\n",
       "</style>\n",
       "<table border=\"1\" class=\"dataframe\">\n",
       "  <thead>\n",
       "    <tr style=\"text-align: right;\">\n",
       "      <th></th>\n",
       "      <th>Animal</th>\n",
       "      <th>BM (g)</th>\n",
       "      <th>HR (bpm)</th>\n",
       "    </tr>\n",
       "  </thead>\n",
       "  <tbody>\n",
       "    <tr>\n",
       "      <th>0</th>\n",
       "      <td>Wild mouse</td>\n",
       "      <td>22</td>\n",
       "      <td>480</td>\n",
       "    </tr>\n",
       "    <tr>\n",
       "      <th>1</th>\n",
       "      <td>White rat</td>\n",
       "      <td>237</td>\n",
       "      <td>347</td>\n",
       "    </tr>\n",
       "    <tr>\n",
       "      <th>2</th>\n",
       "      <td>White mouse</td>\n",
       "      <td>29</td>\n",
       "      <td>376</td>\n",
       "    </tr>\n",
       "    <tr>\n",
       "      <th>3</th>\n",
       "      <td>Talapoin</td>\n",
       "      <td>100</td>\n",
       "      <td>233</td>\n",
       "    </tr>\n",
       "    <tr>\n",
       "      <th>4</th>\n",
       "      <td>Syrian bear</td>\n",
       "      <td>250000</td>\n",
       "      <td>70</td>\n",
       "    </tr>\n",
       "  </tbody>\n",
       "</table>\n",
       "</div>"
      ],
      "text/plain": [
       "        Animal  BM (g)  HR (bpm)\n",
       "0   Wild mouse      22       480\n",
       "1    White rat     237       347\n",
       "2  White mouse      29       376\n",
       "3     Talapoin     100       233\n",
       "4  Syrian bear  250000        70"
      ]
     },
     "execution_count": 68,
     "metadata": {},
     "output_type": "execute_result"
    }
   ],
   "source": [
    "df = pd.read_csv('AnimalsHRvsBM.csv')\n",
    "df.head()"
   ]
  },
  {
   "cell_type": "code",
   "execution_count": 69,
   "id": "ad782cfb-dd72-4e87-a252-ad913bf21e41",
   "metadata": {},
   "outputs": [
    {
     "data": {
      "text/html": [
       "<div>\n",
       "<style scoped>\n",
       "    .dataframe tbody tr th:only-of-type {\n",
       "        vertical-align: middle;\n",
       "    }\n",
       "\n",
       "    .dataframe tbody tr th {\n",
       "        vertical-align: top;\n",
       "    }\n",
       "\n",
       "    .dataframe thead th {\n",
       "        text-align: right;\n",
       "    }\n",
       "</style>\n",
       "<table border=\"1\" class=\"dataframe\">\n",
       "  <thead>\n",
       "    <tr style=\"text-align: right;\">\n",
       "      <th></th>\n",
       "      <th>Animal</th>\n",
       "      <th>BM (g)</th>\n",
       "      <th>HR (bpm)</th>\n",
       "      <th>BM_log</th>\n",
       "      <th>HR_log</th>\n",
       "    </tr>\n",
       "  </thead>\n",
       "  <tbody>\n",
       "    <tr>\n",
       "      <th>0</th>\n",
       "      <td>Wild mouse</td>\n",
       "      <td>22</td>\n",
       "      <td>480</td>\n",
       "      <td>1.342423</td>\n",
       "      <td>2.681241</td>\n",
       "    </tr>\n",
       "    <tr>\n",
       "      <th>1</th>\n",
       "      <td>White rat</td>\n",
       "      <td>237</td>\n",
       "      <td>347</td>\n",
       "      <td>2.374748</td>\n",
       "      <td>2.540329</td>\n",
       "    </tr>\n",
       "    <tr>\n",
       "      <th>2</th>\n",
       "      <td>White mouse</td>\n",
       "      <td>29</td>\n",
       "      <td>376</td>\n",
       "      <td>1.462398</td>\n",
       "      <td>2.575188</td>\n",
       "    </tr>\n",
       "    <tr>\n",
       "      <th>3</th>\n",
       "      <td>Talapoin</td>\n",
       "      <td>100</td>\n",
       "      <td>233</td>\n",
       "      <td>2.000000</td>\n",
       "      <td>2.367356</td>\n",
       "    </tr>\n",
       "    <tr>\n",
       "      <th>4</th>\n",
       "      <td>Syrian bear</td>\n",
       "      <td>250000</td>\n",
       "      <td>70</td>\n",
       "      <td>5.397940</td>\n",
       "      <td>1.845098</td>\n",
       "    </tr>\n",
       "  </tbody>\n",
       "</table>\n",
       "</div>"
      ],
      "text/plain": [
       "        Animal  BM (g)  HR (bpm)    BM_log    HR_log\n",
       "0   Wild mouse      22       480  1.342423  2.681241\n",
       "1    White rat     237       347  2.374748  2.540329\n",
       "2  White mouse      29       376  1.462398  2.575188\n",
       "3     Talapoin     100       233  2.000000  2.367356\n",
       "4  Syrian bear  250000        70  5.397940  1.845098"
      ]
     },
     "execution_count": 69,
     "metadata": {},
     "output_type": "execute_result"
    }
   ],
   "source": [
    "df['BM_log'] = np.log10(df['BM (g)'])\n",
    "df['HR_log'] = np.log10(df['HR (bpm)'])\n",
    "df.head()"
   ]
  },
  {
   "cell_type": "code",
   "execution_count": 70,
   "id": "f400fdc6-e019-48ca-a153-a66f4632f9c9",
   "metadata": {},
   "outputs": [],
   "source": [
    "x = df.BM_log\n",
    "y = df.HR_log"
   ]
  },
  {
   "cell_type": "code",
   "execution_count": 71,
   "id": "5c6ee48c-67bb-4fdb-8476-22d7219c57f2",
   "metadata": {},
   "outputs": [
    {
     "name": "stdout",
     "output_type": "stream",
     "text": [
      "[[1.         1.34242268]\n",
      " [1.         2.37474835]\n",
      " [1.         1.462398  ]\n",
      " [1.         2.        ]\n",
      " [1.         5.39794001]\n",
      " [1.         2.2764618 ]\n",
      " [1.         3.69897   ]\n",
      " [1.         5.34242268]\n",
      " [1.         4.70757018]\n",
      " [1.         4.31597035]\n",
      " [1.         2.41497335]\n",
      " [1.         3.39794001]\n",
      " [1.         5.57403127]\n",
      " [1.         1.34242268]\n",
      " [1.         5.        ]\n",
      " [1.         1.43136376]\n",
      " [1.         3.81954394]\n",
      " [1.         7.47712125]\n",
      " [1.         4.81954394]\n",
      " [1.         5.69372695]\n",
      " [1.         1.95424251]\n",
      " [1.         2.77305469]\n",
      " [1.         4.96189547]\n",
      " [1.         6.53617953]\n",
      " [1.         4.39794001]\n",
      " [1.         3.69897   ]\n",
      " [1.         4.70415052]\n",
      " [1.         3.60205999]\n",
      " [1.         5.7363965 ]]\n"
     ]
    }
   ],
   "source": [
    "X = np.column_stack([np.ones(x.shape),x])\n",
    "print(X)"
   ]
  },
  {
   "cell_type": "code",
   "execution_count": 72,
   "id": "b798ff24-b6e9-401f-9179-9cab00688307",
   "metadata": {},
   "outputs": [
    {
     "data": {
      "text/plain": [
       "array([ 2.96088925, -0.21225037])"
      ]
     },
     "execution_count": 72,
     "metadata": {},
     "output_type": "execute_result"
    }
   ],
   "source": [
    "w = np.dot(np.dot(np.linalg.inv(np.dot(X.T, X)), X.T), y)\n",
    "w"
   ]
  },
  {
   "cell_type": "code",
   "execution_count": 73,
   "id": "40dcebe9",
   "metadata": {},
   "outputs": [
    {
     "data": {
      "text/plain": [
       "array([[1. , 0. ],\n",
       "       [1. , 0.1],\n",
       "       [1. , 0.2],\n",
       "       [1. , 0.3],\n",
       "       [1. , 0.4]])"
      ]
     },
     "execution_count": 73,
     "metadata": {},
     "output_type": "execute_result"
    }
   ],
   "source": [
    "x_range = np.arange(0,8,0.1)\n",
    "X_range = np.column_stack([np.ones(x_range.shape),x_range])\n",
    "X_range[:5]"
   ]
  },
  {
   "cell_type": "code",
   "execution_count": 74,
   "id": "f7c5c2eb",
   "metadata": {},
   "outputs": [
    {
     "data": {
      "text/plain": [
       "array([2.96088925, 2.93966421, 2.91843917, 2.89721414, 2.8759891 ,\n",
       "       2.85476406, 2.83353903, 2.81231399, 2.79108896, 2.76986392,\n",
       "       2.74863888, 2.72741385, 2.70618881, 2.68496377, 2.66373874,\n",
       "       2.6425137 , 2.62128866, 2.60006363, 2.57883859, 2.55761355,\n",
       "       2.53638852, 2.51516348, 2.49393844, 2.47271341, 2.45148837,\n",
       "       2.43026333, 2.4090383 , 2.38781326, 2.36658822, 2.34536319,\n",
       "       2.32413815, 2.30291311, 2.28168808, 2.26046304, 2.239238  ,\n",
       "       2.21801297, 2.19678793, 2.17556289, 2.15433786, 2.13311282,\n",
       "       2.11188779, 2.09066275, 2.06943771, 2.04821268, 2.02698764,\n",
       "       2.0057626 , 1.98453757, 1.96331253, 1.94208749, 1.92086246,\n",
       "       1.89963742, 1.87841238, 1.85718735, 1.83596231, 1.81473727,\n",
       "       1.79351224, 1.7722872 , 1.75106216, 1.72983713, 1.70861209,\n",
       "       1.68738705, 1.66616202, 1.64493698, 1.62371194, 1.60248691,\n",
       "       1.58126187, 1.56003683, 1.5388118 , 1.51758676, 1.49636173,\n",
       "       1.47513669, 1.45391165, 1.43268662, 1.41146158, 1.39023654,\n",
       "       1.36901151, 1.34778647, 1.32656143, 1.3053364 , 1.28411136])"
      ]
     },
     "execution_count": 74,
     "metadata": {},
     "output_type": "execute_result"
    }
   ],
   "source": [
    "ys_test = np.dot(X_range, w)\n",
    "ys_test"
   ]
  },
  {
   "cell_type": "code",
   "execution_count": 75,
   "id": "3acab5aa-d9c7-4160-8a8c-b41bc65e4678",
   "metadata": {},
   "outputs": [
    {
     "data": {
      "text/plain": [
       "array([2.67595954, 2.45684804, 2.65049474, 2.53638852, 1.81517451,\n",
       "       2.4777094 , 2.17578151, 1.82695808, 1.96170576, 2.04482296,\n",
       "       2.44831027, 2.23967524, 1.77779907, 2.67595954, 1.89963742,\n",
       "       2.65708177, 2.15018965, 1.37386753, 1.93793929, 1.75239362,\n",
       "       2.54610056, 2.37230738, 1.90772512, 1.57358275, 2.02742487,\n",
       "       2.17578151, 1.96243158, 2.1963507 , 1.74333699])"
      ]
     },
     "execution_count": 75,
     "metadata": {},
     "output_type": "execute_result"
    }
   ],
   "source": [
    "ys = np.dot(X,w)\n",
    "ys"
   ]
  },
  {
   "cell_type": "code",
   "execution_count": 76,
   "id": "ed5db7a6",
   "metadata": {},
   "outputs": [
    {
     "name": "stdout",
     "output_type": "stream",
     "text": [
      "[474.19780875 286.31759867 447.19273336 343.86542965  65.33930452\n",
      " 300.40654981 149.89305528  67.13640477  91.55999427 110.87227629\n",
      " 280.74386311 173.6501803   59.95136467 474.19780875  79.36653492\n",
      " 454.02708903 141.31545168  23.65198135  86.68406826  56.54492356\n",
      " 351.64185347 235.67166776  80.85839554  37.46129208 106.51845854\n",
      " 149.89305528  91.7131438  157.16314019  55.37796506]\n"
     ]
    }
   ],
   "source": [
    "print(10**ys)"
   ]
  },
  {
   "cell_type": "code",
   "execution_count": null,
   "id": "7139f1e0",
   "metadata": {},
   "outputs": [],
   "source": []
  },
  {
   "cell_type": "code",
   "execution_count": 77,
   "id": "1d5e1456-9071-4b29-b97a-5c41ba8dfe99",
   "metadata": {},
   "outputs": [
    {
     "data": {
      "image/png": "[encoded data removed]",
      "text/plain": [
       "<Figure size 432x288 with 1 Axes>"
      ]
     },
     "metadata": {
      "needs_background": "light"
     },
     "output_type": "display_data"
    }
   ],
   "source": [
    "plt.scatter(x,y)\n",
    "plt.plot(x,ys)\n",
    "plt.show()"
   ]
  },
  {
   "cell_type": "code",
   "execution_count": 78,
   "id": "ec33295d-961c-4314-8924-b1a98c63c955",
   "metadata": {
    "scrolled": true
   },
   "outputs": [
    {
     "name": "stdout",
     "output_type": "stream",
     "text": [
      "[[ 1.          1.34242268  1.80209865]\n",
      " [ 1.          2.37474835  5.63942971]\n",
      " [ 1.          1.462398    2.1386079 ]\n",
      " [ 1.          2.          4.        ]\n",
      " [ 1.          5.39794001 29.13775634]]\n"
     ]
    }
   ],
   "source": [
    "X_quad = np.column_stack([np.ones(x.shape),x, x**2])\n",
    "print(X_quad[0:5])"
   ]
  },
  {
   "cell_type": "code",
   "execution_count": 79,
   "id": "2a1b9638",
   "metadata": {},
   "outputs": [],
   "source": [
    "y_normal = df['HR (bpm)']"
   ]
  },
  {
   "cell_type": "code",
   "execution_count": 80,
   "id": "63bf7abe",
   "metadata": {},
   "outputs": [
    {
     "data": {
      "text/plain": [
       "array([523.4278885 , -84.14283701])"
      ]
     },
     "execution_count": 80,
     "metadata": {},
     "output_type": "execute_result"
    }
   ],
   "source": [
    "w = np.dot(np.dot(np.linalg.inv(np.dot(X.T, X)), X.T), y_normal)\n",
    "w"
   ]
  },
  {
   "cell_type": "code",
   "execution_count": 81,
   "id": "f6daece8",
   "metadata": {},
   "outputs": [
    {
     "data": {
      "text/plain": [
       "array([ 410.47263567,  323.60982549,  400.37757212,  355.14221449,\n",
       "         69.22990217,  331.87993396,  212.18605833,   73.90128764,\n",
       "        127.31957847,  160.26989919,  320.22517971,  237.51557619,\n",
       "         54.41308406,  410.47263567,  102.71370346,  402.9888806 ,\n",
       "        202.04062569, -105.71830652,  117.89778868,   44.34154987,\n",
       "        358.99237956,  290.09519942,  105.91992641,  -26.54480053,\n",
       "        153.37273918,  212.18605833,  127.6073183 ,  220.34034176,\n",
       "         40.7512126 ])"
      ]
     },
     "execution_count": 81,
     "metadata": {},
     "output_type": "execute_result"
    }
   ],
   "source": [
    "ys_normal = np.dot(X, w)\n",
    "ys_normal"
   ]
  },
  {
   "cell_type": "code",
   "execution_count": 84,
   "id": "9dbbeef5",
   "metadata": {},
   "outputs": [
    {
     "data": {
      "image/png": "[encoded data removed]",
      "text/plain": [
       "<Figure size 432x288 with 1 Axes>"
      ]
     },
     "metadata": {
      "needs_background": "light"
     },
     "output_type": "display_data"
    }
   ],
   "source": [
    "plt.scatter(x, df['HR (bpm)'])\n",
    "plt.plot(x_range,10**ys_test)\n",
    "plt.show()"
   ]
  },
  {
   "cell_type": "code",
   "execution_count": null,
   "id": "4e7372d3",
   "metadata": {},
   "outputs": [],
   "source": []
  }
 ],
 "metadata": {
  "kernelspec": {
   "display_name": "Python 3",
   "language": "python",
   "name": "python3"
  },
  "language_info": {
   "codemirror_mode": {
    "name": "ipython",
    "version": 3
   },
   "file_extension": ".py",
   "mimetype": "text/x-python",
   "name": "python",
   "nbconvert_exporter": "python",
   "pygments_lexer": "ipython3",
   "version": "3.8.8"
  }
 },
 "nbformat": 4,
 "nbformat_minor": 5
}
