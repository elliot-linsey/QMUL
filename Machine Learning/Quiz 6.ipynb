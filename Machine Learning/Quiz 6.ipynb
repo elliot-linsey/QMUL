{
  "nbformat": 4,
  "nbformat_minor": 0,
  "metadata": {
    "colab": {
      "name": "Untitled2.ipynb",
      "provenance": [],
      "authorship_tag": "ABX9TyO97jGeVQbClsPutf9pMItC",
      "include_colab_link": true
    },
    "kernelspec": {
      "name": "python3",
      "display_name": "Python 3"
    },
    "language_info": {
      "name": "python"
    }
  },
  "cells": [
    {
      "cell_type": "markdown",
      "metadata": {
        "id": "view-in-github",
        "colab_type": "text"
      },
      "source": [
        "<a href=\"https://colab.research.google.com/github/elliot-linsey/QMUL/blob/main/Machine%20Learning/Quiz%206.ipynb\" target=\"_parent\"><img src=\"https://colab.research.google.com/assets/colab-badge.svg\" alt=\"Open In Colab\"/></a>"
      ]
    },
    {
      "cell_type": "code",
      "metadata": {
        "id": "a1yrb_ycjq_T"
      },
      "source": [
        "from sklearn import neighbors\n",
        "import numpy as np"
      ],
      "execution_count": 1,
      "outputs": []
    },
    {
      "cell_type": "code",
      "metadata": {
        "id": "AhWMnHosjvV_"
      },
      "source": [
        "x_train = np.load('quiz6_x_train.npy')\n",
        "y_train = np.load('quiz6_y_train.npy')\n",
        "x_val = np.load('quiz6_x_val.npy')\n",
        "y_val = np.load('quiz6_y_val.npy')"
      ],
      "execution_count": 2,
      "outputs": []
    },
    {
      "cell_type": "code",
      "metadata": {
        "colab": {
          "base_uri": "https://localhost:8080/"
        },
        "id": "Cs4qtFpCjvYe",
        "outputId": "3b2ef7f2-4bb2-4c5a-e86e-531526039072"
      },
      "source": [
        "knn = neighbors.KNeighborsClassifier(n_neighbors=10)\n",
        "knn.fit(x_train, y_train)\n",
        "\n",
        "y_val_pred = knn.predict(x_val)\n",
        "accuracy_v = np.sum(y_val==y_val_pred)/len(y_val)\n",
        "accuracy_v"
      ],
      "execution_count": 7,
      "outputs": [
        {
          "output_type": "execute_result",
          "data": {
            "text/plain": [
              "0.92"
            ]
          },
          "metadata": {},
          "execution_count": 7
        }
      ]
    },
    {
      "cell_type": "code",
      "metadata": {
        "id": "hRGYfPSzjvau"
      },
      "source": [
        "from sklearn.linear_model import LogisticRegression"
      ],
      "execution_count": 8,
      "outputs": []
    },
    {
      "cell_type": "code",
      "metadata": {
        "colab": {
          "base_uri": "https://localhost:8080/"
        },
        "id": "gfnALcsnkbHg",
        "outputId": "b9bb8c05-45c1-42fa-fd58-c2fa9c15a224"
      },
      "source": [
        "log_reg_classifier = LogisticRegression(C=1e6, solver='lbfgs', multi_class='multinomial')\n",
        "log_reg_classifier.fit(x_train, y_train)\n",
        "log_reg_classifier.score(x_val, y_val)"
      ],
      "execution_count": 9,
      "outputs": [
        {
          "output_type": "execute_result",
          "data": {
            "text/plain": [
              "0.9333333333333333"
            ]
          },
          "metadata": {},
          "execution_count": 9
        }
      ]
    },
    {
      "cell_type": "code",
      "metadata": {
        "colab": {
          "base_uri": "https://localhost:8080/"
        },
        "id": "6bfJ2DDjkbJ2",
        "outputId": "f883fa29-25cd-4664-d8d3-38cc04c3525b"
      },
      "source": [
        "from sklearn.metrics import confusion_matrix\n",
        "val_confusion_matrix = confusion_matrix(y_true=y_val, y_pred=log_reg_classifier.predict(x_val))\n",
        "val_confusion_matrix_normalised = val_confusion_matrix.astype('float') / val_confusion_matrix.sum(axis=1)[:, np.newaxis]\n",
        "val_confusion_matrix_normalised"
      ],
      "execution_count": 12,
      "outputs": [
        {
          "output_type": "execute_result",
          "data": {
            "text/plain": [
              "array([[1.  , 0.  , 0.  ],\n",
              "       [0.  , 0.96, 0.04],\n",
              "       [0.  , 0.16, 0.84]])"
            ]
          },
          "metadata": {},
          "execution_count": 12
        }
      ]
    },
    {
      "cell_type": "code",
      "metadata": {
        "colab": {
          "base_uri": "https://localhost:8080/"
        },
        "id": "NpdQtuZqkbMP",
        "outputId": "64a32752-33b1-419a-f974-f3ec50d3c7e7"
      },
      "source": [
        "from sklearn.naive_bayes import GaussianNB\n",
        "gnb_A = GaussianNB()\n",
        "gnb_A.fit(x_train, y_train)"
      ],
      "execution_count": 14,
      "outputs": [
        {
          "output_type": "execute_result",
          "data": {
            "text/plain": [
              "GaussianNB(priors=None, var_smoothing=1e-09)"
            ]
          },
          "metadata": {},
          "execution_count": 14
        }
      ]
    },
    {
      "cell_type": "code",
      "metadata": {
        "colab": {
          "base_uri": "https://localhost:8080/"
        },
        "id": "-445844tlfOw",
        "outputId": "08dacc6d-6ecb-4954-948c-5e0a8d6a5e4a"
      },
      "source": [
        "val_confusion_matrix_naive_A = confusion_matrix(y_true=y_val, y_pred=gnb_A.predict(x_val))\n",
        "val_confusion_matrix_normalised_naive_A = val_confusion_matrix_naive_A.astype('float') / val_confusion_matrix_naive_A.sum(axis=1)[:, np.newaxis]\n",
        "val_confusion_matrix_normalised_naive_A"
      ],
      "execution_count": 15,
      "outputs": [
        {
          "output_type": "execute_result",
          "data": {
            "text/plain": [
              "array([[1.  , 0.  , 0.  ],\n",
              "       [0.  , 0.96, 0.04],\n",
              "       [0.  , 0.08, 0.92]])"
            ]
          },
          "metadata": {},
          "execution_count": 15
        }
      ]
    },
    {
      "cell_type": "code",
      "metadata": {
        "id": "i7zwR7XGlfRJ"
      },
      "source": [
        "x_train = x_train[::,2:]\n",
        "x_val = x_val[::,2:]"
      ],
      "execution_count": 21,
      "outputs": []
    },
    {
      "cell_type": "code",
      "metadata": {
        "colab": {
          "base_uri": "https://localhost:8080/"
        },
        "id": "Db-qZkkYmd4o",
        "outputId": "985c8cda-524d-48ac-d5a1-512d45669cdc"
      },
      "source": [
        "log_reg_classifier = LogisticRegression(C=1e6, solver='lbfgs', multi_class='multinomial')\n",
        "log_reg_classifier.fit(x_train, y_train)\n",
        "log_reg_classifier.score(x_train,y_train)"
      ],
      "execution_count": 22,
      "outputs": [
        {
          "output_type": "execute_result",
          "data": {
            "text/plain": [
              "0.9733333333333334"
            ]
          },
          "metadata": {},
          "execution_count": 22
        }
      ]
    },
    {
      "cell_type": "code",
      "metadata": {
        "id": "2hxJw12zmd6u"
      },
      "source": [
        ""
      ],
      "execution_count": null,
      "outputs": []
    }
  ]
}