{
 "cells": [
  {
   "cell_type": "code",
   "execution_count": 24,
   "id": "8d1149d7-29d1-416c-8c57-ae7155029e85",
   "metadata": {},
   "outputs": [],
   "source": [
    "import numpy as np\n",
    "from matplotlib import pyplot as plt\n",
    "import pandas as pd"
   ]
  },
  {
   "cell_type": "code",
   "execution_count": 25,
   "id": "a82baace-428b-4d06-9649-a62d906b171b",
   "metadata": {},
   "outputs": [
    {
     "data": {
      "text/html": [
       "<div>\n",
       "<style scoped>\n",
       "    .dataframe tbody tr th:only-of-type {\n",
       "        vertical-align: middle;\n",
       "    }\n",
       "\n",
       "    .dataframe tbody tr th {\n",
       "        vertical-align: top;\n",
       "    }\n",
       "\n",
       "    .dataframe thead th {\n",
       "        text-align: right;\n",
       "    }\n",
       "</style>\n",
       "<table border=\"1\" class=\"dataframe\">\n",
       "  <thead>\n",
       "    <tr style=\"text-align: right;\">\n",
       "      <th></th>\n",
       "      <th>Animal</th>\n",
       "      <th>BM (g)</th>\n",
       "      <th>HR (bpm)</th>\n",
       "    </tr>\n",
       "  </thead>\n",
       "  <tbody>\n",
       "    <tr>\n",
       "      <th>0</th>\n",
       "      <td>Wild mouse</td>\n",
       "      <td>22</td>\n",
       "      <td>480</td>\n",
       "    </tr>\n",
       "    <tr>\n",
       "      <th>1</th>\n",
       "      <td>White rat</td>\n",
       "      <td>237</td>\n",
       "      <td>347</td>\n",
       "    </tr>\n",
       "    <tr>\n",
       "      <th>2</th>\n",
       "      <td>White mouse</td>\n",
       "      <td>29</td>\n",
       "      <td>376</td>\n",
       "    </tr>\n",
       "    <tr>\n",
       "      <th>3</th>\n",
       "      <td>Talapoin</td>\n",
       "      <td>100</td>\n",
       "      <td>233</td>\n",
       "    </tr>\n",
       "    <tr>\n",
       "      <th>4</th>\n",
       "      <td>Syrian bear</td>\n",
       "      <td>250000</td>\n",
       "      <td>70</td>\n",
       "    </tr>\n",
       "  </tbody>\n",
       "</table>\n",
       "</div>"
      ],
      "text/plain": [
       "        Animal  BM (g)  HR (bpm)\n",
       "0   Wild mouse      22       480\n",
       "1    White rat     237       347\n",
       "2  White mouse      29       376\n",
       "3     Talapoin     100       233\n",
       "4  Syrian bear  250000        70"
      ]
     },
     "execution_count": 25,
     "metadata": {},
     "output_type": "execute_result"
    }
   ],
   "source": [
    "df = pd.read_csv('AnimalsHRvsBM.csv')\n",
    "df.head()"
   ]
  },
  {
   "cell_type": "code",
   "execution_count": 26,
   "id": "ad782cfb-dd72-4e87-a252-ad913bf21e41",
   "metadata": {},
   "outputs": [
    {
     "data": {
      "text/html": [
       "<div>\n",
       "<style scoped>\n",
       "    .dataframe tbody tr th:only-of-type {\n",
       "        vertical-align: middle;\n",
       "    }\n",
       "\n",
       "    .dataframe tbody tr th {\n",
       "        vertical-align: top;\n",
       "    }\n",
       "\n",
       "    .dataframe thead th {\n",
       "        text-align: right;\n",
       "    }\n",
       "</style>\n",
       "<table border=\"1\" class=\"dataframe\">\n",
       "  <thead>\n",
       "    <tr style=\"text-align: right;\">\n",
       "      <th></th>\n",
       "      <th>Animal</th>\n",
       "      <th>BM (g)</th>\n",
       "      <th>HR (bpm)</th>\n",
       "      <th>BM_log</th>\n",
       "      <th>HR_log</th>\n",
       "    </tr>\n",
       "  </thead>\n",
       "  <tbody>\n",
       "    <tr>\n",
       "      <th>0</th>\n",
       "      <td>Wild mouse</td>\n",
       "      <td>22</td>\n",
       "      <td>480</td>\n",
       "      <td>1.342423</td>\n",
       "      <td>2.681241</td>\n",
       "    </tr>\n",
       "    <tr>\n",
       "      <th>1</th>\n",
       "      <td>White rat</td>\n",
       "      <td>237</td>\n",
       "      <td>347</td>\n",
       "      <td>2.374748</td>\n",
       "      <td>2.540329</td>\n",
       "    </tr>\n",
       "    <tr>\n",
       "      <th>2</th>\n",
       "      <td>White mouse</td>\n",
       "      <td>29</td>\n",
       "      <td>376</td>\n",
       "      <td>1.462398</td>\n",
       "      <td>2.575188</td>\n",
       "    </tr>\n",
       "    <tr>\n",
       "      <th>3</th>\n",
       "      <td>Talapoin</td>\n",
       "      <td>100</td>\n",
       "      <td>233</td>\n",
       "      <td>2.000000</td>\n",
       "      <td>2.367356</td>\n",
       "    </tr>\n",
       "    <tr>\n",
       "      <th>4</th>\n",
       "      <td>Syrian bear</td>\n",
       "      <td>250000</td>\n",
       "      <td>70</td>\n",
       "      <td>5.397940</td>\n",
       "      <td>1.845098</td>\n",
       "    </tr>\n",
       "  </tbody>\n",
       "</table>\n",
       "</div>"
      ],
      "text/plain": [
       "        Animal  BM (g)  HR (bpm)    BM_log    HR_log\n",
       "0   Wild mouse      22       480  1.342423  2.681241\n",
       "1    White rat     237       347  2.374748  2.540329\n",
       "2  White mouse      29       376  1.462398  2.575188\n",
       "3     Talapoin     100       233  2.000000  2.367356\n",
       "4  Syrian bear  250000        70  5.397940  1.845098"
      ]
     },
     "execution_count": 26,
     "metadata": {},
     "output_type": "execute_result"
    }
   ],
   "source": [
    "df['BM_log'] = np.log10(df['BM (g)'])\n",
    "df['HR_log'] = np.log10(df['HR (bpm)'])\n",
    "df.head()"
   ]
  },
  {
   "cell_type": "code",
   "execution_count": 27,
   "id": "f400fdc6-e019-48ca-a153-a66f4632f9c9",
   "metadata": {},
   "outputs": [],
   "source": [
    "x = df.BM_log\n",
    "y = df.HR_log"
   ]
  },
  {
   "cell_type": "code",
   "execution_count": 28,
   "id": "5c6ee48c-67bb-4fdb-8476-22d7219c57f2",
   "metadata": {},
   "outputs": [
    {
     "name": "stdout",
     "output_type": "stream",
     "text": [
      "[[1.         1.34242268]\n",
      " [1.         2.37474835]\n",
      " [1.         1.462398  ]\n",
      " [1.         2.        ]\n",
      " [1.         5.39794001]]\n"
     ]
    }
   ],
   "source": [
    "X = np.column_stack([np.ones(x.shape),x])\n",
    "print(X[0:5])"
   ]
  },
  {
   "cell_type": "code",
   "execution_count": 29,
   "id": "b798ff24-b6e9-401f-9179-9cab00688307",
   "metadata": {},
   "outputs": [
    {
     "data": {
      "text/plain": [
       "array([ 2.96088925, -0.21225037])"
      ]
     },
     "execution_count": 29,
     "metadata": {},
     "output_type": "execute_result"
    }
   ],
   "source": [
    "w = np.dot(np.dot(np.linalg.inv(np.dot(X.T, X)), X.T), y)\n",
    "w"
   ]
  },
  {
   "cell_type": "code",
   "execution_count": 30,
   "id": "3acab5aa-d9c7-4160-8a8c-b41bc65e4678",
   "metadata": {},
   "outputs": [
    {
     "data": {
      "text/plain": [
       "array([2.67595954, 2.45684804, 2.65049474, 2.53638852, 1.81517451,\n",
       "       2.4777094 , 2.17578151, 1.82695808, 1.96170576, 2.04482296,\n",
       "       2.44831027, 2.23967524, 1.77779907, 2.67595954, 1.89963742,\n",
       "       2.65708177, 2.15018965, 1.37386753, 1.93793929, 1.75239362,\n",
       "       2.54610056, 2.37230738, 1.90772512, 1.57358275, 2.02742487,\n",
       "       2.17578151, 1.96243158, 2.1963507 , 1.74333699])"
      ]
     },
     "execution_count": 30,
     "metadata": {},
     "output_type": "execute_result"
    }
   ],
   "source": [
    "ys = np.dot(X,w)\n",
    "ys"
   ]
  },
  {
   "cell_type": "code",
   "execution_count": 31,
   "id": "6597672e",
   "metadata": {},
   "outputs": [
    {
     "data": {
      "text/plain": [
       "-0.001275452816679702"
      ]
     },
     "execution_count": 31,
     "metadata": {},
     "output_type": "execute_result"
    }
   ],
   "source": [
    "y_log = w[0]*w[1]**5\n",
    "np.exp(y_log"
   ]
  },
  {
   "cell_type": "code",
   "execution_count": 41,
   "id": "f52e260b",
   "metadata": {},
   "outputs": [
    {
     "data": {
      "text/plain": [
       "2.6331669109703723e-82"
      ]
     },
     "execution_count": 41,
     "metadata": {},
     "output_type": "execute_result"
    }
   ],
   "source": [
    "y_log2 = w[0]*10**w[1]*np.log10(5)\n",
    "y_log2"
   ]
  },
  {
   "cell_type": "code",
   "execution_count": 32,
   "id": "1d5e1456-9071-4b29-b97a-5c41ba8dfe99",
   "metadata": {},
   "outputs": [
    {
     "data": {
      "image/png": "[encoded data removed]",
      "text/plain": [
       "<Figure size 432x288 with 1 Axes>"
      ]
     },
     "metadata": {
      "needs_background": "light"
     },
     "output_type": "display_data"
    }
   ],
   "source": [
    "plt.scatter(x,y)\n",
    "plt.plot(x,ys)\n",
    "plt.show()"
   ]
  },
  {
   "cell_type": "code",
   "execution_count": 33,
   "id": "ec33295d-961c-4314-8924-b1a98c63c955",
   "metadata": {
    "scrolled": true
   },
   "outputs": [
    {
     "name": "stdout",
     "output_type": "stream",
     "text": [
      "[[ 1.          1.34242268  1.80209865]\n",
      " [ 1.          2.37474835  5.63942971]\n",
      " [ 1.          1.462398    2.1386079 ]\n",
      " [ 1.          2.          4.        ]\n",
      " [ 1.          5.39794001 29.13775634]]\n"
     ]
    }
   ],
   "source": [
    "X_quad = np.column_stack([np.ones(x.shape),x, x**2])\n",
    "print(X_quad[0:5])"
   ]
  },
  {
   "cell_type": "code",
   "execution_count": 34,
   "id": "2a1b9638",
   "metadata": {},
   "outputs": [],
   "source": [
    "y_normal = df['HR (bpm)']"
   ]
  },
  {
   "cell_type": "code",
   "execution_count": 35,
   "id": "63bf7abe",
   "metadata": {},
   "outputs": [
    {
     "data": {
      "text/plain": [
       "array([523.4278885 , -84.14283701])"
      ]
     },
     "execution_count": 35,
     "metadata": {},
     "output_type": "execute_result"
    }
   ],
   "source": [
    "w = np.dot(np.dot(np.linalg.inv(np.dot(X.T, X)), X.T), y_normal)\n",
    "w"
   ]
  },
  {
   "cell_type": "code",
   "execution_count": 36,
   "id": "f6daece8",
   "metadata": {},
   "outputs": [
    {
     "data": {
      "text/plain": [
       "array([ 410.47263567,  323.60982549,  400.37757212,  355.14221449,\n",
       "         69.22990217,  331.87993396,  212.18605833,   73.90128764,\n",
       "        127.31957847,  160.26989919,  320.22517971,  237.51557619,\n",
       "         54.41308406,  410.47263567,  102.71370346,  402.9888806 ,\n",
       "        202.04062569, -105.71830652,  117.89778868,   44.34154987,\n",
       "        358.99237956,  290.09519942,  105.91992641,  -26.54480053,\n",
       "        153.37273918,  212.18605833,  127.6073183 ,  220.34034176,\n",
       "         40.7512126 ])"
      ]
     },
     "execution_count": 36,
     "metadata": {},
     "output_type": "execute_result"
    }
   ],
   "source": [
    "ys_normal = np.dot(X, w)\n",
    "ys_normal"
   ]
  },
  {
   "cell_type": "code",
   "execution_count": 37,
   "id": "9dbbeef5",
   "metadata": {},
   "outputs": [
    {
     "data": {
      "image/png": "[encoded data removed]",
      "text/plain": [
       "<Figure size 432x288 with 1 Axes>"
      ]
     },
     "metadata": {
      "needs_background": "light"
     },
     "output_type": "display_data"
    }
   ],
   "source": [
    "plt.scatter(x, df['HR (bpm)'])\n",
    "plt.plot(x,ys_normal)\n",
    "plt.show()"
   ]
  },
  {
   "cell_type": "code",
   "execution_count": 38,
   "id": "4e7372d3",
   "metadata": {},
   "outputs": [],
   "source": [
    "test = np.polyfit(x, y,1)\n",
    "test\n",
    "w_exp = np.array([2.96088925, -0.21225037])"
   ]
  },
  {
   "cell_type": "code",
   "execution_count": 39,
   "id": "a4d6fc16",
   "metadata": {},
   "outputs": [
    {
     "data": {
      "text/plain": [
       "13.431550713377195"
      ]
     },
     "execution_count": 39,
     "metadata": {},
     "output_type": "execute_result"
    }
   ],
   "source": [
    "y_test = 10.5340 * 1.0498**5\n",
    "y_test"
   ]
  },
  {
   "cell_type": "code",
   "execution_count": 40,
   "id": "d301ce17",
   "metadata": {},
   "outputs": [
    {
     "ename": "NameError",
     "evalue": "name 'ys_exp' is not defined",
     "output_type": "error",
     "traceback": [
      "\u001b[1;31m---------------------------------------------------------------------------\u001b[0m",
      "\u001b[1;31mNameError\u001b[0m                                 Traceback (most recent call last)",
      "\u001b[1;32m<ipython-input-40-47bff5e44770>\u001b[0m in \u001b[0;36m<module>\u001b[1;34m\u001b[0m\n\u001b[0;32m      1\u001b[0m \u001b[0mplt\u001b[0m\u001b[1;33m.\u001b[0m\u001b[0mscatter\u001b[0m\u001b[1;33m(\u001b[0m\u001b[0mx\u001b[0m\u001b[1;33m,\u001b[0m \u001b[0mdf\u001b[0m\u001b[1;33m[\u001b[0m\u001b[1;34m'HR (bpm)'\u001b[0m\u001b[1;33m]\u001b[0m\u001b[1;33m)\u001b[0m\u001b[1;33m\u001b[0m\u001b[1;33m\u001b[0m\u001b[0m\n\u001b[1;32m----> 2\u001b[1;33m \u001b[0mplt\u001b[0m\u001b[1;33m.\u001b[0m\u001b[0mplot\u001b[0m\u001b[1;33m(\u001b[0m\u001b[0mx\u001b[0m\u001b[1;33m,\u001b[0m\u001b[0mys_exp\u001b[0m\u001b[1;33m)\u001b[0m\u001b[1;33m\u001b[0m\u001b[1;33m\u001b[0m\u001b[0m\n\u001b[0m\u001b[0;32m      3\u001b[0m \u001b[0mplt\u001b[0m\u001b[1;33m.\u001b[0m\u001b[0mshow\u001b[0m\u001b[1;33m(\u001b[0m\u001b[1;33m)\u001b[0m\u001b[1;33m\u001b[0m\u001b[1;33m\u001b[0m\u001b[0m\n",
      "\u001b[1;31mNameError\u001b[0m: name 'ys_exp' is not defined"
     ]
    },
    {
     "data": {
      "image/png": "[encoded data removed]",
      "text/plain": [
       "<Figure size 432x288 with 1 Axes>"
      ]
     },
     "metadata": {
      "needs_background": "light"
     },
     "output_type": "display_data"
    }
   ],
   "source": [
    "plt.scatter(x, df['HR (bpm)'])\n",
    "plt.plot(x,ys_exp)\n",
    "plt.show()"
   ]
  }
 ],
 "metadata": {
  "kernelspec": {
   "display_name": "Python 3",
   "language": "python",
   "name": "python3"
  },
  "language_info": {
   "codemirror_mode": {
    "name": "ipython",
    "version": 3
   },
   "file_extension": ".py",
   "mimetype": "text/x-python",
   "name": "python",
   "nbconvert_exporter": "python",
   "pygments_lexer": "ipython3",
   "version": "3.8.8"
  }
 },
 "nbformat": 4,
 "nbformat_minor": 5
}
