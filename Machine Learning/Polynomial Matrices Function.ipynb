{
 "cells": [
  {
   "cell_type": "code",
   "execution_count": 28,
   "id": "d9bfced3",
   "metadata": {},
   "outputs": [],
   "source": [
    "import numpy as np\n",
    "import pandas as pd\n",
    "from matplotlib import pyplot as plt"
   ]
  },
  {
   "cell_type": "code",
   "execution_count": 29,
   "id": "82cc8491",
   "metadata": {
    "scrolled": true
   },
   "outputs": [],
   "source": [
    "df_polynomial = pd.DataFrame({\n",
    "    'x': [1,2,3,5,7,8,2.5,8],\n",
    "    'y': [2.2,3.5,3.9,2.9,5,6.2,3,4.8]\n",
    "})"
   ]
  },
  {
   "cell_type": "code",
   "execution_count": 30,
   "id": "42c7210b",
   "metadata": {},
   "outputs": [
    {
     "data": {
      "text/plain": [
       "array([2.7167995 , 0.03485877, 0.03821489])"
      ]
     },
     "execution_count": 30,
     "metadata": {},
     "output_type": "execute_result"
    }
   ],
   "source": [
    "ws_squared = np.array([2.7167995,0.03485877,0.03821489])\n",
    "ws_squared"
   ]
  },
  {
   "cell_type": "code",
   "execution_count": 31,
   "id": "c22af7d5",
   "metadata": {},
   "outputs": [
    {
     "data": {
      "text/html": [
       "<div>\n",
       "<style scoped>\n",
       "    .dataframe tbody tr th:only-of-type {\n",
       "        vertical-align: middle;\n",
       "    }\n",
       "\n",
       "    .dataframe tbody tr th {\n",
       "        vertical-align: top;\n",
       "    }\n",
       "\n",
       "    .dataframe thead th {\n",
       "        text-align: right;\n",
       "    }\n",
       "</style>\n",
       "<table border=\"1\" class=\"dataframe\">\n",
       "  <thead>\n",
       "    <tr style=\"text-align: right;\">\n",
       "      <th></th>\n",
       "      <th>x</th>\n",
       "      <th>y</th>\n",
       "      <th>y_pred_quadratic</th>\n",
       "    </tr>\n",
       "  </thead>\n",
       "  <tbody>\n",
       "    <tr>\n",
       "      <th>0</th>\n",
       "      <td>1.0</td>\n",
       "      <td>2.2</td>\n",
       "      <td>2.789873</td>\n",
       "    </tr>\n",
       "    <tr>\n",
       "      <th>1</th>\n",
       "      <td>2.0</td>\n",
       "      <td>3.5</td>\n",
       "      <td>2.939377</td>\n",
       "    </tr>\n",
       "    <tr>\n",
       "      <th>2</th>\n",
       "      <td>3.0</td>\n",
       "      <td>3.9</td>\n",
       "      <td>3.165310</td>\n",
       "    </tr>\n",
       "    <tr>\n",
       "      <th>3</th>\n",
       "      <td>5.0</td>\n",
       "      <td>2.9</td>\n",
       "      <td>3.846466</td>\n",
       "    </tr>\n",
       "    <tr>\n",
       "      <th>4</th>\n",
       "      <td>7.0</td>\n",
       "      <td>5.0</td>\n",
       "      <td>4.833341</td>\n",
       "    </tr>\n",
       "    <tr>\n",
       "      <th>5</th>\n",
       "      <td>8.0</td>\n",
       "      <td>6.2</td>\n",
       "      <td>5.441423</td>\n",
       "    </tr>\n",
       "    <tr>\n",
       "      <th>6</th>\n",
       "      <td>2.5</td>\n",
       "      <td>3.0</td>\n",
       "      <td>3.042789</td>\n",
       "    </tr>\n",
       "    <tr>\n",
       "      <th>7</th>\n",
       "      <td>8.0</td>\n",
       "      <td>4.8</td>\n",
       "      <td>5.441423</td>\n",
       "    </tr>\n",
       "  </tbody>\n",
       "</table>\n",
       "</div>"
      ],
      "text/plain": [
       "     x    y  y_pred_quadratic\n",
       "0  1.0  2.2          2.789873\n",
       "1  2.0  3.5          2.939377\n",
       "2  3.0  3.9          3.165310\n",
       "3  5.0  2.9          3.846466\n",
       "4  7.0  5.0          4.833341\n",
       "5  8.0  6.2          5.441423\n",
       "6  2.5  3.0          3.042789\n",
       "7  8.0  4.8          5.441423"
      ]
     },
     "execution_count": 31,
     "metadata": {},
     "output_type": "execute_result"
    }
   ],
   "source": [
    "df_polynomial['y_pred_quadratic'] = ws_squared[0] + ws_squared[1]*df_polynomial['x'] + ws_squared[2]*df_polynomial['x']**2\n",
    "df_polynomial"
   ]
  },
  {
   "cell_type": "code",
   "execution_count": 32,
   "id": "5407dca3",
   "metadata": {},
   "outputs": [],
   "source": [
    "class polynomial_matrices():\n",
    "    def __init__(self,x,y):\n",
    "        self.x = np.array(x)\n",
    "        self.y = np.array(y)\n",
    "    def og_plot(self):\n",
    "        return plt.scatter(self.x, self.y)\n",
    "    def square(self,element):\n",
    "        return element**2\n",
    "    def cube(self,element):\n",
    "        return element**3\n",
    "    def original(self,element):\n",
    "        return element\n",
    "    def ones(self,element):\n",
    "        return element/element\n",
    "    def fours(self,element):\n",
    "        return element**4\n",
    "    def get_ws(self, matrix, y):\n",
    "        matrix_T = matrix.transpose()\n",
    "        matrix_T_inv = np.linalg.inv(matrix_T@matrix)\n",
    "        #ws = matrix_T_inv@matrix_T@y\n",
    "        return matrix_T_inv@matrix_T@y\n",
    "    def quadratic(self):\n",
    "        square_lst = [self.ones, self.original, self.square]\n",
    "        new_lst = []\n",
    "        for xs in list(self.x):\n",
    "            for funcs in square_lst:\n",
    "                #print(y(x))\n",
    "                new_lst.append(funcs(xs))\n",
    "        new_lst2 = np.array(new_lst)\n",
    "        new_lst2 = new_lst2.reshape(len(self.x),3)\n",
    "        ws = self.get_ws(new_lst2, self.y)\n",
    "        fig, ax = plt.subplots(1,1)\n",
    "        x_values = np.arange(min(self.x),max(self.x),0.1)\n",
    "        y_values = [ws[0] + ws[1]*x_val + ws[2]*x_val**2 for x_val in x_values]\n",
    "        plt.scatter(self.x, self.y)\n",
    "        plt.plot(x_values,y_values)\n",
    "        return plt.show()\n",
    "    def quadratic_coefs(self):\n",
    "        square_lst = [self.ones, self.original, self.square]\n",
    "        new_lst = []\n",
    "        for xs in list(self.x):\n",
    "            for funcs in square_lst:\n",
    "                #print(y(x))\n",
    "                new_lst.append(funcs(xs))\n",
    "        new_lst2 = np.array(new_lst)\n",
    "        #remember that the reshape 2nd argument is 1 more than the number you are multiplying to the power of\n",
    "        #e.g. if you're doing quadratic (x**2), the second argument of reshape is 3\n",
    "        new_lst2 = new_lst2.reshape(len(self.x),3)\n",
    "        ws = self.get_ws(new_lst2, self.y)\n",
    "        return ws\n",
    "    def quadratic_mse(self):\n",
    "        y_hat = [self.quadratic_coefs()[0] + self.quadratic_coefs()[1]*x + \n",
    "                 self.quadratic_coefs()[2]*x**2 for x in animals.log10]\n",
    "        mean_squared_error = ((self.y - y_hat)**2).sum()/len(self.y)\n",
    "        return mean_squared_error\n",
    "    def cubic(self):\n",
    "        square_lst = [self.ones, self.original, self.square, self.cube]\n",
    "        new_lst = []\n",
    "        for xs in list(self.x):\n",
    "            for funcs in square_lst:\n",
    "                #print(y(x))\n",
    "                new_lst.append(funcs(xs))\n",
    "        new_lst2 = np.array(new_lst)\n",
    "        new_lst2 = new_lst2.reshape(len(self.x),4)\n",
    "        ws = self.get_ws(new_lst2, self.y)\n",
    "        fig, ax = plt.subplots(1,1)\n",
    "        x_values = np.arange(min(self.x),max(self.x),0.1)\n",
    "        y_values = [ws[0] + ws[1]*x_val + ws[2]*x_val**2 + ws[3]*x_val**3 for x_val in x_values]\n",
    "        plt.scatter(self.x, self.y)\n",
    "        plt.plot(x_values,y_values)\n",
    "        return plt.show() \n",
    "    def cubic_coefs(self):\n",
    "        square_lst = [self.ones, self.original, self.square, self.cube]\n",
    "        new_lst = []\n",
    "        for xs in list(self.x):\n",
    "            for funcs in square_lst:\n",
    "                #print(y(x))\n",
    "                new_lst.append(funcs(xs))\n",
    "        new_lst2 = np.array(new_lst)\n",
    "        new_lst2 = new_lst2.reshape(len(self.x),4)\n",
    "        ws = self.get_ws(new_lst2, self.y)\n",
    "        return ws\n",
    "    def cubic_mse(self):\n",
    "        y_hat = [self.cubic_coefs()[0] + self.cubic_coefs()[1]*x + \n",
    "                 self.cubic_coefs()[2]*x**2 + self.cubic_coefs()[3]*x**3for x in animals.log10]\n",
    "        mean_squared_error = ((self.y - y_hat)**2).sum()/len(self.y)\n",
    "        return mean_squared_error"
   ]
  },
  {
   "cell_type": "code",
   "execution_count": 33,
   "id": "e72501de",
   "metadata": {},
   "outputs": [
    {
     "data": {
      "image/png": "[encoded data removed]",
      "text/plain": [
       "<Figure size 432x288 with 1 Axes>"
      ]
     },
     "metadata": {
      "needs_background": "light"
     },
     "output_type": "display_data"
    }
   ],
   "source": [
    "test = polynomial_matrices(df_polynomial.x, df_polynomial.y)\n",
    "test.cubic()"
   ]
  }
 ],
 "metadata": {
  "kernelspec": {
   "display_name": "Python 3",
   "language": "python",
   "name": "python3"
  },
  "language_info": {
   "codemirror_mode": {
    "name": "ipython",
    "version": 3
   },
   "file_extension": ".py",
   "mimetype": "text/x-python",
   "name": "python",
   "nbconvert_exporter": "python",
   "pygments_lexer": "ipython3",
   "version": "3.8.8"
  }
 },
 "nbformat": 4,
 "nbformat_minor": 5
}
