{
 "cells": [
  {
   "cell_type": "markdown",
   "id": "1950897e",
   "metadata": {},
   "source": [
    "## Part A"
   ]
  },
  {
   "cell_type": "code",
   "execution_count": 2,
   "id": "89d74ffd",
   "metadata": {
    "scrolled": true
   },
   "outputs": [
    {
     "data": {
      "text/plain": [
       "0.117"
      ]
     },
     "execution_count": 2,
     "metadata": {},
     "output_type": "execute_result"
    }
   ],
   "source": [
    "#1\n",
    "(0.02*0.95)+(0.98*0.1)"
   ]
  },
  {
   "cell_type": "code",
   "execution_count": 3,
   "id": "a0598d73",
   "metadata": {},
   "outputs": [
    {
     "data": {
      "text/plain": [
       "0.0508"
      ]
     },
     "execution_count": 3,
     "metadata": {},
     "output_type": "execute_result"
    }
   ],
   "source": [
    "#2\n",
    "(0.001*0.85)+(0.999*0.05)"
   ]
  },
  {
   "cell_type": "code",
   "execution_count": 4,
   "id": "e6f47668",
   "metadata": {},
   "outputs": [
    {
     "data": {
      "text/plain": [
       "0.0839"
      ]
     },
     "execution_count": 4,
     "metadata": {},
     "output_type": "execute_result"
    }
   ],
   "source": [
    "#3\n",
    "(0.5*0.02*0.95)+(0.5*0.98*0.1)+(0.5*0.001*0.85)+(0.5*0.999*0.05)"
   ]
  },
  {
   "cell_type": "code",
   "execution_count": 22,
   "id": "19c4ef7e",
   "metadata": {},
   "outputs": [
    {
     "data": {
      "text/plain": [
       "0.16239316239316237"
      ]
     },
     "execution_count": 22,
     "metadata": {},
     "output_type": "execute_result"
    }
   ],
   "source": [
    "#4\n",
    "(0.95*0.02)/((0.02*0.95)+(0.98*0.1))"
   ]
  },
  {
   "cell_type": "code",
   "execution_count": 24,
   "id": "076260db",
   "metadata": {},
   "outputs": [
    {
     "data": {
      "text/plain": [
       "0.0011325028312570782"
      ]
     },
     "execution_count": 24,
     "metadata": {},
     "output_type": "execute_result"
    }
   ],
   "source": [
    "#5\n",
    "(0.05*0.02)/((0.02*0.05)+(0.98*0.9))"
   ]
  },
  {
   "cell_type": "code",
   "execution_count": 25,
   "id": "cd2ef94e",
   "metadata": {},
   "outputs": [
    {
     "data": {
      "text/plain": [
       "0.016732283464566927"
      ]
     },
     "execution_count": 25,
     "metadata": {},
     "output_type": "execute_result"
    }
   ],
   "source": [
    "#6 \n",
    "(0.001*0.85)/((0.001*0.85)+(0.999*0.05))\n",
    "#0.0167"
   ]
  },
  {
   "cell_type": "code",
   "execution_count": 26,
   "id": "cf82d33b",
   "metadata": {},
   "outputs": [
    {
     "data": {
      "text/plain": [
       "0.00015802781289506952"
      ]
     },
     "execution_count": 26,
     "metadata": {},
     "output_type": "execute_result"
    }
   ],
   "source": [
    "#7\n",
    "(0.001*0.15)/((0.001*0.15)+(0.999*0.95))"
   ]
  },
  {
   "cell_type": "code",
   "execution_count": 33,
   "id": "c693906d",
   "metadata": {},
   "outputs": [
    {
     "data": {
      "text/plain": [
       "0.2380315"
      ]
     },
     "execution_count": 33,
     "metadata": {},
     "output_type": "execute_result"
    }
   ],
   "source": [
    "#8\n",
    "# This is original true positive rate * updated probability of disease + original false positive rate * updated \n",
    "# probability of someone not having the disease\n",
    "(0.95*0.16239)+(0.1*(1-0.16239))"
   ]
  },
  {
   "cell_type": "code",
   "execution_count": 36,
   "id": "efd91bf1",
   "metadata": {},
   "outputs": [
    {
     "data": {
      "text/plain": [
       "0.6481136831491829"
      ]
     },
     "execution_count": 36,
     "metadata": {},
     "output_type": "execute_result"
    }
   ],
   "source": [
    "#9\n",
    "# This is our original true positive rate * probability of having the disease given our first test is positive\n",
    "# over the probability that our second test displays positive\n",
    "(0.95*0.16239)/0.23803"
   ]
  },
  {
   "cell_type": "markdown",
   "id": "06fd5b5a",
   "metadata": {},
   "source": [
    "## 2\n",
    "\n",
    "i) ((20-12)x1/3) + (-12 x 2/3) = -5.33"
   ]
  },
  {
   "cell_type": "code",
   "execution_count": 39,
   "id": "c5777106",
   "metadata": {},
   "outputs": [
    {
     "data": {
      "text/plain": [
       "-5.333333333333334"
      ]
     },
     "execution_count": 39,
     "metadata": {},
     "output_type": "execute_result"
    }
   ],
   "source": [
    "((20-12)*1/3) + (-12*2/3)"
   ]
  },
  {
   "cell_type": "code",
   "execution_count": 44,
   "id": "79bea883",
   "metadata": {},
   "outputs": [
    {
     "data": {
      "text/plain": [
       "1.666666666666666"
      ]
     },
     "execution_count": 44,
     "metadata": {},
     "output_type": "execute_result"
    }
   ],
   "source": [
    "#ii\n",
    "(((20-12)*1/3) + (-12*2/3))+7"
   ]
  },
  {
   "cell_type": "markdown",
   "id": "f1a21334",
   "metadata": {},
   "source": [
    "She should play the game as the expected utility is positive"
   ]
  },
  {
   "cell_type": "markdown",
   "id": "391c7ea3",
   "metadata": {},
   "source": [
    "## 3\n",
    "\n",
    "(180/220 - 800/2300)/(800/2300) = 135.2\n",
    "\n",
    " = 135%"
   ]
  },
  {
   "cell_type": "code",
   "execution_count": 10,
   "id": "86ea2575",
   "metadata": {},
   "outputs": [
    {
     "data": {
      "text/plain": [
       "135.22727272727275"
      ]
     },
     "execution_count": 10,
     "metadata": {},
     "output_type": "execute_result"
    }
   ],
   "source": [
    "(180/220 - 800/2300)/(800/2300)*100"
   ]
  },
  {
   "cell_type": "code",
   "execution_count": 57,
   "id": "a2150f5a",
   "metadata": {
    "scrolled": false
   },
   "outputs": [
    {
     "data": {
      "text/plain": [
       "0.4703557312252965"
      ]
     },
     "execution_count": 57,
     "metadata": {},
     "output_type": "execute_result"
    }
   ],
   "source": [
    "(180/220 - 800/2300)"
   ]
  },
  {
   "cell_type": "code",
   "execution_count": 15,
   "id": "d8847528",
   "metadata": {},
   "outputs": [
    {
     "data": {
      "text/plain": [
       "0.8181818181818182"
      ]
     },
     "execution_count": 15,
     "metadata": {},
     "output_type": "execute_result"
    }
   ],
   "source": [
    "(180/220)"
   ]
  },
  {
   "cell_type": "code",
   "execution_count": 21,
   "id": "0b8f504b",
   "metadata": {},
   "outputs": [
    {
     "data": {
      "text/plain": [
       "0.34782608695652173"
      ]
     },
     "execution_count": 21,
     "metadata": {},
     "output_type": "execute_result"
    }
   ],
   "source": [
    "(800/2300)"
   ]
  },
  {
   "cell_type": "code",
   "execution_count": 16,
   "id": "f4024ea2",
   "metadata": {},
   "outputs": [
    {
     "data": {
      "text/plain": [
       "2.3522727272727275"
      ]
     },
     "execution_count": 16,
     "metadata": {},
     "output_type": "execute_result"
    }
   ],
   "source": [
    "(180/220)/(800/2300)"
   ]
  },
  {
   "cell_type": "code",
   "execution_count": 23,
   "id": "f4ad3f85",
   "metadata": {},
   "outputs": [
    {
     "data": {
      "text/plain": [
       "0.817377"
      ]
     },
     "execution_count": 23,
     "metadata": {},
     "output_type": "execute_result"
    }
   ],
   "source": [
    "(0.34782*2)+0.35*0.34782"
   ]
  },
  {
   "cell_type": "markdown",
   "id": "ab75906c",
   "metadata": {},
   "source": [
    "## 4\n",
    "\n",
    "(180/200 - 800/2300)"
   ]
  },
  {
   "cell_type": "code",
   "execution_count": 55,
   "id": "dfc7e159",
   "metadata": {
    "scrolled": true
   },
   "outputs": [
    {
     "data": {
      "text/plain": [
       "0.5521739130434783"
      ]
     },
     "execution_count": 55,
     "metadata": {},
     "output_type": "execute_result"
    }
   ],
   "source": [
    "(180/200 - 800/2300)"
   ]
  },
  {
   "cell_type": "markdown",
   "id": "7dd98dad",
   "metadata": {},
   "source": [
    "## 5\n",
    "\n",
    "i) Treatment A, 65/100"
   ]
  },
  {
   "cell_type": "markdown",
   "id": "fb78d252",
   "metadata": {},
   "source": [
    "ii) Treatment B, 20/22"
   ]
  },
  {
   "cell_type": "markdown",
   "id": "2ec78f19",
   "metadata": {},
   "source": [
    "iii) Treatment B, 34/85"
   ]
  },
  {
   "cell_type": "markdown",
   "id": "3e89b54b",
   "metadata": {},
   "source": [
    "iv) Simpson's paradox"
   ]
  },
  {
   "cell_type": "markdown",
   "id": "f1bcb81b",
   "metadata": {},
   "source": [
    "## 6\n",
    "\n",
    "venue cost: continuous interval simulation node\n",
    "\n",
    "pandemic restrictions: probability node\n",
    "\n",
    "ticket sales: continuous interval simulation node\n",
    "\n",
    "total utility: continuous interval simulation node\n",
    "\n",
    "confirm venue: probability\n",
    "\n",
    "concert: probability"
   ]
  },
  {
   "cell_type": "markdown",
   "id": "4b15e9ed",
   "metadata": {},
   "source": [
    "## 7\n",
    "\n",
    "i) ticket sales: continuous interval simulation node\n",
    "\n",
    "ii) 0,0,0 | 300000, 75000, 0 "
   ]
  },
  {
   "cell_type": "markdown",
   "id": "137e61c1",
   "metadata": {},
   "source": [
    "## 8\n",
    "\n",
    "concert: probability\n",
    "\n",
    "as a grid: \n",
    "\n",
    "1,1,1 | 0,0,1\n",
    "\n",
    "0,0,0 | 1,1,0"
   ]
  },
  {
   "cell_type": "markdown",
   "id": "d7886520",
   "metadata": {},
   "source": [
    "## 9\n",
    "Book the venue with utility 12500"
   ]
  }
 ],
 "metadata": {
  "kernelspec": {
   "display_name": "Python 3 (ipykernel)",
   "language": "python",
   "name": "python3"
  },
  "language_info": {
   "codemirror_mode": {
    "name": "ipython",
    "version": 3
   },
   "file_extension": ".py",
   "mimetype": "text/x-python",
   "name": "python",
   "nbconvert_exporter": "python",
   "pygments_lexer": "ipython3",
   "version": "3.9.7"
  }
 },
 "nbformat": 4,
 "nbformat_minor": 5
}
