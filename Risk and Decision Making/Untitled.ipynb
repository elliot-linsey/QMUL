{
 "cells": [
  {
   "cell_type": "code",
   "execution_count": 3,
   "id": "7353f90a",
   "metadata": {},
   "outputs": [
    {
     "data": {
      "text/plain": [
       "0.9836440875334498"
      ]
     },
     "execution_count": 3,
     "metadata": {},
     "output_type": "execute_result"
    }
   ],
   "source": [
    "(364/365)*(363/365)*(362/365)"
   ]
  },
  {
   "cell_type": "code",
   "execution_count": 8,
   "id": "cfb8407e",
   "metadata": {},
   "outputs": [
    {
     "data": {
      "text/plain": [
       "0.000475"
      ]
     },
     "execution_count": 8,
     "metadata": {},
     "output_type": "execute_result"
    }
   ],
   "source": [
    "0.95*(1/2000)"
   ]
  },
  {
   "cell_type": "code",
   "execution_count": 1,
   "id": "83ddc261",
   "metadata": {},
   "outputs": [],
   "source": [
    "import math"
   ]
  },
  {
   "cell_type": "code",
   "execution_count": 5,
   "id": "9ef16e25",
   "metadata": {},
   "outputs": [
    {
     "data": {
      "text/plain": [
       "0.00308990478515625"
      ]
     },
     "execution_count": 5,
     "metadata": {},
     "output_type": "execute_result"
    }
   ],
   "source": [
    "((math.factorial(10))/(math.factorial(7)*math.factorial(3)))*(0.25**7)*(0.75**3)"
   ]
  },
  {
   "cell_type": "code",
   "execution_count": 3,
   "id": "dc3b065d",
   "metadata": {},
   "outputs": [
    {
     "data": {
      "text/plain": [
       "120.0"
      ]
     },
     "execution_count": 3,
     "metadata": {},
     "output_type": "execute_result"
    }
   ],
   "source": [
    "(10*9*8)/(3*2*1)"
   ]
  },
  {
   "cell_type": "code",
   "execution_count": 4,
   "id": "4d78f9c8",
   "metadata": {},
   "outputs": [
    {
     "data": {
      "text/plain": [
       "0.00308990478515625"
      ]
     },
     "execution_count": 4,
     "metadata": {},
     "output_type": "execute_result"
    }
   ],
   "source": [
    "120*(0.25**7)*(0.75**3)"
   ]
  }
 ],
 "metadata": {
  "kernelspec": {
   "display_name": "Python 3",
   "language": "python",
   "name": "python3"
  },
  "language_info": {
   "codemirror_mode": {
    "name": "ipython",
    "version": 3
   },
   "file_extension": ".py",
   "mimetype": "text/x-python",
   "name": "python",
   "nbconvert_exporter": "python",
   "pygments_lexer": "ipython3",
   "version": "3.8.8"
  }
 },
 "nbformat": 4,
 "nbformat_minor": 5
}
