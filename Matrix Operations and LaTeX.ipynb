{
 "cells": [
  {
   "cell_type": "code",
   "execution_count": 30,
   "id": "2160d0d5",
   "metadata": {},
   "outputs": [],
   "source": [
    "import numpy as np"
   ]
  },
  {
   "cell_type": "markdown",
   "id": "67efceab",
   "metadata": {},
   "source": [
    "$5\\begin{bmatrix}\n",
    "3\\\\\n",
    "-2\\\\\n",
    "2\n",
    "\\end{bmatrix}\\\n",
    "-\n",
    "2\\begin{bmatrix}\n",
    "1\\\\\n",
    "2\\\\\n",
    "-2\n",
    "\\end{bmatrix}\\\n",
    "=\\\n",
    "\\begin{bmatrix}\n",
    "13\\\\\n",
    "-14\\\\\n",
    "14\n",
    "\\end{bmatrix}\n",
    "$"
   ]
  },
  {
   "cell_type": "code",
   "execution_count": 31,
   "id": "c419aeeb",
   "metadata": {},
   "outputs": [
    {
     "data": {
      "text/plain": [
       "array([ 13, -14,  14])"
      ]
     },
     "execution_count": 31,
     "metadata": {},
     "output_type": "execute_result"
    }
   ],
   "source": [
    "a = 5*np.array([3,-2,2])\n",
    "b = 2*np.array([1,2,-2])\n",
    "a-b"
   ]
  },
  {
   "cell_type": "markdown",
   "id": "100d613b",
   "metadata": {},
   "source": [
    "$4\\begin{bmatrix}\n",
    "2 & 3\\\\\n",
    "-2 & 0\n",
    "\\end{bmatrix}\n",
    "-\n",
    "\\begin{bmatrix}\n",
    "1 & -2\\\\\n",
    "3 & 1\n",
    "\\end{bmatrix}\n",
    "=\n",
    "\\begin{bmatrix}\n",
    "7 & 14\\\\\n",
    "-11 & -1\n",
    "\\end{bmatrix}\n",
    "$"
   ]
  },
  {
   "cell_type": "code",
   "execution_count": 32,
   "id": "2c733443",
   "metadata": {},
   "outputs": [
    {
     "name": "stdout",
     "output_type": "stream",
     "text": [
      "[[  7  14]\n",
      " [-11  -1]]\n"
     ]
    }
   ],
   "source": [
    "A = 4*np.array([[2,3],\n",
    "             [-2,0]])\n",
    "B = np.array([[1,-2],\n",
    "             [3,1]])\n",
    "print(A-B)"
   ]
  },
  {
   "cell_type": "markdown",
   "id": "523336d1",
   "metadata": {},
   "source": [
    "$\\begin{bmatrix}\n",
    "2 & -3 & 1\\\\\n",
    "-2 & -1 & 4\\\\\n",
    "0 & 2 & 2\n",
    "\\end{bmatrix}\n",
    "\\cdot\n",
    "\\begin{bmatrix}\n",
    "3 & -2 & 1\\\\\n",
    "1 & -1 & 2\\\\\n",
    "-2 & 2 & 0\n",
    "\\end{bmatrix}\n",
    "=\n",
    "\\begin{bmatrix}\n",
    "1 & 1 & -4\\\\\n",
    "-15 & 13 & -4\\\\\n",
    "-2 & 2 & 4\n",
    "\\end{bmatrix}\n",
    "$"
   ]
  },
  {
   "cell_type": "code",
   "execution_count": 33,
   "id": "32bd0bad",
   "metadata": {},
   "outputs": [
    {
     "name": "stdout",
     "output_type": "stream",
     "text": [
      "[[  1   1  -4]\n",
      " [-15  13  -4]\n",
      " [ -2   2   4]]\n"
     ]
    }
   ],
   "source": [
    "C = np.array([[2,-3,1],\n",
    "    [-2,-1,4],\n",
    "    [0,2,2]])\n",
    "D = np.array([[3,-2,1],\n",
    "             [1,-1,2],\n",
    "             [-2,2,0]])\n",
    "print(C@D)"
   ]
  },
  {
   "cell_type": "markdown",
   "id": "fb00c537",
   "metadata": {},
   "source": [
    "Calculate the magnitude of a vector using np.linalg.norm(x)"
   ]
  },
  {
   "cell_type": "code",
   "execution_count": 34,
   "id": "c4dd6f73",
   "metadata": {},
   "outputs": [
    {
     "name": "stdout",
     "output_type": "stream",
     "text": [
      "6.244997998398398\n"
     ]
    }
   ],
   "source": [
    "x = np.array([-2,-3,0,5,1])\n",
    "print(np.linalg.norm(x))"
   ]
  },
  {
   "cell_type": "code",
   "execution_count": 35,
   "id": "705a37be",
   "metadata": {},
   "outputs": [],
   "source": [
    "a = np.array([3,-1,2])\n",
    "b = np.array([0,-1,1])"
   ]
  },
  {
   "cell_type": "code",
   "execution_count": 36,
   "id": "4377764c",
   "metadata": {},
   "outputs": [
    {
     "name": "stdout",
     "output_type": "stream",
     "text": [
      "55.46241621381916\n"
     ]
    }
   ],
   "source": [
    "inner = np.inner(a, b)\n",
    "norms = np.linalg.norm(a) * np.linalg.norm(b)\n",
    "\n",
    "cos = inner / norms\n",
    "rad = np.arccos(np.clip(cos, -1.0, 1.0))\n",
    "deg = np.rad2deg(rad)\n",
    "print(deg)"
   ]
  },
  {
   "cell_type": "code",
   "execution_count": 37,
   "id": "e9be24f8",
   "metadata": {},
   "outputs": [
    {
     "name": "stdout",
     "output_type": "stream",
     "text": [
      "[[ 1.  4.  7. -2.]\n",
      " [ 3.  0. -2. -1.]\n",
      " [-4.  2.  1.  0.]\n",
      " [-8. -3. -1.  2.]]\n"
     ]
    }
   ],
   "source": [
    "G = np.array([[1,4,7,-2],\n",
    "             [3,0,-2,-1],\n",
    "             [-4,2,1,0],\n",
    "             [-8,-3,-1,2]])\n",
    "eye = np.eye(4)\n",
    "print(G@eye)"
   ]
  },
  {
   "cell_type": "code",
   "execution_count": 38,
   "id": "1efc406c",
   "metadata": {},
   "outputs": [
    {
     "name": "stdout",
     "output_type": "stream",
     "text": [
      "[-46  32  -2  26]\n"
     ]
    }
   ],
   "source": [
    "Q = np.array([[2,3,4],\n",
    "             [-2,-2,-2],\n",
    "             [0,1,0],\n",
    "             [-1,-3,-2]])\n",
    "H = np.array([[-1,-2,-1],\n",
    "             [2,1,-2],\n",
    "             [3,0,-3]])\n",
    "l = np.array([1,2,3])\n",
    "print(Q@H@l)"
   ]
  },
  {
   "cell_type": "code",
   "execution_count": 39,
   "id": "3f716524",
   "metadata": {},
   "outputs": [
    {
     "name": "stdout",
     "output_type": "stream",
     "text": [
      "[-0.33333333 -0.66666667  0.66666667]\n"
     ]
    }
   ],
   "source": [
    "I = np.array([[2,-3,1],\n",
    "             [3,1,1],\n",
    "             [-1,-2,-1]])\n",
    "r = np.array([2,-1,1])\n",
    "print(np.linalg.solve(I,r))"
   ]
  },
  {
   "cell_type": "markdown",
   "id": "5dc7e359",
   "metadata": {},
   "source": [
    "$$ e^{i \\pi} + 1 = 0 $$"
   ]
  },
  {
   "cell_type": "markdown",
   "id": "bf3a9ff7",
   "metadata": {},
   "source": [
    "$4\\begin{bmatrix}\n",
    "1 & 2 & 3\\\\\n",
    "a & b & c\n",
    "\\end{bmatrix}\n",
    "=\n",
    "\\begin{bmatrix}\n",
    "4 & 8 & 12\\\\\n",
    "4a & 4b & 4c\n",
    "\\end{bmatrix}\n",
    "$"
   ]
  }
 ],
 "metadata": {
  "kernelspec": {
   "display_name": "Python 3",
   "language": "python",
   "name": "python3"
  },
  "language_info": {
   "codemirror_mode": {
    "name": "ipython",
    "version": 3
   },
   "file_extension": ".py",
   "mimetype": "text/x-python",
   "name": "python",
   "nbconvert_exporter": "python",
   "pygments_lexer": "ipython3",
   "version": "3.8.8"
  }
 },
 "nbformat": 4,
 "nbformat_minor": 5
}
