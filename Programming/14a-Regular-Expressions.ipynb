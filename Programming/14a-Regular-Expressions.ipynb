{
 "cells": [
  {
   "cell_type": "markdown",
   "id": "b8a91374-5003-44a8-880c-fccc4128e29c",
   "metadata": {},
   "source": [
    "# Lab Week 1: Regular Expressions\n",
    "\n",
    "The aim of this lab is to experiment with and learn to use regular expressions in Python. To this effect, you will make use of the `re` module: https://docs.python.org/3/library/re.html. See https://en.wikipedia.org/wiki/Regular_expression for basic background on regular expressions."
   ]
  },
  {
   "cell_type": "markdown",
   "id": "cbd39024-5666-457c-b8eb-e68fb149fa75",
   "metadata": {},
   "source": [
    "Useful tutorials for playing with regular expressions include:\n",
    "* https://regexr.com/\n",
    "* https://regex101.com/\n",
    "* https://www.w3schools.com/python/python_regex.asp"
   ]
  },
  {
   "cell_type": "markdown",
   "id": "ca87c6a5-aef1-4b7f-bb26-674cad303d5c",
   "metadata": {},
   "source": [
    "## Simple Example\n",
    "\n",
    "The following code uses the `re` module to perform some basic pattern matching."
   ]
  },
  {
   "cell_type": "code",
   "execution_count": 4,
   "id": "c0cfe808-2b13-43fa-a713-ca27e6ce5ff7",
   "metadata": {},
   "outputs": [
    {
     "name": "stdout",
     "output_type": "stream",
     "text": [
      "world! found in Hello world!\n"
     ]
    }
   ],
   "source": [
    "import re\n",
    "\n",
    "a_string = \"Hello world!\"\n",
    "m = re.search(\"world!\", a_string)\n",
    "if m:\n",
    "    print(\"world! found in\", a_string)\n",
    "else:\n",
    "    print(\"world! not found in\", a_string)"
   ]
  },
  {
   "cell_type": "code",
   "execution_count": null,
   "id": "47d3da9c-e994-4c0a-a900-5120e8433585",
   "metadata": {},
   "outputs": [],
   "source": [
    "# What you can't do using regular expressions:\n",
    "lots_of_parentheses = \"(((abc))\"\n",
    "# Can we check whether the number of parentheses is balanced?\n",
    "# Could write some Python code to do this ...\n",
    "# Can we regular expressions? No!\n",
    "re.search(\"(\\(\\()abc(<trying to match the same number of closing parentheses...>)\", lots_of_parentheses)"
   ]
  },
  {
   "cell_type": "code",
   "execution_count": 5,
   "id": "ce54724c-678c-4493-ba91-3acce8201690",
   "metadata": {},
   "outputs": [
    {
     "name": "stdout",
     "output_type": "stream",
     "text": [
      "world! not found at beginning of Hello world!\n",
      "world! found at end of Hello world!\n"
     ]
    }
   ],
   "source": [
    "# use anchoring at the beginning or end of the string\n",
    "m = re.search(\"^world!\", a_string)\n",
    "if m:\n",
    "    print(\"world! found at beginning of\", a_string)\n",
    "else:\n",
    "    print(\"world! not found at beginning of\", a_string)\n",
    "    \n",
    "m = re.search(\"world!$\", a_string)\n",
    "if m:\n",
    "    print(\"world! found at end of\", a_string)\n",
    "else:\n",
    "    print(\"world! not found at end of\", a_string)"
   ]
  },
  {
   "cell_type": "code",
   "execution_count": 6,
   "id": "649dfbe5-f808-439f-bd4f-a24564b130a5",
   "metadata": {},
   "outputs": [
    {
     "name": "stdout",
     "output_type": "stream",
     "text": [
      "world. found in Hello world!\n"
     ]
    }
   ],
   "source": [
    "# use single-character wildcard \".\"\n",
    "m = re.search(\"world.\", a_string)\n",
    "if m:\n",
    "    print(\"world. found in\", a_string)\n",
    "else:\n",
    "    print(\"world. not found in\", a_string)"
   ]
  },
  {
   "cell_type": "code",
   "execution_count": 29,
   "id": "6114d8d9-24b1-4ec4-b25b-0a20c9c450af",
   "metadata": {},
   "outputs": [
    {
     "name": "stdout",
     "output_type": "stream",
     "text": [
      ".*world! found at beginning of Hello world!\n"
     ]
    }
   ],
   "source": [
    "# use zero or more repetitions of wildcard \".\"\n",
    "m = re.search(\"^(.)*world!\", a_string)\n",
    "if m:\n",
    "    print(\".*world! found at beginning of\", a_string)\n",
    "else:\n",
    "    print(\".*world! not found at beginning of\", a_string)"
   ]
  },
  {
   "cell_type": "markdown",
   "id": "6b6b6a8f-75b6-4b17-9c4c-510c14eed705",
   "metadata": {},
   "source": [
    "## Tasks\n",
    "The following code snippets require you to fill in details as specified in the comments."
   ]
  },
  {
   "cell_type": "code",
   "execution_count": 19,
   "id": "16b09f69-1306-4c0c-ab08-053745731693",
   "metadata": {},
   "outputs": [],
   "source": [
    "# \"re\" offers both .search and .match functions - what is the difference?\n",
    "search_result = re.search(\"world\", a_string)\n",
    "match_result = re.match(\"world\", a_string)"
   ]
  },
  {
   "cell_type": "code",
   "execution_count": 20,
   "id": "5ff991c6-1617-4b14-81e3-3e08605888e1",
   "metadata": {},
   "outputs": [],
   "source": [
    "# \"*\" matches zero or more repetitions. How is \"+\" different?\n",
    "m1 = re.search(\"z*\", a_string)\n",
    "m2 = re.search(\"z+\", a_string)\n",
    "\n",
    "# One can also match a particular number of repetitions - what is the result?\n",
    "one_or_two_l = re.search(\"l{1,2}\", a_string)"
   ]
  },
  {
   "cell_type": "code",
   "execution_count": 21,
   "id": "511744d6-f0d6-4a5b-aba4-d1c120efcdb1",
   "metadata": {},
   "outputs": [],
   "source": [
    "# \".\" matches any character,\n",
    "# but often more specific sets or classes of characters should be matched\n",
    "five_characters = re.search(\"[a-z]{5}!\", a_string)"
   ]
  },
  {
   "cell_type": "code",
   "execution_count": 22,
   "id": "88a4d462-2745-4711-afb6-1a34d942fe41",
   "metadata": {},
   "outputs": [],
   "source": [
    "# When trying to match a character that also is a special character in\n",
    "# regular expressions, escaping is required:\n",
    "contains_dot = re.search(\"\\.\", a_string)"
   ]
  },
  {
   "cell_type": "code",
   "execution_count": 30,
   "id": "ff836e9f-41c2-4c91-9b38-020b708f6319",
   "metadata": {},
   "outputs": [
    {
     "name": "stdout",
     "output_type": "stream",
     "text": [
      "Matched group: Hello\n"
     ]
    }
   ],
   "source": [
    "# Refer to matching groups\n",
    "a_group = re.search(\"(.*) world!\", a_string)\n",
    "print(\"Matched group:\", a_group.group(1))\n",
    "# What would a_group.group(0) refer to?\n",
    "# What happens if you try to access a_group.group(1)?\n",
    "\n",
    "# Use groups to extract all the domain names from a list of email addresses:\n",
    "addresses = [\"foo.bar@qmul.ac.uk\", \"alpha.bravo@se21.qmul.ac.uk\",\n",
    "             \"first.middle.last@se18.qmul.ac.uk\"]\n",
    "# Iterate over the list and use a regular expression to extract each domain name,\n",
    "# i.e., the part after the \"@\" character.\n",
    "\n",
    "# As a further exercise, try to extract first and last name from each of the above addresses."
   ]
  },
  {
   "cell_type": "code",
   "execution_count": 24,
   "id": "204cf9d4-4219-449e-b441-0f1f180dc14f",
   "metadata": {},
   "outputs": [],
   "source": [
    "# Limiting matching of repetition\n",
    "comma_separated_values = \"foo,bar,baz\"\n",
    "# What do groups 1 and 2 refer to in the following?\n",
    "more_groups = re.search(\"(.*),(.*)\", comma_separated_values)"
   ]
  },
  {
   "cell_type": "code",
   "execution_count": 28,
   "id": "f668b933-6c5c-44a4-aef6-0cf3f24317e8",
   "metadata": {},
   "outputs": [],
   "source": [
    "# .sub enables replacing text - what is the effect of the following?\n",
    "replaced = re.sub(\"[aeiou]\", \"V\", comma_separated_values)"
   ]
  },
  {
   "cell_type": "markdown",
   "id": "e5168e40-93b0-4df1-9761-b987412ae7c3",
   "metadata": {},
   "source": [
    "The following is a task that requires using regular expressions as part of text analysis:\n",
    "\n",
    "1) Find or write a piece of text (a paragraph will do).\n",
    "2) In this text, find all words that start with a vowel.\n",
    "3) In this text, find all words that have at most 5 characters.\n",
    "4) Build a bar chart that depicts the distribution of words of less-than-three, three, four, five, more-than-five characters."
   ]
  },
  {
   "cell_type": "code",
   "execution_count": null,
   "id": "7749f44f-ed31-4e79-a1b1-fdd122d39466",
   "metadata": {},
   "outputs": [],
   "source": []
  }
 ],
 "metadata": {
  "kernelspec": {
   "display_name": "Python 3 (ipykernel)",
   "language": "python",
   "name": "python3"
  },
  "language_info": {
   "codemirror_mode": {
    "name": "ipython",
    "version": 3
   },
   "file_extension": ".py",
   "mimetype": "text/x-python",
   "name": "python",
   "nbconvert_exporter": "python",
   "pygments_lexer": "ipython3",
   "version": "3.9.6"
  }
 },
 "nbformat": 4,
 "nbformat_minor": 5
}
