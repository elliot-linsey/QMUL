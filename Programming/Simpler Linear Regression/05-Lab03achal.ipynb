{
 "cells": [
  {
   "cell_type": "markdown",
   "metadata": {},
   "source": [
    "# Lab 3\n",
    "In this lab, you will complete the full process of describing and then implementing an algorithm. You will do so on a topic relevant to data science: _(simple) linear regression_. Please note that this lab is assessed, i.e., you will need to submit the results of your work on QM+. To submit your work, first download/export your Jupyter notebook as PDF. Then upload the PDF file in the submission area on QM+."
   ]
  },
  {
   "cell_type": "markdown",
   "metadata": {},
   "source": [
    "## Preparation: Simple Linear Regression\n",
    "If necessary (depending on your background), read up on (simple) linear regression. Wikipedia (https://en.wikipedia.org/wiki/Simple_linear_regression) provides a good starting point, but you might as well choose other sources. (You do not need to include any information about this in your submission.)\n",
    "\n",
    "## Task 1: Describe Linear Regression in English\n",
    "Given a dataset of $n$ values $(x_i, y_i)$ for $1 \\leq i \\leq n$, describe the process to compute values $\\alpha$ and $\\beta$ such that $$\\sum_{i = 1}^n (y_i - \\alpha x_i - \\beta)^2$$ is minimal. This will yield a (linear) model $y = \\alpha x + \\beta$ adhering to the least-squares condition.\n",
    "> Marking information: Up to 30 points: 15 points for an algorithm that can be followed, and 15 points for the correctness of this algorithm against the specification \"linear regression.\"\n",
    "\n",
    "### Solution:\n",
    "> Linear regression is a method to gauge the statistical relationship between a dependent variable (response), and an independent variable (predictor). Linear regression assumes that the relationship between these two variables is linear, i.e., the line of best fit through the data points is a straight line. There can be an infinite number of lines that are fitted through a data set but the line of best fit is defined as one where the sum of the squares of the difference between the predicted value and the actual value (i.e., the sum of the squares of the errors) is minimum. This is also known as the least squares estimate.\n",
    "<br><br>\n",
    "Let's consider a model function $y = \\alpha x + \\beta$.\n",
    "<br><br>\n",
    "> Given a dataset of $n$ values $(x_i, y_i)$ for $1 \\leq i \\leq n$, for every element, the relationship between $y_i$ and $x_i$ can be defined as: $$y_i = \\alpha x_i + \\beta + \\epsilon_i $$ <br> where $\\epsilon_i$ is the error between the predicted value and the actual value. <br><br>\n",
    "> This can be written as: $$\\epsilon_i = y_i - \\alpha x_i - \\beta$$ <br>\n",
    "As mentioned previously, the line of best fit (a linear regression line) is defined as one where the sum of the square of the errors is minimum, i.e., $$\\sum_{i = 1}^n\\epsilon_i^2$$ is minimum OR $$\\sum_{i = 1}^n (y_i - \\alpha x_i - \\beta)^2$$ is minimum.<br><br>\n",
    "This implies that $\\alpha$ and $\\beta$ need to be found where:\n",
    "$$\\begin{equation*}\n",
    "\\frac{\\partial \\sum_{i = 1}^n (y_i - \\alpha x_i - \\beta)^2}{\\partial \\alpha} = 0\n",
    "\\label{eq:alpha_init} \\tag{1}\n",
    "\\end{equation*}\n",
    "$$\n",
    "<br>\n",
    "$$\\begin{equation*}\n",
    "\\frac{\\partial \\sum_{i = 1}^n (y_i - \\alpha x_i - \\beta)^2}{\\partial \\beta} = 0\n",
    "\\label{eq:beta_init} \\tag{2}\n",
    "\\end{equation*}\n",
    "$$\n",
    "Solving $\\eqref{eq:alpha_init}$ and $\\eqref{eq:beta_init}$, $\\alpha$ and $\\beta$ can be reduced to:\n",
    "$$\\begin{equation*}\n",
    "\\alpha = \\frac{\\sum_{i = 1}^n (x_i - \\bar x)(y_i - \\bar y)}{\\sum_{i = 1}^n (x_i - \\bar x)^2}\n",
    "\\label{eq:alpha} \\tag{3}\n",
    "\\end{equation*}\n",
    "$$\n",
    "<br>\n",
    "$$\\begin{equation*}\n",
    "\\beta = \\bar y - \\alpha \\bar x\n",
    "\\label{eq:beta} \\tag{4}\n",
    "\\end{equation*}\n",
    "$$ where $\\bar x$ and $\\bar y$ are $\\sum_{i=1}^n \\frac{x_i}{n}$ and $\\sum_{i=1}^n \\frac{y_i}{n}$ respectively.\n",
    "<br><br>\n",
    "Please note that the derivation was carried out by hand but not included here. The result however matches the generally accepted equations for $\\alpha$ and $\\beta$ found on multiple sources including https://online.stat.psu.edu/stat462/node/92/.\n",
    "<br><br>\n",
    "To solve for $\\alpha$ and $\\beta$ for a given data set as defined above, <b> the algorithm can be defined as follows: </b>\n",
    ">1. Get the x and y values, and the number ($n$) of x or y values (assume that a dataset is clean and number of x values and y values are equal)\n",
    ">2. Add all x values to get sum of $x_i$\n",
    ">3. Add all y values to get sum of $y_i$\n",
    ">4. Divide sum of x values and sum of values by $n$ to get $\\bar x$ and $\\bar y$ respectively\n",
    "<br>Solve for $\\alpha$ first:\n",
    ">5. Subtract each x value by $\\bar x$\n",
    ">6. Subtract each y value by $\\bar y$\n",
    ">7. Multiply each element of 5, with each element of 6\n",
    ">8. Add all the elements in 7 to get the value of the numerator in $\\eqref{eq:alpha}$\n",
    ">9. Square the elements in 5, and add them to get the denominator in $\\eqref{eq:alpha}$\n",
    ">10. Divide 9 by 10 to get the value of $\\alpha$ \n",
    "<br>Solve for $\\beta$:\n",
    ">11. Multiply $\\alpha$ by $\\bar x$ (found in 4)\n",
    ">12. Subtract $\\bar y$ by the value found in 11\n",
    ">13. Outputs: $\\alpha$ and $\\beta$\n",
    "\n",
    "## Task 2: Create and Complete a Simple Example\n",
    "Come up with a dataset of just 3 values ($\\{(x_1, y_1), (x_2, y_2), (x_3, y_3)\\}$). Then exercise the algorithm of Task 1 on this small dataset. You might prefer to do this using pen and paper. For your submission, provide at least the dataset that you have chosen and the resulting values of $\\alpha$ and $\\beta$.\n",
    "> Marking information: Up to 20 points: 5 points for sample values, and up to 15 points for suitable values of $\\alpha$ and $\\beta$.\n",
    "\n",
    "### Solution:\n",
    ">Let the dataset of 3 values be:\n",
    ">$$ Data =  \\{(1, 10), (2, 18), (3, 35)\\}$$\n",
    "<br>\n",
    "Therefore, $$\\bar x = (1 + 2 + 3)/3 = 2$$ and <br> $$ \\bar y = (10 + 18 + 35)/3 = 21$$\n",
    "\n",
    "<table>\n",
    "<tr>\n",
    "    <th></th>\n",
    "    <th>x_i</th>\n",
    "    <th>y_i</th>\n",
    "    <th>x_i - xbar</th>\n",
    "    <th>y_i - ybar</th>\n",
    "    <th>(x_i - xbar)*(y_i - ybar)</th>\n",
    "    <th>(x_i - xbar)^2</th>\n",
    "</tr>\n",
    "\n",
    "<tr>\n",
    "    <td></td> \n",
    "    <td>1</td> \n",
    "    <td>10</td>\n",
    "    <td>-1</td> \n",
    "    <td>-11</td>\n",
    "    <td>11</td> \n",
    "    <td>1</td>\n",
    "</tr>\n",
    "\n",
    "<tr>\n",
    "    <td></td> \n",
    "    <td>2</td> \n",
    "    <td>18</td>\n",
    "    <td>0</td> \n",
    "    <td>-3</td>\n",
    "    <td>0</td> \n",
    "    <td>0</td>   \n",
    "</tr>\n",
    "\n",
    "<tr>\n",
    "    <td></td> \n",
    "    <td>3</td> \n",
    "    <td>35</td>\n",
    "    <td>1</td> \n",
    "    <td>14</td>\n",
    "    <td>14</td> \n",
    "    <td>1</td>   \n",
    "</tr>\n",
    "\n",
    "<tr>\n",
    "    <td><b>Sums</b></td> \n",
    "    <td>6</td> \n",
    "    <td>63</td>\n",
    "    <td>0</td> \n",
    "    <td>0</td>\n",
    "    <td>25</td> \n",
    "    <td>2</td>   \n",
    "</tr>\n",
    "    \n",
    "</table>\n",
    "\n",
    ">Therefore, $$\\alpha = 25/2$$ and $$\\beta = \\bar y - \\frac{25}{2}(\\bar x) = -4$$\n",
    "\n",
    "\n",
    "## Task 3: Implement the Algorithm of Task 1 in Python\n",
    "Starting from your description of the steps to undertake, transfer English and Maths to Python. Note that you are expected to fully implement the mathematical operations instead of using a library function such as `scikit` or `statsmodels`.\n",
    "> Marking information: Up to 40 points: 30 points for a correctly working Python implementation, and 10 points for comments and overall readability.\n"
   ]
  },
  {
   "cell_type": "code",
   "execution_count": 14,
   "metadata": {},
   "outputs": [],
   "source": [
    "def linear_regression(list_xy):\n",
    "    #Get the x and y values, and the number (n) of x or y values (assume that a dataset is clean and number of x values and y values are equal)\n",
    "    list_x = [list_xy[i][0] for i in range(len(list_xy))]\n",
    "    list_y = [list_xy[i][1] for i in range(len(list_xy))]\n",
    "    \n",
    "    num_items = len(list_x)\n",
    "    \n",
    "    #Add all x values to get sum of $x_i$\n",
    "    x_sum = sum(list_x)\n",
    "    \n",
    "    #Add all y values to get sum of $y_i$\n",
    "    y_sum = sum(list_y)\n",
    "    \n",
    "    #Divide sum of x values and sum of values by $n$ to get $\\bar x$ and $\\bar y$ respectively\n",
    "    x_mean = x_sum/num_items\n",
    "    y_mean = y_sum/num_items\n",
    "    \n",
    "    #Solve for $\\alpha$ first:\n",
    "    #Subtract each x value by $\\bar x$\n",
    "    x_subtracted = [val-x_mean for val in list_x]\n",
    "    \n",
    "    #Subtract each y value by $\\bar y$\n",
    "    y_subtracted = [val-y_mean for val in list_y]\n",
    "    \n",
    "    #Multiply each element of x_subtracted by each element of y_subtracted\n",
    "    x_sub_mult_y_sub = [x_subtracted[i] * y_subtracted [i] for i in range(len(x_subtracted))]\n",
    "    \n",
    "    #Add all the elements in x_sub_mult_y_sub to get the value of the numerator in the equation for alpha\n",
    "    alpha_numerator = sum(x_sub_mult_y_sub)\n",
    "    \n",
    "    #Square the elements in x_subtracted, and add them to get the denominator in tthe equation for alpha\n",
    "    alpha_denominator = sum([i**2 for i in x_subtracted])\n",
    "    \n",
    "    #Divide alpha_numerator by alpha_denominator to get the value of alpha \n",
    "    alpha = alpha_numerator/ alpha_denominator\n",
    "    \n",
    "    #Solve for $\\beta$\n",
    "    #Multiply $\\alpha$ by x_mean\n",
    "    #Subtract $\\bar y$ by alpha * x_mean\n",
    "    \n",
    "    beta = y_mean - (alpha * x_mean)\n",
    "    \n",
    "    #Outputs: $\\alpha$ and $\\beta$    \n",
    "    return alpha, beta"
   ]
  },
  {
   "cell_type": "markdown",
   "metadata": {},
   "source": [
    "## Task 4: Test the Implementation of Task 3\n",
    "Use at least the dataset of Task 2, or possibly also other datasets, to exercise your implementation of Task 3.\n",
    "> Marking information: Up to 10 points for Python instructions to run the test and the comparison to expected values previously found using pen and paper."
   ]
  },
  {
   "cell_type": "code",
   "execution_count": 15,
   "metadata": {},
   "outputs": [
    {
     "name": "stdout",
     "output_type": "stream",
     "text": [
      "(12.5, -4.0)\n",
      "(5.0, 0.0)\n"
     ]
    }
   ],
   "source": [
    "list_xy = [[1,10],[2,18],[3,35]]\n",
    "test_xy = [[1,5],[2,10]]\n",
    "empty_xy = [[]]\n",
    "print(linear_regression(list_xy))\n",
    "print(linear_regression(test_xy))\n",
    "#print(linear_regression(empty_xy))"
   ]
  },
  {
   "cell_type": "markdown",
   "metadata": {},
   "source": [
    "We can see from the above tests that:\n",
    ">a. the code returns the same values as what was found by hand in Task 3 for the same dataset<br>\n",
    "b. for a perfect data set, the code returns the expected alpha and beta values, thus instilling confidence in the code<br>\n",
    "c. for a test dataset of less than two elements, the code returns an error as expected<br>"
   ]
  },
  {
   "cell_type": "markdown",
   "metadata": {},
   "source": [
    "## Task 5: Additional work\n",
    "\n",
    "Using sample data set from https://online.stat.psu.edu/stat462/sites/onlinecourses.science.psu.edu.stat462/files/data/poverty/index.txt,\n",
    "we are going to look at the relationship between poverty percentage and teen birth rate in 50 states in the US and District of Columbia (n = 51). The y values are the birth rates for 15-17 year olds in the year 2002, and the x values are the poverty rate, which is the percent of the state’s population living in households with incomes below the federally defined poverty level.\n",
    "\n",
    "We will extract the relevant data from the file, and test our code (written in task 3) to test whether the alpha and beta values match those given in https://online.stat.psu.edu/stat462/node/101/, and those outputed by using standard python libraries"
   ]
  },
  {
   "cell_type": "code",
   "execution_count": 3,
   "metadata": {},
   "outputs": [
    {
     "ename": "KeyError",
     "evalue": "'%'",
     "output_type": "error",
     "traceback": [
      "\u001b[0;31m---------------------------------------------------------------------------\u001b[0m",
      "\u001b[0;31mKeyError\u001b[0m                                  Traceback (most recent call last)",
      "\u001b[0;32m<ipython-input-3-b8d9612199ad>\u001b[0m in \u001b[0;36m<module>\u001b[0;34m\u001b[0m\n\u001b[1;32m     19\u001b[0m \u001b[0mplt\u001b[0m\u001b[0;34m.\u001b[0m\u001b[0mplot\u001b[0m\u001b[0;34m(\u001b[0m\u001b[0mx\u001b[0m\u001b[0;34m,\u001b[0m \u001b[0malpha\u001b[0m\u001b[0;34m*\u001b[0m\u001b[0mx\u001b[0m \u001b[0;34m+\u001b[0m \u001b[0mbeta\u001b[0m \u001b[0;34m)\u001b[0m\u001b[0;34m\u001b[0m\u001b[0m\n\u001b[1;32m     20\u001b[0m \u001b[0;34m\u001b[0m\u001b[0m\n\u001b[0;32m---> 21\u001b[0;31m \u001b[0mprint\u001b[0m\u001b[0;34m(\u001b[0m\u001b[0;34m\"Alpha = {%.3f} and beta = {%.3f}\"\u001b[0m\u001b[0;34m.\u001b[0m\u001b[0mformat\u001b[0m\u001b[0;34m(\u001b[0m\u001b[0malpha\u001b[0m\u001b[0;34m,\u001b[0m \u001b[0mbeta\u001b[0m\u001b[0;34m)\u001b[0m\u001b[0;34m)\u001b[0m\u001b[0;34m\u001b[0m\u001b[0m\n\u001b[0m",
      "\u001b[0;31mKeyError\u001b[0m: '%'"
     ]
    },
    {
     "data": {
      "image/png": "[encoded data removed]",
      "text/plain": [
       "<Figure size 432x288 with 1 Axes>"
      ]
     },
     "metadata": {
      "needs_background": "light"
     },
     "output_type": "display_data"
    }
   ],
   "source": [
    "import pandas as pd\n",
    "import numpy as np\n",
    "import matplotlib.pyplot as plt\n",
    "\n",
    "data = pd.read_csv('https://online.stat.psu.edu/stat462/sites/onlinecourses.science.psu.edu.stat462/files/data/poverty/index.txt', sep = \"\\t\")\n",
    "\n",
    "#print(data)\n",
    "\n",
    "#Copy the relevant columns to lists so that we can use them in our linear_regression code (task 3)\n",
    "pov_pct = data['PovPct'].tolist()\n",
    "\n",
    "birth_rate = data['Brth15to17'].tolist()\n",
    "\n",
    "x=np.array(pov_pct)\n",
    "y=np.array(birth_rate)\n",
    "\n",
    "alpha, beta = np.polyfit(x,y,1)\n",
    "plt.scatter(x,y)\n",
    "plt.plot(x, alpha*x + beta )\n",
    "\n",
    "print(\"Alpha = {%.3f} and beta = {%.3f}\".format(alpha, beta))"
   ]
  },
  {
   "cell_type": "markdown",
   "metadata": {},
   "source": [
    "We can see that the alpha and beta values are the same as the ones in the original source (https://online.stat.psu.edu/stat462/node/101/)\n",
    "\n",
    "Next, we will compare the alpha and beta values to our code in task 3 to see if our code is correct."
   ]
  },
  {
   "cell_type": "code",
   "execution_count": 17,
   "metadata": {},
   "outputs": [
    {
     "data": {
      "text/plain": [
       "(1.3733453886953968, 4.267292842407446)"
      ]
     },
     "execution_count": 17,
     "metadata": {},
     "output_type": "execute_result"
    }
   ],
   "source": [
    "#Since our function only accepts a list of lists ([[x1,y1],[x2,y2],..]), we need to combine pov_pct and \n",
    "#birth_rate above into one list\n",
    "\n",
    "data_list = []\n",
    "\n",
    "for i in range(len(pov_pct)):\n",
    "    data_list.append([pov_pct[i],birth_rate[i]])\n",
    "\n",
    "linear_regression(data_list)\n"
   ]
  },
  {
   "cell_type": "code",
   "execution_count": null,
   "metadata": {},
   "outputs": [],
   "source": []
  }
 ],
 "metadata": {
  "kernelspec": {
   "display_name": "Python 3",
   "language": "python",
   "name": "python3"
  },
  "language_info": {
   "codemirror_mode": {
    "name": "ipython",
    "version": 3
   },
   "file_extension": ".py",
   "mimetype": "text/x-python",
   "name": "python",
   "nbconvert_exporter": "python",
   "pygments_lexer": "ipython3",
   "version": "3.8.8"
  }
 },
 "nbformat": 4,
 "nbformat_minor": 4
}
