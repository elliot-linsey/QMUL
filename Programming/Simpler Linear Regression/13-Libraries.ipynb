{
 "cells": [
  {
   "cell_type": "markdown",
   "metadata": {},
   "source": [
    "# Classes\n",
    "Python supports object-oriented programming. This can be helpful to even better structure implementations. Consider this implementation of linear regression:"
   ]
  },
  {
   "cell_type": "code",
   "execution_count": 24,
   "metadata": {},
   "outputs": [
    {
     "name": "stdout",
     "output_type": "stream",
     "text": [
      "Coefficients: alpha=0.800, beta=0.400\n"
     ]
    }
   ],
   "source": [
    "# should likely get rid of this and use built-in function mean()\n",
    "def compute_mean(values):\n",
    "    return sum(values) / len(values)\n",
    "\n",
    "def covariance(x, mean_x, y, mean_y):\n",
    "    covar = 0.0\n",
    "    for x_i, y_i in zip(x, y):\n",
    "        covar += (x_i - mean_x) * (y_i - mean_y)\n",
    "    return covar\n",
    "\n",
    "def variance(values, mean):\n",
    "    return_list = []\n",
    "    for x in values:\n",
    "        return_list.append((x - mean) ** 2)\n",
    "    return sum(return_list)\n",
    "    #return sum([(x-mean)**2 for x in values])\n",
    "\n",
    "def compute_alpha_beta(x_values, y_values):\n",
    "    x_mean = compute_mean(x_values)\n",
    "    y_mean = compute_mean(y_values)\n",
    "    cov = covariance(x_values, x_mean, y_values, y_mean)\n",
    "    alpha = cov / variance(x_values, x_mean)\n",
    "    beta = y_mean - alpha * x_mean\n",
    "    return [alpha, beta]\n",
    "\n",
    "x = [1, 2, 3, 4, 5]\n",
    "y = [1, 3, 2, 3, 5]\n",
    "alpha, beta = compute_alpha_beta(x, y)\n",
    "#print(\"Coefficients: alpha=\" + str(alpha) + \", beta=\" + str(beta))\n",
    "print('Coefficients: alpha=%.3f, beta=%.3f' % (alpha, beta))"
   ]
  },
  {
   "cell_type": "code",
   "execution_count": 21,
   "metadata": {},
   "outputs": [
    {
     "name": "stdout",
     "output_type": "stream",
     "text": [
      "1\n",
      "2\n",
      "3\n",
      "4\n",
      "5\n"
     ]
    }
   ],
   "source": [
    "x = [1, 2, 3, 4, 5]\n",
    "y = [1, 3, 2, 3, 5]\n",
    "\"\"\"\n",
    "for i in range(0, len(x)):\n",
    "    print(\"x_i: \" + str(x[i]))\n",
    "    print(\"y_i: \" + str(y[i]))\n",
    "for x_i in x:\n",
    "    print(\"x_i: \" + str(x_i))\n",
    "print(list(zip(x, y)))\n",
    "for x_i, y_i in zip(x, y):\n",
    "    print(\"x_i: \" + str(x_i))\n",
    "    print(\"y_i: \" + str(y_i))\n",
    "\"\"\"\n",
    "    \n",
    "# access element at index 2\n",
    "x[2]\n",
    "for i in range(0, len(x)):\n",
    "    print(x[i])"
   ]
  },
  {
   "cell_type": "code",
   "execution_count": 5,
   "metadata": {},
   "outputs": [
    {
     "name": "stdout",
     "output_type": "stream",
     "text": [
      "Coefficients: alpha=0.800, beta=0.400\n",
      "Coefficients: alpha=1.000, beta=9.000\n"
     ]
    }
   ],
   "source": [
    "class class_to_inherit_from:\n",
    "    def some_method(self):\n",
    "        pass\n",
    "\n",
    "class linear_regression(class_to_inherit_from):\n",
    "    # we can declare fields, but don't strictly need to if\n",
    "    # the constructor below sets them anyway\n",
    "    x_values = []\n",
    "    y_values = []\n",
    "    \n",
    "    # constructor\n",
    "    def __init__(self, x_values, y_values):\n",
    "        self.x_values = x_values\n",
    "        self.y_values = y_values\n",
    "    \n",
    "    # should likely get rid of this and use built-in function mean()\n",
    "    def compute_mean(self, values):\n",
    "        return sum(values) / len(values)\n",
    "\n",
    "    def covariance(self, mean_x, mean_y):\n",
    "        covar = 0.0\n",
    "        for x_i, y_i in zip(self.x_values, self.y_values):\n",
    "            covar += (x_i - mean_x) * (y_i - mean_y)\n",
    "        return covar\n",
    "\n",
    "    def variance(self, mean):\n",
    "        return_list = []\n",
    "        for x in self.x_values:\n",
    "            return_list.append((x - mean) ** 2)\n",
    "        return sum(return_list)\n",
    "        #return sum([(x-mean)**2 for self.x_values in values])\n",
    "\n",
    "    def compute_alpha_beta(self):\n",
    "        x_mean = self.compute_mean(self.x_values)\n",
    "        y_mean = self.compute_mean(self.y_values)\n",
    "        cov = self.covariance(x_mean, y_mean)\n",
    "        alpha = cov / self.variance(x_mean)\n",
    "        beta = y_mean - alpha * x_mean\n",
    "        return [alpha, beta]\n",
    "\n",
    "    \n",
    "x = [1, 2, 3, 4, 5]\n",
    "y = [1, 3, 2, 3, 5]\n",
    "\n",
    "# create an instance of the class\n",
    "l = linear_regression(x, y)\n",
    "y2 = [10, 11, 12, 13, 14]\n",
    "l2 = linear_regression(x, y2)\n",
    "alpha, beta = l.compute_alpha_beta()\n",
    "#print(\"Coefficients: alpha=\" + str(alpha) + \", beta=\" + str(beta))\n",
    "print('Coefficients: alpha=%.3f, beta=%.3f' % (alpha, beta))\n",
    "alpha, beta = l2.compute_alpha_beta()\n",
    "#print(\"Coefficients: alpha=\" + str(alpha) + \", beta=\" + str(beta))\n",
    "print('Coefficients: alpha=%.3f, beta=%.3f' % (alpha, beta))"
   ]
  },
  {
   "cell_type": "markdown",
   "metadata": {},
   "source": [
    "# Modules\n",
    "Thus far, we have implemented all functionality from scratch. In practice, a lot of problems have been solved by someone else already, and you can readily draw upon their implementation. Python refers to this approach as _modules_, which are otherwise also known as _libraries_. Modules are picked up using the `import` keyword:"
   ]
  },
  {
   "cell_type": "code",
   "execution_count": 34,
   "metadata": {},
   "outputs": [
    {
     "name": "stdout",
     "output_type": "stream",
     "text": [
      "Coefficients: alpha=0.800, beta=0.400\n"
     ]
    },
    {
     "data": {
      "text/plain": [
       "[<matplotlib.lines.Line2D at 0x12292aaf0>]"
      ]
     },
     "execution_count": 34,
     "metadata": {},
     "output_type": "execute_result"
    },
    {
     "data": {
      "image/png": "[encoded data removed]",
      "text/plain": [
       "<Figure size 432x288 with 1 Axes>"
      ]
     },
     "metadata": {
      "needs_background": "light"
     },
     "output_type": "display_data"
    }
   ],
   "source": [
    "# not necessary on EECS Jupyterlab systems\n",
    "import sys\n",
    "sys.path.append('/usr/local/lib/python3.8/site-packages')\n",
    "\n",
    "# https://matplotlib.org/3.3.1/api/_as_gen/matplotlib.pyplot.html\n",
    "import matplotlib.pyplot as plt\n",
    "\n",
    "def compute_mean(values):\n",
    "    return sum(values) / len(values)\n",
    "\n",
    "def covariance(x, mean_x, y, mean_y):\n",
    "    covar = 0.0\n",
    "    for x_i, y_i in zip(x, y):\n",
    "        covar += (x_i - mean_x) * (y_i - mean_y)\n",
    "    return covar\n",
    "\n",
    "def variance(values, mean):\n",
    "    return sum([(x-mean)**2 for x in values])\n",
    "\n",
    "def compute_alpha_beta(x_values, y_values):\n",
    "    x_mean = compute_mean(x_values)\n",
    "    y_mean = compute_mean(y_values)\n",
    "    alpha = covariance(x_values, x_mean, y_values, y_mean) / variance(x_values, x_mean)\n",
    "    beta = y_mean - alpha * x_mean\n",
    "    return [alpha, beta]\n",
    "\n",
    "x = [1, 2, 3, 4, 5]\n",
    "y = [1, 3, 2, 3, 5]\n",
    "alpha, beta = compute_alpha_beta(x, y)\n",
    "print('Coefficients: alpha=%.3f, beta=%.3f' % (alpha, beta))\n",
    "\n",
    "figure, plots = plt.subplots()\n",
    "plots.scatter(x, y)\n",
    "plots.plot([0, 5], [0*alpha + beta, 5*alpha + beta])"
   ]
  },
  {
   "cell_type": "code",
   "execution_count": null,
   "metadata": {},
   "outputs": [],
   "source": []
  }
 ],
 "metadata": {
  "kernelspec": {
   "display_name": "Python 3",
   "language": "python",
   "name": "python3"
  },
  "language_info": {
   "codemirror_mode": {
    "name": "ipython",
    "version": 3
   },
   "file_extension": ".py",
   "mimetype": "text/x-python",
   "name": "python",
   "nbconvert_exporter": "python",
   "pygments_lexer": "ipython3",
   "version": "3.8.5"
  }
 },
 "nbformat": 4,
 "nbformat_minor": 4
}
