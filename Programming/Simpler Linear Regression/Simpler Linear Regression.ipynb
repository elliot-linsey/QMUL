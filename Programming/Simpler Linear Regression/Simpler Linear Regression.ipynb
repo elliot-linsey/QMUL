{
 "cells": [
  {
   "cell_type": "code",
   "execution_count": 19,
   "id": "8e8312f2",
   "metadata": {},
   "outputs": [],
   "source": [
    "import numpy as np\n",
    "import pandas as pd\n",
    "from matplotlib import pyplot as plt\n",
    "import seaborn as sns\n",
    "import math"
   ]
  },
  {
   "cell_type": "markdown",
   "id": "3b520755",
   "metadata": {},
   "source": [
    "## Task One\n",
    "To figure out the values of alpha and beta in y = alpha(x) + beta:\n",
    "1. Find the mean values of x[i] and y[i]\n",
    "2. To find alpha, sum each value of x[i] - x_mean, then multiply this by the sum of each value of y[i] - y_mean\n",
    "3. Divide this result by the sum of (x[i] - x_mean)squared. This results in alpha.\n",
    "4. To find beta, minus alpha*(x_mean) from the mean of y.\n",
    "5. You now have both alpha and beta for the equation y = alpha*(x) + beta"
   ]
  },
  {
   "cell_type": "markdown",
   "id": "4da0ac39",
   "metadata": {},
   "source": [
    "## Task Two"
   ]
  },
  {
   "cell_type": "code",
   "execution_count": 2,
   "id": "a2e0ebed",
   "metadata": {},
   "outputs": [
    {
     "data": {
      "text/html": [
       "<div>\n",
       "<style scoped>\n",
       "    .dataframe tbody tr th:only-of-type {\n",
       "        vertical-align: middle;\n",
       "    }\n",
       "\n",
       "    .dataframe tbody tr th {\n",
       "        vertical-align: top;\n",
       "    }\n",
       "\n",
       "    .dataframe thead th {\n",
       "        text-align: right;\n",
       "    }\n",
       "</style>\n",
       "<table border=\"1\" class=\"dataframe\">\n",
       "  <thead>\n",
       "    <tr style=\"text-align: right;\">\n",
       "      <th></th>\n",
       "      <th>x</th>\n",
       "      <th>y</th>\n",
       "    </tr>\n",
       "  </thead>\n",
       "  <tbody>\n",
       "    <tr>\n",
       "      <th>0</th>\n",
       "      <td>5</td>\n",
       "      <td>20</td>\n",
       "    </tr>\n",
       "    <tr>\n",
       "      <th>1</th>\n",
       "      <td>6</td>\n",
       "      <td>22</td>\n",
       "    </tr>\n",
       "    <tr>\n",
       "      <th>2</th>\n",
       "      <td>8</td>\n",
       "      <td>33</td>\n",
       "    </tr>\n",
       "  </tbody>\n",
       "</table>\n",
       "</div>"
      ],
      "text/plain": [
       "   x   y\n",
       "0  5  20\n",
       "1  6  22\n",
       "2  8  33"
      ]
     },
     "execution_count": 2,
     "metadata": {},
     "output_type": "execute_result"
    }
   ],
   "source": [
    "df = pd.DataFrame({\n",
    "    'x': [5,6,8],\n",
    "    'y': [20,22,33]\n",
    "})\n",
    "df"
   ]
  },
  {
   "cell_type": "code",
   "execution_count": 3,
   "id": "f12a545a",
   "metadata": {},
   "outputs": [
    {
     "name": "stdout",
     "output_type": "stream",
     "text": [
      "6.333333333333333\n",
      "25.0\n"
     ]
    }
   ],
   "source": [
    "mean_of_x = (5+6+8)/3\n",
    "mean_of_y = (20+22+33)/3\n",
    "print(mean_of_x)\n",
    "print(mean_of_y)"
   ]
  },
  {
   "cell_type": "markdown",
   "id": "4938a2f7",
   "metadata": {},
   "source": [
    "Now to find alpha using step 2"
   ]
  },
  {
   "cell_type": "code",
   "execution_count": 4,
   "id": "fb8bdcb3",
   "metadata": {},
   "outputs": [
    {
     "name": "stdout",
     "output_type": "stream",
     "text": [
      "21.0\n",
      "4.666666666666666\n",
      "4.500000000000001\n"
     ]
    }
   ],
   "source": [
    "x_y_sums = ((5 - mean_of_x)*(20 - mean_of_y)) + ((6 - mean_of_x)*(22 - mean_of_y)) + ((8 - mean_of_x)*(33 - mean_of_y))\n",
    "print(x_y_sums)\n",
    "\n",
    "xs_squared = ((5 - mean_of_x)**2 + (6 - mean_of_x)**2 + (8 - mean_of_x)**2)\n",
    "print(xs_squared)\n",
    "\n",
    "alpha = x_y_sums/xs_squared\n",
    "print(alpha)\n"
   ]
  },
  {
   "cell_type": "markdown",
   "id": "8036fa90",
   "metadata": {},
   "source": [
    "Here is a more automated version of above"
   ]
  },
  {
   "cell_type": "code",
   "execution_count": 5,
   "id": "16537d91",
   "metadata": {},
   "outputs": [
    {
     "name": "stdout",
     "output_type": "stream",
     "text": [
      "21.0\n",
      "4.666666666666666\n",
      "4.500000000000001\n"
     ]
    }
   ],
   "source": [
    "x = df['x']\n",
    "y = df['y']\n",
    "\n",
    "top = 0\n",
    "bot = 0\n",
    "\n",
    "for i in range(len(df['x'])):\n",
    "    top += (x[i] - mean_of_x)*(y[i] - mean_of_y)\n",
    "    bot += (x[i] - mean_of_x)**2\n",
    "print(top)\n",
    "print(bot)\n",
    "print(top/bot)"
   ]
  },
  {
   "cell_type": "markdown",
   "id": "1a7db6b3",
   "metadata": {},
   "source": [
    "To find beta, we multiply alpha by mean_of_x and take the result away from mean_of_y "
   ]
  },
  {
   "cell_type": "code",
   "execution_count": 6,
   "id": "acd0cc2a",
   "metadata": {},
   "outputs": [
    {
     "name": "stdout",
     "output_type": "stream",
     "text": [
      "-3.5000000000000036\n"
     ]
    }
   ],
   "source": [
    "beta = mean_of_y - (alpha*mean_of_x)\n",
    "print(beta)"
   ]
  },
  {
   "cell_type": "markdown",
   "id": "904b1a03",
   "metadata": {},
   "source": [
    "Now we have both alpha and beta, we can put them into our linear equation:\\\n",
    "y = 4.50*(x) + (-3.50)\n"
   ]
  },
  {
   "cell_type": "markdown",
   "id": "27c4e100",
   "metadata": {},
   "source": [
    "Here, 4.50 is the slope of the line and -3.50 is the y-intercept. If x is 0, y = -3.50 and for every value that x increases, y increases by 4.50. "
   ]
  },
  {
   "cell_type": "markdown",
   "id": "a39b2f09",
   "metadata": {},
   "source": [
    "## Task Three and Four\n",
    "Now I will use a larger dataset and follow the same method but with more python-like language and then try and plot the results on a graph with the line."
   ]
  },
  {
   "cell_type": "code",
   "execution_count": 7,
   "id": "47777559",
   "metadata": {},
   "outputs": [
    {
     "data": {
      "text/html": [
       "<div>\n",
       "<style scoped>\n",
       "    .dataframe tbody tr th:only-of-type {\n",
       "        vertical-align: middle;\n",
       "    }\n",
       "\n",
       "    .dataframe tbody tr th {\n",
       "        vertical-align: top;\n",
       "    }\n",
       "\n",
       "    .dataframe thead th {\n",
       "        text-align: right;\n",
       "    }\n",
       "</style>\n",
       "<table border=\"1\" class=\"dataframe\">\n",
       "  <thead>\n",
       "    <tr style=\"text-align: right;\">\n",
       "      <th></th>\n",
       "      <th>x</th>\n",
       "      <th>y</th>\n",
       "    </tr>\n",
       "  </thead>\n",
       "  <tbody>\n",
       "    <tr>\n",
       "      <th>0</th>\n",
       "      <td>5</td>\n",
       "      <td>20</td>\n",
       "    </tr>\n",
       "    <tr>\n",
       "      <th>1</th>\n",
       "      <td>6</td>\n",
       "      <td>22</td>\n",
       "    </tr>\n",
       "    <tr>\n",
       "      <th>2</th>\n",
       "      <td>8</td>\n",
       "      <td>33</td>\n",
       "    </tr>\n",
       "    <tr>\n",
       "      <th>3</th>\n",
       "      <td>10</td>\n",
       "      <td>30</td>\n",
       "    </tr>\n",
       "    <tr>\n",
       "      <th>4</th>\n",
       "      <td>12</td>\n",
       "      <td>28</td>\n",
       "    </tr>\n",
       "    <tr>\n",
       "      <th>5</th>\n",
       "      <td>13</td>\n",
       "      <td>34</td>\n",
       "    </tr>\n",
       "    <tr>\n",
       "      <th>6</th>\n",
       "      <td>15</td>\n",
       "      <td>40</td>\n",
       "    </tr>\n",
       "  </tbody>\n",
       "</table>\n",
       "</div>"
      ],
      "text/plain": [
       "    x   y\n",
       "0   5  20\n",
       "1   6  22\n",
       "2   8  33\n",
       "3  10  30\n",
       "4  12  28\n",
       "5  13  34\n",
       "6  15  40"
      ]
     },
     "execution_count": 7,
     "metadata": {},
     "output_type": "execute_result"
    }
   ],
   "source": [
    "df = pd.DataFrame({\n",
    "    'x': [5,6,8,10,12,13,15],\n",
    "    'y': [20,22,33,30,28,34,40]\n",
    "}) \n",
    "df"
   ]
  },
  {
   "cell_type": "code",
   "execution_count": 8,
   "id": "cd055b30",
   "metadata": {},
   "outputs": [
    {
     "data": {
      "image/png": "[encoded data removed]",
      "text/plain": [
       "<Figure size 432x288 with 1 Axes>"
      ]
     },
     "metadata": {
      "needs_background": "light"
     },
     "output_type": "display_data"
    }
   ],
   "source": [
    "sns.scatterplot(data=df, x='x', y='y')\n",
    "plt.show()"
   ]
  },
  {
   "cell_type": "code",
   "execution_count": 9,
   "id": "46175519",
   "metadata": {},
   "outputs": [],
   "source": [
    "x = df.x\n",
    "y = df.y"
   ]
  },
  {
   "cell_type": "code",
   "execution_count": 10,
   "id": "801108b1",
   "metadata": {},
   "outputs": [
    {
     "name": "stdout",
     "output_type": "stream",
     "text": [
      "9.857142857142858 29.571428571428573\n"
     ]
    }
   ],
   "source": [
    "x_mean = np.mean(x)\n",
    "y_mean = np.mean(y)\n",
    "print(x_mean, y_mean)"
   ]
  },
  {
   "cell_type": "code",
   "execution_count": 11,
   "id": "448caa1e",
   "metadata": {},
   "outputs": [
    {
     "data": {
      "text/plain": [
       "1.612068965517241"
      ]
     },
     "execution_count": 11,
     "metadata": {},
     "output_type": "execute_result"
    }
   ],
   "source": [
    "top = 0\n",
    "bot = 0\n",
    "\n",
    "for i in range(len(x)):\n",
    "    top += (x[i] - x_mean)*(y[i] - y_mean)\n",
    "    bot += (x[i] - x_mean)**2\n",
    "\n",
    "alpha = top/bot\n",
    "alpha"
   ]
  },
  {
   "cell_type": "markdown",
   "id": "59670582",
   "metadata": {},
   "source": [
    "beta = y_mean - alpha*(x_mean)"
   ]
  },
  {
   "cell_type": "code",
   "execution_count": 12,
   "id": "28917ca5",
   "metadata": {},
   "outputs": [
    {
     "data": {
      "text/plain": [
       "13.681034482758625"
      ]
     },
     "execution_count": 12,
     "metadata": {},
     "output_type": "execute_result"
    }
   ],
   "source": [
    "beta = y_mean - alpha*x_mean\n",
    "beta"
   ]
  },
  {
   "cell_type": "markdown",
   "id": "a5d72cee",
   "metadata": {},
   "source": [
    "y = alpha*(x) + beta\\\n",
    "Here I insert the minimum and maximum x values from my data into the equation to get the corresponding y values. "
   ]
  },
  {
   "cell_type": "code",
   "execution_count": 13,
   "id": "971bc8f9",
   "metadata": {
    "scrolled": true
   },
   "outputs": [
    {
     "name": "stdout",
     "output_type": "stream",
     "text": [
      "21.741379310344833\n",
      "37.86206896551724\n"
     ]
    }
   ],
   "source": [
    "five = (alpha*5) + beta\n",
    "fifteen = (alpha*15) + beta\n",
    "print(five)\n",
    "print(fifteen)"
   ]
  },
  {
   "cell_type": "markdown",
   "id": "472440ab",
   "metadata": {},
   "source": [
    "The resulting graph with the line of best fit. Using this we can now estimate values along the line."
   ]
  },
  {
   "cell_type": "code",
   "execution_count": 14,
   "id": "b557a398",
   "metadata": {
    "scrolled": true
   },
   "outputs": [
    {
     "data": {
      "image/png": "[encoded data removed]",
      "text/plain": [
       "<Figure size 432x288 with 1 Axes>"
      ]
     },
     "metadata": {
      "needs_background": "light"
     },
     "output_type": "display_data"
    }
   ],
   "source": [
    "sns.scatterplot(data=df, x='x', y='y')\n",
    "plt.plot([5,15],[21.741, 37.862])\n",
    "plt.show()"
   ]
  },
  {
   "cell_type": "markdown",
   "id": "4e4fffa1",
   "metadata": {},
   "source": [
    "#### From below I will demonstrate a more complex method, using Pearson's correlation coefficient"
   ]
  },
  {
   "cell_type": "code",
   "execution_count": 15,
   "id": "c4c52683",
   "metadata": {
    "scrolled": true
   },
   "outputs": [
    {
     "data": {
      "text/html": [
       "<div>\n",
       "<style scoped>\n",
       "    .dataframe tbody tr th:only-of-type {\n",
       "        vertical-align: middle;\n",
       "    }\n",
       "\n",
       "    .dataframe tbody tr th {\n",
       "        vertical-align: top;\n",
       "    }\n",
       "\n",
       "    .dataframe thead th {\n",
       "        text-align: right;\n",
       "    }\n",
       "</style>\n",
       "<table border=\"1\" class=\"dataframe\">\n",
       "  <thead>\n",
       "    <tr style=\"text-align: right;\">\n",
       "      <th></th>\n",
       "      <th>Age</th>\n",
       "      <th>Yearly_Income</th>\n",
       "    </tr>\n",
       "  </thead>\n",
       "  <tbody>\n",
       "    <tr>\n",
       "      <th>0</th>\n",
       "      <td>18</td>\n",
       "      <td>15000</td>\n",
       "    </tr>\n",
       "    <tr>\n",
       "      <th>1</th>\n",
       "      <td>25</td>\n",
       "      <td>29000</td>\n",
       "    </tr>\n",
       "    <tr>\n",
       "      <th>2</th>\n",
       "      <td>57</td>\n",
       "      <td>68000</td>\n",
       "    </tr>\n",
       "    <tr>\n",
       "      <th>3</th>\n",
       "      <td>45</td>\n",
       "      <td>52000</td>\n",
       "    </tr>\n",
       "    <tr>\n",
       "      <th>4</th>\n",
       "      <td>26</td>\n",
       "      <td>32000</td>\n",
       "    </tr>\n",
       "    <tr>\n",
       "      <th>5</th>\n",
       "      <td>64</td>\n",
       "      <td>80000</td>\n",
       "    </tr>\n",
       "    <tr>\n",
       "      <th>6</th>\n",
       "      <td>37</td>\n",
       "      <td>41000</td>\n",
       "    </tr>\n",
       "    <tr>\n",
       "      <th>7</th>\n",
       "      <td>40</td>\n",
       "      <td>45000</td>\n",
       "    </tr>\n",
       "    <tr>\n",
       "      <th>8</th>\n",
       "      <td>24</td>\n",
       "      <td>26000</td>\n",
       "    </tr>\n",
       "    <tr>\n",
       "      <th>9</th>\n",
       "      <td>33</td>\n",
       "      <td>33000</td>\n",
       "    </tr>\n",
       "  </tbody>\n",
       "</table>\n",
       "</div>"
      ],
      "text/plain": [
       "   Age  Yearly_Income\n",
       "0   18          15000\n",
       "1   25          29000\n",
       "2   57          68000\n",
       "3   45          52000\n",
       "4   26          32000\n",
       "5   64          80000\n",
       "6   37          41000\n",
       "7   40          45000\n",
       "8   24          26000\n",
       "9   33          33000"
      ]
     },
     "execution_count": 15,
     "metadata": {},
     "output_type": "execute_result"
    }
   ],
   "source": [
    "df = pd.DataFrame({'Age': [18,25,57,45,26,64,37,40,24,33], 'Yearly_Income':\n",
    "                  [15000, 29000,68000,52000,32000,80000,41000,45000,26000,33000]})\n",
    "df"
   ]
  },
  {
   "cell_type": "code",
   "execution_count": 16,
   "id": "11504a9d",
   "metadata": {},
   "outputs": [
    {
     "data": {
      "image/png": "[encoded data removed]",
      "text/plain": [
       "<Figure size 432x288 with 1 Axes>"
      ]
     },
     "metadata": {
      "needs_background": "light"
     },
     "output_type": "display_data"
    }
   ],
   "source": [
    "sns.scatterplot(data=df, x='Age', y='Yearly_Income')\n",
    "plt.show()"
   ]
  },
  {
   "cell_type": "markdown",
   "id": "d6f9be62",
   "metadata": {},
   "source": [
    "Firstly, let's calculate alpha. The formula for this is r * (Sy/Sx) which stands for Pearson's correlation coefficient multiplying (standard deviation of y/standard deviation of x) "
   ]
  },
  {
   "cell_type": "markdown",
   "id": "ee57ca03",
   "metadata": {},
   "source": [
    "This is the formula for Pearson's correlation coefficient:\n",
    "![alt text](download.png \"Pearson's R Formula\")\\\n",
    "It looks daunting but we will fill this in bit by bit. If the image doesn't load, the link is: https://editor.analyticsvidhya.com/uploads/39170Formula.JPG"
   ]
  },
  {
   "cell_type": "code",
   "execution_count": 39,
   "id": "cfbc91e3",
   "metadata": {},
   "outputs": [
    {
     "name": "stdout",
     "output_type": "stream",
     "text": [
      "0.999917240964218\n"
     ]
    }
   ],
   "source": [
    "x = df.Age\n",
    "y = df.Yearly_Income\n",
    "\n",
    "top = 0\n",
    "bot = 0\n",
    "\n",
    "for i in range(len(x)):\n",
    "    top += (x[i] - np.mean(x))*(y[i] - np.mean(y))\n",
    "    bot += math.sqrt(((x[i] - np.mean(x))**2)*((y[i] - np.mean(y))**2))\n",
    "\n",
    "r = top/bot\n",
    "print(r)"
   ]
  },
  {
   "cell_type": "markdown",
   "id": "a42c42f2",
   "metadata": {},
   "source": [
    "Now we have r we can return to our formula for alpha which is r * (Sy/Sx)."
   ]
  },
  {
   "cell_type": "code",
   "execution_count": 40,
   "id": "5aa582e3",
   "metadata": {},
   "outputs": [
    {
     "name": "stdout",
     "output_type": "stream",
     "text": [
      "18880.942773071478 14.187670703818863\n"
     ]
    }
   ],
   "source": [
    "Sy = np.std(df.Yearly_Income)\n",
    "Sx = np.std(df.Age)\n",
    "print(Sy, Sx)"
   ]
  },
  {
   "cell_type": "markdown",
   "id": "98929087",
   "metadata": {},
   "source": [
    "Slotting these into our formula gives:"
   ]
  },
  {
   "cell_type": "code",
   "execution_count": 47,
   "id": "e7fb881b",
   "metadata": {},
   "outputs": [
    {
     "name": "stdout",
     "output_type": "stream",
     "text": [
      "1330.6892018131773\n"
     ]
    }
   ],
   "source": [
    "alpha = r*(Sy/Sx)\n",
    "print(alpha)"
   ]
  },
  {
   "cell_type": "markdown",
   "id": "ca29dc65",
   "metadata": {},
   "source": [
    "So our slope is equal to 1330.689. For every 1 value that Age moves along, Yearly Income moves by 1330.689.\\\n",
    "To figure out beta is easier now we have this value. The formula for beta is (mean of y) - (alpha * mean of x)."
   ]
  },
  {
   "cell_type": "code",
   "execution_count": 48,
   "id": "b0f493a3",
   "metadata": {},
   "outputs": [
    {
     "name": "stdout",
     "output_type": "stream",
     "text": [
      "-7002.431546906242\n"
     ]
    }
   ],
   "source": [
    "beta = (np.mean(df.Yearly_Income)) - (alpha * np.mean(df.Age))\n",
    "print(beta)"
   ]
  },
  {
   "cell_type": "markdown",
   "id": "eeb6947e",
   "metadata": {},
   "source": [
    "Now that we have all the values, we can input them into our formula:\\\n",
    "y = -7002.431 + (1330.689 * x)"
   ]
  },
  {
   "cell_type": "markdown",
   "id": "34a2cbe9",
   "metadata": {},
   "source": [
    "Our maximum age is 64, but we can now predict values above this value using the formula. However, let's say the retirement age is 65 in this scenario and we're only interested in this populations active working income. Let's also set our lower boundary as 18 due to it being the youngest working age in this population.\\\n",
    "We can calculate the Y values by inputting 64 and 18 into our formula:"
   ]
  },
  {
   "cell_type": "code",
   "execution_count": 49,
   "id": "776e3472",
   "metadata": {},
   "outputs": [
    {
     "name": "stdout",
     "output_type": "stream",
     "text": [
      "16949.971\n",
      "78161.66500000001\n"
     ]
    }
   ],
   "source": [
    "print(-7002.431 + 1330.689*18)\n",
    "print(-7002.431 + 1330.689*64)"
   ]
  },
  {
   "cell_type": "code",
   "execution_count": 51,
   "id": "05b56705",
   "metadata": {},
   "outputs": [
    {
     "data": {
      "image/png": "[encoded data removed]",
      "text/plain": [
       "<Figure size 432x288 with 1 Axes>"
      ]
     },
     "metadata": {
      "needs_background": "light"
     },
     "output_type": "display_data"
    }
   ],
   "source": [
    "#plotting the scatter plot\n",
    "sns.scatterplot(data=df, x='Age', y='Yearly_Income')\n",
    "\n",
    "plt.plot([18,64], [17141.924, 77886.397])\n",
    "plt.show()"
   ]
  },
  {
   "cell_type": "markdown",
   "id": "ce3e9be4",
   "metadata": {},
   "source": [
    "Thanks for reading! "
   ]
  },
  {
   "cell_type": "markdown",
   "id": "96504f71",
   "metadata": {},
   "source": [
    "Elliot Linsey QMUL"
   ]
  }
 ],
 "metadata": {
  "kernelspec": {
   "display_name": "Python 3 (ipykernel)",
   "language": "python",
   "name": "python3"
  },
  "language_info": {
   "codemirror_mode": {
    "name": "ipython",
    "version": 3
   },
   "file_extension": ".py",
   "mimetype": "text/x-python",
   "name": "python",
   "nbconvert_exporter": "python",
   "pygments_lexer": "ipython3",
   "version": "3.8.12"
  }
 },
 "nbformat": 4,
 "nbformat_minor": 5
}
