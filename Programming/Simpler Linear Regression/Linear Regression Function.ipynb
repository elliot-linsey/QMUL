{
 "cells": [
  {
   "cell_type": "code",
   "execution_count": 10,
   "id": "87546718",
   "metadata": {},
   "outputs": [],
   "source": [
    "import pandas as pd\n",
    "import numpy as np\n",
    "from matplotlib import pyplot as plt\n",
    "import seaborn as sns"
   ]
  },
  {
   "cell_type": "code",
   "execution_count": 11,
   "id": "d34bd017",
   "metadata": {
    "scrolled": true
   },
   "outputs": [],
   "source": [
    "def linear_regression(csv):\n",
    "    df = pd.read_csv(csv)\n",
    "    x = df.iloc[:,0]\n",
    "    y = df.iloc[:,1]\n",
    "    \n",
    "    mean_of_x = np.mean(x)\n",
    "    mean_of_y = np.mean(y)\n",
    "    \n",
    "    top = 0\n",
    "    bot = 0\n",
    "\n",
    "    for i in range(len(x)):\n",
    "        top += (x[i] - mean_of_x)*(y[i] - mean_of_y)\n",
    "        bot += (x[i] - mean_of_x)**2\n",
    "    alpha = top/bot\n",
    "    beta = mean_of_y - (alpha*mean_of_x)\n",
    "    print(f'alpha: {round(alpha,3)}')\n",
    "    print(f'beta: {round(beta,3)}')\n",
    "    print(f'y = {round(alpha,3)}*x + {round(beta,3)}')\n",
    "    minimum = alpha*min(x) + beta\n",
    "    maximum = alpha*max(x) + beta\n",
    "    #sns.scatterplot(x=x,y=y)\n",
    "    #plt.plot([min(x), max(x)], [minimum, maximum])\n",
    "    #plt.xlabel(df.columns[0])\n",
    "    #plt.ylabel(df.columns[1])\n",
    "    #plt.show()\n",
    "    return [alpha, beta]\n",
    "    "
   ]
  },
  {
   "cell_type": "code",
   "execution_count": 12,
   "id": "039bd22b",
   "metadata": {},
   "outputs": [
    {
     "name": "stdout",
     "output_type": "stream",
     "text": [
      "alpha: 1.612\n",
      "beta: 13.681\n",
      "y = 1.612*x + 13.681\n",
      "alpha: 1.612\n",
      "beta: 13.681\n",
      "y = 1.612*x + 13.681\n"
     ]
    }
   ],
   "source": [
    "def tests():\n",
    "    assert(round(linear_regression('samples.csv')[0],3) == 1.612)\n",
    "    assert(round(linear_regression('samples.csv')[1],3) == 13.681)\n",
    "tests()\n",
    "\n"
   ]
  },
  {
   "cell_type": "code",
   "execution_count": 13,
   "id": "b97f530c",
   "metadata": {},
   "outputs": [
    {
     "name": "stdout",
     "output_type": "stream",
     "text": [
      "alpha: 1.612\n",
      "beta: 13.681\n",
      "y = 1.612*x + 13.681\n"
     ]
    },
    {
     "data": {
      "text/plain": [
       "[1.612068965517241, 13.681034482758625]"
      ]
     },
     "execution_count": 13,
     "metadata": {},
     "output_type": "execute_result"
    }
   ],
   "source": [
    "linear_regression('samples.csv')"
   ]
  },
  {
   "cell_type": "code",
   "execution_count": 14,
   "id": "60e8c2c4",
   "metadata": {
    "scrolled": true
   },
   "outputs": [
    {
     "name": "stdout",
     "output_type": "stream",
     "text": [
      "alpha: 1320.533\n",
      "beta: -6627.652\n",
      "y = 1320.533*x + -6627.652\n"
     ]
    },
    {
     "data": {
      "text/plain": [
       "[1320.5325649560334, -6627.651646877632]"
      ]
     },
     "execution_count": 14,
     "metadata": {},
     "output_type": "execute_result"
    }
   ],
   "source": [
    "linear_regression('samples2.csv')"
   ]
  },
  {
   "cell_type": "code",
   "execution_count": 15,
   "id": "8f6145f8",
   "metadata": {},
   "outputs": [
    {
     "data": {
      "image/png": "[encoded data removed]",
      "text/plain": [
       "<Figure size 432x288 with 1 Axes>"
      ]
     },
     "metadata": {
      "needs_background": "light"
     },
     "output_type": "display_data"
    },
    {
     "name": "stdout",
     "output_type": "stream",
     "text": [
      "None\n"
     ]
    }
   ],
   "source": [
    "class basic_arithmetic:\n",
    "    def __init__(self, values):\n",
    "        self.values = values\n",
    "    def compute_mean(self):\n",
    "        return sum(self.values)/len(self.values)\n",
    "\n",
    "class linear_regression:\n",
    "    def __init__(self, x_values, y_values):\n",
    "        self.x_values = x_values\n",
    "        self.y_values = y_values\n",
    "    def x_mean(self):\n",
    "        return basic_arithmetic(self.x_values).compute_mean()\n",
    "    def y_mean(self):\n",
    "        return basic_arithmetic(self.y_values).compute_mean()\n",
    "    def covariance(self):\n",
    "        result = 0\n",
    "        for i in range(len(self.x_values)):\n",
    "            result += (self.x_values[i] - self.x_mean())*(self.y_values[i] - self.y_mean())\n",
    "        return result\n",
    "    def variance(self):\n",
    "        result = 0\n",
    "        for x in self.x_values:\n",
    "            result += (x - self.x_mean())**2\n",
    "        return result\n",
    "    def alpha(self):\n",
    "        return self.covariance()/self.variance()\n",
    "    def beta(self):\n",
    "        return self.y_mean() - self.alpha()*self.x_mean()\n",
    "    def plot(self):\n",
    "        sns.scatterplot(x=self.x_values, y=self.y_values)\n",
    "        plt.plot([self.x_values[0], self.x_values[-1]], \n",
    "                 [self.beta() + self.alpha()*self.x_values[0], self.beta() + self.alpha()*self.x_values[-1]])\n",
    "        return plt.show()\n",
    "        \n",
    "linear = linear_regression([5,6,8,10,12,13,15],[20,22,33,30,28,34,40])\n",
    "\n",
    "print(linear.plot())"
   ]
  },
  {
   "cell_type": "code",
   "execution_count": 18,
   "id": "4ab9273c",
   "metadata": {},
   "outputs": [],
   "source": [
    "def test():\n",
    "    numbers = basic_arithmetic([4,5,6])\n",
    "    assert numbers.compute_mean() == (4+5+6)/3\n",
    "\n",
    "test()"
   ]
  }
 ],
 "metadata": {
  "kernelspec": {
   "display_name": "Python 3",
   "language": "python",
   "name": "python3"
  },
  "language_info": {
   "codemirror_mode": {
    "name": "ipython",
    "version": 3
   },
   "file_extension": ".py",
   "mimetype": "text/x-python",
   "name": "python",
   "nbconvert_exporter": "python",
   "pygments_lexer": "ipython3",
   "version": "3.8.8"
  }
 },
 "nbformat": 4,
 "nbformat_minor": 5
}
