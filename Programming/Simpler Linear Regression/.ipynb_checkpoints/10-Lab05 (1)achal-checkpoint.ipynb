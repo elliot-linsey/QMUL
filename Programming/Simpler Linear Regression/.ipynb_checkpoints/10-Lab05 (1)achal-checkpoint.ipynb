{
 "cells": [
  {
   "cell_type": "markdown",
   "metadata": {},
   "source": [
    "# Lab 5\n",
    "\n",
    "In this lab, you will further improve previous work to reduce the likelihood of implementation errors."
   ]
  },
  {
   "cell_type": "markdown",
   "metadata": {},
   "source": [
    "## Example (continued): Computing the mean value\n",
    "\n",
    "The preceding lab sheet included the following example to compute the mean value of a particular list of integers:"
   ]
  },
  {
   "cell_type": "code",
   "execution_count": 2,
   "metadata": {},
   "outputs": [
    {
     "name": "stdout",
     "output_type": "stream",
     "text": [
      "11.8\n",
      "45446.2375\n"
     ]
    }
   ],
   "source": [
    "def compute_mean(list_of_integers):\n",
    "    \"\"\"\n",
    "    1. Compute the sum of the input integers\n",
    "    2. Determine the number of inputs\n",
    "    3. Divide the the sum computed in step 1 by the number determined in step 2\n",
    "    \"\"\"\n",
    "    computed_sum = sum(list_of_integers)\n",
    "    number_of_inputs = len(list_of_integers)\n",
    "    return computed_sum / number_of_inputs\n",
    "\n",
    "# Compute the mean of a collection of input values\n",
    "input_integers = [10, 20, 25, 1, 3]\n",
    "print(compute_mean(input_integers))\n",
    "\n",
    "def read_integers_from_file(filename):\n",
    "    \"\"\"\n",
    "    Read the integers contained in the first line of `filename`,\n",
    "    assuming they are separated by commas\n",
    "    \"\"\"\n",
    "    with open(filename) as f:\n",
    "        first_line = f.readlines()[0].rstrip()\n",
    "        return [int(i) for i in first_line.split(\",\")]\n",
    "\n",
    "print(compute_mean(read_integers_from_file(\"test.txt\")))"
   ]
  },
  {
   "cell_type": "code",
   "execution_count": 5,
   "metadata": {},
   "outputs": [],
   "source": [
    "# Adding unit tests\n",
    "def run_unit_tests():\n",
    "    result_of_compute_mean = compute_mean([1, 2])\n",
    "    assert(result_of_compute_mean == 1.5)\n",
    "    assert(compute_mean([42]) == 42)\n",
    "    assert(read_integers_from_file(\"test.txt\")[0] == 58181)\n",
    "    assert(read_integers_from_file(\"test.txt\")[0] != 42)\n",
    "    \n",
    "run_unit_tests()\n",
    "\n",
    "def integration_tests():\n",
    "    assert(round(compute_mean(read_integers_from_file(\"test.txt\")), 2) == 45446.24)\n",
    "    \n",
    "integration_tests()    "
   ]
  },
  {
   "cell_type": "markdown",
   "metadata": {},
   "source": [
    "## Task 1: Add unit tests to your linear-regression implementation\n",
    "Review your own prior work done in Labs 3 and 4, and add test harnesses for each function. Specifically consider borderline cases."
   ]
  },
  {
   "cell_type": "code",
   "execution_count": 1,
   "metadata": {},
   "outputs": [
    {
     "data": {
      "text/plain": [
       "True"
      ]
     },
     "execution_count": 1,
     "metadata": {},
     "output_type": "execute_result"
    }
   ],
   "source": [
    "#use dataset used in coursework\n",
    "dataset = [[5,20],[6,22],[8,33],[10,30],[12,28],[13,34],[15,40]]\n",
    "\n",
    "def write_to_file(dataset, filename, mode = 'a', delimiter = ','):    \n",
    "    with open(filename, mode) as data:\n",
    "        data_new = [str(value[0]) + delimiter + str(value[1]) +'\\n' for value in dataset]\n",
    "        data.writelines(data_new)\n",
    "    #test for unit test:\n",
    "    return data.closed==True #return if file is closed successfully\n",
    "write_to_file(dataset,'linear_regress.txt', mode = 'w')"
   ]
  },
  {
   "cell_type": "code",
   "execution_count": 2,
   "metadata": {},
   "outputs": [],
   "source": [
    "#Revised solution: with help from Michael\n",
    "def process_line(line, delimiter):\n",
    "    line = line.rstrip().split(delimiter)\n",
    "    return [int(item) for item in line]\n",
    "\n",
    "def read_from_file(filename, file_has_headers = False, delimiter = ','):\n",
    "    with open(filename) as f:\n",
    "        return [process_line(line, delimiter) for line in f.readlines()]"
   ]
  },
  {
   "cell_type": "code",
   "execution_count": 3,
   "metadata": {},
   "outputs": [],
   "source": [
    "def compute_mean(values_list):\n",
    "    return sum(values_list)/len(values_list)\n",
    "\n",
    "def compute_covariance(list_x, x_mean, list_y, y_mean):\n",
    "    x_subtracted = [val-x_mean for val in list_x]\n",
    "    y_subtracted = [val-y_mean for val in list_y]\n",
    "    return sum([x_subtracted[i] * y_subtracted [i] for i in range(len(x_subtracted))])\n",
    "\n",
    "def variance(list_x, x_mean):\n",
    "    return sum([(x_i - x_mean)**2 for x_i in list_x])\n",
    "\n",
    "def linear_regression(filename):\n",
    "    \n",
    "    #Get data from file in format [[x1,y1],[x2,y2]..]\n",
    "    list_xy = read_from_file(filename)\n",
    "    \n",
    "    #Get the x and y values, and the number (n) of x or y values (assume that a dataset is clean and number of x values and y values are equal)\n",
    "    list_x = [list_xy[i][0] for i in range(len(list_xy))]\n",
    "    list_y = [list_xy[i][1] for i in range(len(list_xy))]\n",
    "    \n",
    "    #Divide sum of x values and sum of values by $n$ to get $\\bar x$ and $\\bar y$ respectively\n",
    "    x_mean = compute_mean(list_x)\n",
    "    y_mean = compute_mean(list_y)\n",
    "    \n",
    "    #compute alpha and beta\n",
    "    alpha = compute_covariance(list_x, x_mean, list_y, y_mean)/ variance(list_x, x_mean)\n",
    "    beta = y_mean - (alpha * x_mean)\n",
    "    \n",
    "    #Outputs: $\\alpha$ and $\\beta$    \n",
    "    return alpha, beta\n",
    "#linear_regression('linear_regress.txt')"
   ]
  },
  {
   "cell_type": "code",
   "execution_count": 4,
   "metadata": {},
   "outputs": [
    {
     "data": {
      "text/plain": [
       "(1.612068965517241, 13.681034482758625)"
      ]
     },
     "execution_count": 4,
     "metadata": {},
     "output_type": "execute_result"
    }
   ],
   "source": [
    "linear_regression('linear_regress.txt')"
   ]
  },
  {
   "cell_type": "code",
   "execution_count": 55,
   "metadata": {},
   "outputs": [],
   "source": [
    "test_dataset = [[1,2],[2,4],[3,6]]\n",
    "test_listx = [1,2,3]\n",
    "test_listy = [2,4,6]\n",
    "def run_unit_tests():\n",
    "    assert write_to_file(test_dataset, 'test_data.txt', mode = 'w') == True, \"can't write to file, file is still open\"\n",
    "    assert process_line('1\\n,2\\n,3\\n,4\\n',',')==[1,2,3,4]\n",
    "    assert compute_mean([1,2,3]) == 2\n",
    "    assert compute_covariance([1, 3], 2, [4, 6], 5) == 2\n",
    "    assert variance([2,2],2)==0\n",
    "run_unit_tests()\n",
    "    "
   ]
  },
  {
   "cell_type": "markdown",
   "metadata": {},
   "source": [
    "## Task 2: Turn the existing, fixed inputs into an integration test\n",
    "Use the work of Task 4 of Lab 3 to construct an integration-test harness for your linear-regression implementation."
   ]
  },
  {
   "cell_type": "markdown",
   "metadata": {},
   "source": []
  },
  {
   "cell_type": "code",
   "execution_count": 68,
   "metadata": {},
   "outputs": [],
   "source": [
    "def run_integration_tests():\n",
    "    assert read_from_file('test_data.txt')[0]==[1,2]\n",
    "    xy = [[1,1],[2,3],[3,2],[4,3],[5,5]]\n",
    "    write_to_file(xy,'integration_test_linear_reg.txt', mode = 'w')\n",
    "    alpha, beta = linear_regression('integration_test_linear_reg.txt')\n",
    "    # note that equality tests over floating point numbers can be fragile\n",
    "    assert alpha == 0.8\n",
    "    assert beta <= 0.4 and beta >= 0.399\n",
    "run_integration_tests()"
   ]
  },
  {
   "cell_type": "code",
   "execution_count": null,
   "metadata": {},
   "outputs": [],
   "source": []
  },
  {
   "cell_type": "code",
   "execution_count": null,
   "metadata": {},
   "outputs": [],
   "source": []
  }
 ],
 "metadata": {
  "kernelspec": {
   "display_name": "Python 3 (ipykernel)",
   "language": "python",
   "name": "python3"
  },
  "language_info": {
   "codemirror_mode": {
    "name": "ipython",
    "version": 3
   },
   "file_extension": ".py",
   "mimetype": "text/x-python",
   "name": "python",
   "nbconvert_exporter": "python",
   "pygments_lexer": "ipython3",
   "version": "3.9.6"
  }
 },
 "nbformat": 4,
 "nbformat_minor": 4
}
