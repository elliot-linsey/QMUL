{
 "cells": [
  {
   "cell_type": "markdown",
   "metadata": {},
   "source": [
    "## Task 1: Describe Linear Regression in English\n",
    "Given a dataset of $n$ values $(x_i, y_i)$ for $1 \\leq i \\leq n$, describe the process to compute values $\\alpha$ and $\\beta$ such that $$\\sum_{i = 1}^n (y_i - \\alpha x_i - \\beta)^2$$ is minimal. This will yield a (linear) model $y = \\alpha x + \\beta$ adhering to the least-squares condition.\n",
    "> Marking information: Up to 30 points: 15 points for an algorithm that can be followed, and 15 points for the correctness of this algorithm against the specification \"linear regression.\" \n"
   ]
  },
  {
   "cell_type": "markdown",
   "metadata": {},
   "source": [
    "Solution: \n",
    "1. Calculate the mean of the dataset, the average position. The regression line will pass through this point. \n",
    "  - To calculate the mean x value, sum over all x values and divide by n. \n",
    "  - Repeat this process with the y values. This will give you the mean position (xbar, ybar).\n",
    "\n",
    "2. Calculate the distance of each position in the dataset from the mean:\n",
    "  - Distance (a, b) = (xi - xbar, yi - ybar) for each (xi, yi) in the dataset.\n",
    "\n",
    "3. Use this to find the coefficient (alpha): \n",
    "  - Take the sum of a * b for each distance calculated. This gives you the numerator of the coefficient.\n",
    "  - Take the sum of a^2 for each distance calculated. This gives you the denominator of the coefficient.\n",
    "  - alpha can then be calculated by dividing the numerator by the denominator.\n",
    "\n",
    "4. To find the intercept (beta), input alpha and the mean position (xbar,ybar) into the formula: \n",
    "  - beta = ybar - alpha * xbar\n",
    "\n",
    "5. The formula for the regression line is therefore y = alpha * x + beta.\n"
   ]
  },
  {
   "cell_type": "markdown",
   "metadata": {},
   "source": [
    "## Task 2: Create and Complete a Simple Example\n",
    "Come up with a dataset of just 3 values ($\\{(x_1, y_1), (x_2, y_2), (x_3, y_3)\\}$). Then exercise the algorithm of Task 1 on this small dataset. You might prefer to do this using pen and paper. For your submission, provide at least the dataset that you have chosen and the resulting values of $\\alpha$ and $\\beta$.\n",
    "> Marking information: Up to 20 points: 5 points for sample values, and up to 15 points for suitable values of $\\alpha$ and $\\beta$.\n",
    "\n"
   ]
  },
  {
   "cell_type": "markdown",
   "metadata": {},
   "source": [
    "Solution:\n",
    "\n",
    "dataset = [[4,5],[8,4],[6,9]]\n",
    "\n",
    "Working from manual calculations using the algorithm from Task 1:\n",
    "\n",
    "1. xbar = 6 ;\n",
    "ybar = 6\n",
    "\n",
    "2. distance 1 = (-2, -1) ;\n",
    "distance 2 = (2, -2) ;\n",
    "distance 3 = (0, 3)\n",
    "\n",
    "3. alpha numerator = -2 ;\n",
    "alpha denominator = 8 ;\n",
    "alpha = -1/4 = -0.25\n",
    "\n",
    "4. beta = 15/2 = 7.5\n",
    "\n",
    "Therefore, alpha = -0.25 and beta = 7.5 for the dataset above."
   ]
  },
  {
   "cell_type": "markdown",
   "metadata": {},
   "source": [
    "## Task 3: Implement the Algorithm of Task 1 in Python\n",
    "Starting from your description of the steps to undertake, transfer English and Maths to Python. Note that you are expected to fully implement the mathematical operations instead of using a library function such as `scikit` or `statsmodels`.\n",
    "> Marking information: Up to 40 points: 30 points for a correctly working Python implementation, and 10 points for comments and overall readability.\n",
    "\n"
   ]
  },
  {
   "cell_type": "code",
   "execution_count": 2,
   "metadata": {},
   "outputs": [
    {
     "name": "stdout",
     "output_type": "stream",
     "text": [
      "(alpha, beta): (0.06756756756756752, 5.3297297297297295)\n"
     ]
    }
   ],
   "source": [
    "\"\"\" 1. Calculate the mean of the dataset, the average position. The regression line will pass through this point. \n",
    "      - To calculate the mean x value, sum over all x values and divide by n. \n",
    "      - Repeat this process with the y values. This will give you the mean position (xbar, ybar).\n",
    "\n",
    "    2. Calculate the distance of each position in the dataset from the mean:\n",
    "      - Distance (a, b) = (xi - xbar, yi - ybar) for each (xi, yi) in the dataset.\n",
    "      \n",
    "    3. Use this to find the coefficient (alpha): \n",
    "      - Take the sum of a * b for each distance calculated. This gives you the numerator of the coefficient.\n",
    "      - Take the sum of a^2 for each distance calculated. This gives you the denominator of the coefficient.\n",
    "      - alpha can then be calculated by dividing the numerator by the denominator.\n",
    "\n",
    "    4. To find the intercept (beta), input alpha and the mean position (xbar,ybar) into the formula: \n",
    "      - beta = ybar - alpha * xbar\n",
    "      \n",
    "    5. The formula for the regression line is therefore y = alpha * x + beta.\n",
    "    \n",
    "\"\"\"\n",
    "# Input = a list of points in 2 dimensions\n",
    "# Required Output = two values: alpha and beta such that y = alpha*x + beta is the equation for the regression line. \n",
    "\n",
    "# for generating test input:\n",
    "import numpy as np \n",
    "\n",
    "def generate_2D_test_points(number_of_points = 10, min_val = 0, max_val = 10):\n",
    "    test_input = [list(np.random.randint(min_val, max_val, 2)) for i in range(number_of_points)]\n",
    "    return test_input\n",
    "\n",
    "def check_input(points):\n",
    "    # Ensure that at least 2 points have been provided and that all points are 2D\n",
    "    if len(points)<2:\n",
    "        return \"Not enough data provided, please provide at least 2 points\"\n",
    "    \n",
    "    for point in points:\n",
    "            \n",
    "        if type(point)!=list:\n",
    "            return \"Please provide points as lists\"\n",
    "               \n",
    "        elif len(point)!=2:\n",
    "            return \"Please provide 2D points\"\n",
    "\n",
    "def calculate_mean(x,y):\n",
    "    xbar = sum(x)/len(x)\n",
    "    ybar = sum(y)/len(y)\n",
    "        \n",
    "    return (xbar, ybar) \n",
    "\n",
    "def calculate_covariance(x, y, xbar, ybar):\n",
    "    covariance = 0\n",
    "    for i in range(len(x)):\n",
    "        covariance += (x[i]-xbar)*(y[i]-ybar)\n",
    "    return covariance\n",
    "\n",
    "def calculate_variance(x, xbar):\n",
    "    variance = 0\n",
    "    for i in range(len(x)):\n",
    "        variance += (x[i]-xbar)**2\n",
    "    return variance\n",
    "    \n",
    "def linear_regression(points):\n",
    "    \n",
    "    check_result = check_input(points)\n",
    "    \n",
    "    if type(check_result)==str:\n",
    "        return check_result\n",
    "    \n",
    "    else:\n",
    "        # Separate x and y variables:\n",
    "        x,y = zip(*points)\n",
    "\n",
    "        (x_bar, y_bar) = calculate_mean(x,y)\n",
    "        cov = calculate_covariance(x,y,x_bar,y_bar)\n",
    "        var = calculate_variance(x, x_bar)\n",
    "\n",
    "        #calculate the coefficient (alpha)\n",
    "        alpha = cov/var\n",
    "\n",
    "        # Calculate the y-intercept (beta):\n",
    "        beta = y_bar - alpha * x_bar\n",
    "\n",
    "        return (alpha, beta)\n",
    "    \n",
    "print(\"(alpha, beta): \"+str(linear_regression(generate_2D_test_points()))) # test output\n"
   ]
  },
  {
   "cell_type": "markdown",
   "metadata": {},
   "source": [
    "## Task 4: Test the Implementation of Task 4\n",
    "Use at least the dataset of Task 2, or possibly also other datasets, to exercise your implementation of Task 3.\n",
    "> Marking information: Up to 10 points for Python instructions to run the test and the comparison to expected values previously found using pen and paper."
   ]
  },
  {
   "cell_type": "code",
   "execution_count": 3,
   "metadata": {},
   "outputs": [
    {
     "name": "stdout",
     "output_type": "stream",
     "text": [
      "Manual alpha: -0.25\n",
      "Manual beta: 7.5\n",
      "Function alpha: 1.612068965517241\n",
      "Function beta: 13.681034482758625\n",
      "Is manual alpha equal to function alpha?: False\n",
      "Is manual beta equal to function beta?: False\n"
     ]
    }
   ],
   "source": [
    "dataset = [[5,20],[6,22],[8,33],[10,30],[12,28],[13,34],[15,40]]\n",
    "manual_alpha = -0.25\n",
    "manual_beta = 7.5\n",
    "\n",
    "print(\"Manual alpha: \"+ str(manual_alpha))\n",
    "print(\"Manual beta: \"+ str(manual_beta))\n",
    "\n",
    "alpha = linear_regression(dataset)[0]\n",
    "beta = linear_regression(dataset)[1]\n",
    "\n",
    "print(\"Function alpha: \"+ str(alpha))\n",
    "print(\"Function beta: \"+ str(beta))\n",
    "\n",
    "print(\"Is manual alpha equal to function alpha?: \"+ str(manual_alpha==alpha))\n",
    "print(\"Is manual beta equal to function beta?: \"+ str(manual_beta==beta))"
   ]
  },
  {
   "cell_type": "markdown",
   "metadata": {},
   "source": [
    "## Task 5: Visualising and Importing Data"
   ]
  },
  {
   "cell_type": "markdown",
   "metadata": {},
   "source": [
    "Adding visualisation:"
   ]
  },
  {
   "cell_type": "code",
   "execution_count": 4,
   "metadata": {},
   "outputs": [
    {
     "data": {
      "text/plain": [
       "<AxesSubplot:title={'center':'Linear Regression Plot'}>"
      ]
     },
     "execution_count": 4,
     "metadata": {},
     "output_type": "execute_result"
    },
    {
     "data": {
      "image/png": "[encoded data removed]",
      "text/plain": [
       "<Figure size 432x288 with 1 Axes>"
      ]
     },
     "metadata": {},
     "output_type": "display_data"
    }
   ],
   "source": [
    "import matplotlib.pyplot as plt\n",
    "\n",
    "def visualise_lr(points):\n",
    "    \"\"\"Function to visualise output of linear regression function linear_regression()\n",
    "    Where input is a set of 2D points\"\"\"\n",
    "    \n",
    "    plt.style.use('seaborn-whitegrid') # Creating a basic plot area\n",
    "    fig = plt.figure()\n",
    "    ax = plt.axes()\n",
    "    plt.title(\"Linear Regression Plot\")\n",
    "    \n",
    "    # Separating the x and y coordinates in order to plot the scatter\n",
    "    c,d = zip(*points)\n",
    "\n",
    "    # Defining the x axis (tactile based on input provided?)\n",
    "    min_x = min(c)\n",
    "    max_x = max(c)\n",
    "    x = np.linspace(min_x, max_x)\n",
    "\n",
    "    # Plot scatter\n",
    "    ax.scatter(c,d)\n",
    "\n",
    "    # Calculate alpha and beta using linear regression function\n",
    "    (alpha, beta) = linear_regression(points)\n",
    "    \n",
    "    # Plot linear regression line\n",
    "    ax.plot(x, alpha*x+beta)\n",
    "    \n",
    "    #print(\"(alpha, beta): \"+str(linear_regression(points)))\n",
    "    return ax\n",
    "\n",
    "\n",
    "visualise_lr(dataset)\n"
   ]
  },
  {
   "cell_type": "markdown",
   "metadata": {},
   "source": [
    "## Adding ability to import text files:"
   ]
  },
  {
   "cell_type": "code",
   "execution_count": 5,
   "metadata": {
    "scrolled": false
   },
   "outputs": [
    {
     "ename": "FileNotFoundError",
     "evalue": "[Errno 2] No such file or directory: 'dataset_example.txt'",
     "output_type": "error",
     "traceback": [
      "\u001b[1;31m---------------------------------------------------------------------------\u001b[0m",
      "\u001b[1;31mFileNotFoundError\u001b[0m                         Traceback (most recent call last)",
      "\u001b[1;32m<ipython-input-5-9845f9fd506a>\u001b[0m in \u001b[0;36m<module>\u001b[1;34m\u001b[0m\n\u001b[0;32m     13\u001b[0m     \u001b[0mvisualise_lr\u001b[0m\u001b[1;33m(\u001b[0m\u001b[0mlist_of_points\u001b[0m\u001b[1;33m)\u001b[0m\u001b[1;33m\u001b[0m\u001b[1;33m\u001b[0m\u001b[0m\n\u001b[0;32m     14\u001b[0m \u001b[1;33m\u001b[0m\u001b[0m\n\u001b[1;32m---> 15\u001b[1;33m \u001b[0mlinear_regression_tool_text\u001b[0m\u001b[1;33m(\u001b[0m\u001b[1;34m\"dataset_example.txt\"\u001b[0m\u001b[1;33m)\u001b[0m\u001b[1;33m\u001b[0m\u001b[1;33m\u001b[0m\u001b[0m\n\u001b[0m",
      "\u001b[1;32m<ipython-input-5-9845f9fd506a>\u001b[0m in \u001b[0;36mlinear_regression_tool_text\u001b[1;34m(filename)\u001b[0m\n\u001b[0;32m      6\u001b[0m \u001b[1;33m\u001b[0m\u001b[0m\n\u001b[0;32m      7\u001b[0m     \u001b[1;31m# Open file and write data to a list of lists of length 2\u001b[0m\u001b[1;33m\u001b[0m\u001b[1;33m\u001b[0m\u001b[1;33m\u001b[0m\u001b[0m\n\u001b[1;32m----> 8\u001b[1;33m     \u001b[1;32mwith\u001b[0m \u001b[0mopen\u001b[0m\u001b[1;33m(\u001b[0m\u001b[0mfilename\u001b[0m\u001b[1;33m)\u001b[0m \u001b[1;32mas\u001b[0m \u001b[0mf\u001b[0m\u001b[1;33m:\u001b[0m\u001b[1;33m\u001b[0m\u001b[1;33m\u001b[0m\u001b[0m\n\u001b[0m\u001b[0;32m      9\u001b[0m         \u001b[0mlist_of_lines\u001b[0m \u001b[1;33m=\u001b[0m \u001b[1;33m[\u001b[0m\u001b[0mline\u001b[0m\u001b[1;33m.\u001b[0m\u001b[0mrstrip\u001b[0m\u001b[1;33m(\u001b[0m\u001b[1;33m)\u001b[0m\u001b[1;33m.\u001b[0m\u001b[0msplit\u001b[0m\u001b[1;33m(\u001b[0m\u001b[1;34m','\u001b[0m\u001b[1;33m)\u001b[0m \u001b[1;32mfor\u001b[0m \u001b[0mline\u001b[0m \u001b[1;32min\u001b[0m \u001b[0mf\u001b[0m\u001b[1;33m.\u001b[0m\u001b[0mreadlines\u001b[0m\u001b[1;33m(\u001b[0m\u001b[1;33m)\u001b[0m\u001b[1;33m]\u001b[0m\u001b[1;33m\u001b[0m\u001b[1;33m\u001b[0m\u001b[0m\n\u001b[0;32m     10\u001b[0m         \u001b[0mlist_of_points\u001b[0m \u001b[1;33m=\u001b[0m \u001b[1;33m[\u001b[0m\u001b[1;33m[\u001b[0m\u001b[0mint\u001b[0m\u001b[1;33m(\u001b[0m\u001b[0mpoint\u001b[0m\u001b[1;33m[\u001b[0m\u001b[1;36m0\u001b[0m\u001b[1;33m]\u001b[0m\u001b[1;33m)\u001b[0m\u001b[1;33m,\u001b[0m\u001b[0mint\u001b[0m\u001b[1;33m(\u001b[0m\u001b[0mpoint\u001b[0m\u001b[1;33m[\u001b[0m\u001b[1;36m1\u001b[0m\u001b[1;33m]\u001b[0m\u001b[1;33m)\u001b[0m\u001b[1;33m]\u001b[0m \u001b[1;32mfor\u001b[0m \u001b[0mpoint\u001b[0m \u001b[1;32min\u001b[0m \u001b[0mlist_of_lines\u001b[0m\u001b[1;33m]\u001b[0m\u001b[1;33m\u001b[0m\u001b[1;33m\u001b[0m\u001b[0m\n",
      "\u001b[1;31mFileNotFoundError\u001b[0m: [Errno 2] No such file or directory: 'dataset_example.txt'"
     ]
    }
   ],
   "source": [
    "def linear_regression_tool_text(filename):\n",
    "    \"\"\"\n",
    "    Read the (2D) coordinates contained in `filename`(.txt),\n",
    "    assuming they are separated by a comma, supplied on individual lines, and the file is saved in the local directory\n",
    "    \"\"\"\n",
    "    \n",
    "    # Open file and write data to a list of lists of length 2\n",
    "    with open(filename) as f:\n",
    "        list_of_lines = [line.rstrip().split(',') for line in f.readlines()]\n",
    "        list_of_points = [[int(point[0]),int(point[1])] for point in list_of_lines]\n",
    "        \n",
    "    # Apply the visualise_lr function defined above to the list\n",
    "    visualise_lr(list_of_points)\n",
    "\n",
    "linear_regression_tool_text(\"dataset_example.txt\")"
   ]
  },
  {
   "cell_type": "markdown",
   "metadata": {},
   "source": [
    "Text file import without linear regression..."
   ]
  },
  {
   "cell_type": "code",
   "execution_count": null,
   "metadata": {},
   "outputs": [],
   "source": [
    "def coordinate_text_import(filename):\n",
    "    \"\"\"\n",
    "    Read the (2D) coordinates contained in `filename`(.txt),\n",
    "    assuming they are separated by a comma, supplied on individual lines, and the file is saved in the local directory\n",
    "    \"\"\"\n",
    "    \n",
    "    # Open file and write data to a list of lists of length 2\n",
    "    with open(filename) as f:\n",
    "        list_of_lines = [line.rstrip().split(',') for line in f.readlines()]\n",
    "        list_of_points = [[int(point[0]),int(point[1])] for point in list_of_lines]\n",
    "    return list_of_points    \n",
    "    "
   ]
  },
  {
   "cell_type": "markdown",
   "metadata": {},
   "source": [
    "Creating random text file to import: (not sure if there is a better way of doing this?)"
   ]
  },
  {
   "cell_type": "code",
   "execution_count": null,
   "metadata": {},
   "outputs": [],
   "source": [
    "def create_random_2D_coordinates(file_name = \"random_coordinates\", number_of_coordinates = 10, min_value = -10, max_value = 10):\n",
    "    \n",
    "    coordinates = [list(np.random.randint(min_value, max_value,2)) for i in range(number_of_coordinates)]\n",
    "    string_coordinates = [str(e[0])+', '+str(e[1])+'\\n' for e in coordinates]\n",
    "\n",
    "    with open(file_name,'w') as coord_file:\n",
    "        for coord in string_coordinates:\n",
    "            coord_file.writelines(coord)\n",
    "            \n",
    "create_random_2D_coordinates()"
   ]
  },
  {
   "cell_type": "markdown",
   "metadata": {},
   "source": [
    "Applying visualisation function to random coordinates:"
   ]
  },
  {
   "cell_type": "code",
   "execution_count": null,
   "metadata": {},
   "outputs": [],
   "source": [
    "#linear_regression_tool_text(\"random_coordinates\")\n",
    "#or\n",
    "visualise_lr(coordinate_text_import(\"random_coordinates\"))\n"
   ]
  },
  {
   "cell_type": "markdown",
   "metadata": {},
   "source": [
    "## Lab 5: Testing"
   ]
  },
  {
   "cell_type": "code",
   "execution_count": null,
   "metadata": {},
   "outputs": [],
   "source": [
    "import statistics as stats\n",
    "\n",
    "def unit_testing_lr():\n",
    "    assert check_input([[0,1],[1,0],[0,0]])==None, 'Expected input passes'\n",
    "    assert check_input([[1,1]])=='Not enough data provided, please provide at least 2 points', 'Less than 2 points given'\n",
    "    assert check_input([1,2,3,4])=='Please provide points as lists', 'Points not given as lists'\n",
    "    assert check_input([[1,2,3],[4,5,6]])=='Please provide 2D points', 'Points not given in 2 dimensions'\n",
    "    assert calculate_mean((0,0),(0,0))== (0,0), 'Zero'\n",
    "    assert calculate_mean((1,1),(2,2))== (1,2), 'Positive'\n",
    "    assert calculate_mean((-1,-1),(-2,-2))== (-1,-2), 'Mixture'\n",
    "    assert not calculate_mean((1,2,3),(4,5,6))==1, 'Nonsense'\n",
    "    assert calculate_covariance((0,0),(0,0),0,0)==np.cov([[0,0],[0,0]]).all(), 'Zero'\n",
    "#     assert calculate_covariance()==np.cov(), 'Positive'\n",
    "#     assert calculate_covariance()==np.cov(), 'Mixture'\n",
    "#     assert calculate_covariance()==np.cov(), 'Nonsense'\n",
    "    assert calculate_variance((1,2,3,4),stats.mean([1,2,3,4]))==(stats.pvariance([1,2,3,4]))*4, 'General example'\n",
    "    assert calculate_variance([1],stats.mean([1]))==(stats.pvariance([1])), 'unit'\n",
    "    assert calculate_variance([-1,-2,-3],stats.mean([-1,-2,-3]))==(stats.pvariance([-1,-2,-3]))*3, 'Mixture'\n",
    "\n",
    "\n",
    "\n",
    "unit_testing_lr()"
   ]
  },
  {
   "cell_type": "markdown",
   "metadata": {},
   "source": [
    " Integration test"
   ]
  },
  {
   "cell_type": "code",
   "execution_count": null,
   "metadata": {},
   "outputs": [],
   "source": [
    "def integration_test():\n",
    "    assert linear_regression(coordinate_text_import(\"dataset_example.txt\"))==(-0.25,7.5)\n",
    "    \n",
    "integration_test()"
   ]
  }
 ],
 "metadata": {
  "kernelspec": {
   "display_name": "Python 3",
   "language": "python",
   "name": "python3"
  },
  "language_info": {
   "codemirror_mode": {
    "name": "ipython",
    "version": 3
   },
   "file_extension": ".py",
   "mimetype": "text/x-python",
   "name": "python",
   "nbconvert_exporter": "python",
   "pygments_lexer": "ipython3",
   "version": "3.8.8"
  }
 },
 "nbformat": 4,
 "nbformat_minor": 4
}
