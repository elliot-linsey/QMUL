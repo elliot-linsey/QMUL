{
 "cells": [
  {
   "cell_type": "code",
   "execution_count": 2,
   "metadata": {},
   "outputs": [],
   "source": [
    "import numpy as np\n",
    "from matplotlib import pyplot as plt\n",
    "import pandas as pd\n",
    "import seaborn as sns\n",
    "import csv"
   ]
  },
  {
   "cell_type": "code",
   "execution_count": 99,
   "metadata": {},
   "outputs": [
    {
     "name": "stdout",
     "output_type": "stream",
     "text": [
      "['test1\\n', '1\\n', '2\\n', '3']\n",
      "['test1', '1', '2', '3']\n",
      "['test2', '4', '5', '6']\n",
      "['test1,test2', '1,4', '2,5', '3,6']\n"
     ]
    }
   ],
   "source": [
    "\n",
    "lst = []\n",
    "lst2 = []\n",
    "with open('test1.txt') as f:\n",
    "    for x in f.readlines():\n",
    "        lst.append(x)\n",
    "with open('test2.txt') as t:\n",
    "    for x in t.readlines():\n",
    "        lst2.append(x)\n",
    "\n",
    "print(lst)\n",
    "converted = []\n",
    "converted2 = []\n",
    "for x in lst:\n",
    "    converted.append(x.strip())\n",
    "print(converted)\n",
    "\n",
    "for x in lst2:\n",
    "    converted2.append(x.strip())\n",
    "print(converted2)\n",
    "\n",
    "final = []\n",
    "for i in range(len(converted)):\n",
    "    final.append(converted[i] + ',' + converted2[i])\n",
    "print(final)\n",
    "\n",
    "with open('test_result.txt', 'w') as file:\n",
    "    for item in final:\n",
    "        file.write(\"%s\\n\" % item)"
   ]
  },
  {
   "cell_type": "code",
   "execution_count": 100,
   "metadata": {},
   "outputs": [
    {
     "name": "stderr",
     "output_type": "stream",
     "text": [
      "IOPub data rate exceeded.\n",
      "The notebook server will temporarily stop sending output\n",
      "to the client in order to avoid crashing it.\n",
      "To change this limit, set the config variable\n",
      "`--NotebookApp.iopub_data_rate_limit`.\n",
      "\n",
      "Current values:\n",
      "NotebookApp.iopub_data_rate_limit=1000000.0 (bytes/sec)\n",
      "NotebookApp.rate_limit_window=3.0 (secs)\n",
      "\n"
     ]
    }
   ],
   "source": [
    "lst = []\n",
    "lst2 = []\n",
    "with open('fare_amount.txt') as f:\n",
    "    for x in f.readlines():\n",
    "        lst.append(x)\n",
    "with open('tip_amount.txt') as t:\n",
    "    for x in t.readlines():\n",
    "        lst2.append(x)\n",
    "\n",
    "print(lst)\n",
    "converted = []\n",
    "converted2 = []\n",
    "for x in lst:\n",
    "    converted.append(x.strip())\n",
    "print(converted)\n",
    "\n",
    "for x in lst2:\n",
    "    converted2.append(x.strip())\n",
    "print(converted2)\n",
    "\n",
    "final = []\n",
    "for i in range(len(converted)):\n",
    "    final.append(converted[i] + ',' + converted2[i])\n",
    "print(final)\n",
    "\n",
    "with open('taxi_result.txt', 'w') as file:\n",
    "    for item in final:\n",
    "        file.write(\"%s\\n\" % item)"
   ]
  },
  {
   "cell_type": "code",
   "execution_count": 7,
   "metadata": {},
   "outputs": [
    {
     "name": "stdout",
     "output_type": "stream",
     "text": [
      "['test1\\n', '1\\n', '2\\n', '3']\n",
      "['test1', '1', '2', '3']\n",
      "['test2', '4', '5', '6']\n",
      "['test1,test2', '1,4', '2,5', '3,6']\n"
     ]
    }
   ],
   "source": [
    "lst = []\n",
    "lst2 = []\n",
    "with open('test1.txt') as f:\n",
    "    for x in f.readlines():\n",
    "        lst.append(x)\n",
    "with open('test2.txt') as t:\n",
    "    for x in t.readlines():\n",
    "        lst2.append(x)\n",
    "\n",
    "print(lst)\n",
    "converted = []\n",
    "converted2 = []\n",
    "for x in lst:\n",
    "    converted.append(x.strip())\n",
    "print(converted)\n",
    "\n",
    "for x in lst2:\n",
    "    converted2.append(x.strip())\n",
    "print(converted2)\n",
    "\n",
    "final = []\n",
    "for i in range(len(converted)):\n",
    "    final.append(converted[i] + ',' + converted2[i])\n",
    "print(final)\n",
    "\n",
    "with open('test_result.csv', 'w', newline='') as file:\n",
    "    writer = csv.writer(file, delimiter=',')\n",
    "    writer.writerow(final)"
   ]
  }
 ],
 "metadata": {
  "kernelspec": {
   "display_name": "Python 3",
   "language": "python",
   "name": "python3"
  },
  "language_info": {
   "codemirror_mode": {
    "name": "ipython",
    "version": 3
   },
   "file_extension": ".py",
   "mimetype": "text/x-python",
   "name": "python",
   "nbconvert_exporter": "python",
   "pygments_lexer": "ipython3",
   "version": "3.8.5"
  }
 },
 "nbformat": 4,
 "nbformat_minor": 4
}
