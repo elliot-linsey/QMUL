{
 "cells": [
  {
   "cell_type": "markdown",
   "metadata": {},
   "source": [
    "# Lab Work: Decorators\n",
    "\n",
    "The goal of this lab is to ensure you understand the semantics of functions prepended with `@some_name`. These are **decorators** (https://www.python.org/dev/peps/pep-0318/). With decorators, Python provides a means to transform functions. The following introduces decorators by example. You are then asked to apply this to code of your own."
   ]
  },
  {
   "cell_type": "markdown",
   "metadata": {},
   "source": [
    "## Decorators: Debugging Binary Search, again\n",
    "\n",
    "Introducing decorators (by example) to construct cleaner code. Observe how the decorator \"@print_context\" helps avoid inline `print` statements. Play with this code, for example by commenting out the decorator, and changing the decorator itself."
   ]
  },
  {
   "cell_type": "code",
   "execution_count": 1,
   "metadata": {},
   "outputs": [
    {
     "name": "stdout",
     "output_type": "stream",
     "text": [
      "A: [2, 42, 55, 78, 100]\n",
      "value: 42\n",
      "start: 0\n",
      "end: 5\n",
      "A: [2, 42, 55, 78, 100]\n",
      "value: 42\n",
      "start: 0\n",
      "end: 2\n"
     ]
    },
    {
     "data": {
      "text/plain": [
       "True"
      ]
     },
     "execution_count": 1,
     "metadata": {},
     "output_type": "execute_result"
    }
   ],
   "source": [
    "def print_context(function_name):\n",
    "    \"\"\"\n",
    "    print_context will be used as a decorator: it will transform the\n",
    "    function passed as an argument. The actual transformation is\n",
    "    implemented below, as function \"do_it\". The name of this function\n",
    "    can be freely chosen. The return statement afterwards, however,\n",
    "    will refer to this function.\n",
    "    \"\"\"\n",
    "    def do_it(A, start, end, value):\n",
    "        \"\"\"\n",
    "        This transformation will print the argument values and then\n",
    "        invoke the original function, passing on the arguments.\n",
    "        \"\"\"\n",
    "        print(\"A: \" + str(A))\n",
    "        print(\"value: \" + str(value))\n",
    "        print(\"start: \" + str(start))\n",
    "        print(\"end: \" + str(end))\n",
    "        # Invoke the original function with the same arguments.\n",
    "        return function_name(A, start, end, value)\n",
    "    \n",
    "    # Return the function defined above as transformation.\n",
    "    return do_it\n",
    "\n",
    "# \"Decorate\" the original binary search with \"print_context\"\n",
    "@print_context\n",
    "def binary_search(A, start, end, value):\n",
    "    if start >= end:\n",
    "        # end of search reached\n",
    "        return False\n",
    "\n",
    "    # compute the mid point between start and end\n",
    "    mid = (end - start) // 2 + start\n",
    "    #print(\"mid: \" + str(mid))\n",
    "    #print(\"A at index mid: \" + str(A[mid]))\n",
    "    #print(\"value: \" + str(value))\n",
    "    #print(\"A[mid] == value:\" + str(A[mid] == value))\n",
    "    if A[mid] == value:\n",
    "        # value found\n",
    "        return True\n",
    "    # recursive calls\n",
    "    elif A[mid] > value:\n",
    "        return binary_search(A=A, start=start, end=mid, value=value)\n",
    "    else:\n",
    "        return binary_search(A=A, start=mid + 1, end=end, value=value)\n",
    "\n",
    "\n",
    "binary_search(A=[ 2, 42, 55, 78, 100 ], start=0, end=5, value=42)"
   ]
  },
  {
   "cell_type": "markdown",
   "metadata": {},
   "source": [
    "As the above example showed, decorators are merely functions that have a parameter, which will be a function. The actual transformation is then implemented as a function that may have the same parameters as the to-be-transformed function, or possibly more. The official definition of decorators lives in PEP 318 (https://www.python.org/dev/peps/pep-0318/). https://realpython.com/primer-on-python-decorators/ is a good tutorial on decorators.\n",
    "\n",
    "## Tasks\n",
    "\n",
    "1) Use decorators to measure the execution time required by a particular function. Hint: use the `datetime` module.\n",
    "2) Read about `@classmethod` and `@staticmethod` (for example: https://stackabuse.com/pythons-classmethod-and-staticmethod-explained/) to see how you can use class implementations where not all methods will require `self` as first parameter.\n",
    "3) Apply the above for your linear regression implementation."
   ]
  },
  {
   "cell_type": "code",
   "execution_count": null,
   "metadata": {},
   "outputs": [],
   "source": []
  },
  {
   "cell_type": "code",
   "execution_count": null,
   "metadata": {},
   "outputs": [],
   "source": []
  }
 ],
 "metadata": {
  "kernelspec": {
   "display_name": "Python 3",
   "language": "python",
   "name": "python3"
  },
  "language_info": {
   "codemirror_mode": {
    "name": "ipython",
    "version": 3
   },
   "file_extension": ".py",
   "mimetype": "text/x-python",
   "name": "python",
   "nbconvert_exporter": "python",
   "pygments_lexer": "ipython3",
   "version": "3.8.8"
  }
 },
 "nbformat": 4,
 "nbformat_minor": 4
}
