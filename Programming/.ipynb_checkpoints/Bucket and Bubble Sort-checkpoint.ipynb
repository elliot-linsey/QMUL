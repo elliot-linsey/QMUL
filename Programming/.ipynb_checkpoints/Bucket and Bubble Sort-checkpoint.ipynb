{
 "cells": [
  {
   "cell_type": "markdown",
   "metadata": {},
   "source": [
    "# Lab 2\n",
    "\n",
    "In this lab, you will start working with actual Python code. You will read and critique some provided code, and you will start translating English text into Python code. At the end of this session you will have taken first steps to test and debug implementations."
   ]
  },
  {
   "cell_type": "markdown",
   "metadata": {},
   "source": [
    "## Task 1: Reading and Debugging Python Programs\n",
    "\n",
    "The following two cells show two (syntactically correct) Python snippets. You will find that one of them is easier to read for humans. Why is this the case? The two programs seek to solve the same problem; which problem is this? Despite being easier to read, at least one of the programs also has some bugs (hint: they are small bugs, just single character errors, those kinds of bugs that may easily slip into your program). Come up with ideas on how you mind find the bugs. Feel free to discuss in your Collaborate group to figure out together what is going wrong."
   ]
  },
  {
   "cell_type": "code",
   "execution_count": 1,
   "metadata": {},
   "outputs": [
    {
     "name": "stdout",
     "output_type": "stream",
     "text": [
      "2\n",
      "1\n",
      "0\n"
     ]
    },
    {
     "data": {
      "text/plain": [
       "False"
      ]
     },
     "execution_count": 1,
     "metadata": {},
     "output_type": "execute_result"
    }
   ],
   "source": [
    "# A is a sorted list of values\n",
    "A = [ 2, 42, 55, 78, 100 ]\n",
    "\n",
    "# start is the offset to start the search from\n",
    "# end is the upper bound of the range to be searched\n",
    "# value is the element to be found\n",
    "#\n",
    "# binary_search returns True if, and only if, value was found in A[start, end)\n",
    "def binary_search(start, end, value):\n",
    "    if start >= end:\n",
    "        # end of search reached\n",
    "        return False\n",
    "\n",
    "    # compute the mid point between start and end\n",
    "    mid = (start + end) // 2 \n",
    "    print(mid)\n",
    "    if A[mid] == value:\n",
    "        # value found\n",
    "        return True\n",
    "    # recursive calls\n",
    "    elif A[mid] > value:\n",
    "        return binary_search(start, mid, value)\n",
    "    else:\n",
    "        return binary_search(mid+1, end, value)\n",
    "\n",
    "\n",
    "binary_search(0, 5, 1)\n"
   ]
  },
  {
   "cell_type": "code",
   "execution_count": 2,
   "metadata": {},
   "outputs": [
    {
     "name": "stdout",
     "output_type": "stream",
     "text": [
      "78\n"
     ]
    },
    {
     "data": {
      "text/plain": [
       "True"
      ]
     },
     "execution_count": 2,
     "metadata": {},
     "output_type": "execute_result"
    }
   ],
   "source": [
    "import random\n",
    "\n",
    "A = [ 2, 42, 55, 78, 100 ]\n",
    "\n",
    "def s(a, b, c):\n",
    "    while a < b:\n",
    "        d = (b - a) // 2 + a\n",
    "        if A[d] == c:\n",
    "            return True\n",
    "        elif A[d] > c:\n",
    "            b = d\n",
    "        else:\n",
    "            a = d + 1\n",
    "            \n",
    "    return False\n",
    "\n",
    "e = 78\n",
    "print(e)\n",
    "s(0, 5, e)"
   ]
  },
  {
   "cell_type": "markdown",
   "metadata": {},
   "source": [
    "Some suggestions on what you might do to decipher the programs:\n",
    "* While reading code, it may be helpful to insert comments.\n",
    "* Run the program and see what output it produces.\n",
    "* Insert `print` statements to obtain partial traces of what is happening at which point during execution.\n",
    "* Make small modifications to the code, such as replacing operators (e.g., changing a `-` to a `+` or `<` to `>`) and see how this affects the behaviour. This approach is known as _mutation testing_."
   ]
  },
  {
   "cell_type": "markdown",
   "metadata": {},
   "source": [
    "## Task 2: Transcribe your Integer Sorting Algorithm into Python\n",
    "Now that you have worked with pre-provided code, it's time to start writing some code of your own. Take the sorting algorithm that you worked on this morning, then as plain text. You will now work on turning this into executable Python code.\n",
    "\n",
    "**Getting started:** To break down this large task into smaller problems, start by copying the English text into a code cell, and turn in into a documentation string. You can achieve this by surrounding it with triple quotes (`\"\"\"`):"
   ]
  },
  {
   "cell_type": "code",
   "execution_count": 3,
   "metadata": {},
   "outputs": [
    {
     "name": "stdout",
     "output_type": "stream",
     "text": [
      "Actual code goes here\n"
     ]
    }
   ],
   "source": [
    "\"\"\"\n",
    "Bucket sort\n",
    "Have bins of the values that the integers could be.\n",
    "Go through the list of values and check what bin it correlates to.\n",
    "Append that value to its correlated bin.\n",
    "In ascending order, concatenate the bins together.\n",
    "\n",
    "\"\"\"\n",
    "\n",
    "print(\"Actual code goes here\")"
   ]
  },
  {
   "cell_type": "markdown",
   "metadata": {},
   "source": [
    "**Next step:** Define the input and (desired) output of your algorithm. While your algorithm may be suitable for sorting millions of integers, start with a small list of values:"
   ]
  },
  {
   "cell_type": "code",
   "execution_count": 4,
   "metadata": {},
   "outputs": [],
   "source": [
    "import numpy as np"
   ]
  },
  {
   "cell_type": "code",
   "execution_count": 5,
   "metadata": {
    "scrolled": true
   },
   "outputs": [
    {
     "name": "stdout",
     "output_type": "stream",
     "text": [
      "[39 39 39 39 39 39 39 39 39 39 40 40 40 40 40 40 40 40 40 41 41 41 41 41\n",
      " 41 42 42 42 42 42 42 42 42 42 43 43 43 43 43 43 43 44 44 44 44 44 44 44\n",
      " 44 44]\n"
     ]
    }
   ],
   "source": [
    "lst = np.random.randint(39,45,size = 50)\n",
    "\n",
    "def bucket_sort(lst):\n",
    "    three_nine = []\n",
    "    four_0 = []\n",
    "    four_1 = []\n",
    "    four_2 = []\n",
    "    four_3 = []\n",
    "    four_4 = []\n",
    "\n",
    "    for x in lst:\n",
    "        if x == 39:\n",
    "            three_nine.append(x)\n",
    "        elif x == 40:\n",
    "            four_0.append(x)\n",
    "        elif x == 41:\n",
    "            four_1.append(x)\n",
    "        elif x == 42:\n",
    "            four_2.append(x)\n",
    "        elif x == 43:\n",
    "            four_3.append(x)\n",
    "        else:\n",
    "            four_4.append(x)\n",
    "    concat = np.concatenate((three_nine, four_0, four_1, four_2, four_3, four_4))\n",
    "    return concat\n",
    "print(bucket_sort(lst))\n",
    "\n",
    "# store the result in `sorted_integers`\n",
    "# sorted_integers = ... \n",
    "# print(sorted_integers)"
   ]
  },
  {
   "cell_type": "code",
   "execution_count": 6,
   "metadata": {
    "scrolled": true
   },
   "outputs": [
    {
     "name": "stdout",
     "output_type": "stream",
     "text": [
      "[38 38 38 38 37 37 37 37 37 37 42 42 42 42 42 42 42 42 42 43 43 43 43 43\n",
      " 44 44 44 44 41 41 41 41 41 41 39 39 39 39 39 35 35 35 35 35 35 35 40 40\n",
      " 36 36]\n"
     ]
    }
   ],
   "source": [
    "lst = np.random.randint(35,45,size = 50)\n",
    "\n",
    "def bucket_sort(lst):\n",
    "  ranges = []\n",
    "  lst2 = []\n",
    "  for x in lst:\n",
    "    if x not in ranges:\n",
    "      ranges.append(x)\n",
    "      lst2.append([x])\n",
    "      #print(lst2)\n",
    "    elif x in ranges:\n",
    "      for i in range(len(lst2)):\n",
    "        if x in lst2[i]:\n",
    "          lst2[i].append(x)         \n",
    "  return np.concatenate(lst2)\n",
    "\n",
    "lst = bucket_sort(lst)\n",
    "print(lst)\n"
   ]
  },
  {
   "cell_type": "code",
   "execution_count": 7,
   "metadata": {},
   "outputs": [
    {
     "name": "stdout",
     "output_type": "stream",
     "text": [
      "[[43]]\n",
      "[[43, 43], [39]]\n",
      "[[39], [43, 43], [35]]\n",
      "[[35], [39], [43, 43], [41]]\n",
      "[[35], [39], [41], [43, 43], [38]]\n",
      "[[35], [38, 38], [39], [41], [43, 43], [36]]\n",
      "[[35], [36], [38, 38, 38], [39, 39], [41], [43, 43], [37]]\n",
      "[[35], [36], [37], [38, 38, 38], [39, 39], [41], [43, 43], [44]]\n",
      "[[35], [36], [37], [38, 38, 38, 38], [39, 39, 39], [41], [43, 43], [44], [40]]\n",
      "[[35], [36], [37], [38, 38, 38, 38, 38], [39, 39, 39], [40], [41], [43, 43], [44], [42]]\n",
      "[35 35 35 35 35 36 36 36 37 37 37 38 38 38 38 38 38 39 39 39 39 39 39 39\n",
      " 40 40 40 40 41 41 41 41 41 41 41 41 41 42 42 42 42 43 43 43 43 44 44 44\n",
      " 44 44]\n"
     ]
    }
   ],
   "source": [
    "lst = np.random.randint(35,45,size = 50)\n",
    "\n",
    "def swap(arr, index_1, index_2):\n",
    "    temp = arr[index_1]\n",
    "    arr[index_1] = arr[index_2]\n",
    "    arr[index_2] = temp\n",
    "\n",
    "def bucket_sort(lst):\n",
    "    ranges = []\n",
    "    lst2 = []\n",
    "    for x in lst:\n",
    "        if x not in ranges:\n",
    "            ranges.append(x)\n",
    "            lst2.append([x])\n",
    "            print(lst2)\n",
    "            for x in lst2:\n",
    "                for i in range(len(lst2)-1):\n",
    "                    if lst2[i][0] > lst2[i+1][0]:\n",
    "                        swap(lst2, i, i+1)\n",
    "        elif x in ranges:\n",
    "            for i in range(len(lst2)):\n",
    "                if x in lst2[i]:\n",
    "                    lst2[i].append(x)         \n",
    "    return np.concatenate(lst2)\n",
    "\n",
    "print(bucket_sort(lst))"
   ]
  },
  {
   "cell_type": "code",
   "execution_count": 8,
   "metadata": {},
   "outputs": [
    {
     "name": "stdout",
     "output_type": "stream",
     "text": [
      "[[43]]\n",
      "[[43], [41]]\n",
      "[[41], [43], [40]]\n",
      "[[40], [41], [43], [37]]\n",
      "[[37, 37], [40], [41], [43], [38]]\n",
      "[[37, 37], [38], [40], [41], [43], [35]]\n",
      "[[35], [37, 37], [38], [40], [41], [43], [44]]\n",
      "[[35, 35], [37, 37], [38], [40, 40], [41], [43], [44], [39]]\n",
      "[[35, 35], [37, 37, 37], [38], [39], [40, 40], [41, 41, 41], [43, 43, 43], [44, 44], [36]]\n",
      "[[35, 35], [36, 36], [37, 37, 37, 37], [38], [39], [40, 40], [41, 41, 41, 41], [43, 43, 43], [44, 44], [42]]\n",
      "[35 35 35 35 35 36 36 36 36 36 36 37 37 37 37 37 37 37 37 37 38 38 38 38\n",
      " 39 39 40 40 40 40 40 41 41 41 41 41 41 41 42 42 42 43 43 43 43 44 44 44\n",
      " 44 44]\n"
     ]
    }
   ],
   "source": [
    "lst = np.random.randint(35,45,size = 50)\n",
    "\n",
    "def bucket_sort(lst):\n",
    "    ranges = []\n",
    "    lst2 = []\n",
    "    for x in lst:\n",
    "        if x not in ranges:\n",
    "            ranges.append(x)\n",
    "            lst2.append([x])\n",
    "            print(lst2)\n",
    "            for i in range(len(lst2)):\n",
    "                for idx in range(len(lst2)-i-1):\n",
    "                    if lst2[idx][0] > lst2[idx+1][0]:\n",
    "                        lst2[idx], lst2[idx+1] = lst2[idx+1], lst2[idx]\n",
    "        elif x in ranges:\n",
    "            for i in range(len(lst2)):\n",
    "                if x in lst2[i]:\n",
    "                    lst2[i].append(x)         \n",
    "    return np.concatenate(lst2)\n",
    "\n",
    "print(bucket_sort(lst))"
   ]
  },
  {
   "cell_type": "code",
   "execution_count": 9,
   "metadata": {},
   "outputs": [
    {
     "name": "stdout",
     "output_type": "stream",
     "text": [
      "[[43]]\n",
      "[[43], [41]]\n",
      "[[41], [43], [40]]\n",
      "[[40], [41], [43], [37]]\n",
      "[[37, 37], [40], [41], [43], [38]]\n",
      "[[37, 37], [38], [40], [41], [43], [35]]\n",
      "[[35], [37, 37], [38], [40], [41], [43], [44]]\n",
      "[[35, 35], [37, 37], [38], [40, 40], [41], [43], [44], [39]]\n",
      "[[35, 35], [37, 37, 37], [38], [39], [40, 40], [41, 41, 41], [43, 43, 43], [44, 44], [36]]\n",
      "[[35, 35], [36, 36], [37, 37, 37, 37], [38], [39], [40, 40], [41, 41, 41, 41], [43, 43, 43], [44, 44], [42]]\n",
      "[35 35 35 35 35 36 36 36 36 36 36 37 37 37 37 37 37 37 37 37 38 38 38 38\n",
      " 39 39 40 40 40 40 40 41 41 41 41 41 41 41 42 42 42 43 43 43 43 44 44 44\n",
      " 44 44]\n",
      "[35 35 35 35 35 36 36 36 36 36 36 37 37 37 37 37 37 37 37 37 38 38 38 38\n",
      " 39 39 40 40 40 40 40 41 41 41 41 41 41 41 42 42 42 43 43 43 43 44 44 44\n",
      " 44 44]\n"
     ]
    }
   ],
   "source": [
    "lst = bucket_sort(lst)\n",
    "print(lst)\n",
    "\n",
    "def swap(arr, index_1, index_2):\n",
    "    temp = arr[index_1]\n",
    "    arr[index_1] = arr[index_2]\n",
    "    arr[index_2] = temp\n",
    "\n",
    "def bubble_sort(arr):\n",
    "    for x in arr:\n",
    "        for i in range(len(arr)-1):\n",
    "            if arr[i] > arr[i+1]:\n",
    "                swap(arr, i, i+1)\n",
    "                \n",
    "bubble_sort(lst)\n",
    "print(lst)"
   ]
  },
  {
   "cell_type": "code",
   "execution_count": 10,
   "metadata": {},
   "outputs": [
    {
     "name": "stdout",
     "output_type": "stream",
     "text": [
      "Pre-Sort: [5, 2, 9, 1, 5, 6]\n",
      "Post-Sort: [1, 2, 5, 5, 6, 9]\n"
     ]
    }
   ],
   "source": [
    "nums = [5, 2, 9, 1, 5, 6]\n",
    "\n",
    "def swap(arr, index_1, index_2):\n",
    "  temp = arr[index_1]\n",
    "  arr[index_1] = arr[index_2]\n",
    "  arr[index_2] = temp\n",
    "  \n",
    "# define bubble_sort():\n",
    "def bubble_sort(arr):\n",
    "  for x in arr:\n",
    "    for i in range(len(arr)-1):\n",
    "      if arr[i] > arr[i+1]:\n",
    "        swap(arr, i, i+1)\n",
    "\n",
    "\n",
    "##### test statements\n",
    "\n",
    "print(\"Pre-Sort: {0}\".format(nums))      \n",
    "bubble_sort(nums)\n",
    "print(\"Post-Sort: {0}\".format(nums))"
   ]
  },
  {
   "cell_type": "markdown",
   "metadata": {},
   "source": [
    "**Key building blocks:** Now it's time to translate the individual steps of your algorithm into Python statements. In this case, one important expression will be the access to elements of a list. Each element in a list has an index, i.e., the position in the list. The foremost element (in Python) has index 0:"
   ]
  },
  {
   "cell_type": "code",
   "execution_count": 11,
   "metadata": {},
   "outputs": [
    {
     "name": "stdout",
     "output_type": "stream",
     "text": [
      "-1\n"
     ]
    }
   ],
   "source": [
    "input_values = [-1, -5, 42, 3, 0]\n",
    "print(input_values[0])"
   ]
  },
  {
   "cell_type": "markdown",
   "metadata": {},
   "source": [
    "With these guiding hints, try to translate the remainder of your algorithm."
   ]
  },
  {
   "cell_type": "code",
   "execution_count": null,
   "metadata": {},
   "outputs": [],
   "source": []
  }
 ],
 "metadata": {
  "interpreter": {
   "hash": "68e5eec871f4a0b113878d9d8f753a0df0ad6db7c0ea5b0051ec16ab875e30ce"
  },
  "kernelspec": {
   "display_name": "Python 3",
   "language": "python",
   "name": "python3"
  },
  "language_info": {
   "codemirror_mode": {
    "name": "ipython",
    "version": 3
   },
   "file_extension": ".py",
   "mimetype": "text/x-python",
   "name": "python",
   "nbconvert_exporter": "python",
   "pygments_lexer": "ipython3",
   "version": "3.8.8"
  }
 },
 "nbformat": 4,
 "nbformat_minor": 4
}
