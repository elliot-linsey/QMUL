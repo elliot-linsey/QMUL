{
 "cells": [
  {
   "cell_type": "markdown",
   "metadata": {
    "tags": []
   },
   "source": [
    "# Lab Work: Loggers\n",
    "\n",
    "The aim of this lab is to introduce you to Python's `logging` module (https://docs.python.org/3/library/logging.html and https://docs.python.org/3/howto/logging.html), which implements the concept of _loggers_. A logger provides for configureable output, enabling more finegrained control than plain `print` statements. Once again, consider `binary_search`. In previous work we have inserted various `print` statements to aid debugging or coverage analysis.\n",
    "\n",
    "The following code uses two loggers: the global logger as well as a custom logger for coverage information. The configurability of loggers makes it much easier to enable/disable debug output, unlike previous attempts where disabling debug output meant removing or commenting out various `print` statements."
   ]
  },
  {
   "cell_type": "code",
   "execution_count": 15,
   "metadata": {},
   "outputs": [
    {
     "name": "stderr",
     "output_type": "stream",
     "text": [
      "DEBUG:root:mid: 2\n",
      "INFO:coverage:lower half\n",
      "DEBUG:root:mid: 1\n",
      "INFO:coverage:returning true\n"
     ]
    },
    {
     "data": {
      "text/plain": [
       "True"
      ]
     },
     "execution_count": 15,
     "metadata": {},
     "output_type": "execute_result"
    }
   ],
   "source": [
    "import logging\n",
    "# just for Jupyter notebooks to ensure changes to basicConfig take effect\n",
    "# without having to restart the kernel\n",
    "from importlib import reload\n",
    "reload(logging)\n",
    "\n",
    "# A is a sorted list of values\n",
    "# A = [ 2, 42, 55, 78, 100 ]\n",
    "\n",
    "# start is the offset to start the search from\n",
    "# end is the upper bound of the range to be searched\n",
    "# value is the element to be found\n",
    "#\n",
    "# binary_search returns True if, and only if, value was found in A[start, end)\n",
    "def binary_search(A, end, start, value):\n",
    "    if start >= end:\n",
    "        coverage_logger.info(\"returning false\")\n",
    "        # end of search reached\n",
    "        return False\n",
    "\n",
    "    # compute the mid point between start and end\n",
    "    mid = (end - start) // 2 + start\n",
    "    logging.debug(\"mid: \" + str(mid))\n",
    "    if A[mid] == value:\n",
    "        coverage_logger.info(\"returning true\")\n",
    "        # value found\n",
    "        return True\n",
    "    # recursive calls\n",
    "    elif A[mid] > value:\n",
    "        coverage_logger.info(\"lower half\")\n",
    "        return binary_search(A=A, start=start, end=mid, value=value)\n",
    "    else:\n",
    "        coverage_logger.info(\"upper half\")\n",
    "        return binary_search(A=A, start=mid + 1, end=end, value=value)\n",
    "\n",
    "# configure the global logger; use logging.INFO instead of logging.DEBUG to disable\n",
    "# debug output\n",
    "logging.basicConfig(level=logging.DEBUG)\n",
    "# create another logger to independently control coverage output\n",
    "coverage_logger = logging.getLogger(\"coverage\")\n",
    "# use logging.WARNING instead of logging.INFO to disable coverage output\n",
    "coverage_logger.setLevel(logging.INFO)\n",
    "\n",
    "binary_search(A=[ 2, 42, 55, 78, 100 ], start=0, end=5, value=42)"
   ]
  },
  {
   "cell_type": "markdown",
   "metadata": {},
   "source": [
    "## Task\n",
    "\n",
    "Experiment with the above code by reconfiguring the loggers as suggested by the embedded comments.\n",
    "\n"
   ]
  },
  {
   "cell_type": "markdown",
   "metadata": {},
   "source": [
    "The ability of enabling/disabling log output is very convenient, but is just one aspect that is configurable. The prefix of each log message (for example, `DEBUG:root`) is not necessarily useful. Use the `format` parameter of `basicConfig` or `setFormatter` to configure this output (see https://docs.python.org/3/library/logging.html#logging.Formatter for the full documentation):"
   ]
  },
  {
   "cell_type": "code",
   "execution_count": 33,
   "metadata": {},
   "outputs": [
    {
     "name": "stderr",
     "output_type": "stream",
     "text": [
      "Hello! How are you?\n",
      "Hello! I'm fine!\n",
      "A: Hello! How are you?\n",
      "B: Hello! I'm fine!\n"
     ]
    }
   ],
   "source": [
    "# just for Jupyter notebooks to ensure changes to basicConfig take effect\n",
    "# without having to restart the kernel\n",
    "reload(logging)\n",
    "\n",
    "# comment out the following line to see what the output without the custom formatter is\n",
    "logging.basicConfig(format=\"Hello! %(message)s\")\n",
    "logging.warning(\"How are you?\")\n",
    "logging.warning(\"I'm fine!\")\n",
    "\n",
    "# it is also possible to pass an additional dictionary of values via the \"extra\"\n",
    "# keyword argument\n",
    "reload(logging)\n",
    "logging.basicConfig(format=\"%(person)s: Hello! %(message)s\")\n",
    "logging.warning(\"How are you?\", extra={\"person\": \"A\"})\n",
    "logging.warning(\"I'm fine!\", extra={\"person\": \"B\"})"
   ]
  },
  {
   "cell_type": "markdown",
   "metadata": {},
   "source": [
    "## Task\n",
    "\n",
    "Return to the `binary_search` example at the top and configure the log prefixes in a meaningful way. Note that the custom `coverage_logger` requires the use of the `setFormatter` method to do so. See https://docs.python.org/3/howto/logging.html#configuring-logging for an example to use this."
   ]
  },
  {
   "cell_type": "markdown",
   "metadata": {},
   "source": [
    "## Task\n",
    "\n",
    "Review your earlier coursework or your current progress towards coursework 2: consider any current use of `print` statements and see whether loggers would make for a suitable alternative. Typically, this will be the case for any embedded debug output. Such debug output is likely useful while you are developing, but should likely not appear in your final submission. That is, it's fine for the debug statements to remain part of your code, but the output should not actually be included (to declutter the PDF that you will eventually submit)."
   ]
  },
  {
   "cell_type": "code",
   "execution_count": null,
   "metadata": {},
   "outputs": [],
   "source": []
  }
 ],
 "metadata": {
  "kernelspec": {
   "display_name": "Python 3 (ipykernel)",
   "language": "python",
   "name": "python3"
  },
  "language_info": {
   "codemirror_mode": {
    "name": "ipython",
    "version": 3
   },
   "file_extension": ".py",
   "mimetype": "text/x-python",
   "name": "python",
   "nbconvert_exporter": "python",
   "pygments_lexer": "ipython3",
   "version": "3.9.7"
  }
 },
 "nbformat": 4,
 "nbformat_minor": 4
}
