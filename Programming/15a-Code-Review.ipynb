{
 "cells": [
  {
   "cell_type": "markdown",
   "metadata": {},
   "source": [
    "# Collaborate Lab Work: Code Review\n",
    "\n",
    "As (almost) everyone has submitted the first coursework for this module, we will exercise some code reading and debugging:\n",
    "\n",
    "### Task: Given someone else's implementation, apply your own testing to it\n",
    "\n",
    "As part of the coursework assignment, you have implemented simple linear regression, and also tested your implementation (as iterated in Lab 5). To strengthen your code reading (and not just writing!) skills, you are now asked to take someone else's implementation, and test it. Use your own test set-up against this other implementation (you will likely need to adapt your test set-up, and possibly also the implementation). To make this work, you may need to read (and understand) this implementation crafted by someone else.\n",
    "\n",
    "To find \"someone else,\" simply speak to the person sitting next to you if you're on campus. For those working online, please sync up via chat messages. There is nothing wrong in multiple people testing the same implementation (of someone else), or a person testing multiple other implementations.\n",
    "\n",
    "### Task: Debug the implementation\n"
   ]
  },
  {
   "cell_type": "markdown",
   "metadata": {},
   "source": [
    "Once you have succeeded in making tests work, you might also have spotted bugs in the implementation that was sent to you. Try to debug this implementation, i.e., fix the problems to make it work. Again, this will help you build up experience in reading and understanding (someone else's) code."
   ]
  },
  {
   "cell_type": "code",
   "execution_count": null,
   "metadata": {},
   "outputs": [],
   "source": []
  }
 ],
 "metadata": {
  "kernelspec": {
   "display_name": "Python 3 (ipykernel)",
   "language": "python",
   "name": "python3"
  },
  "language_info": {
   "codemirror_mode": {
    "name": "ipython",
    "version": 3
   },
   "file_extension": ".py",
   "mimetype": "text/x-python",
   "name": "python",
   "nbconvert_exporter": "python",
   "pygments_lexer": "ipython3",
   "version": "3.9.6"
  }
 },
 "nbformat": 4,
 "nbformat_minor": 4
}
