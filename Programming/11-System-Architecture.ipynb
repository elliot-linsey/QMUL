{
 "cells": [
  {
   "cell_type": "markdown",
   "metadata": {},
   "source": [
    "# Memory Management\n",
    "In this session we will use functions to study some basics about system architecture and memory management.\n",
    "\n",
    "> Activity: Go to www.menti.com and use the code 26 34 78 7"
   ]
  },
  {
   "cell_type": "code",
   "execution_count": 11,
   "metadata": {},
   "outputs": [
    {
     "name": "stdout",
     "output_type": "stream",
     "text": [
      "call from line 34\n",
      "Entering binary_search\n",
      "call from line 25\n",
      "Entering binary_search\n",
      "call from line 25\n",
      "Entering binary_search\n",
      "call from line 25\n",
      "Entering binary_search\n",
      "Returning from binary_search (b)\n",
      "Returning from binary_search (c)\n",
      "Returning from binary_search (c)\n",
      "Returning from binary_search (c)\n"
     ]
    },
    {
     "data": {
      "text/plain": [
       "True"
      ]
     },
     "execution_count": 11,
     "metadata": {},
     "output_type": "execute_result"
    }
   ],
   "source": [
    "# A is a sorted list of values\n",
    "# A = [ 2, 42, 55, 78, 100 ]\n",
    "\n",
    "# start is the offset to start the search from\n",
    "# end is the upper bound of the range to be searched\n",
    "# value is the element to be found\n",
    "#\n",
    "# binary_search returns True if, and only if, value was found in A[start, end)\n",
    "def binary_search(A, start, end, value):\n",
    "    local_list = []\n",
    "    for i in range(0, end):\n",
    "        local_list.append(i)\n",
    "    print(\"Entering binary_search\")\n",
    "    if start >= end:\n",
    "        # end of search reached\n",
    "        print(\"Returning from binary_search (a)\")\n",
    "        return False\n",
    "\n",
    "    # compute the mid point between start and end\n",
    "    mid = (end - start) // 2 + start\n",
    "    if A[mid] == value:\n",
    "        # value found\n",
    "        print(\"Returning from binary_search (b)\")\n",
    "        return True\n",
    "    # recursive calls\n",
    "    elif A[mid] > value:\n",
    "        print(\"call from line 25\")\n",
    "        return_value = binary_search(A=A, start=start, end=mid, value=value)\n",
    "    else:\n",
    "        print(\"call from line 28\")\n",
    "        return_value = binary_search(A=A, start=mid + 1, end=end, value=value)\n",
    "    print(\"Returning from binary_search (c)\")\n",
    "    return return_value\n",
    "\n",
    "\n",
    "print(\"call from line 34\")\n",
    "binary_search([ 2, 42, 55, 78, 100, 101, 102, 103, 104, 105 ], 0, 10, 2)"
   ]
  },
  {
   "cell_type": "code",
   "execution_count": 16,
   "metadata": {},
   "outputs": [
    {
     "name": "stdout",
     "output_type": "stream",
     "text": [
      "Entering binary_search\n",
      "Returning from binary_search (a)\n",
      "[ Top 10 ]\n",
      "/usr/local/Cellar/jupyterlab/2.2.7/libexec/lib/python3.8/site-packages/ipykernel/iostream.py:404: size=544 B, count=4, average=136 B\n",
      "/usr/local/opt/python@3.8/Frameworks/Python.framework/Versions/3.8/lib/python3.8/codeop.py:141: size=221 B, count=2, average=110 B\n",
      "<ipython-input-16-03559220b0bb>:6: size=160 B, count=4, average=40 B\n",
      "<ipython-input-16-03559220b0bb>:2: size=160 B, count=4, average=40 B\n",
      "/usr/local/Cellar/jupyterlab/2.2.7/libexec/lib/python3.8/site-packages/ipykernel/iostream.py:333: size=136 B, count=1, average=136 B\n",
      "/usr/local/Cellar/jupyterlab/2.2.7/libexec/lib/python3.8/site-packages/IPython/core/interactiveshell.py:3337: size=120 B, count=1, average=120 B\n",
      "/usr/local/Cellar/jupyterlab/2.2.7/libexec/lib/python3.8/site-packages/IPython/core/interactiveshell.py:3331: size=96 B, count=3, average=32 B\n",
      "/usr/local/Cellar/jupyterlab/2.2.7/libexec/lib/python3.8/site-packages/ipykernel/iostream.py:414: size=40 B, count=1, average=40 B\n",
      "/usr/local/Cellar/jupyterlab/2.2.7/libexec/lib/python3.8/site-packages/IPython/core/compilerop.py:150: size=28 B, count=1, average=28 B\n"
     ]
    }
   ],
   "source": [
    "def iterative_binary_search(A, start, end, value):\n",
    "    print(\"Entering binary_search\")\n",
    "    while start < end:\n",
    "        mid = (end - start) // 2 + start\n",
    "        if A[mid] == value:\n",
    "            print(\"Returning from binary_search (a)\")\n",
    "            return True\n",
    "        elif A[mid] > value:\n",
    "            end = mid\n",
    "        else:\n",
    "            start = mid + 1\n",
    "            \n",
    "    print(\"Returning from binary_search (b)\")\n",
    "    return False\n",
    "\n",
    "import tracemalloc\n",
    "\n",
    "tracemalloc.start()\n",
    "\n",
    "\n",
    "iterative_binary_search([ 2, 42, 55, 78, 100, 101, 102, 103, 104, 105 ], 0, 5, 2)\n",
    "\n",
    "\n",
    "snapshot = tracemalloc.take_snapshot()\n",
    "top_stats = snapshot.statistics('lineno')\n",
    "\n",
    "print(\"[ Top 10 ]\")\n",
    "for stat in top_stats[:10]:\n",
    "    print(stat)"
   ]
  },
  {
   "cell_type": "markdown",
   "metadata": {},
   "source": [
    "Additional (optional) reading: The details of how function calls are implementation are platform-specific. https://en.wikipedia.org/wiki/X86_calling_conventions describes current implementations for the x86 platform."
   ]
  },
  {
   "cell_type": "code",
   "execution_count": null,
   "metadata": {},
   "outputs": [],
   "source": []
  }
 ],
 "metadata": {
  "kernelspec": {
   "display_name": "Python 3 (ipykernel)",
   "language": "python",
   "name": "python3"
  },
  "language_info": {
   "codemirror_mode": {
    "name": "ipython",
    "version": 3
   },
   "file_extension": ".py",
   "mimetype": "text/x-python",
   "name": "python",
   "nbconvert_exporter": "python",
   "pygments_lexer": "ipython3",
   "version": "3.8.11"
  }
 },
 "nbformat": 4,
 "nbformat_minor": 4
}
