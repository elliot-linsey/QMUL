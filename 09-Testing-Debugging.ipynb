{
 "cells": [
  {
   "cell_type": "markdown",
   "metadata": {},
   "source": [
    "# Software Quality Assurance: Testing, Debugging, Code Review\n",
    "In this session we will study, by means of an example, standard approaches to software quality assurance:\n",
    "1. Unit tests\n",
    "2. Integration testing\n",
    "3. Code review\n",
    "4. Systematic debugging\n",
    "\n",
    "We will use the example from Lab 2 - the attempt of implementing binary search (which had some bugs).\n",
    "\n",
    "> Activity: Go to www.menti.com and use the code 26 34 78 7"
   ]
  },
  {
   "cell_type": "code",
   "execution_count": 2,
   "metadata": {},
   "outputs": [
    {
     "data": {
      "text/plain": [
       "True"
      ]
     },
     "execution_count": 2,
     "metadata": {},
     "output_type": "execute_result"
    }
   ],
   "source": [
    "# A is a sorted list of values\n",
    "# A = [ 2, 42, 55, 78, 100 ]\n",
    "\n",
    "# start is the offset to start the search from\n",
    "# end is the upper bound of the range to be searched\n",
    "# value is the element to be found\n",
    "#\n",
    "# binary_search returns True if, and only if, value was found in A[start, end)\n",
    "def binary_search(A, start, end, value):\n",
    "    if start >= end:\n",
    "        # end of search reached\n",
    "        return False\n",
    "\n",
    "    # compute the mid point between start and end\n",
    "    mid = (end - start) // 2 + start\n",
    "    # should be ok in Python, because of arbitrary-large integers:\n",
    "    # mid = (end + start) / 2\n",
    "    if A[mid] == value:\n",
    "        # value found\n",
    "        return True\n",
    "    # recursive calls\n",
    "    elif A[mid] > value:\n",
    "        return binary_search(A, start, mid, value)\n",
    "    else:\n",
    "        return binary_search(A, mid + 1, end, value)\n",
    "\n",
    "\n",
    "binary_search([ 2, 42, 55, 78, 100 ], 0, 5, 42)"
   ]
  },
  {
   "cell_type": "code",
   "execution_count": 3,
   "metadata": {},
   "outputs": [],
   "source": [
    "# Adding unit tests\n",
    "def run_unit_tests():\n",
    "    A = [ 2, 42, 55, 78, 100 ]\n",
    "    assert(binary_search(A, 0, 5, 42) == True)\n",
    "    assert(binary_search(A, 0, 5, 1) == False)\n",
    "    assert(binary_search(A, 0, 5, 78) == True)\n",
    "    A2 = [ 2, 55, 78 ]\n",
    "    assert(binary_search(A2, 0, 3, 78) == True)\n",
    "    assert(binary_search(A, 0, 0, 1) == False)\n",
    "    assert(binary_search([], 0, 0, 42) == False)\n",
    "    \n",
    "run_unit_tests()"
   ]
  },
  {
   "cell_type": "code",
   "execution_count": null,
   "metadata": {},
   "outputs": [],
   "source": []
  },
  {
   "cell_type": "code",
   "execution_count": null,
   "metadata": {},
   "outputs": [],
   "source": []
  }
 ],
 "metadata": {
  "kernelspec": {
   "display_name": "Python 3 (ipykernel)",
   "language": "python",
   "name": "python3"
  },
  "language_info": {
   "codemirror_mode": {
    "name": "ipython",
    "version": 3
   },
   "file_extension": ".py",
   "mimetype": "text/x-python",
   "name": "python",
   "nbconvert_exporter": "python",
   "pygments_lexer": "ipython3",
   "version": "3.8.11"
  }
 },
 "nbformat": 4,
 "nbformat_minor": 4
}
