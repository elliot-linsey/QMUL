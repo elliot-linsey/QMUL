{
 "cells": [
  {
   "cell_type": "code",
   "execution_count": 14,
   "id": "b6e3ddab",
   "metadata": {},
   "outputs": [],
   "source": [
    "import re"
   ]
  },
  {
   "cell_type": "code",
   "execution_count": 15,
   "id": "699df25a",
   "metadata": {},
   "outputs": [],
   "source": [
    "string = 'S100_Hum_1_potter.wav'"
   ]
  },
  {
   "cell_type": "code",
   "execution_count": 16,
   "id": "73a92654",
   "metadata": {},
   "outputs": [
    {
     "data": {
      "text/plain": [
       "'S'"
      ]
     },
     "execution_count": 16,
     "metadata": {},
     "output_type": "execute_result"
    }
   ],
   "source": [
    "string[0]"
   ]
  },
  {
   "cell_type": "code",
   "execution_count": 17,
   "id": "02d063b5",
   "metadata": {},
   "outputs": [
    {
     "data": {
      "text/plain": [
       "['S100', 'Hum', '1', 'potter', 'wav']"
      ]
     },
     "execution_count": 17,
     "metadata": {},
     "output_type": "execute_result"
    }
   ],
   "source": [
    "string = string.replace('.','_')\n",
    "split = string.split('_')\n",
    "split"
   ]
  },
  {
   "cell_type": "code",
   "execution_count": 19,
   "id": "037c00f9",
   "metadata": {},
   "outputs": [
    {
     "data": {
      "text/plain": [
       "'S100_hum_1_Potter.wav'"
      ]
     },
     "execution_count": 19,
     "metadata": {},
     "output_type": "execute_result"
    }
   ],
   "source": [
    "string = split[0]+'_'+split[1].lower()+'_'+split[2]+'_'+split[3].capitalize()+'.wav'\n",
    "string"
   ]
  },
  {
   "cell_type": "code",
   "execution_count": 36,
   "id": "e3bf9c63",
   "metadata": {},
   "outputs": [
    {
     "name": "stdout",
     "output_type": "stream",
     "text": [
      "buts\n"
     ]
    }
   ],
   "source": [
    "string2 = 'S55_harrypotter_whistle_1.wav'\n",
    "if 'potter' in string or 'Potter' in string:\n",
    "    print('buts')"
   ]
  },
  {
   "cell_type": "code",
   "execution_count": 45,
   "id": "b3c9083f",
   "metadata": {},
   "outputs": [
    {
     "name": "stdout",
     "output_type": "stream",
     "text": [
      "<re.Match object; span=(24, 25), match='1'>\n",
      "<re.Match object; span=(0, 3), match='S55'>\n"
     ]
    }
   ],
   "source": [
    "print(re.search(\"(?<![0-9S])(\\d)(?![0-9])\",string2))\n",
    "print(re.search(\"(S\\d+)\",string2))"
   ]
  },
  {
   "cell_type": "code",
   "execution_count": 44,
   "id": "f52a3677",
   "metadata": {},
   "outputs": [
    {
     "name": "stdout",
     "output_type": "stream",
     "text": [
      "S55\n"
     ]
    }
   ],
   "source": [
    "test = re.search(\"(S\\d+)\",string2)\n",
    "print(test.group())"
   ]
  },
  {
   "cell_type": "code",
   "execution_count": 49,
   "id": "b69cd105",
   "metadata": {},
   "outputs": [
    {
     "data": {
      "text/plain": [
       "'S55_whistle_1_Potter.wav'"
      ]
     },
     "execution_count": 49,
     "metadata": {},
     "output_type": "execute_result"
    }
   ],
   "source": [
    "def automation_potter(string):\n",
    "    take_num = re.search(\"(?<![0-9S])(\\d)(?![0-9])\",string)\n",
    "    S_num = re.search(\"(S\\d+)\",string)\n",
    "    w_or_h = None\n",
    "    if 'whistle' in string or 'Whistle' in string:\n",
    "        w_or_h = 'whistle'\n",
    "    else:\n",
    "        w_or_h = 'hum'\n",
    "    return S_num.group()+'_'+w_or_h+'_'+take_num.group()+'_'+'Potter.wav'\n",
    "automation_potter(string2)        "
   ]
  }
 ],
 "metadata": {
  "kernelspec": {
   "display_name": "Python 3",
   "language": "python",
   "name": "python3"
  },
  "language_info": {
   "codemirror_mode": {
    "name": "ipython",
    "version": 3
   },
   "file_extension": ".py",
   "mimetype": "text/x-python",
   "name": "python",
   "nbconvert_exporter": "python",
   "pygments_lexer": "ipython3",
   "version": "3.8.8"
  }
 },
 "nbformat": 4,
 "nbformat_minor": 5
}
