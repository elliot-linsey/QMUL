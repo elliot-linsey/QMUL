{
 "cells": [
  {
   "cell_type": "code",
   "execution_count": 14,
   "id": "a746806e",
   "metadata": {},
   "outputs": [],
   "source": [
    "import re"
   ]
  },
  {
   "cell_type": "code",
   "execution_count": 15,
   "id": "f4d69a3f",
   "metadata": {},
   "outputs": [],
   "source": [
    "string = 'S100_Hum_1_potter.wav'"
   ]
  },
  {
   "cell_type": "code",
   "execution_count": 16,
   "id": "b0a9dd99",
   "metadata": {},
   "outputs": [
    {
     "data": {
      "text/plain": [
       "'S'"
      ]
     },
     "execution_count": 16,
     "metadata": {},
     "output_type": "execute_result"
    }
   ],
   "source": [
    "string[0]"
   ]
  },
  {
   "cell_type": "code",
   "execution_count": 17,
   "id": "96ffd032",
   "metadata": {},
   "outputs": [
    {
     "data": {
      "text/plain": [
       "['S100', 'Hum', '1', 'potter', 'wav']"
      ]
     },
     "execution_count": 17,
     "metadata": {},
     "output_type": "execute_result"
    }
   ],
   "source": [
    "string = string.replace('.','_')\n",
    "split = string.split('_')\n",
    "split"
   ]
  },
  {
   "cell_type": "code",
   "execution_count": 19,
   "id": "c14bf905",
   "metadata": {},
   "outputs": [
    {
     "data": {
      "text/plain": [
       "'S100_hum_1_Potter.wav'"
      ]
     },
     "execution_count": 19,
     "metadata": {},
     "output_type": "execute_result"
    }
   ],
   "source": [
    "string = split[0]+'_'+split[1].lower()+'_'+split[2]+'_'+split[3].capitalize()+'.wav'\n",
    "string"
   ]
  }
 ],
 "metadata": {
  "kernelspec": {
   "display_name": "Python 3",
   "language": "python",
   "name": "python3"
  },
  "language_info": {
   "codemirror_mode": {
    "name": "ipython",
    "version": 3
   },
   "file_extension": ".py",
   "mimetype": "text/x-python",
   "name": "python",
   "nbconvert_exporter": "python",
   "pygments_lexer": "ipython3",
   "version": "3.8.8"
  }
 },
 "nbformat": 4,
 "nbformat_minor": 5
}
