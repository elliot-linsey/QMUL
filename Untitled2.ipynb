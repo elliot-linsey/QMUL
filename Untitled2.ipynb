{
 "cells": [
  {
   "cell_type": "code",
   "execution_count": 2,
   "id": "e702632f",
   "metadata": {},
   "outputs": [
    {
     "data": {
      "text/plain": [
       "0.004970223436170689"
      ]
     },
     "execution_count": 2,
     "metadata": {},
     "output_type": "execute_result"
    }
   ],
   "source": [
    "(((9990/10000)*(1/100000))/((1/100000 * 9990/10000)+(99999/100000 * 20/10000)))"
   ]
  },
  {
   "cell_type": "code",
   "execution_count": 3,
   "id": "5d7e1ec8",
   "metadata": {},
   "outputs": [
    {
     "data": {
      "text/plain": [
       "0.9252336448598131"
      ]
     },
     "execution_count": 3,
     "metadata": {},
     "output_type": "execute_result"
    }
   ],
   "source": [
    "(((0.99)*(0.2))/((0.2 * 0.99)+(0.8 * 0.02)))"
   ]
  }
 ],
 "metadata": {
  "kernelspec": {
   "display_name": "Python 3 (ipykernel)",
   "language": "python",
   "name": "python3"
  },
  "language_info": {
   "codemirror_mode": {
    "name": "ipython",
    "version": 3
   },
   "file_extension": ".py",
   "mimetype": "text/x-python",
   "name": "python",
   "nbconvert_exporter": "python",
   "pygments_lexer": "ipython3",
   "version": "3.8.12"
  }
 },
 "nbformat": 4,
 "nbformat_minor": 5
}
