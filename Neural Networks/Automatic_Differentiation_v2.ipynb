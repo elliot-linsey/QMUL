{
 "cells": [
  {
   "cell_type": "markdown",
   "metadata": {
    "id": "tRYKVntud1eW",
    "origin_pos": 0,
    "slideshow": {
     "slide_type": "slide"
    }
   },
   "source": [
    "# Optimization\n",
    "\n",
    "* In Deep Learning, we *train* models, updating them successively so that they get better and better as they see more and more training data.\n",
    "   * *Optimization*: the process of fitting our models to observed data\n",
    "   * To understand optimization problems and methods, we need to know basic concepts from *Calculus*.\n"
   ]
  },
  {
   "cell_type": "markdown",
   "metadata": {
    "slideshow": {
     "slide_type": "slide"
    }
   },
   "source": [
    "## Recap from last week\n",
    "\n",
    "* Estimate blood pressure from height, weight, age, exerc_hours"
   ]
  },
  {
   "cell_type": "code",
   "execution_count": 1,
   "metadata": {
    "slideshow": {
     "slide_type": "-"
    }
   },
   "outputs": [],
   "source": [
    "%matplotlib inline\n",
    "\n",
    "# input_data X: [height, weight, age, exerc_hours]\n",
    "X = [[180, 89, 35, 1],\n",
    "     [160, 49, 40, 4],\n",
    "     [179, 69, 20, 2]];\n",
    "\n",
    "# ground truth values Y: blood_pressure\n",
    "Y = [[160], [130], [110]];"
   ]
  },
  {
   "cell_type": "markdown",
   "metadata": {},
   "source": [
    "* If the model parameters are known:"
   ]
  },
  {
   "cell_type": "code",
   "execution_count": 2,
   "metadata": {},
   "outputs": [
    {
     "name": "stdout",
     "output_type": "stream",
     "text": [
      "121.2\n"
     ]
    }
   ],
   "source": [
    "# model w: w = [w0, w1, w2, w3]\n",
    "w = [0.3, 0.8, -0.4, 10];\n",
    "\n",
    "def model(w, x):\n",
    "    y_hat = w[0]*x[0]+w[1]*x[1]+w[2]*x[2]+w[3]*x[3]\n",
    "    return y_hat\n",
    "\n",
    "x0 = X[0]\n",
    "y0_hat = model(w, x0)\n",
    "print(y0_hat)"
   ]
  },
  {
   "cell_type": "markdown",
   "metadata": {
    "slideshow": {
     "slide_type": "slide"
    }
   },
   "source": [
    "* If the model parameters are *unknown*, we can use ground truth labels to find them\n",
    "\n",
    "$$loss= (y-\\hat{y})^2$$"
   ]
  },
  {
   "cell_type": "code",
   "execution_count": 3,
   "metadata": {
    "slideshow": {
     "slide_type": "-"
    }
   },
   "outputs": [
    {
     "name": "stdout",
     "output_type": "stream",
     "text": [
      "1505.4399999999998\n"
     ]
    }
   ],
   "source": [
    "def loss(y, y_hat):\n",
    "    return (y-y_hat)**2\n",
    "\n",
    "y0 = Y[0][0]\n",
    "print(loss(y0, y0_hat))"
   ]
  },
  {
   "cell_type": "markdown",
   "metadata": {
    "slideshow": {
     "slide_type": "-"
    }
   },
   "source": [
    "* The update for the first parameter $w[0]$ is given by:\n",
    "$$w[0] \\leftarrow w[0] - \\frac{\\theta loss}{\\theta w[0]}$$\n",
    "* In this lecture, we will see what $\\frac{\\theta loss}{\\theta w[0]}$ is all about.\n",
    "* For that, we need to know basic concepts from *Calculus*."
   ]
  },
  {
   "cell_type": "markdown",
   "metadata": {
    "slideshow": {
     "slide_type": "slide"
    }
   },
   "source": [
    "# Functions\n",
    "* In maths, functions are similar to functions in programming\n",
    "* Given a set of input values, a function can be used to compute an output"
   ]
  },
  {
   "cell_type": "code",
   "execution_count": 4,
   "metadata": {},
   "outputs": [],
   "source": [
    "# Python:\n",
    "def f(w, x):\n",
    "    y = w[0]*x[0]+w[1]*x[1]+w[2]*x[2]+w[3]*x[3]\n",
    "    return y"
   ]
  },
  {
   "cell_type": "markdown",
   "metadata": {},
   "source": [
    "* Maths: $$ y = f(w_0, w_1, w_2, w_3, x_0, x_1, x_2, x_3)\\\\ y = w_0 \\cdot x_0 + w_1 \\cdot x_1 + w_2 \\cdot x_2 + w_3 \\cdot x_3$$\n",
    "* The above function has 8 input variables. \n",
    "* Let's assume for simplicity a single variable function: $y=f(x) \\textrm{ where } f: \\mathbb{R} \\rightarrow \\mathbb{R}$.\n",
    "* Example: Define the function $f(x) = 3x^2-4x$."
   ]
  },
  {
   "cell_type": "code",
   "execution_count": 2,
   "metadata": {
    "scrolled": true,
    "slideshow": {
     "slide_type": "slide"
    }
   },
   "outputs": [
    {
     "data": {
      "image/png": "[encoded data removed]",
      "text/plain": [
       "<Figure size 432x288 with 1 Axes>"
      ]
     },
     "metadata": {
      "needs_background": "light"
     },
     "output_type": "display_data"
    }
   ],
   "source": [
    "import torch \n",
    "from matplotlib import pyplot as plt\n",
    "%matplotlib inline\n",
    "\n",
    "def f(x):\n",
    "    return 3 * x ** 2 - 4 * x\n",
    "\n",
    "x = torch.arange(-5, 5, 0.1)\n",
    "y = f(x)\n",
    "plt.plot(x,y);\n",
    "plt.xlabel('x'); plt.ylabel('y=f(x)'); "
   ]
  },
  {
   "cell_type": "markdown",
   "metadata": {
    "slideshow": {
     "slide_type": "slide"
    }
   },
   "source": [
    "# Derivatives and Differentiation\n",
    "\n",
    "* Suppose that we have a function $f: \\mathbb{R} \\rightarrow \\mathbb{R}$, whose input and output are both scalars. The *derivative* of $f$ is defined as:\n",
    "$$f'(x) = \\lim_{h \\rightarrow 0} \\frac{f(x+h) - f(x)}{h},$$\n",
    "if this limit exists. \n",
    "\n",
    "* We can interpret the derivative $f'(x)$ as the *instantaneous* rate of change of $f(x)$ with respect to $x$.\n",
    "\n"
   ]
  },
  {
   "cell_type": "markdown",
   "metadata": {
    "id": "LiQigeHpd1eX",
    "origin_pos": 4,
    "slideshow": {
     "slide_type": "slide"
    }
   },
   "source": [
    "* Example: Consider again the function $f(x) = 3x^2-4x$. For $x=1$ and by letting $h$ approach $0$, the derivative $f'(x)$ is getting equal to $2$."
   ]
  },
  {
   "cell_type": "code",
   "execution_count": 3,
   "metadata": {
    "colab": {
     "base_uri": "https://localhost:8080/"
    },
    "executionInfo": {
     "elapsed": 510,
     "status": "ok",
     "timestamp": 1610905942183,
     "user": {
      "displayName": "Georgios Tzimiropoulos",
      "photoUrl": "",
      "userId": "03131831684678803743"
     },
     "user_tz": 0
    },
    "id": "t68EKfmad1eY",
    "origin_pos": 5,
    "outputId": "520c62d8-0ad3-4200-c426-9eb5705138a2",
    "scrolled": false,
    "tab": [
     "pytorch"
    ]
   },
   "outputs": [
    {
     "name": "stdout",
     "output_type": "stream",
     "text": [
      "h=0.10000, numerical limit=2.30000\n",
      "h=0.01000, numerical limit=2.03000\n",
      "h=0.00100, numerical limit=2.00300\n",
      "h=0.00010, numerical limit=2.00030\n",
      "h=0.00001, numerical limit=2.00003\n"
     ]
    }
   ],
   "source": [
    "%matplotlib inline\n",
    "\n",
    "def f(x):\n",
    "    return 3 * x ** 2 - 4 * x\n",
    "\n",
    "def numerical_lim(f, x, h):\n",
    "    return (f(x + h) - f(x)) / h\n",
    "\n",
    "h = 0.1\n",
    "for i in range(5):\n",
    "    print(f'h={h:.5f}, numerical limit={numerical_lim(f, 1, h):.5f}')\n",
    "    h *= 0.1"
   ]
  },
  {
   "cell_type": "markdown",
   "metadata": {
    "slideshow": {
     "slide_type": "slide"
    }
   },
   "source": [
    "* If $f$ is differentiable at every number of an interval, then this function is differentiable on this interval.\n",
    "* This also means that the derivative is also a function.\n",
    "* For example the derivative of $f(x) = 3x^2-4x$ is also function $f'(x) = 6x-4$.\n"
   ]
  },
  {
   "cell_type": "code",
   "execution_count": 4,
   "metadata": {},
   "outputs": [
    {
     "data": {
      "image/png": "[encoded data removed]",
      "text/plain": [
       "<Figure size 432x288 with 1 Axes>"
      ]
     },
     "metadata": {
      "needs_background": "light"
     },
     "output_type": "display_data"
    }
   ],
   "source": [
    "def f_prime(x):\n",
    "    return 6 * x - 4\n",
    "\n",
    "x = torch.arange(-5, 5, 0.1)\n",
    "plt.plot(x,f_prime(x));\n",
    "plt.xlabel('x'); plt.ylabel(\"y=f'(x)\"); "
   ]
  },
  {
   "cell_type": "markdown",
   "metadata": {
    "id": "4GqBiCjbd1eZ",
    "origin_pos": 6,
    "slideshow": {
     "slide_type": "slide"
    }
   },
   "source": [
    "# Differentiation rules\n",
    "\n",
    "* Given $y = f(x)$, the following expressions are equivalent:\n",
    "\n",
    "$$f'(x) = y' = \\frac{dy}{dx} = \\frac{df}{dx} = \\frac{d}{dx} f(x) = Df(x) = D_x f(x),$$\n",
    "\n",
    "where symbols $\\frac{d}{dx}$ and $D$ are *differentiation operators* that indicate operation of *differentiation*.\n",
    "\n",
    "* Differentiation results of commonly-used functions:\n",
    "    * $DC = 0$ ($C$ is a constant),\n",
    "    * $Dx^n = nx^{n-1}$ (the *power rule*, $n$ is any real number),\n",
    "    * $De^x = e^x$,\n",
    "    * $D\\ln(x) = 1/x.$\n",
    "    \n",
    "* The above results are just examples: there are many more functions for which the derivatives are readily available.     "
   ]
  },
  {
   "cell_type": "markdown",
   "metadata": {
    "id": "JqZOQKxxd1ea",
    "slideshow": {
     "slide_type": "slide"
    }
   },
   "source": [
    "* Suppose that functions $f$ and $g$ are both differentiable and $C$ is a constant,\n",
    "we have: \n",
    "    * the *constant multiple rule*\n",
    "    \n",
    "    $$\\frac{d}{dx} [Cf(x)] = C \\frac{d}{dx} f(x),$$\n",
    "    \n",
    "    * the *sum rule*\n",
    "\n",
    "    $$\\frac{d}{dx} [f(x) + g(x)] = \\frac{d}{dx} f(x) + \\frac{d}{dx} g(x),$$\n",
    "\n",
    "    * the *product rule*\n",
    "\n",
    "    $$\\frac{d}{dx} [f(x)g(x)] = f(x) \\frac{d}{dx} [g(x)] + g(x) \\frac{d}{dx} [f(x)],$$\n",
    "\n",
    "    * and the *quotient rule*\n",
    "\n",
    "$$\\frac{d}{dx} \\left[\\frac{f(x)}{g(x)}\\right] = \\frac{g(x) \\frac{d}{dx} [f(x)] - f(x) \\frac{d}{dx} [g(x)]}{[g(x)]^2}.$$\n",
    "\n",
    "* Now we can apply a few of the above rules to find $f'(x) = 3 \\frac{d}{dx} x^2-4\\frac{d}{dx}x = 6x-4$. Thus, by setting $x = 1$, we have $f'(1) = 2$."
   ]
  },
  {
   "cell_type": "markdown",
   "metadata": {
    "id": "_Hkzv8g9d1ea",
    "slideshow": {
     "slide_type": "slide"
    }
   },
   "source": [
    "# Visualization\n",
    "\n",
    "* This derivative is also the slope of the tangent line to the curve $f(x)$ when $x = 1$.\n",
    "\n",
    "![derivative as slope of tangent line.](img/derivative_example3.png) \n",
    "\n",
    "<!-- ![derivative as slope of tangent line.](https://drive.google.com/uc?export=view&id=1QwpZpy-SGuDAWPF_uvpq7S5GRjZ-BmEc) -->\n"
   ]
  },
  {
   "cell_type": "markdown",
   "metadata": {
    "id": "5ebTpBZ0d1eb",
    "origin_pos": 16,
    "slideshow": {
     "slide_type": "slide"
    }
   },
   "source": [
    "# Partial Derivatives\n",
    "\n",
    "* So far we have dealt with the differentiation of functions of just one variable. \n",
    "* In deep learning, functions often depend on *many* variables. Thus, we need to extend the ideas of differentiation to these *multivariate* functions.\n",
    "\n",
    "* Let $y = f(x_1, x_2, \\ldots, x_n)$ be a function with $n$ variables. \n",
    "* Function f takes the $n$ variables $x_1, x_2, \\ldots, x_n$ and maps them to a single number, i.e. y is *scalar*. \n",
    "* Equivalently, we can write $y=f(\\mathbf{x})$ where $\\mathbf{x} = [x_1, x_2, \\ldots, x_n]^\\top$ is the $n$-dimensional vector containing the input variables. \n",
    "* Example from above: $$y = w_0 \\cdot x_0 + w_1 \\cdot x_1 + w_2 \\cdot x_2 + w_3 \\cdot x_3$$\n"
   ]
  },
  {
   "cell_type": "markdown",
   "metadata": {
    "slideshow": {
     "slide_type": "slide"
    }
   },
   "source": [
    "* The *partial derivative* of $y$ with respect to its $i^\\mathrm{th}$  parameter $x_i$ is:\n",
    "\n",
    "$$ \\frac{\\partial y}{\\partial x_i} = \\lim_{h \\rightarrow 0} \\frac{f(x_1, \\ldots, x_{i-1}, x_i+h, x_{i+1}, \\ldots, x_n) - f(x_1, \\ldots, x_i, \\ldots, x_n)}{h}.$$\n",
    "\n",
    "* To calculate $\\frac{\\partial y}{\\partial x_i}$, we can simply treat $x_1, \\ldots, x_{i-1}, x_{i+1}, \\ldots, x_n$ as constants and calculate the derivative of $y$ with respect to $x_i$.\n",
    "\n",
    "* In terms of notation of partial derivatives, the following are equivalent:\n",
    "\n",
    "$$\\frac{\\partial y}{\\partial x_i} = \\frac{\\partial f}{\\partial x_i} = f_{x_i} = f_i = D_i f = D_{x_i} f.$$"
   ]
  },
  {
   "cell_type": "markdown",
   "metadata": {
    "id": "AzpXj4Wfd1eb",
    "slideshow": {
     "slide_type": "slide"
    }
   },
   "source": [
    "# Gradients\n",
    "\n",
    "* We can concatenate partial derivatives of a multivariate function $f(\\mathbf{x})$ with respect to all its input variables to obtain the *gradient* vector of the function.\n",
    "\n",
    "* The gradient of the function $f(\\mathbf{x})$ with respect to $\\mathbf{x}$ is a vector of $n$ partial derivatives:\n",
    "\n",
    "$$\\nabla_{\\mathbf{x}} f(\\mathbf{x}) = \\bigg[\\frac{\\partial f(\\mathbf{x})}{\\partial x_1}, \\frac{\\partial f(\\mathbf{x})}{\\partial x_2}, \\ldots, \\frac{\\partial f(\\mathbf{x})}{\\partial x_n}\\bigg]^\\top,$$\n",
    "where $\\nabla_{\\mathbf{x}} f(\\mathbf{x})$ is often replaced by $\\nabla f(\\mathbf{x})$ when there is no ambiguity.\n",
    "\n"
   ]
  },
  {
   "cell_type": "markdown",
   "metadata": {
    "id": "oXkteXuZd1eb",
    "slideshow": {
     "slide_type": "slide"
    }
   },
   "source": [
    "# Differentiation results of commonly-used multivariate functions\n",
    "\n",
    "The following results are often used when differentiating multivariate functions:\n",
    "\n",
    "* $$\\nabla_{\\mathbf{x}} \\mathbf{A} \\mathbf{x} = \\mathbf{A}^\\top$$\n",
    "\n",
    "* $$\\nabla_{\\mathbf{x}} \\mathbf{x}^\\top \\mathbf{A}  = \\mathbf{A}$$\n",
    "\n",
    "* $$\\nabla_{\\mathbf{x}} \\mathbf{x}^\\top \\mathbf{A} \\mathbf{x}  = (\\mathbf{A} + \\mathbf{A}^\\top)\\mathbf{x}$$\n",
    "\n",
    "* $$\\nabla_{\\mathbf{x}} \\|\\mathbf{x} \\|^2 = \\nabla_{\\mathbf{x}} \\mathbf{x}^\\top \\mathbf{x} = 2\\mathbf{x}$$\n"
   ]
  },
  {
   "cell_type": "markdown",
   "metadata": {
    "id": "qd8idSvdd1ed",
    "slideshow": {
     "slide_type": "slide"
    }
   },
   "source": [
    "# Chain Rule\n",
    "\n",
    "* In Deep Learning, the multivariate functions used are often *composite*, so the above rules cannot be directly applied.\n",
    "* Fortunately, the *chain rule* enables the differentiatiation of composite functions.\n",
    "\n",
    "* Let us first consider functions of a single variable. Suppose that functions $y=f(u)$ and $u=g(x)$ are both differentiable, then the chain rule states that\n",
    "\n",
    "$$\\frac{dy}{dx} = \\frac{dy}{du} \\frac{du}{dx}.$$\n",
    "\n",
    "* Suppose now that the differentiable function $y$ has variables $u_1, u_2, \\ldots, u_m$, where each differentiable function $u_i$ has variables $x_1, x_2, \\ldots, x_n$. Note that $y$ is a function of $x_1, x_2, \\ldots, x_n$.\n",
    "\n",
    "* Then, the chain rule gives\n",
    "$$\\frac{dy}{dx_i} = \\frac{dy}{du_1} \\frac{du_1}{dx_i} + \\frac{dy}{du_2} \\frac{du_2}{dx_i} + \\cdots + \\frac{dy}{du_m} \\frac{du_m}{dx_i}$$\n",
    "for any $i = 1, 2, \\ldots, n$."
   ]
  },
  {
   "cell_type": "markdown",
   "metadata": {
    "id": "QEQvOJ7qd1ed",
    "slideshow": {
     "slide_type": "slide"
    }
   },
   "source": [
    "# Automatic Differentiation\n",
    "\n",
    "* Differentiation is a crucial step in nearly all deep learning optimization algorithms.\n",
    "* While the calculations for taking these derivatives is doable, for complex models, working out the calculations by hand can be a pain (and often error-prone).\n",
    "\n",
    "* Deep learning frameworks overcome this problem by automatically calculating derivatives, by *automatic differentiation*.\n",
    "\n",
    "* Given a model the system builds a *computational graph*, tracking which data combined through which operations to produce the output.\n",
    "\n",
    "* Automatic differentiation enables the system to subsequently calculate gradients.\n",
    "\n",
    "\n"
   ]
  },
  {
   "cell_type": "markdown",
   "metadata": {
    "id": "_NJv2iWkd1ee",
    "slideshow": {
     "slide_type": "slide"
    }
   },
   "source": [
    "# A Simple Example\n",
    "\n",
    "* Differentiate function $y = 2\\mathbf{x}^{\\top}\\mathbf{x}$ with respect to the column vector $\\mathbf{x}$.\n",
    "* Note that, in practice, AD allows the calculation of the derivative for a specific value of the input variable.\n",
    "* It does not provide a general mathematical formula for the function derivative. \n",
    "    * Good news is that you never need the formula in practice.\n",
    "* For example consider the function $f(x) = 3x^2-4x$. We know that its derivative is $f'(x) = 6x-4$. AD will not give you access to this formula. It will give you access to values of $f'(x)$ for specific input values of $x$, e.g. $f'(1)=f'(x)$ for $x=1$, $f'(10)=f'(x)$ for $x=10$ etc."
   ]
  },
  {
   "cell_type": "code",
   "execution_count": 2,
   "metadata": {
    "colab": {
     "base_uri": "https://localhost:8080/"
    },
    "executionInfo": {
     "elapsed": 3289,
     "status": "ok",
     "timestamp": 1610905960035,
     "user": {
      "displayName": "Georgios Tzimiropoulos",
      "photoUrl": "",
      "userId": "03131831684678803743"
     },
     "user_tz": 0
    },
    "id": "0OgGS7_1d1ee",
    "outputId": "ca65bee8-6774-4691-a37d-7bcddfd87ef0",
    "scrolled": true,
    "slideshow": {
     "slide_type": "slide"
    }
   },
   "outputs": [
    {
     "name": "stdout",
     "output_type": "stream",
     "text": [
      "tensor([0., 1., 2., 3.], requires_grad=True)\n",
      "None\n",
      "tensor(28., grad_fn=<MulBackward0>)\n"
     ]
    }
   ],
   "source": [
    "import torch\n",
    "# create a specific value of input x\n",
    "x = torch.arange(4.0)\n",
    "x.requires_grad_(True)\n",
    "print(x)\n",
    "print(x.grad)\n",
    "y = 2*torch.dot(x, x)\n",
    "print(y)"
   ]
  },
  {
   "cell_type": "markdown",
   "metadata": {
    "id": "OxpprzIwd1ef",
    "slideshow": {
     "slide_type": "slide"
    }
   },
   "source": [
    "* Next, we can automatically calculate the gradient of `y` with respect to each component of `x` by calling the function for gradient calculation and printing the gradient.\n",
    "* This function is called **backpropagation**"
   ]
  },
  {
   "cell_type": "code",
   "execution_count": 3,
   "metadata": {
    "colab": {
     "base_uri": "https://localhost:8080/"
    },
    "executionInfo": {
     "elapsed": 480,
     "status": "ok",
     "timestamp": 1610905964876,
     "user": {
      "displayName": "Georgios Tzimiropoulos",
      "photoUrl": "",
      "userId": "03131831684678803743"
     },
     "user_tz": 0
    },
    "id": "jPAnXJ-nd1eg",
    "outputId": "3e802f75-f18b-44b8-966d-97d1c86bb333"
   },
   "outputs": [
    {
     "data": {
      "text/plain": [
       "tensor([ 0.,  4.,  8., 12.])"
      ]
     },
     "execution_count": 3,
     "metadata": {
      "tags": []
     },
     "output_type": "execute_result"
    }
   ],
   "source": [
    "y.backward()\n",
    "x.grad"
   ]
  },
  {
   "cell_type": "markdown",
   "metadata": {
    "id": "bdRkU-S7d1eh"
   },
   "source": [
    "* The gradient of the function $y = 2\\mathbf{x}^{\\top}\\mathbf{x}$ with respect to $\\mathbf{x}$ should be $4\\mathbf{x}$.\n",
    "* Let us quickly verify that our desired gradient was calculated correctly.\n",
    "\n"
   ]
  },
  {
   "cell_type": "code",
   "execution_count": 4,
   "metadata": {
    "colab": {
     "base_uri": "https://localhost:8080/"
    },
    "executionInfo": {
     "elapsed": 566,
     "status": "ok",
     "timestamp": 1610905967980,
     "user": {
      "displayName": "Georgios Tzimiropoulos",
      "photoUrl": "",
      "userId": "03131831684678803743"
     },
     "user_tz": 0
    },
    "id": "JEQKyOted1eh",
    "outputId": "671b9934-25a8-48e1-f860-9b8257aa300a"
   },
   "outputs": [
    {
     "data": {
      "text/plain": [
       "tensor([True, True, True, True])"
      ]
     },
     "execution_count": 4,
     "metadata": {
      "tags": []
     },
     "output_type": "execute_result"
    }
   ],
   "source": [
    "x.grad == 4 * x"
   ]
  },
  {
   "cell_type": "code",
   "execution_count": 5,
   "metadata": {
    "colab": {
     "base_uri": "https://localhost:8080/"
    },
    "executionInfo": {
     "elapsed": 638,
     "status": "ok",
     "timestamp": 1610905969355,
     "user": {
      "displayName": "Georgios Tzimiropoulos",
      "photoUrl": "",
      "userId": "03131831684678803743"
     },
     "user_tz": 0
    },
    "id": "q9eee2rSd1ei",
    "outputId": "56c039c6-e792-4d51-ce80-5c102042a094",
    "slideshow": {
     "slide_type": "slide"
    }
   },
   "outputs": [
    {
     "data": {
      "text/plain": [
       "tensor([1., 1., 1., 1.])"
      ]
     },
     "execution_count": 5,
     "metadata": {
      "tags": []
     },
     "output_type": "execute_result"
    }
   ],
   "source": [
    "# Another example y = h(x) = x1+x2+x3+x4\n",
    "# PyTorch accumulates the gradient in default, we need to clear the previous \n",
    "# values\n",
    "x.grad.zero_() \n",
    "y = x.sum()\n",
    "y.backward()\n",
    "x.grad"
   ]
  },
  {
   "cell_type": "code",
   "execution_count": 6,
   "metadata": {
    "colab": {
     "base_uri": "https://localhost:8080/",
     "height": 358
    },
    "collapsed": true,
    "executionInfo": {
     "elapsed": 675,
     "status": "error",
     "timestamp": 1610905970920,
     "user": {
      "displayName": "Georgios Tzimiropoulos",
      "photoUrl": "",
      "userId": "03131831684678803743"
     },
     "user_tz": 0
    },
    "id": "_4nT-g0nd1ei",
    "outputId": "855a703d-4899-4b50-e897-8eb42f1446f3",
    "slideshow": {
     "slide_type": "slide"
    }
   },
   "outputs": [
    {
     "ename": "RuntimeError",
     "evalue": "ignored",
     "output_type": "error",
     "traceback": [
      "\u001b[0;31m---------------------------------------------------------------------------\u001b[0m",
      "\u001b[0;31mRuntimeError\u001b[0m                              Traceback (most recent call last)",
      "\u001b[0;32m<ipython-input-6-109fe2573949>\u001b[0m in \u001b[0;36m<module>\u001b[0;34m()\u001b[0m\n\u001b[1;32m      2\u001b[0m \u001b[0mx\u001b[0m\u001b[0;34m.\u001b[0m\u001b[0mgrad\u001b[0m\u001b[0;34m.\u001b[0m\u001b[0mzero_\u001b[0m\u001b[0;34m(\u001b[0m\u001b[0;34m)\u001b[0m\u001b[0;34m\u001b[0m\u001b[0;34m\u001b[0m\u001b[0m\n\u001b[1;32m      3\u001b[0m \u001b[0my\u001b[0m \u001b[0;34m=\u001b[0m \u001b[0mx\u001b[0m \u001b[0;34m*\u001b[0m \u001b[0mx\u001b[0m\u001b[0;34m\u001b[0m\u001b[0;34m\u001b[0m\u001b[0m\n\u001b[0;32m----> 4\u001b[0;31m \u001b[0my\u001b[0m\u001b[0;34m.\u001b[0m\u001b[0mbackward\u001b[0m\u001b[0;34m(\u001b[0m\u001b[0;34m)\u001b[0m \u001b[0;31m# will throw an error\u001b[0m\u001b[0;34m\u001b[0m\u001b[0;34m\u001b[0m\u001b[0m\n\u001b[0m\u001b[1;32m      5\u001b[0m \u001b[0mx\u001b[0m\u001b[0;34m.\u001b[0m\u001b[0mgrad\u001b[0m\u001b[0;34m\u001b[0m\u001b[0;34m\u001b[0m\u001b[0m\n",
      "\u001b[0;32m/usr/local/lib/python3.6/dist-packages/torch/tensor.py\u001b[0m in \u001b[0;36mbackward\u001b[0;34m(self, gradient, retain_graph, create_graph)\u001b[0m\n\u001b[1;32m    219\u001b[0m                 \u001b[0mretain_graph\u001b[0m\u001b[0;34m=\u001b[0m\u001b[0mretain_graph\u001b[0m\u001b[0;34m,\u001b[0m\u001b[0;34m\u001b[0m\u001b[0;34m\u001b[0m\u001b[0m\n\u001b[1;32m    220\u001b[0m                 create_graph=create_graph)\n\u001b[0;32m--> 221\u001b[0;31m         \u001b[0mtorch\u001b[0m\u001b[0;34m.\u001b[0m\u001b[0mautograd\u001b[0m\u001b[0;34m.\u001b[0m\u001b[0mbackward\u001b[0m\u001b[0;34m(\u001b[0m\u001b[0mself\u001b[0m\u001b[0;34m,\u001b[0m \u001b[0mgradient\u001b[0m\u001b[0;34m,\u001b[0m \u001b[0mretain_graph\u001b[0m\u001b[0;34m,\u001b[0m \u001b[0mcreate_graph\u001b[0m\u001b[0;34m)\u001b[0m\u001b[0;34m\u001b[0m\u001b[0;34m\u001b[0m\u001b[0m\n\u001b[0m\u001b[1;32m    222\u001b[0m \u001b[0;34m\u001b[0m\u001b[0m\n\u001b[1;32m    223\u001b[0m     \u001b[0;32mdef\u001b[0m \u001b[0mregister_hook\u001b[0m\u001b[0;34m(\u001b[0m\u001b[0mself\u001b[0m\u001b[0;34m,\u001b[0m \u001b[0mhook\u001b[0m\u001b[0;34m)\u001b[0m\u001b[0;34m:\u001b[0m\u001b[0;34m\u001b[0m\u001b[0;34m\u001b[0m\u001b[0m\n",
      "\u001b[0;32m/usr/local/lib/python3.6/dist-packages/torch/autograd/__init__.py\u001b[0m in \u001b[0;36mbackward\u001b[0;34m(tensors, grad_tensors, retain_graph, create_graph, grad_variables)\u001b[0m\n\u001b[1;32m    124\u001b[0m \u001b[0;34m\u001b[0m\u001b[0m\n\u001b[1;32m    125\u001b[0m     \u001b[0mgrad_tensors_\u001b[0m \u001b[0;34m=\u001b[0m \u001b[0m_tensor_or_tensors_to_tuple\u001b[0m\u001b[0;34m(\u001b[0m\u001b[0mgrad_tensors\u001b[0m\u001b[0;34m,\u001b[0m \u001b[0mlen\u001b[0m\u001b[0;34m(\u001b[0m\u001b[0mtensors\u001b[0m\u001b[0;34m)\u001b[0m\u001b[0;34m)\u001b[0m\u001b[0;34m\u001b[0m\u001b[0;34m\u001b[0m\u001b[0m\n\u001b[0;32m--> 126\u001b[0;31m     \u001b[0mgrad_tensors_\u001b[0m \u001b[0;34m=\u001b[0m \u001b[0m_make_grads\u001b[0m\u001b[0;34m(\u001b[0m\u001b[0mtensors\u001b[0m\u001b[0;34m,\u001b[0m \u001b[0mgrad_tensors_\u001b[0m\u001b[0;34m)\u001b[0m\u001b[0;34m\u001b[0m\u001b[0;34m\u001b[0m\u001b[0m\n\u001b[0m\u001b[1;32m    127\u001b[0m     \u001b[0;32mif\u001b[0m \u001b[0mretain_graph\u001b[0m \u001b[0;32mis\u001b[0m \u001b[0;32mNone\u001b[0m\u001b[0;34m:\u001b[0m\u001b[0;34m\u001b[0m\u001b[0;34m\u001b[0m\u001b[0m\n\u001b[1;32m    128\u001b[0m         \u001b[0mretain_graph\u001b[0m \u001b[0;34m=\u001b[0m \u001b[0mcreate_graph\u001b[0m\u001b[0;34m\u001b[0m\u001b[0;34m\u001b[0m\u001b[0m\n",
      "\u001b[0;32m/usr/local/lib/python3.6/dist-packages/torch/autograd/__init__.py\u001b[0m in \u001b[0;36m_make_grads\u001b[0;34m(outputs, grads)\u001b[0m\n\u001b[1;32m     48\u001b[0m             \u001b[0;32mif\u001b[0m \u001b[0mout\u001b[0m\u001b[0;34m.\u001b[0m\u001b[0mrequires_grad\u001b[0m\u001b[0;34m:\u001b[0m\u001b[0;34m\u001b[0m\u001b[0;34m\u001b[0m\u001b[0m\n\u001b[1;32m     49\u001b[0m                 \u001b[0;32mif\u001b[0m \u001b[0mout\u001b[0m\u001b[0;34m.\u001b[0m\u001b[0mnumel\u001b[0m\u001b[0;34m(\u001b[0m\u001b[0;34m)\u001b[0m \u001b[0;34m!=\u001b[0m \u001b[0;36m1\u001b[0m\u001b[0;34m:\u001b[0m\u001b[0;34m\u001b[0m\u001b[0;34m\u001b[0m\u001b[0m\n\u001b[0;32m---> 50\u001b[0;31m                     \u001b[0;32mraise\u001b[0m \u001b[0mRuntimeError\u001b[0m\u001b[0;34m(\u001b[0m\u001b[0;34m\"grad can be implicitly created only for scalar outputs\"\u001b[0m\u001b[0;34m)\u001b[0m\u001b[0;34m\u001b[0m\u001b[0;34m\u001b[0m\u001b[0m\n\u001b[0m\u001b[1;32m     51\u001b[0m                 \u001b[0mnew_grads\u001b[0m\u001b[0;34m.\u001b[0m\u001b[0mappend\u001b[0m\u001b[0;34m(\u001b[0m\u001b[0mtorch\u001b[0m\u001b[0;34m.\u001b[0m\u001b[0mones_like\u001b[0m\u001b[0;34m(\u001b[0m\u001b[0mout\u001b[0m\u001b[0;34m,\u001b[0m \u001b[0mmemory_format\u001b[0m\u001b[0;34m=\u001b[0m\u001b[0mtorch\u001b[0m\u001b[0;34m.\u001b[0m\u001b[0mpreserve_format\u001b[0m\u001b[0;34m)\u001b[0m\u001b[0;34m)\u001b[0m\u001b[0;34m\u001b[0m\u001b[0;34m\u001b[0m\u001b[0m\n\u001b[1;32m     52\u001b[0m             \u001b[0;32melse\u001b[0m\u001b[0;34m:\u001b[0m\u001b[0;34m\u001b[0m\u001b[0;34m\u001b[0m\u001b[0m\n",
      "\u001b[0;31mRuntimeError\u001b[0m: grad can be implicitly created only for scalar outputs"
     ]
    }
   ],
   "source": [
    "# output y must be always scalar\n",
    "x.grad.zero_() \n",
    "y = x * x\n",
    "y.backward() # will throw an error\n",
    "x.grad"
   ]
  },
  {
   "cell_type": "markdown",
   "metadata": {
    "id": "KgINuxezd1ei",
    "slideshow": {
     "slide_type": "slide"
    }
   },
   "source": [
    "# Detaching Computation\n",
    "\n",
    "* Sometimes, we wish to move some calculations outside of the recorded computational graph.\n",
    "* Example: consider $f(x) = 2\\mathbf{x}^{\\top}\\mathbf{x}$ and then function $g(x)=(f(x)-\\alpha)^2$ where $\\alpha$ is a constant. Let's asssume $\\alpha=2$."
   ]
  },
  {
   "cell_type": "code",
   "execution_count": 7,
   "metadata": {
    "colab": {
     "base_uri": "https://localhost:8080/"
    },
    "executionInfo": {
     "elapsed": 519,
     "status": "ok",
     "timestamp": 1610905975983,
     "user": {
      "displayName": "Georgios Tzimiropoulos",
      "photoUrl": "",
      "userId": "03131831684678803743"
     },
     "user_tz": 0
    },
    "id": "d3hl6rk-d1ej",
    "outputId": "adfa76a3-edb7-4289-e284-574a5b03f1b5",
    "scrolled": true
   },
   "outputs": [
    {
     "name": "stdout",
     "output_type": "stream",
     "text": [
      "tensor([  0., 208., 416., 624.])\n"
     ]
    }
   ],
   "source": [
    "# create a specific value of input x\n",
    "x = torch.arange(4.0)\n",
    "x.requires_grad_(True)\n",
    "f = 2*torch.dot(x, x)\n",
    "a = 2\n",
    "g = (f-a)**2\n",
    "g.backward()\n",
    "print(x.grad)"
   ]
  },
  {
   "cell_type": "markdown",
   "metadata": {
    "id": "QFDP9JJEd1ej",
    "slideshow": {
     "slide_type": "slide"
    }
   },
   "source": [
    "* Now consider the case where $\\alpha = x_1+ x_2 + x_3 + x_4$\n",
    "* If we want $\\alpha$ to be treated as constant i.e. $\\alpha=0+1+2+3=6$ then we must *detach* $\\alpha$ from the graph!\n",
    "* Otherwise it will be considered a function of input $\\mathbf{x}$!"
   ]
  },
  {
   "cell_type": "code",
   "execution_count": 8,
   "metadata": {
    "colab": {
     "base_uri": "https://localhost:8080/"
    },
    "executionInfo": {
     "elapsed": 492,
     "status": "ok",
     "timestamp": 1610905978729,
     "user": {
      "displayName": "Georgios Tzimiropoulos",
      "photoUrl": "",
      "userId": "03131831684678803743"
     },
     "user_tz": 0
    },
    "id": "rI-HUS4Xd1ej",
    "outputId": "43dc34cb-d8fa-4b32-a268-5cd02155c631"
   },
   "outputs": [
    {
     "name": "stdout",
     "output_type": "stream",
     "text": [
      "tensor([  0., 176., 352., 528.])\n"
     ]
    }
   ],
   "source": [
    "x = torch.arange(4.0)\n",
    "x.requires_grad_(True)\n",
    "f = 2*torch.dot(x, x)\n",
    "a = x.sum().detach() #equivalent to a = 6\n",
    "#a = x.sum() # here a is a function of x\n",
    "g = (f-a)**2\n",
    "g.backward()\n",
    "print(x.grad)"
   ]
  },
  {
   "cell_type": "code",
   "execution_count": 9,
   "metadata": {
    "slideshow": {
     "slide_type": "slide"
    }
   },
   "outputs": [
    {
     "name": "stdout",
     "output_type": "stream",
     "text": [
      "tensor([-44., 132., 308., 484.])\n"
     ]
    }
   ],
   "source": [
    "x = torch.arange(4.0)\n",
    "x.requires_grad_(True)\n",
    "f = 2*torch.dot(x, x)\n",
    "#a = x.sum().detach() #equivalent to a = 6\n",
    "a = x.sum() # here a is a function of x\n",
    "g = (f-a)**2\n",
    "g.backward()\n",
    "print(x.grad)"
   ]
  },
  {
   "cell_type": "markdown",
   "metadata": {
    "slideshow": {
     "slide_type": "slide"
    }
   },
   "source": [
    "# De-activating the autograd engine\n",
    "\n",
    "* If you want to avoid calculating gradients, you can use torch.no_grad() to de-activate the autograd engine.\n",
    "* This will reduce memory usage and speed up computations but you won’t be able to backprop (which you don’t want in an eval script)."
   ]
  },
  {
   "cell_type": "code",
   "execution_count": 6,
   "metadata": {},
   "outputs": [
    {
     "name": "stdout",
     "output_type": "stream",
     "text": [
      "tensor(28.)\n"
     ]
    },
    {
     "ename": "RuntimeError",
     "evalue": "element 0 of tensors does not require grad and does not have a grad_fn",
     "output_type": "error",
     "traceback": [
      "\u001b[0;31m---------------------------------------------------------------------------\u001b[0m",
      "\u001b[0;31mRuntimeError\u001b[0m                              Traceback (most recent call last)",
      "\u001b[0;32m<ipython-input-6-dbf5ed6d017d>\u001b[0m in \u001b[0;36m<module>\u001b[0;34m\u001b[0m\n\u001b[1;32m      4\u001b[0m     \u001b[0mf\u001b[0m \u001b[0;34m=\u001b[0m \u001b[0;36m2\u001b[0m\u001b[0;34m*\u001b[0m\u001b[0mtorch\u001b[0m\u001b[0;34m.\u001b[0m\u001b[0mdot\u001b[0m\u001b[0;34m(\u001b[0m\u001b[0mx\u001b[0m\u001b[0;34m,\u001b[0m \u001b[0mx\u001b[0m\u001b[0;34m)\u001b[0m\u001b[0;34m\u001b[0m\u001b[0;34m\u001b[0m\u001b[0m\n\u001b[1;32m      5\u001b[0m \u001b[0mprint\u001b[0m\u001b[0;34m(\u001b[0m\u001b[0mf\u001b[0m\u001b[0;34m)\u001b[0m \u001b[0;31m# the forward pass i.e. the value of f is calculated as normal\u001b[0m\u001b[0;34m\u001b[0m\u001b[0;34m\u001b[0m\u001b[0m\n\u001b[0;32m----> 6\u001b[0;31m \u001b[0mf\u001b[0m\u001b[0;34m.\u001b[0m\u001b[0mbackward\u001b[0m\u001b[0;34m(\u001b[0m\u001b[0;34m)\u001b[0m \u001b[0;31m# the backward pass will throw an error\u001b[0m\u001b[0;34m\u001b[0m\u001b[0;34m\u001b[0m\u001b[0m\n\u001b[0m",
      "\u001b[0;32m~/miniconda3/lib/python3.7/site-packages/torch/tensor.py\u001b[0m in \u001b[0;36mbackward\u001b[0;34m(self, gradient, retain_graph, create_graph)\u001b[0m\n\u001b[1;32m    183\u001b[0m                 \u001b[0mproducts\u001b[0m\u001b[0;34m.\u001b[0m \u001b[0mDefaults\u001b[0m \u001b[0mto\u001b[0m\u001b[0;31m \u001b[0m\u001b[0;31m`\u001b[0m\u001b[0;31m`\u001b[0m\u001b[0;32mFalse\u001b[0m\u001b[0;31m`\u001b[0m\u001b[0;31m`\u001b[0m\u001b[0;34m.\u001b[0m\u001b[0;34m\u001b[0m\u001b[0;34m\u001b[0m\u001b[0m\n\u001b[1;32m    184\u001b[0m         \"\"\"\n\u001b[0;32m--> 185\u001b[0;31m         \u001b[0mtorch\u001b[0m\u001b[0;34m.\u001b[0m\u001b[0mautograd\u001b[0m\u001b[0;34m.\u001b[0m\u001b[0mbackward\u001b[0m\u001b[0;34m(\u001b[0m\u001b[0mself\u001b[0m\u001b[0;34m,\u001b[0m \u001b[0mgradient\u001b[0m\u001b[0;34m,\u001b[0m \u001b[0mretain_graph\u001b[0m\u001b[0;34m,\u001b[0m \u001b[0mcreate_graph\u001b[0m\u001b[0;34m)\u001b[0m\u001b[0;34m\u001b[0m\u001b[0;34m\u001b[0m\u001b[0m\n\u001b[0m\u001b[1;32m    186\u001b[0m \u001b[0;34m\u001b[0m\u001b[0m\n\u001b[1;32m    187\u001b[0m     \u001b[0;32mdef\u001b[0m \u001b[0mregister_hook\u001b[0m\u001b[0;34m(\u001b[0m\u001b[0mself\u001b[0m\u001b[0;34m,\u001b[0m \u001b[0mhook\u001b[0m\u001b[0;34m)\u001b[0m\u001b[0;34m:\u001b[0m\u001b[0;34m\u001b[0m\u001b[0;34m\u001b[0m\u001b[0m\n",
      "\u001b[0;32m~/miniconda3/lib/python3.7/site-packages/torch/autograd/__init__.py\u001b[0m in \u001b[0;36mbackward\u001b[0;34m(tensors, grad_tensors, retain_graph, create_graph, grad_variables)\u001b[0m\n\u001b[1;32m    125\u001b[0m     Variable._execution_engine.run_backward(\n\u001b[1;32m    126\u001b[0m         \u001b[0mtensors\u001b[0m\u001b[0;34m,\u001b[0m \u001b[0mgrad_tensors\u001b[0m\u001b[0;34m,\u001b[0m \u001b[0mretain_graph\u001b[0m\u001b[0;34m,\u001b[0m \u001b[0mcreate_graph\u001b[0m\u001b[0;34m,\u001b[0m\u001b[0;34m\u001b[0m\u001b[0;34m\u001b[0m\u001b[0m\n\u001b[0;32m--> 127\u001b[0;31m         allow_unreachable=True)  # allow_unreachable flag\n\u001b[0m\u001b[1;32m    128\u001b[0m \u001b[0;34m\u001b[0m\u001b[0m\n\u001b[1;32m    129\u001b[0m \u001b[0;34m\u001b[0m\u001b[0m\n",
      "\u001b[0;31mRuntimeError\u001b[0m: element 0 of tensors does not require grad and does not have a grad_fn"
     ]
    }
   ],
   "source": [
    "x = torch.arange(4.0)\n",
    "x.requires_grad_(True)\n",
    "with torch.no_grad():\n",
    "    f = 2*torch.dot(x, x)\n",
    "print(f) # the forward pass i.e. the value of f is calculated as normal\n",
    "f.backward() # the backward pass will throw an error"
   ]
  },
  {
   "cell_type": "markdown",
   "metadata": {
    "id": "WBM9h-oVd1ek",
    "slideshow": {
     "slide_type": "slide"
    }
   },
   "source": [
    "# Summary\n",
    "\n",
    "* A derivative can be interpreted as the instantaneous rate of change of a function with respect to its variable. \n",
    "* It is also the slope of the tangent line to the curve of the function.\n",
    "* A gradient is a vector whose components are the partial derivatives of a multivariate function with respect to all its variables.\n",
    "* The chain rule enables us to differentiate composite functions.\n",
    "* Deep learning frameworks overcome this problem by automatically calculating derivatives, by *automatic differentiation*.\n",
    "* Automatic differentiation enables the system to subsequently calculate gradients.\n"
   ]
  },
  {
   "cell_type": "code",
   "execution_count": 9,
   "metadata": {
    "colab": {
     "base_uri": "https://localhost:8080/"
    },
    "executionInfo": {
     "elapsed": 854,
     "status": "ok",
     "timestamp": 1610905982154,
     "user": {
      "displayName": "Georgios Tzimiropoulos",
      "photoUrl": "",
      "userId": "03131831684678803743"
     },
     "user_tz": 0
    },
    "id": "hzYvXpcSd1ek",
    "outputId": "2cbc7f12-8b5c-40df-a88b-938817b23d26",
    "slideshow": {
     "slide_type": "skip"
    }
   },
   "outputs": [
    {
     "name": "stdout",
     "output_type": "stream",
     "text": [
      "tensor(32.7998, grad_fn=<SumBackward0>)\n"
     ]
    }
   ],
   "source": [
    "# Another example\n",
    "# Input feature vector x with 10 features\n",
    "x = torch.rand(10, 1)\n",
    "x.requires_grad_(True)\n",
    "# From x we want to learn to predict 5 values stored in output vector y\n",
    "y = torch.rand(5, 1)\n",
    "#print(y)\n",
    "# Our model is a matrix W with 5 rows and 10 columns. \n",
    "W = torch.rand(5, 10)\n",
    "W.requires_grad_(True)\n",
    "# Each row of the model will be multiplied with x giving a single output. Overall the model produces 5 outputs.\n",
    "# The model's predictions are y_hat = W*x which is 5-dim vector\n",
    "y_hat = torch.mm(W, x) #also can use: y_hat = W@x\n",
    "#print(y_hat)\n",
    "# To improve the model we must make y_hat close to y  \n",
    "# We can minimize the distance between y_hat and y using the (squared) L2 norm\n",
    "L = ((y_hat-y)**2).sum()\n",
    "# L is a multivariable function like the ones we saw above! \n",
    "# It depends on both x=(x1,...,x10) and W=(w11,...,w5,10)\n",
    "# For this specific input and model parameters the value is:\n",
    "print(L)\n",
    "# To update the model, we need to update model parameters wij.\n",
    "# To update w11 we need to calculate ThetaL/Thetaw11. \n",
    "# ThetaL/Thetaw11 in general is also a function of both x=(x1,...,x10) and W=(w11,...,w5,10). \n",
    "# We need to evaluate it for a given input x, current model parameters, outputs y and y_hat.\n",
    "# Then wij_new = wij_new - ThetaL/Thetawij"
   ]
  },
  {
   "cell_type": "code",
   "execution_count": 10,
   "metadata": {
    "colab": {
     "base_uri": "https://localhost:8080/"
    },
    "executionInfo": {
     "elapsed": 540,
     "status": "ok",
     "timestamp": 1610905984134,
     "user": {
      "displayName": "Georgios Tzimiropoulos",
      "photoUrl": "",
      "userId": "03131831684678803743"
     },
     "user_tz": 0
    },
    "id": "7tE46T4Wd1ek",
    "outputId": "44c2c670-1c34-4f70-f347-0b6c59daf925",
    "slideshow": {
     "slide_type": "skip"
    }
   },
   "outputs": [
    {
     "data": {
      "text/plain": [
       "(tensor([[0.3663],\n",
       "         [0.4006],\n",
       "         [0.0853],\n",
       "         [0.7513],\n",
       "         [0.3562],\n",
       "         [0.4861],\n",
       "         [0.2470],\n",
       "         [0.5803],\n",
       "         [0.8117],\n",
       "         [0.8044]]), None)"
      ]
     },
     "execution_count": 10,
     "metadata": {
      "tags": []
     },
     "output_type": "execute_result"
    }
   ],
   "source": [
    "x.data, x.grad"
   ]
  },
  {
   "cell_type": "code",
   "execution_count": 11,
   "metadata": {
    "colab": {
     "base_uri": "https://localhost:8080/"
    },
    "executionInfo": {
     "elapsed": 527,
     "status": "ok",
     "timestamp": 1610905985387,
     "user": {
      "displayName": "Georgios Tzimiropoulos",
      "photoUrl": "",
      "userId": "03131831684678803743"
     },
     "user_tz": 0
    },
    "id": "WA1yPLFvd1el",
    "outputId": "3e193cb6-6766-4ff1-cb42-876453af20c2",
    "slideshow": {
     "slide_type": "skip"
    }
   },
   "outputs": [
    {
     "data": {
      "text/plain": [
       "(tensor([[0.3205, 0.5586, 0.3583, 0.6945, 0.3542, 0.8456, 0.3758, 0.8280, 0.0752,\n",
       "          0.0609],\n",
       "         [0.9842, 0.7040, 0.4851, 0.3832, 0.8733, 0.8766, 0.2195, 0.9017, 0.8032,\n",
       "          0.4650],\n",
       "         [0.1897, 0.0332, 0.8849, 0.4892, 0.1550, 0.5171, 0.9341, 0.8754, 0.0963,\n",
       "          0.6587],\n",
       "         [0.8442, 0.3705, 0.8403, 0.6849, 0.6666, 0.9858, 0.7914, 0.1854, 0.7960,\n",
       "          0.7480],\n",
       "         [0.6566, 0.4023, 0.2218, 0.6762, 0.0688, 0.6223, 0.8890, 0.9557, 0.9012,\n",
       "          0.6282]]), None)"
      ]
     },
     "execution_count": 11,
     "metadata": {
      "tags": []
     },
     "output_type": "execute_result"
    }
   ],
   "source": [
    "W.data, W.grad"
   ]
  },
  {
   "cell_type": "code",
   "execution_count": 12,
   "metadata": {
    "executionInfo": {
     "elapsed": 527,
     "status": "ok",
     "timestamp": 1610905986637,
     "user": {
      "displayName": "Georgios Tzimiropoulos",
      "photoUrl": "",
      "userId": "03131831684678803743"
     },
     "user_tz": 0
    },
    "id": "ZupmowXsd1el",
    "slideshow": {
     "slide_type": "skip"
    }
   },
   "outputs": [],
   "source": [
    "L.backward()"
   ]
  },
  {
   "cell_type": "code",
   "execution_count": 13,
   "metadata": {
    "colab": {
     "base_uri": "https://localhost:8080/"
    },
    "executionInfo": {
     "elapsed": 829,
     "status": "ok",
     "timestamp": 1610905988708,
     "user": {
      "displayName": "Georgios Tzimiropoulos",
      "photoUrl": "",
      "userId": "03131831684678803743"
     },
     "user_tz": 0
    },
    "id": "D5G4gK-pd1el",
    "outputId": "06d69a40-89dd-45c4-a028-5bb65c84a4e9",
    "slideshow": {
     "slide_type": "skip"
    }
   },
   "outputs": [
    {
     "data": {
      "text/plain": [
       "(tensor([[0.3663],\n",
       "         [0.4006],\n",
       "         [0.0853],\n",
       "         [0.7513],\n",
       "         [0.3562],\n",
       "         [0.4861],\n",
       "         [0.2470],\n",
       "         [0.5803],\n",
       "         [0.8117],\n",
       "         [0.8044]]), tensor([[16.3076],\n",
       "         [10.8437],\n",
       "         [13.8839],\n",
       "         [14.8413],\n",
       "         [11.2648],\n",
       "         [19.7884],\n",
       "         [16.2133],\n",
       "         [18.4138],\n",
       "         [15.0485],\n",
       "         [13.4538]]))"
      ]
     },
     "execution_count": 13,
     "metadata": {
      "tags": []
     },
     "output_type": "execute_result"
    }
   ],
   "source": [
    "x.data, x.grad"
   ]
  },
  {
   "cell_type": "code",
   "execution_count": 14,
   "metadata": {
    "colab": {
     "base_uri": "https://localhost:8080/"
    },
    "executionInfo": {
     "elapsed": 476,
     "status": "ok",
     "timestamp": 1610905989977,
     "user": {
      "displayName": "Georgios Tzimiropoulos",
      "photoUrl": "",
      "userId": "03131831684678803743"
     },
     "user_tz": 0
    },
    "id": "IbzZb-pgd1el",
    "outputId": "ff4002c1-9e22-49b1-d150-c521df7a87a5",
    "slideshow": {
     "slide_type": "skip"
    }
   },
   "outputs": [
    {
     "data": {
      "text/plain": [
       "(tensor([[0.3205, 0.5586, 0.3583, 0.6945, 0.3542, 0.8456, 0.3758, 0.8280, 0.0752,\n",
       "          0.0609],\n",
       "         [0.9842, 0.7040, 0.4851, 0.3832, 0.8733, 0.8766, 0.2195, 0.9017, 0.8032,\n",
       "          0.4650],\n",
       "         [0.1897, 0.0332, 0.8849, 0.4892, 0.1550, 0.5171, 0.9341, 0.8754, 0.0963,\n",
       "          0.6587],\n",
       "         [0.8442, 0.3705, 0.8403, 0.6849, 0.6666, 0.9858, 0.7914, 0.1854, 0.7960,\n",
       "          0.7480],\n",
       "         [0.6566, 0.4023, 0.2218, 0.6762, 0.0688, 0.6223, 0.8890, 0.9557, 0.9012,\n",
       "          0.6282]]),\n",
       " tensor([[1.5049, 1.6456, 0.3502, 3.0863, 1.4630, 1.9970, 1.0149, 2.3838, 3.3345,\n",
       "          3.3043],\n",
       "         [2.0344, 2.2245, 0.4734, 4.1721, 1.9778, 2.6996, 1.3719, 3.2225, 4.5077,\n",
       "          4.4669],\n",
       "         [1.4295, 1.5631, 0.3327, 2.9317, 1.3898, 1.8969, 0.9640, 2.2644, 3.1675,\n",
       "          3.1388],\n",
       "         [2.1762, 2.3796, 0.5065, 4.4630, 2.1157, 2.8878, 1.4676, 3.4472, 4.8220,\n",
       "          4.7783],\n",
       "         [2.1036, 2.3002, 0.4896, 4.3141, 2.0451, 2.7914, 1.4186, 3.3322, 4.6611,\n",
       "          4.6189]]))"
      ]
     },
     "execution_count": 14,
     "metadata": {
      "tags": []
     },
     "output_type": "execute_result"
    }
   ],
   "source": [
    "W.data, W.grad"
   ]
  }
 ],
 "metadata": {
  "celltoolbar": "Slideshow",
  "colab": {
   "name": "Automatic_Differentiation.ipynb",
   "provenance": []
  },
  "kernelspec": {
   "display_name": "Python 3",
   "language": "python",
   "name": "python3"
  },
  "language_info": {
   "codemirror_mode": {
    "name": "ipython",
    "version": 3
   },
   "file_extension": ".py",
   "mimetype": "text/x-python",
   "name": "python",
   "nbconvert_exporter": "python",
   "pygments_lexer": "ipython3",
   "version": "3.8.8"
  }
 },
 "nbformat": 4,
 "nbformat_minor": 1
}
