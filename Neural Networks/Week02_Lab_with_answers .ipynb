{
 "cells": [
  {
   "cell_type": "markdown",
   "metadata": {
    "id": "eIVTNCQIzVpT"
   },
   "source": [
    "# The Task\n",
    "\n",
    "* Our **Task** for this week is to fit a polynomial curve to data. This is called **curve fitting** and has numerous applications in Data Science, Statistics and Machine Learning. We will solve curve fitting in two ways: the standard one and one which is much easier using Automatic Differentiation. \n",
    "* For this week, we will try to calculate the derivatives ourselves! This will be the only time that we will do this!\n",
    "* The Learning Outcome: Hands-on application of Automatic Differentiation."
   ]
  },
  {
   "cell_type": "markdown",
   "metadata": {
    "id": "kF-hr_KyzVpY"
   },
   "source": [
    "## Creating the data\n",
    "\n",
    "* Let us first create some data using a known function. We will use the **sinusoidal** function $y=f(x)=sin(x)$. \n",
    "    * x is the input to the function and y is the output of the function.\n",
    "* The following code generates and plots our data. "
   ]
  },
  {
   "cell_type": "code",
   "execution_count": 1,
   "metadata": {
    "executionInfo": {
     "elapsed": 6564,
     "status": "ok",
     "timestamp": 1643979327280,
     "user": {
      "displayName": "Ioanna Ntinou",
      "photoUrl": "https://lh3.googleusercontent.com/a-/AOh14Ggd6UNJqKKCCyV3H7XAayib9KME62H4fyUMiJDWXw=s64",
      "userId": "17583344364006415397"
     },
     "user_tz": 0
    },
    "id": "8vPgB_7zzVpZ"
   },
   "outputs": [],
   "source": [
    "import torch\n",
    "import math\n",
    "import matplotlib.pyplot as plt\n",
    "%matplotlib inline"
   ]
  },
  {
   "cell_type": "code",
   "execution_count": 2,
   "metadata": {
    "colab": {
     "base_uri": "https://localhost:8080/",
     "height": 279
    },
    "executionInfo": {
     "elapsed": 910,
     "status": "ok",
     "timestamp": 1643979328181,
     "user": {
      "displayName": "Ioanna Ntinou",
      "photoUrl": "https://lh3.googleusercontent.com/a-/AOh14Ggd6UNJqKKCCyV3H7XAayib9KME62H4fyUMiJDWXw=s64",
      "userId": "17583344364006415397"
     },
     "user_tz": 0
    },
    "id": "grndWKu2zVpa",
    "outputId": "6ff422f6-183d-472a-ed34-b622c69085f1",
    "scrolled": false
   },
   "outputs": [
    {
     "data": {
      "image/png": "[encoded data removed]",
      "text/plain": [
       "<Figure size 432x288 with 1 Axes>"
      ]
     },
     "metadata": {
      "needs_background": "light"
     },
     "output_type": "display_data"
    }
   ],
   "source": [
    "# Create input data x and output (target) data y\n",
    "N = 2000 # number of samples\n",
    "x = torch.linspace(-math.pi, math.pi, N, dtype=torch.float32)\n",
    "y = torch.sin(x);\n",
    "plt.plot(x, y);\n",
    "plt.grid();\n",
    "plt.xlabel('x');\n",
    "plt.ylabel('y = f(x)');"
   ]
  },
  {
   "cell_type": "markdown",
   "metadata": {
    "id": "pU26FvBezVpc"
   },
   "source": [
    "## The Task\n",
    "\n",
    "* Let's assume that we do not know the function that generated the target $y$ from input $x$. That is we do not know that $y$ and $x$ are related through the function $y=sin(x)$.\n",
    "* We are just given the value pais $(x_i, y_i), i=1,\\dots,N$.\n",
    "* Our goal is find a polynomial curve that can fit the pais $(x_i, y_i)$ as accurately as possible.\n",
    "* A polynomial (of degree 3) is given by the following formula:\n",
    "$$P_3(x)= w_0 + w_1x + w_2x^2 + w_3x^3$$\n",
    "where $w_0, w_1, w_2, w_3$ are the weights (our model parameters).\n",
    "* By changing the weights different polynomial curves can be obtained!"
   ]
  },
  {
   "cell_type": "code",
   "execution_count": 3,
   "metadata": {
    "colab": {
     "base_uri": "https://localhost:8080/",
     "height": 280
    },
    "executionInfo": {
     "elapsed": 602,
     "status": "ok",
     "timestamp": 1643979329312,
     "user": {
      "displayName": "Ioanna Ntinou",
      "photoUrl": "https://lh3.googleusercontent.com/a-/AOh14Ggd6UNJqKKCCyV3H7XAayib9KME62H4fyUMiJDWXw=s64",
      "userId": "17583344364006415397"
     },
     "user_tz": 0
    },
    "id": "kxujTSstzVpc",
    "outputId": "e04f7c29-ccd1-460e-db19-0635c6ca613e",
    "scrolled": true
   },
   "outputs": [
    {
     "data": {
      "image/png": "[encoded data removed]",
      "text/plain": [
       "<Figure size 432x288 with 1 Axes>"
      ]
     },
     "metadata": {
      "needs_background": "light"
     },
     "output_type": "display_data"
    }
   ],
   "source": [
    "# Run this cell multiple times to see how different polynomial curves look like \n",
    "\n",
    "# Randomly initialize weights\n",
    "w0 = torch.randn((), dtype=torch.float32)\n",
    "w1 = torch.randn((), dtype=torch.float32)\n",
    "w2 = torch.randn((), dtype=torch.float32)\n",
    "w3 = torch.randn((), dtype=torch.float32)\n",
    "y_hat = w0 + w1 * x + w2 * x ** 2 + w3 * x ** 3\n",
    "\n",
    "# Plot the polynomial curve \n",
    "plt.plot(x, y_hat);\n",
    "plt.grid();\n",
    "plt.xlabel('x');\n",
    "plt.ylabel('y = f(x)');"
   ]
  },
  {
   "cell_type": "markdown",
   "metadata": {
    "id": "xpQr-mUMzVpd"
   },
   "source": [
    "## The Algorithm  \n",
    "* We want to find the weights so that the polynomial curve becomes \"as close as possible\" to the sinusodial function. \n",
    "* \"As close as possible\" is defined with the $L_2$ loss: $$L_2=\\sum_{i=1}^N (\\tilde{y}_i - y_i)^2$$ where $\\tilde{y}_i =w_0 + w_1x_i + w_2x_i^2 + w_3x_i^3$\n",
    "* To set up an algorithm to find the weights, we need to write some code that will compute the derivative of the loss with respect to the weights.\n",
    "* But first we actually need the math formulas that express the derivative of the loss with respect to each weight. This is what today's lab is all about.\n",
    "* Your task: calculate the partial derivative of the loss with respect to each of the weights:\n",
    "  $$\\frac{\\theta L}{\\theta w_0} = \\textrm {grad_} w_0= \\sum_{i=1}^N \\textrm {grad_} \\tilde{y}_i,$$\n",
    "  $$\\frac{\\theta L}{\\theta w_1} = \\textrm {grad_} w_1= \\sum_{i=1}^N \\textrm {grad_} \\tilde{y}_ix_i,$$\n",
    "  $$\\frac{\\theta L}{\\theta w_2} = \\textrm {grad_} w_2= \\sum_{i=1}^N \\textrm {grad_} \\tilde{y}_ix_i^2,$$\n",
    "  $$\\frac{\\theta L}{\\theta w_3} = \\textrm {grad_} w_3= \\sum_{i=1}^N \\textrm {grad_} \\tilde{y}_ix_i^3.$$    \n",
    "* We will see how to use the above formulas to set up an algorithm next week."
   ]
  }
 ],
 "metadata": {
  "colab": {
   "name": "Week02_Lab_with_answers .ipynb",
   "provenance": []
  },
  "kernelspec": {
   "display_name": "Python 3",
   "language": "python",
   "name": "python3"
  },
  "language_info": {
   "codemirror_mode": {
    "name": "ipython",
    "version": 3
   },
   "file_extension": ".py",
   "mimetype": "text/x-python",
   "name": "python",
   "nbconvert_exporter": "python",
   "pygments_lexer": "ipython3",
   "version": "3.8.8"
  }
 },
 "nbformat": 4,
 "nbformat_minor": 1
}
