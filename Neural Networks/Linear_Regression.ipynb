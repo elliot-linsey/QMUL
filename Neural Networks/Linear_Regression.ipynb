{
 "cells": [
  {
   "cell_type": "code",
   "execution_count": 1,
   "metadata": {
    "executionInfo": {
     "elapsed": 3643,
     "status": "ok",
     "timestamp": 1610911345092,
     "user": {
      "displayName": "Georgios Tzimiropoulos",
      "photoUrl": "",
      "userId": "03131831684678803743"
     },
     "user_tz": 0
    },
    "id": "rHJkh4dCzCsE"
   },
   "outputs": [],
   "source": [
    "import torch\n",
    "from matplotlib import pyplot as plt\n",
    "import math\n",
    "import time\n",
    "%matplotlib inline"
   ]
  },
  {
   "cell_type": "markdown",
   "metadata": {
    "id": "GLE8DWVFzCsL"
   },
   "source": [
    "# Linear Regression\n",
    "\n",
    "* *Regression* refers to a set of methods for modeling\n",
    "the relationship between one or more independent variables\n",
    "and a dependent variable.\n",
    "\n",
    "* In the Natural and Social Sciences: characterizes the relationship between the inputs and outputs.\n",
    "\n",
    "* In Machine Learning: concerned with *prediction* of a numerical (real) value.\n",
    "\n",
    "* Common examples include predicting prices (of homes, stocks, etc.), predicting length of stay (for patients in the hospital), demand forecasting (for retail sales), among countless others.\n",
    "\n",
    "<!-- Not every prediction problem is a classic regression problem.\n",
    "In subsequent sections, we will introduce classification problems,\n",
    "where the goal is to predict membership among a set of categories.-->\n",
    "\n"
   ]
  },
  {
   "cell_type": "markdown",
   "metadata": {
    "id": "YXpwnoEWzCsM"
   },
   "source": [
    "# Basic Elements of Linear Regression\n",
    "\n",
    "* **Linear Regression**: simplest and most popular regression method.\n",
    "\n",
    "* Assumes that the relationship between the independent variables $\\mathbf{x}$ and the dependent variable $y$ is linear $\\rightarrow$ $y$ can be expressed as a weighted sum of the elements in $\\mathbf{x}$\n",
    "\n"
   ]
  },
  {
   "cell_type": "markdown",
   "metadata": {
    "id": "TsvOp2V_zCsN"
   },
   "source": [
    "# Basic Elements of Linear Regression\n",
    "\n",
    "* **Example**: Estimate the prices of houses (in pounds) based on their area (in square feet) and age (in years).\n",
    "\n",
    "* Target (price) can be expressed as a weighted sum of the features (area and age):\n",
    "\n",
    "$$\\mathrm{price} = w_{\\mathrm{area}} \\cdot \\mathrm{area} + w_{\\mathrm{age}} \\cdot \\mathrm{age} + b.$$\n",
    "\n",
    "* $w_{\\mathrm{area}}$ and $w_{\\mathrm{age}}$\n",
    "are called *weights*, and $b$ is called a *bias*\n",
    "    * Weights determine the influence of each feature\n",
    "on our prediction and \n",
    "    * Bias: the predicted price when all of the features take value 0.\n",
    "\n",
    "* To find the weights and bias of a model for predicting house prices, we need a training dataset consisting of sales for which we know the sale price, area, and age for each home.\n",
    "    * $n$: the number of examples in our dataset. Each input: $\\mathbf{x}^{(i)} = [x_1^{(i)}, x_2^{(i)}]^\\top$\n",
    "and the corresponding label: $y^{(i)}$."
   ]
  },
  {
   "cell_type": "markdown",
   "metadata": {
    "id": "WhaJ9x_BzCsO"
   },
   "source": [
    "<!-- In the terminology of machine learning,\n",
    "the dataset is called a *training dataset* or *training set*,\n",
    "and each row (here the data corresponding to one sale)\n",
    "is called an *example* (or *data point*, *data instance*, *sample*).\n",
    "The thing we are trying to predict (price)\n",
    "is called a *label* (or *target*).\n",
    "The independent variables (age and area)\n",
    "upon which the predictions are based\n",
    "are called *features* (or *covariates*). -->\n",
    "\n",
    "\n",
    "\n",
    "# Linear Model\n",
    "\n",
    "\n",
    "* When inputs consist of $d$ features, our prediction $\\hat{y}$ is\n",
    "\n",
    "$$\\hat{y} = w_1  x_1 + ... + w_d  x_d + b.$$\n",
    "\n",
    "* Collecting all features into a vector $\\mathbf{x} \\in \\mathbb{R}^d$ and all weights into a vector $\\mathbf{w} \\in \\mathbb{R}^d$: \n",
    "\n",
    "$$\\hat{y} = \\mathbf{w}^\\top \\mathbf{x} + b.$$\n",
    "\n",
    "* Define *Design Matrix* $\\mathbf{X} \\in \\mathbb{R}^{n \\times d}$: contains one row for every example and one column for every feature. For a collection of features $\\mathbf{X}$: $${\\hat{\\mathbf{y}}} = \\mathbf{X} \\mathbf{w} + b,$$\n",
    "    * broadcasting is applied during the summation.\n",
    "\n",
    "* Given features of a training dataset $\\mathbf{X}$ and corresponding (known) labels $\\mathbf{y}$, the goal is to find $\\mathbf{w}$ and $b$ that given features of a new data point, its label will be predicted with the lowest error. We will need two more things:\n",
    "    * a quality measure for some given model.\n",
    "    * a procedure for updating the model to improve its quality.\n",
    "\n",
    "* A noise term can be incorporated to account for measurement errors in the training dataset.\n",
    "\n",
    "\n",
    "\n",
    "\n"
   ]
  },
  {
   "cell_type": "markdown",
   "metadata": {
    "id": "H5aYJw8tzCsO"
   },
   "source": [
    "\n",
    "# Loss Function\n",
    "\n",
    "* The *loss function* quantifies the distance between the *real* and *predicted* value of the target.\n",
    "* A non-negative number where smaller values are better and perfect predictions incur a loss of 0.\n",
    "* Most popular loss function in regression is the squared error: $$l^{(i)}(\\mathbf{w}, b) = \\frac{1}{2} \\left(\\hat{y}^{(i)} - y^{(i)}\\right)^2.$$\n",
    "    * $\\hat{y}^{(i)}:$ prediction, $y^{(i)}:$ true label for example $i$ \n",
    "    * The  error is only a function of the model parameters.\n",
    "\n",
    "* **Example:** regression problem for a 1-d case:\n",
    "\n",
    "<!-- [Fit data with a linear model.](img/fit_linreg.svg) --->\n",
    "\n",
    "![Fit data with a linear model.](https://drive.google.com/uc?export=view&id=1NU_7mvsBsqYSVjgKl5CIm1l8_aAtEE-S) \n",
    "\n",
    "* Large differences between $\\hat{y}^{(i)}$ and $y^{(i)}$ $\\rightarrow$ larger contributions to the loss, due to the quadratic dependence.\n",
    "\n"
   ]
  },
  {
   "cell_type": "markdown",
   "metadata": {
    "id": "2PQoulSizCsP"
   },
   "source": [
    "# Loss Function\n",
    "\n",
    "\n",
    "* To measure the quality of a model on the entire dataset of $n$ examples, we average (or sum) the losses on the training set:\n",
    "\n",
    "$$L(\\mathbf{w}, b) =\\frac{1}{n}\\sum_{i=1}^n l^{(i)}(\\mathbf{w}, b) =\\frac{1}{n} \\sum_{i=1}^n \\frac{1}{2}\\left(\\mathbf{w}^\\top \\mathbf{x}^{(i)} + b - y^{(i)}\\right)^2.$$\n",
    "\n",
    "* Training as an optimization problem: find parameters ($\\mathbf{w}^*, b^*$) that minimize the total loss across all training examples:\n",
    "\n",
    "$$\\mathbf{w}^*, b^* = \\operatorname*{argmin}_{\\mathbf{w}, b}\\  L(\\mathbf{w}, b).$$\n",
    "\n"
   ]
  },
  {
   "cell_type": "markdown",
   "metadata": {
    "id": "izpVu0PWzCsP"
   },
   "source": [
    "\n",
    "# Analytic Solution\n",
    "\n",
    "* Linear regression can be solved analytically by applying a simple formula.\n",
    "\n",
    "* Our prediction problem is to minimize $\\|\\mathbf{y} - \\mathbf{X}\\mathbf{w}\\|^2$.\n",
    "    * Subsume bias $b$ into the parameter $\\mathbf{w}$ by appending a column to the design matrix consisting of all ones.\n",
    "\n",
    "* Taking the derivative of the loss with respect to $\\mathbf{w}$ and setting it equal to zero yields the analytic (closed-form) solution:\n",
    "\n",
    "$$\\mathbf{w}^* = (\\mathbf X^\\top \\mathbf X)^{-1}\\mathbf X^\\top \\mathbf{y}.$$\n",
    "\n",
    "* While simple problems like linear regression may admit analytic solutions, we should not get used to such good fortune :)\n",
    "\n"
   ]
  },
  {
   "cell_type": "markdown",
   "metadata": {
    "id": "yLBy3hS8zCsQ"
   },
   "source": [
    "# Minibatch Stochastic Gradient Descent\n",
    "\n",
    "* Even in cases where we cannot solve the models analytically, it turns out that we can still train models effectively in practice.\n",
    "\n",
    "* **Gradient Descent**: The key technique for optimizing nearly any deep learning model, consists of iteratively reducing the error by updating the parameters in the direction that incrementally lowers the loss function. \n",
    "\n",
    "* The most naive application of GD consists of taking the derivative of the loss function, which is an average of the losses computed on every single example in the dataset.\n",
    "    * this can be extremely slow: we must pass over the entire dataset before making a single update.\n"
   ]
  },
  {
   "cell_type": "markdown",
   "metadata": {
    "id": "HvG56Ed_zCsR"
   },
   "source": [
    "# Minibatch Stochastic Gradient Descent\n",
    "\n",
    "* **Minibatch Stochastic Gradient Descent:** Sample a random minibatch of examples every time we need to compute the update:\n",
    "    1. In each iteration, randomly sample a minibatch $\\mathcal{B}$ consisting of a fixed number of training examples.\n",
    "    2. Compute the derivative (gradient) of the average loss on the minibatch with regard to the model parameters.\n",
    "    3. multiply the gradient by a predetermined positive value $\\eta$ and subtract the resulting term from the current parameter values.\n",
    "\n",
    "\n"
   ]
  },
  {
   "cell_type": "markdown",
   "metadata": {
    "id": "O3RME4bbzCsR"
   },
   "source": [
    "# Minibatch Stochastic Gradient Descent\n",
    "\n",
    "* We can express the update mathematically as follows ($\\partial$ denotes the partial derivative): $$(\\mathbf{w},b) \\leftarrow (\\mathbf{w},b) - \\frac{\\eta}{|\\mathcal{B}|} \\sum_{i \\in \\mathcal{B}} \\partial_{(\\mathbf{w},b)} l^{(i)}(\\mathbf{w},b).$$\n",
    "    * we initialize the values of the model parameters, typically at random;\n",
    "\n",
    "* For quadratic losses and linear transformations: $$\\begin{aligned} \\mathbf{w} &\\leftarrow \\mathbf{w} -   \\frac{\\eta}{|\\mathcal{B}|} \\sum_{i \\in \\mathcal{B}} \\partial_{\\mathbf{w}} l^{(i)}(\\mathbf{w}, b) = \\mathbf{w} - \\frac{\\eta}{|\\mathcal{B}|} \\sum_{i \\in \\mathcal{B}} \\mathbf{x}^{(i)} \\left(\\mathbf{w}^\\top \\mathbf{x}^{(i)} + b - y^{(i)}\\right),\\\\ b &\\leftarrow b -  \\frac{\\eta}{|\\mathcal{B}|} \\sum_{i \\in \\mathcal{B}} \\partial_b l^{(i)}(\\mathbf{w}, b)  = b - \\frac{\\eta}{|\\mathcal{B}|} \\sum_{i \\in \\mathcal{B}} \\left(\\mathbf{w}^\\top \\mathbf{x}^{(i)} + b - y^{(i)}\\right). \\end{aligned}$$\n",
    "    * $\\mathbf{w}$ and $\\mathbf{x}$ are vectors.\n",
    "    * $|\\mathcal{B}|$: the number of examples in each minibatch: the **Batchsize**\n",
    "    * $\\eta$: the **Learning Rate**.\n",
    " "
   ]
  },
  {
   "cell_type": "markdown",
   "metadata": {
    "id": "EQsJ9AizzCsS"
   },
   "source": [
    "# Minibatch Stochastic Gradient Descent\n",
    "    \n",
    "* Batchsize and Learning Rate are manually pre-specified\n",
    "    * Called *Hyperparameters*.\n",
    "    * Hyperparameter tuning is the process by which hyperparameters are chosen, based on results on a separate **Validation Set**.\n",
    "\n",
    "* After training for some predetermined number of iterations (or until some other stopping criteria are met), we record the estimated model parameters, denoted $\\hat{\\mathbf{w}}, \\hat{b}$.\n",
    "\n",
    "* These parameters will not be the exact minimizers of the loss because, although the algorithm converges slowly towards the minimizers it cannot achieve it exactly in a finite number of steps.\n",
    " "
   ]
  },
  {
   "cell_type": "markdown",
   "metadata": {
    "id": "qWgtw4iszCsT"
   },
   "source": [
    "# Making Predictions with the Learned Model\n",
    "\n",
    "\n",
    "* Given the learned linear regression model $\\hat{\\mathbf{w}}^\\top \\mathbf{x} + \\hat{b}$, we can now estimate the price of a new house (not contained in the training data) given its area $x_1$ and age $x_2$.\n",
    "    * Commonly called **Prediction** or **Inference**.\n",
    "\n",
    "\n"
   ]
  },
  {
   "cell_type": "markdown",
   "metadata": {
    "id": "ImPN67HczCsT"
   },
   "source": [
    "\n",
    "## The Normal Distribution and Squared Loss\n",
    "\n",
    "* Linear regression was invented by Gauss in 1795, who also discovered the normal distribution (also called the *Gaussian*).\n",
    "\n",
    "* It turns out that there is connection between the normal distribution and linear regression\n",
    "\n",
    "* The probability density of a normal distribution with mean $\\mu$ and variance $\\sigma^2$ (standard deviation $\\sigma$)is given as: $$p(x) = \\frac{1}{\\sqrt{2 \\pi \\sigma^2}} \\exp\\left(-\\frac{1}{2 \\sigma^2} (x - \\mu)^2\\right).$$\n",
    "\n",
    "* Below we define a Python function to compute the normal distribution."
   ]
  },
  {
   "cell_type": "code",
   "execution_count": 2,
   "metadata": {
    "executionInfo": {
     "elapsed": 613,
     "status": "ok",
     "timestamp": 1610911364339,
     "user": {
      "displayName": "Georgios Tzimiropoulos",
      "photoUrl": "",
      "userId": "03131831684678803743"
     },
     "user_tz": 0
    },
    "id": "dW4CasoXzCsU"
   },
   "outputs": [],
   "source": [
    "def normal(x, mu, sigma):\n",
    "    p = 1 / math.sqrt(2 * math.pi * sigma**2)\n",
    "    return p * torch.exp(-0.5 / sigma**2 * (x - mu)**2)"
   ]
  },
  {
   "cell_type": "markdown",
   "metadata": {
    "id": "pRDSp6WkzCsU"
   },
   "source": [
    "We can now visualize various normal distributions.\n",
    "\n"
   ]
  },
  {
   "cell_type": "code",
   "execution_count": 3,
   "metadata": {
    "colab": {
     "base_uri": "https://localhost:8080/",
     "height": 334
    },
    "executionInfo": {
     "elapsed": 1160,
     "status": "ok",
     "timestamp": 1610911367657,
     "user": {
      "displayName": "Georgios Tzimiropoulos",
      "photoUrl": "",
      "userId": "03131831684678803743"
     },
     "user_tz": 0
    },
    "id": "yn0zpD9AzCsV",
    "outputId": "a9f3c54e-92c0-4c63-9d70-801ffba278e7",
    "scrolled": true
   },
   "outputs": [
    {
     "data": {
      "image/png": "[encoded data removed]",
      "text/plain": [
       "<Figure size 720x360 with 1 Axes>"
      ]
     },
     "metadata": {
      "needs_background": "light",
      "tags": []
     },
     "output_type": "display_data"
    }
   ],
   "source": [
    "# Input values\n",
    "x = torch.arange(-7, 7, 0.01)\n",
    "# Mean and standard deviation pairs\n",
    "params = [(0, 1), (0, 2), (3, 1)]\n",
    "a = [normal(x, mu, sigma) for mu, sigma in params]\n",
    "[plt.plot(x, a[i], label=\"mu = {}, sigma {}\".format(params[i][0], params[i][1])) for i in range(len(a))]\n",
    "plt.legend(loc=\"upper left\");    \n",
    "plt.xlabel('x');\n",
    "plt.ylabel('p(x)');\n",
    "fig = plt.gcf()\n",
    "fig.set_size_inches(10, 5, forward=True)\n",
    "plt.show()"
   ]
  },
  {
   "cell_type": "markdown",
   "metadata": {
    "id": "x72aSN2uzCsW"
   },
   "source": [
    "\n",
    "# From Linear Regression to Deep Networks\n",
    "\n",
    "* We can begin thinking of the linear model as a neural network. A visualization of a linear regression model as a neural network:\n",
    "\n",
    "<!--- ![Linear regression is a single-layer neural network.](img/singleneuron.svg) --->\n",
    "\n",
    "![Linear regression is a single-layer neural network.](https://drive.google.com/uc?export=view&id=1upq1tWo2V50R29RyqK2yf2M_uVu_U2Mx)\n",
    "\n",
    "* Note that the above diagram highlights the connectivity pattern such as how each input is connected to the output, but not the values taken by the weights or biases.\n",
    "\n",
    "* Inputs are $x_1, \\ldots, x_d$, so the *feature dimensionality* in the input layer is $d$.\n",
    "* The output of the network is $o_1$, so the *number of outputs* in the output layer is 1.\n",
    "\n",
    "* The *number of layers* for the neural network above is 1.\n",
    "* We can think of linear regression models as neural networks consisting of just a single artificial neuron, or as single-layer neural networks.\n",
    "* Since for linear regression, every input is connected to every output (in this case there is only one output), we can regard this as a *fully-connected layer* or *dense layer*.\n"
   ]
  },
  {
   "cell_type": "markdown",
   "metadata": {
    "id": "-sDx0xpBzCsW"
   },
   "source": [
    "\n",
    "# Biology\n",
    "\n",
    "* A biological neuron consists of *dendrites* (input), the *nucleus* (CPU), the *axon* (output wire), and the *axon terminals* (output), connecting to other neurons via *synapses*.\n",
    "\n",
    "<!--- ![The real neuron.](img/Neuron.svg) --->\n",
    "\n",
    "![The real neuron.](https://drive.google.com/uc?export=view&id=1RZUy-g40FsbADoNy3CgWT_FR6E4964yu)\n",
    "\n",
    "* Information $x_i$ arriving from other neurons (or environmental sensors such as the retina) is received in the dendrites.\n",
    "* $x_i$ is weighted by *synaptic weights* $w_i$ determining the effect of the inputs (e.g., activation or inhibition via the product $x_i w_i$).\n",
    "* The weighted inputs arriving from multiple sources are aggregated in the nucleus as a weighted sum $y = \\sum_i x_i w_i + b$, and this information is then sent for further processing in the axon $y$, typically after some nonlinear processing via $\\sigma(y)$.\n",
    "* From there it either reaches its destination (e.g., a muscle) or is fed into another neuron via its dendrites.\n",
    "\n"
   ]
  },
  {
   "cell_type": "markdown",
   "metadata": {
    "id": "lRGK00rRzCsX"
   },
   "source": [
    "# Summary\n",
    "\n",
    "* Key ingredients in a machine learning model are training data, a loss function, an optimization algorithm, and quite obviously, the model itself.\n",
    "* Vectorizing makes everything better (mostly math) and faster (mostly code).\n",
    "* Minimizing an objective function and performing maximum likelihood estimation can mean the same thing.\n",
    "* Linear regression models are neural networks, too.\n"
   ]
  }
 ],
 "metadata": {
  "celltoolbar": "Slideshow",
  "colab": {
   "name": "Linear_Regression.ipynb",
   "provenance": []
  },
  "kernelspec": {
   "display_name": "Python 3",
   "language": "python",
   "name": "python3"
  },
  "language_info": {
   "codemirror_mode": {
    "name": "ipython",
    "version": 3
   },
   "file_extension": ".py",
   "mimetype": "text/x-python",
   "name": "python",
   "nbconvert_exporter": "python",
   "pygments_lexer": "ipython3",
   "version": "3.7.7"
  }
 },
 "nbformat": 4,
 "nbformat_minor": 0
}
