{
 "cells": [
  {
   "cell_type": "code",
   "execution_count": 1,
   "id": "8ad711bd",
   "metadata": {},
   "outputs": [],
   "source": [
    "import numpy as np"
   ]
  },
  {
   "cell_type": "code",
   "execution_count": 5,
   "id": "0da7fe0d",
   "metadata": {},
   "outputs": [
    {
     "data": {
      "text/plain": [
       "0.71"
      ]
     },
     "execution_count": 5,
     "metadata": {},
     "output_type": "execute_result"
    }
   ],
   "source": [
    "y = np.array([0.85,0.35,0.20])\n",
    "y_hat = np.array([0.75,0.15,0.10])\n",
    "\n",
    "np.dot(y,y_hat)"
   ]
  },
  {
   "cell_type": "code",
   "execution_count": 11,
   "id": "fbc4a828",
   "metadata": {},
   "outputs": [
    {
     "data": {
      "text/plain": [
       "1.3690387748928812"
      ]
     },
     "execution_count": 11,
     "metadata": {},
     "output_type": "execute_result"
    }
   ],
   "source": [
    "y = np.array([0.85,0.35,0.20])\n",
    "y_hat = np.array([0.75,0.15,0.10])\n",
    "\n",
    "np.dot(y,-np.log(y_hat))"
   ]
  }
 ],
 "metadata": {
  "kernelspec": {
   "display_name": "Python 3 (ipykernel)",
   "language": "python",
   "name": "python3"
  },
  "language_info": {
   "codemirror_mode": {
    "name": "ipython",
    "version": 3
   },
   "file_extension": ".py",
   "mimetype": "text/x-python",
   "name": "python",
   "nbconvert_exporter": "python",
   "pygments_lexer": "ipython3",
   "version": "3.9.7"
  }
 },
 "nbformat": 4,
 "nbformat_minor": 5
}
