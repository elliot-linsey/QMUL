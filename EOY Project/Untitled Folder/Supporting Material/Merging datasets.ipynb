{
 "cells": [
  {
   "cell_type": "code",
   "execution_count": 59,
   "id": "9be0e6c6",
   "metadata": {},
   "outputs": [],
   "source": [
    "import pandas as pd\n",
    "import glob\n",
    "import os\n",
    "import shutil\n",
    "import re"
   ]
  },
  {
   "cell_type": "code",
   "execution_count": 60,
   "id": "c63999e3",
   "metadata": {},
   "outputs": [],
   "source": [
    "src_folder = r\"D:\\EOY Datasets\\Non-Covid\\Merging\""
   ]
  },
  {
   "cell_type": "code",
   "execution_count": 61,
   "id": "529f570b",
   "metadata": {},
   "outputs": [
    {
     "data": {
      "text/plain": [
       "['East_Midlands_outcomes.csv',\n",
       " 'East_Midlands_street.csv',\n",
       " 'North_outcomes.csv',\n",
       " 'North_street.csv',\n",
       " 'South_East_outcomes.csv',\n",
       " 'South_East_street.csv',\n",
       " 'South_West_outcomes.csv',\n",
       " 'South_West_street.csv',\n",
       " 'West_Midlands_outcomes.csv',\n",
       " 'West_Midlands_street.csv']"
      ]
     },
     "execution_count": 61,
     "metadata": {},
     "output_type": "execute_result"
    }
   ],
   "source": [
    "os.listdir(src_folder)"
   ]
  },
  {
   "cell_type": "code",
   "execution_count": 62,
   "id": "bd5c8f31",
   "metadata": {},
   "outputs": [],
   "source": [
    "df1 = pd.read_csv(src_folder+'\\\\'+'North_street.csv',usecols=['Crime ID', 'Month', 'Reported by','Crime type'])\n",
    "df2 = pd.read_csv(src_folder+'\\\\'+'North_outcomes.csv',usecols=['Crime ID','Outcome type'])"
   ]
  },
  {
   "cell_type": "code",
   "execution_count": 63,
   "id": "4d31a7f2",
   "metadata": {},
   "outputs": [
    {
     "data": {
      "text/html": [
       "<div>\n",
       "<style scoped>\n",
       "    .dataframe tbody tr th:only-of-type {\n",
       "        vertical-align: middle;\n",
       "    }\n",
       "\n",
       "    .dataframe tbody tr th {\n",
       "        vertical-align: top;\n",
       "    }\n",
       "\n",
       "    .dataframe thead th {\n",
       "        text-align: right;\n",
       "    }\n",
       "</style>\n",
       "<table border=\"1\" class=\"dataframe\">\n",
       "  <thead>\n",
       "    <tr style=\"text-align: right;\">\n",
       "      <th></th>\n",
       "      <th>Crime ID</th>\n",
       "      <th>Month</th>\n",
       "      <th>Reported by</th>\n",
       "      <th>Crime type</th>\n",
       "    </tr>\n",
       "  </thead>\n",
       "  <tbody>\n",
       "    <tr>\n",
       "      <th>0</th>\n",
       "      <td>NaN</td>\n",
       "      <td>2017-01</td>\n",
       "      <td>Cleveland Police</td>\n",
       "      <td>Anti-social behaviour</td>\n",
       "    </tr>\n",
       "    <tr>\n",
       "      <th>1</th>\n",
       "      <td>NaN</td>\n",
       "      <td>2017-01</td>\n",
       "      <td>Cleveland Police</td>\n",
       "      <td>Anti-social behaviour</td>\n",
       "    </tr>\n",
       "    <tr>\n",
       "      <th>2</th>\n",
       "      <td>NaN</td>\n",
       "      <td>2017-01</td>\n",
       "      <td>Cleveland Police</td>\n",
       "      <td>Anti-social behaviour</td>\n",
       "    </tr>\n",
       "    <tr>\n",
       "      <th>3</th>\n",
       "      <td>NaN</td>\n",
       "      <td>2017-01</td>\n",
       "      <td>Cleveland Police</td>\n",
       "      <td>Anti-social behaviour</td>\n",
       "    </tr>\n",
       "    <tr>\n",
       "      <th>4</th>\n",
       "      <td>NaN</td>\n",
       "      <td>2017-01</td>\n",
       "      <td>Cleveland Police</td>\n",
       "      <td>Anti-social behaviour</td>\n",
       "    </tr>\n",
       "  </tbody>\n",
       "</table>\n",
       "</div>"
      ],
      "text/plain": [
       "  Crime ID    Month       Reported by             Crime type\n",
       "0      NaN  2017-01  Cleveland Police  Anti-social behaviour\n",
       "1      NaN  2017-01  Cleveland Police  Anti-social behaviour\n",
       "2      NaN  2017-01  Cleveland Police  Anti-social behaviour\n",
       "3      NaN  2017-01  Cleveland Police  Anti-social behaviour\n",
       "4      NaN  2017-01  Cleveland Police  Anti-social behaviour"
      ]
     },
     "execution_count": 63,
     "metadata": {},
     "output_type": "execute_result"
    }
   ],
   "source": [
    "df1.head()"
   ]
  },
  {
   "cell_type": "code",
   "execution_count": 64,
   "id": "ded58d15",
   "metadata": {},
   "outputs": [],
   "source": [
    "df1 = df1.dropna(subset=['Crime ID']).reset_index(drop=True)\n",
    "df2 = df2.dropna(subset=['Crime ID']).reset_index(drop=True)"
   ]
  },
  {
   "cell_type": "code",
   "execution_count": 65,
   "id": "11035091",
   "metadata": {},
   "outputs": [],
   "source": [
    "df3 = df1.merge(df2, how='inner',on='Crime ID')"
   ]
  },
  {
   "cell_type": "code",
   "execution_count": 66,
   "id": "748e68f7",
   "metadata": {},
   "outputs": [],
   "source": [
    "df3 = df3.drop_duplicates(subset=['Crime ID'])"
   ]
  },
  {
   "cell_type": "code",
   "execution_count": 67,
   "id": "09446b1d",
   "metadata": {},
   "outputs": [],
   "source": [
    "df3['Region'] = 'North'"
   ]
  },
  {
   "cell_type": "code",
   "execution_count": 68,
   "id": "e780b122",
   "metadata": {},
   "outputs": [
    {
     "data": {
      "text/html": [
       "<div>\n",
       "<style scoped>\n",
       "    .dataframe tbody tr th:only-of-type {\n",
       "        vertical-align: middle;\n",
       "    }\n",
       "\n",
       "    .dataframe tbody tr th {\n",
       "        vertical-align: top;\n",
       "    }\n",
       "\n",
       "    .dataframe thead th {\n",
       "        text-align: right;\n",
       "    }\n",
       "</style>\n",
       "<table border=\"1\" class=\"dataframe\">\n",
       "  <thead>\n",
       "    <tr style=\"text-align: right;\">\n",
       "      <th></th>\n",
       "      <th>Crime ID</th>\n",
       "      <th>Month</th>\n",
       "      <th>Reported by</th>\n",
       "      <th>Crime type</th>\n",
       "      <th>Outcome type</th>\n",
       "      <th>Region</th>\n",
       "    </tr>\n",
       "  </thead>\n",
       "  <tbody>\n",
       "    <tr>\n",
       "      <th>0</th>\n",
       "      <td>a526e7399ba9ff64531b97d89d3267ea1b5ef997d0b84e...</td>\n",
       "      <td>2017-01</td>\n",
       "      <td>Cleveland Police</td>\n",
       "      <td>Burglary</td>\n",
       "      <td>Investigation complete; no suspect identified</td>\n",
       "      <td>North</td>\n",
       "    </tr>\n",
       "    <tr>\n",
       "      <th>1</th>\n",
       "      <td>aeb7bbbe699c92e4049a075849f31cde8a113e27d96f70...</td>\n",
       "      <td>2017-01</td>\n",
       "      <td>Cleveland Police</td>\n",
       "      <td>Criminal damage and arson</td>\n",
       "      <td>Investigation complete; no suspect identified</td>\n",
       "      <td>North</td>\n",
       "    </tr>\n",
       "    <tr>\n",
       "      <th>2</th>\n",
       "      <td>91d7e9d398afe494debfb1296e6ec4489857714eddc295...</td>\n",
       "      <td>2017-01</td>\n",
       "      <td>Cleveland Police</td>\n",
       "      <td>Criminal damage and arson</td>\n",
       "      <td>Investigation complete; no suspect identified</td>\n",
       "      <td>North</td>\n",
       "    </tr>\n",
       "    <tr>\n",
       "      <th>3</th>\n",
       "      <td>ab923b852c9845c80df9d97695359ea99dcf50c9bb34c0...</td>\n",
       "      <td>2017-01</td>\n",
       "      <td>Cleveland Police</td>\n",
       "      <td>Vehicle crime</td>\n",
       "      <td>Investigation complete; no suspect identified</td>\n",
       "      <td>North</td>\n",
       "    </tr>\n",
       "    <tr>\n",
       "      <th>4</th>\n",
       "      <td>62d16752b124ddc24c788525760b5169272d2904623d65...</td>\n",
       "      <td>2017-01</td>\n",
       "      <td>Cleveland Police</td>\n",
       "      <td>Vehicle crime</td>\n",
       "      <td>Investigation complete; no suspect identified</td>\n",
       "      <td>North</td>\n",
       "    </tr>\n",
       "    <tr>\n",
       "      <th>...</th>\n",
       "      <td>...</td>\n",
       "      <td>...</td>\n",
       "      <td>...</td>\n",
       "      <td>...</td>\n",
       "      <td>...</td>\n",
       "      <td>...</td>\n",
       "    </tr>\n",
       "    <tr>\n",
       "      <th>955968</th>\n",
       "      <td>11d7197724322656845df5a5217dd8ce58344f99b7f44a...</td>\n",
       "      <td>2019-12</td>\n",
       "      <td>Northumbria Police</td>\n",
       "      <td>Other theft</td>\n",
       "      <td>Investigation complete; no suspect identified</td>\n",
       "      <td>North</td>\n",
       "    </tr>\n",
       "    <tr>\n",
       "      <th>955969</th>\n",
       "      <td>17c66fc067368df771be8415f9216ea42f4b32555b2a40...</td>\n",
       "      <td>2019-12</td>\n",
       "      <td>Northumbria Police</td>\n",
       "      <td>Other theft</td>\n",
       "      <td>Investigation complete; no suspect identified</td>\n",
       "      <td>North</td>\n",
       "    </tr>\n",
       "    <tr>\n",
       "      <th>955970</th>\n",
       "      <td>7bad96a4bd353d3019ae6e3bc86d99479cb6b57cd3f64a...</td>\n",
       "      <td>2019-12</td>\n",
       "      <td>Northumbria Police</td>\n",
       "      <td>Shoplifting</td>\n",
       "      <td>Investigation complete; no suspect identified</td>\n",
       "      <td>North</td>\n",
       "    </tr>\n",
       "    <tr>\n",
       "      <th>955971</th>\n",
       "      <td>99af8b2c3b7334f47aa54a842396db13c79bda1ef3e429...</td>\n",
       "      <td>2019-12</td>\n",
       "      <td>Northumbria Police</td>\n",
       "      <td>Vehicle crime</td>\n",
       "      <td>Investigation complete; no suspect identified</td>\n",
       "      <td>North</td>\n",
       "    </tr>\n",
       "    <tr>\n",
       "      <th>955972</th>\n",
       "      <td>74459e124b241a966f4826f24048e2d0380f9d550904d0...</td>\n",
       "      <td>2019-12</td>\n",
       "      <td>Northumbria Police</td>\n",
       "      <td>Vehicle crime</td>\n",
       "      <td>Investigation complete; no suspect identified</td>\n",
       "      <td>North</td>\n",
       "    </tr>\n",
       "  </tbody>\n",
       "</table>\n",
       "<p>829026 rows × 6 columns</p>\n",
       "</div>"
      ],
      "text/plain": [
       "                                                 Crime ID    Month  \\\n",
       "0       a526e7399ba9ff64531b97d89d3267ea1b5ef997d0b84e...  2017-01   \n",
       "1       aeb7bbbe699c92e4049a075849f31cde8a113e27d96f70...  2017-01   \n",
       "2       91d7e9d398afe494debfb1296e6ec4489857714eddc295...  2017-01   \n",
       "3       ab923b852c9845c80df9d97695359ea99dcf50c9bb34c0...  2017-01   \n",
       "4       62d16752b124ddc24c788525760b5169272d2904623d65...  2017-01   \n",
       "...                                                   ...      ...   \n",
       "955968  11d7197724322656845df5a5217dd8ce58344f99b7f44a...  2019-12   \n",
       "955969  17c66fc067368df771be8415f9216ea42f4b32555b2a40...  2019-12   \n",
       "955970  7bad96a4bd353d3019ae6e3bc86d99479cb6b57cd3f64a...  2019-12   \n",
       "955971  99af8b2c3b7334f47aa54a842396db13c79bda1ef3e429...  2019-12   \n",
       "955972  74459e124b241a966f4826f24048e2d0380f9d550904d0...  2019-12   \n",
       "\n",
       "               Reported by                 Crime type  \\\n",
       "0         Cleveland Police                   Burglary   \n",
       "1         Cleveland Police  Criminal damage and arson   \n",
       "2         Cleveland Police  Criminal damage and arson   \n",
       "3         Cleveland Police              Vehicle crime   \n",
       "4         Cleveland Police              Vehicle crime   \n",
       "...                    ...                        ...   \n",
       "955968  Northumbria Police                Other theft   \n",
       "955969  Northumbria Police                Other theft   \n",
       "955970  Northumbria Police                Shoplifting   \n",
       "955971  Northumbria Police              Vehicle crime   \n",
       "955972  Northumbria Police              Vehicle crime   \n",
       "\n",
       "                                         Outcome type Region  \n",
       "0       Investigation complete; no suspect identified  North  \n",
       "1       Investigation complete; no suspect identified  North  \n",
       "2       Investigation complete; no suspect identified  North  \n",
       "3       Investigation complete; no suspect identified  North  \n",
       "4       Investigation complete; no suspect identified  North  \n",
       "...                                               ...    ...  \n",
       "955968  Investigation complete; no suspect identified  North  \n",
       "955969  Investigation complete; no suspect identified  North  \n",
       "955970  Investigation complete; no suspect identified  North  \n",
       "955971  Investigation complete; no suspect identified  North  \n",
       "955972  Investigation complete; no suspect identified  North  \n",
       "\n",
       "[829026 rows x 6 columns]"
      ]
     },
     "execution_count": 68,
     "metadata": {},
     "output_type": "execute_result"
    }
   ],
   "source": [
    "df3"
   ]
  },
  {
   "cell_type": "code",
   "execution_count": 69,
   "id": "385e2333",
   "metadata": {},
   "outputs": [],
   "source": [
    "df3.to_csv('North_full.csv')"
   ]
  }
 ],
 "metadata": {
  "kernelspec": {
   "display_name": "Python 3",
   "language": "python",
   "name": "python3"
  },
  "language_info": {
   "codemirror_mode": {
    "name": "ipython",
    "version": 3
   },
   "file_extension": ".py",
   "mimetype": "text/x-python",
   "name": "python",
   "nbconvert_exporter": "python",
   "pygments_lexer": "ipython3",
   "version": "3.8.8"
  }
 },
 "nbformat": 4,
 "nbformat_minor": 5
}
