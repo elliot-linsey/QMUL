{
 "cells": [
  {
   "cell_type": "code",
   "execution_count": 15,
   "id": "725175d5",
   "metadata": {},
   "outputs": [],
   "source": [
    "import pandas as pd"
   ]
  },
  {
   "cell_type": "code",
   "execution_count": 16,
   "id": "fafc117b",
   "metadata": {},
   "outputs": [],
   "source": [
    "south_west = pd.read_csv(r\"D:\\EOY Datasets\\Non-Covid\\Full\"+'\\\\'+'South_West_full.csv')\n",
    "south_east = pd.read_csv(r\"D:\\EOY Datasets\\Non-Covid\\Full\"+'\\\\'+'South_East_full.csv')\n",
    "north = pd.read_csv(r\"D:\\EOY Datasets\\Non-Covid\\Full\"+'\\\\'+'North_full.csv')\n",
    "east_midlands = pd.read_csv(r\"D:\\EOY Datasets\\Non-Covid\\Full\"+'\\\\'+'East_Midlands_full.csv')\n",
    "west_midlands = pd.read_csv(r\"D:\\EOY Datasets\\Non-Covid\\Full\"+'\\\\'+'West_Midlands_full.csv')"
   ]
  },
  {
   "cell_type": "code",
   "execution_count": 17,
   "id": "a575adc6",
   "metadata": {},
   "outputs": [],
   "source": [
    "# south_west['Region'] = 'South West'\n",
    "# south_east['Region'] = 'South East'\n",
    "# north['Region'] = 'North'\n",
    "# east_midlands['Region'] = 'East Midlands'\n",
    "# west_midlands['Region'] = 'West Midlands'"
   ]
  },
  {
   "cell_type": "code",
   "execution_count": 18,
   "id": "ab2b05fb",
   "metadata": {},
   "outputs": [],
   "source": [
    "full = pd.concat([south_west,south_east,north,east_midlands,west_midlands])"
   ]
  },
  {
   "cell_type": "code",
   "execution_count": 19,
   "id": "e1fb2ff3",
   "metadata": {},
   "outputs": [
    {
     "data": {
      "text/html": [
       "<div>\n",
       "<style scoped>\n",
       "    .dataframe tbody tr th:only-of-type {\n",
       "        vertical-align: middle;\n",
       "    }\n",
       "\n",
       "    .dataframe tbody tr th {\n",
       "        vertical-align: top;\n",
       "    }\n",
       "\n",
       "    .dataframe thead th {\n",
       "        text-align: right;\n",
       "    }\n",
       "</style>\n",
       "<table border=\"1\" class=\"dataframe\">\n",
       "  <thead>\n",
       "    <tr style=\"text-align: right;\">\n",
       "      <th></th>\n",
       "      <th>Crime ID</th>\n",
       "      <th>Month</th>\n",
       "      <th>Reported by</th>\n",
       "      <th>Crime type</th>\n",
       "      <th>Outcome type</th>\n",
       "      <th>Region</th>\n",
       "    </tr>\n",
       "  </thead>\n",
       "  <tbody>\n",
       "    <tr>\n",
       "      <th>0</th>\n",
       "      <td>9500972e2e3c87dc23b65885dd61085ee8a39329c03792...</td>\n",
       "      <td>2017-01</td>\n",
       "      <td>Avon and Somerset Constabulary</td>\n",
       "      <td>Burglary</td>\n",
       "      <td>Offender given a caution</td>\n",
       "      <td>South West</td>\n",
       "    </tr>\n",
       "    <tr>\n",
       "      <th>1</th>\n",
       "      <td>4c3b7072a3bfcf441b1036e67fd642cf1e42fdccf16af1...</td>\n",
       "      <td>2017-01</td>\n",
       "      <td>Avon and Somerset Constabulary</td>\n",
       "      <td>Criminal damage and arson</td>\n",
       "      <td>Investigation complete; no suspect identified</td>\n",
       "      <td>South West</td>\n",
       "    </tr>\n",
       "    <tr>\n",
       "      <th>2</th>\n",
       "      <td>8e6ae250f68623b82068cd3c79b64b05a559f6d9c9393c...</td>\n",
       "      <td>2017-01</td>\n",
       "      <td>Avon and Somerset Constabulary</td>\n",
       "      <td>Criminal damage and arson</td>\n",
       "      <td>Investigation complete; no suspect identified</td>\n",
       "      <td>South West</td>\n",
       "    </tr>\n",
       "    <tr>\n",
       "      <th>3</th>\n",
       "      <td>0f5c81322cd60d96ef8877d94eb37e98cad395d1773efc...</td>\n",
       "      <td>2017-01</td>\n",
       "      <td>Avon and Somerset Constabulary</td>\n",
       "      <td>Violence and sexual offences</td>\n",
       "      <td>Investigation complete; no suspect identified</td>\n",
       "      <td>South West</td>\n",
       "    </tr>\n",
       "    <tr>\n",
       "      <th>4</th>\n",
       "      <td>b46b395f390b0dc9112686c30d0939f0ded0de42877df7...</td>\n",
       "      <td>2017-01</td>\n",
       "      <td>Avon and Somerset Constabulary</td>\n",
       "      <td>Violence and sexual offences</td>\n",
       "      <td>Investigation complete; no suspect identified</td>\n",
       "      <td>South West</td>\n",
       "    </tr>\n",
       "    <tr>\n",
       "      <th>...</th>\n",
       "      <td>...</td>\n",
       "      <td>...</td>\n",
       "      <td>...</td>\n",
       "      <td>...</td>\n",
       "      <td>...</td>\n",
       "      <td>...</td>\n",
       "    </tr>\n",
       "    <tr>\n",
       "      <th>11658462</th>\n",
       "      <td>b90c8dd50029069a330a401a59805ddb6042b94be8d83f...</td>\n",
       "      <td>2019-12</td>\n",
       "      <td>West Midlands Police</td>\n",
       "      <td>Violence and sexual offences</td>\n",
       "      <td>Unable to prosecute suspect</td>\n",
       "      <td>West Midlands</td>\n",
       "    </tr>\n",
       "    <tr>\n",
       "      <th>11658463</th>\n",
       "      <td>9417957f2a0091077593cd99efd6a53859967bceef5862...</td>\n",
       "      <td>2019-12</td>\n",
       "      <td>West Midlands Police</td>\n",
       "      <td>Violence and sexual offences</td>\n",
       "      <td>Suspect charged</td>\n",
       "      <td>West Midlands</td>\n",
       "    </tr>\n",
       "    <tr>\n",
       "      <th>11658464</th>\n",
       "      <td>78b4f4a19d3adda3a071c32de5143fc0fa2bcdb3f71ec6...</td>\n",
       "      <td>2019-12</td>\n",
       "      <td>West Midlands Police</td>\n",
       "      <td>Violence and sexual offences</td>\n",
       "      <td>Investigation complete; no suspect identified</td>\n",
       "      <td>West Midlands</td>\n",
       "    </tr>\n",
       "    <tr>\n",
       "      <th>11658465</th>\n",
       "      <td>54b927d76c63097c6edfa0564015aeda61e366374b16f6...</td>\n",
       "      <td>2019-12</td>\n",
       "      <td>West Midlands Police</td>\n",
       "      <td>Violence and sexual offences</td>\n",
       "      <td>Unable to prosecute suspect</td>\n",
       "      <td>West Midlands</td>\n",
       "    </tr>\n",
       "    <tr>\n",
       "      <th>11658466</th>\n",
       "      <td>d015ded62a99d9236e1a42fb4b49e055d9d6086f8bdf15...</td>\n",
       "      <td>2019-12</td>\n",
       "      <td>West Midlands Police</td>\n",
       "      <td>Criminal damage and arson</td>\n",
       "      <td>Investigation complete; no suspect identified</td>\n",
       "      <td>West Midlands</td>\n",
       "    </tr>\n",
       "  </tbody>\n",
       "</table>\n",
       "<p>11658467 rows × 6 columns</p>\n",
       "</div>"
      ],
      "text/plain": [
       "                                                   Crime ID    Month  \\\n",
       "0         9500972e2e3c87dc23b65885dd61085ee8a39329c03792...  2017-01   \n",
       "1         4c3b7072a3bfcf441b1036e67fd642cf1e42fdccf16af1...  2017-01   \n",
       "2         8e6ae250f68623b82068cd3c79b64b05a559f6d9c9393c...  2017-01   \n",
       "3         0f5c81322cd60d96ef8877d94eb37e98cad395d1773efc...  2017-01   \n",
       "4         b46b395f390b0dc9112686c30d0939f0ded0de42877df7...  2017-01   \n",
       "...                                                     ...      ...   \n",
       "11658462  b90c8dd50029069a330a401a59805ddb6042b94be8d83f...  2019-12   \n",
       "11658463  9417957f2a0091077593cd99efd6a53859967bceef5862...  2019-12   \n",
       "11658464  78b4f4a19d3adda3a071c32de5143fc0fa2bcdb3f71ec6...  2019-12   \n",
       "11658465  54b927d76c63097c6edfa0564015aeda61e366374b16f6...  2019-12   \n",
       "11658466  d015ded62a99d9236e1a42fb4b49e055d9d6086f8bdf15...  2019-12   \n",
       "\n",
       "                             Reported by                    Crime type  \\\n",
       "0         Avon and Somerset Constabulary                      Burglary   \n",
       "1         Avon and Somerset Constabulary     Criminal damage and arson   \n",
       "2         Avon and Somerset Constabulary     Criminal damage and arson   \n",
       "3         Avon and Somerset Constabulary  Violence and sexual offences   \n",
       "4         Avon and Somerset Constabulary  Violence and sexual offences   \n",
       "...                                  ...                           ...   \n",
       "11658462            West Midlands Police  Violence and sexual offences   \n",
       "11658463            West Midlands Police  Violence and sexual offences   \n",
       "11658464            West Midlands Police  Violence and sexual offences   \n",
       "11658465            West Midlands Police  Violence and sexual offences   \n",
       "11658466            West Midlands Police     Criminal damage and arson   \n",
       "\n",
       "                                           Outcome type         Region  \n",
       "0                              Offender given a caution     South West  \n",
       "1         Investigation complete; no suspect identified     South West  \n",
       "2         Investigation complete; no suspect identified     South West  \n",
       "3         Investigation complete; no suspect identified     South West  \n",
       "4         Investigation complete; no suspect identified     South West  \n",
       "...                                                 ...            ...  \n",
       "11658462                    Unable to prosecute suspect  West Midlands  \n",
       "11658463                                Suspect charged  West Midlands  \n",
       "11658464  Investigation complete; no suspect identified  West Midlands  \n",
       "11658465                    Unable to prosecute suspect  West Midlands  \n",
       "11658466  Investigation complete; no suspect identified  West Midlands  \n",
       "\n",
       "[11658467 rows x 6 columns]"
      ]
     },
     "execution_count": 19,
     "metadata": {},
     "output_type": "execute_result"
    }
   ],
   "source": [
    "full = full.reset_index(drop=True)\n",
    "full = full.drop(columns=['Unnamed: 0'],axis=1)\n",
    "full"
   ]
  },
  {
   "cell_type": "code",
   "execution_count": 20,
   "id": "010a395d",
   "metadata": {},
   "outputs": [
    {
     "data": {
      "text/plain": [
       "array(['Burglary', 'Criminal damage and arson',\n",
       "       'Violence and sexual offences', 'Vehicle crime', 'Other theft',\n",
       "       'Public order', 'Shoplifting', 'Drugs', 'Robbery', 'Other crime',\n",
       "       'Possession of weapons', 'Bicycle theft', 'Theft from the person'],\n",
       "      dtype=object)"
      ]
     },
     "execution_count": 20,
     "metadata": {},
     "output_type": "execute_result"
    }
   ],
   "source": [
    "full['Crime type'].unique()"
   ]
  },
  {
   "cell_type": "code",
   "execution_count": 21,
   "id": "5635d293",
   "metadata": {},
   "outputs": [
    {
     "data": {
      "text/plain": [
       "Violence and sexual offences    4009138\n",
       "Criminal damage and arson       1406043\n",
       "Other theft                     1168952\n",
       "Vehicle crime                    991023\n",
       "Burglary                         966802\n",
       "Public order                     965265\n",
       "Shoplifting                      938706\n",
       "Drugs                            367286\n",
       "Other crime                      223050\n",
       "Bicycle theft                    200341\n",
       "Theft from the person            159267\n",
       "Robbery                          158392\n",
       "Possession of weapons            104202\n",
       "Name: Crime type, dtype: int64"
      ]
     },
     "execution_count": 21,
     "metadata": {},
     "output_type": "execute_result"
    }
   ],
   "source": [
    "full['Crime type'].value_counts()"
   ]
  },
  {
   "cell_type": "code",
   "execution_count": 22,
   "id": "8d514d6e",
   "metadata": {},
   "outputs": [],
   "source": [
    "full['Crime type'] = full['Crime type'].apply(lambda x: 'Theft offences' if x in \n",
    "                                              ['Other theft', 'Burglary', 'Shoplifting','Theft from the person','Robbery',\n",
    "                                              'Bicycle theft'] else x)"
   ]
  },
  {
   "cell_type": "code",
   "execution_count": 23,
   "id": "d18ce6b1",
   "metadata": {},
   "outputs": [
    {
     "data": {
      "text/plain": [
       "Violence and sexual offences    4009138\n",
       "Theft offences                  3592460\n",
       "Criminal damage and arson       1406043\n",
       "Vehicle crime                    991023\n",
       "Public order                     965265\n",
       "Drugs                            367286\n",
       "Other crime                      223050\n",
       "Possession of weapons            104202\n",
       "Name: Crime type, dtype: int64"
      ]
     },
     "execution_count": 23,
     "metadata": {},
     "output_type": "execute_result"
    }
   ],
   "source": [
    "full['Crime type'].value_counts()"
   ]
  },
  {
   "cell_type": "code",
   "execution_count": 24,
   "id": "d99f3955",
   "metadata": {},
   "outputs": [],
   "source": [
    "full = full[full['Crime type']!='Vehicle crime']"
   ]
  },
  {
   "cell_type": "code",
   "execution_count": 25,
   "id": "6e48d90d",
   "metadata": {},
   "outputs": [
    {
     "data": {
      "text/plain": [
       "Violence and sexual offences    4009138\n",
       "Theft offences                  3592460\n",
       "Criminal damage and arson       1406043\n",
       "Public order                     965265\n",
       "Drugs                            367286\n",
       "Other crime                      223050\n",
       "Possession of weapons            104202\n",
       "Name: Crime type, dtype: int64"
      ]
     },
     "execution_count": 25,
     "metadata": {},
     "output_type": "execute_result"
    }
   ],
   "source": [
    "full['Crime type'].value_counts()"
   ]
  },
  {
   "cell_type": "code",
   "execution_count": 26,
   "id": "03649356",
   "metadata": {},
   "outputs": [
    {
     "name": "stderr",
     "output_type": "stream",
     "text": [
      "<ipython-input-26-24deb4764bc0>:1: SettingWithCopyWarning: \n",
      "A value is trying to be set on a copy of a slice from a DataFrame.\n",
      "Try using .loc[row_indexer,col_indexer] = value instead\n",
      "\n",
      "See the caveats in the documentation: https://pandas.pydata.org/pandas-docs/stable/user_guide/indexing.html#returning-a-view-versus-a-copy\n",
      "  full['Crime type'] = full['Crime type'].apply(lambda x: 'Public order offences' if x=='Public order' else x)\n"
     ]
    }
   ],
   "source": [
    "full['Crime type'] = full['Crime type'].apply(lambda x: 'Public order offences' if x=='Public order' else x)"
   ]
  },
  {
   "cell_type": "code",
   "execution_count": 27,
   "id": "9f085713",
   "metadata": {},
   "outputs": [
    {
     "data": {
      "text/plain": [
       "Violence and sexual offences    4009138\n",
       "Theft offences                  3592460\n",
       "Criminal damage and arson       1406043\n",
       "Public order offences            965265\n",
       "Drugs                            367286\n",
       "Other crime                      223050\n",
       "Possession of weapons            104202\n",
       "Name: Crime type, dtype: int64"
      ]
     },
     "execution_count": 27,
     "metadata": {},
     "output_type": "execute_result"
    }
   ],
   "source": [
    "full['Crime type'].value_counts()"
   ]
  },
  {
   "cell_type": "code",
   "execution_count": 28,
   "id": "84be324c",
   "metadata": {},
   "outputs": [],
   "source": [
    "full = full[full['Crime type']!='Other crime']\n",
    "full = full[full['Crime type']!='Possession of weapons']"
   ]
  },
  {
   "cell_type": "code",
   "execution_count": 29,
   "id": "3471adea",
   "metadata": {},
   "outputs": [],
   "source": [
    "full['Crime type'] = full['Crime type'].apply(lambda x: 'Drug offences' if x=='Drugs' else x)"
   ]
  },
  {
   "cell_type": "code",
   "execution_count": 30,
   "id": "1b9ad86a",
   "metadata": {},
   "outputs": [
    {
     "data": {
      "text/plain": [
       "Violence and sexual offences    4009138\n",
       "Theft offences                  3592460\n",
       "Criminal damage and arson       1406043\n",
       "Public order offences            965265\n",
       "Drug offences                    367286\n",
       "Name: Crime type, dtype: int64"
      ]
     },
     "execution_count": 30,
     "metadata": {},
     "output_type": "execute_result"
    }
   ],
   "source": [
    "full['Crime type'].value_counts()"
   ]
  },
  {
   "cell_type": "code",
   "execution_count": 31,
   "id": "1c11ea02",
   "metadata": {},
   "outputs": [
    {
     "data": {
      "text/plain": [
       "Investigation complete; no suspect identified          4953016\n",
       "Unable to prosecute suspect                            3454708\n",
       "Suspect charged                                         954045\n",
       "Local resolution                                        270804\n",
       "Offender given a caution                                180097\n",
       "Further investigation is not in the public interest     122494\n",
       "Formal action is not in the public interest             112249\n",
       "Action to be taken by another organisation              106392\n",
       "Offender given a drugs possession warning                70310\n",
       "Offender given penalty notice                            36731\n",
       "Offender sent to prison                                  22430\n",
       "Offender given community sentence                        12795\n",
       "Suspect charged as part of another case                  11590\n",
       "Offender fined                                            8879\n",
       "Offender given suspended prison sentence                  6232\n",
       "Offender given conditional discharge                      4762\n",
       "Court case unable to proceed                              3459\n",
       "Defendant found not guilty                                3029\n",
       "Offender otherwise dealt with                             2613\n",
       "Offender ordered to pay compensation                      1385\n",
       "Further action is not in the public interest              1128\n",
       "Offender deprived of property                              710\n",
       "Defendant sent to Crown Court                              198\n",
       "Offender given absolute discharge                          136\n",
       "Name: Outcome type, dtype: int64"
      ]
     },
     "execution_count": 31,
     "metadata": {},
     "output_type": "execute_result"
    }
   ],
   "source": [
    "full['Outcome type'].value_counts()"
   ]
  },
  {
   "cell_type": "code",
   "execution_count": 32,
   "id": "9fa9e242",
   "metadata": {},
   "outputs": [],
   "source": [
    "full['Outcome type'] = full['Outcome type'].apply(lambda x: 'No suspect identified' if x=='Investigation complete; no suspect identified'\n",
    "                                                  else ('Unable to prosecute suspect' if x == 'Unable to prosecute suspect' else ('Suspect charged' if x == 'Suspect charged'\n",
    "                                                 else 'Other Outcome')))"
   ]
  },
  {
   "cell_type": "code",
   "execution_count": 33,
   "id": "45f5a956",
   "metadata": {},
   "outputs": [
    {
     "data": {
      "text/plain": [
       "No suspect identified          4953016\n",
       "Unable to prosecute suspect    3454708\n",
       "Other Outcome                   978423\n",
       "Suspect charged                 954045\n",
       "Name: Outcome type, dtype: int64"
      ]
     },
     "execution_count": 33,
     "metadata": {},
     "output_type": "execute_result"
    }
   ],
   "source": [
    "full['Outcome type'].value_counts()"
   ]
  },
  {
   "cell_type": "code",
   "execution_count": 37,
   "id": "ec930419",
   "metadata": {},
   "outputs": [],
   "source": [
    "full['Year'] = full.Month.apply(lambda x: '2017' if x in ['2017-01','2017-02','2017-03','2017-04','2017-05','2017-06'\n",
    "                                                     ,'2017-07','2017-08','2017-09','2017-10','2017-11','2017-12'] else ('2018' if x in \n",
    "                                ['2018-01','2018-02','2018-03','2018-04','2018-05','2018-06'\n",
    "                                                     ,'2018-07','2018-08','2018-09','2018-10','2018-11','2018-12'] else ('2019' if x in ['2019-01','2019-02','2019-03','2019-04','2019-05','2019-06'\n",
    "                                                     ,'2019-07','2019-08','2019-09','2019-10','2019-11','2019-12'] else 'butts')))"
   ]
  },
  {
   "cell_type": "code",
   "execution_count": 38,
   "id": "e782f754",
   "metadata": {},
   "outputs": [
    {
     "data": {
      "text/html": [
       "<div>\n",
       "<style scoped>\n",
       "    .dataframe tbody tr th:only-of-type {\n",
       "        vertical-align: middle;\n",
       "    }\n",
       "\n",
       "    .dataframe tbody tr th {\n",
       "        vertical-align: top;\n",
       "    }\n",
       "\n",
       "    .dataframe thead th {\n",
       "        text-align: right;\n",
       "    }\n",
       "</style>\n",
       "<table border=\"1\" class=\"dataframe\">\n",
       "  <thead>\n",
       "    <tr style=\"text-align: right;\">\n",
       "      <th></th>\n",
       "      <th>Crime ID</th>\n",
       "      <th>Month</th>\n",
       "      <th>Reported by</th>\n",
       "      <th>Crime type</th>\n",
       "      <th>Outcome type</th>\n",
       "      <th>Region</th>\n",
       "      <th>Year</th>\n",
       "    </tr>\n",
       "  </thead>\n",
       "  <tbody>\n",
       "    <tr>\n",
       "      <th>0</th>\n",
       "      <td>9500972e2e3c87dc23b65885dd61085ee8a39329c03792...</td>\n",
       "      <td>2017-01</td>\n",
       "      <td>Avon and Somerset Constabulary</td>\n",
       "      <td>Theft offences</td>\n",
       "      <td>Other Outcome</td>\n",
       "      <td>South West</td>\n",
       "      <td>2017</td>\n",
       "    </tr>\n",
       "    <tr>\n",
       "      <th>1</th>\n",
       "      <td>4c3b7072a3bfcf441b1036e67fd642cf1e42fdccf16af1...</td>\n",
       "      <td>2017-01</td>\n",
       "      <td>Avon and Somerset Constabulary</td>\n",
       "      <td>Criminal damage and arson</td>\n",
       "      <td>No suspect identified</td>\n",
       "      <td>South West</td>\n",
       "      <td>2017</td>\n",
       "    </tr>\n",
       "    <tr>\n",
       "      <th>2</th>\n",
       "      <td>8e6ae250f68623b82068cd3c79b64b05a559f6d9c9393c...</td>\n",
       "      <td>2017-01</td>\n",
       "      <td>Avon and Somerset Constabulary</td>\n",
       "      <td>Criminal damage and arson</td>\n",
       "      <td>No suspect identified</td>\n",
       "      <td>South West</td>\n",
       "      <td>2017</td>\n",
       "    </tr>\n",
       "    <tr>\n",
       "      <th>3</th>\n",
       "      <td>0f5c81322cd60d96ef8877d94eb37e98cad395d1773efc...</td>\n",
       "      <td>2017-01</td>\n",
       "      <td>Avon and Somerset Constabulary</td>\n",
       "      <td>Violence and sexual offences</td>\n",
       "      <td>No suspect identified</td>\n",
       "      <td>South West</td>\n",
       "      <td>2017</td>\n",
       "    </tr>\n",
       "    <tr>\n",
       "      <th>4</th>\n",
       "      <td>b46b395f390b0dc9112686c30d0939f0ded0de42877df7...</td>\n",
       "      <td>2017-01</td>\n",
       "      <td>Avon and Somerset Constabulary</td>\n",
       "      <td>Violence and sexual offences</td>\n",
       "      <td>No suspect identified</td>\n",
       "      <td>South West</td>\n",
       "      <td>2017</td>\n",
       "    </tr>\n",
       "  </tbody>\n",
       "</table>\n",
       "</div>"
      ],
      "text/plain": [
       "                                            Crime ID    Month  \\\n",
       "0  9500972e2e3c87dc23b65885dd61085ee8a39329c03792...  2017-01   \n",
       "1  4c3b7072a3bfcf441b1036e67fd642cf1e42fdccf16af1...  2017-01   \n",
       "2  8e6ae250f68623b82068cd3c79b64b05a559f6d9c9393c...  2017-01   \n",
       "3  0f5c81322cd60d96ef8877d94eb37e98cad395d1773efc...  2017-01   \n",
       "4  b46b395f390b0dc9112686c30d0939f0ded0de42877df7...  2017-01   \n",
       "\n",
       "                      Reported by                    Crime type  \\\n",
       "0  Avon and Somerset Constabulary                Theft offences   \n",
       "1  Avon and Somerset Constabulary     Criminal damage and arson   \n",
       "2  Avon and Somerset Constabulary     Criminal damage and arson   \n",
       "3  Avon and Somerset Constabulary  Violence and sexual offences   \n",
       "4  Avon and Somerset Constabulary  Violence and sexual offences   \n",
       "\n",
       "            Outcome type      Region  Year  \n",
       "0          Other Outcome  South West  2017  \n",
       "1  No suspect identified  South West  2017  \n",
       "2  No suspect identified  South West  2017  \n",
       "3  No suspect identified  South West  2017  \n",
       "4  No suspect identified  South West  2017  "
      ]
     },
     "execution_count": 38,
     "metadata": {},
     "output_type": "execute_result"
    }
   ],
   "source": [
    "full.head()"
   ]
  },
  {
   "cell_type": "code",
   "execution_count": 41,
   "id": "892f85f0",
   "metadata": {},
   "outputs": [],
   "source": [
    "full = full[full['Reported by'] != 'Greater Manchester']"
   ]
  },
  {
   "cell_type": "code",
   "execution_count": 43,
   "id": "e701cf5d",
   "metadata": {},
   "outputs": [],
   "source": [
    "full = full.rename(columns={'Crime ID':'Crime_ID','Reported by':'Reported_by','Crime type':'Crime_type','Outcome type':'Outcome_type',\n",
    "                           })"
   ]
  },
  {
   "cell_type": "code",
   "execution_count": 44,
   "id": "b00f05f8",
   "metadata": {},
   "outputs": [
    {
     "data": {
      "text/html": [
       "<div>\n",
       "<style scoped>\n",
       "    .dataframe tbody tr th:only-of-type {\n",
       "        vertical-align: middle;\n",
       "    }\n",
       "\n",
       "    .dataframe tbody tr th {\n",
       "        vertical-align: top;\n",
       "    }\n",
       "\n",
       "    .dataframe thead th {\n",
       "        text-align: right;\n",
       "    }\n",
       "</style>\n",
       "<table border=\"1\" class=\"dataframe\">\n",
       "  <thead>\n",
       "    <tr style=\"text-align: right;\">\n",
       "      <th></th>\n",
       "      <th>Crime_ID</th>\n",
       "      <th>Month</th>\n",
       "      <th>Reported_by</th>\n",
       "      <th>Crime_type</th>\n",
       "      <th>Outcome_type</th>\n",
       "      <th>Region</th>\n",
       "      <th>Year</th>\n",
       "    </tr>\n",
       "  </thead>\n",
       "  <tbody>\n",
       "    <tr>\n",
       "      <th>0</th>\n",
       "      <td>9500972e2e3c87dc23b65885dd61085ee8a39329c03792...</td>\n",
       "      <td>2017-01</td>\n",
       "      <td>Avon and Somerset Constabulary</td>\n",
       "      <td>Theft offences</td>\n",
       "      <td>Other Outcome</td>\n",
       "      <td>South West</td>\n",
       "      <td>2017</td>\n",
       "    </tr>\n",
       "    <tr>\n",
       "      <th>1</th>\n",
       "      <td>4c3b7072a3bfcf441b1036e67fd642cf1e42fdccf16af1...</td>\n",
       "      <td>2017-01</td>\n",
       "      <td>Avon and Somerset Constabulary</td>\n",
       "      <td>Criminal damage and arson</td>\n",
       "      <td>No suspect identified</td>\n",
       "      <td>South West</td>\n",
       "      <td>2017</td>\n",
       "    </tr>\n",
       "    <tr>\n",
       "      <th>2</th>\n",
       "      <td>8e6ae250f68623b82068cd3c79b64b05a559f6d9c9393c...</td>\n",
       "      <td>2017-01</td>\n",
       "      <td>Avon and Somerset Constabulary</td>\n",
       "      <td>Criminal damage and arson</td>\n",
       "      <td>No suspect identified</td>\n",
       "      <td>South West</td>\n",
       "      <td>2017</td>\n",
       "    </tr>\n",
       "    <tr>\n",
       "      <th>3</th>\n",
       "      <td>0f5c81322cd60d96ef8877d94eb37e98cad395d1773efc...</td>\n",
       "      <td>2017-01</td>\n",
       "      <td>Avon and Somerset Constabulary</td>\n",
       "      <td>Violence and sexual offences</td>\n",
       "      <td>No suspect identified</td>\n",
       "      <td>South West</td>\n",
       "      <td>2017</td>\n",
       "    </tr>\n",
       "    <tr>\n",
       "      <th>4</th>\n",
       "      <td>b46b395f390b0dc9112686c30d0939f0ded0de42877df7...</td>\n",
       "      <td>2017-01</td>\n",
       "      <td>Avon and Somerset Constabulary</td>\n",
       "      <td>Violence and sexual offences</td>\n",
       "      <td>No suspect identified</td>\n",
       "      <td>South West</td>\n",
       "      <td>2017</td>\n",
       "    </tr>\n",
       "    <tr>\n",
       "      <th>...</th>\n",
       "      <td>...</td>\n",
       "      <td>...</td>\n",
       "      <td>...</td>\n",
       "      <td>...</td>\n",
       "      <td>...</td>\n",
       "      <td>...</td>\n",
       "      <td>...</td>\n",
       "    </tr>\n",
       "    <tr>\n",
       "      <th>11658462</th>\n",
       "      <td>b90c8dd50029069a330a401a59805ddb6042b94be8d83f...</td>\n",
       "      <td>2019-12</td>\n",
       "      <td>West Midlands Police</td>\n",
       "      <td>Violence and sexual offences</td>\n",
       "      <td>Unable to prosecute suspect</td>\n",
       "      <td>West Midlands</td>\n",
       "      <td>2019</td>\n",
       "    </tr>\n",
       "    <tr>\n",
       "      <th>11658463</th>\n",
       "      <td>9417957f2a0091077593cd99efd6a53859967bceef5862...</td>\n",
       "      <td>2019-12</td>\n",
       "      <td>West Midlands Police</td>\n",
       "      <td>Violence and sexual offences</td>\n",
       "      <td>Suspect charged</td>\n",
       "      <td>West Midlands</td>\n",
       "      <td>2019</td>\n",
       "    </tr>\n",
       "    <tr>\n",
       "      <th>11658464</th>\n",
       "      <td>78b4f4a19d3adda3a071c32de5143fc0fa2bcdb3f71ec6...</td>\n",
       "      <td>2019-12</td>\n",
       "      <td>West Midlands Police</td>\n",
       "      <td>Violence and sexual offences</td>\n",
       "      <td>No suspect identified</td>\n",
       "      <td>West Midlands</td>\n",
       "      <td>2019</td>\n",
       "    </tr>\n",
       "    <tr>\n",
       "      <th>11658465</th>\n",
       "      <td>54b927d76c63097c6edfa0564015aeda61e366374b16f6...</td>\n",
       "      <td>2019-12</td>\n",
       "      <td>West Midlands Police</td>\n",
       "      <td>Violence and sexual offences</td>\n",
       "      <td>Unable to prosecute suspect</td>\n",
       "      <td>West Midlands</td>\n",
       "      <td>2019</td>\n",
       "    </tr>\n",
       "    <tr>\n",
       "      <th>11658466</th>\n",
       "      <td>d015ded62a99d9236e1a42fb4b49e055d9d6086f8bdf15...</td>\n",
       "      <td>2019-12</td>\n",
       "      <td>West Midlands Police</td>\n",
       "      <td>Criminal damage and arson</td>\n",
       "      <td>No suspect identified</td>\n",
       "      <td>West Midlands</td>\n",
       "      <td>2019</td>\n",
       "    </tr>\n",
       "  </tbody>\n",
       "</table>\n",
       "<p>10340192 rows × 7 columns</p>\n",
       "</div>"
      ],
      "text/plain": [
       "                                                   Crime_ID    Month  \\\n",
       "0         9500972e2e3c87dc23b65885dd61085ee8a39329c03792...  2017-01   \n",
       "1         4c3b7072a3bfcf441b1036e67fd642cf1e42fdccf16af1...  2017-01   \n",
       "2         8e6ae250f68623b82068cd3c79b64b05a559f6d9c9393c...  2017-01   \n",
       "3         0f5c81322cd60d96ef8877d94eb37e98cad395d1773efc...  2017-01   \n",
       "4         b46b395f390b0dc9112686c30d0939f0ded0de42877df7...  2017-01   \n",
       "...                                                     ...      ...   \n",
       "11658462  b90c8dd50029069a330a401a59805ddb6042b94be8d83f...  2019-12   \n",
       "11658463  9417957f2a0091077593cd99efd6a53859967bceef5862...  2019-12   \n",
       "11658464  78b4f4a19d3adda3a071c32de5143fc0fa2bcdb3f71ec6...  2019-12   \n",
       "11658465  54b927d76c63097c6edfa0564015aeda61e366374b16f6...  2019-12   \n",
       "11658466  d015ded62a99d9236e1a42fb4b49e055d9d6086f8bdf15...  2019-12   \n",
       "\n",
       "                             Reported_by                    Crime_type  \\\n",
       "0         Avon and Somerset Constabulary                Theft offences   \n",
       "1         Avon and Somerset Constabulary     Criminal damage and arson   \n",
       "2         Avon and Somerset Constabulary     Criminal damage and arson   \n",
       "3         Avon and Somerset Constabulary  Violence and sexual offences   \n",
       "4         Avon and Somerset Constabulary  Violence and sexual offences   \n",
       "...                                  ...                           ...   \n",
       "11658462            West Midlands Police  Violence and sexual offences   \n",
       "11658463            West Midlands Police  Violence and sexual offences   \n",
       "11658464            West Midlands Police  Violence and sexual offences   \n",
       "11658465            West Midlands Police  Violence and sexual offences   \n",
       "11658466            West Midlands Police     Criminal damage and arson   \n",
       "\n",
       "                         Outcome_type         Region  Year  \n",
       "0                       Other Outcome     South West  2017  \n",
       "1               No suspect identified     South West  2017  \n",
       "2               No suspect identified     South West  2017  \n",
       "3               No suspect identified     South West  2017  \n",
       "4               No suspect identified     South West  2017  \n",
       "...                               ...            ...   ...  \n",
       "11658462  Unable to prosecute suspect  West Midlands  2019  \n",
       "11658463              Suspect charged  West Midlands  2019  \n",
       "11658464        No suspect identified  West Midlands  2019  \n",
       "11658465  Unable to prosecute suspect  West Midlands  2019  \n",
       "11658466        No suspect identified  West Midlands  2019  \n",
       "\n",
       "[10340192 rows x 7 columns]"
      ]
     },
     "execution_count": 44,
     "metadata": {},
     "output_type": "execute_result"
    }
   ],
   "source": [
    "full"
   ]
  },
  {
   "cell_type": "code",
   "execution_count": 36,
   "id": "769ce8a4",
   "metadata": {},
   "outputs": [],
   "source": [
    "#full['Level_of_Lockdown'] = full.Month.apply(lambda x: 'No Lockdown' if x in ['2019-01','2019-02','2019-03'] else ('High' if x in \n",
    "                                #['2020-01','2020-02','2020-03'] else ('Medium' if x in ['2021-01','2021-02','2021-03'] else 'butts')))"
   ]
  },
  {
   "cell_type": "code",
   "execution_count": null,
   "id": "38a02d71",
   "metadata": {},
   "outputs": [],
   "source": [
    "#full['Level_of_Lockdown'].value_counts()"
   ]
  },
  {
   "cell_type": "code",
   "execution_count": 45,
   "id": "64b2d1f7",
   "metadata": {},
   "outputs": [],
   "source": [
    "full.to_csv('Everything_NonCovid.csv')"
   ]
  }
 ],
 "metadata": {
  "kernelspec": {
   "display_name": "Python 3",
   "language": "python",
   "name": "python3"
  },
  "language_info": {
   "codemirror_mode": {
    "name": "ipython",
    "version": 3
   },
   "file_extension": ".py",
   "mimetype": "text/x-python",
   "name": "python",
   "nbconvert_exporter": "python",
   "pygments_lexer": "ipython3",
   "version": "3.8.8"
  }
 },
 "nbformat": 4,
 "nbformat_minor": 5
}
