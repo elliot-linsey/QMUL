{
 "cells": [
  {
   "cell_type": "code",
   "execution_count": 1,
   "id": "dcdee1c5",
   "metadata": {},
   "outputs": [],
   "source": [
    "import pandas as pd"
   ]
  },
  {
   "cell_type": "code",
   "execution_count": 4,
   "id": "d436fa3b",
   "metadata": {},
   "outputs": [],
   "source": [
    "src_folder = r\"D:\\EOY Datasets\\Full Datasets\\Everything.csv\""
   ]
  },
  {
   "cell_type": "code",
   "execution_count": 8,
   "id": "9ae4b8ee",
   "metadata": {},
   "outputs": [
    {
     "name": "stderr",
     "output_type": "stream",
     "text": [
      "C:\\Users\\ellio\\anaconda3\\lib\\site-packages\\numpy\\lib\\arraysetops.py:583: FutureWarning: elementwise comparison failed; returning scalar instead, but in the future will perform elementwise comparison\n",
      "  mask |= (ar1 == a)\n"
     ]
    }
   ],
   "source": [
    "df = pd.read_csv(src_folder,index_col=0)"
   ]
  },
  {
   "cell_type": "code",
   "execution_count": 9,
   "id": "3e52f9a7",
   "metadata": {},
   "outputs": [
    {
     "data": {
      "text/html": [
       "<div>\n",
       "<style scoped>\n",
       "    .dataframe tbody tr th:only-of-type {\n",
       "        vertical-align: middle;\n",
       "    }\n",
       "\n",
       "    .dataframe tbody tr th {\n",
       "        vertical-align: top;\n",
       "    }\n",
       "\n",
       "    .dataframe thead th {\n",
       "        text-align: right;\n",
       "    }\n",
       "</style>\n",
       "<table border=\"1\" class=\"dataframe\">\n",
       "  <thead>\n",
       "    <tr style=\"text-align: right;\">\n",
       "      <th></th>\n",
       "      <th>Crime ID</th>\n",
       "      <th>Month</th>\n",
       "      <th>Reported by</th>\n",
       "      <th>Crime type</th>\n",
       "      <th>Outcome type</th>\n",
       "    </tr>\n",
       "  </thead>\n",
       "  <tbody>\n",
       "    <tr>\n",
       "      <th>0</th>\n",
       "      <td>e9a50727f2189e0c50f704e3661bc1a8ae3a39aece4866...</td>\n",
       "      <td>2019-01</td>\n",
       "      <td>Avon and Somerset Constabulary</td>\n",
       "      <td>Violence and sexual offences</td>\n",
       "      <td>Investigation complete; no suspect identified</td>\n",
       "    </tr>\n",
       "    <tr>\n",
       "      <th>1</th>\n",
       "      <td>fb06f54e9d633a961109ef74171e4beb40b2fe44e57a10...</td>\n",
       "      <td>2019-01</td>\n",
       "      <td>Avon and Somerset Constabulary</td>\n",
       "      <td>Violence and sexual offences</td>\n",
       "      <td>Unable to prosecute suspect</td>\n",
       "    </tr>\n",
       "    <tr>\n",
       "      <th>2</th>\n",
       "      <td>4655ba031d5c8d00b247577a22472fbb8f9130d98b7d95...</td>\n",
       "      <td>2019-01</td>\n",
       "      <td>Avon and Somerset Constabulary</td>\n",
       "      <td>Violence and sexual offences</td>\n",
       "      <td>Investigation complete; no suspect identified</td>\n",
       "    </tr>\n",
       "    <tr>\n",
       "      <th>3</th>\n",
       "      <td>ec8d35d29e7da82943ab680573da85feb9f316ffa69d92...</td>\n",
       "      <td>2019-01</td>\n",
       "      <td>Avon and Somerset Constabulary</td>\n",
       "      <td>Other crime</td>\n",
       "      <td>Investigation complete; no suspect identified</td>\n",
       "    </tr>\n",
       "    <tr>\n",
       "      <th>4</th>\n",
       "      <td>2830f28a4a93138717182d1cc51b6d77cfaf3c27398934...</td>\n",
       "      <td>2019-01</td>\n",
       "      <td>Avon and Somerset Constabulary</td>\n",
       "      <td>Burglary</td>\n",
       "      <td>Investigation complete; no suspect identified</td>\n",
       "    </tr>\n",
       "    <tr>\n",
       "      <th>...</th>\n",
       "      <td>...</td>\n",
       "      <td>...</td>\n",
       "      <td>...</td>\n",
       "      <td>...</td>\n",
       "      <td>...</td>\n",
       "    </tr>\n",
       "    <tr>\n",
       "      <th>11424442</th>\n",
       "      <td>ec0357d8210b3df52277002d3a0f5967bf78d26d572583...</td>\n",
       "      <td>2021-12</td>\n",
       "      <td>Wiltshire Police</td>\n",
       "      <td>Shoplifting</td>\n",
       "      <td>Investigation complete; no suspect identified</td>\n",
       "    </tr>\n",
       "    <tr>\n",
       "      <th>11424443</th>\n",
       "      <td>8af4abefb399d3a2c1c71eec2045f3d4f9898c2ba97001...</td>\n",
       "      <td>2021-12</td>\n",
       "      <td>Wiltshire Police</td>\n",
       "      <td>Shoplifting</td>\n",
       "      <td>Investigation complete; no suspect identified</td>\n",
       "    </tr>\n",
       "    <tr>\n",
       "      <th>11424444</th>\n",
       "      <td>c841195e16630555c41673ed9297003fed3330aedf51d6...</td>\n",
       "      <td>2021-12</td>\n",
       "      <td>Wiltshire Police</td>\n",
       "      <td>Shoplifting</td>\n",
       "      <td>Investigation complete; no suspect identified</td>\n",
       "    </tr>\n",
       "    <tr>\n",
       "      <th>11424445</th>\n",
       "      <td>d72213b3d95321a2759fa9319324a861a67fc982ff4bed...</td>\n",
       "      <td>2021-12</td>\n",
       "      <td>Wiltshire Police</td>\n",
       "      <td>Vehicle crime</td>\n",
       "      <td>Investigation complete; no suspect identified</td>\n",
       "    </tr>\n",
       "    <tr>\n",
       "      <th>11424446</th>\n",
       "      <td>4825a1d454fe10c84bacb9152c4980b4bc4f3ec5731373...</td>\n",
       "      <td>2021-12</td>\n",
       "      <td>Wiltshire Police</td>\n",
       "      <td>Vehicle crime</td>\n",
       "      <td>Investigation complete; no suspect identified</td>\n",
       "    </tr>\n",
       "  </tbody>\n",
       "</table>\n",
       "<p>11424447 rows × 5 columns</p>\n",
       "</div>"
      ],
      "text/plain": [
       "                                                   Crime ID    Month  \\\n",
       "0         e9a50727f2189e0c50f704e3661bc1a8ae3a39aece4866...  2019-01   \n",
       "1         fb06f54e9d633a961109ef74171e4beb40b2fe44e57a10...  2019-01   \n",
       "2         4655ba031d5c8d00b247577a22472fbb8f9130d98b7d95...  2019-01   \n",
       "3         ec8d35d29e7da82943ab680573da85feb9f316ffa69d92...  2019-01   \n",
       "4         2830f28a4a93138717182d1cc51b6d77cfaf3c27398934...  2019-01   \n",
       "...                                                     ...      ...   \n",
       "11424442  ec0357d8210b3df52277002d3a0f5967bf78d26d572583...  2021-12   \n",
       "11424443  8af4abefb399d3a2c1c71eec2045f3d4f9898c2ba97001...  2021-12   \n",
       "11424444  c841195e16630555c41673ed9297003fed3330aedf51d6...  2021-12   \n",
       "11424445  d72213b3d95321a2759fa9319324a861a67fc982ff4bed...  2021-12   \n",
       "11424446  4825a1d454fe10c84bacb9152c4980b4bc4f3ec5731373...  2021-12   \n",
       "\n",
       "                             Reported by                    Crime type  \\\n",
       "0         Avon and Somerset Constabulary  Violence and sexual offences   \n",
       "1         Avon and Somerset Constabulary  Violence and sexual offences   \n",
       "2         Avon and Somerset Constabulary  Violence and sexual offences   \n",
       "3         Avon and Somerset Constabulary                   Other crime   \n",
       "4         Avon and Somerset Constabulary                      Burglary   \n",
       "...                                  ...                           ...   \n",
       "11424442                Wiltshire Police                   Shoplifting   \n",
       "11424443                Wiltshire Police                   Shoplifting   \n",
       "11424444                Wiltshire Police                   Shoplifting   \n",
       "11424445                Wiltshire Police                 Vehicle crime   \n",
       "11424446                Wiltshire Police                 Vehicle crime   \n",
       "\n",
       "                                           Outcome type  \n",
       "0         Investigation complete; no suspect identified  \n",
       "1                           Unable to prosecute suspect  \n",
       "2         Investigation complete; no suspect identified  \n",
       "3         Investigation complete; no suspect identified  \n",
       "4         Investigation complete; no suspect identified  \n",
       "...                                                 ...  \n",
       "11424442  Investigation complete; no suspect identified  \n",
       "11424443  Investigation complete; no suspect identified  \n",
       "11424444  Investigation complete; no suspect identified  \n",
       "11424445  Investigation complete; no suspect identified  \n",
       "11424446  Investigation complete; no suspect identified  \n",
       "\n",
       "[11424447 rows x 5 columns]"
      ]
     },
     "execution_count": 9,
     "metadata": {},
     "output_type": "execute_result"
    }
   ],
   "source": [
    "df"
   ]
  },
  {
   "cell_type": "code",
   "execution_count": 11,
   "id": "d7103cf8",
   "metadata": {},
   "outputs": [],
   "source": [
    "df['Year'] = df.Month.apply(lambda x: '2019' if x in ['2019-01','2019-02','2019-03','2019-04','2019-05','2019-06'\n",
    "                                                     ,'2019-07','2019-08','2019-09','2019-10','2019-11','2019-12'] else ('2020' if x in \n",
    "                                ['2020-01','2020-02','2020-03','2020-04','2020-05','2020-06'\n",
    "                                                     ,'2020-07','2020-08','2020-09','2020-10','2020-11','2020-12'] else ('2021' if x in ['2021-01','2021-02','2021-03','2021-04','2021-05','2021-06'\n",
    "                                                     ,'2021-07','2021-08','2021-09','2021-10','2021-11','2021-12'] else 'butts')))"
   ]
  },
  {
   "cell_type": "code",
   "execution_count": 12,
   "id": "153064ee",
   "metadata": {},
   "outputs": [
    {
     "data": {
      "text/plain": [
       "2019    4011046\n",
       "2020    4008797\n",
       "2021    3404604\n",
       "Name: Year, dtype: int64"
      ]
     },
     "execution_count": 12,
     "metadata": {},
     "output_type": "execute_result"
    }
   ],
   "source": [
    "df.Year.value_counts()"
   ]
  },
  {
   "cell_type": "code",
   "execution_count": 13,
   "id": "08df9bde",
   "metadata": {},
   "outputs": [],
   "source": [
    "df['Level_of_Lockdown'] = df.Year.apply(lambda x: 'No Lockdown' if x == '2019' else 'High' if x == '2020' else 'Medium' if x == '2021' else 'butts')"
   ]
  },
  {
   "cell_type": "code",
   "execution_count": 14,
   "id": "07099b4b",
   "metadata": {},
   "outputs": [
    {
     "data": {
      "text/plain": [
       "No Lockdown    4011046\n",
       "High           4008797\n",
       "Medium         3404604\n",
       "Name: Level_of_Lockdown, dtype: int64"
      ]
     },
     "execution_count": 14,
     "metadata": {},
     "output_type": "execute_result"
    }
   ],
   "source": [
    "df['Level_of_Lockdown'].value_counts()"
   ]
  },
  {
   "cell_type": "code",
   "execution_count": 16,
   "id": "fd07a08d",
   "metadata": {},
   "outputs": [],
   "source": [
    "df['Crime type'] = df['Crime type'].apply(lambda x: 'Theft offences' if x in \n",
    "                                              ['Other theft', 'Burglary', 'Shoplifting','Theft from the person','Robbery',\n",
    "                                              'Bicycle theft'] else x)"
   ]
  },
  {
   "cell_type": "code",
   "execution_count": 19,
   "id": "9dd75161",
   "metadata": {},
   "outputs": [],
   "source": [
    "df = df[df['Crime type']!='Vehicle crime'].copy()"
   ]
  },
  {
   "cell_type": "code",
   "execution_count": 20,
   "id": "c0820a47",
   "metadata": {},
   "outputs": [],
   "source": [
    "df['Crime type'] = df['Crime type'].apply(lambda x: 'Public order offences' if x=='Public order' else x)"
   ]
  },
  {
   "cell_type": "code",
   "execution_count": 22,
   "id": "b48aedcd",
   "metadata": {},
   "outputs": [],
   "source": [
    "df = df[df['Crime type']!='Other crime']\n",
    "df = df[df['Crime type']!='Possession of weapons']"
   ]
  },
  {
   "cell_type": "code",
   "execution_count": 23,
   "id": "f240dbaa",
   "metadata": {},
   "outputs": [],
   "source": [
    "df['Crime type'] = df['Crime type'].apply(lambda x: 'Drug offences' if x=='Drugs' else x)"
   ]
  },
  {
   "cell_type": "code",
   "execution_count": 24,
   "id": "2032f5a3",
   "metadata": {},
   "outputs": [
    {
     "data": {
      "text/plain": [
       "Violence and sexual offences    4553047\n",
       "Theft offences                  2848076\n",
       "Criminal damage and arson       1248556\n",
       "Public order offences           1120457\n",
       "Drug offences                    440597\n",
       "Name: Crime type, dtype: int64"
      ]
     },
     "execution_count": 24,
     "metadata": {},
     "output_type": "execute_result"
    }
   ],
   "source": [
    "df['Crime type'].value_counts()"
   ]
  },
  {
   "cell_type": "code",
   "execution_count": 25,
   "id": "55b18057",
   "metadata": {},
   "outputs": [],
   "source": [
    "df['Outcome type'] = df['Outcome type'].apply(lambda x: 'No suspect identified' if x=='Investigation complete; no suspect identified'\n",
    "                                                  else ('Unable to prosecute suspect' if x == 'Unable to prosecute suspect' else ('Suspect charged' if x == 'Suspect charged'\n",
    "                                                 else 'Other Outcome')))"
   ]
  },
  {
   "cell_type": "code",
   "execution_count": 26,
   "id": "fd9a837d",
   "metadata": {},
   "outputs": [
    {
     "data": {
      "text/plain": [
       "No suspect identified          4335683\n",
       "Unable to prosecute suspect    4136664\n",
       "Other Outcome                   913747\n",
       "Suspect charged                 824639\n",
       "Name: Outcome type, dtype: int64"
      ]
     },
     "execution_count": 26,
     "metadata": {},
     "output_type": "execute_result"
    }
   ],
   "source": [
    "df['Outcome type'].value_counts()"
   ]
  },
  {
   "cell_type": "code",
   "execution_count": 120,
   "id": "82266acc",
   "metadata": {},
   "outputs": [],
   "source": [
    "south_east = ['Essex','Kent','City of London','Metropolitan','Hertfordshire',\n",
    "                'Bedfordshire','Surrey','Hampshire','Thames Valley','Sussex']\n",
    "south_west = ['Devon & Cornwall', 'Dorset', 'Avon and Somerset', 'Wiltshire', 'Gloucestershire','Gwent', \n",
    "              'South Wales', 'Dyfed-Powys', 'West Mercia', 'North Wales']\n",
    "west_midlands = ['warwickshire','west midlands','staffordshire','derbyshire','cheshire',\n",
    "                 'greater manchester','merseyside','lancashire']\n",
    "east_midlands = ['suffolk','cambridgeshire','norfolk','northamptonshire','leicestershire',\n",
    "                 'lincolnshire','nottinghamshire','south yorkshire','humberside','west yorkshire']\n",
    "north = ['north yorkshire','durham','northumbria','cumbria','cleveland']"
   ]
  },
  {
   "cell_type": "code",
   "execution_count": 121,
   "id": "d2f7590d",
   "metadata": {},
   "outputs": [],
   "source": [
    "west_midlands = [singer.title() for singer in west_midlands]\n",
    "east_midlands = [singer.title() for singer in east_midlands]\n",
    "north = [singer.title() for singer in north]"
   ]
  },
  {
   "cell_type": "code",
   "execution_count": 122,
   "id": "98d2dd81",
   "metadata": {},
   "outputs": [
    {
     "data": {
      "text/plain": [
       "['Devon & Cornwall',\n",
       " 'Dorset',\n",
       " 'Avon and Somerset',\n",
       " 'Wiltshire',\n",
       " 'Gloucestershire',\n",
       " 'Gwent',\n",
       " 'South Wales',\n",
       " 'Dyfed-Powys',\n",
       " 'West Mercia',\n",
       " 'North Wales']"
      ]
     },
     "execution_count": 122,
     "metadata": {},
     "output_type": "execute_result"
    }
   ],
   "source": [
    "south_west"
   ]
  },
  {
   "cell_type": "code",
   "execution_count": 30,
   "id": "b09ba837",
   "metadata": {},
   "outputs": [],
   "source": [
    "df['Reported by'] = df['Reported by'].str.replace('Service','',regex=True)\n",
    "df['Reported by'] = df['Reported by'].str.replace('Police','',regex=True)\n",
    "df['Reported by'] = df['Reported by'].str.replace('Constabulary','',regex=True)"
   ]
  },
  {
   "cell_type": "code",
   "execution_count": 113,
   "id": "ad885e4e",
   "metadata": {},
   "outputs": [],
   "source": [
    "df['Reported by'] = df['Reported by'].str.strip()"
   ]
  },
  {
   "cell_type": "code",
   "execution_count": 56,
   "id": "197352ab",
   "metadata": {
    "scrolled": true
   },
   "outputs": [
    {
     "data": {
      "text/plain": [
       "Metropolitan           1170416\n",
       "West Yorkshire          707495\n",
       "West Midlands           514291\n",
       "Kent                    434018\n",
       "Essex                   399740\n",
       "Thames Valley           386061\n",
       "Merseyside              372852\n",
       "South Yorkshire         333929\n",
       "Hampshire               331849\n",
       "Lancashire              293021\n",
       "Sussex                  284230\n",
       "South Wales             271537\n",
       "Nottinghamshire         250274\n",
       "Northumbria             231146\n",
       "Humberside              223868\n",
       "Leicestershire          218922\n",
       "Devon & Cornwall        216169\n",
       "West Mercia             212595\n",
       "Cheshire                211163\n",
       "Derbyshire              193984\n",
       "Cleveland               179887\n",
       "Staffordshire           179857\n",
       "Avon and Somerset       179705\n",
       "Hertfordshire           179230\n",
       "Surrey                  172358\n",
       "Norfolk                 169629\n",
       "Cambridgeshire          165527\n",
       "Northamptonshire        154576\n",
       "Durham                  153553\n",
       "North Wales             137016\n",
       "Suffolk                 136226\n",
       "Dorset                  129474\n",
       "Lincolnshire            124153\n",
       "Greater Manchester      121651\n",
       "Bedfordshire            117816\n",
       "North Yorkshire         110885\n",
       "Gloucestershire         101282\n",
       "Warwickshire             97831\n",
       "Wiltshire                96609\n",
       "Cumbria                  95393\n",
       "Gwent                    82114\n",
       "Dyfed-Powys              54613\n",
       "City of London           13788\n",
       "Name: Reported by, dtype: int64"
      ]
     },
     "execution_count": 56,
     "metadata": {},
     "output_type": "execute_result"
    }
   ],
   "source": [
    "df['Reported by'].value_counts()"
   ]
  },
  {
   "cell_type": "code",
   "execution_count": null,
   "id": "562a353d",
   "metadata": {},
   "outputs": [],
   "source": [
    "df[df[]]"
   ]
  },
  {
   "cell_type": "code",
   "execution_count": 123,
   "id": "e9d3fbbe",
   "metadata": {},
   "outputs": [],
   "source": [
    "df['Region'] = df['Reported by'].apply(lambda x: 'South East' if x in south_east else 'South West' if x in south_west else 'West Midlands'\n",
    "                                      if x in west_midlands else 'East Midlands' if x in east_midlands else 'North' if x in north else 'butts')\n"
   ]
  },
  {
   "cell_type": "code",
   "execution_count": 124,
   "id": "cb9bf7ab",
   "metadata": {},
   "outputs": [
    {
     "data": {
      "text/plain": [
       "South East       3489506\n",
       "East Midlands    2484599\n",
       "West Midlands    1984650\n",
       "South West       1481114\n",
       "North             770864\n",
       "Name: Region, dtype: int64"
      ]
     },
     "execution_count": 124,
     "metadata": {},
     "output_type": "execute_result"
    }
   ],
   "source": [
    "df.Region.value_counts()"
   ]
  },
  {
   "cell_type": "code",
   "execution_count": 125,
   "id": "48c0d3b6",
   "metadata": {},
   "outputs": [
    {
     "data": {
      "text/html": [
       "<div>\n",
       "<style scoped>\n",
       "    .dataframe tbody tr th:only-of-type {\n",
       "        vertical-align: middle;\n",
       "    }\n",
       "\n",
       "    .dataframe tbody tr th {\n",
       "        vertical-align: top;\n",
       "    }\n",
       "\n",
       "    .dataframe thead th {\n",
       "        text-align: right;\n",
       "    }\n",
       "</style>\n",
       "<table border=\"1\" class=\"dataframe\">\n",
       "  <thead>\n",
       "    <tr style=\"text-align: right;\">\n",
       "      <th></th>\n",
       "      <th>Crime ID</th>\n",
       "      <th>Month</th>\n",
       "      <th>Reported by</th>\n",
       "      <th>Crime type</th>\n",
       "      <th>Outcome type</th>\n",
       "      <th>Year</th>\n",
       "      <th>Level_of_Lockdown</th>\n",
       "      <th>Region</th>\n",
       "    </tr>\n",
       "  </thead>\n",
       "  <tbody>\n",
       "    <tr>\n",
       "      <th>0</th>\n",
       "      <td>e9a50727f2189e0c50f704e3661bc1a8ae3a39aece4866...</td>\n",
       "      <td>2019-01</td>\n",
       "      <td>Avon and Somerset</td>\n",
       "      <td>Violence and sexual offences</td>\n",
       "      <td>No suspect identified</td>\n",
       "      <td>2019</td>\n",
       "      <td>No Lockdown</td>\n",
       "      <td>South West</td>\n",
       "    </tr>\n",
       "    <tr>\n",
       "      <th>1</th>\n",
       "      <td>fb06f54e9d633a961109ef74171e4beb40b2fe44e57a10...</td>\n",
       "      <td>2019-01</td>\n",
       "      <td>Avon and Somerset</td>\n",
       "      <td>Violence and sexual offences</td>\n",
       "      <td>Unable to prosecute suspect</td>\n",
       "      <td>2019</td>\n",
       "      <td>No Lockdown</td>\n",
       "      <td>South West</td>\n",
       "    </tr>\n",
       "    <tr>\n",
       "      <th>2</th>\n",
       "      <td>4655ba031d5c8d00b247577a22472fbb8f9130d98b7d95...</td>\n",
       "      <td>2019-01</td>\n",
       "      <td>Avon and Somerset</td>\n",
       "      <td>Violence and sexual offences</td>\n",
       "      <td>No suspect identified</td>\n",
       "      <td>2019</td>\n",
       "      <td>No Lockdown</td>\n",
       "      <td>South West</td>\n",
       "    </tr>\n",
       "    <tr>\n",
       "      <th>4</th>\n",
       "      <td>2830f28a4a93138717182d1cc51b6d77cfaf3c27398934...</td>\n",
       "      <td>2019-01</td>\n",
       "      <td>Avon and Somerset</td>\n",
       "      <td>Theft offences</td>\n",
       "      <td>No suspect identified</td>\n",
       "      <td>2019</td>\n",
       "      <td>No Lockdown</td>\n",
       "      <td>South West</td>\n",
       "    </tr>\n",
       "    <tr>\n",
       "      <th>5</th>\n",
       "      <td>ca01d599d45f6e1d1bc5b05ddc6a1b559870fc831baa8e...</td>\n",
       "      <td>2019-01</td>\n",
       "      <td>Avon and Somerset</td>\n",
       "      <td>Theft offences</td>\n",
       "      <td>No suspect identified</td>\n",
       "      <td>2019</td>\n",
       "      <td>No Lockdown</td>\n",
       "      <td>South West</td>\n",
       "    </tr>\n",
       "    <tr>\n",
       "      <th>...</th>\n",
       "      <td>...</td>\n",
       "      <td>...</td>\n",
       "      <td>...</td>\n",
       "      <td>...</td>\n",
       "      <td>...</td>\n",
       "      <td>...</td>\n",
       "      <td>...</td>\n",
       "      <td>...</td>\n",
       "    </tr>\n",
       "    <tr>\n",
       "      <th>11424440</th>\n",
       "      <td>b81d4240a922e62a8ab5c7563e890f53503bbd9a72d30f...</td>\n",
       "      <td>2021-12</td>\n",
       "      <td>Wiltshire</td>\n",
       "      <td>Theft offences</td>\n",
       "      <td>No suspect identified</td>\n",
       "      <td>2021</td>\n",
       "      <td>Medium</td>\n",
       "      <td>South West</td>\n",
       "    </tr>\n",
       "    <tr>\n",
       "      <th>11424441</th>\n",
       "      <td>8936ed88bc946d71ea9e1ba7bf545d335aca64a2aad0c2...</td>\n",
       "      <td>2021-12</td>\n",
       "      <td>Wiltshire</td>\n",
       "      <td>Theft offences</td>\n",
       "      <td>No suspect identified</td>\n",
       "      <td>2021</td>\n",
       "      <td>Medium</td>\n",
       "      <td>South West</td>\n",
       "    </tr>\n",
       "    <tr>\n",
       "      <th>11424442</th>\n",
       "      <td>ec0357d8210b3df52277002d3a0f5967bf78d26d572583...</td>\n",
       "      <td>2021-12</td>\n",
       "      <td>Wiltshire</td>\n",
       "      <td>Theft offences</td>\n",
       "      <td>No suspect identified</td>\n",
       "      <td>2021</td>\n",
       "      <td>Medium</td>\n",
       "      <td>South West</td>\n",
       "    </tr>\n",
       "    <tr>\n",
       "      <th>11424443</th>\n",
       "      <td>8af4abefb399d3a2c1c71eec2045f3d4f9898c2ba97001...</td>\n",
       "      <td>2021-12</td>\n",
       "      <td>Wiltshire</td>\n",
       "      <td>Theft offences</td>\n",
       "      <td>No suspect identified</td>\n",
       "      <td>2021</td>\n",
       "      <td>Medium</td>\n",
       "      <td>South West</td>\n",
       "    </tr>\n",
       "    <tr>\n",
       "      <th>11424444</th>\n",
       "      <td>c841195e16630555c41673ed9297003fed3330aedf51d6...</td>\n",
       "      <td>2021-12</td>\n",
       "      <td>Wiltshire</td>\n",
       "      <td>Theft offences</td>\n",
       "      <td>No suspect identified</td>\n",
       "      <td>2021</td>\n",
       "      <td>Medium</td>\n",
       "      <td>South West</td>\n",
       "    </tr>\n",
       "  </tbody>\n",
       "</table>\n",
       "<p>10210733 rows × 8 columns</p>\n",
       "</div>"
      ],
      "text/plain": [
       "                                                   Crime ID    Month  \\\n",
       "0         e9a50727f2189e0c50f704e3661bc1a8ae3a39aece4866...  2019-01   \n",
       "1         fb06f54e9d633a961109ef74171e4beb40b2fe44e57a10...  2019-01   \n",
       "2         4655ba031d5c8d00b247577a22472fbb8f9130d98b7d95...  2019-01   \n",
       "4         2830f28a4a93138717182d1cc51b6d77cfaf3c27398934...  2019-01   \n",
       "5         ca01d599d45f6e1d1bc5b05ddc6a1b559870fc831baa8e...  2019-01   \n",
       "...                                                     ...      ...   \n",
       "11424440  b81d4240a922e62a8ab5c7563e890f53503bbd9a72d30f...  2021-12   \n",
       "11424441  8936ed88bc946d71ea9e1ba7bf545d335aca64a2aad0c2...  2021-12   \n",
       "11424442  ec0357d8210b3df52277002d3a0f5967bf78d26d572583...  2021-12   \n",
       "11424443  8af4abefb399d3a2c1c71eec2045f3d4f9898c2ba97001...  2021-12   \n",
       "11424444  c841195e16630555c41673ed9297003fed3330aedf51d6...  2021-12   \n",
       "\n",
       "                Reported by                    Crime type  \\\n",
       "0         Avon and Somerset  Violence and sexual offences   \n",
       "1         Avon and Somerset  Violence and sexual offences   \n",
       "2         Avon and Somerset  Violence and sexual offences   \n",
       "4         Avon and Somerset                Theft offences   \n",
       "5         Avon and Somerset                Theft offences   \n",
       "...                     ...                           ...   \n",
       "11424440          Wiltshire                Theft offences   \n",
       "11424441          Wiltshire                Theft offences   \n",
       "11424442          Wiltshire                Theft offences   \n",
       "11424443          Wiltshire                Theft offences   \n",
       "11424444          Wiltshire                Theft offences   \n",
       "\n",
       "                         Outcome type  Year Level_of_Lockdown      Region  \n",
       "0               No suspect identified  2019       No Lockdown  South West  \n",
       "1         Unable to prosecute suspect  2019       No Lockdown  South West  \n",
       "2               No suspect identified  2019       No Lockdown  South West  \n",
       "4               No suspect identified  2019       No Lockdown  South West  \n",
       "5               No suspect identified  2019       No Lockdown  South West  \n",
       "...                               ...   ...               ...         ...  \n",
       "11424440        No suspect identified  2021            Medium  South West  \n",
       "11424441        No suspect identified  2021            Medium  South West  \n",
       "11424442        No suspect identified  2021            Medium  South West  \n",
       "11424443        No suspect identified  2021            Medium  South West  \n",
       "11424444        No suspect identified  2021            Medium  South West  \n",
       "\n",
       "[10210733 rows x 8 columns]"
      ]
     },
     "execution_count": 125,
     "metadata": {},
     "output_type": "execute_result"
    }
   ],
   "source": [
    "df"
   ]
  },
  {
   "cell_type": "code",
   "execution_count": 126,
   "id": "928a5aac",
   "metadata": {},
   "outputs": [],
   "source": [
    "#df.to_csv('Everything_cleaned.csv')"
   ]
  }
 ],
 "metadata": {
  "kernelspec": {
   "display_name": "Python 3",
   "language": "python",
   "name": "python3"
  },
  "language_info": {
   "codemirror_mode": {
    "name": "ipython",
    "version": 3
   },
   "file_extension": ".py",
   "mimetype": "text/x-python",
   "name": "python",
   "nbconvert_exporter": "python",
   "pygments_lexer": "ipython3",
   "version": "3.8.8"
  }
 },
 "nbformat": 4,
 "nbformat_minor": 5
}
