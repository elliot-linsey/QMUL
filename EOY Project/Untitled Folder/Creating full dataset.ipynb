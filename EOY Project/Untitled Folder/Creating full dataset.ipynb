{
 "cells": [
  {
   "cell_type": "code",
   "execution_count": 1,
   "id": "725175d5",
   "metadata": {},
   "outputs": [],
   "source": [
    "import pandas as pd"
   ]
  },
  {
   "cell_type": "code",
   "execution_count": 6,
   "id": "fafc117b",
   "metadata": {},
   "outputs": [],
   "source": [
    "south_west = pd.read_csv(r\"D:\\EOY Datasets\\Full Datasets\"+'\\\\'+'South_West_full.csv')\n",
    "south_east = pd.read_csv(r\"D:\\EOY Datasets\\Full Datasets\"+'\\\\'+'South_East_full.csv')\n",
    "north = pd.read_csv(r\"D:\\EOY Datasets\\Full Datasets\"+'\\\\'+'North_full.csv')\n",
    "east_midlands = pd.read_csv(r\"D:\\EOY Datasets\\Full Datasets\"+'\\\\'+'East_Midlands_full.csv')\n",
    "west_midlands = pd.read_csv(r\"D:\\EOY Datasets\\Full Datasets\"+'\\\\'+'West_Midlands_full.csv')"
   ]
  },
  {
   "cell_type": "code",
   "execution_count": 7,
   "id": "a575adc6",
   "metadata": {},
   "outputs": [],
   "source": [
    "south_west['Region'] = 'South West'\n",
    "south_east['Region'] = 'South East'\n",
    "north['Region'] = 'North'\n",
    "east_midlands['Region'] = 'East Midlands'\n",
    "west_midlands['Region'] = 'West Midlands'"
   ]
  },
  {
   "cell_type": "code",
   "execution_count": 11,
   "id": "ab2b05fb",
   "metadata": {},
   "outputs": [],
   "source": [
    "full = pd.concat([south_west,south_east,north,east_midlands,west_midlands])"
   ]
  },
  {
   "cell_type": "code",
   "execution_count": 15,
   "id": "e1fb2ff3",
   "metadata": {},
   "outputs": [
    {
     "data": {
      "text/html": [
       "<div>\n",
       "<style scoped>\n",
       "    .dataframe tbody tr th:only-of-type {\n",
       "        vertical-align: middle;\n",
       "    }\n",
       "\n",
       "    .dataframe tbody tr th {\n",
       "        vertical-align: top;\n",
       "    }\n",
       "\n",
       "    .dataframe thead th {\n",
       "        text-align: right;\n",
       "    }\n",
       "</style>\n",
       "<table border=\"1\" class=\"dataframe\">\n",
       "  <thead>\n",
       "    <tr style=\"text-align: right;\">\n",
       "      <th></th>\n",
       "      <th>Crime ID</th>\n",
       "      <th>Month</th>\n",
       "      <th>Reported by</th>\n",
       "      <th>Crime type</th>\n",
       "      <th>Outcome type</th>\n",
       "      <th>Region</th>\n",
       "    </tr>\n",
       "  </thead>\n",
       "  <tbody>\n",
       "    <tr>\n",
       "      <th>0</th>\n",
       "      <td>e9a50727f2189e0c50f704e3661bc1a8ae3a39aece4866...</td>\n",
       "      <td>2019-01</td>\n",
       "      <td>Avon and Somerset Constabulary</td>\n",
       "      <td>Violence and sexual offences</td>\n",
       "      <td>Investigation complete; no suspect identified</td>\n",
       "      <td>South West</td>\n",
       "    </tr>\n",
       "    <tr>\n",
       "      <th>1</th>\n",
       "      <td>fb06f54e9d633a961109ef74171e4beb40b2fe44e57a10...</td>\n",
       "      <td>2019-01</td>\n",
       "      <td>Avon and Somerset Constabulary</td>\n",
       "      <td>Violence and sexual offences</td>\n",
       "      <td>Unable to prosecute suspect</td>\n",
       "      <td>South West</td>\n",
       "    </tr>\n",
       "    <tr>\n",
       "      <th>2</th>\n",
       "      <td>4655ba031d5c8d00b247577a22472fbb8f9130d98b7d95...</td>\n",
       "      <td>2019-01</td>\n",
       "      <td>Avon and Somerset Constabulary</td>\n",
       "      <td>Violence and sexual offences</td>\n",
       "      <td>Investigation complete; no suspect identified</td>\n",
       "      <td>South West</td>\n",
       "    </tr>\n",
       "    <tr>\n",
       "      <th>3</th>\n",
       "      <td>ec8d35d29e7da82943ab680573da85feb9f316ffa69d92...</td>\n",
       "      <td>2019-01</td>\n",
       "      <td>Avon and Somerset Constabulary</td>\n",
       "      <td>Other crime</td>\n",
       "      <td>Investigation complete; no suspect identified</td>\n",
       "      <td>South West</td>\n",
       "    </tr>\n",
       "    <tr>\n",
       "      <th>4</th>\n",
       "      <td>2830f28a4a93138717182d1cc51b6d77cfaf3c27398934...</td>\n",
       "      <td>2019-01</td>\n",
       "      <td>Avon and Somerset Constabulary</td>\n",
       "      <td>Burglary</td>\n",
       "      <td>Investigation complete; no suspect identified</td>\n",
       "      <td>South West</td>\n",
       "    </tr>\n",
       "    <tr>\n",
       "      <th>...</th>\n",
       "      <td>...</td>\n",
       "      <td>...</td>\n",
       "      <td>...</td>\n",
       "      <td>...</td>\n",
       "      <td>...</td>\n",
       "      <td>...</td>\n",
       "    </tr>\n",
       "    <tr>\n",
       "      <th>2181606</th>\n",
       "      <td>8feb02ee79894edd753a43500092dbf9b5033b54c30aa6...</td>\n",
       "      <td>2021-03</td>\n",
       "      <td>West Midlands Police</td>\n",
       "      <td>Violence and sexual offences</td>\n",
       "      <td>Action to be taken by another organisation</td>\n",
       "      <td>West Midlands</td>\n",
       "    </tr>\n",
       "    <tr>\n",
       "      <th>2181607</th>\n",
       "      <td>053c45821373f2c21feef94f0ac94412255dab9636bda9...</td>\n",
       "      <td>2021-03</td>\n",
       "      <td>West Midlands Police</td>\n",
       "      <td>Violence and sexual offences</td>\n",
       "      <td>Investigation complete; no suspect identified</td>\n",
       "      <td>West Midlands</td>\n",
       "    </tr>\n",
       "    <tr>\n",
       "      <th>2181608</th>\n",
       "      <td>ef6472190f02ffffd39e153f9c1c034cc7eff040850d54...</td>\n",
       "      <td>2021-03</td>\n",
       "      <td>West Midlands Police</td>\n",
       "      <td>Violence and sexual offences</td>\n",
       "      <td>Investigation complete; no suspect identified</td>\n",
       "      <td>West Midlands</td>\n",
       "    </tr>\n",
       "    <tr>\n",
       "      <th>2181609</th>\n",
       "      <td>7aaeeca6259c902671ce53bfb6a4f07cc3d2601fc25ee0...</td>\n",
       "      <td>2021-03</td>\n",
       "      <td>West Midlands Police</td>\n",
       "      <td>Violence and sexual offences</td>\n",
       "      <td>Investigation complete; no suspect identified</td>\n",
       "      <td>West Midlands</td>\n",
       "    </tr>\n",
       "    <tr>\n",
       "      <th>2181610</th>\n",
       "      <td>edc6ee4253ce3ba1c8cd22bcadc5e9936564bcca4207ee...</td>\n",
       "      <td>2021-03</td>\n",
       "      <td>West Midlands Police</td>\n",
       "      <td>Violence and sexual offences</td>\n",
       "      <td>Unable to prosecute suspect</td>\n",
       "      <td>West Midlands</td>\n",
       "    </tr>\n",
       "  </tbody>\n",
       "</table>\n",
       "<p>2181611 rows × 6 columns</p>\n",
       "</div>"
      ],
      "text/plain": [
       "                                                  Crime ID    Month  \\\n",
       "0        e9a50727f2189e0c50f704e3661bc1a8ae3a39aece4866...  2019-01   \n",
       "1        fb06f54e9d633a961109ef74171e4beb40b2fe44e57a10...  2019-01   \n",
       "2        4655ba031d5c8d00b247577a22472fbb8f9130d98b7d95...  2019-01   \n",
       "3        ec8d35d29e7da82943ab680573da85feb9f316ffa69d92...  2019-01   \n",
       "4        2830f28a4a93138717182d1cc51b6d77cfaf3c27398934...  2019-01   \n",
       "...                                                    ...      ...   \n",
       "2181606  8feb02ee79894edd753a43500092dbf9b5033b54c30aa6...  2021-03   \n",
       "2181607  053c45821373f2c21feef94f0ac94412255dab9636bda9...  2021-03   \n",
       "2181608  ef6472190f02ffffd39e153f9c1c034cc7eff040850d54...  2021-03   \n",
       "2181609  7aaeeca6259c902671ce53bfb6a4f07cc3d2601fc25ee0...  2021-03   \n",
       "2181610  edc6ee4253ce3ba1c8cd22bcadc5e9936564bcca4207ee...  2021-03   \n",
       "\n",
       "                            Reported by                    Crime type  \\\n",
       "0        Avon and Somerset Constabulary  Violence and sexual offences   \n",
       "1        Avon and Somerset Constabulary  Violence and sexual offences   \n",
       "2        Avon and Somerset Constabulary  Violence and sexual offences   \n",
       "3        Avon and Somerset Constabulary                   Other crime   \n",
       "4        Avon and Somerset Constabulary                      Burglary   \n",
       "...                                 ...                           ...   \n",
       "2181606            West Midlands Police  Violence and sexual offences   \n",
       "2181607            West Midlands Police  Violence and sexual offences   \n",
       "2181608            West Midlands Police  Violence and sexual offences   \n",
       "2181609            West Midlands Police  Violence and sexual offences   \n",
       "2181610            West Midlands Police  Violence and sexual offences   \n",
       "\n",
       "                                          Outcome type         Region  \n",
       "0        Investigation complete; no suspect identified     South West  \n",
       "1                          Unable to prosecute suspect     South West  \n",
       "2        Investigation complete; no suspect identified     South West  \n",
       "3        Investigation complete; no suspect identified     South West  \n",
       "4        Investigation complete; no suspect identified     South West  \n",
       "...                                                ...            ...  \n",
       "2181606     Action to be taken by another organisation  West Midlands  \n",
       "2181607  Investigation complete; no suspect identified  West Midlands  \n",
       "2181608  Investigation complete; no suspect identified  West Midlands  \n",
       "2181609  Investigation complete; no suspect identified  West Midlands  \n",
       "2181610                    Unable to prosecute suspect  West Midlands  \n",
       "\n",
       "[2181611 rows x 6 columns]"
      ]
     },
     "execution_count": 15,
     "metadata": {},
     "output_type": "execute_result"
    }
   ],
   "source": [
    "full = full.reset_index(drop=True)\n",
    "full = full.drop(columns=['Unnamed: 0'],axis=1)\n",
    "full"
   ]
  },
  {
   "cell_type": "code",
   "execution_count": 16,
   "id": "010a395d",
   "metadata": {},
   "outputs": [
    {
     "data": {
      "text/plain": [
       "array(['Violence and sexual offences', 'Other crime', 'Burglary',\n",
       "       'Other theft', 'Public order', 'Shoplifting',\n",
       "       'Criminal damage and arson', 'Drugs', 'Possession of weapons',\n",
       "       'Theft from the person', 'Vehicle crime', 'Robbery',\n",
       "       'Bicycle theft'], dtype=object)"
      ]
     },
     "execution_count": 16,
     "metadata": {},
     "output_type": "execute_result"
    }
   ],
   "source": [
    "full['Crime type'].unique()"
   ]
  },
  {
   "cell_type": "code",
   "execution_count": 17,
   "id": "5635d293",
   "metadata": {},
   "outputs": [
    {
     "data": {
      "text/plain": [
       "Violence and sexual offences    780478\n",
       "Criminal damage and arson       259307\n",
       "Vehicle crime                   212088\n",
       "Other theft                     201404\n",
       "Public order                    184454\n",
       "Burglary                        161389\n",
       "Shoplifting                     159488\n",
       "Drugs                            79875\n",
       "Other crime                      41071\n",
       "Bicycle theft                    31226\n",
       "Theft from the person            29968\n",
       "Robbery                          23938\n",
       "Possession of weapons            16925\n",
       "Name: Crime type, dtype: int64"
      ]
     },
     "execution_count": 17,
     "metadata": {},
     "output_type": "execute_result"
    }
   ],
   "source": [
    "full['Crime type'].value_counts()"
   ]
  },
  {
   "cell_type": "code",
   "execution_count": 18,
   "id": "8d514d6e",
   "metadata": {},
   "outputs": [],
   "source": [
    "full['Crime type'] = full['Crime type'].apply(lambda x: 'Theft offences' if x in \n",
    "                                              ['Other theft', 'Burglary', 'Shoplifting','Theft from the person','Robbery',\n",
    "                                              'Bicycle theft'] else x)"
   ]
  },
  {
   "cell_type": "code",
   "execution_count": 19,
   "id": "d18ce6b1",
   "metadata": {},
   "outputs": [
    {
     "data": {
      "text/plain": [
       "Violence and sexual offences    780478\n",
       "Theft offences                  607413\n",
       "Criminal damage and arson       259307\n",
       "Vehicle crime                   212088\n",
       "Public order                    184454\n",
       "Drugs                            79875\n",
       "Other crime                      41071\n",
       "Possession of weapons            16925\n",
       "Name: Crime type, dtype: int64"
      ]
     },
     "execution_count": 19,
     "metadata": {},
     "output_type": "execute_result"
    }
   ],
   "source": [
    "full['Crime type'].value_counts()"
   ]
  },
  {
   "cell_type": "code",
   "execution_count": 22,
   "id": "d99f3955",
   "metadata": {},
   "outputs": [],
   "source": [
    "full = full[full['Crime type']!='Vehicle crime']"
   ]
  },
  {
   "cell_type": "code",
   "execution_count": 23,
   "id": "6e48d90d",
   "metadata": {},
   "outputs": [
    {
     "data": {
      "text/plain": [
       "Violence and sexual offences    780478\n",
       "Theft offences                  607413\n",
       "Criminal damage and arson       259307\n",
       "Public order                    184454\n",
       "Drugs                            79875\n",
       "Other crime                      41071\n",
       "Possession of weapons            16925\n",
       "Name: Crime type, dtype: int64"
      ]
     },
     "execution_count": 23,
     "metadata": {},
     "output_type": "execute_result"
    }
   ],
   "source": [
    "full['Crime type'].value_counts()"
   ]
  },
  {
   "cell_type": "code",
   "execution_count": 24,
   "id": "03649356",
   "metadata": {},
   "outputs": [],
   "source": [
    "full['Crime type'] = full['Crime type'].apply(lambda x: 'Public order offences' if x=='Public order' else x)"
   ]
  },
  {
   "cell_type": "code",
   "execution_count": 25,
   "id": "9f085713",
   "metadata": {},
   "outputs": [
    {
     "data": {
      "text/plain": [
       "Violence and sexual offences    780478\n",
       "Theft offences                  607413\n",
       "Criminal damage and arson       259307\n",
       "Public order offences           184454\n",
       "Drugs                            79875\n",
       "Other crime                      41071\n",
       "Possession of weapons            16925\n",
       "Name: Crime type, dtype: int64"
      ]
     },
     "execution_count": 25,
     "metadata": {},
     "output_type": "execute_result"
    }
   ],
   "source": [
    "full['Crime type'].value_counts()"
   ]
  },
  {
   "cell_type": "code",
   "execution_count": 30,
   "id": "84be324c",
   "metadata": {},
   "outputs": [],
   "source": [
    "full = full[full['Crime type']!='Other crime']\n",
    "full = full[full['Crime type']!='Possession of weapons']"
   ]
  },
  {
   "cell_type": "code",
   "execution_count": 32,
   "id": "3471adea",
   "metadata": {},
   "outputs": [],
   "source": [
    "full['Crime type'] = full['Crime type'].apply(lambda x: 'Drug offences' if x=='Drugs' else x)"
   ]
  },
  {
   "cell_type": "code",
   "execution_count": 33,
   "id": "1b9ad86a",
   "metadata": {},
   "outputs": [
    {
     "data": {
      "text/plain": [
       "Violence and sexual offences    780478\n",
       "Theft offences                  607413\n",
       "Criminal damage and arson       259307\n",
       "Public order offences           184454\n",
       "Drug offences                    79875\n",
       "Name: Crime type, dtype: int64"
      ]
     },
     "execution_count": 33,
     "metadata": {},
     "output_type": "execute_result"
    }
   ],
   "source": [
    "full['Crime type'].value_counts()"
   ]
  },
  {
   "cell_type": "code",
   "execution_count": 34,
   "id": "1c11ea02",
   "metadata": {},
   "outputs": [
    {
     "data": {
      "text/plain": [
       "Investigation complete; no suspect identified          917049\n",
       "Unable to prosecute suspect                            697036\n",
       "Suspect charged                                        134939\n",
       "Local resolution                                        53523\n",
       "Action to be taken by another organisation              25013\n",
       "Further investigation is not in the public interest     23178\n",
       "Offender given a caution                                23070\n",
       "Formal action is not in the public interest             13608\n",
       "Offender given a drugs possession warning                9452\n",
       "Offender given penalty notice                            7067\n",
       "Further action is not in the public interest             4009\n",
       "Offender sent to prison                                   962\n",
       "Suspect charged as part of another case                   850\n",
       "Offender given community sentence                         575\n",
       "Offender fined                                            340\n",
       "Offender given suspended prison sentence                  270\n",
       "Offender given conditional discharge                      174\n",
       "Court case unable to proceed                              125\n",
       "Offender otherwise dealt with                              79\n",
       "Defendant found not guilty                                 65\n",
       "Offender ordered to pay compensation                       55\n",
       "Defendant sent to Crown Court                              42\n",
       "Offender deprived of property                              37\n",
       "Offender given absolute discharge                           9\n",
       "Name: Outcome type, dtype: int64"
      ]
     },
     "execution_count": 34,
     "metadata": {},
     "output_type": "execute_result"
    }
   ],
   "source": [
    "full['Outcome type'].value_counts()"
   ]
  },
  {
   "cell_type": "code",
   "execution_count": 37,
   "id": "9fa9e242",
   "metadata": {},
   "outputs": [],
   "source": [
    "full['Outcome type'] = full['Outcome type'].apply(lambda x: 'Investigation complete. No suspect identified' if x=='Investigation complete; no suspect identified'\n",
    "                                                  else ('Unable to prosecute suspect' if x == 'Unable to prosecute suspect' else ('Suspect charged' if x == 'Suspect charged'\n",
    "                                                 else 'Other Outcome')))"
   ]
  },
  {
   "cell_type": "code",
   "execution_count": 38,
   "id": "45f5a956",
   "metadata": {},
   "outputs": [
    {
     "data": {
      "text/plain": [
       "Investigation complete. No suspect identified    917049\n",
       "Unable to prosecute suspect                      697036\n",
       "Other Outcome                                    162503\n",
       "Suspect charged                                  134939\n",
       "Name: Outcome type, dtype: int64"
      ]
     },
     "execution_count": 38,
     "metadata": {},
     "output_type": "execute_result"
    }
   ],
   "source": [
    "full['Outcome type'].value_counts()"
   ]
  },
  {
   "cell_type": "code",
   "execution_count": 39,
   "id": "e782f754",
   "metadata": {},
   "outputs": [
    {
     "data": {
      "text/html": [
       "<div>\n",
       "<style scoped>\n",
       "    .dataframe tbody tr th:only-of-type {\n",
       "        vertical-align: middle;\n",
       "    }\n",
       "\n",
       "    .dataframe tbody tr th {\n",
       "        vertical-align: top;\n",
       "    }\n",
       "\n",
       "    .dataframe thead th {\n",
       "        text-align: right;\n",
       "    }\n",
       "</style>\n",
       "<table border=\"1\" class=\"dataframe\">\n",
       "  <thead>\n",
       "    <tr style=\"text-align: right;\">\n",
       "      <th></th>\n",
       "      <th>Crime ID</th>\n",
       "      <th>Month</th>\n",
       "      <th>Reported by</th>\n",
       "      <th>Crime type</th>\n",
       "      <th>Outcome type</th>\n",
       "      <th>Region</th>\n",
       "    </tr>\n",
       "  </thead>\n",
       "  <tbody>\n",
       "    <tr>\n",
       "      <th>0</th>\n",
       "      <td>e9a50727f2189e0c50f704e3661bc1a8ae3a39aece4866...</td>\n",
       "      <td>2019-01</td>\n",
       "      <td>Avon and Somerset Constabulary</td>\n",
       "      <td>Violence and sexual offences</td>\n",
       "      <td>Investigation complete. No suspect identified</td>\n",
       "      <td>South West</td>\n",
       "    </tr>\n",
       "    <tr>\n",
       "      <th>1</th>\n",
       "      <td>fb06f54e9d633a961109ef74171e4beb40b2fe44e57a10...</td>\n",
       "      <td>2019-01</td>\n",
       "      <td>Avon and Somerset Constabulary</td>\n",
       "      <td>Violence and sexual offences</td>\n",
       "      <td>Unable to prosecute suspect</td>\n",
       "      <td>South West</td>\n",
       "    </tr>\n",
       "    <tr>\n",
       "      <th>2</th>\n",
       "      <td>4655ba031d5c8d00b247577a22472fbb8f9130d98b7d95...</td>\n",
       "      <td>2019-01</td>\n",
       "      <td>Avon and Somerset Constabulary</td>\n",
       "      <td>Violence and sexual offences</td>\n",
       "      <td>Investigation complete. No suspect identified</td>\n",
       "      <td>South West</td>\n",
       "    </tr>\n",
       "    <tr>\n",
       "      <th>4</th>\n",
       "      <td>2830f28a4a93138717182d1cc51b6d77cfaf3c27398934...</td>\n",
       "      <td>2019-01</td>\n",
       "      <td>Avon and Somerset Constabulary</td>\n",
       "      <td>Theft offences</td>\n",
       "      <td>Investigation complete. No suspect identified</td>\n",
       "      <td>South West</td>\n",
       "    </tr>\n",
       "    <tr>\n",
       "      <th>5</th>\n",
       "      <td>ca01d599d45f6e1d1bc5b05ddc6a1b559870fc831baa8e...</td>\n",
       "      <td>2019-01</td>\n",
       "      <td>Avon and Somerset Constabulary</td>\n",
       "      <td>Theft offences</td>\n",
       "      <td>Investigation complete. No suspect identified</td>\n",
       "      <td>South West</td>\n",
       "    </tr>\n",
       "  </tbody>\n",
       "</table>\n",
       "</div>"
      ],
      "text/plain": [
       "                                            Crime ID    Month  \\\n",
       "0  e9a50727f2189e0c50f704e3661bc1a8ae3a39aece4866...  2019-01   \n",
       "1  fb06f54e9d633a961109ef74171e4beb40b2fe44e57a10...  2019-01   \n",
       "2  4655ba031d5c8d00b247577a22472fbb8f9130d98b7d95...  2019-01   \n",
       "4  2830f28a4a93138717182d1cc51b6d77cfaf3c27398934...  2019-01   \n",
       "5  ca01d599d45f6e1d1bc5b05ddc6a1b559870fc831baa8e...  2019-01   \n",
       "\n",
       "                      Reported by                    Crime type  \\\n",
       "0  Avon and Somerset Constabulary  Violence and sexual offences   \n",
       "1  Avon and Somerset Constabulary  Violence and sexual offences   \n",
       "2  Avon and Somerset Constabulary  Violence and sexual offences   \n",
       "4  Avon and Somerset Constabulary                Theft offences   \n",
       "5  Avon and Somerset Constabulary                Theft offences   \n",
       "\n",
       "                                    Outcome type      Region  \n",
       "0  Investigation complete. No suspect identified  South West  \n",
       "1                    Unable to prosecute suspect  South West  \n",
       "2  Investigation complete. No suspect identified  South West  \n",
       "4  Investigation complete. No suspect identified  South West  \n",
       "5  Investigation complete. No suspect identified  South West  "
      ]
     },
     "execution_count": 39,
     "metadata": {},
     "output_type": "execute_result"
    }
   ],
   "source": [
    "full.head()"
   ]
  },
  {
   "cell_type": "code",
   "execution_count": 41,
   "id": "769ce8a4",
   "metadata": {},
   "outputs": [],
   "source": [
    "full['Level_of_Lockdown'] = full.Month.apply(lambda x: 'No Lockdown' if x in ['2019-01','2019-02','2019-03'] else ('High' if x in \n",
    "                                ['2020-01','2020-02','2020-03'] else ('Medium' if x in ['2021-01','2021-02','2021-03'] else 'butts')))"
   ]
  },
  {
   "cell_type": "code",
   "execution_count": 42,
   "id": "38a02d71",
   "metadata": {},
   "outputs": [
    {
     "data": {
      "text/plain": [
       "No Lockdown    692465\n",
       "High           652738\n",
       "Medium         566324\n",
       "Name: Level_of_Lockdown, dtype: int64"
      ]
     },
     "execution_count": 42,
     "metadata": {},
     "output_type": "execute_result"
    }
   ],
   "source": [
    "full['Level_of_Lockdown'].value_counts()"
   ]
  },
  {
   "cell_type": "code",
   "execution_count": 44,
   "id": "64b2d1f7",
   "metadata": {},
   "outputs": [],
   "source": [
    "full.to_csv('Full_outcome.csv')"
   ]
  }
 ],
 "metadata": {
  "kernelspec": {
   "display_name": "Python 3",
   "language": "python",
   "name": "python3"
  },
  "language_info": {
   "codemirror_mode": {
    "name": "ipython",
    "version": 3
   },
   "file_extension": ".py",
   "mimetype": "text/x-python",
   "name": "python",
   "nbconvert_exporter": "python",
   "pygments_lexer": "ipython3",
   "version": "3.8.8"
  }
 },
 "nbformat": 4,
 "nbformat_minor": 5
}
