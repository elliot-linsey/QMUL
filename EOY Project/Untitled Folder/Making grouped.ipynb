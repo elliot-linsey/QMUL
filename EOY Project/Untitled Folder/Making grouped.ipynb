{
 "cells": [
  {
   "cell_type": "code",
   "execution_count": 8,
   "id": "3895b02c",
   "metadata": {},
   "outputs": [],
   "source": [
    "import pandas as pd"
   ]
  },
  {
   "cell_type": "code",
   "execution_count": 9,
   "id": "d1ea1880",
   "metadata": {},
   "outputs": [
    {
     "name": "stderr",
     "output_type": "stream",
     "text": [
      "C:\\Users\\ellio\\anaconda3\\lib\\site-packages\\numpy\\lib\\arraysetops.py:583: FutureWarning: elementwise comparison failed; returning scalar instead, but in the future will perform elementwise comparison\n",
      "  mask |= (ar1 == a)\n"
     ]
    }
   ],
   "source": [
    "df = pd.read_csv(r\"D:\\EOY Datasets\\Full Datasets\"+'\\\\'+'Full_dataset.csv',index_col=0)"
   ]
  },
  {
   "cell_type": "code",
   "execution_count": 10,
   "id": "b3a66c4c",
   "metadata": {},
   "outputs": [
    {
     "data": {
      "text/html": [
       "<div>\n",
       "<style scoped>\n",
       "    .dataframe tbody tr th:only-of-type {\n",
       "        vertical-align: middle;\n",
       "    }\n",
       "\n",
       "    .dataframe tbody tr th {\n",
       "        vertical-align: top;\n",
       "    }\n",
       "\n",
       "    .dataframe thead th {\n",
       "        text-align: right;\n",
       "    }\n",
       "</style>\n",
       "<table border=\"1\" class=\"dataframe\">\n",
       "  <thead>\n",
       "    <tr style=\"text-align: right;\">\n",
       "      <th></th>\n",
       "      <th>Crime ID</th>\n",
       "      <th>Year</th>\n",
       "      <th>Month</th>\n",
       "      <th>Region</th>\n",
       "      <th>Reported by</th>\n",
       "      <th>Crime type</th>\n",
       "      <th>Outcome type</th>\n",
       "      <th>Level_of_Lockdown</th>\n",
       "    </tr>\n",
       "  </thead>\n",
       "  <tbody>\n",
       "    <tr>\n",
       "      <th>0</th>\n",
       "      <td>e9a50727f2189e0c50f704e3661bc1a8ae3a39aece4866...</td>\n",
       "      <td>2019</td>\n",
       "      <td>2019-01</td>\n",
       "      <td>South West</td>\n",
       "      <td>Avon and Somerset Constabulary</td>\n",
       "      <td>Violence and sexual offences</td>\n",
       "      <td>No suspect identified</td>\n",
       "      <td>No Lockdown</td>\n",
       "    </tr>\n",
       "    <tr>\n",
       "      <th>1</th>\n",
       "      <td>fb06f54e9d633a961109ef74171e4beb40b2fe44e57a10...</td>\n",
       "      <td>2019</td>\n",
       "      <td>2019-01</td>\n",
       "      <td>South West</td>\n",
       "      <td>Avon and Somerset Constabulary</td>\n",
       "      <td>Violence and sexual offences</td>\n",
       "      <td>Unable to prosecute suspect</td>\n",
       "      <td>No Lockdown</td>\n",
       "    </tr>\n",
       "    <tr>\n",
       "      <th>2</th>\n",
       "      <td>4655ba031d5c8d00b247577a22472fbb8f9130d98b7d95...</td>\n",
       "      <td>2019</td>\n",
       "      <td>2019-01</td>\n",
       "      <td>South West</td>\n",
       "      <td>Avon and Somerset Constabulary</td>\n",
       "      <td>Violence and sexual offences</td>\n",
       "      <td>No suspect identified</td>\n",
       "      <td>No Lockdown</td>\n",
       "    </tr>\n",
       "    <tr>\n",
       "      <th>3</th>\n",
       "      <td>2830f28a4a93138717182d1cc51b6d77cfaf3c27398934...</td>\n",
       "      <td>2019</td>\n",
       "      <td>2019-01</td>\n",
       "      <td>South West</td>\n",
       "      <td>Avon and Somerset Constabulary</td>\n",
       "      <td>Theft offences</td>\n",
       "      <td>No suspect identified</td>\n",
       "      <td>No Lockdown</td>\n",
       "    </tr>\n",
       "    <tr>\n",
       "      <th>4</th>\n",
       "      <td>ca01d599d45f6e1d1bc5b05ddc6a1b559870fc831baa8e...</td>\n",
       "      <td>2019</td>\n",
       "      <td>2019-01</td>\n",
       "      <td>South West</td>\n",
       "      <td>Avon and Somerset Constabulary</td>\n",
       "      <td>Theft offences</td>\n",
       "      <td>No suspect identified</td>\n",
       "      <td>No Lockdown</td>\n",
       "    </tr>\n",
       "  </tbody>\n",
       "</table>\n",
       "</div>"
      ],
      "text/plain": [
       "                                            Crime ID  Year    Month  \\\n",
       "0  e9a50727f2189e0c50f704e3661bc1a8ae3a39aece4866...  2019  2019-01   \n",
       "1  fb06f54e9d633a961109ef74171e4beb40b2fe44e57a10...  2019  2019-01   \n",
       "2  4655ba031d5c8d00b247577a22472fbb8f9130d98b7d95...  2019  2019-01   \n",
       "3  2830f28a4a93138717182d1cc51b6d77cfaf3c27398934...  2019  2019-01   \n",
       "4  ca01d599d45f6e1d1bc5b05ddc6a1b559870fc831baa8e...  2019  2019-01   \n",
       "\n",
       "       Region                     Reported by                    Crime type  \\\n",
       "0  South West  Avon and Somerset Constabulary  Violence and sexual offences   \n",
       "1  South West  Avon and Somerset Constabulary  Violence and sexual offences   \n",
       "2  South West  Avon and Somerset Constabulary  Violence and sexual offences   \n",
       "3  South West  Avon and Somerset Constabulary                Theft offences   \n",
       "4  South West  Avon and Somerset Constabulary                Theft offences   \n",
       "\n",
       "                  Outcome type Level_of_Lockdown  \n",
       "0        No suspect identified       No Lockdown  \n",
       "1  Unable to prosecute suspect       No Lockdown  \n",
       "2        No suspect identified       No Lockdown  \n",
       "3        No suspect identified       No Lockdown  \n",
       "4        No suspect identified       No Lockdown  "
      ]
     },
     "execution_count": 10,
     "metadata": {},
     "output_type": "execute_result"
    }
   ],
   "source": [
    "df.head()"
   ]
  },
  {
   "cell_type": "code",
   "execution_count": 11,
   "id": "e66e70e2",
   "metadata": {},
   "outputs": [
    {
     "data": {
      "text/plain": [
       "No suspect identified          917049\n",
       "Unable to prosecute suspect    697036\n",
       "Other Outcome                  162503\n",
       "Suspect charged                134939\n",
       "Name: Outcome type, dtype: int64"
      ]
     },
     "execution_count": 11,
     "metadata": {},
     "output_type": "execute_result"
    }
   ],
   "source": [
    "df['Outcome type'].value_counts()"
   ]
  },
  {
   "cell_type": "code",
   "execution_count": 19,
   "id": "e2b8fc93",
   "metadata": {},
   "outputs": [],
   "source": [
    "grouped = df.groupby(['Level_of_Lockdown','Region','Crime type'])['Crime ID'].count().reset_index().rename(columns={'Crime ID': 'Count'})"
   ]
  },
  {
   "cell_type": "code",
   "execution_count": 20,
   "id": "a753753f",
   "metadata": {},
   "outputs": [
    {
     "data": {
      "text/html": [
       "<div>\n",
       "<style scoped>\n",
       "    .dataframe tbody tr th:only-of-type {\n",
       "        vertical-align: middle;\n",
       "    }\n",
       "\n",
       "    .dataframe tbody tr th {\n",
       "        vertical-align: top;\n",
       "    }\n",
       "\n",
       "    .dataframe thead th {\n",
       "        text-align: right;\n",
       "    }\n",
       "</style>\n",
       "<table border=\"1\" class=\"dataframe\">\n",
       "  <thead>\n",
       "    <tr style=\"text-align: right;\">\n",
       "      <th></th>\n",
       "      <th>Level_of_Lockdown</th>\n",
       "      <th>Region</th>\n",
       "      <th>Crime type</th>\n",
       "      <th>Count</th>\n",
       "    </tr>\n",
       "  </thead>\n",
       "  <tbody>\n",
       "    <tr>\n",
       "      <th>0</th>\n",
       "      <td>High</td>\n",
       "      <td>East Midlands</td>\n",
       "      <td>Criminal damage and arson</td>\n",
       "      <td>23216</td>\n",
       "    </tr>\n",
       "    <tr>\n",
       "      <th>1</th>\n",
       "      <td>High</td>\n",
       "      <td>East Midlands</td>\n",
       "      <td>Drug offences</td>\n",
       "      <td>4476</td>\n",
       "    </tr>\n",
       "    <tr>\n",
       "      <th>2</th>\n",
       "      <td>High</td>\n",
       "      <td>East Midlands</td>\n",
       "      <td>Public order offences</td>\n",
       "      <td>17254</td>\n",
       "    </tr>\n",
       "    <tr>\n",
       "      <th>3</th>\n",
       "      <td>High</td>\n",
       "      <td>East Midlands</td>\n",
       "      <td>Theft offences</td>\n",
       "      <td>53294</td>\n",
       "    </tr>\n",
       "    <tr>\n",
       "      <th>4</th>\n",
       "      <td>High</td>\n",
       "      <td>East Midlands</td>\n",
       "      <td>Violence and sexual offences</td>\n",
       "      <td>67831</td>\n",
       "    </tr>\n",
       "    <tr>\n",
       "      <th>...</th>\n",
       "      <td>...</td>\n",
       "      <td>...</td>\n",
       "      <td>...</td>\n",
       "      <td>...</td>\n",
       "    </tr>\n",
       "    <tr>\n",
       "      <th>70</th>\n",
       "      <td>No Lockdown</td>\n",
       "      <td>West Midlands</td>\n",
       "      <td>Criminal damage and arson</td>\n",
       "      <td>25803</td>\n",
       "    </tr>\n",
       "    <tr>\n",
       "      <th>71</th>\n",
       "      <td>No Lockdown</td>\n",
       "      <td>West Midlands</td>\n",
       "      <td>Drug offences</td>\n",
       "      <td>4989</td>\n",
       "    </tr>\n",
       "    <tr>\n",
       "      <th>72</th>\n",
       "      <td>No Lockdown</td>\n",
       "      <td>West Midlands</td>\n",
       "      <td>Public order offences</td>\n",
       "      <td>18561</td>\n",
       "    </tr>\n",
       "    <tr>\n",
       "      <th>73</th>\n",
       "      <td>No Lockdown</td>\n",
       "      <td>West Midlands</td>\n",
       "      <td>Theft offences</td>\n",
       "      <td>64378</td>\n",
       "    </tr>\n",
       "    <tr>\n",
       "      <th>74</th>\n",
       "      <td>No Lockdown</td>\n",
       "      <td>West Midlands</td>\n",
       "      <td>Violence and sexual offences</td>\n",
       "      <td>70411</td>\n",
       "    </tr>\n",
       "  </tbody>\n",
       "</table>\n",
       "<p>75 rows × 4 columns</p>\n",
       "</div>"
      ],
      "text/plain": [
       "   Level_of_Lockdown         Region                    Crime type  Count\n",
       "0               High  East Midlands     Criminal damage and arson  23216\n",
       "1               High  East Midlands                 Drug offences   4476\n",
       "2               High  East Midlands         Public order offences  17254\n",
       "3               High  East Midlands                Theft offences  53294\n",
       "4               High  East Midlands  Violence and sexual offences  67831\n",
       "..               ...            ...                           ...    ...\n",
       "70       No Lockdown  West Midlands     Criminal damage and arson  25803\n",
       "71       No Lockdown  West Midlands                 Drug offences   4989\n",
       "72       No Lockdown  West Midlands         Public order offences  18561\n",
       "73       No Lockdown  West Midlands                Theft offences  64378\n",
       "74       No Lockdown  West Midlands  Violence and sexual offences  70411\n",
       "\n",
       "[75 rows x 4 columns]"
      ]
     },
     "execution_count": 20,
     "metadata": {},
     "output_type": "execute_result"
    }
   ],
   "source": [
    "grouped"
   ]
  },
  {
   "cell_type": "code",
   "execution_count": 21,
   "id": "98a3224c",
   "metadata": {},
   "outputs": [],
   "source": [
    "#grouped.to_csv('test_group')"
   ]
  }
 ],
 "metadata": {
  "kernelspec": {
   "display_name": "Python 3",
   "language": "python",
   "name": "python3"
  },
  "language_info": {
   "codemirror_mode": {
    "name": "ipython",
    "version": 3
   },
   "file_extension": ".py",
   "mimetype": "text/x-python",
   "name": "python",
   "nbconvert_exporter": "python",
   "pygments_lexer": "ipython3",
   "version": "3.8.8"
  }
 },
 "nbformat": 4,
 "nbformat_minor": 5
}
