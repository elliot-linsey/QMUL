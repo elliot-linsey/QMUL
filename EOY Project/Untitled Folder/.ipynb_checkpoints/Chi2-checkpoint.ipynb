{
 "cells": [
  {
   "cell_type": "code",
   "execution_count": 1,
   "id": "17cd9226",
   "metadata": {},
   "outputs": [],
   "source": [
    "import pandas as pd\n",
    "import numpy as np\n",
    "from matplotlib import pyplot as plt\n",
    "import seaborn as sns\n",
    "from scipy.stats import chi2_contingency"
   ]
  },
  {
   "cell_type": "code",
   "execution_count": 2,
   "id": "0250e68b",
   "metadata": {},
   "outputs": [
    {
     "name": "stderr",
     "output_type": "stream",
     "text": [
      "C:\\Users\\ellio\\anaconda3\\lib\\site-packages\\numpy\\lib\\arraysetops.py:583: FutureWarning: elementwise comparison failed; returning scalar instead, but in the future will perform elementwise comparison\n",
      "  mask |= (ar1 == a)\n"
     ]
    }
   ],
   "source": [
    "df = pd.read_csv(r\"D:\\EOY Datasets\\Full Datasets\\Everything_cleaned.csv\",index_col=0)"
   ]
  },
  {
   "cell_type": "code",
   "execution_count": 14,
   "id": "19af5b18",
   "metadata": {},
   "outputs": [
    {
     "name": "stderr",
     "output_type": "stream",
     "text": [
      "C:\\Users\\ellio\\anaconda3\\lib\\site-packages\\numpy\\lib\\arraysetops.py:583: FutureWarning: elementwise comparison failed; returning scalar instead, but in the future will perform elementwise comparison\n",
      "  mask |= (ar1 == a)\n"
     ]
    }
   ],
   "source": [
    "df2 = pd.read_csv(r\"D:\\EOY Datasets\\Full Datasets\\Everything_NonCovid.csv\",index_col=0)"
   ]
  },
  {
   "cell_type": "code",
   "execution_count": 4,
   "id": "9aeef7ef",
   "metadata": {},
   "outputs": [
    {
     "data": {
      "text/html": [
       "<div>\n",
       "<style scoped>\n",
       "    .dataframe tbody tr th:only-of-type {\n",
       "        vertical-align: middle;\n",
       "    }\n",
       "\n",
       "    .dataframe tbody tr th {\n",
       "        vertical-align: top;\n",
       "    }\n",
       "\n",
       "    .dataframe thead th {\n",
       "        text-align: right;\n",
       "    }\n",
       "</style>\n",
       "<table border=\"1\" class=\"dataframe\">\n",
       "  <thead>\n",
       "    <tr style=\"text-align: right;\">\n",
       "      <th></th>\n",
       "      <th>Crime_ID</th>\n",
       "      <th>Month</th>\n",
       "      <th>Reported_by</th>\n",
       "      <th>Crime_type</th>\n",
       "      <th>Outcome_type</th>\n",
       "      <th>Year</th>\n",
       "      <th>Level_of_Lockdown</th>\n",
       "      <th>Region</th>\n",
       "    </tr>\n",
       "  </thead>\n",
       "  <tbody>\n",
       "    <tr>\n",
       "      <th>0</th>\n",
       "      <td>e9a50727f2189e0c50f704e3661bc1a8ae3a39aece4866...</td>\n",
       "      <td>2019-01-01</td>\n",
       "      <td>Avon and Somerset</td>\n",
       "      <td>Violence and sexual offences</td>\n",
       "      <td>No suspect identified</td>\n",
       "      <td>2019</td>\n",
       "      <td>No Lockdown</td>\n",
       "      <td>South West</td>\n",
       "    </tr>\n",
       "    <tr>\n",
       "      <th>1</th>\n",
       "      <td>fb06f54e9d633a961109ef74171e4beb40b2fe44e57a10...</td>\n",
       "      <td>2019-01-01</td>\n",
       "      <td>Avon and Somerset</td>\n",
       "      <td>Violence and sexual offences</td>\n",
       "      <td>Unable to prosecute suspect</td>\n",
       "      <td>2019</td>\n",
       "      <td>No Lockdown</td>\n",
       "      <td>South West</td>\n",
       "    </tr>\n",
       "    <tr>\n",
       "      <th>2</th>\n",
       "      <td>4655ba031d5c8d00b247577a22472fbb8f9130d98b7d95...</td>\n",
       "      <td>2019-01-01</td>\n",
       "      <td>Avon and Somerset</td>\n",
       "      <td>Violence and sexual offences</td>\n",
       "      <td>No suspect identified</td>\n",
       "      <td>2019</td>\n",
       "      <td>No Lockdown</td>\n",
       "      <td>South West</td>\n",
       "    </tr>\n",
       "    <tr>\n",
       "      <th>3</th>\n",
       "      <td>2830f28a4a93138717182d1cc51b6d77cfaf3c27398934...</td>\n",
       "      <td>2019-01-01</td>\n",
       "      <td>Avon and Somerset</td>\n",
       "      <td>Theft offences</td>\n",
       "      <td>No suspect identified</td>\n",
       "      <td>2019</td>\n",
       "      <td>No Lockdown</td>\n",
       "      <td>South West</td>\n",
       "    </tr>\n",
       "    <tr>\n",
       "      <th>4</th>\n",
       "      <td>ca01d599d45f6e1d1bc5b05ddc6a1b559870fc831baa8e...</td>\n",
       "      <td>2019-01-01</td>\n",
       "      <td>Avon and Somerset</td>\n",
       "      <td>Theft offences</td>\n",
       "      <td>No suspect identified</td>\n",
       "      <td>2019</td>\n",
       "      <td>No Lockdown</td>\n",
       "      <td>South West</td>\n",
       "    </tr>\n",
       "  </tbody>\n",
       "</table>\n",
       "</div>"
      ],
      "text/plain": [
       "                                            Crime_ID       Month  \\\n",
       "0  e9a50727f2189e0c50f704e3661bc1a8ae3a39aece4866...  2019-01-01   \n",
       "1  fb06f54e9d633a961109ef74171e4beb40b2fe44e57a10...  2019-01-01   \n",
       "2  4655ba031d5c8d00b247577a22472fbb8f9130d98b7d95...  2019-01-01   \n",
       "3  2830f28a4a93138717182d1cc51b6d77cfaf3c27398934...  2019-01-01   \n",
       "4  ca01d599d45f6e1d1bc5b05ddc6a1b559870fc831baa8e...  2019-01-01   \n",
       "\n",
       "         Reported_by                    Crime_type  \\\n",
       "0  Avon and Somerset  Violence and sexual offences   \n",
       "1  Avon and Somerset  Violence and sexual offences   \n",
       "2  Avon and Somerset  Violence and sexual offences   \n",
       "3  Avon and Somerset                Theft offences   \n",
       "4  Avon and Somerset                Theft offences   \n",
       "\n",
       "                  Outcome_type  Year Level_of_Lockdown      Region  \n",
       "0        No suspect identified  2019       No Lockdown  South West  \n",
       "1  Unable to prosecute suspect  2019       No Lockdown  South West  \n",
       "2        No suspect identified  2019       No Lockdown  South West  \n",
       "3        No suspect identified  2019       No Lockdown  South West  \n",
       "4        No suspect identified  2019       No Lockdown  South West  "
      ]
     },
     "execution_count": 4,
     "metadata": {},
     "output_type": "execute_result"
    }
   ],
   "source": [
    "df.head()"
   ]
  },
  {
   "cell_type": "code",
   "execution_count": 7,
   "id": "5b750937",
   "metadata": {},
   "outputs": [
    {
     "data": {
      "text/html": [
       "<div>\n",
       "<style scoped>\n",
       "    .dataframe tbody tr th:only-of-type {\n",
       "        vertical-align: middle;\n",
       "    }\n",
       "\n",
       "    .dataframe tbody tr th {\n",
       "        vertical-align: top;\n",
       "    }\n",
       "\n",
       "    .dataframe thead th {\n",
       "        text-align: right;\n",
       "    }\n",
       "</style>\n",
       "<table border=\"1\" class=\"dataframe\">\n",
       "  <thead>\n",
       "    <tr style=\"text-align: right;\">\n",
       "      <th>Level_of_Lockdown</th>\n",
       "      <th>High</th>\n",
       "      <th>Medium</th>\n",
       "      <th>No Lockdown</th>\n",
       "    </tr>\n",
       "    <tr>\n",
       "      <th>Crime_type</th>\n",
       "      <th></th>\n",
       "      <th></th>\n",
       "      <th></th>\n",
       "    </tr>\n",
       "  </thead>\n",
       "  <tbody>\n",
       "    <tr>\n",
       "      <th>Criminal damage and arson</th>\n",
       "      <td>427073</td>\n",
       "      <td>373535</td>\n",
       "      <td>441936</td>\n",
       "    </tr>\n",
       "    <tr>\n",
       "      <th>Drug offences</th>\n",
       "      <td>169180</td>\n",
       "      <td>122966</td>\n",
       "      <td>149840</td>\n",
       "    </tr>\n",
       "    <tr>\n",
       "      <th>Public order offences</th>\n",
       "      <td>391677</td>\n",
       "      <td>378093</td>\n",
       "      <td>340925</td>\n",
       "    </tr>\n",
       "    <tr>\n",
       "      <th>Theft offences</th>\n",
       "      <td>965238</td>\n",
       "      <td>777302</td>\n",
       "      <td>1094973</td>\n",
       "    </tr>\n",
       "    <tr>\n",
       "      <th>Violence and sexual offences</th>\n",
       "      <td>1624924</td>\n",
       "      <td>1401642</td>\n",
       "      <td>1516608</td>\n",
       "    </tr>\n",
       "  </tbody>\n",
       "</table>\n",
       "</div>"
      ],
      "text/plain": [
       "Level_of_Lockdown                High   Medium  No Lockdown\n",
       "Crime_type                                                 \n",
       "Criminal damage and arson      427073   373535       441936\n",
       "Drug offences                  169180   122966       149840\n",
       "Public order offences          391677   378093       340925\n",
       "Theft offences                 965238   777302      1094973\n",
       "Violence and sexual offences  1624924  1401642      1516608"
      ]
     },
     "execution_count": 7,
     "metadata": {},
     "output_type": "execute_result"
    }
   ],
   "source": [
    "tab = pd.crosstab(df.Crime_type,df.Level_of_Lockdown)\n",
    "tab"
   ]
  },
  {
   "cell_type": "markdown",
   "id": "b7b21a8d",
   "metadata": {},
   "source": [
    "Look at expected counts, if there were no difference then there would be far higher numbers of theft offences in Medium lockdown etc"
   ]
  },
  {
   "cell_type": "code",
   "execution_count": 13,
   "id": "8dde695b",
   "metadata": {},
   "outputs": [
    {
     "data": {
      "text/plain": [
       "(37243.32432071246,\n",
       " 0.0,\n",
       " 8,\n",
       " array([[ 436907.93965671,  372856.53813358,  432779.5222097 ],\n",
       "        [ 155412.76012528,  132629.00135811,  153944.23851661],\n",
       "        [ 390546.70421089,  333291.9338247 ,  386856.36196441],\n",
       "        [ 997736.86773195,  851467.04993066,  988309.08233739],\n",
       "        [1597487.72827517, 1363293.47675294, 1582392.79497189]]))"
      ]
     },
     "execution_count": 13,
     "metadata": {},
     "output_type": "execute_result"
    }
   ],
   "source": [
    "chi2_contingency(tab)"
   ]
  },
  {
   "cell_type": "code",
   "execution_count": 15,
   "id": "62ceacda",
   "metadata": {},
   "outputs": [
    {
     "data": {
      "text/html": [
       "<div>\n",
       "<style scoped>\n",
       "    .dataframe tbody tr th:only-of-type {\n",
       "        vertical-align: middle;\n",
       "    }\n",
       "\n",
       "    .dataframe tbody tr th {\n",
       "        vertical-align: top;\n",
       "    }\n",
       "\n",
       "    .dataframe thead th {\n",
       "        text-align: right;\n",
       "    }\n",
       "</style>\n",
       "<table border=\"1\" class=\"dataframe\">\n",
       "  <thead>\n",
       "    <tr style=\"text-align: right;\">\n",
       "      <th></th>\n",
       "      <th>Crime_ID</th>\n",
       "      <th>Month</th>\n",
       "      <th>Reported_by</th>\n",
       "      <th>Crime_type</th>\n",
       "      <th>Outcome_type</th>\n",
       "      <th>Region</th>\n",
       "      <th>Year</th>\n",
       "    </tr>\n",
       "  </thead>\n",
       "  <tbody>\n",
       "    <tr>\n",
       "      <th>0</th>\n",
       "      <td>9500972e2e3c87dc23b65885dd61085ee8a39329c03792...</td>\n",
       "      <td>2017-01</td>\n",
       "      <td>Avon and Somerset Constabulary</td>\n",
       "      <td>Theft offences</td>\n",
       "      <td>Other Outcome</td>\n",
       "      <td>South West</td>\n",
       "      <td>2017</td>\n",
       "    </tr>\n",
       "    <tr>\n",
       "      <th>1</th>\n",
       "      <td>4c3b7072a3bfcf441b1036e67fd642cf1e42fdccf16af1...</td>\n",
       "      <td>2017-01</td>\n",
       "      <td>Avon and Somerset Constabulary</td>\n",
       "      <td>Criminal damage and arson</td>\n",
       "      <td>No suspect identified</td>\n",
       "      <td>South West</td>\n",
       "      <td>2017</td>\n",
       "    </tr>\n",
       "    <tr>\n",
       "      <th>2</th>\n",
       "      <td>8e6ae250f68623b82068cd3c79b64b05a559f6d9c9393c...</td>\n",
       "      <td>2017-01</td>\n",
       "      <td>Avon and Somerset Constabulary</td>\n",
       "      <td>Criminal damage and arson</td>\n",
       "      <td>No suspect identified</td>\n",
       "      <td>South West</td>\n",
       "      <td>2017</td>\n",
       "    </tr>\n",
       "    <tr>\n",
       "      <th>3</th>\n",
       "      <td>0f5c81322cd60d96ef8877d94eb37e98cad395d1773efc...</td>\n",
       "      <td>2017-01</td>\n",
       "      <td>Avon and Somerset Constabulary</td>\n",
       "      <td>Violence and sexual offences</td>\n",
       "      <td>No suspect identified</td>\n",
       "      <td>South West</td>\n",
       "      <td>2017</td>\n",
       "    </tr>\n",
       "    <tr>\n",
       "      <th>4</th>\n",
       "      <td>b46b395f390b0dc9112686c30d0939f0ded0de42877df7...</td>\n",
       "      <td>2017-01</td>\n",
       "      <td>Avon and Somerset Constabulary</td>\n",
       "      <td>Violence and sexual offences</td>\n",
       "      <td>No suspect identified</td>\n",
       "      <td>South West</td>\n",
       "      <td>2017</td>\n",
       "    </tr>\n",
       "  </tbody>\n",
       "</table>\n",
       "</div>"
      ],
      "text/plain": [
       "                                            Crime_ID    Month  \\\n",
       "0  9500972e2e3c87dc23b65885dd61085ee8a39329c03792...  2017-01   \n",
       "1  4c3b7072a3bfcf441b1036e67fd642cf1e42fdccf16af1...  2017-01   \n",
       "2  8e6ae250f68623b82068cd3c79b64b05a559f6d9c9393c...  2017-01   \n",
       "3  0f5c81322cd60d96ef8877d94eb37e98cad395d1773efc...  2017-01   \n",
       "4  b46b395f390b0dc9112686c30d0939f0ded0de42877df7...  2017-01   \n",
       "\n",
       "                      Reported_by                    Crime_type  \\\n",
       "0  Avon and Somerset Constabulary                Theft offences   \n",
       "1  Avon and Somerset Constabulary     Criminal damage and arson   \n",
       "2  Avon and Somerset Constabulary     Criminal damage and arson   \n",
       "3  Avon and Somerset Constabulary  Violence and sexual offences   \n",
       "4  Avon and Somerset Constabulary  Violence and sexual offences   \n",
       "\n",
       "            Outcome_type      Region  Year  \n",
       "0          Other Outcome  South West  2017  \n",
       "1  No suspect identified  South West  2017  \n",
       "2  No suspect identified  South West  2017  \n",
       "3  No suspect identified  South West  2017  \n",
       "4  No suspect identified  South West  2017  "
      ]
     },
     "execution_count": 15,
     "metadata": {},
     "output_type": "execute_result"
    }
   ],
   "source": [
    "df2.head()"
   ]
  },
  {
   "cell_type": "code",
   "execution_count": 20,
   "id": "7c64f468",
   "metadata": {},
   "outputs": [
    {
     "data": {
      "text/html": [
       "<div>\n",
       "<style scoped>\n",
       "    .dataframe tbody tr th:only-of-type {\n",
       "        vertical-align: middle;\n",
       "    }\n",
       "\n",
       "    .dataframe tbody tr th {\n",
       "        vertical-align: top;\n",
       "    }\n",
       "\n",
       "    .dataframe thead th {\n",
       "        text-align: right;\n",
       "    }\n",
       "</style>\n",
       "<table border=\"1\" class=\"dataframe\">\n",
       "  <thead>\n",
       "    <tr style=\"text-align: right;\">\n",
       "      <th>Year</th>\n",
       "      <th>2017</th>\n",
       "      <th>2018</th>\n",
       "      <th>2019</th>\n",
       "    </tr>\n",
       "    <tr>\n",
       "      <th>Crime_type</th>\n",
       "      <th></th>\n",
       "      <th></th>\n",
       "      <th></th>\n",
       "    </tr>\n",
       "  </thead>\n",
       "  <tbody>\n",
       "    <tr>\n",
       "      <th>Criminal damage and arson</th>\n",
       "      <td>515876</td>\n",
       "      <td>483533</td>\n",
       "      <td>406634</td>\n",
       "    </tr>\n",
       "    <tr>\n",
       "      <th>Drug offences</th>\n",
       "      <td>119272</td>\n",
       "      <td>124341</td>\n",
       "      <td>123673</td>\n",
       "    </tr>\n",
       "    <tr>\n",
       "      <th>Public order offences</th>\n",
       "      <td>302082</td>\n",
       "      <td>355207</td>\n",
       "      <td>307976</td>\n",
       "    </tr>\n",
       "    <tr>\n",
       "      <th>Theft offences</th>\n",
       "      <td>1349965</td>\n",
       "      <td>1267009</td>\n",
       "      <td>975486</td>\n",
       "    </tr>\n",
       "    <tr>\n",
       "      <th>Violence and sexual offences</th>\n",
       "      <td>1260729</td>\n",
       "      <td>1469880</td>\n",
       "      <td>1278529</td>\n",
       "    </tr>\n",
       "  </tbody>\n",
       "</table>\n",
       "</div>"
      ],
      "text/plain": [
       "Year                             2017     2018     2019\n",
       "Crime_type                                             \n",
       "Criminal damage and arson      515876   483533   406634\n",
       "Drug offences                  119272   124341   123673\n",
       "Public order offences          302082   355207   307976\n",
       "Theft offences                1349965  1267009   975486\n",
       "Violence and sexual offences  1260729  1469880  1278529"
      ]
     },
     "execution_count": 20,
     "metadata": {},
     "output_type": "execute_result"
    }
   ],
   "source": [
    "tab2 = pd.crosstab(df2.Crime_type,df2.Year)\n",
    "tab2"
   ]
  },
  {
   "cell_type": "markdown",
   "id": "700f1371",
   "metadata": {},
   "source": [
    "Still significantly different even without covid."
   ]
  },
  {
   "cell_type": "code",
   "execution_count": 21,
   "id": "617e23be",
   "metadata": {},
   "outputs": [
    {
     "data": {
      "text/plain": [
       "(46425.43367503669,\n",
       " 0.0,\n",
       " 8,\n",
       " array([[ 482441.10986837,  503116.08514716,  420485.80498447],\n",
       "        [ 126023.07715988,  131423.78607863,  109839.13676148],\n",
       "        [ 331201.47670952,  345395.08957377,  288668.4337167 ],\n",
       "        [1232643.94442966, 1285468.80233945, 1074347.25323089],\n",
       "        [1375614.39183257, 1434566.23686098, 1198957.37130645]]))"
      ]
     },
     "execution_count": 21,
     "metadata": {},
     "output_type": "execute_result"
    }
   ],
   "source": [
    "chi2_contingency(tab2)"
   ]
  },
  {
   "cell_type": "code",
   "execution_count": 34,
   "id": "7a07996d",
   "metadata": {},
   "outputs": [
    {
     "data": {
      "text/html": [
       "<div>\n",
       "<style scoped>\n",
       "    .dataframe tbody tr th:only-of-type {\n",
       "        vertical-align: middle;\n",
       "    }\n",
       "\n",
       "    .dataframe tbody tr th {\n",
       "        vertical-align: top;\n",
       "    }\n",
       "\n",
       "    .dataframe thead th {\n",
       "        text-align: right;\n",
       "    }\n",
       "</style>\n",
       "<table border=\"1\" class=\"dataframe\">\n",
       "  <thead>\n",
       "    <tr style=\"text-align: right;\">\n",
       "      <th>Year</th>\n",
       "      <th>2017</th>\n",
       "      <th>2018</th>\n",
       "      <th>2019</th>\n",
       "    </tr>\n",
       "    <tr>\n",
       "      <th>Outcome_type</th>\n",
       "      <th></th>\n",
       "      <th></th>\n",
       "      <th></th>\n",
       "    </tr>\n",
       "  </thead>\n",
       "  <tbody>\n",
       "    <tr>\n",
       "      <th>No suspect identified</th>\n",
       "      <td>1865956</td>\n",
       "      <td>1783831</td>\n",
       "      <td>1303229</td>\n",
       "    </tr>\n",
       "    <tr>\n",
       "      <th>Other Outcome</th>\n",
       "      <td>347690</td>\n",
       "      <td>348220</td>\n",
       "      <td>282513</td>\n",
       "    </tr>\n",
       "    <tr>\n",
       "      <th>Suspect charged</th>\n",
       "      <td>364989</td>\n",
       "      <td>323366</td>\n",
       "      <td>265690</td>\n",
       "    </tr>\n",
       "    <tr>\n",
       "      <th>Unable to prosecute suspect</th>\n",
       "      <td>969289</td>\n",
       "      <td>1244553</td>\n",
       "      <td>1240866</td>\n",
       "    </tr>\n",
       "  </tbody>\n",
       "</table>\n",
       "</div>"
      ],
      "text/plain": [
       "Year                            2017     2018     2019\n",
       "Outcome_type                                          \n",
       "No suspect identified        1865956  1783831  1303229\n",
       "Other Outcome                 347690   348220   282513\n",
       "Suspect charged               364989   323366   265690\n",
       "Unable to prosecute suspect   969289  1244553  1240866"
      ]
     },
     "execution_count": 34,
     "metadata": {},
     "output_type": "execute_result"
    }
   ],
   "source": [
    "tab3 = pd.crosstab(df2.Outcome_type,df2.Year)\n",
    "tab3"
   ]
  },
  {
   "cell_type": "code",
   "execution_count": 25,
   "id": "f000242e",
   "metadata": {},
   "outputs": [
    {
     "data": {
      "text/plain": [
       "(126395.93628964067,\n",
       " 0.0,\n",
       " 6,\n",
       " array([[1699477.56664325, 1772308.54219341, 1481229.89116334],\n",
       "        [ 335716.24626042,  350103.33921362,  292603.41452596],\n",
       "        [ 327351.67321651,  341380.30305917,  285313.02372432],\n",
       "        [1185378.51387982, 1236177.81553379, 1033151.67058639]]))"
      ]
     },
     "execution_count": 25,
     "metadata": {},
     "output_type": "execute_result"
    }
   ],
   "source": [
    "chi2_contingency(tab3)"
   ]
  }
 ],
 "metadata": {
  "kernelspec": {
   "display_name": "Python 3",
   "language": "python",
   "name": "python3"
  },
  "language_info": {
   "codemirror_mode": {
    "name": "ipython",
    "version": 3
   },
   "file_extension": ".py",
   "mimetype": "text/x-python",
   "name": "python",
   "nbconvert_exporter": "python",
   "pygments_lexer": "ipython3",
   "version": "3.8.8"
  }
 },
 "nbformat": 4,
 "nbformat_minor": 5
}
