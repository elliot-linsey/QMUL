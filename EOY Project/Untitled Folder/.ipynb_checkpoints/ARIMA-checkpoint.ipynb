{
 "cells": [
  {
   "cell_type": "code",
   "execution_count": 1,
   "id": "f1ee30fa",
   "metadata": {},
   "outputs": [],
   "source": [
    "import pandas as pd\n",
    "from matplotlib import pyplot as plt\n",
    "import seaborn as sns\n",
    "import numpy as np\n",
    "from pandas.plotting import autocorrelation_plot\n",
    "from pmdarima import auto_arima"
   ]
  },
  {
   "cell_type": "code",
   "execution_count": 2,
   "id": "ead5fec0",
   "metadata": {},
   "outputs": [
    {
     "name": "stderr",
     "output_type": "stream",
     "text": [
      "C:\\Users\\ellio\\anaconda3\\lib\\site-packages\\numpy\\lib\\arraysetops.py:583: FutureWarning: elementwise comparison failed; returning scalar instead, but in the future will perform elementwise comparison\n",
      "  mask |= (ar1 == a)\n"
     ]
    }
   ],
   "source": [
    "df = pd.read_csv(r\"D:\\EOY Datasets\\Full Datasets\\Everything_cleaned.csv\",index_col=0)"
   ]
  },
  {
   "cell_type": "code",
   "execution_count": 3,
   "id": "f75a248c",
   "metadata": {},
   "outputs": [],
   "source": [
    "#df = df.reset_index(drop=True)"
   ]
  },
  {
   "cell_type": "code",
   "execution_count": 4,
   "id": "39e258e6",
   "metadata": {},
   "outputs": [
    {
     "data": {
      "text/html": [
       "<div>\n",
       "<style scoped>\n",
       "    .dataframe tbody tr th:only-of-type {\n",
       "        vertical-align: middle;\n",
       "    }\n",
       "\n",
       "    .dataframe tbody tr th {\n",
       "        vertical-align: top;\n",
       "    }\n",
       "\n",
       "    .dataframe thead th {\n",
       "        text-align: right;\n",
       "    }\n",
       "</style>\n",
       "<table border=\"1\" class=\"dataframe\">\n",
       "  <thead>\n",
       "    <tr style=\"text-align: right;\">\n",
       "      <th></th>\n",
       "      <th>Crime_ID</th>\n",
       "      <th>Month</th>\n",
       "      <th>Reported_by</th>\n",
       "      <th>Crime_type</th>\n",
       "      <th>Outcome_type</th>\n",
       "      <th>Year</th>\n",
       "      <th>Level_of_Lockdown</th>\n",
       "      <th>Region</th>\n",
       "    </tr>\n",
       "  </thead>\n",
       "  <tbody>\n",
       "    <tr>\n",
       "      <th>0</th>\n",
       "      <td>e9a50727f2189e0c50f704e3661bc1a8ae3a39aece4866...</td>\n",
       "      <td>2019-01</td>\n",
       "      <td>Avon and Somerset</td>\n",
       "      <td>Violence and sexual offences</td>\n",
       "      <td>No suspect identified</td>\n",
       "      <td>2019</td>\n",
       "      <td>No Lockdown</td>\n",
       "      <td>South West</td>\n",
       "    </tr>\n",
       "    <tr>\n",
       "      <th>1</th>\n",
       "      <td>fb06f54e9d633a961109ef74171e4beb40b2fe44e57a10...</td>\n",
       "      <td>2019-01</td>\n",
       "      <td>Avon and Somerset</td>\n",
       "      <td>Violence and sexual offences</td>\n",
       "      <td>Unable to prosecute suspect</td>\n",
       "      <td>2019</td>\n",
       "      <td>No Lockdown</td>\n",
       "      <td>South West</td>\n",
       "    </tr>\n",
       "    <tr>\n",
       "      <th>2</th>\n",
       "      <td>4655ba031d5c8d00b247577a22472fbb8f9130d98b7d95...</td>\n",
       "      <td>2019-01</td>\n",
       "      <td>Avon and Somerset</td>\n",
       "      <td>Violence and sexual offences</td>\n",
       "      <td>No suspect identified</td>\n",
       "      <td>2019</td>\n",
       "      <td>No Lockdown</td>\n",
       "      <td>South West</td>\n",
       "    </tr>\n",
       "    <tr>\n",
       "      <th>3</th>\n",
       "      <td>2830f28a4a93138717182d1cc51b6d77cfaf3c27398934...</td>\n",
       "      <td>2019-01</td>\n",
       "      <td>Avon and Somerset</td>\n",
       "      <td>Theft offences</td>\n",
       "      <td>No suspect identified</td>\n",
       "      <td>2019</td>\n",
       "      <td>No Lockdown</td>\n",
       "      <td>South West</td>\n",
       "    </tr>\n",
       "    <tr>\n",
       "      <th>4</th>\n",
       "      <td>ca01d599d45f6e1d1bc5b05ddc6a1b559870fc831baa8e...</td>\n",
       "      <td>2019-01</td>\n",
       "      <td>Avon and Somerset</td>\n",
       "      <td>Theft offences</td>\n",
       "      <td>No suspect identified</td>\n",
       "      <td>2019</td>\n",
       "      <td>No Lockdown</td>\n",
       "      <td>South West</td>\n",
       "    </tr>\n",
       "  </tbody>\n",
       "</table>\n",
       "</div>"
      ],
      "text/plain": [
       "                                            Crime_ID    Month  \\\n",
       "0  e9a50727f2189e0c50f704e3661bc1a8ae3a39aece4866...  2019-01   \n",
       "1  fb06f54e9d633a961109ef74171e4beb40b2fe44e57a10...  2019-01   \n",
       "2  4655ba031d5c8d00b247577a22472fbb8f9130d98b7d95...  2019-01   \n",
       "3  2830f28a4a93138717182d1cc51b6d77cfaf3c27398934...  2019-01   \n",
       "4  ca01d599d45f6e1d1bc5b05ddc6a1b559870fc831baa8e...  2019-01   \n",
       "\n",
       "         Reported_by                    Crime_type  \\\n",
       "0  Avon and Somerset  Violence and sexual offences   \n",
       "1  Avon and Somerset  Violence and sexual offences   \n",
       "2  Avon and Somerset  Violence and sexual offences   \n",
       "3  Avon and Somerset                Theft offences   \n",
       "4  Avon and Somerset                Theft offences   \n",
       "\n",
       "                  Outcome_type  Year Level_of_Lockdown      Region  \n",
       "0        No suspect identified  2019       No Lockdown  South West  \n",
       "1  Unable to prosecute suspect  2019       No Lockdown  South West  \n",
       "2        No suspect identified  2019       No Lockdown  South West  \n",
       "3        No suspect identified  2019       No Lockdown  South West  \n",
       "4        No suspect identified  2019       No Lockdown  South West  "
      ]
     },
     "execution_count": 4,
     "metadata": {},
     "output_type": "execute_result"
    }
   ],
   "source": [
    "df.head()"
   ]
  },
  {
   "cell_type": "code",
   "execution_count": 59,
   "id": "718742bd",
   "metadata": {},
   "outputs": [
    {
     "data": {
      "text/plain": [
       "Violence and sexual offences    4543174\n",
       "Theft offences                  2837513\n",
       "Criminal damage and arson       1242544\n",
       "Public order offences           1110695\n",
       "Drug offences                    441986\n",
       "Name: Crime_type, dtype: int64"
      ]
     },
     "execution_count": 59,
     "metadata": {},
     "output_type": "execute_result"
    }
   ],
   "source": [
    "df['Crime_type'].value_counts()"
   ]
  },
  {
   "cell_type": "code",
   "execution_count": 6,
   "id": "e9423622",
   "metadata": {},
   "outputs": [],
   "source": [
    "df.Month = pd.to_datetime(df['Month'], format='%Y-%m')"
   ]
  },
  {
   "cell_type": "code",
   "execution_count": 7,
   "id": "7759b9ab",
   "metadata": {},
   "outputs": [],
   "source": [
    "grouped = df.groupby(['Month','Crime_type'])['Crime_ID'].count()\n",
    "grouped = grouped.reset_index().rename(columns={'Crime_ID':'Count'})"
   ]
  },
  {
   "cell_type": "code",
   "execution_count": 61,
   "id": "511530eb",
   "metadata": {},
   "outputs": [
    {
     "data": {
      "image/png": "[encoded data removed]",
      "text/plain": [
       "<Figure size 1080x720 with 1 Axes>"
      ]
     },
     "metadata": {
      "needs_background": "light"
     },
     "output_type": "display_data"
    }
   ],
   "source": [
    "plt.figure(figsize=(15,10))\n",
    "sns.lineplot(data=grouped,x='Month',y='Count', hue='Crime_type')\n",
    "plt.show()"
   ]
  },
  {
   "cell_type": "code",
   "execution_count": 95,
   "id": "d5ad34ea",
   "metadata": {},
   "outputs": [
    {
     "data": {
      "text/html": [
       "<div>\n",
       "<style scoped>\n",
       "    .dataframe tbody tr th:only-of-type {\n",
       "        vertical-align: middle;\n",
       "    }\n",
       "\n",
       "    .dataframe tbody tr th {\n",
       "        vertical-align: top;\n",
       "    }\n",
       "\n",
       "    .dataframe thead th {\n",
       "        text-align: right;\n",
       "    }\n",
       "</style>\n",
       "<table border=\"1\" class=\"dataframe\">\n",
       "  <thead>\n",
       "    <tr style=\"text-align: right;\">\n",
       "      <th></th>\n",
       "      <th>Month</th>\n",
       "      <th>Crime_type</th>\n",
       "      <th>Count</th>\n",
       "    </tr>\n",
       "  </thead>\n",
       "  <tbody>\n",
       "    <tr>\n",
       "      <th>0</th>\n",
       "      <td>2019-01-01</td>\n",
       "      <td>Criminal damage and arson</td>\n",
       "      <td>39310</td>\n",
       "    </tr>\n",
       "    <tr>\n",
       "      <th>1</th>\n",
       "      <td>2019-01-01</td>\n",
       "      <td>Drug offences</td>\n",
       "      <td>11424</td>\n",
       "    </tr>\n",
       "    <tr>\n",
       "      <th>2</th>\n",
       "      <td>2019-01-01</td>\n",
       "      <td>Public order offences</td>\n",
       "      <td>26327</td>\n",
       "    </tr>\n",
       "    <tr>\n",
       "      <th>3</th>\n",
       "      <td>2019-01-01</td>\n",
       "      <td>Theft offences</td>\n",
       "      <td>100874</td>\n",
       "    </tr>\n",
       "    <tr>\n",
       "      <th>4</th>\n",
       "      <td>2019-01-01</td>\n",
       "      <td>Violence and sexual offences</td>\n",
       "      <td>124529</td>\n",
       "    </tr>\n",
       "    <tr>\n",
       "      <th>...</th>\n",
       "      <td>...</td>\n",
       "      <td>...</td>\n",
       "      <td>...</td>\n",
       "    </tr>\n",
       "    <tr>\n",
       "      <th>175</th>\n",
       "      <td>2021-12-01</td>\n",
       "      <td>Criminal damage and arson</td>\n",
       "      <td>19252</td>\n",
       "    </tr>\n",
       "    <tr>\n",
       "      <th>176</th>\n",
       "      <td>2021-12-01</td>\n",
       "      <td>Drug offences</td>\n",
       "      <td>4987</td>\n",
       "    </tr>\n",
       "    <tr>\n",
       "      <th>177</th>\n",
       "      <td>2021-12-01</td>\n",
       "      <td>Public order offences</td>\n",
       "      <td>14742</td>\n",
       "    </tr>\n",
       "    <tr>\n",
       "      <th>178</th>\n",
       "      <td>2021-12-01</td>\n",
       "      <td>Theft offences</td>\n",
       "      <td>42251</td>\n",
       "    </tr>\n",
       "    <tr>\n",
       "      <th>179</th>\n",
       "      <td>2021-12-01</td>\n",
       "      <td>Violence and sexual offences</td>\n",
       "      <td>51188</td>\n",
       "    </tr>\n",
       "  </tbody>\n",
       "</table>\n",
       "<p>180 rows × 3 columns</p>\n",
       "</div>"
      ],
      "text/plain": [
       "         Month                    Crime_type   Count\n",
       "0   2019-01-01     Criminal damage and arson   39310\n",
       "1   2019-01-01                 Drug offences   11424\n",
       "2   2019-01-01         Public order offences   26327\n",
       "3   2019-01-01                Theft offences  100874\n",
       "4   2019-01-01  Violence and sexual offences  124529\n",
       "..         ...                           ...     ...\n",
       "175 2021-12-01     Criminal damage and arson   19252\n",
       "176 2021-12-01                 Drug offences    4987\n",
       "177 2021-12-01         Public order offences   14742\n",
       "178 2021-12-01                Theft offences   42251\n",
       "179 2021-12-01  Violence and sexual offences   51188\n",
       "\n",
       "[180 rows x 3 columns]"
      ]
     },
     "execution_count": 95,
     "metadata": {},
     "output_type": "execute_result"
    }
   ],
   "source": [
    "grouped"
   ]
  },
  {
   "cell_type": "code",
   "execution_count": 96,
   "id": "d9a00b9e",
   "metadata": {},
   "outputs": [
    {
     "data": {
      "text/plain": [
       "<AxesSubplot:ylabel='Frequency'>"
      ]
     },
     "execution_count": 96,
     "metadata": {},
     "output_type": "execute_result"
    },
    {
     "data": {
      "image/png": "[encoded data removed]",
      "text/plain": [
       "<Figure size 432x288 with 1 Axes>"
      ]
     },
     "metadata": {
      "needs_background": "light"
     },
     "output_type": "display_data"
    }
   ],
   "source": [
    "vio = grouped[grouped['Crime_type']=='Violence and sexual offences']\n",
    "vio = vio.set_index('Month')\n",
    "vio = vio['Count']\n",
    "vio_cut = vio[0:12]\n",
    "vio.plot.hist()"
   ]
  },
  {
   "cell_type": "code",
   "execution_count": 114,
   "id": "69fa9aa2",
   "metadata": {},
   "outputs": [
    {
     "data": {
      "text/plain": [
       "Month\n",
       "2019-01-01    124529\n",
       "2019-02-01    119497\n",
       "2019-03-01    131521\n",
       "2019-04-01    125402\n",
       "2019-05-01    131961\n",
       "2019-06-01    133913\n",
       "2019-07-01    136278\n",
       "2019-08-01    131443\n",
       "2019-09-01    129890\n",
       "2019-10-01    134433\n",
       "2019-11-01    130926\n",
       "2019-12-01    131435\n",
       "2020-01-01    132816\n",
       "2020-02-01    129386\n",
       "2020-03-01    132884\n",
       "2020-04-01    114177\n",
       "2020-05-01    129148\n",
       "2020-06-01    139847\n",
       "2020-07-01    155815\n",
       "2020-08-01    155256\n",
       "2020-09-01    145452\n",
       "2020-10-01    140091\n",
       "2020-11-01    129192\n",
       "2020-12-01    120860\n",
       "2021-01-01    123140\n",
       "2021-02-01    116216\n",
       "2021-03-01    139223\n",
       "2021-04-01    133498\n",
       "2021-05-01    143514\n",
       "2021-06-01    135795\n",
       "2021-07-01    133332\n",
       "2021-08-01    116738\n",
       "2021-09-01    112488\n",
       "2021-10-01    107368\n",
       "2021-11-01     89142\n",
       "2021-12-01     51188\n",
       "Name: Count, dtype: int64"
      ]
     },
     "execution_count": 114,
     "metadata": {},
     "output_type": "execute_result"
    }
   ],
   "source": [
    "vio"
   ]
  },
  {
   "cell_type": "code",
   "execution_count": 97,
   "id": "7e5295aa",
   "metadata": {},
   "outputs": [
    {
     "data": {
      "text/plain": [
       "0.9940593894569902"
      ]
     },
     "execution_count": 97,
     "metadata": {},
     "output_type": "execute_result"
    }
   ],
   "source": [
    "from statsmodels.tsa.stattools import adfuller\n",
    "adfuller(vio)[1]"
   ]
  },
  {
   "cell_type": "code",
   "execution_count": 98,
   "id": "463c4cb4",
   "metadata": {},
   "outputs": [
    {
     "data": {
      "text/plain": [
       "<AxesSubplot:xlabel='Lag', ylabel='Autocorrelation'>"
      ]
     },
     "execution_count": 98,
     "metadata": {},
     "output_type": "execute_result"
    },
    {
     "data": {
      "image/png": "[encoded data removed]",
      "text/plain": [
       "<Figure size 432x288 with 1 Axes>"
      ]
     },
     "metadata": {
      "needs_background": "light"
     },
     "output_type": "display_data"
    }
   ],
   "source": [
    "autocorrelation_plot(vio_cut)"
   ]
  },
  {
   "cell_type": "code",
   "execution_count": 99,
   "id": "64b30503",
   "metadata": {},
   "outputs": [
    {
     "data": {
      "text/plain": [
       "Month\n",
       "2019-01-01    124529\n",
       "2019-02-01    119497\n",
       "2019-03-01    131521\n",
       "2019-04-01    125402\n",
       "2019-05-01    131961\n",
       "2019-06-01    133913\n",
       "2019-07-01    136278\n",
       "2019-08-01    131443\n",
       "2019-09-01    129890\n",
       "2019-10-01    134433\n",
       "2019-11-01    130926\n",
       "2019-12-01    131435\n",
       "Name: Count, dtype: int64"
      ]
     },
     "execution_count": 99,
     "metadata": {},
     "output_type": "execute_result"
    }
   ],
   "source": [
    "train = vio_cut\n",
    "train"
   ]
  },
  {
   "cell_type": "code",
   "execution_count": 100,
   "id": "6b1dbc28",
   "metadata": {},
   "outputs": [
    {
     "name": "stdout",
     "output_type": "stream",
     "text": [
      "Performing stepwise search to minimize aic\n",
      " ARIMA(2,1,2)(0,0,0)[0] intercept   : AIC=14519059423554.135, Time=0.05 sec\n",
      " ARIMA(0,1,0)(0,0,0)[0] intercept   : AIC=224.068, Time=0.00 sec\n",
      " ARIMA(1,1,0)(0,0,0)[0] intercept   : AIC=224.758, Time=0.01 sec\n",
      " ARIMA(0,1,1)(0,0,0)[0] intercept   : AIC=230.503, Time=0.01 sec\n",
      " ARIMA(0,1,0)(0,0,0)[0]             : AIC=222.219, Time=0.00 sec\n",
      " ARIMA(1,1,1)(0,0,0)[0] intercept   : AIC=218.786, Time=0.03 sec\n",
      " ARIMA(2,1,1)(0,0,0)[0] intercept   : AIC=216.504, Time=0.05 sec\n",
      " ARIMA(2,1,0)(0,0,0)[0] intercept   : AIC=218.361, Time=0.05 sec\n",
      " ARIMA(3,1,1)(0,0,0)[0] intercept   : AIC=218.404, Time=0.04 sec\n",
      " ARIMA(1,1,2)(0,0,0)[0] intercept   : AIC=218.849, Time=0.08 sec\n",
      " ARIMA(3,1,0)(0,0,0)[0] intercept   : AIC=217.441, Time=0.03 sec\n",
      " ARIMA(3,1,2)(0,0,0)[0] intercept   : AIC=inf, Time=0.13 sec\n",
      " ARIMA(2,1,1)(0,0,0)[0]             : AIC=214.664, Time=0.03 sec\n",
      " ARIMA(1,1,1)(0,0,0)[0]             : AIC=217.556, Time=0.04 sec\n",
      " ARIMA(2,1,0)(0,0,0)[0]             : AIC=216.032, Time=0.01 sec\n",
      " ARIMA(3,1,1)(0,0,0)[0]             : AIC=216.638, Time=0.05 sec\n",
      " ARIMA(2,1,2)(0,0,0)[0]             : AIC=238.693, Time=0.06 sec\n",
      " ARIMA(1,1,0)(0,0,0)[0]             : AIC=223.201, Time=0.01 sec\n",
      " ARIMA(1,1,2)(0,0,0)[0]             : AIC=221.122, Time=0.03 sec\n",
      " ARIMA(3,1,0)(0,0,0)[0]             : AIC=215.785, Time=0.01 sec\n",
      " ARIMA(3,1,2)(0,0,0)[0]             : AIC=inf, Time=nan sec\n",
      "\n",
      "Best model:  ARIMA(2,1,1)(0,0,0)[0]          \n",
      "Total fit time: 0.771 seconds\n"
     ]
    },
    {
     "name": "stderr",
     "output_type": "stream",
     "text": [
      "C:\\Users\\ellio\\anaconda3\\lib\\site-packages\\pmdarima\\arima\\_auto_solvers.py:522: ModelFitWarning: Error fitting  ARIMA(3,1,2)(0,0,0)[0]           (if you do not want to see these warnings, run with error_action=\"ignore\").\n",
      "Traceback:\n",
      "Traceback (most recent call last):\n",
      "  File \"C:\\Users\\ellio\\anaconda3\\lib\\site-packages\\pmdarima\\arima\\_auto_solvers.py\", line 506, in _fit_candidate_model\n",
      "    fit.fit(y, X=X, **fit_params)\n",
      "  File \"C:\\Users\\ellio\\anaconda3\\lib\\site-packages\\pmdarima\\arima\\arima.py\", line 597, in fit\n",
      "    self._fit(y, X, **fit_args)\n",
      "  File \"C:\\Users\\ellio\\anaconda3\\lib\\site-packages\\pmdarima\\arima\\arima.py\", line 518, in _fit\n",
      "    fit, self.arima_res_ = _fit_wrapper()\n",
      "  File \"C:\\Users\\ellio\\anaconda3\\lib\\site-packages\\pmdarima\\arima\\arima.py\", line 508, in _fit_wrapper\n",
      "    return arima, arima.fit(start_params=start_params,\n",
      "  File \"C:\\Users\\ellio\\anaconda3\\lib\\site-packages\\statsmodels\\tsa\\statespace\\mlemodel.py\", line 690, in fit\n",
      "    mlefit = super(MLEModel, self).fit(start_params, method=method,\n",
      "  File \"C:\\Users\\ellio\\anaconda3\\lib\\site-packages\\statsmodels\\base\\model.py\", line 519, in fit\n",
      "    xopt, retvals, optim_settings = optimizer._fit(f, score, start_params,\n",
      "  File \"C:\\Users\\ellio\\anaconda3\\lib\\site-packages\\statsmodels\\base\\optimizer.py\", line 224, in _fit\n",
      "    xopt, retvals = func(objective, gradient, start_params, fargs, kwargs,\n",
      "  File \"C:\\Users\\ellio\\anaconda3\\lib\\site-packages\\statsmodels\\base\\optimizer.py\", line 629, in _fit_lbfgs\n",
      "    retvals = optimize.fmin_l_bfgs_b(func, start_params, maxiter=maxiter,\n",
      "  File \"C:\\Users\\ellio\\anaconda3\\lib\\site-packages\\scipy\\optimize\\lbfgsb.py\", line 197, in fmin_l_bfgs_b\n",
      "    res = _minimize_lbfgsb(fun, x0, args=args, jac=jac, bounds=bounds,\n",
      "  File \"C:\\Users\\ellio\\anaconda3\\lib\\site-packages\\scipy\\optimize\\lbfgsb.py\", line 360, in _minimize_lbfgsb\n",
      "    f, g = func_and_grad(x)\n",
      "  File \"C:\\Users\\ellio\\anaconda3\\lib\\site-packages\\scipy\\optimize\\_differentiable_functions.py\", line 260, in fun_and_grad\n",
      "    self._update_fun()\n",
      "  File \"C:\\Users\\ellio\\anaconda3\\lib\\site-packages\\scipy\\optimize\\_differentiable_functions.py\", line 226, in _update_fun\n",
      "    self._update_fun_impl()\n",
      "  File \"C:\\Users\\ellio\\anaconda3\\lib\\site-packages\\scipy\\optimize\\_differentiable_functions.py\", line 133, in update_fun\n",
      "    self.f = fun_wrapped(self.x)\n",
      "  File \"C:\\Users\\ellio\\anaconda3\\lib\\site-packages\\scipy\\optimize\\_differentiable_functions.py\", line 130, in fun_wrapped\n",
      "    return fun(x, *args)\n",
      "  File \"C:\\Users\\ellio\\anaconda3\\lib\\site-packages\\statsmodels\\base\\model.py\", line 501, in f\n",
      "    return -self.loglike(params, *args) / nobs\n",
      "  File \"C:\\Users\\ellio\\anaconda3\\lib\\site-packages\\statsmodels\\tsa\\statespace\\mlemodel.py\", line 925, in loglike\n",
      "    loglike = self.ssm.loglike(complex_step=complex_step, **kwargs)\n",
      "  File \"C:\\Users\\ellio\\anaconda3\\lib\\site-packages\\statsmodels\\tsa\\statespace\\kalman_filter.py\", line 983, in loglike\n",
      "    kfilter = self._filter(**kwargs)\n",
      "  File \"C:\\Users\\ellio\\anaconda3\\lib\\site-packages\\statsmodels\\tsa\\statespace\\kalman_filter.py\", line 903, in _filter\n",
      "    self._initialize_state(prefix=prefix, complex_step=complex_step)\n",
      "  File \"C:\\Users\\ellio\\anaconda3\\lib\\site-packages\\statsmodels\\tsa\\statespace\\representation.py\", line 985, in _initialize_state\n",
      "    self._statespaces[prefix].initialize(self.initialization,\n",
      "  File \"statsmodels\\tsa\\statespace\\_representation.pyx\", line 1373, in statsmodels.tsa.statespace._representation.dStatespace.initialize\n",
      "  File \"statsmodels\\tsa\\statespace\\_representation.pyx\", line 1362, in statsmodels.tsa.statespace._representation.dStatespace.initialize\n",
      "  File \"statsmodels\\tsa\\statespace\\_initialization.pyx\", line 288, in statsmodels.tsa.statespace._initialization.dInitialization.initialize\n",
      "  File \"statsmodels\\tsa\\statespace\\_initialization.pyx\", line 406, in statsmodels.tsa.statespace._initialization.dInitialization.initialize_stationary_stationary_cov\n",
      "  File \"statsmodels\\tsa\\statespace\\_tools.pyx\", line 1206, in statsmodels.tsa.statespace._tools._dsolve_discrete_lyapunov\n",
      "numpy.linalg.LinAlgError: LU decomposition error.\n",
      "\n",
      "  warnings.warn(warning_str, ModelFitWarning)\n"
     ]
    },
    {
     "data": {
      "text/html": [
       "<table class=\"simpletable\">\n",
       "<caption>SARIMAX Results</caption>\n",
       "<tr>\n",
       "  <th>Dep. Variable:</th>           <td>y</td>        <th>  No. Observations:  </th>    <td>12</td>   \n",
       "</tr>\n",
       "<tr>\n",
       "  <th>Model:</th>           <td>SARIMAX(2, 1, 1)</td> <th>  Log Likelihood     </th> <td>-103.332</td>\n",
       "</tr>\n",
       "<tr>\n",
       "  <th>Date:</th>            <td>Thu, 23 Jun 2022</td> <th>  AIC                </th>  <td>214.664</td>\n",
       "</tr>\n",
       "<tr>\n",
       "  <th>Time:</th>                <td>13:28:45</td>     <th>  BIC                </th>  <td>216.255</td>\n",
       "</tr>\n",
       "<tr>\n",
       "  <th>Sample:</th>                  <td>0</td>        <th>  HQIC               </th>  <td>213.660</td>\n",
       "</tr>\n",
       "<tr>\n",
       "  <th></th>                       <td> - 12</td>      <th>                     </th>     <td> </td>   \n",
       "</tr>\n",
       "<tr>\n",
       "  <th>Covariance Type:</th>        <td>opg</td>       <th>                     </th>     <td> </td>   \n",
       "</tr>\n",
       "</table>\n",
       "<table class=\"simpletable\">\n",
       "<tr>\n",
       "     <td></td>       <th>coef</th>     <th>std err</th>      <th>z</th>      <th>P>|z|</th>  <th>[0.025</th>    <th>0.975]</th>  \n",
       "</tr>\n",
       "<tr>\n",
       "  <th>ar.L1</th>  <td>   -0.4682</td> <td>    0.842</td> <td>   -0.556</td> <td> 0.578</td> <td>   -2.119</td> <td>    1.183</td>\n",
       "</tr>\n",
       "<tr>\n",
       "  <th>ar.L2</th>  <td>    0.0836</td> <td>    0.355</td> <td>    0.236</td> <td> 0.814</td> <td>   -0.611</td> <td>    0.779</td>\n",
       "</tr>\n",
       "<tr>\n",
       "  <th>ma.L1</th>  <td>    0.4336</td> <td>    0.887</td> <td>    0.489</td> <td> 0.625</td> <td>   -1.305</td> <td>    2.172</td>\n",
       "</tr>\n",
       "<tr>\n",
       "  <th>sigma2</th> <td> 1.106e+07</td> <td> 6.78e-08</td> <td> 1.63e+14</td> <td> 0.000</td> <td> 1.11e+07</td> <td> 1.11e+07</td>\n",
       "</tr>\n",
       "</table>\n",
       "<table class=\"simpletable\">\n",
       "<tr>\n",
       "  <th>Ljung-Box (L1) (Q):</th>     <td>0.16</td> <th>  Jarque-Bera (JB):  </th> <td>0.33</td>\n",
       "</tr>\n",
       "<tr>\n",
       "  <th>Prob(Q):</th>                <td>0.69</td> <th>  Prob(JB):          </th> <td>0.85</td>\n",
       "</tr>\n",
       "<tr>\n",
       "  <th>Heteroskedasticity (H):</th> <td>5.81</td> <th>  Skew:              </th> <td>0.13</td>\n",
       "</tr>\n",
       "<tr>\n",
       "  <th>Prob(H) (two-sided):</th>    <td>0.12</td> <th>  Kurtosis:          </th> <td>2.19</td>\n",
       "</tr>\n",
       "</table><br/><br/>Warnings:<br/>[1] Covariance matrix calculated using the outer product of gradients (complex-step).<br/>[2] Covariance matrix is singular or near-singular, with condition number 2.74e+30. Standard errors may be unstable."
      ],
      "text/plain": [
       "<class 'statsmodels.iolib.summary.Summary'>\n",
       "\"\"\"\n",
       "                               SARIMAX Results                                \n",
       "==============================================================================\n",
       "Dep. Variable:                      y   No. Observations:                   12\n",
       "Model:               SARIMAX(2, 1, 1)   Log Likelihood                -103.332\n",
       "Date:                Thu, 23 Jun 2022   AIC                            214.664\n",
       "Time:                        13:28:45   BIC                            216.255\n",
       "Sample:                             0   HQIC                           213.660\n",
       "                                 - 12                                         \n",
       "Covariance Type:                  opg                                         \n",
       "==============================================================================\n",
       "                 coef    std err          z      P>|z|      [0.025      0.975]\n",
       "------------------------------------------------------------------------------\n",
       "ar.L1         -0.4682      0.842     -0.556      0.578      -2.119       1.183\n",
       "ar.L2          0.0836      0.355      0.236      0.814      -0.611       0.779\n",
       "ma.L1          0.4336      0.887      0.489      0.625      -1.305       2.172\n",
       "sigma2      1.106e+07   6.78e-08   1.63e+14      0.000    1.11e+07    1.11e+07\n",
       "===================================================================================\n",
       "Ljung-Box (L1) (Q):                   0.16   Jarque-Bera (JB):                 0.33\n",
       "Prob(Q):                              0.69   Prob(JB):                         0.85\n",
       "Heteroskedasticity (H):               5.81   Skew:                             0.13\n",
       "Prob(H) (two-sided):                  0.12   Kurtosis:                         2.19\n",
       "===================================================================================\n",
       "\n",
       "Warnings:\n",
       "[1] Covariance matrix calculated using the outer product of gradients (complex-step).\n",
       "[2] Covariance matrix is singular or near-singular, with condition number 2.74e+30. Standard errors may be unstable.\n",
       "\"\"\""
      ]
     },
     "execution_count": 100,
     "metadata": {},
     "output_type": "execute_result"
    }
   ],
   "source": [
    "stepwise_fit = auto_arima(train,trace=True,suppress_warnings=True,d=1)\n",
    "stepwise_fit.summary()"
   ]
  },
  {
   "cell_type": "code",
   "execution_count": 112,
   "id": "9f9cd2b5",
   "metadata": {},
   "outputs": [
    {
     "name": "stdout",
     "output_type": "stream",
     "text": [
      "2020-01-01    126403.0\n",
      "2020-02-01    138427.0\n",
      "2020-03-01    132308.0\n",
      "2020-04-01    138867.0\n",
      "2020-05-01    140819.0\n",
      "2020-06-01    143184.0\n",
      "2020-07-01    138349.0\n",
      "2020-08-01    136796.0\n",
      "2020-09-01    141339.0\n",
      "2020-10-01    137832.0\n",
      "2020-11-01    138341.0\n",
      "2020-12-01    133309.0\n",
      "2021-01-01    145333.0\n",
      "2021-02-01    139214.0\n",
      "2021-03-01    145773.0\n",
      "2021-04-01    147725.0\n",
      "2021-05-01    150090.0\n",
      "2021-06-01    145255.0\n",
      "2021-07-01    143702.0\n",
      "2021-08-01    148245.0\n",
      "Freq: MS, Name: predicted_mean, dtype: float64\n"
     ]
    },
    {
     "name": "stderr",
     "output_type": "stream",
     "text": [
      "C:\\Users\\ellio\\anaconda3\\lib\\site-packages\\statsmodels\\tsa\\statespace\\sarimax.py:866: UserWarning: Too few observations to estimate starting parameters for ARMA and trend. All parameters except for variances will be set to zeros.\n",
      "  warn('Too few observations to estimate starting parameters%s.'\n",
      "C:\\Users\\ellio\\anaconda3\\lib\\site-packages\\statsmodels\\tsa\\statespace\\sarimax.py:866: UserWarning: Too few observations to estimate starting parameters for seasonal ARMA. All parameters except for variances will be set to zeros.\n",
      "  warn('Too few observations to estimate starting parameters%s.'\n",
      "C:\\Users\\ellio\\anaconda3\\lib\\site-packages\\statsmodels\\tsa\\statespace\\mlemodel.py:1220: RuntimeWarning: invalid value encountered in true_divide\n",
      "  np.inner(score_obs, score_obs) /\n"
     ]
    }
   ],
   "source": [
    "from statsmodels.tsa.arima.model import ARIMA\n",
    "train.index = pd.DatetimeIndex(train.index.values,\n",
    "                               freq=train.index.inferred_freq)\n",
    "model = ARIMA(train, order=(1,1,2),seasonal_order=(1,1,1,11))\n",
    "model_fit = model.fit()\n",
    "yhat = model_fit.predict(len(train), len(train)+19) \n",
    "print(yhat)\n"
   ]
  },
  {
   "cell_type": "code",
   "execution_count": 102,
   "id": "e6af3238",
   "metadata": {},
   "outputs": [
    {
     "data": {
      "text/html": [
       "<div>\n",
       "<style scoped>\n",
       "    .dataframe tbody tr th:only-of-type {\n",
       "        vertical-align: middle;\n",
       "    }\n",
       "\n",
       "    .dataframe tbody tr th {\n",
       "        vertical-align: top;\n",
       "    }\n",
       "\n",
       "    .dataframe thead th {\n",
       "        text-align: right;\n",
       "    }\n",
       "</style>\n",
       "<table border=\"1\" class=\"dataframe\">\n",
       "  <thead>\n",
       "    <tr style=\"text-align: right;\">\n",
       "      <th></th>\n",
       "      <th>lower Count</th>\n",
       "      <th>upper Count</th>\n",
       "    </tr>\n",
       "  </thead>\n",
       "  <tbody>\n",
       "    <tr>\n",
       "      <th>2020-01-01</th>\n",
       "      <td>192313.625576</td>\n",
       "      <td>195085.436689</td>\n",
       "    </tr>\n",
       "    <tr>\n",
       "      <th>2020-02-01</th>\n",
       "      <td>187281.624190</td>\n",
       "      <td>190053.438075</td>\n",
       "    </tr>\n",
       "    <tr>\n",
       "      <th>2020-03-01</th>\n",
       "      <td>199305.622804</td>\n",
       "      <td>202077.439461</td>\n",
       "    </tr>\n",
       "    <tr>\n",
       "      <th>2020-04-01</th>\n",
       "      <td>193186.621418</td>\n",
       "      <td>195958.440847</td>\n",
       "    </tr>\n",
       "    <tr>\n",
       "      <th>2020-05-01</th>\n",
       "      <td>199745.620032</td>\n",
       "      <td>202517.442233</td>\n",
       "    </tr>\n",
       "    <tr>\n",
       "      <th>2020-06-01</th>\n",
       "      <td>201697.618646</td>\n",
       "      <td>204469.443618</td>\n",
       "    </tr>\n",
       "    <tr>\n",
       "      <th>2020-07-01</th>\n",
       "      <td>204062.617260</td>\n",
       "      <td>206834.445004</td>\n",
       "    </tr>\n",
       "    <tr>\n",
       "      <th>2020-08-01</th>\n",
       "      <td>199227.615874</td>\n",
       "      <td>201999.446390</td>\n",
       "    </tr>\n",
       "    <tr>\n",
       "      <th>2020-09-01</th>\n",
       "      <td>197674.614488</td>\n",
       "      <td>200446.447776</td>\n",
       "    </tr>\n",
       "    <tr>\n",
       "      <th>2020-10-01</th>\n",
       "      <td>202217.613102</td>\n",
       "      <td>204989.449162</td>\n",
       "    </tr>\n",
       "    <tr>\n",
       "      <th>2020-11-01</th>\n",
       "      <td>198710.611717</td>\n",
       "      <td>201482.450548</td>\n",
       "    </tr>\n",
       "    <tr>\n",
       "      <th>2020-12-01</th>\n",
       "      <td>199219.610331</td>\n",
       "      <td>201991.451934</td>\n",
       "    </tr>\n",
       "    <tr>\n",
       "      <th>2021-01-01</th>\n",
       "      <td>260098.242836</td>\n",
       "      <td>265641.881693</td>\n",
       "    </tr>\n",
       "    <tr>\n",
       "      <th>2021-02-01</th>\n",
       "      <td>255066.240064</td>\n",
       "      <td>260609.884465</td>\n",
       "    </tr>\n",
       "    <tr>\n",
       "      <th>2021-03-01</th>\n",
       "      <td>267090.237292</td>\n",
       "      <td>272633.887237</td>\n",
       "    </tr>\n",
       "    <tr>\n",
       "      <th>2021-04-01</th>\n",
       "      <td>260971.234520</td>\n",
       "      <td>266514.890009</td>\n",
       "    </tr>\n",
       "    <tr>\n",
       "      <th>2021-05-01</th>\n",
       "      <td>267530.231748</td>\n",
       "      <td>273073.892780</td>\n",
       "    </tr>\n",
       "    <tr>\n",
       "      <th>2021-06-01</th>\n",
       "      <td>269482.228977</td>\n",
       "      <td>275025.895552</td>\n",
       "    </tr>\n",
       "    <tr>\n",
       "      <th>2021-07-01</th>\n",
       "      <td>271847.226205</td>\n",
       "      <td>277390.898324</td>\n",
       "    </tr>\n",
       "    <tr>\n",
       "      <th>2021-08-01</th>\n",
       "      <td>267012.223433</td>\n",
       "      <td>272555.901096</td>\n",
       "    </tr>\n",
       "  </tbody>\n",
       "</table>\n",
       "</div>"
      ],
      "text/plain": [
       "              lower Count    upper Count\n",
       "2020-01-01  192313.625576  195085.436689\n",
       "2020-02-01  187281.624190  190053.438075\n",
       "2020-03-01  199305.622804  202077.439461\n",
       "2020-04-01  193186.621418  195958.440847\n",
       "2020-05-01  199745.620032  202517.442233\n",
       "2020-06-01  201697.618646  204469.443618\n",
       "2020-07-01  204062.617260  206834.445004\n",
       "2020-08-01  199227.615874  201999.446390\n",
       "2020-09-01  197674.614488  200446.447776\n",
       "2020-10-01  202217.613102  204989.449162\n",
       "2020-11-01  198710.611717  201482.450548\n",
       "2020-12-01  199219.610331  201991.451934\n",
       "2021-01-01  260098.242836  265641.881693\n",
       "2021-02-01  255066.240064  260609.884465\n",
       "2021-03-01  267090.237292  272633.887237\n",
       "2021-04-01  260971.234520  266514.890009\n",
       "2021-05-01  267530.231748  273073.892780\n",
       "2021-06-01  269482.228977  275025.895552\n",
       "2021-07-01  271847.226205  277390.898324\n",
       "2021-08-01  267012.223433  272555.901096"
      ]
     },
     "execution_count": 102,
     "metadata": {},
     "output_type": "execute_result"
    }
   ],
   "source": [
    "forecast = model_fit.get_forecast(20)\n",
    "yhat_conf_int = forecast.conf_int(alpha=0.05)\n",
    "yhat_conf_int"
   ]
  },
  {
   "cell_type": "code",
   "execution_count": 113,
   "id": "6434ba81",
   "metadata": {},
   "outputs": [
    {
     "data": {
      "text/plain": [
       "<matplotlib.legend.Legend at 0x27692980190>"
      ]
     },
     "execution_count": 113,
     "metadata": {},
     "output_type": "execute_result"
    },
    {
     "data": {
      "image/png": "[encoded data removed]",
      "text/plain": [
       "<Figure size 936x576 with 1 Axes>"
      ]
     },
     "metadata": {
      "needs_background": "light"
     },
     "output_type": "display_data"
    }
   ],
   "source": [
    "plt.figure(figsize=(13,8))\n",
    "sns.lineplot(data=vio,label='original')\n",
    "sns.lineplot(data=yhat,label='predicted')\n",
    "#sns.lineplot(data=yhat_conf_int,label='blah')\n",
    "plt.xticks(rotation = 45)\n",
    "plt.legend()"
   ]
  },
  {
   "cell_type": "code",
   "execution_count": 104,
   "id": "18a67af8",
   "metadata": {},
   "outputs": [],
   "source": [
    "vio_normed = vio/67220000*10000\n",
    "yhat_normed = yhat/67220000*10000"
   ]
  },
  {
   "cell_type": "code",
   "execution_count": 105,
   "id": "7df32e18",
   "metadata": {},
   "outputs": [
    {
     "data": {
      "text/plain": [
       "(array([18262., 18322., 18383., 18444., 18506., 18567., 18628., 18687.,\n",
       "        18748., 18809.]),\n",
       " [Text(0, 0, ''),\n",
       "  Text(0, 0, ''),\n",
       "  Text(0, 0, ''),\n",
       "  Text(0, 0, ''),\n",
       "  Text(0, 0, ''),\n",
       "  Text(0, 0, ''),\n",
       "  Text(0, 0, ''),\n",
       "  Text(0, 0, ''),\n",
       "  Text(0, 0, ''),\n",
       "  Text(0, 0, '')])"
      ]
     },
     "execution_count": 105,
     "metadata": {},
     "output_type": "execute_result"
    },
    {
     "data": {
      "image/png": "[encoded data removed]",
      "text/plain": [
       "<Figure size 432x288 with 1 Axes>"
      ]
     },
     "metadata": {
      "needs_background": "light"
     },
     "output_type": "display_data"
    }
   ],
   "source": [
    "sns.lineplot(data=vio_normed[14:18])\n",
    "sns.lineplot(data=yhat_normed)\n",
    "plt.xticks(rotation = 45)"
   ]
  },
  {
   "cell_type": "code",
   "execution_count": 106,
   "id": "c277437c",
   "metadata": {},
   "outputs": [
    {
     "ename": "NameError",
     "evalue": "name 'rolling_mean' is not defined",
     "output_type": "error",
     "traceback": [
      "\u001b[1;31m---------------------------------------------------------------------------\u001b[0m",
      "\u001b[1;31mNameError\u001b[0m                                 Traceback (most recent call last)",
      "\u001b[1;32m<ipython-input-106-6922b0ce0d4d>\u001b[0m in \u001b[0;36m<module>\u001b[1;34m\u001b[0m\n\u001b[1;32m----> 1\u001b[1;33m \u001b[0mmodel\u001b[0m \u001b[1;33m=\u001b[0m \u001b[0mARIMA\u001b[0m\u001b[1;33m(\u001b[0m\u001b[0mrolling_mean\u001b[0m\u001b[1;33m,\u001b[0m \u001b[0morder\u001b[0m\u001b[1;33m=\u001b[0m\u001b[1;33m(\u001b[0m\u001b[1;36m0\u001b[0m\u001b[1;33m,\u001b[0m\u001b[1;36m1\u001b[0m\u001b[1;33m,\u001b[0m\u001b[1;36m0\u001b[0m\u001b[1;33m)\u001b[0m\u001b[1;33m)\u001b[0m\u001b[1;33m\u001b[0m\u001b[1;33m\u001b[0m\u001b[0m\n\u001b[0m\u001b[0;32m      2\u001b[0m \u001b[0mmodel_fit\u001b[0m \u001b[1;33m=\u001b[0m \u001b[0mmodel\u001b[0m\u001b[1;33m.\u001b[0m\u001b[0mfit\u001b[0m\u001b[1;33m(\u001b[0m\u001b[1;33m)\u001b[0m\u001b[1;33m\u001b[0m\u001b[1;33m\u001b[0m\u001b[0m\n\u001b[0;32m      3\u001b[0m \u001b[0myhat2\u001b[0m \u001b[1;33m=\u001b[0m \u001b[0mmodel_fit\u001b[0m\u001b[1;33m.\u001b[0m\u001b[0mpredict\u001b[0m\u001b[1;33m(\u001b[0m\u001b[0mlen\u001b[0m\u001b[1;33m(\u001b[0m\u001b[0mrolling_mean\u001b[0m\u001b[1;33m)\u001b[0m\u001b[1;33m,\u001b[0m \u001b[0mlen\u001b[0m\u001b[1;33m(\u001b[0m\u001b[0mrolling_mean\u001b[0m\u001b[1;33m)\u001b[0m\u001b[1;33m+\u001b[0m\u001b[1;36m4\u001b[0m\u001b[1;33m)\u001b[0m\u001b[1;33m\u001b[0m\u001b[1;33m\u001b[0m\u001b[0m\n",
      "\u001b[1;31mNameError\u001b[0m: name 'rolling_mean' is not defined"
     ]
    }
   ],
   "source": [
    "model = ARIMA(rolling_mean, order=(0,1,0))\n",
    "model_fit = model.fit()\n",
    "yhat2 = model_fit.predict(len(rolling_mean), len(rolling_mean)+4) "
   ]
  },
  {
   "cell_type": "code",
   "execution_count": null,
   "id": "ebc8fa36",
   "metadata": {
    "scrolled": true
   },
   "outputs": [],
   "source": []
  },
  {
   "cell_type": "code",
   "execution_count": null,
   "id": "1a4726a6",
   "metadata": {},
   "outputs": [],
   "source": []
  }
 ],
 "metadata": {
  "kernelspec": {
   "display_name": "Python 3",
   "language": "python",
   "name": "python3"
  },
  "language_info": {
   "codemirror_mode": {
    "name": "ipython",
    "version": 3
   },
   "file_extension": ".py",
   "mimetype": "text/x-python",
   "name": "python",
   "nbconvert_exporter": "python",
   "pygments_lexer": "ipython3",
   "version": "3.8.8"
  }
 },
 "nbformat": 4,
 "nbformat_minor": 5
}
