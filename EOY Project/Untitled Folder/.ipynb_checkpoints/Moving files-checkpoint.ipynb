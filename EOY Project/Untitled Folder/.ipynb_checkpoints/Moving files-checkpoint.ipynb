{
 "cells": [
  {
   "cell_type": "code",
   "execution_count": 124,
   "id": "a54fa56f",
   "metadata": {},
   "outputs": [],
   "source": [
    "import glob\n",
    "import os\n",
    "import shutil\n",
    "import re"
   ]
  },
  {
   "cell_type": "code",
   "execution_count": 125,
   "id": "9a777fed",
   "metadata": {},
   "outputs": [],
   "source": [
    "src_folder = r\"D:\\EOY Datasets\\1st Quarter\"\n",
    "dst_folder = r\"D:\\EOY Datasets\\BTP\\\\\""
   ]
  },
  {
   "cell_type": "code",
   "execution_count": 126,
   "id": "5841ba4b",
   "metadata": {},
   "outputs": [],
   "source": [
    "south_east = ['essex','kent','city-of-london','metropolitan','hertfordshire',\n",
    "                'bedfordshire','surrey','hampshire','thames-valley','sussex']\n",
    "south_west = ['devon', 'dorset', 'avon', 'wiltshire', 'gloucestershire','gwent', \n",
    "              'south-wales', 'dyfed-powys', 'west-mercia', 'north-wales']\n",
    "west_midlands = ['warwickshire','west-midlands','staffordshire','derbyshire','cheshire',\n",
    "                 'greater-manchester','merseyside','lancashire']\n",
    "east_midlands = ['suffolk','cambridgeshire','norfolk','northamptonshire','leicestershire',\n",
    "                 'lincolnshire','nottinghamshire','south-yorkshire','humberside','west-yorkshire']\n",
    "north = ['north-yorkshire','durham','northumbria','cumbria','cleveland']\n",
    "btp = ['btp']\n"
   ]
  },
  {
   "cell_type": "code",
   "execution_count": 127,
   "id": "abe85825",
   "metadata": {},
   "outputs": [],
   "source": [
    "combined = \"(\" + \")|(\".join(btp) + \")\""
   ]
  },
  {
   "cell_type": "code",
   "execution_count": 128,
   "id": "0cdcd051",
   "metadata": {},
   "outputs": [
    {
     "name": "stdout",
     "output_type": "stream",
     "text": [
      "butts\n",
      "butts\n",
      "butts\n",
      "butts\n",
      "butts\n",
      "butts\n",
      "butts\n",
      "butts\n",
      "butts\n",
      "butts\n"
     ]
    }
   ],
   "source": [
    "for x in south_east:\n",
    "    if re.match('2019-01-essex-outcomes.csv',x):\n",
    "        print('match')\n",
    "    else:\n",
    "        print('butts')"
   ]
  },
  {
   "cell_type": "code",
   "execution_count": 129,
   "id": "98933e2a",
   "metadata": {},
   "outputs": [
    {
     "data": {
      "text/plain": [
       "<re.Match object; span=(7, 14), match='-essex-'>"
      ]
     },
     "execution_count": 129,
     "metadata": {},
     "output_type": "execute_result"
    }
   ],
   "source": [
    "re.search('-essex-','2019-01-essex-outcomes.csv')"
   ]
  },
  {
   "cell_type": "code",
   "execution_count": 130,
   "id": "c30d62f2",
   "metadata": {},
   "outputs": [
    {
     "data": {
      "text/plain": [
       "['2019-01-btp-stop-and-search.csv',\n",
       " '2019-01-btp-street.csv',\n",
       " '2019-01-northern-ireland-street.csv',\n",
       " '2019-02-btp-stop-and-search.csv',\n",
       " '2019-02-btp-street.csv',\n",
       " '2019-02-northern-ireland-street.csv',\n",
       " '2019-03-btp-stop-and-search.csv',\n",
       " '2019-03-btp-street.csv',\n",
       " '2019-03-northern-ireland-street.csv',\n",
       " '2020-01-btp-stop-and-search.csv',\n",
       " '2020-01-btp-street.csv',\n",
       " '2020-01-northern-ireland-street.csv',\n",
       " '2020-02-btp-stop-and-search.csv',\n",
       " '2020-02-btp-street.csv',\n",
       " '2020-02-northern-ireland-street.csv',\n",
       " '2020-03-btp-stop-and-search.csv',\n",
       " '2020-03-btp-street.csv',\n",
       " '2020-03-northern-ireland-street.csv',\n",
       " '2021-01-btp-stop-and-search.csv',\n",
       " '2021-01-btp-street.csv',\n",
       " '2021-01-northern-ireland-street.csv',\n",
       " '2021-02-btp-stop-and-search.csv',\n",
       " '2021-02-btp-street.csv',\n",
       " '2021-02-northern-ireland-street.csv',\n",
       " '2021-03-btp-stop-and-search.csv',\n",
       " '2021-03-btp-street.csv',\n",
       " '2021-03-northern-ireland-street.csv']"
      ]
     },
     "execution_count": 130,
     "metadata": {},
     "output_type": "execute_result"
    }
   ],
   "source": [
    "os.listdir(src_folder)"
   ]
  },
  {
   "cell_type": "code",
   "execution_count": 131,
   "id": "0ca8cb22",
   "metadata": {},
   "outputs": [
    {
     "name": "stdout",
     "output_type": "stream",
     "text": [
      "Moved: 2019-01-btp-stop-and-search.csv\n",
      "Moved: 2019-01-btp-street.csv\n",
      "Moved: 2019-02-btp-stop-and-search.csv\n",
      "Moved: 2019-02-btp-street.csv\n",
      "Moved: 2019-03-btp-stop-and-search.csv\n",
      "Moved: 2019-03-btp-street.csv\n",
      "Moved: 2020-01-btp-stop-and-search.csv\n",
      "Moved: 2020-01-btp-street.csv\n",
      "Moved: 2020-02-btp-stop-and-search.csv\n",
      "Moved: 2020-02-btp-street.csv\n",
      "Moved: 2020-03-btp-stop-and-search.csv\n",
      "Moved: 2020-03-btp-street.csv\n",
      "Moved: 2021-01-btp-stop-and-search.csv\n",
      "Moved: 2021-01-btp-street.csv\n",
      "Moved: 2021-02-btp-stop-and-search.csv\n",
      "Moved: 2021-02-btp-street.csv\n",
      "Moved: 2021-03-btp-stop-and-search.csv\n",
      "Moved: 2021-03-btp-street.csv\n"
     ]
    }
   ],
   "source": [
    "for file in os.listdir(src_folder):\n",
    "    source = src_folder + '\\\\' + file\n",
    "    destination = dst_folder + '\\\\' + file\n",
    "    if re.search(combined, file):\n",
    "        shutil.move(source, destination)\n",
    "        print('Moved:', file)\n",
    "    else: \n",
    "        pass"
   ]
  }
 ],
 "metadata": {
  "kernelspec": {
   "display_name": "Python 3",
   "language": "python",
   "name": "python3"
  },
  "language_info": {
   "codemirror_mode": {
    "name": "ipython",
    "version": 3
   },
   "file_extension": ".py",
   "mimetype": "text/x-python",
   "name": "python",
   "nbconvert_exporter": "python",
   "pygments_lexer": "ipython3",
   "version": "3.8.8"
  }
 },
 "nbformat": 4,
 "nbformat_minor": 5
}
