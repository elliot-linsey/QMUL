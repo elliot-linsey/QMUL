{
 "cells": [
  {
   "cell_type": "code",
   "execution_count": 72,
   "id": "92f48d2f",
   "metadata": {},
   "outputs": [],
   "source": [
    "import pandas as pd"
   ]
  },
  {
   "cell_type": "code",
   "execution_count": 73,
   "id": "0c419a19",
   "metadata": {},
   "outputs": [
    {
     "data": {
      "text/html": [
       "<div>\n",
       "<style scoped>\n",
       "    .dataframe tbody tr th:only-of-type {\n",
       "        vertical-align: middle;\n",
       "    }\n",
       "\n",
       "    .dataframe tbody tr th {\n",
       "        vertical-align: top;\n",
       "    }\n",
       "\n",
       "    .dataframe thead th {\n",
       "        text-align: right;\n",
       "    }\n",
       "</style>\n",
       "<table border=\"1\" class=\"dataframe\">\n",
       "  <thead>\n",
       "    <tr style=\"text-align: right;\">\n",
       "      <th></th>\n",
       "      <th>Police Force Name</th>\n",
       "      <th>Year</th>\n",
       "      <th>Quarter</th>\n",
       "      <th>Detailed Offence Description</th>\n",
       "      <th>Offence Group</th>\n",
       "      <th>Offence Subgroup</th>\n",
       "      <th>Number of Arrests</th>\n",
       "    </tr>\n",
       "  </thead>\n",
       "  <tbody>\n",
       "    <tr>\n",
       "      <th>0</th>\n",
       "      <td>Avon and Somerset</td>\n",
       "      <td>2020</td>\n",
       "      <td>1</td>\n",
       "      <td>Homicide</td>\n",
       "      <td>Violence against the person</td>\n",
       "      <td>Homicide</td>\n",
       "      <td>2</td>\n",
       "    </tr>\n",
       "    <tr>\n",
       "      <th>1</th>\n",
       "      <td>Avon and Somerset</td>\n",
       "      <td>2020</td>\n",
       "      <td>1</td>\n",
       "      <td>Assault without injury on a constable</td>\n",
       "      <td>Violence against the person</td>\n",
       "      <td>Violence without injury</td>\n",
       "      <td>8</td>\n",
       "    </tr>\n",
       "    <tr>\n",
       "      <th>2</th>\n",
       "      <td>Avon and Somerset</td>\n",
       "      <td>2020</td>\n",
       "      <td>1</td>\n",
       "      <td>Assault without injury</td>\n",
       "      <td>Violence against the person</td>\n",
       "      <td>Violence without injury</td>\n",
       "      <td>89</td>\n",
       "    </tr>\n",
       "    <tr>\n",
       "      <th>3</th>\n",
       "      <td>Avon and Somerset</td>\n",
       "      <td>2020</td>\n",
       "      <td>1</td>\n",
       "      <td>Racially or religiously aggravated assault wit...</td>\n",
       "      <td>Violence against the person</td>\n",
       "      <td>Violence without injury</td>\n",
       "      <td>1</td>\n",
       "    </tr>\n",
       "    <tr>\n",
       "      <th>4</th>\n",
       "      <td>Avon and Somerset</td>\n",
       "      <td>2020</td>\n",
       "      <td>1</td>\n",
       "      <td>Modern slavery</td>\n",
       "      <td>Violence against the person</td>\n",
       "      <td>Violence without injury</td>\n",
       "      <td>2</td>\n",
       "    </tr>\n",
       "  </tbody>\n",
       "</table>\n",
       "</div>"
      ],
      "text/plain": [
       "   Police Force Name  Year  Quarter  \\\n",
       "0  Avon and Somerset  2020        1   \n",
       "1  Avon and Somerset  2020        1   \n",
       "2  Avon and Somerset  2020        1   \n",
       "3  Avon and Somerset  2020        1   \n",
       "4  Avon and Somerset  2020        1   \n",
       "\n",
       "                        Detailed Offence Description  \\\n",
       "0                                           Homicide   \n",
       "1              Assault without injury on a constable   \n",
       "2                             Assault without injury   \n",
       "3  Racially or religiously aggravated assault wit...   \n",
       "4                                     Modern slavery   \n",
       "\n",
       "                 Offence Group         Offence Subgroup  Number of Arrests  \n",
       "0  Violence against the person                 Homicide                  2  \n",
       "1  Violence against the person  Violence without injury                  8  \n",
       "2  Violence against the person  Violence without injury                 89  \n",
       "3  Violence against the person  Violence without injury                  1  \n",
       "4  Violence against the person  Violence without injury                  2  "
      ]
     },
     "execution_count": 73,
     "metadata": {},
     "output_type": "execute_result"
    }
   ],
   "source": [
    "df = pd.read_csv('table2.csv')\n",
    "df.head()"
   ]
  },
  {
   "cell_type": "code",
   "execution_count": 74,
   "id": "44c2f965",
   "metadata": {},
   "outputs": [],
   "source": [
    "df2 = pd.read_csv('table3.txt')\n",
    "df2.to_csv('table3.csv')"
   ]
  },
  {
   "cell_type": "code",
   "execution_count": 75,
   "id": "034a6cce",
   "metadata": {},
   "outputs": [
    {
     "data": {
      "text/plain": [
       "array([2020, 2019, 2021], dtype=int64)"
      ]
     },
     "execution_count": 75,
     "metadata": {},
     "output_type": "execute_result"
    }
   ],
   "source": [
    "df['Year'].unique()"
   ]
  },
  {
   "cell_type": "code",
   "execution_count": 76,
   "id": "356750e6",
   "metadata": {},
   "outputs": [
    {
     "data": {
      "text/plain": [
       "\"['Avon and Somerset' 'Bedfordshire' 'British Transport Police'\\n 'Cambridgeshire' 'Cheshire' 'Cleveland' 'Cumbria' 'Derbyshire'\\n 'Devon and Cornwall' 'Dorset' 'Durham' 'Dyfed-Powys' 'Essex'\\n 'Gloucestershire' 'Gwent' 'Hampshire' 'Hertfordshire' 'Humberside' 'Kent'\\n 'Lancashire' 'Leicestershire' 'Lincolnshire' 'London, City of'\\n 'Merseyside' 'Metropolitan Police' 'Norfolk' 'North Wales'\\n 'North Yorkshire' 'Northamptonshire' 'Northumbria' 'Nottinghamshire'\\n 'South Wales' 'South Yorkshire' 'Staffordshire' 'Suffolk' 'Surrey'\\n 'Sussex' 'Thames Valley' 'Warwickshire' 'West Mercia' 'West Midlands'\\n 'West Yorkshire' 'Wiltshire' 'Greater Manchester']\""
      ]
     },
     "execution_count": 76,
     "metadata": {},
     "output_type": "execute_result"
    }
   ],
   "source": [
    "x = str(df['Police Force Name'].unique())\n",
    "x"
   ]
  },
  {
   "cell_type": "code",
   "execution_count": 77,
   "id": "7a4a8157",
   "metadata": {},
   "outputs": [
    {
     "data": {
      "text/plain": [
       "'[ Avon and Somerset   Bedfordshire   British Transport Police    Cambridgeshire   Cheshire   Cleveland   Cumbria   Derbyshire    Devon and Cornwall   Dorset   Durham   Dyfed-Powys   Essex    Gloucestershire   Gwent   Hampshire   Hertfordshire   Humberside   Kent    Lancashire   Leicestershire   Lincolnshire   London, City of    Merseyside   Metropolitan Police   Norfolk   North Wales    North Yorkshire   Northamptonshire   Northumbria   Nottinghamshire    South Wales   South Yorkshire   Staffordshire   Suffolk   Surrey    Sussex   Thames Valley   Warwickshire   West Mercia   West Midlands    West Yorkshire   Wiltshire   Greater Manchester ]'"
      ]
     },
     "execution_count": 77,
     "metadata": {},
     "output_type": "execute_result"
    }
   ],
   "source": [
    "a = x.replace(\"'\",\" \").replace('\\n', \" \")\n",
    "a"
   ]
  },
  {
   "cell_type": "code",
   "execution_count": 78,
   "id": "245cb034",
   "metadata": {},
   "outputs": [
    {
     "data": {
      "text/plain": [
       "array([2020, 2019, 2021], dtype=int64)"
      ]
     },
     "execution_count": 78,
     "metadata": {},
     "output_type": "execute_result"
    }
   ],
   "source": [
    "df.Year.unique()"
   ]
  },
  {
   "cell_type": "code",
   "execution_count": 79,
   "id": "a20294b6",
   "metadata": {},
   "outputs": [
    {
     "data": {
      "text/plain": [
       "array([1, 3], dtype=int64)"
      ]
     },
     "execution_count": 79,
     "metadata": {},
     "output_type": "execute_result"
    }
   ],
   "source": [
    "df.Quarter.unique()"
   ]
  },
  {
   "cell_type": "code",
   "execution_count": 80,
   "id": "612b7797",
   "metadata": {},
   "outputs": [
    {
     "data": {
      "text/plain": [
       "\"['Homicide' 'Assault without injury on a constable'\\n 'Assault without injury'\\n 'Racially or religiously aggravated assault without injury'\\n 'Modern slavery' 'Possession of other weapons'\\n 'Possession of article with blade or point'\\n 'Cruelty to children/young persons' 'Interfering with a motor vehicle'\\n 'Child abduction' 'Sexual assault on a male aged 13 and over'\\n 'Sexual assault on a male child under 13'\\n 'Rape of a female aged 16 and over' 'Rape of a female child under 16'\\n 'Rape of a female child under 13' 'Rape of a male aged 16 and over'\\n 'Rape of a male child under 16' 'Rape of a male child under 13'\\n 'Rape of a Female - Multiple Undefined Offenders' 'Attempted murder'\\n 'Sexual assault on a female aged 13 and over'\\n 'Sexual assault on a female child under 13'\\n 'Sexual activity involving a child under 13'\\n 'Sexual activity involving child under 16' 'Burglary Residential'\\n 'Attempted Burglary Residential' 'Burglary Business and Community'\\n 'Attempted Burglary Business and Community'\\n 'Going equipped for stealing, etc' 'Robbery of business property'\\n 'Robbery of personal property' 'Blackmail' 'Kidnapping'\\n 'Theft from the person' 'Threats to kill'\\n 'Causing death by dangerous driving'\\n 'Theft in a dwelling other than from an automatic machine or meter'\\n 'Theft by an employee' 'Theft or unauthorised taking of a pedal cycle'\\n 'Theft from vehicle' 'Shoplifting'\\n 'Theft or unauthorised taking of motor vehicle' 'Other theft'\\n 'Making off without payment' 'Handling stolen goods'\\n 'Arson not endangering life' 'Criminal damage to a dwelling'\\n 'Criminal damage to a building other than a dwelling'\\n 'Criminal damage to a vehicle' 'Other criminal damage'\\n 'Threat or possession with intent to commit criminal damage'\\n 'Assault with intent to cause serious harm'\\n 'Other offences against the State or public order' 'Perjury'\\n 'Offender Management Act offences'\\n 'Abuse of children through sexual exploitation'\\n 'Abuse of position of trust of a sexual nature' 'Other firearms offences'\\n 'Fraud, forgery etc associated with vehicle or driver records'\\n 'Obscene publications etc' 'Sexual grooming' 'Exposure and voyeurism'\\n 'Harassment' 'Assault with injury'\\n 'Racially or religiously aggravated assault with injury' 'Stalking'\\n 'Malicious Communications' 'Assault with injury on a constable'\\n 'Trafficking in controlled drugs'\\n 'Possession of controlled drugs (excl. Cannabis)'\\n 'Possession of controlled drugs (Cannabis)' 'Other notifiable offences'\\n 'Public fear, alarm or distress'\\n 'Racially or religiously aggravated public fear, alarm or distress'\\n 'Possession of false documents' 'Violent disorder' 'Dangerous driving'\\n 'Other drug offences'\\n 'Making, supplying or possessing articles for use in fraud'\\n 'Profiting from or concealing knowledge of the proceeds of crime'\\n 'Conspiracy to murder' 'Other forgery' 'Perverting the course of justice'\\n 'Possession of firearms offences' 'Exploitation of prostitution' 'Bigamy'\\n 'Endangering life' 'Causing sexual activity without consent'\\n 'Incest or familial sexual offences' 'Aggravated Burglary Residential'\\n 'Arson endangering life' 'Aggravated vehicle taking'\\n 'Theft from automatic machine or meter'\\n 'Sexual activity etc with a person with a mental disorder'\\n 'Absconding from lawful custody' 'Dishonest use of electricity'\\n 'Unnatural sexual offences' 'Possession of firearms with intent'\\n 'Bail offences' 'Theft of mail'\\n 'Aggravated Burglary Business and Community'\\n 'Racially or religiously aggravated harassment' 'Wildlife'\\n 'Distraction Burglary Residential'\\n 'Causing death by careless or inconsiderate driving'\\n 'Racially or religiously aggravated criminal damage'\\n 'Disclosure, obstruction, false or misleading statements etc'\\n 'Other miscellaneous sexual offences'\\n 'Soliciting for the purposes of prostitution'\\n 'Attempted Distraction Burglary Residential'\\n 'Rape of a Male - Multiple Undefined Offenders'\\n 'Causing or allowing death of child or vulnerable person'\\n 'Forgery or use of false drug prescription'\\n 'Causing death by careless driving under influence of drink or drugs'\\n 'Aiding suicide' 'Intentional destruction of a viable unborn child'\\n 'Causing death or serious injury by driving: unlicensed drivers etc.'\\n 'Procuring illegal abortion' 'Causing death by aggravated vehicle taking'\\n 'Concealing an infant death close to birth'\\n 'Assaults on emergency workers (other than constables)'\\n 'Controlling and coercive behaviour' 'Other knives offences'\\n 'Attempted distraction burglary in a dwelling'\\n 'Aggravated burglary in a dwelling'\\n 'Burglary in a building other than a dwelling']\""
      ]
     },
     "execution_count": 80,
     "metadata": {},
     "output_type": "execute_result"
    }
   ],
   "source": [
    "b = str(df['Detailed Offence Description'].unique())\n",
    "b"
   ]
  },
  {
   "cell_type": "code",
   "execution_count": 81,
   "id": "92f28f13",
   "metadata": {
    "scrolled": true
   },
   "outputs": [
    {
     "data": {
      "text/plain": [
       "'[ Homicide   Assault without injury on a constable    Assault without injury    Racially or religiously aggravated assault without injury    Modern slavery   Possession of other weapons    Possession of article with blade or point    Cruelty to children/young persons   Interfering with a motor vehicle    Child abduction   Sexual assault on a male aged 13 and over    Sexual assault on a male child under 13    Rape of a female aged 16 and over   Rape of a female child under 16    Rape of a female child under 13   Rape of a male aged 16 and over    Rape of a male child under 16   Rape of a male child under 13    Rape of a Female - Multiple Undefined Offenders   Attempted murder    Sexual assault on a female aged 13 and over    Sexual assault on a female child under 13    Sexual activity involving a child under 13    Sexual activity involving child under 16   Burglary Residential    Attempted Burglary Residential   Burglary Business and Community    Attempted Burglary Business and Community    Going equipped for stealing, etc   Robbery of business property    Robbery of personal property   Blackmail   Kidnapping    Theft from the person   Threats to kill    Causing death by dangerous driving    Theft in a dwelling other than from an automatic machine or meter    Theft by an employee   Theft or unauthorised taking of a pedal cycle    Theft from vehicle   Shoplifting    Theft or unauthorised taking of motor vehicle   Other theft    Making off without payment   Handling stolen goods    Arson not endangering life   Criminal damage to a dwelling    Criminal damage to a building other than a dwelling    Criminal damage to a vehicle   Other criminal damage    Threat or possession with intent to commit criminal damage    Assault with intent to cause serious harm    Other offences against the State or public order   Perjury    Offender Management Act offences    Abuse of children through sexual exploitation    Abuse of position of trust of a sexual nature   Other firearms offences    Fraud, forgery etc associated with vehicle or driver records    Obscene publications etc   Sexual grooming   Exposure and voyeurism    Harassment   Assault with injury    Racially or religiously aggravated assault with injury   Stalking    Malicious Communications   Assault with injury on a constable    Trafficking in controlled drugs    Possession of controlled drugs (excl. Cannabis)    Possession of controlled drugs (Cannabis)   Other notifiable offences    Public fear, alarm or distress    Racially or religiously aggravated public fear, alarm or distress    Possession of false documents   Violent disorder   Dangerous driving    Other drug offences    Making, supplying or possessing articles for use in fraud    Profiting from or concealing knowledge of the proceeds of crime    Conspiracy to murder   Other forgery   Perverting the course of justice    Possession of firearms offences   Exploitation of prostitution   Bigamy    Endangering life   Causing sexual activity without consent    Incest or familial sexual offences   Aggravated Burglary Residential    Arson endangering life   Aggravated vehicle taking    Theft from automatic machine or meter    Sexual activity etc with a person with a mental disorder    Absconding from lawful custody   Dishonest use of electricity    Unnatural sexual offences   Possession of firearms with intent    Bail offences   Theft of mail    Aggravated Burglary Business and Community    Racially or religiously aggravated harassment   Wildlife    Distraction Burglary Residential    Causing death by careless or inconsiderate driving    Racially or religiously aggravated criminal damage    Disclosure, obstruction, false or misleading statements etc    Other miscellaneous sexual offences    Soliciting for the purposes of prostitution    Attempted Distraction Burglary Residential    Rape of a Male - Multiple Undefined Offenders    Causing or allowing death of child or vulnerable person    Forgery or use of false drug prescription    Causing death by careless driving under influence of drink or drugs    Aiding suicide   Intentional destruction of a viable unborn child    Causing death or serious injury by driving: unlicensed drivers etc.    Procuring illegal abortion   Causing death by aggravated vehicle taking    Concealing an infant death close to birth    Assaults on emergency workers (other than constables)    Controlling and coercive behaviour   Other knives offences    Attempted distraction burglary in a dwelling    Aggravated burglary in a dwelling    Burglary in a building other than a dwelling ]'"
      ]
     },
     "execution_count": 81,
     "metadata": {},
     "output_type": "execute_result"
    }
   ],
   "source": [
    "b = b.replace(\"'\",\" \").replace('\\n', \" \")\n",
    "b"
   ]
  },
  {
   "cell_type": "code",
   "execution_count": 82,
   "id": "5bf1af40",
   "metadata": {},
   "outputs": [
    {
     "data": {
      "text/plain": [
       "array(['Violence against the person', 'Possession of weapons offences',\n",
       "       'Theft offences', 'Sexual offences',\n",
       "       'Miscellaneous crimes against society', 'Robbery',\n",
       "       'Criminal damage and arson', 'Public order offences',\n",
       "       'Drug offences'], dtype=object)"
      ]
     },
     "execution_count": 82,
     "metadata": {},
     "output_type": "execute_result"
    }
   ],
   "source": [
    "df['Offence Group'].unique()"
   ]
  },
  {
   "cell_type": "code",
   "execution_count": 83,
   "id": "f0af92e0",
   "metadata": {},
   "outputs": [
    {
     "data": {
      "text/plain": [
       "array(['Homicide', 'Violence without injury',\n",
       "       'Possession of weapons offences', 'Vehicle interference',\n",
       "       'Other sexual offences', 'Rape', 'Violence with injury',\n",
       "       'Domestic burglary', 'Non-domestic burglary',\n",
       "       'Miscellaneous crimes', 'Robbery', 'Other theft offences',\n",
       "       'Theft from the person',\n",
       "       'Death or serious injury - unlawful driving', 'Bicycle theft',\n",
       "       'Theft from a vehicle', 'Shoplifting', 'Theft of a motor vehicle',\n",
       "       'Arson', 'Criminal damage', 'Public order offences',\n",
       "       'Stalking and harassment', 'Trafficking of drugs',\n",
       "       'Possession of drugs'], dtype=object)"
      ]
     },
     "execution_count": 83,
     "metadata": {},
     "output_type": "execute_result"
    }
   ],
   "source": [
    "df['Offence Subgroup'].unique()"
   ]
  },
  {
   "cell_type": "code",
   "execution_count": 84,
   "id": "72e33f6b",
   "metadata": {},
   "outputs": [
    {
     "data": {
      "text/html": [
       "<div>\n",
       "<style scoped>\n",
       "    .dataframe tbody tr th:only-of-type {\n",
       "        vertical-align: middle;\n",
       "    }\n",
       "\n",
       "    .dataframe tbody tr th {\n",
       "        vertical-align: top;\n",
       "    }\n",
       "\n",
       "    .dataframe thead th {\n",
       "        text-align: right;\n",
       "    }\n",
       "</style>\n",
       "<table border=\"1\" class=\"dataframe\">\n",
       "  <thead>\n",
       "    <tr style=\"text-align: right;\">\n",
       "      <th></th>\n",
       "      <th>Unnamed: 0</th>\n",
       "      <th>Police Force Name</th>\n",
       "      <th>Year</th>\n",
       "      <th>Quarter</th>\n",
       "      <th>Detailed Offence Description</th>\n",
       "      <th>Offence Group</th>\n",
       "      <th>Offence Subgroup</th>\n",
       "      <th>Number of Arrests</th>\n",
       "    </tr>\n",
       "  </thead>\n",
       "  <tbody>\n",
       "    <tr>\n",
       "      <th>0</th>\n",
       "      <td>0</td>\n",
       "      <td>Avon and Somerset</td>\n",
       "      <td>2020</td>\n",
       "      <td>1</td>\n",
       "      <td>Homicide</td>\n",
       "      <td>Violence against the person</td>\n",
       "      <td>Homicide</td>\n",
       "      <td>2</td>\n",
       "    </tr>\n",
       "    <tr>\n",
       "      <th>1</th>\n",
       "      <td>1</td>\n",
       "      <td>Avon and Somerset</td>\n",
       "      <td>2020</td>\n",
       "      <td>1</td>\n",
       "      <td>Assault without injury on a constable</td>\n",
       "      <td>Violence against the person</td>\n",
       "      <td>Violence without injury</td>\n",
       "      <td>8</td>\n",
       "    </tr>\n",
       "    <tr>\n",
       "      <th>2</th>\n",
       "      <td>2</td>\n",
       "      <td>Avon and Somerset</td>\n",
       "      <td>2020</td>\n",
       "      <td>1</td>\n",
       "      <td>Assault without injury</td>\n",
       "      <td>Violence against the person</td>\n",
       "      <td>Violence without injury</td>\n",
       "      <td>89</td>\n",
       "    </tr>\n",
       "    <tr>\n",
       "      <th>3</th>\n",
       "      <td>3</td>\n",
       "      <td>Avon and Somerset</td>\n",
       "      <td>2020</td>\n",
       "      <td>1</td>\n",
       "      <td>Racially or religiously aggravated assault wit...</td>\n",
       "      <td>Violence against the person</td>\n",
       "      <td>Violence without injury</td>\n",
       "      <td>1</td>\n",
       "    </tr>\n",
       "    <tr>\n",
       "      <th>4</th>\n",
       "      <td>4</td>\n",
       "      <td>Avon and Somerset</td>\n",
       "      <td>2020</td>\n",
       "      <td>1</td>\n",
       "      <td>Modern slavery</td>\n",
       "      <td>Violence against the person</td>\n",
       "      <td>Violence without injury</td>\n",
       "      <td>2</td>\n",
       "    </tr>\n",
       "  </tbody>\n",
       "</table>\n",
       "</div>"
      ],
      "text/plain": [
       "   Unnamed: 0  Police Force Name  Year  Quarter  \\\n",
       "0           0  Avon and Somerset  2020        1   \n",
       "1           1  Avon and Somerset  2020        1   \n",
       "2           2  Avon and Somerset  2020        1   \n",
       "3           3  Avon and Somerset  2020        1   \n",
       "4           4  Avon and Somerset  2020        1   \n",
       "\n",
       "                        Detailed Offence Description  \\\n",
       "0                                           Homicide   \n",
       "1              Assault without injury on a constable   \n",
       "2                             Assault without injury   \n",
       "3  Racially or religiously aggravated assault wit...   \n",
       "4                                     Modern slavery   \n",
       "\n",
       "                 Offence Group         Offence Subgroup  Number of Arrests  \n",
       "0  Violence against the person                 Homicide                  2  \n",
       "1  Violence against the person  Violence without injury                  8  \n",
       "2  Violence against the person  Violence without injury                 89  \n",
       "3  Violence against the person  Violence without injury                  1  \n",
       "4  Violence against the person  Violence without injury                  2  "
      ]
     },
     "execution_count": 84,
     "metadata": {},
     "output_type": "execute_result"
    }
   ],
   "source": [
    "df2 = pd.read_csv('table3.csv')\n",
    "df2.head()"
   ]
  },
  {
   "cell_type": "code",
   "execution_count": 85,
   "id": "4cb89b49",
   "metadata": {
    "scrolled": true
   },
   "outputs": [
    {
     "data": {
      "text/html": [
       "<div>\n",
       "<style scoped>\n",
       "    .dataframe tbody tr th:only-of-type {\n",
       "        vertical-align: middle;\n",
       "    }\n",
       "\n",
       "    .dataframe tbody tr th {\n",
       "        vertical-align: top;\n",
       "    }\n",
       "\n",
       "    .dataframe thead th {\n",
       "        text-align: right;\n",
       "    }\n",
       "</style>\n",
       "<table border=\"1\" class=\"dataframe\">\n",
       "  <thead>\n",
       "    <tr style=\"text-align: right;\">\n",
       "      <th></th>\n",
       "      <th>Unnamed: 0</th>\n",
       "      <th>Police Force Name</th>\n",
       "      <th>Year</th>\n",
       "      <th>Quarter</th>\n",
       "      <th>Detailed Offence Description</th>\n",
       "      <th>Offence Group</th>\n",
       "      <th>Offence Subgroup</th>\n",
       "      <th>Number of Arrests</th>\n",
       "    </tr>\n",
       "  </thead>\n",
       "  <tbody>\n",
       "    <tr>\n",
       "      <th>28</th>\n",
       "      <td>28</td>\n",
       "      <td>Avon and Somerset</td>\n",
       "      <td>2020</td>\n",
       "      <td>1</td>\n",
       "      <td>Going equipped for stealing, etc</td>\n",
       "      <td>Miscellaneous crimes against society</td>\n",
       "      <td>Miscellaneous crimes</td>\n",
       "      <td>1</td>\n",
       "    </tr>\n",
       "    <tr>\n",
       "      <th>84</th>\n",
       "      <td>84</td>\n",
       "      <td>Bedfordshire</td>\n",
       "      <td>2020</td>\n",
       "      <td>1</td>\n",
       "      <td>Going equipped for stealing, etc</td>\n",
       "      <td>Miscellaneous crimes against society</td>\n",
       "      <td>Miscellaneous crimes</td>\n",
       "      <td>1</td>\n",
       "    </tr>\n",
       "    <tr>\n",
       "      <th>366</th>\n",
       "      <td>366</td>\n",
       "      <td>Devon and Cornwall</td>\n",
       "      <td>2020</td>\n",
       "      <td>1</td>\n",
       "      <td>Going equipped for stealing, etc</td>\n",
       "      <td>Miscellaneous crimes against society</td>\n",
       "      <td>Miscellaneous crimes</td>\n",
       "      <td>2</td>\n",
       "    </tr>\n",
       "    <tr>\n",
       "      <th>582</th>\n",
       "      <td>582</td>\n",
       "      <td>Gloucestershire</td>\n",
       "      <td>2020</td>\n",
       "      <td>1</td>\n",
       "      <td>Going equipped for stealing, etc</td>\n",
       "      <td>Miscellaneous crimes against society</td>\n",
       "      <td>Miscellaneous crimes</td>\n",
       "      <td>1</td>\n",
       "    </tr>\n",
       "    <tr>\n",
       "      <th>849</th>\n",
       "      <td>849</td>\n",
       "      <td>Kent</td>\n",
       "      <td>2020</td>\n",
       "      <td>1</td>\n",
       "      <td>Going equipped for stealing, etc</td>\n",
       "      <td>Miscellaneous crimes against society</td>\n",
       "      <td>Miscellaneous crimes</td>\n",
       "      <td>6</td>\n",
       "    </tr>\n",
       "    <tr>\n",
       "      <th>...</th>\n",
       "      <td>...</td>\n",
       "      <td>...</td>\n",
       "      <td>...</td>\n",
       "      <td>...</td>\n",
       "      <td>...</td>\n",
       "      <td>...</td>\n",
       "      <td>...</td>\n",
       "      <td>...</td>\n",
       "    </tr>\n",
       "    <tr>\n",
       "      <th>111882</th>\n",
       "      <td>111882</td>\n",
       "      <td>West Yorkshire</td>\n",
       "      <td>2021</td>\n",
       "      <td>1</td>\n",
       "      <td>Going equipped for stealing, etc</td>\n",
       "      <td>Miscellaneous crimes against society</td>\n",
       "      <td>Miscellaneous crimes</td>\n",
       "      <td>11</td>\n",
       "    </tr>\n",
       "    <tr>\n",
       "      <th>111883</th>\n",
       "      <td>111883</td>\n",
       "      <td>West Yorkshire</td>\n",
       "      <td>2021</td>\n",
       "      <td>1</td>\n",
       "      <td>Going equipped for stealing, etc</td>\n",
       "      <td>Miscellaneous crimes against society</td>\n",
       "      <td>Miscellaneous crimes</td>\n",
       "      <td>1</td>\n",
       "    </tr>\n",
       "    <tr>\n",
       "      <th>111884</th>\n",
       "      <td>111884</td>\n",
       "      <td>West Yorkshire</td>\n",
       "      <td>2021</td>\n",
       "      <td>1</td>\n",
       "      <td>Going equipped for stealing, etc</td>\n",
       "      <td>Miscellaneous crimes against society</td>\n",
       "      <td>Miscellaneous crimes</td>\n",
       "      <td>22</td>\n",
       "    </tr>\n",
       "    <tr>\n",
       "      <th>111885</th>\n",
       "      <td>111885</td>\n",
       "      <td>West Yorkshire</td>\n",
       "      <td>2021</td>\n",
       "      <td>1</td>\n",
       "      <td>Going equipped for stealing, etc</td>\n",
       "      <td>Miscellaneous crimes against society</td>\n",
       "      <td>Miscellaneous crimes</td>\n",
       "      <td>1</td>\n",
       "    </tr>\n",
       "    <tr>\n",
       "      <th>112513</th>\n",
       "      <td>112513</td>\n",
       "      <td>Wiltshire</td>\n",
       "      <td>2021</td>\n",
       "      <td>1</td>\n",
       "      <td>Going equipped for stealing, etc</td>\n",
       "      <td>Miscellaneous crimes against society</td>\n",
       "      <td>Miscellaneous crimes</td>\n",
       "      <td>1</td>\n",
       "    </tr>\n",
       "  </tbody>\n",
       "</table>\n",
       "<p>665 rows × 8 columns</p>\n",
       "</div>"
      ],
      "text/plain": [
       "        Unnamed: 0   Police Force Name  Year  Quarter  \\\n",
       "28              28   Avon and Somerset  2020        1   \n",
       "84              84        Bedfordshire  2020        1   \n",
       "366            366  Devon and Cornwall  2020        1   \n",
       "582            582     Gloucestershire  2020        1   \n",
       "849            849                Kent  2020        1   \n",
       "...            ...                 ...   ...      ...   \n",
       "111882      111882      West Yorkshire  2021        1   \n",
       "111883      111883      West Yorkshire  2021        1   \n",
       "111884      111884      West Yorkshire  2021        1   \n",
       "111885      111885      West Yorkshire  2021        1   \n",
       "112513      112513           Wiltshire  2021        1   \n",
       "\n",
       "            Detailed Offence Description  \\\n",
       "28      Going equipped for stealing, etc   \n",
       "84      Going equipped for stealing, etc   \n",
       "366     Going equipped for stealing, etc   \n",
       "582     Going equipped for stealing, etc   \n",
       "849     Going equipped for stealing, etc   \n",
       "...                                  ...   \n",
       "111882  Going equipped for stealing, etc   \n",
       "111883  Going equipped for stealing, etc   \n",
       "111884  Going equipped for stealing, etc   \n",
       "111885  Going equipped for stealing, etc   \n",
       "112513  Going equipped for stealing, etc   \n",
       "\n",
       "                               Offence Group      Offence Subgroup  \\\n",
       "28      Miscellaneous crimes against society  Miscellaneous crimes   \n",
       "84      Miscellaneous crimes against society  Miscellaneous crimes   \n",
       "366     Miscellaneous crimes against society  Miscellaneous crimes   \n",
       "582     Miscellaneous crimes against society  Miscellaneous crimes   \n",
       "849     Miscellaneous crimes against society  Miscellaneous crimes   \n",
       "...                                      ...                   ...   \n",
       "111882  Miscellaneous crimes against society  Miscellaneous crimes   \n",
       "111883  Miscellaneous crimes against society  Miscellaneous crimes   \n",
       "111884  Miscellaneous crimes against society  Miscellaneous crimes   \n",
       "111885  Miscellaneous crimes against society  Miscellaneous crimes   \n",
       "112513  Miscellaneous crimes against society  Miscellaneous crimes   \n",
       "\n",
       "        Number of Arrests  \n",
       "28                      1  \n",
       "84                      1  \n",
       "366                     2  \n",
       "582                     1  \n",
       "849                     6  \n",
       "...                   ...  \n",
       "111882                 11  \n",
       "111883                  1  \n",
       "111884                 22  \n",
       "111885                  1  \n",
       "112513                  1  \n",
       "\n",
       "[665 rows x 8 columns]"
      ]
     },
     "execution_count": 85,
     "metadata": {},
     "output_type": "execute_result"
    }
   ],
   "source": [
    "df2[df2['Detailed Offence Description']=='Going equipped for stealing, etc']"
   ]
  },
  {
   "cell_type": "code",
   "execution_count": 86,
   "id": "7ed32592",
   "metadata": {},
   "outputs": [],
   "source": [
    "df2['Detailed Offence Description'] = df2['Detailed Offence Description'].apply(lambda x: \"Going equipped for stealing. etc\" if x == \"Going equipped for stealing, etc\" else x)"
   ]
  },
  {
   "cell_type": "code",
   "execution_count": 89,
   "id": "d0786991",
   "metadata": {},
   "outputs": [],
   "source": [
    "df2['Detailed Offence Description'] = df2['Detailed Offence Description'].apply(lambda x: \"Public fear. alarm or distress\" if x == \"Public fear, alarm or distress\" else x)"
   ]
  },
  {
   "cell_type": "code",
   "execution_count": 92,
   "id": "a93ca0cc",
   "metadata": {},
   "outputs": [
    {
     "data": {
      "text/html": [
       "<div>\n",
       "<style scoped>\n",
       "    .dataframe tbody tr th:only-of-type {\n",
       "        vertical-align: middle;\n",
       "    }\n",
       "\n",
       "    .dataframe tbody tr th {\n",
       "        vertical-align: top;\n",
       "    }\n",
       "\n",
       "    .dataframe thead th {\n",
       "        text-align: right;\n",
       "    }\n",
       "</style>\n",
       "<table border=\"1\" class=\"dataframe\">\n",
       "  <thead>\n",
       "    <tr style=\"text-align: right;\">\n",
       "      <th></th>\n",
       "      <th>Unnamed: 0</th>\n",
       "      <th>Police Force Name</th>\n",
       "      <th>Year</th>\n",
       "      <th>Quarter</th>\n",
       "      <th>Detailed Offence Description</th>\n",
       "      <th>Offence Group</th>\n",
       "      <th>Offence Subgroup</th>\n",
       "      <th>Number of Arrests</th>\n",
       "    </tr>\n",
       "  </thead>\n",
       "  <tbody>\n",
       "    <tr>\n",
       "      <th>73</th>\n",
       "      <td>73</td>\n",
       "      <td>Avon and Somerset</td>\n",
       "      <td>2020</td>\n",
       "      <td>1</td>\n",
       "      <td>Racially or religiously aggravated public fear...</td>\n",
       "      <td>Public order offences</td>\n",
       "      <td>Public order offences</td>\n",
       "      <td>3</td>\n",
       "    </tr>\n",
       "    <tr>\n",
       "      <th>147</th>\n",
       "      <td>147</td>\n",
       "      <td>British Transport Police</td>\n",
       "      <td>2020</td>\n",
       "      <td>1</td>\n",
       "      <td>Racially or religiously aggravated public fear...</td>\n",
       "      <td>Public order offences</td>\n",
       "      <td>Public order offences</td>\n",
       "      <td>6</td>\n",
       "    </tr>\n",
       "    <tr>\n",
       "      <th>231</th>\n",
       "      <td>231</td>\n",
       "      <td>Cheshire</td>\n",
       "      <td>2020</td>\n",
       "      <td>1</td>\n",
       "      <td>Racially or religiously aggravated public fear...</td>\n",
       "      <td>Public order offences</td>\n",
       "      <td>Public order offences</td>\n",
       "      <td>3</td>\n",
       "    </tr>\n",
       "    <tr>\n",
       "      <th>256</th>\n",
       "      <td>256</td>\n",
       "      <td>Cleveland</td>\n",
       "      <td>2020</td>\n",
       "      <td>1</td>\n",
       "      <td>Racially or religiously aggravated public fear...</td>\n",
       "      <td>Public order offences</td>\n",
       "      <td>Public order offences</td>\n",
       "      <td>1</td>\n",
       "    </tr>\n",
       "    <tr>\n",
       "      <th>343</th>\n",
       "      <td>343</td>\n",
       "      <td>Derbyshire</td>\n",
       "      <td>2020</td>\n",
       "      <td>1</td>\n",
       "      <td>Racially or religiously aggravated public fear...</td>\n",
       "      <td>Public order offences</td>\n",
       "      <td>Public order offences</td>\n",
       "      <td>2</td>\n",
       "    </tr>\n",
       "    <tr>\n",
       "      <th>...</th>\n",
       "      <td>...</td>\n",
       "      <td>...</td>\n",
       "      <td>...</td>\n",
       "      <td>...</td>\n",
       "      <td>...</td>\n",
       "      <td>...</td>\n",
       "      <td>...</td>\n",
       "      <td>...</td>\n",
       "    </tr>\n",
       "    <tr>\n",
       "      <th>112781</th>\n",
       "      <td>112781</td>\n",
       "      <td>Wiltshire</td>\n",
       "      <td>2021</td>\n",
       "      <td>1</td>\n",
       "      <td>Racially or religiously aggravated public fear...</td>\n",
       "      <td>Public order offences</td>\n",
       "      <td>Public order offences</td>\n",
       "      <td>8</td>\n",
       "    </tr>\n",
       "    <tr>\n",
       "      <th>112782</th>\n",
       "      <td>112782</td>\n",
       "      <td>Wiltshire</td>\n",
       "      <td>2021</td>\n",
       "      <td>1</td>\n",
       "      <td>Racially or religiously aggravated public fear...</td>\n",
       "      <td>Public order offences</td>\n",
       "      <td>Public order offences</td>\n",
       "      <td>15</td>\n",
       "    </tr>\n",
       "    <tr>\n",
       "      <th>112783</th>\n",
       "      <td>112783</td>\n",
       "      <td>Wiltshire</td>\n",
       "      <td>2021</td>\n",
       "      <td>1</td>\n",
       "      <td>Racially or religiously aggravated public fear...</td>\n",
       "      <td>Public order offences</td>\n",
       "      <td>Public order offences</td>\n",
       "      <td>7</td>\n",
       "    </tr>\n",
       "    <tr>\n",
       "      <th>112784</th>\n",
       "      <td>112784</td>\n",
       "      <td>Wiltshire</td>\n",
       "      <td>2021</td>\n",
       "      <td>1</td>\n",
       "      <td>Racially or religiously aggravated public fear...</td>\n",
       "      <td>Public order offences</td>\n",
       "      <td>Public order offences</td>\n",
       "      <td>11</td>\n",
       "    </tr>\n",
       "    <tr>\n",
       "      <th>112785</th>\n",
       "      <td>112785</td>\n",
       "      <td>Wiltshire</td>\n",
       "      <td>2021</td>\n",
       "      <td>1</td>\n",
       "      <td>Racially or religiously aggravated public fear...</td>\n",
       "      <td>Public order offences</td>\n",
       "      <td>Public order offences</td>\n",
       "      <td>1</td>\n",
       "    </tr>\n",
       "  </tbody>\n",
       "</table>\n",
       "<p>1769 rows × 8 columns</p>\n",
       "</div>"
      ],
      "text/plain": [
       "        Unnamed: 0         Police Force Name  Year  Quarter  \\\n",
       "73              73         Avon and Somerset  2020        1   \n",
       "147            147  British Transport Police  2020        1   \n",
       "231            231                  Cheshire  2020        1   \n",
       "256            256                 Cleveland  2020        1   \n",
       "343            343                Derbyshire  2020        1   \n",
       "...            ...                       ...   ...      ...   \n",
       "112781      112781                 Wiltshire  2021        1   \n",
       "112782      112782                 Wiltshire  2021        1   \n",
       "112783      112783                 Wiltshire  2021        1   \n",
       "112784      112784                 Wiltshire  2021        1   \n",
       "112785      112785                 Wiltshire  2021        1   \n",
       "\n",
       "                             Detailed Offence Description  \\\n",
       "73      Racially or religiously aggravated public fear...   \n",
       "147     Racially or religiously aggravated public fear...   \n",
       "231     Racially or religiously aggravated public fear...   \n",
       "256     Racially or religiously aggravated public fear...   \n",
       "343     Racially or religiously aggravated public fear...   \n",
       "...                                                   ...   \n",
       "112781  Racially or religiously aggravated public fear...   \n",
       "112782  Racially or religiously aggravated public fear...   \n",
       "112783  Racially or religiously aggravated public fear...   \n",
       "112784  Racially or religiously aggravated public fear...   \n",
       "112785  Racially or religiously aggravated public fear...   \n",
       "\n",
       "                Offence Group       Offence Subgroup  Number of Arrests  \n",
       "73      Public order offences  Public order offences                  3  \n",
       "147     Public order offences  Public order offences                  6  \n",
       "231     Public order offences  Public order offences                  3  \n",
       "256     Public order offences  Public order offences                  1  \n",
       "343     Public order offences  Public order offences                  2  \n",
       "...                       ...                    ...                ...  \n",
       "112781  Public order offences  Public order offences                  8  \n",
       "112782  Public order offences  Public order offences                 15  \n",
       "112783  Public order offences  Public order offences                  7  \n",
       "112784  Public order offences  Public order offences                 11  \n",
       "112785  Public order offences  Public order offences                  1  \n",
       "\n",
       "[1769 rows x 8 columns]"
      ]
     },
     "execution_count": 92,
     "metadata": {},
     "output_type": "execute_result"
    }
   ],
   "source": [
    "df2[df2['Detailed Offence Description']=='Racially or religiously aggravated public fear, alarm or distress']"
   ]
  },
  {
   "cell_type": "code",
   "execution_count": 93,
   "id": "922ea779",
   "metadata": {},
   "outputs": [],
   "source": [
    "df2['Detailed Offence Description'] = df2['Detailed Offence Description'].apply(lambda x: \"Racially or religiously aggravated public fear. alarm or distress\" if x == \"Racially or religiously aggravated public fear, alarm or distress\" else x)"
   ]
  },
  {
   "cell_type": "code",
   "execution_count": 96,
   "id": "0adbae81",
   "metadata": {},
   "outputs": [],
   "source": [
    "df2['Detailed Offence Description'] = df2['Detailed Offence Description'].apply(lambda x: \"Making. supplying or possessing articles for use in fraud\" if x == \"Making, supplying or possessing articles for use in fraud\" else x)"
   ]
  },
  {
   "cell_type": "code",
   "execution_count": 97,
   "id": "4eb3d889",
   "metadata": {},
   "outputs": [],
   "source": [
    "df2['Detailed Offence Description'] = df2['Detailed Offence Description'].apply(lambda x: \"Disclosure. obstruction. false or misleading statements etc\" if x == \"Disclosure, obstruction, false or misleading statements etc\" else x)"
   ]
  }
 ],
 "metadata": {
  "kernelspec": {
   "display_name": "Python 3",
   "language": "python",
   "name": "python3"
  },
  "language_info": {
   "codemirror_mode": {
    "name": "ipython",
    "version": 3
   },
   "file_extension": ".py",
   "mimetype": "text/x-python",
   "name": "python",
   "nbconvert_exporter": "python",
   "pygments_lexer": "ipython3",
   "version": "3.8.8"
  }
 },
 "nbformat": 4,
 "nbformat_minor": 5
}
