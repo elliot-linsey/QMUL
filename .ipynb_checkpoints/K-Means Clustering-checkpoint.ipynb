{
 "cells": [
  {
   "cell_type": "code",
   "execution_count": 60,
   "id": "ea13fee4",
   "metadata": {},
   "outputs": [],
   "source": [
    "import numpy as np"
   ]
  },
  {
   "cell_type": "code",
   "execution_count": 2,
   "id": "80883abf",
   "metadata": {},
   "outputs": [],
   "source": [
    "data = np.array([5,7,4,6,8,15,17,14,15,16,25,27,24,26,28])\n"
   ]
  },
  {
   "cell_type": "code",
   "execution_count": 3,
   "id": "04d73f4c",
   "metadata": {},
   "outputs": [
    {
     "name": "stdout",
     "output_type": "stream",
     "text": [
      "[11  2  5]\n"
     ]
    }
   ],
   "source": [
    "k = 3\n",
    "clusters = np.random.choice(len(data),replace=False,size=3)\n",
    "print(clusters)\n"
   ]
  },
  {
   "cell_type": "code",
   "execution_count": 4,
   "id": "a03c4488",
   "metadata": {},
   "outputs": [
    {
     "name": "stdout",
     "output_type": "stream",
     "text": [
      "[22, 20, 23, 21, 19, 12, 10, 13, 12, 11, 2, 0, 3, 1, 1]\n",
      "[1, 3, 0, 2, 4, 11, 13, 10, 11, 12, 21, 23, 20, 22, 24]\n",
      "[10, 8, 11, 9, 7, 0, 2, 1, 0, 1, 10, 12, 9, 11, 13]\n"
     ]
    }
   ],
   "source": [
    "dist1 = []\n",
    "dist2 = []\n",
    "dist3 = []\n",
    "\n",
    "for i in range(len(data)):\n",
    "    dist1.append(abs(data[clusters[0]] - data[i]))\n",
    "    dist2.append(abs(data[clusters[1]] - data[i]))\n",
    "    dist3.append(abs(data[clusters[2]] - data[i]))  \n",
    "\n",
    "\n",
    "print(dist1)\n",
    "print(dist2)\n",
    "print(dist3)"
   ]
  },
  {
   "cell_type": "code",
   "execution_count": 5,
   "id": "3f7ddb2c",
   "metadata": {},
   "outputs": [
    {
     "name": "stdout",
     "output_type": "stream",
     "text": [
      "[25, 27, 24, 26, 28]\n",
      "[5, 7, 4, 6, 8]\n",
      "[15, 17, 14, 15, 16]\n"
     ]
    }
   ],
   "source": [
    "cluster_values1 = []\n",
    "cluster_values2 = []\n",
    "cluster_values3 = []\n",
    "\n",
    "for i in range(len(dist1)):\n",
    "    if dist1[i] < dist2[i] and dist1[i] < dist3[i]:\n",
    "        cluster_values1.append(data[i])\n",
    "        \n",
    "for i in range(len(dist1)):\n",
    "    if dist2[i] < dist1[i] and dist2[i] < dist3[i]:\n",
    "        cluster_values2.append(data[i])\n",
    "        \n",
    "for i in range(len(dist1)):\n",
    "    if dist3[i] < dist1[i] and dist3[i] < dist2[i]:\n",
    "        cluster_values3.append(data[i])\n",
    "    \n",
    "    \n",
    "print(cluster_values1)\n",
    "print(cluster_values2)\n",
    "print(cluster_values3)"
   ]
  },
  {
   "cell_type": "code",
   "execution_count": 6,
   "id": "a82cadb5",
   "metadata": {},
   "outputs": [
    {
     "name": "stdout",
     "output_type": "stream",
     "text": [
      "26.0\n",
      "6.0\n",
      "15.4\n",
      "2.0\n",
      "2.0\n",
      "2.0\n",
      "5.04\n"
     ]
    }
   ],
   "source": [
    "clust_mean1 = np.mean(cluster_values1)\n",
    "clust_mean2 = np.mean(cluster_values2)\n",
    "clust_mean3 = np.mean(cluster_values3)\n",
    "\n",
    "print(clust_mean1)\n",
    "print(clust_mean2)\n",
    "print(clust_mean3)\n",
    "\n",
    "clust_var1 = np.var(cluster_values1)\n",
    "clust_var2 = np.var(cluster_values2)\n",
    "clust_var3 = np.var(cluster_values3)\n",
    "\n",
    "print(clust_var1)\n",
    "print(clust_var1)\n",
    "print(clust_var1)\n",
    "\n",
    "total_var = clust_var1 + clust_var2 + clust_var3\n",
    "print(total_var)"
   ]
  },
  {
   "cell_type": "code",
   "execution_count": 70,
   "id": "30810b07",
   "metadata": {},
   "outputs": [],
   "source": [
    "def k_means(data):\n",
    "\n",
    "    k = 3\n",
    "    #Choosing random numbers from data array\n",
    "    clusters = np.random.choice(len(data),replace=False,size=k)\n",
    "    #print(clusters)\n",
    "    \n",
    "    #determining the distance of each data point from the chosen\n",
    "    #random data points\n",
    "    dist1 = []\n",
    "    dist2 = []\n",
    "    dist3 = []\n",
    "    for i in range(len(data)):\n",
    "        dist1.append(abs(data[clusters[0]] - data[i]))\n",
    "        dist2.append(abs(data[clusters[1]] - data[i]))\n",
    "        dist3.append(abs(data[clusters[2]] - data[i]))  \n",
    "\n",
    "\n",
    "    #print(dist1)\n",
    "    #print(dist2)\n",
    "    #print(dist3)\n",
    "    \n",
    "    #appending all the smallest distances to the corresponding\n",
    "    #random data point\n",
    "    cluster_values1 = []\n",
    "    cluster_values2 = []\n",
    "    cluster_values3 = []\n",
    "\n",
    "    for i in range(len(dist1)):\n",
    "        if dist1[i] < dist2[i] and dist1[i] < dist3[i]:\n",
    "            cluster_values1.append(data[i])\n",
    "\n",
    "    for i in range(len(dist1)):\n",
    "        if dist2[i] < dist1[i] and dist2[i] < dist3[i]:\n",
    "            cluster_values2.append(data[i])\n",
    "\n",
    "    for i in range(len(dist1)):\n",
    "        if dist3[i] < dist1[i] and dist3[i] < dist2[i]:\n",
    "            cluster_values3.append(data[i])\n",
    "\n",
    "\n",
    "    #print(cluster_values1)\n",
    "    #print(cluster_values2)\n",
    "    #print(cluster_values3)\n",
    "    \n",
    "    #taking the means of each cluster\n",
    "    clust_mean1 = np.mean(cluster_values1)\n",
    "    clust_mean2 = np.mean(cluster_values2)\n",
    "    clust_mean3 = np.mean(cluster_values3)\n",
    "\n",
    "    #print(clust_mean1)\n",
    "    #print(clust_mean2)\n",
    "    #print(clust_mean3)\n",
    "    \n",
    "    #taking the variance of each cluster\n",
    "    clust_var1 = np.var(cluster_values1)\n",
    "    clust_var2 = np.var(cluster_values2)\n",
    "    clust_var3 = np.var(cluster_values3)\n",
    "\n",
    "    #print(clust_var1)\n",
    "    #print(clust_var1)\n",
    "    #print(clust_var1)\n",
    "    \n",
    "    #summing the variances, the smaller the variance the more clustered the data\n",
    "    total_var = clust_var1 + clust_var2 + clust_var3\n",
    "    #print(total_var)\n",
    "    \n",
    "    #returning the total variance along with the corresponding random points initially chosen\n",
    "    #ie the chosen centres of the cluster\n",
    "    return \"total var = \" + str(total_var), 'clusters = ' + str((data[clusters[0]], data[clusters[1]], data[clusters[2]]))\n",
    "    \n",
    "        \n",
    "\n",
    "    "
   ]
  },
  {
   "cell_type": "code",
   "execution_count": 71,
   "id": "94d3218f",
   "metadata": {},
   "outputs": [
    {
     "name": "stdout",
     "output_type": "stream",
     "text": [
      "{1: ('total var = 21.1875', 'clusters = (15, 16, 27)'), 2: ('total var = 19.805555555555554', 'clusters = (4, 28, 24)'), 3: ('total var = 30.47392290249433', 'clusters = (16, 15, 14)'), 4: ('total var = 29.358024691358025', 'clusters = (8, 15, 14)'), 5: ('total var = 15.13888888888889', 'clusters = (8, 15, 17)'), 6: ('total var = 5.04', 'clusters = (27, 14, 5)'), 7: ('total var = 29.358024691358025', 'clusters = (15, 14, 5)'), 8: ('total var = 30.52666666666667', 'clusters = (5, 16, 8)'), 9: ('total var = 5.04', 'clusters = (15, 27, 7)'), 10: ('total var = 30.860000000000003', 'clusters = (14, 4, 5)')}\n"
     ]
    }
   ],
   "source": [
    "#running it 10 times and adding the values to a dictionary \n",
    "cluster_total = {}\n",
    "for i in range(1,11):\n",
    "    cluster_total[i] = k_means(data)\n",
    "\n",
    "print(cluster_total)\n",
    "#Smallest variance appears to be 5.04\n",
    "    \n",
    "\n",
    "\n"
   ]
  },
  {
   "cell_type": "code",
   "execution_count": null,
   "id": "e7810ee3",
   "metadata": {},
   "outputs": [],
   "source": []
  }
 ],
 "metadata": {
  "kernelspec": {
   "display_name": "Python 3 (ipykernel)",
   "language": "python",
   "name": "python3"
  },
  "language_info": {
   "codemirror_mode": {
    "name": "ipython",
    "version": 3
   },
   "file_extension": ".py",
   "mimetype": "text/x-python",
   "name": "python",
   "nbconvert_exporter": "python",
   "pygments_lexer": "ipython3",
   "version": "3.8.11"
  }
 },
 "nbformat": 4,
 "nbformat_minor": 5
}
