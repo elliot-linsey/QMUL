{
 "cells": [
  {
   "cell_type": "markdown",
   "metadata": {},
   "source": [
    "# Lab 3\n",
    "In this lab, you will complete the full process of describing and then implementing an algorithm. You will do so on a topic relevant to data science: _(simple) linear regression_. Please note that this lab is assessed, i.e., you will need to submit the results of your work on QM+. To submit your work, first download/export your Jupyter notebook as PDF. Then upload the PDF file in the submission area on QM+."
   ]
  },
  {
   "cell_type": "markdown",
   "metadata": {},
   "source": [
    "## Preparation: Simple Linear Regression\n",
    "If necessary (depending on your background), read up on (simple) linear regression. Wikipedia (https://en.wikipedia.org/wiki/Simple_linear_regression) provides a good starting point, but you might as well choose other sources. (You do not need to include any information about this in your submission.)\n",
    "\n",
    "## Task 1: Describe Linear Regression in English\n",
    "Given a dataset of $n$ values $(x_i, y_i)$ for $1 \\leq i \\leq n$, describe the process to compute values $\\alpha$ and $\\beta$ such that $$\\sum_{i = 1}^n (y_i - \\alpha x_i - \\beta)^2$$ is minimal. This will yield a (linear) model $y = \\alpha x + \\beta$ adhering to the least-squares condition.\n",
    "> Marking information: Up to 30 points: 15 points for an algorithm that can be followed, and 15 points for the correctness of this algorithm against the specification \"linear regression.\" \n",
    "\n",
    "## Task 2: Create and Complete a Simple Example\n",
    "Come up with a dataset of just 3 values ($\\{(x_1, y_1), (x_2, y_2), (x_3, y_3)\\}$). Then exercise the algorithm of Task 1 on this small dataset. You might prefer to do this using pen and paper. For your submission, provide at least the dataset that you have chosen and the resulting values of $\\alpha$ and $\\beta$.\n",
    "> Marking information: Up to 20 points: 5 points for sample values, and up to 15 points for suitable values of $\\alpha$ and $\\beta$.\n",
    "\n",
    "## Task 3: Implement the Algorithm of Task 1 in Python\n",
    "Starting from your description of the steps to undertake, transfer English and Maths to Python. Note that you are expected to fully implement the mathematical operations instead of using a library function such as `scikit` or `statsmodels`.\n",
    "> Marking information: Up to 40 points: 30 points for a correctly working Python implementation, and 10 points for comments and overall readability.\n",
    "\n",
    "## Task 4: Test the Implementation of Task 4\n",
    "Use at least the dataset of Task 2, or possibly also other datasets, to exercise your implementation of Task 3.\n",
    "> Marking information: Up to 10 points for Python instructions to run the test and the comparison to expected values previously found using pen and paper."
   ]
  }
 ],
 "metadata": {
  "kernelspec": {
   "display_name": "Python 3 (ipykernel)",
   "language": "python",
   "name": "python3"
  },
  "language_info": {
   "codemirror_mode": {
    "name": "ipython",
    "version": 3
   },
   "file_extension": ".py",
   "mimetype": "text/x-python",
   "name": "python",
   "nbconvert_exporter": "python",
   "pygments_lexer": "ipython3",
   "version": "3.9.6"
  }
 },
 "nbformat": 4,
 "nbformat_minor": 4
}
