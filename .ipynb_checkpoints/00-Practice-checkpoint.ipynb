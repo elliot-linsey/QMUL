{
 "cells": [
  {
   "cell_type": "markdown",
   "metadata": {},
   "source": [
    "# Practice Problems\n",
    "This Jupyter notebook provides a number of ideas of problems that can conveniently be solved using Python programs. While this is entirely optional work, you may wish to get feedback on your work from your peers or by emailing your solutions to [Michael Tautschnig](mailto:michael.tautschnig@qmul.ac.uk)."
   ]
  },
  {
   "cell_type": "markdown",
   "metadata": {},
   "source": [
    "## Generating random data\n",
    "For many data science tasks you will want a dataset to work on. There are many examples to be found on the internet, but an even easier approach is to make up data yourself. The `random` module will be very handy for this purpose: https://docs.python.org/3/library/random.html."
   ]
  },
  {
   "cell_type": "markdown",
   "metadata": {},
   "source": [
    "## Parsing text data\n",
    "Comma-separated value files are easy to process, but not all inputs will be in such a convenient format. Consider the following data:\n",
    "```\n",
    "1 Ignacia Logan 163401095249  nulla.ante.iaculis@euismodac.com a,\n",
    "2 Curran Landry 161002134680  pede.sagittis@lacusEtiam.edu vehicula\n",
    "3 Fulton Mendoza 161009199199  Nam.ac.nulla@fringilla.co.uk laoreet\n",
    "1 Brooke Lancaster 164003178805  montes.nascetur@euligula.co.uk in\n",
    "2 Keefe Richmond 161105042335  feugiat.tellus@ametrisusDonec.co.uk netus\n",
    "3 Gwendolyn Jenkins 165008137688  erat@velarcu.co.uk Sed\n",
    "1 Brenden Joe Powers 168109023112  ligula.Aenean@arcuNuncmauris.co.uk sociis\n",
    "2 Boris Blankenship 164806137404  pharetra@viverra.net suscipit\n",
    "3 Fiona Gibbs 168610032958 Duis@blandit.org nunc.\n",
    "1 Fritz Hendrix 167601132371    auctor.quis.tristique@ataugue.net arcu.\n",
    "```\n",
    "You will find regular expressions to be helpful: https://docs.python.org/3/library/re.html. Once the input is parsed you could, for example, generate an email template asking all members of groups 1, 2, 3 (the first column in this dataset) to email each other."
   ]
  },
  {
   "cell_type": "markdown",
   "metadata": {},
   "source": [
    "## JSON data\n",
    "JSON (https://en.wikipedia.org/wiki/JSON) has become one of the most common ways for storing structured data. Python provides good support with the `json` module: https://docs.python.org/3/library/json.html.\n",
    "\n",
    "As first step, take the data generated or processed in the above tasks and print it in JSON format. You can then also 1) write this to a file and 2) read that file for further processing.\n",
    "\n",
    "As a specific example of using JSON, Jupyter notebooks use this format. Write a piece of code that parses the Jupyter notebook you are working in."
   ]
  },
  {
   "cell_type": "markdown",
   "metadata": {},
   "source": [
    "## Parsing and processing large volumes of data\n",
    "Simple processing of input files using `readlines()` and `split()` works well for small-scale input files. Larger volumes of data necessitate more efficient processing. As an example, consider the trip record data provided for New York City (https://www1.nyc.gov/site/tlc/about/tlc-trip-record-data.page). You might try and process such data in a simplistic manner, but you will likely want to use optimised modules such as `csv`: https://docs.python.org/3/library/csv.html. You might use this data in a number of ways. One way in which it has been used in the past is https://www.sciencedirect.com/science/article/pii/S0968090X13000740#s0050 (use your QMUL credentials for \"Instituational Access\")."
   ]
  },
  {
   "cell_type": "markdown",
   "metadata": {},
   "source": [
    "## Games: Implement Hangman\n",
    "You may be familiar with the game \"hangman:\" a two-player game where one player comes up with a word, while the other has to guess this word. If you aren't familiar, see https://en.wikipedia.org/wiki/Hangman_(game). Implement this game in Python, making either the computer guess, or make the computer pick a word out of a dictionary at random."
   ]
  },
  {
   "cell_type": "markdown",
   "metadata": {},
   "source": [
    "## Games: Mastermind\n",
    "Implement Mastermind (https://en.wikipedia.org/wiki/Mastermind_(board_game)) in Python. Just as with Hangman, you could conceivably make the computer either player."
   ]
  },
  {
   "cell_type": "code",
   "execution_count": null,
   "metadata": {},
   "outputs": [],
   "source": []
  }
 ],
 "metadata": {
  "kernelspec": {
   "display_name": "Python 3 (ipykernel)",
   "language": "python",
   "name": "python3"
  },
  "language_info": {
   "codemirror_mode": {
    "name": "ipython",
    "version": 3
   },
   "file_extension": ".py",
   "mimetype": "text/x-python",
   "name": "python",
   "nbconvert_exporter": "python",
   "pygments_lexer": "ipython3",
   "version": "3.8.11"
  }
 },
 "nbformat": 4,
 "nbformat_minor": 4
}
