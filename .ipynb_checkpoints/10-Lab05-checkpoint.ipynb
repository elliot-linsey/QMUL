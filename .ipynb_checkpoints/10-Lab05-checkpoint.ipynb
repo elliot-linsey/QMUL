{
 "cells": [
  {
   "cell_type": "markdown",
   "metadata": {},
   "source": [
    "# Lab 5\n",
    "\n",
    "In this lab, you will further improve previous work to reduce the likelihood of implementation errors."
   ]
  },
  {
   "cell_type": "markdown",
   "metadata": {},
   "source": [
    "## Example (continued): Computing the mean value\n",
    "\n",
    "The preceding lab sheet included the following example to compute the mean value of a particular list of integers:"
   ]
  },
  {
   "cell_type": "code",
   "execution_count": 2,
   "metadata": {},
   "outputs": [
    {
     "name": "stdout",
     "output_type": "stream",
     "text": [
      "11.8\n",
      "45446.2375\n"
     ]
    }
   ],
   "source": [
    "def compute_mean(list_of_integers):\n",
    "    \"\"\"\n",
    "    1. Compute the sum of the input integers\n",
    "    2. Determine the number of inputs\n",
    "    3. Divide the the sum computed in step 1 by the number determined in step 2\n",
    "    \"\"\"\n",
    "    computed_sum = sum(list_of_integers)\n",
    "    number_of_inputs = len(list_of_integers)\n",
    "    return computed_sum / number_of_inputs\n",
    "\n",
    "# Compute the mean of a collection of input values\n",
    "input_integers = [10, 20, 25, 1, 3]\n",
    "print(compute_mean(input_integers))\n",
    "\n",
    "def read_integers_from_file(filename):\n",
    "    \"\"\"\n",
    "    Read the integers contained in the first line of `filename`,\n",
    "    assuming they are separated by commas\n",
    "    \"\"\"\n",
    "    with open(filename) as f:\n",
    "        first_line = f.readlines()[0].rstrip()\n",
    "        return [int(i) for i in first_line.split(\",\")]\n",
    "\n",
    "print(compute_mean(read_integers_from_file(\"test.txt\")))"
   ]
  },
  {
   "cell_type": "code",
   "execution_count": 5,
   "metadata": {},
   "outputs": [],
   "source": [
    "# Adding unit tests\n",
    "def run_unit_tests():\n",
    "    result_of_compute_mean = compute_mean([1, 2])\n",
    "    assert(result_of_compute_mean == 1.5)\n",
    "    assert(compute_mean([42]) == 42)\n",
    "    assert(read_integers_from_file(\"test.txt\")[0] == 58181)\n",
    "    assert(read_integers_from_file(\"test.txt\")[0] != 42)\n",
    "    \n",
    "run_unit_tests()\n",
    "\n",
    "def integration_tests():\n",
    "    assert(round(compute_mean(read_integers_from_file(\"test.txt\")), 2) == 45446.24)\n",
    "    \n",
    "integration_tests()    "
   ]
  },
  {
   "cell_type": "markdown",
   "metadata": {},
   "source": [
    "## Task 1: Add unit tests to your linear-regression implementation\n",
    "Review your own prior work done in Labs 3 and 4, and add test harnesses for each function. Specifically consider borderline cases."
   ]
  },
  {
   "cell_type": "markdown",
   "metadata": {},
   "source": [
    "## Task 2: Turn the existing, fixed inputs into an integration test\n",
    "Use the work of Task 4 of Lab 3 to construct an integration-test harness for your linear-regression implementation."
   ]
  },
  {
   "cell_type": "markdown",
   "metadata": {},
   "source": []
  },
  {
   "cell_type": "code",
   "execution_count": null,
   "metadata": {},
   "outputs": [],
   "source": []
  }
 ],
 "metadata": {
  "kernelspec": {
   "display_name": "Python 3 (ipykernel)",
   "language": "python",
   "name": "python3"
  },
  "language_info": {
   "codemirror_mode": {
    "name": "ipython",
    "version": 3
   },
   "file_extension": ".py",
   "mimetype": "text/x-python",
   "name": "python",
   "nbconvert_exporter": "python",
   "pygments_lexer": "ipython3",
   "version": "3.9.6"
  }
 },
 "nbformat": 4,
 "nbformat_minor": 4
}
