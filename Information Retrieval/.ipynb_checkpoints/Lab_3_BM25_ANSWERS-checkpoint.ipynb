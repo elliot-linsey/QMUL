{
 "cells": [
  {
   "cell_type": "markdown",
   "metadata": {
    "id": "CktrxiwHpNm-"
   },
   "source": [
    "## BM25"
   ]
  },
  {
   "cell_type": "code",
   "execution_count": 17,
   "metadata": {
    "executionInfo": {
     "elapsed": 388,
     "status": "ok",
     "timestamp": 1645604845419,
     "user": {
      "displayName": "Kit Bransby",
      "photoUrl": "https://lh3.googleusercontent.com/a-/AOh14GgRv5YII6jwC_cVkIJqmTC4tQymJXRgCfeYfyfnfg=s64",
      "userId": "01527569628475152563"
     },
     "user_tz": 0
    },
    "id": "-iQe0XKxsfIP"
   },
   "outputs": [],
   "source": [
    "import pandas as pd\n",
    "from sklearn.feature_extraction.text import CountVectorizer\n",
    "import numpy as np"
   ]
  },
  {
   "cell_type": "code",
   "execution_count": 18,
   "metadata": {
    "executionInfo": {
     "elapsed": 114,
     "status": "ok",
     "timestamp": 1645604845953,
     "user": {
      "displayName": "Kit Bransby",
      "photoUrl": "https://lh3.googleusercontent.com/a-/AOh14GgRv5YII6jwC_cVkIJqmTC4tQymJXRgCfeYfyfnfg=s64",
      "userId": "01527569628475152563"
     },
     "user_tz": 0
    },
    "id": "j0IflT3fsLH9"
   },
   "outputs": [],
   "source": [
    "# documents to be indexed. Similar to last time\n",
    "documents = [\n",
    "             'Boats are great',\n",
    "             'Sailing boats are environmental',\n",
    "             'canal boats are often called narrow boats, they are quite environmental',\n",
    "             'wooden boats are more work than metal boats',\n",
    "             'wooden boats are more work than metal boats, but trawlers are the worst',\n",
    "             'a wooden house is always the prettiest',\n",
    "             'narrow cars fit through narrow streets and are environmental',\n",
    "             'boats boats boats'\n",
    "]"
   ]
  },
  {
   "cell_type": "code",
   "execution_count": 19,
   "metadata": {
    "executionInfo": {
     "elapsed": 136,
     "status": "ok",
     "timestamp": 1645604845976,
     "user": {
      "displayName": "Kit Bransby",
      "photoUrl": "https://lh3.googleusercontent.com/a-/AOh14GgRv5YII6jwC_cVkIJqmTC4tQymJXRgCfeYfyfnfg=s64",
      "userId": "01527569628475152563"
     },
     "user_tz": 0
    },
    "id": "39Tyx4Y2sbpS"
   },
   "outputs": [],
   "source": [
    "vectorizer = CountVectorizer(stop_words='english')\n",
    "documents_vectorized = vectorizer.fit_transform(documents)\n",
    "vocabulary = vectorizer.get_feature_names_out()"
   ]
  },
  {
   "cell_type": "code",
   "execution_count": 20,
   "metadata": {
    "colab": {
     "base_uri": "https://localhost:8080/"
    },
    "executionInfo": {
     "elapsed": 146,
     "status": "ok",
     "timestamp": 1645604845987,
     "user": {
      "displayName": "Kit Bransby",
      "photoUrl": "https://lh3.googleusercontent.com/a-/AOh14GgRv5YII6jwC_cVkIJqmTC4tQymJXRgCfeYfyfnfg=s64",
      "userId": "01527569628475152563"
     },
     "user_tz": 0
    },
    "id": "zeH2_60HpVd9",
    "outputId": "c7791199-c4d6-472a-92a1-50c821ca83c4"
   },
   "outputs": [
    {
     "data": {
      "text/plain": [
       "array(['boats', 'called', 'canal', 'cars', 'environmental', 'fit',\n",
       "       'great', 'house', 'metal', 'narrow', 'prettiest', 'quite',\n",
       "       'sailing', 'streets', 'trawlers', 'wooden', 'work', 'worst'],\n",
       "      dtype=object)"
      ]
     },
     "execution_count": 20,
     "metadata": {},
     "output_type": "execute_result"
    }
   ],
   "source": [
    "vocabulary"
   ]
  },
  {
   "cell_type": "code",
   "execution_count": 21,
   "metadata": {
    "colab": {
     "base_uri": "https://localhost:8080/",
     "height": 364
    },
    "executionInfo": {
     "elapsed": 140,
     "status": "ok",
     "timestamp": 1645604845988,
     "user": {
      "displayName": "Kit Bransby",
      "photoUrl": "https://lh3.googleusercontent.com/a-/AOh14GgRv5YII6jwC_cVkIJqmTC4tQymJXRgCfeYfyfnfg=s64",
      "userId": "01527569628475152563"
     },
     "user_tz": 0
    },
    "id": "FLCkXzgGssjX",
    "outputId": "df23b7df-d076-4b6e-87c3-793ace18725d"
   },
   "outputs": [
    {
     "data": {
      "text/html": [
       "\n",
       "  <div id=\"df-d84d523e-4443-4cd2-87cf-ee41c47b75bf\">\n",
       "    <div class=\"colab-df-container\">\n",
       "      <div>\n",
       "<style scoped>\n",
       "    .dataframe tbody tr th:only-of-type {\n",
       "        vertical-align: middle;\n",
       "    }\n",
       "\n",
       "    .dataframe tbody tr th {\n",
       "        vertical-align: top;\n",
       "    }\n",
       "\n",
       "    .dataframe thead th {\n",
       "        text-align: right;\n",
       "    }\n",
       "</style>\n",
       "<table border=\"1\" class=\"dataframe\">\n",
       "  <thead>\n",
       "    <tr style=\"text-align: right;\">\n",
       "      <th></th>\n",
       "      <th>boats</th>\n",
       "      <th>called</th>\n",
       "      <th>canal</th>\n",
       "      <th>cars</th>\n",
       "      <th>environmental</th>\n",
       "      <th>fit</th>\n",
       "      <th>great</th>\n",
       "      <th>house</th>\n",
       "      <th>metal</th>\n",
       "      <th>narrow</th>\n",
       "      <th>prettiest</th>\n",
       "      <th>quite</th>\n",
       "      <th>sailing</th>\n",
       "      <th>streets</th>\n",
       "      <th>trawlers</th>\n",
       "      <th>wooden</th>\n",
       "      <th>work</th>\n",
       "      <th>worst</th>\n",
       "    </tr>\n",
       "  </thead>\n",
       "  <tbody>\n",
       "    <tr>\n",
       "      <th>0</th>\n",
       "      <td>1</td>\n",
       "      <td>0</td>\n",
       "      <td>0</td>\n",
       "      <td>0</td>\n",
       "      <td>0</td>\n",
       "      <td>0</td>\n",
       "      <td>1</td>\n",
       "      <td>0</td>\n",
       "      <td>0</td>\n",
       "      <td>0</td>\n",
       "      <td>0</td>\n",
       "      <td>0</td>\n",
       "      <td>0</td>\n",
       "      <td>0</td>\n",
       "      <td>0</td>\n",
       "      <td>0</td>\n",
       "      <td>0</td>\n",
       "      <td>0</td>\n",
       "    </tr>\n",
       "    <tr>\n",
       "      <th>1</th>\n",
       "      <td>1</td>\n",
       "      <td>0</td>\n",
       "      <td>0</td>\n",
       "      <td>0</td>\n",
       "      <td>1</td>\n",
       "      <td>0</td>\n",
       "      <td>0</td>\n",
       "      <td>0</td>\n",
       "      <td>0</td>\n",
       "      <td>0</td>\n",
       "      <td>0</td>\n",
       "      <td>0</td>\n",
       "      <td>1</td>\n",
       "      <td>0</td>\n",
       "      <td>0</td>\n",
       "      <td>0</td>\n",
       "      <td>0</td>\n",
       "      <td>0</td>\n",
       "    </tr>\n",
       "    <tr>\n",
       "      <th>2</th>\n",
       "      <td>2</td>\n",
       "      <td>1</td>\n",
       "      <td>1</td>\n",
       "      <td>0</td>\n",
       "      <td>1</td>\n",
       "      <td>0</td>\n",
       "      <td>0</td>\n",
       "      <td>0</td>\n",
       "      <td>0</td>\n",
       "      <td>1</td>\n",
       "      <td>0</td>\n",
       "      <td>1</td>\n",
       "      <td>0</td>\n",
       "      <td>0</td>\n",
       "      <td>0</td>\n",
       "      <td>0</td>\n",
       "      <td>0</td>\n",
       "      <td>0</td>\n",
       "    </tr>\n",
       "    <tr>\n",
       "      <th>3</th>\n",
       "      <td>2</td>\n",
       "      <td>0</td>\n",
       "      <td>0</td>\n",
       "      <td>0</td>\n",
       "      <td>0</td>\n",
       "      <td>0</td>\n",
       "      <td>0</td>\n",
       "      <td>0</td>\n",
       "      <td>1</td>\n",
       "      <td>0</td>\n",
       "      <td>0</td>\n",
       "      <td>0</td>\n",
       "      <td>0</td>\n",
       "      <td>0</td>\n",
       "      <td>0</td>\n",
       "      <td>1</td>\n",
       "      <td>1</td>\n",
       "      <td>0</td>\n",
       "    </tr>\n",
       "    <tr>\n",
       "      <th>4</th>\n",
       "      <td>2</td>\n",
       "      <td>0</td>\n",
       "      <td>0</td>\n",
       "      <td>0</td>\n",
       "      <td>0</td>\n",
       "      <td>0</td>\n",
       "      <td>0</td>\n",
       "      <td>0</td>\n",
       "      <td>1</td>\n",
       "      <td>0</td>\n",
       "      <td>0</td>\n",
       "      <td>0</td>\n",
       "      <td>0</td>\n",
       "      <td>0</td>\n",
       "      <td>1</td>\n",
       "      <td>1</td>\n",
       "      <td>1</td>\n",
       "      <td>1</td>\n",
       "    </tr>\n",
       "    <tr>\n",
       "      <th>5</th>\n",
       "      <td>0</td>\n",
       "      <td>0</td>\n",
       "      <td>0</td>\n",
       "      <td>0</td>\n",
       "      <td>0</td>\n",
       "      <td>0</td>\n",
       "      <td>0</td>\n",
       "      <td>1</td>\n",
       "      <td>0</td>\n",
       "      <td>0</td>\n",
       "      <td>1</td>\n",
       "      <td>0</td>\n",
       "      <td>0</td>\n",
       "      <td>0</td>\n",
       "      <td>0</td>\n",
       "      <td>1</td>\n",
       "      <td>0</td>\n",
       "      <td>0</td>\n",
       "    </tr>\n",
       "    <tr>\n",
       "      <th>6</th>\n",
       "      <td>0</td>\n",
       "      <td>0</td>\n",
       "      <td>0</td>\n",
       "      <td>1</td>\n",
       "      <td>1</td>\n",
       "      <td>1</td>\n",
       "      <td>0</td>\n",
       "      <td>0</td>\n",
       "      <td>0</td>\n",
       "      <td>2</td>\n",
       "      <td>0</td>\n",
       "      <td>0</td>\n",
       "      <td>0</td>\n",
       "      <td>1</td>\n",
       "      <td>0</td>\n",
       "      <td>0</td>\n",
       "      <td>0</td>\n",
       "      <td>0</td>\n",
       "    </tr>\n",
       "    <tr>\n",
       "      <th>7</th>\n",
       "      <td>3</td>\n",
       "      <td>0</td>\n",
       "      <td>0</td>\n",
       "      <td>0</td>\n",
       "      <td>0</td>\n",
       "      <td>0</td>\n",
       "      <td>0</td>\n",
       "      <td>0</td>\n",
       "      <td>0</td>\n",
       "      <td>0</td>\n",
       "      <td>0</td>\n",
       "      <td>0</td>\n",
       "      <td>0</td>\n",
       "      <td>0</td>\n",
       "      <td>0</td>\n",
       "      <td>0</td>\n",
       "      <td>0</td>\n",
       "      <td>0</td>\n",
       "    </tr>\n",
       "  </tbody>\n",
       "</table>\n",
       "</div>\n",
       "      <button class=\"colab-df-convert\" onclick=\"convertToInteractive('df-d84d523e-4443-4cd2-87cf-ee41c47b75bf')\"\n",
       "              title=\"Convert this dataframe to an interactive table.\"\n",
       "              style=\"display:none;\">\n",
       "        \n",
       "  <svg xmlns=\"http://www.w3.org/2000/svg\" height=\"24px\"viewBox=\"0 0 24 24\"\n",
       "       width=\"24px\">\n",
       "    <path d=\"M0 0h24v24H0V0z\" fill=\"none\"/>\n",
       "    <path d=\"M18.56 5.44l.94 2.06.94-2.06 2.06-.94-2.06-.94-.94-2.06-.94 2.06-2.06.94zm-11 1L8.5 8.5l.94-2.06 2.06-.94-2.06-.94L8.5 2.5l-.94 2.06-2.06.94zm10 10l.94 2.06.94-2.06 2.06-.94-2.06-.94-.94-2.06-.94 2.06-2.06.94z\"/><path d=\"M17.41 7.96l-1.37-1.37c-.4-.4-.92-.59-1.43-.59-.52 0-1.04.2-1.43.59L10.3 9.45l-7.72 7.72c-.78.78-.78 2.05 0 2.83L4 21.41c.39.39.9.59 1.41.59.51 0 1.02-.2 1.41-.59l7.78-7.78 2.81-2.81c.8-.78.8-2.07 0-2.86zM5.41 20L4 18.59l7.72-7.72 1.47 1.35L5.41 20z\"/>\n",
       "  </svg>\n",
       "      </button>\n",
       "      \n",
       "  <style>\n",
       "    .colab-df-container {\n",
       "      display:flex;\n",
       "      flex-wrap:wrap;\n",
       "      gap: 12px;\n",
       "    }\n",
       "\n",
       "    .colab-df-convert {\n",
       "      background-color: #E8F0FE;\n",
       "      border: none;\n",
       "      border-radius: 50%;\n",
       "      cursor: pointer;\n",
       "      display: none;\n",
       "      fill: #1967D2;\n",
       "      height: 32px;\n",
       "      padding: 0 0 0 0;\n",
       "      width: 32px;\n",
       "    }\n",
       "\n",
       "    .colab-df-convert:hover {\n",
       "      background-color: #E2EBFA;\n",
       "      box-shadow: 0px 1px 2px rgba(60, 64, 67, 0.3), 0px 1px 3px 1px rgba(60, 64, 67, 0.15);\n",
       "      fill: #174EA6;\n",
       "    }\n",
       "\n",
       "    [theme=dark] .colab-df-convert {\n",
       "      background-color: #3B4455;\n",
       "      fill: #D2E3FC;\n",
       "    }\n",
       "\n",
       "    [theme=dark] .colab-df-convert:hover {\n",
       "      background-color: #434B5C;\n",
       "      box-shadow: 0px 1px 3px 1px rgba(0, 0, 0, 0.15);\n",
       "      filter: drop-shadow(0px 1px 2px rgba(0, 0, 0, 0.3));\n",
       "      fill: #FFFFFF;\n",
       "    }\n",
       "  </style>\n",
       "\n",
       "      <script>\n",
       "        const buttonEl =\n",
       "          document.querySelector('#df-d84d523e-4443-4cd2-87cf-ee41c47b75bf button.colab-df-convert');\n",
       "        buttonEl.style.display =\n",
       "          google.colab.kernel.accessAllowed ? 'block' : 'none';\n",
       "\n",
       "        async function convertToInteractive(key) {\n",
       "          const element = document.querySelector('#df-d84d523e-4443-4cd2-87cf-ee41c47b75bf');\n",
       "          const dataTable =\n",
       "            await google.colab.kernel.invokeFunction('convertToInteractive',\n",
       "                                                     [key], {});\n",
       "          if (!dataTable) return;\n",
       "\n",
       "          const docLinkHtml = 'Like what you see? Visit the ' +\n",
       "            '<a target=\"_blank\" href=https://colab.research.google.com/notebooks/data_table.ipynb>data table notebook</a>'\n",
       "            + ' to learn more about interactive tables.';\n",
       "          element.innerHTML = '';\n",
       "          dataTable['output_type'] = 'display_data';\n",
       "          await google.colab.output.renderOutput(dataTable, element);\n",
       "          const docLink = document.createElement('div');\n",
       "          docLink.innerHTML = docLinkHtml;\n",
       "          element.appendChild(docLink);\n",
       "        }\n",
       "      </script>\n",
       "    </div>\n",
       "  </div>\n",
       "  "
      ],
      "text/plain": [
       "   boats  called  canal  cars  ...  trawlers  wooden  work  worst\n",
       "0      1       0      0     0  ...         0       0     0      0\n",
       "1      1       0      0     0  ...         0       0     0      0\n",
       "2      2       1      1     0  ...         0       0     0      0\n",
       "3      2       0      0     0  ...         0       1     1      0\n",
       "4      2       0      0     0  ...         1       1     1      1\n",
       "5      0       0      0     0  ...         0       1     0      0\n",
       "6      0       0      0     1  ...         0       0     0      0\n",
       "7      3       0      0     0  ...         0       0     0      0\n",
       "\n",
       "[8 rows x 18 columns]"
      ]
     },
     "execution_count": 21,
     "metadata": {},
     "output_type": "execute_result"
    }
   ],
   "source": [
    "# lets just have a look what we have\n",
    "dataframe = pd.DataFrame(documents_vectorized.toarray(), columns=vocabulary)\n",
    "dataframe"
   ]
  },
  {
   "cell_type": "code",
   "execution_count": 22,
   "metadata": {
    "executionInfo": {
     "elapsed": 159,
     "status": "ok",
     "timestamp": 1645604846011,
     "user": {
      "displayName": "Kit Bransby",
      "photoUrl": "https://lh3.googleusercontent.com/a-/AOh14GgRv5YII6jwC_cVkIJqmTC4tQymJXRgCfeYfyfnfg=s64",
      "userId": "01527569628475152563"
     },
     "user_tz": 0
    },
    "id": "OU7MDEAruO7q"
   },
   "outputs": [],
   "source": [
    "# The above is of course the term frequency matrix for our data"
   ]
  },
  {
   "cell_type": "code",
   "execution_count": 23,
   "metadata": {
    "colab": {
     "base_uri": "https://localhost:8080/"
    },
    "executionInfo": {
     "elapsed": 192,
     "status": "ok",
     "timestamp": 1645604846045,
     "user": {
      "displayName": "Kit Bransby",
      "photoUrl": "https://lh3.googleusercontent.com/a-/AOh14GgRv5YII6jwC_cVkIJqmTC4tQymJXRgCfeYfyfnfg=s64",
      "userId": "01527569628475152563"
     },
     "user_tz": 0
    },
    "id": "3eZeiE6ys3Ww",
    "outputId": "f08d20fb-ba83-4f8a-edf4-942d3ff5baaa"
   },
   "outputs": [
    {
     "data": {
      "text/plain": [
       "boats            6\n",
       "called           1\n",
       "canal            1\n",
       "cars             1\n",
       "environmental    3\n",
       "fit              1\n",
       "great            1\n",
       "house            1\n",
       "metal            2\n",
       "narrow           2\n",
       "prettiest        1\n",
       "quite            1\n",
       "sailing          1\n",
       "streets          1\n",
       "trawlers         1\n",
       "wooden           3\n",
       "work             2\n",
       "worst            1\n",
       "dtype: int64"
      ]
     },
     "execution_count": 23,
     "metadata": {},
     "output_type": "execute_result"
    }
   ],
   "source": [
    "# lets start with finding the IDF for every term in the dataset:\n",
    "\n",
    "# first get the document frequency DF (i.e. how many documents does each phrase appear in?): \n",
    "dfs = (dataframe > 0).sum(axis=0)\n",
    "dfs"
   ]
  },
  {
   "cell_type": "code",
   "execution_count": 24,
   "metadata": {
    "executionInfo": {
     "elapsed": 189,
     "status": "ok",
     "timestamp": 1645604846046,
     "user": {
      "displayName": "Kit Bransby",
      "photoUrl": "https://lh3.googleusercontent.com/a-/AOh14GgRv5YII6jwC_cVkIJqmTC4tQymJXRgCfeYfyfnfg=s64",
      "userId": "01527569628475152563"
     },
     "user_tz": 0
    },
    "id": "rB_G9R9ztDBB"
   },
   "outputs": [],
   "source": [
    "# then calculate idf:\n",
    "N = dataframe.shape[0]"
   ]
  },
  {
   "cell_type": "code",
   "execution_count": 25,
   "metadata": {
    "executionInfo": {
     "elapsed": 196,
     "status": "ok",
     "timestamp": 1645604846055,
     "user": {
      "displayName": "Kit Bransby",
      "photoUrl": "https://lh3.googleusercontent.com/a-/AOh14GgRv5YII6jwC_cVkIJqmTC4tQymJXRgCfeYfyfnfg=s64",
      "userId": "01527569628475152563"
     },
     "user_tz": 0
    },
    "id": "yBzOC9taqcEA"
   },
   "outputs": [],
   "source": [
    "idfs = np.log10(N/dfs)"
   ]
  },
  {
   "cell_type": "code",
   "execution_count": 26,
   "metadata": {
    "colab": {
     "base_uri": "https://localhost:8080/"
    },
    "executionInfo": {
     "elapsed": 223,
     "status": "ok",
     "timestamp": 1645604846084,
     "user": {
      "displayName": "Kit Bransby",
      "photoUrl": "https://lh3.googleusercontent.com/a-/AOh14GgRv5YII6jwC_cVkIJqmTC4tQymJXRgCfeYfyfnfg=s64",
      "userId": "01527569628475152563"
     },
     "user_tz": 0
    },
    "id": "P2cNTNm4q7F9",
    "outputId": "dfce0746-f212-4a2b-a93e-6f3b992031e6"
   },
   "outputs": [
    {
     "data": {
      "text/plain": [
       "boats            0.124939\n",
       "called           0.903090\n",
       "canal            0.903090\n",
       "cars             0.903090\n",
       "environmental    0.425969\n",
       "fit              0.903090\n",
       "great            0.903090\n",
       "house            0.903090\n",
       "metal            0.602060\n",
       "narrow           0.602060\n",
       "prettiest        0.903090\n",
       "quite            0.903090\n",
       "sailing          0.903090\n",
       "streets          0.903090\n",
       "trawlers         0.903090\n",
       "wooden           0.425969\n",
       "work             0.602060\n",
       "worst            0.903090\n",
       "dtype: float64"
      ]
     },
     "execution_count": 26,
     "metadata": {},
     "output_type": "execute_result"
    }
   ],
   "source": [
    "idfs"
   ]
  },
  {
   "cell_type": "markdown",
   "metadata": {
    "id": "Q9WyTdx1zV3p"
   },
   "source": [
    "**BM25 Score**\n",
    "\n",
    "![Screenshot 2021-06-08 at 11.46.48.png](data:image/png;base64,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)"
   ]
  },
  {
   "cell_type": "code",
   "execution_count": 27,
   "metadata": {
    "executionInfo": {
     "elapsed": 217,
     "status": "ok",
     "timestamp": 1645604846088,
     "user": {
      "displayName": "Kit Bransby",
      "photoUrl": "https://lh3.googleusercontent.com/a-/AOh14GgRv5YII6jwC_cVkIJqmTC4tQymJXRgCfeYfyfnfg=s64",
      "userId": "01527569628475152563"
     },
     "user_tz": 0
    },
    "id": "tmLNPdBvtVrf"
   },
   "outputs": [],
   "source": [
    "# Next lets get have a look at the term frequencies and turn them into BM25 term Frequencies (simpler version from slides):\n",
    "\n",
    "\n",
    "# Lets first define all the variables we need:\n",
    "k_1 = 1.2 # single value\n",
    "b = 0.8 # single value\n",
    "## considering all words in doc\n",
    "dls = [len(d.split(' ')) for d in documents] # vector\n",
    "## considering words minus stop words in doc. \n",
    "dls = dataframe.sum(axis=1).tolist()\n",
    "avgdl = np.mean(dls) # single value"
   ]
  },
  {
   "cell_type": "code",
   "execution_count": 28,
   "metadata": {
    "executionInfo": {
     "elapsed": 217,
     "status": "ok",
     "timestamp": 1645604846089,
     "user": {
      "displayName": "Kit Bransby",
      "photoUrl": "https://lh3.googleusercontent.com/a-/AOh14GgRv5YII6jwC_cVkIJqmTC4tQymJXRgCfeYfyfnfg=s64",
      "userId": "01527569628475152563"
     },
     "user_tz": 0
    },
    "id": "0j2kYSNYtz09"
   },
   "outputs": [],
   "source": [
    "# With these we can calculate the BM25 term frequency quantification. Switching to numpy to make things easier:\n",
    "numerator = np.array((k_1 + 1) * dataframe)\n",
    "denominator = np.array(k_1 *((1 - b) + b * (dls / avgdl))).reshape(N,1) + np.array(dataframe)\n",
    "\n",
    "BM25_tf = numerator / denominator\n",
    "\n",
    "idfs = np.array(idfs)\n",
    "\n",
    "BM25_score = BM25_tf * idfs"
   ]
  },
  {
   "cell_type": "code",
   "execution_count": 29,
   "metadata": {
    "colab": {
     "base_uri": "https://localhost:8080/",
     "height": 364
    },
    "executionInfo": {
     "elapsed": 222,
     "status": "ok",
     "timestamp": 1645604846095,
     "user": {
      "displayName": "Kit Bransby",
      "photoUrl": "https://lh3.googleusercontent.com/a-/AOh14GgRv5YII6jwC_cVkIJqmTC4tQymJXRgCfeYfyfnfg=s64",
      "userId": "01527569628475152563"
     },
     "user_tz": 0
    },
    "id": "DJu3a3WYwcSz",
    "outputId": "fad6602e-c86b-4407-ee74-549c1a907cfb"
   },
   "outputs": [
    {
     "data": {
      "text/html": [
       "\n",
       "  <div id=\"df-8770039a-57dd-4355-bbde-4e5ece7888a7\">\n",
       "    <div class=\"colab-df-container\">\n",
       "      <div>\n",
       "<style scoped>\n",
       "    .dataframe tbody tr th:only-of-type {\n",
       "        vertical-align: middle;\n",
       "    }\n",
       "\n",
       "    .dataframe tbody tr th {\n",
       "        vertical-align: top;\n",
       "    }\n",
       "\n",
       "    .dataframe thead th {\n",
       "        text-align: right;\n",
       "    }\n",
       "</style>\n",
       "<table border=\"1\" class=\"dataframe\">\n",
       "  <thead>\n",
       "    <tr style=\"text-align: right;\">\n",
       "      <th></th>\n",
       "      <th>boats</th>\n",
       "      <th>called</th>\n",
       "      <th>canal</th>\n",
       "      <th>cars</th>\n",
       "      <th>environmental</th>\n",
       "      <th>fit</th>\n",
       "      <th>great</th>\n",
       "      <th>house</th>\n",
       "      <th>metal</th>\n",
       "      <th>narrow</th>\n",
       "      <th>prettiest</th>\n",
       "      <th>quite</th>\n",
       "      <th>sailing</th>\n",
       "      <th>streets</th>\n",
       "      <th>trawlers</th>\n",
       "      <th>wooden</th>\n",
       "      <th>work</th>\n",
       "      <th>worst</th>\n",
       "    </tr>\n",
       "  </thead>\n",
       "  <tbody>\n",
       "    <tr>\n",
       "      <th>0</th>\n",
       "      <td>0.164919</td>\n",
       "      <td>0.000000</td>\n",
       "      <td>0.000000</td>\n",
       "      <td>0.000000</td>\n",
       "      <td>0.000000</td>\n",
       "      <td>0.000000</td>\n",
       "      <td>1.192079</td>\n",
       "      <td>0.000000</td>\n",
       "      <td>0.000000</td>\n",
       "      <td>0.000000</td>\n",
       "      <td>0.000000</td>\n",
       "      <td>0.000000</td>\n",
       "      <td>0.000000</td>\n",
       "      <td>0.000000</td>\n",
       "      <td>0.000000</td>\n",
       "      <td>0.000000</td>\n",
       "      <td>0.000000</td>\n",
       "      <td>0.000000</td>\n",
       "    </tr>\n",
       "    <tr>\n",
       "      <th>1</th>\n",
       "      <td>0.146205</td>\n",
       "      <td>0.000000</td>\n",
       "      <td>0.000000</td>\n",
       "      <td>0.000000</td>\n",
       "      <td>0.498474</td>\n",
       "      <td>0.000000</td>\n",
       "      <td>0.000000</td>\n",
       "      <td>0.000000</td>\n",
       "      <td>0.000000</td>\n",
       "      <td>0.000000</td>\n",
       "      <td>0.000000</td>\n",
       "      <td>0.000000</td>\n",
       "      <td>1.056807</td>\n",
       "      <td>0.000000</td>\n",
       "      <td>0.000000</td>\n",
       "      <td>0.000000</td>\n",
       "      <td>0.000000</td>\n",
       "      <td>0.000000</td>\n",
       "    </tr>\n",
       "    <tr>\n",
       "      <th>2</th>\n",
       "      <td>0.147249</td>\n",
       "      <td>0.726877</td>\n",
       "      <td>0.726877</td>\n",
       "      <td>0.000000</td>\n",
       "      <td>0.342853</td>\n",
       "      <td>0.000000</td>\n",
       "      <td>0.000000</td>\n",
       "      <td>0.000000</td>\n",
       "      <td>0.000000</td>\n",
       "      <td>0.484585</td>\n",
       "      <td>0.000000</td>\n",
       "      <td>0.726877</td>\n",
       "      <td>0.000000</td>\n",
       "      <td>0.000000</td>\n",
       "      <td>0.000000</td>\n",
       "      <td>0.000000</td>\n",
       "      <td>0.000000</td>\n",
       "      <td>0.000000</td>\n",
       "    </tr>\n",
       "    <tr>\n",
       "      <th>3</th>\n",
       "      <td>0.166249</td>\n",
       "      <td>0.000000</td>\n",
       "      <td>0.000000</td>\n",
       "      <td>0.000000</td>\n",
       "      <td>0.000000</td>\n",
       "      <td>0.000000</td>\n",
       "      <td>0.000000</td>\n",
       "      <td>0.000000</td>\n",
       "      <td>0.574219</td>\n",
       "      <td>0.000000</td>\n",
       "      <td>0.000000</td>\n",
       "      <td>0.000000</td>\n",
       "      <td>0.000000</td>\n",
       "      <td>0.000000</td>\n",
       "      <td>0.000000</td>\n",
       "      <td>0.406271</td>\n",
       "      <td>0.574219</td>\n",
       "      <td>0.000000</td>\n",
       "    </tr>\n",
       "    <tr>\n",
       "      <th>4</th>\n",
       "      <td>0.147249</td>\n",
       "      <td>0.000000</td>\n",
       "      <td>0.000000</td>\n",
       "      <td>0.000000</td>\n",
       "      <td>0.000000</td>\n",
       "      <td>0.000000</td>\n",
       "      <td>0.000000</td>\n",
       "      <td>0.000000</td>\n",
       "      <td>0.484585</td>\n",
       "      <td>0.000000</td>\n",
       "      <td>0.000000</td>\n",
       "      <td>0.000000</td>\n",
       "      <td>0.000000</td>\n",
       "      <td>0.000000</td>\n",
       "      <td>0.726877</td>\n",
       "      <td>0.342853</td>\n",
       "      <td>0.484585</td>\n",
       "      <td>0.726877</td>\n",
       "    </tr>\n",
       "    <tr>\n",
       "      <th>5</th>\n",
       "      <td>0.000000</td>\n",
       "      <td>0.000000</td>\n",
       "      <td>0.000000</td>\n",
       "      <td>0.000000</td>\n",
       "      <td>0.000000</td>\n",
       "      <td>0.000000</td>\n",
       "      <td>0.000000</td>\n",
       "      <td>1.056807</td>\n",
       "      <td>0.000000</td>\n",
       "      <td>0.000000</td>\n",
       "      <td>1.056807</td>\n",
       "      <td>0.000000</td>\n",
       "      <td>0.000000</td>\n",
       "      <td>0.000000</td>\n",
       "      <td>0.000000</td>\n",
       "      <td>0.498474</td>\n",
       "      <td>0.000000</td>\n",
       "      <td>0.000000</td>\n",
       "    </tr>\n",
       "    <tr>\n",
       "      <th>6</th>\n",
       "      <td>0.000000</td>\n",
       "      <td>0.000000</td>\n",
       "      <td>0.000000</td>\n",
       "      <td>0.788412</td>\n",
       "      <td>0.371877</td>\n",
       "      <td>0.788412</td>\n",
       "      <td>0.000000</td>\n",
       "      <td>0.000000</td>\n",
       "      <td>0.000000</td>\n",
       "      <td>0.752575</td>\n",
       "      <td>0.000000</td>\n",
       "      <td>0.000000</td>\n",
       "      <td>0.000000</td>\n",
       "      <td>0.788412</td>\n",
       "      <td>0.000000</td>\n",
       "      <td>0.000000</td>\n",
       "      <td>0.000000</td>\n",
       "      <td>0.000000</td>\n",
       "    </tr>\n",
       "    <tr>\n",
       "      <th>7</th>\n",
       "      <td>0.212525</td>\n",
       "      <td>0.000000</td>\n",
       "      <td>0.000000</td>\n",
       "      <td>0.000000</td>\n",
       "      <td>0.000000</td>\n",
       "      <td>0.000000</td>\n",
       "      <td>0.000000</td>\n",
       "      <td>0.000000</td>\n",
       "      <td>0.000000</td>\n",
       "      <td>0.000000</td>\n",
       "      <td>0.000000</td>\n",
       "      <td>0.000000</td>\n",
       "      <td>0.000000</td>\n",
       "      <td>0.000000</td>\n",
       "      <td>0.000000</td>\n",
       "      <td>0.000000</td>\n",
       "      <td>0.000000</td>\n",
       "      <td>0.000000</td>\n",
       "    </tr>\n",
       "  </tbody>\n",
       "</table>\n",
       "</div>\n",
       "      <button class=\"colab-df-convert\" onclick=\"convertToInteractive('df-8770039a-57dd-4355-bbde-4e5ece7888a7')\"\n",
       "              title=\"Convert this dataframe to an interactive table.\"\n",
       "              style=\"display:none;\">\n",
       "        \n",
       "  <svg xmlns=\"http://www.w3.org/2000/svg\" height=\"24px\"viewBox=\"0 0 24 24\"\n",
       "       width=\"24px\">\n",
       "    <path d=\"M0 0h24v24H0V0z\" fill=\"none\"/>\n",
       "    <path d=\"M18.56 5.44l.94 2.06.94-2.06 2.06-.94-2.06-.94-.94-2.06-.94 2.06-2.06.94zm-11 1L8.5 8.5l.94-2.06 2.06-.94-2.06-.94L8.5 2.5l-.94 2.06-2.06.94zm10 10l.94 2.06.94-2.06 2.06-.94-2.06-.94-.94-2.06-.94 2.06-2.06.94z\"/><path d=\"M17.41 7.96l-1.37-1.37c-.4-.4-.92-.59-1.43-.59-.52 0-1.04.2-1.43.59L10.3 9.45l-7.72 7.72c-.78.78-.78 2.05 0 2.83L4 21.41c.39.39.9.59 1.41.59.51 0 1.02-.2 1.41-.59l7.78-7.78 2.81-2.81c.8-.78.8-2.07 0-2.86zM5.41 20L4 18.59l7.72-7.72 1.47 1.35L5.41 20z\"/>\n",
       "  </svg>\n",
       "      </button>\n",
       "      \n",
       "  <style>\n",
       "    .colab-df-container {\n",
       "      display:flex;\n",
       "      flex-wrap:wrap;\n",
       "      gap: 12px;\n",
       "    }\n",
       "\n",
       "    .colab-df-convert {\n",
       "      background-color: #E8F0FE;\n",
       "      border: none;\n",
       "      border-radius: 50%;\n",
       "      cursor: pointer;\n",
       "      display: none;\n",
       "      fill: #1967D2;\n",
       "      height: 32px;\n",
       "      padding: 0 0 0 0;\n",
       "      width: 32px;\n",
       "    }\n",
       "\n",
       "    .colab-df-convert:hover {\n",
       "      background-color: #E2EBFA;\n",
       "      box-shadow: 0px 1px 2px rgba(60, 64, 67, 0.3), 0px 1px 3px 1px rgba(60, 64, 67, 0.15);\n",
       "      fill: #174EA6;\n",
       "    }\n",
       "\n",
       "    [theme=dark] .colab-df-convert {\n",
       "      background-color: #3B4455;\n",
       "      fill: #D2E3FC;\n",
       "    }\n",
       "\n",
       "    [theme=dark] .colab-df-convert:hover {\n",
       "      background-color: #434B5C;\n",
       "      box-shadow: 0px 1px 3px 1px rgba(0, 0, 0, 0.15);\n",
       "      filter: drop-shadow(0px 1px 2px rgba(0, 0, 0, 0.3));\n",
       "      fill: #FFFFFF;\n",
       "    }\n",
       "  </style>\n",
       "\n",
       "      <script>\n",
       "        const buttonEl =\n",
       "          document.querySelector('#df-8770039a-57dd-4355-bbde-4e5ece7888a7 button.colab-df-convert');\n",
       "        buttonEl.style.display =\n",
       "          google.colab.kernel.accessAllowed ? 'block' : 'none';\n",
       "\n",
       "        async function convertToInteractive(key) {\n",
       "          const element = document.querySelector('#df-8770039a-57dd-4355-bbde-4e5ece7888a7');\n",
       "          const dataTable =\n",
       "            await google.colab.kernel.invokeFunction('convertToInteractive',\n",
       "                                                     [key], {});\n",
       "          if (!dataTable) return;\n",
       "\n",
       "          const docLinkHtml = 'Like what you see? Visit the ' +\n",
       "            '<a target=\"_blank\" href=https://colab.research.google.com/notebooks/data_table.ipynb>data table notebook</a>'\n",
       "            + ' to learn more about interactive tables.';\n",
       "          element.innerHTML = '';\n",
       "          dataTable['output_type'] = 'display_data';\n",
       "          await google.colab.output.renderOutput(dataTable, element);\n",
       "          const docLink = document.createElement('div');\n",
       "          docLink.innerHTML = docLinkHtml;\n",
       "          element.appendChild(docLink);\n",
       "        }\n",
       "      </script>\n",
       "    </div>\n",
       "  </div>\n",
       "  "
      ],
      "text/plain": [
       "      boats    called     canal  ...    wooden      work     worst\n",
       "0  0.164919  0.000000  0.000000  ...  0.000000  0.000000  0.000000\n",
       "1  0.146205  0.000000  0.000000  ...  0.000000  0.000000  0.000000\n",
       "2  0.147249  0.726877  0.726877  ...  0.000000  0.000000  0.000000\n",
       "3  0.166249  0.000000  0.000000  ...  0.406271  0.574219  0.000000\n",
       "4  0.147249  0.000000  0.000000  ...  0.342853  0.484585  0.726877\n",
       "5  0.000000  0.000000  0.000000  ...  0.498474  0.000000  0.000000\n",
       "6  0.000000  0.000000  0.000000  ...  0.000000  0.000000  0.000000\n",
       "7  0.212525  0.000000  0.000000  ...  0.000000  0.000000  0.000000\n",
       "\n",
       "[8 rows x 18 columns]"
      ]
     },
     "execution_count": 29,
     "metadata": {},
     "output_type": "execute_result"
    }
   ],
   "source": [
    "bm25_idf = pd.DataFrame(BM25_score, columns=vocabulary)\n",
    "bm25_idf"
   ]
  },
  {
   "cell_type": "code",
   "execution_count": 30,
   "metadata": {
    "executionInfo": {
     "elapsed": 643,
     "status": "ok",
     "timestamp": 1645604846520,
     "user": {
      "displayName": "Kit Bransby",
      "photoUrl": "https://lh3.googleusercontent.com/a-/AOh14GgRv5YII6jwC_cVkIJqmTC4tQymJXRgCfeYfyfnfg=s64",
      "userId": "01527569628475152563"
     },
     "user_tz": 0
    },
    "id": "MG_So7b-wobZ"
   },
   "outputs": [],
   "source": [
    "# So here we have the BM25 scores for each documents. But how? We don't even have a query yet?\n",
    "\n",
    "# Since the query terms are independent we can calculate the BM25_IDF weight for each term in each document already\n",
    "# and when we get a query we only consider terms that appear in the query, as is clear from the equation"
   ]
  },
  {
   "cell_type": "code",
   "execution_count": 31,
   "metadata": {
    "executionInfo": {
     "elapsed": 98,
     "status": "ok",
     "timestamp": 1645604846521,
     "user": {
      "displayName": "Kit Bransby",
      "photoUrl": "https://lh3.googleusercontent.com/a-/AOh14GgRv5YII6jwC_cVkIJqmTC4tQymJXRgCfeYfyfnfg=s64",
      "userId": "01527569628475152563"
     },
     "user_tz": 0
    },
    "id": "056R-eVtyJjS"
   },
   "outputs": [],
   "source": [
    "# So lets say we have the query \"wooden boats\":\n",
    "q_terms = ['wooden', 'boats']"
   ]
  },
  {
   "cell_type": "code",
   "execution_count": 32,
   "metadata": {
    "executionInfo": {
     "elapsed": 55,
     "status": "ok",
     "timestamp": 1645604846527,
     "user": {
      "displayName": "Kit Bransby",
      "photoUrl": "https://lh3.googleusercontent.com/a-/AOh14GgRv5YII6jwC_cVkIJqmTC4tQymJXRgCfeYfyfnfg=s64",
      "userId": "01527569628475152563"
     },
     "user_tz": 0
    },
    "id": "yYRoxqIxzOcW"
   },
   "outputs": [],
   "source": [
    "# How would you find queries that fit the query well based on the BM25 score?:\n",
    "# hint: start by cutting up bm25_df in terms of the query terms\n",
    "q_terms_only_df = bm25_idf[q_terms]\n",
    "\n",
    "# see equation above\n",
    "score_q_d = q_terms_only_df.sum(axis=1)"
   ]
  },
  {
   "cell_type": "code",
   "execution_count": 33,
   "metadata": {
    "colab": {
     "base_uri": "https://localhost:8080/"
    },
    "executionInfo": {
     "elapsed": 56,
     "status": "ok",
     "timestamp": 1645604846528,
     "user": {
      "displayName": "Kit Bransby",
      "photoUrl": "https://lh3.googleusercontent.com/a-/AOh14GgRv5YII6jwC_cVkIJqmTC4tQymJXRgCfeYfyfnfg=s64",
      "userId": "01527569628475152563"
     },
     "user_tz": 0
    },
    "id": "Fm3cTRcdz1tr",
    "outputId": "836d818a-aca4-4f13-8652-eb66506c1b2e"
   },
   "outputs": [
    {
     "data": {
      "text/plain": [
       "[('wooden boats are more work than metal boats', 0.5725198815390077),\n",
       " ('a wooden house is always the prettiest', 0.4984740484037333),\n",
       " ('wooden boats are more work than metal boats, but trawlers are the worst',\n",
       "  0.4901021073611651),\n",
       " ('boats boats boats', 0.21252465505535556),\n",
       " ('Boats are great', 0.16491913232295594),\n",
       " ('canal boats are often called narrow boats, they are quite environmental',\n",
       "  0.1472492252883535),\n",
       " ('Sailing boats are environmental', 0.1462049045416276),\n",
       " ('narrow cars fit through narrow streets and are environmental', 0.0)]"
      ]
     },
     "execution_count": 33,
     "metadata": {},
     "output_type": "execute_result"
    }
   ],
   "source": [
    "# rank the documents\n",
    "sorted(zip(documents,score_q_d.values), key = lambda tup:tup[1], reverse=True)"
   ]
  },
  {
   "cell_type": "code",
   "execution_count": 34,
   "metadata": {
    "colab": {
     "base_uri": "https://localhost:8080/"
    },
    "executionInfo": {
     "elapsed": 47,
     "status": "ok",
     "timestamp": 1645604846528,
     "user": {
      "displayName": "Kit Bransby",
      "photoUrl": "https://lh3.googleusercontent.com/a-/AOh14GgRv5YII6jwC_cVkIJqmTC4tQymJXRgCfeYfyfnfg=s64",
      "userId": "01527569628475152563"
     },
     "user_tz": 0
    },
    "id": "ji4ra_fT0MR_",
    "outputId": "b20f40c1-3669-4e83-d8b4-341beb5abecc"
   },
   "outputs": [
    {
     "data": {
      "text/plain": [
       "[('narrow cars fit through narrow streets and are environmental', 0.0),\n",
       " ('Sailing boats are environmental', 0.1462049045416276),\n",
       " ('canal boats are often called narrow boats, they are quite environmental',\n",
       "  0.1472492252883535),\n",
       " ('Boats are great', 0.16491913232295594),\n",
       " ('boats boats boats', 0.21252465505535556),\n",
       " ('wooden boats are more work than metal boats, but trawlers are the worst',\n",
       "  0.4901021073611651),\n",
       " ('a wooden house is always the prettiest', 0.4984740484037333),\n",
       " ('wooden boats are more work than metal boats', 0.5725198815390077)]"
      ]
     },
     "execution_count": 34,
     "metadata": {},
     "output_type": "execute_result"
    }
   ],
   "source": [
    "# Question 1:\n",
    "# look at the second and third result: anything jump out here in terms of the query terms and documents?\n",
    "\n",
    "# ANSWER: 2nd is scored lower than the 1st despite having the same number of query terms in the document. \n",
    "# this is because the 2nd document has more words than the 1st, and it is scored lower as the BM25 equations normalises by document length (2nd is longer than 1st)\n",
    "# 3rd  is scored higher than the 4th  despite having only 1 query term versus three occurences of a query term in the 4th result. \n",
    "# 'wooden' is a rare term and is therefore has higher idf weight (remember we want weight rare terms higher)\n",
    "\n",
    "# What if you wanted these results to be the other way around? What could you do?\n",
    "\n",
    "# ANSWER\n",
    "sorted(zip(documents,score_q_d.values), key = lambda tup:tup[1], reverse=False)"
   ]
  },
  {
   "cell_type": "code",
   "execution_count": 35,
   "metadata": {
    "executionInfo": {
     "elapsed": 36,
     "status": "ok",
     "timestamp": 1645604846529,
     "user": {
      "displayName": "Kit Bransby",
      "photoUrl": "https://lh3.googleusercontent.com/a-/AOh14GgRv5YII6jwC_cVkIJqmTC4tQymJXRgCfeYfyfnfg=s64",
      "userId": "01527569628475152563"
     },
     "user_tz": 0
    },
    "id": "hJf_Q2cC1ese"
   },
   "outputs": [],
   "source": [
    "# Let's try another query:\n",
    "q_terms = ['environmental', 'narrow', 'boats']\n",
    "q_terms_only_df = bm25_idf[q_terms]\n",
    "score_q_d = q_terms_only_df.sum(axis=1)"
   ]
  },
  {
   "cell_type": "code",
   "execution_count": 36,
   "metadata": {
    "colab": {
     "base_uri": "https://localhost:8080/"
    },
    "executionInfo": {
     "elapsed": 36,
     "status": "ok",
     "timestamp": 1645604846530,
     "user": {
      "displayName": "Kit Bransby",
      "photoUrl": "https://lh3.googleusercontent.com/a-/AOh14GgRv5YII6jwC_cVkIJqmTC4tQymJXRgCfeYfyfnfg=s64",
      "userId": "01527569628475152563"
     },
     "user_tz": 0
    },
    "id": "eUW_Sk-10WoL",
    "outputId": "5f4fa881-bc04-4f7e-f6ef-6e21383a7471"
   },
   "outputs": [
    {
     "data": {
      "text/plain": [
       "['Boats are great',\n",
       " 'Sailing boats are environmental',\n",
       " 'canal boats are often called narrow boats, they are quite environmental',\n",
       " 'wooden boats are more work than metal boats',\n",
       " 'wooden boats are more work than metal boats, but trawlers are the worst',\n",
       " 'a wooden house is always the prettiest',\n",
       " 'narrow cars fit through narrow streets and are environmental',\n",
       " 'boats boats boats']"
      ]
     },
     "execution_count": 36,
     "metadata": {},
     "output_type": "execute_result"
    }
   ],
   "source": [
    "documents"
   ]
  },
  {
   "cell_type": "code",
   "execution_count": 37,
   "metadata": {
    "colab": {
     "base_uri": "https://localhost:8080/"
    },
    "executionInfo": {
     "elapsed": 40,
     "status": "ok",
     "timestamp": 1645604846538,
     "user": {
      "displayName": "Kit Bransby",
      "photoUrl": "https://lh3.googleusercontent.com/a-/AOh14GgRv5YII6jwC_cVkIJqmTC4tQymJXRgCfeYfyfnfg=s64",
      "userId": "01527569628475152563"
     },
     "user_tz": 0
    },
    "id": "BD8ZaVQn21Cg",
    "outputId": "9d2a2d57-dfb7-4363-d190-ebd06e6853a7"
   },
   "outputs": [
    {
     "data": {
      "text/plain": [
       "[('narrow cars fit through narrow streets and are environmental',\n",
       "  1.1244524538421035),\n",
       " ('canal boats are often called narrow boats, they are quite environmental',\n",
       "  0.974686978430013),\n",
       " ('Sailing boats are environmental', 0.6446789529453609),\n",
       " ('boats boats boats', 0.21252465505535556),\n",
       " ('wooden boats are more work than metal boats', 0.16624912532556038),\n",
       " ('Boats are great', 0.16491913232295594),\n",
       " ('wooden boats are more work than metal boats, but trawlers are the worst',\n",
       "  0.1472492252883535),\n",
       " ('a wooden house is always the prettiest', 0.0)]"
      ]
     },
     "execution_count": 37,
     "metadata": {},
     "output_type": "execute_result"
    }
   ],
   "source": [
    "sorted(zip(documents, score_q_d.values), key = lambda tup:tup[1], reverse=True)"
   ]
  },
  {
   "cell_type": "code",
   "execution_count": 38,
   "metadata": {
    "executionInfo": {
     "elapsed": 35,
     "status": "ok",
     "timestamp": 1645604846539,
     "user": {
      "displayName": "Kit Bransby",
      "photoUrl": "https://lh3.googleusercontent.com/a-/AOh14GgRv5YII6jwC_cVkIJqmTC4tQymJXRgCfeYfyfnfg=s64",
      "userId": "01527569628475152563"
     },
     "user_tz": 0
    },
    "id": "71mJR0dK25C3"
   },
   "outputs": [],
   "source": [
    "# Question 2\n",
    "# Looking at the first and second result, something is not right\n",
    "# How could you change the behaviour of the model to switch them around?\n",
    "\n",
    "# ANSWER: It is clear from the query that we are interested in narrow boats, however the top results returns a document about narrow cars as 'narrow' is a rare term with a higher idf weight and there are two occurences in the 1st doc.\n",
    "# Ideas : We need to give more weight to co-occurences of 'narrow' and 'boats' ? This is called 'phrase matching'. \n",
    "# We can also decrease k1 parameter, as to limit the impact of repeated words. "
   ]
  },
  {
   "cell_type": "code",
   "execution_count": 39,
   "metadata": {
    "executionInfo": {
     "elapsed": 35,
     "status": "ok",
     "timestamp": 1645604846540,
     "user": {
      "displayName": "Kit Bransby",
      "photoUrl": "https://lh3.googleusercontent.com/a-/AOh14GgRv5YII6jwC_cVkIJqmTC4tQymJXRgCfeYfyfnfg=s64",
      "userId": "01527569628475152563"
     },
     "user_tz": 0
    },
    "id": "AK_3Ukey5CC2"
   },
   "outputs": [],
   "source": [
    "# If you finish quickly, try to describe graphically how k_1 and b function and how this related to Q1 and Q2\n",
    "\n",
    "# ANSWER : \n",
    "# refer to two graphs here: https://ethen8181.github.io/machine-learning/search/bm25_intro.html\n",
    "# k1 is responsible for term saturation and limits the amount a single query term can impact the score of a document. \n",
    "# i.e how much should adding a second term 'narrow' to a document contribute to the score? The higher the k1 value, the saturation of the effect of adding 'narrow' will be slower\n",
    "# b weights the importance of document length. If b is bigger, the effects of the document length compared to the average length are more amplified\n",
    "# i.e documents that are longer than average document are penalised more. "
   ]
  }
 ],
 "metadata": {
  "colab": {
   "collapsed_sections": [],
   "name": "Lab_3_BM25_ANSWERS.ipynb",
   "provenance": []
  },
  "kernelspec": {
   "display_name": "Python 3 (ipykernel)",
   "language": "python",
   "name": "python3"
  },
  "language_info": {
   "codemirror_mode": {
    "name": "ipython",
    "version": 3
   },
   "file_extension": ".py",
   "mimetype": "text/x-python",
   "name": "python",
   "nbconvert_exporter": "python",
   "pygments_lexer": "ipython3",
   "version": "3.7.6"
  }
 },
 "nbformat": 4,
 "nbformat_minor": 0
}
