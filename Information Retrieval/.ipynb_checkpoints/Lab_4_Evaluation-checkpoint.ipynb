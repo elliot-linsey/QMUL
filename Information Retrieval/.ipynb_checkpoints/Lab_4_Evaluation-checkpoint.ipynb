{
 "cells": [
  {
   "cell_type": "markdown",
   "metadata": {
    "id": "PTw8b3L9c6Tq"
   },
   "source": [
    "## Evaluation"
   ]
  },
  {
   "cell_type": "code",
   "execution_count": 82,
   "metadata": {
    "id": "djCKciMS3xDy"
   },
   "outputs": [],
   "source": [
    "import pandas as pd\n",
    "from sklearn.feature_extraction.text import CountVectorizer\n",
    "import numpy as np\n",
    "import urllib.request\n",
    "from bs4 import BeautifulSoup\n",
    "import re"
   ]
  },
  {
   "cell_type": "code",
   "execution_count": 83,
   "metadata": {
    "id": "d1k-0k5M4E-p"
   },
   "outputs": [],
   "source": [
    "def get_boat_poems():\n",
    "  poems = []\n",
    "  # get poems html\n",
    "  url = 'https://discoverpoetry.com/poems/poems-about-ships/'\n",
    "  contents = urllib.request.urlopen(url).read()\n",
    "  soup = BeautifulSoup(contents)\n",
    "  for poem_html in soup.find_all('article', {'class': 'poem-listing'}):\n",
    "    poem = re.search('<p class=\"ExcerptText\">(.*?)</blockquote>', str(poem_html), re.DOTALL).groups(1)\n",
    "    poems.append(poem[0])\n",
    "  return poems\n",
    "# parse html"
   ]
  },
  {
   "cell_type": "code",
   "execution_count": 84,
   "metadata": {
    "id": "o6zGh-4J9GV9"
   },
   "outputs": [],
   "source": [
    "# best way to look at the poems is to go to: https://discoverpoetry.com/poems/poems-about-ships/\n",
    "# index here = webpage index - 1\n",
    "corpus = get_boat_poems()"
   ]
  },
  {
   "cell_type": "code",
   "execution_count": 85,
   "metadata": {
    "id": "eM1MaHUR6TTx"
   },
   "outputs": [],
   "source": [
    "# vectorize and get vocabulary\n",
    "vectorizer = CountVectorizer(stop_words='english')\n",
    "documents_vectorized = vectorizer.fit_transform(corpus)\n",
    "vocabulary = vectorizer.get_feature_names_out()"
   ]
  },
  {
   "cell_type": "code",
   "execution_count": 86,
   "metadata": {
    "colab": {
     "base_uri": "https://localhost:8080/"
    },
    "id": "qRYSyv05dJoG",
    "outputId": "4bc0297b-681f-4d9c-998f-1beb1c2bcf55"
   },
   "outputs": [
    {
     "data": {
      "text/plain": [
       "array(['_three', 'abbot', 'aberbrothok', ..., 'young', 'youth',\n",
       "       'youthful'], dtype=object)"
      ]
     },
     "execution_count": 86,
     "metadata": {},
     "output_type": "execute_result"
    }
   ],
   "source": [
    "vocabulary"
   ]
  },
  {
   "cell_type": "code",
   "execution_count": 87,
   "metadata": {
    "colab": {
     "base_uri": "https://localhost:8080/"
    },
    "id": "aztwodZ76i6e",
    "outputId": "6ced480d-c482-43a2-b1c9-0740ab6ab466"
   },
   "outputs": [
    {
     "name": "stdout",
     "output_type": "stream",
     "text": [
      "We have a 25 document corpus with a 1496 term vocabulary\n"
     ]
    }
   ],
   "source": [
    "print ('We have a {} document corpus with a {} term vocabulary'.format(*documents_vectorized.shape))"
   ]
  },
  {
   "cell_type": "code",
   "execution_count": 88,
   "metadata": {
    "colab": {
     "base_uri": "https://localhost:8080/",
     "height": 300
    },
    "id": "x7K-92gK93td",
    "outputId": "7c54944b-b2f3-4c67-df91-67962fe970d6"
   },
   "outputs": [
    {
     "data": {
      "text/html": [
       "<div>\n",
       "<style scoped>\n",
       "    .dataframe tbody tr th:only-of-type {\n",
       "        vertical-align: middle;\n",
       "    }\n",
       "\n",
       "    .dataframe tbody tr th {\n",
       "        vertical-align: top;\n",
       "    }\n",
       "\n",
       "    .dataframe thead th {\n",
       "        text-align: right;\n",
       "    }\n",
       "</style>\n",
       "<table border=\"1\" class=\"dataframe\">\n",
       "  <thead>\n",
       "    <tr style=\"text-align: right;\">\n",
       "      <th></th>\n",
       "      <th>_three</th>\n",
       "      <th>abbot</th>\n",
       "      <th>aberbrothok</th>\n",
       "      <th>aboard</th>\n",
       "      <th>ache</th>\n",
       "      <th>ached</th>\n",
       "      <th>aching</th>\n",
       "      <th>action</th>\n",
       "      <th>adieu</th>\n",
       "      <th>adrift</th>\n",
       "      <th>...</th>\n",
       "      <th>years</th>\n",
       "      <th>yeast</th>\n",
       "      <th>yes</th>\n",
       "      <th>yesterday</th>\n",
       "      <th>yielded</th>\n",
       "      <th>yon</th>\n",
       "      <th>yonder</th>\n",
       "      <th>young</th>\n",
       "      <th>youth</th>\n",
       "      <th>youthful</th>\n",
       "    </tr>\n",
       "  </thead>\n",
       "  <tbody>\n",
       "    <tr>\n",
       "      <th>0</th>\n",
       "      <td>0</td>\n",
       "      <td>0</td>\n",
       "      <td>0</td>\n",
       "      <td>0</td>\n",
       "      <td>0</td>\n",
       "      <td>0</td>\n",
       "      <td>0</td>\n",
       "      <td>0</td>\n",
       "      <td>0</td>\n",
       "      <td>0</td>\n",
       "      <td>...</td>\n",
       "      <td>0</td>\n",
       "      <td>0</td>\n",
       "      <td>0</td>\n",
       "      <td>0</td>\n",
       "      <td>0</td>\n",
       "      <td>0</td>\n",
       "      <td>0</td>\n",
       "      <td>0</td>\n",
       "      <td>0</td>\n",
       "      <td>0</td>\n",
       "    </tr>\n",
       "    <tr>\n",
       "      <th>1</th>\n",
       "      <td>0</td>\n",
       "      <td>0</td>\n",
       "      <td>0</td>\n",
       "      <td>0</td>\n",
       "      <td>0</td>\n",
       "      <td>0</td>\n",
       "      <td>0</td>\n",
       "      <td>0</td>\n",
       "      <td>0</td>\n",
       "      <td>0</td>\n",
       "      <td>...</td>\n",
       "      <td>1</td>\n",
       "      <td>0</td>\n",
       "      <td>0</td>\n",
       "      <td>1</td>\n",
       "      <td>0</td>\n",
       "      <td>0</td>\n",
       "      <td>0</td>\n",
       "      <td>0</td>\n",
       "      <td>0</td>\n",
       "      <td>0</td>\n",
       "    </tr>\n",
       "    <tr>\n",
       "      <th>2</th>\n",
       "      <td>0</td>\n",
       "      <td>0</td>\n",
       "      <td>0</td>\n",
       "      <td>0</td>\n",
       "      <td>1</td>\n",
       "      <td>0</td>\n",
       "      <td>0</td>\n",
       "      <td>0</td>\n",
       "      <td>0</td>\n",
       "      <td>0</td>\n",
       "      <td>...</td>\n",
       "      <td>0</td>\n",
       "      <td>0</td>\n",
       "      <td>0</td>\n",
       "      <td>0</td>\n",
       "      <td>0</td>\n",
       "      <td>0</td>\n",
       "      <td>0</td>\n",
       "      <td>0</td>\n",
       "      <td>0</td>\n",
       "      <td>0</td>\n",
       "    </tr>\n",
       "    <tr>\n",
       "      <th>3</th>\n",
       "      <td>0</td>\n",
       "      <td>0</td>\n",
       "      <td>0</td>\n",
       "      <td>0</td>\n",
       "      <td>0</td>\n",
       "      <td>0</td>\n",
       "      <td>0</td>\n",
       "      <td>0</td>\n",
       "      <td>0</td>\n",
       "      <td>0</td>\n",
       "      <td>...</td>\n",
       "      <td>0</td>\n",
       "      <td>0</td>\n",
       "      <td>0</td>\n",
       "      <td>0</td>\n",
       "      <td>0</td>\n",
       "      <td>0</td>\n",
       "      <td>0</td>\n",
       "      <td>0</td>\n",
       "      <td>0</td>\n",
       "      <td>0</td>\n",
       "    </tr>\n",
       "    <tr>\n",
       "      <th>4</th>\n",
       "      <td>0</td>\n",
       "      <td>0</td>\n",
       "      <td>0</td>\n",
       "      <td>0</td>\n",
       "      <td>0</td>\n",
       "      <td>0</td>\n",
       "      <td>0</td>\n",
       "      <td>0</td>\n",
       "      <td>0</td>\n",
       "      <td>0</td>\n",
       "      <td>...</td>\n",
       "      <td>0</td>\n",
       "      <td>0</td>\n",
       "      <td>0</td>\n",
       "      <td>0</td>\n",
       "      <td>0</td>\n",
       "      <td>0</td>\n",
       "      <td>0</td>\n",
       "      <td>0</td>\n",
       "      <td>0</td>\n",
       "      <td>0</td>\n",
       "    </tr>\n",
       "  </tbody>\n",
       "</table>\n",
       "<p>5 rows × 1496 columns</p>\n",
       "</div>"
      ],
      "text/plain": [
       "   _three  abbot  aberbrothok  aboard  ache  ached  aching  action  adieu  \\\n",
       "0       0      0            0       0     0      0       0       0      0   \n",
       "1       0      0            0       0     0      0       0       0      0   \n",
       "2       0      0            0       0     1      0       0       0      0   \n",
       "3       0      0            0       0     0      0       0       0      0   \n",
       "4       0      0            0       0     0      0       0       0      0   \n",
       "\n",
       "   adrift  ...  years  yeast  yes  yesterday  yielded  yon  yonder  young  \\\n",
       "0       0  ...      0      0    0          0        0    0       0      0   \n",
       "1       0  ...      1      0    0          1        0    0       0      0   \n",
       "2       0  ...      0      0    0          0        0    0       0      0   \n",
       "3       0  ...      0      0    0          0        0    0       0      0   \n",
       "4       0  ...      0      0    0          0        0    0       0      0   \n",
       "\n",
       "   youth  youthful  \n",
       "0      0         0  \n",
       "1      0         0  \n",
       "2      0         0  \n",
       "3      0         0  \n",
       "4      0         0  \n",
       "\n",
       "[5 rows x 1496 columns]"
      ]
     },
     "execution_count": 88,
     "metadata": {},
     "output_type": "execute_result"
    }
   ],
   "source": [
    "# This is what it looks like\n",
    "df = pd.DataFrame(documents_vectorized.toarray(), columns=vocabulary)\n",
    "doc_ids = df.index.values\n",
    "df[:5]"
   ]
  },
  {
   "cell_type": "code",
   "execution_count": 89,
   "metadata": {
    "id": "BCUowQXp_Oz2"
   },
   "outputs": [],
   "source": [
    "def BM25_IDF_df(df):\n",
    "  \"\"\"\n",
    "  This definition calculates BM25-IDF weights before hand as done last week\n",
    "  \"\"\"\n",
    "\n",
    "  dfs = (df > 0).sum(axis=0)\n",
    "  N = df.shape[0]\n",
    "  idfs = -np.log(dfs / N)\n",
    "  \n",
    "  k_1 = 1.2\n",
    "  b = 0.8\n",
    "  dls = df.sum(axis=1) \n",
    "  avgdl = np.mean(dls)\n",
    "\n",
    "  numerator = np.array((k_1 + 1) * df)\n",
    "  denominator = np.array(k_1 *((1 - b) + b * (dls / avgdl))).reshape(N,1) + np.array(df)\n",
    "\n",
    "  BM25_tf = numerator / denominator\n",
    "\n",
    "  idfs = np.array(idfs)\n",
    "\n",
    "  BM25_score = BM25_tf * idfs\n",
    "  return pd.DataFrame(BM25_score, columns=vocabulary)\n"
   ]
  },
  {
   "cell_type": "code",
   "execution_count": 90,
   "metadata": {
    "colab": {
     "base_uri": "https://localhost:8080/",
     "height": 300
    },
    "id": "4-gOELhRFI6K",
    "outputId": "fba31c88-99ae-4611-c971-7be091610ff7"
   },
   "outputs": [
    {
     "data": {
      "text/html": [
       "<div>\n",
       "<style scoped>\n",
       "    .dataframe tbody tr th:only-of-type {\n",
       "        vertical-align: middle;\n",
       "    }\n",
       "\n",
       "    .dataframe tbody tr th {\n",
       "        vertical-align: top;\n",
       "    }\n",
       "\n",
       "    .dataframe thead th {\n",
       "        text-align: right;\n",
       "    }\n",
       "</style>\n",
       "<table border=\"1\" class=\"dataframe\">\n",
       "  <thead>\n",
       "    <tr style=\"text-align: right;\">\n",
       "      <th></th>\n",
       "      <th>_three</th>\n",
       "      <th>abbot</th>\n",
       "      <th>aberbrothok</th>\n",
       "      <th>aboard</th>\n",
       "      <th>ache</th>\n",
       "      <th>ached</th>\n",
       "      <th>aching</th>\n",
       "      <th>action</th>\n",
       "      <th>adieu</th>\n",
       "      <th>adrift</th>\n",
       "      <th>...</th>\n",
       "      <th>years</th>\n",
       "      <th>yeast</th>\n",
       "      <th>yes</th>\n",
       "      <th>yesterday</th>\n",
       "      <th>yielded</th>\n",
       "      <th>yon</th>\n",
       "      <th>yonder</th>\n",
       "      <th>young</th>\n",
       "      <th>youth</th>\n",
       "      <th>youthful</th>\n",
       "    </tr>\n",
       "  </thead>\n",
       "  <tbody>\n",
       "    <tr>\n",
       "      <th>0</th>\n",
       "      <td>0.0</td>\n",
       "      <td>0.0</td>\n",
       "      <td>0.0</td>\n",
       "      <td>0.0</td>\n",
       "      <td>0.000000</td>\n",
       "      <td>0.0</td>\n",
       "      <td>0.0</td>\n",
       "      <td>0.0</td>\n",
       "      <td>0.0</td>\n",
       "      <td>0.0</td>\n",
       "      <td>...</td>\n",
       "      <td>0.000000</td>\n",
       "      <td>0.0</td>\n",
       "      <td>0.0</td>\n",
       "      <td>0.000000</td>\n",
       "      <td>0.0</td>\n",
       "      <td>0.0</td>\n",
       "      <td>0.0</td>\n",
       "      <td>0.0</td>\n",
       "      <td>0.0</td>\n",
       "      <td>0.0</td>\n",
       "    </tr>\n",
       "    <tr>\n",
       "      <th>1</th>\n",
       "      <td>0.0</td>\n",
       "      <td>0.0</td>\n",
       "      <td>0.0</td>\n",
       "      <td>0.0</td>\n",
       "      <td>0.000000</td>\n",
       "      <td>0.0</td>\n",
       "      <td>0.0</td>\n",
       "      <td>0.0</td>\n",
       "      <td>0.0</td>\n",
       "      <td>0.0</td>\n",
       "      <td>...</td>\n",
       "      <td>3.691558</td>\n",
       "      <td>0.0</td>\n",
       "      <td>0.0</td>\n",
       "      <td>3.098937</td>\n",
       "      <td>0.0</td>\n",
       "      <td>0.0</td>\n",
       "      <td>0.0</td>\n",
       "      <td>0.0</td>\n",
       "      <td>0.0</td>\n",
       "      <td>0.0</td>\n",
       "    </tr>\n",
       "    <tr>\n",
       "      <th>2</th>\n",
       "      <td>0.0</td>\n",
       "      <td>0.0</td>\n",
       "      <td>0.0</td>\n",
       "      <td>0.0</td>\n",
       "      <td>3.439434</td>\n",
       "      <td>0.0</td>\n",
       "      <td>0.0</td>\n",
       "      <td>0.0</td>\n",
       "      <td>0.0</td>\n",
       "      <td>0.0</td>\n",
       "      <td>...</td>\n",
       "      <td>0.000000</td>\n",
       "      <td>0.0</td>\n",
       "      <td>0.0</td>\n",
       "      <td>0.000000</td>\n",
       "      <td>0.0</td>\n",
       "      <td>0.0</td>\n",
       "      <td>0.0</td>\n",
       "      <td>0.0</td>\n",
       "      <td>0.0</td>\n",
       "      <td>0.0</td>\n",
       "    </tr>\n",
       "    <tr>\n",
       "      <th>3</th>\n",
       "      <td>0.0</td>\n",
       "      <td>0.0</td>\n",
       "      <td>0.0</td>\n",
       "      <td>0.0</td>\n",
       "      <td>0.000000</td>\n",
       "      <td>0.0</td>\n",
       "      <td>0.0</td>\n",
       "      <td>0.0</td>\n",
       "      <td>0.0</td>\n",
       "      <td>0.0</td>\n",
       "      <td>...</td>\n",
       "      <td>0.000000</td>\n",
       "      <td>0.0</td>\n",
       "      <td>0.0</td>\n",
       "      <td>0.000000</td>\n",
       "      <td>0.0</td>\n",
       "      <td>0.0</td>\n",
       "      <td>0.0</td>\n",
       "      <td>0.0</td>\n",
       "      <td>0.0</td>\n",
       "      <td>0.0</td>\n",
       "    </tr>\n",
       "    <tr>\n",
       "      <th>4</th>\n",
       "      <td>0.0</td>\n",
       "      <td>0.0</td>\n",
       "      <td>0.0</td>\n",
       "      <td>0.0</td>\n",
       "      <td>0.000000</td>\n",
       "      <td>0.0</td>\n",
       "      <td>0.0</td>\n",
       "      <td>0.0</td>\n",
       "      <td>0.0</td>\n",
       "      <td>0.0</td>\n",
       "      <td>...</td>\n",
       "      <td>0.000000</td>\n",
       "      <td>0.0</td>\n",
       "      <td>0.0</td>\n",
       "      <td>0.000000</td>\n",
       "      <td>0.0</td>\n",
       "      <td>0.0</td>\n",
       "      <td>0.0</td>\n",
       "      <td>0.0</td>\n",
       "      <td>0.0</td>\n",
       "      <td>0.0</td>\n",
       "    </tr>\n",
       "  </tbody>\n",
       "</table>\n",
       "<p>5 rows × 1496 columns</p>\n",
       "</div>"
      ],
      "text/plain": [
       "   _three  abbot  aberbrothok  aboard      ache  ached  aching  action  adieu  \\\n",
       "0     0.0    0.0          0.0     0.0  0.000000    0.0     0.0     0.0    0.0   \n",
       "1     0.0    0.0          0.0     0.0  0.000000    0.0     0.0     0.0    0.0   \n",
       "2     0.0    0.0          0.0     0.0  3.439434    0.0     0.0     0.0    0.0   \n",
       "3     0.0    0.0          0.0     0.0  0.000000    0.0     0.0     0.0    0.0   \n",
       "4     0.0    0.0          0.0     0.0  0.000000    0.0     0.0     0.0    0.0   \n",
       "\n",
       "   adrift  ...     years  yeast  yes  yesterday  yielded  yon  yonder  young  \\\n",
       "0     0.0  ...  0.000000    0.0  0.0   0.000000      0.0  0.0     0.0    0.0   \n",
       "1     0.0  ...  3.691558    0.0  0.0   3.098937      0.0  0.0     0.0    0.0   \n",
       "2     0.0  ...  0.000000    0.0  0.0   0.000000      0.0  0.0     0.0    0.0   \n",
       "3     0.0  ...  0.000000    0.0  0.0   0.000000      0.0  0.0     0.0    0.0   \n",
       "4     0.0  ...  0.000000    0.0  0.0   0.000000      0.0  0.0     0.0    0.0   \n",
       "\n",
       "   youth  youthful  \n",
       "0    0.0       0.0  \n",
       "1    0.0       0.0  \n",
       "2    0.0       0.0  \n",
       "3    0.0       0.0  \n",
       "4    0.0       0.0  \n",
       "\n",
       "[5 rows x 1496 columns]"
      ]
     },
     "execution_count": 90,
     "metadata": {},
     "output_type": "execute_result"
    }
   ],
   "source": [
    "bm25_df = BM25_IDF_df(df) # a dataframe with BM25-idf weights\n",
    "bm25_df[:5]"
   ]
  },
  {
   "cell_type": "code",
   "execution_count": 91,
   "metadata": {
    "id": "aZRbOm_t-WOJ"
   },
   "outputs": [],
   "source": [
    "# In order to evaluate a search engine over this data we need two things:\n",
    "# 1. Queries \n",
    "# 2. Relevance Judgements\n",
    "\n",
    "# QUERIES dictionary with {query_id: query}\n",
    "queries = dict(enumerate([\n",
    "    'ship wreck',\n",
    "    'sail sailing ship',\n",
    "    # 'little boat'\n",
    "    \n",
    "]))\n",
    "\n",
    "# RELEVANCE JUDGEMENTS list with [(query_id, document_id, judgement), ...] judgement 0 | 1 with 1 = relevant\n",
    "qrels = [\n",
    "         (0, 9, 1),\n",
    "         (0,11,1),\n",
    "         (0,12,1),\n",
    "         (0,13,0),\n",
    "         (0,14,0),\n",
    "         (0,0,0),\n",
    "         (0,24,0),\n",
    "         (0,17,0),\n",
    "         (0,3,0),\n",
    "         (0,4,0),\n",
    "\n",
    "         (1, 0, 0),\n",
    "         (1, 1, 0),\n",
    "         (1, 2, 1),\n",
    "         (1, 3, 1),\n",
    "         (1, 5, 0),\n",
    "         (1, 7, 1),\n",
    "         (1, 21, 0),\n",
    "         (1, 23, 1),\n",
    "        \n",
    "]\n"
   ]
  },
  {
   "cell_type": "code",
   "execution_count": 92,
   "metadata": {
    "id": "n-p13dFRtnnP"
   },
   "outputs": [],
   "source": [
    "# According to the Relevance Judgements, Is the document entitled 'The Ship is Ready' relevant to the query 'sail sailing ship' ?\n",
    "\n",
    "# What about the document 'The Wind and the Sea'. Is it relevant to the query 'ship wreck' according to our Relevance Judgements ? "
   ]
  },
  {
   "cell_type": "code",
   "execution_count": 93,
   "metadata": {
    "id": "f_M7mYeq_mQ4"
   },
   "outputs": [],
   "source": [
    "def retrieve_ranking(query, bm25_df):\n",
    "  q_terms = query.split(' ')\n",
    "  q_terms_only = bm25_df[q_terms]\n",
    "  score_q_d = q_terms_only.sum(axis=1)\n",
    "  return sorted(zip(bm25_df.index.values,score_q_d.values), key = lambda tup:tup[1], reverse=True)"
   ]
  },
  {
   "cell_type": "code",
   "execution_count": 96,
   "metadata": {
    "id": "RVvk4oG8HxEL"
   },
   "outputs": [],
   "source": [
    "def precision_at_k(query_id, k=5):\n",
    "  # calculate precision @ k. we've given you a headstart\n",
    "  # hint: think about precision in terms of true positives and false positives\n",
    "  # hint: remember set theory from Lab 1? \n",
    "    doc_ranking = retrieve_ranking(queries[query_id], bm25_df)\n",
    "    retrieved = [doc[0] for doc in doc_ranking[:k]] # take only the document id, rather than score \n",
    "    rel_docs = [qrel[1] for qrel in qrels if (qrel[0], qrel[2]) == (query_id,1)]\n",
    "    non_rel_docs = [qrel[1] for qrel in qrels if (qrel[0], qrel[2]) == (query_id,0)]\n",
    "    precision = len([rel for rel in rel_docs if rel in retrieved])/(len([rel for rel in non_rel_docs if rel in retrieved])+len([rel for rel in rel_docs if rel in retrieved]))\n",
    "    tp = len([rel for rel in rel_docs if rel in retrieved])\n",
    "    fp = len([rel for rel in non_rel_docs if rel in retrieved])\n",
    "    return tp, fp, precision"
   ]
  },
  {
   "cell_type": "code",
   "execution_count": 97,
   "metadata": {},
   "outputs": [
    {
     "data": {
      "text/plain": [
       "(1, 1, 0.5)"
      ]
     },
     "execution_count": 97,
     "metadata": {},
     "output_type": "execute_result"
    }
   ],
   "source": [
    "precision_at_k(0)"
   ]
  },
  {
   "cell_type": "code",
   "execution_count": 24,
   "metadata": {},
   "outputs": [
    {
     "data": {
      "text/plain": [
       "[(0, 9, 1), (0, 11, 1), (0, 12, 1), (0, 13, 0), (0, 14, 0)]"
      ]
     },
     "execution_count": 24,
     "metadata": {},
     "output_type": "execute_result"
    }
   ],
   "source": [
    "qrels[:5]"
   ]
  },
  {
   "cell_type": "code",
   "execution_count": 72,
   "metadata": {
    "id": "Zawr4IYmK7OR"
   },
   "outputs": [
    {
     "data": {
      "text/plain": [
       "0.4"
      ]
     },
     "execution_count": 72,
     "metadata": {},
     "output_type": "execute_result"
    }
   ],
   "source": [
    "def f1_score_at_k(query_id, k=5):\n",
    "  # calculate f_1 score\n",
    "  # hint: you need to find TP's etc in a similar way to precision at k\n",
    "    doc_ranking = retrieve_ranking(queries[query_id], bm25_df)\n",
    "    retrieved = [doc[0] for doc in doc_ranking[:k]] # take only the document id, rather than score\n",
    "    rel_docs = [qrel[1] for qrel in qrels if (qrel[0], qrel[2]) == (query_id,1)]\n",
    "    rel_docs_total = [qrel[1] for qrel in qrels if (qrel[0], qrel[2]) == (query_id,1)]\n",
    "    non_rel_docs = [qrel[1] for qrel in qrels if (qrel[0], qrel[2]) == (query_id,0)]\n",
    "    precision = len([rel for rel in rel_docs if rel in retrieved])/(len([rel for rel in non_rel_docs if rel in retrieved])\n",
    "                                                                    +len([rel for rel in rel_docs if rel in retrieved]))\n",
    "    recall = len([rel for rel in rel_docs if rel in retrieved])/len(rel_docs_total)\n",
    "    return (2*precision*recall)/(precision+recall)\n",
    "\n",
    "f1_score_at_k(0)"
   ]
  },
  {
   "cell_type": "code",
   "execution_count": null,
   "metadata": {},
   "outputs": [],
   "source": []
  },
  {
   "cell_type": "code",
   "execution_count": 98,
   "metadata": {
    "id": "ClS7o7BPATq0"
   },
   "outputs": [
    {
     "name": "stdout",
     "output_type": "stream",
     "text": [
      "retrieved query \"ship wreck\" with Precision@5 = 0.5 and F1-score = 0.4\n",
      "retrieved query \"sail sailing ship\" with Precision@5 = 1.0 and F1-score = 0.6666666666666666\n"
     ]
    }
   ],
   "source": [
    "# To retrieve and calculate accuracy metrics for each query lets loop over them\n",
    "k = 5\n",
    "for query_id, query in queries.items():\n",
    "    tp, fp, precision = precision_at_k(query_id, k=k)\n",
    "    f1_score = f1_score_at_k(query_id, k=k)\n",
    "    print('retrieved query \"{}\" with Precision@{} = {} and F1-score = {}'.format(query, k, precision, f1_score))\n"
   ]
  },
  {
   "cell_type": "code",
   "execution_count": null,
   "metadata": {
    "id": "-dKGBAXyKQJY"
   },
   "outputs": [],
   "source": [
    "## EXTRA - If you finish early.\n",
    "\n",
    "# Calculate normalized dcg (ndcg) at k using \n",
    "# sklearn library: https://scikit-learn.org/stable/modules/generated/sklearn.metrics.ndcg_score.html\n",
    "from sklearn.metrics import ndcg_score\n",
    "\n",
    "# the things you need is y_true and y_score\n",
    "# first one comes from qrels and second from document rankings\n",
    "# The inputs are numpy arrays\n",
    "# for (n_samples, n_labels) in the documentation, here n_labels = 1"
   ]
  }
 ],
 "metadata": {
  "colab": {
   "collapsed_sections": [],
   "name": "Lab_4_Evaluation.ipynb",
   "provenance": []
  },
  "kernelspec": {
   "display_name": "Python 3 (ipykernel)",
   "language": "python",
   "name": "python3"
  },
  "language_info": {
   "codemirror_mode": {
    "name": "ipython",
    "version": 3
   },
   "file_extension": ".py",
   "mimetype": "text/x-python",
   "name": "python",
   "nbconvert_exporter": "python",
   "pygments_lexer": "ipython3",
   "version": "3.9.7"
  }
 },
 "nbformat": 4,
 "nbformat_minor": 1
}
