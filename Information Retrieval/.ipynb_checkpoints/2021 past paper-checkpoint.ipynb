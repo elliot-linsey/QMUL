{
 "cells": [
  {
   "cell_type": "code",
   "execution_count": 1,
   "id": "23768941",
   "metadata": {},
   "outputs": [],
   "source": [
    "import numpy as np"
   ]
  },
  {
   "cell_type": "markdown",
   "id": "41e496aa",
   "metadata": {},
   "source": [
    "## Question 1:\n",
    "\n",
    "i) False, the boolean model has queries specified as boolean expressions\n",
    "\n",
    "ii) False, Frequent words have less discriminatory power, if it appears in every document then it probably isn't very important\n",
    "\n",
    "iii) True, a term that is rare is more informative. For a very specific subject the word should be weighted highly. \n",
    "\n",
    "iv) True, the bag of words model takes counts of each word per document and removes sentence structure\n",
    "\n",
    "v) False, it treats all words the same so the higher the word frequency, the higher the score which is the opposite of what is wanted\n",
    "\n",
    "vi) \n",
    "\n",
    "vii)\n",
    "\n",
    "viii) False, stemming usually increases recall but decreases precision. \n",
    "\n",
    "ix) False, stemming usually increases recall\n",
    "\n",
    "x) False, The most frequent word occurs approximately twice as often as the second most frequent word. The frequency is inversely proportional to its rank in the frequency table"
   ]
  },
  {
   "cell_type": "markdown",
   "id": "7d58dc8c",
   "metadata": {},
   "source": [
    "b) done in notebook"
   ]
  },
  {
   "cell_type": "markdown",
   "id": "b69b8d56",
   "metadata": {},
   "source": [
    "c) Force Jedi is the best\n",
    "\n",
    "Force Jedi has Dark Hope\n",
    "\n",
    "Force Jedi has Hope"
   ]
  },
  {
   "cell_type": "markdown",
   "id": "52baf461",
   "metadata": {},
   "source": [
    "## Question 2\n",
    "\n",
    "TF = term frequency of term t in collection\n",
    "\n",
    "tf = term frequency of term t in document\n",
    "\n",
    "p = probability to draw a document, = 1/N where N is number of documents\n",
    "\n",
    "w(t|d) is the weight of the term given the document"
   ]
  },
  {
   "cell_type": "markdown",
   "id": "14142ad7",
   "metadata": {},
   "source": [
    "-np.log10("
   ]
  },
  {
   "cell_type": "code",
   "execution_count": 8,
   "id": "757f19c6",
   "metadata": {},
   "outputs": [],
   "source": [
    "c1 = (4/20 * 13/24)/(11/24 * 16/20)\n",
    "c2 = (8/20 * 16/24)/(8/24 * 12/20)\n",
    "c3 = (4/20 * 14/24)/(10/24 * 16/20)"
   ]
  },
  {
   "cell_type": "code",
   "execution_count": 11,
   "id": "849c5736",
   "metadata": {},
   "outputs": [
    {
     "name": "stdout",
     "output_type": "stream",
     "text": [
      "1.6287878787878787\n",
      "1.9787878787878788\n",
      "0.29545454545454547\n",
      "ranking = d2,d1,d3\n"
     ]
    }
   ],
   "source": [
    "print(c1 + c2)\n",
    "print(c1 + c2 + c3)\n",
    "print(c1)\n",
    "print('ranking = d2,d1,d3')"
   ]
  },
  {
   "cell_type": "markdown",
   "id": "61a928ed",
   "metadata": {},
   "source": [
    "## Question 3\n",
    "\n",
    "a) both u and v are webpages. U is the set of pages. PR is the pagerank of the specific webpage u or v. N is the number of outgoing links of page v. d is the damping factor.\n",
    "\n"
   ]
  },
  {
   "cell_type": "code",
   "execution_count": 12,
   "id": "cf823394",
   "metadata": {},
   "outputs": [
    {
     "data": {
      "text/plain": [
       "0.7"
      ]
     },
     "execution_count": 12,
     "metadata": {},
     "output_type": "execute_result"
    }
   ],
   "source": [
    "0.4 + 0.6*1/2"
   ]
  },
  {
   "cell_type": "code",
   "execution_count": 13,
   "id": "87816f93",
   "metadata": {},
   "outputs": [
    {
     "data": {
      "text/plain": [
       "1.9"
      ]
     },
     "execution_count": 13,
     "metadata": {},
     "output_type": "execute_result"
    }
   ],
   "source": [
    "0.4 + 0.6*(1/2 + 1 + 1)"
   ]
  },
  {
   "cell_type": "code",
   "execution_count": 14,
   "id": "b6ebae4d",
   "metadata": {},
   "outputs": [
    {
     "data": {
      "text/plain": [
       "0.8999999999999999"
      ]
     },
     "execution_count": 14,
     "metadata": {},
     "output_type": "execute_result"
    }
   ],
   "source": [
    "0.4 + 0.6*(1/2 + 1/3)"
   ]
  },
  {
   "cell_type": "code",
   "execution_count": 15,
   "id": "866d8e9a",
   "metadata": {},
   "outputs": [
    {
     "data": {
      "text/plain": [
       "0.6"
      ]
     },
     "execution_count": 15,
     "metadata": {},
     "output_type": "execute_result"
    }
   ],
   "source": [
    "0.4 + 0.6*1/3"
   ]
  },
  {
   "cell_type": "markdown",
   "id": "fa6914f6",
   "metadata": {},
   "source": [
    "ci) it assumes that the index terms are linearly independent but no longer pairwise orthogonal\n",
    "\n",
    "cii) minterm vectors\n",
    "\n",
    "ciii) (1,0,...0), (0,1...,0), (0,0...1)"
   ]
  },
  {
   "cell_type": "markdown",
   "id": "0a73cabe",
   "metadata": {},
   "source": [
    "## Question 4\n",
    "\n",
    "ai) Recall is usually impossible as we may not know all relevant documents\n",
    "\n",
    "As one increases the other usually decreases \n",
    "\n",
    "ii) precision favours web search where we want relevant documents ranked highly. recall favours medicine or law where we want an exhaustive list of all relevant documents \n",
    "\n",
    "iii) E-measure allows the user to specify whether they are more interested in precision or recall. "
   ]
  },
  {
   "cell_type": "markdown",
   "id": "4d463966",
   "metadata": {},
   "source": [
    "ci) cluster hypothesis is Documents in the same\n",
    "cluster behave similarly with respect to relevance to\n",
    "information needs\n",
    "\n",
    "cii) whole corpus analysis/navigation, for improving recall in search applications, for better navigation of search results\n",
    "\n",
    "ciii) newspaper wants to put news stories into categories, spam filter for relevant or not relevant, find the category of a given web page\n",
    "\n",
    "d) the semantic gap is the difference between two or more descriptions of an object in different representations. For example, both words 'movie' and 'film' may be relating to the same subject but due to the semantic gap between them they may not appear similar in an information retrieval system."
   ]
  }
 ],
 "metadata": {
  "kernelspec": {
   "display_name": "Python 3",
   "language": "python",
   "name": "python3"
  },
  "language_info": {
   "codemirror_mode": {
    "name": "ipython",
    "version": 3
   },
   "file_extension": ".py",
   "mimetype": "text/x-python",
   "name": "python",
   "nbconvert_exporter": "python",
   "pygments_lexer": "ipython3",
   "version": "3.8.8"
  }
 },
 "nbformat": 4,
 "nbformat_minor": 5
}
