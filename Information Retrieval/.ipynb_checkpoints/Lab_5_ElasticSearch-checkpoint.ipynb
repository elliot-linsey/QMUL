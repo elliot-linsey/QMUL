{
 "cells": [
  {
   "cell_type": "markdown",
   "metadata": {
    "id": "PxzUUP-o2Wxb"
   },
   "source": [
    "# ElasticSearch (ES) in Google Colab\n",
    "\n",
    "Troubleshooting: The Elasticsearch API is unstable in Colab and you may run into errors from time to time. Here are some troubleshooting tips:\n",
    "* Only run the code from Section 1 once. This means that the server and client are only downloaded and installed once, and process duplication is avoided.\n",
    "* If you create an index which contains zero documents, this is incorrect and this problem is solved by recreating the index using the code provided.\n",
    "* If your index contains twice as many documents as expected, try to delete the index (code provided below) and recreate. \n",
    "* When ES server instances are duplicated, you may run into additional errors. To check if you have multiple processes running as daemon use the following code `%%bash ps -ef | grep elasticsearch`. To kill the daemon process you can use   `!kill -9 <id>` where id is the number in the second column related to the daemon process. Failing that, please ask for help from one of the demonstrators. \n"
   ]
  },
  {
   "cell_type": "markdown",
   "metadata": {
    "id": "cMeROlUr8167"
   },
   "source": [
    "### 1. Download Elasticsearch server and client"
   ]
  },
  {
   "cell_type": "code",
   "execution_count": 1,
   "metadata": {
    "executionInfo": {
     "elapsed": 6,
     "status": "ok",
     "timestamp": 1646819048147,
     "user": {
      "displayName": "Kit Bransby",
      "photoUrl": "https://lh3.googleusercontent.com/a-/AOh14GgRv5YII6jwC_cVkIJqmTC4tQymJXRgCfeYfyfnfg=s64",
      "userId": "01527569628475152563"
     },
     "user_tz": 0
    },
    "id": "ttJG1R0v2uU0"
   },
   "outputs": [],
   "source": [
    "# The following bash scripts download the elastic search library and install it\n",
    "# on the google colab instance. \n",
    "\n",
    "# You need to run these only once when you work on your search engine notebook\n",
    "\n",
    "# NOTE: If you are working on a large dataset (20k+ docs) you should do this locally\n",
    "# i.e. in a jupyter notebook. This way you only need to install ES once and \n",
    "# index your data ones"
   ]
  },
  {
   "cell_type": "code",
   "execution_count": null,
   "metadata": {
    "id": "9X0RRDmSjPIH"
   },
   "outputs": [],
   "source": [
    "!wget -q https://artifacts.elastic.co/downloads/elasticsearch/elasticsearch-oss-7.9.2-linux-x86_64.tar.gz\n",
    "!wget -q https://artifacts.elastic.co/downloads/elasticsearch/elasticsearch-oss-7.9.2-linux-x86_64.tar.gz.sha512\n",
    "!tar -xzf elasticsearch-oss-7.9.2-linux-x86_64.tar.gz\n",
    "!sudo chown -R daemon:daemon elasticsearch-7.9.2/\n",
    "!shasum -a 512 -c elasticsearch-oss-7.9.2-linux-x86_64.tar.gz.sha512 "
   ]
  },
  {
   "cell_type": "code",
   "execution_count": 47,
   "metadata": {
    "executionInfo": {
     "elapsed": 2839,
     "status": "ok",
     "timestamp": 1646819394204,
     "user": {
      "displayName": "Kit Bransby",
      "photoUrl": "https://lh3.googleusercontent.com/a-/AOh14GgRv5YII6jwC_cVkIJqmTC4tQymJXRgCfeYfyfnfg=s64",
      "userId": "01527569628475152563"
     },
     "user_tz": 0
    },
    "id": "FZrLVP4A3u02"
   },
   "outputs": [],
   "source": [
    "# https://stackoverflow.com/questions/68762774/elasticsearchunsupportedproducterror-the-client-noticed-that-the-server-is-no#answer-68918449\n",
    "!pip install elasticsearch==7.9.1 -q"
   ]
  },
  {
   "cell_type": "code",
   "execution_count": null,
   "metadata": {
    "id": "ZqfnZxgVmJmR"
   },
   "outputs": [],
   "source": [
    "# check elasticsearch version in environment\n",
    "!pip freeze | grep elasticsearch"
   ]
  },
  {
   "cell_type": "code",
   "execution_count": 49,
   "metadata": {
    "executionInfo": {
     "elapsed": 8,
     "status": "ok",
     "timestamp": 1646819395207,
     "user": {
      "displayName": "Kit Bransby",
      "photoUrl": "https://lh3.googleusercontent.com/a-/AOh14GgRv5YII6jwC_cVkIJqmTC4tQymJXRgCfeYfyfnfg=s64",
      "userId": "01527569628475152563"
     },
     "user_tz": 0
    },
    "id": "QCB_UilB4cus"
   },
   "outputs": [],
   "source": [
    "# import utility packages\n",
    "import urllib.request \n",
    "from bs4 import BeautifulSoup \n",
    "import re\n",
    "import time\n",
    "\n",
    "# let's import ES\n",
    "from elasticsearch import Elasticsearch"
   ]
  },
  {
   "cell_type": "code",
   "execution_count": null,
   "metadata": {
    "id": "tbH-uD8lH0oN"
   },
   "outputs": [],
   "source": [
    "%%bash --bg\n",
    "sudo -H -u daemon elasticsearch-7.9.2/bin/elasticsearch"
   ]
  },
  {
   "cell_type": "code",
   "execution_count": null,
   "metadata": {
    "id": "48LqMJ1BEHm5"
   },
   "outputs": [],
   "source": [
    "%%bash\n",
    "ps -ef | grep elasticsearch"
   ]
  },
  {
   "cell_type": "code",
   "execution_count": null,
   "metadata": {
    "id": "8wCxSEfRErUF"
   },
   "outputs": [],
   "source": [
    "# start es server\n",
    "time.sleep(20) # give the server 20 seconds to start ..\n",
    "!curl -X GET \"http://localhost:9200\""
   ]
  },
  {
   "cell_type": "code",
   "execution_count": 52,
   "metadata": {
    "executionInfo": {
     "elapsed": 219,
     "status": "ok",
     "timestamp": 1646819440864,
     "user": {
      "displayName": "Kit Bransby",
      "photoUrl": "https://lh3.googleusercontent.com/a-/AOh14GgRv5YII6jwC_cVkIJqmTC4tQymJXRgCfeYfyfnfg=s64",
      "userId": "01527569628475152563"
     },
     "user_tz": 0
    },
    "id": "LfXBHi-Aq_R1"
   },
   "outputs": [],
   "source": [
    "def test_ES(es):\n",
    "  \"\"\"\n",
    "  Script to test whether we have succesfully started an ES instance and\n",
    "  and imported the python library\n",
    "  \"\"\"\n",
    "  \n",
    "  return es.ping()  # got True\n",
    "  "
   ]
  },
  {
   "cell_type": "code",
   "execution_count": null,
   "metadata": {
    "id": "4jUzDg6LrV_Q"
   },
   "outputs": [],
   "source": [
    "# start and TEST es \n",
    "es = Elasticsearch(\"http://localhost:9200\")\n",
    "if test_ES(es):\n",
    "  print('ES instance working')\n",
    "else:\n",
    "  print('ES instance not working')"
   ]
  },
  {
   "cell_type": "code",
   "execution_count": null,
   "metadata": {
    "id": "uSPlroG7oqp-"
   },
   "outputs": [],
   "source": [
    "# Server information\n",
    "es.info()"
   ]
  },
  {
   "cell_type": "markdown",
   "metadata": {
    "id": "KSyskP3D9NCI"
   },
   "source": [
    "### 2. Document Retrieval"
   ]
  },
  {
   "cell_type": "code",
   "execution_count": 55,
   "metadata": {
    "executionInfo": {
     "elapsed": 251,
     "status": "ok",
     "timestamp": 1646819444972,
     "user": {
      "displayName": "Kit Bransby",
      "photoUrl": "https://lh3.googleusercontent.com/a-/AOh14GgRv5YII6jwC_cVkIJqmTC4tQymJXRgCfeYfyfnfg=s64",
      "userId": "01527569628475152563"
     },
     "user_tz": 0
    },
    "id": "ACdRNRo_2sgE"
   },
   "outputs": [],
   "source": [
    "# First thing we want to do is index some data. Let's use our poems from the\n",
    "# previous lab:"
   ]
  },
  {
   "cell_type": "code",
   "execution_count": 56,
   "metadata": {
    "executionInfo": {
     "elapsed": 2,
     "status": "ok",
     "timestamp": 1646819445182,
     "user": {
      "displayName": "Kit Bransby",
      "photoUrl": "https://lh3.googleusercontent.com/a-/AOh14GgRv5YII6jwC_cVkIJqmTC4tQymJXRgCfeYfyfnfg=s64",
      "userId": "01527569628475152563"
     },
     "user_tz": 0
    },
    "id": "u0YARq0s4USJ"
   },
   "outputs": [],
   "source": [
    "def get_boat_poems():\n",
    "  poem_data = []\n",
    "  # get poems html\n",
    "  url = 'https://discoverpoetry.com/poems/poems-about-ships/'\n",
    "  contents = urllib.request.urlopen(url).read()\n",
    "  soup = BeautifulSoup(contents)\n",
    "  for poem_html in soup.find_all('article', {'class': 'poem-listing'}):\n",
    "    poem = re.search('<p class=\"ExcerptText\">(.*?)</blockquote>', str(poem_html), re.DOTALL).groups(1)\n",
    "    title = re.search('<h3 class=\"cat-poem-title\">(.*?)</h3>', str(poem_html), re.DOTALL).groups(1)\n",
    "    try:\n",
    "      author = re.search('<div class=\"intro\">by (.*?)</div>', str(poem_html), re.DOTALL).groups(1)\n",
    "    except AttributeError:\n",
    "      print(poem_html)\n",
    "    poem_data.append((title, poem, author))\n",
    "  return poem_data\n",
    "# parse html"
   ]
  },
  {
   "cell_type": "code",
   "execution_count": 57,
   "metadata": {
    "executionInfo": {
     "elapsed": 4,
     "status": "ok",
     "timestamp": 1646819445903,
     "user": {
      "displayName": "Kit Bransby",
      "photoUrl": "https://lh3.googleusercontent.com/a-/AOh14GgRv5YII6jwC_cVkIJqmTC4tQymJXRgCfeYfyfnfg=s64",
      "userId": "01527569628475152563"
     },
     "user_tz": 0
    },
    "id": "_2UJoTEZ6ON7"
   },
   "outputs": [],
   "source": [
    "def clean_text(raw_html):\n",
    "  \"\"\"\n",
    "  borrowed from David Beauchemin: https://stackoverflow.com/questions/9662346/python-code-to-remove-html-tags-from-a-string\n",
    "  \"\"\"\n",
    "  return BeautifulSoup(raw_html, \"lxml\").text"
   ]
  },
  {
   "cell_type": "code",
   "execution_count": 58,
   "metadata": {
    "executionInfo": {
     "elapsed": 3,
     "status": "ok",
     "timestamp": 1646819446627,
     "user": {
      "displayName": "Kit Bransby",
      "photoUrl": "https://lh3.googleusercontent.com/a-/AOh14GgRv5YII6jwC_cVkIJqmTC4tQymJXRgCfeYfyfnfg=s64",
      "userId": "01527569628475152563"
     },
     "user_tz": 0
    },
    "id": "2bnbsG4654Uq"
   },
   "outputs": [],
   "source": [
    "def clean_corpus(corpus):\n",
    "  titles = [clean_text(x[0][0]) for x in corpus]\n",
    "  bodies = [clean_text(x[1][0]) for x in corpus]\n",
    "  authors = [clean_text(x[2][0]) for x in corpus]\n",
    "  return list(zip(titles, bodies, authors))"
   ]
  },
  {
   "cell_type": "code",
   "execution_count": 59,
   "metadata": {
    "executionInfo": {
     "elapsed": 638,
     "status": "ok",
     "timestamp": 1646819447792,
     "user": {
      "displayName": "Kit Bransby",
      "photoUrl": "https://lh3.googleusercontent.com/a-/AOh14GgRv5YII6jwC_cVkIJqmTC4tQymJXRgCfeYfyfnfg=s64",
      "userId": "01527569628475152563"
     },
     "user_tz": 0
    },
    "id": "fvBR30Gk4klR"
   },
   "outputs": [],
   "source": [
    "# note that we have now stored the author and title fields as well.\n",
    "corpus = get_boat_poems()\n",
    "corpus = clean_corpus(corpus)"
   ]
  },
  {
   "cell_type": "code",
   "execution_count": 60,
   "metadata": {
    "executionInfo": {
     "elapsed": 6,
     "status": "ok",
     "timestamp": 1646819447793,
     "user": {
      "displayName": "Kit Bransby",
      "photoUrl": "https://lh3.googleusercontent.com/a-/AOh14GgRv5YII6jwC_cVkIJqmTC4tQymJXRgCfeYfyfnfg=s64",
      "userId": "01527569628475152563"
     },
     "user_tz": 0
    },
    "id": "bxFahaH05wAI"
   },
   "outputs": [],
   "source": [
    "# Now let's start indexing some documents.\n",
    "\n",
    "# The key two places to find information on the functionality and what you can do with ES are:\n",
    "# 1. the python library documentation: https://elasticsearch-py.readthedocs.io/en/v7.13.2/api.html\n",
    "# 2. and the general ES documentation: https://www.elastic.co/guide/index.html\n",
    "# with the \n",
    "# 2.1 index API: https://www.elastic.co/guide/en/elasticsearch/reference/7.x/docs-index_.html\n",
    "# and \n",
    "# 2.2 search API: https://www.elastic.co/guide/en/elasticsearch/reference/current/search-search.html\n"
   ]
  },
  {
   "cell_type": "code",
   "execution_count": null,
   "metadata": {
    "id": "tdvxh-l5-hpR"
   },
   "outputs": [],
   "source": [
    "# Uncomment if you've already created an index. As you'll need to delete to recreate\n",
    "#es.indices.delete(index_name)"
   ]
  },
  {
   "cell_type": "code",
   "execution_count": null,
   "metadata": {
    "id": "IMZNPe6n-1AQ"
   },
   "outputs": [],
   "source": [
    "# mappings are used to define what kind of structure your data has. here explicit mapping is used: \n",
    "# https://www.elastic.co/guide/en/elasticsearch/reference/current/explicit-mapping.html\n",
    "\n",
    "# The mapping is used when creating the index through the request body:\n",
    "\n",
    "request_body = {\n",
    "    'settings': {\n",
    "        'number_of_shards': 1,\n",
    "        'number_of_replicas': 1,\n",
    "        \n",
    "    },\n",
    "    'mappings': {\n",
    "          'properties': {\n",
    "              'title': {'type': 'text'},\n",
    "              'body': {'type': 'text'},\n",
    "              'author': {'type': 'text'}\n",
    "          }\n",
    "    }\n",
    "}\n",
    "\n",
    "index_name = 'test'\n",
    "try:\n",
    "  es.indices.get(index_name)\n",
    "  print('index {} already exists'.format(index_name))\n",
    "except:\n",
    "  print('creating index {}'.format(index_name))\n",
    "  es.indices.create(index_name, body=request_body)"
   ]
  },
  {
   "cell_type": "code",
   "execution_count": 63,
   "metadata": {
    "executionInfo": {
     "elapsed": 548,
     "status": "ok",
     "timestamp": 1646819451387,
     "user": {
      "displayName": "Kit Bransby",
      "photoUrl": "https://lh3.googleusercontent.com/a-/AOh14GgRv5YII6jwC_cVkIJqmTC4tQymJXRgCfeYfyfnfg=s64",
      "userId": "01527569628475152563"
     },
     "user_tz": 0
    },
    "id": "qF9LykGuG6Xv"
   },
   "outputs": [],
   "source": [
    "# now what we want to do is put some data in the index, i.e. index it: \n",
    "for title, body, author in corpus:\n",
    "  doc_body = {\n",
    "      'title': title,\n",
    "      'body': body,\n",
    "      'author': author\n",
    "  }\n",
    "  es.index(index_name, doc_body)"
   ]
  },
  {
   "cell_type": "code",
   "execution_count": null,
   "metadata": {
    "id": "QxQ9RddVHKw7"
   },
   "outputs": [],
   "source": [
    "# Now let's have a look at our index:\n",
    "print('we have made and index called {} with {} documents'.format(index_name, es.cat.count(index=index_name,h=['count'])))"
   ]
  },
  {
   "cell_type": "code",
   "execution_count": 65,
   "metadata": {
    "executionInfo": {
     "elapsed": 3,
     "status": "ok",
     "timestamp": 1646819453814,
     "user": {
      "displayName": "Kit Bransby",
      "photoUrl": "https://lh3.googleusercontent.com/a-/AOh14GgRv5YII6jwC_cVkIJqmTC4tQymJXRgCfeYfyfnfg=s64",
      "userId": "01527569628475152563"
     },
     "user_tz": 0
    },
    "id": "WH97XCkQHLTU"
   },
   "outputs": [],
   "source": [
    "def index_info(index_name):\n",
    "  count, deleted, shards, =  es.cat.indices(index=index_name, h=['docs.count', 'docs.deleted', 'pri'])[:-1].split(' ')\n",
    "  print(\n",
    "      \"\"\"\n",
    "      #### INDEX INFO #####\n",
    "      index_name = {}\n",
    "      doc_count = {}\n",
    "      shard_count = {}\n",
    "      deleted_doc_count = {}\n",
    "      \"\"\".format(index_name, count, shards, deleted)\n",
    "  )"
   ]
  },
  {
   "cell_type": "code",
   "execution_count": null,
   "metadata": {
    "id": "HethqxMAI88Y"
   },
   "outputs": [],
   "source": [
    "index_info(index_name)"
   ]
  },
  {
   "cell_type": "code",
   "execution_count": null,
   "metadata": {
    "id": "hgFsSfmXKbmS"
   },
   "outputs": [],
   "source": [
    "# now let's try some queries:\n",
    "# Here the key is the es.search class and the Seach API documentation: \n",
    "# https://www.elastic.co/guide/en/elasticsearch/reference/current/search-search.html\n",
    "\n",
    "query_body = {\n",
    "    'query':{\n",
    "        'term': {\n",
    "            'body':  'ship'\n",
    "        }\n",
    "    }\n",
    "}\n",
    "print('### RESULTS ####')\n",
    "explain=True\n",
    "results = es.search(index=index_name, body=query_body, explain=explain)['hits']['hits']\n",
    "for hit in results:\n",
    "  print('title: {} - score: {}'.format(hit['_source']['title'], hit['_score']))\n",
    "if explain:\n",
    "  print('some info on results')\n",
    "  print(hit['_explanation'])"
   ]
  },
  {
   "cell_type": "code",
   "execution_count": 39,
   "metadata": {
    "executionInfo": {
     "elapsed": 211,
     "status": "ok",
     "timestamp": 1646819157751,
     "user": {
      "displayName": "Kit Bransby",
      "photoUrl": "https://lh3.googleusercontent.com/a-/AOh14GgRv5YII6jwC_cVkIJqmTC4tQymJXRgCfeYfyfnfg=s64",
      "userId": "01527569628475152563"
     },
     "user_tz": 0
    },
    "id": "-whAxjBxMp8Z"
   },
   "outputs": [],
   "source": [
    "# What about using the DFR?\n",
    "\n",
    "request_body = {\n",
    "    'settings': {\n",
    "        'number_of_shards': 1,\n",
    "        'number_of_replicas': 1,\n",
    "        'index': {\n",
    "            'similarity': {\n",
    "                'dfr_similarity': {\n",
    "                    'type': 'DFR',\n",
    "                    'basic_model': 'g',\n",
    "                    'after_effect': 'l',\n",
    "                    'normalization': 'h2',\n",
    "                    'normalization.h2.c':'3.0'\n",
    "\n",
    "                }\n",
    "            }\n",
    "        }\n",
    "        \n",
    "    },\n",
    "    'mappings': {\n",
    "          'properties': {\n",
    "              'title': {'type': 'text', 'similarity': 'dfr_similarity'},\n",
    "              'body': {'type': 'text', 'similarity': 'dfr_similarity'},\n",
    "              'author': {'type': 'text', 'similarity': 'dfr_similarity'}\n",
    "          }\n",
    "    }\n",
    "}"
   ]
  }
 ],
 "metadata": {
  "colab": {
   "collapsed_sections": [],
   "name": "Lab_5_ElasticSearch.ipynb",
   "provenance": []
  },
  "kernelspec": {
   "display_name": "Python 3",
   "name": "python3"
  },
  "language_info": {
   "name": "python"
  }
 },
 "nbformat": 4,
 "nbformat_minor": 0
}
