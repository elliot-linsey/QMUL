{
 "cells": [
  {
   "cell_type": "code",
   "execution_count": null,
   "metadata": {
    "id": "-FawhhK2XSFs"
   },
   "outputs": [],
   "source": [
    "print('I have set up the notebook and have it running, yay')"
   ]
  },
  {
   "cell_type": "markdown",
   "metadata": {
    "collapsed": false,
    "id": "IFph-BokfObp"
   },
   "source": [
    "# Indexing\n",
    "The following cells will demonstrate how a small index works"
   ]
  },
  {
   "cell_type": "code",
   "execution_count": 2,
   "metadata": {
    "executionInfo": {
     "elapsed": 49,
     "status": "ok",
     "timestamp": 1644318480300,
     "user": {
      "displayName": "Kit Bransby",
      "photoUrl": "https://lh3.googleusercontent.com/a-/AOh14GgRv5YII6jwC_cVkIJqmTC4tQymJXRgCfeYfyfnfg=s64",
      "userId": "01527569628475152563"
     },
     "user_tz": 0
    },
    "id": "G_8S5dkYiebf"
   },
   "outputs": [],
   "source": [
    "import pandas as pd"
   ]
  },
  {
   "cell_type": "code",
   "execution_count": 3,
   "metadata": {
    "executionInfo": {
     "elapsed": 48,
     "status": "ok",
     "timestamp": 1644318480300,
     "user": {
      "displayName": "Kit Bransby",
      "photoUrl": "https://lh3.googleusercontent.com/a-/AOh14GgRv5YII6jwC_cVkIJqmTC4tQymJXRgCfeYfyfnfg=s64",
      "userId": "01527569628475152563"
     },
     "user_tz": 0
    },
    "id": "5QZ4WeDzfkR3"
   },
   "outputs": [],
   "source": [
    "# documents to be indexed\n",
    "documents = [\n",
    "             'Boats are great',\n",
    "             'Sailing boats are enviromental',\n",
    "             'canal boats are narrow',\n",
    "             'wooden boats are more work than metal boats',\n",
    "             'a wooden boat is always the prettiest'\n",
    "]\n",
    "document_terms = [doc.split(' ') for doc in documents]"
   ]
  },
  {
   "cell_type": "code",
   "execution_count": null,
   "metadata": {
    "id": "XJAcd05u6-bw"
   },
   "outputs": [],
   "source": [
    "document_terms"
   ]
  },
  {
   "cell_type": "markdown",
   "metadata": {
    "collapsed": false,
    "id": "H1ilQNRTfYhi"
   },
   "source": [
    "**The long way**"
   ]
  },
  {
   "cell_type": "code",
   "execution_count": null,
   "metadata": {
    "id": "DkLKbmWMfgEy"
   },
   "outputs": [],
   "source": [
    "# find the \"vocabulary\", i.e. all words in the doc\n",
    "vocabulary = set()\n",
    "\n",
    "for doc in documents:\n",
    "  for word in doc.split(): \n",
    "    vocabulary.add(word)\n",
    "\n",
    "vocabulary = list(vocabulary)\n",
    "\n",
    "vocabulary"
   ]
  },
  {
   "cell_type": "code",
   "execution_count": null,
   "metadata": {
    "id": "n5Sd6BbQ7ths"
   },
   "outputs": [],
   "source": [
    "# CODING TIP: You can also write this in a single line\n",
    "vocabulary2 = list(set(word for doc in documents for word in doc.split()))\n",
    "\n",
    "# Lets check that the two methods lead to the same result\n",
    "vocabulary == vocabulary2 "
   ]
  },
  {
   "cell_type": "code",
   "execution_count": null,
   "metadata": {
    "id": "XIvwM-7QgO7X"
   },
   "outputs": [],
   "source": [
    "# Boolean matrix representation of all docs\n",
    "documents_vectorized = [ \n",
    "                        [ 1 if term in doc else 0 for term in vocabulary]\n",
    "                        for doc in document_terms]\n",
    "\n",
    "documents_vectorized"
   ]
  },
  {
   "cell_type": "code",
   "execution_count": null,
   "metadata": {
    "id": "Itb1bswC6-b2"
   },
   "outputs": [],
   "source": [
    "# CODING TIP: Alternatively you can also cast the boolean result of evaluating term in doc to an int\n",
    "documents_vectorized2 = [[int(term in doc) for term in vocabulary] for doc in document_terms]\n",
    "\n",
    "# Lets check that the two methods lead to the same result\n",
    "documents_vectorized2 == documents_vectorized "
   ]
  },
  {
   "cell_type": "code",
   "execution_count": null,
   "metadata": {
    "id": "QmTXt-Zkgm_v"
   },
   "outputs": [],
   "source": [
    "# Show in pandas for clarity\n",
    "df = pd.DataFrame(documents_vectorized, columns = vocabulary)\n",
    "df"
   ]
  },
  {
   "cell_type": "code",
   "execution_count": 10,
   "metadata": {
    "executionInfo": {
     "elapsed": 35,
     "status": "ok",
     "timestamp": 1644318480307,
     "user": {
      "displayName": "Kit Bransby",
      "photoUrl": "https://lh3.googleusercontent.com/a-/AOh14GgRv5YII6jwC_cVkIJqmTC4tQymJXRgCfeYfyfnfg=s64",
      "userId": "01527569628475152563"
     },
     "user_tz": 0
    },
    "id": "smQmod7wiK51"
   },
   "outputs": [],
   "source": [
    "# An important part of the index is a dictionary for term: doc_id pairs. So let's create one\n",
    "term_occurence_dict = {term:[] for term in vocabulary}\n",
    "\n",
    "for doc_id, doc in enumerate(document_terms):\n",
    "  for term in doc:\n",
    "    term_occurence_dict[term].append(doc_id)"
   ]
  },
  {
   "cell_type": "code",
   "execution_count": null,
   "metadata": {
    "id": "rH26VxF29yCo"
   },
   "outputs": [],
   "source": [
    "term_occurence_dict"
   ]
  },
  {
   "cell_type": "code",
   "execution_count": 12,
   "metadata": {
    "executionInfo": {
     "elapsed": 38,
     "status": "ok",
     "timestamp": 1644318480314,
     "user": {
      "displayName": "Kit Bransby",
      "photoUrl": "https://lh3.googleusercontent.com/a-/AOh14GgRv5YII6jwC_cVkIJqmTC4tQymJXRgCfeYfyfnfg=s64",
      "userId": "01527569628475152563"
     },
     "user_tz": 0
    },
    "id": "t4Mpl8A89Gud"
   },
   "outputs": [],
   "source": [
    "# CODING TIP: We can also use the defaultdict module from the collections package\n",
    "# This dictionary implementation has a little more functionality\n",
    "from collections import defaultdict\n",
    "\n",
    "term_occurence_dict = defaultdict(list)\n",
    "\n",
    "for doc_id, doc in enumerate(document_terms):\n",
    "  for term in doc:\n",
    "    term_occurence_dict[term].append(doc_id)"
   ]
  },
  {
   "cell_type": "code",
   "execution_count": null,
   "metadata": {
    "id": "uG1pG0FQ6-b4"
   },
   "outputs": [],
   "source": [
    "term_occurence_dict"
   ]
  },
  {
   "cell_type": "code",
   "execution_count": 14,
   "metadata": {
    "executionInfo": {
     "elapsed": 36,
     "status": "ok",
     "timestamp": 1644318480316,
     "user": {
      "displayName": "Kit Bransby",
      "photoUrl": "https://lh3.googleusercontent.com/a-/AOh14GgRv5YII6jwC_cVkIJqmTC4tQymJXRgCfeYfyfnfg=s64",
      "userId": "01527569628475152563"
     },
     "user_tz": 0
    },
    "id": "Jw_uEH-vjg-o"
   },
   "outputs": [],
   "source": [
    "# So if we want to find all documents with the word \"boats\" or \"than\" instead of looping over everything we just do:\n",
    "terms = ['boats', 'than']\n",
    "result_docs = []\n",
    "\n",
    "for term in terms:\n",
    "  doc_ids = term_occurence_dict[term]\n",
    "  for doc_id in doc_ids:\n",
    "    result_docs.append(documents[doc_id])\n",
    "\n",
    "result_docs = list(set(result_docs))"
   ]
  },
  {
   "cell_type": "code",
   "execution_count": null,
   "metadata": {
    "id": "zmOBz1jb6-b6"
   },
   "outputs": [],
   "source": [
    "result_docs"
   ]
  },
  {
   "cell_type": "code",
   "execution_count": null,
   "metadata": {
    "id": "rbeiQwGI95fp"
   },
   "outputs": [],
   "source": [
    "# CODING TIP: it's faster and easier to get rid of duplicate integers than duplicate text. \n",
    "# This method uses 3 lines \n",
    "doc_indexes = []\n",
    "\n",
    "# Get all doc indexes containing the terms\n",
    "for term in terms:\n",
    "  doc_indexes.extend(term_occurence_dict[term])\n",
    "# Retrieve documents from indexes\n",
    "result_docs2 = [documents[idx] for idx in set(doc_indexes)]\n",
    "\n",
    "# Checking that both methods lead to the same answer\n",
    "result_docs.sort()\n",
    "result_docs2.sort()\n",
    "result_docs == result_docs2"
   ]
  },
  {
   "cell_type": "code",
   "execution_count": null,
   "metadata": {
    "id": "E6N0abIm-gK-"
   },
   "outputs": [],
   "source": [
    "result_docs2"
   ]
  },
  {
   "cell_type": "code",
   "execution_count": 19,
   "metadata": {
    "executionInfo": {
     "elapsed": 20,
     "status": "ok",
     "timestamp": 1644318480668,
     "user": {
      "displayName": "Kit Bransby",
      "photoUrl": "https://lh3.googleusercontent.com/a-/AOh14GgRv5YII6jwC_cVkIJqmTC4tQymJXRgCfeYfyfnfg=s64",
      "userId": "01527569628475152563"
     },
     "user_tz": 0
    },
    "id": "6M2fLiWikQC6"
   },
   "outputs": [],
   "source": [
    "# TASK: How about if we want only documents with \"boats\" AND \"than\"?"
   ]
  },
  {
   "cell_type": "markdown",
   "metadata": {
    "collapsed": false,
    "id": "Ypz8mwa6manr"
   },
   "source": [
    "**The short way**"
   ]
  },
  {
   "cell_type": "code",
   "execution_count": 20,
   "metadata": {
    "executionInfo": {
     "elapsed": 19,
     "status": "ok",
     "timestamp": 1644318480668,
     "user": {
      "displayName": "Kit Bransby",
      "photoUrl": "https://lh3.googleusercontent.com/a-/AOh14GgRv5YII6jwC_cVkIJqmTC4tQymJXRgCfeYfyfnfg=s64",
      "userId": "01527569628475152563"
     },
     "user_tz": 0
    },
    "id": "_AjQZ1v9mdGB"
   },
   "outputs": [],
   "source": [
    "from sklearn.feature_extraction.text import CountVectorizer"
   ]
  },
  {
   "cell_type": "code",
   "execution_count": 21,
   "metadata": {
    "executionInfo": {
     "elapsed": 19,
     "status": "ok",
     "timestamp": 1644318480669,
     "user": {
      "displayName": "Kit Bransby",
      "photoUrl": "https://lh3.googleusercontent.com/a-/AOh14GgRv5YII6jwC_cVkIJqmTC4tQymJXRgCfeYfyfnfg=s64",
      "userId": "01527569628475152563"
     },
     "user_tz": 0
    },
    "id": "3QKrfG-jmjn4"
   },
   "outputs": [],
   "source": [
    "# See https://scikit-learn.org/stable/modules/generated/sklearn.feature_extraction.text.CountVectorizer.html\n",
    "vectorizer = CountVectorizer()"
   ]
  },
  {
   "cell_type": "code",
   "execution_count": null,
   "metadata": {
    "id": "P4FLph9ymk-z"
   },
   "outputs": [],
   "source": [
    "documents_vectorized = vectorizer.fit_transform(documents)\n",
    "# a sparse matrix representaion of the data. this is easy to turn into a numpy array with .toarray()\n",
    "# however, don't do it unless you have to as it is costly\n",
    "documents_vectorized"
   ]
  },
  {
   "cell_type": "code",
   "execution_count": null,
   "metadata": {
    "id": "KoIX5Rd3mo0R"
   },
   "outputs": [],
   "source": [
    "vocabulary = vectorizer.get_feature_names_out()\n",
    "vocabulary"
   ]
  },
  {
   "cell_type": "code",
   "execution_count": null,
   "metadata": {
    "id": "dK-C6Htsmryt"
   },
   "outputs": [],
   "source": [
    "# pandas to visualise. things are always done faster in numpy\n",
    "df = pd.DataFrame(documents_vectorized.toarray(), columns=vocabulary)\n",
    "df"
   ]
  },
  {
   "cell_type": "code",
   "execution_count": 25,
   "metadata": {
    "executionInfo": {
     "elapsed": 13,
     "status": "ok",
     "timestamp": 1644318481290,
     "user": {
      "displayName": "Kit Bransby",
      "photoUrl": "https://lh3.googleusercontent.com/a-/AOh14GgRv5YII6jwC_cVkIJqmTC4tQymJXRgCfeYfyfnfg=s64",
      "userId": "01527569628475152563"
     },
     "user_tz": 0
    },
    "id": "CsXA7FkanHX5"
   },
   "outputs": [],
   "source": [
    "# TASK: Do you notice anything different about the vocabulary when using Count Vectorizer compared to the vocabulary of our longer method?"
   ]
  },
  {
   "cell_type": "code",
   "execution_count": 26,
   "metadata": {
    "executionInfo": {
     "elapsed": 13,
     "status": "ok",
     "timestamp": 1644318481291,
     "user": {
      "displayName": "Kit Bransby",
      "photoUrl": "https://lh3.googleusercontent.com/a-/AOh14GgRv5YII6jwC_cVkIJqmTC4tQymJXRgCfeYfyfnfg=s64",
      "userId": "01527569628475152563"
     },
     "user_tz": 0
    },
    "id": "U7Uo6sHcEtFw"
   },
   "outputs": [],
   "source": [
    "# TASK : What other methods can be used to preprocess words (tokens) in a corpus of text documents? Describe two"
   ]
  },
  {
   "cell_type": "code",
   "execution_count": 27,
   "metadata": {
    "executionInfo": {
     "elapsed": 13,
     "status": "ok",
     "timestamp": 1644318481291,
     "user": {
      "displayName": "Kit Bransby",
      "photoUrl": "https://lh3.googleusercontent.com/a-/AOh14GgRv5YII6jwC_cVkIJqmTC4tQymJXRgCfeYfyfnfg=s64",
      "userId": "01527569628475152563"
     },
     "user_tz": 0
    },
    "id": "ubauSZ-lDlRG"
   },
   "outputs": [],
   "source": [
    "# TASK : Write code to calculate the term frequency of the word 'boats' in the 3rd document"
   ]
  },
  {
   "cell_type": "code",
   "execution_count": 28,
   "metadata": {
    "executionInfo": {
     "elapsed": 13,
     "status": "ok",
     "timestamp": 1644318481292,
     "user": {
      "displayName": "Kit Bransby",
      "photoUrl": "https://lh3.googleusercontent.com/a-/AOh14GgRv5YII6jwC_cVkIJqmTC4tQymJXRgCfeYfyfnfg=s64",
      "userId": "01527569628475152563"
     },
     "user_tz": 0
    },
    "id": "MUV90UaT6-cA"
   },
   "outputs": [],
   "source": [
    "# TASK : Write code to calculate the document frequency of the word 'are'"
   ]
  }
 ],
 "metadata": {
  "colab": {
   "collapsed_sections": [],
   "name": "Lab_2_Indexing.ipynb",
   "provenance": []
  },
  "kernelspec": {
   "argv": [
    "python",
    "-m",
    "ipykernel_launcher",
    "-f",
    "{connection_file}"
   ],
   "display_name": "Python 3",
   "env": null,
   "interrupt_mode": "signal",
   "language": "python",
   "metadata": null,
   "name": "python3"
  },
  "language_info": {
   "codemirror_mode": {
    "name": "ipython",
    "version": 3
   },
   "file_extension": ".py",
   "mimetype": "text/x-python",
   "name": "python",
   "nbconvert_exporter": "python",
   "pygments_lexer": "ipython3",
   "version": "3.7.6"
  },
  "name": "Lab_2_Indexing.ipynb"
 },
 "nbformat": 4,
 "nbformat_minor": 0
}
