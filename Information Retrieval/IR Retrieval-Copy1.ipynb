{
 "cells": [
  {
   "cell_type": "code",
   "execution_count": 196,
   "id": "76288fd7",
   "metadata": {},
   "outputs": [],
   "source": [
    "import pandas as pd\n",
    "import numpy as np"
   ]
  },
  {
   "cell_type": "code",
   "execution_count": 197,
   "id": "4a081ffc",
   "metadata": {
    "scrolled": true
   },
   "outputs": [
    {
     "data": {
      "text/html": [
       "<div>\n",
       "<style scoped>\n",
       "    .dataframe tbody tr th:only-of-type {\n",
       "        vertical-align: middle;\n",
       "    }\n",
       "\n",
       "    .dataframe tbody tr th {\n",
       "        vertical-align: top;\n",
       "    }\n",
       "\n",
       "    .dataframe thead th {\n",
       "        text-align: right;\n",
       "    }\n",
       "</style>\n",
       "<table border=\"1\" class=\"dataframe\">\n",
       "  <thead>\n",
       "    <tr style=\"text-align: right;\">\n",
       "      <th></th>\n",
       "      <th>team</th>\n",
       "      <th>coach</th>\n",
       "      <th>play</th>\n",
       "      <th>ball</th>\n",
       "      <th>score</th>\n",
       "      <th>game</th>\n",
       "      <th>win</th>\n",
       "      <th>lost</th>\n",
       "      <th>timeout</th>\n",
       "      <th>season</th>\n",
       "    </tr>\n",
       "  </thead>\n",
       "  <tbody>\n",
       "    <tr>\n",
       "      <th>Document 1</th>\n",
       "      <td>3</td>\n",
       "      <td>0</td>\n",
       "      <td>5</td>\n",
       "      <td>0</td>\n",
       "      <td>2</td>\n",
       "      <td>6</td>\n",
       "      <td>0</td>\n",
       "      <td>2</td>\n",
       "      <td>0</td>\n",
       "      <td>2</td>\n",
       "    </tr>\n",
       "    <tr>\n",
       "      <th>Document 2</th>\n",
       "      <td>0</td>\n",
       "      <td>7</td>\n",
       "      <td>0</td>\n",
       "      <td>2</td>\n",
       "      <td>1</td>\n",
       "      <td>0</td>\n",
       "      <td>0</td>\n",
       "      <td>3</td>\n",
       "      <td>0</td>\n",
       "      <td>0</td>\n",
       "    </tr>\n",
       "    <tr>\n",
       "      <th>Document 3</th>\n",
       "      <td>0</td>\n",
       "      <td>1</td>\n",
       "      <td>0</td>\n",
       "      <td>0</td>\n",
       "      <td>1</td>\n",
       "      <td>2</td>\n",
       "      <td>2</td>\n",
       "      <td>0</td>\n",
       "      <td>3</td>\n",
       "      <td>0</td>\n",
       "    </tr>\n",
       "    <tr>\n",
       "      <th>Document 4</th>\n",
       "      <td>1</td>\n",
       "      <td>1</td>\n",
       "      <td>1</td>\n",
       "      <td>1</td>\n",
       "      <td>1</td>\n",
       "      <td>1</td>\n",
       "      <td>1</td>\n",
       "      <td>1</td>\n",
       "      <td>1</td>\n",
       "      <td>1</td>\n",
       "    </tr>\n",
       "    <tr>\n",
       "      <th>Document 5</th>\n",
       "      <td>1</td>\n",
       "      <td>1</td>\n",
       "      <td>1</td>\n",
       "      <td>1</td>\n",
       "      <td>1</td>\n",
       "      <td>1</td>\n",
       "      <td>1</td>\n",
       "      <td>1</td>\n",
       "      <td>1</td>\n",
       "      <td>1</td>\n",
       "    </tr>\n",
       "  </tbody>\n",
       "</table>\n",
       "</div>"
      ],
      "text/plain": [
       "            team  coach  play  ball  score  game  win  lost  timeout  season\n",
       "Document 1     3      0     5     0      2     6    0     2        0       2\n",
       "Document 2     0      7     0     2      1     0    0     3        0       0\n",
       "Document 3     0      1     0     0      1     2    2     0        3       0\n",
       "Document 4     1      1     1     1      1     1    1     1        1       1\n",
       "Document 5     1      1     1     1      1     1    1     1        1       1"
      ]
     },
     "execution_count": 197,
     "metadata": {},
     "output_type": "execute_result"
    }
   ],
   "source": [
    "words = pd.DataFrame(\n",
    "    [[3,0,5,0,2,6,0,2,0,2],\n",
    "    [0,7,0,2,1,0,0,3,0,0],\n",
    "    [0,1,0,0,1,2,2,0,3,0],\n",
    "    [1,1,1,1,1,1,1,1,1,1],\n",
    "    [1,1,1,1,1,1,1,1,1,1]],\n",
    "    columns=['team','coach','play','ball','score','game','win','lost','timeout','season'],\n",
    "    index=['Document 1','Document 2', 'Document 3','Document 4', 'Document 5']\n",
    ")\n",
    "\n",
    "words"
   ]
  },
  {
   "cell_type": "code",
   "execution_count": 198,
   "id": "1fa9c354",
   "metadata": {},
   "outputs": [
    {
     "data": {
      "text/plain": [
       "0.1814516129032258"
      ]
     },
     "execution_count": 198,
     "metadata": {},
     "output_type": "execute_result"
    }
   ],
   "source": [
    "(0.5*5/20)+(0.5*7/62)"
   ]
  },
  {
   "cell_type": "code",
   "execution_count": 199,
   "id": "13a2f514",
   "metadata": {},
   "outputs": [],
   "source": [
    "query = ['team']"
   ]
  },
  {
   "cell_type": "code",
   "execution_count": 200,
   "id": "06bcbf03",
   "metadata": {},
   "outputs": [
    {
     "name": "stdout",
     "output_type": "stream",
     "text": [
      "Document 1    3\n",
      "Document 2    0\n",
      "Document 3    0\n",
      "Document 4    1\n",
      "Document 5    1\n",
      "Name: team, dtype: int64\n"
     ]
    }
   ],
   "source": [
    "def retrieval(query):\n",
    "    for x in query:\n",
    "        doc_mod = words[x]\n",
    "        word_sum = words[x].sum()\n",
    "        #doc_sum = words[x].sum(axis=1)\n",
    "        print(doc_mod)\n",
    "        \n",
    "        \n",
    "retrieval(query)"
   ]
  },
  {
   "cell_type": "code",
   "execution_count": 201,
   "id": "05b05805",
   "metadata": {},
   "outputs": [
    {
     "data": {
      "text/plain": [
       "Document 1    0.020925\n",
       "Document 4    0.009615\n",
       "Document 5    0.009615\n",
       "Document 2    0.002276\n",
       "Document 3    0.002276\n",
       "dtype: float64"
      ]
     },
     "execution_count": 201,
     "metadata": {},
     "output_type": "execute_result"
    }
   ],
   "source": [
    "class retrieval():\n",
    "    def __init__(self,query,model,alpha):\n",
    "        self.query = query\n",
    "        self.model = model\n",
    "        self.alpha = alpha\n",
    "    \n",
    "    def totals(self):\n",
    "        return self.model.iloc[::].sum(axis=1)\n",
    "        \n",
    "    def retrieve(self):\n",
    "        totals = self.totals\n",
    "        probabilities = []\n",
    "        ranking = []\n",
    "        for x in self.query:\n",
    "            doc_mod = words[x]\n",
    "            word_sum = words[x].sum()\n",
    "            #doc_sum = words[x].sum(axis=1)\n",
    "            doc_probs = doc_mod/self.totals()\n",
    "            #print(doc_probs)\n",
    "            coll_model = doc_mod.sum()/self.totals().sum()\n",
    "            #print(coll_model)\n",
    "            probabilities.append((self.alpha*doc_probs) + ((1-self.alpha)*coll_model))\n",
    "        \n",
    "        probs_df = pd.concat(probabilities,axis=1)\n",
    "        return probs_df.product(axis=1).sort_values(ascending=False)\n",
    "        #return np.prod([x[0] for x in probabilities])\n",
    "#         for y in self.query:\n",
    "#             return (self.alpha*doc_probs) + ((1-self.alpha)*coll_model)\n",
    "    \n",
    "test = retrieval(['team','play'], words, 0.5)\n",
    "test.retrieve()"
   ]
  },
  {
   "cell_type": "code",
   "execution_count": 206,
   "id": "5521ab5f",
   "metadata": {},
   "outputs": [
    {
     "data": {
      "text/plain": [
       "0.020925468262226847"
      ]
     },
     "execution_count": 206,
     "metadata": {},
     "output_type": "execute_result"
    }
   ],
   "source": [
    "((0.5*3/20)+(0.5*5/62))*((0.5*5/20)+(0.5*7/62))"
   ]
  }
 ],
 "metadata": {
  "kernelspec": {
   "display_name": "Python 3",
   "language": "python",
   "name": "python3"
  },
  "language_info": {
   "codemirror_mode": {
    "name": "ipython",
    "version": 3
   },
   "file_extension": ".py",
   "mimetype": "text/x-python",
   "name": "python",
   "nbconvert_exporter": "python",
   "pygments_lexer": "ipython3",
   "version": "3.8.8"
  }
 },
 "nbformat": 4,
 "nbformat_minor": 5
}
