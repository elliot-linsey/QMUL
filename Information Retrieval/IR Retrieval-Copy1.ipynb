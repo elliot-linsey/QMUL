{
 "cells": [
  {
   "cell_type": "code",
   "execution_count": 1,
   "id": "76288fd7",
   "metadata": {},
   "outputs": [],
   "source": [
    "import pandas as pd\n",
    "import numpy as np"
   ]
  },
  {
   "cell_type": "code",
   "execution_count": 2,
   "id": "4a081ffc",
   "metadata": {
    "scrolled": true
   },
   "outputs": [
    {
     "data": {
      "text/html": [
       "<div>\n",
       "<style scoped>\n",
       "    .dataframe tbody tr th:only-of-type {\n",
       "        vertical-align: middle;\n",
       "    }\n",
       "\n",
       "    .dataframe tbody tr th {\n",
       "        vertical-align: top;\n",
       "    }\n",
       "\n",
       "    .dataframe thead th {\n",
       "        text-align: right;\n",
       "    }\n",
       "</style>\n",
       "<table border=\"1\" class=\"dataframe\">\n",
       "  <thead>\n",
       "    <tr style=\"text-align: right;\">\n",
       "      <th></th>\n",
       "      <th>team</th>\n",
       "      <th>coach</th>\n",
       "      <th>play</th>\n",
       "      <th>ball</th>\n",
       "      <th>score</th>\n",
       "      <th>game</th>\n",
       "      <th>win</th>\n",
       "      <th>lost</th>\n",
       "      <th>timeout</th>\n",
       "      <th>season</th>\n",
       "    </tr>\n",
       "  </thead>\n",
       "  <tbody>\n",
       "    <tr>\n",
       "      <th>Document 1</th>\n",
       "      <td>3</td>\n",
       "      <td>0</td>\n",
       "      <td>5</td>\n",
       "      <td>0</td>\n",
       "      <td>2</td>\n",
       "      <td>6</td>\n",
       "      <td>0</td>\n",
       "      <td>2</td>\n",
       "      <td>0</td>\n",
       "      <td>2</td>\n",
       "    </tr>\n",
       "    <tr>\n",
       "      <th>Document 2</th>\n",
       "      <td>0</td>\n",
       "      <td>7</td>\n",
       "      <td>0</td>\n",
       "      <td>2</td>\n",
       "      <td>1</td>\n",
       "      <td>0</td>\n",
       "      <td>0</td>\n",
       "      <td>3</td>\n",
       "      <td>0</td>\n",
       "      <td>0</td>\n",
       "    </tr>\n",
       "    <tr>\n",
       "      <th>Document 3</th>\n",
       "      <td>0</td>\n",
       "      <td>1</td>\n",
       "      <td>0</td>\n",
       "      <td>0</td>\n",
       "      <td>1</td>\n",
       "      <td>2</td>\n",
       "      <td>2</td>\n",
       "      <td>0</td>\n",
       "      <td>3</td>\n",
       "      <td>0</td>\n",
       "    </tr>\n",
       "    <tr>\n",
       "      <th>Document 4</th>\n",
       "      <td>1</td>\n",
       "      <td>1</td>\n",
       "      <td>1</td>\n",
       "      <td>1</td>\n",
       "      <td>1</td>\n",
       "      <td>1</td>\n",
       "      <td>1</td>\n",
       "      <td>1</td>\n",
       "      <td>1</td>\n",
       "      <td>1</td>\n",
       "    </tr>\n",
       "    <tr>\n",
       "      <th>Document 5</th>\n",
       "      <td>1</td>\n",
       "      <td>1</td>\n",
       "      <td>1</td>\n",
       "      <td>1</td>\n",
       "      <td>1</td>\n",
       "      <td>1</td>\n",
       "      <td>1</td>\n",
       "      <td>1</td>\n",
       "      <td>1</td>\n",
       "      <td>1</td>\n",
       "    </tr>\n",
       "  </tbody>\n",
       "</table>\n",
       "</div>"
      ],
      "text/plain": [
       "            team  coach  play  ball  score  game  win  lost  timeout  season\n",
       "Document 1     3      0     5     0      2     6    0     2        0       2\n",
       "Document 2     0      7     0     2      1     0    0     3        0       0\n",
       "Document 3     0      1     0     0      1     2    2     0        3       0\n",
       "Document 4     1      1     1     1      1     1    1     1        1       1\n",
       "Document 5     1      1     1     1      1     1    1     1        1       1"
      ]
     },
     "execution_count": 2,
     "metadata": {},
     "output_type": "execute_result"
    }
   ],
   "source": [
    "words = pd.DataFrame(\n",
    "    [[3,0,5,0,2,6,0,2,0,2],\n",
    "    [0,7,0,2,1,0,0,3,0,0],\n",
    "    [0,1,0,0,1,2,2,0,3,0],\n",
    "    [1,1,1,1,1,1,1,1,1,1],\n",
    "    [1,1,1,1,1,1,1,1,1,1]],\n",
    "    columns=['team','coach','play','ball','score','game','win','lost','timeout','season'],\n",
    "    index=['Document 1','Document 2', 'Document 3','Document 4', 'Document 5']\n",
    ")\n",
    "\n",
    "words"
   ]
  },
  {
   "cell_type": "code",
   "execution_count": 3,
   "id": "1fa9c354",
   "metadata": {},
   "outputs": [
    {
     "data": {
      "text/plain": [
       "0.1814516129032258"
      ]
     },
     "execution_count": 3,
     "metadata": {},
     "output_type": "execute_result"
    }
   ],
   "source": [
    "(0.5*5/20)+(0.5*7/62)"
   ]
  },
  {
   "cell_type": "code",
   "execution_count": 4,
   "id": "13a2f514",
   "metadata": {},
   "outputs": [],
   "source": [
    "query = ['team']"
   ]
  },
  {
   "cell_type": "code",
   "execution_count": 5,
   "id": "06bcbf03",
   "metadata": {},
   "outputs": [
    {
     "name": "stdout",
     "output_type": "stream",
     "text": [
      "Document 1    3\n",
      "Document 2    0\n",
      "Document 3    0\n",
      "Document 4    1\n",
      "Document 5    1\n",
      "Name: team, dtype: int64\n"
     ]
    }
   ],
   "source": [
    "def retrieval(query):\n",
    "    for x in query:\n",
    "        doc_mod = words[x]\n",
    "        word_sum = words[x].sum()\n",
    "        #doc_sum = words[x].sum(axis=1)\n",
    "        print(doc_mod)\n",
    "        \n",
    "        \n",
    "retrieval(query)"
   ]
  },
  {
   "cell_type": "code",
   "execution_count": 6,
   "id": "05b05805",
   "metadata": {},
   "outputs": [
    {
     "data": {
      "text/plain": [
       "Document 1    0.020925\n",
       "Document 4    0.009615\n",
       "Document 5    0.009615\n",
       "Document 2    0.002276\n",
       "Document 3    0.002276\n",
       "dtype: float64"
      ]
     },
     "execution_count": 6,
     "metadata": {},
     "output_type": "execute_result"
    }
   ],
   "source": [
    "class LIretrieval():\n",
    "    def __init__(self,model,alpha):\n",
    "        self.model = model\n",
    "        self.alpha = alpha\n",
    "    \n",
    "    def totals(self):\n",
    "        return self.model.iloc[::].sum(axis=1)\n",
    "        \n",
    "    def retrieve(self, query):\n",
    "        totals = self.totals\n",
    "        probabilities = []\n",
    "        num_docs = len(self.model)\n",
    "        coll_num = self.model.iloc[::].sum(axis=1).sum()\n",
    "        if len(query) == 0:\n",
    "            return 'Please input query'\n",
    "        for x in query:\n",
    "            if x in self.model:\n",
    "                doc_mod = self.model[x]\n",
    "                word_sum = self.model[x].sum()\n",
    "                doc_probs = doc_mod/self.totals()\n",
    "                coll_model = doc_mod.sum()/self.totals().sum()\n",
    "                probabilities.append((self.alpha*doc_probs) + ((1-self.alpha)*coll_model))\n",
    "        \n",
    "        probs_df = pd.concat(probabilities,axis=1)\n",
    "        return probs_df.product(axis=1).sort_values(ascending=False)\n",
    "    \n",
    "test = LIretrieval(words, 0.5)\n",
    "test.retrieve(['team','play'])"
   ]
  },
  {
   "cell_type": "code",
   "execution_count": 7,
   "id": "2e48fbe5",
   "metadata": {},
   "outputs": [
    {
     "data": {
      "text/plain": [
       "0.020925468262226847"
      ]
     },
     "execution_count": 7,
     "metadata": {},
     "output_type": "execute_result"
    }
   ],
   "source": [
    "((0.5*3/20)+(0.5*5/62))*((0.5*5/20)+(0.5*7/62))"
   ]
  },
  {
   "cell_type": "code",
   "execution_count": 8,
   "id": "f597052a",
   "metadata": {},
   "outputs": [
    {
     "data": {
      "text/plain": [
       "Document 1    0.024387\n",
       "Document 4    0.009566\n",
       "Document 5    0.009566\n",
       "Document 3    0.003057\n",
       "Document 2    0.002170\n",
       "dtype: float64"
      ]
     },
     "execution_count": 8,
     "metadata": {},
     "output_type": "execute_result"
    }
   ],
   "source": [
    "class DIRretrieval():\n",
    "    def __init__(self,model,mu=None):\n",
    "        self.model = model\n",
    "        self.mu = mu\n",
    "    def totals(self):\n",
    "        return self.model.iloc[::].sum(axis=1)\n",
    "        \n",
    "    def retrieve(self, query):\n",
    "        totals = self.totals\n",
    "        probabilities = []\n",
    "        num_docs = len(self.model)\n",
    "        coll_tot = self.model.iloc[::].sum(axis=1).sum()\n",
    "        if self.mu == None:\n",
    "            self.mu = coll_tot/num_docs\n",
    "        doc_lens = self.model.sum(axis=1)\n",
    "        if len(query) == 0:\n",
    "            return 'Please input query'\n",
    "        for x in query:\n",
    "            if x in self.model:\n",
    "                doc_mod = self.model[x]\n",
    "                word_sum = self.model[x].sum()\n",
    "                probabilities.append((doc_mod + self.mu *(word_sum/coll_tot))/(self.mu+doc_lens))\n",
    "        \n",
    "        probs_df = pd.concat(probabilities,axis=1)\n",
    "        return probs_df.product(axis=1).sort_values(ascending=False)\n",
    "    \n",
    "test = DIRretrieval(words)\n",
    "test.retrieve(['team','play'])"
   ]
  },
  {
   "cell_type": "code",
   "execution_count": 9,
   "id": "cae7b123",
   "metadata": {},
   "outputs": [
    {
     "data": {
      "text/plain": [
       "0.024386526444139616"
      ]
     },
     "execution_count": 9,
     "metadata": {},
     "output_type": "execute_result"
    }
   ],
   "source": [
    "((3+(12.4*5/62))/(12.4+20))*(5+(12.4*7/62))/(12.4+20)"
   ]
  },
  {
   "cell_type": "code",
   "execution_count": 15,
   "id": "b5d01cca",
   "metadata": {},
   "outputs": [
    {
     "data": {
      "text/plain": [
       "Document 1    0.015840\n",
       "Document 4    0.009348\n",
       "Document 5    0.009348\n",
       "Document 3    0.005678\n",
       "Document 2    0.005041\n",
       "dtype: float64"
      ]
     },
     "execution_count": 15,
     "metadata": {},
     "output_type": "execute_result"
    }
   ],
   "source": [
    "class TwoStageretrieval():\n",
    "    def __init__(self,model,alpha,mu=None):\n",
    "        self.model = model\n",
    "        self.alpha = alpha\n",
    "        self.mu = mu\n",
    "    def totals(self):\n",
    "        return self.model.iloc[::].sum(axis=1)\n",
    "        \n",
    "    def retrieve(self, query):\n",
    "        totals = self.totals\n",
    "        probabilities = []\n",
    "        num_docs = len(self.model)\n",
    "        coll_tot = self.model.iloc[::].sum(axis=1).sum()\n",
    "        if self.mu == None:\n",
    "            self.mu = coll_tot/num_docs\n",
    "        doc_lens = self.model.sum(axis=1)\n",
    "        if len(query) == 0:\n",
    "            return 'Please input query'\n",
    "        for x in query:\n",
    "            if x in self.model:\n",
    "                doc_mod = self.model[x]\n",
    "                word_sum = self.model[x].sum()\n",
    "                doc_probs = doc_mod/self.totals()\n",
    "                coll_model = doc_mod.sum()/self.totals().sum()\n",
    "                probabilities.append((1-self.alpha)*((doc_mod + (self.mu*word_sum/coll_tot))/(doc_lens + self.mu)) + (self.alpha*word_sum/coll_tot))\n",
    "        \n",
    "        probs_df = pd.concat(probabilities,axis=1)\n",
    "        return probs_df.product(axis=1).sort_values(ascending=False)\n",
    "    \n",
    "test = TwoStageretrieval(words,0.5,12.4)\n",
    "test.retrieve(['team', 'play'])"
   ]
  },
  {
   "cell_type": "code",
   "execution_count": 16,
   "id": "7d0c16d5",
   "metadata": {},
   "outputs": [
    {
     "data": {
      "text/plain": [
       "0.015840050888793412"
      ]
     },
     "execution_count": 16,
     "metadata": {},
     "output_type": "execute_result"
    }
   ],
   "source": [
    "((1-0.5)*((3 + (12.4*5/62))/(20 + 12.4)) + (0.5*5/62))*((1-0.5)*((5 + (12.4*7/62))/(20 + 12.4)) + (0.5*7/62))"
   ]
  },
  {
   "cell_type": "code",
   "execution_count": 12,
   "id": "dadb6fe7",
   "metadata": {},
   "outputs": [
    {
     "data": {
      "text/plain": [
       "'Please input query'"
      ]
     },
     "execution_count": 12,
     "metadata": {},
     "output_type": "execute_result"
    }
   ],
   "source": [
    "test.retrieve([])"
   ]
  }
 ],
 "metadata": {
  "kernelspec": {
   "display_name": "Python 3 (ipykernel)",
   "language": "python",
   "name": "python3"
  },
  "language_info": {
   "codemirror_mode": {
    "name": "ipython",
    "version": 3
   },
   "file_extension": ".py",
   "mimetype": "text/x-python",
   "name": "python",
   "nbconvert_exporter": "python",
   "pygments_lexer": "ipython3",
   "version": "3.9.7"
  }
 },
 "nbformat": 4,
 "nbformat_minor": 5
}
