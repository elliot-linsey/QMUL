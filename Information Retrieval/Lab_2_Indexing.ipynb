{
 "cells": [
  {
   "cell_type": "code",
   "execution_count": 1,
   "metadata": {
    "id": "-FawhhK2XSFs"
   },
   "outputs": [
    {
     "name": "stdout",
     "output_type": "stream",
     "text": [
      "I have set up the notebook and have it running, yay\n"
     ]
    }
   ],
   "source": [
    "print('I have set up the notebook and have it running, yay')"
   ]
  },
  {
   "cell_type": "markdown",
   "metadata": {
    "id": "IFph-BokfObp"
   },
   "source": [
    "# Indexing\n",
    "The following cells will demonstrate how a small index works"
   ]
  },
  {
   "cell_type": "code",
   "execution_count": 2,
   "metadata": {
    "executionInfo": {
     "elapsed": 49,
     "status": "ok",
     "timestamp": 1644318480300,
     "user": {
      "displayName": "Kit Bransby",
      "photoUrl": "https://lh3.googleusercontent.com/a-/AOh14GgRv5YII6jwC_cVkIJqmTC4tQymJXRgCfeYfyfnfg=s64",
      "userId": "01527569628475152563"
     },
     "user_tz": 0
    },
    "id": "G_8S5dkYiebf"
   },
   "outputs": [],
   "source": [
    "import pandas as pd"
   ]
  },
  {
   "cell_type": "code",
   "execution_count": 3,
   "metadata": {
    "executionInfo": {
     "elapsed": 48,
     "status": "ok",
     "timestamp": 1644318480300,
     "user": {
      "displayName": "Kit Bransby",
      "photoUrl": "https://lh3.googleusercontent.com/a-/AOh14GgRv5YII6jwC_cVkIJqmTC4tQymJXRgCfeYfyfnfg=s64",
      "userId": "01527569628475152563"
     },
     "user_tz": 0
    },
    "id": "5QZ4WeDzfkR3"
   },
   "outputs": [],
   "source": [
    "# documents to be indexed\n",
    "documents = [\n",
    "             'Boats are great',\n",
    "             'Sailing boats are enviromental',\n",
    "             'canal boats are narrow',\n",
    "             'wooden boats are more work than metal boats',\n",
    "             'a wooden boat is always the prettiest'\n",
    "]\n",
    "document_terms = [doc.split(' ') for doc in documents]"
   ]
  },
  {
   "cell_type": "code",
   "execution_count": 4,
   "metadata": {
    "id": "XJAcd05u6-bw"
   },
   "outputs": [
    {
     "data": {
      "text/plain": [
       "[['Boats', 'are', 'great'],\n",
       " ['Sailing', 'boats', 'are', 'enviromental'],\n",
       " ['canal', 'boats', 'are', 'narrow'],\n",
       " ['wooden', 'boats', 'are', 'more', 'work', 'than', 'metal', 'boats'],\n",
       " ['a', 'wooden', 'boat', 'is', 'always', 'the', 'prettiest']]"
      ]
     },
     "execution_count": 4,
     "metadata": {},
     "output_type": "execute_result"
    }
   ],
   "source": [
    "document_terms"
   ]
  },
  {
   "cell_type": "markdown",
   "metadata": {
    "id": "H1ilQNRTfYhi"
   },
   "source": [
    "**The long way**"
   ]
  },
  {
   "cell_type": "code",
   "execution_count": 5,
   "metadata": {
    "id": "DkLKbmWMfgEy"
   },
   "outputs": [
    {
     "data": {
      "text/plain": [
       "['boats',\n",
       " 'are',\n",
       " 'boat',\n",
       " 'work',\n",
       " 'wooden',\n",
       " 'more',\n",
       " 'a',\n",
       " 'than',\n",
       " 'prettiest',\n",
       " 'the',\n",
       " 'enviromental',\n",
       " 'is',\n",
       " 'always',\n",
       " 'canal',\n",
       " 'narrow',\n",
       " 'Sailing',\n",
       " 'great',\n",
       " 'Boats',\n",
       " 'metal']"
      ]
     },
     "execution_count": 5,
     "metadata": {},
     "output_type": "execute_result"
    }
   ],
   "source": [
    "# find the \"vocabulary\", i.e. all words in the doc\n",
    "vocabulary = set()\n",
    "\n",
    "for doc in documents:\n",
    "  for word in doc.split(): \n",
    "    vocabulary.add(word)\n",
    "\n",
    "vocabulary = list(vocabulary)\n",
    "\n",
    "vocabulary"
   ]
  },
  {
   "cell_type": "code",
   "execution_count": 6,
   "metadata": {
    "id": "n5Sd6BbQ7ths"
   },
   "outputs": [
    {
     "data": {
      "text/plain": [
       "True"
      ]
     },
     "execution_count": 6,
     "metadata": {},
     "output_type": "execute_result"
    }
   ],
   "source": [
    "# CODING TIP: You can also write this in a single line\n",
    "vocabulary2 = list(set(word for doc in documents for word in doc.split()))\n",
    "\n",
    "# Lets check that the two methods lead to the same result\n",
    "vocabulary == vocabulary2 "
   ]
  },
  {
   "cell_type": "code",
   "execution_count": 7,
   "metadata": {
    "id": "XIvwM-7QgO7X"
   },
   "outputs": [
    {
     "data": {
      "text/plain": [
       "[[0, 1, 0, 0, 0, 0, 0, 0, 0, 0, 0, 0, 0, 0, 0, 0, 1, 1, 0],\n",
       " [1, 1, 0, 0, 0, 0, 0, 0, 0, 0, 1, 0, 0, 0, 0, 1, 0, 0, 0],\n",
       " [1, 1, 0, 0, 0, 0, 0, 0, 0, 0, 0, 0, 0, 1, 1, 0, 0, 0, 0],\n",
       " [1, 1, 0, 1, 1, 1, 0, 1, 0, 0, 0, 0, 0, 0, 0, 0, 0, 0, 1],\n",
       " [0, 0, 1, 0, 1, 0, 1, 0, 1, 1, 0, 1, 1, 0, 0, 0, 0, 0, 0]]"
      ]
     },
     "execution_count": 7,
     "metadata": {},
     "output_type": "execute_result"
    }
   ],
   "source": [
    "# Boolean matrix representation of all docs\n",
    "documents_vectorized = [ \n",
    "                        [ 1 if term in doc else 0 for term in vocabulary]\n",
    "                        for doc in document_terms]\n",
    "\n",
    "documents_vectorized"
   ]
  },
  {
   "cell_type": "code",
   "execution_count": 8,
   "metadata": {
    "id": "Itb1bswC6-b2"
   },
   "outputs": [
    {
     "data": {
      "text/plain": [
       "True"
      ]
     },
     "execution_count": 8,
     "metadata": {},
     "output_type": "execute_result"
    }
   ],
   "source": [
    "# CODING TIP: Alternatively you can also cast the boolean result of evaluating term in doc to an int\n",
    "documents_vectorized2 = [[int(term in doc) for term in vocabulary] for doc in document_terms]\n",
    "\n",
    "# Lets check that the two methods lead to the same result\n",
    "documents_vectorized2 == documents_vectorized "
   ]
  },
  {
   "cell_type": "code",
   "execution_count": 9,
   "metadata": {
    "id": "QmTXt-Zkgm_v"
   },
   "outputs": [
    {
     "data": {
      "text/html": [
       "<div>\n",
       "<style scoped>\n",
       "    .dataframe tbody tr th:only-of-type {\n",
       "        vertical-align: middle;\n",
       "    }\n",
       "\n",
       "    .dataframe tbody tr th {\n",
       "        vertical-align: top;\n",
       "    }\n",
       "\n",
       "    .dataframe thead th {\n",
       "        text-align: right;\n",
       "    }\n",
       "</style>\n",
       "<table border=\"1\" class=\"dataframe\">\n",
       "  <thead>\n",
       "    <tr style=\"text-align: right;\">\n",
       "      <th></th>\n",
       "      <th>boats</th>\n",
       "      <th>are</th>\n",
       "      <th>boat</th>\n",
       "      <th>work</th>\n",
       "      <th>wooden</th>\n",
       "      <th>more</th>\n",
       "      <th>a</th>\n",
       "      <th>than</th>\n",
       "      <th>prettiest</th>\n",
       "      <th>the</th>\n",
       "      <th>enviromental</th>\n",
       "      <th>is</th>\n",
       "      <th>always</th>\n",
       "      <th>canal</th>\n",
       "      <th>narrow</th>\n",
       "      <th>Sailing</th>\n",
       "      <th>great</th>\n",
       "      <th>Boats</th>\n",
       "      <th>metal</th>\n",
       "    </tr>\n",
       "  </thead>\n",
       "  <tbody>\n",
       "    <tr>\n",
       "      <th>0</th>\n",
       "      <td>0</td>\n",
       "      <td>1</td>\n",
       "      <td>0</td>\n",
       "      <td>0</td>\n",
       "      <td>0</td>\n",
       "      <td>0</td>\n",
       "      <td>0</td>\n",
       "      <td>0</td>\n",
       "      <td>0</td>\n",
       "      <td>0</td>\n",
       "      <td>0</td>\n",
       "      <td>0</td>\n",
       "      <td>0</td>\n",
       "      <td>0</td>\n",
       "      <td>0</td>\n",
       "      <td>0</td>\n",
       "      <td>1</td>\n",
       "      <td>1</td>\n",
       "      <td>0</td>\n",
       "    </tr>\n",
       "    <tr>\n",
       "      <th>1</th>\n",
       "      <td>1</td>\n",
       "      <td>1</td>\n",
       "      <td>0</td>\n",
       "      <td>0</td>\n",
       "      <td>0</td>\n",
       "      <td>0</td>\n",
       "      <td>0</td>\n",
       "      <td>0</td>\n",
       "      <td>0</td>\n",
       "      <td>0</td>\n",
       "      <td>1</td>\n",
       "      <td>0</td>\n",
       "      <td>0</td>\n",
       "      <td>0</td>\n",
       "      <td>0</td>\n",
       "      <td>1</td>\n",
       "      <td>0</td>\n",
       "      <td>0</td>\n",
       "      <td>0</td>\n",
       "    </tr>\n",
       "    <tr>\n",
       "      <th>2</th>\n",
       "      <td>1</td>\n",
       "      <td>1</td>\n",
       "      <td>0</td>\n",
       "      <td>0</td>\n",
       "      <td>0</td>\n",
       "      <td>0</td>\n",
       "      <td>0</td>\n",
       "      <td>0</td>\n",
       "      <td>0</td>\n",
       "      <td>0</td>\n",
       "      <td>0</td>\n",
       "      <td>0</td>\n",
       "      <td>0</td>\n",
       "      <td>1</td>\n",
       "      <td>1</td>\n",
       "      <td>0</td>\n",
       "      <td>0</td>\n",
       "      <td>0</td>\n",
       "      <td>0</td>\n",
       "    </tr>\n",
       "    <tr>\n",
       "      <th>3</th>\n",
       "      <td>1</td>\n",
       "      <td>1</td>\n",
       "      <td>0</td>\n",
       "      <td>1</td>\n",
       "      <td>1</td>\n",
       "      <td>1</td>\n",
       "      <td>0</td>\n",
       "      <td>1</td>\n",
       "      <td>0</td>\n",
       "      <td>0</td>\n",
       "      <td>0</td>\n",
       "      <td>0</td>\n",
       "      <td>0</td>\n",
       "      <td>0</td>\n",
       "      <td>0</td>\n",
       "      <td>0</td>\n",
       "      <td>0</td>\n",
       "      <td>0</td>\n",
       "      <td>1</td>\n",
       "    </tr>\n",
       "    <tr>\n",
       "      <th>4</th>\n",
       "      <td>0</td>\n",
       "      <td>0</td>\n",
       "      <td>1</td>\n",
       "      <td>0</td>\n",
       "      <td>1</td>\n",
       "      <td>0</td>\n",
       "      <td>1</td>\n",
       "      <td>0</td>\n",
       "      <td>1</td>\n",
       "      <td>1</td>\n",
       "      <td>0</td>\n",
       "      <td>1</td>\n",
       "      <td>1</td>\n",
       "      <td>0</td>\n",
       "      <td>0</td>\n",
       "      <td>0</td>\n",
       "      <td>0</td>\n",
       "      <td>0</td>\n",
       "      <td>0</td>\n",
       "    </tr>\n",
       "  </tbody>\n",
       "</table>\n",
       "</div>"
      ],
      "text/plain": [
       "   boats  are  boat  work  wooden  more  a  than  prettiest  the  \\\n",
       "0      0    1     0     0       0     0  0     0          0    0   \n",
       "1      1    1     0     0       0     0  0     0          0    0   \n",
       "2      1    1     0     0       0     0  0     0          0    0   \n",
       "3      1    1     0     1       1     1  0     1          0    0   \n",
       "4      0    0     1     0       1     0  1     0          1    1   \n",
       "\n",
       "   enviromental  is  always  canal  narrow  Sailing  great  Boats  metal  \n",
       "0             0   0       0      0       0        0      1      1      0  \n",
       "1             1   0       0      0       0        1      0      0      0  \n",
       "2             0   0       0      1       1        0      0      0      0  \n",
       "3             0   0       0      0       0        0      0      0      1  \n",
       "4             0   1       1      0       0        0      0      0      0  "
      ]
     },
     "execution_count": 9,
     "metadata": {},
     "output_type": "execute_result"
    }
   ],
   "source": [
    "# Show in pandas for clarity\n",
    "df = pd.DataFrame(documents_vectorized, columns = vocabulary)\n",
    "df"
   ]
  },
  {
   "cell_type": "code",
   "execution_count": 10,
   "metadata": {
    "executionInfo": {
     "elapsed": 35,
     "status": "ok",
     "timestamp": 1644318480307,
     "user": {
      "displayName": "Kit Bransby",
      "photoUrl": "https://lh3.googleusercontent.com/a-/AOh14GgRv5YII6jwC_cVkIJqmTC4tQymJXRgCfeYfyfnfg=s64",
      "userId": "01527569628475152563"
     },
     "user_tz": 0
    },
    "id": "smQmod7wiK51"
   },
   "outputs": [],
   "source": [
    "# An important part of the index is a dictionary for term: doc_id pairs. So let's create one\n",
    "term_occurence_dict = {term:[] for term in vocabulary}\n",
    "\n",
    "for doc_id, doc in enumerate(document_terms):\n",
    "  for term in doc:\n",
    "    term_occurence_dict[term].append(doc_id)"
   ]
  },
  {
   "cell_type": "code",
   "execution_count": 11,
   "metadata": {
    "id": "rH26VxF29yCo"
   },
   "outputs": [
    {
     "data": {
      "text/plain": [
       "{'boats': [1, 2, 3, 3],\n",
       " 'are': [0, 1, 2, 3],\n",
       " 'boat': [4],\n",
       " 'work': [3],\n",
       " 'wooden': [3, 4],\n",
       " 'more': [3],\n",
       " 'a': [4],\n",
       " 'than': [3],\n",
       " 'prettiest': [4],\n",
       " 'the': [4],\n",
       " 'enviromental': [1],\n",
       " 'is': [4],\n",
       " 'always': [4],\n",
       " 'canal': [2],\n",
       " 'narrow': [2],\n",
       " 'Sailing': [1],\n",
       " 'great': [0],\n",
       " 'Boats': [0],\n",
       " 'metal': [3]}"
      ]
     },
     "execution_count": 11,
     "metadata": {},
     "output_type": "execute_result"
    }
   ],
   "source": [
    "term_occurence_dict"
   ]
  },
  {
   "cell_type": "code",
   "execution_count": 12,
   "metadata": {
    "executionInfo": {
     "elapsed": 38,
     "status": "ok",
     "timestamp": 1644318480314,
     "user": {
      "displayName": "Kit Bransby",
      "photoUrl": "https://lh3.googleusercontent.com/a-/AOh14GgRv5YII6jwC_cVkIJqmTC4tQymJXRgCfeYfyfnfg=s64",
      "userId": "01527569628475152563"
     },
     "user_tz": 0
    },
    "id": "t4Mpl8A89Gud"
   },
   "outputs": [],
   "source": [
    "# CODING TIP: We can also use the defaultdict module from the collections package\n",
    "# This dictionary implementation has a little more functionality\n",
    "from collections import defaultdict\n",
    "\n",
    "term_occurence_dict = defaultdict(list)\n",
    "\n",
    "for doc_id, doc in enumerate(document_terms):\n",
    "  for term in doc:\n",
    "    term_occurence_dict[term].append(doc_id)"
   ]
  },
  {
   "cell_type": "code",
   "execution_count": 13,
   "metadata": {
    "id": "uG1pG0FQ6-b4"
   },
   "outputs": [
    {
     "data": {
      "text/plain": [
       "defaultdict(list,\n",
       "            {'Boats': [0],\n",
       "             'are': [0, 1, 2, 3],\n",
       "             'great': [0],\n",
       "             'Sailing': [1],\n",
       "             'boats': [1, 2, 3, 3],\n",
       "             'enviromental': [1],\n",
       "             'canal': [2],\n",
       "             'narrow': [2],\n",
       "             'wooden': [3, 4],\n",
       "             'more': [3],\n",
       "             'work': [3],\n",
       "             'than': [3],\n",
       "             'metal': [3],\n",
       "             'a': [4],\n",
       "             'boat': [4],\n",
       "             'is': [4],\n",
       "             'always': [4],\n",
       "             'the': [4],\n",
       "             'prettiest': [4]})"
      ]
     },
     "execution_count": 13,
     "metadata": {},
     "output_type": "execute_result"
    }
   ],
   "source": [
    "term_occurence_dict"
   ]
  },
  {
   "cell_type": "code",
   "execution_count": 14,
   "metadata": {
    "executionInfo": {
     "elapsed": 36,
     "status": "ok",
     "timestamp": 1644318480316,
     "user": {
      "displayName": "Kit Bransby",
      "photoUrl": "https://lh3.googleusercontent.com/a-/AOh14GgRv5YII6jwC_cVkIJqmTC4tQymJXRgCfeYfyfnfg=s64",
      "userId": "01527569628475152563"
     },
     "user_tz": 0
    },
    "id": "Jw_uEH-vjg-o"
   },
   "outputs": [],
   "source": [
    "# So if we want to find all documents with the word \"boats\" or \"than\" instead of looping over everything we just do:\n",
    "terms = ['boats', 'than']\n",
    "result_docs = []\n",
    "\n",
    "for term in terms:\n",
    "  doc_ids = term_occurence_dict[term]\n",
    "  for doc_id in doc_ids:\n",
    "    result_docs.append(documents[doc_id])\n",
    "\n",
    "result_docs = list(set(result_docs))"
   ]
  },
  {
   "cell_type": "code",
   "execution_count": 15,
   "metadata": {
    "id": "zmOBz1jb6-b6"
   },
   "outputs": [
    {
     "data": {
      "text/plain": [
       "['canal boats are narrow',\n",
       " 'wooden boats are more work than metal boats',\n",
       " 'Sailing boats are enviromental']"
      ]
     },
     "execution_count": 15,
     "metadata": {},
     "output_type": "execute_result"
    }
   ],
   "source": [
    "result_docs"
   ]
  },
  {
   "cell_type": "code",
   "execution_count": 16,
   "metadata": {
    "id": "rbeiQwGI95fp"
   },
   "outputs": [
    {
     "data": {
      "text/plain": [
       "True"
      ]
     },
     "execution_count": 16,
     "metadata": {},
     "output_type": "execute_result"
    }
   ],
   "source": [
    "# CODING TIP: it's faster and easier to get rid of duplicate integers than duplicate text. \n",
    "# This method uses 3 lines \n",
    "doc_indexes = []\n",
    "\n",
    "# Get all doc indexes containing the terms\n",
    "for term in terms:\n",
    "  doc_indexes.extend(term_occurence_dict[term])\n",
    "# Retrieve documents from indexes\n",
    "result_docs2 = [documents[idx] for idx in set(doc_indexes)]\n",
    "\n",
    "# Checking that both methods lead to the same answer\n",
    "result_docs.sort()\n",
    "result_docs2.sort()\n",
    "result_docs == result_docs2"
   ]
  },
  {
   "cell_type": "code",
   "execution_count": 17,
   "metadata": {
    "id": "E6N0abIm-gK-"
   },
   "outputs": [
    {
     "data": {
      "text/plain": [
       "['Sailing boats are enviromental',\n",
       " 'canal boats are narrow',\n",
       " 'wooden boats are more work than metal boats']"
      ]
     },
     "execution_count": 17,
     "metadata": {},
     "output_type": "execute_result"
    }
   ],
   "source": [
    "result_docs2"
   ]
  },
  {
   "cell_type": "code",
   "execution_count": 18,
   "metadata": {
    "executionInfo": {
     "elapsed": 20,
     "status": "ok",
     "timestamp": 1644318480668,
     "user": {
      "displayName": "Kit Bransby",
      "photoUrl": "https://lh3.googleusercontent.com/a-/AOh14GgRv5YII6jwC_cVkIJqmTC4tQymJXRgCfeYfyfnfg=s64",
      "userId": "01527569628475152563"
     },
     "user_tz": 0
    },
    "id": "6M2fLiWikQC6"
   },
   "outputs": [],
   "source": [
    "# TASK: How about if we want only documents with \"boats\" AND \"than\"?"
   ]
  },
  {
   "cell_type": "markdown",
   "metadata": {
    "id": "Ypz8mwa6manr"
   },
   "source": [
    "**The short way**"
   ]
  },
  {
   "cell_type": "code",
   "execution_count": 19,
   "metadata": {
    "executionInfo": {
     "elapsed": 19,
     "status": "ok",
     "timestamp": 1644318480668,
     "user": {
      "displayName": "Kit Bransby",
      "photoUrl": "https://lh3.googleusercontent.com/a-/AOh14GgRv5YII6jwC_cVkIJqmTC4tQymJXRgCfeYfyfnfg=s64",
      "userId": "01527569628475152563"
     },
     "user_tz": 0
    },
    "id": "_AjQZ1v9mdGB"
   },
   "outputs": [],
   "source": [
    "from sklearn.feature_extraction.text import CountVectorizer"
   ]
  },
  {
   "cell_type": "code",
   "execution_count": 20,
   "metadata": {
    "executionInfo": {
     "elapsed": 19,
     "status": "ok",
     "timestamp": 1644318480669,
     "user": {
      "displayName": "Kit Bransby",
      "photoUrl": "https://lh3.googleusercontent.com/a-/AOh14GgRv5YII6jwC_cVkIJqmTC4tQymJXRgCfeYfyfnfg=s64",
      "userId": "01527569628475152563"
     },
     "user_tz": 0
    },
    "id": "3QKrfG-jmjn4"
   },
   "outputs": [],
   "source": [
    "# See https://scikit-learn.org/stable/modules/generated/sklearn.feature_extraction.text.CountVectorizer.html\n",
    "vectorizer = CountVectorizer()"
   ]
  },
  {
   "cell_type": "code",
   "execution_count": 21,
   "metadata": {
    "id": "P4FLph9ymk-z"
   },
   "outputs": [
    {
     "data": {
      "text/plain": [
       "<5x17 sparse matrix of type '<class 'numpy.int64'>'\n",
       "\twith 24 stored elements in Compressed Sparse Row format>"
      ]
     },
     "execution_count": 21,
     "metadata": {},
     "output_type": "execute_result"
    }
   ],
   "source": [
    "documents_vectorized = vectorizer.fit_transform(documents)\n",
    "# a sparse matrix representaion of the data. this is easy to turn into a numpy array with .toarray()\n",
    "# however, don't do it unless you have to as it is costly\n",
    "documents_vectorized"
   ]
  },
  {
   "cell_type": "code",
   "execution_count": 22,
   "metadata": {
    "id": "KoIX5Rd3mo0R"
   },
   "outputs": [
    {
     "data": {
      "text/plain": [
       "array(['always', 'are', 'boat', 'boats', 'canal', 'enviromental', 'great',\n",
       "       'is', 'metal', 'more', 'narrow', 'prettiest', 'sailing', 'than',\n",
       "       'the', 'wooden', 'work'], dtype=object)"
      ]
     },
     "execution_count": 22,
     "metadata": {},
     "output_type": "execute_result"
    }
   ],
   "source": [
    "vocabulary = vectorizer.get_feature_names_out()\n",
    "vocabulary"
   ]
  },
  {
   "cell_type": "code",
   "execution_count": 24,
   "metadata": {
    "id": "dK-C6Htsmryt"
   },
   "outputs": [
    {
     "data": {
      "text/html": [
       "<div>\n",
       "<style scoped>\n",
       "    .dataframe tbody tr th:only-of-type {\n",
       "        vertical-align: middle;\n",
       "    }\n",
       "\n",
       "    .dataframe tbody tr th {\n",
       "        vertical-align: top;\n",
       "    }\n",
       "\n",
       "    .dataframe thead th {\n",
       "        text-align: right;\n",
       "    }\n",
       "</style>\n",
       "<table border=\"1\" class=\"dataframe\">\n",
       "  <thead>\n",
       "    <tr style=\"text-align: right;\">\n",
       "      <th></th>\n",
       "      <th>always</th>\n",
       "      <th>are</th>\n",
       "      <th>boat</th>\n",
       "      <th>boats</th>\n",
       "      <th>canal</th>\n",
       "      <th>enviromental</th>\n",
       "      <th>great</th>\n",
       "      <th>is</th>\n",
       "      <th>metal</th>\n",
       "      <th>more</th>\n",
       "      <th>narrow</th>\n",
       "      <th>prettiest</th>\n",
       "      <th>sailing</th>\n",
       "      <th>than</th>\n",
       "      <th>the</th>\n",
       "      <th>wooden</th>\n",
       "      <th>work</th>\n",
       "    </tr>\n",
       "  </thead>\n",
       "  <tbody>\n",
       "    <tr>\n",
       "      <th>0</th>\n",
       "      <td>0</td>\n",
       "      <td>1</td>\n",
       "      <td>0</td>\n",
       "      <td>1</td>\n",
       "      <td>0</td>\n",
       "      <td>0</td>\n",
       "      <td>1</td>\n",
       "      <td>0</td>\n",
       "      <td>0</td>\n",
       "      <td>0</td>\n",
       "      <td>0</td>\n",
       "      <td>0</td>\n",
       "      <td>0</td>\n",
       "      <td>0</td>\n",
       "      <td>0</td>\n",
       "      <td>0</td>\n",
       "      <td>0</td>\n",
       "    </tr>\n",
       "    <tr>\n",
       "      <th>1</th>\n",
       "      <td>0</td>\n",
       "      <td>1</td>\n",
       "      <td>0</td>\n",
       "      <td>1</td>\n",
       "      <td>0</td>\n",
       "      <td>1</td>\n",
       "      <td>0</td>\n",
       "      <td>0</td>\n",
       "      <td>0</td>\n",
       "      <td>0</td>\n",
       "      <td>0</td>\n",
       "      <td>0</td>\n",
       "      <td>1</td>\n",
       "      <td>0</td>\n",
       "      <td>0</td>\n",
       "      <td>0</td>\n",
       "      <td>0</td>\n",
       "    </tr>\n",
       "    <tr>\n",
       "      <th>2</th>\n",
       "      <td>0</td>\n",
       "      <td>1</td>\n",
       "      <td>0</td>\n",
       "      <td>1</td>\n",
       "      <td>1</td>\n",
       "      <td>0</td>\n",
       "      <td>0</td>\n",
       "      <td>0</td>\n",
       "      <td>0</td>\n",
       "      <td>0</td>\n",
       "      <td>1</td>\n",
       "      <td>0</td>\n",
       "      <td>0</td>\n",
       "      <td>0</td>\n",
       "      <td>0</td>\n",
       "      <td>0</td>\n",
       "      <td>0</td>\n",
       "    </tr>\n",
       "    <tr>\n",
       "      <th>3</th>\n",
       "      <td>0</td>\n",
       "      <td>1</td>\n",
       "      <td>0</td>\n",
       "      <td>2</td>\n",
       "      <td>0</td>\n",
       "      <td>0</td>\n",
       "      <td>0</td>\n",
       "      <td>0</td>\n",
       "      <td>1</td>\n",
       "      <td>1</td>\n",
       "      <td>0</td>\n",
       "      <td>0</td>\n",
       "      <td>0</td>\n",
       "      <td>1</td>\n",
       "      <td>0</td>\n",
       "      <td>1</td>\n",
       "      <td>1</td>\n",
       "    </tr>\n",
       "    <tr>\n",
       "      <th>4</th>\n",
       "      <td>1</td>\n",
       "      <td>0</td>\n",
       "      <td>1</td>\n",
       "      <td>0</td>\n",
       "      <td>0</td>\n",
       "      <td>0</td>\n",
       "      <td>0</td>\n",
       "      <td>1</td>\n",
       "      <td>0</td>\n",
       "      <td>0</td>\n",
       "      <td>0</td>\n",
       "      <td>1</td>\n",
       "      <td>0</td>\n",
       "      <td>0</td>\n",
       "      <td>1</td>\n",
       "      <td>1</td>\n",
       "      <td>0</td>\n",
       "    </tr>\n",
       "  </tbody>\n",
       "</table>\n",
       "</div>"
      ],
      "text/plain": [
       "   always  are  boat  boats  canal  enviromental  great  is  metal  more  \\\n",
       "0       0    1     0      1      0             0      1   0      0     0   \n",
       "1       0    1     0      1      0             1      0   0      0     0   \n",
       "2       0    1     0      1      1             0      0   0      0     0   \n",
       "3       0    1     0      2      0             0      0   0      1     1   \n",
       "4       1    0     1      0      0             0      0   1      0     0   \n",
       "\n",
       "   narrow  prettiest  sailing  than  the  wooden  work  \n",
       "0       0          0        0     0    0       0     0  \n",
       "1       0          0        1     0    0       0     0  \n",
       "2       1          0        0     0    0       0     0  \n",
       "3       0          0        0     1    0       1     1  \n",
       "4       0          1        0     0    1       1     0  "
      ]
     },
     "execution_count": 24,
     "metadata": {},
     "output_type": "execute_result"
    }
   ],
   "source": [
    "# pandas to visualise. things are always done faster in numpy\n",
    "df = pd.DataFrame(documents_vectorized.toarray(), columns=vocabulary)\n",
    "df"
   ]
  },
  {
   "cell_type": "code",
   "execution_count": 25,
   "metadata": {
    "executionInfo": {
     "elapsed": 13,
     "status": "ok",
     "timestamp": 1644318481290,
     "user": {
      "displayName": "Kit Bransby",
      "photoUrl": "https://lh3.googleusercontent.com/a-/AOh14GgRv5YII6jwC_cVkIJqmTC4tQymJXRgCfeYfyfnfg=s64",
      "userId": "01527569628475152563"
     },
     "user_tz": 0
    },
    "id": "CsXA7FkanHX5"
   },
   "outputs": [],
   "source": [
    "# TASK: Do you notice anything different about the vocabulary when using Count Vectorizer compared to the vocabulary of our longer method?"
   ]
  },
  {
   "cell_type": "code",
   "execution_count": 26,
   "metadata": {
    "executionInfo": {
     "elapsed": 13,
     "status": "ok",
     "timestamp": 1644318481291,
     "user": {
      "displayName": "Kit Bransby",
      "photoUrl": "https://lh3.googleusercontent.com/a-/AOh14GgRv5YII6jwC_cVkIJqmTC4tQymJXRgCfeYfyfnfg=s64",
      "userId": "01527569628475152563"
     },
     "user_tz": 0
    },
    "id": "U7Uo6sHcEtFw"
   },
   "outputs": [],
   "source": [
    "# TASK : What other methods can be used to preprocess words (tokens) in a corpus of text documents? Describe two"
   ]
  },
  {
   "cell_type": "code",
   "execution_count": 27,
   "metadata": {
    "executionInfo": {
     "elapsed": 13,
     "status": "ok",
     "timestamp": 1644318481291,
     "user": {
      "displayName": "Kit Bransby",
      "photoUrl": "https://lh3.googleusercontent.com/a-/AOh14GgRv5YII6jwC_cVkIJqmTC4tQymJXRgCfeYfyfnfg=s64",
      "userId": "01527569628475152563"
     },
     "user_tz": 0
    },
    "id": "ubauSZ-lDlRG"
   },
   "outputs": [],
   "source": [
    "# TASK : Write code to calculate the term frequency of the word 'boats' in the 3rd document"
   ]
  },
  {
   "cell_type": "code",
   "execution_count": 29,
   "metadata": {},
   "outputs": [
    {
     "data": {
      "text/plain": [
       "2"
      ]
     },
     "execution_count": 29,
     "metadata": {},
     "output_type": "execute_result"
    }
   ],
   "source": [
    "df['boats'][3]"
   ]
  },
  {
   "cell_type": "code",
   "execution_count": 28,
   "metadata": {
    "executionInfo": {
     "elapsed": 13,
     "status": "ok",
     "timestamp": 1644318481292,
     "user": {
      "displayName": "Kit Bransby",
      "photoUrl": "https://lh3.googleusercontent.com/a-/AOh14GgRv5YII6jwC_cVkIJqmTC4tQymJXRgCfeYfyfnfg=s64",
      "userId": "01527569628475152563"
     },
     "user_tz": 0
    },
    "id": "MUV90UaT6-cA"
   },
   "outputs": [],
   "source": [
    "# TASK : Write code to calculate the document frequency of the word 'are'"
   ]
  },
  {
   "cell_type": "code",
   "execution_count": 30,
   "metadata": {},
   "outputs": [
    {
     "data": {
      "text/plain": [
       "4"
      ]
     },
     "execution_count": 30,
     "metadata": {},
     "output_type": "execute_result"
    }
   ],
   "source": [
    "df['are'].sum()"
   ]
  }
 ],
 "metadata": {
  "colab": {
   "collapsed_sections": [],
   "name": "Lab_2_Indexing.ipynb",
   "provenance": []
  },
  "kernelspec": {
   "display_name": "Python 3 (ipykernel)",
   "language": "python",
   "name": "python3"
  },
  "language_info": {
   "codemirror_mode": {
    "name": "ipython",
    "version": 3
   },
   "file_extension": ".py",
   "mimetype": "text/x-python",
   "name": "python",
   "nbconvert_exporter": "python",
   "pygments_lexer": "ipython3",
   "version": "3.9.7"
  },
  "name": "Lab_2_Indexing.ipynb"
 },
 "nbformat": 4,
 "nbformat_minor": 1
}
