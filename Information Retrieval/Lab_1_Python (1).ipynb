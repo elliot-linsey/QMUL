{
 "cells": [
  {
   "cell_type": "markdown",
   "metadata": {
    "id": "NgUnmYcNYUsP"
   },
   "source": [
    "## Introduction to Colab\n",
    "\n",
    "Colab is a simple online python notebook environment that comes with lots of packages preinstalled."
   ]
  },
  {
   "cell_type": "code",
   "execution_count": null,
   "metadata": {
    "id": "BLMTIT0kYUsq"
   },
   "outputs": [],
   "source": [
    "# Use the Play (▷) button next to each cell to run that cell, \n",
    "# The (↑↓) buttons to change the order of cells, \n",
    "# And the \n",
    "\n",
    "print('Welcome to Information Retrieval labs !')"
   ]
  },
  {
   "cell_type": "code",
   "execution_count": null,
   "metadata": {
    "id": "bXzkx7ymYUs3"
   },
   "outputs": [],
   "source": [
    "## To allow filesharing you can connect Colab with your Google Drive files by running the code below \n",
    "# Follow the instructions in the pop up window to authorise access. \n",
    "\n",
    "from google.colab import drive\n",
    "drive.mount('/content/gdrive')"
   ]
  },
  {
   "cell_type": "code",
   "execution_count": null,
   "metadata": {
    "executionInfo": {
     "elapsed": 59,
     "status": "ok",
     "timestamp": 1642509358059,
     "user": {
      "displayName": "Kit Bransby",
      "photoUrl": "https://lh3.googleusercontent.com/a-/AOh14GgRv5YII6jwC_cVkIJqmTC4tQymJXRgCfeYfyfnfg=s64",
      "userId": "01527569628475152563"
     },
     "user_tz": 0
    },
    "id": "P2IoO6JIZZMs"
   },
   "outputs": [],
   "source": [
    "## [CODING TIP] Colab Shortcuts\n",
    "\n",
    "# Shift + Enter to run a cell \n",
    "# B to add a new cell below \n",
    "# A to add a new cell above\n",
    "\n",
    "# You can discover more by going to Tools > Keyboard Shortcuts"
   ]
  },
  {
   "cell_type": "markdown",
   "metadata": {
    "id": "MqsYOz-Da0AF"
   },
   "source": [
    "## Python Recap\n",
    "\n",
    "We'll be using several common Python packages and inbuilt functions in this module. Lets review them. "
   ]
  },
  {
   "cell_type": "code",
   "execution_count": null,
   "metadata": {
    "id": "ww-q2lfIZwpu"
   },
   "outputs": [],
   "source": [
    "## For loops and If statements\n",
    "\n",
    "for i in range(10):    # iterate over a range of 5.. i.e i=0,1,2,3,4\n",
    "  if i % 2 == 0:       # if i is even, print i\n",
    "    print(i)"
   ]
  },
  {
   "cell_type": "code",
   "execution_count": null,
   "metadata": {
    "id": "8dhBJgMMYfzk"
   },
   "outputs": [],
   "source": [
    "## [CODING TIP] This can also be written more concisely using list comprehension\n",
    "x = [print(i) for i in range(10) if i%2==0]"
   ]
  },
  {
   "cell_type": "code",
   "execution_count": null,
   "metadata": {
    "id": "LUvsEtYhHpem"
   },
   "outputs": [],
   "source": [
    "## Functions: These are particularly useful if you want to repeat a process multiple times\n",
    "\n",
    "def multiply (a, b): # this function takes two elements, and multiplies them.  \n",
    "  return a*b\n",
    "\n",
    "multiply(3,4)"
   ]
  },
  {
   "cell_type": "code",
   "execution_count": null,
   "metadata": {
    "id": "oQpM0ueKB-e0"
   },
   "outputs": [],
   "source": [
    "## What is a set? A set is a unordered collection of unique items\n",
    "\n",
    "# Note how the output set removes any duplicates\n",
    "print(set([2,2,3,4]))   \n",
    "\n",
    "# The Intersection (&) of two sets is a set of items that are common to both sets\n",
    "print(set([2,3,4]) & set([2]))\n",
    "\n",
    "# The Union (|) of two sets is a set of all elements from both sets\n",
    "print(set([2,3,4]) | set([2]))"
   ]
  },
  {
   "cell_type": "code",
   "execution_count": null,
   "metadata": {
    "executionInfo": {
     "elapsed": 46,
     "status": "ok",
     "timestamp": 1642509358063,
     "user": {
      "displayName": "Kit Bransby",
      "photoUrl": "https://lh3.googleusercontent.com/a-/AOh14GgRv5YII6jwC_cVkIJqmTC4tQymJXRgCfeYfyfnfg=s64",
      "userId": "01527569628475152563"
     },
     "user_tz": 0
    },
    "id": "hcehCttS6fRj"
   },
   "outputs": [],
   "source": [
    "## Pandas is a package used to work with structural or tabular data. \n",
    "\n",
    "import pandas as pd\n",
    "\n",
    "# Lets start by reading a csv file containing information about california housing to a pandas' DataFrame. \n",
    "df = pd.read_csv('/content/sample_data/california_housing_train.csv')"
   ]
  },
  {
   "cell_type": "code",
   "execution_count": null,
   "metadata": {
    "id": "9n8drWn47_z4"
   },
   "outputs": [],
   "source": [
    "# display dataframe\n",
    "df"
   ]
  },
  {
   "cell_type": "code",
   "execution_count": null,
   "metadata": {
    "id": "87LYqaZR8Vd4"
   },
   "outputs": [],
   "source": [
    "# Exploring some dataframe functions\n",
    "print('Dimensions of dataframe:', df.shape)\n",
    "print('\\nDataframe attribute (column) names:\\n', df.columns)\n",
    "print('\\nBasic statistics about dataframe:\\n', df.describe())"
   ]
  },
  {
   "cell_type": "code",
   "execution_count": null,
   "metadata": {
    "id": "Rh6pY_oW9wPt"
   },
   "outputs": [],
   "source": [
    "# Column data can be selected using the following syntax\n",
    "print('Values for the DataFrame attribute `total rooms`:\\n', df['total_rooms'])"
   ]
  },
  {
   "cell_type": "code",
   "execution_count": null,
   "metadata": {
    "id": "9MytnLio-G6T"
   },
   "outputs": [],
   "source": [
    "# A more advanced technique to select column and row data is to use the `iloc` and `loc` functions:\n",
    "# The syntax for 'loc' is as follows: df.loc[row name,column name]\n",
    "print(df.loc[1, 'longitude'])\n",
    "print(df.loc[16999, 'population'])\n"
   ]
  },
  {
   "cell_type": "code",
   "execution_count": null,
   "metadata": {
    "id": "6durArMMAZ0u"
   },
   "outputs": [],
   "source": [
    "# ':' can be used to return all data for that row or column\n",
    "print(df.loc[:, 'latitude'])        "
   ]
  },
  {
   "cell_type": "code",
   "execution_count": null,
   "metadata": {
    "id": "kRxzlIlJAdAm"
   },
   "outputs": [],
   "source": [
    "# 'iloc' works the same way but we use the index numbers for columns/rows rather than the names\n",
    "# e.g df.iloc[row index, column index]\n",
    "print(df.iloc[0,0])   # selecting data from the first column and first row\n",
    "print(df.iloc[4,:])   # selecting all data from fifth row. "
   ]
  },
  {
   "cell_type": "code",
   "execution_count": null,
   "metadata": {
    "executionInfo": {
     "elapsed": 34,
     "status": "ok",
     "timestamp": 1642509358071,
     "user": {
      "displayName": "Kit Bransby",
      "photoUrl": "https://lh3.googleusercontent.com/a-/AOh14GgRv5YII6jwC_cVkIJqmTC4tQymJXRgCfeYfyfnfg=s64",
      "userId": "01527569628475152563"
     },
     "user_tz": 0
    },
    "id": "nttjnsv56_HF"
   },
   "outputs": [],
   "source": [
    "## [CODING TIP] Official documentation is your friend. \n",
    "# e.g Not sure how to use a pandas dataframe function?  Look up the documentation: https://pandas.pydata.org/docs/reference/frame.html"
   ]
  },
  {
   "cell_type": "code",
   "execution_count": null,
   "metadata": {
    "executionInfo": {
     "elapsed": 34,
     "status": "ok",
     "timestamp": 1642509358072,
     "user": {
      "displayName": "Kit Bransby",
      "photoUrl": "https://lh3.googleusercontent.com/a-/AOh14GgRv5YII6jwC_cVkIJqmTC4tQymJXRgCfeYfyfnfg=s64",
      "userId": "01527569628475152563"
     },
     "user_tz": 0
    },
    "id": "9ENAFazBBcjt"
   },
   "outputs": [],
   "source": [
    "## For basic math functions, numpy is an excellent package\n",
    "\n",
    "import numpy as np"
   ]
  },
  {
   "cell_type": "code",
   "execution_count": null,
   "metadata": {
    "id": "ca1eTmNiByt8"
   },
   "outputs": [],
   "source": [
    "# An array is a python data structure, like a list, but with additional functionality\n",
    "x = np.array([2,-10,2,-7,5])\n",
    "\n",
    "print('Mean of array: ',np.mean(x))\n",
    "print('Minimum value in array: ',np.min(x))\n",
    "print('Absolute values of array: ',np.abs(x))\n",
    "print('Dimensions of array: ',np.shape(x))"
   ]
  },
  {
   "cell_type": "code",
   "execution_count": null,
   "metadata": {
    "executionInfo": {
     "elapsed": 33,
     "status": "ok",
     "timestamp": 1642509358074,
     "user": {
      "displayName": "Kit Bransby",
      "photoUrl": "https://lh3.googleusercontent.com/a-/AOh14GgRv5YII6jwC_cVkIJqmTC4tQymJXRgCfeYfyfnfg=s64",
      "userId": "01527569628475152563"
     },
     "user_tz": 0
    },
    "id": "OY-bu0RCEMbZ"
   },
   "outputs": [],
   "source": [
    "## [CODING TIP] To iterate through a numpy array or pandas dataframe, it is possible to use for loops. \n",
    "# However, these can be inefficient especially with large datasets \n",
    "# The preferred method is to use inbuilt functions which enable *vectorization*"
   ]
  },
  {
   "cell_type": "markdown",
   "metadata": {
    "id": "Cjl-mBOBIR59"
   },
   "source": [
    "## Bash Commands"
   ]
  },
  {
   "cell_type": "code",
   "execution_count": null,
   "metadata": {
    "id": "JodoVO0VF0Ad"
   },
   "outputs": [],
   "source": [
    "# Bash commands are usually reserved for the terminal or command line, however you can use some simple ones in Colab\n",
    "\n",
    "# e.g To install a new package that does not come preinstalled in Colab\n",
    "!pip install nbconvert"
   ]
  },
  {
   "cell_type": "code",
   "execution_count": null,
   "metadata": {
    "id": "3TzlIsa2Gahc"
   },
   "outputs": [],
   "source": [
    "# Or to download an internet file into colab \n",
    "!wget https://i.ytimg.com/vi/RJIABsgnTHk/maxresdefault.jpg"
   ]
  },
  {
   "cell_type": "markdown",
   "metadata": {
    "id": "hKm6xhz2ILQq"
   },
   "source": [
    "## If you finish early.. "
   ]
  },
  {
   "cell_type": "code",
   "execution_count": null,
   "metadata": {
    "executionInfo": {
     "elapsed": 12,
     "status": "ok",
     "timestamp": 1642509360836,
     "user": {
      "displayName": "Kit Bransby",
      "photoUrl": "https://lh3.googleusercontent.com/a-/AOh14GgRv5YII6jwC_cVkIJqmTC4tQymJXRgCfeYfyfnfg=s64",
      "userId": "01527569628475152563"
     },
     "user_tz": 0
    },
    "id": "4ofqeslrJt0x"
   },
   "outputs": [],
   "source": [
    "# QUESTION 1: \n",
    "# Write a function that takes a list of numbers and returns pairs of number from the list which add up to 10?\n",
    "# Test your function with some dummy inputs"
   ]
  },
  {
   "cell_type": "code",
   "execution_count": null,
   "metadata": {
    "executionInfo": {
     "elapsed": 401,
     "status": "ok",
     "timestamp": 1642509658947,
     "user": {
      "displayName": "Kit Bransby",
      "photoUrl": "https://lh3.googleusercontent.com/a-/AOh14GgRv5YII6jwC_cVkIJqmTC4tQymJXRgCfeYfyfnfg=s64",
      "userId": "01527569628475152563"
     },
     "user_tz": 0
    },
    "id": "FfuxYUwvKn4U"
   },
   "outputs": [],
   "source": [
    "# QUESTION 2:\n",
    "# Write a function that takes our previous housing df as input, \n",
    "# selects data entries with households greater than 450, \n",
    "# and returns the mean population of that selection\n",
    "# Test your function with some dummy inputs"
   ]
  }
 ],
 "metadata": {
  "colab": {
   "collapsed_sections": [],
   "name": "Lab_1_Python.ipynb",
   "provenance": []
  },
  "kernelspec": {
   "display_name": "Python 3 (ipykernel)",
   "language": "python",
   "name": "python3"
  },
  "language_info": {
   "codemirror_mode": {
    "name": "ipython",
    "version": 3
   },
   "file_extension": ".py",
   "mimetype": "text/x-python",
   "name": "python",
   "nbconvert_exporter": "python",
   "pygments_lexer": "ipython3",
   "version": "3.8.12"
  }
 },
 "nbformat": 4,
 "nbformat_minor": 4
}
