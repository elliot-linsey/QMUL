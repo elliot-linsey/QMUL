{
 "cells": [
  {
   "cell_type": "code",
   "execution_count": 1,
   "id": "913566e7",
   "metadata": {},
   "outputs": [],
   "source": [
    "import numpy as np"
   ]
  },
  {
   "cell_type": "code",
   "execution_count": 7,
   "id": "b211441e",
   "metadata": {},
   "outputs": [],
   "source": [
    "clust = np.array([[1,5],\n",
    "                 [3,6],\n",
    "                 [4,2],\n",
    "                 [3,7],\n",
    "                 [5,8]])"
   ]
  },
  {
   "cell_type": "code",
   "execution_count": 8,
   "id": "f202cd16",
   "metadata": {},
   "outputs": [
    {
     "name": "stdout",
     "output_type": "stream",
     "text": [
      "[3.2 5.6]\n"
     ]
    }
   ],
   "source": [
    "print(sum(clust)/len(clust))"
   ]
  },
  {
   "cell_type": "code",
   "execution_count": 18,
   "id": "45f00d6c",
   "metadata": {},
   "outputs": [
    {
     "data": {
      "text/plain": [
       "[[], [], []]"
      ]
     },
     "execution_count": 18,
     "metadata": {},
     "output_type": "execute_result"
    }
   ],
   "source": [
    "centroids = [1,5,3]\n",
    "cluster_vals = [[] for i in range(len(centroids))]\n",
    "cluster_vals"
   ]
  }
 ],
 "metadata": {
  "kernelspec": {
   "display_name": "Python 3",
   "language": "python",
   "name": "python3"
  },
  "language_info": {
   "codemirror_mode": {
    "name": "ipython",
    "version": 3
   },
   "file_extension": ".py",
   "mimetype": "text/x-python",
   "name": "python",
   "nbconvert_exporter": "python",
   "pygments_lexer": "ipython3",
   "version": "3.8.8"
  }
 },
 "nbformat": 4,
 "nbformat_minor": 5
}
