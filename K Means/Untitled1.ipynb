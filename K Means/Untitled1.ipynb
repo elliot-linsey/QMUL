{
 "cells": [
  {
   "cell_type": "code",
   "execution_count": 29,
   "id": "913566e7",
   "metadata": {},
   "outputs": [],
   "source": [
    "import numpy as np\n",
    "import math"
   ]
  },
  {
   "cell_type": "code",
   "execution_count": 21,
   "id": "b211441e",
   "metadata": {},
   "outputs": [],
   "source": [
    "clust = np.array([[55,54],\n",
    "                 [59,51],\n",
    "                 [63,65],\n",
    "                 [56,62],\n",
    "                 [61,61]])"
   ]
  },
  {
   "cell_type": "code",
   "execution_count": 39,
   "id": "b37500ea",
   "metadata": {},
   "outputs": [],
   "source": [
    "clust2 = np.array([[25,31],\n",
    "                 [27,33],\n",
    "                 [23,25],\n",
    "                 [31,28],\n",
    "                 [33,31]])"
   ]
  },
  {
   "cell_type": "code",
   "execution_count": null,
   "id": "666eed1a",
   "metadata": {},
   "outputs": [],
   "source": [
    "clust3 = np.array([[1,5],\n",
    "                 [3,6],\n",
    "                 [4,2],\n",
    "                 [3,7],\n",
    "                 [5,8]])"
   ]
  },
  {
   "cell_type": "code",
   "execution_count": 40,
   "id": "f202cd16",
   "metadata": {},
   "outputs": [
    {
     "name": "stdout",
     "output_type": "stream",
     "text": [
      "[27.8 29.6]\n"
     ]
    }
   ],
   "source": [
    "print(sum(clust2)/len(clust))"
   ]
  },
  {
   "cell_type": "code",
   "execution_count": 24,
   "id": "45f00d6c",
   "metadata": {},
   "outputs": [
    {
     "data": {
      "text/plain": [
       "[[], [], []]"
      ]
     },
     "execution_count": 24,
     "metadata": {},
     "output_type": "execute_result"
    }
   ],
   "source": [
    "centroids = [1,5,3]\n",
    "cluster_vals = [[] for i in range(len(centroids))]\n",
    "cluster_vals"
   ]
  },
  {
   "cell_type": "code",
   "execution_count": 37,
   "id": "be44fab6",
   "metadata": {},
   "outputs": [],
   "source": [
    "a = np.array([27,33])\n",
    "b = np.array([25,31])"
   ]
  },
  {
   "cell_type": "code",
   "execution_count": 32,
   "id": "db58c370",
   "metadata": {},
   "outputs": [
    {
     "data": {
      "text/plain": [
       "2.8284271247461903"
      ]
     },
     "execution_count": 32,
     "metadata": {},
     "output_type": "execute_result"
    }
   ],
   "source": [
    "def distance(movie1, movie2):\n",
    "    squared_difference = 0\n",
    "    for i in range(len(movie1)):\n",
    "        squared_difference += (movie1[i] - movie2[i]) ** 2\n",
    "    final_distance = squared_difference ** 0.5\n",
    "    return final_distance\n",
    "distance(a,b)\n",
    "\n"
   ]
  },
  {
   "cell_type": "code",
   "execution_count": 38,
   "id": "54db7a65",
   "metadata": {},
   "outputs": [
    {
     "name": "stdout",
     "output_type": "stream",
     "text": [
      "2.8284271247461903\n"
     ]
    }
   ],
   "source": [
    "print(np.linalg.norm(a - b))"
   ]
  }
 ],
 "metadata": {
  "kernelspec": {
   "display_name": "Python 3",
   "language": "python",
   "name": "python3"
  },
  "language_info": {
   "codemirror_mode": {
    "name": "ipython",
    "version": 3
   },
   "file_extension": ".py",
   "mimetype": "text/x-python",
   "name": "python",
   "nbconvert_exporter": "python",
   "pygments_lexer": "ipython3",
   "version": "3.8.8"
  }
 },
 "nbformat": 4,
 "nbformat_minor": 5
}
