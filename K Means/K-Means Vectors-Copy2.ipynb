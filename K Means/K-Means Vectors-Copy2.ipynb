{
 "cells": [
  {
   "cell_type": "code",
   "execution_count": 3,
   "id": "9e8880a4",
   "metadata": {},
   "outputs": [],
   "source": [
    "import numpy as np\n",
    "import functools\n",
    "import time\n",
    "data=(np.array([1,5]), np.array([3,6]), np.array([4,2]), np.array([3,7]), np.array([5,8]),\n",
    "                                    np.array([25,31]), np.array([27,33]), np.array([23,25]), np.array([31,28]), np.array([33,31]),\n",
    "                                    np.array([55,54]), np.array([59,51]), np.array([63,65]), np.array([56,62]), np.array([61,61]))"
   ]
  },
  {
   "cell_type": "code",
   "execution_count": 4,
   "id": "17657a0e",
   "metadata": {},
   "outputs": [],
   "source": [
    "def timer(func):\n",
    "    @functools.wraps(func)\n",
    "    def wrapper_timer(*args, **kwargs):\n",
    "        start = time.perf_counter()\n",
    "        #'value' is the function being timed\n",
    "        value = func(*args, **kwargs)\n",
    "        end = time.perf_counter()\n",
    "        print(f'Finished {func.__name__!r} in {end-start:.8f} seconds!')\n",
    "        return value\n",
    "    return wrapper_timer"
   ]
  },
  {
   "cell_type": "code",
   "execution_count": 10,
   "id": "a117d501",
   "metadata": {},
   "outputs": [
    {
     "name": "stdout",
     "output_type": "stream",
     "text": [
      "[[array([33, 31])], [array([31, 28])], [array([5, 8])], [array([3, 6])], [array([25, 31])]]\n",
      "means = [array([51.42857143, 50.71428571]), array([31., 28.]), array([5., 8.]), array([2.8, 5.2]), array([25., 30.])]\n",
      "[[array([51.42857143, 50.71428571])], [array([31., 28.])], [array([5., 8.])], [array([2.8, 5.2])], [array([25., 30.])]]\n",
      "means = [array([57.57142857, 57.28571429]), array([31.66666667, 29.        ]), array([5., 8.]), array([2.76, 5.04]), array([25.  , 29.75])]\n",
      "[[array([57.57142857, 57.28571429])], [array([31.66666667, 29.        ])], [array([5., 8.])], [array([2.76, 5.04])], [array([25.  , 29.75])]]\n",
      "means = [array([58.5952381 , 58.38095238]), array([31.88888889, 29.33333333]), array([5., 8.]), array([2.752, 5.008]), array([25.    , 29.6875])]\n",
      "[[array([58.5952381 , 58.38095238])], [array([31.88888889, 29.33333333])], [array([5., 8.])], [array([2.752, 5.008])], [array([25.    , 29.6875])]]\n",
      "means = [array([58.76587302, 58.56349206]), array([31.96296296, 29.44444444]), array([5., 8.]), array([2.7504, 5.0016]), array([25.      , 29.671875])]\n",
      "[[array([58.76587302, 58.56349206])], [array([31.96296296, 29.44444444])], [array([5., 8.])], [array([2.7504, 5.0016])], [array([25.      , 29.671875])]]\n",
      "means = [array([58.79431217, 58.59391534]), array([31.98765432, 29.48148148]), array([5., 8.]), array([2.75008, 5.00032]), array([25.        , 29.66796875])]\n",
      "[[array([58.79431217, 58.59391534])], [array([31.98765432, 29.48148148])], [array([5., 8.])], [array([2.75008, 5.00032])], [array([25.        , 29.66796875])]]\n",
      "means = [array([58.79905203, 58.59898589]), array([31.99588477, 29.49382716]), array([5., 8.]), array([2.750016, 5.000064]), array([25.        , 29.66699219])]\n",
      "[[array([58.79905203, 58.59898589])], [array([31.99588477, 29.49382716])], [array([5., 8.])], [array([2.750016, 5.000064])], [array([25.        , 29.66699219])]]\n",
      "means = [array([58.799842  , 58.59983098]), array([31.99862826, 29.49794239]), array([5., 8.]), array([2.7500032, 5.0000128]), array([25.        , 29.66674805])]\n",
      "[[array([58.799842  , 58.59983098])], [array([31.99862826, 29.49794239])], [array([5., 8.])], [array([2.7500032, 5.0000128])], [array([25.        , 29.66674805])]]\n",
      "means = [array([58.79997367, 58.59997183]), array([31.99954275, 29.49931413]), array([5., 8.]), array([2.75000064, 5.00000256]), array([25.        , 29.66668701])]\n",
      "[[array([58.79997367, 58.59997183])], [array([31.99954275, 29.49931413])], [array([5., 8.])], [array([2.75000064, 5.00000256])], [array([25.        , 29.66668701])]]\n",
      "means = [array([58.79999561, 58.59999531]), array([31.99984758, 29.49977138]), array([5., 8.]), array([2.75000013, 5.00000051]), array([25.        , 29.66667175])]\n",
      "[[array([58.79999561, 58.59999531])], [array([31.99984758, 29.49977138])], [array([5., 8.])], [array([2.75000013, 5.00000051])], [array([25.        , 29.66667175])]]\n",
      "means = [array([58.79999927, 58.59999922]), array([31.99994919, 29.49992379]), array([5., 8.]), array([2.75000003, 5.0000001 ]), array([25.        , 29.66666794])]\n",
      "[[array([58.79999927, 58.59999922])], [array([31.99994919, 29.49992379])], [array([5., 8.])], [array([2.75000003, 5.0000001 ])], [array([25.        , 29.66666794])]]\n",
      "means = [array([58.79999988, 58.59999987]), array([31.99998306, 29.4999746 ]), array([5., 8.]), array([2.75000001, 5.00000002]), array([25.        , 29.66666698])]\n",
      "[[array([58.79999988, 58.59999987])], [array([31.99998306, 29.4999746 ])], [array([5., 8.])], [array([2.75000001, 5.00000002])], [array([25.        , 29.66666698])]]\n",
      "It took 10 cycles!\n",
      "Finished 'k_means_func' in 0.02083060 seconds!\n"
     ]
    },
    {
     "data": {
      "text/plain": [
       "[[array([58.79999988, 58.59999987]),\n",
       "  array([55, 54]),\n",
       "  array([59, 51]),\n",
       "  array([63, 65]),\n",
       "  array([56, 62]),\n",
       "  array([61, 61])],\n",
       " [array([31.99998306, 29.4999746 ]), array([31, 28]), array([33, 31])],\n",
       " [array([5., 8.]), array([5, 8])],\n",
       " [array([2.75000001, 5.00000002]),\n",
       "  array([1, 5]),\n",
       "  array([3, 6]),\n",
       "  array([4, 2]),\n",
       "  array([3, 7])],\n",
       " [array([25.        , 29.66666698]),\n",
       "  array([25, 31]),\n",
       "  array([27, 33]),\n",
       "  array([23, 25])]]"
      ]
     },
     "execution_count": 10,
     "metadata": {},
     "output_type": "execute_result"
    }
   ],
   "source": [
    "class k_means():\n",
    "    def __init__(self, data, k):\n",
    "        self.data = data\n",
    "        self.k = k\n",
    "    def ini_centroids(self, data, k):\n",
    "        lst = []\n",
    "        data_len = len(self.data)\n",
    "        choices = np.random.choice(range(data_len), size=self.k, replace=False)\n",
    "        for i in choices:\n",
    "            lst.append([self.data[i]])\n",
    "        return [i[0] for i in lst]\n",
    "    def array_remove(self, base_array, test_array):\n",
    "        for index in range(len(base_array)):\n",
    "            if np.array_equal(base_array[index], test_array):\n",
    "                base_array.pop(index)\n",
    "            else:\n",
    "                break\n",
    "        return base_array\n",
    "    \n",
    "    def clusters(self,centroids):\n",
    "        cluster_vals = []\n",
    "        #print(cluster_vals)\n",
    "        for i in range(len(centroids)):\n",
    "            cluster_vals.append([centroids[i]])\n",
    "        print(cluster_vals)\n",
    "        for y in self.data:\n",
    "            distances = []\n",
    "            for i in range(len(cluster_vals)):\n",
    "                distances.append(np.linalg.norm(y - cluster_vals[i][0]))\n",
    "            #print(distances)\n",
    "            idx = distances.index(min(distances))\n",
    "            cluster_vals[idx].append(y)\n",
    "        for y in centroids:\n",
    "            cluster_vals = self.array_remove(cluster_vals, y)\n",
    "                        \n",
    "        return cluster_vals\n",
    "    def update(self,clust_vals):\n",
    "        cluster_means = []\n",
    "        for x in clust_vals:\n",
    "            cluster_means.append(sum(x[::])/len(x))\n",
    "\n",
    "        print('means = ' + str(cluster_means))\n",
    "        return self.clusters(cluster_means)\n",
    "    @timer\n",
    "    def k_means_func(self):\n",
    "        centroids = self.ini_centroids(self.data, self.k)\n",
    "        cluster_values = self.clusters(centroids)\n",
    "        updates = self.update(cluster_values)\n",
    "        count = 0\n",
    "        for i in range(10):\n",
    "            count += 1\n",
    "            updates = self.update(updates)\n",
    "            #print(updates)\n",
    "        print('It took ' + str(count) + ' cycles!')\n",
    "        return updates\n",
    "    def plot(self):\n",
    "        k_mean = self.k_means_func()\n",
    "        for i in range(len(k_mean)):\n",
    "            plt.plot(k_mean[i], [0]*len(k_mean[i]), 'o')\n",
    "            plt.plot(np.mean(k_mean[i]), [0],'x', markersize=15)\n",
    "    \n",
    "        \n",
    "test = k_means(data, 5)    \n",
    "test.k_means_func()"
   ]
  },
  {
   "cell_type": "markdown",
   "id": "8954389e",
   "metadata": {},
   "source": [
    "Having an issue with higher k numbers. "
   ]
  }
 ],
 "metadata": {
  "kernelspec": {
   "display_name": "Python 3",
   "language": "python",
   "name": "python3"
  },
  "language_info": {
   "codemirror_mode": {
    "name": "ipython",
    "version": 3
   },
   "file_extension": ".py",
   "mimetype": "text/x-python",
   "name": "python",
   "nbconvert_exporter": "python",
   "pygments_lexer": "ipython3",
   "version": "3.8.8"
  }
 },
 "nbformat": 4,
 "nbformat_minor": 5
}
