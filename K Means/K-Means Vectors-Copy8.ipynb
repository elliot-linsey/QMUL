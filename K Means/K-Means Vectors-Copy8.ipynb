{
 "cells": [
  {
   "cell_type": "code",
   "execution_count": 24,
   "id": "9e8880a4",
   "metadata": {},
   "outputs": [
    {
     "name": "stdout",
     "output_type": "stream",
     "text": [
      "1\n",
      "2\n"
     ]
    },
    {
     "data": {
      "text/plain": [
       "array([[ 1.,  0.],\n",
       "       [ 5.,  0.],\n",
       "       [ 3.,  0.],\n",
       "       [ 2.,  0.],\n",
       "       [ 6.,  0.],\n",
       "       [25.,  0.],\n",
       "       [26.,  0.],\n",
       "       [24.,  0.],\n",
       "       [27.,  0.],\n",
       "       [28.,  0.],\n",
       "       [53.,  0.],\n",
       "       [52.,  0.],\n",
       "       [64.,  0.],\n",
       "       [62.,  0.],\n",
       "       [51.,  0.]])"
      ]
     },
     "execution_count": 24,
     "metadata": {},
     "output_type": "execute_result"
    }
   ],
   "source": [
    "import numpy as np\n",
    "import functools\n",
    "import time\n",
    "from matplotlib import pyplot as plt\n",
    "from sklearn import datasets\n",
    "\n",
    "data = np.array([[1,5],\n",
    "                [3,6],\n",
    "                [4,2],\n",
    "                [3,7],\n",
    "                [5,8],\n",
    "                [25,31],\n",
    "                [27,33],\n",
    "                [23,25],\n",
    "                [31,28],\n",
    "                [33,31],\n",
    "                [55,54],\n",
    "                [59,51],\n",
    "                [63,65],\n",
    "                [56,62],\n",
    "                [61,61]])\n",
    "\n",
    "data_1d = np.array([1,5,3,2,6,25,26,24,27,28,53,52,64,62,51])\n",
    "print(data_1d.ndim)\n",
    "print(data.ndim)\n",
    "data_1d = data_1d.reshape(-1,1)\n",
    "stack = np.column_stack([data_1d,np.zeros(np.shape(data_1d))])\n",
    "stack"
   ]
  },
  {
   "cell_type": "code",
   "execution_count": 2,
   "id": "17657a0e",
   "metadata": {},
   "outputs": [],
   "source": [
    "# def timer(func):\n",
    "#     @functools.wraps(func)\n",
    "#     def wrapper_timer(*args, **kwargs):\n",
    "#         start = time.perf_counter()\n",
    "#         #'value' is the function being timed\n",
    "#         value = func(*args, **kwargs)\n",
    "#         end = time.perf_counter()\n",
    "#         print(f'Finished {func.__name__!r} in {end-start:.8f} seconds!')\n",
    "#         return value\n",
    "#     return wrapper_timer"
   ]
  },
  {
   "cell_type": "code",
   "execution_count": 3,
   "id": "a117d501",
   "metadata": {},
   "outputs": [
    {
     "name": "stdout",
     "output_type": "stream",
     "text": [
      "[11.610000000000001, 4.4399999999999995, 4.4399999999999995, 57.22222222222222, 18.21, 4.4399999999999995, 11.610000000000001, 18.21, 11.610000000000001, 18.21]\n"
     ]
    },
    {
     "data": {
      "image/png": "[encoded data removed]",
      "text/plain": [
       "<Figure size 432x288 with 1 Axes>"
      ]
     },
     "metadata": {
      "needs_background": "light"
     },
     "output_type": "display_data"
    }
   ],
   "source": [
    "class k_means():\n",
    "    def __init__(self, data, k):\n",
    "        self.data = data\n",
    "        self.k = k\n",
    "    def ini_centroids(self, data, k):\n",
    "        lst = []\n",
    "        data_len = len(self.data)\n",
    "        choices = np.random.choice(range(data_len), size=self.k, replace=False)\n",
    "        for i in choices:\n",
    "            lst.append([self.data[i]])\n",
    "        #print('centroids = ' + str(lst))\n",
    "        return [i[0] for i in lst]\n",
    "    def clusters(self,centroids):\n",
    "        #print('cluster centroids = ' + str(centroids))\n",
    "        cluster_vals = [[] for i in range(len(centroids))]\n",
    "        #print(cluster_vals)\n",
    "        for y in self.data:\n",
    "            distances = []\n",
    "            for i in range(len(centroids)):\n",
    "                distances.append(np.linalg.norm(y - centroids[i]))\n",
    "            #print(distances)\n",
    "            idx = distances.index(min(distances))\n",
    "            cluster_vals[idx].append(y)\n",
    "        #print(cluster_vals)               \n",
    "        return cluster_vals\n",
    "    def update(self,clust_vals):\n",
    "        cluster_means = []\n",
    "        for x in clust_vals:\n",
    "            cluster_means.append(sum(x[::])/len(x))\n",
    "            #print('x = ' + str(x))\n",
    "\n",
    "        #print('means = ' + str(cluster_means))\n",
    "        return self.clusters(cluster_means)\n",
    "    #@timer\n",
    "    def k_means_func(self):\n",
    "        centroids = self.ini_centroids(self.data, self.k)\n",
    "        cluster_values = self.clusters(centroids)\n",
    "        updates = self.update(cluster_values)\n",
    "        count = 0\n",
    "        for i in range(len(updates)):\n",
    "            if not np.array_equal(np.round(updates[i][0],3), np.round(self.update(updates)[i][0],3)):\n",
    "                count += 1\n",
    "                updates = self.update(updates)\n",
    "                #print(updates)\n",
    "        #print('It took ' + str(count) + ' cycles!')\n",
    "        return updates\n",
    "    def k_means_repeat(self):\n",
    "        clusters = []\n",
    "        variances = []\n",
    "        for r in range(10):\n",
    "            #try:\n",
    "            clusters.append(self.k_means_func())\n",
    "            #print(clusters[r][0])\n",
    "            variances.append(np.var(clusters[r][0]))\n",
    "            #except TypeError:\n",
    "                #variances.append('error')\n",
    "        #variances = [float('inf') if i=='error' else i for i in variances]\n",
    "        print(variances)\n",
    "        return clusters[variances.index(np.min(variances))]\n",
    "    def plot(self):\n",
    "        test_plot = self.k_means_func()\n",
    "        test_array = np.array([np.array(xi) for xi in test_plot],dtype=object)\n",
    "        #print('test array = ' + str(np.mean(test_array[0][:,0])))\n",
    "        colors = ['red','green','blue','purple','orange','brown','pink','olive','cyan','gray']\n",
    "        for i in range(self.k):\n",
    "            plt.scatter(test_array[i][:,0], test_array[i][:,1], color = colors[i])\n",
    "            plt.scatter(np.mean(test_array[i][:,0]), np.mean(test_array[i][:,1]), marker='x', s=80, color=colors[i])\n",
    "        return plt.show()\n",
    "    def plot_2(self):\n",
    "        test_plot = self.k_means_repeat()\n",
    "        #print(test_plot)\n",
    "        test_array = np.array([np.array(xi) for xi in test_plot],dtype=object)\n",
    "        #print(test_array)\n",
    "        colors = ['red','green','blue','purple','orange','brown','pink','olive','cyan','gray']\n",
    "        for i in range(self.k):\n",
    "            plt.scatter(test_array[i][:,0], test_array[i][:,1], color = colors[i])\n",
    "            plt.scatter(np.mean(test_array[i][:,0]), np.mean(test_array[i][:,1]), marker='x', s=80, color=colors[i])\n",
    "        return plt.show()\n",
    "        \n",
    "test = k_means(data, 3)    \n",
    "#test.k_means_repeat()\n",
    "\n",
    "test.plot_2()"
   ]
  },
  {
   "cell_type": "code",
   "execution_count": 27,
   "id": "ebeb802b",
   "metadata": {},
   "outputs": [
    {
     "name": "stdout",
     "output_type": "stream",
     "text": [
      "[992.75, 6.222222222222222, 1024.0, 810.1600000000001, 4.609999999999999, 170.0, 170.0, 810.1600000000001, 810.1600000000001, 170.0]\n"
     ]
    },
    {
     "data": {
      "image/png": "[encoded data removed]",
      "text/plain": [
       "<Figure size 432x288 with 1 Axes>"
      ]
     },
     "metadata": {
      "needs_background": "light"
     },
     "output_type": "display_data"
    }
   ],
   "source": [
    "one_d = k_means(stack,3)\n",
    "one_d.plot_2()"
   ]
  },
  {
   "cell_type": "code",
   "execution_count": 4,
   "id": "6cedf96d",
   "metadata": {},
   "outputs": [],
   "source": [
    "iris = datasets.load_iris()\n",
    "#iris['data']"
   ]
  },
  {
   "cell_type": "code",
   "execution_count": 5,
   "id": "c7009e56",
   "metadata": {},
   "outputs": [
    {
     "name": "stdout",
     "output_type": "stream",
     "text": [
      "[2.8460897531231413, 2.9728505442085464, 3.644276806343205, 3.1099024919885307, 3.39928975, 2.996318938605619, 3.08533711405167, 3.5086, 2.62327806122449, 3.3031092259156667]\n"
     ]
    },
    {
     "data": {
      "text/plain": [
       "[[array([5.5, 2.3, 4. , 1.3]),\n",
       "  array([5.7, 2.8, 4.5, 1.3]),\n",
       "  array([4.9, 2.4, 3.3, 1. ]),\n",
       "  array([5.2, 2.7, 3.9, 1.4]),\n",
       "  array([5. , 2. , 3.5, 1. ]),\n",
       "  array([5.9, 3. , 4.2, 1.5]),\n",
       "  array([6. , 2.2, 4. , 1. ]),\n",
       "  array([5.6, 2.9, 3.6, 1.3]),\n",
       "  array([5.6, 3. , 4.5, 1.5]),\n",
       "  array([5.8, 2.7, 4.1, 1. ]),\n",
       "  array([5.6, 2.5, 3.9, 1.1]),\n",
       "  array([6.1, 2.8, 4. , 1.3]),\n",
       "  array([5.7, 2.6, 3.5, 1. ]),\n",
       "  array([5.5, 2.4, 3.8, 1.1]),\n",
       "  array([5.5, 2.4, 3.7, 1. ]),\n",
       "  array([5.8, 2.7, 3.9, 1.2]),\n",
       "  array([5.4, 3. , 4.5, 1.5]),\n",
       "  array([5.6, 3. , 4.1, 1.3]),\n",
       "  array([5.5, 2.5, 4. , 1.3]),\n",
       "  array([5.5, 2.6, 4.4, 1.2]),\n",
       "  array([5.8, 2.6, 4. , 1.2]),\n",
       "  array([5. , 2.3, 3.3, 1. ]),\n",
       "  array([5.6, 2.7, 4.2, 1.3]),\n",
       "  array([5.7, 3. , 4.2, 1.2]),\n",
       "  array([5.7, 2.9, 4.2, 1.3]),\n",
       "  array([5.1, 2.5, 3. , 1.1]),\n",
       "  array([5.7, 2.8, 4.1, 1.3]),\n",
       "  array([4.9, 2.5, 4.5, 1.7])],\n",
       " [array([7. , 3.2, 4.7, 1.4]),\n",
       "  array([6.4, 3.2, 4.5, 1.5]),\n",
       "  array([6.9, 3.1, 4.9, 1.5]),\n",
       "  array([6.5, 2.8, 4.6, 1.5]),\n",
       "  array([6.3, 3.3, 4.7, 1.6]),\n",
       "  array([6.6, 2.9, 4.6, 1.3]),\n",
       "  array([6.1, 2.9, 4.7, 1.4]),\n",
       "  array([6.7, 3.1, 4.4, 1.4]),\n",
       "  array([6.2, 2.2, 4.5, 1.5]),\n",
       "  array([5.9, 3.2, 4.8, 1.8]),\n",
       "  array([6.3, 2.5, 4.9, 1.5]),\n",
       "  array([6.1, 2.8, 4.7, 1.2]),\n",
       "  array([6.4, 2.9, 4.3, 1.3]),\n",
       "  array([6.6, 3. , 4.4, 1.4]),\n",
       "  array([6.8, 2.8, 4.8, 1.4]),\n",
       "  array([6.7, 3. , 5. , 1.7]),\n",
       "  array([6. , 2.9, 4.5, 1.5]),\n",
       "  array([6. , 2.7, 5.1, 1.6]),\n",
       "  array([6. , 3.4, 4.5, 1.6]),\n",
       "  array([6.7, 3.1, 4.7, 1.5]),\n",
       "  array([6.3, 2.3, 4.4, 1.3]),\n",
       "  array([6.1, 3. , 4.6, 1.4]),\n",
       "  array([6.2, 2.9, 4.3, 1.3]),\n",
       "  array([6.3, 3.3, 6. , 2.5]),\n",
       "  array([5.8, 2.7, 5.1, 1.9]),\n",
       "  array([7.1, 3. , 5.9, 2.1]),\n",
       "  array([6.3, 2.9, 5.6, 1.8]),\n",
       "  array([6.5, 3. , 5.8, 2.2]),\n",
       "  array([7.6, 3. , 6.6, 2.1]),\n",
       "  array([7.3, 2.9, 6.3, 1.8]),\n",
       "  array([6.7, 2.5, 5.8, 1.8]),\n",
       "  array([7.2, 3.6, 6.1, 2.5]),\n",
       "  array([6.5, 3.2, 5.1, 2. ]),\n",
       "  array([6.4, 2.7, 5.3, 1.9]),\n",
       "  array([6.8, 3. , 5.5, 2.1]),\n",
       "  array([5.7, 2.5, 5. , 2. ]),\n",
       "  array([5.8, 2.8, 5.1, 2.4]),\n",
       "  array([6.4, 3.2, 5.3, 2.3]),\n",
       "  array([6.5, 3. , 5.5, 1.8]),\n",
       "  array([7.7, 3.8, 6.7, 2.2]),\n",
       "  array([7.7, 2.6, 6.9, 2.3]),\n",
       "  array([6. , 2.2, 5. , 1.5]),\n",
       "  array([6.9, 3.2, 5.7, 2.3]),\n",
       "  array([5.6, 2.8, 4.9, 2. ]),\n",
       "  array([7.7, 2.8, 6.7, 2. ]),\n",
       "  array([6.3, 2.7, 4.9, 1.8]),\n",
       "  array([6.7, 3.3, 5.7, 2.1]),\n",
       "  array([7.2, 3.2, 6. , 1.8]),\n",
       "  array([6.2, 2.8, 4.8, 1.8]),\n",
       "  array([6.1, 3. , 4.9, 1.8]),\n",
       "  array([6.4, 2.8, 5.6, 2.1]),\n",
       "  array([7.2, 3. , 5.8, 1.6]),\n",
       "  array([7.4, 2.8, 6.1, 1.9]),\n",
       "  array([7.9, 3.8, 6.4, 2. ]),\n",
       "  array([6.4, 2.8, 5.6, 2.2]),\n",
       "  array([6.3, 2.8, 5.1, 1.5]),\n",
       "  array([6.1, 2.6, 5.6, 1.4]),\n",
       "  array([7.7, 3. , 6.1, 2.3]),\n",
       "  array([6.3, 3.4, 5.6, 2.4]),\n",
       "  array([6.4, 3.1, 5.5, 1.8]),\n",
       "  array([6. , 3. , 4.8, 1.8]),\n",
       "  array([6.9, 3.1, 5.4, 2.1]),\n",
       "  array([6.7, 3.1, 5.6, 2.4]),\n",
       "  array([6.9, 3.1, 5.1, 2.3]),\n",
       "  array([5.8, 2.7, 5.1, 1.9]),\n",
       "  array([6.8, 3.2, 5.9, 2.3]),\n",
       "  array([6.7, 3.3, 5.7, 2.5]),\n",
       "  array([6.7, 3. , 5.2, 2.3]),\n",
       "  array([6.3, 2.5, 5. , 1.9]),\n",
       "  array([6.5, 3. , 5.2, 2. ]),\n",
       "  array([6.2, 3.4, 5.4, 2.3]),\n",
       "  array([5.9, 3. , 5.1, 1.8])],\n",
       " [array([5.1, 3.5, 1.4, 0.2]),\n",
       "  array([4.9, 3. , 1.4, 0.2]),\n",
       "  array([4.7, 3.2, 1.3, 0.2]),\n",
       "  array([4.6, 3.1, 1.5, 0.2]),\n",
       "  array([5. , 3.6, 1.4, 0.2]),\n",
       "  array([5.4, 3.9, 1.7, 0.4]),\n",
       "  array([4.6, 3.4, 1.4, 0.3]),\n",
       "  array([5. , 3.4, 1.5, 0.2]),\n",
       "  array([4.4, 2.9, 1.4, 0.2]),\n",
       "  array([4.9, 3.1, 1.5, 0.1]),\n",
       "  array([5.4, 3.7, 1.5, 0.2]),\n",
       "  array([4.8, 3.4, 1.6, 0.2]),\n",
       "  array([4.8, 3. , 1.4, 0.1]),\n",
       "  array([4.3, 3. , 1.1, 0.1]),\n",
       "  array([5.8, 4. , 1.2, 0.2]),\n",
       "  array([5.7, 4.4, 1.5, 0.4]),\n",
       "  array([5.4, 3.9, 1.3, 0.4]),\n",
       "  array([5.1, 3.5, 1.4, 0.3]),\n",
       "  array([5.7, 3.8, 1.7, 0.3]),\n",
       "  array([5.1, 3.8, 1.5, 0.3]),\n",
       "  array([5.4, 3.4, 1.7, 0.2]),\n",
       "  array([5.1, 3.7, 1.5, 0.4]),\n",
       "  array([4.6, 3.6, 1. , 0.2]),\n",
       "  array([5.1, 3.3, 1.7, 0.5]),\n",
       "  array([4.8, 3.4, 1.9, 0.2]),\n",
       "  array([5. , 3. , 1.6, 0.2]),\n",
       "  array([5. , 3.4, 1.6, 0.4]),\n",
       "  array([5.2, 3.5, 1.5, 0.2]),\n",
       "  array([5.2, 3.4, 1.4, 0.2]),\n",
       "  array([4.7, 3.2, 1.6, 0.2]),\n",
       "  array([4.8, 3.1, 1.6, 0.2]),\n",
       "  array([5.4, 3.4, 1.5, 0.4]),\n",
       "  array([5.2, 4.1, 1.5, 0.1]),\n",
       "  array([5.5, 4.2, 1.4, 0.2]),\n",
       "  array([4.9, 3.1, 1.5, 0.2]),\n",
       "  array([5. , 3.2, 1.2, 0.2]),\n",
       "  array([5.5, 3.5, 1.3, 0.2]),\n",
       "  array([4.9, 3.6, 1.4, 0.1]),\n",
       "  array([4.4, 3. , 1.3, 0.2]),\n",
       "  array([5.1, 3.4, 1.5, 0.2]),\n",
       "  array([5. , 3.5, 1.3, 0.3]),\n",
       "  array([4.5, 2.3, 1.3, 0.3]),\n",
       "  array([4.4, 3.2, 1.3, 0.2]),\n",
       "  array([5. , 3.5, 1.6, 0.6]),\n",
       "  array([5.1, 3.8, 1.9, 0.4]),\n",
       "  array([4.8, 3. , 1.4, 0.3]),\n",
       "  array([5.1, 3.8, 1.6, 0.2]),\n",
       "  array([4.6, 3.2, 1.4, 0.2]),\n",
       "  array([5.3, 3.7, 1.5, 0.2]),\n",
       "  array([5. , 3.3, 1.4, 0.2])]]"
      ]
     },
     "execution_count": 5,
     "metadata": {},
     "output_type": "execute_result"
    }
   ],
   "source": [
    "iris_k = k_means(iris['data'],3)\n",
    "iris_k.k_means_repeat()"
   ]
  }
 ],
 "metadata": {
  "kernelspec": {
   "display_name": "Python 3",
   "language": "python",
   "name": "python3"
  },
  "language_info": {
   "codemirror_mode": {
    "name": "ipython",
    "version": 3
   },
   "file_extension": ".py",
   "mimetype": "text/x-python",
   "name": "python",
   "nbconvert_exporter": "python",
   "pygments_lexer": "ipython3",
   "version": "3.8.8"
  }
 },
 "nbformat": 4,
 "nbformat_minor": 5
}
