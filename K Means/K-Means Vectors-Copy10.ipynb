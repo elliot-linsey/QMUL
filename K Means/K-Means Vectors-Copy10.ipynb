{
 "cells": [
  {
   "cell_type": "code",
   "execution_count": 46,
   "id": "9e8880a4",
   "metadata": {},
   "outputs": [
    {
     "name": "stdout",
     "output_type": "stream",
     "text": [
      "1\n",
      "2\n"
     ]
    }
   ],
   "source": [
    "import numpy as np\n",
    "import functools\n",
    "import time\n",
    "from matplotlib import pyplot as plt\n",
    "from sklearn import datasets\n",
    "\n",
    "data = np.array([[1,5],\n",
    "                [3,6],\n",
    "                [4,2],\n",
    "                [3,7],\n",
    "                [5,8],\n",
    "                [25,31],\n",
    "                [27,33],\n",
    "                [23,25],\n",
    "                [31,28],\n",
    "                [33,31],\n",
    "                [55,54],\n",
    "                [59,51],\n",
    "                [63,65],\n",
    "                [56,62],\n",
    "                [61,61]])\n",
    "\n",
    "data_1d = np.array([1,5,3,2,6,25,26,24,27,28,53,52,50,49,51])\n",
    "print(data_1d.ndim)\n",
    "print(data.ndim)\n",
    "#data_1d = data_1d.reshape(-1,1)\n",
    "#stack = np.column_stack([data_1d.reshape(-1,1),np.zeros(np.shape(data_1d))])\n",
    "#stack"
   ]
  },
  {
   "cell_type": "code",
   "execution_count": 2,
   "id": "17657a0e",
   "metadata": {},
   "outputs": [],
   "source": [
    "# def timer(func):\n",
    "#     @functools.wraps(func)\n",
    "#     def wrapper_timer(*args, **kwargs):\n",
    "#         start = time.perf_counter()\n",
    "#         #'value' is the function being timed\n",
    "#         value = func(*args, **kwargs)\n",
    "#         end = time.perf_counter()\n",
    "#         print(f'Finished {func.__name__!r} in {end-start:.8f} seconds!')\n",
    "#         return value\n",
    "#     return wrapper_timer"
   ]
  },
  {
   "cell_type": "code",
   "execution_count": 33,
   "id": "a117d501",
   "metadata": {},
   "outputs": [
    {
     "data": {
      "image/png": "[encoded data removed]",
      "text/plain": [
       "<Figure size 432x288 with 1 Axes>"
      ]
     },
     "metadata": {
      "needs_background": "light"
     },
     "output_type": "display_data"
    }
   ],
   "source": [
    "class k_means():\n",
    "    def __init__(self, data, k):\n",
    "        self.data = data\n",
    "        self.k = k\n",
    "    def ini_centroids(self, data, k):\n",
    "        lst = []\n",
    "        data_len = len(self.data)\n",
    "        choices = np.random.choice(range(data_len), size=self.k, replace=False)\n",
    "        for i in choices:\n",
    "            lst.append([self.data[i]])\n",
    "        #print('centroids = ' + str(lst))\n",
    "        #print([i[0] for i in lst])\n",
    "        return [i[0] for i in lst]\n",
    "    def clusters(self,centroids):\n",
    "        #print('cluster centroids = ' + str(centroids))\n",
    "        cluster_vals = [[] for i in range(len(centroids))]\n",
    "        #print(cluster_vals)\n",
    "        for y in self.data:\n",
    "            distances = []\n",
    "            for x in centroids:\n",
    "                distances.append(np.linalg.norm(y - x))\n",
    "            #print(distances)\n",
    "            idx = distances.index(min(distances))\n",
    "            #print(idx)\n",
    "            cluster_vals[idx].append(y)\n",
    "        for i in range(len(cluster_vals)):\n",
    "            if len(cluster_vals[i]) == 0:\n",
    "                cluster_vals[i].append(centroids[i])\n",
    "        #print(cluster_vals)               \n",
    "        return cluster_vals\n",
    "    def update(self,clust_vals):\n",
    "        cluster_means = []\n",
    "        for x in clust_vals:\n",
    "            cluster_means.append(sum(x[::])/len(x))\n",
    "            #print('x = ' + str(x))\n",
    "        #print('means = ' + str(cluster_means))\n",
    "        return self.clusters(cluster_means)\n",
    "    #@timer\n",
    "    def k_means_func(self):\n",
    "        centroids = self.ini_centroids(self.data, self.k)\n",
    "        cluster_values = self.clusters(centroids)\n",
    "        updates = self.update(cluster_values)\n",
    "        count = 0\n",
    "        for i in range(len(updates)):\n",
    "            if not np.array_equal(np.round(updates[i][0],3), np.round(self.update(updates)[i][0],3)):\n",
    "                count += 1\n",
    "                updates = self.update(updates)\n",
    "                #print(updates)\n",
    "        #print('It took ' + str(count) + ' cycles!')\n",
    "        return updates\n",
    "    def k_means_repeat(self):\n",
    "        clusters = []\n",
    "        variances = []\n",
    "        for r in range(10):\n",
    "            clusters.append(self.k_means_func())\n",
    "        for x in clusters:\n",
    "            count = 0\n",
    "            for i in range(self.k):\n",
    "                count += np.var(x[i])\n",
    "                #print(np.var(x[i]))\n",
    "            #print(count)\n",
    "            variances.append(count)\n",
    "        #print(variances)\n",
    "        return clusters[variances.index(np.min(variances))]\n",
    "    def plot(self):\n",
    "        test_plot = self.k_means_func()\n",
    "        test_array = np.array([np.array(xi) for xi in test_plot],dtype=object)\n",
    "        #print('test array = ' + str(np.mean(test_array[0][:,0])))\n",
    "        colors = ['red','green','blue','purple','orange','brown','pink','olive','cyan','gray']\n",
    "        for i in range(self.k):\n",
    "            plt.scatter(test_array[i][:,0], test_array[i][:,1], color = colors[i])\n",
    "            plt.scatter(np.mean(test_array[i][:,0]), np.mean(test_array[i][:,1]), marker='x', s=80, color=colors[i])\n",
    "        return plt.show()\n",
    "    def plot_2(self):\n",
    "        test_plot = self.k_means_repeat()\n",
    "        #print(test_plot)\n",
    "        test_array = np.array([np.array(xi) for xi in test_plot],dtype=object)\n",
    "        #print(test_array)\n",
    "        colors = ['red','green','blue','purple','orange','brown','pink','olive','cyan','gray']\n",
    "        if self.data.ndim != 1:\n",
    "            for i in range(self.k):\n",
    "                plt.scatter(test_array[i][:,0], test_array[i][:,1], color = colors[i])\n",
    "                plt.scatter(np.mean(test_array[i][:,0]), np.mean(test_array[i][:,1]), marker='x', s=80, color=colors[i])\n",
    "        else:\n",
    "            for i in range(self.k):\n",
    "                plt.plot(test_plot[i], [0]*len(test_plot[i]), 'o',color = colors[i])\n",
    "                plt.plot(np.mean(test_plot[i]), [0],'x', markersize=15,color = colors[i])\n",
    "        return plt.show()\n",
    "        \n",
    "test = k_means(data, 3)    \n",
    "#test.k_means_repeat()\n",
    "\n",
    "test.plot_2()"
   ]
  },
  {
   "cell_type": "code",
   "execution_count": 41,
   "id": "ebeb802b",
   "metadata": {},
   "outputs": [
    {
     "data": {
      "image/png": "[encoded data removed]",
      "text/plain": [
       "<Figure size 432x288 with 1 Axes>"
      ]
     },
     "metadata": {
      "needs_background": "light"
     },
     "output_type": "display_data"
    }
   ],
   "source": [
    "one_d = k_means(data_1d,3)\n",
    "one_d.plot_2()"
   ]
  },
  {
   "cell_type": "code",
   "execution_count": null,
   "id": "ac470b23",
   "metadata": {},
   "outputs": [],
   "source": []
  },
  {
   "cell_type": "code",
   "execution_count": 5,
   "id": "6cedf96d",
   "metadata": {},
   "outputs": [],
   "source": [
    "iris = datasets.load_iris()\n",
    "#iris['data']"
   ]
  },
  {
   "cell_type": "code",
   "execution_count": 6,
   "id": "999553a0",
   "metadata": {},
   "outputs": [
    {
     "data": {
      "text/html": [
       "<div>\n",
       "<style scoped>\n",
       "    .dataframe tbody tr th:only-of-type {\n",
       "        vertical-align: middle;\n",
       "    }\n",
       "\n",
       "    .dataframe tbody tr th {\n",
       "        vertical-align: top;\n",
       "    }\n",
       "\n",
       "    .dataframe thead th {\n",
       "        text-align: right;\n",
       "    }\n",
       "</style>\n",
       "<table border=\"1\" class=\"dataframe\">\n",
       "  <thead>\n",
       "    <tr style=\"text-align: right;\">\n",
       "      <th></th>\n",
       "      <th>pc1</th>\n",
       "      <th>pc2</th>\n",
       "    </tr>\n",
       "  </thead>\n",
       "  <tbody>\n",
       "    <tr>\n",
       "      <th>1</th>\n",
       "      <td>-2.684126</td>\n",
       "      <td>0.319397</td>\n",
       "    </tr>\n",
       "    <tr>\n",
       "      <th>2</th>\n",
       "      <td>-2.714142</td>\n",
       "      <td>-0.177001</td>\n",
       "    </tr>\n",
       "    <tr>\n",
       "      <th>3</th>\n",
       "      <td>-2.888991</td>\n",
       "      <td>-0.144949</td>\n",
       "    </tr>\n",
       "    <tr>\n",
       "      <th>4</th>\n",
       "      <td>-2.745343</td>\n",
       "      <td>-0.318299</td>\n",
       "    </tr>\n",
       "    <tr>\n",
       "      <th>5</th>\n",
       "      <td>-2.728717</td>\n",
       "      <td>0.326755</td>\n",
       "    </tr>\n",
       "    <tr>\n",
       "      <th>...</th>\n",
       "      <td>...</td>\n",
       "      <td>...</td>\n",
       "    </tr>\n",
       "    <tr>\n",
       "      <th>146</th>\n",
       "      <td>1.944110</td>\n",
       "      <td>0.187532</td>\n",
       "    </tr>\n",
       "    <tr>\n",
       "      <th>147</th>\n",
       "      <td>1.527167</td>\n",
       "      <td>-0.375317</td>\n",
       "    </tr>\n",
       "    <tr>\n",
       "      <th>148</th>\n",
       "      <td>1.764346</td>\n",
       "      <td>0.078859</td>\n",
       "    </tr>\n",
       "    <tr>\n",
       "      <th>149</th>\n",
       "      <td>1.900942</td>\n",
       "      <td>0.116628</td>\n",
       "    </tr>\n",
       "    <tr>\n",
       "      <th>150</th>\n",
       "      <td>1.390189</td>\n",
       "      <td>-0.282661</td>\n",
       "    </tr>\n",
       "  </tbody>\n",
       "</table>\n",
       "<p>150 rows × 2 columns</p>\n",
       "</div>"
      ],
      "text/plain": [
       "          pc1       pc2\n",
       "1   -2.684126  0.319397\n",
       "2   -2.714142 -0.177001\n",
       "3   -2.888991 -0.144949\n",
       "4   -2.745343 -0.318299\n",
       "5   -2.728717  0.326755\n",
       "..        ...       ...\n",
       "146  1.944110  0.187532\n",
       "147  1.527167 -0.375317\n",
       "148  1.764346  0.078859\n",
       "149  1.900942  0.116628\n",
       "150  1.390189 -0.282661\n",
       "\n",
       "[150 rows x 2 columns]"
      ]
     },
     "execution_count": 6,
     "metadata": {},
     "output_type": "execute_result"
    }
   ],
   "source": [
    "from sklearn.decomposition import PCA\n",
    "import pandas as pd\n",
    "numComponents = 2\n",
    "pca = PCA(n_components=numComponents)\n",
    "pca.fit(iris['data'])\n",
    "\n",
    "projected = pca.transform(iris['data'])\n",
    "projected = pd.DataFrame(projected,columns=['pc1','pc2'],index=range(1,len(iris['data'])+1))\n",
    "projected"
   ]
  },
  {
   "cell_type": "code",
   "execution_count": 45,
   "id": "08c9710c",
   "metadata": {},
   "outputs": [
    {
     "data": {
      "image/png": "[encoded data removed]",
      "text/plain": [
       "<Figure size 432x288 with 1 Axes>"
      ]
     },
     "metadata": {
      "needs_background": "light"
     },
     "output_type": "display_data"
    }
   ],
   "source": [
    "projected_np = projected.to_numpy()\n",
    "projected_np\n",
    "projected_k = k_means(projected_np,3)\n",
    "projected_k.plot_2()\n"
   ]
  }
 ],
 "metadata": {
  "kernelspec": {
   "display_name": "Python 3",
   "language": "python",
   "name": "python3"
  },
  "language_info": {
   "codemirror_mode": {
    "name": "ipython",
    "version": 3
   },
   "file_extension": ".py",
   "mimetype": "text/x-python",
   "name": "python",
   "nbconvert_exporter": "python",
   "pygments_lexer": "ipython3",
   "version": "3.8.8"
  }
 },
 "nbformat": 4,
 "nbformat_minor": 5
}
