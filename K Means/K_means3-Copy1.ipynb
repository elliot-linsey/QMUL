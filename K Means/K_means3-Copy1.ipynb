{
 "cells": [
  {
   "cell_type": "code",
   "execution_count": 1,
   "metadata": {},
   "outputs": [],
   "source": [
    "import numpy as np"
   ]
  },
  {
   "cell_type": "markdown",
   "metadata": {},
   "source": [
    "This is a very simple version of K means clustering using a 1-Dimensional array."
   ]
  },
  {
   "cell_type": "code",
   "execution_count": 2,
   "metadata": {},
   "outputs": [],
   "source": [
    "data = np.array([23,34,43,26,41,78,86,68,97,76,150,135,160,125,144])"
   ]
  },
  {
   "cell_type": "markdown",
   "metadata": {},
   "source": [
    " We choose the initial random centroids from the data array."
   ]
  },
  {
   "cell_type": "code",
   "execution_count": 3,
   "metadata": {},
   "outputs": [
    {
     "name": "stdout",
     "output_type": "stream",
     "text": [
      "(23, 76, 26)\n"
     ]
    }
   ],
   "source": [
    "def ini_choose_centroids(data, k):\n",
    "    x,y,z = np.random.choice(data, size=k, replace=False)\n",
    "    return x,y,z\n",
    "\n",
    "print(ini_choose_centroids(data))\n",
    "\n"
   ]
  },
  {
   "cell_type": "markdown",
   "metadata": {},
   "source": [
    "Using these centroids, we find the lowest absolute differences from points in the data to the centroids. We then append the corresponding points to the corresponding cluster. If the centroids that have been chosen leave a cluster empty, we randomise them again and repeat the process so that all clusters have at least 1 value to provide a mean. "
   ]
  },
  {
   "cell_type": "code",
   "execution_count": 4,
   "metadata": {},
   "outputs": [
    {
     "name": "stdout",
     "output_type": "stream",
     "text": [
      "([34], [43, 41, 78, 86, 68, 97, 76, 150, 135, 160, 125, 144], [23, 26])\n"
     ]
    }
   ],
   "source": [
    "\n",
    "def cluster_values(centroid1, centroid2, centroid3):\n",
    "    cluster1 = []\n",
    "    cluster2 = []\n",
    "    cluster3 = []\n",
    "    #print(ini_choose_centroids(data)[0])\n",
    "    for i in range(len(data)):\n",
    "        if abs(centroid1 - data[i]) < abs(centroid2 - data[i]) and abs(centroid1 - data[i]) < abs(centroid3 - data[i]):\n",
    "            cluster1.append(data[i])\n",
    "        elif abs(centroid2 - data[i]) < abs(centroid1 - data[i]) and abs(centroid2 - data[i]) < abs(centroid3 - data[i]):\n",
    "            cluster2.append(data[i])\n",
    "        else:\n",
    "            cluster3.append(data[i])\n",
    "    if len(cluster1) == 0 or len(cluster2) == 0 or len(cluster3) == 0:\n",
    "        return cluster_values(ini_choose_centroids(data)[0], ini_choose_centroids(data)[1], ini_choose_centroids(data)[2])\n",
    "    return cluster1, cluster2, cluster3\n",
    "print(cluster_values(ini_choose_centroids(data)[0], ini_choose_centroids(data)[1], ini_choose_centroids(data)[2]))"
   ]
  },
  {
   "cell_type": "markdown",
   "metadata": {},
   "source": [
    "We use this to calculate and then update the cluster means. Once the means have been calculated, they are fed back into the cluster_values function and act as the new centroids. "
   ]
  },
  {
   "cell_type": "code",
   "execution_count": 5,
   "metadata": {},
   "outputs": [
    {
     "name": "stdout",
     "output_type": "stream",
     "text": [
      "mean = 33.4\n",
      "mean = 77.0\n",
      "mean = 135.16666666666666\n",
      "([23, 34, 43, 26, 41], [78, 86, 68, 97, 76], [150, 135, 160, 125, 144])\n"
     ]
    }
   ],
   "source": [
    "def update(cluster_1, cluster_2, cluster_3, ):\n",
    "    clust_mean1 = np.mean(cluster_1)\n",
    "    clust_mean2 = np.mean(cluster_2)\n",
    "    clust_mean3 = np.mean(cluster_3)\n",
    "    print('mean = ' + str(clust_mean1))\n",
    "    print('mean = ' + str(clust_mean2))\n",
    "    print('mean = ' + str(clust_mean3))\n",
    "    return cluster_values(clust_mean1, clust_mean2, clust_mean3)\n",
    "\n",
    "print(update([23, 34, 43, 26, 41], [78, 86, 68, 76], [97, 150, 135, 160, 125, 144]))"
   ]
  },
  {
   "cell_type": "markdown",
   "metadata": {},
   "source": [
    "Here is the full function. It chooses the centroids and creates the initial clusters. It then finds and updates the means of the clusters and feeds them back to the clustering function. Then, within a loop that runs 9 times (for a total of 10), it repeats this process and hopefully by the end the data means do not move and the optimal clustering has been achieved. "
   ]
  },
  {
   "cell_type": "code",
   "execution_count": 6,
   "metadata": {},
   "outputs": [
    {
     "name": "stdout",
     "output_type": "stream",
     "text": [
      "mean = 102.66666666666667\n",
      "mean = 48.625\n",
      "mean = 147.25\n",
      "([78, 86, 97, 76], [23, 34, 43, 26, 41, 68], [150, 135, 160, 125, 144])\n",
      "mean = 84.25\n",
      "mean = 39.166666666666664\n",
      "mean = 142.8\n",
      "([78, 86, 68, 97, 76], [23, 34, 43, 26, 41], [150, 135, 160, 125, 144])\n",
      "mean = 81.0\n",
      "mean = 33.4\n",
      "mean = 142.8\n",
      "([78, 86, 68, 97, 76], [23, 34, 43, 26, 41], [150, 135, 160, 125, 144])\n",
      "mean = 81.0\n",
      "mean = 33.4\n",
      "mean = 142.8\n",
      "([78, 86, 68, 97, 76], [23, 34, 43, 26, 41], [150, 135, 160, 125, 144])\n",
      "mean = 81.0\n",
      "mean = 33.4\n",
      "mean = 142.8\n",
      "([78, 86, 68, 97, 76], [23, 34, 43, 26, 41], [150, 135, 160, 125, 144])\n",
      "mean = 81.0\n",
      "mean = 33.4\n",
      "mean = 142.8\n",
      "([78, 86, 68, 97, 76], [23, 34, 43, 26, 41], [150, 135, 160, 125, 144])\n",
      "mean = 81.0\n",
      "mean = 33.4\n",
      "mean = 142.8\n",
      "([78, 86, 68, 97, 76], [23, 34, 43, 26, 41], [150, 135, 160, 125, 144])\n",
      "mean = 81.0\n",
      "mean = 33.4\n",
      "mean = 142.8\n",
      "([78, 86, 68, 97, 76], [23, 34, 43, 26, 41], [150, 135, 160, 125, 144])\n",
      "mean = 81.0\n",
      "mean = 33.4\n",
      "mean = 142.8\n",
      "([78, 86, 68, 97, 76], [23, 34, 43, 26, 41], [150, 135, 160, 125, 144])\n",
      "mean = 81.0\n",
      "mean = 33.4\n",
      "mean = 142.8\n",
      "([78, 86, 68, 97, 76], [23, 34, 43, 26, 41], [150, 135, 160, 125, 144])\n"
     ]
    }
   ],
   "source": [
    "def k_means():\n",
    "    centroids = ini_choose_centroids(data)\n",
    "    clusters = cluster_values(centroids[0], centroids[1], centroids[2])\n",
    "    updates = update(clusters[0],clusters[1],clusters[2])\n",
    "    for i in range(9):\n",
    "        print(updates)\n",
    "        updates = update(updates[0], updates[1], updates[2])\n",
    "    return updates\n",
    "print(k_means())"
   ]
  },
  {
   "cell_type": "markdown",
   "metadata": {},
   "source": [
    "The optimal means appear to be 142.8, 33.4 and 81.0 with clusters of [150, 135, 160, 125, 144], [23, 34, 43, 26, 41] and [78, 86, 68, 97, 76]"
   ]
  },
  {
   "cell_type": "code",
   "execution_count": null,
   "metadata": {},
   "outputs": [],
   "source": []
  }
 ],
 "metadata": {
  "kernelspec": {
   "display_name": "Python 3",
   "language": "python",
   "name": "python3"
  },
  "language_info": {
   "codemirror_mode": {
    "name": "ipython",
    "version": 3
   },
   "file_extension": ".py",
   "mimetype": "text/x-python",
   "name": "python",
   "nbconvert_exporter": "python",
   "pygments_lexer": "ipython3",
   "version": "3.8.5"
  }
 },
 "nbformat": 4,
 "nbformat_minor": 4
}
