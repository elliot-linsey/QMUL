{
 "cells": [
  {
   "cell_type": "code",
   "execution_count": 3,
   "id": "9e8880a4",
   "metadata": {},
   "outputs": [],
   "source": [
    "import numpy as np\n",
    "data=(np.array([1,5]), np.array([3,6]), np.array([4,2]), np.array([3,7]), np.array([5,8]),\n",
    "                                    np.array([25,31]), np.array([27,33]), np.array([23,25]), np.array([31,28]), np.array([33,31]),\n",
    "                                    np.array([55,54]), np.array([59,51]), np.array([63,65]), np.array([56,62]), np.array([61,61]))"
   ]
  },
  {
   "cell_type": "code",
   "execution_count": 143,
   "id": "59943f3f",
   "metadata": {
    "scrolled": true
   },
   "outputs": [
    {
     "name": "stdout",
     "output_type": "stream",
     "text": [
      "[array([23, 25]), array([56, 62])]\n",
      "[[array([23, 25])], [array([56, 62])]]\n",
      "[[array([1, 5]), array([3, 6]), array([4, 2]), array([3, 7]), array([5, 8]), array([25, 31]), array([27, 33]), array([23, 25]), array([31, 28]), array([33, 31])], [array([55, 54]), array([59, 51]), array([63, 65]), array([56, 62]), array([61, 61])]]\n"
     ]
    }
   ],
   "source": [
    "def ini_centroids(data, k):\n",
    "        lst = []\n",
    "        data_len = len(data)\n",
    "        choices = np.random.choice(range(data_len), size=k, replace=False)\n",
    "        for i in choices:\n",
    "            lst.append([data[i]])\n",
    "        return [i[0] for i in lst]\n",
    "\n",
    "    \n",
    "#print(ini_centroids(data=(np.array([1,5]), np.array([3,6]), np.array([2,5])),k=2))\n",
    "ini_centroids = ini_centroids(data=(np.array([1,5]), np.array([3,6]), np.array([4,2]), np.array([3,7]), np.array([5,8]),\n",
    "                                    np.array([25,31]), np.array([27,33]), np.array([23,25]), np.array([31,28]), np.array([33,31]),\n",
    "                                    np.array([55,54]), np.array([59,51]), np.array([63,65]), np.array([56,62]), np.array([61,61])),k=2)\n",
    "print(ini_centroids)\n",
    "def clusters(centroids):\n",
    "        cluster_vals = []\n",
    "        for i in range(len(centroids)):\n",
    "            cluster_vals.append([centroids[i]])\n",
    "        print(cluster_vals)\n",
    "        for y in data:\n",
    "            distances = []\n",
    "            for i in range(len(cluster_vals)):\n",
    "                distances.append(np.linalg.norm(y - cluster_vals[i][0]))\n",
    "            #print(distances)\n",
    "            idx = distances.index(min(distances))\n",
    "            cluster_vals[idx].append(y)\n",
    "        for x in cluster_vals:\n",
    "            for i in range(len(x)):\n",
    "                for c in range(len(centroids)):\n",
    "                    if np.array_equal(x[0], centroids[c]):\n",
    "                        x.remove(x[0])\n",
    "                        \n",
    "        return cluster_vals\n",
    "\n",
    "print(clusters(ini_centroids))"
   ]
  },
  {
   "cell_type": "code",
   "execution_count": 139,
   "id": "992c856b",
   "metadata": {},
   "outputs": [
    {
     "name": "stdout",
     "output_type": "stream",
     "text": [
      "[ True  True]\n"
     ]
    }
   ],
   "source": [
    "a = np.array([1,5])\n",
    "b = np.array([1,5])\n",
    "\n",
    "print(a==b)"
   ]
  },
  {
   "cell_type": "code",
   "execution_count": 44,
   "id": "dc8b5a92",
   "metadata": {},
   "outputs": [
    {
     "name": "stdout",
     "output_type": "stream",
     "text": [
      "true\n",
      "false\n",
      "false\n",
      "false\n"
     ]
    },
    {
     "ename": "ValueError",
     "evalue": "The truth value of an array with more than one element is ambiguous. Use a.any() or a.all()",
     "output_type": "error",
     "traceback": [
      "\u001b[1;31m---------------------------------------------------------------------------\u001b[0m",
      "\u001b[1;31mValueError\u001b[0m                                Traceback (most recent call last)",
      "\u001b[1;32m<ipython-input-44-639ff4189bf2>\u001b[0m in \u001b[0;36m<module>\u001b[1;34m\u001b[0m\n\u001b[0;32m      6\u001b[0m         \u001b[0mprint\u001b[0m\u001b[1;33m(\u001b[0m\u001b[1;34m'true'\u001b[0m\u001b[1;33m)\u001b[0m\u001b[1;33m\u001b[0m\u001b[1;33m\u001b[0m\u001b[0m\n\u001b[0;32m      7\u001b[0m     \u001b[0mprint\u001b[0m\u001b[1;33m(\u001b[0m\u001b[1;34m'false'\u001b[0m\u001b[1;33m)\u001b[0m\u001b[1;33m\u001b[0m\u001b[1;33m\u001b[0m\u001b[0m\n\u001b[1;32m----> 8\u001b[1;33m \u001b[0marray_list\u001b[0m\u001b[1;33m.\u001b[0m\u001b[0mremove\u001b[0m\u001b[1;33m(\u001b[0m\u001b[0mx\u001b[0m\u001b[1;33m)\u001b[0m\u001b[1;33m\u001b[0m\u001b[1;33m\u001b[0m\u001b[0m\n\u001b[0m\u001b[0;32m      9\u001b[0m \u001b[0marray_list\u001b[0m\u001b[1;33m\u001b[0m\u001b[1;33m\u001b[0m\u001b[0m\n",
      "\u001b[1;31mValueError\u001b[0m: The truth value of an array with more than one element is ambiguous. Use a.any() or a.all()"
     ]
    }
   ],
   "source": [
    "array_list = [np.array([25, 31]), np.array([31,28]), np.array([23,25])]\n",
    "num = np.array([25,31])\n",
    "\n",
    "for x in array_list:\n",
    "    if np.array_equal(x,num):\n",
    "        print('true')\n",
    "    print('false')\n",
    "array_list.remove(x)\n",
    "array_list"
   ]
  },
  {
   "cell_type": "code",
   "execution_count": 145,
   "id": "68a39839",
   "metadata": {},
   "outputs": [
    {
     "data": {
      "text/plain": [
       "[array([31, 28]), array([23, 25])]"
      ]
     },
     "execution_count": 145,
     "metadata": {},
     "output_type": "execute_result"
    }
   ],
   "source": [
    "for i in range(len(array_list)):\n",
    "    #print(array_list[i])\n",
    "    if np.array_equal(array_list[i],num):\n",
    "        print('true')\n",
    "        array_list.remove(array_list[i])\n",
    "        \n",
    "array_list\n"
   ]
  }
 ],
 "metadata": {
  "kernelspec": {
   "display_name": "Python 3",
   "language": "python",
   "name": "python3"
  },
  "language_info": {
   "codemirror_mode": {
    "name": "ipython",
    "version": 3
   },
   "file_extension": ".py",
   "mimetype": "text/x-python",
   "name": "python",
   "nbconvert_exporter": "python",
   "pygments_lexer": "ipython3",
   "version": "3.8.8"
  }
 },
 "nbformat": 4,
 "nbformat_minor": 5
}
