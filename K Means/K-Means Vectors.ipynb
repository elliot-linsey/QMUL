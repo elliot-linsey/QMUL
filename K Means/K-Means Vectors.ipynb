{
 "cells": [
  {
   "cell_type": "code",
   "execution_count": 62,
   "id": "9e8880a4",
   "metadata": {},
   "outputs": [],
   "source": [
    "import numpy as np\n",
    "data=(np.array([1,5]), np.array([3,6]), np.array([4,2]), np.array([3,7]), np.array([5,8]),\n",
    "                                    np.array([25,31]), np.array([27,33]), np.array([23,25]), np.array([31,28]), np.array([33,31]),\n",
    "                                    np.array([55,54]), np.array([59,51]), np.array([63,65]), np.array([56,62]), np.array([61,61]))"
   ]
  },
  {
   "cell_type": "code",
   "execution_count": 73,
   "id": "59943f3f",
   "metadata": {
    "scrolled": true
   },
   "outputs": [
    {
     "name": "stdout",
     "output_type": "stream",
     "text": [
      "[array([25, 31]), array([55, 54])]\n",
      "[[array([25, 31])], [array([55, 54])]]\n",
      "[[array([1, 5]), array([3, 6]), array([4, 2]), array([3, 7]), array([5, 8]), array([25, 31]), array([27, 33]), array([23, 25]), array([31, 28]), array([33, 31])], [array([59, 51]), array([63, 65]), array([56, 62]), array([61, 61])]]\n"
     ]
    }
   ],
   "source": [
    "def ini_centroids(data, k):\n",
    "        lst = []\n",
    "        data_len = len(data)\n",
    "        choices = np.random.choice(range(data_len), size=k, replace=False)\n",
    "        for i in choices:\n",
    "            lst.append([data[i]])\n",
    "        return [i[0] for i in lst]\n",
    "\n",
    "    \n",
    "#print(ini_centroids(data=(np.array([1,5]), np.array([3,6]), np.array([2,5])),k=2))\n",
    "ini_centroids = ini_centroids(data=(np.array([1,5]), np.array([3,6]), np.array([4,2]), np.array([3,7]), np.array([5,8]),\n",
    "                                    np.array([25,31]), np.array([27,33]), np.array([23,25]), np.array([31,28]), np.array([33,31]),\n",
    "                                    np.array([55,54]), np.array([59,51]), np.array([63,65]), np.array([56,62]), np.array([61,61])),k=2)\n",
    "print(ini_centroids)\n",
    "def clusters(centroids):\n",
    "        cluster_vals = []\n",
    "        for i in range(len(centroids)):\n",
    "            cluster_vals.append([centroids[i]])\n",
    "        print(cluster_vals)\n",
    "        for y in data:\n",
    "            distances = []\n",
    "            for i in range(len(cluster_vals)):\n",
    "                distances.append(np.linalg.norm(y - cluster_vals[i][0]))\n",
    "            #print(distances)\n",
    "            idx = distances.index(min(distances))\n",
    "            cluster_vals[idx].append(y)\n",
    "        for x in cluster_vals:\n",
    "            for i in range(len(x)):\n",
    "                for c in range(len(centroids)):\n",
    "                    if np.array_equal(x[0], centroids[c]):\n",
    "                        x.remove(x[0])\n",
    "                        \n",
    "        return cluster_vals\n",
    "\n",
    "print(clusters(ini_centroids))"
   ]
  },
  {
   "cell_type": "code",
   "execution_count": 64,
   "id": "706bef8d",
   "metadata": {},
   "outputs": [
    {
     "name": "stdout",
     "output_type": "stream",
     "text": [
      "[[array([3, 7])], [array([23, 25])]]\n",
      "means = [array([3.2, 5.6]), array([43.3, 44.1])]\n",
      "[[array([3.2, 5.6])], [array([43.3, 44.1])]]\n",
      "[[array([1, 5]), array([3, 6]), array([4, 2]), array([3, 7]), array([5, 8]), array([23, 25])], [array([25, 31]), array([27, 33]), array([31, 28]), array([33, 31]), array([55, 54]), array([59, 51]), array([63, 65]), array([56, 62]), array([61, 61])]]\n"
     ]
    }
   ],
   "source": [
    "def update(clust_vals):\n",
    "    cluster_means = []\n",
    "    for x in clust_vals:\n",
    "        cluster_means.append(sum(x[::])/len(x))\n",
    "        \n",
    "    print('means = ' + str(cluster_means))\n",
    "    return clusters(cluster_means)\n",
    "    \n",
    "print(update(clusters(ini_centroids)))"
   ]
  },
  {
   "cell_type": "code",
   "execution_count": 72,
   "id": "8ca8597e",
   "metadata": {},
   "outputs": [
    {
     "name": "stdout",
     "output_type": "stream",
     "text": [
      "[array([23, 25]), array([63, 65])]\n",
      "[[array([23, 25])], [array([63, 65])]]\n",
      "[[array([1, 5]), array([3, 6]), array([4, 2]), array([3, 7]), array([5, 8]), array([25, 31]), array([27, 33]), array([23, 25]), array([31, 28]), array([33, 31])], [array([55, 54]), array([59, 51]), array([63, 65]), array([56, 62]), array([61, 61])]]\n",
      "means = [array([15.5, 17.6]), array([58.8, 58.6])]\n",
      "[[array([15.5, 17.6])], [array([58.8, 58.6])]]\n"
     ]
    },
    {
     "data": {
      "text/plain": [
       "[[array([1, 5]),\n",
       "  array([3, 6]),\n",
       "  array([4, 2]),\n",
       "  array([3, 7]),\n",
       "  array([5, 8]),\n",
       "  array([25, 31]),\n",
       "  array([27, 33]),\n",
       "  array([23, 25]),\n",
       "  array([31, 28]),\n",
       "  array([33, 31])],\n",
       " [array([55, 54]),\n",
       "  array([59, 51]),\n",
       "  array([63, 65]),\n",
       "  array([56, 62]),\n",
       "  array([61, 61])]]"
      ]
     },
     "execution_count": 72,
     "metadata": {},
     "output_type": "execute_result"
    }
   ],
   "source": [
    "centroids = ini_centroids(data, 2)\n",
    "print(centroids)\n",
    "cluster_values = clusters(centroids)\n",
    "print(cluster_values)\n",
    "updates1 = update(cluster_values)\n",
    "updates1"
   ]
  },
  {
   "cell_type": "code",
   "execution_count": null,
   "id": "992c856b",
   "metadata": {},
   "outputs": [],
   "source": [
    "a = np.array([1,5])\n",
    "b = np.array([1,5])\n",
    "\n",
    "print(a==b)"
   ]
  },
  {
   "cell_type": "code",
   "execution_count": null,
   "id": "dc8b5a92",
   "metadata": {},
   "outputs": [],
   "source": [
    "# array_list = [np.array([25, 31]), np.array([31,28]), np.array([23,25])]\n",
    "# num = np.array([25,31])\n",
    "\n",
    "# for x in array_list:\n",
    "#     if np.array_equal(x,num):\n",
    "#         print('true')\n",
    "#     print('false')\n",
    "# array_list.remove(x)\n",
    "# array_list"
   ]
  },
  {
   "cell_type": "code",
   "execution_count": null,
   "id": "68a39839",
   "metadata": {},
   "outputs": [],
   "source": [
    "# for i in range(len(array_list)):\n",
    "#     #print(array_list[i])\n",
    "#     if np.array_equal(array_list[i],num):\n",
    "#         print('true')\n",
    "#         array_list.remove(array_list[i])\n",
    "        \n",
    "# array_list\n"
   ]
  },
  {
   "cell_type": "code",
   "execution_count": null,
   "id": "304f017d",
   "metadata": {
    "scrolled": true
   },
   "outputs": [],
   "source": [
    "vector_a = np.array([5,0])\n",
    "vector_b = np.array([10,0])\n",
    "\n",
    "#print((vector_a + vector_b)/2)\n",
    "x = [[np.array([27, 33]), np.array([31, 28]), np.array([33, 31]), np.array([55, 54]), \n",
    "  np.array([59, 51]), np.array([63, 65]), np.array([56, 62]), np.array([61, 61])]]\n",
    "\n",
    "print((27 + 31 + 33 + 55 + 59 + 63 + 56 + 61)/8)\n",
    "print((33 + 28 + 31 + 54 + 51 + 65 + 62 + 61)/8)"
   ]
  },
  {
   "cell_type": "code",
   "execution_count": null,
   "id": "22b8188c",
   "metadata": {},
   "outputs": [],
   "source": [
    "#[array([27, 33]), array([31, 28]), array([33, 31]), array([55, 54]),\n",
    "  #array([59, 51]), array([63, 65]), array([56, 62]), array([61, 61])]\n",
    " \n",
    "vector_a = np.array([27,33]) \n",
    "vector_b = np.array([31,28])\n",
    "vector_c = np.array([33,31])\n",
    "vector_d = np.array([55,54])\n",
    "vector_e = np.array([59,51])\n",
    "vector_f = np.array([63,65])\n",
    "vector_g = np.array([56,62])\n",
    "vector_h = np.array([61,61])\n",
    "\n",
    "m = (vector_a + vector_b + vector_c + vector_d + vector_e + vector_f + vector_g + vector_h)/8\n",
    "m\n",
    " \n",
    " "
   ]
  }
 ],
 "metadata": {
  "kernelspec": {
   "display_name": "Python 3",
   "language": "python",
   "name": "python3"
  },
  "language_info": {
   "codemirror_mode": {
    "name": "ipython",
    "version": 3
   },
   "file_extension": ".py",
   "mimetype": "text/x-python",
   "name": "python",
   "nbconvert_exporter": "python",
   "pygments_lexer": "ipython3",
   "version": "3.8.8"
  }
 },
 "nbformat": 4,
 "nbformat_minor": 5
}
