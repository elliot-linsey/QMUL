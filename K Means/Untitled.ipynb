{
 "cells": [
  {
   "cell_type": "code",
   "execution_count": 1,
   "id": "d3172717",
   "metadata": {},
   "outputs": [],
   "source": [
    "import numpy as np"
   ]
  },
  {
   "cell_type": "code",
   "execution_count": 2,
   "id": "a539d96c",
   "metadata": {},
   "outputs": [],
   "source": [
    "a = [np.array([13,15]), np.array([23,25]), np.array([53,52])]\n",
    "b = np.array([23,25])"
   ]
  },
  {
   "cell_type": "code",
   "execution_count": 6,
   "id": "ba52e063",
   "metadata": {},
   "outputs": [],
   "source": [
    "c = np.array([23.434, 54.566])\n",
    "d = np.array([23.343, 54.678])"
   ]
  },
  {
   "cell_type": "code",
   "execution_count": 7,
   "id": "3f42df0a",
   "metadata": {},
   "outputs": [
    {
     "data": {
      "text/plain": [
       "array([23.4, 54.6])"
      ]
     },
     "execution_count": 7,
     "metadata": {},
     "output_type": "execute_result"
    }
   ],
   "source": [
    "np.round(c,1)"
   ]
  },
  {
   "cell_type": "code",
   "execution_count": 8,
   "id": "84a0478a",
   "metadata": {},
   "outputs": [
    {
     "ename": "SyntaxError",
     "evalue": "unexpected EOF while parsing (<ipython-input-8-0b23bda450ac>, line 1)",
     "output_type": "error",
     "traceback": [
      "\u001b[1;36m  File \u001b[1;32m\"<ipython-input-8-0b23bda450ac>\"\u001b[1;36m, line \u001b[1;32m1\u001b[0m\n\u001b[1;33m    if not np.array_equal(np.round(updates,3), np.round(self.update(updates),3)):\u001b[0m\n\u001b[1;37m                                                                                 ^\u001b[0m\n\u001b[1;31mSyntaxError\u001b[0m\u001b[1;31m:\u001b[0m unexpected EOF while parsing\n"
     ]
    }
   ],
   "source": [
    "if not np.array_equal(np.round(updates,3), np.round(self.update(updates),3)):"
   ]
  }
 ],
 "metadata": {
  "kernelspec": {
   "display_name": "Python 3",
   "language": "python",
   "name": "python3"
  },
  "language_info": {
   "codemirror_mode": {
    "name": "ipython",
    "version": 3
   },
   "file_extension": ".py",
   "mimetype": "text/x-python",
   "name": "python",
   "nbconvert_exporter": "python",
   "pygments_lexer": "ipython3",
   "version": "3.8.8"
  }
 },
 "nbformat": 4,
 "nbformat_minor": 5
}
