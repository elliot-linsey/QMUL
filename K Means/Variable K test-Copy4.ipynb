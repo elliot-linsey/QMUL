{
 "cells": [
  {
   "cell_type": "code",
   "execution_count": 56,
   "metadata": {},
   "outputs": [],
   "source": [
    "import numpy as np\n",
    "from matplotlib import pyplot as plt"
   ]
  },
  {
   "cell_type": "markdown",
   "metadata": {},
   "source": [
    "## K Means Algorithm - Elliot Linsey"
   ]
  },
  {
   "cell_type": "code",
   "execution_count": 57,
   "metadata": {},
   "outputs": [],
   "source": [
    "data = np.array([23,34,43,26,41,78,86,68,97,76,150,135,160,125,144])"
   ]
  },
  {
   "cell_type": "markdown",
   "metadata": {},
   "source": [
    "A small test harness for a couple of methods I plan to use. "
   ]
  },
  {
   "cell_type": "code",
   "execution_count": 58,
   "metadata": {},
   "outputs": [],
   "source": [
    "def test(data=[23,34,43,26,41]):\n",
    "    assert(sum(data)/len(data) == 33.4)\n",
    "    #centroid = 34\n",
    "    dist1 = [abs(34-23), abs(34-34), abs(34-43), abs(34-26), abs(34-41)]\n",
    "    dist2 = ([abs(x-34) for x in data])\n",
    "    assert(dist1 == dist2)\n",
    "test()"
   ]
  },
  {
   "cell_type": "markdown",
   "metadata": {},
   "source": [
    "Here is a revision of the simple k-means algorithm, this one accepts an integer (k) and will create k number of clusters. Below it randomly chooses the initial cluster centres and appends them to a list which it returns.  "
   ]
  },
  {
   "cell_type": "code",
   "execution_count": 59,
   "metadata": {},
   "outputs": [],
   "source": [
    "def ini_centroids(data, k):\n",
    "    lst = []\n",
    "    choices = np.random.choice(data, size=k, replace=False)\n",
    "    for i in range(len(choices)):\n",
    "        lst.append([choices[i]])\n",
    "    return [i[0] for i in lst]"
   ]
  },
  {
   "cell_type": "markdown",
   "metadata": {},
   "source": [
    "Below is the clustering function. It first creates a list, then appends each centroid value to a nested list within the clusters list. These nested lists are where the other cluster values will be appended to. From here, the function goes through each datapoint in data and calculates the absolute differences between the datapoint and each separate centroid. It appends these distances to a list (distances), it then finds the index of the minimum value within distances, this being the corresponding cluster that the datapoint is closest to. As both lists distances and clusters have the same length, we can then append the datapoint to the corresponding cluster. So if distances[2] had the minimum value, we would append the datapoint to cluster_vals[2].\\\n",
    "Due to the fact that it is going over every datapoint again, including the initial randomly selected centroids, each cluster will inevitably append a duplicate of its initial centroid to itself. To correct this, we search through the clusters and remove one instance of the initial centroid from each corresponding cluster."
   ]
  },
  {
   "cell_type": "code",
   "execution_count": 60,
   "metadata": {},
   "outputs": [],
   "source": [
    "def clusters(centroids):\n",
    "    cluster_vals = []\n",
    "    \n",
    "    for i in range(len(centroids)):\n",
    "        cluster_vals.append([centroids[i]])\n",
    "    #print(cluster_vals)\n",
    "    for y in data:\n",
    "        distances = []\n",
    "        for i in range(len(cluster_vals)):\n",
    "            \n",
    "            distances.append(abs(y - cluster_vals[i][0]))\n",
    "            \n",
    "        #print(distances)\n",
    "        idx = distances.index(min(distances))\n",
    "        cluster_vals[idx].append(y)\n",
    "    \n",
    "    for x in cluster_vals:\n",
    "        #print(x)\n",
    "        for y in centroids:\n",
    "            if y in x:\n",
    "                x.remove(y)\n",
    "    \n",
    "        \n",
    "            \n",
    "    return cluster_vals"
   ]
  },
  {
   "cell_type": "code",
   "execution_count": 61,
   "metadata": {},
   "outputs": [
    {
     "name": "stdout",
     "output_type": "stream",
     "text": [
      "[76, 34, 160]\n"
     ]
    }
   ],
   "source": [
    "centroids = ini_centroids(data, 3)\n",
    "print(centroids)"
   ]
  },
  {
   "cell_type": "code",
   "execution_count": 62,
   "metadata": {
    "scrolled": true
   },
   "outputs": [
    {
     "name": "stdout",
     "output_type": "stream",
     "text": [
      "[[78, 86, 68, 97, 76], [23, 34, 43, 26, 41], [150, 135, 160, 125, 144]]\n"
     ]
    }
   ],
   "source": [
    "cluster_values = clusters(centroids)\n",
    "print(cluster_values)"
   ]
  },
  {
   "cell_type": "markdown",
   "metadata": {},
   "source": [
    "This is the update function that updates the centroids using the calculated means. It loops through the completed clusters that are fed to it and returns a list of the means from each cluster."
   ]
  },
  {
   "cell_type": "code",
   "execution_count": 63,
   "metadata": {},
   "outputs": [
    {
     "name": "stdout",
     "output_type": "stream",
     "text": [
      "means = [81.0, 33.4, 142.8]\n"
     ]
    }
   ],
   "source": [
    "def update(clust_vals):\n",
    "    cluster_means = []\n",
    "    for x in clust_vals:\n",
    "        cluster_means.append(np.mean(x))\n",
    "    print('means = ' + str(cluster_means))\n",
    "    return clusters(cluster_means)\n",
    "    \n",
    "\n",
    "updates1 = update(cluster_values)"
   ]
  },
  {
   "cell_type": "markdown",
   "metadata": {},
   "source": [
    "This is the full function, it takes a data array and k number as parameters which can be adjusted. It first initialises the centroids then creates initial clusters based on them. From here it updates the first cluster_values to generate a mean and feeds these back as new centroids into the clusters function. It then repeats this process 9 times, each time feeding the updated data back to itself to generate closer clusters and more stable means. By the end of this process the means have usually stabilised and the clustering process is complete. However, due to the random nature of choosing the initial centroids the whole process can be repeated again until the optimum means and clusters have been achieved. "
   ]
  },
  {
   "cell_type": "code",
   "execution_count": 64,
   "metadata": {},
   "outputs": [],
   "source": [
    "def k_means(data,k):\n",
    "    centroids = ini_centroids(data, k)\n",
    "    cluster_values = clusters(centroids)\n",
    "    updates = update(cluster_values)\n",
    "    for i in range(9):\n",
    "        print(updates)\n",
    "        updates = update(updates)\n",
    "    return updates\n",
    "#print(k_means(data,3))"
   ]
  },
  {
   "cell_type": "code",
   "execution_count": 65,
   "metadata": {},
   "outputs": [
    {
     "name": "stdout",
     "output_type": "stream",
     "text": [
      "means = [81.0, 142.8, 33.4]\n",
      "[[78, 86, 68, 97, 76], [150, 135, 160, 125, 144], [23, 34, 43, 26, 41]]\n",
      "means = [81.0, 142.8, 33.4]\n",
      "[[78, 86, 68, 97, 76], [150, 135, 160, 125, 144], [23, 34, 43, 26, 41]]\n",
      "means = [81.0, 142.8, 33.4]\n",
      "[[78, 86, 68, 97, 76], [150, 135, 160, 125, 144], [23, 34, 43, 26, 41]]\n",
      "means = [81.0, 142.8, 33.4]\n",
      "[[78, 86, 68, 97, 76], [150, 135, 160, 125, 144], [23, 34, 43, 26, 41]]\n",
      "means = [81.0, 142.8, 33.4]\n",
      "[[78, 86, 68, 97, 76], [150, 135, 160, 125, 144], [23, 34, 43, 26, 41]]\n",
      "means = [81.0, 142.8, 33.4]\n",
      "[[78, 86, 68, 97, 76], [150, 135, 160, 125, 144], [23, 34, 43, 26, 41]]\n",
      "means = [81.0, 142.8, 33.4]\n",
      "[[78, 86, 68, 97, 76], [150, 135, 160, 125, 144], [23, 34, 43, 26, 41]]\n",
      "means = [81.0, 142.8, 33.4]\n",
      "[[78, 86, 68, 97, 76], [150, 135, 160, 125, 144], [23, 34, 43, 26, 41]]\n",
      "means = [81.0, 142.8, 33.4]\n",
      "[[78, 86, 68, 97, 76], [150, 135, 160, 125, 144], [23, 34, 43, 26, 41]]\n",
      "means = [81.0, 142.8, 33.4]\n"
     ]
    },
    {
     "data": {
      "text/plain": [
       "[[78, 86, 68, 97, 76], [150, 135, 160, 125, 144], [23, 34, 43, 26, 41]]"
      ]
     },
     "execution_count": 65,
     "metadata": {},
     "output_type": "execute_result"
    }
   ],
   "source": [
    "k_mean = k_means(data,3)\n",
    "k_mean"
   ]
  },
  {
   "cell_type": "markdown",
   "metadata": {},
   "source": [
    "Below I add a visualisation element to my algorithm. It goes through each list from the k_mean function and plots them all separately so they are different colours. [0]\\*len(k_mean[i]) is used to create corresponding y values of 0 so that all points stay 1 dimensional. The means of each cluster are then plotted onto the same plot. The colours appear to be random and I haven't figured out how to make them consistent over variable k numbers, however the contrast can actually make it a little easier to see exactly where the means within the clusters are. "
   ]
  },
  {
   "cell_type": "code",
   "execution_count": 66,
   "metadata": {},
   "outputs": [
    {
     "data": {
      "image/png": "[encoded data removed]",
      "text/plain": [
       "<Figure size 432x288 with 1 Axes>"
      ]
     },
     "metadata": {
      "needs_background": "light"
     },
     "output_type": "display_data"
    }
   ],
   "source": [
    "for i in range(len(k_mean)):\n",
    "    plt.plot(k_mean[i], [0]*len(k_mean[i]), 'o')\n",
    "    plt.plot(np.mean(k_mean[i]), [0],'x', markersize=15)\n",
    "    \n"
   ]
  },
  {
   "cell_type": "markdown",
   "metadata": {},
   "source": [
    "Below I've put all the functions into a class."
   ]
  },
  {
   "cell_type": "code",
   "execution_count": 67,
   "metadata": {
    "scrolled": true
   },
   "outputs": [
    {
     "name": "stdout",
     "output_type": "stream",
     "text": [
      "means = [151.33333333333334, 39.166666666666664, 99.5]\n",
      "means = [147.25, 39.166666666666664, 92.4]\n",
      "means = [147.25, 39.166666666666664, 92.4]\n",
      "[[150, 135, 160, 125, 144], [23, 34, 43, 26, 41], [78, 86, 68, 97, 76]]\n",
      "means = [142.8, 33.4, 81.0]\n",
      "It took 1 cycles!\n"
     ]
    },
    {
     "data": {
      "image/png": "[encoded data removed]",
      "text/plain": [
       "<Figure size 432x288 with 1 Axes>"
      ]
     },
     "metadata": {
      "needs_background": "light"
     },
     "output_type": "display_data"
    }
   ],
   "source": [
    "class k_means():\n",
    "    def __init__(self, data, k):\n",
    "        self.data = data\n",
    "        self.k = k\n",
    "    def ini_centroids(self, data, k):\n",
    "        lst = []\n",
    "        choices = np.random.choice(self.data, size=self.k, replace=False)\n",
    "        for i in range(len(choices)):\n",
    "            lst.append([choices[i]])\n",
    "        return [i[0] for i in lst]\n",
    "    def clusters(self, centroids):\n",
    "        cluster_vals = []\n",
    "        for i in range(len(centroids)):\n",
    "            cluster_vals.append([centroids[i]])\n",
    "        #print(cluster_vals)\n",
    "        for y in self.data:\n",
    "            distances = []\n",
    "            for i in range(len(cluster_vals)):\n",
    "                distances.append(abs(y - cluster_vals[i][0]))\n",
    "            #print(distances)\n",
    "            idx = distances.index(min(distances))\n",
    "            cluster_vals[idx].append(y)\n",
    "        for x in cluster_vals:\n",
    "            #print(x)\n",
    "            for y in centroids:\n",
    "                if y in x:\n",
    "                    x.remove(y)\n",
    "        return cluster_vals\n",
    "    def update(self,clust_vals):\n",
    "        cluster_means = []\n",
    "        for x in clust_vals:\n",
    "            cluster_means.append(np.mean(x))\n",
    "        print('means = ' + str(cluster_means))\n",
    "        return self.clusters(cluster_means)\n",
    "    def k_means_func(self):\n",
    "        centroids = ini_centroids(self.data, self.k)\n",
    "        cluster_values = self.clusters(centroids)\n",
    "        updates = self.update(cluster_values)\n",
    "        count = 0\n",
    "        while updates != self.update(updates):\n",
    "            count += 1\n",
    "            updates = self.update(updates)\n",
    "            print(updates)\n",
    "        print('It took ' + str(count) + ' cycles!')\n",
    "        return updates\n",
    "    def plot(self):\n",
    "        k_mean = self.k_means_func()\n",
    "        for i in range(len(k_mean)):\n",
    "            plt.plot(k_mean[i], [0]*len(k_mean[i]), 'o')\n",
    "            plt.plot(np.mean(k_mean[i]), [0],'x', markersize=15)\n",
    "    \n",
    "        \n",
    "test = k_means(np.array([23,34,43,26,41,78,86,68,97,76,150,135,160,125,144]), 3)    \n",
    "test.plot()"
   ]
  },
  {
   "cell_type": "markdown",
   "metadata": {},
   "source": [
    "Here is the function being used with different k numbers."
   ]
  },
  {
   "cell_type": "code",
   "execution_count": 68,
   "metadata": {},
   "outputs": [
    {
     "name": "stdout",
     "output_type": "stream",
     "text": [
      "means = [43.0, 111.9, 24.5, 37.5]\n",
      "means = [57.0, 121.875, 24.5, 34.0]\n",
      "means = [57.0, 121.875, 24.5, 34.0]\n",
      "[[78, 86, 68, 76], [97, 150, 135, 160, 125, 144], [23, 26], [34, 43, 41]]\n",
      "means = [77.0, 135.16666666666666, 24.5, 39.333333333333336]\n",
      "means = [77.0, 135.16666666666666, 24.5, 39.333333333333336]\n",
      "[[78, 86, 68, 97, 76], [150, 135, 160, 125, 144], [23, 26], [34, 43, 41]]\n",
      "means = [81.0, 142.8, 24.5, 39.333333333333336]\n",
      "It took 2 cycles!\n"
     ]
    },
    {
     "data": {
      "image/png": "[encoded data removed]",
      "text/plain": [
       "<Figure size 432x288 with 1 Axes>"
      ]
     },
     "metadata": {
      "needs_background": "light"
     },
     "output_type": "display_data"
    }
   ],
   "source": [
    "test2= k_means(data,4)\n",
    "test2.plot()"
   ]
  },
  {
   "cell_type": "code",
   "execution_count": 69,
   "metadata": {},
   "outputs": [
    {
     "name": "stdout",
     "output_type": "stream",
     "text": [
      "means = [78.0, 91.5, 76.0, 142.8, 39.166666666666664]\n",
      "means = [78.0, 91.5, 72.0, 142.8, 33.4]\n",
      "means = [78.0, 91.5, 72.0, 142.8, 33.4]\n",
      "[[78, 76], [86, 97], [68], [150, 135, 160, 125, 144], [23, 34, 43, 26, 41]]\n",
      "means = [77.0, 91.5, 68.0, 142.8, 33.4]\n",
      "It took 1 cycles!\n"
     ]
    },
    {
     "data": {
      "image/png": "[encoded data removed]",
      "text/plain": [
       "<Figure size 432x288 with 1 Axes>"
      ]
     },
     "metadata": {
      "needs_background": "light"
     },
     "output_type": "display_data"
    }
   ],
   "source": [
    "test3 = k_means(data, 5)\n",
    "test3.plot()"
   ]
  },
  {
   "cell_type": "code",
   "execution_count": 70,
   "metadata": {},
   "outputs": [
    {
     "name": "stdout",
     "output_type": "stream",
     "text": [
      "means = [39.166666666666664, 116.77777777777777]\n",
      "means = [44.42857142857143, 121.875]\n",
      "means = [44.42857142857143, 121.875]\n",
      "[[23, 34, 43, 26, 41, 78, 68, 76], [86, 97, 150, 135, 160, 125, 144]]\n",
      "means = [48.625, 128.14285714285714]\n",
      "means = [48.625, 128.14285714285714]\n",
      "[[23, 34, 43, 26, 41, 78, 86, 68, 76], [97, 150, 135, 160, 125, 144]]\n",
      "means = [52.77777777777778, 135.16666666666666]\n",
      "It took 2 cycles!\n"
     ]
    },
    {
     "data": {
      "image/png": "[encoded data removed]",
      "text/plain": [
       "<Figure size 432x288 with 1 Axes>"
      ]
     },
     "metadata": {
      "needs_background": "light"
     },
     "output_type": "display_data"
    }
   ],
   "source": [
    "test4 = k_means(data, 2)\n",
    "test4.plot()"
   ]
  },
  {
   "cell_type": "markdown",
   "metadata": {},
   "source": [
    "Thanks for reading!\\\n",
    "Elliot Linsey QMUL"
   ]
  },
  {
   "cell_type": "code",
   "execution_count": 71,
   "metadata": {},
   "outputs": [
    {
     "name": "stdout",
     "output_type": "stream",
     "text": [
      "2.23606797749979\n"
     ]
    }
   ],
   "source": [
    "a = np.array([1,0])\n",
    "b = np.array([0,2])\n",
    "\n",
    "print(np.linalg.norm(a-b))"
   ]
  },
  {
   "cell_type": "code",
   "execution_count": 72,
   "metadata": {},
   "outputs": [
    {
     "name": "stdout",
     "output_type": "stream",
     "text": [
      "[array([59, 51]), array([4, 2])]\n",
      "[[array([59, 51])], [array([4, 2])]]\n",
      "[45.60701700396552, 28.319604517012593]\n",
      "[30.23243291566195, 43.86342439892262]\n",
      "[17.88854381999832, 56.586217403180434]\n",
      "[41.400483088968905, 32.55764119219941]\n",
      "[20.591260281974, 53.75872022286245]\n",
      "[33.015148038438355, 106.07544484940895]\n",
      "[44.204072210600685, 117.38824472663352]\n",
      "[19.235384061671343, 91.93475947648963]\n",
      "[59.665735560705194, 132.94359706281458]\n",
      "[30.23243291566195, 103.24727599312246]\n",
      "[134.46932735757994, 207.8942038634074]\n",
      "[113.27841806805037, 186.6815470259447]\n",
      "[148.60013458944107, 222.03603311174518]\n",
      "[99.15644204992432, 172.53985046939155]\n",
      "[125.99206324209474, 199.40912717325654]\n",
      "[[array([59, 51]), 34, 43, 41, 78, 86, 68, 97, 76, 150, 135, 160, 125, 144], [array([4, 2]), 23, 26]]\n"
     ]
    }
   ],
   "source": [
    "def ini_centroids(data, k):\n",
    "        lst = []\n",
    "        data_len = len(data)\n",
    "        choices = np.random.choice(range(data_len), size=k, replace=False)\n",
    "        for i in choices:\n",
    "            lst.append([data[i]])\n",
    "        return [i[0] for i in lst]\n",
    "\n",
    "    \n",
    "#print(ini_centroids(data=(np.array([1,5]), np.array([3,6]), np.array([2,5])),k=2))\n",
    "ini_centroids = ini_centroids(data=(np.array([1,5]), np.array([3,6]), np.array([4,2]), np.array([3,7]), np.array([5,8]),\n",
    "                                    np.array([25,31]), np.array([27,33]), np.array([23,25]), np.array([31,28]), np.array([33,31]),\n",
    "                                    np.array([55,54]), np.array([59,51]), np.array([63,65]), np.array([56,62]), np.array([61,61]),),k=2)\n",
    "print(ini_centroids)\n",
    "def clusters(centroids):\n",
    "        cluster_vals = []\n",
    "        for i in range(len(centroids)):\n",
    "            cluster_vals.append([centroids[i]])\n",
    "        print(cluster_vals)\n",
    "        for y in data:\n",
    "            distances = []\n",
    "            for i in range(len(cluster_vals)):\n",
    "                distances.append(np.linalg.norm(y - cluster_vals[i][0]))\n",
    "            print(distances)\n",
    "            idx = distances.index(min(distances))\n",
    "            cluster_vals[idx].append(y)\n",
    "#         for x in cluster_vals:\n",
    "#             #print(x)\n",
    "#             for y in centroids:\n",
    "#                 if y in x:\n",
    "#                     x.remove(y)\n",
    "        return cluster_vals\n",
    "\n",
    "print(clusters(ini_centroids))"
   ]
  },
  {
   "cell_type": "code",
   "execution_count": null,
   "metadata": {},
   "outputs": [],
   "source": []
  },
  {
   "cell_type": "code",
   "execution_count": null,
   "metadata": {},
   "outputs": [],
   "source": []
  },
  {
   "cell_type": "code",
   "execution_count": null,
   "metadata": {},
   "outputs": [],
   "source": []
  },
  {
   "cell_type": "code",
   "execution_count": null,
   "metadata": {},
   "outputs": [],
   "source": []
  }
 ],
 "metadata": {
  "kernelspec": {
   "display_name": "Python 3",
   "language": "python",
   "name": "python3"
  },
  "language_info": {
   "codemirror_mode": {
    "name": "ipython",
    "version": 3
   },
   "file_extension": ".py",
   "mimetype": "text/x-python",
   "name": "python",
   "nbconvert_exporter": "python",
   "pygments_lexer": "ipython3",
   "version": "3.8.8"
  }
 },
 "nbformat": 4,
 "nbformat_minor": 4
}
