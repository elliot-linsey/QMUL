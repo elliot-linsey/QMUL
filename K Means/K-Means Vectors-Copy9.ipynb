{
 "cells": [
  {
   "cell_type": "code",
   "execution_count": 1,
   "id": "9e8880a4",
   "metadata": {},
   "outputs": [
    {
     "name": "stdout",
     "output_type": "stream",
     "text": [
      "1\n",
      "2\n"
     ]
    },
    {
     "data": {
      "text/plain": [
       "array([[ 1.,  0.],\n",
       "       [ 5.,  0.],\n",
       "       [ 3.,  0.],\n",
       "       [ 2.,  0.],\n",
       "       [ 6.,  0.],\n",
       "       [25.,  0.],\n",
       "       [26.,  0.],\n",
       "       [24.,  0.],\n",
       "       [27.,  0.],\n",
       "       [28.,  0.],\n",
       "       [53.,  0.],\n",
       "       [52.,  0.],\n",
       "       [64.,  0.],\n",
       "       [62.,  0.],\n",
       "       [51.,  0.]])"
      ]
     },
     "execution_count": 1,
     "metadata": {},
     "output_type": "execute_result"
    }
   ],
   "source": [
    "import numpy as np\n",
    "import functools\n",
    "import time\n",
    "from matplotlib import pyplot as plt\n",
    "from sklearn import datasets\n",
    "\n",
    "data = np.array([[1,5],\n",
    "                [3,6],\n",
    "                [4,2],\n",
    "                [3,7],\n",
    "                [5,8],\n",
    "                [25,31],\n",
    "                [27,33],\n",
    "                [23,25],\n",
    "                [31,28],\n",
    "                [33,31],\n",
    "                [55,54],\n",
    "                [59,51],\n",
    "                [63,65],\n",
    "                [56,62],\n",
    "                [61,61]])\n",
    "\n",
    "data_1d = np.array([1,5,3,2,6,25,26,24,27,28,53,52,64,62,51])\n",
    "print(data_1d.ndim)\n",
    "print(data.ndim)\n",
    "#data_1d = data_1d.reshape(-1,1)\n",
    "stack = np.column_stack([data_1d.reshape(-1,1),np.zeros(np.shape(data_1d))])\n",
    "stack"
   ]
  },
  {
   "cell_type": "code",
   "execution_count": 2,
   "id": "17657a0e",
   "metadata": {},
   "outputs": [],
   "source": [
    "# def timer(func):\n",
    "#     @functools.wraps(func)\n",
    "#     def wrapper_timer(*args, **kwargs):\n",
    "#         start = time.perf_counter()\n",
    "#         #'value' is the function being timed\n",
    "#         value = func(*args, **kwargs)\n",
    "#         end = time.perf_counter()\n",
    "#         print(f'Finished {func.__name__!r} in {end-start:.8f} seconds!')\n",
    "#         return value\n",
    "#     return wrapper_timer"
   ]
  },
  {
   "cell_type": "code",
   "execution_count": 22,
   "id": "a117d501",
   "metadata": {},
   "outputs": [
    {
     "name": "stdout",
     "output_type": "stream",
     "text": [
      "[array([27, 33]), array([55, 54]), array([3, 7]), array([23, 25]), array([5, 8])]\n",
      "[array([4, 2]), array([23, 25]), array([27, 33]), array([3, 6]), array([3, 7])]\n",
      "[array([55, 54]), array([31, 28]), array([3, 6]), array([23, 25]), array([5, 8])]\n",
      "[array([63, 65]), array([3, 6]), array([59, 51]), array([4, 2]), array([55, 54])]\n",
      "[array([33, 31]), array([61, 61]), array([3, 7]), array([25, 31]), array([63, 65])]\n",
      "[array([25, 31]), array([23, 25]), array([3, 7]), array([1, 5]), array([33, 31])]\n",
      "[array([56, 62]), array([23, 25]), array([31, 28]), array([3, 7]), array([61, 61])]\n",
      "[array([33, 31]), array([25, 31]), array([55, 54]), array([4, 2]), array([27, 33])]\n",
      "[array([61, 61]), array([23, 25]), array([33, 31]), array([25, 31]), array([3, 6])]\n",
      "[array([5, 8]), array([3, 6]), array([33, 31]), array([4, 2]), array([59, 51])]\n"
     ]
    },
    {
     "data": {
      "image/png": "[encoded data removed]",
      "text/plain": [
       "<Figure size 432x288 with 1 Axes>"
      ]
     },
     "metadata": {
      "needs_background": "light"
     },
     "output_type": "display_data"
    }
   ],
   "source": [
    "class k_means():\n",
    "    def __init__(self, data, k):\n",
    "        self.data = data\n",
    "        self.k = k\n",
    "    def ini_centroids(self, data, k):\n",
    "        lst = []\n",
    "        data_len = len(self.data)\n",
    "        choices = np.random.choice(range(data_len), size=self.k, replace=False)\n",
    "        for i in choices:\n",
    "            lst.append([self.data[i]])\n",
    "        #print('centroids = ' + str(lst))\n",
    "        print([i[0] for i in lst])\n",
    "        return [i[0] for i in lst]\n",
    "    def clusters(self,centroids):\n",
    "        #print('cluster centroids = ' + str(centroids))\n",
    "        cluster_vals = [[] for i in range(len(centroids))]\n",
    "        #print(cluster_vals)\n",
    "        for y in self.data:\n",
    "            distances = []\n",
    "            for x in centroids:\n",
    "                distances.append(np.linalg.norm(y - x))\n",
    "            #print(distances)\n",
    "            idx = distances.index(min(distances))\n",
    "            #print(idx)\n",
    "            cluster_vals[idx].append(y)\n",
    "        for i in range(len(cluster_vals)):\n",
    "            if len(cluster_vals[i]) == 0:\n",
    "                cluster_vals[i].append(centroids[i])\n",
    "        #print(cluster_vals)               \n",
    "        return cluster_vals\n",
    "    def update(self,clust_vals):\n",
    "        cluster_means = []\n",
    "        for x in clust_vals:\n",
    "            cluster_means.append(sum(x[::])/len(x))\n",
    "            #print('x = ' + str(x))\n",
    "        #print('means = ' + str(cluster_means))\n",
    "        return self.clusters(cluster_means)\n",
    "    #@timer\n",
    "    def k_means_func(self):\n",
    "        centroids = self.ini_centroids(self.data, self.k)\n",
    "        cluster_values = self.clusters(centroids)\n",
    "        updates = self.update(cluster_values)\n",
    "        count = 0\n",
    "        for i in range(len(updates)):\n",
    "            if not np.array_equal(np.round(updates[i][0],3), np.round(self.update(updates)[i][0],3)):\n",
    "                count += 1\n",
    "                updates = self.update(updates)\n",
    "                #print(updates)\n",
    "        #print('It took ' + str(count) + ' cycles!')\n",
    "        return updates\n",
    "    def k_means_repeat(self):\n",
    "        clusters = []\n",
    "        variances = []\n",
    "        for r in range(10):\n",
    "            clusters.append(self.k_means_func())\n",
    "        for x in clusters:\n",
    "            count = 0\n",
    "            for i in range(self.k):\n",
    "                count += np.var(x[i])\n",
    "                #print(np.var(x[i]))\n",
    "            #print(count)\n",
    "            variances.append(count)\n",
    "        #print(variances)\n",
    "        return clusters[variances.index(np.min(variances))]\n",
    "    def plot(self):\n",
    "        test_plot = self.k_means_func()\n",
    "        test_array = np.array([np.array(xi) for xi in test_plot],dtype=object)\n",
    "        #print('test array = ' + str(np.mean(test_array[0][:,0])))\n",
    "        colors = ['red','green','blue','purple','orange','brown','pink','olive','cyan','gray']\n",
    "        for i in range(self.k):\n",
    "            plt.scatter(test_array[i][:,0], test_array[i][:,1], color = colors[i])\n",
    "            plt.scatter(np.mean(test_array[i][:,0]), np.mean(test_array[i][:,1]), marker='x', s=80, color=colors[i])\n",
    "        return plt.show()\n",
    "    def plot_2(self):\n",
    "        test_plot = self.k_means_repeat()\n",
    "        #print(test_plot)\n",
    "        test_array = np.array([np.array(xi) for xi in test_plot],dtype=object)\n",
    "        #print(test_array)\n",
    "        colors = ['red','green','blue','purple','orange','brown','pink','olive','cyan','gray']\n",
    "        for i in range(self.k):\n",
    "            plt.scatter(test_array[i][:,0], test_array[i][:,1], color = colors[i])\n",
    "            plt.scatter(np.mean(test_array[i][:,0]), np.mean(test_array[i][:,1]), marker='x', s=80, color=colors[i])\n",
    "        return plt.show()\n",
    "        \n",
    "test = k_means(data, 5)    \n",
    "#test.k_means_repeat()\n",
    "\n",
    "test.plot_2()"
   ]
  },
  {
   "cell_type": "code",
   "execution_count": null,
   "id": "ebeb802b",
   "metadata": {},
   "outputs": [],
   "source": [
    "one_d = k_means(stack,3)\n",
    "one_d.plot_2()"
   ]
  },
  {
   "cell_type": "code",
   "execution_count": null,
   "id": "6cedf96d",
   "metadata": {},
   "outputs": [],
   "source": [
    "iris = datasets.load_iris()\n",
    "#iris['data']"
   ]
  },
  {
   "cell_type": "code",
   "execution_count": null,
   "id": "c7009e56",
   "metadata": {},
   "outputs": [],
   "source": [
    "iris_k = k_means(iris['data'],3)\n",
    "iris_k.k_means_repeat()"
   ]
  }
 ],
 "metadata": {
  "kernelspec": {
   "display_name": "Python 3",
   "language": "python",
   "name": "python3"
  },
  "language_info": {
   "codemirror_mode": {
    "name": "ipython",
    "version": 3
   },
   "file_extension": ".py",
   "mimetype": "text/x-python",
   "name": "python",
   "nbconvert_exporter": "python",
   "pygments_lexer": "ipython3",
   "version": "3.8.8"
  }
 },
 "nbformat": 4,
 "nbformat_minor": 5
}
