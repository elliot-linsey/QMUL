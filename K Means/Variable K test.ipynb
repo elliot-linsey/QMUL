{
 "cells": [
  {
   "cell_type": "code",
   "execution_count": 234,
   "metadata": {},
   "outputs": [],
   "source": [
    "import numpy as np"
   ]
  },
  {
   "cell_type": "code",
   "execution_count": 235,
   "metadata": {},
   "outputs": [],
   "source": [
    "data = np.array([23,34,43,26,41,78,86,68,97,76,150,135,160,125,144])"
   ]
  },
  {
   "cell_type": "markdown",
   "metadata": {},
   "source": [
    "Here is a revision of the simple k-means algorithm, this one accepts an integer (k) and will create k number of clusters. Below it randomly chooses the initial cluster centres and appends them to a list which it returns.  "
   ]
  },
  {
   "cell_type": "code",
   "execution_count": 236,
   "metadata": {},
   "outputs": [],
   "source": [
    "def ini_centroids(data, k):\n",
    "    lst = []\n",
    "    choices = np.random.choice(data, size=k, replace=False)\n",
    "    for i in range(len(choices)):\n",
    "        lst.append([choices[i]])\n",
    "    return [i[0] for i in lst]"
   ]
  },
  {
   "cell_type": "markdown",
   "metadata": {},
   "source": [
    "Below is the clustering function. It first creates a list (clusters - badly named), then appends each centroid value to a nested list within the clusters list. These nested lists are where the other cluster values will be appended to. From here, the function goes through each datapoint in data and calculates the absolute differences between the datapoint and each separate centroid. It appends these distances to a list (distances), it then finds the index of the minimum value within distances, this being the corresponding cluster that the datapoint is closest to. As both lists distances and clusters have the same length, we can then append the datapoint to the corresponding cluster. So if distances[2] had the minimum value, we would append the datapoint to clusters[2].\\\n",
    "Due to the fact that it is going over every datapoint again, including the initial randomly selected centroids, each cluster will inevitably append a duplicate of its initial centroid to itself. To correct this, we search through the clusters and remove one instance of the initial centroid from each corresponding cluster."
   ]
  },
  {
   "cell_type": "code",
   "execution_count": 258,
   "metadata": {},
   "outputs": [],
   "source": [
    "def clusters(centroids):\n",
    "    clusters = []\n",
    "    \n",
    "    for i in range(len(centroids)):\n",
    "        clusters.append([centroids[i]])\n",
    "    #print(clusters)\n",
    "    for y in data:\n",
    "        distances = []\n",
    "        for i in range(len(clusters)):\n",
    "            \n",
    "            distances.append(abs(y - clusters[i][0]))\n",
    "            \n",
    "        #print(distances)\n",
    "        idx = distances.index(min(distances))\n",
    "        clusters[idx].append(y)\n",
    "    \n",
    "    for x in clusters:\n",
    "        #print(x)\n",
    "        for y in centroids:\n",
    "            if y in x:\n",
    "                x.remove(y)\n",
    "    \n",
    "        \n",
    "            \n",
    "    return clusters"
   ]
  },
  {
   "cell_type": "code",
   "execution_count": 238,
   "metadata": {},
   "outputs": [
    {
     "name": "stdout",
     "output_type": "stream",
     "text": [
      "[26, 23, 76]\n"
     ]
    }
   ],
   "source": [
    "centroids = ini_centroids(data, 3)\n",
    "print(centroids)"
   ]
  },
  {
   "cell_type": "code",
   "execution_count": 239,
   "metadata": {
    "scrolled": true
   },
   "outputs": [
    {
     "name": "stdout",
     "output_type": "stream",
     "text": [
      "[[26], [23], [76]]\n",
      "[[34, 43, 26, 41], [23], [78, 86, 68, 97, 76, 150, 135, 160, 125, 144]]\n"
     ]
    }
   ],
   "source": [
    "cluster_values = clusters(centroids)\n",
    "print(cluster_values)"
   ]
  },
  {
   "cell_type": "markdown",
   "metadata": {},
   "source": [
    "This is the update function that updates the centroids using the calculated means. It loops through the completed clusters that are fed to it and returns a list of the means from each cluster."
   ]
  },
  {
   "cell_type": "code",
   "execution_count": 261,
   "metadata": {},
   "outputs": [
    {
     "name": "stdout",
     "output_type": "stream",
     "text": [
      "means = [36.0, 23.0, 111.9]\n"
     ]
    }
   ],
   "source": [
    "def update(clust_vals):\n",
    "    cluster_means = []\n",
    "    for x in clust_vals:\n",
    "        cluster_means.append(np.mean(x))\n",
    "    print('means = ' + str(cluster_means))\n",
    "    return clusters(cluster_means)\n",
    "    \n",
    "\n",
    "updates1 = update(cluster_values)"
   ]
  },
  {
   "cell_type": "markdown",
   "metadata": {},
   "source": [
    "This is the full function, it takes a data array and k number as parameters which can be adjusted. It first initialises the centroids then creates initial clusters based on them. From here it updates the first cluster_values to generate a mean and feeds these back as new centroids into the clusters function. It then repeats this process 9 times, each time feeding the updated data back to itself to generate closer clusters and more stable means. By the end of this process the means have usually stabilised and the clustering process is complete. However, due to the random nature of choosing the initial centroids the whole process can be repeated again until the optimum means and clusters have been achieved. "
   ]
  },
  {
   "cell_type": "code",
   "execution_count": 269,
   "metadata": {},
   "outputs": [
    {
     "name": "stdout",
     "output_type": "stream",
     "text": [
      "means = [160.0, 57.2, 138.5]\n",
      "[[150, 160], [23, 34, 43, 26, 41, 78, 86, 68, 97, 76], [135, 125, 144]]\n",
      "means = [155.0, 57.2, 134.66666666666666]\n",
      "[[150, 160], [23, 34, 43, 26, 41, 78, 86, 68, 76], [97, 135, 125, 144]]\n",
      "means = [155.0, 52.77777777777778, 125.25]\n",
      "[[150, 160, 144], [23, 34, 43, 26, 41, 78, 86, 68, 76], [97, 135, 125]]\n",
      "means = [151.33333333333334, 52.77777777777778, 119.0]\n",
      "[[150, 160, 144], [23, 34, 43, 26, 41, 78, 68, 76], [86, 97, 135, 125]]\n",
      "means = [151.33333333333334, 48.625, 110.75]\n",
      "[[150, 135, 160, 144], [23, 34, 43, 26, 41, 78, 68, 76], [86, 97, 125]]\n",
      "means = [147.25, 48.625, 102.66666666666667]\n",
      "[[150, 135, 160, 125, 144], [23, 34, 43, 26, 41, 68], [78, 86, 97, 76]]\n",
      "means = [142.8, 39.166666666666664, 84.25]\n",
      "[[150, 135, 160, 125, 144], [23, 34, 43, 26, 41], [78, 86, 68, 97, 76]]\n",
      "means = [142.8, 33.4, 81.0]\n",
      "[[150, 135, 160, 125, 144], [23, 34, 43, 26, 41], [78, 86, 68, 97, 76]]\n",
      "means = [142.8, 33.4, 81.0]\n",
      "[[150, 135, 160, 125, 144], [23, 34, 43, 26, 41], [78, 86, 68, 97, 76]]\n",
      "means = [142.8, 33.4, 81.0]\n",
      "[[150, 135, 160, 125, 144], [23, 34, 43, 26, 41], [78, 86, 68, 97, 76]]\n"
     ]
    }
   ],
   "source": [
    "def k_means(data,k):\n",
    "    centroids = ini_centroids(data, k)\n",
    "    cluster_values = clusters(centroids)\n",
    "    updates = update(cluster_values)\n",
    "    for i in range(9):\n",
    "        print(updates)\n",
    "        updates = update(updates)\n",
    "    return updates\n",
    "print(k_means(data,3))"
   ]
  }
 ],
 "metadata": {
  "kernelspec": {
   "display_name": "Python 3",
   "language": "python",
   "name": "python3"
  },
  "language_info": {
   "codemirror_mode": {
    "name": "ipython",
    "version": 3
   },
   "file_extension": ".py",
   "mimetype": "text/x-python",
   "name": "python",
   "nbconvert_exporter": "python",
   "pygments_lexer": "ipython3",
   "version": "3.8.5"
  }
 },
 "nbformat": 4,
 "nbformat_minor": 4
}
