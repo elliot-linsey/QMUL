{
 "cells": [
  {
   "cell_type": "code",
   "execution_count": 173,
   "metadata": {},
   "outputs": [],
   "source": [
    "import numpy as np"
   ]
  },
  {
   "cell_type": "code",
   "execution_count": 174,
   "metadata": {},
   "outputs": [],
   "source": [
    "data = np.array([23,34,43,26,41,78,86,68,97,76,150,135,160,125,144])"
   ]
  },
  {
   "cell_type": "code",
   "execution_count": 175,
   "metadata": {},
   "outputs": [
    {
     "name": "stdout",
     "output_type": "stream",
     "text": [
      "(86, 34, 26)\n"
     ]
    }
   ],
   "source": [
    "def ini_choose_centroids(data):\n",
    "    k=3\n",
    "    x,y,z = np.random.choice(data, size=k, replace=False)\n",
    "    return x,y,z\n",
    "\n",
    "print(ini_choose_centroids(data))\n",
    "\n"
   ]
  },
  {
   "cell_type": "code",
   "execution_count": 178,
   "metadata": {},
   "outputs": [
    {
     "name": "stdout",
     "output_type": "stream",
     "text": [
      "([23, 34, 26], [43, 41, 68], [78, 86, 97, 76, 150, 135, 160, 125, 144])\n"
     ]
    }
   ],
   "source": [
    "\n",
    "def cluster_values(centroid1, centroid2, centroid3):\n",
    "    cluster1 = []\n",
    "    cluster2 = []\n",
    "    cluster3 = []\n",
    "    #print(ini_choose_centroids(data)[0])\n",
    "    for i in range(len(data)):\n",
    "        if abs(centroid1 - data[i]) < abs(centroid2 - data[i]):\n",
    "            cluster1.append(data[i])\n",
    "        elif abs(centroid2 - data[i]) < abs(centroid1 - data[i]) and abs(centroid2 - data[i]) < abs(centroid3 - data[i]):\n",
    "            cluster2.append(data[i])\n",
    "        else:\n",
    "            cluster3.append(data[i])\n",
    "    if len(cluster1) == 0 or len(cluster2) == 0 or len(cluster3) == 0:\n",
    "        return cluster_values(ini_choose_centroids(data)[0], ini_choose_centroids(data)[1], ini_choose_centroids(data)[2])\n",
    "    return cluster1, cluster2, cluster3\n",
    "print(cluster_values(ini_choose_centroids(data)[0], ini_choose_centroids(data)[1], ini_choose_centroids(data)[2]))"
   ]
  },
  {
   "cell_type": "code",
   "execution_count": 185,
   "metadata": {},
   "outputs": [
    {
     "name": "stdout",
     "output_type": "stream",
     "text": [
      "33.4\n",
      "77.0\n",
      "135.16666666666666\n",
      "([23, 34, 43, 26, 41], [78, 86, 68, 97, 76], [150, 135, 160, 125, 144])\n"
     ]
    }
   ],
   "source": [
    "def update(cluster_1, cluster_2, cluster_3, ):\n",
    "    clust_mean1 = np.mean(cluster_1)\n",
    "    clust_mean2 = np.mean(cluster_2)\n",
    "    clust_mean3 = np.mean(cluster_3)\n",
    "    print(clust_mean1)\n",
    "    print(clust_mean2)\n",
    "    print(clust_mean3)\n",
    "    return cluster_values(clust_mean1, clust_mean2, clust_mean3)\n",
    "\n",
    "print(update([23, 34, 43, 26, 41], [78, 86, 68, 76], [97, 150, 135, 160, 125, 144]))"
   ]
  },
  {
   "cell_type": "code",
   "execution_count": 186,
   "metadata": {},
   "outputs": [
    {
     "name": "stdout",
     "output_type": "stream",
     "text": [
      "(76, 68, 86)\n"
     ]
    }
   ],
   "source": [
    "centroids = ini_choose_centroids(data)\n",
    "print(centroids)"
   ]
  },
  {
   "cell_type": "code",
   "execution_count": 189,
   "metadata": {},
   "outputs": [
    {
     "name": "stdout",
     "output_type": "stream",
     "text": [
      "([78, 86, 68, 97, 76, 150, 135, 160, 125, 144], [23], [34, 43, 26, 41])\n"
     ]
    }
   ],
   "source": [
    "clusters = cluster_values(centroids[0], centroids[1], centroids[2])\n",
    "print(clusters)"
   ]
  },
  {
   "cell_type": "code",
   "execution_count": 192,
   "metadata": {},
   "outputs": [
    {
     "name": "stdout",
     "output_type": "stream",
     "text": [
      "111.9\n",
      "23.0\n",
      "36.0\n"
     ]
    }
   ],
   "source": [
    "updates = update(clusters[0],clusters[1],clusters[2])"
   ]
  },
  {
   "cell_type": "code",
   "execution_count": 193,
   "metadata": {},
   "outputs": [
    {
     "name": "stdout",
     "output_type": "stream",
     "text": [
      "111.9\n",
      "24.5\n",
      "39.333333333333336\n"
     ]
    }
   ],
   "source": [
    "updates = update(updates[0], updates[1], updates[2])"
   ]
  },
  {
   "cell_type": "code",
   "execution_count": 208,
   "metadata": {},
   "outputs": [
    {
     "name": "stdout",
     "output_type": "stream",
     "text": [
      "135.16666666666666\n",
      "33.4\n",
      "77.0\n",
      "([86, 97, 150, 135, 160, 125, 144], [23, 34, 43, 26, 41], [78, 68, 76])\n",
      "128.14285714285714\n",
      "33.4\n",
      "74.0\n",
      "([86, 97, 150, 135, 160, 125, 144], [23, 34, 43, 26, 41], [78, 68, 76])\n",
      "128.14285714285714\n",
      "33.4\n",
      "74.0\n",
      "([86, 97, 150, 135, 160, 125, 144], [23, 34, 43, 26, 41], [78, 68, 76])\n",
      "128.14285714285714\n",
      "33.4\n",
      "74.0\n",
      "([86, 97, 150, 135, 160, 125, 144], [23, 34, 43, 26, 41], [78, 68, 76])\n",
      "128.14285714285714\n",
      "33.4\n",
      "74.0\n",
      "([86, 97, 150, 135, 160, 125, 144], [23, 34, 43, 26, 41], [78, 68, 76])\n",
      "128.14285714285714\n",
      "33.4\n",
      "74.0\n",
      "([86, 97, 150, 135, 160, 125, 144], [23, 34, 43, 26, 41], [78, 68, 76])\n",
      "128.14285714285714\n",
      "33.4\n",
      "74.0\n",
      "([86, 97, 150, 135, 160, 125, 144], [23, 34, 43, 26, 41], [78, 68, 76])\n",
      "128.14285714285714\n",
      "33.4\n",
      "74.0\n",
      "([86, 97, 150, 135, 160, 125, 144], [23, 34, 43, 26, 41], [78, 68, 76])\n",
      "128.14285714285714\n",
      "33.4\n",
      "74.0\n",
      "([86, 97, 150, 135, 160, 125, 144], [23, 34, 43, 26, 41], [78, 68, 76])\n",
      "128.14285714285714\n",
      "33.4\n",
      "74.0\n",
      "([86, 97, 150, 135, 160, 125, 144], [23, 34, 43, 26, 41], [78, 68, 76])\n"
     ]
    }
   ],
   "source": [
    "def k_means():\n",
    "    centroids = ini_choose_centroids(data)\n",
    "    clusters = cluster_values(centroids[0], centroids[1], centroids[2])\n",
    "    updates = update(clusters[0],clusters[1],clusters[2])\n",
    "    for i in range(9):\n",
    "        print(updates)\n",
    "        updates = update(updates[0], updates[1], updates[2])\n",
    "    return updates\n",
    "print(k_means())"
   ]
  },
  {
   "cell_type": "code",
   "execution_count": null,
   "metadata": {},
   "outputs": [],
   "source": []
  },
  {
   "cell_type": "code",
   "execution_count": null,
   "metadata": {},
   "outputs": [],
   "source": []
  }
 ],
 "metadata": {
  "kernelspec": {
   "display_name": "Python 3",
   "language": "python",
   "name": "python3"
  },
  "language_info": {
   "codemirror_mode": {
    "name": "ipython",
    "version": 3
   },
   "file_extension": ".py",
   "mimetype": "text/x-python",
   "name": "python",
   "nbconvert_exporter": "python",
   "pygments_lexer": "ipython3",
   "version": "3.8.5"
  }
 },
 "nbformat": 4,
 "nbformat_minor": 4
}
