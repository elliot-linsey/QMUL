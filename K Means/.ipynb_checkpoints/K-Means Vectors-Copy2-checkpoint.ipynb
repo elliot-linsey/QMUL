{
 "cells": [
  {
   "cell_type": "code",
   "execution_count": 28,
   "id": "9e8880a4",
   "metadata": {},
   "outputs": [],
   "source": [
    "import numpy as np\n",
    "import functools\n",
    "import time\n",
    "data=(np.array([1,5]), np.array([3,6]), np.array([4,2]), np.array([3,7]), np.array([5,8]),\n",
    "                                    np.array([25,31]), np.array([27,33]), np.array([23,25]), np.array([31,28]), np.array([33,31]),\n",
    "                                    np.array([55,54]), np.array([59,51]), np.array([63,65]), np.array([56,62]), np.array([61,61]))"
   ]
  },
  {
   "cell_type": "code",
   "execution_count": 29,
   "id": "17657a0e",
   "metadata": {},
   "outputs": [],
   "source": [
    "def timer(func):\n",
    "    @functools.wraps(func)\n",
    "    def wrapper_timer(*args, **kwargs):\n",
    "        start = time.perf_counter()\n",
    "        #'value' is the function being timed\n",
    "        value = func(*args, **kwargs)\n",
    "        end = time.perf_counter()\n",
    "        print(f'Finished {func.__name__!r} in {end-start:.8f} seconds!')\n",
    "        return value\n",
    "    return wrapper_timer"
   ]
  },
  {
   "cell_type": "code",
   "execution_count": 32,
   "id": "a117d501",
   "metadata": {},
   "outputs": [
    {
     "name": "stdout",
     "output_type": "stream",
     "text": [
      "[[array([4, 2])], [array([56, 62])], [array([25, 31])], [array([55, 54])], [array([63, 65])]]\n",
      "means = [array([3.33333333, 5.        ]), array([56., 62.]), array([27.33333333, 29.83333333]), array([56.33333333, 53.        ]), array([62.33333333, 63.66666667])]\n",
      "[[array([3.33333333, 5.        ])], [array([56., 62.])], [array([27.33333333, 29.83333333])], [array([56.33333333, 53.        ])], [array([62.33333333, 63.66666667])]]\n",
      "means = [array([3.22222222, 5.5       ]), array([56., 62.]), array([27.72222222, 29.63888889]), array([56.77777778, 52.66666667]), array([62.11111111, 63.22222222])]\n",
      "[[array([3.22222222, 5.5       ])], [array([56., 62.])], [array([27.72222222, 29.63888889])], [array([56.77777778, 52.66666667])], [array([62.11111111, 63.22222222])]]\n",
      "means = [array([3.2037037 , 5.58333333]), array([56., 62.]), array([27.78703704, 29.60648148]), array([56.92592593, 52.55555556]), array([62.03703704, 63.07407407])]\n",
      "[[array([3.2037037 , 5.58333333])], [array([56., 62.])], [array([27.78703704, 29.60648148])], [array([56.92592593, 52.55555556])], [array([62.03703704, 63.07407407])]]\n",
      "means = [array([3.20061728, 5.59722222]), array([56., 62.]), array([27.79783951, 29.60108025]), array([56.97530864, 52.51851852]), array([62.01234568, 63.02469136])]\n",
      "[[array([3.20061728, 5.59722222])], [array([56., 62.])], [array([27.79783951, 29.60108025])], [array([56.97530864, 52.51851852])], [array([62.01234568, 63.02469136])]]\n",
      "means = [array([3.20010288, 5.59953704]), array([56., 62.]), array([27.79963992, 29.60018004]), array([56.99176955, 52.50617284]), array([62.00411523, 63.00823045])]\n",
      "[[array([3.20010288, 5.59953704])], [array([56., 62.])], [array([27.79963992, 29.60018004])], [array([56.99176955, 52.50617284])], [array([62.00411523, 63.00823045])]]\n",
      "means = [array([3.20001715, 5.59992284]), array([56., 62.]), array([27.79993999, 29.60003001]), array([56.99725652, 52.50205761]), array([62.00137174, 63.00274348])]\n",
      "[[array([3.20001715, 5.59992284])], [array([56., 62.])], [array([27.79993999, 29.60003001])], [array([56.99725652, 52.50205761])], [array([62.00137174, 63.00274348])]]\n",
      "means = [array([3.20000286, 5.59998714]), array([56., 62.]), array([27.79999 , 29.600005]), array([56.99908551, 52.50068587]), array([62.00045725, 63.00091449])]\n",
      "[[array([3.20000286, 5.59998714])], [array([56., 62.])], [array([27.79999 , 29.600005])], [array([56.99908551, 52.50068587])], [array([62.00045725, 63.00091449])]]\n",
      "means = [array([3.20000048, 5.59999786]), array([56., 62.]), array([27.79999833, 29.60000083]), array([56.99969517, 52.50022862]), array([62.00015242, 63.00030483])]\n",
      "[[array([3.20000048, 5.59999786])], [array([56., 62.])], [array([27.79999833, 29.60000083])], [array([56.99969517, 52.50022862])], [array([62.00015242, 63.00030483])]]\n",
      "means = [array([3.20000008, 5.59999964]), array([56., 62.]), array([27.79999972, 29.60000014]), array([56.99989839, 52.50007621]), array([62.00005081, 63.00010161])]\n",
      "[[array([3.20000008, 5.59999964])], [array([56., 62.])], [array([27.79999972, 29.60000014])], [array([56.99989839, 52.50007621])], [array([62.00005081, 63.00010161])]]\n",
      "means = [array([3.20000001, 5.59999994]), array([56., 62.]), array([27.79999995, 29.60000002]), array([56.99996613, 52.5000254 ]), array([62.00001694, 63.00003387])]\n",
      "[[array([3.20000001, 5.59999994])], [array([56., 62.])], [array([27.79999995, 29.60000002])], [array([56.99996613, 52.5000254 ])], [array([62.00001694, 63.00003387])]]\n",
      "means = [array([3.2       , 5.59999999]), array([56., 62.]), array([27.79999999, 29.6       ]), array([56.99998871, 52.50000847]), array([62.00000565, 63.00001129])]\n",
      "[[array([3.2       , 5.59999999])], [array([56., 62.])], [array([27.79999999, 29.6       ])], [array([56.99998871, 52.50000847])], [array([62.00000565, 63.00001129])]]\n",
      "It took 10 cycles!\n",
      "Finished 'k_means_func' in 0.08058090 seconds!\n"
     ]
    },
    {
     "data": {
      "text/plain": [
       "[[array([3.2       , 5.59999999]),\n",
       "  array([1, 5]),\n",
       "  array([3, 6]),\n",
       "  array([4, 2]),\n",
       "  array([3, 7]),\n",
       "  array([5, 8])],\n",
       " [array([56., 62.]), array([56, 62])],\n",
       " [array([27.79999999, 29.6       ]),\n",
       "  array([25, 31]),\n",
       "  array([27, 33]),\n",
       "  array([23, 25]),\n",
       "  array([31, 28]),\n",
       "  array([33, 31])],\n",
       " [array([56.99998871, 52.50000847]), array([55, 54]), array([59, 51])],\n",
       " [array([62.00000565, 63.00001129]), array([63, 65]), array([61, 61])]]"
      ]
     },
     "execution_count": 32,
     "metadata": {},
     "output_type": "execute_result"
    }
   ],
   "source": [
    "class k_means():\n",
    "    def __init__(self, data, k):\n",
    "        self.data = data\n",
    "        self.k = k\n",
    "    def ini_centroids(self, data, k):\n",
    "        lst = []\n",
    "        data_len = len(self.data)\n",
    "        choices = np.random.choice(range(data_len), size=self.k, replace=False)\n",
    "        for i in choices:\n",
    "            lst.append([self.data[i]])\n",
    "        return [i[0] for i in lst]\n",
    "    def array_remove(self, base_array, test_array):\n",
    "        for index in range(len(base_array)):\n",
    "            if np.array_equal(base_array[index], test_array):\n",
    "                base_array.pop(index)\n",
    "            else:\n",
    "                break\n",
    "        return base_array\n",
    "    \n",
    "    def clusters(self,centroids):\n",
    "        cluster_vals = []\n",
    "        #print(cluster_vals)\n",
    "        for i in range(len(centroids)):\n",
    "            cluster_vals.append([centroids[i]])\n",
    "        print(cluster_vals)\n",
    "        for y in self.data:\n",
    "            distances = []\n",
    "            for i in range(len(cluster_vals)):\n",
    "                distances.append(np.linalg.norm(y - cluster_vals[i][0]))\n",
    "            #print(distances)\n",
    "            idx = distances.index(min(distances))\n",
    "            cluster_vals[idx].append(y)\n",
    "        for y in centroids:\n",
    "            cluster_vals = self.array_remove(cluster_vals, y)\n",
    "                        \n",
    "        return cluster_vals\n",
    "    def update(self,clust_vals):\n",
    "        cluster_means = []\n",
    "        for x in clust_vals:\n",
    "            cluster_means.append(sum(x[::])/len(x))\n",
    "\n",
    "        print('means = ' + str(cluster_means))\n",
    "        return self.clusters(cluster_means)\n",
    "    @timer\n",
    "    def k_means_func(self):\n",
    "        centroids = self.ini_centroids(self.data, self.k)\n",
    "        cluster_values = self.clusters(centroids)\n",
    "        updates = self.update(cluster_values)\n",
    "        count = 0\n",
    "        for i in range(10):\n",
    "            count += 1\n",
    "            updates = self.update(updates)\n",
    "            #print(updates)\n",
    "        print('It took ' + str(count) + ' cycles!')\n",
    "        return updates\n",
    "    def plot(self):\n",
    "        k_mean = self.k_means_func()\n",
    "        for i in range(len(k_mean)):\n",
    "            plt.plot(k_mean[i], [0]*len(k_mean[i]), 'o')\n",
    "            plt.plot(np.mean(k_mean[i]), [0],'x', markersize=15)\n",
    "    \n",
    "        \n",
    "test = k_means(data, 5)    \n",
    "test.k_means_func()"
   ]
  },
  {
   "cell_type": "markdown",
   "id": "8954389e",
   "metadata": {},
   "source": [
    "Having an issue with higher k numbers. "
   ]
  }
 ],
 "metadata": {
  "kernelspec": {
   "display_name": "Python 3",
   "language": "python",
   "name": "python3"
  },
  "language_info": {
   "codemirror_mode": {
    "name": "ipython",
    "version": 3
   },
   "file_extension": ".py",
   "mimetype": "text/x-python",
   "name": "python",
   "nbconvert_exporter": "python",
   "pygments_lexer": "ipython3",
   "version": "3.8.8"
  }
 },
 "nbformat": 4,
 "nbformat_minor": 5
}
