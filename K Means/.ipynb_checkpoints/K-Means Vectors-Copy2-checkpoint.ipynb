{
 "cells": [
  {
   "cell_type": "code",
   "execution_count": 4,
   "id": "9e8880a4",
   "metadata": {},
   "outputs": [],
   "source": [
    "import numpy as np\n",
    "data=(np.array([1,5]), np.array([3,6]), np.array([4,2]), np.array([3,7]), np.array([5,8]),\n",
    "                                    np.array([25,31]), np.array([27,33]), np.array([23,25]), np.array([31,28]), np.array([33,31]),\n",
    "                                    np.array([55,54]), np.array([59,51]), np.array([63,65]), np.array([56,62]), np.array([61,61]))"
   ]
  },
  {
   "cell_type": "code",
   "execution_count": 18,
   "id": "a117d501",
   "metadata": {},
   "outputs": [
    {
     "name": "stdout",
     "output_type": "stream",
     "text": [
      "[[array([4, 2])], [array([3, 6])], [array([33, 31])], [array([23, 25])], [array([63, 65])]]\n",
      "means = [array([4., 2.]), array([3. , 6.4]), array([31.  , 30.75]), array([23.66666667, 27.        ]), array([59.5       , 59.66666667])]\n",
      "[[array([4., 2.])], [array([3. , 6.4])], [array([31.  , 30.75])], [array([23.66666667, 27.        ])], [array([59.5       , 59.66666667])]]\n",
      "means = [array([4., 2.]), array([3.  , 6.48]), array([30.5   , 30.6875]), array([23.88888889, 27.66666667]), array([58.91666667, 58.77777778])]\n",
      "[[array([4., 2.])], [array([3.  , 6.48])], [array([30.5   , 30.6875])], [array([23.88888889, 27.66666667])], [array([58.91666667, 58.77777778])]]\n",
      "means = [array([4., 2.]), array([3.   , 6.496]), array([30.375   , 30.671875]), array([23.96296296, 27.88888889]), array([58.81944444, 58.62962963])]\n",
      "[[array([4., 2.])], [array([3.   , 6.496])], [array([30.375   , 30.671875])], [array([23.96296296, 27.88888889])], [array([58.81944444, 58.62962963])]]\n",
      "means = [array([4., 2.]), array([3.    , 6.4992]), array([30.34375   , 30.66796875]), array([23.98765432, 27.96296296]), array([58.80324074, 58.60493827])]\n",
      "[[array([4., 2.])], [array([3.    , 6.4992])], [array([30.34375   , 30.66796875])], [array([23.98765432, 27.96296296])], [array([58.80324074, 58.60493827])]]\n",
      "means = [array([4., 2.]), array([3.     , 6.49984]), array([30.3359375 , 30.66699219]), array([23.99588477, 27.98765432]), array([58.80054012, 58.60082305])]\n",
      "[[array([4., 2.])], [array([3.     , 6.49984])], [array([30.3359375 , 30.66699219])], [array([23.99588477, 27.98765432])], [array([58.80054012, 58.60082305])]]\n",
      "means = [array([4., 2.]), array([3.      , 6.499968]), array([30.33398438, 30.66674805]), array([23.99862826, 27.99588477]), array([58.80009002, 58.60013717])]\n",
      "[[array([4., 2.])], [array([3.      , 6.499968])], [array([30.33398438, 30.66674805])], [array([23.99862826, 27.99588477])], [array([58.80009002, 58.60013717])]]\n",
      "means = [array([4., 2.]), array([3.       , 6.4999936]), array([30.33349609, 30.66668701]), array([23.99954275, 27.99862826]), array([58.800015  , 58.60002286])]\n",
      "[[array([4., 2.])], [array([3.       , 6.4999936])], [array([30.33349609, 30.66668701])], [array([23.99954275, 27.99862826])], [array([58.800015  , 58.60002286])]]\n",
      "means = [array([4., 2.]), array([3.        , 6.49999872]), array([30.33337402, 30.66667175]), array([23.99984758, 27.99954275]), array([58.8000025 , 58.60000381])]\n",
      "[[array([4., 2.])], [array([3.        , 6.49999872])], [array([30.33337402, 30.66667175])], [array([23.99984758, 27.99954275])], [array([58.8000025 , 58.60000381])]]\n",
      "means = [array([4., 2.]), array([3.        , 6.49999974]), array([30.33334351, 30.66666794]), array([23.99994919, 27.99984758]), array([58.80000042, 58.60000064])]\n",
      "[[array([4., 2.])], [array([3.        , 6.49999974])], [array([30.33334351, 30.66666794])], [array([23.99994919, 27.99984758])], [array([58.80000042, 58.60000064])]]\n",
      "means = [array([4., 2.]), array([3.        , 6.49999995]), array([30.33333588, 30.66666698]), array([23.99998306, 27.99994919]), array([58.80000007, 58.60000011])]\n",
      "[[array([4., 2.])], [array([3.        , 6.49999995])], [array([30.33333588, 30.66666698])], [array([23.99998306, 27.99994919])], [array([58.80000007, 58.60000011])]]\n",
      "means = [array([4., 2.]), array([3.        , 6.49999999]), array([30.33333397, 30.66666675]), array([23.99999435, 27.99998306]), array([58.80000001, 58.60000002])]\n",
      "[[array([4., 2.])], [array([3.        , 6.49999999])], [array([30.33333397, 30.66666675])], [array([23.99999435, 27.99998306])], [array([58.80000001, 58.60000002])]]\n",
      "It took 10 cycles!\n"
     ]
    },
    {
     "data": {
      "text/plain": [
       "[[array([4., 2.]), array([4, 2])],\n",
       " [array([3.        , 6.49999999]),\n",
       "  array([1, 5]),\n",
       "  array([3, 6]),\n",
       "  array([3, 7]),\n",
       "  array([5, 8])],\n",
       " [array([30.33333397, 30.66666675]),\n",
       "  array([27, 33]),\n",
       "  array([31, 28]),\n",
       "  array([33, 31])],\n",
       " [array([23.99999435, 27.99998306]), array([25, 31]), array([23, 25])],\n",
       " [array([58.80000001, 58.60000002]),\n",
       "  array([55, 54]),\n",
       "  array([59, 51]),\n",
       "  array([63, 65]),\n",
       "  array([56, 62]),\n",
       "  array([61, 61])]]"
      ]
     },
     "execution_count": 18,
     "metadata": {},
     "output_type": "execute_result"
    }
   ],
   "source": [
    "class k_means():\n",
    "    def __init__(self, data, k):\n",
    "        self.data = data\n",
    "        self.k = k\n",
    "    def ini_centroids(self, data, k):\n",
    "        lst = []\n",
    "        data_len = len(self.data)\n",
    "        choices = np.random.choice(range(data_len), size=self.k, replace=False)\n",
    "        for i in choices:\n",
    "            lst.append([self.data[i]])\n",
    "        return [i[0] for i in lst]\n",
    "    def array_remove(self, base_array, test_array):\n",
    "        for index in range(len(base_array)):\n",
    "            if np.array_equal(base_array[index], test_array):\n",
    "                base_array.pop(index)\n",
    "            else:\n",
    "                break\n",
    "        return base_array\n",
    "    \n",
    "    def clusters(self,centroids):\n",
    "        cluster_vals = []\n",
    "        #print(cluster_vals)\n",
    "        for i in range(len(centroids)):\n",
    "            cluster_vals.append([centroids[i]])\n",
    "        print(cluster_vals)\n",
    "        for y in self.data:\n",
    "            distances = []\n",
    "            for i in range(len(cluster_vals)):\n",
    "                distances.append(np.linalg.norm(y - cluster_vals[i][0]))\n",
    "            #print(distances)\n",
    "            idx = distances.index(min(distances))\n",
    "            cluster_vals[idx].append(y)\n",
    "        for y in centroids:\n",
    "            cluster_vals = self.array_remove(cluster_vals, y)\n",
    "                        \n",
    "        return cluster_vals\n",
    "    def update(self,clust_vals):\n",
    "        cluster_means = []\n",
    "        for x in clust_vals:\n",
    "            cluster_means.append(sum(x[::])/len(x))\n",
    "\n",
    "        print('means = ' + str(cluster_means))\n",
    "        return self.clusters(cluster_means)\n",
    "    def k_means_func(self):\n",
    "        centroids = self.ini_centroids(self.data, self.k)\n",
    "        cluster_values = self.clusters(centroids)\n",
    "        updates = self.update(cluster_values)\n",
    "        count = 0\n",
    "        for i in range(10):\n",
    "            count += 1\n",
    "            updates = self.update(updates)\n",
    "            #print(updates)\n",
    "        print('It took ' + str(count) + ' cycles!')\n",
    "        return updates\n",
    "    def plot(self):\n",
    "        k_mean = self.k_means_func()\n",
    "        for i in range(len(k_mean)):\n",
    "            plt.plot(k_mean[i], [0]*len(k_mean[i]), 'o')\n",
    "            plt.plot(np.mean(k_mean[i]), [0],'x', markersize=15)\n",
    "    \n",
    "        \n",
    "test = k_means(data, 5)    \n",
    "test.k_means_func()"
   ]
  },
  {
   "cell_type": "markdown",
   "id": "8954389e",
   "metadata": {},
   "source": [
    "Having an issue with higher k numbers. "
   ]
  }
 ],
 "metadata": {
  "kernelspec": {
   "display_name": "Python 3",
   "language": "python",
   "name": "python3"
  },
  "language_info": {
   "codemirror_mode": {
    "name": "ipython",
    "version": 3
   },
   "file_extension": ".py",
   "mimetype": "text/x-python",
   "name": "python",
   "nbconvert_exporter": "python",
   "pygments_lexer": "ipython3",
   "version": "3.8.8"
  }
 },
 "nbformat": 4,
 "nbformat_minor": 5
}
