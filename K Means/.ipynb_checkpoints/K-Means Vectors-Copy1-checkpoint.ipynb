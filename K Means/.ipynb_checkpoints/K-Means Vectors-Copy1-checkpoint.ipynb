{
 "cells": [
  {
   "cell_type": "code",
   "execution_count": 2,
   "id": "9e8880a4",
   "metadata": {},
   "outputs": [],
   "source": [
    "import numpy as np\n",
    "data=(np.array([1,5]), np.array([3,6]), np.array([4,2]), np.array([3,7]), np.array([5,8]),\n",
    "                                    np.array([25,31]), np.array([27,33]), np.array([23,25]), np.array([31,28]), np.array([33,31]),\n",
    "                                    np.array([55,54]), np.array([59,51]), np.array([63,65]), np.array([56,62]), np.array([61,61]))"
   ]
  },
  {
   "cell_type": "code",
   "execution_count": 3,
   "id": "59943f3f",
   "metadata": {
    "scrolled": true
   },
   "outputs": [
    {
     "name": "stdout",
     "output_type": "stream",
     "text": [
      "[array([61, 61]), array([3, 6])]\n",
      "[[array([61, 61])], [array([3, 6])]]\n",
      "[[array([55, 54]), array([59, 51]), array([63, 65]), array([56, 62]), array([61, 61])], [array([1, 5]), array([3, 6]), array([4, 2]), array([3, 7]), array([5, 8]), array([25, 31]), array([27, 33]), array([23, 25]), array([31, 28]), array([33, 31])]]\n"
     ]
    }
   ],
   "source": [
    "def ini_centroids(data, k):\n",
    "        lst = []\n",
    "        data_len = len(data)\n",
    "        choices = np.random.choice(range(data_len), size=k, replace=False)\n",
    "        for i in choices:\n",
    "            lst.append([data[i]])\n",
    "        return [i[0] for i in lst]\n",
    "\n",
    "    \n",
    "#print(ini_centroids(data=(np.array([1,5]), np.array([3,6]), np.array([2,5])),k=2))\n",
    "ini_centroids_test = ini_centroids(data=(np.array([1,5]), np.array([3,6]), np.array([4,2]), np.array([3,7]), np.array([5,8]),\n",
    "                                    np.array([25,31]), np.array([27,33]), np.array([23,25]), np.array([31,28]), np.array([33,31]),\n",
    "                                    np.array([55,54]), np.array([59,51]), np.array([63,65]), np.array([56,62]), np.array([61,61])),k=2)\n",
    "print(ini_centroids_test)\n",
    "def clusters(centroids):\n",
    "        cluster_vals = []\n",
    "        for i in range(len(centroids)):\n",
    "            cluster_vals.append([centroids[i]])\n",
    "        print(cluster_vals)\n",
    "        for y in data:\n",
    "            distances = []\n",
    "            for i in range(len(cluster_vals)):\n",
    "                distances.append(np.linalg.norm(y - cluster_vals[i][0]))\n",
    "            #print(distances)\n",
    "            idx = distances.index(min(distances))\n",
    "            cluster_vals[idx].append(y)\n",
    "        for x in cluster_vals:\n",
    "            for i in range(len(x)):\n",
    "                for c in range(len(centroids)):\n",
    "                    if np.array_equal(x[0], centroids[c]):\n",
    "                        x.remove(x[0])\n",
    "                        \n",
    "        return cluster_vals\n",
    "\n",
    "print(clusters(ini_centroids_test))"
   ]
  },
  {
   "cell_type": "code",
   "execution_count": 4,
   "id": "706bef8d",
   "metadata": {},
   "outputs": [
    {
     "name": "stdout",
     "output_type": "stream",
     "text": [
      "[[array([61, 61])], [array([3, 6])]]\n",
      "means = [array([58.8, 58.6]), array([15.5, 17.6])]\n",
      "[[array([58.8, 58.6])], [array([15.5, 17.6])]]\n",
      "[[array([55, 54]), array([59, 51]), array([63, 65]), array([56, 62]), array([61, 61])], [array([1, 5]), array([3, 6]), array([4, 2]), array([3, 7]), array([5, 8]), array([25, 31]), array([27, 33]), array([23, 25]), array([31, 28]), array([33, 31])]]\n"
     ]
    }
   ],
   "source": [
    "def update(clust_vals):\n",
    "    cluster_means = []\n",
    "    for x in clust_vals:\n",
    "        cluster_means.append(sum(x[::])/len(x))\n",
    "        \n",
    "    print('means = ' + str(cluster_means))\n",
    "    return clusters(cluster_means)\n",
    "    \n",
    "print(update(clusters(ini_centroids_test)))"
   ]
  },
  {
   "cell_type": "code",
   "execution_count": 5,
   "id": "8ca8597e",
   "metadata": {},
   "outputs": [
    {
     "name": "stdout",
     "output_type": "stream",
     "text": [
      "[array([3, 6]), array([3, 7])]\n",
      "[[array([3, 6])], [array([3, 7])]]\n",
      "[[array([1, 5]), array([3, 6]), array([4, 2])], [array([5, 8]), array([25, 31]), array([27, 33]), array([23, 25]), array([31, 28]), array([33, 31]), array([55, 54]), array([59, 51]), array([63, 65]), array([56, 62]), array([61, 61])]]\n",
      "means = [array([2.66666667, 4.33333333]), array([39.81818182, 40.81818182])]\n",
      "[[array([2.66666667, 4.33333333])], [array([39.81818182, 40.81818182])]]\n"
     ]
    },
    {
     "data": {
      "text/plain": [
       "[[array([1, 5]), array([3, 6]), array([4, 2]), array([3, 7]), array([5, 8])],\n",
       " [array([25, 31]),\n",
       "  array([27, 33]),\n",
       "  array([23, 25]),\n",
       "  array([31, 28]),\n",
       "  array([33, 31]),\n",
       "  array([55, 54]),\n",
       "  array([59, 51]),\n",
       "  array([63, 65]),\n",
       "  array([56, 62]),\n",
       "  array([61, 61])]]"
      ]
     },
     "execution_count": 5,
     "metadata": {},
     "output_type": "execute_result"
    }
   ],
   "source": [
    "centroids = ini_centroids(data, 2)\n",
    "print(centroids)\n",
    "cluster_values = clusters(centroids)\n",
    "print(cluster_values)\n",
    "updates1 = update(cluster_values)\n",
    "updates1"
   ]
  },
  {
   "cell_type": "code",
   "execution_count": 10,
   "id": "a117d501",
   "metadata": {},
   "outputs": [
    {
     "name": "stdout",
     "output_type": "stream",
     "text": [
      "[]\n",
      "[[array([33, 31])], [array([59, 51])], [array([25, 31])], [array([1, 5])]]\n",
      "means = [array([32. , 29.5]), array([58.8, 58.6]), array([25., 29.]), array([3.75, 5.75])]\n",
      "[[array([32. , 29.5])], [array([58.8, 58.6])], [array([25., 29.])], [array([3.75, 5.75])]]\n",
      "means = [array([32. , 29.5]), array([58.8, 58.6]), array([25.        , 29.66666667]), array([3.2, 5.6])]\n",
      "[[array([32. , 29.5])], [array([58.8, 58.6])], [array([25.        , 29.66666667])], [array([3.2, 5.6])]]\n",
      "It took 0 cycles!\n"
     ]
    },
    {
     "data": {
      "text/plain": [
       "[[array([31, 28]), array([33, 31])],\n",
       " [array([55, 54]),\n",
       "  array([59, 51]),\n",
       "  array([63, 65]),\n",
       "  array([56, 62]),\n",
       "  array([61, 61])],\n",
       " [array([25, 31]), array([27, 33]), array([23, 25])],\n",
       " [array([1, 5]), array([3, 6]), array([4, 2]), array([3, 7]), array([5, 8])]]"
      ]
     },
     "execution_count": 10,
     "metadata": {},
     "output_type": "execute_result"
    }
   ],
   "source": [
    "class k_means():\n",
    "    def __init__(self, data, k):\n",
    "        self.data = data\n",
    "        self.k = k\n",
    "    def ini_centroids(self, data, k):\n",
    "        lst = []\n",
    "        data_len = len(self.data)\n",
    "        choices = np.random.choice(range(data_len), size=self.k, replace=False)\n",
    "        for i in choices:\n",
    "            lst.append([self.data[i]])\n",
    "        return [i[0] for i in lst]\n",
    "        return [i[0] for i in lst]\n",
    "    def clusters(self,centroids):\n",
    "        cluster_vals = []\n",
    "        print(cluster_vals)\n",
    "        for i in range(len(centroids)):\n",
    "            cluster_vals.append([centroids[i]])\n",
    "        print(cluster_vals)\n",
    "        for y in self.data:\n",
    "            distances = []\n",
    "            for i in range(len(cluster_vals)):\n",
    "                distances.append(np.linalg.norm(y - cluster_vals[i][0]))\n",
    "            #print(distances)\n",
    "            idx = distances.index(min(distances))\n",
    "            cluster_vals[idx].append(y)\n",
    "        for x in cluster_vals:\n",
    "            for i in range(len(x)):\n",
    "                for c in range(len(centroids)):\n",
    "                    if np.array_equal(x[0], centroids[c]):\n",
    "                        x.remove(x[0])\n",
    "                        \n",
    "        return cluster_vals\n",
    "    def update(self,clust_vals):\n",
    "        cluster_means = []\n",
    "        for x in clust_vals:\n",
    "            cluster_means.append(sum(x[::])/len(x))\n",
    "\n",
    "        print('means = ' + str(cluster_means))\n",
    "        return clusters(cluster_means)\n",
    "    def k_means_func(self):\n",
    "        centroids = ini_centroids(self.data, self.k)\n",
    "        cluster_values = self.clusters(centroids)\n",
    "        updates = self.update(cluster_values)\n",
    "        count = 0\n",
    "        while updates != self.update(updates):\n",
    "            count += 1\n",
    "            updates = self.update(updates)\n",
    "            #print(updates)\n",
    "        print('It took ' + str(count) + ' cycles!')\n",
    "        return updates\n",
    "    def plot(self):\n",
    "        k_mean = self.k_means_func()\n",
    "        for i in range(len(k_mean)):\n",
    "            plt.plot(k_mean[i], [0]*len(k_mean[i]), 'o')\n",
    "            plt.plot(np.mean(k_mean[i]), [0],'x', markersize=15)\n",
    "    \n",
    "        \n",
    "test = k_means(data, 4)    \n",
    "test.k_means_func()"
   ]
  },
  {
   "cell_type": "markdown",
   "id": "8954389e",
   "metadata": {},
   "source": [
    "Having an issue with higher k numbers. "
   ]
  }
 ],
 "metadata": {
  "kernelspec": {
   "display_name": "Python 3",
   "language": "python",
   "name": "python3"
  },
  "language_info": {
   "codemirror_mode": {
    "name": "ipython",
    "version": 3
   },
   "file_extension": ".py",
   "mimetype": "text/x-python",
   "name": "python",
   "nbconvert_exporter": "python",
   "pygments_lexer": "ipython3",
   "version": "3.8.8"
  }
 },
 "nbformat": 4,
 "nbformat_minor": 5
}
