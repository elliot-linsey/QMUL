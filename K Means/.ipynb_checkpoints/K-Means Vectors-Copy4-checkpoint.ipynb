{
 "cells": [
  {
   "cell_type": "code",
   "execution_count": 468,
   "id": "9e8880a4",
   "metadata": {},
   "outputs": [],
   "source": [
    "import numpy as np\n",
    "import functools\n",
    "import time\n",
    "from matplotlib import pyplot as plt\n",
    "\n",
    "data = np.array([[1,5],\n",
    "                [3,6],\n",
    "                [4,2],\n",
    "                [3,7],\n",
    "                [5,8],\n",
    "                [25,31],\n",
    "                [27,33],\n",
    "                [23,25],\n",
    "                [31,28],\n",
    "                [33,31],\n",
    "                [55,54],\n",
    "                [59,51],\n",
    "                [63,65],\n",
    "                [56,62],\n",
    "                [61,61]])"
   ]
  },
  {
   "cell_type": "code",
   "execution_count": 469,
   "id": "17657a0e",
   "metadata": {},
   "outputs": [],
   "source": [
    "# def timer(func):\n",
    "#     @functools.wraps(func)\n",
    "#     def wrapper_timer(*args, **kwargs):\n",
    "#         start = time.perf_counter()\n",
    "#         #'value' is the function being timed\n",
    "#         value = func(*args, **kwargs)\n",
    "#         end = time.perf_counter()\n",
    "#         print(f'Finished {func.__name__!r} in {end-start:.8f} seconds!')\n",
    "#         return value\n",
    "#     return wrapper_timer"
   ]
  },
  {
   "cell_type": "code",
   "execution_count": 472,
   "id": "a117d501",
   "metadata": {},
   "outputs": [
    {
     "name": "stdout",
     "output_type": "stream",
     "text": [
      "It took 3 cycles!\n",
      "It took 3 cycles!\n"
     ]
    },
    {
     "data": {
      "image/png": "[encoded data removed]",
      "text/plain": [
       "<Figure size 432x288 with 1 Axes>"
      ]
     },
     "metadata": {
      "needs_background": "light"
     },
     "output_type": "display_data"
    }
   ],
   "source": [
    "class k_means():\n",
    "    def __init__(self, data, k):\n",
    "        self.data = data\n",
    "        self.k = k\n",
    "    def ini_centroids(self, data, k):\n",
    "        lst = []\n",
    "        data_len = len(self.data)\n",
    "        choices = np.random.choice(range(data_len), size=self.k, replace=False)\n",
    "        for i in choices:\n",
    "            lst.append([self.data[i]])\n",
    "        return [i[0] for i in lst]\n",
    "    def array_remove(self, base_array, test_array):\n",
    "        for index in range(len(base_array)):\n",
    "            if np.array_equal(base_array[index], test_array):\n",
    "                base_array.pop(index)\n",
    "            else:\n",
    "                break\n",
    "        return base_array\n",
    "    \n",
    "    def clusters(self,centroids):\n",
    "        cluster_vals = []\n",
    "        #print(cluster_vals)\n",
    "        for i in range(len(centroids)):\n",
    "            cluster_vals.append([centroids[i]])\n",
    "        #print(cluster_vals)\n",
    "        for y in self.data:\n",
    "            distances = []\n",
    "            for i in range(len(cluster_vals)):\n",
    "                distances.append(np.linalg.norm(y - cluster_vals[i][0]))\n",
    "            #print(distances)\n",
    "            idx = distances.index(min(distances))\n",
    "            cluster_vals[idx].append(y)\n",
    "        for y in centroids:\n",
    "            cluster_vals = self.array_remove(cluster_vals, y)\n",
    "                        \n",
    "        return cluster_vals\n",
    "    def update(self,clust_vals):\n",
    "        cluster_means = []\n",
    "        for x in clust_vals:\n",
    "            cluster_means.append(sum(x[::])/len(x))\n",
    "\n",
    "        #print('means = ' + str(cluster_means))\n",
    "        return self.clusters(cluster_means)\n",
    "    #@timer\n",
    "    def k_means_func(self):\n",
    "        centroids = self.ini_centroids(self.data, self.k)\n",
    "        cluster_values = self.clusters(centroids)\n",
    "        updates = self.update(cluster_values)\n",
    "        count = 0\n",
    "        for i in range(len(updates)):\n",
    "            if not np.array_equal(np.round(updates[i][0],3), np.round(self.update(updates)[i][0],3)):\n",
    "                count += 1\n",
    "                updates = self.update(updates)\n",
    "                #print(updates)\n",
    "        print('It took ' + str(count) + ' cycles!')\n",
    "        return updates\n",
    "    def plot(self):\n",
    "        test_plot = self.k_means_func()\n",
    "        test_array = np.array([np.array(xi) for xi in test_plot],dtype=object)\n",
    "        #print(test_array)\n",
    "        for i in range(self.k):\n",
    "            plt.scatter(test_array[i][1:,0], test_array[i][1:,1])\n",
    "            plt.scatter(test_array[i][0][0], test_array[i][0][1], marker='x', s=80)\n",
    "        return plt.show()\n",
    "        \n",
    "test = k_means(data, 3)    \n",
    "test.k_means_func()\n",
    "\n",
    "test.plot()"
   ]
  }
 ],
 "metadata": {
  "kernelspec": {
   "display_name": "Python 3",
   "language": "python",
   "name": "python3"
  },
  "language_info": {
   "codemirror_mode": {
    "name": "ipython",
    "version": 3
   },
   "file_extension": ".py",
   "mimetype": "text/x-python",
   "name": "python",
   "nbconvert_exporter": "python",
   "pygments_lexer": "ipython3",
   "version": "3.8.8"
  }
 },
 "nbformat": 4,
 "nbformat_minor": 5
}
