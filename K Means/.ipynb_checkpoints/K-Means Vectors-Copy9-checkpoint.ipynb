{
 "cells": [
  {
   "cell_type": "code",
   "execution_count": 77,
   "id": "9e8880a4",
   "metadata": {},
   "outputs": [
    {
     "name": "stdout",
     "output_type": "stream",
     "text": [
      "1\n",
      "2\n"
     ]
    },
    {
     "data": {
      "text/plain": [
       "array([[ 1.,  0.],\n",
       "       [ 5.,  0.],\n",
       "       [ 3.,  0.],\n",
       "       [ 2.,  0.],\n",
       "       [ 6.,  0.],\n",
       "       [25.,  0.],\n",
       "       [26.,  0.],\n",
       "       [24.,  0.],\n",
       "       [27.,  0.],\n",
       "       [28.,  0.],\n",
       "       [53.,  0.],\n",
       "       [52.,  0.],\n",
       "       [50.,  0.],\n",
       "       [49.,  0.],\n",
       "       [51.,  0.]])"
      ]
     },
     "execution_count": 77,
     "metadata": {},
     "output_type": "execute_result"
    }
   ],
   "source": [
    "import numpy as np\n",
    "import functools\n",
    "import time\n",
    "from matplotlib import pyplot as plt\n",
    "from sklearn import datasets\n",
    "\n",
    "data = np.array([[1,5],\n",
    "                [3,6],\n",
    "                [4,2],\n",
    "                [3,7],\n",
    "                [5,8],\n",
    "                [25,31],\n",
    "                [27,33],\n",
    "                [23,25],\n",
    "                [31,28],\n",
    "                [33,31],\n",
    "                [55,54],\n",
    "                [59,51],\n",
    "                [63,65],\n",
    "                [56,62],\n",
    "                [61,61]])\n",
    "\n",
    "data_1d = np.array([1,5,3,2,6,25,26,24,27,28,53,52,50,49,51])\n",
    "print(data_1d.ndim)\n",
    "print(data.ndim)\n",
    "#data_1d = data_1d.reshape(-1,1)\n",
    "stack = np.column_stack([data_1d.reshape(-1,1),np.zeros(np.shape(data_1d))])\n",
    "stack"
   ]
  },
  {
   "cell_type": "code",
   "execution_count": 78,
   "id": "17657a0e",
   "metadata": {},
   "outputs": [],
   "source": [
    "# def timer(func):\n",
    "#     @functools.wraps(func)\n",
    "#     def wrapper_timer(*args, **kwargs):\n",
    "#         start = time.perf_counter()\n",
    "#         #'value' is the function being timed\n",
    "#         value = func(*args, **kwargs)\n",
    "#         end = time.perf_counter()\n",
    "#         print(f'Finished {func.__name__!r} in {end-start:.8f} seconds!')\n",
    "#         return value\n",
    "#     return wrapper_timer"
   ]
  },
  {
   "cell_type": "code",
   "execution_count": 103,
   "id": "a117d501",
   "metadata": {},
   "outputs": [
    {
     "name": "stdout",
     "output_type": "stream",
     "text": [
      "18.21\n",
      "4.4399999999999995\n",
      "11.610000000000001\n",
      "114.35416666666667\n",
      "10.859375\n",
      "4.4399999999999995\n",
      "4.4399999999999995\n",
      "11.610000000000001\n",
      "18.21\n",
      "18.21\n",
      "4.4399999999999995\n",
      "11.610000000000001\n",
      "11.610000000000001\n",
      "18.21\n",
      "4.4399999999999995\n",
      "18.21\n",
      "11.610000000000001\n",
      "4.4399999999999995\n",
      "12.472222222222223\n",
      "2.75\n",
      "155.64749999999998\n",
      "11.610000000000001\n",
      "18.21\n",
      "4.4399999999999995\n",
      "18.21\n",
      "11.610000000000001\n",
      "4.4399999999999995\n",
      "4.4399999999999995\n",
      "18.21\n",
      "11.610000000000001\n",
      "[34.26, 129.65354166666668, 34.260000000000005, 34.26, 34.26, 34.26, 170.8697222222222, 34.26, 34.26, 34.26]\n"
     ]
    },
    {
     "data": {
      "image/png": "[encoded data removed]",
      "text/plain": [
       "<Figure size 432x288 with 1 Axes>"
      ]
     },
     "metadata": {
      "needs_background": "light"
     },
     "output_type": "display_data"
    }
   ],
   "source": [
    "class k_means():\n",
    "    def __init__(self, data, k):\n",
    "        if data.ndim == 1:\n",
    "            self.data = np.column_stack([data.reshape(-1,1),np.zeros(np.shape(data))])\n",
    "        else:\n",
    "            self.data = data\n",
    "        self.k = k\n",
    "    def ini_centroids(self, data, k):\n",
    "        lst = []\n",
    "        data_len = len(self.data)\n",
    "        choices = np.random.choice(range(data_len), size=self.k, replace=False)\n",
    "        for i in choices:\n",
    "            lst.append([self.data[i]])\n",
    "        #print('centroids = ' + str(lst))\n",
    "        #print([i[0] for i in lst])\n",
    "        return [i[0] for i in lst]\n",
    "    def clusters(self,centroids):\n",
    "        #print('cluster centroids = ' + str(centroids))\n",
    "        cluster_vals = [[] for i in range(len(centroids))]\n",
    "        #print(cluster_vals)\n",
    "        for y in self.data:\n",
    "            distances = []\n",
    "            for x in centroids:\n",
    "                distances.append(np.linalg.norm(y - x))\n",
    "            #print(distances)\n",
    "            idx = distances.index(min(distances))\n",
    "            #print(idx)\n",
    "            cluster_vals[idx].append(y)\n",
    "        for i in range(len(cluster_vals)):\n",
    "            if len(cluster_vals[i]) == 0:\n",
    "                cluster_vals[i].append(centroids[i])\n",
    "        #print(cluster_vals)               \n",
    "        return cluster_vals\n",
    "    def update(self,clust_vals):\n",
    "        cluster_means = []\n",
    "        for x in clust_vals:\n",
    "            cluster_means.append(sum(x[::])/len(x))\n",
    "            #print('x = ' + str(x))\n",
    "        #print('means = ' + str(cluster_means))\n",
    "        return self.clusters(cluster_means)\n",
    "    #@timer\n",
    "    def k_means_func(self):\n",
    "        centroids = self.ini_centroids(self.data, self.k)\n",
    "        cluster_values = self.clusters(centroids)\n",
    "        updates = self.update(cluster_values)\n",
    "        count = 0\n",
    "        for i in range(len(updates)):\n",
    "            if not np.array_equal(np.round(updates[i][0],3), np.round(self.update(updates)[i][0],3)):\n",
    "                count += 1\n",
    "                updates = self.update(updates)\n",
    "                #print(updates)\n",
    "        #print('It took ' + str(count) + ' cycles!')\n",
    "        return updates\n",
    "    def k_means_repeat(self):\n",
    "        clusters = []\n",
    "        variances = []\n",
    "        for r in range(10):\n",
    "            clusters.append(self.k_means_func())\n",
    "        for x in clusters:\n",
    "            count = 0\n",
    "            for i in range(self.k):\n",
    "                count += np.var(x[i])\n",
    "                print(np.var(x[i]))\n",
    "            #print(count)\n",
    "            variances.append(count)\n",
    "        print(variances)\n",
    "        return clusters[variances.index(np.min(variances))]\n",
    "    def plot(self):\n",
    "        test_plot = self.k_means_func()\n",
    "        test_array = np.array([np.array(xi) for xi in test_plot],dtype=object)\n",
    "        #print('test array = ' + str(np.mean(test_array[0][:,0])))\n",
    "        colors = ['red','green','blue','purple','orange','brown','pink','olive','cyan','gray']\n",
    "        for i in range(self.k):\n",
    "            plt.scatter(test_array[i][:,0], test_array[i][:,1], color = colors[i])\n",
    "            plt.scatter(np.mean(test_array[i][:,0]), np.mean(test_array[i][:,1]), marker='x', s=80, color=colors[i])\n",
    "        return plt.show()\n",
    "    def plot_2(self):\n",
    "        test_plot = self.k_means_repeat()\n",
    "        #print(test_plot)\n",
    "        test_array = np.array([np.array(xi) for xi in test_plot],dtype=object)\n",
    "        #print(test_array)\n",
    "        colors = ['red','green','blue','purple','orange','brown','pink','olive','cyan','gray']\n",
    "        \n",
    "        for i in range(self.k):\n",
    "            plt.scatter(test_array[i][:,0], test_array[i][:,1], color = colors[i])\n",
    "            plt.scatter(np.mean(test_array[i][:,0]), np.mean(test_array[i][:,1]), marker='x', s=80, color=colors[i])\n",
    "        return plt.show()\n",
    "        \n",
    "test = k_means(data, 3)    \n",
    "#test.k_means_repeat()\n",
    "\n",
    "test.plot_2()"
   ]
  },
  {
   "cell_type": "code",
   "execution_count": 94,
   "id": "ebeb802b",
   "metadata": {},
   "outputs": [
    {
     "name": "stdout",
     "output_type": "stream",
     "text": [
      "4.609999999999999\n",
      "170.0\n",
      "651.25\n",
      "689.1875\n",
      "625.3333333333334\n",
      "119.2275\n",
      "612.6875\n",
      "119.2275\n",
      "676.3333333333334\n",
      "4.609999999999999\n",
      "651.25\n",
      "170.0\n",
      "495.0625\n",
      "651.25\n",
      "119.2275\n",
      "170.0\n",
      "4.609999999999999\n",
      "651.25\n",
      "170.0\n",
      "651.25\n",
      "4.609999999999999\n",
      "4.609999999999999\n",
      "170.0\n",
      "651.25\n",
      "4.609999999999999\n",
      "170.0\n",
      "651.25\n",
      "170.0\n",
      "4.609999999999999\n",
      "651.25\n",
      "[825.86, 1433.7483333333334, 1408.2483333333334, 825.86, 1265.54, 825.86, 825.86, 825.86, 825.86, 825.86]\n"
     ]
    },
    {
     "data": {
      "image/png": "[encoded data removed]",
      "text/plain": [
       "<Figure size 432x288 with 1 Axes>"
      ]
     },
     "metadata": {
      "needs_background": "light"
     },
     "output_type": "display_data"
    }
   ],
   "source": [
    "one_d = k_means(data_1d,3)\n",
    "one_d.plot_2()"
   ]
  },
  {
   "cell_type": "code",
   "execution_count": null,
   "id": "ac470b23",
   "metadata": {},
   "outputs": [],
   "source": []
  },
  {
   "cell_type": "code",
   "execution_count": 81,
   "id": "6cedf96d",
   "metadata": {},
   "outputs": [],
   "source": [
    "iris = datasets.load_iris()\n",
    "#iris['data']"
   ]
  },
  {
   "cell_type": "code",
   "execution_count": 82,
   "id": "999553a0",
   "metadata": {},
   "outputs": [
    {
     "data": {
      "text/html": [
       "<div>\n",
       "<style scoped>\n",
       "    .dataframe tbody tr th:only-of-type {\n",
       "        vertical-align: middle;\n",
       "    }\n",
       "\n",
       "    .dataframe tbody tr th {\n",
       "        vertical-align: top;\n",
       "    }\n",
       "\n",
       "    .dataframe thead th {\n",
       "        text-align: right;\n",
       "    }\n",
       "</style>\n",
       "<table border=\"1\" class=\"dataframe\">\n",
       "  <thead>\n",
       "    <tr style=\"text-align: right;\">\n",
       "      <th></th>\n",
       "      <th>pc1</th>\n",
       "      <th>pc2</th>\n",
       "    </tr>\n",
       "  </thead>\n",
       "  <tbody>\n",
       "    <tr>\n",
       "      <th>1</th>\n",
       "      <td>-2.684126</td>\n",
       "      <td>0.319397</td>\n",
       "    </tr>\n",
       "    <tr>\n",
       "      <th>2</th>\n",
       "      <td>-2.714142</td>\n",
       "      <td>-0.177001</td>\n",
       "    </tr>\n",
       "    <tr>\n",
       "      <th>3</th>\n",
       "      <td>-2.888991</td>\n",
       "      <td>-0.144949</td>\n",
       "    </tr>\n",
       "    <tr>\n",
       "      <th>4</th>\n",
       "      <td>-2.745343</td>\n",
       "      <td>-0.318299</td>\n",
       "    </tr>\n",
       "    <tr>\n",
       "      <th>5</th>\n",
       "      <td>-2.728717</td>\n",
       "      <td>0.326755</td>\n",
       "    </tr>\n",
       "    <tr>\n",
       "      <th>...</th>\n",
       "      <td>...</td>\n",
       "      <td>...</td>\n",
       "    </tr>\n",
       "    <tr>\n",
       "      <th>146</th>\n",
       "      <td>1.944110</td>\n",
       "      <td>0.187532</td>\n",
       "    </tr>\n",
       "    <tr>\n",
       "      <th>147</th>\n",
       "      <td>1.527167</td>\n",
       "      <td>-0.375317</td>\n",
       "    </tr>\n",
       "    <tr>\n",
       "      <th>148</th>\n",
       "      <td>1.764346</td>\n",
       "      <td>0.078859</td>\n",
       "    </tr>\n",
       "    <tr>\n",
       "      <th>149</th>\n",
       "      <td>1.900942</td>\n",
       "      <td>0.116628</td>\n",
       "    </tr>\n",
       "    <tr>\n",
       "      <th>150</th>\n",
       "      <td>1.390189</td>\n",
       "      <td>-0.282661</td>\n",
       "    </tr>\n",
       "  </tbody>\n",
       "</table>\n",
       "<p>150 rows × 2 columns</p>\n",
       "</div>"
      ],
      "text/plain": [
       "          pc1       pc2\n",
       "1   -2.684126  0.319397\n",
       "2   -2.714142 -0.177001\n",
       "3   -2.888991 -0.144949\n",
       "4   -2.745343 -0.318299\n",
       "5   -2.728717  0.326755\n",
       "..        ...       ...\n",
       "146  1.944110  0.187532\n",
       "147  1.527167 -0.375317\n",
       "148  1.764346  0.078859\n",
       "149  1.900942  0.116628\n",
       "150  1.390189 -0.282661\n",
       "\n",
       "[150 rows x 2 columns]"
      ]
     },
     "execution_count": 82,
     "metadata": {},
     "output_type": "execute_result"
    }
   ],
   "source": [
    "from sklearn.decomposition import PCA\n",
    "import pandas as pd\n",
    "numComponents = 2\n",
    "pca = PCA(n_components=numComponents)\n",
    "pca.fit(iris['data'])\n",
    "\n",
    "projected = pca.transform(iris['data'])\n",
    "projected = pd.DataFrame(projected,columns=['pc1','pc2'],index=range(1,len(iris['data'])+1))\n",
    "projected"
   ]
  },
  {
   "cell_type": "code",
   "execution_count": 83,
   "id": "08c9710c",
   "metadata": {},
   "outputs": [
    {
     "name": "stdout",
     "output_type": "stream",
     "text": [
      "[3.476361716210361, 3.6974536100506494, 3.712555585804468, 4.003088548375916, 4.149990682273208, 3.6974536100506494, 4.877406941496295, 3.7617366839393176, 4.215386021395121, 3.9633830177327343]\n"
     ]
    },
    {
     "data": {
      "image/png": "[encoded data removed]",
      "text/plain": [
       "<Figure size 432x288 with 1 Axes>"
      ]
     },
     "metadata": {
      "needs_background": "light"
     },
     "output_type": "display_data"
    }
   ],
   "source": [
    "projected_np = projected.to_numpy()\n",
    "projected_np\n",
    "projected_k = k_means(projected_np,3)\n",
    "projected_k.plot_2()\n"
   ]
  },
  {
   "cell_type": "code",
   "execution_count": 84,
   "id": "bd699447",
   "metadata": {},
   "outputs": [
    {
     "name": "stdout",
     "output_type": "stream",
     "text": [
      "4.609999999999999\n"
     ]
    }
   ],
   "source": [
    "print(np.var(np.array([[ 1.,  0.],\n",
    "       [ 5.,  0.],\n",
    "       [ 3.,  0.],\n",
    "       [ 2.,  0.],\n",
    "       [ 6.,  0.]])))"
   ]
  },
  {
   "cell_type": "code",
   "execution_count": 95,
   "id": "c84f990b",
   "metadata": {},
   "outputs": [
    {
     "name": "stdout",
     "output_type": "stream",
     "text": [
      "651.25\n"
     ]
    }
   ],
   "source": [
    "print(np.var(np.array([[53.,  0.],\n",
    "       [52.,  0.],\n",
    "       [50.,  0.],\n",
    "       [49.,  0.],\n",
    "       [51.,  0.]])))"
   ]
  },
  {
   "cell_type": "code",
   "execution_count": 96,
   "id": "55711522",
   "metadata": {},
   "outputs": [
    {
     "name": "stdout",
     "output_type": "stream",
     "text": [
      "2.0\n"
     ]
    }
   ],
   "source": [
    "print(np.var([[53],\n",
    "             [52],\n",
    "             [50],\n",
    "             [49],\n",
    "             [51]]))"
   ]
  },
  {
   "cell_type": "code",
   "execution_count": 99,
   "id": "20b90103",
   "metadata": {},
   "outputs": [],
   "source": [
    "dtest = np.array([[53],\n",
    "             [52],\n",
    "             [50],\n",
    "             [49],\n",
    "             [51],\n",
    "             [1],\n",
    "             [5],\n",
    "            [3],\n",
    "                  [2],\n",
    "                  [6],\n",
    "                  [24],\n",
    "                  [25],\n",
    "                  [26],\n",
    "                  [27],\n",
    "                  [28]])"
   ]
  },
  {
   "cell_type": "code",
   "execution_count": 104,
   "id": "c8582374",
   "metadata": {},
   "outputs": [
    {
     "name": "stdout",
     "output_type": "stream",
     "text": [
      "2.0\n",
      "3.44\n",
      "2.0\n",
      "2.0\n",
      "2.0\n",
      "3.44\n",
      "3.44\n",
      "2.0\n",
      "2.0\n",
      "2.0\n",
      "3.44\n",
      "2.0\n",
      "2.0\n",
      "3.44\n",
      "2.0\n",
      "130.41000000000003\n",
      "0.25\n",
      "0.6666666666666666\n",
      "0.6666666666666666\n",
      "158.25\n",
      "0.25\n",
      "2.0\n",
      "2.0\n",
      "3.44\n",
      "2.0\n",
      "2.0\n",
      "3.44\n",
      "3.44\n",
      "2.0\n",
      "2.0\n",
      "[7.4399999999999995, 7.4399999999999995, 7.4399999999999995, 7.4399999999999995, 7.4399999999999995, 131.32666666666668, 159.16666666666666, 7.4399999999999995, 7.4399999999999995, 7.4399999999999995]\n"
     ]
    },
    {
     "ename": "IndexError",
     "evalue": "index 1 is out of bounds for axis 1 with size 1",
     "output_type": "error",
     "traceback": [
      "\u001b[1;31m---------------------------------------------------------------------------\u001b[0m",
      "\u001b[1;31mIndexError\u001b[0m                                Traceback (most recent call last)",
      "\u001b[1;32m<ipython-input-104-7351d2b64faa>\u001b[0m in \u001b[0;36m<module>\u001b[1;34m\u001b[0m\n\u001b[0;32m      1\u001b[0m \u001b[0mdtest_k\u001b[0m \u001b[1;33m=\u001b[0m \u001b[0mk_means\u001b[0m\u001b[1;33m(\u001b[0m\u001b[0mdtest\u001b[0m\u001b[1;33m,\u001b[0m\u001b[1;36m3\u001b[0m\u001b[1;33m)\u001b[0m\u001b[1;33m\u001b[0m\u001b[1;33m\u001b[0m\u001b[0m\n\u001b[1;32m----> 2\u001b[1;33m \u001b[0mdtest_k\u001b[0m\u001b[1;33m.\u001b[0m\u001b[0mplot_2\u001b[0m\u001b[1;33m(\u001b[0m\u001b[1;33m)\u001b[0m\u001b[1;33m\u001b[0m\u001b[1;33m\u001b[0m\u001b[0m\n\u001b[0m",
      "\u001b[1;32m<ipython-input-103-6bc3ad969a9a>\u001b[0m in \u001b[0;36mplot_2\u001b[1;34m(self)\u001b[0m\n\u001b[0;32m     82\u001b[0m         \u001b[0mcolors\u001b[0m \u001b[1;33m=\u001b[0m \u001b[1;33m[\u001b[0m\u001b[1;34m'red'\u001b[0m\u001b[1;33m,\u001b[0m\u001b[1;34m'green'\u001b[0m\u001b[1;33m,\u001b[0m\u001b[1;34m'blue'\u001b[0m\u001b[1;33m,\u001b[0m\u001b[1;34m'purple'\u001b[0m\u001b[1;33m,\u001b[0m\u001b[1;34m'orange'\u001b[0m\u001b[1;33m,\u001b[0m\u001b[1;34m'brown'\u001b[0m\u001b[1;33m,\u001b[0m\u001b[1;34m'pink'\u001b[0m\u001b[1;33m,\u001b[0m\u001b[1;34m'olive'\u001b[0m\u001b[1;33m,\u001b[0m\u001b[1;34m'cyan'\u001b[0m\u001b[1;33m,\u001b[0m\u001b[1;34m'gray'\u001b[0m\u001b[1;33m]\u001b[0m\u001b[1;33m\u001b[0m\u001b[1;33m\u001b[0m\u001b[0m\n\u001b[0;32m     83\u001b[0m         \u001b[1;32mfor\u001b[0m \u001b[0mi\u001b[0m \u001b[1;32min\u001b[0m \u001b[0mrange\u001b[0m\u001b[1;33m(\u001b[0m\u001b[0mself\u001b[0m\u001b[1;33m.\u001b[0m\u001b[0mk\u001b[0m\u001b[1;33m)\u001b[0m\u001b[1;33m:\u001b[0m\u001b[1;33m\u001b[0m\u001b[1;33m\u001b[0m\u001b[0m\n\u001b[1;32m---> 84\u001b[1;33m             \u001b[0mplt\u001b[0m\u001b[1;33m.\u001b[0m\u001b[0mscatter\u001b[0m\u001b[1;33m(\u001b[0m\u001b[0mtest_array\u001b[0m\u001b[1;33m[\u001b[0m\u001b[0mi\u001b[0m\u001b[1;33m]\u001b[0m\u001b[1;33m[\u001b[0m\u001b[1;33m:\u001b[0m\u001b[1;33m,\u001b[0m\u001b[1;36m0\u001b[0m\u001b[1;33m]\u001b[0m\u001b[1;33m,\u001b[0m \u001b[0mtest_array\u001b[0m\u001b[1;33m[\u001b[0m\u001b[0mi\u001b[0m\u001b[1;33m]\u001b[0m\u001b[1;33m[\u001b[0m\u001b[1;33m:\u001b[0m\u001b[1;33m,\u001b[0m\u001b[1;36m1\u001b[0m\u001b[1;33m]\u001b[0m\u001b[1;33m,\u001b[0m \u001b[0mcolor\u001b[0m \u001b[1;33m=\u001b[0m \u001b[0mcolors\u001b[0m\u001b[1;33m[\u001b[0m\u001b[0mi\u001b[0m\u001b[1;33m]\u001b[0m\u001b[1;33m)\u001b[0m\u001b[1;33m\u001b[0m\u001b[1;33m\u001b[0m\u001b[0m\n\u001b[0m\u001b[0;32m     85\u001b[0m             \u001b[0mplt\u001b[0m\u001b[1;33m.\u001b[0m\u001b[0mscatter\u001b[0m\u001b[1;33m(\u001b[0m\u001b[0mnp\u001b[0m\u001b[1;33m.\u001b[0m\u001b[0mmean\u001b[0m\u001b[1;33m(\u001b[0m\u001b[0mtest_array\u001b[0m\u001b[1;33m[\u001b[0m\u001b[0mi\u001b[0m\u001b[1;33m]\u001b[0m\u001b[1;33m[\u001b[0m\u001b[1;33m:\u001b[0m\u001b[1;33m,\u001b[0m\u001b[1;36m0\u001b[0m\u001b[1;33m]\u001b[0m\u001b[1;33m)\u001b[0m\u001b[1;33m,\u001b[0m \u001b[0mnp\u001b[0m\u001b[1;33m.\u001b[0m\u001b[0mmean\u001b[0m\u001b[1;33m(\u001b[0m\u001b[0mtest_array\u001b[0m\u001b[1;33m[\u001b[0m\u001b[0mi\u001b[0m\u001b[1;33m]\u001b[0m\u001b[1;33m[\u001b[0m\u001b[1;33m:\u001b[0m\u001b[1;33m,\u001b[0m\u001b[1;36m1\u001b[0m\u001b[1;33m]\u001b[0m\u001b[1;33m)\u001b[0m\u001b[1;33m,\u001b[0m \u001b[0mmarker\u001b[0m\u001b[1;33m=\u001b[0m\u001b[1;34m'x'\u001b[0m\u001b[1;33m,\u001b[0m \u001b[0ms\u001b[0m\u001b[1;33m=\u001b[0m\u001b[1;36m80\u001b[0m\u001b[1;33m,\u001b[0m \u001b[0mcolor\u001b[0m\u001b[1;33m=\u001b[0m\u001b[0mcolors\u001b[0m\u001b[1;33m[\u001b[0m\u001b[0mi\u001b[0m\u001b[1;33m]\u001b[0m\u001b[1;33m)\u001b[0m\u001b[1;33m\u001b[0m\u001b[1;33m\u001b[0m\u001b[0m\n\u001b[0;32m     86\u001b[0m         \u001b[1;32mreturn\u001b[0m \u001b[0mplt\u001b[0m\u001b[1;33m.\u001b[0m\u001b[0mshow\u001b[0m\u001b[1;33m(\u001b[0m\u001b[1;33m)\u001b[0m\u001b[1;33m\u001b[0m\u001b[1;33m\u001b[0m\u001b[0m\n",
      "\u001b[1;31mIndexError\u001b[0m: index 1 is out of bounds for axis 1 with size 1"
     ]
    }
   ],
   "source": [
    "dtest_k = k_means(dtest,3)\n",
    "dtest_k.plot_2()"
   ]
  }
 ],
 "metadata": {
  "kernelspec": {
   "display_name": "Python 3",
   "language": "python",
   "name": "python3"
  },
  "language_info": {
   "codemirror_mode": {
    "name": "ipython",
    "version": 3
   },
   "file_extension": ".py",
   "mimetype": "text/x-python",
   "name": "python",
   "nbconvert_exporter": "python",
   "pygments_lexer": "ipython3",
   "version": "3.8.8"
  }
 },
 "nbformat": 4,
 "nbformat_minor": 5
}
