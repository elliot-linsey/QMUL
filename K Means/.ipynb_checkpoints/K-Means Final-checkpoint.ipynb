{
 "cells": [
  {
   "cell_type": "code",
   "execution_count": 147,
   "id": "a9b4334b",
   "metadata": {},
   "outputs": [],
   "source": [
    "import numpy as np\n",
    "import functools\n",
    "import time\n",
    "from matplotlib import pyplot as plt\n",
    "from sklearn import datasets"
   ]
  },
  {
   "cell_type": "markdown",
   "id": "89e383e3",
   "metadata": {},
   "source": [
    "# ECS7023P K-Means Algorithm Elliot Linsey\n",
    "\n",
    "Below I have created two small datasets and imported the iris dataset from the scikit-learn library. The reason I have created the two datasets is that they have different dimensions, 1-D and 2-D. This is to make sure that the algorithm works for both 1-dimensional data and multi-dimensional data, as well as for plotting purposes.   \n",
    "\n",
    "Both the created datasets have 3 clearly defined clusters that are suitable for K-Means clustering. There are no outliers and an equal number of datapoints per cluster which gives it a high potential for effective clustering. The iris dataset has 4 dimensions and 3 different types of iris flower. One of the flower types is clearly separated from the other two, however the other two are harder to differentiate which may affect the ability of the algorithm to effectively cluster them. To plot the iris dataset, we later on use PCA to reduce the dimensions to 2."
   ]
  },
  {
   "cell_type": "code",
   "execution_count": 148,
   "id": "9e8880a4",
   "metadata": {},
   "outputs": [],
   "source": [
    "data = np.array([[1,5],\n",
    "                [3,6],\n",
    "                [4,2],\n",
    "                [3,7],\n",
    "                [5,8],\n",
    "                [25,31],\n",
    "                [27,33],\n",
    "                [23,25],\n",
    "                [31,28],\n",
    "                [33,31],\n",
    "                [55,54],\n",
    "                [59,51],\n",
    "                [63,65],\n",
    "                [56,62],\n",
    "                [61,61]])\n",
    "\n",
    "data_1d = np.array([1,5,3,2,6,25,26,24,27,28,53,52,50,49,51])\n",
    "iris = datasets.load_iris()"
   ]
  },
  {
   "cell_type": "markdown",
   "id": "b2264a57",
   "metadata": {},
   "source": [
    "To demonstrate K-Means clustering, I will perform an example manually on the 1-D dataset. \n",
    "\n",
    "Firstly, we must choose a k-number. In this instance let us select k=3 so that the optimum number of clusters is selected (we only know this due to creating the custom dataset, in real life we would investigate multiple different k-numbers to find the optimum).\n",
    "\n",
    "Once we have decided on a k-number, the algorithm randomly chooses k initial centroids, in this case 3. These centroids will be the beginning of the clusters and the values will start to group around them at first, after this the means of each cluster will be taken and the values will cluster around these. This process will continue repeating until the means no longer change, at this point the clusters will be considered stabilised.\n",
    "\n",
    "Our 1-D data is: [1,5,3,2,6,25,26,24,27,28,53,52,50,49,51]. \n",
    "\n",
    "If our initial random centroids are designated as 25,28 and 49, the initial clusters would be: \n",
    "\n",
    "25:[25,26,24,6,5,3,2,1]\n",
    "\n",
    "28:[28,27]\n",
    "\n",
    "49:[49,50,51,52,53]\n",
    "\n",
    "The means of these initial clusters are [11.5,27.5,51]. If we now recluster the values around these cluster means, we get:\n",
    "\n",
    "11.5:[6,5,3,2,1]\n",
    "\n",
    "27.5:[24,25,26,27,28]\n",
    "\n",
    "51:[49,50,51,52,53]\n",
    "\n",
    "Finding the means of these values results in [3.4,26,51]. If we were to recluster around these means we would end up with the same clusters. In this case the clusters would be considered stabilised as the means have not moved between iterations and these clusters would be our final clusters.   \n"
   ]
  },
  {
   "cell_type": "markdown",
   "id": "9736372f",
   "metadata": {},
   "source": [
    "## Testing\n",
    "\n",
    "To follow a test-driven development cycle, I will first implement pseudo-code to establish what types of tests I will need. \n",
    "\n",
    "Assert that the choice of k results in k initial centroids. \n",
    "\n",
    "Assert that a list of k initial centroids is returned from randomly selecting them.\n",
    "\n",
    "Assert that the clustering function is grouping points with the smallest distance from the centroid/previous cluster mean.\n",
    "\n",
    "Assert that the update function is adequately finding the means of the centroids, then feeding them back into the clustering function to be reclustered."
   ]
  },
  {
   "cell_type": "code",
   "execution_count": 149,
   "id": "17657a0e",
   "metadata": {},
   "outputs": [],
   "source": [
    "# def timer(func):\n",
    "#     @functools.wraps(func)\n",
    "#     def wrapper_timer(*args, **kwargs):\n",
    "#         start = time.perf_counter()\n",
    "#         #'value' is the function being timed\n",
    "#         value = func(*args, **kwargs)\n",
    "#         end = time.perf_counter()\n",
    "#         print(f'Finished {func.__name__!r} in {end-start:.8f} seconds!')\n",
    "#         return value\n",
    "#     return wrapper_timer"
   ]
  },
  {
   "cell_type": "code",
   "execution_count": 150,
   "id": "a117d501",
   "metadata": {},
   "outputs": [
    {
     "data": {
      "image/png": "[encoded data removed]",
      "text/plain": [
       "<Figure size 432x288 with 1 Axes>"
      ]
     },
     "metadata": {
      "needs_background": "light"
     },
     "output_type": "display_data"
    }
   ],
   "source": [
    "class k_means():\n",
    "    def __init__(self, data, k):\n",
    "        self.data = data\n",
    "        self.k = k\n",
    "    def ini_centroids(self, data, k):\n",
    "        lst = []\n",
    "        data_len = len(self.data)\n",
    "        choices = np.random.choice(range(data_len), size=self.k, replace=False)\n",
    "        for i in choices:\n",
    "            lst.append([self.data[i]])\n",
    "        #print('centroids = ' + str(lst))\n",
    "        #print([i[0] for i in lst])\n",
    "        return [i[0] for i in lst]\n",
    "    def clusters(self,centroids):\n",
    "        #print('cluster centroids = ' + str(centroids))\n",
    "        cluster_vals = [[] for i in range(len(centroids))]\n",
    "        #print(cluster_vals)\n",
    "        for y in self.data:\n",
    "            distances = []\n",
    "            for x in centroids:\n",
    "                distances.append(np.linalg.norm(y - x))\n",
    "            #print(distances)\n",
    "            idx = distances.index(min(distances))\n",
    "            #print(idx)\n",
    "            cluster_vals[idx].append(y)\n",
    "        for i in range(len(cluster_vals)):\n",
    "            if len(cluster_vals[i]) == 0:\n",
    "                cluster_vals[i].append(centroids[i])\n",
    "        #print(cluster_vals)               \n",
    "        return cluster_vals\n",
    "    def update(self,clust_vals):\n",
    "        cluster_means = []       \n",
    "        for x in clust_vals:\n",
    "            cluster_means.append(sum(x[::])/len(x))\n",
    "            #print('x = ' + str(x))\n",
    "        #print('means = ' + str(cluster_means))     \n",
    "        return self.clusters(cluster_means)\n",
    "    #@timer\n",
    "    def k_means_func(self):\n",
    "        centroids = self.ini_centroids(self.data, self.k)\n",
    "        cluster_values = self.clusters(centroids)\n",
    "        updates = self.update(cluster_values)\n",
    "        for i in range(len(updates)):\n",
    "            if not np.array_equal(np.round(updates[i][0],3), np.round(self.update(updates)[i][0],3)):\n",
    "                updates = self.update(updates)\n",
    "                #print(updates)\n",
    "        #print('It took ' + str(count) + ' cycles!')\n",
    "        return updates\n",
    "    def k_means_repeat(self):\n",
    "        clusters = []\n",
    "        variances = []\n",
    "        for r in range(10):\n",
    "            clusters.append(self.k_means_func())\n",
    "        for x in clusters:\n",
    "            count = 0\n",
    "            for i in range(self.k):\n",
    "                count += np.var(x[i])\n",
    "                #print(np.var(x[i]))\n",
    "            #print(count)\n",
    "            variances.append(count)\n",
    "        #print(variances)\n",
    "        return clusters[variances.index(np.min(variances))]\n",
    "    def plot(self):\n",
    "        test_plot = self.k_means_func()\n",
    "        test_array = np.array([np.array(xi) for xi in test_plot],dtype=object)\n",
    "        #print('test array = ' + str(np.mean(test_array[0][:,0])))\n",
    "        colors = ['red','green','blue','purple','orange','brown','pink','olive','cyan','gray']\n",
    "        for i in range(self.k):\n",
    "            plt.scatter(test_array[i][:,0], test_array[i][:,1], color = colors[i])\n",
    "            plt.scatter(np.mean(test_array[i][:,0]), np.mean(test_array[i][:,1]), marker='x', s=80, color=colors[i])\n",
    "        return plt.show()\n",
    "    def plot_repeat(self):\n",
    "        test_plot = self.k_means_repeat()\n",
    "        #print(test_plot)\n",
    "        test_array = np.array([np.array(xi) for xi in test_plot],dtype=object)\n",
    "        #print(test_array)\n",
    "        colors = ['red','green','blue','purple','orange','brown','pink','olive','cyan','gray']\n",
    "        if self.data.ndim != 1:\n",
    "            for i in range(self.k):\n",
    "                plt.scatter(test_array[i][:,0], test_array[i][:,1], color = colors[i])\n",
    "                plt.scatter(np.mean(test_array[i][:,0]), np.mean(test_array[i][:,1]), marker='x', s=80, color=colors[i])\n",
    "        else:\n",
    "            for i in range(self.k):\n",
    "                plt.plot(test_plot[i], [0]*len(test_plot[i]), 'o',color = colors[i])\n",
    "                plt.plot(np.mean(test_plot[i]), [0],'x', markersize=15,color = colors[i])\n",
    "        return plt.show()\n",
    "        \n",
    "test = k_means(data, 3)    \n",
    "#test.k_means_repeat()\n",
    "\n",
    "test.plot_repeat()"
   ]
  },
  {
   "cell_type": "code",
   "execution_count": 151,
   "id": "69c7b689",
   "metadata": {},
   "outputs": [
    {
     "data": {
      "text/plain": [
       "[[array([25, 31]),\n",
       "  array([27, 33]),\n",
       "  array([23, 25]),\n",
       "  array([31, 28]),\n",
       "  array([33, 31])],\n",
       " [array([55, 54]),\n",
       "  array([59, 51]),\n",
       "  array([63, 65]),\n",
       "  array([56, 62]),\n",
       "  array([61, 61])],\n",
       " [array([1, 5]), array([3, 6]), array([4, 2]), array([3, 7]), array([5, 8])]]"
      ]
     },
     "execution_count": 151,
     "metadata": {},
     "output_type": "execute_result"
    }
   ],
   "source": [
    "test.k_means_func()"
   ]
  },
  {
   "cell_type": "code",
   "execution_count": 152,
   "id": "ebeb802b",
   "metadata": {},
   "outputs": [
    {
     "data": {
      "image/png": "[encoded data removed]",
      "text/plain": [
       "<Figure size 432x288 with 1 Axes>"
      ]
     },
     "metadata": {
      "needs_background": "light"
     },
     "output_type": "display_data"
    },
    {
     "data": {
      "text/plain": [
       "[[53, 52, 50, 49, 51], [25, 26, 24, 27, 28], [1, 5, 3, 2, 6]]"
      ]
     },
     "execution_count": 152,
     "metadata": {},
     "output_type": "execute_result"
    }
   ],
   "source": [
    "one_d = k_means(data_1d,3)\n",
    "one_d.plot_repeat()\n",
    "one_d.k_means_repeat()"
   ]
  },
  {
   "cell_type": "code",
   "execution_count": 153,
   "id": "999553a0",
   "metadata": {},
   "outputs": [
    {
     "data": {
      "text/html": [
       "<div>\n",
       "<style scoped>\n",
       "    .dataframe tbody tr th:only-of-type {\n",
       "        vertical-align: middle;\n",
       "    }\n",
       "\n",
       "    .dataframe tbody tr th {\n",
       "        vertical-align: top;\n",
       "    }\n",
       "\n",
       "    .dataframe thead th {\n",
       "        text-align: right;\n",
       "    }\n",
       "</style>\n",
       "<table border=\"1\" class=\"dataframe\">\n",
       "  <thead>\n",
       "    <tr style=\"text-align: right;\">\n",
       "      <th></th>\n",
       "      <th>pc1</th>\n",
       "      <th>pc2</th>\n",
       "    </tr>\n",
       "  </thead>\n",
       "  <tbody>\n",
       "    <tr>\n",
       "      <th>0</th>\n",
       "      <td>-2.684126</td>\n",
       "      <td>0.319397</td>\n",
       "    </tr>\n",
       "    <tr>\n",
       "      <th>1</th>\n",
       "      <td>-2.714142</td>\n",
       "      <td>-0.177001</td>\n",
       "    </tr>\n",
       "    <tr>\n",
       "      <th>2</th>\n",
       "      <td>-2.888991</td>\n",
       "      <td>-0.144949</td>\n",
       "    </tr>\n",
       "    <tr>\n",
       "      <th>3</th>\n",
       "      <td>-2.745343</td>\n",
       "      <td>-0.318299</td>\n",
       "    </tr>\n",
       "    <tr>\n",
       "      <th>4</th>\n",
       "      <td>-2.728717</td>\n",
       "      <td>0.326755</td>\n",
       "    </tr>\n",
       "  </tbody>\n",
       "</table>\n",
       "</div>"
      ],
      "text/plain": [
       "        pc1       pc2\n",
       "0 -2.684126  0.319397\n",
       "1 -2.714142 -0.177001\n",
       "2 -2.888991 -0.144949\n",
       "3 -2.745343 -0.318299\n",
       "4 -2.728717  0.326755"
      ]
     },
     "execution_count": 153,
     "metadata": {},
     "output_type": "execute_result"
    }
   ],
   "source": [
    "from sklearn.decomposition import PCA\n",
    "import pandas as pd\n",
    "numComponents = 2\n",
    "pca = PCA(n_components=numComponents)\n",
    "pca.fit(iris['data'])\n",
    "\n",
    "projected = pca.transform(iris['data'])\n",
    "projected = pd.DataFrame(projected,columns=['pc1','pc2'],index=range(0,len(iris['data'])))\n",
    "projected.head()"
   ]
  },
  {
   "cell_type": "code",
   "execution_count": 154,
   "id": "08c9710c",
   "metadata": {},
   "outputs": [
    {
     "data": {
      "image/png": "[encoded data removed]",
      "text/plain": [
       "<Figure size 432x288 with 1 Axes>"
      ]
     },
     "metadata": {
      "needs_background": "light"
     },
     "output_type": "display_data"
    }
   ],
   "source": [
    "projected_np = projected.to_numpy()\n",
    "projected_np\n",
    "projected_k = k_means(projected_np,3)\n",
    "projected_k.plot_repeat()\n"
   ]
  },
  {
   "cell_type": "code",
   "execution_count": 155,
   "id": "77013b6e",
   "metadata": {},
   "outputs": [],
   "source": [
    "data_1d = np.array([1,5,3,2,6,25,26,24,27,28,53,52,50,49,51])"
   ]
  },
  {
   "cell_type": "code",
   "execution_count": 156,
   "id": "2500c807",
   "metadata": {},
   "outputs": [
    {
     "data": {
      "text/plain": [
       "[[1, 5, 3, 2, 6], [25, 26, 24, 27, 28], [53, 52, 50, 49, 51]]"
      ]
     },
     "execution_count": 156,
     "metadata": {},
     "output_type": "execute_result"
    }
   ],
   "source": [
    "testing = k_means(data_1d, 3)\n",
    "testing.update([[25,26,24,6,5,3,2,1],[28,27],[49,50,51,52,53]])"
   ]
  },
  {
   "cell_type": "code",
   "execution_count": 157,
   "id": "77b853ea",
   "metadata": {},
   "outputs": [
    {
     "data": {
      "text/plain": [
       "[[25], [26], [1, 5, 3, 2, 6, 24], [27], [28], [53, 52, 50, 49, 51]]"
      ]
     },
     "execution_count": 157,
     "metadata": {},
     "output_type": "execute_result"
    }
   ],
   "source": [
    "testing = k_means(data_1d, 6)\n",
    "testing.clusters([25,26,24,27,28,50])"
   ]
  },
  {
   "cell_type": "code",
   "execution_count": 158,
   "id": "465bbc2b",
   "metadata": {},
   "outputs": [
    {
     "data": {
      "text/plain": [
       "[[25, 24], [26], [1, 5, 3, 2, 6], [27], [28], [53, 52, 50, 49, 51]]"
      ]
     },
     "execution_count": 158,
     "metadata": {},
     "output_type": "execute_result"
    }
   ],
   "source": [
    "testing.update([[25], [26], [1, 5, 3, 2, 6, 24], [27], [28], [53, 52, 50, 49, 51]])"
   ]
  },
  {
   "cell_type": "code",
   "execution_count": 159,
   "id": "1b8f30b8",
   "metadata": {},
   "outputs": [
    {
     "name": "stderr",
     "output_type": "stream",
     "text": [
      "test_cluster (__main__.test_kmeans) ... ok\n",
      "test_size_of (__main__.test_kmeans) ... ok\n",
      "test_testing (__main__.test_kmeans) ... ok\n",
      "test_type_check (__main__.test_kmeans) ... ok\n",
      "test_update (__main__.test_kmeans) ... ok\n",
      "\n",
      "----------------------------------------------------------------------\n",
      "Ran 5 tests in 0.005s\n",
      "\n",
      "OK\n"
     ]
    }
   ],
   "source": [
    "import unittest\n",
    "\n",
    "class test_kmeans(unittest.TestCase):\n",
    "    def test_size_of(self):\n",
    "        testing = k_means(data_1d,3)\n",
    "        centroids = testing.ini_centroids(data_1d,3)\n",
    "        self.assertEqual(len(centroids), 3)\n",
    "        testing2 = k_means(data_1d,6)\n",
    "        centroids2 = testing2.ini_centroids(data_1d,6)\n",
    "        self.assertEqual(len(centroids2), 6)\n",
    "        testing3 = k_means(data_1d,9)\n",
    "        centroids3 = testing3.ini_centroids(data_1d,9)\n",
    "        self.assertEqual(len(centroids3), 9)\n",
    "    def test_type_check(self):\n",
    "        testing = k_means(data_1d,3)\n",
    "        centroids = testing.ini_centroids(data_1d,3)\n",
    "        self.assertEqual(type(centroids), list)\n",
    "    def test_cluster(self):\n",
    "        testing = k_means(data_1d,3)\n",
    "        self.assertEqual(testing.clusters([25,28,49]),[[1, 5, 3, 2, 6, 25, 26, 24], [27, 28], [53, 52, 50, 49, 51]])\n",
    "        testing2 = k_means(data_1d,6)\n",
    "        self.assertEqual(testing2.clusters([25,28,49,3,53,5]),[[25, 26, 24], [27, 28], [50, 49, 51], \n",
    "                                                               [1, 3, 2], [53, 52], [5, 6]])\n",
    "        testing3 = k_means(data_1d,2)\n",
    "        self.assertEqual(testing3.clusters([53,51]),[[53, 52], [1, 5, 3, 2, 6, 25, 26, 24, 27, 28, 50, 49, 51]])\n",
    "    def test_update(self):\n",
    "        testing = k_means(data_1d, 3)\n",
    "        self.assertEqual(testing.update([[25,26,24,6,5,3,2,1],[28,27],[49,50,51,52,53]]),\n",
    "                                        [[1, 5, 3, 2, 6], [25, 26, 24, 27, 28], [53, 52, 50, 49, 51]])\n",
    "        testing2 = k_means(data_1d, 6)\n",
    "        self.assertEqual(testing.update([[25], [26], [1, 5, 3, 2, 6, 24], [27], [28], [53, 52, 50, 49, 51]]),\n",
    "                        [[25, 24], [26], [1, 5, 3, 2, 6], [27], [28], [53, 52, 50, 49, 51]])\n",
    "    def test_testing(self):\n",
    "        self.assertEqual(5,5)\n",
    "if __name__ == '__main__':\n",
    "    unittest.main(argv=['this-is-ignored'],exit=False,verbosity=2)"
   ]
  },
  {
   "cell_type": "code",
   "execution_count": 160,
   "id": "c7b3c650",
   "metadata": {},
   "outputs": [
    {
     "data": {
      "text/plain": [
       "[50, 28, 6, 25, 27, 2]"
      ]
     },
     "execution_count": 160,
     "metadata": {},
     "output_type": "execute_result"
    }
   ],
   "source": [
    "testing2 = k_means(data_1d,6)\n",
    "testing2.ini_centroids(data_1d,6)"
   ]
  }
 ],
 "metadata": {
  "kernelspec": {
   "display_name": "Python 3",
   "language": "python",
   "name": "python3"
  },
  "language_info": {
   "codemirror_mode": {
    "name": "ipython",
    "version": 3
   },
   "file_extension": ".py",
   "mimetype": "text/x-python",
   "name": "python",
   "nbconvert_exporter": "python",
   "pygments_lexer": "ipython3",
   "version": "3.8.8"
  }
 },
 "nbformat": 4,
 "nbformat_minor": 5
}
