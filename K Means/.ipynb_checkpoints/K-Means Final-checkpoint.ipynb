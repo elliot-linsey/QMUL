{
 "cells": [
  {
   "cell_type": "code",
   "execution_count": 78,
   "id": "a9b4334b",
   "metadata": {},
   "outputs": [],
   "source": [
    "import numpy as np\n",
    "import functools\n",
    "import time\n",
    "from matplotlib import pyplot as plt\n",
    "from sklearn import datasets"
   ]
  },
  {
   "cell_type": "markdown",
   "id": "89e383e3",
   "metadata": {},
   "source": [
    "# ECS7023P K-Means Algorithm Elliot Linsey\n",
    "\n",
    "Below I have created two small datasets and imported the iris dataset from the scikit-learn library. The reason I have created the two datasets is that they have different dimensions, 1-D and 2-D. This is to make sure that the algorithm works for both 1-dimensional data and multi-dimensional data, as well as for plotting purposes.   \n",
    "\n",
    "Both the created datasets have 3 clearly defined clusters that are suitable for K-Means clustering. There are no outliers and an equal number of datapoints per cluster which gives it a high potential for effective clustering. The iris dataset has 4 dimensions and 3 different types of iris flower. One of the flower types is clearly separated from the other two, however the other two are harder to differentiate which may affect the ability of the algorithm to effectively cluster them. To plot the iris dataset, we later on use PCA to reduce the dimensions to 2."
   ]
  },
  {
   "cell_type": "code",
   "execution_count": 79,
   "id": "9e8880a4",
   "metadata": {},
   "outputs": [],
   "source": [
    "data = np.array([[1,5],\n",
    "                [3,6],\n",
    "                [4,2],\n",
    "                [3,7],\n",
    "                [5,8],\n",
    "                [25,31],\n",
    "                [27,33],\n",
    "                [23,25],\n",
    "                [31,28],\n",
    "                [33,31],\n",
    "                [55,54],\n",
    "                [59,51],\n",
    "                [63,65],\n",
    "                [56,62],\n",
    "                [61,61]])\n",
    "\n",
    "data_1d = np.array([1,5,3,2,6,25,26,24,27,28,53,52,50,49,51])\n",
    "iris = datasets.load_iris()"
   ]
  },
  {
   "cell_type": "markdown",
   "id": "b2264a57",
   "metadata": {},
   "source": [
    "To demonstrate K-Means clustering, I will perform an example manually on the 1-D dataset. \n",
    "\n",
    "Firstly, we must choose a k-number. In this instance let us select k=3 so that the optimum number of clusters is selected (we only know this due to creating the custom dataset, in real life we would investigate multiple different k-numbers to find the optimum).\n",
    "\n",
    "Once we have decided on a k-number, the algorithm randomly chooses k initial centroids, in this case 3. These centroids will be the beginning of the clusters and the values will start to group around them at first, after this the means of each cluster will be taken and the values will cluster around these. This process will continue repeating until the means no longer change, at this point the clusters will be considered stabilised.\n",
    "\n",
    "Our 1-D data is: [1,5,3,2,6,25,26,24,27,28,53,52,50,49,51]. \n",
    "\n",
    "If our initial random centroids are designated as 25,28 and 49, the initial clusters would be: \n",
    "\n",
    "25:[25,26,24,6,5,3,2,1]\n",
    "\n",
    "28:[28,27]\n",
    "\n",
    "49:[49,50,51,52,53]\n",
    "\n",
    "The means of these initial clusters are [11.5,27.5,51]. If we now recluster the values around these cluster means, we get:\n",
    "\n",
    "11.5:[6,5,3,2,1]\n",
    "\n",
    "27.5:[24,25,26,27,28]\n",
    "\n",
    "51:[49,50,51,52,53]\n",
    "\n",
    "Finding the means of these values results in [3.4,26,51]. If we were to recluster around these means we would end up with the same clusters. In this case the clusters would be considered stabilised as the means have not moved between iterations and these clusters would be our final clusters.   \n"
   ]
  },
  {
   "cell_type": "markdown",
   "id": "9736372f",
   "metadata": {},
   "source": [
    "## Testing\n",
    "\n",
    "To follow a test-driven development cycle, I will first implement pseudo-code to establish what types of tests I will need. \n",
    "\n",
    "Assert that the choice of k results in k initial centroids. \n",
    "\n",
    "Assert that a list of k initial centroids is returned from randomly selecting them.\n",
    "\n",
    "Assert that the clustering function is grouping points with the smallest distance from the centroid/previous cluster mean.\n",
    "\n",
    "Assert that the update function is adequately finding the means of the centroids, then feeding them back into the clustering function to be reclustered."
   ]
  },
  {
   "cell_type": "markdown",
   "id": "6e8cf96c",
   "metadata": {},
   "source": [
    "I use a timer to find how long the function takes to run. "
   ]
  },
  {
   "cell_type": "code",
   "execution_count": 80,
   "id": "17657a0e",
   "metadata": {},
   "outputs": [],
   "source": [
    "def timer(func):\n",
    "    @functools.wraps(func)\n",
    "    def wrapper_timer(*args, **kwargs):\n",
    "        start = time.perf_counter()\n",
    "        #'value' is the function being timed\n",
    "        value = func(*args, **kwargs)\n",
    "        end = time.perf_counter()\n",
    "        print(f'Finished {func.__name__!r} in {end-start:.8f} seconds!')\n",
    "        return value\n",
    "    return wrapper_timer"
   ]
  },
  {
   "cell_type": "markdown",
   "id": "e4b07279",
   "metadata": {},
   "source": [
    "Below is my K-Means function that has been constructed as a class. It takes two parameters to initialise, these being the data that is being clustered and the k number.\n",
    "\n",
    "After initialisation, the initial centroids are randomly selected according to k number (*ini_centroids()*). These data values are then clustered around these initial centroids (*clusters()*) by finding the minimum distances between each data value and each centroid, then appending the data value to the closest centroid. \n",
    "\n",
    "Once clustering is complete, the means of the clusters are calculated and become the new centroids (*update()*), these are fed back into the clusters function where the data points are again clustered around these new centroids. \n",
    "\n",
    "The full function (*k_means_func()*) repeats this process until the means have stabilised, it then returns the final clusters. \n",
    "\n",
    "An extension of *k_means_func()* is *k_means_repeat(i)*, this repeats the *k_means_func()* process *i* times, saving a total of each clustering processes variance. At the end of these *i* repeats, it selects the *k_means_func()* results with the lowest variance, these being the most optimally clustered values within the *i* repetitions. Within the demonstrations, I use *i*=10. \n",
    "\n",
    "There are two plotting functions, *plot()* and *plot_repeat(i)*. The only difference being that *plot()* calls the initial *k_means_func()* and plots those results, so there is no repetition of the k means process. *plot_repeat(i)* uses the *k_means_repeat(i)* function so it is plotting the optimum clusters (within *i* repeats). Both can take 1D or 2D datasets to plot, but cannot plot any more dimensions than that.  "
   ]
  },
  {
   "cell_type": "code",
   "execution_count": 104,
   "id": "a117d501",
   "metadata": {},
   "outputs": [],
   "source": [
    "class k_means():\n",
    "    def __init__(self, data, k):\n",
    "        self.data = data\n",
    "        self.k = k\n",
    "        if len(data) == 0:\n",
    "            print('Error: Empty data. Input non-empty numpy array!')\n",
    "        elif k <= 0:\n",
    "            print('Error: k number must be greater than 0!')\n",
    "    def ini_centroids(self, data, k): #Limit: Cannot initialise more k numbers than numbers of values in sample\n",
    "        lst = []\n",
    "        data_len = len(self.data)\n",
    "        choices = np.random.choice(range(data_len), size=self.k, replace=False)\n",
    "        for i in choices:\n",
    "            lst.append([self.data[i]])\n",
    "        #print('centroids = ' + str(lst))\n",
    "        #print([i[0] for i in lst])\n",
    "        return [i[0] for i in lst]\n",
    "    def clusters(self,centroids):\n",
    "        #print('cluster centroids = ' + str(centroids))\n",
    "        cluster_vals = [[] for i in range(len(centroids))]\n",
    "        #print(cluster_vals)\n",
    "        for y in self.data:\n",
    "            distances = []\n",
    "            for x in centroids:\n",
    "                distances.append(np.linalg.norm(y - x))\n",
    "            #print(distances)\n",
    "            idx = distances.index(min(distances))\n",
    "            #print(idx)\n",
    "            cluster_vals[idx].append(y)\n",
    "        #Had an issue where depending on the centroids, all values would leave their cluster as \n",
    "        #they would be closerto another cluster's mean, leaving an empty cluster.\n",
    "        #In this case, the empty cluster has the mean reappended before updating \n",
    "        #to prevent a divide by zero error. \n",
    "        for i in range(len(cluster_vals)):\n",
    "            if len(cluster_vals[i]) == 0:\n",
    "                cluster_vals[i].append(centroids[i])\n",
    "        #print(cluster_vals)               \n",
    "        return cluster_vals\n",
    "    def update(self,clust_vals):\n",
    "        cluster_means = []       \n",
    "        for x in clust_vals:\n",
    "            cluster_means.append(sum(x[::])/len(x))\n",
    "            #print('x = ' + str(x))\n",
    "        #print('means = ' + str(cluster_means))     \n",
    "        return self.clusters(cluster_means)\n",
    "    #@timer\n",
    "    def k_means_func(self):\n",
    "        centroids = self.ini_centroids(self.data, self.k)\n",
    "        cluster_values = self.clusters(centroids)\n",
    "        updates = self.update(cluster_values)\n",
    "        for i in range(len(updates)):\n",
    "            if not np.array_equal(np.round(updates[i][0],3), np.round(self.update(updates)[i][0],3)):\n",
    "                updates = self.update(updates)\n",
    "                #print(updates)\n",
    "        #print('It took ' + str(count) + ' cycles!')\n",
    "        return updates\n",
    "    @timer\n",
    "    def k_means_repeat(self,i):\n",
    "        clusters = []\n",
    "        variances = []\n",
    "        for r in range(i):\n",
    "            clusters.append(self.k_means_func())\n",
    "        for x in clusters:\n",
    "            count = 0\n",
    "            for i in range(self.k):\n",
    "                count += np.var(x[i])\n",
    "                #print(np.var(x[i]))\n",
    "            #print(count)\n",
    "            variances.append(count)\n",
    "        #print(variances)\n",
    "        return clusters[variances.index(np.min(variances))]\n",
    "    def plot(self): #Limit: for plotting purposes cannot use a k number more than the numbers of colours in colors.\n",
    "                    #This can be remedied by adding more colors. \n",
    "                    #Limit: Can only be used with 1D and 2D data. \n",
    "        test_plot = self.k_means_func()\n",
    "        test_array = np.array([np.array(xi) for xi in test_plot],dtype=object)\n",
    "        #print('test array = ' + str(np.mean(test_array[0][:,0])))\n",
    "        colors = ['red','green','blue','purple','orange','brown','pink','olive','cyan','gray']\n",
    "        if self.data.ndim != 1:\n",
    "            #It plots a circle for each datapoint in each cluster, then an x for each cluster mean. \n",
    "            #The colors list ensures that both datapoints and cluster mean are the same colour.\n",
    "            for i in range(self.k):\n",
    "                plt.scatter(test_array[i][:,0], test_array[i][:,1], color = colors[i])\n",
    "                plt.scatter(np.mean(test_array[i][:,0]), np.mean(test_array[i][:,1]), marker='x', s=80, color=colors[i])\n",
    "        else:\n",
    "            #If the data is 1D, it turns all the clusters into 2D by appending a 0 for the y-value.\n",
    "            for i in range(self.k):\n",
    "                plt.plot(test_plot[i], [0]*len(test_plot[i]), 'o',color = colors[i])\n",
    "                plt.plot(np.mean(test_plot[i]), [0],'x', markersize=15,color = colors[i])\n",
    "        return plt.show()\n",
    "    def plot_repeat(self,i): #Limit: the same color limit as above.\n",
    "                             #Limit: Can only be used with 1D and 2D data.\n",
    "        test_plot = self.k_means_repeat(i)\n",
    "        #print(test_plot)\n",
    "        test_array = np.array([np.array(xi) for xi in test_plot],dtype=object)\n",
    "        #print(test_array)\n",
    "        colors = ['red','green','blue','purple','orange','brown','pink','olive','cyan','gray']\n",
    "        if self.data.ndim != 1:\n",
    "            for i in range(self.k):\n",
    "                plt.scatter(test_array[i][:,0], test_array[i][:,1], color = colors[i])\n",
    "                plt.scatter(np.mean(test_array[i][:,0]), np.mean(test_array[i][:,1]), marker='x', s=80, \n",
    "                            color=colors[i])\n",
    "        else:\n",
    "            for i in range(self.k):\n",
    "                plt.plot(test_plot[i], [0]*len(test_plot[i]), 'o',color = colors[i])\n",
    "                plt.plot(np.mean(test_plot[i]), [0],'x', markersize=15,color = colors[i])\n",
    "        return plt.show()"
   ]
  },
  {
   "cell_type": "markdown",
   "id": "d3de5af1",
   "metadata": {},
   "source": [
    "### Function demonstrations\n",
    "\n",
    "The function outputs the clusters as a list of lists filled with numpy arrays. This means you can access each cluster with usual list indexing.\n",
    "\n",
    "I have only used the timer for the *k_means_repeat()* function and not the basic *k_means_func()*. This is because you get *i* timer informations when you use *k_means_repeat()* as it produces the time for each repetition of the normal function. To get a rough estimate of how long the usual function runs for a dataset, you can divide the resulting *k_means_repeat()* time by *i*. \n",
    "\n",
    "Here are the original datasets, plotted on graphs."
   ]
  },
  {
   "cell_type": "code",
   "execution_count": 112,
   "id": "dc8ac7f5",
   "metadata": {},
   "outputs": [
    {
     "data": {
      "image/png": "[encoded data removed]",
      "text/plain": [
       "<Figure size 1080x360 with 2 Axes>"
      ]
     },
     "metadata": {
      "needs_background": "light"
     },
     "output_type": "display_data"
    }
   ],
   "source": [
    "fig,(ax1,ax2) = plt.subplots(1,2,figsize=(15,5))\n",
    "\n",
    "ax1.scatter(data[:,0],data[:,1])\n",
    "ax2.plot(data_1d,[0]*len(data_1d),'o')\n",
    "plt.show()"
   ]
  },
  {
   "cell_type": "code",
   "execution_count": 82,
   "id": "916db5bd",
   "metadata": {},
   "outputs": [
    {
     "name": "stdout",
     "output_type": "stream",
     "text": [
      "Finished 'k_means_repeat' in 0.11600380 seconds!\n"
     ]
    },
    {
     "data": {
      "image/png": "[encoded data removed]",
      "text/plain": [
       "<Figure size 432x288 with 1 Axes>"
      ]
     },
     "metadata": {
      "needs_background": "light"
     },
     "output_type": "display_data"
    }
   ],
   "source": [
    "test = k_means(data, 3)  \n",
    "test.k_means_func()\n",
    "#test.k_means_repeat()\n",
    "\n",
    "test.plot_repeat(10)"
   ]
  },
  {
   "cell_type": "code",
   "execution_count": 83,
   "id": "69c7b689",
   "metadata": {},
   "outputs": [
    {
     "name": "stdout",
     "output_type": "stream",
     "text": [
      "Finished 'k_means_repeat' in 0.07549380 seconds!\n"
     ]
    },
    {
     "data": {
      "text/plain": [
       "[[array([55, 54]),\n",
       "  array([59, 51]),\n",
       "  array([63, 65]),\n",
       "  array([56, 62]),\n",
       "  array([61, 61])],\n",
       " [array([1, 5]), array([3, 6]), array([4, 2]), array([3, 7]), array([5, 8])],\n",
       " [array([25, 31]),\n",
       "  array([27, 33]),\n",
       "  array([23, 25]),\n",
       "  array([31, 28]),\n",
       "  array([33, 31])]]"
      ]
     },
     "execution_count": 83,
     "metadata": {},
     "output_type": "execute_result"
    }
   ],
   "source": [
    "test.k_means_repeat(10)"
   ]
  },
  {
   "cell_type": "code",
   "execution_count": 84,
   "id": "39e7d05c",
   "metadata": {},
   "outputs": [
    {
     "data": {
      "text/plain": [
       "[[array([55, 54]),\n",
       "  array([59, 51]),\n",
       "  array([63, 65]),\n",
       "  array([56, 62]),\n",
       "  array([61, 61])],\n",
       " [array([1, 5]), array([3, 6]), array([4, 2]), array([3, 7]), array([5, 8])],\n",
       " [array([25, 31]),\n",
       "  array([27, 33]),\n",
       "  array([23, 25]),\n",
       "  array([31, 28]),\n",
       "  array([33, 31])]]"
      ]
     },
     "execution_count": 84,
     "metadata": {},
     "output_type": "execute_result"
    }
   ],
   "source": [
    "test.k_means_func()"
   ]
  },
  {
   "cell_type": "code",
   "execution_count": 85,
   "id": "ebeb802b",
   "metadata": {},
   "outputs": [
    {
     "name": "stdout",
     "output_type": "stream",
     "text": [
      "Finished 'k_means_repeat' in 0.08011870 seconds!\n"
     ]
    },
    {
     "data": {
      "image/png": "[encoded data removed]",
      "text/plain": [
       "<Figure size 432x288 with 1 Axes>"
      ]
     },
     "metadata": {
      "needs_background": "light"
     },
     "output_type": "display_data"
    },
    {
     "name": "stdout",
     "output_type": "stream",
     "text": [
      "Finished 'k_means_repeat' in 0.07774680 seconds!\n"
     ]
    },
    {
     "data": {
      "text/plain": [
       "[[25, 26, 24, 27, 28], [53, 52, 50, 49, 51], [1, 5, 3, 2, 6]]"
      ]
     },
     "execution_count": 85,
     "metadata": {},
     "output_type": "execute_result"
    }
   ],
   "source": [
    "one_d = k_means(data_1d,3)\n",
    "one_d.plot_repeat(10)\n",
    "one_d.k_means_repeat(10)"
   ]
  },
  {
   "cell_type": "markdown",
   "id": "96309a06",
   "metadata": {},
   "source": [
    "Using k as the maximum number of samples returns each sample on its own. "
   ]
  },
  {
   "cell_type": "code",
   "execution_count": 86,
   "id": "2daf0d88",
   "metadata": {
    "scrolled": true
   },
   "outputs": [
    {
     "name": "stdout",
     "output_type": "stream",
     "text": [
      "Finished 'k_means_repeat' in 1.05126870 seconds!\n"
     ]
    },
    {
     "data": {
      "text/plain": [
       "[[53],\n",
       " [5],\n",
       " [50],\n",
       " [6],\n",
       " [52],\n",
       " [51],\n",
       " [26],\n",
       " [2],\n",
       " [25],\n",
       " [49],\n",
       " [24],\n",
       " [3],\n",
       " [1],\n",
       " [27],\n",
       " [28]]"
      ]
     },
     "execution_count": 86,
     "metadata": {},
     "output_type": "execute_result"
    }
   ],
   "source": [
    "one_d = k_means(data_1d,15)\n",
    "one_d.k_means_repeat(10)"
   ]
  },
  {
   "cell_type": "markdown",
   "id": "bbd24e26",
   "metadata": {},
   "source": [
    "It can plot with different k numbers (up to 10 in this iteration, however this can be increased by adding more colours to the colors list in the plotting function). "
   ]
  },
  {
   "cell_type": "code",
   "execution_count": 87,
   "id": "26fc9433",
   "metadata": {},
   "outputs": [
    {
     "name": "stdout",
     "output_type": "stream",
     "text": [
      "Finished 'k_means_repeat' in 0.24827880 seconds!\n"
     ]
    },
    {
     "data": {
      "image/png": "[encoded data removed]",
      "text/plain": [
       "<Figure size 432x288 with 1 Axes>"
      ]
     },
     "metadata": {
      "needs_background": "light"
     },
     "output_type": "display_data"
    },
    {
     "name": "stdout",
     "output_type": "stream",
     "text": [
      "Finished 'k_means_repeat' in 0.22323290 seconds!\n"
     ]
    },
    {
     "data": {
      "text/plain": [
       "[[53, 52, 51], [50, 49], [25, 26, 24], [5, 6], [27, 28], [1, 3, 2]]"
      ]
     },
     "execution_count": 87,
     "metadata": {},
     "output_type": "execute_result"
    }
   ],
   "source": [
    "one_d = k_means(data_1d,6)\n",
    "one_d.plot_repeat(10)\n",
    "#plot_repeat and k_means_repeat will (most likely) give different clusters in this cell due to the \n",
    "#randomness of the algorithm \n",
    "one_d.k_means_repeat(10)"
   ]
  },
  {
   "cell_type": "markdown",
   "id": "6e3fd3ee",
   "metadata": {},
   "source": [
    "The function also works on a combination of positive and negative values."
   ]
  },
  {
   "cell_type": "code",
   "execution_count": 88,
   "id": "1c360457",
   "metadata": {
    "scrolled": true
   },
   "outputs": [
    {
     "name": "stdout",
     "output_type": "stream",
     "text": [
      "Finished 'k_means_repeat' in 0.09299370 seconds!\n"
     ]
    },
    {
     "data": {
      "image/png": "[encoded data removed]",
      "text/plain": [
       "<Figure size 432x288 with 1 Axes>"
      ]
     },
     "metadata": {
      "needs_background": "light"
     },
     "output_type": "display_data"
    },
    {
     "name": "stdout",
     "output_type": "stream",
     "text": [
      "Finished 'k_means_repeat' in 0.07653190 seconds!\n"
     ]
    },
    {
     "data": {
      "text/plain": [
       "[[53, 52, 50, 49, 51], [-1, -5, -3, -2, -6], [25, 26, 24, 27, 28]]"
      ]
     },
     "execution_count": 88,
     "metadata": {},
     "output_type": "execute_result"
    }
   ],
   "source": [
    "data_1d_neg = np.array([-1,-5,-3,-2,-6,25,26,24,27,28,53,52,50,49,51])\n",
    "data_1d_neg_k = k_means(data_1d_neg,3)\n",
    "data_1d_neg_k.plot_repeat(10)\n",
    "data_1d_neg_k.k_means_repeat(10)"
   ]
  },
  {
   "cell_type": "markdown",
   "id": "22b1447f",
   "metadata": {},
   "source": [
    "When empty data is put into the algorithm initialisation, a message is printed out alerting you to the problem. A message is also printed if k is equal to or less than 0. "
   ]
  },
  {
   "cell_type": "code",
   "execution_count": 100,
   "id": "f3ff1902",
   "metadata": {},
   "outputs": [
    {
     "name": "stdout",
     "output_type": "stream",
     "text": [
      "Error: Empty data. Input non-empty numpy array!\n",
      "Error: k number must be greater than 0!\n"
     ]
    },
    {
     "data": {
      "text/plain": [
       "<__main__.k_means at 0x280754ee100>"
      ]
     },
     "execution_count": 100,
     "metadata": {},
     "output_type": "execute_result"
    }
   ],
   "source": [
    "data_0 = np.array([])\n",
    "no_data_k = k_means(data_0,3)\n",
    "no_data_k\n",
    "\n",
    "data_0 = np.array([1,2,3])\n",
    "no_data_k = k_means(data_0,0)\n",
    "no_data_k"
   ]
  },
  {
   "cell_type": "markdown",
   "id": "1c93c570",
   "metadata": {},
   "source": [
    "My function works on multidimensional datasets such as the iris dataset. However, it is difficult to tell how accurate it is in this format. "
   ]
  },
  {
   "cell_type": "code",
   "execution_count": 90,
   "id": "a9e11335",
   "metadata": {
    "scrolled": false
   },
   "outputs": [
    {
     "name": "stdout",
     "output_type": "stream",
     "text": [
      "Finished 'k_means_repeat' in 0.48755410 seconds!\n"
     ]
    },
    {
     "data": {
      "text/plain": [
       "[[array([7. , 3.2, 4.7, 1.4]),\n",
       "  array([6.4, 3.2, 4.5, 1.5]),\n",
       "  array([6.9, 3.1, 4.9, 1.5]),\n",
       "  array([6.5, 2.8, 4.6, 1.5]),\n",
       "  array([5.7, 2.8, 4.5, 1.3]),\n",
       "  array([6.3, 3.3, 4.7, 1.6]),\n",
       "  array([6.6, 2.9, 4.6, 1.3]),\n",
       "  array([5.9, 3. , 4.2, 1.5]),\n",
       "  array([6.1, 2.9, 4.7, 1.4]),\n",
       "  array([6.7, 3.1, 4.4, 1.4]),\n",
       "  array([5.6, 3. , 4.5, 1.5]),\n",
       "  array([6.2, 2.2, 4.5, 1.5]),\n",
       "  array([5.9, 3.2, 4.8, 1.8]),\n",
       "  array([6.1, 2.8, 4. , 1.3]),\n",
       "  array([6.3, 2.5, 4.9, 1.5]),\n",
       "  array([6.1, 2.8, 4.7, 1.2]),\n",
       "  array([6.4, 2.9, 4.3, 1.3]),\n",
       "  array([6.6, 3. , 4.4, 1.4]),\n",
       "  array([6.8, 2.8, 4.8, 1.4]),\n",
       "  array([6.7, 3. , 5. , 1.7]),\n",
       "  array([6. , 2.9, 4.5, 1.5]),\n",
       "  array([6. , 2.7, 5.1, 1.6]),\n",
       "  array([5.4, 3. , 4.5, 1.5]),\n",
       "  array([6. , 3.4, 4.5, 1.6]),\n",
       "  array([6.7, 3.1, 4.7, 1.5]),\n",
       "  array([6.3, 2.3, 4.4, 1.3]),\n",
       "  array([5.5, 2.6, 4.4, 1.2]),\n",
       "  array([6.1, 3. , 4.6, 1.4]),\n",
       "  array([5.6, 2.7, 4.2, 1.3]),\n",
       "  array([5.7, 2.9, 4.2, 1.3]),\n",
       "  array([6.2, 2.9, 4.3, 1.3]),\n",
       "  array([6.3, 3.3, 6. , 2.5]),\n",
       "  array([5.8, 2.7, 5.1, 1.9]),\n",
       "  array([7.1, 3. , 5.9, 2.1]),\n",
       "  array([6.3, 2.9, 5.6, 1.8]),\n",
       "  array([6.5, 3. , 5.8, 2.2]),\n",
       "  array([7.6, 3. , 6.6, 2.1]),\n",
       "  array([4.9, 2.5, 4.5, 1.7]),\n",
       "  array([7.3, 2.9, 6.3, 1.8]),\n",
       "  array([6.7, 2.5, 5.8, 1.8]),\n",
       "  array([7.2, 3.6, 6.1, 2.5]),\n",
       "  array([6.5, 3.2, 5.1, 2. ]),\n",
       "  array([6.4, 2.7, 5.3, 1.9]),\n",
       "  array([6.8, 3. , 5.5, 2.1]),\n",
       "  array([5.7, 2.5, 5. , 2. ]),\n",
       "  array([5.8, 2.8, 5.1, 2.4]),\n",
       "  array([6.4, 3.2, 5.3, 2.3]),\n",
       "  array([6.5, 3. , 5.5, 1.8]),\n",
       "  array([7.7, 3.8, 6.7, 2.2]),\n",
       "  array([7.7, 2.6, 6.9, 2.3]),\n",
       "  array([6. , 2.2, 5. , 1.5]),\n",
       "  array([6.9, 3.2, 5.7, 2.3]),\n",
       "  array([5.6, 2.8, 4.9, 2. ]),\n",
       "  array([7.7, 2.8, 6.7, 2. ]),\n",
       "  array([6.3, 2.7, 4.9, 1.8]),\n",
       "  array([6.7, 3.3, 5.7, 2.1]),\n",
       "  array([7.2, 3.2, 6. , 1.8]),\n",
       "  array([6.2, 2.8, 4.8, 1.8]),\n",
       "  array([6.1, 3. , 4.9, 1.8]),\n",
       "  array([6.4, 2.8, 5.6, 2.1]),\n",
       "  array([7.2, 3. , 5.8, 1.6]),\n",
       "  array([7.4, 2.8, 6.1, 1.9]),\n",
       "  array([7.9, 3.8, 6.4, 2. ]),\n",
       "  array([6.4, 2.8, 5.6, 2.2]),\n",
       "  array([6.3, 2.8, 5.1, 1.5]),\n",
       "  array([6.1, 2.6, 5.6, 1.4]),\n",
       "  array([7.7, 3. , 6.1, 2.3]),\n",
       "  array([6.3, 3.4, 5.6, 2.4]),\n",
       "  array([6.4, 3.1, 5.5, 1.8]),\n",
       "  array([6. , 3. , 4.8, 1.8]),\n",
       "  array([6.9, 3.1, 5.4, 2.1]),\n",
       "  array([6.7, 3.1, 5.6, 2.4]),\n",
       "  array([6.9, 3.1, 5.1, 2.3]),\n",
       "  array([5.8, 2.7, 5.1, 1.9]),\n",
       "  array([6.8, 3.2, 5.9, 2.3]),\n",
       "  array([6.7, 3.3, 5.7, 2.5]),\n",
       "  array([6.7, 3. , 5.2, 2.3]),\n",
       "  array([6.3, 2.5, 5. , 1.9]),\n",
       "  array([6.5, 3. , 5.2, 2. ]),\n",
       "  array([6.2, 3.4, 5.4, 2.3]),\n",
       "  array([5.9, 3. , 5.1, 1.8])],\n",
       " [array([5.5, 2.3, 4. , 1.3]),\n",
       "  array([4.9, 2.4, 3.3, 1. ]),\n",
       "  array([5.2, 2.7, 3.9, 1.4]),\n",
       "  array([5. , 2. , 3.5, 1. ]),\n",
       "  array([6. , 2.2, 4. , 1. ]),\n",
       "  array([5.6, 2.9, 3.6, 1.3]),\n",
       "  array([5.8, 2.7, 4.1, 1. ]),\n",
       "  array([5.6, 2.5, 3.9, 1.1]),\n",
       "  array([5.7, 2.6, 3.5, 1. ]),\n",
       "  array([5.5, 2.4, 3.8, 1.1]),\n",
       "  array([5.5, 2.4, 3.7, 1. ]),\n",
       "  array([5.8, 2.7, 3.9, 1.2]),\n",
       "  array([5.6, 3. , 4.1, 1.3]),\n",
       "  array([5.5, 2.5, 4. , 1.3]),\n",
       "  array([5.8, 2.6, 4. , 1.2]),\n",
       "  array([5. , 2.3, 3.3, 1. ]),\n",
       "  array([5.7, 3. , 4.2, 1.2]),\n",
       "  array([5.1, 2.5, 3. , 1.1]),\n",
       "  array([5.7, 2.8, 4.1, 1.3])],\n",
       " [array([5.1, 3.5, 1.4, 0.2]),\n",
       "  array([4.9, 3. , 1.4, 0.2]),\n",
       "  array([4.7, 3.2, 1.3, 0.2]),\n",
       "  array([4.6, 3.1, 1.5, 0.2]),\n",
       "  array([5. , 3.6, 1.4, 0.2]),\n",
       "  array([5.4, 3.9, 1.7, 0.4]),\n",
       "  array([4.6, 3.4, 1.4, 0.3]),\n",
       "  array([5. , 3.4, 1.5, 0.2]),\n",
       "  array([4.4, 2.9, 1.4, 0.2]),\n",
       "  array([4.9, 3.1, 1.5, 0.1]),\n",
       "  array([5.4, 3.7, 1.5, 0.2]),\n",
       "  array([4.8, 3.4, 1.6, 0.2]),\n",
       "  array([4.8, 3. , 1.4, 0.1]),\n",
       "  array([4.3, 3. , 1.1, 0.1]),\n",
       "  array([5.8, 4. , 1.2, 0.2]),\n",
       "  array([5.7, 4.4, 1.5, 0.4]),\n",
       "  array([5.4, 3.9, 1.3, 0.4]),\n",
       "  array([5.1, 3.5, 1.4, 0.3]),\n",
       "  array([5.7, 3.8, 1.7, 0.3]),\n",
       "  array([5.1, 3.8, 1.5, 0.3]),\n",
       "  array([5.4, 3.4, 1.7, 0.2]),\n",
       "  array([5.1, 3.7, 1.5, 0.4]),\n",
       "  array([4.6, 3.6, 1. , 0.2]),\n",
       "  array([5.1, 3.3, 1.7, 0.5]),\n",
       "  array([4.8, 3.4, 1.9, 0.2]),\n",
       "  array([5. , 3. , 1.6, 0.2]),\n",
       "  array([5. , 3.4, 1.6, 0.4]),\n",
       "  array([5.2, 3.5, 1.5, 0.2]),\n",
       "  array([5.2, 3.4, 1.4, 0.2]),\n",
       "  array([4.7, 3.2, 1.6, 0.2]),\n",
       "  array([4.8, 3.1, 1.6, 0.2]),\n",
       "  array([5.4, 3.4, 1.5, 0.4]),\n",
       "  array([5.2, 4.1, 1.5, 0.1]),\n",
       "  array([5.5, 4.2, 1.4, 0.2]),\n",
       "  array([4.9, 3.1, 1.5, 0.2]),\n",
       "  array([5. , 3.2, 1.2, 0.2]),\n",
       "  array([5.5, 3.5, 1.3, 0.2]),\n",
       "  array([4.9, 3.6, 1.4, 0.1]),\n",
       "  array([4.4, 3. , 1.3, 0.2]),\n",
       "  array([5.1, 3.4, 1.5, 0.2]),\n",
       "  array([5. , 3.5, 1.3, 0.3]),\n",
       "  array([4.5, 2.3, 1.3, 0.3]),\n",
       "  array([4.4, 3.2, 1.3, 0.2]),\n",
       "  array([5. , 3.5, 1.6, 0.6]),\n",
       "  array([5.1, 3.8, 1.9, 0.4]),\n",
       "  array([4.8, 3. , 1.4, 0.3]),\n",
       "  array([5.1, 3.8, 1.6, 0.2]),\n",
       "  array([4.6, 3.2, 1.4, 0.2]),\n",
       "  array([5.3, 3.7, 1.5, 0.2]),\n",
       "  array([5. , 3.3, 1.4, 0.2])]]"
      ]
     },
     "execution_count": 90,
     "metadata": {},
     "output_type": "execute_result"
    }
   ],
   "source": [
    "iris_k = k_means(iris['data'],3)\n",
    "iris_k.k_means_repeat(10)"
   ]
  },
  {
   "cell_type": "markdown",
   "id": "88a43132",
   "metadata": {},
   "source": [
    "I use PCA to reduce the iris dataset to 2 dimensions, then convert them to numpy and plot them using my k means function. It appears to be accurate at identifying the flower on the left, but is sometimes unsure about the two flowers close together."
   ]
  },
  {
   "cell_type": "code",
   "execution_count": 91,
   "id": "999553a0",
   "metadata": {},
   "outputs": [
    {
     "data": {
      "text/html": [
       "<div>\n",
       "<style scoped>\n",
       "    .dataframe tbody tr th:only-of-type {\n",
       "        vertical-align: middle;\n",
       "    }\n",
       "\n",
       "    .dataframe tbody tr th {\n",
       "        vertical-align: top;\n",
       "    }\n",
       "\n",
       "    .dataframe thead th {\n",
       "        text-align: right;\n",
       "    }\n",
       "</style>\n",
       "<table border=\"1\" class=\"dataframe\">\n",
       "  <thead>\n",
       "    <tr style=\"text-align: right;\">\n",
       "      <th></th>\n",
       "      <th>pc1</th>\n",
       "      <th>pc2</th>\n",
       "    </tr>\n",
       "  </thead>\n",
       "  <tbody>\n",
       "    <tr>\n",
       "      <th>0</th>\n",
       "      <td>-2.684126</td>\n",
       "      <td>0.319397</td>\n",
       "    </tr>\n",
       "    <tr>\n",
       "      <th>1</th>\n",
       "      <td>-2.714142</td>\n",
       "      <td>-0.177001</td>\n",
       "    </tr>\n",
       "    <tr>\n",
       "      <th>2</th>\n",
       "      <td>-2.888991</td>\n",
       "      <td>-0.144949</td>\n",
       "    </tr>\n",
       "    <tr>\n",
       "      <th>3</th>\n",
       "      <td>-2.745343</td>\n",
       "      <td>-0.318299</td>\n",
       "    </tr>\n",
       "    <tr>\n",
       "      <th>4</th>\n",
       "      <td>-2.728717</td>\n",
       "      <td>0.326755</td>\n",
       "    </tr>\n",
       "  </tbody>\n",
       "</table>\n",
       "</div>"
      ],
      "text/plain": [
       "        pc1       pc2\n",
       "0 -2.684126  0.319397\n",
       "1 -2.714142 -0.177001\n",
       "2 -2.888991 -0.144949\n",
       "3 -2.745343 -0.318299\n",
       "4 -2.728717  0.326755"
      ]
     },
     "execution_count": 91,
     "metadata": {},
     "output_type": "execute_result"
    }
   ],
   "source": [
    "from sklearn.decomposition import PCA\n",
    "import pandas as pd\n",
    "numComponents = 2\n",
    "pca = PCA(n_components=numComponents)\n",
    "pca.fit(iris['data'])\n",
    "\n",
    "projected = pca.transform(iris['data'])\n",
    "projected = pd.DataFrame(projected,columns=['pc1','pc2'],index=range(0,len(iris['data'])))\n",
    "projected.head()"
   ]
  },
  {
   "cell_type": "code",
   "execution_count": 95,
   "id": "08c9710c",
   "metadata": {},
   "outputs": [
    {
     "name": "stdout",
     "output_type": "stream",
     "text": [
      "Finished 'k_means_repeat' in 0.49529570 seconds!\n"
     ]
    },
    {
     "data": {
      "image/png": "[encoded data removed]",
      "text/plain": [
       "<Figure size 432x288 with 1 Axes>"
      ]
     },
     "metadata": {
      "needs_background": "light"
     },
     "output_type": "display_data"
    }
   ],
   "source": [
    "projected_np = projected.to_numpy()\n",
    "projected_np\n",
    "projected_k = k_means(projected_np,3)\n",
    "projected_k.plot_repeat(10)\n"
   ]
  },
  {
   "cell_type": "markdown",
   "id": "9ae35ec2",
   "metadata": {},
   "source": [
    "### Time Complexity\n",
    "\n",
    "The time complexity of the algorithm is $O(n^2)$, where n is the input data size. This is because it has to iterate through every point in our data values and calculate the distance to each centroid using a nested loop (in the *clusters()* function), then cluster around the centroid with the minimum distance. Depending on how long it takes the clusters to stabilise will affect the time for the algorithm as well. \n",
    "\n",
    "As seen above, the iris dataset (reduced to 2D) with 150 values takes just less than 10x time to cluster as our own 2D dataset with 15 values (0.5 and 0.08 seconds). In this case, multiplying the number of samples by 10 also multiplies the amount of time to cluster by approximately 10. As I am using the *k_means_repeat(i)* function that repeats the process *i* times, this may vary depending on the randomness of each clustering process.  "
   ]
  },
  {
   "cell_type": "markdown",
   "id": "fd53cd76",
   "metadata": {},
   "source": [
    "### Test Harness\n",
    "\n",
    "The test harness asserts the basic requirements I stated earlier. For the clustering and updating tests, I figured out how the data should cluster by hand, then compared these results to what I achieve through the function. "
   ]
  },
  {
   "cell_type": "code",
   "execution_count": 93,
   "id": "1b8f30b8",
   "metadata": {
    "scrolled": true
   },
   "outputs": [
    {
     "name": "stderr",
     "output_type": "stream",
     "text": [
      "test_cluster (__main__.test_kmeans) ... ok\n",
      "test_size_of (__main__.test_kmeans) ... ok\n",
      "test_testing (__main__.test_kmeans) ... ok\n",
      "test_type_check (__main__.test_kmeans) ... ok\n",
      "test_update (__main__.test_kmeans) ... ok\n",
      "\n",
      "----------------------------------------------------------------------\n",
      "Ran 5 tests in 0.032s\n",
      "\n",
      "OK\n"
     ]
    }
   ],
   "source": [
    "import unittest\n",
    "\n",
    "class test_kmeans(unittest.TestCase):\n",
    "    #Asserting that k number of centroids are initialised\n",
    "    def test_size_of(self):\n",
    "        testing = k_means(data_1d,3)\n",
    "        centroids = testing.ini_centroids(data_1d,3)\n",
    "        self.assertEqual(len(centroids), 3)\n",
    "        testing2 = k_means(data_1d,6)\n",
    "        centroids2 = testing2.ini_centroids(data_1d,6)\n",
    "        self.assertEqual(len(centroids2), 6)\n",
    "        testing3 = k_means(data_1d,9)\n",
    "        centroids3 = testing3.ini_centroids(data_1d,9)\n",
    "        self.assertEqual(len(centroids3), 9)\n",
    "    #Asserting that the centroids are created as lists\n",
    "    def test_type_check(self):\n",
    "        testing = k_means(data_1d,3)\n",
    "        centroids = testing.ini_centroids(data_1d,3)\n",
    "        self.assertEqual(type(centroids), list)\n",
    "    #Asserting that the clustering function works as expected, I've figured out the optimum clusters\n",
    "    #that they should go into by hand\n",
    "    def test_cluster(self):\n",
    "        testing = k_means(data_1d,3)\n",
    "        self.assertEqual(testing.clusters([25,28,49]),[[1, 5, 3, 2, 6, 25, 26, 24], [27, 28], \n",
    "                                                       [53, 52, 50, 49, 51]])\n",
    "        testing2 = k_means(data_1d,6)\n",
    "        self.assertEqual(testing2.clusters([25,28,49,3,53,5]),[[25, 26, 24], [27, 28], [50, 49, 51], \n",
    "                                                               [1, 3, 2], [53, 52], [5, 6]])\n",
    "        testing3 = k_means(data_1d,2)\n",
    "        self.assertEqual(testing3.clusters([53,51]),[[53, 52], [1, 5, 3, 2, 6, 25, 26, 24, 27, 28, 50, 49, 51]])\n",
    "    #Asserting that the update function is reclustering properly\n",
    "    def test_update(self):\n",
    "        testing = k_means(data_1d, 3)\n",
    "        self.assertEqual(testing.update([[25,26,24,6,5,3,2,1],[28,27],[49,50,51,52,53]]),\n",
    "                                        [[1, 5, 3, 2, 6], [25, 26, 24, 27, 28], [53, 52, 50, 49, 51]])\n",
    "        testing2 = k_means(data_1d, 6)\n",
    "        self.assertEqual(testing.update([[25], [26], [1, 5, 3, 2, 6, 24], [27], [28], [53, 52, 50, 49, 51]]),\n",
    "                        [[25, 24], [26], [1, 5, 3, 2, 6], [27], [28], [53, 52, 50, 49, 51]])\n",
    "    #asserting that the test functions are working\n",
    "    def test_testing(self):\n",
    "        self.assertEqual(5,5)\n",
    "if __name__ == '__main__':\n",
    "    unittest.main(argv=['this-is-ignored'],exit=False,verbosity=2)"
   ]
  },
  {
   "cell_type": "markdown",
   "id": "c58dd012",
   "metadata": {},
   "source": [
    "## Final Analysis\n",
    "\n",
    "Overall, my algorithm works with 1D and multidimensional data, with the ability to plot 1D and 2D visualisations. It assumes an input of a 1D or 2D numpy array, but it can work with multiple dimensions of variables within these arrays. It can use any k number greater than 0, however in this iteration it will only plot up to 10 k numbers but this can be increased by adding more colours. The function repeats the clustering process until the means have stabilised, there is no hard limit. It contains a repeat function that will repeat the full process a user specified number of times, returning the resulting clusters with the least variance, this is also linked to a plot function. \n",
    "\n",
    "A limitation may be its inability to classify outliers, if there is a datapoint far from any cluster (a global outlier), it will still be appended to a cluster and may skew the cluster mean calculations. \n",
    "\n",
    "It operates at a $O(n^2)$ run time because of the nested loop, and the time will vary due to the randomness of the centroid selection and the amount of times the algorithm has to repeat to stabilise the means. This may be a limitation as the algorithm runtime will increase quicker than a $O(n)$ as more k numbers and larger datasets are used, as each datapoint must be compared to each centroid in the nested loop. This means that it may reach a limit of k numbers and dataset size earlier than a $O(n)$ algorithm. From our function demonstrations above, it took 1.05 seconds to cluster the 1D dataset with 15 datapoints with a k number of 15 compared to 0.48 seconds in clustering the full iris dataset of 150 datapoints, 4 dimensions but with a k number of only 3. From this, it appears that the k number also has a great impact on algorithm runtime.\n",
    "\n",
    "Overall it appears stable, something to work on may be implementing a sorting algorithm so that the returned clusters are sorted in ascending order as right now they are returned by the order of the initial centroids, which is random. "
   ]
  },
  {
   "cell_type": "markdown",
   "id": "e547271f",
   "metadata": {},
   "source": [
    "Thanks for reading! \n",
    "\n",
    "Elliot Linsey, QMUL"
   ]
  }
 ],
 "metadata": {
  "kernelspec": {
   "display_name": "Python 3",
   "language": "python",
   "name": "python3"
  },
  "language_info": {
   "codemirror_mode": {
    "name": "ipython",
    "version": 3
   },
   "file_extension": ".py",
   "mimetype": "text/x-python",
   "name": "python",
   "nbconvert_exporter": "python",
   "pygments_lexer": "ipython3",
   "version": "3.8.8"
  }
 },
 "nbformat": 4,
 "nbformat_minor": 5
}
