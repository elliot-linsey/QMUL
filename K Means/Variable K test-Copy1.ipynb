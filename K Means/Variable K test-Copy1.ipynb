{
 "cells": [
  {
   "cell_type": "code",
   "execution_count": 25,
   "metadata": {},
   "outputs": [],
   "source": [
    "import numpy as np\n",
    "from matplotlib import pyplot as plt"
   ]
  },
  {
   "cell_type": "code",
   "execution_count": 26,
   "metadata": {},
   "outputs": [],
   "source": [
    "data = np.array([23,34,43,26,41,78,86,68,97,76,150,135,160,125,144])"
   ]
  },
  {
   "cell_type": "markdown",
   "metadata": {},
   "source": [
    "Here is a revision of the simple k-means algorithm, this one accepts an integer (k) and will create k number of clusters. Below it randomly chooses the initial cluster centres and appends them to a list which it returns.  "
   ]
  },
  {
   "cell_type": "code",
   "execution_count": 27,
   "metadata": {},
   "outputs": [],
   "source": [
    "def ini_centroids(data, k):\n",
    "    lst = []\n",
    "    choices = np.random.choice(data, size=k, replace=False)\n",
    "    for i in range(len(choices)):\n",
    "        lst.append([choices[i]])\n",
    "    return [i[0] for i in lst]"
   ]
  },
  {
   "cell_type": "markdown",
   "metadata": {},
   "source": [
    "Below is the clustering function. It first creates a list (clusters - badly named), then appends each centroid value to a nested list within the clusters list. These nested lists are where the other cluster values will be appended to. From here, the function goes through each datapoint in data and calculates the absolute differences between the datapoint and each separate centroid. It appends these distances to a list (distances), it then finds the index of the minimum value within distances, this being the corresponding cluster that the datapoint is closest to. As both lists distances and clusters have the same length, we can then append the datapoint to the corresponding cluster. So if distances[2] had the minimum value, we would append the datapoint to clusters[2].\\\n",
    "Due to the fact that it is going over every datapoint again, including the initial randomly selected centroids, each cluster will inevitably append a duplicate of its initial centroid to itself. To correct this, we search through the clusters and remove one instance of the initial centroid from each corresponding cluster."
   ]
  },
  {
   "cell_type": "code",
   "execution_count": 28,
   "metadata": {},
   "outputs": [],
   "source": [
    "def clusters(centroids):\n",
    "    clusters = []\n",
    "    \n",
    "    for i in range(len(centroids)):\n",
    "        clusters.append([centroids[i]])\n",
    "    #print(clusters)\n",
    "    for y in data:\n",
    "        distances = []\n",
    "        for i in range(len(clusters)):\n",
    "            \n",
    "            distances.append(abs(y - clusters[i][0]))\n",
    "            \n",
    "        #print(distances)\n",
    "        idx = distances.index(min(distances))\n",
    "        clusters[idx].append(y)\n",
    "    \n",
    "    for x in clusters:\n",
    "        #print(x)\n",
    "        for y in centroids:\n",
    "            if y in x:\n",
    "                x.remove(y)\n",
    "    \n",
    "        \n",
    "            \n",
    "    return clusters"
   ]
  },
  {
   "cell_type": "code",
   "execution_count": 29,
   "metadata": {},
   "outputs": [
    {
     "name": "stdout",
     "output_type": "stream",
     "text": [
      "[125, 34, 160]\n"
     ]
    }
   ],
   "source": [
    "centroids = ini_centroids(data, 3)\n",
    "print(centroids)"
   ]
  },
  {
   "cell_type": "code",
   "execution_count": 30,
   "metadata": {
    "scrolled": true
   },
   "outputs": [
    {
     "name": "stdout",
     "output_type": "stream",
     "text": [
      "[[86, 97, 135, 125], [23, 34, 43, 26, 41, 78, 68, 76], [150, 160, 144]]\n"
     ]
    }
   ],
   "source": [
    "cluster_values = clusters(centroids)\n",
    "print(cluster_values)"
   ]
  },
  {
   "cell_type": "markdown",
   "metadata": {},
   "source": [
    "This is the update function that updates the centroids using the calculated means. It loops through the completed clusters that are fed to it and returns a list of the means from each cluster."
   ]
  },
  {
   "cell_type": "code",
   "execution_count": 31,
   "metadata": {},
   "outputs": [
    {
     "name": "stdout",
     "output_type": "stream",
     "text": [
      "means = [110.75, 48.625, 151.33333333333334]\n"
     ]
    }
   ],
   "source": [
    "def update(clust_vals):\n",
    "    cluster_means = []\n",
    "    for x in clust_vals:\n",
    "        cluster_means.append(np.mean(x))\n",
    "    print('means = ' + str(cluster_means))\n",
    "    return clusters(cluster_means)\n",
    "    \n",
    "\n",
    "updates1 = update(cluster_values)"
   ]
  },
  {
   "cell_type": "markdown",
   "metadata": {},
   "source": [
    "This is the full function, it takes a data array and k number as parameters which can be adjusted. It first initialises the centroids then creates initial clusters based on them. From here it updates the first cluster_values to generate a mean and feeds these back as new centroids into the clusters function. It then repeats this process 9 times, each time feeding the updated data back to itself to generate closer clusters and more stable means. By the end of this process the means have usually stabilised and the clustering process is complete. However, due to the random nature of choosing the initial centroids the whole process can be repeated again until the optimum means and clusters have been achieved. "
   ]
  },
  {
   "cell_type": "code",
   "execution_count": 65,
   "metadata": {},
   "outputs": [],
   "source": [
    "def k_means(data,k):\n",
    "    centroids = ini_centroids(data, k)\n",
    "    cluster_values = clusters(centroids)\n",
    "    updates = update(cluster_values)\n",
    "    for i in range(9):\n",
    "        print(updates)\n",
    "        updates = update(updates)\n",
    "    return updates\n",
    "#print(k_means(data,3))"
   ]
  },
  {
   "cell_type": "code",
   "execution_count": 70,
   "metadata": {},
   "outputs": [
    {
     "name": "stdout",
     "output_type": "stream",
     "text": [
      "means = [80.0, 39.166666666666664, 135.16666666666666]\n",
      "[[78, 86, 68, 97, 76], [23, 34, 43, 26, 41], [150, 135, 160, 125, 144]]\n",
      "means = [81.0, 33.4, 142.8]\n",
      "[[78, 86, 68, 97, 76], [23, 34, 43, 26, 41], [150, 135, 160, 125, 144]]\n",
      "means = [81.0, 33.4, 142.8]\n",
      "[[78, 86, 68, 97, 76], [23, 34, 43, 26, 41], [150, 135, 160, 125, 144]]\n",
      "means = [81.0, 33.4, 142.8]\n",
      "[[78, 86, 68, 97, 76], [23, 34, 43, 26, 41], [150, 135, 160, 125, 144]]\n",
      "means = [81.0, 33.4, 142.8]\n",
      "[[78, 86, 68, 97, 76], [23, 34, 43, 26, 41], [150, 135, 160, 125, 144]]\n",
      "means = [81.0, 33.4, 142.8]\n",
      "[[78, 86, 68, 97, 76], [23, 34, 43, 26, 41], [150, 135, 160, 125, 144]]\n",
      "means = [81.0, 33.4, 142.8]\n",
      "[[78, 86, 68, 97, 76], [23, 34, 43, 26, 41], [150, 135, 160, 125, 144]]\n",
      "means = [81.0, 33.4, 142.8]\n",
      "[[78, 86, 68, 97, 76], [23, 34, 43, 26, 41], [150, 135, 160, 125, 144]]\n",
      "means = [81.0, 33.4, 142.8]\n",
      "[[78, 86, 68, 97, 76], [23, 34, 43, 26, 41], [150, 135, 160, 125, 144]]\n",
      "means = [81.0, 33.4, 142.8]\n"
     ]
    },
    {
     "data": {
      "text/plain": [
       "[[78, 86, 68, 97, 76], [23, 34, 43, 26, 41], [150, 135, 160, 125, 144]]"
      ]
     },
     "execution_count": 70,
     "metadata": {},
     "output_type": "execute_result"
    }
   ],
   "source": [
    "k_mean = k_means(data,3)\n",
    "k_mean"
   ]
  },
  {
   "cell_type": "markdown",
   "metadata": {},
   "source": [
    "Below I add a visualisation element to my algorithm. It goes through each list from the k_mean function and plots them all separately so they are different colours. [0]\\*len(k_mean[i]) is used to create corresponding y values of 0 so that all points stay 1 dimensional. The means of each cluster are then plotted onto the same plot. The colours appear to be random and I haven't figured out how to make them consistent over variable k numbers, however the contrast can actually make it a little easier to see exactly where the means within the clusters are. "
   ]
  },
  {
   "cell_type": "code",
   "execution_count": 71,
   "metadata": {},
   "outputs": [
    {
     "data": {
      "image/png": "[encoded data removed]",
      "text/plain": [
       "<Figure size 432x288 with 1 Axes>"
      ]
     },
     "metadata": {
      "needs_background": "light"
     },
     "output_type": "display_data"
    }
   ],
   "source": [
    "for i in range(len(k_mean)):\n",
    "    plt.plot(k_mean[i], [0]*len(k_mean[i]), 'o')\n",
    "    plt.plot(np.mean(k_mean[i]), [0],'x', markersize=15)\n",
    "    \n"
   ]
  },
  {
   "cell_type": "markdown",
   "metadata": {},
   "source": [
    "Thanks for reading!\\\n",
    "Elliot Linsey QMUL"
   ]
  },
  {
   "cell_type": "code",
   "execution_count": null,
   "metadata": {},
   "outputs": [],
   "source": []
  }
 ],
 "metadata": {
  "kernelspec": {
   "display_name": "Python 3 (ipykernel)",
   "language": "python",
   "name": "python3"
  },
  "language_info": {
   "codemirror_mode": {
    "name": "ipython",
    "version": 3
   },
   "file_extension": ".py",
   "mimetype": "text/x-python",
   "name": "python",
   "nbconvert_exporter": "python",
   "pygments_lexer": "ipython3",
   "version": "3.8.11"
  }
 },
 "nbformat": 4,
 "nbformat_minor": 4
}
