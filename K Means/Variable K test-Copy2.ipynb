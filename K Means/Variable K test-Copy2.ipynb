{
 "cells": [
  {
   "cell_type": "code",
   "execution_count": 26,
   "metadata": {},
   "outputs": [],
   "source": [
    "import numpy as np\n",
    "from matplotlib import pyplot as plt"
   ]
  },
  {
   "cell_type": "markdown",
   "metadata": {},
   "source": [
    "## K Means Algorithm - Elliot Linsey"
   ]
  },
  {
   "cell_type": "code",
   "execution_count": 27,
   "metadata": {},
   "outputs": [],
   "source": [
    "data = np.array([23,34,43,26,41,78,86,68,97,76,150,135,160,125,144])"
   ]
  },
  {
   "cell_type": "markdown",
   "metadata": {},
   "source": [
    "A small test harness for a couple of methods I plan to use. "
   ]
  },
  {
   "cell_type": "code",
   "execution_count": 28,
   "metadata": {},
   "outputs": [],
   "source": [
    "def test(data=[23,34,43,26,41]):\n",
    "    assert(sum(data)/len(data) == 33.4)\n",
    "    #centroid = 34\n",
    "    dist1 = [abs(34-23), abs(34-34), abs(34-43), abs(34-26), abs(34-41)]\n",
    "    dist2 = ([abs(x-34) for x in data])\n",
    "    assert(dist1 == dist2)\n",
    "test()"
   ]
  },
  {
   "cell_type": "markdown",
   "metadata": {},
   "source": [
    "Here is a revision of the simple k-means algorithm, this one accepts an integer (k) and will create k number of clusters. Below it randomly chooses the initial cluster centres and appends them to a list which it returns.  "
   ]
  },
  {
   "cell_type": "code",
   "execution_count": 29,
   "metadata": {},
   "outputs": [],
   "source": [
    "def ini_centroids(data, k):\n",
    "    lst = []\n",
    "    choices = np.random.choice(data, size=k, replace=False)\n",
    "    for i in range(len(choices)):\n",
    "        lst.append([choices[i]])\n",
    "    return [i[0] for i in lst]"
   ]
  },
  {
   "cell_type": "markdown",
   "metadata": {},
   "source": [
    "Below is the clustering function. It first creates a list, then appends each centroid value to a nested list within the clusters list. These nested lists are where the other cluster values will be appended to. From here, the function goes through each datapoint in data and calculates the absolute differences between the datapoint and each separate centroid. It appends these distances to a list (distances), it then finds the index of the minimum value within distances, this being the corresponding cluster that the datapoint is closest to. As both lists distances and clusters have the same length, we can then append the datapoint to the corresponding cluster. So if distances[2] had the minimum value, we would append the datapoint to cluster_vals[2].\\\n",
    "Due to the fact that it is going over every datapoint again, including the initial randomly selected centroids, each cluster will inevitably append a duplicate of its initial centroid to itself. To correct this, we search through the clusters and remove one instance of the initial centroid from each corresponding cluster."
   ]
  },
  {
   "cell_type": "code",
   "execution_count": 30,
   "metadata": {},
   "outputs": [],
   "source": [
    "def clusters(centroids):\n",
    "    cluster_vals = []\n",
    "    \n",
    "    for i in range(len(centroids)):\n",
    "        cluster_vals.append([centroids[i]])\n",
    "    #print(cluster_vals)\n",
    "    for y in data:\n",
    "        distances = []\n",
    "        for i in range(len(cluster_vals)):\n",
    "            \n",
    "            distances.append(abs(y - cluster_vals[i][0]))\n",
    "            \n",
    "        #print(distances)\n",
    "        idx = distances.index(min(distances))\n",
    "        cluster_vals[idx].append(y)\n",
    "    \n",
    "    for x in cluster_vals:\n",
    "        #print(x)\n",
    "        for y in centroids:\n",
    "            if y in x:\n",
    "                x.remove(y)\n",
    "    \n",
    "        \n",
    "            \n",
    "    return cluster_vals"
   ]
  },
  {
   "cell_type": "code",
   "execution_count": 31,
   "metadata": {},
   "outputs": [
    {
     "name": "stdout",
     "output_type": "stream",
     "text": [
      "[97, 43, 41]\n"
     ]
    }
   ],
   "source": [
    "centroids = ini_centroids(data, 3)\n",
    "print(centroids)"
   ]
  },
  {
   "cell_type": "code",
   "execution_count": 32,
   "metadata": {
    "scrolled": true
   },
   "outputs": [
    {
     "name": "stdout",
     "output_type": "stream",
     "text": [
      "[[78, 86, 97, 76, 150, 135, 160, 125, 144], [43, 68], [23, 34, 26, 41]]\n"
     ]
    }
   ],
   "source": [
    "cluster_values = clusters(centroids)\n",
    "print(cluster_values)"
   ]
  },
  {
   "cell_type": "markdown",
   "metadata": {},
   "source": [
    "This is the update function that updates the centroids using the calculated means. It loops through the completed clusters that are fed to it and returns a list of the means from each cluster."
   ]
  },
  {
   "cell_type": "code",
   "execution_count": 33,
   "metadata": {},
   "outputs": [
    {
     "name": "stdout",
     "output_type": "stream",
     "text": [
      "means = [116.77777777777777, 55.5, 31.0]\n"
     ]
    }
   ],
   "source": [
    "def update(clust_vals):\n",
    "    cluster_means = []\n",
    "    for x in clust_vals:\n",
    "        cluster_means.append(np.mean(x))\n",
    "    print('means = ' + str(cluster_means))\n",
    "    return clusters(cluster_means)\n",
    "    \n",
    "\n",
    "updates1 = update(cluster_values)"
   ]
  },
  {
   "cell_type": "markdown",
   "metadata": {},
   "source": [
    "This is the full function, it takes a data array and k number as parameters which can be adjusted. It first initialises the centroids then creates initial clusters based on them. From here it updates the first cluster_values to generate a mean and feeds these back as new centroids into the clusters function. It then repeats this process 9 times, each time feeding the updated data back to itself to generate closer clusters and more stable means. By the end of this process the means have usually stabilised and the clustering process is complete. However, due to the random nature of choosing the initial centroids the whole process can be repeated again until the optimum means and clusters have been achieved. "
   ]
  },
  {
   "cell_type": "code",
   "execution_count": 34,
   "metadata": {},
   "outputs": [],
   "source": [
    "def k_means(data,k):\n",
    "    centroids = ini_centroids(data, k)\n",
    "    cluster_values = clusters(centroids)\n",
    "    updates = update(cluster_values)\n",
    "    for i in range(9):\n",
    "        print(updates)\n",
    "        updates = update(updates)\n",
    "    return updates\n",
    "#print(k_means(data,3))"
   ]
  },
  {
   "cell_type": "code",
   "execution_count": 35,
   "metadata": {},
   "outputs": [
    {
     "name": "stdout",
     "output_type": "stream",
     "text": [
      "means = [142.8, 97.0, 52.77777777777778]\n",
      "[[150, 135, 160, 125, 144], [78, 86, 97, 76], [23, 34, 43, 26, 41, 68]]\n",
      "means = [142.8, 84.25, 39.166666666666664]\n",
      "[[150, 135, 160, 125, 144], [78, 86, 68, 97, 76], [23, 34, 43, 26, 41]]\n",
      "means = [142.8, 81.0, 33.4]\n",
      "[[150, 135, 160, 125, 144], [78, 86, 68, 97, 76], [23, 34, 43, 26, 41]]\n",
      "means = [142.8, 81.0, 33.4]\n",
      "[[150, 135, 160, 125, 144], [78, 86, 68, 97, 76], [23, 34, 43, 26, 41]]\n",
      "means = [142.8, 81.0, 33.4]\n",
      "[[150, 135, 160, 125, 144], [78, 86, 68, 97, 76], [23, 34, 43, 26, 41]]\n",
      "means = [142.8, 81.0, 33.4]\n",
      "[[150, 135, 160, 125, 144], [78, 86, 68, 97, 76], [23, 34, 43, 26, 41]]\n",
      "means = [142.8, 81.0, 33.4]\n",
      "[[150, 135, 160, 125, 144], [78, 86, 68, 97, 76], [23, 34, 43, 26, 41]]\n",
      "means = [142.8, 81.0, 33.4]\n",
      "[[150, 135, 160, 125, 144], [78, 86, 68, 97, 76], [23, 34, 43, 26, 41]]\n",
      "means = [142.8, 81.0, 33.4]\n",
      "[[150, 135, 160, 125, 144], [78, 86, 68, 97, 76], [23, 34, 43, 26, 41]]\n",
      "means = [142.8, 81.0, 33.4]\n"
     ]
    },
    {
     "data": {
      "text/plain": [
       "[[150, 135, 160, 125, 144], [78, 86, 68, 97, 76], [23, 34, 43, 26, 41]]"
      ]
     },
     "execution_count": 35,
     "metadata": {},
     "output_type": "execute_result"
    }
   ],
   "source": [
    "k_mean = k_means(data,3)\n",
    "k_mean"
   ]
  },
  {
   "cell_type": "markdown",
   "metadata": {},
   "source": [
    "Below I add a visualisation element to my algorithm. It goes through each list from the k_mean function and plots them all separately so they are different colours. [0]\\*len(k_mean[i]) is used to create corresponding y values of 0 so that all points stay 1 dimensional. The means of each cluster are then plotted onto the same plot. The colours appear to be random and I haven't figured out how to make them consistent over variable k numbers, however the contrast can actually make it a little easier to see exactly where the means within the clusters are. "
   ]
  },
  {
   "cell_type": "code",
   "execution_count": 36,
   "metadata": {},
   "outputs": [
    {
     "data": {
      "image/png": "[encoded data removed]",
      "text/plain": [
       "<Figure size 432x288 with 1 Axes>"
      ]
     },
     "metadata": {
      "needs_background": "light"
     },
     "output_type": "display_data"
    }
   ],
   "source": [
    "for i in range(len(k_mean)):\n",
    "    plt.plot(k_mean[i], [0]*len(k_mean[i]), 'o')\n",
    "    plt.plot(np.mean(k_mean[i]), [0],'x', markersize=15)\n",
    "    \n"
   ]
  },
  {
   "cell_type": "markdown",
   "metadata": {},
   "source": [
    "Below I've put all the functions into a class."
   ]
  },
  {
   "cell_type": "code",
   "execution_count": 43,
   "metadata": {
    "scrolled": true
   },
   "outputs": [
    {
     "name": "stdout",
     "output_type": "stream",
     "text": [
      "means = [57.2, 130.0, 151.33333333333334]\n",
      "[[23, 34, 43, 26, 41, 78, 86, 68, 76], [97, 135, 125], [150, 160, 144]]\n",
      "means = [52.77777777777778, 119.0, 151.33333333333334]\n",
      "[[23, 34, 43, 26, 41, 78, 68, 76], [86, 97, 135, 125], [150, 160, 144]]\n",
      "means = [48.625, 110.75, 151.33333333333334]\n",
      "[[23, 34, 43, 26, 41, 78, 68, 76], [86, 97, 125], [150, 135, 160, 144]]\n",
      "means = [48.625, 102.66666666666667, 147.25]\n",
      "[[23, 34, 43, 26, 41, 68], [78, 86, 97, 76], [150, 135, 160, 125, 144]]\n",
      "means = [39.166666666666664, 84.25, 142.8]\n",
      "[[23, 34, 43, 26, 41], [78, 86, 68, 97, 76], [150, 135, 160, 125, 144]]\n",
      "means = [33.4, 81.0, 142.8]\n",
      "[[23, 34, 43, 26, 41], [78, 86, 68, 97, 76], [150, 135, 160, 125, 144]]\n",
      "means = [33.4, 81.0, 142.8]\n",
      "[[23, 34, 43, 26, 41], [78, 86, 68, 97, 76], [150, 135, 160, 125, 144]]\n",
      "means = [33.4, 81.0, 142.8]\n",
      "[[23, 34, 43, 26, 41], [78, 86, 68, 97, 76], [150, 135, 160, 125, 144]]\n",
      "means = [33.4, 81.0, 142.8]\n",
      "[[23, 34, 43, 26, 41], [78, 86, 68, 97, 76], [150, 135, 160, 125, 144]]\n",
      "means = [33.4, 81.0, 142.8]\n"
     ]
    },
    {
     "data": {
      "image/png": "[encoded data removed]",
      "text/plain": [
       "<Figure size 432x288 with 1 Axes>"
      ]
     },
     "metadata": {
      "needs_background": "light"
     },
     "output_type": "display_data"
    }
   ],
   "source": [
    "class k_means():\n",
    "    def __init__(self, data, k):\n",
    "        self.data = data\n",
    "        self.k = k\n",
    "    def ini_centroids(self, data, k):\n",
    "        lst = []\n",
    "        choices = np.random.choice(self.data, size=self.k, replace=False)\n",
    "        for i in range(len(choices)):\n",
    "            lst.append([choices[i]])\n",
    "        return [i[0] for i in lst]\n",
    "    def clusters(self, centroids):\n",
    "        cluster_vals = []\n",
    "        for i in range(len(centroids)):\n",
    "            cluster_vals.append([centroids[i]])\n",
    "        #print(cluster_vals)\n",
    "        for y in self.data:\n",
    "            distances = []\n",
    "            for i in range(len(cluster_vals)):\n",
    "                distances.append(abs(y - cluster_vals[i][0]))\n",
    "            #print(distances)\n",
    "            idx = distances.index(min(distances))\n",
    "            cluster_vals[idx].append(y)\n",
    "        for x in cluster_vals:\n",
    "            #print(x)\n",
    "            for y in centroids:\n",
    "                if y in x:\n",
    "                    x.remove(y)\n",
    "        return cluster_vals\n",
    "    def update(self,clust_vals):\n",
    "        cluster_means = []\n",
    "        for x in clust_vals:\n",
    "            cluster_means.append(np.mean(x))\n",
    "        print('means = ' + str(cluster_means))\n",
    "        return self.clusters(cluster_means)\n",
    "    def k_means_func(self):\n",
    "        centroids = ini_centroids(self.data, self.k)\n",
    "        cluster_values = self.clusters(centroids)\n",
    "        updates = self.update(cluster_values)\n",
    "        for i in range(9):\n",
    "            print(updates)\n",
    "            updates = update(updates)\n",
    "        return updates\n",
    "    def plot(self):\n",
    "        k_mean = self.k_means_func()\n",
    "        for i in range(len(k_mean)):\n",
    "            plt.plot(k_mean[i], [0]*len(k_mean[i]), 'o')\n",
    "            plt.plot(np.mean(k_mean[i]), [0],'x', markersize=15)\n",
    "    \n",
    "        \n",
    "test = k_means(np.array([23,34,43,26,41,78,86,68,97,76,150,135,160,125,144]), 3)    \n",
    "test.plot()"
   ]
  },
  {
   "cell_type": "code",
   "execution_count": 48,
   "metadata": {},
   "outputs": [
    {
     "name": "stdout",
     "output_type": "stream",
     "text": [
      "means = [147.25, 125.0, 33.4, 81.0]\n",
      "[[150, 160, 144], [135, 125], [23, 34, 43, 26, 41], [78, 86, 68, 97, 76]]\n",
      "means = [151.33333333333334, 130.0, 33.4, 81.0]\n",
      "[[150, 160, 144], [135, 125], [23, 34, 43, 26, 41], [78, 86, 68, 97, 76]]\n",
      "means = [151.33333333333334, 130.0, 33.4, 81.0]\n",
      "[[150, 160, 144], [135, 125], [23, 34, 43, 26, 41], [78, 86, 68, 97, 76]]\n",
      "means = [151.33333333333334, 130.0, 33.4, 81.0]\n",
      "[[150, 160, 144], [135, 125], [23, 34, 43, 26, 41], [78, 86, 68, 97, 76]]\n",
      "means = [151.33333333333334, 130.0, 33.4, 81.0]\n",
      "[[150, 160, 144], [135, 125], [23, 34, 43, 26, 41], [78, 86, 68, 97, 76]]\n",
      "means = [151.33333333333334, 130.0, 33.4, 81.0]\n",
      "[[150, 160, 144], [135, 125], [23, 34, 43, 26, 41], [78, 86, 68, 97, 76]]\n",
      "means = [151.33333333333334, 130.0, 33.4, 81.0]\n",
      "[[150, 160, 144], [135, 125], [23, 34, 43, 26, 41], [78, 86, 68, 97, 76]]\n",
      "means = [151.33333333333334, 130.0, 33.4, 81.0]\n",
      "[[150, 160, 144], [135, 125], [23, 34, 43, 26, 41], [78, 86, 68, 97, 76]]\n",
      "means = [151.33333333333334, 130.0, 33.4, 81.0]\n",
      "[[150, 160, 144], [135, 125], [23, 34, 43, 26, 41], [78, 86, 68, 97, 76]]\n",
      "means = [151.33333333333334, 130.0, 33.4, 81.0]\n"
     ]
    },
    {
     "data": {
      "image/png": "[encoded data removed]",
      "text/plain": [
       "<Figure size 432x288 with 1 Axes>"
      ]
     },
     "metadata": {
      "needs_background": "light"
     },
     "output_type": "display_data"
    }
   ],
   "source": [
    "test2= k_means(data,4)\n",
    "test2plot()"
   ]
  },
  {
   "cell_type": "markdown",
   "metadata": {},
   "source": [
    "Here is the function being used with different k numbers."
   ]
  },
  {
   "cell_type": "code",
   "execution_count": 49,
   "metadata": {},
   "outputs": [
    {
     "name": "stdout",
     "output_type": "stream",
     "text": [
      "means = [135.0, 111.0, 52.77777777777778, 160.0, 147.0]\n",
      "[[135, 125], [86, 97], [23, 34, 43, 26, 41, 78, 68, 76], [160], [150, 144]]\n",
      "means = [130.0, 91.5, 48.625, 160.0, 147.0]\n",
      "[[135, 125], [78, 86, 97, 76], [23, 34, 43, 26, 41, 68], [160], [150, 144]]\n",
      "means = [130.0, 84.25, 39.166666666666664, 160.0, 147.0]\n",
      "[[135, 125], [78, 86, 68, 97, 76], [23, 34, 43, 26, 41], [160], [150, 144]]\n",
      "means = [130.0, 81.0, 33.4, 160.0, 147.0]\n",
      "[[135, 125], [78, 86, 68, 97, 76], [23, 34, 43, 26, 41], [160], [150, 144]]\n",
      "means = [130.0, 81.0, 33.4, 160.0, 147.0]\n",
      "[[135, 125], [78, 86, 68, 97, 76], [23, 34, 43, 26, 41], [160], [150, 144]]\n",
      "means = [130.0, 81.0, 33.4, 160.0, 147.0]\n",
      "[[135, 125], [78, 86, 68, 97, 76], [23, 34, 43, 26, 41], [160], [150, 144]]\n",
      "means = [130.0, 81.0, 33.4, 160.0, 147.0]\n",
      "[[135, 125], [78, 86, 68, 97, 76], [23, 34, 43, 26, 41], [160], [150, 144]]\n",
      "means = [130.0, 81.0, 33.4, 160.0, 147.0]\n",
      "[[135, 125], [78, 86, 68, 97, 76], [23, 34, 43, 26, 41], [160], [150, 144]]\n",
      "means = [130.0, 81.0, 33.4, 160.0, 147.0]\n",
      "[[135, 125], [78, 86, 68, 97, 76], [23, 34, 43, 26, 41], [160], [150, 144]]\n",
      "means = [130.0, 81.0, 33.4, 160.0, 147.0]\n"
     ]
    },
    {
     "data": {
      "image/png": "[encoded data removed]",
      "text/plain": [
       "<Figure size 432x288 with 1 Axes>"
      ]
     },
     "metadata": {
      "needs_background": "light"
     },
     "output_type": "display_data"
    }
   ],
   "source": [
    "test3 = k_means(data, 5)\n",
    "test3.plot()"
   ]
  },
  {
   "cell_type": "code",
   "execution_count": 51,
   "metadata": {},
   "outputs": [
    {
     "name": "stdout",
     "output_type": "stream",
     "text": [
      "means = [125.0, 147.25, 74.0, 43.0, 31.0, 91.5]\n",
      "[[135, 125], [150, 160, 144], [78, 68, 76], [43, 41], [23, 34, 26], [86, 97]]\n",
      "means = [130.0, 151.33333333333334, 74.0, 42.0, 27.666666666666668, 91.5]\n",
      "[[135, 125], [150, 160, 144], [78, 68, 76], [43, 41], [23, 34, 26], [86, 97]]\n",
      "means = [130.0, 151.33333333333334, 74.0, 42.0, 27.666666666666668, 91.5]\n",
      "[[135, 125], [150, 160, 144], [78, 68, 76], [43, 41], [23, 34, 26], [86, 97]]\n",
      "means = [130.0, 151.33333333333334, 74.0, 42.0, 27.666666666666668, 91.5]\n",
      "[[135, 125], [150, 160, 144], [78, 68, 76], [43, 41], [23, 34, 26], [86, 97]]\n",
      "means = [130.0, 151.33333333333334, 74.0, 42.0, 27.666666666666668, 91.5]\n",
      "[[135, 125], [150, 160, 144], [78, 68, 76], [43, 41], [23, 34, 26], [86, 97]]\n",
      "means = [130.0, 151.33333333333334, 74.0, 42.0, 27.666666666666668, 91.5]\n",
      "[[135, 125], [150, 160, 144], [78, 68, 76], [43, 41], [23, 34, 26], [86, 97]]\n",
      "means = [130.0, 151.33333333333334, 74.0, 42.0, 27.666666666666668, 91.5]\n",
      "[[135, 125], [150, 160, 144], [78, 68, 76], [43, 41], [23, 34, 26], [86, 97]]\n",
      "means = [130.0, 151.33333333333334, 74.0, 42.0, 27.666666666666668, 91.5]\n",
      "[[135, 125], [150, 160, 144], [78, 68, 76], [43, 41], [23, 34, 26], [86, 97]]\n",
      "means = [130.0, 151.33333333333334, 74.0, 42.0, 27.666666666666668, 91.5]\n",
      "[[135, 125], [150, 160, 144], [78, 68, 76], [43, 41], [23, 34, 26], [86, 97]]\n",
      "means = [130.0, 151.33333333333334, 74.0, 42.0, 27.666666666666668, 91.5]\n"
     ]
    },
    {
     "data": {
      "image/png": "[encoded data removed]",
      "text/plain": [
       "<Figure size 432x288 with 1 Axes>"
      ]
     },
     "metadata": {
      "needs_background": "light"
     },
     "output_type": "display_data"
    }
   ],
   "source": [
    "test4 = k_means(data, 6)\n",
    "test4.plot()"
   ]
  },
  {
   "cell_type": "markdown",
   "metadata": {},
   "source": [
    "Thanks for reading!\\\n",
    "Elliot Linsey QMUL"
   ]
  }
 ],
 "metadata": {
  "kernelspec": {
   "display_name": "Python 3 (ipykernel)",
   "language": "python",
   "name": "python3"
  },
  "language_info": {
   "codemirror_mode": {
    "name": "ipython",
    "version": 3
   },
   "file_extension": ".py",
   "mimetype": "text/x-python",
   "name": "python",
   "nbconvert_exporter": "python",
   "pygments_lexer": "ipython3",
   "version": "3.8.11"
  }
 },
 "nbformat": 4,
 "nbformat_minor": 4
}
