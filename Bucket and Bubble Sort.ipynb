{
 "cells": [
  {
   "cell_type": "markdown",
   "source": [
    "# Lab 2\n",
    "\n",
    "In this lab, you will start working with actual Python code. You will read and critique some provided code, and you will start translating English text into Python code. At the end of this session you will have taken first steps to test and debug implementations."
   ],
   "metadata": {}
  },
  {
   "cell_type": "markdown",
   "source": [
    "## Task 1: Reading and Debugging Python Programs\n",
    "\n",
    "The following two cells show two (syntactically correct) Python snippets. You will find that one of them is easier to read for humans. Why is this the case? The two programs seek to solve the same problem; which problem is this? Despite being easier to read, at least one of the programs also has some bugs (hint: they are small bugs, just single character errors, those kinds of bugs that may easily slip into your program). Come up with ideas on how you mind find the bugs. Feel free to discuss in your Collaborate group to figure out together what is going wrong."
   ],
   "metadata": {}
  },
  {
   "cell_type": "code",
   "execution_count": 13,
   "source": [
    "# A is a sorted list of values\r\n",
    "A = [ 2, 42, 55, 78, 100 ]\r\n",
    "\r\n",
    "# start is the offset to start the search from\r\n",
    "# end is the upper bound of the range to be searched\r\n",
    "# value is the element to be found\r\n",
    "#\r\n",
    "# binary_search returns True if, and only if, value was found in A[start, end)\r\n",
    "def binary_search(start, end, value):\r\n",
    "    if start >= end:\r\n",
    "        # end of search reached\r\n",
    "        return False\r\n",
    "\r\n",
    "    # compute the mid point between start and end\r\n",
    "    mid = (start + end) // 2 \r\n",
    "    print(mid)\r\n",
    "    if A[mid] == value:\r\n",
    "        # value found\r\n",
    "        return True\r\n",
    "    # recursive calls\r\n",
    "    elif A[mid] > value:\r\n",
    "        return binary_search(start, mid, value)\r\n",
    "    else:\r\n",
    "        return binary_search(mid+1, end, value)\r\n",
    "\r\n",
    "\r\n",
    "binary_search(0, 5, 1)\r\n"
   ],
   "outputs": [
    {
     "output_type": "stream",
     "name": "stdout",
     "text": [
      "2\n",
      "1\n",
      "0\n"
     ]
    },
    {
     "output_type": "execute_result",
     "data": {
      "text/plain": [
       "False"
      ]
     },
     "metadata": {},
     "execution_count": 13
    }
   ],
   "metadata": {}
  },
  {
   "cell_type": "code",
   "execution_count": 14,
   "source": [
    "import random\r\n",
    "\r\n",
    "A = [ 2, 42, 55, 78, 100 ]\r\n",
    "\r\n",
    "def s(a, b, c):\r\n",
    "    while a < b:\r\n",
    "        d = (b - a) // 2 + a\r\n",
    "        if A[d] == c:\r\n",
    "            return True\r\n",
    "        elif A[d] > c:\r\n",
    "            b = d\r\n",
    "        else:\r\n",
    "            a = d + 1\r\n",
    "            \r\n",
    "    return False\r\n",
    "\r\n",
    "e = 78\r\n",
    "print(e)\r\n",
    "s(0, 5, e)"
   ],
   "outputs": [
    {
     "output_type": "stream",
     "name": "stdout",
     "text": [
      "78\n"
     ]
    },
    {
     "output_type": "execute_result",
     "data": {
      "text/plain": [
       "True"
      ]
     },
     "metadata": {},
     "execution_count": 14
    }
   ],
   "metadata": {}
  },
  {
   "cell_type": "markdown",
   "source": [
    "Some suggestions on what you might do to decipher the programs:\n",
    "* While reading code, it may be helpful to insert comments.\n",
    "* Run the program and see what output it produces.\n",
    "* Insert `print` statements to obtain partial traces of what is happening at which point during execution.\n",
    "* Make small modifications to the code, such as replacing operators (e.g., changing a `-` to a `+` or `<` to `>`) and see how this affects the behaviour. This approach is known as _mutation testing_."
   ],
   "metadata": {}
  },
  {
   "cell_type": "markdown",
   "source": [
    "## Task 2: Transcribe your Integer Sorting Algorithm into Python\n",
    "Now that you have worked with pre-provided code, it's time to start writing some code of your own. Take the sorting algorithm that you worked on this morning, then as plain text. You will now work on turning this into executable Python code.\n",
    "\n",
    "**Getting started:** To break down this large task into smaller problems, start by copying the English text into a code cell, and turn in into a documentation string. You can achieve this by surrounding it with triple quotes (`\"\"\"`):"
   ],
   "metadata": {}
  },
  {
   "cell_type": "code",
   "execution_count": 15,
   "source": [
    "\"\"\"\r\n",
    "Bucket sort\r\n",
    "Have bins of the values that the integers could be.\r\n",
    "Go through the list of values and check what bin it correlates to.\r\n",
    "Append that value to its correlated bin.\r\n",
    "In ascending order, concatenate the bins together.\r\n",
    "\r\n",
    "\"\"\"\r\n",
    "\r\n",
    "print(\"Actual code goes here\")"
   ],
   "outputs": [
    {
     "output_type": "stream",
     "name": "stdout",
     "text": [
      "Actual code goes here\n"
     ]
    }
   ],
   "metadata": {}
  },
  {
   "cell_type": "markdown",
   "source": [
    "**Next step:** Define the input and (desired) output of your algorithm. While your algorithm may be suitable for sorting millions of integers, start with a small list of values:"
   ],
   "metadata": {}
  },
  {
   "cell_type": "code",
   "execution_count": 1,
   "source": [
    "import numpy as np"
   ],
   "outputs": [],
   "metadata": {}
  },
  {
   "cell_type": "code",
   "execution_count": 53,
   "source": [
    "lst = np.random.randint(39,45,size = 50)\r\n",
    "\r\n",
    "def bucket_sort(lst):\r\n",
    "    three_nine = []\r\n",
    "    four_0 = []\r\n",
    "    four_1 = []\r\n",
    "    four_2 = []\r\n",
    "    four_3 = []\r\n",
    "    four_4 = []\r\n",
    "\r\n",
    "    for x in lst:\r\n",
    "        if x == 39:\r\n",
    "            three_nine.append(x)\r\n",
    "        elif x == 40:\r\n",
    "            four_0.append(x)\r\n",
    "        elif x == 41:\r\n",
    "            four_1.append(x)\r\n",
    "        elif x == 42:\r\n",
    "            four_2.append(x)\r\n",
    "        elif x == 43:\r\n",
    "            four_3.append(x)\r\n",
    "        else:\r\n",
    "            four_4.append(x)\r\n",
    "    concat = np.concatenate((three_nine, four_0, four_1, four_2, four_3, four_4))\r\n",
    "    return concat\r\n",
    "print(bucket_sort(lst))\r\n",
    "\r\n",
    "# store the result in `sorted_integers`\r\n",
    "# sorted_integers = ... \r\n",
    "# print(sorted_integers)"
   ],
   "outputs": [
    {
     "output_type": "stream",
     "name": "stdout",
     "text": [
      "[39 39 39 39 39 39 39 39 39 39 40 40 40 40 40 40 40 40 40 41 41 41 41 41\n",
      " 41 41 41 41 41 42 42 42 42 42 42 42 43 43 43 43 43 43 43 43 43 44 44 44\n",
      " 44 44]\n"
     ]
    }
   ],
   "metadata": {
    "scrolled": true
   }
  },
  {
   "cell_type": "code",
   "execution_count": 15,
   "source": [
    "lst = np.random.randint(35,45,size = 50)\r\n",
    "\r\n",
    "def bucket_sort(lst):\r\n",
    "  ranges = []\r\n",
    "  lst2 = []\r\n",
    "  for x in lst:\r\n",
    "    if x not in ranges:\r\n",
    "      ranges.append(x)\r\n",
    "      lst2.append([x])\r\n",
    "      #print(lst2)\r\n",
    "    elif x in ranges:\r\n",
    "      for i in range(len(lst2)):\r\n",
    "        if x in lst2[i]:\r\n",
    "          lst2[i].append(x)         \r\n",
    "  return np.concatenate(lst2)\r\n",
    "\r\n",
    "lst = bucket_sort(lst)\r\n",
    "print(lst)\r\n"
   ],
   "outputs": [
    {
     "output_type": "stream",
     "name": "stdout",
     "text": [
      "[35 35 35 35 42 42 42 42 42 42 42 36 36 36 36 44 44 44 44 44 39 39 39 41\n",
      " 41 41 41 41 38 38 38 38 40 40 40 40 40 40 40 40 40 43 43 43 43 43 43 37\n",
      " 37 37]\n"
     ]
    }
   ],
   "metadata": {
    "scrolled": true
   }
  },
  {
   "cell_type": "code",
   "execution_count": 4,
   "source": [
    "lst = np.random.randint(35,45,size = 50)\r\n",
    "\r\n",
    "def swap(arr, index_1, index_2):\r\n",
    "    temp = arr[index_1]\r\n",
    "    arr[index_1] = arr[index_2]\r\n",
    "    arr[index_2] = temp\r\n",
    "\r\n",
    "def bucket_sort(lst):\r\n",
    "    ranges = []\r\n",
    "    lst2 = []\r\n",
    "    for x in lst:\r\n",
    "        if x not in ranges:\r\n",
    "            ranges.append(x)\r\n",
    "            lst2.append([x])\r\n",
    "            print(lst2)\r\n",
    "            for x in lst2:\r\n",
    "                for i in range(len(lst2)-1):\r\n",
    "                    if lst2[i][0] > lst2[i+1][0]:\r\n",
    "                        swap(lst2, i, i+1)\r\n",
    "        elif x in ranges:\r\n",
    "            for i in range(len(lst2)):\r\n",
    "                if x in lst2[i]:\r\n",
    "                    lst2[i].append(x)         \r\n",
    "    return np.concatenate(lst2)\r\n",
    "\r\n",
    "print(bucket_sort(lst))"
   ],
   "outputs": [
    {
     "output_type": "stream",
     "name": "stdout",
     "text": [
      "[[36]]\n",
      "[[36], [42]]\n",
      "[[36], [42], [35]]\n",
      "[[35], [36], [42], [41]]\n",
      "[[35], [36], [41], [42], [40]]\n",
      "[[35], [36], [40], [41], [42, 42], [37]]\n",
      "[[35], [36], [37], [40], [41], [42, 42], [39]]\n",
      "[[35], [36, 36], [37, 37], [39, 39, 39], [40, 40, 40], [41], [42, 42, 42], [38]]\n",
      "[[35, 35, 35], [36, 36, 36], [37, 37, 37, 37], [38, 38], [39, 39, 39], [40, 40, 40, 40, 40], [41, 41, 41], [42, 42, 42, 42, 42], [43]]\n",
      "[35 35 35 36 36 36 37 37 37 37 37 37 37 37 38 38 38 38 38 38 38 39 39 39\n",
      " 39 39 39 40 40 40 40 40 40 40 40 41 41 41 41 41 42 42 42 42 42 42 42 42\n",
      " 42 43]\n"
     ]
    }
   ],
   "metadata": {}
  },
  {
   "cell_type": "code",
   "execution_count": 3,
   "source": [
    "lst = np.random.randint(35,45,size = 50)\r\n",
    "\r\n",
    "def bucket_sort(lst):\r\n",
    "    ranges = []\r\n",
    "    lst2 = []\r\n",
    "    for x in lst:\r\n",
    "        if x not in ranges:\r\n",
    "            ranges.append(x)\r\n",
    "            lst2.append([x])\r\n",
    "            print(lst2)\r\n",
    "            for i in range(len(lst2)):\r\n",
    "                for idx in range(len(lst2)-i-1):\r\n",
    "                    if lst2[idx][0] > lst2[idx+1][0]:\r\n",
    "                        lst2[idx], lst2[idx+1] = lst2[idx+1], lst2[idx]\r\n",
    "        elif x in ranges:\r\n",
    "            for i in range(len(lst2)):\r\n",
    "                if x in lst2[i]:\r\n",
    "                    lst2[i].append(x)         \r\n",
    "    return np.concatenate(lst2)\r\n",
    "\r\n",
    "print(bucket_sort(lst))"
   ],
   "outputs": [
    {
     "output_type": "stream",
     "name": "stdout",
     "text": [
      "[[44]]\n",
      "[[44], [40]]\n",
      "[[40, 40], [44], [39]]\n",
      "[[39], [40, 40], [44, 44, 44], [43]]\n",
      "[[39, 39], [40, 40], [43], [44, 44, 44], [35]]\n",
      "[[35], [39, 39], [40, 40], [43], [44, 44, 44], [37]]\n",
      "[[35], [37], [39, 39], [40, 40], [43], [44, 44, 44], [36]]\n",
      "[[35], [36], [37, 37, 37, 37], [39, 39], [40, 40], [43], [44, 44, 44], [38]]\n",
      "[[35], [36, 36], [37, 37, 37, 37], [38, 38], [39, 39], [40, 40], [43], [44, 44, 44, 44], [42]]\n",
      "[[35, 35], [36, 36, 36], [37, 37, 37, 37], [38, 38, 38], [39, 39, 39, 39], [40, 40, 40], [42, 42], [43], [44, 44, 44, 44, 44], [41]]\n",
      "[35 35 35 36 36 36 36 36 37 37 37 37 37 37 38 38 38 38 38 38 39 39 39 39\n",
      " 39 39 40 40 40 40 40 40 41 41 42 42 42 42 42 43 43 43 43 44 44 44 44 44\n",
      " 44 44]\n"
     ]
    }
   ],
   "metadata": {}
  },
  {
   "cell_type": "code",
   "execution_count": null,
   "source": [
    "lst = bucket_sort(lst)\r\n",
    "print(lst)\r\n",
    "\r\n",
    "def swap(arr, index_1, index_2):\r\n",
    "    temp = arr[index_1]\r\n",
    "    arr[index_1] = arr[index_2]\r\n",
    "    arr[index_2] = temp\r\n",
    "\r\n",
    "def bubble_sort(arr):\r\n",
    "    for x in arr:\r\n",
    "        for i in range(len(arr)-1):\r\n",
    "            if arr[i] > arr[i+1]:\r\n",
    "                swap(arr, i, i+1)\r\n",
    "                \r\n",
    "bubble_sort(lst)\r\n",
    "print(lst)"
   ],
   "outputs": [],
   "metadata": {}
  },
  {
   "cell_type": "code",
   "execution_count": 9,
   "source": [
    "nums = [5, 2, 9, 1, 5, 6]\r\n",
    "\r\n",
    "def swap(arr, index_1, index_2):\r\n",
    "  temp = arr[index_1]\r\n",
    "  arr[index_1] = arr[index_2]\r\n",
    "  arr[index_2] = temp\r\n",
    "  \r\n",
    "# define bubble_sort():\r\n",
    "def bubble_sort(arr):\r\n",
    "  for x in arr:\r\n",
    "    for i in range(len(arr)-1):\r\n",
    "      if arr[i] > arr[i+1]:\r\n",
    "        swap(arr, i, i+1)\r\n",
    "\r\n",
    "\r\n",
    "##### test statements\r\n",
    "\r\n",
    "print(\"Pre-Sort: {0}\".format(nums))      \r\n",
    "bubble_sort(nums)\r\n",
    "print(\"Post-Sort: {0}\".format(nums))"
   ],
   "outputs": [
    {
     "output_type": "stream",
     "name": "stdout",
     "text": [
      "Pre-Sort: [5, 2, 9, 1, 5, 6]\n",
      "Post-Sort: [1, 2, 5, 5, 6, 9]\n"
     ]
    }
   ],
   "metadata": {}
  },
  {
   "cell_type": "markdown",
   "source": [
    "**Key building blocks:** Now it's time to translate the individual steps of your algorithm into Python statements. In this case, one important expression will be the access to elements of a list. Each element in a list has an index, i.e., the position in the list. The foremost element (in Python) has index 0:"
   ],
   "metadata": {}
  },
  {
   "cell_type": "code",
   "execution_count": 18,
   "source": [
    "input_values = [-1, -5, 42, 3, 0]\n",
    "print(input_values[0])"
   ],
   "outputs": [
    {
     "output_type": "stream",
     "name": "stdout",
     "text": [
      "-1\n"
     ]
    }
   ],
   "metadata": {}
  },
  {
   "cell_type": "markdown",
   "source": [
    "With these guiding hints, try to translate the remainder of your algorithm."
   ],
   "metadata": {}
  },
  {
   "cell_type": "code",
   "execution_count": null,
   "source": [],
   "outputs": [],
   "metadata": {}
  }
 ],
 "metadata": {
  "kernelspec": {
   "name": "python3",
   "display_name": "Python 3.8.5 64-bit ('base': conda)"
  },
  "language_info": {
   "codemirror_mode": {
    "name": "ipython",
    "version": 3
   },
   "file_extension": ".py",
   "mimetype": "text/x-python",
   "name": "python",
   "nbconvert_exporter": "python",
   "pygments_lexer": "ipython3",
   "version": "3.8.5"
  },
  "interpreter": {
   "hash": "68e5eec871f4a0b113878d9d8f753a0df0ad6db7c0ea5b0051ec16ab875e30ce"
  }
 },
 "nbformat": 4,
 "nbformat_minor": 4
}