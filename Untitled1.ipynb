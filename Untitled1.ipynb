{
 "cells": [
  {
   "cell_type": "code",
   "execution_count": 45,
   "id": "75bc7a2b",
   "metadata": {},
   "outputs": [],
   "source": [
    "import pandas as pd\n",
    "from matplotlib import pyplot as plt\n",
    "import seaborn as sns"
   ]
  },
  {
   "cell_type": "code",
   "execution_count": 46,
   "id": "ce5fbe6e",
   "metadata": {},
   "outputs": [
    {
     "data": {
      "text/plain": [
       "STATE                     object\n",
       "NIIN_ITEM_NAME            object\n",
       "NATIONAL_STOCK_NUMBER     object\n",
       "QUANTITY                   int32\n",
       " TOTAL_COST              float64\n",
       " TOTAL_COST .1            object\n",
       "SHIP_DATE                 object\n",
       "dtype: object"
      ]
     },
     "execution_count": 46,
     "metadata": {},
     "output_type": "execute_result"
    }
   ],
   "source": [
    "df = pd.read_csv('DRMS-14-MFOI-00004_2.csv')\n",
    "df = df.dropna()\n",
    "df[' TOTAL_COST '] = df[' TOTAL_COST '].astype('float')\n",
    "df['QUANTITY'] = df['QUANTITY'].astype('int')\n",
    "df.dtypes"
   ]
  },
  {
   "cell_type": "code",
   "execution_count": 47,
   "id": "73f03694",
   "metadata": {},
   "outputs": [],
   "source": [
    "df = df[df.STATE.isin(['AL', 'CA', 'GA', 'MI', 'TX'])]"
   ]
  },
  {
   "cell_type": "code",
   "execution_count": 48,
   "id": "4b387a58",
   "metadata": {
    "scrolled": false
   },
   "outputs": [
    {
     "data": {
      "text/html": [
       "<div>\n",
       "<style scoped>\n",
       "    .dataframe tbody tr th:only-of-type {\n",
       "        vertical-align: middle;\n",
       "    }\n",
       "\n",
       "    .dataframe tbody tr th {\n",
       "        vertical-align: top;\n",
       "    }\n",
       "\n",
       "    .dataframe thead th {\n",
       "        text-align: right;\n",
       "    }\n",
       "</style>\n",
       "<table border=\"1\" class=\"dataframe\">\n",
       "  <thead>\n",
       "    <tr style=\"text-align: right;\">\n",
       "      <th></th>\n",
       "      <th>STATE</th>\n",
       "      <th>NIIN_ITEM_NAME</th>\n",
       "      <th>NATIONAL_STOCK_NUMBER</th>\n",
       "      <th>QUANTITY</th>\n",
       "      <th>TOTAL_COST</th>\n",
       "      <th>TOTAL_COST .1</th>\n",
       "      <th>SHIP_DATE</th>\n",
       "    </tr>\n",
       "  </thead>\n",
       "  <tbody>\n",
       "    <tr>\n",
       "      <th>1</th>\n",
       "      <td>MI</td>\n",
       "      <td>ZOOM CAMERA FOR MOBILE EYE SY</td>\n",
       "      <td>6710DSCAMERA1</td>\n",
       "      <td>2</td>\n",
       "      <td>200.00</td>\n",
       "      <td>$400.00</td>\n",
       "      <td>17/04/2012</td>\n",
       "    </tr>\n",
       "    <tr>\n",
       "      <th>9</th>\n",
       "      <td>CA</td>\n",
       "      <td>ZIP DRIVE</td>\n",
       "      <td>702500ZIPDRIV</td>\n",
       "      <td>3</td>\n",
       "      <td>195.00</td>\n",
       "      <td>$585.00</td>\n",
       "      <td>07/10/2011</td>\n",
       "    </tr>\n",
       "    <tr>\n",
       "      <th>10</th>\n",
       "      <td>CA</td>\n",
       "      <td>ZIP DRIVE</td>\n",
       "      <td>702500ZIPDRIV</td>\n",
       "      <td>1</td>\n",
       "      <td>500.00</td>\n",
       "      <td>$500.00</td>\n",
       "      <td>07/10/2011</td>\n",
       "    </tr>\n",
       "    <tr>\n",
       "      <th>11</th>\n",
       "      <td>GA</td>\n",
       "      <td>ZENITH 60 INCH</td>\n",
       "      <td>773000TV1</td>\n",
       "      <td>1</td>\n",
       "      <td>400.00</td>\n",
       "      <td>$400.00</td>\n",
       "      <td>12/01/2012</td>\n",
       "    </tr>\n",
       "    <tr>\n",
       "      <th>16</th>\n",
       "      <td>GA</td>\n",
       "      <td>YOKE,TOWING AND LIF</td>\n",
       "      <td>8110008566243</td>\n",
       "      <td>2</td>\n",
       "      <td>492.22</td>\n",
       "      <td>$984.44</td>\n",
       "      <td>06/12/2011</td>\n",
       "    </tr>\n",
       "    <tr>\n",
       "      <th>...</th>\n",
       "      <td>...</td>\n",
       "      <td>...</td>\n",
       "      <td>...</td>\n",
       "      <td>...</td>\n",
       "      <td>...</td>\n",
       "      <td>...</td>\n",
       "      <td>...</td>\n",
       "    </tr>\n",
       "    <tr>\n",
       "      <th>55602</th>\n",
       "      <td>AL</td>\n",
       "      <td>10 5 BLK JUNGLE BOOT</td>\n",
       "      <td>843001B00T</td>\n",
       "      <td>1</td>\n",
       "      <td>85.00</td>\n",
       "      <td>$85.00</td>\n",
       "      <td>25/05/2012</td>\n",
       "    </tr>\n",
       "    <tr>\n",
       "      <th>55604</th>\n",
       "      <td>MI</td>\n",
       "      <td>1 TON CRANE</td>\n",
       "      <td>392000CRANE</td>\n",
       "      <td>1</td>\n",
       "      <td>1000.00</td>\n",
       "      <td>$1,000.00</td>\n",
       "      <td>09/11/2011</td>\n",
       "    </tr>\n",
       "    <tr>\n",
       "      <th>55605</th>\n",
       "      <td>AL</td>\n",
       "      <td>1 4 DRIVE SOCKET SET</td>\n",
       "      <td>512000WRENSET</td>\n",
       "      <td>1</td>\n",
       "      <td>151.24</td>\n",
       "      <td>$151.24</td>\n",
       "      <td>20/04/2012</td>\n",
       "    </tr>\n",
       "    <tr>\n",
       "      <th>55606</th>\n",
       "      <td>CA</td>\n",
       "      <td>1 2 BACK BOARD</td>\n",
       "      <td>6530DSSTRETCH</td>\n",
       "      <td>5</td>\n",
       "      <td>20.00</td>\n",
       "      <td>$100.00</td>\n",
       "      <td>31/05/2012</td>\n",
       "    </tr>\n",
       "    <tr>\n",
       "      <th>55611</th>\n",
       "      <td>AL</td>\n",
       "      <td>1 1 4 DRYWALL NAILS</td>\n",
       "      <td>5315DSNAIL000</td>\n",
       "      <td>2</td>\n",
       "      <td>30.00</td>\n",
       "      <td>$60.00</td>\n",
       "      <td>13/12/2011</td>\n",
       "    </tr>\n",
       "  </tbody>\n",
       "</table>\n",
       "<p>26305 rows × 7 columns</p>\n",
       "</div>"
      ],
      "text/plain": [
       "      STATE                 NIIN_ITEM_NAME NATIONAL_STOCK_NUMBER  QUANTITY  \\\n",
       "1        MI  ZOOM CAMERA FOR MOBILE EYE SY         6710DSCAMERA1         2   \n",
       "9        CA                      ZIP DRIVE         702500ZIPDRIV         3   \n",
       "10       CA                      ZIP DRIVE         702500ZIPDRIV         1   \n",
       "11       GA                 ZENITH 60 INCH             773000TV1         1   \n",
       "16       GA            YOKE,TOWING AND LIF         8110008566243         2   \n",
       "...     ...                            ...                   ...       ...   \n",
       "55602    AL           10 5 BLK JUNGLE BOOT            843001B00T         1   \n",
       "55604    MI                    1 TON CRANE           392000CRANE         1   \n",
       "55605    AL           1 4 DRIVE SOCKET SET         512000WRENSET         1   \n",
       "55606    CA                 1 2 BACK BOARD         6530DSSTRETCH         5   \n",
       "55611    AL            1 1 4 DRYWALL NAILS         5315DSNAIL000         2   \n",
       "\n",
       "        TOTAL_COST   TOTAL_COST .1   SHIP_DATE  \n",
       "1            200.00       $400.00   17/04/2012  \n",
       "9            195.00       $585.00   07/10/2011  \n",
       "10           500.00       $500.00   07/10/2011  \n",
       "11           400.00       $400.00   12/01/2012  \n",
       "16           492.22       $984.44   06/12/2011  \n",
       "...             ...            ...         ...  \n",
       "55602         85.00        $85.00   25/05/2012  \n",
       "55604       1000.00     $1,000.00   09/11/2011  \n",
       "55605        151.24       $151.24   20/04/2012  \n",
       "55606         20.00       $100.00   31/05/2012  \n",
       "55611         30.00        $60.00   13/12/2011  \n",
       "\n",
       "[26305 rows x 7 columns]"
      ]
     },
     "execution_count": 48,
     "metadata": {},
     "output_type": "execute_result"
    }
   ],
   "source": [
    "df"
   ]
  },
  {
   "cell_type": "code",
   "execution_count": null,
   "id": "db743a84",
   "metadata": {},
   "outputs": [],
   "source": []
  },
  {
   "cell_type": "code",
   "execution_count": 49,
   "id": "95bf64f4",
   "metadata": {},
   "outputs": [
    {
     "data": {
      "text/plain": [
       "Index(['STATE', 'NIIN_ITEM_NAME', 'NATIONAL_STOCK_NUMBER', 'QUANTITY',\n",
       "       ' TOTAL_COST ', ' TOTAL_COST .1', 'SHIP_DATE'],\n",
       "      dtype='object')"
      ]
     },
     "execution_count": 49,
     "metadata": {},
     "output_type": "execute_result"
    }
   ],
   "source": [
    "df.columns"
   ]
  },
  {
   "cell_type": "code",
   "execution_count": 58,
   "id": "67ca963c",
   "metadata": {},
   "outputs": [
    {
     "data": {
      "text/plain": [
       "<AxesSubplot:xlabel='STATE', ylabel=' TOTAL_COST '>"
      ]
     },
     "execution_count": 58,
     "metadata": {},
     "output_type": "execute_result"
    },
    {
     "data": {
      "image/png": "[encoded data removed]",
      "text/plain": [
       "<Figure size 432x288 with 1 Axes>"
      ]
     },
     "metadata": {
      "needs_background": "light"
     },
     "output_type": "display_data"
    }
   ],
   "source": [
    "plt.ylim(0,2000)\n",
    "sns.boxplot(data=df, x='STATE', y=' TOTAL_COST ')"
   ]
  }
 ],
 "metadata": {
  "kernelspec": {
   "display_name": "Python 3 (ipykernel)",
   "language": "python",
   "name": "python3"
  },
  "language_info": {
   "codemirror_mode": {
    "name": "ipython",
    "version": 3
   },
   "file_extension": ".py",
   "mimetype": "text/x-python",
   "name": "python",
   "nbconvert_exporter": "python",
   "pygments_lexer": "ipython3",
   "version": "3.9.7"
  }
 },
 "nbformat": 4,
 "nbformat_minor": 5
}
